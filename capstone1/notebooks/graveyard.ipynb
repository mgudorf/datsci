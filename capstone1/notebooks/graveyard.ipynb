{
 "cells": [
  {
   "cell_type": "code",
   "execution_count": null,
   "metadata": {},
   "outputs": [],
   "source": [
    "# # Previously used custom function to under/oversample recovery data to deal with imbalance. \n",
    "\n",
    "# def produce_undersampled_and_oversampled_recovery_data(X, y):\n",
    "#     recovery_codes_df = y.copy()\n",
    "#     recovery_codes_df.columns=['recovery_codes']\n",
    "#     recovery_codes_df[recovery_codes_df.recovery_codes!=0]=1\n",
    "#     Xsamp = pd.concat((X, y, recovery_codes_df),axis=1)\n",
    "\n",
    "#     df_0 = Xsamp[Xsamp.recovery_codes == 0]\n",
    "#     df_1 = Xsamp[Xsamp.recovery_codes == 1]\n",
    "\n",
    "#     count_0, count_1 = len(df_0), len(df_1)\n",
    "\n",
    "#     undersampled_recoveries = pd.concat((df_0.sample(count_1), df_1),axis=0)\n",
    "#     oversampled_recoveries = pd.concat((df_1.sample(count_0, replace=True), df_0),axis=0)\n",
    "\n",
    "#     y_undersampled = undersampled_recoveries.recoveries.to_frame(name='recoveries')\n",
    "#     X_undersampled = undersampled_recoveries.drop(columns=['recoveries','recovery_codes'])\n",
    "\n",
    "#     y_oversampled = oversampled_recoveries.recoveries.to_frame(name='recoveries')\n",
    "#     X_oversampled = oversampled_recoveries.drop(columns=['recoveries','recovery_codes'])\n",
    "#     return X_undersampled, y_undersampled, X_oversampled, y_oversampled"
   ]
  }
 ],
 "metadata": {
  "kernelspec": {
   "display_name": "Python 3",
   "language": "python",
   "name": "python3"
  },
  "language_info": {
   "codemirror_mode": {
    "name": "ipython",
    "version": 3
   },
   "file_extension": ".py",
   "mimetype": "text/x-python",
   "name": "python",
   "nbconvert_exporter": "python",
   "pygments_lexer": "ipython3",
   "version": "3.7.5"
  }
 },
 "nbformat": 4,
 "nbformat_minor": 2
}
