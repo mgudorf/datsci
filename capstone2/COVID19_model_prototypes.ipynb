{
 "cells": [
  {
   "cell_type": "code",
   "execution_count": 1,
   "metadata": {},
   "outputs": [],
   "source": [
    "import numpy as np\n",
    "import pandas as pd\n",
    "import seaborn as sns\n",
    "import matplotlib.pyplot as plt\n",
    "import os\n",
    "import sys\n",
    "import re\n",
    "import warnings\n",
    "import itertools\n",
    "warnings.simplefilter(action='ignore', category=FutureWarning)\n",
    "from tensorflow.keras.regularizers import l2\n",
    "from tensorflow.keras import Input, Model\n",
    "from tensorflow.keras.models import Sequential\n",
    "from tensorflow.keras.layers import Dense, Flatten, Dropout, Conv1D, MaxPooling1D, Reshape, BatchNormalization\n",
    "from tensorflow.keras.layers import AveragePooling1D, SeparableConv2D, Activation, concatenate, Conv2D\n",
    "from tensorflow.keras.utils import to_categorical\n",
    "from tensorflow.keras.losses import KLDivergence\n",
    "from tensorflow.keras.preprocessing.sequence import pad_sequences\n",
    "from tensorflow.keras.optimizers import SGD, Adam\n",
    "from sklearn.metrics import mean_absolute_error, explained_variance_score, mean_squared_error, make_scorer\n",
    "from sklearn.preprocessing import StandardScaler, MinMaxScaler, QuantileTransformer\n",
    "from sklearn.linear_model import RidgeCV\n",
    "warnings.resetwarnings()"
   ]
  },
  {
   "cell_type": "markdown",
   "metadata": {},
   "source": [
    "# Model prototyping\n",
    "\n",
    "The goal of this notebook is to get a feel for the performance of the two different types of models to be trained.\n",
    "Specifically, comparison will be made between a naive baseline model, a ridge regression model, and a convolutional neural network model. Because this notebook is simply prototyping, a very small subset of the available data will be used; a single \n",
    "feature's time series for a single country, the United States. This single feature is all that will be available to the CNN and Ridge regression models; because eventually the feature data used in the regression is much larger than that used in the CNN training, this might be an unfair comparison.\n",
    "\n",
    "The main issue for using a very small subset of data is that I believe it will affect the CNN more than the regression, because\n",
    "the small number of samples influences how well the specific architecture will perform. Regardless I will press on and continue this testing. \n",
    "\n",
    "Both will use mean squared error as their loss function, unfortunately this means that I have to use RidgeCV, which means I need to provide my own folds in order to respect time ordering.\n",
    "\n",
    "Much like how in regression we want to include multiple days of information for prediction,  it may also be benefitial to convolve multiple frames together for the CNN?"
   ]
  },
  {
   "cell_type": "code",
   "execution_count": 2,
   "metadata": {},
   "outputs": [],
   "source": [
    "\n",
    "def country_slice(data, locations):\n",
    "    if type(locations)==str:\n",
    "        return data[data.location==locations]\n",
    "    else:\n",
    "        return data[data.location.isin(locations)]\n",
    "    \n",
    "def time_slice(data, start, end, indexer='time_index'):\n",
    "    if start < 0 and end < 0:\n",
    "        if start == -1:\n",
    "            start = data.loc[:, indexer].max()\n",
    "        else:\n",
    "            start = data.loc[:, indexer].max()+start\n",
    "        if end == -1:\n",
    "            end = data.loc[:, indexer].max()\n",
    "        else:\n",
    "            end = data.loc[:, indexer].max()+end\n",
    "    return data[(data.loc[:, indexer] >= start) & (data.loc[:, indexer] <= end)]\n",
    "\n",
    "def per_country_plot(data, feature, legend=True):\n",
    "    data.set_index(['time_index', 'location']).loc[:, feature].unstack().plot(legend=legend)\n",
    "    return None\n",
    "\n",
    "def per_time_plot(data, feature, legend=True):\n",
    "    data.set_index(['location','time_index']).loc[:, feature].unstack().plot(legend=legend)\n",
    "    return None\n",
    "\n",
    "def country_groupby(df):\n",
    "    return [df[df.location==country].index for country in df.location.unique()]\n",
    "\n",
    "def country_search(df, country):\n",
    "    return df[df.location==country].index\n",
    "\n",
    "def column_search(df, name, return_style='loc', threshold='contains'):\n",
    "    if threshold=='contains':\n",
    "        func = df.columns.str.contains\n",
    "    else:\n",
    "        func = df.columns.str.match\n",
    "        \n",
    "    if return_style == 'loc':\n",
    "        return df.columns[func(name)]\n",
    "    elif return_style== 'iloc':\n",
    "        return np.where(func(name))[0]\n",
    "    else:\n",
    "        return None\n",
    "\n",
    "\n",
    "def concatenate_4d_into_3d(splits, train_test_only=False):\n",
    "    \n",
    "    if train_test_only:\n",
    "        (X_train, y_train, X_test, y_test) = splits\n",
    "        X_train = np.concatenate(X_train, axis=0)\n",
    "        y_train = np.concatenate(y_train, axis=0)\n",
    "        X_test = np.concatenate(X_test, axis=0)\n",
    "        y_test = np.concatenate(y_test, axis=0)\n",
    "        concat_splits = (X_train, y_train, X_test, y_test) \n",
    "    else:\n",
    "        (X_train, y_train, X_validate, y_validate, X_test, y_test) = splits\n",
    "        X_train = np.concatenate(X_train, axis=0)\n",
    "        y_train = np.concatenate(y_train, axis=0)\n",
    "        X_validate = np.concatenate(X_validate, axis=0)\n",
    "        y_validate = np.concatenate(y_validate, axis=0)\n",
    "        X_test = np.concatenate(X_test, axis=0)\n",
    "        y_test = np.concatenate(y_test, axis=0)\n",
    "        concat_splits = (X_train, y_train, X_validate, y_validate, X_test, y_test) \n",
    "    return concat_splits\n",
    "\n",
    "def transpose_for_separable2d(splits, train_test_only=False):\n",
    "    if train_test_only:\n",
    "        (X_train, y_train, X_test, y_test) = splits\n",
    "        X_train = np.transpose(X_train, axes=[0,2,1,3])\n",
    "        X_test = np.transpose(X_test, axes=[0,2,1,3])\n",
    "        transpose_split = (X_train, y_train, X_test, y_test) \n",
    "    else:\n",
    "        (X_train, y_train, X_validate, y_validate, X_test, y_test) = splits\n",
    "        X_train = np.transpose(X_train, axes=[0,2,1,3])\n",
    "        X_validate = np.transpose(X_validate, axes=[0,2,1,3])\n",
    "        X_test = np.transpose(X_test, axes=[0,2,1,3])\n",
    "        transpose_split = (X_train, y_train, X_validate, y_validate, X_test, y_test) \n",
    "    return transpose_split\n",
    "\n",
    "    \n",
    "def true_predict_plot(y_true, y_naive, y_predict, title='', suptitle='', scale=None,s=None):\n",
    "    fig, (ax1,ax2) = plt.subplots(1, 2, figsize=(20,5))\n",
    "    if scale == 'log':\n",
    "        ymax = np.max([np.log(1+y_true).max(), np.log(1+y_predict).max()])\n",
    "        ax1.scatter(np.log(y_true+1), np.log(y_naive+1), s=s,alpha=0.7)\n",
    "        ax1.plot([0, ymax], [0, ymax],color='r')\n",
    "        ax2.scatter(np.log(y_true+1), np.log(y_predict+1), s=s,alpha=0.7)\n",
    "        ax2.plot([0, ymax], [0, ymax],color='r')\n",
    "    else:\n",
    "        ymax = np.max([y_true.max(), y_predict.max()])\n",
    "        ax1.scatter(y_true, y_naive, s=s)\n",
    "        ax1.plot([0, ymax], [0, ymax],color='r')\n",
    "        ax2.scatter(y_true, y_predict, s=s)\n",
    "        ax2.plot([0, ymax], [0, ymax],color='r')\n",
    "    ax1.set_xlabel('True value')\n",
    "    ax1.set_ylabel('Predicted value')\n",
    "    ax1.set_title('Naive model')\n",
    "\n",
    "    ax2.set_xlabel('True value')\n",
    "    ax2.set_ylabel('Predicted value')\n",
    "    ax2.set_title(title)\n",
    "    ax1.grid(True)\n",
    "    ax2.grid(True)\n",
    "    plt.suptitle(suptitle)\n",
    "    plt.show()\n",
    "    return None\n",
    "\n",
    "def residual_plot(y_test, y_predict, title='', ax=None):\n",
    "    if ax is None:\n",
    "        fig, ax = plt.subplots()\n",
    "    ax.scatter(y_test, y_test-y_predict.ravel(), s=5)\n",
    "    ax.set_ylabel('Residual')\n",
    "    ax.set_xlabel('True value')\n",
    "    ax.grid(True)\n",
    "    return None\n",
    "\n",
    "def residual_diff_plots(y_true, y_naive, y_predict,n_days_into_future, n_countries, scale=None):\n",
    "    print(y_true.shape, y_naive.shape, y_predict.shape)\n",
    "    fig, axes = plt.subplots(2, 2, figsize=(20,5), sharey=True)\n",
    "    (ax1,ax2,ax3,ax4) = axes.flatten()\n",
    "    xrange = range(len(y_true))\n",
    "    if scale=='log':\n",
    "        ax1.plot(xrange, np.log(y_true+1)\n",
    "             -np.log(y_naive+1))\n",
    "        ax2.plot(xrange, np.log(y_true+1)\n",
    "                 -np.log(y_predict+1))\n",
    "        residual_plot(np.log(y_true+1),np.log(y_naive+1), ax=ax3)\n",
    "        residual_plot(np.log(y_true+1),np.log(y_predict+1), ax=ax4)\n",
    "    else:\n",
    "        ax1.plot(xrange, y_true-y_naive)\n",
    "        ax2.plot(xrange, y_true-y_predict)\n",
    "        residual_plot(y_true,y_naive, ax=ax3)\n",
    "        residual_plot(y_true,y_predict, ax=ax4)\n",
    "    fig.suptitle('{}-day-into-future predictions'.format(n_days_into_future))\n",
    "    ax1.set_title('Country-wise differences')\n",
    "    ax2.set_title('Country-wise differences')\n",
    "    ax1.set_ylabel('True - Naive')\n",
    "    ax2.set_ylabel('True - CNN')\n",
    "    ax1.grid(True)\n",
    "    ax2.grid(True)\n",
    "    plt.show()\n",
    "    return None\n",
    "\n",
    "# Copied from last capstone project. \n",
    "def classifier_analysis(clf, X_test, y_test, plot=True, metric='evs'):\n",
    "    \n",
    "    '''\n",
    "        Predict using trained scikit-learn estimator and compute and plot various metrics:\n",
    "        Prints \n",
    "        \n",
    "        Parameters:\n",
    "        \n",
    "        X_test : ndarray or DataFrame (n_samples, n_features)\n",
    "                 Feature data to test. n_features represents the number of features\n",
    "                 present in the data used to train the estimator clf\n",
    "                 \n",
    "        y_test : ndarray (n_samples, )\n",
    "                 Target data to test. \n",
    "                \n",
    "        \n",
    "        clf : scikit-learn estimator which has been fit to data with same number of \n",
    "              columns as X_test\n",
    "        \n",
    "        \n",
    "        Returns:\n",
    "        \n",
    "        y_test : ndarray (n_samples, )\n",
    "            \n",
    "            Same as input for convenience\n",
    "        \n",
    "        y_predict : ndarray (n_samples, ) \n",
    "            \n",
    "            Predictions \n",
    "        \n",
    "    '''\n",
    "    \n",
    "    y_predict = clf.predict(X_test)\n",
    "    \n",
    "    # Print the mean squared error and explained variance\n",
    "    if metric == 'evs':\n",
    "        score = explained_variance_score(y_test, y_predict)\n",
    "    elif metric == 'mae':\n",
    "        score = mean_absolute_error(y_test, y_predict)\n",
    "    else:\n",
    "        score = mean_squared_error(y_test, y_predict)\n",
    "\n",
    "#     print('Mean squared error {}'.format(mse_))\n",
    "#     print('Explained variance score {}'.format(evs_))\n",
    "    \n",
    "    if plot:\n",
    "        # Plot true vs. predicted as scatter plot. \n",
    "        ym = np.max(y_test)\n",
    "        fig = plt.figure()\n",
    "        plt.scatter(y_test, y_predict, s=1)\n",
    "        plt.plot([0, ym],[0, ym],color='r')\n",
    "        plt.ylabel('Predicted Value')\n",
    "        plt.xlabel('True Value')\n",
    "        plt.grid()\n",
    "        plt.xlim([0, 1.1*ym])\n",
    "        plt.ylim([0, 1.1*ym])\n",
    "        _ = plt.show()\n",
    "    \n",
    "    return y_test, y_predict, score\n",
    "\n",
    "def create_Xy(model_data, target_data, time_index, start_date, frame_size, n_days_into_future, n_countries):\n",
    "    for max_date_in_window in range(start_date, time_index.max() - n_days_into_future + 2):\n",
    "        # Take all model_data with date proxy less than numerical value, leading_window_date_not_included\n",
    "        frame_data = model_data[(time_index <= max_date_in_window-1) & \n",
    "                                (time_index >= max_date_in_window-frame_size)]\n",
    "        #     print(frame_data.shape)\n",
    "        # Reshape the array such that each element along axis=0 is a time series of all feature model_data of a specific country.\n",
    "        reshaped_frame_data = frame_data.values.reshape(n_countries, frame_size, -1)\n",
    "#         print(reshaped_frame_data.shape)\n",
    "        #     print(reshaped_frame_data.shape)\n",
    "        # Truncate / pad the windows along the \"time\" axis, axis=1. (pad_sequences takes in an iterable of iterables;\n",
    "        # the first axis is always the default iteration axis. \n",
    "        # *********************** WARNING: pad_sequences converts to integers by default *********************\n",
    "        resized_frame_data = pad_sequences(reshaped_frame_data, maxlen=frame_size, dtype=np.float64)\n",
    "        frame_data_4D = resized_frame_data[np.newaxis, :, :, :]\n",
    "        if max_date_in_window == start_date:\n",
    "            print('Starting with frame ranging time_index values:', max_date_in_window-frame_size, max_date_in_window - 1)\n",
    "            X = frame_data_4D.copy()\n",
    "        else:\n",
    "            X = np.concatenate((X, frame_data_4D),axis=0)\n",
    "    print('Ending with frame ranging time_index values:', max_date_in_window-frame_size, max_date_in_window - 1)\n",
    "    y = target_data.values.reshape(-1, time_index.nunique()).transpose()[-X.shape[0]:,:]\n",
    "    return X, y\n",
    "\n",
    "def split_Xy(X, y, frame_size, n_validation_frames, n_test_frames, train_test_only=False, model_type='cnn'):\n",
    "    \"\"\" Split into training, validation and test data.\n",
    "    \"\"\"\n",
    "    \n",
    "    # the indices for the train-validate-test splits for when the predictors are put in a 2-d format.\n",
    "    train_indices = list(range(n_countries*0, n_countries*(len(X)-(n_validation_frames+n_test_frames))))\n",
    "    validate_indices = list(range(n_countries*(len(X)-(n_validation_frames+n_test_frames)), n_countries*(len(X)-n_test_frames)))\n",
    "    test_indices = list(range(n_countries*(len(X)-n_test_frames), n_countries*len(X)))\n",
    "    indices = (train_indices, validate_indices, test_indices)\n",
    "\n",
    "    # Note that the last frame (date_range) that exists in X has already been determined by the choice of the number\n",
    "    # of steps to predict in the future, this is only slicing the frames. \n",
    "    if train_test_only:\n",
    "        X_train= X[:-n_test_frames,:,:,:]\n",
    "        y_train =  y[:-n_test_frames,:]\n",
    "        X_test = X[-n_test_frames:, :, :, :] \n",
    "        y_test = y[-n_test_frames:, :]\n",
    "        splits =  (X_train, y_train, X_test, y_test)\n",
    "    else:\n",
    "        y_train =  y[:-(n_validation_frames+n_test_frames),:]\n",
    "        y_validate = y[-(n_validation_frames+n_test_frames):-n_test_frames, :]\n",
    "        X_train= X[:-(n_validation_frames+n_test_frames),:,:,:]\n",
    "        y_train =  y[:-(n_validation_frames+n_test_frames),:]\n",
    "        X_validate = X[-(n_validation_frames+n_test_frames):-n_test_frames, :, :, :]\n",
    "        y_validate = y[-(n_validation_frames+n_test_frames):-n_test_frames, :]\n",
    "        X_test = X[-n_test_frames:, :, :, :] \n",
    "        y_test = y[-n_test_frames:, :]\n",
    "        splits =  (X_train, y_train, X_validate, y_validate,\n",
    "                   X_test, y_test)\n",
    "\n",
    "    return splits, indices\n",
    "\n",
    "\n",
    "def normalize_Xy_splits(splits, feature_range=(0., 0.5), normalization_method='minmax',\n",
    "                        train_test_only=False, feature_indices=None):\n",
    "    \"\"\" Split into training, validation and test data.\n",
    "    \"\"\"\n",
    "    min_, max_ = (0, 0.5)\n",
    "    (X_train, y_train, X_validate, y_validate, X_test, y_test) = splits\n",
    "    for i in range(1, X_train.shape[0]+1):\n",
    "        # find the minima and maxima of all features for all countries, ranging up to current frame and \n",
    "        # each time step in the frame. \n",
    "        up_to_current_frame_min = X_train[:i,:,:,:].min((0,1,2))\n",
    "        up_to_current_frame_max = X_train[:i,:,:,:].max((0,1,2))\n",
    "        latest_min_array = np.tile(up_to_current_frame_min[np.newaxis, np.newaxis, np.newaxis, :],(1,n_countries,frame_size,1))\n",
    "        latest_max_array = np.tile(up_to_current_frame_max[np.newaxis, np.newaxis, np.newaxis, :],(1,n_countries,frame_size,1))\n",
    "        if i == 1:\n",
    "            frame_min_array = latest_min_array\n",
    "            frame_max_array = latest_max_array\n",
    "        else:\n",
    "            frame_min_array = np.concatenate((frame_min_array, \n",
    "                                                   latest_min_array)\n",
    "                                                  ,axis=0)\n",
    "            frame_max_array = np.concatenate((frame_max_array, \n",
    "                                                   latest_max_array)\n",
    "                                                  ,axis=0)\n",
    "\n",
    "    # frame_min_array = np.tile(frame_min_array, (1, n_countries, 1, 1))\n",
    "    # frame_max_array = np.tile(frame_max_array, (1, n_countries, 1, 1))\n",
    "\n",
    "    minmax_denominator = (frame_max_array-frame_min_array)\n",
    "    minmax_denominator[np.where(minmax_denominator==0)]=1\n",
    "    X_train_scaled = (max_-min_)*(X_train - frame_min_array) / minmax_denominator\n",
    "    # Use the latest min and max for test scaling.\n",
    "\n",
    "    latest_minmax_denominator = latest_max_array - latest_min_array\n",
    "    latest_minmax_denominator[np.where(latest_minmax_denominator==0)] = 1\n",
    "    X_validate_scaled = (max_- min_)*((X_validate - np.tile(latest_min_array,(n_validation_frames,1,1,1)))\n",
    "                                        / np.tile(latest_minmax_denominator,(n_validation_frames,1,1,1)))\n",
    "    X_test_scaled = (max_- min_)*((X_test - np.tile(latest_min_array,(n_test_frames,1,1,1))) \n",
    "                                        / np.tile(latest_minmax_denominator,(n_test_frames,1,1,1)))\n",
    "    scaled_splits = (X_train_scaled, y_train, X_validate_scaled, y_validate, X_test_scaled, y_test) \n",
    "\n",
    "    train_norm_arrays =  (frame_max_array, frame_min_array, minmax_denominator)\n",
    "    validate_and_test_norm_arrays = (latest_max_array,latest_min_array,latest_minmax_denominator)\n",
    "\n",
    "    return scaled_splits, train_norm_arrays, validate_and_test_norm_arrays\n",
    "\n",
    "def flatten_Xy_splits(splits):\n",
    "    (X_train, y_train, X_validate, y_validate, X_test, y_test) = splits\n",
    "    X_train_flat =np.concatenate(X_train.reshape(X_train.shape[0], X_train.shape[1], -1), axis=0)\n",
    "    X_validate_flat =np.concatenate(X_validate.reshape(X_validate.shape[0], X_validate.shape[1], -1), axis=0)\n",
    "    X_test_flat =np.concatenate(X_test.reshape(X_test.shape[0], X_test.shape[1], -1), axis=0)\n",
    "    y_train_flat = y_train.ravel()\n",
    "    y_validate_flat = y_validate.ravel()\n",
    "    y_test_flat = y_test.ravel()\n",
    "    flat_splits = (X_train_flat , y_train_flat , X_validate_flat , y_validate_flat , X_test_flat , y_test_flat )\n",
    "    return flat_splits\n",
    "\n",
    "def model_analysis(y_true, y_naive, y_predict,n_countries, title='',suptitle=''):\n",
    "    print('There were {} negative predictions'.format(len(y_predict[y_predict<0])))\n",
    "    #     y_predict[y_predict<0]=0\n",
    "    mse_train_naive = mean_squared_error(y_true.ravel(), y_naive.ravel())\n",
    "    mse_predict = mean_squared_error(y_true.ravel(), y_predict)\n",
    "    r2_train_naive = explained_variance_score(y_true.ravel(), y_naive.ravel())\n",
    "    r2_predict = explained_variance_score(y_true.ravel(), y_predict)\n",
    "\n",
    "    print('{}-step MSE [Naive, {}] = [{},{}]'.format(\n",
    "    n_days_into_future,title, mse_train_naive, mse_predict))\n",
    "    print('{}-step R^2 [Naive, {}] = [{},{}]'.format(\n",
    "    n_days_into_future,title, r2_train_naive, r2_predict))\n",
    "\n",
    "    true_predict_plot(y_true.ravel(), y_naive.ravel(), y_predict, title=title, suptitle=suptitle)\n",
    "    residual_diff_plots(y_true.ravel(), y_naive.ravel(), y_predict , n_days_into_future, n_countries)\n",
    "    return None"
   ]
  },
  {
   "cell_type": "markdown",
   "metadata": {},
   "source": [
    "should have been average/taking min max over countries as well as time. "
   ]
  },
  {
   "cell_type": "markdown",
   "metadata": {},
   "source": [
    "be sure to check the definition of y when multiple countries. I think this is the definition from when using chronological data."
   ]
  },
  {
   "cell_type": "markdown",
   "metadata": {},
   "source": [
    "Things that have been discussed with mike that might need to be changed. predicting log(y) as opposed to y. \n",
    "using MAE instead of MSE. \n",
    "using pooling or not. \n",
    "filter numbers. \n",
    "Using one country, one feature. "
   ]
  },
  {
   "cell_type": "code",
   "execution_count": 3,
   "metadata": {},
   "outputs": [],
   "source": [
    "# Import cleaned data produced by other notebook. \n",
    "global_data = pd.read_csv('cnn_data.csv',index_col=0)"
   ]
  },
  {
   "cell_type": "markdown",
   "metadata": {},
   "source": [
    "For the prototype, see what kind of result we get with just the data on the United States, and only use the new_cases_per_million feature."
   ]
  },
  {
   "cell_type": "code",
   "execution_count": 4,
   "metadata": {},
   "outputs": [],
   "source": [
    "data = global_data[global_data.location=='United States'].reset_index(drop=True)\n",
    "# data = global_data\n",
    "# not enough countries have new_recovered_weighted values.\n",
    "data = data.drop(columns=['date'])\n",
    "data = data.drop(columns=column_search(data, 'log'))\n",
    "# data.loc[:, 'time_index'] += 1"
   ]
  },
  {
   "cell_type": "code",
   "execution_count": null,
   "metadata": {
    "scrolled": true
   },
   "outputs": [],
   "source": [
    "per_country_plot(data[data.location.isin(data.groupby('location').max().new_cases_per_million.sort_values()[-10:].index)],'new_cases_per_million')"
   ]
  },
  {
   "cell_type": "code",
   "execution_count": null,
   "metadata": {},
   "outputs": [],
   "source": [
    "per_country_plot(data, 'new_cases_per_million',legend=False)"
   ]
  },
  {
   "cell_type": "markdown",
   "metadata": {},
   "source": [
    "# CNN model\n"
   ]
  },
  {
   "cell_type": "code",
   "execution_count": 55,
   "metadata": {},
   "outputs": [],
   "source": [
    "# data = data[data.time_index>=40]\n",
    "model_data = data.copy().iloc[:, 1:]\n",
    "model_data =  model_data.apply(lambda x :np.log(x+1))\n",
    "new_cases_index = column_search(model_data,'new_cases_per_million',threshold='match', return_style='iloc')[0]\n",
    "model_data = model_data.iloc[:, new_cases_index].to_frame(); new_cases_index=0\n",
    "n_countries = data.location.nunique()\n",
    "target_data = model_data.new_cases_per_million\n",
    "time_index = data.time_index\n",
    "\n",
    "frame_size = 28\n",
    "start_date = 2*frame_size#+time_index.min()\n",
    "\n",
    "n_validation_frames = 7\n",
    "n_test_frames = 1\n",
    "n_days_into_future = 1"
   ]
  },
  {
   "cell_type": "code",
   "execution_count": 56,
   "metadata": {},
   "outputs": [
    {
     "name": "stdout",
     "output_type": "stream",
     "text": [
      "Starting with frame ranging time_index values: 28 55\n",
      "Ending with frame ranging time_index values: 132 159\n"
     ]
    }
   ],
   "source": [
    "X, y = create_Xy(model_data, target_data, time_index, start_date, frame_size, n_days_into_future, n_countries)\n",
    "\n",
    "n_features = X.shape[-1]\n",
    "last_day_new_cases_index = np.ravel_multi_index([[frame_size-1],[new_cases_index]],(frame_size, n_features))\n",
    "splits, indices = split_Xy(X, y, frame_size, n_validation_frames, n_test_frames)\n",
    "(train_indices, validate_indices, test_indices) = indices\n",
    "X_for_naive_slicing = np.concatenate(X.reshape(X.shape[0], X.shape[1], -1), axis=0)\n",
    "y_train_naive = X_for_naive_slicing[train_indices, last_day_new_cases_index]\n",
    "y_validate_naive =  X_for_naive_slicing[validate_indices, last_day_new_cases_index]\n",
    "y_test_naive =  X_for_naive_slicing[test_indices, last_day_new_cases_index]\n",
    "# y_train_naive = np.exp(X_for_naive_slicing[train_indices, last_day_new_cases_index])-1\n",
    "# y_validate_naive =  np.exp(X_for_naive_slicing[validate_indices, last_day_new_cases_index])-1\n",
    "# y_test_naive =  np.exp(X_for_naive_slicing[test_indices, last_day_new_cases_index])-1\n",
    "(X_cnn_train, y_cnn_train_model, X_cnn_validate, y_cnn_validate_model, X_cnn_test, y_cnn_test_model) = splits\n",
    "# if need to supply folds for sklearn CV regression functions. \n"
   ]
  },
  {
   "cell_type": "code",
   "execution_count": 57,
   "metadata": {},
   "outputs": [
    {
     "data": {
      "image/png": "[encoded data removed]",
      "text/plain": [
       "<Figure size 720x360 with 1 Axes>"
      ]
     },
     "metadata": {
      "needs_background": "light"
     },
     "output_type": "display_data"
    }
   ],
   "source": [
    "fig, ax = plt.subplots(1,1, figsize=(10,5))\n",
    "ax.scatter(range(len(X)), X[:, 0, -1, new_cases_index], s=40, color='r')\n",
    "ax.scatter(range(len(X_cnn_train)), X_cnn_train[:,0,-1,new_cases_index], s=20, label='train')\n",
    "ax.scatter(range(len(X_cnn_train), len(X_cnn_train)+len(X_cnn_validate)), X_cnn_validate[:,0,-1,new_cases_index], s=20, label='validate')\n",
    "ax.scatter(range(len(X_cnn_train)+len(X_cnn_validate), len(X)), X_cnn_test[:,0,-1,new_cases_index], s=20, label='test')\n",
    "ax.plot(np.log(data.new_cases_per_million.values[start_date-1:-1]+1), color='k', alpha=0.2)\n",
    "# ax.plot(y, color='k')\n",
    "plt.legend()\n",
    "_ = plt.show()\n",
    "\n",
    "# Rescale to 0.5 to 1 to account for new maximums. How does this even help?        \n",
    "\n",
    "# Rescale to 0.5 to 1 to account for new maximums. How does this even help?        "
   ]
  },
  {
   "cell_type": "markdown",
   "metadata": {},
   "source": [
    "# test on unscaled data"
   ]
  },
  {
   "cell_type": "code",
   "execution_count": 58,
   "metadata": {},
   "outputs": [],
   "source": [
    "# because only 1 feature, need an extra axis\n",
    "X_cnn_train_model = np.concatenate(X_cnn_train.reshape(X_cnn_train.shape[0], X_cnn_train.shape[1], -1), axis=0)[:,:,np.newaxis]\n",
    "X_cnn_validate_model = np.concatenate(X_cnn_validate.reshape(X_cnn_validate.shape[0], X_cnn_validate.shape[1], -1), axis=0)[:,:,np.newaxis]\n",
    "X_cnn_test_model = np.concatenate(X_cnn_test.reshape(X_cnn_test.shape[0], X_cnn_test.shape[1], -1), axis=0)[:,:,np.newaxis]\n",
    "y_cnn_train_model = y_cnn_train_model.ravel()\n",
    "y_cnn_validate_model = y_cnn_validate_model.ravel()\n",
    "y_cnn_test_model = y_cnn_test_model.ravel()"
   ]
  },
  {
   "cell_type": "markdown",
   "metadata": {},
   "source": [
    "# This is what happens on first run."
   ]
  },
  {
   "cell_type": "code",
   "execution_count": 90,
   "metadata": {
    "scrolled": true
   },
   "outputs": [],
   "source": [
    "epochs = 100\n",
    "batch_size = 8\n",
    "learning_rate = 0.01\n",
    "kernel = 4\n",
    "N = 8\n",
    "FC = 8\n",
    "\n",
    "f1, f2 = 64, 8\n",
    "k1, k2 = 4, 4\n",
    "\n",
    "cnn_model = Sequential()\n",
    "cnn_model.add(Conv1D(filters=int(f1), kernel_size=int(k1),\n",
    "                 padding='valid',\n",
    "                 input_shape=X_cnn_train.shape[2:],\n",
    "#                  use_bias=False\n",
    "#                  activation='relu'\n",
    "                )\n",
    "         )\n",
    "# cnn_model.add(MaxPooling1D(pool_size=2))\n",
    "# cnn_model.add(Activation('relu'))\n",
    "\n",
    "cnn_model.add(Conv1D(filters=int(f2), \n",
    "                 kernel_size=int(k2), \n",
    "                 padding='valid',\n",
    "#                   use_bias=False\n",
    "\n",
    "#                  activation='relu'\n",
    "                )\n",
    "         )\n",
    "# cnn_model.add(MaxPooling1D(pool_size=2))\n",
    "# cnn_model.add(Activation('relu'))\n",
    "cnn_model.add(Flatten())\n",
    "cnn_model.add(Dense(cnn_model.output.shape[1], \n",
    "#                 activation='relu'\n",
    "               )\n",
    "         )\n",
    "cnn_model.add(Dense(1, activation='relu'))\n",
    "cnn_model.compile(loss='mse', optimizer=Adam(learning_rate=learning_rate))\n",
    "history = cnn_model.fit(X_cnn_train_model, y_cnn_train_model, epochs=epochs, validation_data=(X_cnn_validate_model, y_cnn_validate_model), \n",
    "          batch_size=batch_size, verbose=0)"
   ]
  },
  {
   "cell_type": "code",
   "execution_count": null,
   "metadata": {},
   "outputs": [
    {
     "data": {
      "image/png": "[encoded data removed]",
      "text/plain": [
       "<Figure size 432x288 with 1 Axes>"
      ]
     },
     "metadata": {
      "needs_background": "light"
     },
     "output_type": "display_data"
    },
    {
     "name": "stdout",
     "output_type": "stream",
     "text": [
      "There were 0 negative predictions\n",
      "1-step MSE [Naive, CNN model] = [0.04461793127306907,17.838194248481557]\n",
      "1-step R^2 [Naive, CNN model] = [0.8011799815604812,0.0]\n"
     ]
    },
    {
     "data": {
      "image/png": "[encoded data removed]",
      "text/plain": [
       "<Figure size 1440x360 with 2 Axes>"
      ]
     },
     "metadata": {
      "needs_background": "light"
     },
     "output_type": "display_data"
    },
    {
     "name": "stdout",
     "output_type": "stream",
     "text": [
      "(97,) (97,) (97,)\n"
     ]
    }
   ],
   "source": [
    "_ = plt.plot(history.history['loss'], label='loss')\n",
    "_ = plt.plot(history.history['val_loss'], label='val_loss')\n",
    "_ = plt.legend()\n",
    "_ = plt.show()\n",
    "\n",
    "y_true = y_cnn_train_model.ravel()\n",
    "y_predict = cnn_model.predict(X_cnn_train_model).ravel()\n",
    "model_analysis(y_true, y_train_naive, y_predict, n_countries, title='CNN model', suptitle='Performance on training set')\n",
    "\n",
    "y_true = y_cnn_validate_model.ravel()\n",
    "y_predict = cnn_model.predict(X_cnn_validate_model).ravel()\n",
    "model_analysis(y_true, y_validate_naive, y_predict, n_countries, title='CNN model', suptitle='Performance on validation set')"
   ]
  },
  {
   "cell_type": "code",
   "execution_count": 83,
   "metadata": {
    "scrolled": false
   },
   "outputs": [
    {
     "name": "stdout",
     "output_type": "stream",
     "text": [
      "Model: \"sequential_8\"\n",
      "_________________________________________________________________\n",
      "Layer (type)                 Output Shape              Param #   \n",
      "=================================================================\n",
      "conv1d_16 (Conv1D)           (None, 25, 64)            256       \n",
      "_________________________________________________________________\n",
      "max_pooling1d_16 (MaxPooling (None, 12, 64)            0         \n",
      "_________________________________________________________________\n",
      "conv1d_17 (Conv1D)           (None, 9, 8)              2048      \n",
      "_________________________________________________________________\n",
      "max_pooling1d_17 (MaxPooling (None, 4, 8)              0         \n",
      "_________________________________________________________________\n",
      "flatten_8 (Flatten)          (None, 32)                0         \n",
      "_________________________________________________________________\n",
      "dense_16 (Dense)             (None, 32)                1056      \n",
      "_________________________________________________________________\n",
      "dense_17 (Dense)             (None, 1)                 33        \n",
      "=================================================================\n",
      "Total params: 3,393\n",
      "Trainable params: 3,393\n",
      "Non-trainable params: 0\n",
      "_________________________________________________________________\n"
     ]
    }
   ],
   "source": [
    "cnn_model.summary()"
   ]
  },
  {
   "cell_type": "code",
   "execution_count": 84,
   "metadata": {},
   "outputs": [
    {
     "data": {
      "text/plain": [
       "[<tf.Variable 'conv1d_16/kernel:0' shape=(4, 1, 64) dtype=float32>,\n",
       " <tf.Variable 'conv1d_17/kernel:0' shape=(4, 64, 8) dtype=float32>,\n",
       " <tf.Variable 'dense_16/kernel:0' shape=(32, 32) dtype=float32>,\n",
       " <tf.Variable 'dense_16/bias:0' shape=(32,) dtype=float32>,\n",
       " <tf.Variable 'dense_17/kernel:0' shape=(32, 1) dtype=float32>,\n",
       " <tf.Variable 'dense_17/bias:0' shape=(1,) dtype=float32>]"
      ]
     },
     "execution_count": 84,
     "metadata": {},
     "output_type": "execute_result"
    }
   ],
   "source": [
    "cnn_model.weights"
   ]
  },
  {
   "cell_type": "code",
   "execution_count": 85,
   "metadata": {
    "scrolled": false
   },
   "outputs": [
    {
     "data": {
      "text/plain": [
       "[array([[[-0.12700671,  0.10854691,  0.03845761, -0.02370031,\n",
       "          -0.03463461, -0.03957501,  0.01048203, -0.0645725 ,\n",
       "          -0.15986437,  0.01947338,  0.02877116, -0.06703422,\n",
       "          -0.0420171 , -0.01248117, -0.19769424, -0.07506455,\n",
       "           0.12248486,  0.07973237,  0.05181897,  0.1843948 ,\n",
       "           0.00751633, -0.07019156, -0.10626268, -0.07177003,\n",
       "          -0.05687527, -0.1575141 , -0.05252977, -0.06204416,\n",
       "          -0.02506688,  0.0307103 , -0.0262693 ,  0.07710159,\n",
       "          -0.0687549 ,  0.0586519 , -0.03553848,  0.05093845,\n",
       "          -0.09945685,  0.03904527,  0.0782567 , -0.05322445,\n",
       "          -0.07191626, -0.0181711 , -0.06901767,  0.05726597,\n",
       "           0.00364701, -0.07101863,  0.09690773, -0.02630897,\n",
       "          -0.03501427, -0.12077341,  0.04048546,  0.15723133,\n",
       "           0.05783966,  0.09612165, -0.19148977, -0.10771106,\n",
       "           0.02744969,  0.01856612,  0.12161198,  0.02259334,\n",
       "           0.04239942, -0.10372905, -0.03322223, -0.04329049]],\n",
       " \n",
       "        [[-0.17456658, -0.10860942,  0.07219374, -0.08635562,\n",
       "           0.09749357, -0.03585802, -0.00169727,  0.0403282 ,\n",
       "           0.07682405,  0.06059865, -0.10135835,  0.10069753,\n",
       "          -0.02032067, -0.04493539,  0.07431722, -0.03065838,\n",
       "          -0.05328678,  0.10357698, -0.02399821, -0.01719148,\n",
       "          -0.08700851, -0.01965015,  0.18322667,  0.10034101,\n",
       "           0.05232237,  0.04404092, -0.05162799,  0.11749462,\n",
       "          -0.04573127, -0.06336962, -0.1471272 ,  0.0214687 ,\n",
       "           0.00361276,  0.10526825, -0.0610241 ,  0.07284732,\n",
       "           0.12823544,  0.0665895 , -0.09859338,  0.07448495,\n",
       "          -0.07828318,  0.08025084,  0.05012472, -0.05076326,\n",
       "           0.04302477,  0.00937578,  0.00942627,  0.11443899,\n",
       "           0.1136672 , -0.04282865, -0.00260111, -0.05576142,\n",
       "           0.05391691, -0.08345713,  0.0844358 , -0.10306185,\n",
       "          -0.07119448,  0.0385055 , -0.15977652,  0.06294484,\n",
       "           0.01760078,  0.019171  ,  0.05064309,  0.05234639]],\n",
       " \n",
       "        [[ 0.14969918,  0.11258136,  0.0328316 ,  0.09334736,\n",
       "           0.0676734 ,  0.009898  ,  0.03651429, -0.00792528,\n",
       "          -0.05324053, -0.14675651, -0.04048274, -0.03909478,\n",
       "          -0.07414557, -0.05970568,  0.05699673,  0.04361689,\n",
       "           0.01732542, -0.1480117 ,  0.06788666,  0.06256074,\n",
       "          -0.07351076,  0.06450159, -0.11266965,  0.12858216,\n",
       "           0.10417408,  0.0296383 ,  0.01064306, -0.1369048 ,\n",
       "           0.05106476, -0.09543828,  0.1383804 , -0.08632437,\n",
       "           0.07054367, -0.1747602 , -0.06157851,  0.0126298 ,\n",
       "          -0.04011612, -0.15946628,  0.03497945, -0.02305857,\n",
       "          -0.0741758 , -0.01619637, -0.0511045 , -0.15345907,\n",
       "          -0.10276224, -0.02316278, -0.15313412, -0.07546929,\n",
       "          -0.11834164,  0.08320319, -0.07689155,  0.00065103,\n",
       "          -0.0634273 , -0.11675335,  0.01971538,  0.02073943,\n",
       "           0.06968146, -0.097223  , -0.03499711, -0.04970192,\n",
       "          -0.03159814, -0.02445074,  0.08170898, -0.10906885]],\n",
       " \n",
       "        [[ 0.11694489, -0.11981846, -0.14259885,  0.02525873,\n",
       "          -0.14022943,  0.04087445,  0.02613808,  0.02320477,\n",
       "           0.15196134,  0.04889758,  0.12104576, -0.05316795,\n",
       "           0.14266843,  0.14033622,  0.04921766,  0.01245267,\n",
       "          -0.08564115, -0.0078656 , -0.06870053,  0.02545532,\n",
       "           0.16577986, -0.06655881,  0.04695347,  0.09419603,\n",
       "           0.1159662 ,  0.08083032,  0.11608972,  0.13128209,\n",
       "           0.01551131,  0.14659032,  0.16505711, -0.03283022,\n",
       "          -0.10310215,  0.02263153, -0.08619586, -0.14790745,\n",
       "          -0.02091582,  0.03033289,  0.0212288 , -0.04750377,\n",
       "           0.01542829, -0.05911972, -0.0730262 , -0.00094203,\n",
       "           0.022016  ,  0.10802876,  0.04425508, -0.03967026,\n",
       "           0.02408482,  0.04764567,  0.05654824, -0.07558081,\n",
       "          -0.10295454,  0.0923254 ,  0.09312643,  0.19403127,\n",
       "          -0.02176082,  0.0261551 , -0.04315265,  0.0250673 ,\n",
       "          -0.03944239,  0.15045096, -0.06124958,  0.10415221]]],\n",
       "       dtype=float32),\n",
       " array([[[-0.01609981, -0.26610762,  0.05920463, ..., -0.07342254,\n",
       "          -0.20269684, -0.11260418],\n",
       "         [ 0.01136472,  0.04606597, -0.0612123 , ..., -0.02574631,\n",
       "           0.06562531,  0.07709724],\n",
       "         [ 0.09193087,  0.07889718,  0.12511371, ...,  0.1366367 ,\n",
       "          -0.04797654,  0.14357969],\n",
       "         ...,\n",
       "         [ 0.03345219, -0.01108251, -0.0613321 , ...,  0.10347179,\n",
       "          -0.13073507,  0.04771527],\n",
       "         [ 0.13687252,  0.00573555, -0.02255182, ...,  0.13554503,\n",
       "          -0.16673873,  0.02359238],\n",
       "         [ 0.04828823,  0.10987446,  0.12795343, ..., -0.13536209,\n",
       "           0.1414042 , -0.09710959]],\n",
       " \n",
       "        [[ 0.01906799,  0.03020382, -0.0180614 , ..., -0.05104784,\n",
       "          -0.07098551, -0.00717398],\n",
       "         [ 0.07109413, -0.10826899, -0.08528744, ...,  0.06130416,\n",
       "           0.00766143, -0.00868072],\n",
       "         [-0.11425281,  0.05461273,  0.02160338, ..., -0.12255289,\n",
       "          -0.09147527, -0.0663004 ],\n",
       "         ...,\n",
       "         [ 0.2001016 ,  0.03718905, -0.07328525, ..., -0.17578226,\n",
       "          -0.02931043,  0.15030947],\n",
       "         [ 0.02535356,  0.09047387, -0.00654166, ...,  0.03972933,\n",
       "          -0.07952301, -0.04570267],\n",
       "         [-0.08669689, -0.07411405,  0.1145503 , ..., -0.12595652,\n",
       "          -0.03600884, -0.01028812]],\n",
       " \n",
       "        [[ 0.06094845,  0.07952549,  0.19198862, ...,  0.07405136,\n",
       "          -0.15984373,  0.01043997],\n",
       "         [ 0.06678411,  0.05544781, -0.10389911, ..., -0.0557178 ,\n",
       "          -0.11330768, -0.10118213],\n",
       "         [-0.0108243 ,  0.00990076, -0.05185413, ..., -0.06210565,\n",
       "           0.00515219,  0.13475826],\n",
       "         ...,\n",
       "         [-0.14919363, -0.07414719, -0.06754626, ...,  0.13184124,\n",
       "           0.04731748, -0.09291958],\n",
       "         [ 0.07413603,  0.06058808,  0.1348817 , ..., -0.03734148,\n",
       "           0.08100058,  0.14669466],\n",
       "         [ 0.03431447, -0.02103047,  0.13241926, ..., -0.13333733,\n",
       "          -0.10118701,  0.15508783]],\n",
       " \n",
       "        [[-0.18692668,  0.01606243, -0.03308845, ...,  0.01228435,\n",
       "           0.01252494, -0.06076412],\n",
       "         [ 0.14943962, -0.03151433,  0.01421726, ...,  0.08786045,\n",
       "           0.01354498,  0.01201017],\n",
       "         [-0.14191997, -0.10698869, -0.03686257, ..., -0.00697449,\n",
       "          -0.16524583, -0.11002408],\n",
       "         ...,\n",
       "         [-0.02996505,  0.06158783,  0.19532527, ...,  0.28203008,\n",
       "           0.10204042, -0.01032707],\n",
       "         [-0.08519543, -0.04194072,  0.18540901, ..., -0.01455073,\n",
       "           0.01073112, -0.07211403],\n",
       "         [ 0.10322523,  0.03799615, -0.0302607 , ...,  0.12284155,\n",
       "           0.10487732,  0.0599717 ]]], dtype=float32),\n",
       " array([[ 0.24490277,  0.19000839, -0.1792715 , ..., -0.06376792,\n",
       "         -0.28842455,  0.15933198],\n",
       "        [ 0.29366735,  0.16391537, -0.21187074, ...,  0.2373824 ,\n",
       "         -0.25355327, -0.15158558],\n",
       "        [-0.1846833 ,  0.34094107,  0.22392923, ..., -0.16641317,\n",
       "          0.08352763, -0.10525983],\n",
       "        ...,\n",
       "        [-0.33887604,  0.01447875, -0.09853832, ..., -0.02970436,\n",
       "         -0.35666358,  0.11873318],\n",
       "        [ 0.26970512, -0.03808236,  0.19376539, ...,  0.21098708,\n",
       "         -0.1387302 ,  0.05915921],\n",
       "        [ 0.31578115, -0.21971078, -0.22103354, ...,  0.18961197,\n",
       "          0.1425277 , -0.08005368]], dtype=float32),\n",
       " array([-0.34851742, -0.62891364, -0.2735584 ,  0.32062167,  0.26364398,\n",
       "        -0.288623  , -0.29127365,  0.23326705, -0.36557624, -0.11790173,\n",
       "        -0.3461903 ,  0.6936546 ,  0.21254852,  0.3021457 , -0.3086336 ,\n",
       "         0.32725045, -0.2993826 , -0.2774391 , -0.2716017 ,  0.31348485,\n",
       "         0.31841916,  0.18108593, -0.27546847,  0.31523967, -0.18708326,\n",
       "         0.0213678 ,  0.6153896 ,  0.30503827, -0.29715618,  0.06365442,\n",
       "        -0.26838243,  0.30548146], dtype=float32),\n",
       " array([[-0.14639768],\n",
       "        [-0.05473698],\n",
       "        [-0.25111344],\n",
       "        [ 0.18730754],\n",
       "        [ 0.20024048],\n",
       "        [-0.12215835],\n",
       "        [-0.12054952],\n",
       "        [ 0.17619118],\n",
       "        [-0.4536236 ],\n",
       "        [-0.00218215],\n",
       "        [-0.12670837],\n",
       "        [ 0.10862188],\n",
       "        [ 0.04958026],\n",
       "        [ 0.21502888],\n",
       "        [-0.25147817],\n",
       "        [ 0.15882526],\n",
       "        [-0.17591055],\n",
       "        [-0.30508873],\n",
       "        [-0.19350937],\n",
       "        [ 0.25605202],\n",
       "        [ 0.33055344],\n",
       "        [ 0.06075954],\n",
       "        [-0.14634956],\n",
       "        [ 0.34619543],\n",
       "        [-0.01423239],\n",
       "        [ 0.06323167],\n",
       "        [ 0.06510504],\n",
       "        [ 0.25849137],\n",
       "        [-0.20451815],\n",
       "        [ 0.00601568],\n",
       "        [-0.22472453],\n",
       "        [ 0.20119143]], dtype=float32),\n",
       " array([0.33599022], dtype=float32)]"
      ]
     },
     "execution_count": 85,
     "metadata": {},
     "output_type": "execute_result"
    }
   ],
   "source": [
    "cnn_model.get_weights()"
   ]
  },
  {
   "cell_type": "code",
   "execution_count": 86,
   "metadata": {
    "scrolled": false
   },
   "outputs": [
    {
     "data": {
      "text/plain": [
       "['_TF_MODULE_IGNORED_PROPERTIES',\n",
       " '__call__',\n",
       " '__class__',\n",
       " '__delattr__',\n",
       " '__dict__',\n",
       " '__dir__',\n",
       " '__doc__',\n",
       " '__eq__',\n",
       " '__format__',\n",
       " '__ge__',\n",
       " '__getattribute__',\n",
       " '__gt__',\n",
       " '__hash__',\n",
       " '__init__',\n",
       " '__init_subclass__',\n",
       " '__le__',\n",
       " '__lt__',\n",
       " '__module__',\n",
       " '__ne__',\n",
       " '__new__',\n",
       " '__reduce__',\n",
       " '__reduce_ex__',\n",
       " '__repr__',\n",
       " '__setattr__',\n",
       " '__sizeof__',\n",
       " '__str__',\n",
       " '__subclasshook__',\n",
       " '__weakref__',\n",
       " '_activity_regularizer',\n",
       " '_add_inbound_node',\n",
       " '_add_unique_metric_name',\n",
       " '_add_variable_with_custom_getter',\n",
       " '_all_metrics_tensors',\n",
       " '_assert_compile_was_called',\n",
       " '_assert_weights_created',\n",
       " '_base_init',\n",
       " '_build_input_shape',\n",
       " '_cache_output_metric_attributes',\n",
       " '_call_convention',\n",
       " '_call_fn_args',\n",
       " '_call_metric_fn',\n",
       " '_callable_losses',\n",
       " '_check_trainable_weights_consistency',\n",
       " '_checkpoint_dependencies',\n",
       " '_ckpt_saved_epoch',\n",
       " '_clear_losses',\n",
       " '_cloning',\n",
       " '_collected_trainable_weights',\n",
       " '_compile_distribution',\n",
       " '_compile_eagerly',\n",
       " '_compile_metric_functions',\n",
       " '_compile_metrics',\n",
       " '_compile_metrics_names',\n",
       " '_compile_metrics_tensors',\n",
       " '_compile_weighted_metrics',\n",
       " '_compile_weights_loss_and_weighted_metrics',\n",
       " '_compute_output_and_mask_jointly',\n",
       " '_deferred_dependencies',\n",
       " '_determine_call_convention',\n",
       " '_distributed_function_cache',\n",
       " '_distributed_model_cache',\n",
       " '_distribution_standardize_user_data',\n",
       " '_distribution_strategy',\n",
       " '_dtype',\n",
       " '_dynamic',\n",
       " '_eager_add_metric',\n",
       " '_eager_losses',\n",
       " '_expects_training_arg',\n",
       " '_feed_input_names',\n",
       " '_feed_input_shapes',\n",
       " '_feed_inputs',\n",
       " '_feed_loss_fns',\n",
       " '_feed_output_names',\n",
       " '_feed_output_shapes',\n",
       " '_feed_sample_weights',\n",
       " '_feed_targets',\n",
       " '_flatten',\n",
       " '_function_kwargs',\n",
       " '_gather_children_attribute',\n",
       " '_gather_saveables_for_checkpoint',\n",
       " '_get_callback_model',\n",
       " '_get_existing_metric',\n",
       " '_get_node_attribute_at_index',\n",
       " '_graph',\n",
       " '_handle_activity_regularization',\n",
       " '_handle_deferred_dependencies',\n",
       " '_handle_metrics',\n",
       " '_handle_per_output_metrics',\n",
       " '_handle_weight_regularization',\n",
       " '_inbound_nodes',\n",
       " '_init_graph_network',\n",
       " '_init_metric_attributes',\n",
       " '_init_set_name',\n",
       " '_init_subclassed_network',\n",
       " '_input_coordinates',\n",
       " '_input_layers',\n",
       " '_inputs_from_call_args',\n",
       " '_insert_layers',\n",
       " '_is_compiled',\n",
       " '_is_graph_network',\n",
       " '_is_layer',\n",
       " '_keras_api_names',\n",
       " '_keras_api_names_v1',\n",
       " '_layer_call_argspecs',\n",
       " '_layers',\n",
       " '_layers_by_depth',\n",
       " '_list_functions_for_serialization',\n",
       " '_lookup_dependency',\n",
       " '_loss_weights_list',\n",
       " '_losses',\n",
       " '_make_callback_model',\n",
       " '_make_execution_function',\n",
       " '_make_predict_function',\n",
       " '_make_test_function',\n",
       " '_make_train_function',\n",
       " '_maybe_build',\n",
       " '_maybe_create_attribute',\n",
       " '_maybe_initialize_trackable',\n",
       " '_maybe_load_initial_epoch_from_ckpt',\n",
       " '_metrics',\n",
       " '_metrics_tensors',\n",
       " '_mixed_precision_policy',\n",
       " '_name',\n",
       " '_name_based_attribute_restore',\n",
       " '_name_based_restores',\n",
       " '_name_scope',\n",
       " '_nested_inputs',\n",
       " '_nested_outputs',\n",
       " '_network_nodes',\n",
       " '_no_dependency',\n",
       " '_nodes_by_depth',\n",
       " '_non_trainable_weights',\n",
       " '_obj_reference_counts',\n",
       " '_outbound_nodes',\n",
       " '_output_coordinates',\n",
       " '_output_layers',\n",
       " '_output_loss_metrics',\n",
       " '_output_mask_cache',\n",
       " '_output_shape_cache',\n",
       " '_output_tensor_cache',\n",
       " '_per_output_metrics',\n",
       " '_per_output_weighted_metrics',\n",
       " '_preload_simple_restoration',\n",
       " '_prepare_output_masks',\n",
       " '_prepare_sample_weights',\n",
       " '_prepare_skip_target_masks',\n",
       " '_prepare_total_loss',\n",
       " '_process_target_tensor_for_compile',\n",
       " '_recompile_weights_loss_and_weighted_metrics',\n",
       " '_restore_from_checkpoint_position',\n",
       " '_reuse',\n",
       " '_run_eagerly',\n",
       " '_run_internal_graph',\n",
       " '_sample_weight_modes',\n",
       " '_scope',\n",
       " '_self_name_based_restores',\n",
       " '_self_setattr_tracking',\n",
       " '_self_unconditional_checkpoint_dependencies',\n",
       " '_self_unconditional_deferred_dependencies',\n",
       " '_self_unconditional_dependency_names',\n",
       " '_self_update_uid',\n",
       " '_set_connectivity_metadata_',\n",
       " '_set_dtype_and_policy',\n",
       " '_set_input_attrs',\n",
       " '_set_inputs',\n",
       " '_set_mask_metadata',\n",
       " '_set_metric_attributes',\n",
       " '_set_output_attrs',\n",
       " '_set_output_names',\n",
       " '_set_per_output_metric_attributes',\n",
       " '_setattr_tracking',\n",
       " '_should_compute_mask',\n",
       " '_single_restoration_from_checkpoint_position',\n",
       " '_standardize_user_data',\n",
       " '_symbolic_add_metric',\n",
       " '_symbolic_call',\n",
       " '_targets',\n",
       " '_tf_api_names',\n",
       " '_tf_api_names_v1',\n",
       " '_track_layers',\n",
       " '_track_trackable',\n",
       " '_trackable_saver',\n",
       " '_trainable',\n",
       " '_trainable_weights',\n",
       " '_training_endpoints',\n",
       " '_unconditional_checkpoint_dependencies',\n",
       " '_unconditional_dependency_names',\n",
       " '_unpack_validation_data',\n",
       " '_update_sample_weight_modes',\n",
       " '_update_uid',\n",
       " '_updated_config',\n",
       " '_updates',\n",
       " '_validate_compile_param_for_distribution_strategy',\n",
       " '_validate_graph_inputs_and_outputs',\n",
       " '_validate_or_infer_batch_size',\n",
       " 'activity_regularizer',\n",
       " 'add',\n",
       " 'add_loss',\n",
       " 'add_metric',\n",
       " 'add_update',\n",
       " 'add_variable',\n",
       " 'add_weight',\n",
       " 'apply',\n",
       " 'build',\n",
       " 'built',\n",
       " 'call',\n",
       " 'compile',\n",
       " 'compute_mask',\n",
       " 'compute_output_shape',\n",
       " 'count_params',\n",
       " 'dtype',\n",
       " 'dynamic',\n",
       " 'evaluate',\n",
       " 'evaluate_generator',\n",
       " 'fit',\n",
       " 'fit_generator',\n",
       " 'from_config',\n",
       " 'get_config',\n",
       " 'get_input_at',\n",
       " 'get_input_mask_at',\n",
       " 'get_input_shape_at',\n",
       " 'get_layer',\n",
       " 'get_losses_for',\n",
       " 'get_output_at',\n",
       " 'get_output_mask_at',\n",
       " 'get_output_shape_at',\n",
       " 'get_updates_for',\n",
       " 'get_weights',\n",
       " 'history',\n",
       " 'inbound_nodes',\n",
       " 'input',\n",
       " 'input_mask',\n",
       " 'input_names',\n",
       " 'input_shape',\n",
       " 'input_spec',\n",
       " 'inputs',\n",
       " 'layers',\n",
       " 'load_weights',\n",
       " 'loss',\n",
       " 'loss_functions',\n",
       " 'loss_weights',\n",
       " 'losses',\n",
       " 'metrics',\n",
       " 'metrics_names',\n",
       " 'name',\n",
       " 'name_scope',\n",
       " 'non_trainable_variables',\n",
       " 'non_trainable_weights',\n",
       " 'optimizer',\n",
       " 'outbound_nodes',\n",
       " 'output',\n",
       " 'output_mask',\n",
       " 'output_names',\n",
       " 'output_shape',\n",
       " 'outputs',\n",
       " 'pop',\n",
       " 'predict',\n",
       " 'predict_classes',\n",
       " 'predict_function',\n",
       " 'predict_generator',\n",
       " 'predict_on_batch',\n",
       " 'predict_proba',\n",
       " 'reset_metrics',\n",
       " 'reset_states',\n",
       " 'run_eagerly',\n",
       " 'sample_weight_mode',\n",
       " 'sample_weights',\n",
       " 'save',\n",
       " 'save_weights',\n",
       " 'set_weights',\n",
       " 'state_updates',\n",
       " 'stateful',\n",
       " 'stop_training',\n",
       " 'submodules',\n",
       " 'summary',\n",
       " 'supports_masking',\n",
       " 'test_function',\n",
       " 'test_on_batch',\n",
       " 'to_json',\n",
       " 'to_yaml',\n",
       " 'total_loss',\n",
       " 'train_function',\n",
       " 'train_on_batch',\n",
       " 'trainable',\n",
       " 'trainable_variables',\n",
       " 'trainable_weights',\n",
       " 'updates',\n",
       " 'variables',\n",
       " 'weights',\n",
       " 'with_name_scope']"
      ]
     },
     "execution_count": 86,
     "metadata": {},
     "output_type": "execute_result"
    }
   ],
   "source": [
    "dir(cnn_model)"
   ]
  },
  {
   "cell_type": "markdown",
   "metadata": {},
   "source": [
    "# This is what happens with minmax scaled data"
   ]
  },
  {
   "cell_type": "markdown",
   "metadata": {},
   "source": [
    "# predictions using scaled X data."
   ]
  },
  {
   "cell_type": "code",
   "execution_count": 27,
   "metadata": {},
   "outputs": [],
   "source": [
    "# data = data[data.time_index>=40]\n",
    "model_data = data.copy().iloc[:, 1:]\n",
    "model_data =  model_data.apply(lambda x :np.log(x+1))\n",
    "new_cases_index = column_search(model_data,'new_cases_per_million',threshold='match', return_style='iloc')[0]\n",
    "model_data = model_data.iloc[:, new_cases_index].to_frame(); new_cases_index=0\n",
    "n_countries = data.location.nunique()\n",
    "target_data = model_data.new_cases_per_million\n",
    "time_index = data.time_index\n",
    "\n",
    "frame_size = 28\n",
    "start_date = 2*frame_size#+time_index.min()\n",
    "\n",
    "n_validation_frames = 7\n",
    "n_test_frames = 1\n",
    "n_days_into_future = 1"
   ]
  },
  {
   "cell_type": "code",
   "execution_count": 30,
   "metadata": {},
   "outputs": [
    {
     "name": "stdout",
     "output_type": "stream",
     "text": [
      "Starting with frame ranging time_index values: 28 55\n",
      "Ending with frame ranging time_index values: 132 159\n"
     ]
    }
   ],
   "source": [
    "X, y = create_Xy(model_data, target_data, time_index, start_date, frame_size, n_days_into_future, n_countries)\n",
    "splits, indices = split_Xy(X, y, frame_size, n_validation_frames, n_test_frames)\n",
    "# if need to supply folds for sklearn CV regression functions. \n",
    "(train_indices, validate_indices, test_indices) = indices\n",
    "scaled_splits, frame_minmax, latest_minmax =  normalize_Xy_splits(splits, feature_range=(0,0.5), \n",
    "                                                                  normalization_method='minmax',\n",
    "                                                                  train_test_only=False,\n",
    "                                                                  feature_indices=None)\n",
    "(latest_max, latest_min, latest_denom) = latest_minmax\n",
    "(frame_max, frame_min, frame_denom) = frame_minmax\n",
    "(X_cnn_train, y_cnn_train, X_cnn_validate, y_cnn_validate, X_cnn_test, y_cnn_test) = scaled_splits\n",
    "\n",
    "X_cnn_train_model = np.concatenate(X_cnn_train.reshape(X_cnn_train.shape[0], X_cnn_train.shape[1], -1), axis=0)[:,:,np.newaxis]\n",
    "X_cnn_validate_model = np.concatenate(X_cnn_validate.reshape(X_cnn_validate.shape[0], X_cnn_validate.shape[1], -1), axis=0)[:,:,np.newaxis]\n",
    "X_cnn_test_model = np.concatenate(X_cnn_test.reshape(X_cnn_test.shape[0], X_cnn_test.shape[1], -1), axis=0)[:,:,np.newaxis]\n",
    "y_cnn_train_model = y_cnn_train.ravel()\n",
    "y_cnn_validate_model = y_cnn_validate.ravel()\n",
    "y_cnn_test_model = y_cnn_test.ravel()\n",
    "\n",
    "(X_train, y_train, X_validate, y_validate, X_test, y_test) = splits\n",
    "\n",
    "\n",
    "X_for_naive_slicing = np.concatenate(X.reshape(X.shape[0], X.shape[1], -1), axis=0)\n",
    "\n",
    "n_features = X.shape[-1]\n",
    "last_day_new_cases_index = np.ravel_multi_index([[frame_size-1],[new_cases_index]],(frame_size, n_features))\n",
    "\n",
    "y_train_naive = X_for_naive_slicing[train_indices, last_day_new_cases_index]\n",
    "y_validate_naive =  X_for_naive_slicing[validate_indices, last_day_new_cases_index]\n",
    "y_test_naive =  X_for_naive_slicing[test_indices, last_day_new_cases_index]\n",
    "# y_train_naive = np.exp(X_for_naive_slicing[train_indices, last_day_new_cases_index])-1\n",
    "# y_validate_naive =  np.exp(X_for_naive_slicing[validate_indices, last_day_new_cases_index])-1\n",
    "# y_test_naive =  np.exp(X_for_naive_slicing[test_indices, last_day_new_cases_index])-1"
   ]
  },
  {
   "cell_type": "code",
   "execution_count": 31,
   "metadata": {},
   "outputs": [
    {
     "data": {
      "image/png": "[encoded data removed]",
      "text/plain": [
       "<Figure size 720x360 with 1 Axes>"
      ]
     },
     "metadata": {
      "needs_background": "light"
     },
     "output_type": "display_data"
    }
   ],
   "source": [
    "fig, ax = plt.subplots(1,1, figsize=(10,5))\n",
    "# ax.scatter(range(len(X)), X[:, 0, -1, new_cases_index], s=40, color='r')\n",
    "ax.scatter(range(len(X_cnn_train)), X_cnn_train[:,0,-1,new_cases_index], s=20, label='train')\n",
    "ax.scatter(range(len(X_cnn_train), len(X_cnn_train)+len(X_cnn_validate)), X_cnn_validate[:,0,-1,new_cases_index], s=20, label='validate')\n",
    "ax.scatter(range(len(X_cnn_train)+len(X_cnn_validate), len(X)), X_cnn_test[:,0,-1,new_cases_index], s=20, label='test')\n",
    "# ax.plot(np.log(data.new_cases_per_million.values[start_date-1:-1]+1), color='k', alpha=0.2)\n",
    "# ax.plot(y, color='k')\n",
    "plt.legend()\n",
    "_ = plt.show()\n",
    "\n",
    "# Rescale to 0.5 to 1 to account for new maximums. How does this even help?        \n",
    "\n",
    "# Rescale to 0.5 to 1 to account for new maximums. How does this even help?        "
   ]
  },
  {
   "cell_type": "code",
   "execution_count": 32,
   "metadata": {},
   "outputs": [
    {
     "data": {
      "text/plain": [
       "2.3111048416057255e-15"
      ]
     },
     "execution_count": 32,
     "metadata": {},
     "output_type": "execute_result"
    }
   ],
   "source": [
    "train_tile_shape = np.array(np.array(X_cnn_train.shape)/np.array(frame_denom.shape),int)\n",
    "minmax_inverse_train = X_train - (((X_cnn_train / 0.5) * np.tile(frame_denom, train_tile_shape)) + np.tile(frame_min, train_tile_shape))\n",
    "np.linalg.norm(minmax_inverse_train)"
   ]
  },
  {
   "cell_type": "code",
   "execution_count": 33,
   "metadata": {},
   "outputs": [
    {
     "data": {
      "text/plain": [
       "0.0"
      ]
     },
     "execution_count": 33,
     "metadata": {},
     "output_type": "execute_result"
    }
   ],
   "source": [
    "validate_tile_shape = np.array(np.array(X_validate.shape)/np.array(latest_denom.shape),int)\n",
    "minmax_inverse_validate = X_validate - (((X_cnn_validate / 0.5) * np.tile(latest_denom,validate_tile_shape)) + np.tile(latest_min,validate_tile_shape))\n",
    "np.linalg.norm(minmax_inverse_validate)"
   ]
  },
  {
   "cell_type": "code",
   "execution_count": 34,
   "metadata": {},
   "outputs": [
    {
     "data": {
      "text/plain": [
       "0.0"
      ]
     },
     "execution_count": 34,
     "metadata": {},
     "output_type": "execute_result"
    }
   ],
   "source": [
    "test_tile_shape = np.array(np.array(X_cnn_test.shape)/np.array(latest_denom.shape),int)\n",
    "minmax_inverse_test = X_test - (((X_cnn_test / 0.5) * np.tile(latest_denom, test_tile_shape)) + np.tile(latest_min, test_tile_shape))\n",
    "np.linalg.norm(minmax_inverse_test)"
   ]
  },
  {
   "cell_type": "code",
   "execution_count": 35,
   "metadata": {},
   "outputs": [],
   "source": [
    "epochs = 100\n",
    "batch_size = 8\n",
    "learning_rate = 0.01\n",
    "kernel = 4\n",
    "N = 8\n",
    "FC = 8\n",
    "\n",
    "f1, f2 = 64, 8\n",
    "k1, k2 = 4, 4\n",
    "\n",
    "cnn_model2 = Sequential()\n",
    "cnn_model2.add(Conv1D(filters=int(f1), kernel_size=int(k1),\n",
    "                 padding='valid',\n",
    "                 input_shape=X_cnn_train.shape[2:],\n",
    "#                  activation='relu'\n",
    "                )\n",
    "         )\n",
    "cnn_model2.add(MaxPooling1D(pool_size=2))\n",
    "cnn_model2.add(Activation('relu'))\n",
    "cnn_model2.add(Conv1D(filters=int(f2), \n",
    "                 kernel_size=int(k2), \n",
    "                 padding='valid',\n",
    "#                  activation='relu'\n",
    "                )\n",
    "         )\n",
    "cnn_model2.add(MaxPooling1D(pool_size=2))\n",
    "cnn_model2.add(Activation('relu'))\n",
    "cnn_model2.add(Flatten())\n",
    "cnn_model2.add(Dense(cnn_model2.output.shape[1], \n",
    "                activation='relu'\n",
    "               )\n",
    "         )\n",
    "cnn_model2.add(Dense(1, activation='relu'))\n",
    "cnn_model2.compile(loss='mse', optimizer=Adam(learning_rate=learning_rate))\n",
    "history = cnn_model2.fit(X_cnn_train_model, y_cnn_train_model, epochs=epochs, validation_data=(X_cnn_validate_model, y_cnn_validate_model), \n",
    "          batch_size=batch_size, verbose=0)"
   ]
  },
  {
   "cell_type": "code",
   "execution_count": 36,
   "metadata": {},
   "outputs": [
    {
     "name": "stdout",
     "output_type": "stream",
     "text": [
      "Model: \"sequential_2\"\n",
      "_________________________________________________________________\n",
      "Layer (type)                 Output Shape              Param #   \n",
      "=================================================================\n",
      "conv1d_4 (Conv1D)            (None, 25, 64)            320       \n",
      "_________________________________________________________________\n",
      "max_pooling1d_4 (MaxPooling1 (None, 12, 64)            0         \n",
      "_________________________________________________________________\n",
      "activation_4 (Activation)    (None, 12, 64)            0         \n",
      "_________________________________________________________________\n",
      "conv1d_5 (Conv1D)            (None, 9, 8)              2056      \n",
      "_________________________________________________________________\n",
      "max_pooling1d_5 (MaxPooling1 (None, 4, 8)              0         \n",
      "_________________________________________________________________\n",
      "activation_5 (Activation)    (None, 4, 8)              0         \n",
      "_________________________________________________________________\n",
      "flatten_2 (Flatten)          (None, 32)                0         \n",
      "_________________________________________________________________\n",
      "dense_4 (Dense)              (None, 32)                1056      \n",
      "_________________________________________________________________\n",
      "dense_5 (Dense)              (None, 1)                 33        \n",
      "=================================================================\n",
      "Total params: 3,465\n",
      "Trainable params: 3,465\n",
      "Non-trainable params: 0\n",
      "_________________________________________________________________\n"
     ]
    }
   ],
   "source": [
    "cnn_model2.summary()"
   ]
  },
  {
   "cell_type": "code",
   "execution_count": 37,
   "metadata": {},
   "outputs": [
    {
     "data": {
      "image/png": "[encoded data removed]",
      "text/plain": [
       "<Figure size 432x288 with 1 Axes>"
      ]
     },
     "metadata": {
      "needs_background": "light"
     },
     "output_type": "display_data"
    },
    {
     "name": "stdout",
     "output_type": "stream",
     "text": [
      "There were 0 negative predictions\n",
      "1-step MSE [Naive, CNN model] = [0.04461793127306907,0.048309527758563654]\n",
      "1-step R^2 [Naive, CNN model] = [0.8011799815604812,0.814547594522381]\n"
     ]
    },
    {
     "data": {
      "image/png": "[encoded data removed]",
      "text/plain": [
       "<Figure size 1440x360 with 2 Axes>"
      ]
     },
     "metadata": {
      "needs_background": "light"
     },
     "output_type": "display_data"
    },
    {
     "name": "stdout",
     "output_type": "stream",
     "text": [
      "(97,) (97,) (97,)\n"
     ]
    },
    {
     "data": {
      "image/png": "[encoded data removed]",
      "text/plain": [
       "<Figure size 1440x360 with 4 Axes>"
      ]
     },
     "metadata": {
      "needs_background": "light"
     },
     "output_type": "display_data"
    },
    {
     "name": "stdout",
     "output_type": "stream",
     "text": [
      "There were 0 negative predictions\n",
      "1-step MSE [Naive, CNN model] = [0.014669814524830243,0.35302873286455744]\n",
      "1-step R^2 [Naive, CNN model] = [0.23399975995958056,0.2791449127031317]\n"
     ]
    },
    {
     "data": {
      "image/png": "[encoded data removed]",
      "text/plain": [
       "<Figure size 1440x360 with 2 Axes>"
      ]
     },
     "metadata": {
      "needs_background": "light"
     },
     "output_type": "display_data"
    },
    {
     "name": "stdout",
     "output_type": "stream",
     "text": [
      "(7,) (7,) (7,)\n"
     ]
    },
    {
     "data": {
      "image/png": "[encoded data removed]",
      "text/plain": [
       "<Figure size 1440x360 with 4 Axes>"
      ]
     },
     "metadata": {
      "needs_background": "light"
     },
     "output_type": "display_data"
    }
   ],
   "source": [
    "_ = plt.plot(history.history['loss'], label='loss')\n",
    "_ = plt.plot(history.history['val_loss'], label='val_loss')\n",
    "_ = plt.legend()\n",
    "_ = plt.show()\n",
    "\n",
    "y_true = y_cnn_train_model.ravel()\n",
    "# y_naive = X[:-n_validation_frames-n_test_frames, 0, -1, new_cases_index]\n",
    "# y_naive = np.exp(X[:-n_validation_frames-n_test_frames, 0, -1, new_cases_index])-1\n",
    "y_predict = cnn_model2.predict(X_cnn_train_model).ravel()\n",
    "# print(y_true.max(),y_naive.max(),y_predict.max())\n",
    "model_analysis(y_true, y_train_naive, y_predict, n_countries, title='CNN model', suptitle='Performance on training set')\n",
    "\n",
    "y_true = y_cnn_validate_model.ravel()\n",
    "# y_naive = X[-n_validation_frames-n_test_frames:-n_test_frames, 0, -1, new_cases_index]\n",
    "# y_naive = np.exp(X[-n_validation_frames-n_test_frames:-n_test_frames, 0, -1, new_cases_index])-1\n",
    "y_predict = cnn_model2.predict(X_cnn_validate_model).ravel()\n",
    "model_analysis(y_true, y_validate_naive, y_predict, n_countries, title='CNN model', suptitle='Performance on validation set')"
   ]
  },
  {
   "cell_type": "markdown",
   "metadata": {},
   "source": [
    "Time index to X relationship.\n",
    "\n",
    "    Last frame, last day of X is time_index() - n_days_into_future\n",
    "    last frame, first day is time_index() - n_days_into_future - frame_size\n",
    "    first frame, first day is start_date-frame_size\n",
    "    first frame, last day is start_date\n"
   ]
  },
  {
   "cell_type": "code",
   "execution_count": null,
   "metadata": {
    "scrolled": true
   },
   "outputs": [],
   "source": [
    "fig, ax = plt.subplots(1,1, figsize=(10,5))\n",
    "# ax.scatter(range(len(X)), X[:, 0, -1, new_cases_index], s=40, color='r')\n",
    "ax.scatter(range(len(X_cnn_train)), X_cnn_train[:,0,-1,new_cases_index], s=20, label='train')\n",
    "ax.scatter(range(len(X_cnn_train), len(X_cnn_train)+len(X_cnn_validate)), X_cnn_validate[:,0,-1,new_cases_index], s=20, label='validate')\n",
    "ax.scatter(range(len(X_cnn_train)+len(X_cnn_validate), len(X)), X_cnn_test[:,0,-1,new_cases_index], s=20, label='test')\n",
    "# ax.plot(np.log(data.new_cases_per_million.values[start_date:]+1), color='k', alpha=0.2)\n",
    "plt.legend()\n",
    "_ = plt.show()"
   ]
  },
  {
   "cell_type": "code",
   "execution_count": null,
   "metadata": {},
   "outputs": [],
   "source": [
    "cnn_model.summary()"
   ]
  },
  {
   "cell_type": "code",
   "execution_count": null,
   "metadata": {},
   "outputs": [],
   "source": [
    "_ = plt.plot(history.history['loss'], label='loss')\n",
    "_ = plt.plot(history.history['val_loss'], label='val_loss')\n",
    "_ = plt.legend()\n",
    "_ = plt.show()\n",
    "\n",
    "y_true = y_train.ravel()\n",
    "y_naive = X[:-n_validation_frames-n_test_frames, 0, -1, new_cases_index]\n",
    "# y_naive = np.exp(X[:-n_validation_frames-n_test_frames, 0, -1, new_cases_index])-1\n",
    "y_predict = cnn_model.predict(X_cnn_train_model).ravel()\n",
    "print(y_true.max(),y_naive.max(),y_predict.max())\n",
    "model_analysis(y_true, y_naive, y_predict, title='CNN')\n",
    "\n",
    "y_true = y_validate.ravel()\n",
    "y_naive = X[-n_validation_frames-n_test_frames:-n_test_frames, 0, -1, new_cases_index]\n",
    "# y_naive = np.exp(X[-n_validation_frames-n_test_frames:-n_test_frames, 0, -1, new_cases_index])-1\n",
    "y_predict = cnn_model.predict(X_cnn_validate_model).ravel()\n",
    "model_analysis(y_true, y_naive, y_predict, title='CNN')"
   ]
  },
  {
   "cell_type": "code",
   "execution_count": null,
   "metadata": {},
   "outputs": [],
   "source": [
    "# np.concatenate(X.reshape(-1, *X.shape[1:]), axis=0)[0,-1,0]\n",
    "# time_slice(data.iloc[:,1:], start_date,start_date+frame_size).apply(lambda x: np.log(x+1))\n",
    "# np.concatenate(X.reshape(-1, *X.shape[1:]), axis=0)[-1,-5:,0]"
   ]
  },
  {
   "cell_type": "code",
   "execution_count": null,
   "metadata": {},
   "outputs": [],
   "source": [
    "# np.concatenate(X_train.reshape(-1, *X_train.shape[1:]), axis=0).shape\n",
    "# np.concatenate(X_train.reshape(-1, *X_train.shape[1:]), axis=0)[-1,-1,0]\n",
    "# np.concatenate(X.reshape(-1, *X.shape[1:]), axis=0)[-9,-1,0]"
   ]
  },
  {
   "cell_type": "code",
   "execution_count": null,
   "metadata": {},
   "outputs": [],
   "source": [
    "# y_train[-5:]\n",
    "# data.new_cases_per_million.apply(lambda x: np.log(x+1))[-10:]"
   ]
  },
  {
   "cell_type": "code",
   "execution_count": null,
   "metadata": {},
   "outputs": [],
   "source": [
    "# y_true = y_validate.ravel()\n",
    "# y_naive = X[-n_validation_frames-n_test_frames:-n_test_frames, 0, -1, new_cases_index]\n",
    "# y_predict = model.predict(X_validate).ravel()"
   ]
  },
  {
   "cell_type": "code",
   "execution_count": null,
   "metadata": {},
   "outputs": [],
   "source": [
    "# print('There were {} negative predictions'.format(len(y_predict[y_predict<0])))\n",
    "# y_predict[y_predict<0]=0\n",
    "\n",
    "\n",
    "# mae_train_naive = mean_absolute_error(y_true.ravel(), y_naive.ravel())\n",
    "# mae_predict = mean_absolute_error(y_true.ravel(), y_predict)\n",
    "# r2_train_naive = explained_variance_score(y_true.ravel(), y_naive.ravel())\n",
    "# r2_predict = explained_variance_score(y_true.ravel(), y_predict)\n",
    "\n",
    "# print('{}-step MSE [Naive, CNN] = [{},{}]'.format(\n",
    "# n_days_into_future, mae_train_naive, mae_predict))\n",
    "# print('{}-step R^2 [Naive, CNN] = [{},{}]'.format(\n",
    "# n_days_into_future, r2_train_naive, r2_predict))\n",
    "\n",
    "# true_predict_plot(y_true.ravel(), y_naive.ravel(), y_predict, title='CNN model')\n",
    "# residual_diff_plots(y_true.ravel(), y_naive.ravel(), y_predict , n_days_into_future, data.location.nunique())"
   ]
  },
  {
   "cell_type": "code",
   "execution_count": null,
   "metadata": {},
   "outputs": [],
   "source": [
    "# mae_naive = mean_squared_error(y_validate, y_naive)\n",
    "# mae_predict = mean_squared_error(y_validate, y_predict)\n",
    "# r2_naive = explained_variance_score(y_validate, y_naive)\n",
    "# r2_predict = explained_variance_score(y_validate, y_predict)\n",
    "\n",
    "# print('{}-step MSE [Naive, CNN] = [{},{}]'.format(\n",
    "# n_days_into_future, mae_naive, mae_predict))\n",
    "# print('{}-step R^2 [Naive, CNN] = [{},{}]'.format(\n",
    "# n_days_into_future, r2_naive, r2_predict))"
   ]
  },
  {
   "cell_type": "code",
   "execution_count": null,
   "metadata": {},
   "outputs": [],
   "source": [
    "# true_predict_plot(y_validate, y_naive, y_predict, title='')\n",
    "# residual_diff_plots(y_validate.ravel(),y_naive, y_predict, n_days_into_future, n_countries)"
   ]
  },
  {
   "cell_type": "markdown",
   "metadata": {},
   "source": [
    "Scatter plots of train, validate, test sets, by plotting all values in black first I can ensure that the points\n",
    "are correctly ordered and at the correct values because it makes the rest of the points look like they have black borders.\n",
    "The \"missing\" data point at the end is because it is in the prediction variable y, and not in X."
   ]
  },
  {
   "cell_type": "markdown",
   "metadata": {},
   "source": [
    "At first the following plot looks wrong because y looks like it is 1-day behind but this is only because I am\n",
    "not providing the time values. I.e. the 5th value of y is actually the 6th value of X. "
   ]
  },
  {
   "cell_type": "code",
   "execution_count": null,
   "metadata": {},
   "outputs": [],
   "source": [
    "plt.plot(X[-30:,0,-1,:], label='x')\n",
    "plt.plot(y[-30:], label='y')\n",
    "plt.legend()\n",
    "plt.show()"
   ]
  },
  {
   "cell_type": "code",
   "execution_count": null,
   "metadata": {},
   "outputs": [],
   "source": [
    "fig, ax = plt.subplots(1,1, figsize=(10,5))\n",
    "ax.scatter(range(len(X)), X[:,np.where(data.location.unique()=='United States')[0],-1,new_cases_index], s=30,color='k')\n",
    "ax.scatter(range(len(X_train)), X_train[:,np.where(data.location.unique()=='United States')[0],-1,new_cases_index], s=10, label='train')\n",
    "ax.scatter(range(len(X_train), len(X_train)+len(X_validate)), X_validate[:,np.where(data.location.unique()=='United States')[0],-1,new_cases_index], s=10, label='validate')\n",
    "ax.scatter(range(len(X_train)+len(X_validate), len(X)), X_test[:,np.where(data.location.unique()=='United States')[0],-1,new_cases_index], s=10, label='test')\n",
    "ax.plot(data[data.location=='United States'].new_cases_per_million.values[frame_size-1:-1], color='k',alpha=0.2)\n",
    "plt.legend()\n",
    "_ = plt.show()\n",
    "# plt.plot(X_validate[:,0,-1,:])"
   ]
  },
  {
   "cell_type": "code",
   "execution_count": null,
   "metadata": {},
   "outputs": [],
   "source": [
    "r_data = pd.read_csv('regression_data.csv', index_col=0)\n",
    "# r_data = r_data[r_data.location == 'United States']"
   ]
  },
  {
   "cell_type": "code",
   "execution_count": null,
   "metadata": {},
   "outputs": [],
   "source": []
  },
  {
   "cell_type": "markdown",
   "metadata": {},
   "source": [
    "# Regression\n"
   ]
  },
  {
   "cell_type": "markdown",
   "metadata": {},
   "source": [
    "# unscaled single feature regression"
   ]
  },
  {
   "cell_type": "markdown",
   "metadata": {},
   "source": [
    "I only use 1 feature in the CNN model, I understand that regression and CNN are fundamentally different but does\n",
    "this mean I should only be using 1 feature for a fair baseline comparison?"
   ]
  },
  {
   "cell_type": "code",
   "execution_count": null,
   "metadata": {},
   "outputs": [],
   "source": [
    "n_prune = 2\n",
    "mae_list_naive = []\n",
    "r2_list_naive = []\n",
    "mae_list_predict = []\n",
    "r2_list_predict = []\n",
    "# data = data[r_data.time_index >= first_day]\n",
    "r_model_data = r_data.new_cases_per_million.to_frame().copy()#.apply(lambda x : np.log(x+1))\n",
    "new_cases_index = column_search(r_model_data,'new_cases_per_million',threshold='match', return_style='iloc')[0]\n",
    "n_countries = r_data.location.nunique()\n",
    "target_data = r_data.new_cases_per_million\n",
    "time_index = r_data.time_index.astype(int)\n",
    "frame_size = 28\n",
    "start_date = 2*frame_size #+ time_index.min()\n",
    "# start_date = 50\n",
    "n_validation_frames = 7\n",
    "n_test_frames = 1\n",
    "n_days_into_future = 1\n",
    "train_or_test = 'train'"
   ]
  },
  {
   "cell_type": "code",
   "execution_count": null,
   "metadata": {},
   "outputs": [],
   "source": [
    "X, y = create_Xy(r_model_data, target_data, time_index, start_date, frame_size, n_days_into_future, n_countries)\n",
    "n_features = X.shape[-1]\n",
    "last_day_new_cases_index = np.ravel_multi_index([[frame_size-1],[new_cases_index]],(frame_size, n_features))\n",
    "splits, indices = split_Xy(X, y, frame_size, n_validation_frames, n_test_frames,model_type='ridge')\n",
    "(train_indices, validate_indices, test_indices) = indices\n",
    "X_for_naive_slicing = np.concatenate(X.reshape(X.shape[0], X.shape[1], -1), axis=0)\n",
    "y_train_naive = X_for_naive_slicing[train_indices, last_day_new_cases_index]\n",
    "y_validate_naive =  X_for_naive_slicing[validate_indices, last_day_new_cases_index]\n",
    "y_test_naive =  X_for_naive_slicing[test_indices, last_day_new_cases_index]\n",
    "\n",
    "# The normalization is alot easier if I split into train, validate, test but this makes other parts more annoying\n",
    "scaled_splits = normalize_Xy_splits(splits, feature_range=(0., 0.5), normalization_method='minmax',\n",
    "                        train_test_only=False, feature_indices=None)\n",
    "\n",
    "flat_splits = flatten_Xy_splits(splits)\n",
    "(X_regression_train, y_regression_train, X_regression_validate,\n",
    " y_regression_validate, X_regression_test, y_regression_test) = flat_splits"
   ]
  },
  {
   "cell_type": "code",
   "execution_count": null,
   "metadata": {},
   "outputs": [],
   "source": [
    "scaled_splits, frame_minmax, latest_minmax =  normalize_Xy_splits(splits, feature_range=(0,0.5), \n",
    "                                                                  normalization_method='minmax',\n",
    "                                                                  train_test_only=False,\n",
    "                                                                  feature_indices=None)\n",
    "\n",
    "validate_tile_shape = np.array(np.array(X_validate.shape)/np.array(latest_denom.shape),int)\n",
    "X_validate - (((X_cnn_validate / 0.5) * np.tile(latest_denom,validate_tile_shape)) + np.tile(latest_min,validate_tile_shape))\n",
    "(latest_max, latest_min, latest_denom) = latest_minmax"
   ]
  },
  {
   "cell_type": "code",
   "execution_count": null,
   "metadata": {},
   "outputs": [],
   "source": [
    "X_regression_train.max(), X_regression_train.min()"
   ]
  },
  {
   "cell_type": "code",
   "execution_count": null,
   "metadata": {},
   "outputs": [],
   "source": [
    "X_regression_validate.max(), X_regression_validate.min()"
   ]
  },
  {
   "cell_type": "code",
   "execution_count": null,
   "metadata": {},
   "outputs": [],
   "source": [
    "X_regression_test.max(), X_regression_test.min()"
   ]
  },
  {
   "cell_type": "code",
   "execution_count": null,
   "metadata": {},
   "outputs": [],
   "source": [
    "y_train_naive = X_for_naive_slicing[train_indices, last_day_new_cases_index]\n",
    "y_validate_naive =  X_for_naive_slicing[validate_indices, last_day_new_cases_index]\n",
    "y_test_naive =  X_for_naive_slicing[test_indices, last_day_new_cases_index]"
   ]
  },
  {
   "cell_type": "code",
   "execution_count": null,
   "metadata": {},
   "outputs": [],
   "source": [
    "print(X_regression_train.shape,X_regression_validate.shape,X_regression_test.shape)"
   ]
  },
  {
   "cell_type": "code",
   "execution_count": null,
   "metadata": {},
   "outputs": [],
   "source": [
    "print(y_regression_train.shape,y_regression_validate.shape,y_regression_test.shape)"
   ]
  },
  {
   "cell_type": "markdown",
   "metadata": {},
   "source": [
    "Each row is a frame of frame_size days of new_cases_per_million data for a single country. So the number of rows equals\n",
    "n_countries times frame_size"
   ]
  },
  {
   "cell_type": "markdown",
   "metadata": {},
   "source": [
    "This transformation (slicing off last row) is because X_regression is both training and validation\n",
    "data to be sliced by the train, validation indices passed to Ridge CV. i.e. the holdout set is being held out."
   ]
  },
  {
   "cell_type": "code",
   "execution_count": null,
   "metadata": {},
   "outputs": [],
   "source": [
    "X_regression = np.concatenate((X_regression_train, X_regression_validate),axis=0)\n",
    "y_regression = np.concatenate((y_regression_train, y_regression_validate),axis=0)\n",
    "\n",
    "scorer = make_scorer(mean_squared_error, greater_is_better=False)\n",
    "regression_model = RidgeCV(scoring=scorer, cv=[[train_indices, validate_indices]]) \n",
    "_ = regression_model.fit(X_regression, y_regression)"
   ]
  },
  {
   "cell_type": "code",
   "execution_count": null,
   "metadata": {},
   "outputs": [],
   "source": [
    "y_true = y_regression[train_indices]\n",
    "y_naive =  y_train_naive\n",
    "y_predict = regression_model.predict(X_regression_train).ravel()\n",
    "\n",
    "model_analysis(y_true, y_naive, y_predict, n_countries, title='Ridge regression model', suptitle='Performance on training set')"
   ]
  },
  {
   "cell_type": "code",
   "execution_count": null,
   "metadata": {},
   "outputs": [],
   "source": [
    "y_true = y_regression_validate.ravel()\n",
    "y_naive =  y_validate_naive\n",
    "y_predict = regression_model.predict(X_regression_validate).ravel()\n",
    "model_analysis(y_true, y_naive, y_predict, n_countries,title='Ridge regression model', suptitle='Performance on validation set')"
   ]
  },
  {
   "cell_type": "markdown",
   "metadata": {},
   "source": [
    "# scaled single feature"
   ]
  },
  {
   "cell_type": "code",
   "execution_count": null,
   "metadata": {},
   "outputs": [],
   "source": [
    "n_prune = 2\n",
    "mae_list_naive = []\n",
    "r2_list_naive = []\n",
    "mae_list_predict = []\n",
    "r2_list_predict = []\n",
    "# data = data[r_data.time_index >= first_day]\n",
    "r_model_data = r_data.new_cases_per_million.to_frame().copy()#.apply(lambda x : np.log(x+1))\n",
    "new_cases_index = column_search(r_model_data,'new_cases_per_million',threshold='match', return_style='iloc')[0]\n",
    "n_countries = r_data.location.nunique()\n",
    "target_data = r_data.new_cases_per_million\n",
    "time_index = r_data.time_index\n",
    "frame_size = 28\n",
    "start_date = 2*frame_size #+ time_index.min()\n",
    "# start_date = 50\n",
    "n_validation_frames = 7\n",
    "n_test_frames = 1\n",
    "n_days_into_future = 1\n",
    "train_or_test = 'train'"
   ]
  },
  {
   "cell_type": "code",
   "execution_count": null,
   "metadata": {},
   "outputs": [],
   "source": [
    "X, y = create_Xy(r_model_data, target_data, time_index, start_date, frame_size, n_days_into_future, n_countries)\n",
    "n_features = X.shape[-1]\n",
    "last_day_new_cases_index = np.ravel_multi_index([[frame_size-1],[new_cases_index]],(frame_size, n_features))\n",
    "splits, indices = split_Xy(X, y, frame_size, n_validation_frames, n_test_frames,model_type='ridge')\n",
    "(train_indices, validate_indices, test_indices) = indices\n",
    "\n",
    "(X_train, y_train, X_validate, y_validate, X_test, y_test) = splits\n",
    "\n",
    "X_for_naive_slicing = np.concatenate(X.reshape(X.shape[0], X.shape[1], -1), axis=0)\n",
    "\n",
    "\n",
    "# The normalization is alot easier if I split into train, validate, test but this makes other parts more annoying\n",
    "scaled_splits = normalize_Xy_splits(splits, feature_range=(0., 0.5), normalization_method='minmax',\n",
    "                        train_test_only=False, feature_indices=None)\n",
    "\n",
    "flat_splits = flatten_Xy_splits(scaled_splits)\n",
    "\n",
    "(X_regression_train, y_regression_train, X_regression_validate,\n",
    " y_regression_validate, X_regression_test, y_regression_test) = flat_splits\n",
    "\n",
    "y_train_naive = X_for_naive_slicing[train_indices, last_day_new_cases_index]\n",
    "y_validate_naive =  X_for_naive_slicing[validate_indices, last_day_new_cases_index]\n",
    "y_test_naive =  X_for_naive_slicing[test_indices, last_day_new_cases_index]"
   ]
  },
  {
   "cell_type": "code",
   "execution_count": null,
   "metadata": {},
   "outputs": [],
   "source": [
    "X_regression = np.concatenate((X_regression_train, X_regression_validate),axis=0)\n",
    "y_regression = np.concatenate((y_regression_train, y_regression_validate),axis=0)\n",
    "\n",
    "scorer = make_scorer(mean_squared_error, greater_is_better=False)\n",
    "regression_model = RidgeCV(scoring=scorer, cv=[[train_indices, validate_indices]]) \n",
    "_ = regression_model.fit(X_regression, y_regression)"
   ]
  },
  {
   "cell_type": "code",
   "execution_count": null,
   "metadata": {},
   "outputs": [],
   "source": [
    "X_regression.max()"
   ]
  },
  {
   "cell_type": "code",
   "execution_count": null,
   "metadata": {},
   "outputs": [],
   "source": [
    "y_true = y_regression[train_indices]\n",
    "y_naive =  y_train_naive\n",
    "y_predict = regression_model.predict(X_regression_train).ravel()\n",
    "model_analysis(y_true, y_naive, y_predict, n_countries, title='Ridge', suptitle='Scaled predictor training set performance')"
   ]
  },
  {
   "cell_type": "code",
   "execution_count": null,
   "metadata": {},
   "outputs": [],
   "source": [
    "y_true = y_regression_validate.ravel()\n",
    "y_naive =  y_validate_naive\n",
    "y_predict = regression_model.predict(X_regression_validate).ravel()\n",
    "model_analysis(y_true, y_naive, y_predict, n_countries, title='Ridge', suptitle='Scaled predictor validation set performance')"
   ]
  },
  {
   "cell_type": "markdown",
   "metadata": {},
   "source": [
    "# \"All\" feature prediction"
   ]
  },
  {
   "cell_type": "code",
   "execution_count": null,
   "metadata": {},
   "outputs": [],
   "source": [
    "n_prune = 2\n",
    "mae_list_naive = []\n",
    "r2_list_naive = []\n",
    "mae_list_predict = []\n",
    "r2_list_predict = []\n",
    "# data = data[r_data.time_index >= first_day]\n",
    "r_model_data = r_data.iloc[:,2:].copy()#.apply(lambda x : np.log(x+1))\n",
    "new_cases_index = column_search(r_model_data,'new_cases_per_million',threshold='match', return_style='iloc')[0]\n",
    "n_countries = r_data.location.nunique()\n",
    "target_data = r_data.new_cases_per_million\n",
    "time_index = r_data.time_index\n",
    "frame_size = 28\n",
    "start_date = 2*frame_size #+ time_index.min()\n",
    "# start_date = 50\n",
    "n_validation_frames = 7\n",
    "n_test_frames = 1\n",
    "n_days_into_future = 1\n",
    "train_or_test = 'train'"
   ]
  },
  {
   "cell_type": "markdown",
   "metadata": {},
   "source": [
    "# Final predictions for comparison"
   ]
  },
  {
   "cell_type": "code",
   "execution_count": null,
   "metadata": {},
   "outputs": [],
   "source": [
    "X, y = create_Xy(r_model_data, target_data, time_index, start_date, frame_size, n_days_into_future, n_countries)\n",
    "n_features = X.shape[-1]\n",
    "last_day_new_cases_index = np.ravel_multi_index([[frame_size-1],[new_cases_index]],(frame_size, n_features))\n",
    "splits, indices = split_Xy(X, y, frame_size, n_validation_frames, n_test_frames,model_type='ridge')\n",
    "(train_indices, validate_indices, test_indices) = indices\n",
    "X_for_naive_slicing = np.concatenate(X.reshape(X.shape[0], X.shape[1], -1), axis=0)\n",
    "\n",
    "\n",
    "# The normalization is alot easier if I split into train, validate, test but this makes other parts more annoying\n",
    "scaled_splits = normalize_Xy_splits(splits, feature_range=(0., 0.5), normalization_method='minmax',\n",
    "                        train_test_only=False, feature_indices=None)\n",
    "\n",
    "flat_splits = flatten_Xy_splits(scaled_splits)\n",
    "\n",
    "(X_regression_train, y_regression_train, X_regression_validate,\n",
    " y_regression_validate, X_regression_test, y_regression_test) = flat_splits\n",
    "\n",
    "y_train_naive = X_for_naive_slicing[train_indices, last_day_new_cases_index]\n",
    "y_validate_naive =  X_for_naive_slicing[validate_indices, last_day_new_cases_index]\n",
    "y_test_naive =  X_for_naive_slicing[test_indices, last_day_new_cases_index]"
   ]
  },
  {
   "cell_type": "code",
   "execution_count": null,
   "metadata": {},
   "outputs": [],
   "source": [
    "y_naive = X_test\n",
    "y_true = y_test\n",
    "y_predict_r = regression_model.predict(X_test)\n",
    "y_predict_c = cnn_model.predict(X_test)"
   ]
  },
  {
   "cell_type": "code",
   "execution_count": null,
   "metadata": {},
   "outputs": [],
   "source": []
  },
  {
   "cell_type": "code",
   "execution_count": null,
   "metadata": {},
   "outputs": [],
   "source": [
    "from sklearn.metrics import make_scorer"
   ]
  },
  {
   "cell_type": "code",
   "execution_count": null,
   "metadata": {},
   "outputs": [],
   "source": [
    "# for max_date_in_window in range(start_date, time_index.max() - n_days_into_future + 1):\n",
    "#     # Take all model_data with date proxy less than numerical value, leading_window_date_not_included\n",
    "#     frame_data = model_data[(time_index <= max_date_in_window) & \n",
    "#                             (time_index > max_date_in_window-frame_size)]\n",
    "#     #     print(frame_data.shape)\n",
    "#     # Reshape the array such that each element along axis=0 is a time series of all feature model_data of a specific country.\n",
    "#     reshaped_frame_data = frame_data.values.reshape(n_countries, frame_size, -1)\n",
    "#     #     print(reshaped_frame_data.shape)\n",
    "#     # Truncate / pad the windows along the \"time\" axis, axis=1. (pad_sequences takes in an iterable of iterables;\n",
    "#     # the first axis is always the default iteration axis. \n",
    "#     # *********************** WARNING: pad_sequences converts to integers by default *********************\n",
    "#     resized_frame_data = pad_sequences(reshaped_frame_data, maxlen=frame_size, dtype=np.float64)\n",
    "#     frame_data_4D = resized_frame_data[np.newaxis, :, :, :]\n",
    "#     if max_date_in_window == start_date:\n",
    "#         X = frame_data_4D.copy()\n",
    "#     else:\n",
    "#         X = np.concatenate((X, frame_data_4D),axis=0)\n",
    "\n",
    "        \n",
    "# y = target_data.values[-X.shape[0]:].reshape(-1,1)\n",
    "# y_time_index = time_index.values[-X.shape[0]:].reshape(-1,1)\n",
    "# # y = target_data.values.transpose()[-X.shape[0]:,:]\n",
    "# # y_time_index = time_index.values.reshape(-1, time_index.nunique()).transpose()[-X.shape[0]:]\n",
    "\n",
    "# y_train =  y[:-(n_validation_frames+n_test_frames),:]\n",
    "# y_validate = y[-(n_validation_frames+n_test_frames):-n_test_frames, :]\n",
    "# X_train= X[:-(n_validation_frames+n_test_frames),:,:,:]\n",
    "# y_train =  y[:-(n_validation_frames+n_test_frames),:]\n",
    "# X_validate = X[-(n_validation_frames+n_test_frames):-n_test_frames, :, :, :]\n",
    "# y_validate = y[-(n_validation_frames+n_test_frames):-n_test_frames, :]\n",
    "# X_test = X[-n_test_frames:, :, :, :] \n",
    "# y_test = y[-n_test_frames:, :]\n",
    "# splits =  (X_train, y_train, X_validate, y_validate,\n",
    "#            X_test, y_test)\n",
    "\n",
    "# y_train_time = y_time_index[:-(n_validation_frames+n_test_frames),:]\n",
    "# y_validate_time = y_time_index[-(n_validation_frames+n_test_frames):-n_test_frames, :]\n",
    "# y_test_time = y_time_index[-n_test_frames:, :]\n",
    "\n",
    "# Before normalization, plot the splits \n",
    "\n",
    "#     # Note that the last frame (date_range) that exists in X has already been determined by the choice of the number\n",
    "#     # of steps to predict in the future, this is only slicing the frames. \n",
    "#     if train_test_only:\n",
    "#         (X_train, y_train, X_test, y_test) = splits\n",
    "#     else:\n",
    "#         (X_train, y_train, X_validate, y_validate, X_test, y_test) = splits\n",
    "\n",
    "# #     if normalization_method=='minmax':\n",
    "#         # To encapsulate the time-dependent nature of the problem and ignore the dramatic difference between current\n",
    "#         # and initial behavior, only rescale the validation and testing frames by the most recent frame's values.\n",
    "#         # There is only a single value per feature in this case, meaning that to rescale, the values need to\n",
    "#         # be repeated for each validation, test frame for each country for each timestep.\n",
    "#     X_min = X_train.min(axis=(2))\n",
    "#     X_max = X_train.max(axis=(2))\n",
    "\n",
    "\n",
    "#     X_train_scaled = minmax(X_train, X_min[:, :, np.newaxis, :],\n",
    "#                     X_max[:, :, np.newaxis, :])\n",
    "#     X_test_scaled = minmax(X_test, X_min[-1][np.newaxis, :, np.newaxis, :], \n",
    "#                            X_max[-1][np.newaxis, :, np.newaxis, :])\n",
    "#     if train_test_only:\n",
    "#     # Normalize the training data by each frame's specific mean and std deviation. \n",
    "#         splits = (X_train_scaled, y_train, X_test_scaled, y_test)\n",
    "#     else:\n",
    "#         X_validate_scaled = minmax(X_validate, X_min[-1,:][np.newaxis, :, np.newaxis, :], \n",
    "#                                    X_max[-1,:][np.newaxis, :, np.newaxis, :])\n",
    "#         splits = (X_train_scaled, y_train, X_validate_scaled, y_validate, X_test_scaled, y_test)\n"
   ]
  },
  {
   "cell_type": "code",
   "execution_count": null,
   "metadata": {},
   "outputs": [],
   "source": [
    "# for max_date_in_window in range(start_date, time_index.max() - n_days_into_future + 2):\n",
    "#     # Take all model_data with date proxy less than numerical value, leading_window_date_not_included\n",
    "#     frame_data = model_data[(time_index <= max_date_in_window - 1) & \n",
    "#                             (time_index >= max_date_in_window-frame_size)]\n",
    "#     #     print(frame_data.shape)\n",
    "#     # Reshape the array such that each element along axis=0 is a time series of all feature model_data of a specific country.\n",
    "#     reshaped_frame_data = frame_data.values.reshape(n_countries, frame_size, -1)\n",
    "#     #     print(reshaped_frame_data.shape)\n",
    "#     # Truncate / pad the windows along the \"time\" axis, axis=1. (pad_sequences takes in an iterable of iterables;\n",
    "#     # the first axis is always the default iteration axis. \n",
    "#     # *********************** WARNING: pad_sequences converts to integers by default *********************\n",
    "#     resized_frame_data = pad_sequences(reshaped_frame_data, maxlen=frame_size, dtype=np.float64)\n",
    "#     frame_data_4D = resized_frame_data[np.newaxis, :, :, :]\n",
    "# #     break\n",
    "#     if max_date_in_window == start_date:\n",
    "#         print('Starting with frame ranging time_index values:', max_date_in_window-frame_size, max_date_in_window - 1)\n",
    "\n",
    "#         X = frame_data_4D.copy()\n",
    "#     else:\n",
    "#         X = np.concatenate((X, frame_data_4D),axis=0)\n",
    "# print('Ending with frame ranging time_index values:', max_date_in_window-frame_size, max_date_in_window - 1)\n",
    "# y = target_data.values.reshape(-1, time_index.nunique()).transpose()[-X.shape[0]:,:]\n"
   ]
  },
  {
   "cell_type": "code",
   "execution_count": null,
   "metadata": {},
   "outputs": [],
   "source": []
  },
  {
   "cell_type": "code",
   "execution_count": null,
   "metadata": {},
   "outputs": [],
   "source": []
  }
 ],
 "metadata": {
  "kernelspec": {
   "display_name": "Python 3",
   "language": "python",
   "name": "python3"
  },
  "language_info": {
   "codemirror_mode": {
    "name": "ipython",
    "version": 3
   },
   "file_extension": ".py",
   "mimetype": "text/x-python",
   "name": "python",
   "nbconvert_exporter": "python",
   "pygments_lexer": "ipython3",
   "version": "3.7.6"
  }
 },
 "nbformat": 4,
 "nbformat_minor": 4
}
