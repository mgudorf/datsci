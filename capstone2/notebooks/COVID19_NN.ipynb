{
 "cells": [
  {
   "cell_type": "code",
   "execution_count": 1,
   "metadata": {},
   "outputs": [],
   "source": [
    "import numpy as np\n",
    "import pandas as pd\n",
    "import seaborn as sns\n",
    "import matplotlib.pyplot as plt\n",
    "import os\n",
    "import sys\n",
    "import re\n",
    "import warnings\n",
    "import itertools\n",
    "warnings.simplefilter(action='ignore', category=FutureWarning)\n",
    "from tensorflow.keras import Input, Model\n",
    "from tensorflow.keras.initializers import RandomNormal\n",
    "from tensorflow.keras.models import Sequential\n",
    "from tensorflow.keras.layers import Dense, Flatten\n",
    "from tensorflow.keras.preprocessing.sequence import pad_sequences\n",
    "from tensorflow.keras.optimizers import Adam\n",
    "from sklearn.metrics import mean_absolute_error, explained_variance_score, mean_squared_error, make_scorer\n",
    "warnings.resetwarnings()"
   ]
  },
  {
   "cell_type": "markdown",
   "metadata": {},
   "source": [
    "# COVID-19 prediction using a fully connected neural network \n",
    "<a id='toc'></a>\n",
    "\n",
    "## Table of contents\n",
    "\n",
    "## [1. Introduction](#intro)\n",
    "## [2. Data](#data)\n",
    "## [3. Ridge Regression](#model)\n",
    "## [4. Analysis](#analysis)\n",
    "## [5. Conclusion and Future Work](#conclusion)"
   ]
  },
  {
   "cell_type": "markdown",
   "metadata": {},
   "source": [
    "# 1. Introduction\n",
    "\n",
    "This notebook explores the viability of a fully connected neural network for the prediction of future COVID-19 cases (per million people). The architecture of the neural network is held constant in this notebook, but the possibilities are endless. Some other architectures were tried but they are left out of this notebook so that it is easier to follow."
   ]
  },
  {
   "cell_type": "code",
   "execution_count": 2,
   "metadata": {},
   "outputs": [],
   "source": [
    "############### Helper functions in case of debugging/data introspection############\n",
    "def column_search(df, name, return_style='loc', threshold='contains'):\n",
    "    if threshold=='contains':\n",
    "        func = df.columns.str.contains\n",
    "    else:\n",
    "        func = df.columns.str.match\n",
    "        \n",
    "    if return_style == 'loc':\n",
    "        return df.columns[func(name)]\n",
    "    elif return_style== 'iloc':\n",
    "        return np.where(func(name))[0]\n",
    "    else:\n",
    "        return None\n",
    "\n",
    "def residual_plot(y_test, y_predict, title='', ax=None):\n",
    "    if ax is None:\n",
    "        fig, ax = plt.subplots()\n",
    "    ax.scatter(y_test, y_test-y_predict.ravel(), s=5)\n",
    "    ax.set_ylabel('Residual')\n",
    "    ax.set_xlabel('True value')\n",
    "    ax.grid(True)\n",
    "    return None\n",
    "\n",
    "def create_Xy(model_data, target_data, time_index, start_date, frame_size, n_days_into_future, n_countries):\n",
    "    # Iterate over the dates and create the frames of width frame_size.\n",
    "    for max_date_in_window in range(start_date, time_index.max() - n_days_into_future + 2):\n",
    "        # Take all model_data with date proxy less than numerical value, leading_window_date_not_included\n",
    "        frame_data = model_data[(time_index <= max_date_in_window-1) & \n",
    "                                (time_index >= max_date_in_window-frame_size)]\n",
    "\n",
    "        reshaped_frame_data = frame_data.values.reshape(n_countries, frame_size, -1)\n",
    "\n",
    "        resized_frame_data = pad_sequences(reshaped_frame_data, maxlen=frame_size, dtype=np.float64)\n",
    "        frame_data_4D = resized_frame_data[np.newaxis, :, :, :]\n",
    "        # The frames \n",
    "        if max_date_in_window == start_date:\n",
    "            print('Starting with frame spanning the time_index values:', \n",
    "                  max_date_in_window-frame_size, max_date_in_window - 1)\n",
    "            X = frame_data_4D.copy()\n",
    "        else:\n",
    "            X = np.concatenate((X, frame_data_4D),axis=0)\n",
    "    print('Ending with frame spanning the time_index values:',\n",
    "          max_date_in_window-frame_size, max_date_in_window - 1)\n",
    "    y = target_data.values.reshape(-1, time_index.nunique()).transpose()[-X.shape[0]:,:]\n",
    "    return X, y\n",
    "\n",
    "def split_Xy(X, y, frame_size, n_validation_frames, n_test_frames, train_test_only=False, model_type='cnn'):\n",
    "    \"\"\" Split into training, validation and test data.\n",
    "    \"\"\"\n",
    "    # the indices for the train-validate-test splits for when the predictors are put in a 2-d format.\n",
    "    train_indices = list(range(n_countries*0, n_countries*(len(X)-(n_validation_frames+n_test_frames))))\n",
    "    validate_indices = list(range(n_countries*(len(X)-(n_validation_frames+n_test_frames)), n_countries*(len(X)-n_test_frames)))\n",
    "    test_indices = list(range(n_countries*(len(X)-n_test_frames), n_countries*len(X)))\n",
    "    indices = (train_indices, validate_indices, test_indices)\n",
    "\n",
    "    # Note that the last frame (date_range) that exists in X has already been determined by the choice of the number\n",
    "    # of steps to predict in the future, this is only slicing the frames. \n",
    "    if train_test_only:\n",
    "        X_train= X[:-n_test_frames,:,:,:]\n",
    "        y_train =  y[:-n_test_frames,:]\n",
    "        X_test = X[-n_test_frames:, :, :, :] \n",
    "        y_test = y[-n_test_frames:, :]\n",
    "        splits =  (X_train, y_train, X_test, y_test)\n",
    "    else:\n",
    "        y_train =  y[:-(n_validation_frames+n_test_frames),:]\n",
    "        y_validate = y[-(n_validation_frames+n_test_frames):-n_test_frames, :]\n",
    "        X_train= X[:-(n_validation_frames+n_test_frames),:,:,:]\n",
    "        y_train =  y[:-(n_validation_frames+n_test_frames),:]\n",
    "        X_validate = X[-(n_validation_frames+n_test_frames):-n_test_frames, :, :, :]\n",
    "        y_validate = y[-(n_validation_frames+n_test_frames):-n_test_frames, :]\n",
    "        X_test = X[-n_test_frames:, :, :, :] \n",
    "        y_test = y[-n_test_frames:, :]\n",
    "        splits =  (X_train, y_train, X_validate, y_validate,\n",
    "                   X_test, y_test)\n",
    "\n",
    "    return splits, indices\n",
    "\n",
    "def flatten_Xy(splits):\n",
    "    (X_train, y_train, X_validate, y_validate, X_test, y_test) = splits\n",
    "    X_train_flat =np.concatenate(X_train.reshape(X_train.shape[0], X_train.shape[1], -1), axis=0)\n",
    "    X_validate_flat =np.concatenate(X_validate.reshape(X_validate.shape[0], X_validate.shape[1], -1), axis=0)\n",
    "    X_test_flat =np.concatenate(X_test.reshape(X_test.shape[0], X_test.shape[1], -1), axis=0)\n",
    "    y_train_flat = y_train.ravel()\n",
    "    y_validate_flat = y_validate.ravel()\n",
    "    y_test_flat = y_test.ravel()\n",
    "    flat_splits = (X_train_flat , y_train_flat , X_validate_flat , y_validate_flat , X_test_flat , y_test_flat )\n",
    "    return flat_splits\n",
    "\n",
    "def model_analysis(y_true, y_naive, y_predict, n_countries, title='',suptitle='',figname=None, scale=None, s=None):\n",
    "    print('There were {} negative predictions'.format(len(y_predict[y_predict<0])))\n",
    "    mse_naive = mean_squared_error(y_true.ravel(), y_naive.ravel())\n",
    "    mse_predict = mean_squared_error(y_true.ravel(), y_predict)\n",
    "    r2_naive = explained_variance_score(y_true.ravel(), y_naive.ravel())\n",
    "    r2_predict = explained_variance_score(y_true.ravel(), y_predict)\n",
    "\n",
    "    print('{}-step MSE [Naive, {}] = [{},{}]'.format(\n",
    "    n_days_into_future,title, mse_naive, mse_predict))\n",
    "    print('{}-step R^2 [Naive, {}] = [{},{}]'.format(\n",
    "    n_days_into_future,title, r2_naive, r2_predict))\n",
    "\n",
    "    fig, axes = plt.subplots(2, 2, figsize=(15,10))\n",
    "    (ax1,ax2,ax3,ax4) = axes.flatten()\n",
    "    if scale == 'log':\n",
    "        ymax = np.max([np.log(1+y_true).max(), np.log(1+y_predict).max()])\n",
    "        ax1.scatter(np.log(y_true+1), np.log(y_naive+1), s=s,alpha=0.7)\n",
    "        ax1.plot([0, ymax], [0, ymax],color='r')\n",
    "        ax2.scatter(np.log(y_true+1), np.log(y_predict+1), s=s,alpha=0.7)\n",
    "        ax2.plot([0, ymax], [0, ymax],color='r')\n",
    "    else:\n",
    "        ymax = np.max([y_true.max(), y_predict.max()])\n",
    "        ax1.scatter(y_true, y_naive, s=s)\n",
    "        ax1.plot([0, ymax], [0, ymax],color='r')\n",
    "        ax2.scatter(y_true, y_predict, s=s)\n",
    "        ax2.plot([0, ymax], [0, ymax],color='r')\n",
    "    \n",
    "    ax1.text(0.0, ymax,'$MSE$ = {}'.format(np.round(mse_naive,3)),fontsize=14)\n",
    "    ax1.text(0.0, 0.9*ymax,'$R^2$ = {}'.format(np.round(r2_naive,3)),fontsize=14)\n",
    "    ax1.set_xlabel('True value')\n",
    "    ax1.set_ylabel('Predicted value')\n",
    "    ax1.set_title('Naive model')\n",
    "             \n",
    "    ax2.text(0.0, ymax,'$MSE$ = {}'.format(np.round(mse_predict,3)),fontsize=14)\n",
    "    ax2.text(0.0, 0.9*ymax,'$R^2$ = {}'.format(np.round(r2_predict,3)),fontsize=14)\n",
    "    ax2.set_xlabel('True value')\n",
    "    ax2.set_ylabel('Predicted value')\n",
    "    ax2.set_title(title)\n",
    "    ax1.grid(True)\n",
    "    ax2.grid(True)\n",
    "    plt.suptitle(suptitle)\n",
    "\n",
    "    xrange = range(len(y_true))\n",
    "    if scale=='log':\n",
    "        residual_plot(np.log(y_true+1),np.log(y_naive+1), ax=ax3)\n",
    "        residual_plot(np.log(y_true+1),np.log(y_predict+1), ax=ax4)\n",
    "    else:\n",
    "        residual_plot(y_true,y_naive, ax=ax3)\n",
    "        residual_plot(y_true,y_predict, ax=ax4)\n",
    "    ax3.set_title('')\n",
    "    ax4.set_title('')\n",
    "    ax3.set_ylabel('Residual')\n",
    "    ax4.set_ylabel('Residual')\n",
    "    ax3.grid(True)\n",
    "    ax4.grid(True)\n",
    "    \n",
    "    if figname is not None:\n",
    "        plt.savefig(figname, bbox_inches='tight')\n",
    "        \n",
    "    plt.show()\n",
    "    return None\n",
    "\n",
    "\n",
    "def normalize_Xy(splits, feature_range=(0., 1.0), normalization_method='minmax',\n",
    "                        train_test_only=False, feature_indices=None):\n",
    "    \"\"\" Split into training, validation and test data.\n",
    "    Normalize with respect to some absolute max, just choose 2*absolute max of training set. \n",
    "\n",
    "    \"\"\"\n",
    "    \n",
    "    min_, max_ = feature_range\n",
    "    (X_train, y_train, X_validate, y_validate, X_test, y_test) = splits\n",
    "    feature_minima = X_train[:,:,:,:].min((0,1,2))[np.newaxis,np.newaxis,np.newaxis,:]\n",
    "    feature_maxima = 2*X_train[:,:,:,:].max((0,1,2))[np.newaxis,np.newaxis,np.newaxis,:]\n",
    "    feature_denominator = feature_maxima-feature_minima\n",
    "    # get the shape of each split's array, so that array arithmetic can be done. \n",
    "    train_tile_shape = np.array(np.array(X_train.shape)/np.array(feature_maxima.shape),int)\n",
    "    validate_tile_shape = np.array(np.array(X_validate.shape)/np.array(feature_maxima.shape),int)\n",
    "    test_tile_shape = np.array(np.array(X_test.shape)/np.array(feature_maxima.shape),int)\n",
    "\n",
    "    # using X - X_min / (X_max-X_min). Form denominator\n",
    "    train_denominator = np.tile(feature_denominator, train_tile_shape)\n",
    "    validate_denominator = np.tile(feature_denominator, validate_tile_shape)\n",
    "    test_denominator = np.tile(feature_denominator, test_tile_shape)\n",
    "    \n",
    "    # and then the minima.\n",
    "    train_minima = np.tile(feature_minima,train_tile_shape)\n",
    "    validate_minima = np.tile(feature_minima,validate_tile_shape)\n",
    "    test_minima = np.tile(feature_minima,test_tile_shape)\n",
    "    \n",
    "    # factor of 1/max_ accounts for absolute maximum that is outside of the data (i.e. potential future values). \n",
    "    X_train_scaled = (max_-min_)*(X_train - train_minima)/train_denominator\n",
    "    X_validate_scaled = (max_-min_)*(X_validate - validate_minima)/validate_denominator\n",
    "    X_test_scaled = (max_-min_)*(X_test - test_minima)/test_denominator\n",
    "\n",
    "    \n",
    "    scaled_splits = (X_train_scaled, y_train, X_validate_scaled, y_validate, X_test_scaled, y_test) \n",
    "    scaling_arrays =  (feature_maxima, feature_minima, feature_denominator)\n",
    "\n",
    "    return scaled_splits, scaling_arrays"
   ]
  },
  {
   "cell_type": "markdown",
   "metadata": {},
   "source": [
    "# 2. Data processing\n",
    "<a id='data'></a>\n",
    "[Return to table of contents](#toc)\n",
    "\n",
    "The data processing is the same as the prototyping notebook, ```COVID19_model_prototypes.ipynb```. The reader is directed there for more detail."
   ]
  },
  {
   "cell_type": "code",
   "execution_count": 3,
   "metadata": {},
   "outputs": [],
   "source": [
    "data = pd.read_csv('../data/model_data.csv', index_col=0)"
   ]
  },
  {
   "cell_type": "markdown",
   "metadata": {},
   "source": [
    "#### Feature selection\n",
    "\n",
    "In regards to the feature data being considered, I am using the time series corresponding to new cases per million, its logarithm, the OxCGRT \"government response index\" which scores each goverments reaction with a number from 0 to 100. \n",
    "There are some features which at first seem relevant but I am not using due to the fact that they are time-delayed with respect to new cases, for example, deaths and recoveries of course occur a case is confirmed by definition. I am in fact not using the data on the number of tests either because the feature lacks a consistent set of units; this would mean that the feature would need to be split into multiple features, one for each unit. "
   ]
  },
  {
   "cell_type": "code",
   "execution_count": 4,
   "metadata": {},
   "outputs": [],
   "source": [
    "modeling_features = ['new_cases_per_million', 'government_response_index', 'log_new_cases_per_million']\n",
    "model_data = data.copy().loc[:, modeling_features]\n",
    "new_cases_index = 0\n",
    "\n",
    "# convenience paramters\n",
    "n_countries = data.location.nunique()\n",
    "target_data = data.new_cases_per_million\n",
    "time_index = data.time_index\n",
    "\n",
    "# time frame related parameters\n",
    "frame_size = 28\n",
    "start_date = frame_size + data.time_index.min()\n",
    "\n",
    "# size of splits, forecasting interval\n",
    "n_validation_frames = 7\n",
    "n_test_frames = 1\n",
    "n_days_into_future = 1"
   ]
  },
  {
   "cell_type": "markdown",
   "metadata": {},
   "source": [
    "#### Time frame creation "
   ]
  },
  {
   "cell_type": "code",
   "execution_count": 5,
   "metadata": {},
   "outputs": [
    {
     "name": "stdout",
     "output_type": "stream",
     "text": [
      "Starting with frame spanning the time_index values: 0 27\n",
      "Ending with frame spanning the time_index values: 154 181\n"
     ]
    }
   ],
   "source": [
    "# Create splits into predictors and dependent variable. \n",
    "X, y = create_Xy(model_data, target_data, time_index, start_date, frame_size, n_days_into_future, n_countries)"
   ]
  },
  {
   "cell_type": "markdown",
   "metadata": {},
   "source": [
    "#### Train, validate, test splits of the data"
   ]
  },
  {
   "cell_type": "code",
   "execution_count": 6,
   "metadata": {},
   "outputs": [],
   "source": [
    "splits, indices = split_Xy(X, y, frame_size, n_validation_frames, n_test_frames)\n",
    "\n",
    "# rescale the data to [0,1] by using a fictitious maximum as 1.\n",
    "scaled_splits, scaling_arrays =  normalize_Xy(splits, feature_range=(0,1.0), \n",
    "                                                                  normalization_method='minmax',\n",
    "                                                                  train_test_only=False,\n",
    "                                                                  feature_indices=None)\n",
    "# if need to supply folds for sklearn CV regression functions.\n",
    "(X_nn_train, y_nn_train, X_nn_validate, y_nn_validate, X_nn_test, y_nn_test) = scaled_splits\n",
    "(train_indices, validate_indices, test_indices) = indices"
   ]
  },
  {
   "cell_type": "code",
   "execution_count": 7,
   "metadata": {},
   "outputs": [
    {
     "name": "stdout",
     "output_type": "stream",
     "text": [
      "The shape of the original (before being flattened tensor is (155, 146, 28, 3)\n",
      "There are a total of 155 frames\n",
      "There are a total of 146 countries\n",
      "There are a total of 28 time steps in each frame\n",
      "There are a total of 3 features\n"
     ]
    }
   ],
   "source": [
    "print('The shape of the original (before being flattened tensor is', X.shape)\n",
    "print('There are a total of {} frames'.format(X.shape[0]))\n",
    "print('There are a total of {} countries'.format(X.shape[1]))\n",
    "print('There are a total of {} time steps in each frame'.format(X.shape[2]))\n",
    "print('There are a total of {} features'.format(X.shape[3]))"
   ]
  },
  {
   "cell_type": "markdown",
   "metadata": {},
   "source": [
    "Flatten the splits to be compatible for Keras."
   ]
  },
  {
   "cell_type": "code",
   "execution_count": 8,
   "metadata": {},
   "outputs": [],
   "source": [
    "flat_splits = flatten_Xy(scaled_splits)\n",
    "(X_nn_train_model,y_nn_train_model,X_nn_validate_model,\n",
    " y_nn_validate_model,X_nn_test_model,y_nn_test_model) = flat_splits"
   ]
  },
  {
   "cell_type": "markdown",
   "metadata": {},
   "source": [
    "Select the correct values for the naive baseline."
   ]
  },
  {
   "cell_type": "code",
   "execution_count": 9,
   "metadata": {},
   "outputs": [],
   "source": [
    "X_for_naive_slicing = np.concatenate(X.reshape(X.shape[0], X.shape[1], -1), axis=0)\n",
    "n_features = X.shape[-1]\n",
    "last_day_new_cases_index = np.ravel_multi_index([[frame_size-1],[new_cases_index]],(frame_size, n_features))\n",
    "y_train_naive = X_for_naive_slicing[train_indices, last_day_new_cases_index].ravel()\n",
    "y_validate_naive =  X_for_naive_slicing[validate_indices, last_day_new_cases_index].ravel()\n",
    "y_test_naive =  X_for_naive_slicing[test_indices, last_day_new_cases_index].ravel()"
   ]
  },
  {
   "cell_type": "markdown",
   "metadata": {},
   "source": [
    "# 3. Neural network model cross validation\n",
    "<a id='model'></a>\n",
    "[Return to table of contents](#toc)\n",
    "\n",
    "The specific architecture will consist of two fully connected layers, follow by a ReLU activation layer. ReLU is used because the final prediction should be non-negative in order to be sensible. The input of the neural network is as follows:\n",
    "first, select the features with which to model. Then, compose \"time-frames\" consisting of 28 days of these features and pass them to the fully connected neural network. The data formatting and setup is the same as in the notebook ```COVID19_model_prototypes.ipynb```, I direct the reader there for a more thorough explanation."
   ]
  },
  {
   "cell_type": "markdown",
   "metadata": {},
   "source": [
    "Create the combinations of hyperparameters to search for the best combination. Note that when this is a high dimensional test, the cross-validation is over single seeds."
   ]
  },
  {
   "cell_type": "code",
   "execution_count": 10,
   "metadata": {},
   "outputs": [],
   "source": [
    "epochs_list = [50, 75, 100, 125, 150]\n",
    "batch_size_list = [1024]\n",
    "first_layer_output_dimension_list = [2, 4, 8, 16, 32, 64, 128, 256, 512, 1024]\n",
    "parameter_combinations = list(itertools.product(epochs_list, batch_size_list, first_layer_output_dimension_list))"
   ]
  },
  {
   "cell_type": "markdown",
   "metadata": {},
   "source": [
    "So that redundant, time consuming calculations are not performed every notebook run, create a crude\n",
    "logging system such that the model is only fit with a certain set of parameters if hasn't been done in the past, as\n",
    "indicated by the presence of a score in the csv file."
   ]
  },
  {
   "cell_type": "code",
   "execution_count": 11,
   "metadata": {},
   "outputs": [],
   "source": [
    "save_filename = '../data/nn_score_logging.csv'\n",
    "new_score_df = pd.DataFrame(np.array(parameter_combinations), \n",
    "                                columns=['epochs','batch_size',\n",
    "                                         'first_dense_layer_output_dimension'])\n",
    "new_score_df.loc[:, 'mean_squared_error'] = np.nan\n",
    "new_score_df.loc[:, 'mean_absolute_error'] = np.nan\n",
    "new_score_df.loc[:, 'explained_variance'] = np.nan\n",
    "new_score_df.loc[:, 'naive_mean_absolute_error'] = np.nan\n",
    "new_score_df.loc[:, 'naive_explained_variance'] = np.nan\n",
    "new_score_df.loc[:, 'naive_mean_squared_error'] = np.nan\n",
    "    \n",
    "if os.path.isfile(save_filename):\n",
    "    all_scores = pd.concat((pd.read_csv(save_filename,\n",
    "                                        index_col=0), new_score_df),axis=0).reset_index(drop=True)\n",
    "else:\n",
    "    all_scores = new_score_df.reset_index(drop=True)\n",
    "\n",
    "# remove any duplicate parameter combinations, as the same seeds are being used. \n",
    "no_duplicates_index = all_scores.iloc[:, :3].drop_duplicates().index\n",
    "all_scores = all_scores.loc[no_duplicates_index,:]"
   ]
  },
  {
   "cell_type": "markdown",
   "metadata": {},
   "source": [
    "Iterate over the parameter combinations; note that I believe that the number of parameters should be fewer in number than the number of samples. Perform cross-validation not by using folds of the data but rather different seeds for the weights. Splitting the data is unwise because it would select parameters based on historical rather than present day values."
   ]
  },
  {
   "cell_type": "code",
   "execution_count": 12,
   "metadata": {},
   "outputs": [],
   "source": [
    "zero_seeds = [0,1,2]\n",
    "one_seeds = [3,4,5]"
   ]
  },
  {
   "cell_type": "code",
   "execution_count": 13,
   "metadata": {},
   "outputs": [],
   "source": [
    "for i in all_scores[all_scores.mean_squared_error.isna()].index:\n",
    "\n",
    "    hyperparameters = all_scores.loc[i, :].iloc[:3].astype(int).values\n",
    "    (epochs, batch_size, first_layer_output_dimension) = hyperparameters\n",
    "    \n",
    "    \n",
    "    mse_list = []\n",
    "    naive_mse_list = []\n",
    "    explained_variance_list = []\n",
    "    naive_explained_variance_list = []\n",
    "    mae_list = []\n",
    "    naive_mae_list = []\n",
    "    \n",
    "    for j in range(len(zero_seeds)):\n",
    "        nn_input = Input(shape=(np.prod(X_nn_train.shape[2:]),))\n",
    "        flat = Flatten()(nn_input)\n",
    "        dense0 = Dense(int(first_layer_output_dimension), \n",
    "                        use_bias=False,\n",
    "                       kernel_initializer=RandomNormal(seed=zero_seeds[j]),\n",
    "                       )(flat)\n",
    "        dense1 = Dense(1, \n",
    "                        activation='relu',\n",
    "                        use_bias=False,\n",
    "                       kernel_initializer=RandomNormal(seed=one_seeds[j]),\n",
    "                       )(dense0)\n",
    "\n",
    "        nn = Model(inputs=nn_input, outputs=dense1)\n",
    "        nn.compile(loss='mse', optimizer=Adam())\n",
    "        history = nn.fit(X_nn_train_model, y_nn_train_model, epochs=epochs, validation_data=(X_nn_validate_model, y_nn_validate_model), \n",
    "                  batch_size=batch_size, verbose=0)\n",
    "\n",
    "        y_true = y_nn_validate_model.ravel()\n",
    "        y_predict = nn.predict(X_nn_validate_model).ravel()\n",
    "        y_naive = y_validate_naive.ravel()\n",
    "\n",
    "        # mean squared errors\n",
    "        naive_mse_list.append(mean_squared_error(y_true.ravel(), y_naive.ravel()))\n",
    "        mse_list.append(mean_squared_error(y_true.ravel(), y_predict))\n",
    "        # explained variance\n",
    "        naive_explained_variance_list.append(explained_variance_score(y_true.ravel(), y_naive.ravel()))\n",
    "        explained_variance_list.append(explained_variance_score(y_true.ravel(), y_predict))\n",
    "        # mean absolute error\n",
    "        mae_list.append(mean_absolute_error(y_true.ravel(), y_predict))\n",
    "        naive_mae_list.append(mean_absolute_error(y_true.ravel(), y_naive.ravel()))\n",
    "\n",
    "    # add the scores\n",
    "    all_scores.loc[i,'naive_mean_squared_error'] =  np.mean(naive_mse_list)\n",
    "    all_scores.loc[i,'mean_squared_error']  = np.mean(mse_list)\n",
    "    all_scores.loc[i,'naive_explained_variance']  = np.mean(naive_explained_variance_list)\n",
    "    all_scores.loc[i,'explained_variance']  = np.mean(explained_variance_list)\n",
    "    all_scores.loc[i,'naive_mean_absolute_error']  =np.mean(naive_mae_list)\n",
    "    all_scores.loc[i,'mean_absolute_error']  = np.mean(mae_list)\n",
    "    # every time a new score is calculated, overwrite the original file to log scoring.\n",
    "    all_scores.to_csv(save_filename)\n",
    "\n",
    "    print('#',end='')\n",
    "    if (i % 50 == 0) & i>0:\n",
    "          print('{} runs completed'.format(str(i)))"
   ]
  },
  {
   "cell_type": "markdown",
   "metadata": {},
   "source": [
    "Look at the parameters and top ten (smallest) mean squared error scores."
   ]
  },
  {
   "cell_type": "code",
   "execution_count": 14,
   "metadata": {},
   "outputs": [
    {
     "data": {
      "text/html": [
       "<div>\n",
       "<style scoped>\n",
       "    .dataframe tbody tr th:only-of-type {\n",
       "        vertical-align: middle;\n",
       "    }\n",
       "\n",
       "    .dataframe tbody tr th {\n",
       "        vertical-align: top;\n",
       "    }\n",
       "\n",
       "    .dataframe thead th {\n",
       "        text-align: right;\n",
       "    }\n",
       "</style>\n",
       "<table border=\"1\" class=\"dataframe\">\n",
       "  <thead>\n",
       "    <tr style=\"text-align: right;\">\n",
       "      <th></th>\n",
       "      <th>epochs</th>\n",
       "      <th>batch_size</th>\n",
       "      <th>first_dense_layer_output_dimension</th>\n",
       "      <th>mean_squared_error</th>\n",
       "      <th>mean_absolute_error</th>\n",
       "      <th>explained_variance</th>\n",
       "      <th>naive_mean_absolute_error</th>\n",
       "      <th>naive_explained_variance</th>\n",
       "      <th>naive_mean_squared_error</th>\n",
       "    </tr>\n",
       "  </thead>\n",
       "  <tbody>\n",
       "    <tr>\n",
       "      <th>54</th>\n",
       "      <td>400</td>\n",
       "      <td>1024</td>\n",
       "      <td>256</td>\n",
       "      <td>182.385480</td>\n",
       "      <td>5.974426</td>\n",
       "      <td>0.939019</td>\n",
       "      <td>5.934804</td>\n",
       "      <td>0.926058</td>\n",
       "      <td>219.307632</td>\n",
       "    </tr>\n",
       "    <tr>\n",
       "      <th>104</th>\n",
       "      <td>150</td>\n",
       "      <td>1024</td>\n",
       "      <td>1024</td>\n",
       "      <td>189.002198</td>\n",
       "      <td>6.567587</td>\n",
       "      <td>0.936845</td>\n",
       "      <td>5.934804</td>\n",
       "      <td>0.926058</td>\n",
       "      <td>219.307632</td>\n",
       "    </tr>\n",
       "    <tr>\n",
       "      <th>53</th>\n",
       "      <td>400</td>\n",
       "      <td>1024</td>\n",
       "      <td>128</td>\n",
       "      <td>189.189832</td>\n",
       "      <td>6.234090</td>\n",
       "      <td>0.936545</td>\n",
       "      <td>5.934804</td>\n",
       "      <td>0.926058</td>\n",
       "      <td>219.307632</td>\n",
       "    </tr>\n",
       "    <tr>\n",
       "      <th>42</th>\n",
       "      <td>200</td>\n",
       "      <td>1024</td>\n",
       "      <td>128</td>\n",
       "      <td>191.509850</td>\n",
       "      <td>6.756534</td>\n",
       "      <td>0.935516</td>\n",
       "      <td>5.934804</td>\n",
       "      <td>0.926058</td>\n",
       "      <td>219.307632</td>\n",
       "    </tr>\n",
       "    <tr>\n",
       "      <th>83</th>\n",
       "      <td>100</td>\n",
       "      <td>1024</td>\n",
       "      <td>512</td>\n",
       "      <td>192.351979</td>\n",
       "      <td>6.934692</td>\n",
       "      <td>0.935186</td>\n",
       "      <td>5.934804</td>\n",
       "      <td>0.926058</td>\n",
       "      <td>219.307632</td>\n",
       "    </tr>\n",
       "    <tr>\n",
       "      <th>102</th>\n",
       "      <td>150</td>\n",
       "      <td>1024</td>\n",
       "      <td>256</td>\n",
       "      <td>192.384777</td>\n",
       "      <td>6.919804</td>\n",
       "      <td>0.935476</td>\n",
       "      <td>5.934804</td>\n",
       "      <td>0.926058</td>\n",
       "      <td>219.307632</td>\n",
       "    </tr>\n",
       "    <tr>\n",
       "      <th>51</th>\n",
       "      <td>400</td>\n",
       "      <td>1024</td>\n",
       "      <td>32</td>\n",
       "      <td>192.906641</td>\n",
       "      <td>6.613071</td>\n",
       "      <td>0.935458</td>\n",
       "      <td>5.934804</td>\n",
       "      <td>0.926058</td>\n",
       "      <td>219.307632</td>\n",
       "    </tr>\n",
       "    <tr>\n",
       "      <th>74</th>\n",
       "      <td>75</td>\n",
       "      <td>1024</td>\n",
       "      <td>1024</td>\n",
       "      <td>193.492947</td>\n",
       "      <td>6.707488</td>\n",
       "      <td>0.934975</td>\n",
       "      <td>5.934804</td>\n",
       "      <td>0.926058</td>\n",
       "      <td>219.307632</td>\n",
       "    </tr>\n",
       "    <tr>\n",
       "      <th>50</th>\n",
       "      <td>400</td>\n",
       "      <td>1024</td>\n",
       "      <td>24</td>\n",
       "      <td>194.239142</td>\n",
       "      <td>6.847959</td>\n",
       "      <td>0.934630</td>\n",
       "      <td>5.934804</td>\n",
       "      <td>0.926058</td>\n",
       "      <td>219.307632</td>\n",
       "    </tr>\n",
       "    <tr>\n",
       "      <th>103</th>\n",
       "      <td>150</td>\n",
       "      <td>1024</td>\n",
       "      <td>512</td>\n",
       "      <td>195.504490</td>\n",
       "      <td>6.868211</td>\n",
       "      <td>0.934306</td>\n",
       "      <td>5.934804</td>\n",
       "      <td>0.926058</td>\n",
       "      <td>219.307632</td>\n",
       "    </tr>\n",
       "  </tbody>\n",
       "</table>\n",
       "</div>"
      ],
      "text/plain": [
       "     epochs  batch_size  first_dense_layer_output_dimension  \\\n",
       "54      400        1024                                 256   \n",
       "104     150        1024                                1024   \n",
       "53      400        1024                                 128   \n",
       "42      200        1024                                 128   \n",
       "83      100        1024                                 512   \n",
       "102     150        1024                                 256   \n",
       "51      400        1024                                  32   \n",
       "74       75        1024                                1024   \n",
       "50      400        1024                                  24   \n",
       "103     150        1024                                 512   \n",
       "\n",
       "     mean_squared_error  mean_absolute_error  explained_variance  \\\n",
       "54           182.385480             5.974426            0.939019   \n",
       "104          189.002198             6.567587            0.936845   \n",
       "53           189.189832             6.234090            0.936545   \n",
       "42           191.509850             6.756534            0.935516   \n",
       "83           192.351979             6.934692            0.935186   \n",
       "102          192.384777             6.919804            0.935476   \n",
       "51           192.906641             6.613071            0.935458   \n",
       "74           193.492947             6.707488            0.934975   \n",
       "50           194.239142             6.847959            0.934630   \n",
       "103          195.504490             6.868211            0.934306   \n",
       "\n",
       "     naive_mean_absolute_error  naive_explained_variance  \\\n",
       "54                    5.934804                  0.926058   \n",
       "104                   5.934804                  0.926058   \n",
       "53                    5.934804                  0.926058   \n",
       "42                    5.934804                  0.926058   \n",
       "83                    5.934804                  0.926058   \n",
       "102                   5.934804                  0.926058   \n",
       "51                    5.934804                  0.926058   \n",
       "74                    5.934804                  0.926058   \n",
       "50                    5.934804                  0.926058   \n",
       "103                   5.934804                  0.926058   \n",
       "\n",
       "     naive_mean_squared_error  \n",
       "54                 219.307632  \n",
       "104                219.307632  \n",
       "53                 219.307632  \n",
       "42                 219.307632  \n",
       "83                 219.307632  \n",
       "102                219.307632  \n",
       "51                 219.307632  \n",
       "74                 219.307632  \n",
       "50                 219.307632  \n",
       "103                219.307632  "
      ]
     },
     "execution_count": 14,
     "metadata": {},
     "output_type": "execute_result"
    }
   ],
   "source": [
    "all_scores.sort_values(by='mean_squared_error').head(10)"
   ]
  },
  {
   "cell_type": "code",
   "execution_count": 15,
   "metadata": {},
   "outputs": [
    {
     "data": {
      "text/plain": [
       "epochs                                 400.000000\n",
       "batch_size                            1024.000000\n",
       "first_dense_layer_output_dimension     256.000000\n",
       "mean_squared_error                     182.385480\n",
       "mean_absolute_error                      5.974426\n",
       "explained_variance                       0.939019\n",
       "naive_mean_absolute_error                5.934804\n",
       "naive_explained_variance                 0.926058\n",
       "naive_mean_squared_error               219.307632\n",
       "Name: 54, dtype: float64"
      ]
     },
     "execution_count": 15,
     "metadata": {},
     "output_type": "execute_result"
    }
   ],
   "source": [
    "all_scores.loc[all_scores.mean_squared_error.idxmin(),:]"
   ]
  },
  {
   "cell_type": "markdown",
   "metadata": {},
   "source": [
    "Unfortunately this does not beat the naive baseline (the scores are with respect to the validation set)."
   ]
  },
  {
   "cell_type": "code",
   "execution_count": 16,
   "metadata": {},
   "outputs": [
    {
     "name": "stdout",
     "output_type": "stream",
     "text": [
      "epochs                                 400.0\n",
      "batch_size                            1024.0\n",
      "first_dense_layer_output_dimension     256.0\n",
      "Name: 54, dtype: float64\n"
     ]
    }
   ],
   "source": [
    "best_model_parameters = all_scores.loc[all_scores.mean_squared_error.idxmin(),:].iloc[:3]\n",
    "print(best_model_parameters)"
   ]
  },
  {
   "cell_type": "markdown",
   "metadata": {},
   "source": [
    "Try again with a different seed, see if all hope is lost."
   ]
  },
  {
   "cell_type": "code",
   "execution_count": 17,
   "metadata": {},
   "outputs": [],
   "source": [
    "X_final_train = np.concatenate((X_nn_train_model, X_nn_validate_model),axis=0)\n",
    "y_final_train = np.concatenate((y_nn_train_model, y_nn_validate_model),axis=0)"
   ]
  },
  {
   "cell_type": "code",
   "execution_count": 18,
   "metadata": {},
   "outputs": [
    {
     "name": "stdout",
     "output_type": "stream",
     "text": [
      "WARNING:tensorflow:From C:\\ProgramData\\Anaconda3\\lib\\site-packages\\tensorflow\\python\\keras\\initializers.py:143: calling RandomNormal.__init__ (from tensorflow.python.ops.init_ops) with dtype is deprecated and will be removed in a future version.\n",
      "Instructions for updating:\n",
      "Call initializer instance with the dtype argument instead of passing it to the constructor\n"
     ]
    }
   ],
   "source": [
    "kernel_final_0 = RandomNormal(seed=8)\n",
    "kernel_final_1 = RandomNormal(seed=42)"
   ]
  },
  {
   "cell_type": "markdown",
   "metadata": {},
   "source": [
    "Train the model one last time using the cross validated parameters."
   ]
  },
  {
   "cell_type": "code",
   "execution_count": 19,
   "metadata": {},
   "outputs": [],
   "source": [
    "(epochs, batch_size, first_layer_output_dimension) = best_model_parameters\n",
    "nn_input = Input(shape=(np.prod(X_nn_train.shape[2:]),))\n",
    "flat = Flatten()(nn_input)\n",
    "dense0 = Dense(first_layer_output_dimension, \n",
    "                use_bias=False,\n",
    "               kernel_initializer=kernel_final_0,\n",
    "               )(flat)\n",
    "dense1 = Dense(1, \n",
    "                activation='relu',\n",
    "                use_bias=False,\n",
    "              kernel_initializer=kernel_final_1,\n",
    "               )(dense0)\n",
    "\n",
    "\n",
    "best_nn = Model(inputs=nn_input, outputs=dense1)\n",
    "best_nn.compile(loss='mse', optimizer=Adam())\n"
   ]
  },
  {
   "cell_type": "markdown",
   "metadata": {},
   "source": [
    "Now it makes sense to look at the summary of the best model."
   ]
  },
  {
   "cell_type": "code",
   "execution_count": 20,
   "metadata": {},
   "outputs": [
    {
     "name": "stdout",
     "output_type": "stream",
     "text": [
      "Model: \"model\"\n",
      "_________________________________________________________________\n",
      "Layer (type)                 Output Shape              Param #   \n",
      "=================================================================\n",
      "input_1 (InputLayer)         [(None, 84)]              0         \n",
      "_________________________________________________________________\n",
      "flatten (Flatten)            (None, 84)                0         \n",
      "_________________________________________________________________\n",
      "dense (Dense)                (None, 256)               21504     \n",
      "_________________________________________________________________\n",
      "dense_1 (Dense)              (None, 1)                 256       \n",
      "=================================================================\n",
      "Total params: 21,760\n",
      "Trainable params: 21,760\n",
      "Non-trainable params: 0\n",
      "_________________________________________________________________\n"
     ]
    }
   ],
   "source": [
    "best_nn.summary()"
   ]
  },
  {
   "cell_type": "markdown",
   "metadata": {},
   "source": [
    "Finally, fit the model to the totality of training data, using the final holdout set as the validation.  "
   ]
  },
  {
   "cell_type": "code",
   "execution_count": 21,
   "metadata": {},
   "outputs": [],
   "source": [
    "history = best_nn.fit(X_final_train, y_final_train, epochs=int(epochs),\n",
    "                      validation_data=(X_nn_test_model, y_nn_test_model), \n",
    "          batch_size=int(batch_size), verbose=0)"
   ]
  },
  {
   "cell_type": "markdown",
   "metadata": {},
   "source": [
    "<a id='analysis'></a>\n",
    "# 4. Model analysis\n",
    "[Return to table of contents](#toc)\n"
   ]
  },
  {
   "cell_type": "markdown",
   "metadata": {},
   "source": [
    "Even though the parameters were cross-validated using seeds for the model weights, the model seems to be overtrained as the validation loss has increased"
   ]
  },
  {
   "cell_type": "code",
   "execution_count": 22,
   "metadata": {},
   "outputs": [
    {
     "data": {
      "image/png": "[encoded data removed]",
      "text/plain": [
       "<Figure size 432x288 with 1 Axes>"
      ]
     },
     "metadata": {
      "needs_background": "light"
     },
     "output_type": "display_data"
    }
   ],
   "source": [
    "_ = plt.plot(history.history['loss'], label='loss')\n",
    "_ = plt.plot(history.history['val_loss'], label='val_loss')\n",
    "_ = plt.legend()\n",
    "_ = plt.show()"
   ]
  },
  {
   "cell_type": "code",
   "execution_count": 23,
   "metadata": {},
   "outputs": [
    {
     "data": {
      "image/png": "[encoded data removed]",
      "text/plain": [
       "<Figure size 432x288 with 1 Axes>"
      ]
     },
     "metadata": {
      "needs_background": "light"
     },
     "output_type": "display_data"
    }
   ],
   "source": [
    "_ = plt.plot(history.history['loss'][-100:], label='loss')\n",
    "_ = plt.plot(history.history['val_loss'][-100:], label='val_loss')\n",
    "_ = plt.legend()\n",
    "_ = plt.show()"
   ]
  },
  {
   "cell_type": "markdown",
   "metadata": {},
   "source": [
    "Predictions made on the training set (for determining whether or not we overtraining "
   ]
  },
  {
   "cell_type": "code",
   "execution_count": 24,
   "metadata": {},
   "outputs": [
    {
     "name": "stdout",
     "output_type": "stream",
     "text": [
      "There were 0 negative predictions\n",
      "1-step MSE [Naive, NN model] = [120.41959446037183,89.4538064465225]\n",
      "1-step R^2 [Naive, NN model] = [0.91597417503742,0.937576508733722]\n"
     ]
    },
    {
     "data": {
      "image/png": "[encoded data removed]",
      "text/plain": [
       "<Figure size 1080x720 with 4 Axes>"
      ]
     },
     "metadata": {
      "needs_background": "light"
     },
     "output_type": "display_data"
    }
   ],
   "source": [
    "y_true = y_final_train.ravel()\n",
    "y_naive = np.concatenate((y_train_naive, y_validate_naive),axis=0)\n",
    "y_predict = best_nn.predict(X_final_train).ravel()\n",
    "model_analysis(y_true, y_naive, y_predict, n_countries, title='NN model',\n",
    "               suptitle='Naive baseline vs. predictions of training set',\n",
    "              figname='nn_training_performance.jpg')"
   ]
  },
  {
   "cell_type": "markdown",
   "metadata": {},
   "source": [
    "Predictions made on the holdout set."
   ]
  },
  {
   "cell_type": "code",
   "execution_count": 25,
   "metadata": {},
   "outputs": [
    {
     "name": "stdout",
     "output_type": "stream",
     "text": [
      "There were 0 negative predictions\n",
      "1-step MSE [Naive, NN model] = [441.6371257671233,198.52375081096184]\n",
      "1-step R^2 [Naive, NN model] = [0.8302251301912098,0.9243163683194955]\n"
     ]
    },
    {
     "data": {
      "image/png": "[encoded data removed]",
      "text/plain": [
       "<Figure size 1080x720 with 4 Axes>"
      ]
     },
     "metadata": {
      "needs_background": "light"
     },
     "output_type": "display_data"
    }
   ],
   "source": [
    "y_true = y_nn_test_model.ravel()\n",
    "y_predict = best_nn.predict(X_nn_test_model).ravel()\n",
    "model_analysis(y_true, y_test_naive, y_predict, n_countries, title='NN model',\n",
    "               suptitle='Naive baseline vs. predictions of testing set',\n",
    "              figname='nn_test_performance.jpg')"
   ]
  },
  {
   "cell_type": "markdown",
   "metadata": {},
   "source": [
    "Look at the distribution of scores, with respect to epochs and shaded with respect ot first layer output dimension."
   ]
  },
  {
   "cell_type": "code",
   "execution_count": 26,
   "metadata": {},
   "outputs": [
    {
     "data": {
      "image/png": "[encoded data removed]",
      "text/plain": [
       "<Figure size 720x720 with 2 Axes>"
      ]
     },
     "metadata": {},
     "output_type": "display_data"
    }
   ],
   "source": [
    "sns.set()\n",
    "ncolors = all_scores.first_dense_layer_output_dimension.nunique()\n",
    "all_scores.loc[:, 'log_mean_squared_error'] = all_scores.loc[:, 'mean_squared_error'].apply(lambda x : np.log10(x+1)).values\n",
    "\n",
    "fig, ax = plt.subplots()\n",
    "cax = all_scores.plot.scatter(x='epochs', y='log_mean_squared_error', \n",
    "                      c='first_dense_layer_output_dimension',\n",
    "                      figsize=(10,10), \n",
    "                      ax=ax,\n",
    "                      cmap=plt.cm.get_cmap('viridis', ncolors),\n",
    "                             s=50)\n",
    "loc,lab = plt.xticks()\n",
    "_ = ax.set_xticks([int(l) for l in loc[1:]])\n",
    "_ = ax.set_xticklabels([int(l) for l in loc[1:]])"
   ]
  },
  {
   "cell_type": "code",
   "execution_count": 27,
   "metadata": {
    "scrolled": true
   },
   "outputs": [
    {
     "data": {
      "text/plain": [
       "<matplotlib.axes._subplots.AxesSubplot at 0x1aba9636348>"
      ]
     },
     "execution_count": 27,
     "metadata": {},
     "output_type": "execute_result"
    },
    {
     "data": {
      "image/png": "[encoded data removed]",
      "text/plain": [
       "<Figure size 432x288 with 1 Axes>"
      ]
     },
     "metadata": {},
     "output_type": "display_data"
    }
   ],
   "source": [
    "all_scores.loc[:,column_search(all_scores,'squared')].iloc[:,:2].apply(np.log10).plot.hist(alpha=0.5, bins=50)"
   ]
  },
  {
   "cell_type": "markdown",
   "metadata": {},
   "source": [
    "Is there any commonality between the models that beat the naive baseline? For future work I believe it would be wrothwhile to investigate the potential relationship between output dimension and MSE. In other words, test my assumption that the number of parameters should be small. Some evidence I was wrong is found by looking at the subset of models which were able to beat the naive baseline. First, look at how many runs were made for each dimension value"
   ]
  },
  {
   "cell_type": "code",
   "execution_count": 28,
   "metadata": {},
   "outputs": [
    {
     "data": {
      "text/plain": [
       "2       8\n",
       "4       8\n",
       "6       5\n",
       "8       8\n",
       "12      5\n",
       "16      8\n",
       "24      5\n",
       "32      8\n",
       "64      8\n",
       "128     8\n",
       "256     8\n",
       "512     5\n",
       "1024    5\n",
       "Name: first_dense_layer_output_dimension, dtype: int64"
      ]
     },
     "execution_count": 28,
     "metadata": {},
     "output_type": "execute_result"
    }
   ],
   "source": [
    "all_scores.first_dense_layer_output_dimension.value_counts().sort_index()"
   ]
  },
  {
   "cell_type": "markdown",
   "metadata": {},
   "source": [
    "Then look at the value counts for the models that beat the baseline; it favors the models with higher dimensionality."
   ]
  },
  {
   "cell_type": "code",
   "execution_count": 29,
   "metadata": {},
   "outputs": [
    {
     "data": {
      "text/plain": [
       "16      1\n",
       "24      1\n",
       "32      1\n",
       "64      1\n",
       "128     3\n",
       "256     4\n",
       "512     3\n",
       "1024    4\n",
       "Name: first_dense_layer_output_dimension, dtype: int64"
      ]
     },
     "execution_count": 29,
     "metadata": {},
     "output_type": "execute_result"
    }
   ],
   "source": [
    "beat_baseline = all_scores[(all_scores.naive_mean_squared_error \n",
    "                            -all_scores.mean_squared_error) >0].sort_values(by='mean_squared_error')\n",
    "\n",
    "beat_baseline.first_dense_layer_output_dimension.value_counts().sort_index()"
   ]
  },
  {
   "cell_type": "markdown",
   "metadata": {},
   "source": [
    "Going further, averaging with respect to first layer output dimension shows an inverse proportionality between MSE and dimension"
   ]
  },
  {
   "cell_type": "code",
   "execution_count": 30,
   "metadata": {},
   "outputs": [
    {
     "data": {
      "text/html": [
       "<div>\n",
       "<style scoped>\n",
       "    .dataframe tbody tr th:only-of-type {\n",
       "        vertical-align: middle;\n",
       "    }\n",
       "\n",
       "    .dataframe tbody tr th {\n",
       "        vertical-align: top;\n",
       "    }\n",
       "\n",
       "    .dataframe thead th {\n",
       "        text-align: right;\n",
       "    }\n",
       "</style>\n",
       "<table border=\"1\" class=\"dataframe\">\n",
       "  <thead>\n",
       "    <tr style=\"text-align: right;\">\n",
       "      <th></th>\n",
       "      <th>epochs</th>\n",
       "      <th>batch_size</th>\n",
       "      <th>mean_squared_error</th>\n",
       "      <th>mean_absolute_error</th>\n",
       "      <th>explained_variance</th>\n",
       "      <th>naive_mean_absolute_error</th>\n",
       "      <th>naive_explained_variance</th>\n",
       "      <th>naive_mean_squared_error</th>\n",
       "      <th>log_mean_squared_error</th>\n",
       "    </tr>\n",
       "    <tr>\n",
       "      <th>first_dense_layer_output_dimension</th>\n",
       "      <th></th>\n",
       "      <th></th>\n",
       "      <th></th>\n",
       "      <th></th>\n",
       "      <th></th>\n",
       "      <th></th>\n",
       "      <th></th>\n",
       "      <th></th>\n",
       "      <th></th>\n",
       "    </tr>\n",
       "  </thead>\n",
       "  <tbody>\n",
       "    <tr>\n",
       "      <th>2</th>\n",
       "      <td>140.625</td>\n",
       "      <td>1024.0</td>\n",
       "      <td>1195.050541</td>\n",
       "      <td>15.972101</td>\n",
       "      <td>0.602946</td>\n",
       "      <td>5.934804</td>\n",
       "      <td>0.926058</td>\n",
       "      <td>219.307632</td>\n",
       "      <td>2.989953</td>\n",
       "    </tr>\n",
       "    <tr>\n",
       "      <th>4</th>\n",
       "      <td>140.625</td>\n",
       "      <td>1024.0</td>\n",
       "      <td>930.326545</td>\n",
       "      <td>14.078497</td>\n",
       "      <td>0.689969</td>\n",
       "      <td>5.934804</td>\n",
       "      <td>0.926058</td>\n",
       "      <td>219.307632</td>\n",
       "      <td>2.875152</td>\n",
       "    </tr>\n",
       "    <tr>\n",
       "      <th>6</th>\n",
       "      <td>155.000</td>\n",
       "      <td>1024.0</td>\n",
       "      <td>957.981394</td>\n",
       "      <td>14.055592</td>\n",
       "      <td>0.680727</td>\n",
       "      <td>5.934804</td>\n",
       "      <td>0.926058</td>\n",
       "      <td>219.307632</td>\n",
       "      <td>2.862532</td>\n",
       "    </tr>\n",
       "    <tr>\n",
       "      <th>8</th>\n",
       "      <td>140.625</td>\n",
       "      <td>1024.0</td>\n",
       "      <td>726.623503</td>\n",
       "      <td>12.522694</td>\n",
       "      <td>0.757995</td>\n",
       "      <td>5.934804</td>\n",
       "      <td>0.926058</td>\n",
       "      <td>219.307632</td>\n",
       "      <td>2.770117</td>\n",
       "    </tr>\n",
       "    <tr>\n",
       "      <th>12</th>\n",
       "      <td>155.000</td>\n",
       "      <td>1024.0</td>\n",
       "      <td>736.358703</td>\n",
       "      <td>12.195855</td>\n",
       "      <td>0.754530</td>\n",
       "      <td>5.934804</td>\n",
       "      <td>0.926058</td>\n",
       "      <td>219.307632</td>\n",
       "      <td>2.753202</td>\n",
       "    </tr>\n",
       "    <tr>\n",
       "      <th>16</th>\n",
       "      <td>140.625</td>\n",
       "      <td>1024.0</td>\n",
       "      <td>561.974055</td>\n",
       "      <td>10.992945</td>\n",
       "      <td>0.812859</td>\n",
       "      <td>5.934804</td>\n",
       "      <td>0.926058</td>\n",
       "      <td>219.307632</td>\n",
       "      <td>2.676178</td>\n",
       "    </tr>\n",
       "    <tr>\n",
       "      <th>24</th>\n",
       "      <td>155.000</td>\n",
       "      <td>1024.0</td>\n",
       "      <td>541.345072</td>\n",
       "      <td>10.672853</td>\n",
       "      <td>0.819389</td>\n",
       "      <td>5.934804</td>\n",
       "      <td>0.926058</td>\n",
       "      <td>219.307632</td>\n",
       "      <td>2.649843</td>\n",
       "    </tr>\n",
       "    <tr>\n",
       "      <th>32</th>\n",
       "      <td>140.625</td>\n",
       "      <td>1024.0</td>\n",
       "      <td>438.170283</td>\n",
       "      <td>9.733656</td>\n",
       "      <td>0.853703</td>\n",
       "      <td>5.934804</td>\n",
       "      <td>0.926058</td>\n",
       "      <td>219.307632</td>\n",
       "      <td>2.596033</td>\n",
       "    </tr>\n",
       "    <tr>\n",
       "      <th>64</th>\n",
       "      <td>140.625</td>\n",
       "      <td>1024.0</td>\n",
       "      <td>355.908950</td>\n",
       "      <td>8.833541</td>\n",
       "      <td>0.881041</td>\n",
       "      <td>5.934804</td>\n",
       "      <td>0.926058</td>\n",
       "      <td>219.307632</td>\n",
       "      <td>2.524721</td>\n",
       "    </tr>\n",
       "    <tr>\n",
       "      <th>128</th>\n",
       "      <td>140.625</td>\n",
       "      <td>1024.0</td>\n",
       "      <td>296.390198</td>\n",
       "      <td>8.136623</td>\n",
       "      <td>0.900853</td>\n",
       "      <td>5.934804</td>\n",
       "      <td>0.926058</td>\n",
       "      <td>219.307632</td>\n",
       "      <td>2.450114</td>\n",
       "    </tr>\n",
       "    <tr>\n",
       "      <th>256</th>\n",
       "      <td>140.625</td>\n",
       "      <td>1024.0</td>\n",
       "      <td>260.952401</td>\n",
       "      <td>7.646104</td>\n",
       "      <td>0.912657</td>\n",
       "      <td>5.934804</td>\n",
       "      <td>0.926058</td>\n",
       "      <td>219.307632</td>\n",
       "      <td>2.396780</td>\n",
       "    </tr>\n",
       "    <tr>\n",
       "      <th>512</th>\n",
       "      <td>100.000</td>\n",
       "      <td>1024.0</td>\n",
       "      <td>222.868300</td>\n",
       "      <td>7.144509</td>\n",
       "      <td>0.925446</td>\n",
       "      <td>5.934804</td>\n",
       "      <td>0.926058</td>\n",
       "      <td>219.307632</td>\n",
       "      <td>2.343455</td>\n",
       "    </tr>\n",
       "    <tr>\n",
       "      <th>1024</th>\n",
       "      <td>100.000</td>\n",
       "      <td>1024.0</td>\n",
       "      <td>201.110489</td>\n",
       "      <td>6.737249</td>\n",
       "      <td>0.932650</td>\n",
       "      <td>5.934804</td>\n",
       "      <td>0.926058</td>\n",
       "      <td>219.307632</td>\n",
       "      <td>2.304448</td>\n",
       "    </tr>\n",
       "  </tbody>\n",
       "</table>\n",
       "</div>"
      ],
      "text/plain": [
       "                                     epochs  batch_size  mean_squared_error  \\\n",
       "first_dense_layer_output_dimension                                            \n",
       "2                                   140.625      1024.0         1195.050541   \n",
       "4                                   140.625      1024.0          930.326545   \n",
       "6                                   155.000      1024.0          957.981394   \n",
       "8                                   140.625      1024.0          726.623503   \n",
       "12                                  155.000      1024.0          736.358703   \n",
       "16                                  140.625      1024.0          561.974055   \n",
       "24                                  155.000      1024.0          541.345072   \n",
       "32                                  140.625      1024.0          438.170283   \n",
       "64                                  140.625      1024.0          355.908950   \n",
       "128                                 140.625      1024.0          296.390198   \n",
       "256                                 140.625      1024.0          260.952401   \n",
       "512                                 100.000      1024.0          222.868300   \n",
       "1024                                100.000      1024.0          201.110489   \n",
       "\n",
       "                                    mean_absolute_error  explained_variance  \\\n",
       "first_dense_layer_output_dimension                                            \n",
       "2                                             15.972101            0.602946   \n",
       "4                                             14.078497            0.689969   \n",
       "6                                             14.055592            0.680727   \n",
       "8                                             12.522694            0.757995   \n",
       "12                                            12.195855            0.754530   \n",
       "16                                            10.992945            0.812859   \n",
       "24                                            10.672853            0.819389   \n",
       "32                                             9.733656            0.853703   \n",
       "64                                             8.833541            0.881041   \n",
       "128                                            8.136623            0.900853   \n",
       "256                                            7.646104            0.912657   \n",
       "512                                            7.144509            0.925446   \n",
       "1024                                           6.737249            0.932650   \n",
       "\n",
       "                                    naive_mean_absolute_error  \\\n",
       "first_dense_layer_output_dimension                              \n",
       "2                                                    5.934804   \n",
       "4                                                    5.934804   \n",
       "6                                                    5.934804   \n",
       "8                                                    5.934804   \n",
       "12                                                   5.934804   \n",
       "16                                                   5.934804   \n",
       "24                                                   5.934804   \n",
       "32                                                   5.934804   \n",
       "64                                                   5.934804   \n",
       "128                                                  5.934804   \n",
       "256                                                  5.934804   \n",
       "512                                                  5.934804   \n",
       "1024                                                 5.934804   \n",
       "\n",
       "                                    naive_explained_variance  \\\n",
       "first_dense_layer_output_dimension                             \n",
       "2                                                   0.926058   \n",
       "4                                                   0.926058   \n",
       "6                                                   0.926058   \n",
       "8                                                   0.926058   \n",
       "12                                                  0.926058   \n",
       "16                                                  0.926058   \n",
       "24                                                  0.926058   \n",
       "32                                                  0.926058   \n",
       "64                                                  0.926058   \n",
       "128                                                 0.926058   \n",
       "256                                                 0.926058   \n",
       "512                                                 0.926058   \n",
       "1024                                                0.926058   \n",
       "\n",
       "                                    naive_mean_squared_error  \\\n",
       "first_dense_layer_output_dimension                             \n",
       "2                                                 219.307632   \n",
       "4                                                 219.307632   \n",
       "6                                                 219.307632   \n",
       "8                                                 219.307632   \n",
       "12                                                219.307632   \n",
       "16                                                219.307632   \n",
       "24                                                219.307632   \n",
       "32                                                219.307632   \n",
       "64                                                219.307632   \n",
       "128                                               219.307632   \n",
       "256                                               219.307632   \n",
       "512                                               219.307632   \n",
       "1024                                              219.307632   \n",
       "\n",
       "                                    log_mean_squared_error  \n",
       "first_dense_layer_output_dimension                          \n",
       "2                                                 2.989953  \n",
       "4                                                 2.875152  \n",
       "6                                                 2.862532  \n",
       "8                                                 2.770117  \n",
       "12                                                2.753202  \n",
       "16                                                2.676178  \n",
       "24                                                2.649843  \n",
       "32                                                2.596033  \n",
       "64                                                2.524721  \n",
       "128                                               2.450114  \n",
       "256                                               2.396780  \n",
       "512                                               2.343455  \n",
       "1024                                              2.304448  "
      ]
     },
     "execution_count": 30,
     "metadata": {},
     "output_type": "execute_result"
    }
   ],
   "source": [
    "all_scores.groupby(['first_dense_layer_output_dimension']).mean()"
   ]
  },
  {
   "cell_type": "markdown",
   "metadata": {},
   "source": [
    "<a id='conclusion'></a>\n",
    "# 5. Conclusion and future work\n",
    "[Return to table of contents](#toc)\n",
    "\n",
    "There are many different ideas I have for changes that can be made, both with respect to the model architectures as well as the data itself. Changing the size of the time frames, prediction intervals, data splits, subset of the data used, subset of countries used, changing the architecture, the scaling method, the parameters. I also do not want to forget to mention that the amount of data is increasing over time, as the pandemic continues."
   ]
  }
 ],
 "metadata": {
  "kernelspec": {
   "display_name": "Python 3",
   "language": "python",
   "name": "python3"
  },
  "language_info": {
   "codemirror_mode": {
    "name": "ipython",
    "version": 3
   },
   "file_extension": ".py",
   "mimetype": "text/x-python",
   "name": "python",
   "nbconvert_exporter": "python",
   "pygments_lexer": "ipython3",
   "version": "3.7.6"
  }
 },
 "nbformat": 4,
 "nbformat_minor": 4
}
