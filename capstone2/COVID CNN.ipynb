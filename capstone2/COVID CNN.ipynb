{
 "cells": [
  {
   "cell_type": "code",
   "execution_count": 1,
   "metadata": {},
   "outputs": [],
   "source": [
    "import numpy as np\n",
    "import pandas as pd\n",
    "import seaborn as sns\n",
    "import matplotlib.pyplot as plt\n",
    "import os\n",
    "import sys\n",
    "import re\n",
    "import warnings\n",
    "from sklearn.preprocessing import StandardScaler, MinMaxScaler, QuantileTransformer\n",
    "warnings.simplefilter(action='ignore', category=FutureWarning)\n",
    "import tensorflow as tf\n",
    "from tensorflow.keras.models import Sequential\n",
    "from tensorflow.keras.layers import Dense, Flatten, Dropout, Conv1D, MaxPooling1D,AveragePooling1D, SeparableConv2D\n",
    "from tensorflow.keras.utils import to_categorical\n",
    "from tensorflow.keras.preprocessing.sequence import pad_sequences\n",
    "warnings.resetwarnings()"
   ]
  },
  {
   "cell_type": "code",
   "execution_count": 2,
   "metadata": {},
   "outputs": [],
   "source": [
    "\n",
    "def country_groupby(df):\n",
    "    return [df[df.location==country].index for country in df.location.unique()]\n",
    "\n",
    "def country_search(df, country):\n",
    "    return df[df.location==country].index\n",
    "\n",
    "def column_search(df, name, return_style='loc', threshold='contains'):\n",
    "    if threshold=='contains':\n",
    "        func = df.columns.str.contains\n",
    "    else:\n",
    "        func = df.columns.str.match\n",
    "        \n",
    "    if return_style == 'loc':\n",
    "        return df.columns[func(name)]\n",
    "    elif return_style== 'iloc':\n",
    "        return np.where(func(name))[0]\n",
    "    else:\n",
    "        return None"
   ]
  },
  {
   "cell_type": "code",
   "execution_count": 3,
   "metadata": {},
   "outputs": [],
   "source": [
    "data = pd.read_csv('cnn_data.csv',index_col=0)"
   ]
  },
  {
   "cell_type": "markdown",
   "metadata": {},
   "source": [
    "First course of action is to decide on the format of the inputs. For now, focus on 1-D convolution only.\n",
    "Need to decide on the dimension of the inputs. The typical format is (batch size, time steps, n_features). \n",
    "Two quick ideas :\n",
    "\n",
    "I think the simplest is to just find all windows of length $n$ for all countries such that the input dimension would be\n",
    "input_dim = (n_countries * n_windows, window_size, n_features) \n",
    "\n",
    "The other idea I had would be to do (n_windows, n_countries, window_size, n_features), and then the output would be the future values for each country.\n",
    "\n",
    "Just do the first for now. Also, just do a one-step model for now."
   ]
  },
  {
   "cell_type": "markdown",
   "metadata": {},
   "source": [
    "Want to predict n_cases_weighted (weighted by the percentage of the population that the country consists of. Might be a dumb idea.)"
   ]
  },
  {
   "cell_type": "code",
   "execution_count": 4,
   "metadata": {},
   "outputs": [],
   "source": [
    "data = data.drop(columns='date')\n",
    "data.loc[:, 'date_proxy'] += 1"
   ]
  },
  {
   "cell_type": "code",
   "execution_count": 5,
   "metadata": {},
   "outputs": [
    {
     "data": {
      "text/html": [
       "<div>\n",
       "<style scoped>\n",
       "    .dataframe tbody tr th:only-of-type {\n",
       "        vertical-align: middle;\n",
       "    }\n",
       "\n",
       "    .dataframe tbody tr th {\n",
       "        vertical-align: top;\n",
       "    }\n",
       "\n",
       "    .dataframe thead th {\n",
       "        text-align: right;\n",
       "    }\n",
       "</style>\n",
       "<table border=\"1\" class=\"dataframe\">\n",
       "  <thead>\n",
       "    <tr style=\"text-align: right;\">\n",
       "      <th></th>\n",
       "      <th>1</th>\n",
       "      <th>2</th>\n",
       "      <th>3</th>\n",
       "      <th>4</th>\n",
       "      <th>5</th>\n",
       "      <th>6</th>\n",
       "      <th>7</th>\n",
       "      <th>8</th>\n",
       "      <th>9</th>\n",
       "      <th>10</th>\n",
       "      <th>11</th>\n",
       "      <th>12</th>\n",
       "      <th>13</th>\n",
       "      <th>14</th>\n",
       "    </tr>\n",
       "  </thead>\n",
       "  <tbody>\n",
       "    <tr>\n",
       "      <th>0</th>\n",
       "      <td>0.000000</td>\n",
       "      <td>0.000000</td>\n",
       "      <td>0.000000</td>\n",
       "      <td>0.000000</td>\n",
       "      <td>0.0</td>\n",
       "      <td>0.0</td>\n",
       "      <td>0.0</td>\n",
       "      <td>0.0</td>\n",
       "      <td>0.0</td>\n",
       "      <td>0.0</td>\n",
       "      <td>0.0</td>\n",
       "      <td>0.0</td>\n",
       "      <td>0.0</td>\n",
       "      <td>0.0</td>\n",
       "    </tr>\n",
       "    <tr>\n",
       "      <th>1</th>\n",
       "      <td>0.000000</td>\n",
       "      <td>0.000000</td>\n",
       "      <td>0.000000</td>\n",
       "      <td>0.000000</td>\n",
       "      <td>0.0</td>\n",
       "      <td>0.0</td>\n",
       "      <td>0.0</td>\n",
       "      <td>0.0</td>\n",
       "      <td>0.0</td>\n",
       "      <td>0.0</td>\n",
       "      <td>0.0</td>\n",
       "      <td>0.0</td>\n",
       "      <td>0.0</td>\n",
       "      <td>0.0</td>\n",
       "    </tr>\n",
       "    <tr>\n",
       "      <th>2</th>\n",
       "      <td>0.000000</td>\n",
       "      <td>0.000000</td>\n",
       "      <td>0.000000</td>\n",
       "      <td>0.000000</td>\n",
       "      <td>0.0</td>\n",
       "      <td>0.0</td>\n",
       "      <td>0.0</td>\n",
       "      <td>0.0</td>\n",
       "      <td>0.0</td>\n",
       "      <td>0.0</td>\n",
       "      <td>0.0</td>\n",
       "      <td>0.0</td>\n",
       "      <td>0.0</td>\n",
       "      <td>0.0</td>\n",
       "    </tr>\n",
       "    <tr>\n",
       "      <th>3</th>\n",
       "      <td>0.000000</td>\n",
       "      <td>0.000000</td>\n",
       "      <td>0.000000</td>\n",
       "      <td>0.000000</td>\n",
       "      <td>0.0</td>\n",
       "      <td>0.0</td>\n",
       "      <td>0.0</td>\n",
       "      <td>0.0</td>\n",
       "      <td>0.0</td>\n",
       "      <td>0.0</td>\n",
       "      <td>0.0</td>\n",
       "      <td>0.0</td>\n",
       "      <td>0.0</td>\n",
       "      <td>0.0</td>\n",
       "    </tr>\n",
       "    <tr>\n",
       "      <th>4</th>\n",
       "      <td>0.000000</td>\n",
       "      <td>0.000000</td>\n",
       "      <td>0.000000</td>\n",
       "      <td>0.000000</td>\n",
       "      <td>0.0</td>\n",
       "      <td>0.0</td>\n",
       "      <td>0.0</td>\n",
       "      <td>0.0</td>\n",
       "      <td>0.0</td>\n",
       "      <td>0.0</td>\n",
       "      <td>0.0</td>\n",
       "      <td>0.0</td>\n",
       "      <td>0.0</td>\n",
       "      <td>0.0</td>\n",
       "    </tr>\n",
       "    <tr>\n",
       "      <th>...</th>\n",
       "      <td>...</td>\n",
       "      <td>...</td>\n",
       "      <td>...</td>\n",
       "      <td>...</td>\n",
       "      <td>...</td>\n",
       "      <td>...</td>\n",
       "      <td>...</td>\n",
       "      <td>...</td>\n",
       "      <td>...</td>\n",
       "      <td>...</td>\n",
       "      <td>...</td>\n",
       "      <td>...</td>\n",
       "      <td>...</td>\n",
       "      <td>...</td>\n",
       "    </tr>\n",
       "    <tr>\n",
       "      <th>17935</th>\n",
       "      <td>0.272393</td>\n",
       "      <td>0.307474</td>\n",
       "      <td>0.307474</td>\n",
       "      <td>0.359064</td>\n",
       "      <td>NaN</td>\n",
       "      <td>NaN</td>\n",
       "      <td>NaN</td>\n",
       "      <td>NaN</td>\n",
       "      <td>NaN</td>\n",
       "      <td>NaN</td>\n",
       "      <td>NaN</td>\n",
       "      <td>NaN</td>\n",
       "      <td>NaN</td>\n",
       "      <td>NaN</td>\n",
       "    </tr>\n",
       "    <tr>\n",
       "      <th>17936</th>\n",
       "      <td>0.307474</td>\n",
       "      <td>0.307474</td>\n",
       "      <td>0.359064</td>\n",
       "      <td>NaN</td>\n",
       "      <td>NaN</td>\n",
       "      <td>NaN</td>\n",
       "      <td>NaN</td>\n",
       "      <td>NaN</td>\n",
       "      <td>NaN</td>\n",
       "      <td>NaN</td>\n",
       "      <td>NaN</td>\n",
       "      <td>NaN</td>\n",
       "      <td>NaN</td>\n",
       "      <td>NaN</td>\n",
       "    </tr>\n",
       "    <tr>\n",
       "      <th>17937</th>\n",
       "      <td>0.307474</td>\n",
       "      <td>0.359064</td>\n",
       "      <td>NaN</td>\n",
       "      <td>NaN</td>\n",
       "      <td>NaN</td>\n",
       "      <td>NaN</td>\n",
       "      <td>NaN</td>\n",
       "      <td>NaN</td>\n",
       "      <td>NaN</td>\n",
       "      <td>NaN</td>\n",
       "      <td>NaN</td>\n",
       "      <td>NaN</td>\n",
       "      <td>NaN</td>\n",
       "      <td>NaN</td>\n",
       "    </tr>\n",
       "    <tr>\n",
       "      <th>17938</th>\n",
       "      <td>0.359064</td>\n",
       "      <td>NaN</td>\n",
       "      <td>NaN</td>\n",
       "      <td>NaN</td>\n",
       "      <td>NaN</td>\n",
       "      <td>NaN</td>\n",
       "      <td>NaN</td>\n",
       "      <td>NaN</td>\n",
       "      <td>NaN</td>\n",
       "      <td>NaN</td>\n",
       "      <td>NaN</td>\n",
       "      <td>NaN</td>\n",
       "      <td>NaN</td>\n",
       "      <td>NaN</td>\n",
       "    </tr>\n",
       "    <tr>\n",
       "      <th>17939</th>\n",
       "      <td>NaN</td>\n",
       "      <td>NaN</td>\n",
       "      <td>NaN</td>\n",
       "      <td>NaN</td>\n",
       "      <td>NaN</td>\n",
       "      <td>NaN</td>\n",
       "      <td>NaN</td>\n",
       "      <td>NaN</td>\n",
       "      <td>NaN</td>\n",
       "      <td>NaN</td>\n",
       "      <td>NaN</td>\n",
       "      <td>NaN</td>\n",
       "      <td>NaN</td>\n",
       "      <td>NaN</td>\n",
       "    </tr>\n",
       "  </tbody>\n",
       "</table>\n",
       "<p>17940 rows × 14 columns</p>\n",
       "</div>"
      ],
      "text/plain": [
       "             1         2         3         4    5    6    7    8    9    10  \\\n",
       "0      0.000000  0.000000  0.000000  0.000000  0.0  0.0  0.0  0.0  0.0  0.0   \n",
       "1      0.000000  0.000000  0.000000  0.000000  0.0  0.0  0.0  0.0  0.0  0.0   \n",
       "2      0.000000  0.000000  0.000000  0.000000  0.0  0.0  0.0  0.0  0.0  0.0   \n",
       "3      0.000000  0.000000  0.000000  0.000000  0.0  0.0  0.0  0.0  0.0  0.0   \n",
       "4      0.000000  0.000000  0.000000  0.000000  0.0  0.0  0.0  0.0  0.0  0.0   \n",
       "...         ...       ...       ...       ...  ...  ...  ...  ...  ...  ...   \n",
       "17935  0.272393  0.307474  0.307474  0.359064  NaN  NaN  NaN  NaN  NaN  NaN   \n",
       "17936  0.307474  0.307474  0.359064       NaN  NaN  NaN  NaN  NaN  NaN  NaN   \n",
       "17937  0.307474  0.359064       NaN       NaN  NaN  NaN  NaN  NaN  NaN  NaN   \n",
       "17938  0.359064       NaN       NaN       NaN  NaN  NaN  NaN  NaN  NaN  NaN   \n",
       "17939       NaN       NaN       NaN       NaN  NaN  NaN  NaN  NaN  NaN  NaN   \n",
       "\n",
       "        11   12   13   14  \n",
       "0      0.0  0.0  0.0  0.0  \n",
       "1      0.0  0.0  0.0  0.0  \n",
       "2      0.0  0.0  0.0  0.0  \n",
       "3      0.0  0.0  0.0  0.0  \n",
       "4      0.0  0.0  0.0  0.0  \n",
       "...    ...  ...  ...  ...  \n",
       "17935  NaN  NaN  NaN  NaN  \n",
       "17936  NaN  NaN  NaN  NaN  \n",
       "17937  NaN  NaN  NaN  NaN  \n",
       "17938  NaN  NaN  NaN  NaN  \n",
       "17939  NaN  NaN  NaN  NaN  \n",
       "\n",
       "[17940 rows x 14 columns]"
      ]
     },
     "execution_count": 5,
     "metadata": {},
     "output_type": "execute_result"
    }
   ],
   "source": [
    "for i in range(1, 15):\n",
    "    if i == 1:\n",
    "        target_data =  data.groupby('location').shift(-i).n_cases_weighted.copy()\n",
    "    else:\n",
    "        target_data = pd.concat((target_data,  data.groupby('location').shift(-i).n_cases_weighted),axis=1)\n",
    "\n",
    "target_data.columns = [i for i in range(1, 15)]\n",
    "target_data"
   ]
  },
  {
   "cell_type": "code",
   "execution_count": 6,
   "metadata": {},
   "outputs": [
    {
     "data": {
      "text/plain": [
       "138"
      ]
     },
     "execution_count": 6,
     "metadata": {},
     "output_type": "execute_result"
    }
   ],
   "source": [
    "n_countries = data.location.nunique()\n",
    "n_countries"
   ]
  },
  {
   "cell_type": "markdown",
   "metadata": {},
   "source": [
    "Example of how I will be concatenating, slicing, padding, etc. "
   ]
  },
  {
   "cell_type": "code",
   "execution_count": 7,
   "metadata": {},
   "outputs": [
    {
     "name": "stdout",
     "output_type": "stream",
     "text": [
      "(1, 138, 32, 152)\n"
     ]
    }
   ],
   "source": [
    "model_data = data.iloc[:, 1:]\n",
    "max_date_in_window = 32\n",
    "window_size = 32\n",
    "\n",
    "# Take all model_data with date proxy less than numerical value, leading_window_date_not_included\n",
    "windowed_data = model_data[model_data.date_proxy <= max_date_in_window]\n",
    "#     print(windowed_data.shape)\n",
    "\n",
    "# Reshape the array such that each element along axis=0 is a time series of all feature model_data of a specific country.\n",
    "reshaped_windowed_data = windowed_data.values.reshape(n_countries, max_date_in_window, -1)\n",
    "#     print(reshaped_windowed_data.shape)\n",
    "\n",
    "# Truncate / pad the windows along the \"time\" axis, axis=1. (pad_sequences takes in an iterable of iterables;\n",
    "# the first axis is always the default iteration axis. \n",
    "resized_window_data = pad_sequences(reshaped_windowed_data, maxlen=window_size)\n",
    "#     print(resized_window_data.shape)\n",
    "\n",
    "# \n",
    "window_data_4d = resized_window_data[np.newaxis, :, :, :]\n",
    "if max_date_in_window == window_size:\n",
    "    X = window_data_4d.copy()\n",
    "else:\n",
    "    X = np.concatenate((X, window_data_4d),axis=0)\n",
    "\n",
    "print(X.shape)\n",
    "n_windows, n_countries, n_time_steps, n_features = X.shape"
   ]
  },
  {
   "cell_type": "markdown",
   "metadata": {},
   "source": [
    "By iterating over possible leading window dates (window right edge, not inclusive),\n",
    "a 4-d tensor with dimensions given by the following is created:\n",
    "    \n",
    "```(n_windows, n_countries, n_time_steps, n_features)```\n",
    "\n",
    "Even if I don't use the input of this form, it makes it much easier to slice into train, validate and test, by slicing along\n",
    "the ```n_windows``` axis. \n",
    "\n",
    "Note that if I also only wanted to include data from after the first case, that is possible by slicing data.time_index >= 1 \n",
    "\n",
    "Putting this all together:\n"
   ]
  },
  {
   "cell_type": "code",
   "execution_count": 8,
   "metadata": {},
   "outputs": [
    {
     "data": {
      "text/plain": [
       "<matplotlib.axes._subplots.AxesSubplot at 0x1c9429ad308>"
      ]
     },
     "execution_count": 8,
     "metadata": {},
     "output_type": "execute_result"
    },
    {
     "data": {
      "image/png": "[encoded data removed]",
      "text/plain": [
       "<Figure size 432x288 with 1 Axes>"
      ]
     },
     "metadata": {
      "needs_background": "light"
     },
     "output_type": "display_data"
    }
   ],
   "source": [
    "data.n_cases_weighted.plot()"
   ]
  },
  {
   "cell_type": "code",
   "execution_count": 9,
   "metadata": {},
   "outputs": [
    {
     "name": "stdout",
     "output_type": "stream",
     "text": [
      "(66, 138, 32, 152)\n",
      "(66, 138)\n"
     ]
    }
   ],
   "source": [
    "model_data = data.iloc[:, 1:]\n",
    "start_date = 64\n",
    "window_size = 32\n",
    "n_days_into_future = 1\n",
    "# can't include the max date because need at least 1 day in future to predict. +1 because of how range doesn't include endpoint\n",
    "for max_date_in_window in range(start_date, model_data.date_proxy.max() - n_days_into_future + 1):\n",
    " \n",
    "    # Take all model_data with date proxy less than numerical value, leading_window_date_not_included\n",
    "    windowed_data = model_data[model_data.date_proxy <= max_date_in_window]\n",
    "    #     print(windowed_data.shape)\n",
    "    # Reshape the array such that each element along axis=0 is a time series of all feature model_data of a specific country.\n",
    "    reshaped_windowed_data = windowed_data.values.reshape(n_countries, max_date_in_window, -1)\n",
    "    #     print(reshaped_windowed_data.shape)\n",
    "    # Truncate / pad the windows along the \"time\" axis, axis=1. (pad_sequences takes in an iterable of iterables;\n",
    "    # the first axis is always the default iteration axis. \n",
    "    resized_window_data = pad_sequences(reshaped_windowed_data, maxlen=window_size)\n",
    "    \n",
    "    window_data_4d = resized_window_data[np.newaxis, :, :, :]\n",
    "\n",
    "    #     print(resized_window_data.shape)\n",
    "    #\n",
    "    future_index = model_data[model_data.date_proxy == max_date_in_window].index\n",
    "    n_step_predictions = target_data.loc[future_index, n_days_into_future]\n",
    "    if max_date_in_window == start_date:\n",
    "        X = window_data_4d.copy()\n",
    "        y = n_step_predictions.values.reshape(1,-1)\n",
    "    else:\n",
    "        X = np.concatenate((X, window_data_4d),axis=0)\n",
    "        y = np.concatenate((y, n_step_predictions.values.reshape(1,-1)),axis=0)\n",
    "print(X.shape)\n",
    "n_windows, n_countries, n_time_steps, n_features = X.shape\n",
    "print(y.shape)"
   ]
  },
  {
   "cell_type": "code",
   "execution_count": 10,
   "metadata": {},
   "outputs": [],
   "source": [
    "# alternative method of slicing target values\n",
    "#     future_index = model_data[model_data.date_proxy == leading_window_date_included + n_days_into_future].index\n",
    "#     n_step_predictions = model_data.loc[future_index, 'n_cases_weighted']"
   ]
  },
  {
   "cell_type": "markdown",
   "metadata": {},
   "source": [
    "Now, splitting X intro train, validate, test, is as easy as slicing the first axis. Depending on how the CNN is set up, this\n",
    "axis can later be flattened by simply applying ```np.concatenate(X_train, axis=0)```"
   ]
  },
  {
   "cell_type": "markdown",
   "metadata": {},
   "source": [
    "Now, for the target data ```y```. To be as general as possible, I note that I should first shift the time series and combine them to store all of the data, and THEN manipulate it, i.e."
   ]
  },
  {
   "cell_type": "markdown",
   "metadata": {},
   "source": [
    "Assuming that ```X``` is of the shape ```(n_windows, n_countries, n_time_steps, n_features)```, the target data ```y``` should\n",
    "be of shape ```(n_windows, n_countries)``` and the values for each slice of the first axis is then of shape ```(n_countries,)```, with the values equaling the ```model_data.n_cases_weighted``` value for ```date_proxy == window_right_edge_inclusive + n```, where n is the prediction step size. \n",
    "\n",
    "Because we need future values with which to measure error, the maximum that the leading window edge can be is always \n",
    "\n",
    "```model_data.date_proxy.max() - n```\n",
    "\n",
    "In other words, because the maximum date value is"
   ]
  },
  {
   "cell_type": "code",
   "execution_count": 11,
   "metadata": {},
   "outputs": [
    {
     "data": {
      "text/plain": [
       "130"
      ]
     },
     "execution_count": 11,
     "metadata": {},
     "output_type": "execute_result"
    }
   ],
   "source": [
    "model_data.date_proxy.max()"
   ]
  },
  {
   "cell_type": "markdown",
   "metadata": {},
   "source": [
    "If I want to predict (and measure error) for 7 days in the future, the last window would have leading edge \n",
    "```model_data.date_proxy == 123```. \n",
    "\n",
    "For now, just test the waters with a 1-day prediction.\n",
    "To do so, first split the X and y data into train, validate, test.\n",
    "For the first attempt at a model, use Conv1D only, have to flatten the data with concatenations.\n",
    "Before this, however, I want to rescale the data. Now, because each different element in the first axis is a different time range, the correct action is to (if normalizing) take the mean with respect to axis=1 and axis=2 ```n_countries``` and  ```n_time_steps```. This leaves a total number of averages of shape ```(n_windows, n_features)```, i.e. the mean and standard deviations for each feature for each date range. This ensures that no data snooping has occurred. To actually subtract and divide by these values, need to reform the same shape array (or at least that seems to be the easiest method to me."
   ]
  },
  {
   "cell_type": "code",
   "execution_count": 12,
   "metadata": {},
   "outputs": [],
   "source": [
    "X_train, y_train = np.concatenate(X[:-7,:,:,:],axis=0), np.concatenate(y[:-7,:],axis=0)"
   ]
  },
  {
   "cell_type": "markdown",
   "metadata": {},
   "source": [
    "The normalization approach I'm using doesn't utilize all values in the history to normalize; only values in the specific windows"
   ]
  },
  {
   "cell_type": "code",
   "execution_count": null,
   "metadata": {},
   "outputs": [],
   "source": [
    "Xmean = np.tile(X[:-7,:,:,:].std(axis=(1,2))[:, np.newaxis, np.newaxis, :], (1, n_countries, n_time_steps, 1))"
   ]
  },
  {
   "cell_type": "markdown",
   "metadata": {},
   "source": [
    "Just to check, the slice [0, :, :, 0] should only contain one value."
   ]
  },
  {
   "cell_type": "code",
   "execution_count": 14,
   "metadata": {},
   "outputs": [
    {
     "data": {
      "text/plain": [
       "9.233093    4416\n",
       "dtype: int64"
      ]
     },
     "execution_count": 14,
     "metadata": {},
     "output_type": "execute_result"
    }
   ],
   "source": [
    "pd.Series(Xmean[0,:,:,0].ravel()).value_counts()"
   ]
  },
  {
   "cell_type": "code",
   "execution_count": 15,
   "metadata": {},
   "outputs": [],
   "source": [
    "def normalize(X):\n",
    "    X_means = np.tile(X.mean(axis=(1,2))[:, np.newaxis, np.newaxis, :], (1, n_countries, n_time_steps, 1))\n",
    "    X_stds = np.tile(X.std(axis=(1,2))[:, np.newaxis, np.newaxis, :], (1, n_countries, n_time_steps, 1))\n",
    "    return (X - X_means) / X_stds"
   ]
  },
  {
   "cell_type": "code",
   "execution_count": 16,
   "metadata": {},
   "outputs": [],
   "source": [
    "X_train, y_train = X[:-7,:,:,:], y[:-7,:]"
   ]
  },
  {
   "cell_type": "code",
   "execution_count": 17,
   "metadata": {},
   "outputs": [],
   "source": [
    "X_training_means = np.tile(X_train.mean(axis=(1,2))[:, np.newaxis, np.newaxis, :], (1, n_countries, n_time_steps, 1))\n",
    "X_training_stds = np.tile(X_train.std(axis=(1,2))[:, np.newaxis, np.newaxis, :], (1, n_countries, n_time_steps, 1))"
   ]
  },
  {
   "cell_type": "code",
   "execution_count": 27,
   "metadata": {},
   "outputs": [],
   "source": [
    "X_train = np.concatenate((X_train - X_training_means) / X_training_stds,axis=0)"
   ]
  },
  {
   "cell_type": "code",
   "execution_count": 19,
   "metadata": {},
   "outputs": [],
   "source": [
    "X_mean = X_train.mean(axis=(1,2))[-1,:][np.newaxis, np.newaxis, np.newaxis, :]\n",
    "X_std = X_train.std(axis=(1,2))[-1,:][np.newaxis, np.newaxis, np.newaxis, :]"
   ]
  },
  {
   "cell_type": "code",
   "execution_count": 20,
   "metadata": {},
   "outputs": [],
   "source": [
    "X_validate, y_validate = X[-7:-4,:,:,:], y[-7:-4,:]\n",
    "X_test, y_test = X[-4:,:,:,:], y[-4:,:]"
   ]
  },
  {
   "cell_type": "code",
   "execution_count": 28,
   "metadata": {},
   "outputs": [],
   "source": [
    "X_validate = np.concatenate(((X_validate - np.tile(X_mean, (X_validate.shape[0],X_validate.shape[1],X_validate.shape[2],1)))\n",
    "                / np.tile(X_std, (X_validate.shape[0],X_validate.shape[1],X_validate.shape[2],1))),axis=0)"
   ]
  },
  {
   "cell_type": "code",
   "execution_count": 29,
   "metadata": {},
   "outputs": [],
   "source": [
    "X_test = np.concatenate(((X_test - np.tile(X_mean, (X_test.shape[0],X_test.shape[1],X_test.shape[2],1))) \n",
    "            / np.tile(X_std, (X_test.shape[0],X_test.shape[1],X_test.shape[2],1))),axis=0)"
   ]
  },
  {
   "cell_type": "code",
   "execution_count": 30,
   "metadata": {},
   "outputs": [],
   "source": [
    "y_train, y_validate, y_test = np.concatenate(y_train, axis=0),np.concatenate(y_validate, axis=0),np.concatenate(y_test, axis=0)"
   ]
  },
  {
   "cell_type": "code",
   "execution_count": 31,
   "metadata": {},
   "outputs": [],
   "source": [
    "# X_validate, y_validate = np.concatenate(normalize(X[-7:-4,:,:,:]), axis=0), np.concatenate(y[-7:-4,:],axis=0)\n",
    "# X_test, y_test = np.concatenate(normalize(X[-4:,:,:,:]), axis=0), np.concatenate(y[-4:,:],axis=0)"
   ]
  },
  {
   "cell_type": "code",
   "execution_count": 32,
   "metadata": {},
   "outputs": [],
   "source": [
    "# X_train, y_train = np.concatenate(normalize(X[:-7,:,:,:]), axis=0), np.concatenate(y[:-7,:],axis=0)\n",
    "# X_validate, y_validate = np.concatenate(normalize(X[-7:-4,:,:,:]), axis=0), np.concatenate(y[-7:-4,:],axis=0)\n",
    "# X_test, y_test = np.concatenate(normalize(X[-4:,:,:,:]), axis=0), np.concatenate(y[-4:,:],axis=0)"
   ]
  },
  {
   "cell_type": "code",
   "execution_count": 33,
   "metadata": {},
   "outputs": [
    {
     "name": "stderr",
     "output_type": "stream",
     "text": [
      "C:\\ProgramData\\Anaconda3\\lib\\site-packages\\tensorflow\\python\\ops\\nn_ops.py:61: DeprecationWarning: Using or importing the ABCs from 'collections' instead of from 'collections.abc' is deprecated since Python 3.3,and in 3.9 it will stop working\n",
      "  elif not isinstance(value, collections.Sized):\n"
     ]
    },
    {
     "name": "stdout",
     "output_type": "stream",
     "text": [
      "Train on 8142 samples, validate on 414 samples\n",
      "Epoch 1/10\n",
      "8142/8142 [==============================] - 1s 125us/sample - loss: 582.6169 - val_loss: 34617250.1546\n",
      "Epoch 2/10\n",
      "8142/8142 [==============================] - 1s 107us/sample - loss: 581.6158 - val_loss: 65273568.7343\n",
      "Epoch 3/10\n",
      "8142/8142 [==============================] - 1s 109us/sample - loss: 580.3932 - val_loss: 115856711.8068\n",
      "Epoch 4/10\n",
      "8142/8142 [==============================] - 1s 109us/sample - loss: 578.2898 - val_loss: 166047052.1353\n",
      "Epoch 5/10\n",
      "8142/8142 [==============================] - 1s 110us/sample - loss: 576.4662 - val_loss: 205057879.7681\n",
      "Epoch 6/10\n",
      "8142/8142 [==============================] - 1s 108us/sample - loss: 573.1527 - val_loss: 247018436.4831\n",
      "Epoch 7/10\n",
      "8142/8142 [==============================] - 1s 108us/sample - loss: 570.4393 - val_loss: 203795531.6715\n",
      "Epoch 8/10\n",
      "8142/8142 [==============================] - 1s 108us/sample - loss: 567.4760 - val_loss: 184871249.8551\n",
      "Epoch 9/10\n",
      "8142/8142 [==============================] - 1s 107us/sample - loss: 564.5514 - val_loss: 129981349.5266\n",
      "Epoch 10/10\n",
      "8142/8142 [==============================] - 1s 107us/sample - loss: 561.0640 - val_loss: 128716362.8213\n"
     ]
    },
    {
     "data": {
      "text/plain": [
       "114438263.88405797"
      ]
     },
     "execution_count": 33,
     "metadata": {},
     "output_type": "execute_result"
    }
   ],
   "source": [
    "epochs, batch_size = 25, 256\n",
    "#     n_timesteps, n_features, n_outputs = trainX.shape[1], trainX.shape[2], trainy.shape[1]\n",
    "model = Sequential()\n",
    "model.add(Conv1D(filters=32, kernel_size=4, activation='relu', input_shape=X_train.shape[1:]))\n",
    "# model.add(Conv1D(filters=8, kernel_size=16, activation='relu'))\n",
    "# model.add(Dropout(0.5))\n",
    "model.add(AveragePooling1D(pool_size=2))\n",
    "model.add(Flatten())\n",
    "# model.add(Dense(100, activation='relu'))\n",
    "model.add(Dense(1, activation='relu'))\n",
    "model.compile(loss='mae', optimizer='adam')\n",
    "# fit network\n",
    "model.fit(X_train, y_train, epochs=10, validation_data=(X_validate, y_validate), batch_size=256)\n",
    "# evaluate model\n",
    "model.evaluate(X_test, y_test, batch_size=batch_size, verbose=0)\n",
    "#     return accuracy"
   ]
  },
  {
   "cell_type": "code",
   "execution_count": null,
   "metadata": {},
   "outputs": [],
   "source": [
    "y_predict = model.predict(X_test)"
   ]
  },
  {
   "cell_type": "code",
   "execution_count": null,
   "metadata": {
    "scrolled": false
   },
   "outputs": [],
   "source": [
    "ymin, ymax = np.min([y_test.min(), y_predict.min()]), np.max([y_test.max(), y_predict.max()])\n",
    "plt.scatter(y_test, y_predict)\n",
    "plt.plot([0,ymax], [0,ymax])\n",
    "plt.ylabel('Predicted value')\n",
    "plt.xlabel('True value')\n"
   ]
  },
  {
   "cell_type": "code",
   "execution_count": null,
   "metadata": {},
   "outputs": [],
   "source": [
    "X_train, y_train = X[:-7,:,:,:], y[:-7,:]\n",
    "X_validate, y_validate = X[-7:-4,:,:,:], y[-7:-4,:]\n",
    "X_test, y_test = X[-4:,:,:,:], y[-4:,:]"
   ]
  },
  {
   "cell_type": "code",
   "execution_count": null,
   "metadata": {},
   "outputs": [],
   "source": [
    "epochs, batch_size = 0, 10, 256\n",
    "#     n_timesteps, n_features, n_outputs = trainX.shape[1], trainX.shape[2], trainy.shape[1]\n",
    "model = Sequential()\n",
    "model.add(SeparableConv2D(filters=128, kernel_size=3, data_format='channels_first', activation='relu', input_shape=(n_timesteps, n_features)))\n",
    "model.add(Conv1D(filters=16, kernel_size=3, activation='relu'))\n",
    "model.add(Dropout(0.5))\n",
    "model.add(MaxPooling1D(pool_size=2))\n",
    "model.add(Flatten())\n",
    "model.add(Dense(100, activation='relu'))\n",
    "model.add(Dense(n_outputs, activation='softmax'))\n",
    "model.compile(loss='mae', optimizer='adam')\n",
    "# fit network\n",
    "model.fit(trainX, trainy, epochs=epochs, validation_data=(X_validate, y_validate), batch_size=batch_size, verbose=verbose)\n",
    "# evaluate model\n",
    "_, accuracy = model.evaluate(testX, testy, batch_size=batch_size, verbose=0)\n",
    "#     return accuracy"
   ]
  },
  {
   "cell_type": "code",
   "execution_count": null,
   "metadata": {},
   "outputs": [],
   "source": [
    "# fit and evaluate a model\n",
    "def evaluate_model(X_train, y_train, X_test, y_test):\n",
    "    verbose, epochs, batch_size = 0, 10, 32\n",
    "    n_timesteps, n_features, n_outputs = trainX.shape[1], trainX.shape[2], trainy.shape[1]\n",
    "    model = Sequential()\n",
    "    model.add(Conv1D(filters=64, kernel_size=3, activation='relu', input_shape=(n_timesteps, n_features)))\n",
    "    model.add(Conv1D(filters=64, kernel_size=3, activation='relu'))\n",
    "    model.add(Dropout(0.5))\n",
    "    model.add(MaxPooling1D(pool_size=2))\n",
    "    model.add(Flatten())\n",
    "    model.add(Dense(100, activation='relu'))\n",
    "    model.add(Dense(n_outputs, activation='softmax'))\n",
    "    model.compile(loss='categorical_crossentropy', optimizer='adam', metrics=['accuracy'])\n",
    "    # fit network\n",
    "    model.fit(trainX, trainy, epochs=epochs, batch_size=batch_size, verbose=verbose)\n",
    "    # evaluate model\n",
    "    _, accuracy = model.evaluate(testX, testy, batch_size=batch_size, verbose=0)\n",
    "    return accuracy\n"
   ]
  },
  {
   "cell_type": "code",
   "execution_count": null,
   "metadata": {},
   "outputs": [],
   "source": [
    "verbose, epochs, batch_size = 0, 10, 32\n",
    "n_timesteps, n_features, n_outputs = trainX.shape[1], trainX.shape[2], trainy.shape[1]\n",
    "model = Sequential()\n",
    "model.add(Conv1D(filters=64, kernel_size=3, activation='relu', input_shape=(n_timesteps, n_features)))\n",
    "model.add(Conv1D(filters=64, kernel_size=3, activation='relu'))\n",
    "model.add(Dropout(0.5))\n",
    "model.add(MaxPooling1D(pool_size=2))\n",
    "model.add(Flatten())\n",
    "model.add(Dense(100, activation='relu'))\n",
    "model.add(Dense(n_outputs, activation='softmax'))\n",
    "model.compile(loss='categorical_crossentropy', optimizer='adam', metrics=['accuracy'])\n",
    "# fit network\n",
    "model.fit(trainX, trainy, epochs=epochs, batch_size=batch_size, verbose=verbose)\n",
    "# evaluate model\n",
    "_, accuracy = model.evaluate(testX, testy, batch_size=batch_size, verbose=0)\n",
    "return accuracy"
   ]
  },
  {
   "cell_type": "code",
   "execution_count": null,
   "metadata": {},
   "outputs": [],
   "source": []
  },
  {
   "cell_type": "code",
   "execution_count": null,
   "metadata": {},
   "outputs": [],
   "source": []
  },
  {
   "cell_type": "code",
   "execution_count": null,
   "metadata": {},
   "outputs": [],
   "source": []
  },
  {
   "cell_type": "code",
   "execution_count": null,
   "metadata": {},
   "outputs": [],
   "source": []
  },
  {
   "cell_type": "code",
   "execution_count": null,
   "metadata": {},
   "outputs": [],
   "source": []
  }
 ],
 "metadata": {
  "kernelspec": {
   "display_name": "Python 3",
   "language": "python",
   "name": "python3"
  },
  "language_info": {
   "codemirror_mode": {
    "name": "ipython",
    "version": 3
   },
   "file_extension": ".py",
   "mimetype": "text/x-python",
   "name": "python",
   "nbconvert_exporter": "python",
   "pygments_lexer": "ipython3",
   "version": "3.7.6"
  }
 },
 "nbformat": 4,
 "nbformat_minor": 4
}
