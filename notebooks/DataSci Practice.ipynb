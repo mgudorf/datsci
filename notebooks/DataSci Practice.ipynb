{
 "cells": [
  {
   "cell_type": "code",
   "execution_count": 1,
   "metadata": {},
   "outputs": [],
   "source": [
    "import pandas as pd\n",
    "import numpy as np"
   ]
  },
  {
   "cell_type": "markdown",
   "metadata": {},
   "source": [
    "This will served as a place to archive useful examples on how to use different data science packages such\n",
    "as: pandas, sklearn, imbalanced-learn (not tensorflow as it needs its own env)"
   ]
  },
  {
   "cell_type": "markdown",
   "metadata": {},
   "source": [
    "Useful pandas functions (look up brandon-rhodes notebook):\n",
    "    -melt\n",
    "    -merge\n",
    "    -pivot_table\n",
    "    -stack\n",
    "    -unstack\n",
    "    -groupby\n",
    "    -append\n",
    "    -loc\n",
    "    -iloc\n",
    "    -slicing\n",
    "    -sort_index,sort_values,values_count,count\n",
    "    -nunique\n",
    "    -resample,reindex\n",
    "    -concatenation\n",
    "    -multiindexes\n",
    "    -inner, outer joins\n",
    "    -merge_ordered\n",
    "    -dropna\n",
    "    -drop_duplications\n",
    "    -isna\n",
    "    -apply()\n",
    "    -filter()\n",
    "    -map()\n",
    "    -plot.hist\n",
    "    -datetimeindex\n",
    "    import requests\n",
    "    from bs4 import BeautifulSoup\n",
    "   \n",
    "    regular expression: re module"
   ]
  },
  {
   "cell_type": "markdown",
   "metadata": {},
   "source": [
    "Useful sklearn functions:\n",
    "    -sklearn.model_selection.train_test_split\n",
    "    -sklearn.neighbors.KNeighborsClassifier\n",
    "    $5-3$, $$test$$"
   ]
  },
  {
   "cell_type": "code",
   "execution_count": null,
   "metadata": {},
   "outputs": [],
   "source": []
  }
 ],
 "metadata": {
  "kernelspec": {
   "display_name": "Python 3",
   "language": "python",
   "name": "python3"
  },
  "language_info": {
   "codemirror_mode": {
    "name": "ipython",
    "version": 3
   },
   "file_extension": ".py",
   "mimetype": "text/x-python",
   "name": "python",
   "nbconvert_exporter": "python",
   "pygments_lexer": "ipython3",
   "version": "3.7.3"
  }
 },
 "nbformat": 4,
 "nbformat_minor": 2
}
