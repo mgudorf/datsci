{
 "cells": [
  {
   "cell_type": "code",
   "execution_count": 1,
   "metadata": {},
   "outputs": [
    {
     "ename": "ModuleNotFoundError",
     "evalue": "No module named 'keras'",
     "output_type": "error",
     "traceback": [
      "\u001b[1;31m---------------------------------------------------------------------------\u001b[0m",
      "\u001b[1;31mModuleNotFoundError\u001b[0m                       Traceback (most recent call last)",
      "\u001b[1;32m<ipython-input-1-1383e0272e18>\u001b[0m in \u001b[0;36m<module>\u001b[1;34m\u001b[0m\n\u001b[0;32m     10\u001b[0m \u001b[0mwarnings\u001b[0m\u001b[1;33m.\u001b[0m\u001b[0msimplefilter\u001b[0m\u001b[1;33m(\u001b[0m\u001b[0maction\u001b[0m\u001b[1;33m=\u001b[0m\u001b[1;34m'ignore'\u001b[0m\u001b[1;33m,\u001b[0m \u001b[0mcategory\u001b[0m\u001b[1;33m=\u001b[0m\u001b[0mFutureWarning\u001b[0m\u001b[1;33m)\u001b[0m\u001b[1;33m\u001b[0m\u001b[1;33m\u001b[0m\u001b[0m\n\u001b[0;32m     11\u001b[0m \u001b[1;31m# import tensorflow as tf\u001b[0m\u001b[1;33m\u001b[0m\u001b[1;33m\u001b[0m\u001b[1;33m\u001b[0m\u001b[0m\n\u001b[1;32m---> 12\u001b[1;33m \u001b[1;32mfrom\u001b[0m \u001b[0mkeras\u001b[0m\u001b[1;33m.\u001b[0m\u001b[0mmodels\u001b[0m \u001b[1;32mimport\u001b[0m \u001b[0mSequential\u001b[0m\u001b[1;33m\u001b[0m\u001b[1;33m\u001b[0m\u001b[0m\n\u001b[0m\u001b[0;32m     13\u001b[0m \u001b[1;32mfrom\u001b[0m \u001b[0mkeras\u001b[0m\u001b[1;33m.\u001b[0m\u001b[0mlayers\u001b[0m \u001b[1;32mimport\u001b[0m \u001b[0mDense\u001b[0m\u001b[1;33m\u001b[0m\u001b[1;33m\u001b[0m\u001b[0m\n\u001b[0;32m     14\u001b[0m \u001b[1;32mfrom\u001b[0m \u001b[0mkeras\u001b[0m\u001b[1;33m.\u001b[0m\u001b[0mlayers\u001b[0m \u001b[1;32mimport\u001b[0m \u001b[0mFlatten\u001b[0m\u001b[1;33m\u001b[0m\u001b[1;33m\u001b[0m\u001b[0m\n",
      "\u001b[1;31mModuleNotFoundError\u001b[0m: No module named 'keras'"
     ]
    }
   ],
   "source": [
    "import numpy as np\n",
    "import pandas as pd\n",
    "import seaborn as sns\n",
    "import matplotlib.pyplot as plt\n",
    "import os\n",
    "import sys\n",
    "import re\n",
    "import warnings\n",
    "from sklearn.preprocessing import StandardScaler, MinMaxScaler, QuantileTransformer\n",
    "warnings.simplefilter(action='ignore', category=FutureWarning)\n",
    "import tensorflow as tf\n",
    "warnings.resetwarnings()"
   ]
  },
  {
   "cell_type": "markdown",
   "metadata": {},
   "source": [
    "Using https://www.tensorflow.org/tutorials/structured_data/time_series\n",
    "as a reference"
   ]
  },
  {
   "cell_type": "code",
   "execution_count": 8,
   "metadata": {},
   "outputs": [],
   "source": [
    "from tensorflow.keras.preprocessing.sequence import pad_sequences"
   ]
  },
  {
   "cell_type": "code",
   "execution_count": 9,
   "metadata": {},
   "outputs": [],
   "source": [
    "# Load data that has user generated features (rolling averages)\n",
    "\n",
    "df = pd.read_csv('model_data.csv', index_col=0)"
   ]
  },
  {
   "cell_type": "code",
   "execution_count": 10,
   "metadata": {},
   "outputs": [],
   "source": [
    "def country_groupby_indices_list(df):\n",
    "    return [df[df.location==country].index for country in df.location.unique()]"
   ]
  },
  {
   "cell_type": "code",
   "execution_count": 11,
   "metadata": {},
   "outputs": [],
   "source": [
    "window_size = 14\n",
    "forecast_interval = 14"
   ]
  },
  {
   "cell_type": "markdown",
   "metadata": {},
   "source": [
    "### The train test split is performed in the following manner.\n",
    "\n",
    "Training target ranges from time-indices 14 (not zero to provide a bare minimum of data) to 86,\n",
    "with the targets they are predicting running from  28 to 100. For the validation data, the predictors\n",
    "come from index 101, and they are used to predict 102-115. \n",
    "\n",
    "\n",
    "Originally, I made sure to not use the predictor (X) data indexed from 87-100 to validate, to absolutely ensure there\n",
    "is no overlap between validation and training. I.e. the training targets include the new_cases_per_million \n",
    "from 87-100 and I am unsure if reusing this data as predictors would cause overlap. I'm not sure if this was right\n",
    "so I've changed it to use 87-100 to validate, using future values "
   ]
  },
  {
   "cell_type": "code",
   "execution_count": 12,
   "metadata": {},
   "outputs": [],
   "source": [
    "def multi_step_split(df, start_index, end_index, history_size, forecast_interval):\n",
    "    data = []\n",
    "    labels = []\n",
    "    \n",
    "    # minimum start is window size\n",
    "    start_index = start_index + history_size\n",
    "    df_model = df.drop(columns=['location','date'])\n",
    "    for country_indices in cgi:\n",
    "        country_df = df_model.loc[country_indices, :].reset_index(drop=True)\n",
    "        if end_index is None:\n",
    "            # has to end before the values it wants to predict\n",
    "            end_index = len(country_df) - forecast_interval\n",
    "        for i in range(start_index, end_index+1):\n",
    "            data.append(country_df.iloc[i-window_size:i, :].values)\n",
    "            labels.append(country_df.new_cases_per_million.iloc[i:i+forecast_interval].values)\n",
    "    return np.array(data), np.array(labels)"
   ]
  },
  {
   "cell_type": "code",
   "execution_count": 24,
   "metadata": {},
   "outputs": [],
   "source": [
    "history_size = 14\n",
    "forecast_interval = 14\n",
    "# only validate on one week of data, (i.e. the two week forecasts of the second to last week).\n",
    "# \n",
    "# 2 weeks of history, 2 weeks of train\n",
    "TRAIN_SPLIT = df.date_proxy.nunique() - 14"
   ]
  },
  {
   "cell_type": "markdown",
   "metadata": {},
   "source": [
    "training on largest possible window of data -> single predictive day -> T - 14 | T | T + 14\n",
    "\n",
    "df.iloc[-14:, :] -> unused predictors, y used for t=T prediction. \n",
    "df.iloc[-15, :] -> validation set.\n",
    "df.iloc[:-15-14,:] -> train, with predictions up until \"present day\", (T-14 treated as present day) up to and including 87.\n",
    "\n",
    "train on all windows of length 14, 15, ...... etc. \n",
    "simply make a padded \n",
    "prediction day is 101, interval is 102-115\n",
    "but need 14 day training buffer so the window size is from 0 to 87 -> 88 value"
   ]
  },
  {
   "cell_type": "code",
   "execution_count": 14,
   "metadata": {},
   "outputs": [],
   "source": [
    "y = df.loc[:, ['date_proxy', 'new_cases_per_million']]"
   ]
  },
  {
   "cell_type": "code",
   "execution_count": 15,
   "metadata": {},
   "outputs": [],
   "source": [
    "# date_proxy value for last day in training set\n",
    "TRAIN_SPLIT = 86\n",
    "\n",
    "df_model = df.iloc[:, :-2]#drop(columns=['location', 'date'])\n",
    "df_mean = df_model[df.date_proxy<=TRAIN_SPLIT].mean(axis=0)\n",
    "df_std = df_model[df.date_proxy<=TRAIN_SPLIT].std(axis=0)\n",
    "\n",
    "# going to drop date proxy before creating batches.\n",
    "df_model.iloc[:, 1:] = (df_model.iloc[:, 1:] - df_mean.iloc[1:]) / df_std.iloc[1:]\n"
   ]
  },
  {
   "cell_type": "markdown",
   "metadata": {},
   "source": [
    "so, loop through the countries, loop through the date range (14, 87) and produce (86-14) windows of length 87, with padding."
   ]
  },
  {
   "cell_type": "code",
   "execution_count": 155,
   "metadata": {},
   "outputs": [
    {
     "data": {
      "text/plain": [
       "14"
      ]
     },
     "execution_count": 155,
     "metadata": {},
     "output_type": "execute_result"
    }
   ],
   "source": [
    "df_model[(df_model.date_proxy > i) & (df_model.date_proxy <= i + forecast_interval)].date_proxy.nunique()"
   ]
  },
  {
   "cell_type": "code",
   "execution_count": 46,
   "metadata": {},
   "outputs": [],
   "source": [
    "x_train, y_train = [], []\n",
    "x_validate, y_validate = [], []\n",
    "maxlen = 14\n",
    "start_index = 14\n",
    "end_index = 87\n",
    "for country_indices in country_groupby_indices_list(df):\n",
    "    country_df = df_model.loc[country_indices, :].reset_index(drop=True)\n",
    "    country_y = y.loc[country_indices,:].reset_index(drop=True)\n",
    "    for i in range(start_index, end_index): \n",
    "        # unpadded window\n",
    "        sequence = country_df[country_df.date_proxy <= i].values\n",
    "        # because the padding function always pads the number of columns, need to flip things twice \n",
    "        padded_window = pad_sequences(sequence.transpose(), maxlen=maxlen).transpose()\n",
    "        x_train.append(padded_window)\n",
    "        y_train.append(country_y[(country_y.date_proxy > i) \n",
    "                                  & (country_y.date_proxy <= i + forecast_interval)].new_cases_per_million.values)\n",
    "    \n",
    "    for ival in range(end_index, end_index + forecast_interval):\n",
    "        val_sequence = country_df[country_df.date_proxy <= ival].values\n",
    "        # because the padding function always pads the number of columns, need to flip things twice \n",
    "        val_padded_window = pad_sequences(val_sequence.transpose(), maxlen=maxlen).transpose()\n",
    "        x_validate.append(val_padded_window)\n",
    "        y_validate.append(country_y[(country_y.date_proxy > ival) \n",
    "                                     & (country_y.date_proxy <= ival + forecast_interval)].new_cases_per_million.values)\n",
    "          \n",
    "#     val_sequence = country_df[country_df.date_proxy <= end_index + 14].drop(columns='date_proxy').values\n",
    "#     # because the padding function always pads the number of columns, need to flip things twice \n",
    "#     val_padded_window = pad_sequences(val_sequence.transpose(), maxlen=maxlen).transpose()\n",
    "#     x_validate.append(val_padded_window)\n",
    "#     y_validate.append(country_df[country_df.date_proxy > end_index + 14].new_cases_per_million.values)\n",
    "x_train, y_train = np.array(x_train), np.array(y_train)\n",
    "x_validate, y_validate = np.array(x_validate), np.array(y_validate)"
   ]
  },
  {
   "cell_type": "code",
   "execution_count": 47,
   "metadata": {},
   "outputs": [
    {
     "data": {
      "text/plain": [
       "73.0"
      ]
     },
     "execution_count": 47,
     "metadata": {},
     "output_type": "execute_result"
    }
   ],
   "source": [
    "9198 / df.location.nunique()"
   ]
  },
  {
   "cell_type": "code",
   "execution_count": 48,
   "metadata": {},
   "outputs": [
    {
     "data": {
      "text/plain": [
       "73"
      ]
     },
     "execution_count": 48,
     "metadata": {},
     "output_type": "execute_result"
    }
   ],
   "source": [
    "87 - 14"
   ]
  },
  {
   "cell_type": "code",
   "execution_count": 49,
   "metadata": {},
   "outputs": [
    {
     "data": {
      "text/plain": [
       "((9198, 14, 248), (9198, 14))"
      ]
     },
     "execution_count": 49,
     "metadata": {},
     "output_type": "execute_result"
    }
   ],
   "source": [
    "x_train.shape, y_train.shape"
   ]
  },
  {
   "cell_type": "code",
   "execution_count": 50,
   "metadata": {
    "scrolled": true
   },
   "outputs": [
    {
     "data": {
      "text/plain": [
       "((1764, 14, 248), (1764, 14))"
      ]
     },
     "execution_count": 50,
     "metadata": {},
     "output_type": "execute_result"
    }
   ],
   "source": [
    "x_validate.shape, y_validate.shape"
   ]
  },
  {
   "cell_type": "markdown",
   "metadata": {},
   "source": [
    "Keras expects data of dim (batch, time, features), so first\n",
    "put all data in (time, features) format then choose windows? "
   ]
  },
  {
   "cell_type": "code",
   "execution_count": 52,
   "metadata": {},
   "outputs": [
    {
     "data": {
      "text/plain": [
       "14.0"
      ]
     },
     "execution_count": 52,
     "metadata": {},
     "output_type": "execute_result"
    }
   ],
   "source": [
    "1764 / df.location.nunique()"
   ]
  },
  {
   "cell_type": "code",
   "execution_count": 30,
   "metadata": {},
   "outputs": [
    {
     "name": "stdout",
     "output_type": "stream",
     "text": [
      "18.213861386138614\n"
     ]
    }
   ],
   "source": [
    "# Number of samples in train\n",
    "N_s = x_train.shape[0]\n",
    "# Number of input nodes\n",
    "N_i = 87\n",
    "# Number of output nodes\n",
    "N_o = 14\n",
    "alpha = 5\n",
    "\n",
    "N_h = (N_s / (alpha * (N_i + N_o)))\n",
    "print(N_h)"
   ]
  },
  {
   "cell_type": "code",
   "execution_count": 33,
   "metadata": {},
   "outputs": [
    {
     "name": "stdout",
     "output_type": "stream",
     "text": [
      "Train on 9198 samples, validate on 1890 samples\n",
      "WARNING:tensorflow:From C:\\ProgramData\\Anaconda3\\lib\\site-packages\\tensorflow\\python\\ops\\math_grad.py:1250: add_dispatch_support.<locals>.wrapper (from tensorflow.python.ops.array_ops) is deprecated and will be removed in a future version.\n",
      "Instructions for updating:\n",
      "Use tf.where in 2.0, which has the same broadcast rule as np.where\n",
      "Epoch 1/10\n",
      "9198/9198 [==============================] - 5s 595us/sample - loss: 8.0530 - val_loss: 13.7303\n",
      "Epoch 2/10\n",
      "9198/9198 [==============================] - 4s 461us/sample - loss: 7.1617 - val_loss: 12.8254\n",
      "Epoch 3/10\n",
      "9198/9198 [==============================] - 4s 460us/sample - loss: 6.6785 - val_loss: 12.2805\n",
      "Epoch 4/10\n",
      "9198/9198 [==============================] - 4s 462us/sample - loss: 6.3323 - val_loss: 11.8274\n",
      "Epoch 5/10\n",
      "9198/9198 [==============================] - 4s 458us/sample - loss: 5.9966 - val_loss: 11.0993\n",
      "Epoch 6/10\n",
      "9198/9198 [==============================] - 4s 458us/sample - loss: 5.7183 - val_loss: 10.7803\n",
      "Epoch 7/10\n",
      "9198/9198 [==============================] - 4s 461us/sample - loss: 5.4717 - val_loss: 10.4481\n",
      "Epoch 8/10\n",
      "9198/9198 [==============================] - 4s 460us/sample - loss: 5.2447 - val_loss: 10.2250\n",
      "Epoch 9/10\n",
      "9198/9198 [==============================] - 4s 462us/sample - loss: 5.0488 - val_loss: 9.8267\n",
      "Epoch 10/10\n",
      "9198/9198 [==============================] - 4s 458us/sample - loss: 4.8592 - val_loss: 9.6426\n"
     ]
    },
    {
     "data": {
      "text/plain": [
       "<tensorflow.python.keras.callbacks.History at 0x1af67f07a08>"
      ]
     },
     "execution_count": 33,
     "metadata": {},
     "output_type": "execute_result"
    }
   ],
   "source": [
    "model = tf.keras.models.Sequential()\n",
    "# this would take all dates and ravel into a single vector \n",
    "model.add(tf.keras.layers.LSTM(16,  return_sequences=True, input_shape=(history_size, x_train.shape[-1])))\n",
    "# maybe the following is possible / worthwhile?\n",
    "model.add(tf.keras.layers.LSTM(16,  return_sequences=False, input_shape=(history_size, x_train.shape[-1])))\n",
    "# model.add(tf.keras.layers.Dropout(0.2))\n",
    "model.add(tf.keras.layers.Dense(14))\n",
    "\n",
    "# activation that is strictly positive is desirable I believe, so softmax, ReLU? just not tanh I believe. \n",
    "# model.add(Activation('relu'))\n",
    "# metrics only prints stuff at end of each epoch. \n",
    "model.compile(loss='mae', optimizer='adam')#, metrics=['acc'])\n",
    "model.fit(x_train, y_train, epochs=10, validation_data=(x_validate, y_validate), batches=256)"
   ]
  },
  {
   "cell_type": "code",
   "execution_count": 38,
   "metadata": {
    "scrolled": false
   },
   "outputs": [
    {
     "data": {
      "image/png": "[encoded data removed]",
      "text/plain": [
       "<Figure size 432x288 with 1 Axes>"
      ]
     },
     "metadata": {
      "needs_background": "light"
     },
     "output_type": "display_data"
    }
   ],
   "source": [
    "_ = plt.plot(y_predict.transpose())"
   ]
  },
  {
   "cell_type": "markdown",
   "metadata": {},
   "source": [
    "Explicit goal: predict the 14 day future of any given window of time series data. \n",
    "\n",
    "easy : make all windows an identical length of time. \n",
    "\n",
    "harder : make all windows vary in lengths between different batches. \n",
    "https://datascience.stackexchange.com/questions/26366/training-an-rnn-with-examples-of-different-lengths-in-keras"
   ]
  },
  {
   "cell_type": "markdown",
   "metadata": {},
   "source": [
    "Now the key difficulty I think is how the data is to be rearranged. https://www.tensorflow.org/tutorials/structured_data/time_series indicates that I need a tensor with three dimensions,\n",
    "axis = 0 is \"batch size\" axis = 1 is \"time steps\" and axis = 2 is \"features\". \n",
    "\n",
    "In this case, the window size should incorporate all possible data into the training set, i.e. a cumulative window\n",
    "as opposed to a rolling window.\n",
    "\n",
    "Batch size in this case just means size of training or testing set. therefore, the window should equal batch size?\n",
    "\n",
    "i.e. shape of data is (window, window, 1). This only trains on a single window instead of stepping through with a smaller window. should likely test which is better.\n"
   ]
  },
  {
   "cell_type": "markdown",
   "metadata": {},
   "source": [
    "The main issue is making sure the training and validation data are ordered correctly. let's look at the cumulative\n",
    "history data from all countries? I have to specify the input shape so this isn't possible....\n",
    "\n",
    "I.e. the tutorial uses many different windows of small finite size compared to number of samples to predict the future. Do I have enough data for this? "
   ]
  },
  {
   "cell_type": "markdown",
   "metadata": {},
   "source": [
    "This key seems to be to slice the data in a time-preserving manner prior to any calculations. i.e. whenever a "
   ]
  },
  {
   "cell_type": "markdown",
   "metadata": {},
   "source": [
    "A batch size is going to be the number of ***windows*** taken from the data set, \n",
    "\n",
    "cache : Caches the elements in this dataset.\n",
    "\n",
    "The first time the dataset is iterated over, its elements will be cached either in the specified file or in memory. Subsequent iterations will use the cached data.\n",
    "\n",
    "batch : Combines consecutive elements of this dataset into batches.  is a collection of windows that come from the BUFFER produced by SHUFFLE\n",
    "\n",
    "Combines consecutive elements of this dataset into batches.\n",
    "\n",
    "The components of the resulting element will have an additional outer dimension, which will be batch_size (or N % batch_size for the last element if batch_size does not divide the number of input elements N evenly and drop_remainder is False). If your program depends on the batches having the same outer dimension, you should set the drop_remainder argument to True to prevent the smaller batch from being produced.\n",
    "\n",
    "\n",
    "shuffle : \n",
    "\n",
    "Randomly shuffles the elements of this dataset.\n",
    "\n",
    "This dataset fills a buffer with buffer_size elements, then randomly samples elements from this buffer, replacing the selected elements with new elements. For perfect shuffling, a buffer size greater than or equal to the full size of the dataset is required.\n",
    "\n",
    "For instance, if your dataset contains 10,000 elements but buffer_size is set to 1,000, then shuffle will initially select a random element from only the first 1,000 elements in the buffer. Once an element is selected, its space in the buffer is replaced by the next (i.e. 1,001-st) element, maintaining the 1,000 element buffer.\n",
    "\n",
    "\n",
    "\n",
    "buffer_size : A tf.int64 scalar tf.Tensor, representing the number of elements from this dataset from which the new dataset will sample.\n",
    "\n",
    "repeat : Repeats this dataset so each original value is seen count times."
   ]
  }
 ],
 "metadata": {
  "kernelspec": {
   "display_name": "Python 3",
   "language": "python",
   "name": "python3"
  },
  "language_info": {
   "codemirror_mode": {
    "name": "ipython",
    "version": 3
   },
   "file_extension": ".py",
   "mimetype": "text/x-python",
   "name": "python",
   "nbconvert_exporter": "python",
   "pygments_lexer": "ipython3",
   "version": "3.7.6"
  }
 },
 "nbformat": 4,
 "nbformat_minor": 4
}
