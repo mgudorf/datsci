{
 "cells": [
  {
   "cell_type": "code",
   "execution_count": 1,
   "metadata": {},
   "outputs": [],
   "source": [
    "import pandas as pd\n",
    "import numpy as np\n",
    "import matplotlib.pyplot as plt\n",
    "import seaborn as sns\n",
    "from sklearn.model_selection import train_test_split\n",
    "from IPython.core.display import HTML\n",
    "from sklearn.impute import SimpleImputer\n",
    "css = open('style-table.css').read() + open('style-notebook.css').read()\n",
    "HTML('<style>{}</style>'.format(css))\n",
    "plt.rc(\"font\", size=14)\n",
    "plt.rc(\"text\", usetex=True)\n",
    "sns.set(style=\"white\")\n",
    "sns.set(style=\"whitegrid\", color_codes=True)\n",
    "from re import search\n",
    "%matplotlib inline"
   ]
  },
  {
   "cell_type": "code",
   "execution_count": 2,
   "metadata": {},
   "outputs": [
    {
     "name": "stderr",
     "output_type": "stream",
     "text": [
      "C:\\ProgramData\\Anaconda3\\lib\\site-packages\\IPython\\core\\interactiveshell.py:3063: DtypeWarning: Columns (19,47,55,112,123,124,125,128,129,130,133,139,140,141) have mixed types.Specify dtype option on import or set low_memory=False.\n",
      "  interactivity=interactivity, compiler=compiler, result=result)\n"
     ]
    }
   ],
   "source": [
    "loan_data = pd.read_csv('loan.csv')"
   ]
  },
  {
   "cell_type": "code",
   "execution_count": 8,
   "metadata": {},
   "outputs": [
    {
     "data": {
      "text/plain": [
       "id                       2260668\n",
       "member_id                2260668\n",
       "loan_amnt                      0\n",
       "funded_amnt                    0\n",
       "funded_amnt_inv                0\n",
       "                          ...   \n",
       "settlement_status        2227612\n",
       "settlement_date          2227612\n",
       "settlement_amount        2227612\n",
       "settlement_percentage    2227612\n",
       "settlement_term          2227612\n",
       "Length: 145, dtype: int64"
      ]
     },
     "execution_count": 8,
     "metadata": {},
     "output_type": "execute_result"
    }
   ],
   "source": [
    "loan_data.isna().sum()"
   ]
  },
  {
   "cell_type": "code",
   "execution_count": 16,
   "metadata": {},
   "outputs": [],
   "source": [
    "notallmissing = np.array(loan_data.isna().sum().index.tolist())[loan_data.isna().sum().values != 2260668]"
   ]
  },
  {
   "cell_type": "code",
   "execution_count": 17,
   "metadata": {},
   "outputs": [],
   "source": [
    "loan_data = loan_data.loc[:, notallmissing]"
   ]
  },
  {
   "cell_type": "code",
   "execution_count": 29,
   "metadata": {},
   "outputs": [
    {
     "data": {
      "text/plain": [
       "orig_projected_additional_accrued_interest    2252242\n",
       "hardship_reason                               2250055\n",
       "deferral_term                                 2250055\n",
       "hardship_amount                               2250055\n",
       "hardship_start_date                           2250055\n",
       "hardship_end_date                             2250055\n",
       "payment_plan_start_date                       2250055\n",
       "hardship_length                               2250055\n",
       "hardship_dpd                                  2250055\n",
       "hardship_loan_status                          2250055\n",
       "hardship_status                               2250055\n",
       "hardship_payoff_balance_amount                2250055\n",
       "hardship_last_payment_amount                  2250055\n",
       "hardship_type                                 2250055\n",
       "settlement_percentage                         2227612\n",
       "debt_settlement_flag_date                     2227612\n",
       "settlement_status                             2227612\n",
       "settlement_date                               2227612\n",
       "settlement_amount                             2227612\n",
       "settlement_term                               2227612\n",
       "sec_app_mths_since_last_major_derog           2224726\n",
       "sec_app_revol_util                            2154484\n",
       "revol_bal_joint                               2152648\n",
       "sec_app_collections_12_mths_ex_med            2152647\n",
       "sec_app_chargeoff_within_12_mths              2152647\n",
       "sec_app_num_rev_accts                         2152647\n",
       "sec_app_open_act_il                           2152647\n",
       "sec_app_open_acc                              2152647\n",
       "sec_app_mort_acc                              2152647\n",
       "sec_app_inq_last_6mths                        2152647\n",
       "sec_app_earliest_cr_line                      2152647\n",
       "verification_status_joint                     2144938\n",
       "dti_joint                                     2139962\n",
       "annual_inc_joint                              2139958\n",
       "desc                                          2134601\n",
       "mths_since_last_record                        1901512\n",
       "mths_since_recent_bc_dlq                      1740967\n",
       "mths_since_last_major_derog                   1679893\n",
       "mths_since_recent_revol_delinq                1520309\n",
       "next_pymnt_d                                  1303607\n",
       "mths_since_last_delinq                        1158502\n",
       "il_util                                       1068850\n",
       "mths_since_rcnt_il                             909924\n",
       "all_util                                       866348\n",
       "open_acc_6m                                    866130\n",
       "total_cu_tl                                    866130\n",
       "inq_last_12m                                   866130\n",
       "open_act_il                                    866129\n",
       "open_il_12m                                    866129\n",
       "open_il_24m                                    866129\n",
       "dtype: int64"
      ]
     },
     "execution_count": 29,
     "metadata": {},
     "output_type": "execute_result"
    }
   ],
   "source": [
    "loan_data.isna().sum().sort_values(ascending=False)[:50]"
   ]
  },
  {
   "cell_type": "code",
   "execution_count": 63,
   "metadata": {},
   "outputs": [],
   "source": [
    "checkdatesindex = loan_data[loan_data.loan_status=='Charged Off'].loan_status.dropna().index"
   ]
  },
  {
   "cell_type": "code",
   "execution_count": 58,
   "metadata": {},
   "outputs": [
    {
     "data": {
      "text/plain": [
       "Series([], Name: issue_d, dtype: int64)"
      ]
     },
     "execution_count": 58,
     "metadata": {},
     "output_type": "execute_result"
    }
   ],
   "source": [
    "pd.to_datetime(loan_data.loc[checkdatesindex, :].issue_d).dt.year.value_counts()"
   ]
  },
  {
   "cell_type": "code",
   "execution_count": 65,
   "metadata": {},
   "outputs": [
    {
     "data": {
      "image/png": "[encoded data removed]",
      "text/plain": [
       "<Figure size 432x288 with 1 Axes>"
      ]
     },
     "metadata": {
      "needs_background": "light"
     },
     "output_type": "display_data"
    }
   ],
   "source": [
    "pd.to_datetime(loan_data.loc[checkdatesindex, :].issue_d).dt.year.value_counts().sort_values().plot.bar()#.mean()\n",
    "_ = plt.show()"
   ]
  },
  {
   "cell_type": "code",
   "execution_count": null,
   "metadata": {},
   "outputs": [],
   "source": []
  },
  {
   "cell_type": "code",
   "execution_count": null,
   "metadata": {},
   "outputs": [],
   "source": []
  },
  {
   "cell_type": "code",
   "execution_count": null,
   "metadata": {},
   "outputs": [],
   "source": []
  }
 ],
 "metadata": {
  "kernelspec": {
   "display_name": "Python 3",
   "language": "python",
   "name": "python3"
  },
  "language_info": {
   "codemirror_mode": {
    "name": "ipython",
    "version": 3
   },
   "file_extension": ".py",
   "mimetype": "text/x-python",
   "name": "python",
   "nbconvert_exporter": "python",
   "pygments_lexer": "ipython3",
   "version": "3.7.6"
  }
 },
 "nbformat": 4,
 "nbformat_minor": 4
}
