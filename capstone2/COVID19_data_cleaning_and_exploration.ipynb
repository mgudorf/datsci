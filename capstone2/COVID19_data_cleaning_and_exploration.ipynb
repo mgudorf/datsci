{
 "cells": [
  {
   "cell_type": "code",
   "execution_count": 1,
   "metadata": {},
   "outputs": [],
   "source": [
    "import numpy as np\n",
    "import pandas as pd\n",
    "import seaborn as sns\n",
    "import matplotlib.pyplot as plt\n",
    "import os\n",
    "import sys\n",
    "import glob\n",
    "import re\n",
    "import scipy\n",
    "import requests\n",
    "from matplotlib.patches import Rectangle\n",
    "from datetime import datetime\n",
    "# sns.set()"
   ]
  },
  {
   "cell_type": "markdown",
   "metadata": {},
   "source": [
    "# Introduction <a id='intro'></a>\n",
    "\n",
    "This notebook cleans and wrangles numerous data sets, making them uniform\n",
    "so that they can be used in a data-driven model for COVID-19 prediction.\n",
    "\n",
    "The key cleaning measures are those which find the most viable set of countries and date ranges\n",
    "such that the maximal amount of data can be used. In other words, different datasets can have data\n",
    "on a different set of countries; to avoid introducing large quantities of missing values\n",
    "the intersection of these countries is taken. For the date ranges, depending on the quantity,\n",
    "extrapolation/interpolation is used to ensure that each time series is defined to be non-zero\n",
    "on all dates. \n"
   ]
  },
  {
   "cell_type": "markdown",
   "metadata": {},
   "source": [
    "# Table of contents<a id='toc'></a>\n",
    "\n",
    "## [Data wrangling function definitions](#generalfunctions)\n",
    "\n",
    "# Data <a id='data'></a>\n",
    "\n",
    "            -->\n",
    "## [JHU CSSE case data.](#csse)\n",
    "[https://systems.jhu.edu/research/public-health/ncov/](https://systems.jhu.edu/research/public-health/ncov/)\n",
    "\n",
    "**Data available at:**\n",
    "[https://github.com/CSSEGISandData/COVID-19](https://github.com/CSSEGISandData/COVID-19)\n",
    "\n",
    "This data is split between a collection of .csv files of two different formats; first, the daily reports (global) are\n",
    "separated by day, each residing in their own .csv. Additionally, the daily report files have three different formats that need to be taken into account when compiling the data. The daily report data itself contains values on the number of confirmed cases, deceased, active cases, recovered cases.\n",
    "\n",
    "For the other format, .csv files with 'timeseries' in their filename, the data contains values for confirmed, deceased, recovered and are split between global numbers (contains United States as a whole) and numbers for the united states (statewide).\n",
    "           \n",
    "           \n",
    "## [OWID case and test data](#owid)\n",
    "\n",
    "**Data available via github**\n",
    "[https://github.com/owid/covid-19-data](https://github.com/owid/covid-19-data)\n",
    "\n",
    "[https://ourworldindata.org/covid-testing](https://ourworldindata.org/covid-testing)\n",
    "\n",
    "The OWID dataset contains information regarding case and test numbers; it overlaps with the JHU CSSE \n",
    "and Testing Tracker datasets but I am going to attempt to use it in conjunction with those two because\n",
    "of how there is unreliable reporting. In other words to get the bigger picture I'm looking to stitch together\n",
    "multiple datasets.\n",
    "\n",
    "           \n",
    "## [OxCGRT government response data](#oxcgrt)\n",
    "\n",
    "**Data available at:**\n",
    "[https://raw.githubusercontent.com/OxCGRT/covid-policy-tracker/master/data/OxCGRT_latest.csv](https://raw.githubusercontent.com/OxCGRT/covid-policy-tracker/master/data/OxCGRT_latest.csv)\n",
    "\n",
    "\n",
    "**If API used to pull data (I elect not to because the datasets are different)**\n",
    "[https://covidtracker.bsg.ox.ac.uk/about-api](https://covidtracker.bsg.ox.ac.uk/about-api)\n",
    "\n",
    "The OxCGRT dataset contains information regarding different government responses in regards to social\n",
    "distancing measures. It measures the type of social distancing measure, whether or not they are recommended\n",
    "or mandated, whether they are targeted or broad (I think geographically). \n",
    "           \n",
    "## [Testing tracker data](#testtrack)\n",
    "<!-- **Website which lead me to dataset**\n",
    "[https://www.statista.com/statistics/1109066/coronavirus-testing-in-europe-by-country/](https://www.statista.com/statistics/1109066/coronavirus-testing-in-europe-by-country/) -->\n",
    "\n",
    "**Data available at:**\n",
    "[https://finddx.shinyapps.io/FIND_Cov_19_Tracker/](https://finddx.shinyapps.io/FIND_Cov_19_Tracker/)\n",
    "\n",
    "This dataset contains a time series of testing information: e.g. new (daily) tests, cumulative tests, etc. \n",
    "\n",
    "\n",
    "# [Data regularization: making things uniform](#uniformity)\n",
    "\n",
    "### [Intersection of countries](#country)\n",
    "  \n",
    "### [Time series date ranges](#time)\n",
    "\n",
    "### [Missing Values](#missingval)"
   ]
  },
  {
   "cell_type": "markdown",
   "metadata": {},
   "source": [
    "## Data wrangling function declaration <a id='generalfunctions'></a>\n"
   ]
  },
  {
   "cell_type": "code",
   "execution_count": 2,
   "metadata": {},
   "outputs": [],
   "source": [
    "def reformat_values(values_to_transform, category='columns',dateformat=None):\n",
    "    \"\"\" Reformat column and index names. \n",
    "    \n",
    "    Parameters :\n",
    "    ----------\n",
    "    df : Pandas DataFrame\n",
    "    columns : bool\n",
    "    index : bool|\n",
    "    \n",
    "    Notes :\n",
    "    -----\n",
    "    Change headers of columns; this needs to be updated to account for their formatting changes. \n",
    "    This function converts strings with CamelCase, underscore and space separators to lowercase words uniformly\n",
    "    separated with underscores. I.e. (hopefully!) following the correct python identifier syntax so that each column\n",
    "    can be reference as an attribute if desired. \n",
    "\n",
    "    For more on valid Python identifiers, see:\n",
    "    https://docs.python.org/3/reference/lexical_analysis.html#identifiers\n",
    "    \"\"\"\n",
    "    \n",
    "    \"\"\" Reformat column and index names. only works with with pandas MultiIndex for level=0.\n",
    "    \n",
    "    Parameters :\n",
    "    ----------\n",
    "    df : Pandas DataFrame\n",
    "\n",
    "    Notes :\n",
    "    -----\n",
    "    Different datasets have different naming conventions (for countries that go by multiple names and abbreviations).\n",
    "    This function imposes a convention on a selection of these country names.  \n",
    "    \"\"\"\n",
    "    # these lists are one-to-one. countries compared via manual inspection, unfortunately. \n",
    "    mismatch_labels_bad = ['Lao People\\'s Democratic Republic', 'Mainland China',\n",
    "                           'Occupied Palestinian Territory','Republic of Korea', 'Korea, South', \n",
    "                           'Gambia, The ', 'UK', \n",
    "                           'USA', 'Iran (Islamic Republic of)',\n",
    "                           'Bahamas, The', 'Russian Federation', 'Czech Republic', 'Republic Of Ireland',\n",
    "                          'Hong Kong Sar', 'Macao Sar', 'Uk','Us',\n",
    "                           'Congo ( Kinshasa)','Congo ( Brazzaville)',\n",
    "                           'Cote D\\' Ivoire', 'Viet Nam','Guinea- Bissau','Guinea','Usa']\n",
    "\n",
    "    mismatch_labels_good = ['Laos','China',\n",
    "                            'Palestine', 'South Korea', 'South Korea', \n",
    "                            'The Gambia', 'United Kingdom', \n",
    "                            'United States','Iran',\n",
    "                            'The Bahamas','Russia','Czechia','Ireland',\n",
    "                            'Hong Kong','Macao','United Kingdom', 'United States',\n",
    "                            'Democratic Republic Of The Congo','Republic Of The Congo',\n",
    "                            'Ivory Coast','Vietnam', 'Guinea Bissau','Guinea Bissau','United States']\n",
    "    \n",
    "    # three cases, column names, country names, or datetime. \n",
    "    if category == 'location':\n",
    "        reformatted_values = []\n",
    "        for val in values_to_transform:\n",
    "            reformatted_values.append(' '.join(re.sub('([A-Z][a-z]+)', r' \\1', \n",
    "                                                        re.sub('([A-Z]+)|_|\\/|\\)|\\(', r' \\1', val).lower())\n",
    "                                                        .split()).title())\n",
    "        transformed_values = pd.Series(reformatted_values).replace(to_replace=mismatch_labels_bad, value=mismatch_labels_good)\n",
    "    \n",
    "    elif category == 'columns':\n",
    "        reformatted_values = []\n",
    "        for val in values_to_transform:\n",
    "            reformatted_values.append('_'.join(re.sub('([A-Z][a-z]+)', r' \\1', \n",
    "                                                     re.sub('([A-Z]+)|_|\\/|\\)|\\(', r' \\1', val)\n",
    "                                                            .lower()).split()))\n",
    "        transformed_values = pd.Series(reformatted_values)\n",
    "        \n",
    "    elif category == 'date':\n",
    "        transformed_values = pd.to_datetime(pd.Series(\n",
    "            values_to_transform), errors='coerce',format=dateformat).dt.normalize()\n",
    "\n",
    "\n",
    "    return transformed_values\n",
    "\n",
    "def clean_DataFrame(df):\n",
    "    \"\"\" Remove all NaN or single value columns. \n",
    "    \n",
    "    \"\"\"\n",
    "    # if 0 then column is all NaN, if 1 then could be mix of NaN and a\n",
    "    # single value at most. \n",
    "    df = df.loc[:, df.columns[(df.nunique() > 0)]]\n",
    "    return df"
   ]
  },
  {
   "cell_type": "code",
   "execution_count": 3,
   "metadata": {},
   "outputs": [],
   "source": [
    "#----------------- Helper Functions for cleaning ----------------------#\n",
    "\n",
    "def regularize_country_names(df):\n",
    "    \"\"\" Reformat column and index names. only works with with pandas MultiIndex for level=0.\n",
    "    \n",
    "    Parameters :\n",
    "    ----------\n",
    "    df : Pandas DataFrame\n",
    "\n",
    "    Notes :\n",
    "    -----\n",
    "    Different datasets have different naming conventions (for countries that go by multiple names and abbreviations).\n",
    "    This function imposes a convention on a selection of these country names.  \n",
    "    \"\"\"\n",
    "    # these lists are one-to-one. countries compared via manual inspection, unfortunately. \n",
    "    mismatch_labels_bad = ['Lao People\\'s Democratic Republic', 'Mainland China',\n",
    "                           'Occupied Palestinian Territory','Republic of Korea', 'Korea, South', \n",
    "                           'Gambia, The ', 'UK', \n",
    "                           'USA', 'Iran (Islamic Republic of)',\n",
    "                           'Bahamas, The', 'Russian Federation', 'Czech Republic', 'Republic Of Ireland',\n",
    "                          'Hong Kong Sar', 'Macao Sar', 'Uk','Us',\n",
    "                           'Congo ( Kinshasa)','Congo ( Brazzaville)',\n",
    "                           'Cote D\\' Ivoire', 'Viet Nam','Guinea- Bissau','Guinea','Usa']\n",
    "\n",
    "    mismatch_labels_good = ['Laos','China',\n",
    "                            'Palestine', 'South Korea', 'South Korea', \n",
    "                            'The Gambia', 'United Kingdom', \n",
    "                            'United States','Iran',\n",
    "                            'The Bahamas','Russia','Czechia','Ireland',\n",
    "                            'Hong Kong','Macao','United Kingdom', 'United States',\n",
    "                            'Democratic Republic Of The Congo','Republic Of The Congo',\n",
    "                            'Ivory Coast','Vietnam', 'Guinea Bissau','Guinea Bissau','United States']\n",
    "    if len(df.index.names) == 1:\n",
    "        placeholder = df.index.name\n",
    "        df = df.reset_index()\n",
    "        df.loc[:,placeholder] = df.loc[:,placeholder].replace(to_replace=mismatch_labels_bad, value=mismatch_labels_good)\n",
    "        print(len(df))\n",
    "        df = df.drop_duplicates()\n",
    "        print(len(df))\n",
    "        df = df.set_index(placeholder)#.sum()\n",
    "    else:\n",
    "        placeholder = df.index.names[0]\n",
    "        df = df.reset_index(level=0)\n",
    "        df.loc[:,placeholder] = df.loc[:,placeholder].replace(to_replace=mismatch_labels_bad, value=mismatch_labels_good)\n",
    "        print(len(df))\n",
    "        df = df.drop_duplicates()\n",
    "        print(len(df))\n",
    "        df = df.set_index([placeholder, df.index])\n",
    "    return df\n",
    "\n",
    "#----------------- Helper Functions for regularization ----------------------#\n",
    "def intersect_country_index(df, country_intersection):\n",
    "    df_tmp = df.copy().reset_index(level=0)\n",
    "    df_tmp = df_tmp[df_tmp.location.isin(country_intersection)]\n",
    "    df_tmp = df_tmp.set_index(['location', df_tmp.index])\n",
    "    return df_tmp \n",
    "\n",
    "def resample_dates(df, dates):\n",
    "    df = df.loc[~df.index.duplicated(keep='first')]\n",
    "    return df.reindex(pd.MultiIndex.from_product([df.index.levels[0], dates], names=['location', 'date']), fill_value=np.nan)\n",
    "\n",
    "def make_multilevel_columns(df):\n",
    "    df.columns = pd.MultiIndex.from_product([[df.columns.name], df.columns], names=['dataset', 'features'])\n",
    "    return df\n",
    "\n",
    "def multiindex_to_table(df):\n",
    "    df_table = df.copy()\n",
    "    try:\n",
    "        df_table.columns = df_table.columns.droplevel()\n",
    "        df_table.columns.names = ['']\n",
    "    except:\n",
    "        pass\n",
    "    df_table = df_table.reset_index()\n",
    "    return df_table\n",
    "\n",
    "#----------------- Manipulation flagging ----------------------#\n",
    "\n",
    "\n",
    "def regularize_names(df, datekey=None, locationkey=None, dateformat=None):\n",
    "    df.columns = reformat_values(df.columns, category='columns').values\n",
    "    if datekey is not None:\n",
    "        df.loc[:, 'date'] = reformat_values(df.loc[:, datekey], category='date', dateformat=None).values\n",
    "    if locationkey is not None:\n",
    "        df.loc[:, 'location'] =  reformat_values(df.loc[:, locationkey], category='location').values\n",
    "    return df\n",
    "\n",
    "\n",
    "\n",
    "def add_time_indices(data_table, index_column='cases'):\n",
    "    indexer = data_table.loc[:, ['location', index_column]].replace(to_replace=0, value=np.nan).dropna().reset_index()\n",
    "    country_groupby_indices = country_groupby(data_table)\n",
    "    country_groupby_indices_dropped_nan = country_groupby(indexer)\n",
    "    days_since = []\n",
    "    for i, c in enumerate(country_groupby_indices_dropped_nan):\n",
    "        nonzero_list = list(range(len(c)))\n",
    "        zero_list = 0*np.array(list(range(len(country_groupby_indices[i])-len(c))))\n",
    "        days_since += list(zero_list)+nonzero_list\n",
    "\n",
    "    data_table.loc[:, 'days_since_first_case'] = days_since\n",
    "    data_table.loc[:, 'time_index'] = len(data_table.location.unique())*list(range(len(data_table.date.unique())))\n",
    "    return data_table\n",
    "\n",
    "\n",
    "def regularize_time_series(df_list):\n",
    "    country_intersection = df_list[0].index.levels[0].unique()\n",
    "    dates_union =  df_list[0].index.levels[1].unique()\n",
    "    dates_intersection =  df_list[0].index.levels[1].unique()\n",
    "\n",
    "    for i in range(len(df_list)-1):\n",
    "        country_intersection = country_intersection.intersection(df_list[i+1].index.levels[0].unique())\n",
    "        dates_union = dates_union.union(df_list[i+1].index.levels[1].unique())\n",
    "        # not really intersection, this is the minimum date that at least one country has data for, in each dataset.\n",
    "        dates_intersection = dates_intersection.intersection(df_list[i+1].index.levels[1].unique())\n",
    "\n",
    "    df_list_intersected = [intersect_country_index(df, country_intersection) for df in df_list]\n",
    "\n",
    "    #This redefines the time series for all variables as from December 31st 2019 to the day with most recent data\n",
    "    time_normalized_global_data = [resample_dates(df, dates_intersection.normalize()) for df in df_list_intersected]\n",
    "    # To keep track of which data came from where, make the columns multi level with the first level labelling the dataset.\n",
    "    return time_normalized_global_data, dates_intersection, country_intersection\n",
    "\n",
    "\n",
    "def rolling_means(df, features, roll_widths):\n",
    "    new_feature_df_list = []\n",
    "    for window in roll_widths:\n",
    "        # order the dataframe so date is index, backfill in the first roll_width values \n",
    "        rollmean = pd.DataFrame(df.groupby(by='location').rolling(window).mean().fillna(value=0.))\n",
    "#         rollstd = pd.DataFrame(df.groupby(by='location').rolling(window).std().fillna(value=0.))    \n",
    "#         new_features = pd.concat((rollmean, rollstd), axis=1)\n",
    "        new_features = rollmean\n",
    "        new_cols = features +'_rolling_mean_' + str(window)\n",
    "#         rsind = features +'_rolling_std_' + str(window)\n",
    "#         new_cols = rmind.append(rsind)\n",
    "        new_features.columns = new_cols\n",
    "        new_feature_df_list.append(new_features)\n",
    "    return new_feature_df_list\n",
    "\n",
    "def tsplot(pd_series, roll_width, **kw):\n",
    "    fig, ax = plt.subplots(figsize=(10,5))\n",
    "    rollmean = pd_series.rolling(roll_width).mean().fillna(method='backfill').values.ravel()\n",
    "    rollstd  = pd_series.rolling(roll_width).std().fillna(method='backfill').values.ravel()\n",
    "    cis = (rollmean - rollstd, rollmean + rollstd)\n",
    "    ax.fill_between(range(len(pd_series)), cis[0], cis[1], alpha=0.5)\n",
    "    ax.plot(range(len(pd_series)), rollmean, color='k')\n",
    "    return ax\n",
    "\n",
    "\n",
    "\n",
    "def regularize_names(df, datekey=None, locationkey=None, dateformat=None):\n",
    "    df.columns = reformat_values(df.columns, category='columns').values\n",
    "    if datekey is not None:\n",
    "        df.loc[:, 'date'] = reformat_values(df.loc[:, datekey], category='date', dateformat=None).values\n",
    "    if locationkey is not None:\n",
    "        df.loc[:, 'location'] =  reformat_values(df.loc[:, locationkey], category='location').values\n",
    "    return df\n",
    "\n",
    "def drop_all_but_least_missing(df, feature):\n",
    "    matching_columns = column_search(df, feature, return_style='iloc', threshold='match') \n",
    "    feature_index =  matching_columns[df.iloc[:, matching_columns].isna().sum().argmin()]\n",
    "\n",
    "\n",
    "def country_search(df, country):\n",
    "    return df[df.location==country].index\n",
    "\n",
    "def country_groupby(df):\n",
    "    return [df[df.location==country].index for country in df.location.unique()]\n",
    "\n",
    "\n",
    "def column_search(df, name, return_style='loc', threshold='contains'):\n",
    "    if threshold=='contains':\n",
    "        func = df.columns.str.contains\n",
    "    else:\n",
    "        func = df.columns.str.match\n",
    "        \n",
    "    if return_style == 'loc':\n",
    "        return df.columns[func(name)]\n",
    "    elif return_style== 'iloc':\n",
    "        return np.where(func(name))[0]\n",
    "    else:\n",
    "        return None\n",
    "\n",
    "# def fix_incorrect_decrease(df, feature, search_threshold='match'):\n",
    "#     matching_columns = column_search(df, feature, return_style='iloc', threshold=search_threshold) \n",
    "#     feature_index =  matching_columns[df.iloc[:, matching_columns].isna().sum().argmin()]\n",
    "#     location_index =  column_search(df, 'location', return_style='iloc', threshold=search_threshold)[0] \n",
    "#     print('Fixing the {} column feature'.format(df.iloc[:, feature_index].name))\n",
    "#     # premptive filling, not related to decreasing but rather missing values.\n",
    "#     decreasing_incorrectly = []\n",
    "#     flag = True\n",
    "#     # flag is switched off immediately, but will be switched on if any values are changed.\n",
    "#     df.iloc[:, feature_index] = df.iloc[:, [location_index, feature_index]].groupby('location').fillna(method='ffill')\n",
    "#     df.iloc[:, feature_index] = df.iloc[:, [location_index, feature_index]].groupby('location').fillna(0)\n",
    "#     while flag:\n",
    "#         flag = False\n",
    "#         decreasing_indices = np.where(df.iloc[:, [location_index, feature_index]].groupby('location').diff(1)< 0)[0].ravel()\n",
    "#         if decreasing_indices.size > 0:\n",
    "#             countries_with_missing = df.iloc[decreasing_indices, location_index].unique().tolist()\n",
    "#             flag = True\n",
    "#             df.iloc[decreasing_indices, feature_index] = np.nan\n",
    "#             df.iloc[:, feature_index] = df.iloc[:, [location_index, feature_index]].groupby('location').fillna(method='ffill')\n",
    "#             df.iloc[:, feature_index] = df.iloc[:, [location_index, feature_index]].groupby('location').fillna(0)\n",
    "#     return None"
   ]
  },
  {
   "cell_type": "code",
   "execution_count": 4,
   "metadata": {},
   "outputs": [],
   "source": [
    "def fix_incorrect_decrease(df, feature, search_threshold='match'):\n",
    "    df_tmp = df.copy()\n",
    "    matching_columns = column_search(df_tmp, feature, return_style='iloc', threshold=search_threshold) \n",
    "    feature_index =  matching_columns[df_tmp.iloc[:, matching_columns].isna().sum().argmin()]\n",
    "    location_index =  column_search(df_tmp, 'location', return_style='iloc', threshold=search_threshold)[0] \n",
    "    decreasing_indices = np.where(df_tmp.iloc[:, [location_index, feature_index]].groupby('location').diff(1)< 0)[0].ravel()\n",
    "    n_countries_with_missing = len(df_tmp.iloc[decreasing_indices, location_index].unique().tolist())\n",
    "    print('Fixing {} countries in the ''{}'' column feature'.format(\n",
    "        n_countries_with_missing, df_tmp.iloc[:, feature_index].name)) \n",
    "    # premptive filling, not related to decreasing but rather missing values.\n",
    "    decreasing_incorrectly = []\n",
    "    flag = True\n",
    "    \n",
    "    # flag is switched off immediately, but will be switched on if any values are changed.\n",
    "    df_tmp.iloc[:, feature_index] = df_tmp.iloc[:, [location_index, feature_index]].groupby('location').fillna(method='ffill')\n",
    "    df_tmp.iloc[:, feature_index] = df_tmp.iloc[:, [location_index, feature_index]].groupby('location').fillna(0)\n",
    "    while flag:\n",
    "        flag = False\n",
    "        decreasing_indices = np.where(df_tmp.iloc[:, [location_index, feature_index]].groupby('location').diff(1)< 0)[0].ravel()\n",
    "        if decreasing_indices.size > 0:\n",
    "            countries_with_missing = df_tmp.iloc[decreasing_indices, location_index].unique().tolist()\n",
    "            flag = True\n",
    "            df_tmp.iloc[decreasing_indices, feature_index] = np.nan\n",
    "            df_tmp.iloc[:, feature_index] = df_tmp.iloc[:, [location_index, feature_index]].groupby('location').fillna(method='ffill')\n",
    "            df_tmp.iloc[:, feature_index] = df_tmp.iloc[:, [location_index, feature_index]].groupby('location').fillna(0)\n",
    "    return df_tmp"
   ]
  },
  {
   "cell_type": "code",
   "execution_count": 5,
   "metadata": {},
   "outputs": [],
   "source": [
    "df_list = []\n",
    "\n",
    "#the actual format difference is being covered up by pd.concat which fills with Nans\n",
    "for x in glob.glob('COVID-19/csse_covid_19_data/csse_covid_19_daily_reports/*.csv'):\n",
    "    tmp_df = pd.read_csv(x)\n",
    "    tmp_df.columns = reformat_values(tmp_df.columns, category='columns').values\n",
    "#     df = column_or_index_string_reformat(pd.read_csv(x),columns=True,index=False)\n",
    "    df_list.append(tmp_df)\n",
    "\n",
    "daily_reports_df = pd.concat(df_list, axis=0)\n",
    "daily_reports_df.columns = reformat_values(daily_reports_df.columns, category='columns').values\n",
    "daily_reports_df.loc[:, 'date'] = reformat_values(daily_reports_df.loc[:, 'last_update'], category='date').values\n",
    "daily_reports_df.loc[:, 'location'] =  reformat_values(daily_reports_df.loc[:, 'country_region'], category='location').values"
   ]
  },
  {
   "cell_type": "code",
   "execution_count": 6,
   "metadata": {},
   "outputs": [],
   "source": [
    "daily_reports_df.loc[:, 'combined_key'] = (daily_reports_df.province_state.astype('str').replace(to_replace='nan', value='')+' '+ daily_reports_df.location.astype('str')).values"
   ]
  },
  {
   "cell_type": "code",
   "execution_count": 7,
   "metadata": {},
   "outputs": [],
   "source": [
    "daily_reports_df = daily_reports_df.drop(columns=['province_state', 'last_update', 'fips', 'admin2']).set_index(['location','date'])\n",
    "#daily_reports_df = daily_reports_df.groupby(['location','date']).sum()"
   ]
  },
  {
   "cell_type": "code",
   "execution_count": 8,
   "metadata": {},
   "outputs": [
    {
     "data": {
      "text/html": [
       "<div>\n",
       "<style scoped>\n",
       "    .dataframe tbody tr th:only-of-type {\n",
       "        vertical-align: middle;\n",
       "    }\n",
       "\n",
       "    .dataframe tbody tr th {\n",
       "        vertical-align: top;\n",
       "    }\n",
       "\n",
       "    .dataframe thead th {\n",
       "        text-align: right;\n",
       "    }\n",
       "</style>\n",
       "<table border=\"1\" class=\"dataframe\">\n",
       "  <thead>\n",
       "    <tr style=\"text-align: right;\">\n",
       "      <th></th>\n",
       "      <th></th>\n",
       "      <th>country_region</th>\n",
       "      <th>confirmed</th>\n",
       "      <th>deaths</th>\n",
       "      <th>recovered</th>\n",
       "      <th>latitude</th>\n",
       "      <th>longitude</th>\n",
       "      <th>lat</th>\n",
       "      <th>long</th>\n",
       "      <th>active</th>\n",
       "      <th>combined_key</th>\n",
       "      <th>incidence_rate</th>\n",
       "      <th>case-_fatality_ratio</th>\n",
       "    </tr>\n",
       "    <tr>\n",
       "      <th>location</th>\n",
       "      <th>date</th>\n",
       "      <th></th>\n",
       "      <th></th>\n",
       "      <th></th>\n",
       "      <th></th>\n",
       "      <th></th>\n",
       "      <th></th>\n",
       "      <th></th>\n",
       "      <th></th>\n",
       "      <th></th>\n",
       "      <th></th>\n",
       "      <th></th>\n",
       "      <th></th>\n",
       "    </tr>\n",
       "  </thead>\n",
       "  <tbody>\n",
       "    <tr>\n",
       "      <th>Nepal</th>\n",
       "      <th>2020-01-31</th>\n",
       "      <td>Nepal</td>\n",
       "      <td>1.0</td>\n",
       "      <td>0.0</td>\n",
       "      <td>0.0</td>\n",
       "      <td>NaN</td>\n",
       "      <td>NaN</td>\n",
       "      <td>NaN</td>\n",
       "      <td>NaN</td>\n",
       "      <td>NaN</td>\n",
       "      <td>Nepal</td>\n",
       "      <td>NaN</td>\n",
       "      <td>NaN</td>\n",
       "    </tr>\n",
       "    <tr>\n",
       "      <th rowspan=\"4\" valign=\"top\">United States</th>\n",
       "      <th>2020-04-11</th>\n",
       "      <td>US</td>\n",
       "      <td>21.0</td>\n",
       "      <td>2.0</td>\n",
       "      <td>0.0</td>\n",
       "      <td>NaN</td>\n",
       "      <td>NaN</td>\n",
       "      <td>44.603530</td>\n",
       "      <td>-72.643567</td>\n",
       "      <td>0.0</td>\n",
       "      <td>Vermont United States</td>\n",
       "      <td>NaN</td>\n",
       "      <td>NaN</td>\n",
       "    </tr>\n",
       "    <tr>\n",
       "      <th>2020-04-18</th>\n",
       "      <td>US</td>\n",
       "      <td>15.0</td>\n",
       "      <td>1.0</td>\n",
       "      <td>0.0</td>\n",
       "      <td>NaN</td>\n",
       "      <td>NaN</td>\n",
       "      <td>33.494196</td>\n",
       "      <td>-89.617291</td>\n",
       "      <td>14.0</td>\n",
       "      <td>Mississippi United States</td>\n",
       "      <td>NaN</td>\n",
       "      <td>NaN</td>\n",
       "    </tr>\n",
       "    <tr>\n",
       "      <th>2020-05-06</th>\n",
       "      <td>US</td>\n",
       "      <td>9.0</td>\n",
       "      <td>0.0</td>\n",
       "      <td>0.0</td>\n",
       "      <td>NaN</td>\n",
       "      <td>NaN</td>\n",
       "      <td>31.087949</td>\n",
       "      <td>-95.136719</td>\n",
       "      <td>9.0</td>\n",
       "      <td>Texas United States</td>\n",
       "      <td>NaN</td>\n",
       "      <td>NaN</td>\n",
       "    </tr>\n",
       "    <tr>\n",
       "      <th>2020-04-30</th>\n",
       "      <td>US</td>\n",
       "      <td>81.0</td>\n",
       "      <td>11.0</td>\n",
       "      <td>0.0</td>\n",
       "      <td>NaN</td>\n",
       "      <td>NaN</td>\n",
       "      <td>38.299801</td>\n",
       "      <td>-88.924003</td>\n",
       "      <td>70.0</td>\n",
       "      <td>Illinois United States</td>\n",
       "      <td>NaN</td>\n",
       "      <td>NaN</td>\n",
       "    </tr>\n",
       "  </tbody>\n",
       "</table>\n",
       "</div>"
      ],
      "text/plain": [
       "                         country_region  confirmed  deaths  recovered  \\\n",
       "location      date                                                      \n",
       "Nepal         2020-01-31          Nepal        1.0     0.0        0.0   \n",
       "United States 2020-04-11             US       21.0     2.0        0.0   \n",
       "              2020-04-18             US       15.0     1.0        0.0   \n",
       "              2020-05-06             US        9.0     0.0        0.0   \n",
       "              2020-04-30             US       81.0    11.0        0.0   \n",
       "\n",
       "                          latitude  longitude        lat       long  active  \\\n",
       "location      date                                                            \n",
       "Nepal         2020-01-31       NaN        NaN        NaN        NaN     NaN   \n",
       "United States 2020-04-11       NaN        NaN  44.603530 -72.643567     0.0   \n",
       "              2020-04-18       NaN        NaN  33.494196 -89.617291    14.0   \n",
       "              2020-05-06       NaN        NaN  31.087949 -95.136719     9.0   \n",
       "              2020-04-30       NaN        NaN  38.299801 -88.924003    70.0   \n",
       "\n",
       "                                       combined_key  incidence_rate  \\\n",
       "location      date                                                    \n",
       "Nepal         2020-01-31                      Nepal             NaN   \n",
       "United States 2020-04-11      Vermont United States             NaN   \n",
       "              2020-04-18  Mississippi United States             NaN   \n",
       "              2020-05-06        Texas United States             NaN   \n",
       "              2020-04-30     Illinois United States             NaN   \n",
       "\n",
       "                          case-_fatality_ratio  \n",
       "location      date                              \n",
       "Nepal         2020-01-31                   NaN  \n",
       "United States 2020-04-11                   NaN  \n",
       "              2020-04-18                   NaN  \n",
       "              2020-05-06                   NaN  \n",
       "              2020-04-30                   NaN  "
      ]
     },
     "execution_count": 8,
     "metadata": {},
     "output_type": "execute_result"
    }
   ],
   "source": [
    "daily_reports_df.sample(5)"
   ]
  },
  {
   "cell_type": "markdown",
   "metadata": {},
   "source": [
    "## Data Reformatting\n",
    "\n",
    "The following sections take the corresponding data set and reformat them such that the data\n",
    "is stored in a pandas DataFrame with a multiindex; level=0 -> 'location' (country or region) and\n",
    "level=1 -> date. Due to the nature of the data this is done separately for country-wide and united states-wide locations."
   ]
  },
  {
   "cell_type": "markdown",
   "metadata": {},
   "source": [
    "## JHU CSSE case data\n",
    "<a id='csse'></a>\n",
    "[Return to table of contents](#toc)"
   ]
  },
  {
   "cell_type": "markdown",
   "metadata": {},
   "source": [
    "Tasks / to-do for this data set."
   ]
  },
  {
   "cell_type": "code",
   "execution_count": 9,
   "metadata": {
    "scrolled": false
   },
   "outputs": [],
   "source": [
    "global_df_list = []\n",
    "\n",
    "for x in glob.glob('COVID-19/csse_covid_19_data/csse_covid_19_time_series/*_global.csv'):\n",
    "    tmp_df = pd.read_csv(x)\n",
    "    catcols = tmp_df.iloc[:, :4]\n",
    "    datecols = tmp_df.iloc[:, 4:]\n",
    "    catcols.columns = reformat_values(catcols.columns, category='columns').values\n",
    "    catcols.loc[:, 'location'] =  reformat_values(catcols.loc[:, 'country_region'], category='location').values\n",
    "    datecols.columns = reformat_values(datecols.columns, category='date').values\n",
    "    global_tmp = pd.concat((catcols.location,datecols),axis=1).groupby(by='location').sum().sort_index()\n",
    "    # keep the name of the data; i.e. 'confirmed', 'deaths', etc.\n",
    "    time_series_name = x.split('.')[0].split('_')[-2]\n",
    "    global_df_list.append(global_tmp.stack().to_frame(name=time_series_name))\n",
    "\n",
    "\n",
    "\n",
    "csse_global_time_series_df = pd.concat(global_df_list, axis=1)#.reset_index(drop=True)\n",
    "csse_global_time_series_df.index.names = ['location','date']\n",
    "csse_global_time_series_df.columns.names = ['csse_global_timeseries']\n",
    "csse_global_time_series_df.columns = ['cases', 'deaths', 'recovered']"
   ]
  },
  {
   "cell_type": "code",
   "execution_count": 10,
   "metadata": {},
   "outputs": [
    {
     "data": {
      "text/html": [
       "<div>\n",
       "<style scoped>\n",
       "    .dataframe tbody tr th:only-of-type {\n",
       "        vertical-align: middle;\n",
       "    }\n",
       "\n",
       "    .dataframe tbody tr th {\n",
       "        vertical-align: top;\n",
       "    }\n",
       "\n",
       "    .dataframe thead th {\n",
       "        text-align: right;\n",
       "    }\n",
       "</style>\n",
       "<table border=\"1\" class=\"dataframe\">\n",
       "  <thead>\n",
       "    <tr style=\"text-align: right;\">\n",
       "      <th></th>\n",
       "      <th></th>\n",
       "      <th>cases</th>\n",
       "      <th>deaths</th>\n",
       "      <th>recovered</th>\n",
       "    </tr>\n",
       "    <tr>\n",
       "      <th>location</th>\n",
       "      <th>date</th>\n",
       "      <th></th>\n",
       "      <th></th>\n",
       "      <th></th>\n",
       "    </tr>\n",
       "  </thead>\n",
       "  <tbody>\n",
       "    <tr>\n",
       "      <th>Mexico</th>\n",
       "      <th>2020-05-04 00:00:00</th>\n",
       "      <td>24905</td>\n",
       "      <td>2271</td>\n",
       "      <td>13447</td>\n",
       "    </tr>\n",
       "    <tr>\n",
       "      <th>Maldives</th>\n",
       "      <th>2020-04-06 00:00:00</th>\n",
       "      <td>19</td>\n",
       "      <td>0</td>\n",
       "      <td>13</td>\n",
       "    </tr>\n",
       "    <tr>\n",
       "      <th>Guyana</th>\n",
       "      <th>2020-03-12 00:00:00</th>\n",
       "      <td>1</td>\n",
       "      <td>1</td>\n",
       "      <td>0</td>\n",
       "    </tr>\n",
       "    <tr>\n",
       "      <th>Russia</th>\n",
       "      <th>2020-02-18 00:00:00</th>\n",
       "      <td>2</td>\n",
       "      <td>0</td>\n",
       "      <td>2</td>\n",
       "    </tr>\n",
       "    <tr>\n",
       "      <th>Bosnia And Herzegovina</th>\n",
       "      <th>2020-01-28 00:00:00</th>\n",
       "      <td>0</td>\n",
       "      <td>0</td>\n",
       "      <td>0</td>\n",
       "    </tr>\n",
       "  </tbody>\n",
       "</table>\n",
       "</div>"
      ],
      "text/plain": [
       "                                            cases  deaths  recovered\n",
       "location               date                                         \n",
       "Mexico                 2020-05-04 00:00:00  24905    2271      13447\n",
       "Maldives               2020-04-06 00:00:00     19       0         13\n",
       "Guyana                 2020-03-12 00:00:00      1       1          0\n",
       "Russia                 2020-02-18 00:00:00      2       0          2\n",
       "Bosnia And Herzegovina 2020-01-28 00:00:00      0       0          0"
      ]
     },
     "execution_count": 10,
     "metadata": {},
     "output_type": "execute_result"
    }
   ],
   "source": [
    "csse_global_time_series_df.sample(5)"
   ]
  },
  {
   "cell_type": "code",
   "execution_count": 11,
   "metadata": {},
   "outputs": [],
   "source": [
    "usa_df_list = []\n",
    "for x in glob.glob('COVID-19/csse_covid_19_data/csse_covid_19_time_series/*_US.csv'):\n",
    "    tmp_df = pd.read_csv(x)\n",
    "    catcols = tmp_df.iloc[:, :np.where(tmp_df.columns == '1/22/20')[0][0]]\n",
    "    catcols.columns = reformat_values(catcols.columns, category='columns').values\n",
    "    catcols.loc[:, 'location'] =  catcols.loc[:, 'province_state'].values\n",
    "    \n",
    "    datecols = tmp_df.iloc[:,np.where(tmp_df.columns == '1/22/20')[0][0]:]\n",
    "    datecols.columns = reformat_values(datecols.columns, category='date').values\n",
    "    usa_tmp = pd.concat((catcols.location,datecols),axis=1).groupby(by='location').sum().sort_index()\n",
    "    # keep the name of the data; i.e. 'confirmed', 'deaths', etc.\n",
    "    time_series_name = x.split('.')[0].split('_')[-2]\n",
    "    usa_df_list.append(usa_tmp.stack().to_frame(name=time_series_name))\n",
    "    \n",
    "usa_time_series_df = pd.concat(usa_df_list,axis=1)#.reset_index(drop=True)\n",
    "usa_time_series_df.index.names = ['location','date']\n",
    "usa_time_series_df.columns.names = ['csse_us_timeseries']\n"
   ]
  },
  {
   "cell_type": "code",
   "execution_count": 12,
   "metadata": {},
   "outputs": [
    {
     "data": {
      "text/html": [
       "<div>\n",
       "<style scoped>\n",
       "    .dataframe tbody tr th:only-of-type {\n",
       "        vertical-align: middle;\n",
       "    }\n",
       "\n",
       "    .dataframe tbody tr th {\n",
       "        vertical-align: top;\n",
       "    }\n",
       "\n",
       "    .dataframe thead th {\n",
       "        text-align: right;\n",
       "    }\n",
       "</style>\n",
       "<table border=\"1\" class=\"dataframe\">\n",
       "  <thead>\n",
       "    <tr style=\"text-align: right;\">\n",
       "      <th></th>\n",
       "      <th>csse_us_timeseries</th>\n",
       "      <th>confirmed</th>\n",
       "      <th>deaths</th>\n",
       "    </tr>\n",
       "    <tr>\n",
       "      <th>location</th>\n",
       "      <th>date</th>\n",
       "      <th></th>\n",
       "      <th></th>\n",
       "    </tr>\n",
       "  </thead>\n",
       "  <tbody>\n",
       "    <tr>\n",
       "      <th>Oregon</th>\n",
       "      <th>2020-02-21 00:00:00</th>\n",
       "      <td>0</td>\n",
       "      <td>0</td>\n",
       "    </tr>\n",
       "    <tr>\n",
       "      <th>Guam</th>\n",
       "      <th>2020-05-17 00:00:00</th>\n",
       "      <td>154</td>\n",
       "      <td>5</td>\n",
       "    </tr>\n",
       "    <tr>\n",
       "      <th>Tennessee</th>\n",
       "      <th>2020-04-01 00:00:00</th>\n",
       "      <td>2933</td>\n",
       "      <td>24</td>\n",
       "    </tr>\n",
       "    <tr>\n",
       "      <th>Iowa</th>\n",
       "      <th>2020-01-31 00:00:00</th>\n",
       "      <td>0</td>\n",
       "      <td>0</td>\n",
       "    </tr>\n",
       "    <tr>\n",
       "      <th>Indiana</th>\n",
       "      <th>2020-02-03 00:00:00</th>\n",
       "      <td>0</td>\n",
       "      <td>0</td>\n",
       "    </tr>\n",
       "  </tbody>\n",
       "</table>\n",
       "</div>"
      ],
      "text/plain": [
       "csse_us_timeseries             confirmed  deaths\n",
       "location  date                                  \n",
       "Oregon    2020-02-21 00:00:00          0       0\n",
       "Guam      2020-05-17 00:00:00        154       5\n",
       "Tennessee 2020-04-01 00:00:00       2933      24\n",
       "Iowa      2020-01-31 00:00:00          0       0\n",
       "Indiana   2020-02-03 00:00:00          0       0"
      ]
     },
     "execution_count": 12,
     "metadata": {},
     "output_type": "execute_result"
    }
   ],
   "source": [
    "usa_time_series_df.sample(5)"
   ]
  },
  {
   "cell_type": "markdown",
   "metadata": {},
   "source": [
    "## OWID case and test data\n",
    "<a id='source5'></a>\n",
    "[Return to table of contents](#toc)"
   ]
  },
  {
   "cell_type": "markdown",
   "metadata": {},
   "source": [
    "The \"Our World in Data\" dataset contains time series information on the cases, tests, and deaths."
   ]
  },
  {
   "cell_type": "code",
   "execution_count": 13,
   "metadata": {},
   "outputs": [],
   "source": [
    "owid_df =pd.read_csv('./covid-19-data/public/data/owid-covid-data.csv')\n",
    "# owid_df= owid_df[owid_df.new_cases_per_million > 0])#.new_cases_per_thousand.\n",
    "owid_df = regularize_names(owid_df, datekey='date', locationkey='location').set_index(['location', 'date']).sort_index()"
   ]
  },
  {
   "cell_type": "code",
   "execution_count": 14,
   "metadata": {},
   "outputs": [
    {
     "data": {
      "text/html": [
       "<div>\n",
       "<style scoped>\n",
       "    .dataframe tbody tr th:only-of-type {\n",
       "        vertical-align: middle;\n",
       "    }\n",
       "\n",
       "    .dataframe tbody tr th {\n",
       "        vertical-align: top;\n",
       "    }\n",
       "\n",
       "    .dataframe thead th {\n",
       "        text-align: right;\n",
       "    }\n",
       "</style>\n",
       "<table border=\"1\" class=\"dataframe\">\n",
       "  <thead>\n",
       "    <tr style=\"text-align: right;\">\n",
       "      <th></th>\n",
       "      <th></th>\n",
       "      <th>iso_code</th>\n",
       "      <th>continent</th>\n",
       "      <th>total_cases</th>\n",
       "      <th>new_cases</th>\n",
       "      <th>total_deaths</th>\n",
       "      <th>new_deaths</th>\n",
       "      <th>total_cases_per_million</th>\n",
       "      <th>new_cases_per_million</th>\n",
       "      <th>total_deaths_per_million</th>\n",
       "      <th>new_deaths_per_million</th>\n",
       "      <th>...</th>\n",
       "      <th>aged_65_older</th>\n",
       "      <th>aged_70_older</th>\n",
       "      <th>gdp_per_capita</th>\n",
       "      <th>extreme_poverty</th>\n",
       "      <th>cvd_death_rate</th>\n",
       "      <th>diabetes_prevalence</th>\n",
       "      <th>female_smokers</th>\n",
       "      <th>male_smokers</th>\n",
       "      <th>handwashing_facilities</th>\n",
       "      <th>hospital_beds_per_thousand</th>\n",
       "    </tr>\n",
       "    <tr>\n",
       "      <th>location</th>\n",
       "      <th>date</th>\n",
       "      <th></th>\n",
       "      <th></th>\n",
       "      <th></th>\n",
       "      <th></th>\n",
       "      <th></th>\n",
       "      <th></th>\n",
       "      <th></th>\n",
       "      <th></th>\n",
       "      <th></th>\n",
       "      <th></th>\n",
       "      <th></th>\n",
       "      <th></th>\n",
       "      <th></th>\n",
       "      <th></th>\n",
       "      <th></th>\n",
       "      <th></th>\n",
       "      <th></th>\n",
       "      <th></th>\n",
       "      <th></th>\n",
       "      <th></th>\n",
       "      <th></th>\n",
       "    </tr>\n",
       "  </thead>\n",
       "  <tbody>\n",
       "    <tr>\n",
       "      <th>Serbia</th>\n",
       "      <th>2020-06-09</th>\n",
       "      <td>SRB</td>\n",
       "      <td>Europe</td>\n",
       "      <td>11896</td>\n",
       "      <td>73</td>\n",
       "      <td>250</td>\n",
       "      <td>1</td>\n",
       "      <td>1748.230</td>\n",
       "      <td>10.728</td>\n",
       "      <td>36.740</td>\n",
       "      <td>0.147</td>\n",
       "      <td>...</td>\n",
       "      <td>17.366</td>\n",
       "      <td>NaN</td>\n",
       "      <td>14048.881</td>\n",
       "      <td>NaN</td>\n",
       "      <td>439.415</td>\n",
       "      <td>10.08</td>\n",
       "      <td>37.7</td>\n",
       "      <td>40.2</td>\n",
       "      <td>97.719</td>\n",
       "      <td>5.609</td>\n",
       "    </tr>\n",
       "    <tr>\n",
       "      <th>Colombia</th>\n",
       "      <th>2020-06-11</th>\n",
       "      <td>COL</td>\n",
       "      <td>South America</td>\n",
       "      <td>43682</td>\n",
       "      <td>1604</td>\n",
       "      <td>1433</td>\n",
       "      <td>61</td>\n",
       "      <td>858.481</td>\n",
       "      <td>31.523</td>\n",
       "      <td>28.163</td>\n",
       "      <td>1.199</td>\n",
       "      <td>...</td>\n",
       "      <td>7.646</td>\n",
       "      <td>4.312</td>\n",
       "      <td>13254.949</td>\n",
       "      <td>4.5</td>\n",
       "      <td>124.240</td>\n",
       "      <td>7.44</td>\n",
       "      <td>4.7</td>\n",
       "      <td>13.5</td>\n",
       "      <td>65.386</td>\n",
       "      <td>1.710</td>\n",
       "    </tr>\n",
       "    <tr>\n",
       "      <th>Zambia</th>\n",
       "      <th>2020-05-12</th>\n",
       "      <td>ZMB</td>\n",
       "      <td>Africa</td>\n",
       "      <td>267</td>\n",
       "      <td>0</td>\n",
       "      <td>7</td>\n",
       "      <td>0</td>\n",
       "      <td>14.524</td>\n",
       "      <td>0.000</td>\n",
       "      <td>0.381</td>\n",
       "      <td>0.000</td>\n",
       "      <td>...</td>\n",
       "      <td>2.480</td>\n",
       "      <td>1.542</td>\n",
       "      <td>3689.251</td>\n",
       "      <td>57.5</td>\n",
       "      <td>234.499</td>\n",
       "      <td>3.94</td>\n",
       "      <td>3.1</td>\n",
       "      <td>24.7</td>\n",
       "      <td>13.938</td>\n",
       "      <td>2.000</td>\n",
       "    </tr>\n",
       "    <tr>\n",
       "      <th>Finland</th>\n",
       "      <th>2020-01-22</th>\n",
       "      <td>FIN</td>\n",
       "      <td>Europe</td>\n",
       "      <td>0</td>\n",
       "      <td>0</td>\n",
       "      <td>0</td>\n",
       "      <td>0</td>\n",
       "      <td>0.000</td>\n",
       "      <td>0.000</td>\n",
       "      <td>0.000</td>\n",
       "      <td>0.000</td>\n",
       "      <td>...</td>\n",
       "      <td>21.228</td>\n",
       "      <td>13.264</td>\n",
       "      <td>40585.721</td>\n",
       "      <td>NaN</td>\n",
       "      <td>153.507</td>\n",
       "      <td>5.76</td>\n",
       "      <td>18.3</td>\n",
       "      <td>22.6</td>\n",
       "      <td>NaN</td>\n",
       "      <td>3.280</td>\n",
       "    </tr>\n",
       "    <tr>\n",
       "      <th>Armenia</th>\n",
       "      <th>2020-01-21</th>\n",
       "      <td>ARM</td>\n",
       "      <td>Asia</td>\n",
       "      <td>0</td>\n",
       "      <td>0</td>\n",
       "      <td>0</td>\n",
       "      <td>0</td>\n",
       "      <td>0.000</td>\n",
       "      <td>0.000</td>\n",
       "      <td>0.000</td>\n",
       "      <td>0.000</td>\n",
       "      <td>...</td>\n",
       "      <td>11.232</td>\n",
       "      <td>7.571</td>\n",
       "      <td>8787.580</td>\n",
       "      <td>1.8</td>\n",
       "      <td>341.010</td>\n",
       "      <td>7.11</td>\n",
       "      <td>1.5</td>\n",
       "      <td>52.1</td>\n",
       "      <td>94.043</td>\n",
       "      <td>4.200</td>\n",
       "    </tr>\n",
       "  </tbody>\n",
       "</table>\n",
       "<p>5 rows × 31 columns</p>\n",
       "</div>"
      ],
      "text/plain": [
       "                    iso_code      continent  total_cases  new_cases  \\\n",
       "location date                                                         \n",
       "Serbia   2020-06-09      SRB         Europe        11896         73   \n",
       "Colombia 2020-06-11      COL  South America        43682       1604   \n",
       "Zambia   2020-05-12      ZMB         Africa          267          0   \n",
       "Finland  2020-01-22      FIN         Europe            0          0   \n",
       "Armenia  2020-01-21      ARM           Asia            0          0   \n",
       "\n",
       "                     total_deaths  new_deaths  total_cases_per_million  \\\n",
       "location date                                                            \n",
       "Serbia   2020-06-09           250           1                 1748.230   \n",
       "Colombia 2020-06-11          1433          61                  858.481   \n",
       "Zambia   2020-05-12             7           0                   14.524   \n",
       "Finland  2020-01-22             0           0                    0.000   \n",
       "Armenia  2020-01-21             0           0                    0.000   \n",
       "\n",
       "                     new_cases_per_million  total_deaths_per_million  \\\n",
       "location date                                                          \n",
       "Serbia   2020-06-09                 10.728                    36.740   \n",
       "Colombia 2020-06-11                 31.523                    28.163   \n",
       "Zambia   2020-05-12                  0.000                     0.381   \n",
       "Finland  2020-01-22                  0.000                     0.000   \n",
       "Armenia  2020-01-21                  0.000                     0.000   \n",
       "\n",
       "                     new_deaths_per_million  ...  aged_65_older  \\\n",
       "location date                                ...                  \n",
       "Serbia   2020-06-09                   0.147  ...         17.366   \n",
       "Colombia 2020-06-11                   1.199  ...          7.646   \n",
       "Zambia   2020-05-12                   0.000  ...          2.480   \n",
       "Finland  2020-01-22                   0.000  ...         21.228   \n",
       "Armenia  2020-01-21                   0.000  ...         11.232   \n",
       "\n",
       "                     aged_70_older  gdp_per_capita  extreme_poverty  \\\n",
       "location date                                                         \n",
       "Serbia   2020-06-09            NaN       14048.881              NaN   \n",
       "Colombia 2020-06-11          4.312       13254.949              4.5   \n",
       "Zambia   2020-05-12          1.542        3689.251             57.5   \n",
       "Finland  2020-01-22         13.264       40585.721              NaN   \n",
       "Armenia  2020-01-21          7.571        8787.580              1.8   \n",
       "\n",
       "                     cvd_death_rate  diabetes_prevalence female_smokers  \\\n",
       "location date                                                             \n",
       "Serbia   2020-06-09         439.415                10.08           37.7   \n",
       "Colombia 2020-06-11         124.240                 7.44            4.7   \n",
       "Zambia   2020-05-12         234.499                 3.94            3.1   \n",
       "Finland  2020-01-22         153.507                 5.76           18.3   \n",
       "Armenia  2020-01-21         341.010                 7.11            1.5   \n",
       "\n",
       "                     male_smokers  handwashing_facilities  \\\n",
       "location date                                               \n",
       "Serbia   2020-06-09          40.2                  97.719   \n",
       "Colombia 2020-06-11          13.5                  65.386   \n",
       "Zambia   2020-05-12          24.7                  13.938   \n",
       "Finland  2020-01-22          22.6                     NaN   \n",
       "Armenia  2020-01-21          52.1                  94.043   \n",
       "\n",
       "                     hospital_beds_per_thousand  \n",
       "location date                                    \n",
       "Serbia   2020-06-09                       5.609  \n",
       "Colombia 2020-06-11                       1.710  \n",
       "Zambia   2020-05-12                       2.000  \n",
       "Finland  2020-01-22                       3.280  \n",
       "Armenia  2020-01-21                       4.200  \n",
       "\n",
       "[5 rows x 31 columns]"
      ]
     },
     "execution_count": 14,
     "metadata": {},
     "output_type": "execute_result"
    }
   ],
   "source": [
    "owid_df.sample(5)"
   ]
  },
  {
   "cell_type": "markdown",
   "metadata": {},
   "source": [
    "## OxCGRT government response data\n",
    "<a id='oxcgrt'></a>\n",
    "[Return to table of contents](#toc)"
   ]
  },
  {
   "cell_type": "markdown",
   "metadata": {},
   "source": [
    "Manual importation of data (for whatever reason this data set is different from pulling using API). This\n",
    "dataset contains time series information for the different social distancing and quarantine measures. The time\n",
    "series are recorded using flags which indicate whether or not a measure is in place, recommended, or not considered.\n",
    "In addition, there are addition flags which augment these time series; indicating whether or not the measures are targeted\n",
    "or general."
   ]
  },
  {
   "cell_type": "code",
   "execution_count": 15,
   "metadata": {},
   "outputs": [],
   "source": [
    "oxcgrt_df = regularize_names(pd.read_csv('OxCGRT_latest.csv'), locationkey='country_name')\n",
    "oxcgrt_df.loc[:, 'date'] = pd.to_datetime(oxcgrt_df.loc[:, 'date'], format='%Y%m%d')\n",
    "oxcgrt_df = oxcgrt_df.set_index(['location', 'date'])\n",
    "# oxcgrt_df = oxcgrt_df.drop(columns='m1_wildcard')"
   ]
  },
  {
   "cell_type": "code",
   "execution_count": 16,
   "metadata": {},
   "outputs": [
    {
     "data": {
      "text/plain": [
       "159"
      ]
     },
     "execution_count": 16,
     "metadata": {},
     "output_type": "execute_result"
    }
   ],
   "source": [
    "oxcgrt_df.stringency_index.nunique()"
   ]
  },
  {
   "cell_type": "code",
   "execution_count": 17,
   "metadata": {},
   "outputs": [
    {
     "data": {
      "text/html": [
       "<div>\n",
       "<style scoped>\n",
       "    .dataframe tbody tr th:only-of-type {\n",
       "        vertical-align: middle;\n",
       "    }\n",
       "\n",
       "    .dataframe tbody tr th {\n",
       "        vertical-align: top;\n",
       "    }\n",
       "\n",
       "    .dataframe thead th {\n",
       "        text-align: right;\n",
       "    }\n",
       "</style>\n",
       "<table border=\"1\" class=\"dataframe\">\n",
       "  <thead>\n",
       "    <tr style=\"text-align: right;\">\n",
       "      <th></th>\n",
       "      <th></th>\n",
       "      <th>country_name</th>\n",
       "      <th>country_code</th>\n",
       "      <th>c1_school_closing</th>\n",
       "      <th>c1_flag</th>\n",
       "      <th>c2_workplace_closing</th>\n",
       "      <th>c2_flag</th>\n",
       "      <th>c3_cancel_public_events</th>\n",
       "      <th>c3_flag</th>\n",
       "      <th>c4_restrictions_on_gatherings</th>\n",
       "      <th>c4_flag</th>\n",
       "      <th>...</th>\n",
       "      <th>stringency_index</th>\n",
       "      <th>stringency_index_for_display</th>\n",
       "      <th>stringency_legacy_index</th>\n",
       "      <th>stringency_legacy_index_for_display</th>\n",
       "      <th>government_response_index</th>\n",
       "      <th>government_response_index_for_display</th>\n",
       "      <th>containment_health_index</th>\n",
       "      <th>containment_health_index_for_display</th>\n",
       "      <th>economic_support_index</th>\n",
       "      <th>economic_support_index_for_display</th>\n",
       "    </tr>\n",
       "    <tr>\n",
       "      <th>location</th>\n",
       "      <th>date</th>\n",
       "      <th></th>\n",
       "      <th></th>\n",
       "      <th></th>\n",
       "      <th></th>\n",
       "      <th></th>\n",
       "      <th></th>\n",
       "      <th></th>\n",
       "      <th></th>\n",
       "      <th></th>\n",
       "      <th></th>\n",
       "      <th></th>\n",
       "      <th></th>\n",
       "      <th></th>\n",
       "      <th></th>\n",
       "      <th></th>\n",
       "      <th></th>\n",
       "      <th></th>\n",
       "      <th></th>\n",
       "      <th></th>\n",
       "      <th></th>\n",
       "      <th></th>\n",
       "    </tr>\n",
       "  </thead>\n",
       "  <tbody>\n",
       "    <tr>\n",
       "      <th>Finland</th>\n",
       "      <th>2020-04-30</th>\n",
       "      <td>Finland</td>\n",
       "      <td>FIN</td>\n",
       "      <td>2.0</td>\n",
       "      <td>1.0</td>\n",
       "      <td>2.0</td>\n",
       "      <td>1.0</td>\n",
       "      <td>2.0</td>\n",
       "      <td>1.0</td>\n",
       "      <td>0.0</td>\n",
       "      <td>NaN</td>\n",
       "      <td>...</td>\n",
       "      <td>57.41</td>\n",
       "      <td>57.41</td>\n",
       "      <td>73.81</td>\n",
       "      <td>73.81</td>\n",
       "      <td>53.85</td>\n",
       "      <td>53.85</td>\n",
       "      <td>54.55</td>\n",
       "      <td>54.55</td>\n",
       "      <td>50.0</td>\n",
       "      <td>50.0</td>\n",
       "    </tr>\n",
       "    <tr>\n",
       "      <th>Turkmenistan</th>\n",
       "      <th>2020-04-22</th>\n",
       "      <td>Turkmenistan</td>\n",
       "      <td>TKM</td>\n",
       "      <td>0.0</td>\n",
       "      <td>NaN</td>\n",
       "      <td>0.0</td>\n",
       "      <td>NaN</td>\n",
       "      <td>0.0</td>\n",
       "      <td>NaN</td>\n",
       "      <td>0.0</td>\n",
       "      <td>NaN</td>\n",
       "      <td>...</td>\n",
       "      <td>30.56</td>\n",
       "      <td>30.56</td>\n",
       "      <td>38.10</td>\n",
       "      <td>38.10</td>\n",
       "      <td>23.72</td>\n",
       "      <td>23.72</td>\n",
       "      <td>28.03</td>\n",
       "      <td>28.03</td>\n",
       "      <td>0.0</td>\n",
       "      <td>0.0</td>\n",
       "    </tr>\n",
       "    <tr>\n",
       "      <th>Kazakhstan</th>\n",
       "      <th>2020-02-22</th>\n",
       "      <td>Kazakhstan</td>\n",
       "      <td>KAZ</td>\n",
       "      <td>0.0</td>\n",
       "      <td>NaN</td>\n",
       "      <td>0.0</td>\n",
       "      <td>NaN</td>\n",
       "      <td>0.0</td>\n",
       "      <td>NaN</td>\n",
       "      <td>0.0</td>\n",
       "      <td>NaN</td>\n",
       "      <td>...</td>\n",
       "      <td>0.00</td>\n",
       "      <td>0.00</td>\n",
       "      <td>0.00</td>\n",
       "      <td>0.00</td>\n",
       "      <td>2.56</td>\n",
       "      <td>2.56</td>\n",
       "      <td>3.03</td>\n",
       "      <td>3.03</td>\n",
       "      <td>0.0</td>\n",
       "      <td>0.0</td>\n",
       "    </tr>\n",
       "    <tr>\n",
       "      <th>Georgia</th>\n",
       "      <th>2020-02-26</th>\n",
       "      <td>Georgia</td>\n",
       "      <td>GEO</td>\n",
       "      <td>0.0</td>\n",
       "      <td>NaN</td>\n",
       "      <td>0.0</td>\n",
       "      <td>NaN</td>\n",
       "      <td>0.0</td>\n",
       "      <td>NaN</td>\n",
       "      <td>0.0</td>\n",
       "      <td>NaN</td>\n",
       "      <td>...</td>\n",
       "      <td>19.44</td>\n",
       "      <td>19.44</td>\n",
       "      <td>25.00</td>\n",
       "      <td>25.00</td>\n",
       "      <td>23.72</td>\n",
       "      <td>23.72</td>\n",
       "      <td>28.03</td>\n",
       "      <td>28.03</td>\n",
       "      <td>0.0</td>\n",
       "      <td>0.0</td>\n",
       "    </tr>\n",
       "    <tr>\n",
       "      <th>Argentina</th>\n",
       "      <th>2020-01-12</th>\n",
       "      <td>Argentina</td>\n",
       "      <td>ARG</td>\n",
       "      <td>0.0</td>\n",
       "      <td>NaN</td>\n",
       "      <td>0.0</td>\n",
       "      <td>NaN</td>\n",
       "      <td>0.0</td>\n",
       "      <td>NaN</td>\n",
       "      <td>0.0</td>\n",
       "      <td>NaN</td>\n",
       "      <td>...</td>\n",
       "      <td>0.00</td>\n",
       "      <td>0.00</td>\n",
       "      <td>0.00</td>\n",
       "      <td>0.00</td>\n",
       "      <td>0.00</td>\n",
       "      <td>0.00</td>\n",
       "      <td>0.00</td>\n",
       "      <td>0.00</td>\n",
       "      <td>0.0</td>\n",
       "      <td>0.0</td>\n",
       "    </tr>\n",
       "  </tbody>\n",
       "</table>\n",
       "<p>5 rows × 41 columns</p>\n",
       "</div>"
      ],
      "text/plain": [
       "                         country_name country_code  c1_school_closing  \\\n",
       "location     date                                                       \n",
       "Finland      2020-04-30       Finland          FIN                2.0   \n",
       "Turkmenistan 2020-04-22  Turkmenistan          TKM                0.0   \n",
       "Kazakhstan   2020-02-22    Kazakhstan          KAZ                0.0   \n",
       "Georgia      2020-02-26       Georgia          GEO                0.0   \n",
       "Argentina    2020-01-12     Argentina          ARG                0.0   \n",
       "\n",
       "                         c1_flag  c2_workplace_closing  c2_flag  \\\n",
       "location     date                                                 \n",
       "Finland      2020-04-30      1.0                   2.0      1.0   \n",
       "Turkmenistan 2020-04-22      NaN                   0.0      NaN   \n",
       "Kazakhstan   2020-02-22      NaN                   0.0      NaN   \n",
       "Georgia      2020-02-26      NaN                   0.0      NaN   \n",
       "Argentina    2020-01-12      NaN                   0.0      NaN   \n",
       "\n",
       "                         c3_cancel_public_events  c3_flag  \\\n",
       "location     date                                           \n",
       "Finland      2020-04-30                      2.0      1.0   \n",
       "Turkmenistan 2020-04-22                      0.0      NaN   \n",
       "Kazakhstan   2020-02-22                      0.0      NaN   \n",
       "Georgia      2020-02-26                      0.0      NaN   \n",
       "Argentina    2020-01-12                      0.0      NaN   \n",
       "\n",
       "                         c4_restrictions_on_gatherings  c4_flag  ...  \\\n",
       "location     date                                                ...   \n",
       "Finland      2020-04-30                            0.0      NaN  ...   \n",
       "Turkmenistan 2020-04-22                            0.0      NaN  ...   \n",
       "Kazakhstan   2020-02-22                            0.0      NaN  ...   \n",
       "Georgia      2020-02-26                            0.0      NaN  ...   \n",
       "Argentina    2020-01-12                            0.0      NaN  ...   \n",
       "\n",
       "                         stringency_index  stringency_index_for_display  \\\n",
       "location     date                                                         \n",
       "Finland      2020-04-30             57.41                         57.41   \n",
       "Turkmenistan 2020-04-22             30.56                         30.56   \n",
       "Kazakhstan   2020-02-22              0.00                          0.00   \n",
       "Georgia      2020-02-26             19.44                         19.44   \n",
       "Argentina    2020-01-12              0.00                          0.00   \n",
       "\n",
       "                         stringency_legacy_index  \\\n",
       "location     date                                  \n",
       "Finland      2020-04-30                    73.81   \n",
       "Turkmenistan 2020-04-22                    38.10   \n",
       "Kazakhstan   2020-02-22                     0.00   \n",
       "Georgia      2020-02-26                    25.00   \n",
       "Argentina    2020-01-12                     0.00   \n",
       "\n",
       "                         stringency_legacy_index_for_display  \\\n",
       "location     date                                              \n",
       "Finland      2020-04-30                                73.81   \n",
       "Turkmenistan 2020-04-22                                38.10   \n",
       "Kazakhstan   2020-02-22                                 0.00   \n",
       "Georgia      2020-02-26                                25.00   \n",
       "Argentina    2020-01-12                                 0.00   \n",
       "\n",
       "                         government_response_index  \\\n",
       "location     date                                    \n",
       "Finland      2020-04-30                      53.85   \n",
       "Turkmenistan 2020-04-22                      23.72   \n",
       "Kazakhstan   2020-02-22                       2.56   \n",
       "Georgia      2020-02-26                      23.72   \n",
       "Argentina    2020-01-12                       0.00   \n",
       "\n",
       "                         government_response_index_for_display  \\\n",
       "location     date                                                \n",
       "Finland      2020-04-30                                  53.85   \n",
       "Turkmenistan 2020-04-22                                  23.72   \n",
       "Kazakhstan   2020-02-22                                   2.56   \n",
       "Georgia      2020-02-26                                  23.72   \n",
       "Argentina    2020-01-12                                   0.00   \n",
       "\n",
       "                         containment_health_index  \\\n",
       "location     date                                   \n",
       "Finland      2020-04-30                     54.55   \n",
       "Turkmenistan 2020-04-22                     28.03   \n",
       "Kazakhstan   2020-02-22                      3.03   \n",
       "Georgia      2020-02-26                     28.03   \n",
       "Argentina    2020-01-12                      0.00   \n",
       "\n",
       "                         containment_health_index_for_display  \\\n",
       "location     date                                               \n",
       "Finland      2020-04-30                                 54.55   \n",
       "Turkmenistan 2020-04-22                                 28.03   \n",
       "Kazakhstan   2020-02-22                                  3.03   \n",
       "Georgia      2020-02-26                                 28.03   \n",
       "Argentina    2020-01-12                                  0.00   \n",
       "\n",
       "                         economic_support_index  \\\n",
       "location     date                                 \n",
       "Finland      2020-04-30                    50.0   \n",
       "Turkmenistan 2020-04-22                     0.0   \n",
       "Kazakhstan   2020-02-22                     0.0   \n",
       "Georgia      2020-02-26                     0.0   \n",
       "Argentina    2020-01-12                     0.0   \n",
       "\n",
       "                         economic_support_index_for_display  \n",
       "location     date                                            \n",
       "Finland      2020-04-30                                50.0  \n",
       "Turkmenistan 2020-04-22                                 0.0  \n",
       "Kazakhstan   2020-02-22                                 0.0  \n",
       "Georgia      2020-02-26                                 0.0  \n",
       "Argentina    2020-01-12                                 0.0  \n",
       "\n",
       "[5 rows x 41 columns]"
      ]
     },
     "execution_count": 17,
     "metadata": {},
     "output_type": "execute_result"
    }
   ],
   "source": [
    "oxcgrt_df.sample(5)"
   ]
  },
  {
   "cell_type": "markdown",
   "metadata": {},
   "source": [
    "Reformat the data, making it a multiindex dataframe which matches the others in this notebook. Also, cast\n",
    "the date-like variable as a datetime feature."
   ]
  },
  {
   "cell_type": "markdown",
   "metadata": {},
   "source": [
    "## Testing tracker data\n",
    "<a id='testtrack'></a>\n",
    "[Return to table of contents](#toc)"
   ]
  },
  {
   "cell_type": "markdown",
   "metadata": {},
   "source": [
    "This dataset only pertains to testing data of different locations. "
   ]
  },
  {
   "cell_type": "code",
   "execution_count": 18,
   "metadata": {},
   "outputs": [],
   "source": [
    "testtracker_cases = regularize_names(pd.read_csv('test_tracker_cases.csv'),\n",
    "                          datekey='date', locationkey='country').set_index(\n",
    "                            ['location', 'date']).drop(\n",
    "                                    columns=['population','country','alpha3']).sort_index()"
   ]
  },
  {
   "cell_type": "code",
   "execution_count": 19,
   "metadata": {},
   "outputs": [
    {
     "data": {
      "text/html": [
       "<div>\n",
       "<style scoped>\n",
       "    .dataframe tbody tr th:only-of-type {\n",
       "        vertical-align: middle;\n",
       "    }\n",
       "\n",
       "    .dataframe tbody tr th {\n",
       "        vertical-align: top;\n",
       "    }\n",
       "\n",
       "    .dataframe thead th {\n",
       "        text-align: right;\n",
       "    }\n",
       "</style>\n",
       "<table border=\"1\" class=\"dataframe\">\n",
       "  <thead>\n",
       "    <tr style=\"text-align: right;\">\n",
       "      <th></th>\n",
       "      <th></th>\n",
       "      <th>cases</th>\n",
       "      <th>new_cases</th>\n",
       "      <th>deaths</th>\n",
       "      <th>cases_per100k</th>\n",
       "      <th>deaths_per100k</th>\n",
       "      <th>income_group</th>\n",
       "      <th>continent</th>\n",
       "      <th>region</th>\n",
       "    </tr>\n",
       "    <tr>\n",
       "      <th>location</th>\n",
       "      <th>date</th>\n",
       "      <th></th>\n",
       "      <th></th>\n",
       "      <th></th>\n",
       "      <th></th>\n",
       "      <th></th>\n",
       "      <th></th>\n",
       "      <th></th>\n",
       "      <th></th>\n",
       "    </tr>\n",
       "  </thead>\n",
       "  <tbody>\n",
       "    <tr>\n",
       "      <th>Argentina</th>\n",
       "      <th>2020-04-29</th>\n",
       "      <td>4285</td>\n",
       "      <td>158</td>\n",
       "      <td>214</td>\n",
       "      <td>9.5</td>\n",
       "      <td>0.5</td>\n",
       "      <td>Upper middle income</td>\n",
       "      <td>South America</td>\n",
       "      <td>South America</td>\n",
       "    </tr>\n",
       "    <tr>\n",
       "      <th>Grenada</th>\n",
       "      <th>2020-04-23</th>\n",
       "      <td>15</td>\n",
       "      <td>0</td>\n",
       "      <td>0</td>\n",
       "      <td>13.3</td>\n",
       "      <td>0.0</td>\n",
       "      <td>Upper middle income</td>\n",
       "      <td>North America</td>\n",
       "      <td>Caribbean</td>\n",
       "    </tr>\n",
       "    <tr>\n",
       "      <th>Somalia</th>\n",
       "      <th>2020-05-02</th>\n",
       "      <td>671</td>\n",
       "      <td>70</td>\n",
       "      <td>31</td>\n",
       "      <td>4.2</td>\n",
       "      <td>0.2</td>\n",
       "      <td>Low income</td>\n",
       "      <td>Africa</td>\n",
       "      <td>Eastern Africa</td>\n",
       "    </tr>\n",
       "  </tbody>\n",
       "</table>\n",
       "</div>"
      ],
      "text/plain": [
       "                      cases  new_cases  deaths  cases_per100k  deaths_per100k  \\\n",
       "location  date                                                                  \n",
       "Argentina 2020-04-29   4285        158     214            9.5             0.5   \n",
       "Grenada   2020-04-23     15          0       0           13.3             0.0   \n",
       "Somalia   2020-05-02    671         70      31            4.2             0.2   \n",
       "\n",
       "                             income_group      continent          region  \n",
       "location  date                                                            \n",
       "Argentina 2020-04-29  Upper middle income  South America   South America  \n",
       "Grenada   2020-04-23  Upper middle income  North America       Caribbean  \n",
       "Somalia   2020-05-02           Low income         Africa  Eastern Africa  "
      ]
     },
     "execution_count": 19,
     "metadata": {},
     "output_type": "execute_result"
    }
   ],
   "source": [
    "testtracker_cases.sample(3)"
   ]
  },
  {
   "cell_type": "code",
   "execution_count": 20,
   "metadata": {},
   "outputs": [],
   "source": [
    "testtracker_tests = regularize_names(pd.read_csv('test_tracker_tests.csv'),\n",
    "                          datekey='date', locationkey='country').set_index(['location', 'date']).drop(\n",
    "                                    columns=['population','country','source','alpha3']).iloc[:,:-3].sort_index()"
   ]
  },
  {
   "cell_type": "code",
   "execution_count": 21,
   "metadata": {},
   "outputs": [
    {
     "data": {
      "text/html": [
       "<div>\n",
       "<style scoped>\n",
       "    .dataframe tbody tr th:only-of-type {\n",
       "        vertical-align: middle;\n",
       "    }\n",
       "\n",
       "    .dataframe tbody tr th {\n",
       "        vertical-align: top;\n",
       "    }\n",
       "\n",
       "    .dataframe thead th {\n",
       "        text-align: right;\n",
       "    }\n",
       "</style>\n",
       "<table border=\"1\" class=\"dataframe\">\n",
       "  <thead>\n",
       "    <tr style=\"text-align: right;\">\n",
       "      <th></th>\n",
       "      <th></th>\n",
       "      <th>new_tests</th>\n",
       "      <th>tests_cumulative</th>\n",
       "      <th>tests_per100k</th>\n",
       "    </tr>\n",
       "    <tr>\n",
       "      <th>location</th>\n",
       "      <th>date</th>\n",
       "      <th></th>\n",
       "      <th></th>\n",
       "      <th></th>\n",
       "    </tr>\n",
       "  </thead>\n",
       "  <tbody>\n",
       "    <tr>\n",
       "      <th>Senegal</th>\n",
       "      <th>2020-03-26</th>\n",
       "      <td>130</td>\n",
       "      <td>722</td>\n",
       "      <td>4.3</td>\n",
       "    </tr>\n",
       "    <tr>\n",
       "      <th>Zambia</th>\n",
       "      <th>2020-04-11</th>\n",
       "      <td>0</td>\n",
       "      <td>700</td>\n",
       "      <td>3.8</td>\n",
       "    </tr>\n",
       "    <tr>\n",
       "      <th>Germany</th>\n",
       "      <th>2020-04-06</th>\n",
       "      <td>963366</td>\n",
       "      <td>1317887</td>\n",
       "      <td>1573.0</td>\n",
       "    </tr>\n",
       "  </tbody>\n",
       "</table>\n",
       "</div>"
      ],
      "text/plain": [
       "                     new_tests  tests_cumulative  tests_per100k\n",
       "location date                                                  \n",
       "Senegal  2020-03-26        130               722            4.3\n",
       "Zambia   2020-04-11          0               700            3.8\n",
       "Germany  2020-04-06     963366           1317887         1573.0"
      ]
     },
     "execution_count": 21,
     "metadata": {},
     "output_type": "execute_result"
    }
   ],
   "source": [
    "testtracker_tests.sample(3)"
   ]
  },
  {
   "cell_type": "markdown",
   "metadata": {},
   "source": [
    "## Data regularization: making things uniform <a id='uniformity'></a>"
   ]
  },
  {
   "cell_type": "markdown",
   "metadata": {},
   "source": [
    "## Intersection of countries in all DataFrames\n",
    "<a id='country'></a>\n",
    "[Return to table of contents](#toc)\n",
    "\n",
    "The data that will be used to model country-wide case numbers exists in the DataFrames : \n",
    "\n",
    "    csse_global_daily_reports_df\n",
    "    csse_global_timeseries_df\n",
    "    owid_df\n",
    "    oxcgrt_df\n",
    "    testtrack_df\n",
    "    \n",
    "The index (locations) were not reformatted by default; do that now."
   ]
  },
  {
   "cell_type": "markdown",
   "metadata": {},
   "source": [
    "The data have all been formatted to have multi level indices and columns; the levels of the index are ```['location', 'date']``` which correspond to geographical location and day of record. I find it convenient to put these DataFrames into\n",
    "an iterable (list specifically)."
   ]
  },
  {
   "cell_type": "code",
   "execution_count": 22,
   "metadata": {},
   "outputs": [],
   "source": [
    "global_data = [csse_global_time_series_df, testtracker_cases,\n",
    "               testtracker_tests, oxcgrt_df, owid_df]"
   ]
  },
  {
   "cell_type": "markdown",
   "metadata": {},
   "source": [
    "The first step is to correct the differences in naming conventions so that equivalent countries in fact have the same labels."
   ]
  },
  {
   "cell_type": "markdown",
   "metadata": {},
   "source": [
    "The next step is to find the subset of all countries which exist in all of the DataFrames. It is possible to\n",
    "simply concatenate the data and introduce missing values, however, I am electing to take the intersection of countries as\n",
    "to take the most \"reliable\" subset. On the contrary, for the dates I take the union; that is, the dates that exist in all datasets. "
   ]
  },
  {
   "cell_type": "markdown",
   "metadata": {},
   "source": [
    "# Data preprocessing and exploration"
   ]
  },
  {
   "cell_type": "code",
   "execution_count": 79,
   "metadata": {
    "scrolled": true
   },
   "outputs": [
    {
     "name": "stdout",
     "output_type": "stream",
     "text": [
      "The range of all dates is from 2020-01-22 00:00:00 to 2020-06-12 00:00:00\n",
      "The final number of countries included is 140\n"
     ]
    }
   ],
   "source": [
    "names = ['jhucsse','ttc', 'ttt',  'oxcgrt', 'owid']\n",
    "export_list = []\n",
    "\n",
    "export_list_tmp, dates_intersection, country_intersection = regularize_time_series(global_data)\n",
    "print('The range of all dates is from {} to {}'.format(dates_intersection.min(), dates_intersection.max()))\n",
    "print('The final number of countries included is {}'.format(len(country_intersection)))\n",
    "\n",
    "for i, x in enumerate(export_list_tmp):\n",
    "    gd_export_copy = x.copy()\n",
    "    gd_export_copy.columns += '_' + names[i]\n",
    "    export_list.append(gd_export_copy)\n",
    "\n",
    "eda_data = multiindex_to_table(pd.concat(export_list, axis=1))\n",
    "eda_data = add_time_indices(eda_data, index_column='cases_jhucsse')\n",
    "eda_data.to_csv('eda_data.csv')"
   ]
  },
  {
   "cell_type": "code",
   "execution_count": 80,
   "metadata": {
    "scrolled": true
   },
   "outputs": [
    {
     "name": "stdout",
     "output_type": "stream",
     "text": [
      "The range of all dates is from 2020-01-22 00:00:00 to 2020-06-12 00:00:00\n",
      "The number of countries included is 140\n"
     ]
    }
   ],
   "source": [
    "dataframe_list, modeling_dates, modeling_countries = regularize_time_series(global_data)\n",
    "print('The range of all dates is from {} to {}'.format(modeling_dates.min(), modeling_dates.max()))\n",
    "print('The number of countries included is {}'.format(len(modeling_countries)))\n",
    "# Convert the multiindex DataFrame to a simple table, and then add numerical features which track the\n",
    "# date and # of days since first case. \n",
    "df = add_time_indices(multiindex_to_table(pd.concat(dataframe_list, axis=1)), index_column='cases')"
   ]
  },
  {
   "cell_type": "markdown",
   "metadata": {},
   "source": [
    "To show why these features need to be fixed in order to be cumulative. "
   ]
  },
  {
   "cell_type": "code",
   "execution_count": 81,
   "metadata": {},
   "outputs": [
    {
     "data": {
      "text/plain": [
       "Index(['cases', 'cases_per100k', 'confirmed_cases', 'total_cases',\n",
       "       'total_cases_per_million', 'deaths', 'deaths_per100k',\n",
       "       'confirmed_deaths', 'total_deaths', 'total_deaths_per_million',\n",
       "       'tests_cumulative', 'tests_per100k', 'total_tests',\n",
       "       'total_tests_per_thousand', 'recovered'],\n",
       "      dtype='object')"
      ]
     },
     "execution_count": 81,
     "metadata": {},
     "output_type": "execute_result"
    }
   ],
   "source": [
    "cumulative_columns = pd.Index(column_search(df, 'cases').unique().tolist()\n",
    "                      +column_search(df, 'deaths').unique().tolist()\n",
    "                      +column_search(df, 'tests').unique().tolist()+['recovered'])\n",
    "cumulative_columns = cumulative_columns[~cumulative_columns.str.contains('new')].drop('tests_units')\n",
    "cumulative_columns"
   ]
  },
  {
   "cell_type": "markdown",
   "metadata": {},
   "source": [
    "Time series for these four countries, before any manipulations."
   ]
  },
  {
   "cell_type": "code",
   "execution_count": 82,
   "metadata": {},
   "outputs": [
    {
     "data": {
      "text/plain": [
       "[<matplotlib.lines.Line2D at 0x2588be1dd88>]"
      ]
     },
     "execution_count": 82,
     "metadata": {},
     "output_type": "execute_result"
    },
    {
     "data": {
      "image/png": "[encoded data removed]",
      "text/plain": [
       "<Figure size 432x288 with 1 Axes>"
      ]
     },
     "metadata": {
      "needs_background": "light"
     },
     "output_type": "display_data"
    }
   ],
   "source": [
    "fig, ax = plt.subplots()\n",
    "ax.plot(df[df.location == 'Benin'].total_cases.values)\n",
    "ax.plot(df[df.location == 'Lithuania'].total_cases.values)\n",
    "ax.plot(df[df.location == 'Uganda'].total_cases.values)"
   ]
  },
  {
   "cell_type": "code",
   "execution_count": 83,
   "metadata": {},
   "outputs": [],
   "source": [
    "countries_with_total_cases_incorrect = df[(df.set_index([df.time_index, df.location]).loc[:, cumulative_columns\n",
    "                                              ].groupby(level=1).diff(1).fillna(0) < 0).total_cases.values].location.unique()#.sum()"
   ]
  },
  {
   "cell_type": "code",
   "execution_count": 84,
   "metadata": {},
   "outputs": [
    {
     "data": {
      "text/plain": [
       "cases                       30\n",
       "cases                       30\n",
       "cases_per100k               24\n",
       "confirmed_cases             13\n",
       "total_cases                 57\n",
       "total_cases_per_million     13\n",
       "deaths                      22\n",
       "deaths                      22\n",
       "deaths_per100k              11\n",
       "confirmed_deaths             2\n",
       "total_deaths                 2\n",
       "total_deaths_per_million     2\n",
       "tests_cumulative            12\n",
       "tests_per100k               12\n",
       "total_tests                  5\n",
       "total_tests_per_thousand     5\n",
       "recovered                   39\n",
       "dtype: int64"
      ]
     },
     "execution_count": 84,
     "metadata": {},
     "output_type": "execute_result"
    }
   ],
   "source": [
    "(df.set_index([df.time_index, df.location]).loc[:, cumulative_columns\n",
    "                                              ].groupby(level=1).diff(1).fillna(0) < 0).sum()#.drop_duplicates()"
   ]
  },
  {
   "cell_type": "code",
   "execution_count": 85,
   "metadata": {
    "scrolled": false
   },
   "outputs": [
    {
     "name": "stdout",
     "output_type": "stream",
     "text": [
      "Fixing 19 countries in the cases column feature\n",
      "Fixing 15 countries in the cases_per100k column feature\n",
      "Fixing 9 countries in the confirmed_cases column feature\n",
      "Fixing 32 countries in the total_cases column feature\n",
      "Fixing 9 countries in the total_cases_per_million column feature\n",
      "Fixing 17 countries in the deaths column feature\n",
      "Fixing 9 countries in the deaths_per100k column feature\n",
      "Fixing 2 countries in the confirmed_deaths column feature\n",
      "Fixing 2 countries in the total_deaths column feature\n",
      "Fixing 2 countries in the total_deaths_per_million column feature\n",
      "Fixing 11 countries in the tests_cumulative column feature\n",
      "Fixing 11 countries in the tests_per100k column feature\n",
      "Fixing 2 countries in the total_tests column feature\n",
      "Fixing 2 countries in the total_tests_per_thousand column feature\n",
      "Fixing 31 countries in the recovered column feature\n"
     ]
    }
   ],
   "source": [
    "for features in cumulative_columns:\n",
    "    df = fix_incorrect_decrease(df, features, search_threshold='match')\n"
   ]
  },
  {
   "cell_type": "markdown",
   "metadata": {},
   "source": [
    "This is due to errors in reporting, I want to fix these issues before moving on."
   ]
  },
  {
   "cell_type": "markdown",
   "metadata": {},
   "source": [
    "## Regularization of time series dates\n",
    "<a id='time'></a>\n",
    "[Return to table of contents](#toc)"
   ]
  },
  {
   "cell_type": "markdown",
   "metadata": {},
   "source": [
    "## Preprocessing: missing values, feature production, etc.\n",
    "<a id='missingval'></a>\n",
    "[Return to table of contents](#toc)\n",
    "\n",
    "The next section is concerned with the handling and imputation of missing values. The key consideration is\n",
    "to not contaminate the time series with information from the future. Because I am filling in the missing values here,\n",
    "I will be flagging the original missing values and keeping these flags as new features. Before I can compute these new features I need to think ahead towards the modeling phase of this project, that is, to take into consideration the features which\n",
    "are to be predicted.\n",
    "\n",
    "Specifically, I will be modelling and predicting new case numbers."
   ]
  },
  {
   "cell_type": "markdown",
   "metadata": {},
   "source": [
    "# Regression data\n"
   ]
  },
  {
   "cell_type": "markdown",
   "metadata": {},
   "source": [
    "# CNN data"
   ]
  },
  {
   "cell_type": "code",
   "execution_count": 86,
   "metadata": {},
   "outputs": [
    {
     "data": {
      "text/plain": [
       "(139, 140)"
      ]
     },
     "execution_count": 86,
     "metadata": {},
     "output_type": "execute_result"
    }
   ],
   "source": [
    "df.population_density.nunique(), df.location.nunique()"
   ]
  },
  {
   "cell_type": "markdown",
   "metadata": {},
   "source": [
    "First, we need to figure out the units of the population densities, for consistency."
   ]
  },
  {
   "cell_type": "markdown",
   "metadata": {},
   "source": [
    "This aligns with the population density being in units of people / km^2, per Google search."
   ]
  },
  {
   "cell_type": "markdown",
   "metadata": {},
   "source": [
    "## Data quality related exploration\n",
    "\n",
    "    Differences in reporting \n",
    "    differences in time series.\n",
    "\n",
    "\n",
    "## COVID related exploration\n",
    "\n",
    "    Death rate estimation. \n",
    "    testing vs cases vs deaths\n",
    "    log-log plot for current growth trends\n",
    "    bollinger bands\n",
    "    Differences in government responses (early vs late)\n",
    "    histogram of trending upwards, flat, downwards\n",
    "    tools, different plots, correlation plots scatter matrix plots. "
   ]
  },
  {
   "cell_type": "markdown",
   "metadata": {},
   "source": [
    "Because I am aggregating a number of different data sets, there are multiple features describing the same quantities (number of cases, deaths, etc.). The quality of the different sources varies, which informs the decision as to which of these columns to keep. This will be explored in more detail later."
   ]
  },
  {
   "cell_type": "markdown",
   "metadata": {},
   "source": [
    "My original idea was to normalize using the population of each country but I'm unsure as to whether this is the best\n",
    "idea; at least without another consideration. Using the population blindly results in micro-states and small countries\n",
    "being weighted heavily. Now, either I can drop these countries or I can weight the features differently; with the population *density*. This accounts for population as well as how large the state is."
   ]
  },
  {
   "cell_type": "markdown",
   "metadata": {},
   "source": [
    "## Feature production, deciding on which features to use for modeling<a id='newfeatures'></a>"
   ]
  },
  {
   "cell_type": "code",
   "execution_count": 87,
   "metadata": {},
   "outputs": [],
   "source": [
    "# redundant features; some features contain the same substring but are not redundant, hence the use of .difference()\n",
    "redundant_death_columns = column_search(df, 'death').difference(['cvd_death_rate'])\n",
    "redundant_test_columns = column_search(df, 'test').difference(['tests_units','h2_testing_policy'])\n",
    "redundant_case_columns= column_search(df, 'cases')"
   ]
  },
  {
   "cell_type": "markdown",
   "metadata": {},
   "source": [
    "Before any feature production or investigation, fix the incorrect decreases in these four important columns."
   ]
  },
  {
   "cell_type": "markdown",
   "metadata": {},
   "source": [
    "I want to normalize by population, so first I need to fill in the missing values introduced by time series regularization / extrapolation; an additional manipulation is required for population density, namely, the population density feature is missing information on a single country: Afghanistan."
   ]
  },
  {
   "cell_type": "code",
   "execution_count": 88,
   "metadata": {},
   "outputs": [],
   "source": [
    "# To prevent the SettingCopyWithSlice warning use loc, which needs index values, hence\n",
    "# the application of this workaround function. \n",
    "df.loc[country_search(df, 'Afghanistan'), 'population_density'] = 154\n",
    "df.loc[country_search(df, 'Kosovo'), 'population_density'] = 159\n",
    "df.loc[country_search(df, 'South Sudan'), 'population_density'] = 20.3\n",
    "df.loc[country_search(df, 'Guinea Bissau'), 'population'] = \\\n",
    "df.loc[country_search(df, 'Guinea Bissau'), 'population'].max()\n",
    "\n",
    "df.loc[country_search(df, 'Guinea Bissau'), 'population_density'] = \\\n",
    "df.loc[country_search(df, 'Guinea Bissau'), 'population_density'].max()\n",
    "\n",
    "\n",
    "for country_indices in country_groupby(df):\n",
    "    df.loc[country_indices, ['population','population_density']] = \\\n",
    "    df.loc[country_indices,  ['population','population_density']].fillna(method='ffill').fillna(method='bfill').values \n",
    "\n",
    "df = df[df.population > df.population.quantile(0.1)]\n",
    "per_million_population = df.population / 1000000.\n",
    "population_density = df.population_density\n",
    "world_pop = df[df.time_index==df.time_index.max()].population.sum()\n",
    "percent_pop = df.population / world_pop"
   ]
  },
  {
   "cell_type": "code",
   "execution_count": 89,
   "metadata": {},
   "outputs": [
    {
     "data": {
      "text/plain": [
       "[<matplotlib.lines.Line2D at 0x25891aab148>]"
      ]
     },
     "execution_count": 89,
     "metadata": {},
     "output_type": "execute_result"
    },
    {
     "data": {
      "image/png": "[encoded data removed]",
      "text/plain": [
       "<Figure size 432x288 with 1 Axes>"
      ]
     },
     "metadata": {
      "needs_background": "light"
     },
     "output_type": "display_data"
    }
   ],
   "source": [
    "# df = fix_incorrect_decrease(df, 'total_cases', search_threshold='match')\n",
    "fig, ax = plt.subplots()\n",
    "ax.plot(df[df.location == 'Benin'].total_cases.values)\n",
    "ax.plot(df[df.location == 'Lithuania'].total_cases.values)\n",
    "ax.plot(df[df.location == 'Uganda'].total_cases.values)"
   ]
  },
  {
   "cell_type": "code",
   "execution_count": 90,
   "metadata": {
    "scrolled": false
   },
   "outputs": [
    {
     "data": {
      "text/plain": [
       "[<matplotlib.lines.Line2D at 0x2588c2f6948>]"
      ]
     },
     "execution_count": 90,
     "metadata": {},
     "output_type": "execute_result"
    },
    {
     "data": {
      "image/png": "[encoded data removed]",
      "text/plain": [
       "<Figure size 432x288 with 1 Axes>"
      ]
     },
     "metadata": {
      "needs_background": "light"
     },
     "output_type": "display_data"
    }
   ],
   "source": [
    "fig, ax = plt.subplots()\n",
    "ax.plot(df[df.location == 'Benin'].tests_cumulative.values)\n",
    "ax.plot(df[df.location == 'Lithuania'].tests_cumulative.values)\n",
    "ax.plot(df[df.location == 'Uganda'].tests_cumulative.values)"
   ]
  },
  {
   "cell_type": "markdown",
   "metadata": {},
   "source": [
    "Usage of custom function to fill in missing values, as well as check the validity of the time series. Mainly,\n",
    "this means making sure that non-decreasing quantities in fact behave this way. It checks the difference between values $n$ and\n",
    "$n+1$. If negative, the value at $n+1$ is replaced with the previous day's value. If this creates a new discrepancy, (i.e. $n+2$ is smaller then $n+1$ post-update, then it will be handled upon the next scan). Tried to make it as simple as possible to avoid any strange interactions; technically, the approximate slopes are calculated all at once and the values are updated all at once; instead of starting from the beginning and sweeping all the way through the time series. This approximation always propagates forwards, and by virtue of its calculation, always takes the larger value to be the truth. "
   ]
  },
  {
   "cell_type": "markdown",
   "metadata": {},
   "source": [
    "Time series post-corrections. "
   ]
  },
  {
   "cell_type": "markdown",
   "metadata": {},
   "source": [
    "Create and fill and fix new features. They are not currently weighted but they will be in the future, hence\n",
    "the naming convention."
   ]
  },
  {
   "cell_type": "markdown",
   "metadata": {},
   "source": [
    "the problem"
   ]
  },
  {
   "cell_type": "code",
   "execution_count": 91,
   "metadata": {},
   "outputs": [
    {
     "data": {
      "text/plain": [
       "<matplotlib.axes._subplots.AxesSubplot at 0x258a4888a48>"
      ]
     },
     "execution_count": 91,
     "metadata": {},
     "output_type": "execute_result"
    },
    {
     "data": {
      "image/png": "[encoded data removed]",
      "text/plain": [
       "<Figure size 432x288 with 1 Axes>"
      ]
     },
     "metadata": {
      "needs_background": "light"
     },
     "output_type": "display_data"
    }
   ],
   "source": [
    "# for groupby later on\n",
    "multi_deaths_temp = df.set_index(['time_index','location'])\n",
    "# assuming that the best \"deaths\" reporting has least number of missing values.\n",
    "ind = multi_deaths_temp.loc[:, column_search(multi_deaths_temp, 'deaths')].isna().sum().argmin()\n",
    "# the best column with time, location multiindex. \n",
    "deaths_temp = multi_deaths_temp.iloc[:, column_search(multi_deaths_temp, 'deaths', return_style='iloc')[ind]]\n",
    "deaths_temp.groupby(level=1).diff(1).fillna(0).unstack().plot(legend=False)"
   ]
  },
  {
   "cell_type": "markdown",
   "metadata": {},
   "source": [
    "my solution: make the cumulative variable actually non-decreasing and then take the finite differences"
   ]
  },
  {
   "cell_type": "markdown",
   "metadata": {},
   "source": [
    "New deaths is fine coming from ttt but I think even though owid has more missing values, that they are just zeros and so their new cases and new tests normalized should be used. "
   ]
  },
  {
   "cell_type": "markdown",
   "metadata": {},
   "source": [
    "owid data is good but populations are bad.\n",
    "\n"
   ]
  },
  {
   "cell_type": "code",
   "execution_count": 92,
   "metadata": {},
   "outputs": [],
   "source": [
    "eda_data.loc[eda_data.new_cases_owid<0, 'new_cases_owid'] = 0\n",
    "eda_data.loc[eda_data.new_tests_owid<0, 'new_tests_owid'] = 0\n",
    "eda_data.loc[eda_data.new_deaths_owid<0, 'new_deaths_owid'] = 0"
   ]
  },
  {
   "cell_type": "code",
   "execution_count": 93,
   "metadata": {},
   "outputs": [
    {
     "name": "stdout",
     "output_type": "stream",
     "text": [
      "Fixing 0 countries in the recovered column feature\n"
     ]
    }
   ],
   "source": [
    "# Already have a good \"new tests\" feature, so do not need to compute differences\n",
    "df.loc[:, 'new_tests_weighted'] = (eda_data.loc[df.index,'new_tests_owid'].fillna(0)/per_million_population).values\n",
    "\n",
    "# Already have a good \"new cases\" feature, so do not need to compute differences\n",
    "df.loc[:, 'new_cases_weighted'] =  (eda_data.loc[df.index,'new_cases_owid'].fillna(0)/per_million_population).values\n",
    "\n",
    "# Create a number of deaths feature, there are multiple with the same name, hence the reason 'ind' is calculated\n",
    "# for groupby later on\n",
    "\n",
    "# # assuming that the best \"deaths\" reporting has least number of missing values.\n",
    "# ind = multi_temp.loc[:, column_search(multi_temp, 'deaths')].isna().sum().argmin()\n",
    "# # the best column with time, location multiindex. \n",
    "# deaths_temp = multi_temp.iloc[:, column_search(multi_temp, 'deaths', return_style='iloc')[ind]]\n",
    "# corrected_deaths_temp = fix_incorrect_decrease(deaths_temp.reset_index(), 'deaths')\n",
    "# death_values_to_weight = corrected_deaths_temp.set_index(['time_index', 'location']).groupby(level=1).diff(1).fillna(0)#.values\n",
    "df.loc[:, 'new_deaths_weighted']  =  (eda_data.loc[df.index,'new_deaths_owid'].fillna(0) / per_million_population)\n",
    "\n",
    "df = fix_incorrect_decrease(df, 'recovered')\n",
    "df.loc[:, 'new_recovered_weighted'] = (df.set_index(['time_index','location']).recovered.groupby(\n",
    "                                            level=1).diff(1).fillna(0).values / per_million_population.values)"
   ]
  },
  {
   "cell_type": "code",
   "execution_count": 94,
   "metadata": {},
   "outputs": [],
   "source": [
    "df.loc[:, 'log_new_recovered_weighted'] = df.loc[:, 'new_recovered_weighted'].apply(lambda x: np.log(x+1))\n",
    "df.loc[:, 'log_new_deaths_weighted']  =  df.loc[:, 'new_deaths_weighted'] .apply(lambda x: np.log(x+1))\n",
    "df.loc[:, 'log_new_cases_weighted'] =  df.loc[:, 'new_cases_weighted'] .apply(lambda x: np.log(x+1))\n",
    "df.loc[:, 'log_new_tests_weighted'] = df.loc[:, 'new_tests_weighted'] .apply(lambda x: np.log(x+1))"
   ]
  },
  {
   "cell_type": "markdown",
   "metadata": {},
   "source": [
    "Better data source seems to be test_tracker for tests and cases. Take recovered from JHUCSSE, tests,cases, and deaths from TestTracker."
   ]
  },
  {
   "cell_type": "markdown",
   "metadata": {},
   "source": [
    "For now just look at tests and cases. "
   ]
  },
  {
   "cell_type": "markdown",
   "metadata": {},
   "source": [
    "I believe that it is unwarranted to weight these countries with small populations so heavily as they comprise a tiny\n",
    "fraction of the world population. However, it also seems unfair to divide by area (i.e. to get density) for countries\n",
    "which have localized pockets of population. "
   ]
  },
  {
   "cell_type": "markdown",
   "metadata": {},
   "source": [
    "This next weighting \"knows\" about the global population and so it couples each country to all other countries.\n",
    "I don't think this will cause any issues for the CNN in the modeling section but it might. It weights countries by\n",
    "the percent of the world population which they constitute."
   ]
  },
  {
   "cell_type": "markdown",
   "metadata": {},
   "source": [
    "To reiterate my logic: I want or perhaps need to normalize the data. If I normalize simply on a \"per million people\" basis,\n",
    "small micro-states such as San Marino will take on disproportionate values. I could drop these countries or look\n",
    "for other weighting techniques; I opt for the latter method. The other two options I explore are weighting by population density, and weighting by the percentage of the world's population that each country comprises. The goal is to find a normalization which captures how hard individual countries have been hit but also the possible future downside, which\n",
    "is of course is dependent upon how many people live in a country.\n",
    "\n",
    "Also, the time-series of countries which have caught more cases overall will likely have better reporting practices and\n",
    "be closer to the actual behavior of the virus transmission. Visual inspection of certain time series leads me to believe\n",
    "they will simply act as noise, obfuscating the average or \"actual\" behavior. "
   ]
  },
  {
   "cell_type": "markdown",
   "metadata": {},
   "source": [
    "The current per capita weighting gives undue influence to microstate nations such as San Marino, as their population is\n",
    "only a small fraction of 1 million. Therefore, remove the countries in the bottom 10 percent (arbitrary) of populations. "
   ]
  },
  {
   "cell_type": "markdown",
   "metadata": {},
   "source": [
    "Now that the new features with which to model are in place, remove the redundant and useless infomation.\n",
    "\n",
    "Do I want to keep cumulative variables now that they are fixed???"
   ]
  },
  {
   "cell_type": "code",
   "execution_count": 95,
   "metadata": {},
   "outputs": [
    {
     "data": {
      "text/plain": [
       "<matplotlib.axes._subplots.AxesSubplot at 0x2588f571488>"
      ]
     },
     "execution_count": 95,
     "metadata": {},
     "output_type": "execute_result"
    },
    {
     "data": {
      "image/png": "[encoded data removed]",
      "text/plain": [
       "<Figure size 432x288 with 1 Axes>"
      ]
     },
     "metadata": {
      "needs_background": "light"
     },
     "output_type": "display_data"
    }
   ],
   "source": [
    "first_dates_temp = df.replace(to_replace=0., value=np.nan)\n",
    "first_tests = df.loc[first_dates_temp.total_tests.dropna().index,:].groupby('location').time_index.min()\n",
    "first_cases =  df.loc[first_dates_temp.total_cases.dropna().index,:].groupby('location').time_index.min()\n",
    "first_deaths = df.loc[first_dates_temp.total_deaths.dropna().index,:].groupby('location').time_index.min()\n",
    "first_tests.plot.hist(alpha=0.7, bins=20)\n",
    "first_cases.plot.hist(alpha=0.6, bins=50)\n",
    "first_deaths.plot.hist(alpha=0.8, bins=20)\n"
   ]
  },
  {
   "cell_type": "code",
   "execution_count": 170,
   "metadata": {},
   "outputs": [],
   "source": [
    "df_pruned = df.drop(columns=(redundant_death_columns.tolist() \n",
    "                         + redundant_test_columns.tolist() \n",
    "                         + redundant_case_columns.tolist()+['recovered']))"
   ]
  },
  {
   "cell_type": "code",
   "execution_count": 171,
   "metadata": {},
   "outputs": [],
   "source": [
    "assumed_to_be_better_stringency_index = df_pruned.loc[:, 'stringency_index'].isna().sum().argmin()\n",
    "stringency = df_pruned.loc[:, 'stringency_index'].iloc[:, assumed_to_be_better_stringency_index]\n",
    "\n",
    "df_pruned = df_pruned.drop(columns=['country_name', 'country_code',\n",
    "                                                    'm1_wildcard','stringency_index_for_display',\n",
    "                                                   'stringency_legacy_index', 'stringency_legacy_index_for_display',\n",
    "                                                    'government_response_index_for_display',\n",
    "                                                    'containment_health_index_for_display',\n",
    "                                                    'economic_support_index_for_display',\n",
    "                                                    'iso_code','stringency_index'])\n",
    "df_pruned.loc[:, 'stringency_index'] = stringency.values"
   ]
  },
  {
   "cell_type": "code",
   "execution_count": 172,
   "metadata": {},
   "outputs": [],
   "source": [
    "df_tmp = df_pruned.loc[:, new_weighted_quantity_features].replace(to_replace=0., value=np.nan)\n",
    "for country_indices in country_groupby(df):\n",
    "    df_tmp.loc[country_indices, :] = df_tmp.loc[country_indices, :].fillna(method='ffill').fillna(value=0)\n",
    "df_pruned.loc[:, new_weighted_quantity_features] = df_tmp.values"
   ]
  },
  {
   "cell_type": "markdown",
   "metadata": {},
   "source": [
    "Personal preference of reordered the DataFrame; also helps with different missing value strategies later."
   ]
  },
  {
   "cell_type": "code",
   "execution_count": 173,
   "metadata": {},
   "outputs": [],
   "source": [
    "indexers = ['location','date','time_index','days_since_first_case']\n",
    "new_weighted_quantity_features = ['new_cases_weighted',\n",
    "            'new_tests_weighted', \n",
    "            'new_recovered_weighted', \n",
    "            'new_deaths_weighted']\n",
    "log_new_weighted_quantity_features = ['log_new_cases_weighted',\n",
    "            'log_new_tests_weighted', \n",
    "            'log_new_recovered_weighted', \n",
    "            'log_new_deaths_weighted']\n",
    "flag_features = column_search(df_pruned,'flag')\n",
    "time_independent_features =df_pruned.loc[:, 'population':'hospital_beds_per_thousand'].columns.tolist()\n",
    "time_dependent_features = df_pruned.loc[:, 'c1_school_closing':'economic_support_index'].columns.difference(flag_features).tolist()+['stringency_index']\n",
    "flag_features = flag_features.tolist()+['tests_units']"
   ]
  },
  {
   "cell_type": "code",
   "execution_count": 174,
   "metadata": {},
   "outputs": [],
   "source": [
    "df_reorder = df_pruned.loc[:, indexers\n",
    "                              +log_new_weighted_quantity_features\n",
    "                              +new_weighted_quantity_features\n",
    "                              +time_dependent_features\n",
    "                              +time_independent_features\n",
    "                              +flag_features]"
   ]
  },
  {
   "cell_type": "markdown",
   "metadata": {},
   "source": [
    "The flag columns take values 1.0, 0.0, np.nan. \n",
    "Convert these to categorical, and for the sake of column names map floats to str.\n",
    "Afterwards, drop the column that corresponds to missing values to remove collinearity. "
   ]
  },
  {
   "cell_type": "code",
   "execution_count": 175,
   "metadata": {},
   "outputs": [],
   "source": [
    "flag_df = df_reorder.loc[:, flag_features].fillna('Missing').astype('category')\n",
    "for col in flag_df.columns:\n",
    "    flag_df.loc[:, col] = flag_df.loc[:, col].cat.rename_categories({1.0 : '1', 0. : '0'})\n",
    "    \n",
    "flag_dummies = pd.get_dummies(flag_df)\n",
    "flag_dummies_without_collinearity = flag_dummies[flag_dummies.columns[~flag_dummies.columns.str.contains('Missing')]]\n",
    "df_reorder = pd.concat((df_reorder.drop(columns=flag_features),\n",
    "                        flag_dummies_without_collinearity),axis=1)"
   ]
  },
  {
   "cell_type": "markdown",
   "metadata": {},
   "source": [
    "Because I'm going to impute values for the time independent features, it may or may not be important to track this by flagging\n",
    "the missing values via one-hot encoding. Note that I have just manipulated the flagging columns so that *their* missing value flags are not included; but again this is because of linear dependency reasons. "
   ]
  },
  {
   "cell_type": "markdown",
   "metadata": {},
   "source": [
    "For time independent features, do not have to be careful with time; because there is no two-sided fillna method that\n",
    "I am aware of, handle this by filling forwards and backwards.\n",
    "\n",
    "Time dependent features can only be filled forward so that information from the future is not visible from the past. Additionally, any other missing values are filled with 0's; only other options would be, for instance, the mean up to that date. "
   ]
  },
  {
   "cell_type": "code",
   "execution_count": 177,
   "metadata": {},
   "outputs": [],
   "source": [
    "# # for country_indices in country_groupby(df_reorder):\n",
    "# df_reorder.loc[:, time_independent_features] = df_reorder.set_index(['time_index', 'location']).loc[:, time_independent_features].fillna(method='ffill').fillna(method='bfill')\n",
    "# df_reorder.loc[:, time_dependent_features] = df_reorder.loc[:, time_dependent_features].fillna(method='ffill').fillna(value=0)\n",
    "# # If I want to use the features which are still missing values, need to do something; including zeros seems wrong. \n",
    "# df_reorder.loc[:, time_independent_features] = df_reorder.loc[:, time_independent_features].fillna(df_reorder.loc[:, time_independent_features].median())\n",
    "# df_reorder = regularize_names(df_reorder)\n",
    "# df = df_reorder.copy()"
   ]
  },
  {
   "cell_type": "code",
   "execution_count": 178,
   "metadata": {},
   "outputs": [],
   "source": [
    "missing_flags = df_reorder.iloc[:,np.where(df_reorder.isna().sum() > 0)[0]].isna().astype(int)\n",
    "missing_flags.columns = missing_flags.columns + '_missing_flag'"
   ]
  },
  {
   "cell_type": "code",
   "execution_count": 179,
   "metadata": {},
   "outputs": [
    {
     "data": {
      "text/plain": [
       "c1_school_closing_missing_flag                          537\n",
       "c2_workplace_closing_missing_flag                       570\n",
       "c3_cancel_public_events_missing_flag                    563\n",
       "c4_restrictions_on_gatherings_missing_flag              557\n",
       "c5_close_public_transport_missing_flag                  564\n",
       "c6_stay_at_home_requirements_missing_flag               537\n",
       "c7_restrictions_on_internal_movement_missing_flag       542\n",
       "c8_international_travel_controls_missing_flag           536\n",
       "containment_health_index_missing_flag                   561\n",
       "e1_income_support_missing_flag                          526\n",
       "e2_debt_contract_relief_missing_flag                    542\n",
       "e3_fiscal_measures_missing_flag                         711\n",
       "e4_international_support_missing_flag                   566\n",
       "economic_support_index_missing_flag                     575\n",
       "government_response_index_missing_flag                  564\n",
       "h1_public_information_campaigns_missing_flag            539\n",
       "h2_testing_policy_missing_flag                          576\n",
       "h3_contact_tracing_missing_flag                         539\n",
       "h4_emergency_investment_in_healthcare_missing_flag      574\n",
       "h5_investment_in_vaccines_missing_flag                  578\n",
       "stringency_index_missing_flag                           559\n",
       "median_age_missing_flag                                3989\n",
       "aged_65_older_missing_flag                             3989\n",
       "aged_70_older_missing_flag                             4097\n",
       "gdp_per_capita_missing_flag                            4078\n",
       "extreme_poverty_missing_flag                           8375\n",
       "cvd_death_rate_missing_flag                            3989\n",
       "diabetes_prevalence_missing_flag                       3989\n",
       "female_smokers_missing_flag                            5817\n",
       "male_smokers_missing_flag                              6009\n",
       "handwashing_facilities_missing_flag                   11630\n",
       "hospital_beds_per_thousand_missing_flag                5007\n",
       "dtype: int64"
      ]
     },
     "execution_count": 179,
     "metadata": {},
     "output_type": "execute_result"
    }
   ],
   "source": [
    "missing_flags.sum()"
   ]
  },
  {
   "cell_type": "code",
   "execution_count": 180,
   "metadata": {},
   "outputs": [],
   "source": [
    "for country_indices in country_groupby(df_reorder):\n",
    "    fill_tmp = df_reorder.loc[country_indices, time_independent_features].fillna(method='ffill').fillna(method='bfill')\n",
    "    df_reorder.loc[country_indices, time_independent_features] = fill_tmp.values\n",
    "    df_reorder.loc[country_indices, time_dependent_features] = df_reorder.loc[country_indices, time_dependent_features].fillna(method='ffill').fillna(value=0)\n",
    "df_reorder.loc[:, time_independent_features] = df_reorder.loc[:, time_independent_features].fillna(df_reorder.loc[:, time_independent_features].median())\n",
    "df = regularize_names(df_reorder).copy()\n",
    "\n",
    "location_dummies_without_collinearity = pd.get_dummies(df.location, drop_first=True)\n",
    "location_dummies_without_collinearity.columns += '_flag'\n",
    "location_dummies_without_collinearity = regularize_names(location_dummies_without_collinearity)\n",
    "\n"
   ]
  },
  {
   "cell_type": "markdown",
   "metadata": {},
   "source": [
    "# Feature production"
   ]
  },
  {
   "cell_type": "code",
   "execution_count": 181,
   "metadata": {},
   "outputs": [],
   "source": [
    "def rolling_means(df, features, roll_widths):\n",
    "    new_feature_df_list = []\n",
    "    for window in roll_widths:\n",
    "        # order the dataframe so date is index, backfill in the first roll_width values\n",
    "        rollmean = None\n",
    "        for c in country_groupby(df):\n",
    "            if rollmean is None:\n",
    "                rollmean = df.loc[c, features].rolling(window).mean().fillna(value=0.)\n",
    "            else:\n",
    "                rollmean = pd.concat((rollmean,  df.loc[c,features].rolling(window).mean().fillna(value=0.)),axis=0)\n",
    "#         rollmean = pd.DataFrame(df..groupby(by='location').rolling(window).mean().fillna(value=0.))\n",
    "#         rollstd = pd.DataFrame(df.groupby(by='location').rolling(window).std().fillna(value=0.))    \n",
    "#         new_features = pd.concat((rollmean, rollstd), axis=1)\n",
    "        new_features = rollmean\n",
    "        new_cols = pd.Index(features) +'_rolling_mean_' + str(window)\n",
    "#         rsind = features +'_rolling_std_' + str(window)\n",
    "#         new_cols = rmind.append(rsind)\n",
    "        new_features.columns = new_cols\n",
    "        new_feature_df_list.append(new_features)\n",
    "    return new_feature_df_list"
   ]
  },
  {
   "cell_type": "code",
   "execution_count": 182,
   "metadata": {},
   "outputs": [],
   "source": []
  },
  {
   "cell_type": "code",
   "execution_count": 195,
   "metadata": {},
   "outputs": [
    {
     "data": {
      "text/plain": [
       "array([False, False, False, False, False, False, False, False,  True,\n",
       "       False, False,  True,  True, False,  True, False, False, False,\n",
       "        True,  True,  True])"
      ]
     },
     "execution_count": 195,
     "metadata": {},
     "output_type": "execute_result"
    }
   ],
   "source": [
    "\n",
    "(df.loc[:, time_dependent_features].nunique() > 10).values"
   ]
  },
  {
   "cell_type": "code",
   "execution_count": 202,
   "metadata": {},
   "outputs": [
    {
     "data": {
      "text/plain": [
       "['containment_health_index',\n",
       " 'e3_fiscal_measures',\n",
       " 'e4_international_support',\n",
       " 'government_response_index',\n",
       " 'h4_emergency_investment_in_healthcare',\n",
       " 'h5_investment_in_vaccines',\n",
       " 'stringency_index']"
      ]
     },
     "execution_count": 202,
     "metadata": {},
     "output_type": "execute_result"
    }
   ],
   "source": [
    "# Majority \n",
    "pruned_time_dependent_features = list(np.array(time_dependent_features)[(df.loc[:, time_dependent_features].nunique() > 10).values])\n",
    "pruned_time_dependent_features"
   ]
  },
  {
   "cell_type": "code",
   "execution_count": 204,
   "metadata": {},
   "outputs": [
    {
     "data": {
      "text/plain": [
       "['containment_health_index',\n",
       " 'economic_support_index',\n",
       " 'government_response_index',\n",
       " 'stringency_index']"
      ]
     },
     "execution_count": 204,
     "metadata": {},
     "output_type": "execute_result"
    }
   ],
   "source": [
    "df.loc[:,column_search(df,'index')].columns[1:].tolist()"
   ]
  },
  {
   "cell_type": "code",
   "execution_count": 218,
   "metadata": {},
   "outputs": [],
   "source": [
    "oxcgrt_index_variables = df.loc[:,column_search(df,'index')].columns[1:].intersection(\n",
    "                   pd.Index(pruned_time_dependent_features)).tolist()"
   ]
  },
  {
   "cell_type": "code",
   "execution_count": 221,
   "metadata": {},
   "outputs": [
    {
     "data": {
      "text/html": [
       "<div>\n",
       "<style scoped>\n",
       "    .dataframe tbody tr th:only-of-type {\n",
       "        vertical-align: middle;\n",
       "    }\n",
       "\n",
       "    .dataframe tbody tr th {\n",
       "        vertical-align: top;\n",
       "    }\n",
       "\n",
       "    .dataframe thead th {\n",
       "        text-align: right;\n",
       "    }\n",
       "</style>\n",
       "<table border=\"1\" class=\"dataframe\">\n",
       "  <thead>\n",
       "    <tr style=\"text-align: right;\">\n",
       "      <th></th>\n",
       "      <th>log_new_cases_weighted_rolling_mean_3</th>\n",
       "      <th>log_new_tests_weighted_rolling_mean_3</th>\n",
       "      <th>log_new_recovered_weighted_rolling_mean_3</th>\n",
       "      <th>log_new_deaths_weighted_rolling_mean_3</th>\n",
       "      <th>new_cases_weighted_rolling_mean_3</th>\n",
       "      <th>new_tests_weighted_rolling_mean_3</th>\n",
       "      <th>new_recovered_weighted_rolling_mean_3</th>\n",
       "      <th>new_deaths_weighted_rolling_mean_3</th>\n",
       "      <th>containment_health_index_rolling_mean_3</th>\n",
       "      <th>government_response_index_rolling_mean_3</th>\n",
       "      <th>stringency_index_rolling_mean_3</th>\n",
       "    </tr>\n",
       "  </thead>\n",
       "  <tbody>\n",
       "    <tr>\n",
       "      <th>0</th>\n",
       "      <td>0.000000</td>\n",
       "      <td>0.000000</td>\n",
       "      <td>0.000000</td>\n",
       "      <td>0.0</td>\n",
       "      <td>0.000000</td>\n",
       "      <td>0.000000</td>\n",
       "      <td>0.000000</td>\n",
       "      <td>0.000000</td>\n",
       "      <td>0.00</td>\n",
       "      <td>0.00</td>\n",
       "      <td>0.00</td>\n",
       "    </tr>\n",
       "    <tr>\n",
       "      <th>1</th>\n",
       "      <td>0.000000</td>\n",
       "      <td>0.000000</td>\n",
       "      <td>0.000000</td>\n",
       "      <td>0.0</td>\n",
       "      <td>0.000000</td>\n",
       "      <td>0.000000</td>\n",
       "      <td>0.000000</td>\n",
       "      <td>0.000000</td>\n",
       "      <td>0.00</td>\n",
       "      <td>0.00</td>\n",
       "      <td>0.00</td>\n",
       "    </tr>\n",
       "    <tr>\n",
       "      <th>2</th>\n",
       "      <td>0.000000</td>\n",
       "      <td>0.000000</td>\n",
       "      <td>0.000000</td>\n",
       "      <td>0.0</td>\n",
       "      <td>0.000000</td>\n",
       "      <td>0.000000</td>\n",
       "      <td>0.000000</td>\n",
       "      <td>0.000000</td>\n",
       "      <td>0.00</td>\n",
       "      <td>0.00</td>\n",
       "      <td>0.00</td>\n",
       "    </tr>\n",
       "    <tr>\n",
       "      <th>3</th>\n",
       "      <td>0.000000</td>\n",
       "      <td>0.000000</td>\n",
       "      <td>0.000000</td>\n",
       "      <td>0.0</td>\n",
       "      <td>0.000000</td>\n",
       "      <td>0.000000</td>\n",
       "      <td>0.000000</td>\n",
       "      <td>0.000000</td>\n",
       "      <td>0.00</td>\n",
       "      <td>0.00</td>\n",
       "      <td>0.00</td>\n",
       "    </tr>\n",
       "    <tr>\n",
       "      <th>4</th>\n",
       "      <td>0.000000</td>\n",
       "      <td>0.000000</td>\n",
       "      <td>0.000000</td>\n",
       "      <td>0.0</td>\n",
       "      <td>0.000000</td>\n",
       "      <td>0.000000</td>\n",
       "      <td>0.000000</td>\n",
       "      <td>0.000000</td>\n",
       "      <td>0.00</td>\n",
       "      <td>0.00</td>\n",
       "      <td>0.00</td>\n",
       "    </tr>\n",
       "    <tr>\n",
       "      <th>...</th>\n",
       "      <td>...</td>\n",
       "      <td>...</td>\n",
       "      <td>...</td>\n",
       "      <td>...</td>\n",
       "      <td>...</td>\n",
       "      <td>...</td>\n",
       "      <td>...</td>\n",
       "      <td>...</td>\n",
       "      <td>...</td>\n",
       "      <td>...</td>\n",
       "      <td>...</td>\n",
       "    </tr>\n",
       "    <tr>\n",
       "      <th>20015</th>\n",
       "      <td>0.635561</td>\n",
       "      <td>2.983448</td>\n",
       "      <td>0.218997</td>\n",
       "      <td>0.0</td>\n",
       "      <td>1.009222</td>\n",
       "      <td>20.206877</td>\n",
       "      <td>0.336407</td>\n",
       "      <td>0.067281</td>\n",
       "      <td>79.55</td>\n",
       "      <td>71.15</td>\n",
       "      <td>87.96</td>\n",
       "    </tr>\n",
       "    <tr>\n",
       "      <th>20016</th>\n",
       "      <td>0.379177</td>\n",
       "      <td>2.981635</td>\n",
       "      <td>0.218997</td>\n",
       "      <td>0.0</td>\n",
       "      <td>0.493398</td>\n",
       "      <td>20.162022</td>\n",
       "      <td>0.560679</td>\n",
       "      <td>0.067281</td>\n",
       "      <td>79.55</td>\n",
       "      <td>71.15</td>\n",
       "      <td>87.96</td>\n",
       "    </tr>\n",
       "    <tr>\n",
       "      <th>20017</th>\n",
       "      <td>0.503124</td>\n",
       "      <td>3.387292</td>\n",
       "      <td>0.258578</td>\n",
       "      <td>0.0</td>\n",
       "      <td>0.784951</td>\n",
       "      <td>29.110462</td>\n",
       "      <td>0.605533</td>\n",
       "      <td>0.067281</td>\n",
       "      <td>79.55</td>\n",
       "      <td>71.15</td>\n",
       "      <td>87.96</td>\n",
       "    </tr>\n",
       "    <tr>\n",
       "      <th>20018</th>\n",
       "      <td>0.554873</td>\n",
       "      <td>2.282455</td>\n",
       "      <td>0.103368</td>\n",
       "      <td>0.0</td>\n",
       "      <td>0.852232</td>\n",
       "      <td>32.653954</td>\n",
       "      <td>0.381262</td>\n",
       "      <td>0.067281</td>\n",
       "      <td>79.55</td>\n",
       "      <td>71.15</td>\n",
       "      <td>87.96</td>\n",
       "    </tr>\n",
       "    <tr>\n",
       "      <th>20019</th>\n",
       "      <td>0.655504</td>\n",
       "      <td>1.213749</td>\n",
       "      <td>0.103368</td>\n",
       "      <td>0.0</td>\n",
       "      <td>1.009222</td>\n",
       "      <td>37.139387</td>\n",
       "      <td>0.156990</td>\n",
       "      <td>0.067281</td>\n",
       "      <td>79.55</td>\n",
       "      <td>71.15</td>\n",
       "      <td>87.96</td>\n",
       "    </tr>\n",
       "  </tbody>\n",
       "</table>\n",
       "<p>18018 rows × 11 columns</p>\n",
       "</div>"
      ],
      "text/plain": [
       "       log_new_cases_weighted_rolling_mean_3  \\\n",
       "0                                   0.000000   \n",
       "1                                   0.000000   \n",
       "2                                   0.000000   \n",
       "3                                   0.000000   \n",
       "4                                   0.000000   \n",
       "...                                      ...   \n",
       "20015                               0.635561   \n",
       "20016                               0.379177   \n",
       "20017                               0.503124   \n",
       "20018                               0.554873   \n",
       "20019                               0.655504   \n",
       "\n",
       "       log_new_tests_weighted_rolling_mean_3  \\\n",
       "0                                   0.000000   \n",
       "1                                   0.000000   \n",
       "2                                   0.000000   \n",
       "3                                   0.000000   \n",
       "4                                   0.000000   \n",
       "...                                      ...   \n",
       "20015                               2.983448   \n",
       "20016                               2.981635   \n",
       "20017                               3.387292   \n",
       "20018                               2.282455   \n",
       "20019                               1.213749   \n",
       "\n",
       "       log_new_recovered_weighted_rolling_mean_3  \\\n",
       "0                                       0.000000   \n",
       "1                                       0.000000   \n",
       "2                                       0.000000   \n",
       "3                                       0.000000   \n",
       "4                                       0.000000   \n",
       "...                                          ...   \n",
       "20015                                   0.218997   \n",
       "20016                                   0.218997   \n",
       "20017                                   0.258578   \n",
       "20018                                   0.103368   \n",
       "20019                                   0.103368   \n",
       "\n",
       "       log_new_deaths_weighted_rolling_mean_3  \\\n",
       "0                                         0.0   \n",
       "1                                         0.0   \n",
       "2                                         0.0   \n",
       "3                                         0.0   \n",
       "4                                         0.0   \n",
       "...                                       ...   \n",
       "20015                                     0.0   \n",
       "20016                                     0.0   \n",
       "20017                                     0.0   \n",
       "20018                                     0.0   \n",
       "20019                                     0.0   \n",
       "\n",
       "       new_cases_weighted_rolling_mean_3  new_tests_weighted_rolling_mean_3  \\\n",
       "0                               0.000000                           0.000000   \n",
       "1                               0.000000                           0.000000   \n",
       "2                               0.000000                           0.000000   \n",
       "3                               0.000000                           0.000000   \n",
       "4                               0.000000                           0.000000   \n",
       "...                                  ...                                ...   \n",
       "20015                           1.009222                          20.206877   \n",
       "20016                           0.493398                          20.162022   \n",
       "20017                           0.784951                          29.110462   \n",
       "20018                           0.852232                          32.653954   \n",
       "20019                           1.009222                          37.139387   \n",
       "\n",
       "       new_recovered_weighted_rolling_mean_3  \\\n",
       "0                                   0.000000   \n",
       "1                                   0.000000   \n",
       "2                                   0.000000   \n",
       "3                                   0.000000   \n",
       "4                                   0.000000   \n",
       "...                                      ...   \n",
       "20015                               0.336407   \n",
       "20016                               0.560679   \n",
       "20017                               0.605533   \n",
       "20018                               0.381262   \n",
       "20019                               0.156990   \n",
       "\n",
       "       new_deaths_weighted_rolling_mean_3  \\\n",
       "0                                0.000000   \n",
       "1                                0.000000   \n",
       "2                                0.000000   \n",
       "3                                0.000000   \n",
       "4                                0.000000   \n",
       "...                                   ...   \n",
       "20015                            0.067281   \n",
       "20016                            0.067281   \n",
       "20017                            0.067281   \n",
       "20018                            0.067281   \n",
       "20019                            0.067281   \n",
       "\n",
       "       containment_health_index_rolling_mean_3  \\\n",
       "0                                         0.00   \n",
       "1                                         0.00   \n",
       "2                                         0.00   \n",
       "3                                         0.00   \n",
       "4                                         0.00   \n",
       "...                                        ...   \n",
       "20015                                    79.55   \n",
       "20016                                    79.55   \n",
       "20017                                    79.55   \n",
       "20018                                    79.55   \n",
       "20019                                    79.55   \n",
       "\n",
       "       government_response_index_rolling_mean_3  \\\n",
       "0                                          0.00   \n",
       "1                                          0.00   \n",
       "2                                          0.00   \n",
       "3                                          0.00   \n",
       "4                                          0.00   \n",
       "...                                         ...   \n",
       "20015                                     71.15   \n",
       "20016                                     71.15   \n",
       "20017                                     71.15   \n",
       "20018                                     71.15   \n",
       "20019                                     71.15   \n",
       "\n",
       "       stringency_index_rolling_mean_3  \n",
       "0                                 0.00  \n",
       "1                                 0.00  \n",
       "2                                 0.00  \n",
       "3                                 0.00  \n",
       "4                                 0.00  \n",
       "...                                ...  \n",
       "20015                            87.96  \n",
       "20016                            87.96  \n",
       "20017                            87.96  \n",
       "20018                            87.96  \n",
       "20019                            87.96  \n",
       "\n",
       "[18018 rows x 11 columns]"
      ]
     },
     "execution_count": 221,
     "metadata": {},
     "output_type": "execute_result"
    }
   ],
   "source": [
    "new_features"
   ]
  },
  {
   "cell_type": "code",
   "execution_count": 223,
   "metadata": {},
   "outputs": [
    {
     "data": {
      "text/plain": [
       "[['location',\n",
       "  'date',\n",
       "  'time_index',\n",
       "  'days_since_first_case',\n",
       "  'log_new_cases_weighted',\n",
       "  'log_new_tests_weighted',\n",
       "  'log_new_recovered_weighted',\n",
       "  'log_new_deaths_weighted',\n",
       "  'new_cases_weighted',\n",
       "  'new_tests_weighted',\n",
       "  'new_recovered_weighted',\n",
       "  'new_deaths_weighted',\n",
       "  'containment_health_index',\n",
       "  'government_response_index',\n",
       "  'stringency_index']]"
      ]
     },
     "execution_count": 223,
     "metadata": {},
     "output_type": "execute_result"
    }
   ],
   "source": [
    "cnn_features"
   ]
  },
  {
   "cell_type": "code",
   "execution_count": 224,
   "metadata": {},
   "outputs": [
    {
     "data": {
      "text/html": [
       "<div>\n",
       "<style scoped>\n",
       "    .dataframe tbody tr th:only-of-type {\n",
       "        vertical-align: middle;\n",
       "    }\n",
       "\n",
       "    .dataframe tbody tr th {\n",
       "        vertical-align: top;\n",
       "    }\n",
       "\n",
       "    .dataframe thead th {\n",
       "        text-align: right;\n",
       "    }\n",
       "</style>\n",
       "<table border=\"1\" class=\"dataframe\">\n",
       "  <thead>\n",
       "    <tr style=\"text-align: right;\">\n",
       "      <th></th>\n",
       "      <th>location</th>\n",
       "      <th>date</th>\n",
       "      <th>time_index</th>\n",
       "      <th>days_since_first_case</th>\n",
       "      <th>log_new_cases_weighted</th>\n",
       "      <th>log_new_tests_weighted</th>\n",
       "      <th>log_new_recovered_weighted</th>\n",
       "      <th>log_new_deaths_weighted</th>\n",
       "      <th>new_cases_weighted</th>\n",
       "      <th>new_tests_weighted</th>\n",
       "      <th>new_recovered_weighted</th>\n",
       "      <th>new_deaths_weighted</th>\n",
       "      <th>containment_health_index</th>\n",
       "      <th>government_response_index</th>\n",
       "      <th>stringency_index</th>\n",
       "    </tr>\n",
       "  </thead>\n",
       "  <tbody>\n",
       "    <tr>\n",
       "      <th>0</th>\n",
       "      <td>Afghanistan</td>\n",
       "      <td>2020-01-22</td>\n",
       "      <td>0</td>\n",
       "      <td>0</td>\n",
       "      <td>0.000000</td>\n",
       "      <td>0.000000</td>\n",
       "      <td>0.000000</td>\n",
       "      <td>0.0</td>\n",
       "      <td>0.000000</td>\n",
       "      <td>0.000000</td>\n",
       "      <td>0.000000</td>\n",
       "      <td>0.000000</td>\n",
       "      <td>0.00</td>\n",
       "      <td>0.00</td>\n",
       "      <td>0.00</td>\n",
       "    </tr>\n",
       "    <tr>\n",
       "      <th>1</th>\n",
       "      <td>Afghanistan</td>\n",
       "      <td>2020-01-23</td>\n",
       "      <td>1</td>\n",
       "      <td>0</td>\n",
       "      <td>0.000000</td>\n",
       "      <td>0.000000</td>\n",
       "      <td>0.000000</td>\n",
       "      <td>0.0</td>\n",
       "      <td>0.000000</td>\n",
       "      <td>0.000000</td>\n",
       "      <td>0.000000</td>\n",
       "      <td>0.000000</td>\n",
       "      <td>0.00</td>\n",
       "      <td>0.00</td>\n",
       "      <td>0.00</td>\n",
       "    </tr>\n",
       "    <tr>\n",
       "      <th>2</th>\n",
       "      <td>Afghanistan</td>\n",
       "      <td>2020-01-24</td>\n",
       "      <td>2</td>\n",
       "      <td>0</td>\n",
       "      <td>0.000000</td>\n",
       "      <td>0.000000</td>\n",
       "      <td>0.000000</td>\n",
       "      <td>0.0</td>\n",
       "      <td>0.000000</td>\n",
       "      <td>0.000000</td>\n",
       "      <td>0.000000</td>\n",
       "      <td>0.000000</td>\n",
       "      <td>0.00</td>\n",
       "      <td>0.00</td>\n",
       "      <td>0.00</td>\n",
       "    </tr>\n",
       "    <tr>\n",
       "      <th>3</th>\n",
       "      <td>Afghanistan</td>\n",
       "      <td>2020-01-25</td>\n",
       "      <td>3</td>\n",
       "      <td>0</td>\n",
       "      <td>0.000000</td>\n",
       "      <td>0.000000</td>\n",
       "      <td>0.000000</td>\n",
       "      <td>0.0</td>\n",
       "      <td>0.000000</td>\n",
       "      <td>0.000000</td>\n",
       "      <td>0.000000</td>\n",
       "      <td>0.000000</td>\n",
       "      <td>0.00</td>\n",
       "      <td>0.00</td>\n",
       "      <td>0.00</td>\n",
       "    </tr>\n",
       "    <tr>\n",
       "      <th>4</th>\n",
       "      <td>Afghanistan</td>\n",
       "      <td>2020-01-26</td>\n",
       "      <td>4</td>\n",
       "      <td>0</td>\n",
       "      <td>0.000000</td>\n",
       "      <td>0.000000</td>\n",
       "      <td>0.000000</td>\n",
       "      <td>0.0</td>\n",
       "      <td>0.000000</td>\n",
       "      <td>0.000000</td>\n",
       "      <td>0.000000</td>\n",
       "      <td>0.000000</td>\n",
       "      <td>0.00</td>\n",
       "      <td>0.00</td>\n",
       "      <td>0.00</td>\n",
       "    </tr>\n",
       "    <tr>\n",
       "      <th>...</th>\n",
       "      <td>...</td>\n",
       "      <td>...</td>\n",
       "      <td>...</td>\n",
       "      <td>...</td>\n",
       "      <td>...</td>\n",
       "      <td>...</td>\n",
       "      <td>...</td>\n",
       "      <td>...</td>\n",
       "      <td>...</td>\n",
       "      <td>...</td>\n",
       "      <td>...</td>\n",
       "      <td>...</td>\n",
       "      <td>...</td>\n",
       "      <td>...</td>\n",
       "      <td>...</td>\n",
       "    </tr>\n",
       "    <tr>\n",
       "      <th>20015</th>\n",
       "      <td>Zimbabwe</td>\n",
       "      <td>2020-06-08</td>\n",
       "      <td>138</td>\n",
       "      <td>80</td>\n",
       "      <td>0.183857</td>\n",
       "      <td>3.314510</td>\n",
       "      <td>0.591877</td>\n",
       "      <td>0.0</td>\n",
       "      <td>0.201844</td>\n",
       "      <td>26.508910</td>\n",
       "      <td>0.807378</td>\n",
       "      <td>0.067281</td>\n",
       "      <td>79.55</td>\n",
       "      <td>71.15</td>\n",
       "      <td>87.96</td>\n",
       "    </tr>\n",
       "    <tr>\n",
       "      <th>20016</th>\n",
       "      <td>Zimbabwe</td>\n",
       "      <td>2020-06-09</td>\n",
       "      <td>139</td>\n",
       "      <td>81</td>\n",
       "      <td>0.289985</td>\n",
       "      <td>3.206118</td>\n",
       "      <td>0.000000</td>\n",
       "      <td>0.0</td>\n",
       "      <td>0.336407</td>\n",
       "      <td>23.683087</td>\n",
       "      <td>0.807378</td>\n",
       "      <td>0.067281</td>\n",
       "      <td>79.55</td>\n",
       "      <td>71.15</td>\n",
       "      <td>87.96</td>\n",
       "    </tr>\n",
       "    <tr>\n",
       "      <th>20017</th>\n",
       "      <td>Zimbabwe</td>\n",
       "      <td>2020-06-10</td>\n",
       "      <td>140</td>\n",
       "      <td>82</td>\n",
       "      <td>1.035531</td>\n",
       "      <td>3.641248</td>\n",
       "      <td>0.183857</td>\n",
       "      <td>0.0</td>\n",
       "      <td>1.816600</td>\n",
       "      <td>37.139387</td>\n",
       "      <td>0.201844</td>\n",
       "      <td>0.067281</td>\n",
       "      <td>79.55</td>\n",
       "      <td>71.15</td>\n",
       "      <td>87.96</td>\n",
       "    </tr>\n",
       "    <tr>\n",
       "      <th>20018</th>\n",
       "      <td>Zimbabwe</td>\n",
       "      <td>2020-06-11</td>\n",
       "      <td>141</td>\n",
       "      <td>83</td>\n",
       "      <td>0.339104</td>\n",
       "      <td>0.000000</td>\n",
       "      <td>0.126248</td>\n",
       "      <td>0.0</td>\n",
       "      <td>0.403689</td>\n",
       "      <td>37.139387</td>\n",
       "      <td>0.134563</td>\n",
       "      <td>0.067281</td>\n",
       "      <td>79.55</td>\n",
       "      <td>71.15</td>\n",
       "      <td>87.96</td>\n",
       "    </tr>\n",
       "    <tr>\n",
       "      <th>20019</th>\n",
       "      <td>Zimbabwe</td>\n",
       "      <td>2020-06-12</td>\n",
       "      <td>142</td>\n",
       "      <td>84</td>\n",
       "      <td>0.591877</td>\n",
       "      <td>0.000000</td>\n",
       "      <td>0.000000</td>\n",
       "      <td>0.0</td>\n",
       "      <td>0.807378</td>\n",
       "      <td>37.139387</td>\n",
       "      <td>0.134563</td>\n",
       "      <td>0.067281</td>\n",
       "      <td>79.55</td>\n",
       "      <td>71.15</td>\n",
       "      <td>87.96</td>\n",
       "    </tr>\n",
       "  </tbody>\n",
       "</table>\n",
       "<p>18018 rows × 15 columns</p>\n",
       "</div>"
      ],
      "text/plain": [
       "          location       date  time_index  days_since_first_case  \\\n",
       "0      Afghanistan 2020-01-22           0                      0   \n",
       "1      Afghanistan 2020-01-23           1                      0   \n",
       "2      Afghanistan 2020-01-24           2                      0   \n",
       "3      Afghanistan 2020-01-25           3                      0   \n",
       "4      Afghanistan 2020-01-26           4                      0   \n",
       "...            ...        ...         ...                    ...   \n",
       "20015     Zimbabwe 2020-06-08         138                     80   \n",
       "20016     Zimbabwe 2020-06-09         139                     81   \n",
       "20017     Zimbabwe 2020-06-10         140                     82   \n",
       "20018     Zimbabwe 2020-06-11         141                     83   \n",
       "20019     Zimbabwe 2020-06-12         142                     84   \n",
       "\n",
       "       log_new_cases_weighted  log_new_tests_weighted  \\\n",
       "0                    0.000000                0.000000   \n",
       "1                    0.000000                0.000000   \n",
       "2                    0.000000                0.000000   \n",
       "3                    0.000000                0.000000   \n",
       "4                    0.000000                0.000000   \n",
       "...                       ...                     ...   \n",
       "20015                0.183857                3.314510   \n",
       "20016                0.289985                3.206118   \n",
       "20017                1.035531                3.641248   \n",
       "20018                0.339104                0.000000   \n",
       "20019                0.591877                0.000000   \n",
       "\n",
       "       log_new_recovered_weighted  log_new_deaths_weighted  \\\n",
       "0                        0.000000                      0.0   \n",
       "1                        0.000000                      0.0   \n",
       "2                        0.000000                      0.0   \n",
       "3                        0.000000                      0.0   \n",
       "4                        0.000000                      0.0   \n",
       "...                           ...                      ...   \n",
       "20015                    0.591877                      0.0   \n",
       "20016                    0.000000                      0.0   \n",
       "20017                    0.183857                      0.0   \n",
       "20018                    0.126248                      0.0   \n",
       "20019                    0.000000                      0.0   \n",
       "\n",
       "       new_cases_weighted  new_tests_weighted  new_recovered_weighted  \\\n",
       "0                0.000000            0.000000                0.000000   \n",
       "1                0.000000            0.000000                0.000000   \n",
       "2                0.000000            0.000000                0.000000   \n",
       "3                0.000000            0.000000                0.000000   \n",
       "4                0.000000            0.000000                0.000000   \n",
       "...                   ...                 ...                     ...   \n",
       "20015            0.201844           26.508910                0.807378   \n",
       "20016            0.336407           23.683087                0.807378   \n",
       "20017            1.816600           37.139387                0.201844   \n",
       "20018            0.403689           37.139387                0.134563   \n",
       "20019            0.807378           37.139387                0.134563   \n",
       "\n",
       "       new_deaths_weighted  containment_health_index  \\\n",
       "0                 0.000000                      0.00   \n",
       "1                 0.000000                      0.00   \n",
       "2                 0.000000                      0.00   \n",
       "3                 0.000000                      0.00   \n",
       "4                 0.000000                      0.00   \n",
       "...                    ...                       ...   \n",
       "20015             0.067281                     79.55   \n",
       "20016             0.067281                     79.55   \n",
       "20017             0.067281                     79.55   \n",
       "20018             0.067281                     79.55   \n",
       "20019             0.067281                     79.55   \n",
       "\n",
       "       government_response_index  stringency_index  \n",
       "0                           0.00              0.00  \n",
       "1                           0.00              0.00  \n",
       "2                           0.00              0.00  \n",
       "3                           0.00              0.00  \n",
       "4                           0.00              0.00  \n",
       "...                          ...               ...  \n",
       "20015                      71.15             87.96  \n",
       "20016                      71.15             87.96  \n",
       "20017                      71.15             87.96  \n",
       "20018                      71.15             87.96  \n",
       "20019                      71.15             87.96  \n",
       "\n",
       "[18018 rows x 15 columns]"
      ]
     },
     "execution_count": 224,
     "metadata": {},
     "output_type": "execute_result"
    }
   ],
   "source": [
    "model_df"
   ]
  },
  {
   "cell_type": "code",
   "execution_count": 245,
   "metadata": {},
   "outputs": [],
   "source": [
    "model_df = df.loc[:, indexers \n",
    "                  + log_new_weighted_quantity_features\n",
    "                  + new_weighted_quantity_features \n",
    "#                   + oxcgrt_index_variables\n",
    "                 ].copy()"
   ]
  },
  {
   "cell_type": "code",
   "execution_count": 248,
   "metadata": {},
   "outputs": [],
   "source": [
    "new_features_list = rolling_means(model_df, log_new_weighted_quantity_features+new_weighted_quantity_features, roll_widths=[3])\n",
    "new_features = pd.concat(new_features_list, axis=1)\n",
    "# tmp = new_features.iloc[:,[0,1,2,3,-1,-7,-8,-13]]\n",
    "# tmp.columns = [x[0] for x in tmp.columns.str.split('_rolling_mean_3')]\n",
    "cnn_features =  (indexers \n",
    "                + log_new_weighted_quantity_features\n",
    "                +new_weighted_quantity_features \n",
    "#                 + df.loc[:,column_search(df,'index')].columns[1:].tolist()\n",
    "#                 +oxcgrt_index_variables\n",
    "                )\n",
    "               \n",
    "\n",
    "cnn_df = model_df.loc[:, cnn_features] \n",
    "# smoothed_cnn_df = model_df.loc[:, cnn_features] \n",
    "# smoothed_cnn_df.loc[:, tmp.columns] = tmp.values"
   ]
  },
  {
   "cell_type": "code",
   "execution_count": 249,
   "metadata": {},
   "outputs": [],
   "source": [
    "cnn_df.to_csv('cnn_datav2.csv')\n",
    "# smoothed_cnn_df.to_csv('smoothed3_cnn_datav2.csv')"
   ]
  },
  {
   "cell_type": "code",
   "execution_count": 262,
   "metadata": {},
   "outputs": [
    {
     "data": {
      "text/html": [
       "<div>\n",
       "<style scoped>\n",
       "    .dataframe tbody tr th:only-of-type {\n",
       "        vertical-align: middle;\n",
       "    }\n",
       "\n",
       "    .dataframe tbody tr th {\n",
       "        vertical-align: top;\n",
       "    }\n",
       "\n",
       "    .dataframe thead th {\n",
       "        text-align: right;\n",
       "    }\n",
       "</style>\n",
       "<table border=\"1\" class=\"dataframe\">\n",
       "  <thead>\n",
       "    <tr style=\"text-align: right;\">\n",
       "      <th></th>\n",
       "      <th>location</th>\n",
       "      <th>date</th>\n",
       "      <th>time_index</th>\n",
       "      <th>days_since_first_case</th>\n",
       "      <th>new_cases_weighted</th>\n",
       "      <th>new_tests_weighted</th>\n",
       "      <th>new_recovered_weighted</th>\n",
       "      <th>new_deaths_weighted</th>\n",
       "    </tr>\n",
       "  </thead>\n",
       "  <tbody>\n",
       "    <tr>\n",
       "      <th>0</th>\n",
       "      <td>Afghanistan</td>\n",
       "      <td>2020-01-22</td>\n",
       "      <td>0</td>\n",
       "      <td>0</td>\n",
       "      <td>0.000000</td>\n",
       "      <td>0.000000</td>\n",
       "      <td>0.000000</td>\n",
       "      <td>0.000000</td>\n",
       "    </tr>\n",
       "    <tr>\n",
       "      <th>1</th>\n",
       "      <td>Afghanistan</td>\n",
       "      <td>2020-01-23</td>\n",
       "      <td>1</td>\n",
       "      <td>0</td>\n",
       "      <td>0.000000</td>\n",
       "      <td>0.000000</td>\n",
       "      <td>0.000000</td>\n",
       "      <td>0.000000</td>\n",
       "    </tr>\n",
       "    <tr>\n",
       "      <th>2</th>\n",
       "      <td>Afghanistan</td>\n",
       "      <td>2020-01-24</td>\n",
       "      <td>2</td>\n",
       "      <td>0</td>\n",
       "      <td>0.000000</td>\n",
       "      <td>0.000000</td>\n",
       "      <td>0.000000</td>\n",
       "      <td>0.000000</td>\n",
       "    </tr>\n",
       "    <tr>\n",
       "      <th>3</th>\n",
       "      <td>Afghanistan</td>\n",
       "      <td>2020-01-25</td>\n",
       "      <td>3</td>\n",
       "      <td>0</td>\n",
       "      <td>0.000000</td>\n",
       "      <td>0.000000</td>\n",
       "      <td>0.000000</td>\n",
       "      <td>0.000000</td>\n",
       "    </tr>\n",
       "    <tr>\n",
       "      <th>4</th>\n",
       "      <td>Afghanistan</td>\n",
       "      <td>2020-01-26</td>\n",
       "      <td>4</td>\n",
       "      <td>0</td>\n",
       "      <td>0.000000</td>\n",
       "      <td>0.000000</td>\n",
       "      <td>0.000000</td>\n",
       "      <td>0.000000</td>\n",
       "    </tr>\n",
       "    <tr>\n",
       "      <th>...</th>\n",
       "      <td>...</td>\n",
       "      <td>...</td>\n",
       "      <td>...</td>\n",
       "      <td>...</td>\n",
       "      <td>...</td>\n",
       "      <td>...</td>\n",
       "      <td>...</td>\n",
       "      <td>...</td>\n",
       "    </tr>\n",
       "    <tr>\n",
       "      <th>20015</th>\n",
       "      <td>Zimbabwe</td>\n",
       "      <td>2020-06-08</td>\n",
       "      <td>138</td>\n",
       "      <td>80</td>\n",
       "      <td>0.201844</td>\n",
       "      <td>26.508910</td>\n",
       "      <td>0.807378</td>\n",
       "      <td>0.067281</td>\n",
       "    </tr>\n",
       "    <tr>\n",
       "      <th>20016</th>\n",
       "      <td>Zimbabwe</td>\n",
       "      <td>2020-06-09</td>\n",
       "      <td>139</td>\n",
       "      <td>81</td>\n",
       "      <td>0.336407</td>\n",
       "      <td>23.683087</td>\n",
       "      <td>0.807378</td>\n",
       "      <td>0.067281</td>\n",
       "    </tr>\n",
       "    <tr>\n",
       "      <th>20017</th>\n",
       "      <td>Zimbabwe</td>\n",
       "      <td>2020-06-10</td>\n",
       "      <td>140</td>\n",
       "      <td>82</td>\n",
       "      <td>1.816600</td>\n",
       "      <td>37.139387</td>\n",
       "      <td>0.201844</td>\n",
       "      <td>0.067281</td>\n",
       "    </tr>\n",
       "    <tr>\n",
       "      <th>20018</th>\n",
       "      <td>Zimbabwe</td>\n",
       "      <td>2020-06-11</td>\n",
       "      <td>141</td>\n",
       "      <td>83</td>\n",
       "      <td>0.403689</td>\n",
       "      <td>37.139387</td>\n",
       "      <td>0.134563</td>\n",
       "      <td>0.067281</td>\n",
       "    </tr>\n",
       "    <tr>\n",
       "      <th>20019</th>\n",
       "      <td>Zimbabwe</td>\n",
       "      <td>2020-06-12</td>\n",
       "      <td>142</td>\n",
       "      <td>84</td>\n",
       "      <td>0.807378</td>\n",
       "      <td>37.139387</td>\n",
       "      <td>0.134563</td>\n",
       "      <td>0.067281</td>\n",
       "    </tr>\n",
       "  </tbody>\n",
       "</table>\n",
       "<p>18018 rows × 8 columns</p>\n",
       "</div>"
      ],
      "text/plain": [
       "          location       date  time_index  days_since_first_case  \\\n",
       "0      Afghanistan 2020-01-22           0                      0   \n",
       "1      Afghanistan 2020-01-23           1                      0   \n",
       "2      Afghanistan 2020-01-24           2                      0   \n",
       "3      Afghanistan 2020-01-25           3                      0   \n",
       "4      Afghanistan 2020-01-26           4                      0   \n",
       "...            ...        ...         ...                    ...   \n",
       "20015     Zimbabwe 2020-06-08         138                     80   \n",
       "20016     Zimbabwe 2020-06-09         139                     81   \n",
       "20017     Zimbabwe 2020-06-10         140                     82   \n",
       "20018     Zimbabwe 2020-06-11         141                     83   \n",
       "20019     Zimbabwe 2020-06-12         142                     84   \n",
       "\n",
       "       new_cases_weighted  new_tests_weighted  new_recovered_weighted  \\\n",
       "0                0.000000            0.000000                0.000000   \n",
       "1                0.000000            0.000000                0.000000   \n",
       "2                0.000000            0.000000                0.000000   \n",
       "3                0.000000            0.000000                0.000000   \n",
       "4                0.000000            0.000000                0.000000   \n",
       "...                   ...                 ...                     ...   \n",
       "20015            0.201844           26.508910                0.807378   \n",
       "20016            0.336407           23.683087                0.807378   \n",
       "20017            1.816600           37.139387                0.201844   \n",
       "20018            0.403689           37.139387                0.134563   \n",
       "20019            0.807378           37.139387                0.134563   \n",
       "\n",
       "       new_deaths_weighted  \n",
       "0                 0.000000  \n",
       "1                 0.000000  \n",
       "2                 0.000000  \n",
       "3                 0.000000  \n",
       "4                 0.000000  \n",
       "...                    ...  \n",
       "20015             0.067281  \n",
       "20016             0.067281  \n",
       "20017             0.067281  \n",
       "20018             0.067281  \n",
       "20019             0.067281  \n",
       "\n",
       "[18018 rows x 8 columns]"
      ]
     },
     "execution_count": 262,
     "metadata": {},
     "output_type": "execute_result"
    }
   ],
   "source": [
    "regression_df"
   ]
  },
  {
   "cell_type": "code",
   "execution_count": 259,
   "metadata": {
    "scrolled": false
   },
   "outputs": [],
   "source": [
    "regression_df = df.loc[:, indexers \n",
    "                  + new_weighted_quantity_features \n",
    "#                   + oxcgrt_index_variables\n",
    "                      ].copy()\n",
    "new_features_list = rolling_means(regression_df, \n",
    "                                  new_weighted_quantity_features,\n",
    "#                                   oxcgrt_index_variables, \n",
    "                                  roll_widths=[7,14,21,28])\n",
    "new_features = pd.concat(new_features_list, axis=1)"
   ]
  },
  {
   "cell_type": "code",
   "execution_count": 266,
   "metadata": {},
   "outputs": [],
   "source": [
    "export_to_modeling = pd.concat((regression_df,\n",
    "                                new_features,\n",
    "#                                 location_dummies_without_collinearity,\n",
    "#                                 missing_flags\n",
    "                               ),axis=1)\n",
    "export_to_modeling.to_csv('regression_data.csv')"
   ]
  },
  {
   "cell_type": "code",
   "execution_count": 267,
   "metadata": {},
   "outputs": [
    {
     "data": {
      "text/plain": [
       "(18018, 24)"
      ]
     },
     "execution_count": 267,
     "metadata": {},
     "output_type": "execute_result"
    }
   ],
   "source": [
    "export_to_modeling.shape"
   ]
  },
  {
   "cell_type": "markdown",
   "metadata": {},
   "source": [
    "# Introduction <a id='intro'></a>\n",
    "\n",
    "This notebook uses a variety of different COVID-19 related datasets to explore the behavior\n",
    "of the multiple time series'. This notebook also creates new features that attempt to encapsulate the\n",
    "time dependent (and time delayed) nature of the problem; these will be used during the model creation\n",
    "project which makes time dependent forecasting models. \n"
   ]
  },
  {
   "cell_type": "markdown",
   "metadata": {},
   "source": [
    "## Exploratory Data Analysis<a id='EDA'></a>\n",
    "Ideas for the inclusion or creation of new columns.\n",
    "\n",
    "Moving averages\n",
    "fourier\n",
    "signal\n",
    "flags for lots of different things\n",
    "\n",
    "MI vs GA\n",
    "\n",
    "hardest hit countries\n",
    "\n",
    "days since\n",
    "\n",
    "which dataset it came from\n",
    "\n",
    "distribution of initial tests, responses, cases dates.\n",
    "\n",
    "humans view, interpret and forecast things in a way which are not available to robots. \n",
    "data driven, time dependent manner of modeling. Really trying to encapsulate the time dependence. \n",
    "\n",
    "I'm electing to fill the time independent features which are ***still*** missing with the median of ***all*** current values; otherwise I would have to drop them because of the missing values. This is ok? perhaps? It's hard to justify. \n",
    "\n",
    "\n",
    "\n",
    "For the time dependent features, I'll fill with 0's.\n",
    "\n",
    "Because the features I will be predicting are all measured per million people, it seems unwise to include\n",
    "very small countries and microstates such as San Marino; whose small population makes them has the maximum \n",
    "value in all quantities measured \"per million\". In other words, I want to normalize by population but the\n",
    "dynamics of these small states seems to be fundamentally different due to size."
   ]
  },
  {
   "cell_type": "code",
   "execution_count": 58,
   "metadata": {},
   "outputs": [
    {
     "data": {
      "image/png": "[encoded data removed]",
      "text/plain": [
       "<Figure size 720x360 with 1 Axes>"
      ]
     },
     "metadata": {
      "needs_background": "light"
     },
     "output_type": "display_data"
    }
   ],
   "source": [
    "roll_width = 7\n",
    "fig, ax = plt.subplots(figsize=(10,5))\n",
    "\n",
    "pds = usa_time_series_df.reset_index()[(usa_time_series_df.reset_index().location=='Georgia')]\n",
    "pds.loc[:, 'date'] = pds.loc[:, 'date'].dt.date\n",
    "pds = pds.set_index('date').deaths.diff(1)\n",
    "rollmean = pds.rolling(roll_width).mean().fillna(method='backfill').values.ravel()\n",
    "rollstd  = pds.rolling(roll_width).std().fillna(method='backfill').values.ravel()\n",
    "cis = (rollmean - rollstd, rollmean + rollstd)\n",
    "\n",
    "ax.fill_between(range(len(pds)), cis[0], cis[1], alpha=0.5, label='+- 7-day STD Georgia')\n",
    "ax.plot(range(len(pds)), rollmean, color='k', label='7-day MA Georgia')\n",
    "\n",
    "pds = usa_time_series_df.reset_index()[(usa_time_series_df.reset_index().location=='Michigan')]\n",
    "pds.loc[:, 'date'] = pds.loc[:, 'date'].dt.date\n",
    "pds = pds.set_index('date').deaths.diff(1)\n",
    "rollmean = pds.rolling(roll_width).mean().fillna(method='backfill').values.ravel()\n",
    "rollstd  = pds.rolling(roll_width).std().fillna(method='backfill').values.ravel()\n",
    "cis = (rollmean - rollstd, rollmean + rollstd)\n",
    "\n",
    "ax.fill_between(range(len(pds)), cis[0], cis[1], alpha=0.5, label='+- 7-day STD Michigan')\n",
    "ax.plot(range(len(pds)), rollmean, color='k',linestyle='--', label='7-day MA Michigan')\n",
    "\n",
    "plt.legend(loc=(0.01,0.7))\n",
    "plt.title('Daily deaths comparison, GA vs. MI')\n",
    "_ = ax.set_ylabel('Daily Deaths')\n",
    "_ = ax.set_xlabel('Date')\n",
    "_ = ax.set_xticks([0, 50,100])\n",
    "_ = ax.set_xticklabels(pds.index[::50])\n",
    "plt.savefig('GAvsMIdeaths.jpg')"
   ]
  },
  {
   "cell_type": "code",
   "execution_count": 168,
   "metadata": {},
   "outputs": [
    {
     "data": {
      "image/png": "[encoded data removed]",
      "text/plain": [
       "<Figure size 720x360 with 1 Axes>"
      ]
     },
     "metadata": {
      "needs_background": "light"
     },
     "output_type": "display_data"
    }
   ],
   "source": [
    "fig, ax = plt.subplots(figsize=(10,5))\n",
    "\n",
    "pds = usa_time_series_df.reset_index()[(usa_time_series_df.reset_index().location=='Florida')]\n",
    "pds.loc[:, 'date'] = pds.loc[:, 'date'].dt.date\n",
    "pds = pds.set_index('date').confirmed.diff(1)\n",
    "rollmean = pds.rolling(roll_width).mean().fillna(method='backfill').values.ravel()\n",
    "rollstd  = pds.rolling(roll_width).std().fillna(method='backfill').values.ravel()\n",
    "cis = (rollmean - rollstd, rollmean + rollstd)\n",
    "\n",
    "ax.fill_between(range(len(pds)), cis[0], cis[1], alpha=0.5, label='+- 7-day STD Georgia')\n",
    "ax.plot(range(len(pds)), rollmean, color='k', label='7-day MA Georgia')\n",
    "\n",
    "pds = usa_time_series_df.reset_index()[(usa_time_series_df.reset_index().location=='Michigan')]\n",
    "pds.loc[:, 'date'] = pds.loc[:, 'date'].dt.date\n",
    "pds = pds.set_index('date').confirmed.diff(1)\n",
    "rollmean = pds.rolling(roll_width).mean().fillna(method='backfill').values.ravel()\n",
    "rollstd  = pds.rolling(roll_width).std().fillna(method='backfill').values.ravel()\n",
    "cis = (rollmean - rollstd, rollmean + rollstd)\n",
    "\n",
    "ax.fill_between(range(len(pds)), cis[0], cis[1], alpha=0.5, label='+- 7-day STD Michigan')\n",
    "ax.plot(range(len(pds)), rollmean, color='k',linestyle='--', label='7-day MA Michigan')\n",
    "\n",
    "plt.legend(loc=(0.01,0.7))\n",
    "plt.title('Daily new cases comparison, GA vs. MI')\n",
    "_ = ax.set_ylabel('Daily Deaths')\n",
    "_ = ax.set_xlabel('Date')\n",
    "_ = ax.set_xticks([0, 50,100])\n",
    "_ = ax.set_xticklabels(pds.index[::50])\n",
    "plt.savefig('GAvsMIcases.jpg')"
   ]
  },
  {
   "cell_type": "code",
   "execution_count": 167,
   "metadata": {},
   "outputs": [
    {
     "data": {
      "image/png": "[encoded data removed]",
      "text/plain": [
       "<Figure size 720x360 with 1 Axes>"
      ]
     },
     "metadata": {
      "needs_background": "light"
     },
     "output_type": "display_data"
    }
   ],
   "source": [
    "fig, ax = plt.subplots(figsize=(10,5))\n",
    "\n",
    "pds = usa_time_series_df.reset_index()[(usa_time_series_df.reset_index().location=='Florida')].iloc[-100:]\n",
    "pds.loc[:, 'date'] = pds.loc[:, 'date'].dt.date\n",
    "pds = pds.set_index('date').confirmed.diff(1)\n",
    "rollmean = pds.rolling(roll_width).mean()#.values.ravel()#.fillna(method='backfill').values.ravel()\n",
    "rollstd  = pds.rolling(roll_width).std()#values.ravel()#.fillna(method='backfill').values.ravel()\n",
    "cis = (rollmean - rollstd, rollmean + rollstd)\n",
    "\n",
    "ax.fill_between(range(len(pds)), cis[0], cis[1], alpha=0.5, label='+- 7-day STD Georgia')\n",
    "ax.plot(range(len(pds)), rollmean, color='k', label='7-day MA Georgia')\n",
    "\n",
    "plt.legend(loc=(0.01,0.7))\n",
    "plt.title('Daily new cases comparison GA')\n",
    "_ = ax.set_ylabel('Daily Deaths')\n",
    "_ = ax.set_xlabel('Date')\n",
    "_ = ax.set_xticks(list(range(0, 101, 15)))\n",
    "_ = ax.set_xticklabels(pds.index[-100::15])\n"
   ]
  },
  {
   "cell_type": "code",
   "execution_count": 60,
   "metadata": {},
   "outputs": [
    {
     "data": {
      "text/plain": [
       "<matplotlib.legend.Legend at 0x25895d791c8>"
      ]
     },
     "execution_count": 60,
     "metadata": {},
     "output_type": "execute_result"
    },
    {
     "data": {
      "image/png": "[encoded data removed]",
      "text/plain": [
       "<Figure size 432x288 with 2 Axes>"
      ]
     },
     "metadata": {
      "needs_background": "light"
     },
     "output_type": "display_data"
    }
   ],
   "source": [
    "fig, ax = plt.subplots()\n",
    "ax2 = ax.twinx()\n",
    "eda_data.groupby('date').mean().stringency_index_oxcgrt.plot(ax=ax, label='Stringency index')\n",
    "eda_data.groupby('date').new_cases_owid.mean().plot(ax=ax2, color='r', label='New cases')\n",
    "ax.set_ylim([0,100])\n",
    "ax.set_title('Average global stringency')\n",
    "ax.set_ylabel('Stringency index from OxCGRT')\n",
    "ax2.set_ylabel('Global average of new cases')\n",
    "ax.legend(loc=(0,0.9))\n",
    "ax2.legend(loc=(0,0.8))"
   ]
  },
  {
   "cell_type": "markdown",
   "metadata": {},
   "source": [
    "Is this decrease warranted? to confirm, look at the average global rate of new cases."
   ]
  },
  {
   "cell_type": "code",
   "execution_count": 61,
   "metadata": {},
   "outputs": [],
   "source": [
    "growth_rates = []\n",
    "past3days = df[df.time_index >= df.time_index.max()-2]\n",
    "for c in country_groupby(df):\n",
    "    growth_rates.append(past3days.loc[c.intersection(past3days.index),:].new_cases_weighted.diff(1).diff(1).dropna().values[0])\n",
    "growth_rates = np.array(growth_rates)\n",
    "growth_rates[np.abs(growth_rates)<10**-4] = 0"
   ]
  },
  {
   "cell_type": "code",
   "execution_count": 62,
   "metadata": {},
   "outputs": [
    {
     "name": "stdout",
     "output_type": "stream",
     "text": [
      "Today, 44.44 percent of countries have a positive growth rate\n",
      "Today, 46.83 percent of countries have a negative growth rate\n",
      "Today, 8.73 percent of countries have a stationary growth rate\n"
     ]
    }
   ],
   "source": [
    "positive_growth = 100 * (growth_rates> 0).sum() / len(growth_rates)\n",
    "negative_growth =100 * (growth_rates < 0).sum() / len(growth_rates)\n",
    "stationary_growth = 100 * (growth_rates==0).sum() / len(growth_rates)\n",
    "print('Today, %.2f percent of countries have a positive growth rate' % positive_growth)\n",
    "print('Today, %.2f percent of countries have a negative growth rate' % negative_growth)\n",
    "print('Today, %.2f percent of countries have a stationary growth rate' % stationary_growth)"
   ]
  },
  {
   "cell_type": "code",
   "execution_count": 63,
   "metadata": {},
   "outputs": [
    {
     "data": {
      "text/plain": [
       "<matplotlib.legend.Legend at 0x25896ef0288>"
      ]
     },
     "execution_count": 63,
     "metadata": {},
     "output_type": "execute_result"
    },
    {
     "data": {
      "image/png": "[encoded data removed]",
      "text/plain": [
       "<Figure size 432x288 with 1 Axes>"
      ]
     },
     "metadata": {
      "needs_background": "light"
     },
     "output_type": "display_data"
    }
   ],
   "source": [
    "for i, c in enumerate(df.loc[:, column_search(df, 'n_')[:4]]):\n",
    "    plt.scatter(len(df)*[i], (df.loc[:, c] - df.loc[:, c].mean()) / df.loc[:, c].std(), s=2,label=c)\n",
    "plt.legend(loc=(0,1))"
   ]
  },
  {
   "cell_type": "markdown",
   "metadata": {},
   "source": [
    "\n",
    "Time series variables with drift as baseline model : any columns with 'new' (cases, deaths, tests)\n",
    "Time series variables with naive as baseline model : The complement to the drift baseline variables. \n",
    "\n"
   ]
  },
  {
   "cell_type": "markdown",
   "metadata": {},
   "source": [
    "\n",
    "The \"Our World in Data\" testing data isn't as reliable as the \"Test tracker\" testing data. \n",
    "This shows why it is important to be careful when selecting which representative from the\n",
    "set of redundant features to use."
   ]
  },
  {
   "cell_type": "code",
   "execution_count": 64,
   "metadata": {},
   "outputs": [
    {
     "data": {
      "image/png": "[encoded data removed]",
      "text/plain": [
       "<Figure size 432x288 with 1 Axes>"
      ]
     },
     "metadata": {
      "needs_background": "light"
     },
     "output_type": "display_data"
    }
   ],
   "source": [
    "fig, ax = plt.subplots()\n",
    "(100 * eda_data.set_index(['location', 'date']).isna().groupby(level=1).sum().loc[:, ['tests_cumulative_ttt', 'total_tests_owid']]\n",
    " / eda_data.location.nunique()).plot(ax=ax)\n",
    "plt.title('Percentage of missing daily test reports')\n",
    "plt.legend(loc=(0.5,0.8))\n",
    "every_nth = 2\n",
    "for n, label in enumerate(ax.xaxis.get_ticklabels()):\n",
    "    if n % every_nth != 0:\n",
    "        label.set_visible(False)"
   ]
  },
  {
   "cell_type": "markdown",
   "metadata": {},
   "source": [
    "Death rate estimation, assuming 50% of people are asymptomatic and do not actually get tested or confirmed."
   ]
  },
  {
   "cell_type": "code",
   "execution_count": 65,
   "metadata": {},
   "outputs": [],
   "source": [
    "today_data = df[df.time_index == df.time_index.max()]\n",
    "death_rate = []\n",
    "death_rate_estimation = []\n",
    "for c_i in country_groupby(df):\n",
    "    death_rate.append(100*df.loc[c_i,'new_deaths_weighted'].sum() / df.loc[c_i,'new_cases_weighted'].sum())\n",
    "    death_rate_estimation.append(100*df.loc[c_i,'new_deaths_weighted'].sum() / (2*(df.loc[c_i,'new_cases_weighted'].sum())))\n",
    "\n",
    "death_rate_estimation = np.array(death_rate_estimation)\n",
    "death_rate = np.array(death_rate)"
   ]
  },
  {
   "cell_type": "markdown",
   "metadata": {},
   "source": [
    "Likewise, the number of missing values for cases is also the worst for the OWID data set."
   ]
  },
  {
   "cell_type": "code",
   "execution_count": 66,
   "metadata": {
    "scrolled": true
   },
   "outputs": [
    {
     "data": {
      "text/plain": [
       "<matplotlib.axes._subplots.AxesSubplot at 0x2589702aa48>"
      ]
     },
     "execution_count": 66,
     "metadata": {},
     "output_type": "execute_result"
    },
    {
     "data": {
      "image/png": "[encoded data removed]",
      "text/plain": [
       "<Figure size 432x288 with 1 Axes>"
      ]
     },
     "metadata": {
      "needs_background": "light"
     },
     "output_type": "display_data"
    }
   ],
   "source": [
    "eda_data.loc[:,['new_cases_ttc', 'new_cases_owid','cases_jhucsse']].isna().astype(int).groupby(eda_data.date).sum().plot()"
   ]
  },
  {
   "cell_type": "markdown",
   "metadata": {},
   "source": [
    "Summary statistics of the \"age\" of the pandemic in each country."
   ]
  },
  {
   "cell_type": "code",
   "execution_count": 67,
   "metadata": {},
   "outputs": [
    {
     "name": "stdout",
     "output_type": "stream",
     "text": [
      "The statistics of the age of the pandemic in each country, in units of days.\n",
      "\n",
      "count    126.000000\n",
      "mean     102.571429\n",
      "std       20.537742\n",
      "min       30.000000\n",
      "25%       90.000000\n",
      "50%      100.500000\n",
      "75%      108.000000\n",
      "max      142.000000\n",
      "Name: days_since_first_case, dtype: float64\n"
     ]
    }
   ],
   "source": [
    "print('The statistics of the age of the pandemic in each country, in units of days.\\n')\n",
    "print(df[df.time_index==df.time_index.max()].days_since_first_case.describe())"
   ]
  },
  {
   "cell_type": "code",
   "execution_count": 68,
   "metadata": {},
   "outputs": [],
   "source": [
    "government_responses = pd.concat((eda_data.loc[:, ['location','time_index','days_since_first_case']],\n",
    "                                  eda_data.loc[:, column_search(eda_data, 'oxcgrt')].drop(\n",
    "                                      columns=column_search(eda_data, 'flag')).iloc[:,2:10]), axis=1)"
   ]
  },
  {
   "cell_type": "code",
   "execution_count": 69,
   "metadata": {},
   "outputs": [],
   "source": [
    "countries_with_all_responses = None\n",
    "for i, country_indices in enumerate(country_groupby(government_responses)):\n",
    "    government_responses.loc[country_indices,:] = government_responses.loc[country_indices,:].fillna(method='ffill')\n",
    "    has_all_flags = (government_responses.loc[country_indices,:].max() == 0).sum()\n",
    "    if has_all_flags != 0:\n",
    "        pass\n",
    "    else:\n",
    "        if countries_with_all_responses is None:\n",
    "            countries_with_all_responses = government_responses.loc[country_indices,:]\n",
    "        else:\n",
    "            countries_with_all_responses = pd.concat((countries_with_all_responses, government_responses.loc[country_indices,:]),axis=0)\n",
    "\n",
    "see_if_country_has_all_dates =countries_with_all_responses.groupby('location').count().sort_values(by='time_index') \n",
    "drop_these_countries = np.unique(np.where(~(see_if_country_has_all_dates == df.time_index.nunique()))[0])\n",
    "countries_with_all_responses = countries_with_all_responses[~countries_with_all_responses.location.isin(drop_these_countries)]"
   ]
  },
  {
   "cell_type": "code",
   "execution_count": 70,
   "metadata": {},
   "outputs": [
    {
     "data": {
      "text/plain": [
       "Index(['days_with_infection', 'c1_school_closing_oxcgrt',\n",
       "       'c2_workplace_closing_oxcgrt', 'c3_cancel_public_events_oxcgrt',\n",
       "       'c4_restrictions_on_gatherings_oxcgrt',\n",
       "       'c5_close_public_transport_oxcgrt',\n",
       "       'c6_stay_at_home_requirements_oxcgrt',\n",
       "       'c7_restrictions_on_internal_movement_oxcgrt',\n",
       "       'c8_international_travel_controls_oxcgrt'],\n",
       "      dtype='object')"
      ]
     },
     "execution_count": 70,
     "metadata": {},
     "output_type": "execute_result"
    }
   ],
   "source": [
    "pd.Index(['days_with_infection']).append(countries_with_all_responses.columns[3:])"
   ]
  },
  {
   "cell_type": "code",
   "execution_count": 71,
   "metadata": {},
   "outputs": [],
   "source": [
    "response_ranges = []\n",
    "responses = pd.Index(['active_pandemic_dates']).append(countries_with_all_responses.columns[3:])\n",
    "for country_indices in country_groupby(countries_with_all_responses):\n",
    "    tmp = countries_with_all_responses.loc[country_indices,:].replace(to_replace=[0,0.], value=np.nan)\n",
    "    for c in tmp.columns[2:]:\n",
    "        active_range = tmp.set_index('time_index').loc[:,c].dropna()\n",
    "        response_ranges.append(pd.IndexSlice[int(active_range.index.min()):int(active_range.index.max()+1)])\n",
    "        \n",
    "response_slices_df = pd.DataFrame(np.array(response_ranges).reshape(countries_with_all_responses.location.nunique(), -1),\n",
    "                                 index=countries_with_all_responses.location.unique(), columns=responses)\n"
   ]
  },
  {
   "cell_type": "code",
   "execution_count": 72,
   "metadata": {},
   "outputs": [],
   "source": [
    "start_dates = response_slices_df.applymap(lambda x : x.start)\n",
    "stop_dates = response_slices_df.applymap(lambda x : x.stop)\n",
    "start_dates.columns =[x[0] for x in response_slices_df.columns.str.split('_oxcgrt')]"
   ]
  },
  {
   "cell_type": "code",
   "execution_count": 73,
   "metadata": {
    "scrolled": false
   },
   "outputs": [
    {
     "data": {
      "image/png": "[encoded data removed]",
      "text/plain": [
       "<Figure size 1440x1440 with 81 Axes>"
      ]
     },
     "metadata": {
      "needs_background": "light"
     },
     "output_type": "display_data"
    }
   ],
   "source": [
    "_ = pd.plotting.scatter_matrix(start_dates, figsize=(20,20))"
   ]
  },
  {
   "cell_type": "code",
   "execution_count": 74,
   "metadata": {},
   "outputs": [
    {
     "data": {
      "text/plain": [
       "Afghanistan      56.375\n",
       "Albania          47.125\n",
       "Algeria          57.500\n",
       "Angola           58.000\n",
       "Argentina        55.250\n",
       "                  ...  \n",
       "United States    44.875\n",
       "Uzbekistan       55.375\n",
       "Venezuela        61.500\n",
       "Vietnam          39.000\n",
       "Zimbabwe         54.500\n",
       "Length: 104, dtype: float64"
      ]
     },
     "execution_count": 74,
     "metadata": {},
     "output_type": "execute_result"
    }
   ],
   "source": [
    "average_response_date = response_slices_df.applymap(lambda x : x.start).iloc[:, 1:].mean(1)\n",
    "average_response_date"
   ]
  },
  {
   "cell_type": "code",
   "execution_count": 75,
   "metadata": {},
   "outputs": [],
   "source": [
    "reaction_times = average_response_date.astype(int) - response_slices_df.applymap(lambda x : x.start).active_pandemic_dates"
   ]
  },
  {
   "cell_type": "code",
   "execution_count": 76,
   "metadata": {},
   "outputs": [
    {
     "data": {
      "image/png": "[encoded data removed]",
      "text/plain": [
       "<Figure size 432x288 with 1 Axes>"
      ]
     },
     "metadata": {
      "needs_background": "light"
     },
     "output_type": "display_data"
    }
   ],
   "source": [
    "_ = plt.hist(reaction_times, bins=30)"
   ]
  },
  {
   "cell_type": "code",
   "execution_count": 77,
   "metadata": {},
   "outputs": [
    {
     "ename": "AttributeError",
     "evalue": "'DataFrame' object has no attribute 'total_deaths'",
     "output_type": "error",
     "traceback": [
      "\u001b[1;31m---------------------------------------------------------------------------\u001b[0m",
      "\u001b[1;31mAttributeError\u001b[0m                            Traceback (most recent call last)",
      "\u001b[1;32m<ipython-input-77-d2905f12f6c3>\u001b[0m in \u001b[0;36m<module>\u001b[1;34m\u001b[0m\n\u001b[1;32m----> 1\u001b[1;33m \u001b[0mdf\u001b[0m\u001b[1;33m[\u001b[0m\u001b[0mdf\u001b[0m\u001b[1;33m.\u001b[0m\u001b[0mtime_index\u001b[0m\u001b[1;33m==\u001b[0m\u001b[0mdf\u001b[0m\u001b[1;33m.\u001b[0m\u001b[0mtime_index\u001b[0m\u001b[1;33m.\u001b[0m\u001b[0mmax\u001b[0m\u001b[1;33m(\u001b[0m\u001b[1;33m)\u001b[0m\u001b[1;33m]\u001b[0m\u001b[1;33m.\u001b[0m\u001b[0mtotal_deaths\u001b[0m\u001b[1;33m\u001b[0m\u001b[1;33m\u001b[0m\u001b[0m\n\u001b[0m",
      "\u001b[1;32mC:\\ProgramData\\Anaconda3\\lib\\site-packages\\pandas\\core\\generic.py\u001b[0m in \u001b[0;36m__getattr__\u001b[1;34m(self, name)\u001b[0m\n\u001b[0;32m   5272\u001b[0m             \u001b[1;32mif\u001b[0m \u001b[0mself\u001b[0m\u001b[1;33m.\u001b[0m\u001b[0m_info_axis\u001b[0m\u001b[1;33m.\u001b[0m\u001b[0m_can_hold_identifiers_and_holds_name\u001b[0m\u001b[1;33m(\u001b[0m\u001b[0mname\u001b[0m\u001b[1;33m)\u001b[0m\u001b[1;33m:\u001b[0m\u001b[1;33m\u001b[0m\u001b[1;33m\u001b[0m\u001b[0m\n\u001b[0;32m   5273\u001b[0m                 \u001b[1;32mreturn\u001b[0m \u001b[0mself\u001b[0m\u001b[1;33m[\u001b[0m\u001b[0mname\u001b[0m\u001b[1;33m]\u001b[0m\u001b[1;33m\u001b[0m\u001b[1;33m\u001b[0m\u001b[0m\n\u001b[1;32m-> 5274\u001b[1;33m             \u001b[1;32mreturn\u001b[0m \u001b[0mobject\u001b[0m\u001b[1;33m.\u001b[0m\u001b[0m__getattribute__\u001b[0m\u001b[1;33m(\u001b[0m\u001b[0mself\u001b[0m\u001b[1;33m,\u001b[0m \u001b[0mname\u001b[0m\u001b[1;33m)\u001b[0m\u001b[1;33m\u001b[0m\u001b[1;33m\u001b[0m\u001b[0m\n\u001b[0m\u001b[0;32m   5275\u001b[0m \u001b[1;33m\u001b[0m\u001b[0m\n\u001b[0;32m   5276\u001b[0m     \u001b[1;32mdef\u001b[0m \u001b[0m__setattr__\u001b[0m\u001b[1;33m(\u001b[0m\u001b[0mself\u001b[0m\u001b[1;33m,\u001b[0m \u001b[0mname\u001b[0m\u001b[1;33m:\u001b[0m \u001b[0mstr\u001b[0m\u001b[1;33m,\u001b[0m \u001b[0mvalue\u001b[0m\u001b[1;33m)\u001b[0m \u001b[1;33m->\u001b[0m \u001b[1;32mNone\u001b[0m\u001b[1;33m:\u001b[0m\u001b[1;33m\u001b[0m\u001b[1;33m\u001b[0m\u001b[0m\n",
      "\u001b[1;31mAttributeError\u001b[0m: 'DataFrame' object has no attribute 'total_deaths'"
     ]
    }
   ],
   "source": [
    "df[df.time_index==df.time_index.max()].total_deaths"
   ]
  },
  {
   "cell_type": "code",
   "execution_count": null,
   "metadata": {},
   "outputs": [],
   "source": [
    "death_rates = (100*df.total_deaths / df.total_cases).loc[df.time_index==df.time_index.max()].values\n",
    "death_rates = pd.Series(death_rates, index=df.location.unique())\n",
    "death_rates"
   ]
  },
  {
   "cell_type": "code",
   "execution_count": null,
   "metadata": {},
   "outputs": [],
   "source": [
    "reaction_times"
   ]
  },
  {
   "cell_type": "code",
   "execution_count": null,
   "metadata": {},
   "outputs": [],
   "source": [
    "countries_with_all_reactions = reaction_times.index.intersection(death_rates.index)"
   ]
  },
  {
   "cell_type": "code",
   "execution_count": null,
   "metadata": {},
   "outputs": [],
   "source": [
    "len(countries_with_all_reactions)"
   ]
  },
  {
   "cell_type": "code",
   "execution_count": null,
   "metadata": {},
   "outputs": [],
   "source": [
    "reaction_times.loc[countries_with_all_reactions]"
   ]
  },
  {
   "cell_type": "code",
   "execution_count": null,
   "metadata": {},
   "outputs": [],
   "source": [
    "normalized_reactions = reaction_times.loc[countries_with_all_reactions]\n",
    "normalized_reactions = (normalized_reactions.values - normalized_reactions.values.mean()) / normalized_reactions.values.std()\n"
   ]
  },
  {
   "cell_type": "code",
   "execution_count": null,
   "metadata": {},
   "outputs": [],
   "source": [
    "normalized_death_rates = death_rates.loc[countries_with_all_reactions]\n",
    "normalized_death_rates = (normalized_death_rates - normalized_death_rates.mean()) / normalized_death_rates.std()"
   ]
  },
  {
   "cell_type": "code",
   "execution_count": null,
   "metadata": {},
   "outputs": [],
   "source": [
    "len(normalized_reactions)"
   ]
  },
  {
   "cell_type": "code",
   "execution_count": null,
   "metadata": {},
   "outputs": [],
   "source": [
    "normalized_death_rates"
   ]
  },
  {
   "cell_type": "code",
   "execution_count": null,
   "metadata": {},
   "outputs": [],
   "source": [
    "len(countries_with_all_reactions)"
   ]
  },
  {
   "cell_type": "code",
   "execution_count": null,
   "metadata": {},
   "outputs": [],
   "source": [
    "slope, intercept, r_value, p_value, std_err = scipy.stats.linregress(normalized_reactions, normalized_death_rates)\n",
    "\n",
    "fig, ax = plt.subplots()\n",
    "ax.scatter(normalized_reactions, \n",
    "            normalized_death_rates)\n",
    "ax.plot(np.arange(-5,5), slope*np.arange(-5,5) + intercept, color='r')\n",
    "ax.set_ylim([-4, 4])\n",
    "ax.set_xlim([-4, 4])\n",
    "ax.set_title('Death rate vs. reaction time')\n",
    "ax.grid(True)"
   ]
  },
  {
   "cell_type": "code",
   "execution_count": null,
   "metadata": {},
   "outputs": [],
   "source": [
    "slope, intercept, r_value, p_value, std_err "
   ]
  },
  {
   "cell_type": "markdown",
   "metadata": {},
   "source": [
    "Late responders, first government action AFTER first case."
   ]
  },
  {
   "cell_type": "markdown",
   "metadata": {},
   "source": [
    "Early responders, first government action BEFORE first case."
   ]
  },
  {
   "cell_type": "code",
   "execution_count": null,
   "metadata": {},
   "outputs": [],
   "source": [
    "first_day_responses_sum = countries_with_all_responses[countries_with_all_responses.days_since_first_case == 1].iloc[:, 3:].sum(axis=1)"
   ]
  },
  {
   "cell_type": "code",
   "execution_count": null,
   "metadata": {},
   "outputs": [],
   "source": [
    "countries_with_all_reactions"
   ]
  },
  {
   "cell_type": "code",
   "execution_count": null,
   "metadata": {},
   "outputs": [],
   "source": [
    "countries_with_all_responses"
   ]
  },
  {
   "cell_type": "code",
   "execution_count": null,
   "metadata": {},
   "outputs": [],
   "source": [
    "dates_of_first_responses = countries_with_all_responses[(countries_with_all_responses.location.isin(countries_with_all_reactions))&(countries_with_all_responses.days_since_first_case == 1)].time_index"
   ]
  },
  {
   "cell_type": "code",
   "execution_count": null,
   "metadata": {},
   "outputs": [],
   "source": [
    "dates_of_first_responses"
   ]
  },
  {
   "cell_type": "code",
   "execution_count": null,
   "metadata": {},
   "outputs": [],
   "source": [
    "countries_with_all_responses.location.nunique()"
   ]
  },
  {
   "cell_type": "code",
   "execution_count": null,
   "metadata": {},
   "outputs": [],
   "source": [
    "slope, intercept, r_value, p_value, std_err = scipy.stats.linregress(reaction_times.loc[countries_with_all_reactions],death_rates.loc[countries_with_all_reactions])\n",
    "\n",
    "plt.scatter(dates_of_first_responses, \n",
    "            death_rates.loc[countries_with_all_reactions])\n",
    "plt.plot(np.arange(-60,100), slope*np.arange(-60,100) + intercept, color='r') \n",
    "plt.title('Death rate vs. reaction time')\n",
    "print(slope, intercept, r_value, p_value, std_err)"
   ]
  },
  {
   "cell_type": "code",
   "execution_count": null,
   "metadata": {},
   "outputs": [],
   "source": [
    "early_responders_args = first_day_responses_sum[first_day_responses_sum > 0].index\n",
    "early_responders = countries_with_all_responses.loc[early_responders_args,:].location.values\n",
    "print('\\n The early responders:\\n')\n",
    "print(early_responders)"
   ]
  },
  {
   "cell_type": "code",
   "execution_count": null,
   "metadata": {},
   "outputs": [],
   "source": [
    "late_responders_args = first_day_responses_sum[first_day_responses_sum == 0].index\n",
    "late_responders = countries_with_all_responses.loc[late_responders_args,:].location.values\n",
    "print('The late responders:\\n')\n",
    "print(late_responders)"
   ]
  },
  {
   "cell_type": "code",
   "execution_count": null,
   "metadata": {},
   "outputs": [],
   "source": [
    "late_df = df[df.location.isin(late_responders)]\n",
    "early_df = df[df.location.isin(early_responders)]"
   ]
  },
  {
   "cell_type": "code",
   "execution_count": null,
   "metadata": {},
   "outputs": [],
   "source": [
    "early_df_present_day = early_df[early_df.time_index == df.time_index.max()]\n",
    "late_df_present_day = late_df[late_df.time_index == df.time_index.max()]"
   ]
  },
  {
   "cell_type": "code",
   "execution_count": null,
   "metadata": {},
   "outputs": [],
   "source": [
    "d_rate = pd.Series(death_rates, index=df.location.unique())"
   ]
  },
  {
   "cell_type": "code",
   "execution_count": null,
   "metadata": {},
   "outputs": [],
   "source": [
    "early_d_rates = d_rate.loc[early_df_present_day.location.unique()]\n",
    "late_d_rates = d_rate.loc[late_df_present_day.location.unique()]"
   ]
  },
  {
   "cell_type": "code",
   "execution_count": null,
   "metadata": {},
   "outputs": [],
   "source": [
    "_ = plt.scatter(early_d_rates, early_df_present_day.total_cases.values, label='Early responders')\n",
    "_ = plt.scatter(late_d_rates, late_df_present_day.total_cases.values, label='Late responders')\n",
    "_ = plt.xlabel('Estimated death rate, (% of total cases)')\n",
    "_ = plt.ylabel('Number of cases per million people')\n",
    "_ = plt.legend(loc=(0.6,0.2))\n",
    "_ = plt.yscale('log')\n",
    "# plt.plot(np.sort(death_rate))"
   ]
  },
  {
   "cell_type": "markdown",
   "metadata": {},
   "source": [
    "Does not seem to be any obvious partition between early and late responders."
   ]
  },
  {
   "cell_type": "code",
   "execution_count": null,
   "metadata": {},
   "outputs": [],
   "source": [
    "dftmp = pd.concat((df, (df.total_deaths / df.total_cases).to_frame(name='death_rates')),axis=1)\n",
    "xcr = dftmp.corr()"
   ]
  },
  {
   "cell_type": "code",
   "execution_count": null,
   "metadata": {},
   "outputs": [],
   "source": [
    "xcr.loc['death_rates',:].sort_values()"
   ]
  },
  {
   "cell_type": "code",
   "execution_count": null,
   "metadata": {},
   "outputs": [],
   "source": [
    "# m1_wildcard (-1) is nan, -2 is deaths rates.\n",
    "xcr.loc['death_rates',:].sort_values()[:-2].plot.hist()"
   ]
  },
  {
   "cell_type": "code",
   "execution_count": null,
   "metadata": {},
   "outputs": [],
   "source": [
    "ncountrylist = []\n",
    "for n in range(df.time_index.min(), df.time_index.max()+1):\n",
    "    ncountrylist.append((df.location.nunique()-df[df.days_since_first_case > n].location.nunique()))\n",
    "plt.plot(df.date.unique(), ncountrylist)\n",
    "plt.ylim([0, df.location.nunique()+1])\n",
    "plt.title('')\n",
    "plt.ylabel('Number of infected countries')\n",
    "plt.xlabel('Date')\n",
    "_ = plt.show()"
   ]
  },
  {
   "cell_type": "code",
   "execution_count": null,
   "metadata": {},
   "outputs": [],
   "source": [
    "ncountrylist = []\n",
    "for n in range(0, df.time_index.nunique()):\n",
    "    ncountrylist.append(100*(df.location.nunique()-df[df.days_since_first_case > n].location.nunique())/df.location.nunique())\n",
    "plt.plot(df.date.unique(), ncountrylist)\n",
    "plt.ylim([0, 100])\n",
    "plt.title('Number of reporting countries with cases')\n",
    "plt.ylabel('Percentage of countries')\n",
    "plt.xlabel('Date')\n",
    "_ = plt.show()"
   ]
  },
  {
   "cell_type": "code",
   "execution_count": null,
   "metadata": {},
   "outputs": [],
   "source": [
    "maxima_of_new_cases_weighted_series"
   ]
  },
  {
   "cell_type": "code",
   "execution_count": null,
   "metadata": {},
   "outputs": [],
   "source": [
    "dftmp.location.nunique()"
   ]
  },
  {
   "cell_type": "code",
   "execution_count": null,
   "metadata": {},
   "outputs": [],
   "source": [
    "df.groupby('date').mean().new_cases_weighted.plot()"
   ]
  },
  {
   "cell_type": "code",
   "execution_count": null,
   "metadata": {
    "scrolled": false
   },
   "outputs": [],
   "source": [
    "dftmp = df[df.time_index >= 40]\n",
    "dftmp = dftmp[dftmp.location.isin(dftmp[dftmp.days_since_first_case > 60].location.unique())]\n",
    "maxima_of_new_cases_weighted_series = dftmp.set_index(['time_index','location']).new_cases_weighted.unstack().max().sort_values().index\n",
    "dftmp.set_index(['time_index','location']).loc[pd.IndexSlice[:, maxima_of_new_cases_weighted_series],:].new_cases_weighted.unstack().plot(legend=False,figsize=(10,10))\n",
    "# plt.legend(loc=(1,0))\n",
    "\n"
   ]
  },
  {
   "cell_type": "code",
   "execution_count": null,
   "metadata": {},
   "outputs": [],
   "source": []
  },
  {
   "cell_type": "code",
   "execution_count": null,
   "metadata": {},
   "outputs": [],
   "source": []
  },
  {
   "cell_type": "code",
   "execution_count": null,
   "metadata": {},
   "outputs": [],
   "source": []
  },
  {
   "cell_type": "code",
   "execution_count": null,
   "metadata": {},
   "outputs": [],
   "source": []
  }
 ],
 "metadata": {
  "kernelspec": {
   "display_name": "Python 3",
   "language": "python",
   "name": "python3"
  },
  "language_info": {
   "codemirror_mode": {
    "name": "ipython",
    "version": 3
   },
   "file_extension": ".py",
   "mimetype": "text/x-python",
   "name": "python",
   "nbconvert_exporter": "python",
   "pygments_lexer": "ipython3",
   "version": "3.7.6"
  }
 },
 "nbformat": 4,
 "nbformat_minor": 4
}
