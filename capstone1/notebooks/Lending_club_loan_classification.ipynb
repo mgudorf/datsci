{
 "cells": [
  {
   "cell_type": "code",
   "execution_count": 1,
   "metadata": {},
   "outputs": [],
   "source": [
    "import pandas as pd\n",
    "import numpy as np\n",
    "import matplotlib.pyplot as plt\n",
    "import seaborn as sns\n",
    "import sys, os\n",
    "from sklearn.linear_model import LogisticRegression\n",
    "import matplotlib.pyplot as plt\n",
    "from sklearn.model_selection import train_test_split\n",
    "from sklearn.feature_selection import RFE\n",
    "from sklearn.metrics import confusion_matrix, classification_report, roc_auc_score, roc_curve, ConfusionMatrixDisplay\n",
    "from sklearn.metrics import precision_recall_curve, precision_recall_fscore_support, plot_precision_recall_curve\n",
    "from sklearn.metrics import cohen_kappa_score\n",
    "from sklearn.model_selection import train_test_split, KFold, cross_val_score, GridSearchCV, TimeSeriesSplit\n",
    "from sklearn.preprocessing import KBinsDiscretizer, OneHotEncoder, Binarizer, StandardScaler\n",
    "from sklearn.feature_selection import RFECV\n",
    "from sklearn.linear_model import LinearRegression\n",
    "from sklearn.compose import ColumnTransformer\n",
    "from sklearn.preprocessing import scale, StandardScaler, MinMaxScaler, QuantileTransformer\n",
    "from sklearn.metrics import average_precision_score, cohen_kappa_score\n",
    "from sklearn.ensemble import RandomForestClassifier, GradientBoostingClassifier,AdaBoostClassifier\n",
    "from sklearn.pipeline import make_pipeline, Pipeline\n",
    "from sklearn.decomposition import PCA, SparsePCA \n",
    "from joblib import Parallel, delayed\n",
    "import itertools\n",
    "%matplotlib inline"
   ]
  },
  {
   "cell_type": "markdown",
   "metadata": {},
   "source": [
    "# Capital loss prevention : loan outcome prediction"
   ]
  },
  {
   "cell_type": "code",
   "execution_count": 2,
   "metadata": {},
   "outputs": [],
   "source": [
    "def my_feature_transformer(X, num_features, cat_features, date_features, num_transformer=StandardScaler()):\n",
    "    ''' Transform features using a column transformer. \n",
    "    \n",
    "    A DataFrame which takes mixed \"Missing\" and datetime values, separates out the \"Missing\"\n",
    "    and then performs two operations. First, the 'Missing' column is one-hot encoded, second,\n",
    "    the datetime variables are binned and encoded using KBinsDiscretizer, using a uniform bin\n",
    "    width strategy. \n",
    "\n",
    "    Parameters\n",
    "    ----------\n",
    "\n",
    "    X : DataFrame (n_samples, n_features)\n",
    "         \n",
    "        Dataframe which contains training data. \n",
    "\n",
    "    num_features : list, Pandas index\n",
    "    \n",
    "        List of Pandas Index of the name of columns that contain numerical features.\n",
    "         \n",
    "\n",
    "    cat_features : list, Pandas index\n",
    "    \n",
    "        List of Pandas Index of the name of columns that contain categorical features.\n",
    "         \n",
    "    date_features : list, Pandas index\n",
    "    \n",
    "        List of Pandas Index of the name of columns that contain categorical features.\n",
    "         \n",
    "        Dataframe which contains datetime features and value \"Missing\" which indicates missing values.\n",
    "\n",
    "    num_transformer : scikit-learn Transformer\n",
    "         \n",
    "        scikit-learn scaler such as QuantileTransformer(), MinMaxScaler(), etc.\n",
    "\n",
    "    Returns\n",
    "    -------\n",
    "\n",
    "    col_transformer : ColumnTransformer instance\n",
    "    \n",
    "         Transformer that can be used to rescale and encode data. \n",
    "            \n",
    "    '''\n",
    "    \n",
    "    transformer_list = []\n",
    "    if num_transformer is not None:\n",
    "        transformer_list += [('num', num_transformer, num_features)] \n",
    "\n",
    "    if cat_features is not None:        \n",
    "        #uniq_categories = [list(np.sort(X[col].unique()))+['Missing','Unknown'] for col in cat_features]\n",
    "        uniq_categories = [list(np.sort(X[col].unique())) for col in cat_features]\n",
    "        # Previously dropped first category, this is more strategic.\n",
    "        least_populated_categories = [X[col].value_counts().idxmin() for col in cat_features]\n",
    "        cat_transformer = OneHotEncoder(categories=uniq_categories, drop=least_populated_categories)\n",
    "        transformer_list += [('cat', cat_transformer, cat_features)] \n",
    "        \n",
    "    if date_features is not None:             \n",
    "        transformer_list += [('my_kbd', 'passthrough', date_features)] \n",
    "\n",
    "    col_transformer = ColumnTransformer(transformers=transformer_list)\n",
    "\n",
    "    return col_transformer\n",
    "\n",
    "\n",
    "# Function that combines different classification metrics to avoid repeated large blocks of code.\n",
    "# Produces the confusion matrix, classification report (precision, recall, f1-score,..)\n",
    "# ROC-AUC and ROC curve\n",
    "# Precision-recall curve\n",
    "\n",
    "def my_score(clf, X_test, y_test):\n",
    "    ''' Predict using trained scikit-learn estimator and compute the explained variance score.  \n",
    "\n",
    "    Parameters\n",
    "    ----------\n",
    "    X_test : ndarray or DataFrame (n_samples, n_features)\n",
    "             Feature data to test. n_features represents the number of features\n",
    "             present in the data used to train the estimator clf\n",
    "\n",
    "    y_test : ndarray (n_samples, )\n",
    "             Target data to test. \n",
    "\n",
    "\n",
    "    clf : scikit-learn estimator which has been fit to data with same number of columns as X_test\n",
    "\n",
    "    '''\n",
    "    y_predict_proba= clf.predict_proba(X_test)[:,1]\n",
    "    return roc_auc_score(y_test, y_predict_proba)\n",
    "\n",
    "\n",
    "def classifier_analysis(clf, xt, yt):\n",
    "    ''' Predict and measure quality of model with a variety of metrics.   \n",
    "\n",
    "    Parameters\n",
    "    ----------\n",
    "\n",
    "    xt : ndarray or DataFrame (n_samples, n_features)\n",
    "             Feature data to test. n_features represents the number of features\n",
    "             present in the data used to train the estimator clf\n",
    "\n",
    "    yt : ndarray (n_samples, )\n",
    "             Target data to test. \n",
    "\n",
    "\n",
    "    clf : scikit-learn estimator which has been fit to data with same number of columns as X_test\n",
    "\n",
    "    '''\n",
    "    y_predict = clf.predict(xt)\n",
    "    y_predict_proba= clf.predict_proba(xt)[:,1]\n",
    "\n",
    "    cm = confusion_matrix(yt, y_predict, labels=[0,1])#,dtype=float)\n",
    "    # negative guesses\n",
    "#     cm[:, 0] = cm[:, 0] / (len(yt) - yt.sum())\n",
    "#     cm[:, 1] = cm[:, 1] / yt.sum()\n",
    "    print('tn, fp, fn, tp', cm.ravel())\n",
    "    _ = ConfusionMatrixDisplay(cm / (yt.size), [0,1]).plot()\n",
    "    \n",
    "    print(classification_report(yt, y_predict))\n",
    "\n",
    "    roc_auc = roc_auc_score(yt, y_predict_proba)\n",
    "    fpr, tpr, thresholds = roc_curve(yt, y_predict_proba)\n",
    "\n",
    "    plt.figure()\n",
    "    plt.plot(fpr, tpr, label=(clf.__class__.__name__ + '(area = %0.2f)' % roc_auc))\n",
    "    plt.plot([0, 1], [0, 1],'r--')\n",
    "    plt.xlim([0.0, 1.0])\n",
    "    plt.ylim([0.0, 1.05])\n",
    "    plt.xlabel('False Positive Rate')\n",
    "    plt.ylabel('True Positive Rate')\n",
    "    plt.title('Receiver operating characteristic')\n",
    "    plt.legend(loc=\"lower right\")\n",
    "    plt.show()\n",
    "\n",
    "    average_precision = average_precision_score(yt, y_predict_proba)\n",
    "    precision, recall, thresholds = precision_recall_curve(yt, y_predict_proba)\n",
    "    disp = plot_precision_recall_curve(clf, xt, yt)\n",
    "    disp.ax_.set_ylim([0.0, 1.0])\n",
    "    disp.ax_.set_title('2-class Precision-Recall curve: '\n",
    "                   'AP={0:0.2f}'.format(average_precision))\n",
    "    plt.show()\n",
    "    \n",
    "    return roc_auc\n",
    "\n",
    "\n",
    "\n",
    "def scale_features(col_transformer_, X_train, X_test):\n",
    "    _ = col_transformer_.fit(X_train)\n",
    "    X_train = col_transformer_.transform(X_train)\n",
    "    X_test = col_transformer_.transform(X_test)\n",
    "    return X_train, X_test"
   ]
  },
  {
   "cell_type": "code",
   "execution_count": 3,
   "metadata": {},
   "outputs": [],
   "source": [
    "def fit_model_(estimator, X_traintest, y_traintest, train, test):\n",
    "    num_features = X_traintest.select_dtypes(exclude=['object','category']).columns\n",
    "    cat_features = X_traintest.select_dtypes(include=['object','category']).columns\n",
    "    date_features = None\n",
    "    \n",
    "    X_train, X_test = X_traintest.loc[train,:], X_traintest.loc[test,:]\n",
    "    y_train, y_test = y_traintest.loc[train].values.ravel(), y_traintest.loc[test].values.ravel()\n",
    "    \n",
    "    col_transformer_ = my_feature_transformer(X, num_features, cat_features, date_features, num_transformer=StandardScaler())\n",
    "    X_train, X_test  = scale_features(col_transformer_, X_train, X_test)\n",
    "    \n",
    "    _ = estimator.fit(X_train, y_train)    \n",
    "    return (estimator, X_test, y_test)\n",
    "\n",
    "def param_grid_iterable(params):\n",
    "    keys = sorted(params)\n",
    "    combinations = list(itertools.product(*(params[key] if type(params[key]) in [list, dict, np.ndarray] else [params[key]]\n",
    "                                            for key in keys)))\n",
    "    cvsorted = [dict(zip(len(c)*keys, c)) for c in combinations]\n",
    "    return cvsorted\n",
    "\n",
    "def my_cross_validate(estimator, X_traintest, y_traintest, train_test_iterable, param_grid, n_jobs=-2):\n",
    "    mean_scores = []\n",
    "    # cv_params needs to make sense for the estimator given\n",
    "    param_grid_list = param_grid_iterable(param_grid)\n",
    "    for params_ in param_grid_list:\n",
    "        with Parallel(n_jobs=n_jobs, max_nbytes=None) as parallel:\n",
    "            fitted_models_and_test_splits = parallel(delayed(fit_model_)(estimator(**params_), \n",
    "                                                          X_traintest, y_traintest, train, test)\n",
    "                                  for (train, test) in train_test_iterable)\n",
    "            \n",
    "        with Parallel(n_jobs=n_jobs, max_nbytes=None) as parallel:\n",
    "            fitted_models_and_test_splits = parallel(delayed(fit_model_)(estimator(**params_), \n",
    "                                                          X_traintest, y_traintest, train, test)\n",
    "                                  for (train, test) in train_test_iterable)\n",
    "            # Get averages (explained variance) score for this model\n",
    "            scores = parallel(delayed(my_score)(model_, xt, yt) for (model_, xt, yt) in fitted_models_and_test_splits) \n",
    "            mean_scores += [np.mean(list(scores))]\n",
    "            \n",
    "    \n",
    "    best_params_ = param_grid_list[np.argmax(np.array(mean_scores))]\n",
    "    return estimator(**best_params_) \n",
    "\n",
    "\n",
    "# Convert date-like + 'Missing' valued features to one-hot encoded columns; uses KBins on the years of the date-like, which \n",
    "# bins then one-hot encodes, while also one-hot encoding 'Missing' separately. \n",
    "def encode_dates_and_missing(df):\n",
    "    for i, seriesname in enumerate(df.columns):\n",
    "        series = df[seriesname]\n",
    "        series_missing = pd.get_dummies(series[series=='Missing'])\n",
    "        series_notmissing = series[series!='Missing']\n",
    "        notmiss_index = series_notmissing.index\n",
    "        \n",
    "        kbd = KBinsDiscretizer(n_bins=5, strategy='uniform')\n",
    "        series_dt = pd.to_datetime(series_notmissing).dt.year\n",
    "        encoded_series = kbd.fit_transform(series_dt.values.reshape(-1,1))\n",
    "        encoded_series = pd.DataFrame(kbd.fit_transform(series_dt.values.reshape(-1,1)).toarray(),index=notmiss_index).astype(int)\n",
    "        least_populated_feature = np.array([encoded_series[col].sum() for col in encoded_series.columns]).argmin()\n",
    "        encoded_series = encoded_series.drop(columns=encoded_series.columns[least_populated_feature])\n",
    "        encoded_series.columns = [seriesname+'_'+str(col) for col in encoded_series.columns]\n",
    "        if i == 0: \n",
    "            encoded_df = encoded_series\n",
    "        else:\n",
    "            encoded_df = pd.concat((encoded_df,encoded_series),axis=1)\n",
    "            \n",
    "    return encoded_df\n"
   ]
  },
  {
   "cell_type": "markdown",
   "metadata": {},
   "source": [
    "Need to take into consideration the time dependence element of this problem. The original goal is to create a predictive model that attempts to determine whether or not to issue a loan based on the learning what factors are likely to lead to a charged-off (defaulted) loan. Before we can begin there are a number of considerations that need to be performed first before the actually modeling process can begin. The necessary actions that must be taken are\n",
    "\n",
    "    1. Accounting for the time dependent nature of this problem.\n",
    "    2. Handling heterogeneous data types and preprocessing\n",
    "    4. Deciding on the model to be used, both in terms of hyperparameters and algorithms\n",
    "    5. Accounting for any unexpected results.\n",
    "    6. Analysis of the chosen model."
   ]
  },
  {
   "cell_type": "code",
   "execution_count": 4,
   "metadata": {},
   "outputs": [],
   "source": [
    "# Import the data that has been prepared for this problem.\n",
    "loan_data = pd.read_csv('../data/classification_loan_data_ind.csv', index_col=False)"
   ]
  },
  {
   "cell_type": "markdown",
   "metadata": {},
   "source": [
    "For the loan outcome prediction portion of this project, only the loans which have both matured are considered.\n",
    "Additionally, in this subset of loans there are a number of outcomes but by far the most highly populated are loans which have been fully paid or charged off. This can be formulated as a binary classification problem: the loans that are charged-off\n",
    "will be denoted as \"successes\" or by the integer 1. Likewise, loans which have been fully paid off will be denoted as \"failure\"\n",
    "by assigning these the integer 0. "
   ]
  },
  {
   "cell_type": "markdown",
   "metadata": {},
   "source": [
    "## 1. Time-dependency\n",
    "The first main hurdle that we need to overcome is the time dependent nature of the problem. If not handled carefully, we could accidentally perform what is known as \"data snooping\", which is the contamination of the model by inclusion of information from\n",
    "the future. The two main effects that this time dependency has are\n",
    " \n",
    "- Multiple time dependent variables\n",
    "- Time ordered cross validation folds\n",
    "\n",
    "To account for the first of these issues, all variables that are recorded at times more recent than the issuance date\n",
    "of the loan are removed. The features which are removed all involve measurements in the recent past or present such as \"in the past twelve months\". Some of the features are ambiguous and so we lean on the side of caution by removing these features as well. By including only loans which have matured, the correct description that these models produce is **predict whether a loan will default by the maturity date**. The maturity date depends on the term of the loan; it might be wise to separate the loans by term but currently this is not done.\n",
    "\n",
    "To handle the second of these bullet points, the cross validation process as well as the folds will be customly made, instead\n",
    "of using scikit-learn's TimeSeriesSplit() for instance. This is to be as confident as possible that there is no data snooping. Additionally, there are some considerations regarding encoding and preprocessing that are best handled by a custom cross-validation procedure."
   ]
  },
  {
   "cell_type": "code",
   "execution_count": 5,
   "metadata": {},
   "outputs": [],
   "source": [
    "# This step will be deprecated after newest data cleaning run. \n",
    "issued_datetime = pd.to_datetime(loan_data.issue_d, format='%b-%Y').sort_values()\n",
    "loan_data = loan_data.loc[issued_datetime.sort_values().index,:]"
   ]
  },
  {
   "cell_type": "markdown",
   "metadata": {},
   "source": [
    "Have the cross validation folds, now need to create procedure which correctly preprocesses them before testing. Training component of folds are cumulative over time; always want to use as much information as possible.\n",
    "\n",
    "Create a \"hold-out\" set of data that will used for final predictions and analysis after all cross-validation and\n",
    "model learning has been accomplished. The loan issuance dates are aggregated by month, but from the metadata we know that the data is reported *quarterly*. Using this as motivation, the hold-out data will be the most recent quarter. Because the number of loans has grown over time, this one quarter represents nearly $1 / 7$ of all loan data of loans that have either been fully paid or charged off."
   ]
  },
  {
   "cell_type": "code",
   "execution_count": 6,
   "metadata": {},
   "outputs": [],
   "source": [
    "# Data goes from second quarter of 2007 to fourth quarter of 2015; the number of samples are skewed toawrds later dates;\n",
    "# The data is reported quarterly; this should be represented in the cross validation/model selection process.\n",
    "pind = pd.PeriodIndex(issued_datetime, freq='M')"
   ]
  },
  {
   "cell_type": "markdown",
   "metadata": {},
   "source": [
    "KBins needs numerical variables; use year.quarter (number.decimal). This transformation is not applied to the training data; it's just used"
   ]
  },
  {
   "cell_type": "code",
   "execution_count": 7,
   "metadata": {},
   "outputs": [],
   "source": [
    "# Forget quarters, use month and year\n",
    "numerical_dt = 12*(pind.year-pind.year.min()) + pind.month\n",
    "\n",
    "nb=6\n",
    "kbd = KBinsDiscretizer(n_bins=nb)\n",
    "bin_masks = kbd.fit_transform(numerical_dt.values.reshape(-1, 1)).toarray()"
   ]
  },
  {
   "cell_type": "markdown",
   "metadata": {},
   "source": [
    "Size of the cross-validation folds"
   ]
  },
  {
   "cell_type": "code",
   "execution_count": 8,
   "metadata": {},
   "outputs": [
    {
     "data": {
      "text/plain": [
       "array([76780., 87727., 64957., 88374., 95477., 85483.])"
      ]
     },
     "execution_count": 8,
     "metadata": {},
     "output_type": "execute_result"
    }
   ],
   "source": [
    "np.sum(bin_masks, axis=0)"
   ]
  },
  {
   "cell_type": "markdown",
   "metadata": {},
   "source": [
    "## 2. Heterogeneous data types"
   ]
  },
  {
   "cell_type": "markdown",
   "metadata": {},
   "source": [
    "Strictly speaking there are two different data types in the feature data, numerical (float) and categorical (object, could be\n",
    "cast as string). The categorical variables will be encoded and represented by binary numerical columns. Practically speaking it gets more detailed; some of the categorical variables have many categories, of\n",
    "the order of a thousand. Let's have a look to see how we should proceed."
   ]
  },
  {
   "cell_type": "code",
   "execution_count": 9,
   "metadata": {},
   "outputs": [
    {
     "data": {
      "text/plain": [
       "grade                    7\n",
       "sub_grade               35\n",
       "emp_length              12\n",
       "home_ownership           6\n",
       "issue_d                 41\n",
       "purpose                 14\n",
       "zip_code               907\n",
       "addr_state              51\n",
       "term                     2\n",
       "earliest_cr_line       676\n",
       "initial_list_status      2\n",
       "dtype: int64"
      ]
     },
     "execution_count": 9,
     "metadata": {},
     "output_type": "execute_result"
    }
   ],
   "source": [
    "loan_data.select_dtypes(include='object').nunique()"
   ]
  },
  {
   "cell_type": "markdown",
   "metadata": {},
   "source": [
    "The most diverse categorical variables will be handled in one of two ways: we shall argue that they are\n",
    "either unnecessary or reduce the number of categories via binning.\n",
    "The following are the choices made for these variables: originally the choice was made to remove all but the first two digits\n",
    "of the zip_code (there are only three recorded). This in fact lowers the resolution to a point where the state of residence is more precise; therefore, I believe that the zip_code can be dropped as it isn't informative. For the categorical variables which may be cast as datetime variables, **['earliest credit_line', 'issue_d']** the number of categories will be reduces by application of a binning strategy. The binning for the issuance date is naturally handled when the cross-validation folds are\n",
    "being produced, as this is the determining time dependent quantity. More specifically, we drop the issuance date from the calculation because based on the folds, the training and testing data will never intersect by definition; which I believe implies that the model will not know what to do. For the earliest_credit_line dates it is less obvious as how to proceed. The earliest credit line is thought of to be a proxy for age groups. Depending on the context, demographic age groups can be quite large in terms of the age spread. Therefore, I believe that only creating a few bins for this variable is\n",
    "sufficient. Applying the same argument comparing zip_code and addr_state, I remove the 'grade' of the loan in favor of keeping the subgrade. The grades take the values such as 'A', 'B', 'C' while the sub-grade is more specific 'A1', 'A2', ... 'E4', 'E5'.\n",
    "Therefore before the modeling process the following steps shall be taken:\n",
    "\n",
    "    1. Remove target variable from feature data\n",
    "    2. Remove more coarse categorical variables\n",
    "    3. Encode datetime-like categorical variables with KBinsDiscretizer (OneHotEncoding strategy).\n",
    "    4. Encode remaining categorical variables with OneHotEncoder (scitkit-learn)\n",
    "    \n",
    "Note: To avoid colinearity in the one-hot encoding process, the category with the lowest frequency is dropped (for each feature)."
   ]
  },
  {
   "cell_type": "code",
   "execution_count": 10,
   "metadata": {},
   "outputs": [],
   "source": [
    "# Remove target variable\n",
    "y = loan_data.loan_status.astype(int)\n",
    "# Dump everything with high correlations\n",
    "X = loan_data.drop(columns=['loan_status', 'zip_code', 'issue_d', 'earliest_cr_line', 'grade'])#,'funded_amnt','installment'])\n",
    "num_features = X.select_dtypes(include='number').columns\n",
    "cat_features = X.select_dtypes(include=['object','category']).columns\n",
    "date_features = ['earliest_cr_line']\n",
    "encoded_dates = encode_dates_and_missing(loan_data.loc[:, date_features])\n",
    "date_features = encoded_dates.columns\n",
    "X = pd.concat((X, encoded_dates),axis=1)\n",
    "X = X.reset_index(drop=True)\n",
    "y.index = X.index"
   ]
  },
  {
   "cell_type": "markdown",
   "metadata": {},
   "source": [
    "Scikit-learn wants iterable containing (train_indices, test_indices)"
   ]
  },
  {
   "cell_type": "code",
   "execution_count": 11,
   "metadata": {},
   "outputs": [],
   "source": [
    "train_indices = np.array([np.array(X.index[\n",
    "    np.array(np.sum(bin_masks[:, :i+1],axis=1), dtype=bool)].tolist())\n",
    "                          for i in range(bin_masks.shape[1]-2)])\n",
    "test_indices = np.array([np.array(X.index[\n",
    "    np.array(bin_masks[:,i+1], dtype=bool)].tolist())\n",
    "                         for i in range(bin_masks.shape[1]-2)])\n",
    "\n",
    "train_test_iterable = list(zip(train_indices,test_indices))\n",
    "\n",
    "traintest_indices = X.index[np.array(np.sum(bin_masks[:,:-1],axis=1), dtype=bool)] \n",
    "holdout_indices = X.index[np.array(bin_masks[:, -1], dtype=bool)] "
   ]
  },
  {
   "cell_type": "code",
   "execution_count": 12,
   "metadata": {},
   "outputs": [],
   "source": [
    "col_transformer = my_feature_transformer(X, num_features, cat_features, date_features, num_transformer=StandardScaler())\n",
    "X_traintest, X_holdout = X.loc[traintest_indices, :], X.loc[holdout_indices, :]\n",
    "y_traintest, y_holdout = y.loc[traintest_indices], y.loc[holdout_indices]\n",
    "\n",
    "X_traintest = X_traintest.reset_index(drop=True)\n",
    "X_holdout = X_holdout.reset_index(drop=True)\n",
    "\n",
    "_ = col_transformer.fit(X_traintest)\n",
    "X_traintest_transform = col_transformer.transform(X_traintest)\n",
    "X_holdout_transform = col_transformer.transform(X_holdout)"
   ]
  },
  {
   "cell_type": "markdown",
   "metadata": {},
   "source": [
    "## 4. Model selection\n",
    "First, perform preliminary tests to\n",
    "develop an intuition as what to include in the cross-validation process. To\n",
    "do so, the data needs to be processed and transformed. There are a number of choices for the\n",
    "method with which to scale the numerical data. The tests are performed by using the entirety\n",
    "of the training data (named traintest because the testing folds come from this subset) to fit\n",
    "the model. The model is then tested using this data as well as a set of \"holdout\" data which\n",
    "the model does not know about. The holdout data, by virtue of the cross-validation folds,\n",
    "corresponds to the most recent loan data. \n",
    "\n",
    "The name for the data variables might be confusing so, to be explicit:\n",
    "\n",
    "\"traintest\" is the data such that for each cross validation fold, traintest is split into a training set\n",
    "and a testing set. After the model selection via cross-validation the \"traintest\" set becomes the\n",
    "final training set.\n",
    "\n",
    "\"holdout\" is the data completely unknown to the model which is only tested after absolutely everything is\n",
    "put into place. "
   ]
  },
  {
   "cell_type": "code",
   "execution_count": 13,
   "metadata": {},
   "outputs": [
    {
     "data": {
      "image/png": "[encoded data removed]",
      "text/plain": [
       "<Figure size 288x288 with 2 Axes>"
      ]
     },
     "metadata": {
      "needs_background": "light"
     },
     "output_type": "display_data"
    }
   ],
   "source": [
    "#Quick test of collinearity via correlation matrix plot\n",
    "plt.matshow(pd.DataFrame(X_traintest_transform.toarray()).corr(), cmap='viridis')\n",
    "_ = plt.colorbar()\n",
    "_ = plt.show()"
   ]
  },
  {
   "cell_type": "markdown",
   "metadata": {},
   "source": [
    "To begin the modeling process, first I would like to get an idea with what I am working with by fitting the models without parameter tuning. "
   ]
  },
  {
   "cell_type": "code",
   "execution_count": null,
   "metadata": {},
   "outputs": [],
   "source": [
    "logistic_regression = LogisticRegression()\n",
    "_ = logistic_regression.fit(X_traintest_transform, y_traintest.values)"
   ]
  },
  {
   "cell_type": "code",
   "execution_count": null,
   "metadata": {},
   "outputs": [],
   "source": [
    "print('Logistic Regression evaluation on training set')\n",
    "_ = classifier_analysis(logistic_regression, X_traintest_transform, y_traintest.values)"
   ]
  },
  {
   "cell_type": "code",
   "execution_count": null,
   "metadata": {
    "scrolled": false
   },
   "outputs": [],
   "source": [
    "print('Logistic Regression evaluation on testing set')\n",
    "logreg_roc_auc_test = classifier_analysis(logistic_regression, X_holdout_transform, y_holdout.values)"
   ]
  },
  {
   "cell_type": "code",
   "execution_count": null,
   "metadata": {},
   "outputs": [],
   "source": [
    "random_forest_initial = RandomForestClassifier()\n",
    "_ = random_forest_initial.fit(X_traintest_transform, y_traintest.values)"
   ]
  },
  {
   "cell_type": "code",
   "execution_count": null,
   "metadata": {},
   "outputs": [],
   "source": [
    "print('Random Forest evaluation on training set')\n",
    "_ = classifier_analysis(random_forest_initial, X_traintest_transform, y_traintest.values)"
   ]
  },
  {
   "cell_type": "code",
   "execution_count": null,
   "metadata": {
    "scrolled": false
   },
   "outputs": [],
   "source": [
    "print('Random Forest evaluation on testing set')\n",
    "random_forest_initial_roc_auc = classifier_analysis(random_forest_initial, X_holdout_transform, y_holdout.values)"
   ]
  },
  {
   "cell_type": "markdown",
   "metadata": {},
   "source": [
    "For me there are two main takeaways from these tests. Firstly, the class weights need to be balanced to represent the frequency at which defaults occur (approximately 1/7 of the total samples).  \n",
    "\n",
    "The main goal is to reduce capital loss not maximize profits. Therefore, we value prediction of when a loan will be charged off more than fully paid. We can account for this by changing the class weights in the classification process. This model will reject loans that would have been fully paid in order to avoid loans that will become charged off. In other words, the goal is to maximize the number of true positives, where \"positive\" in this case is equivalent to a loan being charged off.\n",
    "It's clear that the class weights need to be balanced because otherwise the models are modeling the null information rate.\n",
    "Therefore, for everything that proceeds I shall weight the binary classes by their inverse frequency.\n",
    "The choices for the hyper-parameters aren't obvious so the cross-validation process attempts to cast a broad (but coarse) net\n",
    "on the hyper-parameter space.   "
   ]
  },
  {
   "cell_type": "code",
   "execution_count": 17,
   "metadata": {},
   "outputs": [],
   "source": [
    "n_estimators = [5, 10, 25]\n",
    "max_depth = [3, 9, 27]\n",
    "min_samples_split = [2, 20, 200]\n",
    "min_samples_leaf =  [2, 20, 200]\n",
    "max_samples = [None, 1000, 0.1]\n",
    "class_weight = ['balanced']\n",
    "\n",
    "random_forest_parameter_grid = {'n_estimators':n_estimators, \n",
    "                                'max_depth':max_depth,\n",
    "                                'min_samples_split':min_samples_split,\n",
    "                                'min_samples_leaf':min_samples_leaf,\n",
    "                                'class_weight':class_weight,\n",
    "                                   'max_samples':max_samples}                      "
   ]
  },
  {
   "cell_type": "markdown",
   "metadata": {},
   "source": [
    "Use the custom, parallelized (using joblib) cross-validation function."
   ]
  },
  {
   "cell_type": "code",
   "execution_count": null,
   "metadata": {},
   "outputs": [],
   "source": [
    "best_random_forest_model = my_cross_validate(RandomForestClassifier, X_traintest, y_traintest,\n",
    "                                             train_test_iterable, random_forest_parameter_grid, n_jobs=-2)"
   ]
  },
  {
   "cell_type": "code",
   "execution_count": null,
   "metadata": {},
   "outputs": [],
   "source": [
    "best_random_forest_model"
   ]
  },
  {
   "cell_type": "code",
   "execution_count": null,
   "metadata": {
    "scrolled": false
   },
   "outputs": [],
   "source": [
    "_ = best_random_forest_model.fit(X_traintest_transform, y_traintest.values)\n",
    "random_forest_roc_auc = classifier_analysis(best_random_forest_model, X_holdout_transform, y_holdout.values)"
   ]
  },
  {
   "cell_type": "code",
   "execution_count": null,
   "metadata": {},
   "outputs": [],
   "source": [
    "best_random_forest_model.feature_importances_"
   ]
  },
  {
   "cell_type": "code",
   "execution_count": null,
   "metadata": {},
   "outputs": [],
   "source": [
    "class_weight = ['balanced']\n",
    "C = [0.25, 1, 4]\n",
    "max_iter = [250]\n",
    "tol = [0.1, 0.01, 0.0001]\n",
    "logistic_parameter_grid = { 'class_weight':class_weight,\n",
    "                           'max_iter': max_iter,\n",
    "                           'C':C,\n",
    "                          'tol'= tol\n",
    "                          'penalty'=pens}"
   ]
  },
  {
   "cell_type": "code",
   "execution_count": null,
   "metadata": {},
   "outputs": [],
   "source": [
    "best_logistic_regression_model = my_cross_validate(LogisticRegression, X_traintest, \n",
    "                                             y_traintest, train_test_iterable, logistic_parameter_grid, n_jobs=-2)"
   ]
  },
  {
   "cell_type": "code",
   "execution_count": null,
   "metadata": {
    "scrolled": true
   },
   "outputs": [],
   "source": [
    "best_logistic_regression_model"
   ]
  },
  {
   "cell_type": "code",
   "execution_count": null,
   "metadata": {},
   "outputs": [],
   "source": [
    "_ = best_logistic_regression_model.fit(X_traintest_transform, y_traintest.values)\n",
    "logistic_regression_roc_auc = classifier_analysis(best_logistic_regression_model, X_holdout_transform, y_holdout.values)"
   ]
  },
  {
   "cell_type": "markdown",
   "metadata": {},
   "source": [
    "As can be seen, the logistic regression and random forest classification models seem to perform equally well. It has decent performance in regards to the main goal which is attempting to identify true positives. Originally the goal was to offer a recommendation for whether or not to provide the loan. Because there are\n",
    "so many false positives, however, I do not believe that this is sufficiently accurate to determine whether or not to provide\n",
    "loans, as it would reject far too many applicants. Therefore the best that this model can do is to flag accounts which\n",
    "are at risk of defaulting. This is still a proactive measure but it would only be correct around 25% of the time. \n",
    "\n",
    "The surface level comparison is that the logistic regression predicts the \"true\" label more often than the random forest classification. As a result, there is a higher prevalance of true and false positives. This is evidenced by the increase in\n",
    "both recall and precision of the logistic regression.\n",
    "\n",
    "For a recommendation I believe more work needs to be done to see why so many false positives are predicted. But if I were forced to choose between the two current models, I think if I was minimized the amount of lost capital, I need to have more recall on the \"1\" label because this represents a defaulted loan. In other words, use the Logistic Regression, which produces more false positives to reduce the number of potentially defaulting loans."
   ]
  }
 ],
 "metadata": {
  "kernelspec": {
   "display_name": "Python 3",
   "language": "python",
   "name": "python3"
  },
  "language_info": {
   "codemirror_mode": {
    "name": "ipython",
    "version": 3
   },
   "file_extension": ".py",
   "mimetype": "text/x-python",
   "name": "python",
   "nbconvert_exporter": "python",
   "pygments_lexer": "ipython3",
   "version": "3.7.6"
  }
 },
 "nbformat": 4,
 "nbformat_minor": 4
}
