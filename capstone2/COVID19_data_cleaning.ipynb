{
 "cells": [
  {
   "cell_type": "code",
   "execution_count": 1,
   "metadata": {},
   "outputs": [],
   "source": [
    "import numpy as np\n",
    "import pandas as pd\n",
    "import seaborn as sns\n",
    "import matplotlib.pyplot as plt\n",
    "import os\n",
    "import sys\n",
    "import glob\n",
    "import re\n",
    "import scipy\n",
    "import requests\n",
    "from matplotlib.patches import Rectangle\n",
    "from datetime import datetime\n",
    "# sns.set()"
   ]
  },
  {
   "cell_type": "markdown",
   "metadata": {},
   "source": [
    "# Introduction <a id='intro'></a>\n",
    "\n",
    "This notebook cleans and wrangles numerous data sets, making them uniform\n",
    "so that they can be used in a data-driven model for COVID-19 prediction.\n",
    "\n",
    "The key cleaning measures are those which find the most viable set of countries and date ranges\n",
    "such that the maximal amount of data can be used. In other words, different datasets can have data\n",
    "on a different set of countries; to avoid introducing large quantities of missing values\n",
    "the intersection of these countries is taken.\n",
    "\n"
   ]
  },
  {
   "cell_type": "markdown",
   "metadata": {},
   "source": [
    "# Table of contents<a id='toc'></a>\n",
    "\n",
    "## [Data wrangling function definitions](#generalfunctions)\n",
    "\n",
    "# Data <a id='data'></a>\n",
    "data sources\n",
    "\n",
    "To get the JHU CSSE data: git clone https://www.github.com/CSSEGISandData/COVID-19\n",
    "\n",
    "To get the OWID data: git clone https://www.github.com/owid/covid-19-data/\n",
    "\n",
    "To get and store OxCGRT government response data: git clone https://github.com/OxCGRT/covid-policy-tracker/\n",
    "\n",
    "To get and store Test Tracker data, go to https://finddx.shinyapps.io/FIND_Cov_19_Tracker/\n",
    "    \n",
    "    Choose \"Tests and cases\" dataset, select \"All\" as the entry number, \n",
    "    save as test_tracker_cases_and_tests.csv in same directory as notebooks.\n",
    "    \n",
    "    \n",
    "## [JHU CSSE case data.](#csse)\n",
    "[https://systems.jhu.edu/research/public-health/ncov/](https://systems.jhu.edu/research/public-health/ncov/)\n",
    "\n",
    "**Data available at:**\n",
    "[https://github.com/CSSEGISandData/COVID-19](https://github.com/CSSEGISandData/COVID-19)\n",
    "\n",
    "This data is split between a collection of .csv files of two different formats; first, the daily reports (global) are\n",
    "separated by day, each residing in their own .csv. Additionally, the daily report files have three different formats that need to be taken into account when compiling the data. The daily report data itself contains values on the number of confirmed cases, deceased, active cases, recovered cases.\n",
    "\n",
    "For the other format, .csv files with 'timeseries' in their filename, the data contains values for confirmed, deceased, recovered and are split between global numbers (contains United States as a whole) and numbers for the united states (statewide).\n",
    "           \n",
    "           \n",
    "## [OWID case and test data](#owid)\n",
    "\n",
    "**Data available via github**\n",
    "[https://github.com/owid/covid-19-data](https://github.com/owid/covid-19-data)\n",
    "\n",
    "[https://ourworldindata.org/covid-testing](https://ourworldindata.org/covid-testing)\n",
    "\n",
    "The OWID dataset contains information regarding case and test numbers; it overlaps with the JHU CSSE \n",
    "and Testing Tracker datasets but I am going to attempt to use it in conjunction with those two because\n",
    "of how there is unreliable reporting. In other words to get the bigger picture I'm looking to stitch together\n",
    "multiple datasets.\n",
    "\n",
    "           \n",
    "## [OxCGRT government response data](#oxcgrt)\n",
    "\n",
    "**Data available at:**\n",
    "[https://raw.githubusercontent.com/OxCGRT/covid-policy-tracker/master/data/OxCGRT_latest.csv](https://raw.githubusercontent.com/OxCGRT/covid-policy-tracker/master/data/OxCGRT_latest.csv)\n",
    "\n",
    "\n",
    "[https://github.com/OxCGRT/covid-policy-tracker/](https://github.com/OxCGRT/covid-policy-tracker/)\n",
    "\n",
    "The OxCGRT dataset contains information regarding different government responses in regards to social\n",
    "distancing measures. It measures the type of social distancing measure, whether or not they are recommended\n",
    "or mandated, whether they are targeted or broad (I think geographically). \n",
    "           \n",
    "## [Testing tracker data](#testtrack)\n",
    "<!-- **Website which lead me to dataset**\n",
    "[https://www.statista.com/statistics/1109066/coronavirus-testing-in-europe-by-country/](https://www.statista.com/statistics/1109066/coronavirus-testing-in-europe-by-country/) -->\n",
    "\n",
    "**Data available at:**\n",
    "[https://finddx.shinyapps.io/FIND_Cov_19_Tracker/](https://finddx.shinyapps.io/FIND_Cov_19_Tracker/)\n",
    "\n",
    "This dataset contains a time series of testing information: e.g. new (daily) tests, cumulative tests, etc. \n",
    "\n",
    "\n",
    "# [Data regularization: making things uniform](#uniformity)\n",
    "\n",
    "### [Intersection of countries](#country)\n",
    "  \n",
    "### [Time series date ranges](#time)\n",
    "\n",
    "### [Missing Values](#missingval)"
   ]
  },
  {
   "cell_type": "markdown",
   "metadata": {},
   "source": [
    "## Data wrangling function declaration <a id='generalfunctions'></a>\n"
   ]
  },
  {
   "cell_type": "code",
   "execution_count": 2,
   "metadata": {},
   "outputs": [],
   "source": [
    "\n",
    "def country_slice(data, locations):\n",
    "    if type(locations)==str:\n",
    "        return data[data.location==locations]\n",
    "    else:\n",
    "        return data[data.location.isin(locations)]\n",
    "    \n",
    "def time_slice(data, start, end, indexer='time_index'):\n",
    "    if start < 0 and end < 0:\n",
    "        start =data.loc[:, indexer].max()+start\n",
    "        end = data.loc[:, indexer].max()+end\n",
    "    return data[(data.loc[:, indexer] >= start) & (data.loc[:, indexer] <= end)]\n",
    "\n",
    "def country_search(df, country):\n",
    "    return df[df.location==country].index\n",
    "\n",
    "def country_groupby(df):\n",
    "    return [df[df.location==country].index for country in df.location.unique()]\n",
    "\n",
    "\n",
    "def column_search(df, name, return_style='loc', threshold='contains'):\n",
    "    if threshold=='contains':\n",
    "        func = df.columns.str.contains\n",
    "    else:\n",
    "        func = df.columns.str.match\n",
    "        \n",
    "    if return_style == 'loc':\n",
    "        return df.columns[func(name)]\n",
    "    elif return_style== 'iloc':\n",
    "        return np.where(func(name))[0]\n",
    "    else:\n",
    "        return None\n",
    "\n",
    "\n",
    "def reformat_values(values_to_transform, category='columns',dateformat=None):\n",
    "    \"\"\" Reformat column and index names. \n",
    "    \n",
    "    Parameters :\n",
    "    ----------\n",
    "    df : Pandas DataFrame\n",
    "    columns : bool\n",
    "    index : bool|\n",
    "    \n",
    "    Notes :\n",
    "    -----\n",
    "    Change headers of columns; this needs to be updated to account for their formatting changes. \n",
    "    This function converts strings with CamelCase, underscore and space separators to lowercase words uniformly\n",
    "    separated with underscores. I.e. (hopefully!) following the correct python identifier syntax so that each column\n",
    "    can be reference as an attribute if desired. \n",
    "\n",
    "    For more on valid Python identifiers, see:\n",
    "    https://docs.python.org/3/reference/lexical_analysis.html#identifiers\n",
    "    \"\"\"\n",
    "    \n",
    "    \"\"\" Reformat column and index names. only works with with pandas MultiIndex for level=0.\n",
    "    \n",
    "    Parameters :\n",
    "    ----------\n",
    "    df : Pandas DataFrame\n",
    "\n",
    "    Notes :\n",
    "    -----\n",
    "    Different datasets have different naming conventions (for countries that go by multiple names and abbreviations).\n",
    "    This function imposes a convention on a selection of these country names.  \n",
    "    \"\"\"\n",
    "    # these lists are one-to-one. countries compared via manual inspection, unfortunately. \n",
    "    mismatch_labels_bad = ['Lao People\\'s Democratic Republic', 'Mainland China',\n",
    "                           'Occupied Palestinian Territory','Republic of Korea', 'Korea, South', \n",
    "                           'Gambia, The ', 'UK', \n",
    "                           'USA', 'Iran (Islamic Republic of)',\n",
    "                           'Bahamas, The', 'Russian Federation', 'Czech Republic', 'Republic Of Ireland',\n",
    "                          'Hong Kong Sar', 'Macao Sar', 'Uk','Us',\n",
    "                           'Congo ( Kinshasa)','Congo ( Brazzaville)',\n",
    "                           'Cote D\\' Ivoire', 'Viet Nam','Guinea- Bissau','Guinea','Usa']\n",
    "\n",
    "    mismatch_labels_good = ['Laos','China',\n",
    "                            'Palestine', 'South Korea', 'South Korea', \n",
    "                            'The Gambia', 'United Kingdom', \n",
    "                            'United States','Iran',\n",
    "                            'The Bahamas','Russia','Czechia','Ireland',\n",
    "                            'Hong Kong','Macao','United Kingdom', 'United States',\n",
    "                            'Democratic Republic Of The Congo','Republic Of The Congo',\n",
    "                            'Ivory Coast','Vietnam', 'Guinea Bissau','Guinea Bissau','United States']\n",
    "    \n",
    "    # three cases, column names, country names, or datetime. \n",
    "    if category == 'location':\n",
    "        reformatted_values = []\n",
    "        for val in values_to_transform:\n",
    "            reformatted_values.append(' '.join(re.sub('([A-Z][a-z]+)', r' \\1', \n",
    "                                                        re.sub('([A-Z]+)|_|\\/|\\)|\\(', r' \\1', val).lower())\n",
    "                                                        .split()).title())\n",
    "        transformed_values = pd.Series(reformatted_values).replace(to_replace=mismatch_labels_bad, value=mismatch_labels_good)\n",
    "    \n",
    "    elif category == 'columns':\n",
    "        reformatted_values = []\n",
    "        for val in values_to_transform:\n",
    "            reformatted_values.append('_'.join(re.sub('([A-Z][a-z]+)', r' \\1', \n",
    "                                                     re.sub('([A-Z]+)|_|\\/|\\)|\\(', r' \\1', val)\n",
    "                                                            .lower()).split()))\n",
    "        transformed_values = pd.Series(reformatted_values)\n",
    "        \n",
    "    elif category == 'date':\n",
    "        transformed_values = pd.to_datetime(pd.Series(\n",
    "            values_to_transform), errors='coerce',format=dateformat).dt.normalize()\n",
    "\n",
    "\n",
    "    return transformed_values\n",
    "\n",
    "def per_country_plot(data, feature, legend=True):\n",
    "    data.set_index(['time_index', 'location']).loc[:, feature].unstack().plot(legend=legend)\n",
    "    return None\n",
    "\n",
    "def per_time_plot(data, feature, legend=True):\n",
    "    data.set_index(['location','time_index']).loc[:, feature].unstack().plot(legend=legend)\n",
    "    return None"
   ]
  },
  {
   "cell_type": "code",
   "execution_count": 3,
   "metadata": {},
   "outputs": [],
   "source": [
    "#----------------- Helper Functions for cleaning ----------------------#\n",
    "\n",
    "\n",
    "#----------------- Helper Functions for regularization ----------------------#\n",
    "def intersect_country_index(df, country_intersection):\n",
    "    df_tmp = df.copy().reset_index(level=0)\n",
    "    df_tmp = df_tmp[df_tmp.location.isin(country_intersection)]\n",
    "    df_tmp = df_tmp.set_index(['location', df_tmp.index])\n",
    "    return df_tmp \n",
    "\n",
    "def resample_dates(df, dates):\n",
    "    df = df.loc[~df.index.duplicated(keep='first')]\n",
    "    return df.reindex(pd.MultiIndex.from_product([df.index.levels[0], dates], names=['location', 'date']), fill_value=np.nan)\n",
    "\n",
    "def make_multilevel_columns(df):\n",
    "    df.columns = pd.MultiIndex.from_product([[df.columns.name], df.columns], names=['dataset', 'features'])\n",
    "    return df\n",
    "\n",
    "def multiindex_to_table(df):\n",
    "    df_table = df.copy()\n",
    "    try:\n",
    "        df_table.columns = df_table.columns.droplevel()\n",
    "        df_table.columns.names = ['']\n",
    "    except:\n",
    "        pass\n",
    "    df_table = df_table.reset_index()\n",
    "    return df_table\n",
    "\n",
    "#----------------- Manipulation flagging ----------------------#\n",
    "\n",
    "\n",
    "def regularize_names(df, datekey=None, locationkey=None, dateformat=None):\n",
    "    df.columns = reformat_values(df.columns, category='columns').values\n",
    "    if datekey is not None:\n",
    "        df.loc[:, 'date'] = reformat_values(df.loc[:, datekey], category='date', dateformat=None).values\n",
    "    if locationkey is not None:\n",
    "        df.loc[:, 'location'] =  reformat_values(df.loc[:, locationkey], category='location').values\n",
    "    return df\n",
    "\n",
    "\n",
    "\n",
    "def add_time_indices(data_table, index_column='cases'):\n",
    "    indexer = ((data_table.loc[:, ['location', index_column]].replace(to_replace=np.nan, value=0)\n",
    "               ).replace(to_replace=0, value=np.nan).dropna().reset_index()\n",
    "              )\n",
    "    country_groupby_indices = country_groupby(data_table)\n",
    "    country_groupby_indices_dropped_nan = country_groupby(indexer)\n",
    "    days_since = []\n",
    "    for i, c in enumerate(country_groupby_indices_dropped_nan):\n",
    "        nonzero_list = list(range(len(c)))\n",
    "        zero_list = 0*np.array(list(range(len(country_groupby_indices[i])-len(c))))\n",
    "        days_since += list(zero_list)+nonzero_list\n",
    "\n",
    "    data_table.loc[:, 'days_since_first_case'] = days_since\n",
    "    data_table.loc[:, 'time_index'] = len(data_table.location.unique())*list(range(len(data_table.date.unique())))\n",
    "    return data_table\n",
    "\n",
    "\n",
    "def regularize_time_series(df_list, location_operation='intersection', date_operation='union'):\n",
    "    locations = df_list[0].index.levels[0].unique()\n",
    "    dates =  df_list[0].index.levels[1].unique()\n",
    "    for i in range(len(df_list)-1):\n",
    "        if location_operation == 'intersection':\n",
    "            locations = locations.intersection(df_list[i+1].index.levels[0].unique())\n",
    "        # not really intersection, this is the minimum date that at least one locations has data for, in each dataset.\n",
    "        elif location_operation == 'union':\n",
    "            locations = locations.union(df_list[i+1].index.levels[0].unique())\n",
    "            \n",
    "        if date_operation == 'intersection':\n",
    "            dates = dates.intersection(df_list[i+1].index.levels[1].unique())\n",
    "        elif date_operation == 'union':\n",
    "            dates = dates.union(df_list[i+1].index.levels[1].unique())\n",
    "    df_list = [intersect_country_index(df, locations) for df in df_list]\n",
    "    #This redefines the time series for all variables as from December 31st 2019 to the day with most recent data\n",
    "    time_normalized_global_data = [resample_dates(df, dates.normalize()) for df in df_list]\n",
    "    # To keep track of which data came from where, make the columns multi level with the first level labelling the dataset.\n",
    "    return time_normalized_global_data, dates, locations\n",
    "\n",
    "def rolling_features(df, features, roll_widths):\n",
    "    new_feature_df_list = []\n",
    "    for window in roll_widths:\n",
    "        # order the dataframe so date is index, backfill in the first roll_width values\n",
    "        rollmean = None\n",
    "        rollstd = None\n",
    "        for c in country_groupby(df):\n",
    "            if rollmean is None:\n",
    "                rollmean = df.loc[c, features].rolling(window).mean().fillna(value=0.)\n",
    "                rollstd = df.loc[c, features].rolling(window).std().fillna(value=0.)\n",
    "            else:\n",
    "                rollmean = pd.concat((rollmean,  df.loc[c,features].rolling(window).mean().fillna(value=0.)),axis=0)\n",
    "                rollstd = pd.concat((rollstd,  df.loc[c,features].rolling(window).std().fillna(value=0.)),axis=0)\n",
    "\n",
    "        new_features = pd.concat((rollmean, rollstd), axis=1)\n",
    "#         new_features = rollmean\n",
    "#         new_cols = pd.Index(features) +'_rolling_mean_' + str(window)\n",
    "#         new_cols = mean_cols\n",
    "\n",
    "        mean_cols = pd.Index(features) +'_rolling_mean_' + str(window)\n",
    "        std_cols = pd.Index(features) +'_rolling_std_' + str(window)\n",
    "        new_cols = mean_cols.append(std_cols)\n",
    "        new_features.columns = new_cols\n",
    "        new_feature_df_list.append(new_features)\n",
    "    return pd.concat(new_feature_df_list,axis=1)\n",
    "\n",
    "\n",
    "\n",
    "def tsplot(pd_series, roll_width, **kw):\n",
    "    fig, ax = plt.subplots(figsize=(10,5))\n",
    "    rollmean = pd_series.rolling(roll_width).mean().fillna(method='backfill').values.ravel()\n",
    "    rollstd  = pd_series.rolling(roll_width).std().fillna(method='backfill').values.ravel()\n",
    "    cis = (rollmean - rollstd, rollmean + rollstd)\n",
    "    ax.fill_between(range(len(pd_series)), cis[0], cis[1], alpha=0.5)\n",
    "    ax.plot(range(len(pd_series)), rollmean, color='k')\n",
    "    return ax\n",
    "\n",
    "\n",
    "\n",
    "def regularize_names(df, datekey=None, locationkey=None, dateformat=None):\n",
    "    df.columns = reformat_values(df.columns, category='columns').values\n",
    "    if datekey is not None:\n",
    "        df.loc[:, 'date'] = reformat_values(df.loc[:, datekey], category='date', dateformat=None).values\n",
    "    if locationkey is not None:\n",
    "        df.loc[:, 'location'] =  reformat_values(df.loc[:, locationkey], category='location').values\n",
    "    return df\n",
    "\n",
    "\n",
    "def fix_incorrect_decrease(df, feature, search_threshold='match'):\n",
    "    df_tmp = df.copy()\n",
    "    matching_columns = column_search(df_tmp, feature, return_style='iloc', threshold=search_threshold) \n",
    "    feature_index =  matching_columns[df_tmp.iloc[:, matching_columns].isna().sum().argmin()]\n",
    "    location_index =  column_search(df_tmp, 'location', return_style='iloc', threshold=search_threshold)[0] \n",
    "    decreasing_indices = np.where(df_tmp.iloc[:, [location_index, feature_index]].groupby('location').diff(1)< 0)[0].ravel()\n",
    "    n_countries_with_missing = len(df_tmp.iloc[decreasing_indices, location_index].unique().tolist())\n",
    "    print('Fixing {} countries in the ''{}'' column feature'.format(\n",
    "        n_countries_with_missing, df_tmp.iloc[:, feature_index].name)) \n",
    "    # premptive filling, not related to decreasing but rather missing values.\n",
    "    decreasing_incorrectly = []\n",
    "    flag = True\n",
    "    \n",
    "    # flag is switched off immediately, but will be switched on if any values are changed.\n",
    "    df_tmp.iloc[:, feature_index] = df_tmp.iloc[:, [location_index, feature_index]].groupby('location').fillna(method='ffill')\n",
    "    df_tmp.iloc[:, feature_index] = df_tmp.iloc[:, [location_index, feature_index]].groupby('location').fillna(0)\n",
    "    while flag:\n",
    "        flag = False\n",
    "        decreasing_indices = np.where(df_tmp.iloc[:, [location_index, feature_index]].groupby('location').diff(1)< 0)[0].ravel()\n",
    "        if decreasing_indices.size > 0:\n",
    "            countries_with_missing = df_tmp.iloc[decreasing_indices, location_index].unique().tolist()\n",
    "            flag = True\n",
    "            df_tmp.iloc[decreasing_indices, feature_index] = np.nan\n",
    "            df_tmp.iloc[:, feature_index] = df_tmp.iloc[:, [location_index, feature_index]].groupby('location').fillna(method='ffill')\n",
    "            df_tmp.iloc[:, feature_index] = df_tmp.iloc[:, [location_index, feature_index]].groupby('location').fillna(0)\n",
    "    return df_tmp\n",
    "\n",
    "def rolling_means(df, features, roll_widths):\n",
    "    new_feature_df_list = []\n",
    "    for window in roll_widths:\n",
    "        # order the dataframe so date is index, backfill in the first roll_width values\n",
    "        rollmean = None\n",
    "        for c in country_groupby(df):\n",
    "            if rollmean is None:\n",
    "                rollmean = df.loc[c, features].rolling(window).mean().fillna(value=0.)\n",
    "            else:\n",
    "                rollmean = pd.concat((rollmean,  df.loc[c,features].rolling(window).mean().fillna(value=0.)),axis=0)\n",
    "        new_features = rollmean\n",
    "        new_cols = pd.Index(features) +'_rolling_mean_' + str(window)\n",
    "\n",
    "        new_features.columns = new_cols\n",
    "        new_feature_df_list.append(new_features)\n",
    "    return new_feature_df_list\n",
    "\n",
    "\n",
    "def new_average_feature(data, features, new_feature_name):\n",
    "    data.loc[:, new_feature_name] = data.loc[:, features].mean(1).fillna(0).values\n",
    "    return None"
   ]
  },
  {
   "cell_type": "markdown",
   "metadata": {},
   "source": [
    "## Data Reformatting\n",
    "\n",
    "The following sections take the corresponding data set and reformat them such that the data\n",
    "is stored in a pandas DataFrame with a multiindex; level=0 -> 'location' (country or region) and\n",
    "level=1 -> date. Due to the nature of the data this is done separately for country-wide and united states-wide locations.\n",
    "Eventually for the data exploration, these data are combined and then exported.\n",
    "\n",
    "Additionally, the reformatted data are saved/exported separately in-case I desire future use outside of this notebook."
   ]
  },
  {
   "cell_type": "markdown",
   "metadata": {},
   "source": [
    "## JHU CSSE case data\n",
    "<a id='csse'></a>\n",
    "[Return to table of contents](#toc)"
   ]
  },
  {
   "cell_type": "code",
   "execution_count": 4,
   "metadata": {},
   "outputs": [],
   "source": [
    "global_df_list = []\n",
    "\n",
    "for x in glob.glob('COVID-19/csse_covid_19_data/csse_covid_19_time_series/*_global.csv'):\n",
    "    tmp_df = pd.read_csv(x)\n",
    "    catcols = tmp_df.iloc[:, :4]\n",
    "    datecols = tmp_df.iloc[:, 4:]\n",
    "    catcols.columns = reformat_values(catcols.columns, category='columns').values\n",
    "    catcols.loc[:, 'location'] =  reformat_values(catcols.loc[:, 'country_region'], category='location').values\n",
    "    datecols.columns = reformat_values(datecols.columns, category='date').values\n",
    "    global_tmp = pd.concat((catcols.location,datecols),axis=1).groupby(by='location').sum().sort_index()\n",
    "    # keep the name of the data; i.e. 'confirmed', 'deaths', etc.\n",
    "    time_series_name = x.split('.')[0].split('_')[-2]\n",
    "    global_df_list.append(global_tmp.stack().to_frame(name=time_series_name))\n",
    "\n",
    "# Rename the columns\n",
    "csse_global_time_series_df = pd.concat(global_df_list, axis=1)\n",
    "csse_global_time_series_df.index.names = ['location','date']\n",
    "csse_global_time_series_df.columns.names = ['csse_global_timeseries']\n",
    "csse_global_time_series_df.columns = ['cases', 'deaths', 'recovered']\n",
    "csse_global_time_series_df = csse_global_time_series_df.reset_index()\n",
    "\n",
    "# Do the country georgia separately in-case data ever contains U.S. states info.\n",
    "geor_index = csse_global_time_series_df[csse_global_time_series_df.location=='Georgia'].index\n",
    "csse_global_time_series_df.loc[geor_index, 'location'] = 'Sakartvelo' \n",
    "csse_global_time_series_df.loc[:, 'date'] = pd.to_datetime(csse_global_time_series_df.loc[:,'date']).values\n",
    "csse_global_time_series_df = csse_global_time_series_df.set_index(['location', 'date'])\n",
    "csse_global_time_series_df.to_csv('jhucsse_global.csv')"
   ]
  },
  {
   "cell_type": "code",
   "execution_count": 5,
   "metadata": {},
   "outputs": [
    {
     "data": {
      "text/html": [
       "<div>\n",
       "<style scoped>\n",
       "    .dataframe tbody tr th:only-of-type {\n",
       "        vertical-align: middle;\n",
       "    }\n",
       "\n",
       "    .dataframe tbody tr th {\n",
       "        vertical-align: top;\n",
       "    }\n",
       "\n",
       "    .dataframe thead th {\n",
       "        text-align: right;\n",
       "    }\n",
       "</style>\n",
       "<table border=\"1\" class=\"dataframe\">\n",
       "  <thead>\n",
       "    <tr style=\"text-align: right;\">\n",
       "      <th></th>\n",
       "      <th></th>\n",
       "      <th>cases</th>\n",
       "      <th>deaths</th>\n",
       "      <th>recovered</th>\n",
       "    </tr>\n",
       "    <tr>\n",
       "      <th>location</th>\n",
       "      <th>date</th>\n",
       "      <th></th>\n",
       "      <th></th>\n",
       "      <th></th>\n",
       "    </tr>\n",
       "  </thead>\n",
       "  <tbody>\n",
       "    <tr>\n",
       "      <th>Laos</th>\n",
       "      <th>2020-05-26</th>\n",
       "      <td>19</td>\n",
       "      <td>0</td>\n",
       "      <td>14</td>\n",
       "    </tr>\n",
       "    <tr>\n",
       "      <th>Bhutan</th>\n",
       "      <th>2020-05-22</th>\n",
       "      <td>21</td>\n",
       "      <td>0</td>\n",
       "      <td>6</td>\n",
       "    </tr>\n",
       "    <tr>\n",
       "      <th>Madagascar</th>\n",
       "      <th>2020-02-11</th>\n",
       "      <td>0</td>\n",
       "      <td>0</td>\n",
       "      <td>0</td>\n",
       "    </tr>\n",
       "    <tr>\n",
       "      <th>Barbados</th>\n",
       "      <th>2020-06-12</th>\n",
       "      <td>96</td>\n",
       "      <td>7</td>\n",
       "      <td>83</td>\n",
       "    </tr>\n",
       "    <tr>\n",
       "      <th>Iceland</th>\n",
       "      <th>2020-01-31</th>\n",
       "      <td>0</td>\n",
       "      <td>0</td>\n",
       "      <td>0</td>\n",
       "    </tr>\n",
       "  </tbody>\n",
       "</table>\n",
       "</div>"
      ],
      "text/plain": [
       "                       cases  deaths  recovered\n",
       "location   date                                \n",
       "Laos       2020-05-26     19       0         14\n",
       "Bhutan     2020-05-22     21       0          6\n",
       "Madagascar 2020-02-11      0       0          0\n",
       "Barbados   2020-06-12     96       7         83\n",
       "Iceland    2020-01-31      0       0          0"
      ]
     },
     "execution_count": 5,
     "metadata": {},
     "output_type": "execute_result"
    }
   ],
   "source": [
    "csse_global_time_series_df.sample(5)"
   ]
  },
  {
   "cell_type": "code",
   "execution_count": 6,
   "metadata": {},
   "outputs": [],
   "source": [
    "usa_df_list = []\n",
    "for x in glob.glob('COVID-19/csse_covid_19_data/csse_covid_19_time_series/*_US.csv'):\n",
    "    tmp_df = pd.read_csv(x)\n",
    "    catcols = tmp_df.iloc[:, :np.where(tmp_df.columns == '1/22/20')[0][0]]\n",
    "    catcols.columns = reformat_values(catcols.columns, category='columns').values\n",
    "    catcols.loc[:, 'location'] =  catcols.loc[:, 'province_state'].values\n",
    "    \n",
    "    datecols = tmp_df.iloc[:,np.where(tmp_df.columns == '1/22/20')[0][0]:]\n",
    "    datecols.columns = reformat_values(datecols.columns, category='date').values\n",
    "    usa_tmp = pd.concat((catcols.location,datecols),axis=1).groupby(by='location').sum().sort_index()\n",
    "    # keep the name of the data; i.e. 'confirmed', 'deaths', etc.\n",
    "    time_series_name = x.split('.')[0].split('_')[-2]\n",
    "    usa_df_list.append(usa_tmp.stack().to_frame(name=time_series_name))\n",
    "    \n",
    "csse_usa_time_series_df = pd.concat(usa_df_list,axis=1)#.reset_index(drop=True)\n",
    "csse_usa_time_series_df.index.names = ['location','date']\n",
    "csse_usa_time_series_df.columns.names = ['csse_us_timeseries']\n",
    "csse_usa_time_series_df.columns = ['cases', 'deaths']\n",
    "csse_usa_time_series_df = csse_usa_time_series_df.reset_index()\n",
    "\n",
    "csse_usa_time_series_df.loc[:, 'date'] = pd.to_datetime(csse_usa_time_series_df.loc[:,'date']).values\n",
    "csse_usa_time_series_df = csse_usa_time_series_df.set_index(['location', 'date'])\n",
    "csse_usa_time_series_df.to_csv('jhucsse_usa.csv')"
   ]
  },
  {
   "cell_type": "code",
   "execution_count": 7,
   "metadata": {},
   "outputs": [
    {
     "data": {
      "text/html": [
       "<div>\n",
       "<style scoped>\n",
       "    .dataframe tbody tr th:only-of-type {\n",
       "        vertical-align: middle;\n",
       "    }\n",
       "\n",
       "    .dataframe tbody tr th {\n",
       "        vertical-align: top;\n",
       "    }\n",
       "\n",
       "    .dataframe thead th {\n",
       "        text-align: right;\n",
       "    }\n",
       "</style>\n",
       "<table border=\"1\" class=\"dataframe\">\n",
       "  <thead>\n",
       "    <tr style=\"text-align: right;\">\n",
       "      <th></th>\n",
       "      <th></th>\n",
       "      <th>cases</th>\n",
       "      <th>deaths</th>\n",
       "    </tr>\n",
       "    <tr>\n",
       "      <th>location</th>\n",
       "      <th>date</th>\n",
       "      <th></th>\n",
       "      <th></th>\n",
       "    </tr>\n",
       "  </thead>\n",
       "  <tbody>\n",
       "    <tr>\n",
       "      <th>Arizona</th>\n",
       "      <th>2020-06-02</th>\n",
       "      <td>21264</td>\n",
       "      <td>943</td>\n",
       "    </tr>\n",
       "    <tr>\n",
       "      <th>Northern Mariana Islands</th>\n",
       "      <th>2020-05-10</th>\n",
       "      <td>16</td>\n",
       "      <td>2</td>\n",
       "    </tr>\n",
       "    <tr>\n",
       "      <th>Alabama</th>\n",
       "      <th>2020-04-13</th>\n",
       "      <td>3734</td>\n",
       "      <td>99</td>\n",
       "    </tr>\n",
       "    <tr>\n",
       "      <th>Utah</th>\n",
       "      <th>2020-05-15</th>\n",
       "      <td>6913</td>\n",
       "      <td>77</td>\n",
       "    </tr>\n",
       "    <tr>\n",
       "      <th>Iowa</th>\n",
       "      <th>2020-05-02</th>\n",
       "      <td>8643</td>\n",
       "      <td>175</td>\n",
       "    </tr>\n",
       "  </tbody>\n",
       "</table>\n",
       "</div>"
      ],
      "text/plain": [
       "                                     cases  deaths\n",
       "location                 date                     \n",
       "Arizona                  2020-06-02  21264     943\n",
       "Northern Mariana Islands 2020-05-10     16       2\n",
       "Alabama                  2020-04-13   3734      99\n",
       "Utah                     2020-05-15   6913      77\n",
       "Iowa                     2020-05-02   8643     175"
      ]
     },
     "execution_count": 7,
     "metadata": {},
     "output_type": "execute_result"
    }
   ],
   "source": [
    "csse_usa_time_series_df.sample(5)"
   ]
  },
  {
   "cell_type": "markdown",
   "metadata": {},
   "source": [
    "## OWID case and test data\n",
    "<a id='source5'></a>\n",
    "[Return to table of contents](#toc)"
   ]
  },
  {
   "cell_type": "markdown",
   "metadata": {},
   "source": [
    "The \"Our World in Data\" dataset contains time series information on the cases, tests, and deaths.\n",
    "\n",
    "It is important to note that confirmed in owid cases is less than total "
   ]
  },
  {
   "cell_type": "code",
   "execution_count": 8,
   "metadata": {},
   "outputs": [],
   "source": [
    "owid_df =pd.read_csv('./covid-19-data/public/data/owid-covid-data.csv')\n",
    "owid_df = regularize_names(owid_df, datekey='date', locationkey='location').set_index(['location', 'date']).sort_index()\n",
    "owid_df.to_csv('owid.csv')"
   ]
  },
  {
   "cell_type": "code",
   "execution_count": 9,
   "metadata": {},
   "outputs": [
    {
     "data": {
      "text/html": [
       "<div>\n",
       "<style scoped>\n",
       "    .dataframe tbody tr th:only-of-type {\n",
       "        vertical-align: middle;\n",
       "    }\n",
       "\n",
       "    .dataframe tbody tr th {\n",
       "        vertical-align: top;\n",
       "    }\n",
       "\n",
       "    .dataframe thead th {\n",
       "        text-align: right;\n",
       "    }\n",
       "</style>\n",
       "<table border=\"1\" class=\"dataframe\">\n",
       "  <thead>\n",
       "    <tr style=\"text-align: right;\">\n",
       "      <th></th>\n",
       "      <th></th>\n",
       "      <th>iso_code</th>\n",
       "      <th>continent</th>\n",
       "      <th>total_cases</th>\n",
       "      <th>new_cases</th>\n",
       "      <th>total_deaths</th>\n",
       "      <th>new_deaths</th>\n",
       "      <th>total_cases_per_million</th>\n",
       "      <th>new_cases_per_million</th>\n",
       "      <th>total_deaths_per_million</th>\n",
       "      <th>new_deaths_per_million</th>\n",
       "      <th>...</th>\n",
       "      <th>aged_70_older</th>\n",
       "      <th>gdp_per_capita</th>\n",
       "      <th>extreme_poverty</th>\n",
       "      <th>cvd_death_rate</th>\n",
       "      <th>diabetes_prevalence</th>\n",
       "      <th>female_smokers</th>\n",
       "      <th>male_smokers</th>\n",
       "      <th>handwashing_facilities</th>\n",
       "      <th>hospital_beds_per_thousand</th>\n",
       "      <th>life_expectancy</th>\n",
       "    </tr>\n",
       "    <tr>\n",
       "      <th>location</th>\n",
       "      <th>date</th>\n",
       "      <th></th>\n",
       "      <th></th>\n",
       "      <th></th>\n",
       "      <th></th>\n",
       "      <th></th>\n",
       "      <th></th>\n",
       "      <th></th>\n",
       "      <th></th>\n",
       "      <th></th>\n",
       "      <th></th>\n",
       "      <th></th>\n",
       "      <th></th>\n",
       "      <th></th>\n",
       "      <th></th>\n",
       "      <th></th>\n",
       "      <th></th>\n",
       "      <th></th>\n",
       "      <th></th>\n",
       "      <th></th>\n",
       "      <th></th>\n",
       "      <th></th>\n",
       "    </tr>\n",
       "  </thead>\n",
       "  <tbody>\n",
       "    <tr>\n",
       "      <th>Peru</th>\n",
       "      <th>2020-05-23</th>\n",
       "      <td>PER</td>\n",
       "      <td>South America</td>\n",
       "      <td>111698.0</td>\n",
       "      <td>2929.0</td>\n",
       "      <td>3244.0</td>\n",
       "      <td>96.0</td>\n",
       "      <td>3387.678</td>\n",
       "      <td>88.833</td>\n",
       "      <td>98.387</td>\n",
       "      <td>2.912</td>\n",
       "      <td>...</td>\n",
       "      <td>4.455</td>\n",
       "      <td>12236.706</td>\n",
       "      <td>3.5</td>\n",
       "      <td>85.755</td>\n",
       "      <td>5.95</td>\n",
       "      <td>4.8</td>\n",
       "      <td>NaN</td>\n",
       "      <td>NaN</td>\n",
       "      <td>1.6</td>\n",
       "      <td>76.74</td>\n",
       "    </tr>\n",
       "    <tr>\n",
       "      <th>Fiji</th>\n",
       "      <th>2020-03-23</th>\n",
       "      <td>FJI</td>\n",
       "      <td>Oceania</td>\n",
       "      <td>3.0</td>\n",
       "      <td>1.0</td>\n",
       "      <td>0.0</td>\n",
       "      <td>0.0</td>\n",
       "      <td>3.347</td>\n",
       "      <td>1.116</td>\n",
       "      <td>0.000</td>\n",
       "      <td>0.000</td>\n",
       "      <td>...</td>\n",
       "      <td>3.284</td>\n",
       "      <td>8702.975</td>\n",
       "      <td>1.4</td>\n",
       "      <td>412.820</td>\n",
       "      <td>14.49</td>\n",
       "      <td>10.2</td>\n",
       "      <td>34.8</td>\n",
       "      <td>NaN</td>\n",
       "      <td>2.3</td>\n",
       "      <td>67.44</td>\n",
       "    </tr>\n",
       "    <tr>\n",
       "      <th>Nepal</th>\n",
       "      <th>2020-01-25</th>\n",
       "      <td>NPL</td>\n",
       "      <td>Asia</td>\n",
       "      <td>1.0</td>\n",
       "      <td>1.0</td>\n",
       "      <td>0.0</td>\n",
       "      <td>0.0</td>\n",
       "      <td>0.034</td>\n",
       "      <td>0.034</td>\n",
       "      <td>0.000</td>\n",
       "      <td>0.000</td>\n",
       "      <td>...</td>\n",
       "      <td>3.212</td>\n",
       "      <td>2442.804</td>\n",
       "      <td>15.0</td>\n",
       "      <td>260.797</td>\n",
       "      <td>7.26</td>\n",
       "      <td>9.5</td>\n",
       "      <td>37.8</td>\n",
       "      <td>47.782</td>\n",
       "      <td>0.3</td>\n",
       "      <td>70.78</td>\n",
       "    </tr>\n",
       "    <tr>\n",
       "      <th>Sint Maarten Dutch Part</th>\n",
       "      <th>2020-04-26</th>\n",
       "      <td>SXM</td>\n",
       "      <td>North America</td>\n",
       "      <td>73.0</td>\n",
       "      <td>0.0</td>\n",
       "      <td>12.0</td>\n",
       "      <td>0.0</td>\n",
       "      <td>1702.346</td>\n",
       "      <td>0.000</td>\n",
       "      <td>279.838</td>\n",
       "      <td>0.000</td>\n",
       "      <td>...</td>\n",
       "      <td>NaN</td>\n",
       "      <td>36327.232</td>\n",
       "      <td>NaN</td>\n",
       "      <td>NaN</td>\n",
       "      <td>NaN</td>\n",
       "      <td>NaN</td>\n",
       "      <td>NaN</td>\n",
       "      <td>NaN</td>\n",
       "      <td>NaN</td>\n",
       "      <td>78.95</td>\n",
       "    </tr>\n",
       "    <tr>\n",
       "      <th>Argentina</th>\n",
       "      <th>2020-05-11</th>\n",
       "      <td>ARG</td>\n",
       "      <td>South America</td>\n",
       "      <td>5776.0</td>\n",
       "      <td>13.0</td>\n",
       "      <td>300.0</td>\n",
       "      <td>0.0</td>\n",
       "      <td>127.800</td>\n",
       "      <td>0.288</td>\n",
       "      <td>6.638</td>\n",
       "      <td>0.000</td>\n",
       "      <td>...</td>\n",
       "      <td>7.441</td>\n",
       "      <td>18933.907</td>\n",
       "      <td>0.6</td>\n",
       "      <td>191.032</td>\n",
       "      <td>5.50</td>\n",
       "      <td>16.2</td>\n",
       "      <td>27.7</td>\n",
       "      <td>NaN</td>\n",
       "      <td>5.0</td>\n",
       "      <td>76.67</td>\n",
       "    </tr>\n",
       "  </tbody>\n",
       "</table>\n",
       "<p>5 rows × 32 columns</p>\n",
       "</div>"
      ],
      "text/plain": [
       "                                   iso_code      continent  total_cases  \\\n",
       "location                date                                              \n",
       "Peru                    2020-05-23      PER  South America     111698.0   \n",
       "Fiji                    2020-03-23      FJI        Oceania          3.0   \n",
       "Nepal                   2020-01-25      NPL           Asia          1.0   \n",
       "Sint Maarten Dutch Part 2020-04-26      SXM  North America         73.0   \n",
       "Argentina               2020-05-11      ARG  South America       5776.0   \n",
       "\n",
       "                                    new_cases  total_deaths  new_deaths  \\\n",
       "location                date                                              \n",
       "Peru                    2020-05-23     2929.0        3244.0        96.0   \n",
       "Fiji                    2020-03-23        1.0           0.0         0.0   \n",
       "Nepal                   2020-01-25        1.0           0.0         0.0   \n",
       "Sint Maarten Dutch Part 2020-04-26        0.0          12.0         0.0   \n",
       "Argentina               2020-05-11       13.0         300.0         0.0   \n",
       "\n",
       "                                    total_cases_per_million  \\\n",
       "location                date                                  \n",
       "Peru                    2020-05-23                 3387.678   \n",
       "Fiji                    2020-03-23                    3.347   \n",
       "Nepal                   2020-01-25                    0.034   \n",
       "Sint Maarten Dutch Part 2020-04-26                 1702.346   \n",
       "Argentina               2020-05-11                  127.800   \n",
       "\n",
       "                                    new_cases_per_million  \\\n",
       "location                date                                \n",
       "Peru                    2020-05-23                 88.833   \n",
       "Fiji                    2020-03-23                  1.116   \n",
       "Nepal                   2020-01-25                  0.034   \n",
       "Sint Maarten Dutch Part 2020-04-26                  0.000   \n",
       "Argentina               2020-05-11                  0.288   \n",
       "\n",
       "                                    total_deaths_per_million  \\\n",
       "location                date                                   \n",
       "Peru                    2020-05-23                    98.387   \n",
       "Fiji                    2020-03-23                     0.000   \n",
       "Nepal                   2020-01-25                     0.000   \n",
       "Sint Maarten Dutch Part 2020-04-26                   279.838   \n",
       "Argentina               2020-05-11                     6.638   \n",
       "\n",
       "                                    new_deaths_per_million  ...  \\\n",
       "location                date                                ...   \n",
       "Peru                    2020-05-23                   2.912  ...   \n",
       "Fiji                    2020-03-23                   0.000  ...   \n",
       "Nepal                   2020-01-25                   0.000  ...   \n",
       "Sint Maarten Dutch Part 2020-04-26                   0.000  ...   \n",
       "Argentina               2020-05-11                   0.000  ...   \n",
       "\n",
       "                                    aged_70_older  gdp_per_capita  \\\n",
       "location                date                                        \n",
       "Peru                    2020-05-23          4.455       12236.706   \n",
       "Fiji                    2020-03-23          3.284        8702.975   \n",
       "Nepal                   2020-01-25          3.212        2442.804   \n",
       "Sint Maarten Dutch Part 2020-04-26            NaN       36327.232   \n",
       "Argentina               2020-05-11          7.441       18933.907   \n",
       "\n",
       "                                    extreme_poverty  cvd_death_rate  \\\n",
       "location                date                                          \n",
       "Peru                    2020-05-23              3.5          85.755   \n",
       "Fiji                    2020-03-23              1.4         412.820   \n",
       "Nepal                   2020-01-25             15.0         260.797   \n",
       "Sint Maarten Dutch Part 2020-04-26              NaN             NaN   \n",
       "Argentina               2020-05-11              0.6         191.032   \n",
       "\n",
       "                                    diabetes_prevalence  female_smokers  \\\n",
       "location                date                                              \n",
       "Peru                    2020-05-23                 5.95             4.8   \n",
       "Fiji                    2020-03-23                14.49            10.2   \n",
       "Nepal                   2020-01-25                 7.26             9.5   \n",
       "Sint Maarten Dutch Part 2020-04-26                  NaN             NaN   \n",
       "Argentina               2020-05-11                 5.50            16.2   \n",
       "\n",
       "                                   male_smokers  handwashing_facilities  \\\n",
       "location                date                                              \n",
       "Peru                    2020-05-23          NaN                     NaN   \n",
       "Fiji                    2020-03-23         34.8                     NaN   \n",
       "Nepal                   2020-01-25         37.8                  47.782   \n",
       "Sint Maarten Dutch Part 2020-04-26          NaN                     NaN   \n",
       "Argentina               2020-05-11         27.7                     NaN   \n",
       "\n",
       "                                    hospital_beds_per_thousand  \\\n",
       "location                date                                     \n",
       "Peru                    2020-05-23                         1.6   \n",
       "Fiji                    2020-03-23                         2.3   \n",
       "Nepal                   2020-01-25                         0.3   \n",
       "Sint Maarten Dutch Part 2020-04-26                         NaN   \n",
       "Argentina               2020-05-11                         5.0   \n",
       "\n",
       "                                    life_expectancy  \n",
       "location                date                         \n",
       "Peru                    2020-05-23            76.74  \n",
       "Fiji                    2020-03-23            67.44  \n",
       "Nepal                   2020-01-25            70.78  \n",
       "Sint Maarten Dutch Part 2020-04-26            78.95  \n",
       "Argentina               2020-05-11            76.67  \n",
       "\n",
       "[5 rows x 32 columns]"
      ]
     },
     "execution_count": 9,
     "metadata": {},
     "output_type": "execute_result"
    }
   ],
   "source": [
    "owid_df.sample(5)"
   ]
  },
  {
   "cell_type": "markdown",
   "metadata": {},
   "source": [
    "## OxCGRT government response data\n",
    "<a id='oxcgrt'></a>\n",
    "[Return to table of contents](#toc)"
   ]
  },
  {
   "cell_type": "markdown",
   "metadata": {},
   "source": [
    "Manual importation of data (for whatever reason this data set is different from pulling using API). This\n",
    "dataset contains time series information for the different social distancing and quarantine measures. The time\n",
    "series are recorded using flags which indicate whether or not a measure is in place, recommended, or not considered.\n",
    "In addition, there are addition flags which augment these time series; indicating whether or not the measures are targeted\n",
    "or general."
   ]
  },
  {
   "cell_type": "code",
   "execution_count": 10,
   "metadata": {},
   "outputs": [],
   "source": [
    "oxcgrt_df = regularize_names(pd.read_csv('./covid-policy-tracker/data/OxCGRT_latest.csv'), locationkey='country_name')\n",
    "oxcgrt_df.loc[:, 'date'] = pd.to_datetime(oxcgrt_df.loc[:, 'date'], format='%Y%m%d')\n",
    "oxcgrt_df = oxcgrt_df.set_index(['location', 'date'])\n",
    "oxcgrt_df.to_csv('oxcgrt.csv')"
   ]
  },
  {
   "cell_type": "code",
   "execution_count": 11,
   "metadata": {},
   "outputs": [
    {
     "data": {
      "text/html": [
       "<div>\n",
       "<style scoped>\n",
       "    .dataframe tbody tr th:only-of-type {\n",
       "        vertical-align: middle;\n",
       "    }\n",
       "\n",
       "    .dataframe tbody tr th {\n",
       "        vertical-align: top;\n",
       "    }\n",
       "\n",
       "    .dataframe thead th {\n",
       "        text-align: right;\n",
       "    }\n",
       "</style>\n",
       "<table border=\"1\" class=\"dataframe\">\n",
       "  <thead>\n",
       "    <tr style=\"text-align: right;\">\n",
       "      <th></th>\n",
       "      <th></th>\n",
       "      <th>country_name</th>\n",
       "      <th>country_code</th>\n",
       "      <th>c1_school_closing</th>\n",
       "      <th>c1_flag</th>\n",
       "      <th>c2_workplace_closing</th>\n",
       "      <th>c2_flag</th>\n",
       "      <th>c3_cancel_public_events</th>\n",
       "      <th>c3_flag</th>\n",
       "      <th>c4_restrictions_on_gatherings</th>\n",
       "      <th>c4_flag</th>\n",
       "      <th>...</th>\n",
       "      <th>stringency_index</th>\n",
       "      <th>stringency_index_for_display</th>\n",
       "      <th>stringency_legacy_index</th>\n",
       "      <th>stringency_legacy_index_for_display</th>\n",
       "      <th>government_response_index</th>\n",
       "      <th>government_response_index_for_display</th>\n",
       "      <th>containment_health_index</th>\n",
       "      <th>containment_health_index_for_display</th>\n",
       "      <th>economic_support_index</th>\n",
       "      <th>economic_support_index_for_display</th>\n",
       "    </tr>\n",
       "    <tr>\n",
       "      <th>location</th>\n",
       "      <th>date</th>\n",
       "      <th></th>\n",
       "      <th></th>\n",
       "      <th></th>\n",
       "      <th></th>\n",
       "      <th></th>\n",
       "      <th></th>\n",
       "      <th></th>\n",
       "      <th></th>\n",
       "      <th></th>\n",
       "      <th></th>\n",
       "      <th></th>\n",
       "      <th></th>\n",
       "      <th></th>\n",
       "      <th></th>\n",
       "      <th></th>\n",
       "      <th></th>\n",
       "      <th></th>\n",
       "      <th></th>\n",
       "      <th></th>\n",
       "      <th></th>\n",
       "      <th></th>\n",
       "    </tr>\n",
       "  </thead>\n",
       "  <tbody>\n",
       "    <tr>\n",
       "      <th>Brunei</th>\n",
       "      <th>2020-05-18</th>\n",
       "      <td>Brunei</td>\n",
       "      <td>BRN</td>\n",
       "      <td>3.0</td>\n",
       "      <td>1.0</td>\n",
       "      <td>0.0</td>\n",
       "      <td>NaN</td>\n",
       "      <td>1.0</td>\n",
       "      <td>1.0</td>\n",
       "      <td>3.0</td>\n",
       "      <td>1.0</td>\n",
       "      <td>...</td>\n",
       "      <td>52.78</td>\n",
       "      <td>52.78</td>\n",
       "      <td>63.81</td>\n",
       "      <td>63.81</td>\n",
       "      <td>47.44</td>\n",
       "      <td>47.44</td>\n",
       "      <td>53.79</td>\n",
       "      <td>53.79</td>\n",
       "      <td>12.5</td>\n",
       "      <td>12.5</td>\n",
       "    </tr>\n",
       "    <tr>\n",
       "      <th>Dominican Republic</th>\n",
       "      <th>2020-06-09</th>\n",
       "      <td>Dominican Republic</td>\n",
       "      <td>DOM</td>\n",
       "      <td>3.0</td>\n",
       "      <td>1.0</td>\n",
       "      <td>2.0</td>\n",
       "      <td>1.0</td>\n",
       "      <td>2.0</td>\n",
       "      <td>1.0</td>\n",
       "      <td>3.0</td>\n",
       "      <td>1.0</td>\n",
       "      <td>...</td>\n",
       "      <td>78.70</td>\n",
       "      <td>78.70</td>\n",
       "      <td>82.14</td>\n",
       "      <td>82.14</td>\n",
       "      <td>67.31</td>\n",
       "      <td>67.31</td>\n",
       "      <td>75.00</td>\n",
       "      <td>75.00</td>\n",
       "      <td>25.0</td>\n",
       "      <td>25.0</td>\n",
       "    </tr>\n",
       "    <tr>\n",
       "      <th>Zimbabwe</th>\n",
       "      <th>2020-02-27</th>\n",
       "      <td>Zimbabwe</td>\n",
       "      <td>ZWE</td>\n",
       "      <td>0.0</td>\n",
       "      <td>NaN</td>\n",
       "      <td>0.0</td>\n",
       "      <td>NaN</td>\n",
       "      <td>0.0</td>\n",
       "      <td>NaN</td>\n",
       "      <td>0.0</td>\n",
       "      <td>NaN</td>\n",
       "      <td>...</td>\n",
       "      <td>8.33</td>\n",
       "      <td>8.33</td>\n",
       "      <td>13.10</td>\n",
       "      <td>13.10</td>\n",
       "      <td>5.77</td>\n",
       "      <td>5.77</td>\n",
       "      <td>6.82</td>\n",
       "      <td>6.82</td>\n",
       "      <td>0.0</td>\n",
       "      <td>0.0</td>\n",
       "    </tr>\n",
       "    <tr>\n",
       "      <th>Sudan</th>\n",
       "      <th>2020-03-06</th>\n",
       "      <td>Sudan</td>\n",
       "      <td>SDN</td>\n",
       "      <td>0.0</td>\n",
       "      <td>NaN</td>\n",
       "      <td>0.0</td>\n",
       "      <td>NaN</td>\n",
       "      <td>0.0</td>\n",
       "      <td>NaN</td>\n",
       "      <td>0.0</td>\n",
       "      <td>NaN</td>\n",
       "      <td>...</td>\n",
       "      <td>5.56</td>\n",
       "      <td>5.56</td>\n",
       "      <td>9.52</td>\n",
       "      <td>9.52</td>\n",
       "      <td>3.85</td>\n",
       "      <td>3.85</td>\n",
       "      <td>4.55</td>\n",
       "      <td>4.55</td>\n",
       "      <td>0.0</td>\n",
       "      <td>0.0</td>\n",
       "    </tr>\n",
       "    <tr>\n",
       "      <th>Aruba</th>\n",
       "      <th>2020-03-27</th>\n",
       "      <td>Aruba</td>\n",
       "      <td>ABW</td>\n",
       "      <td>3.0</td>\n",
       "      <td>1.0</td>\n",
       "      <td>2.0</td>\n",
       "      <td>1.0</td>\n",
       "      <td>0.0</td>\n",
       "      <td>NaN</td>\n",
       "      <td>0.0</td>\n",
       "      <td>NaN</td>\n",
       "      <td>...</td>\n",
       "      <td>41.67</td>\n",
       "      <td>41.67</td>\n",
       "      <td>57.14</td>\n",
       "      <td>57.14</td>\n",
       "      <td>35.26</td>\n",
       "      <td>35.26</td>\n",
       "      <td>41.67</td>\n",
       "      <td>41.67</td>\n",
       "      <td>0.0</td>\n",
       "      <td>0.0</td>\n",
       "    </tr>\n",
       "  </tbody>\n",
       "</table>\n",
       "<p>5 rows × 41 columns</p>\n",
       "</div>"
      ],
      "text/plain": [
       "                                     country_name country_code  \\\n",
       "location           date                                          \n",
       "Brunei             2020-05-18              Brunei          BRN   \n",
       "Dominican Republic 2020-06-09  Dominican Republic          DOM   \n",
       "Zimbabwe           2020-02-27            Zimbabwe          ZWE   \n",
       "Sudan              2020-03-06               Sudan          SDN   \n",
       "Aruba              2020-03-27               Aruba          ABW   \n",
       "\n",
       "                               c1_school_closing  c1_flag  \\\n",
       "location           date                                     \n",
       "Brunei             2020-05-18                3.0      1.0   \n",
       "Dominican Republic 2020-06-09                3.0      1.0   \n",
       "Zimbabwe           2020-02-27                0.0      NaN   \n",
       "Sudan              2020-03-06                0.0      NaN   \n",
       "Aruba              2020-03-27                3.0      1.0   \n",
       "\n",
       "                               c2_workplace_closing  c2_flag  \\\n",
       "location           date                                        \n",
       "Brunei             2020-05-18                   0.0      NaN   \n",
       "Dominican Republic 2020-06-09                   2.0      1.0   \n",
       "Zimbabwe           2020-02-27                   0.0      NaN   \n",
       "Sudan              2020-03-06                   0.0      NaN   \n",
       "Aruba              2020-03-27                   2.0      1.0   \n",
       "\n",
       "                               c3_cancel_public_events  c3_flag  \\\n",
       "location           date                                           \n",
       "Brunei             2020-05-18                      1.0      1.0   \n",
       "Dominican Republic 2020-06-09                      2.0      1.0   \n",
       "Zimbabwe           2020-02-27                      0.0      NaN   \n",
       "Sudan              2020-03-06                      0.0      NaN   \n",
       "Aruba              2020-03-27                      0.0      NaN   \n",
       "\n",
       "                               c4_restrictions_on_gatherings  c4_flag  ...  \\\n",
       "location           date                                                ...   \n",
       "Brunei             2020-05-18                            3.0      1.0  ...   \n",
       "Dominican Republic 2020-06-09                            3.0      1.0  ...   \n",
       "Zimbabwe           2020-02-27                            0.0      NaN  ...   \n",
       "Sudan              2020-03-06                            0.0      NaN  ...   \n",
       "Aruba              2020-03-27                            0.0      NaN  ...   \n",
       "\n",
       "                               stringency_index  stringency_index_for_display  \\\n",
       "location           date                                                         \n",
       "Brunei             2020-05-18             52.78                         52.78   \n",
       "Dominican Republic 2020-06-09             78.70                         78.70   \n",
       "Zimbabwe           2020-02-27              8.33                          8.33   \n",
       "Sudan              2020-03-06              5.56                          5.56   \n",
       "Aruba              2020-03-27             41.67                         41.67   \n",
       "\n",
       "                               stringency_legacy_index  \\\n",
       "location           date                                  \n",
       "Brunei             2020-05-18                    63.81   \n",
       "Dominican Republic 2020-06-09                    82.14   \n",
       "Zimbabwe           2020-02-27                    13.10   \n",
       "Sudan              2020-03-06                     9.52   \n",
       "Aruba              2020-03-27                    57.14   \n",
       "\n",
       "                               stringency_legacy_index_for_display  \\\n",
       "location           date                                              \n",
       "Brunei             2020-05-18                                63.81   \n",
       "Dominican Republic 2020-06-09                                82.14   \n",
       "Zimbabwe           2020-02-27                                13.10   \n",
       "Sudan              2020-03-06                                 9.52   \n",
       "Aruba              2020-03-27                                57.14   \n",
       "\n",
       "                               government_response_index  \\\n",
       "location           date                                    \n",
       "Brunei             2020-05-18                      47.44   \n",
       "Dominican Republic 2020-06-09                      67.31   \n",
       "Zimbabwe           2020-02-27                       5.77   \n",
       "Sudan              2020-03-06                       3.85   \n",
       "Aruba              2020-03-27                      35.26   \n",
       "\n",
       "                               government_response_index_for_display  \\\n",
       "location           date                                                \n",
       "Brunei             2020-05-18                                  47.44   \n",
       "Dominican Republic 2020-06-09                                  67.31   \n",
       "Zimbabwe           2020-02-27                                   5.77   \n",
       "Sudan              2020-03-06                                   3.85   \n",
       "Aruba              2020-03-27                                  35.26   \n",
       "\n",
       "                               containment_health_index  \\\n",
       "location           date                                   \n",
       "Brunei             2020-05-18                     53.79   \n",
       "Dominican Republic 2020-06-09                     75.00   \n",
       "Zimbabwe           2020-02-27                      6.82   \n",
       "Sudan              2020-03-06                      4.55   \n",
       "Aruba              2020-03-27                     41.67   \n",
       "\n",
       "                               containment_health_index_for_display  \\\n",
       "location           date                                               \n",
       "Brunei             2020-05-18                                 53.79   \n",
       "Dominican Republic 2020-06-09                                 75.00   \n",
       "Zimbabwe           2020-02-27                                  6.82   \n",
       "Sudan              2020-03-06                                  4.55   \n",
       "Aruba              2020-03-27                                 41.67   \n",
       "\n",
       "                               economic_support_index  \\\n",
       "location           date                                 \n",
       "Brunei             2020-05-18                    12.5   \n",
       "Dominican Republic 2020-06-09                    25.0   \n",
       "Zimbabwe           2020-02-27                     0.0   \n",
       "Sudan              2020-03-06                     0.0   \n",
       "Aruba              2020-03-27                     0.0   \n",
       "\n",
       "                               economic_support_index_for_display  \n",
       "location           date                                            \n",
       "Brunei             2020-05-18                                12.5  \n",
       "Dominican Republic 2020-06-09                                25.0  \n",
       "Zimbabwe           2020-02-27                                 0.0  \n",
       "Sudan              2020-03-06                                 0.0  \n",
       "Aruba              2020-03-27                                 0.0  \n",
       "\n",
       "[5 rows x 41 columns]"
      ]
     },
     "execution_count": 11,
     "metadata": {},
     "output_type": "execute_result"
    }
   ],
   "source": [
    "oxcgrt_df.sample(5)"
   ]
  },
  {
   "cell_type": "markdown",
   "metadata": {},
   "source": [
    "Reformat the data, making it a multiindex dataframe which matches the others in this notebook. Also, cast\n",
    "the date-like variable as a datetime feature."
   ]
  },
  {
   "cell_type": "markdown",
   "metadata": {},
   "source": [
    "## Testing tracker data\n",
    "<a id='testtrack'></a>\n",
    "[Return to table of contents](#toc)"
   ]
  },
  {
   "cell_type": "code",
   "execution_count": 12,
   "metadata": {},
   "outputs": [],
   "source": [
    "test_tracker = regularize_names(pd.read_csv('test_tracker_cases_and_tests.csv'),\n",
    "                          datekey='date', locationkey='country').set_index(\n",
    "                            ['location', 'date']).drop(\n",
    "                                    columns=['country','population','alpha3']).sort_index()\n",
    "test_tracker.to_csv('test_tracker.csv')"
   ]
  },
  {
   "cell_type": "code",
   "execution_count": 13,
   "metadata": {},
   "outputs": [
    {
     "data": {
      "text/html": [
       "<div>\n",
       "<style scoped>\n",
       "    .dataframe tbody tr th:only-of-type {\n",
       "        vertical-align: middle;\n",
       "    }\n",
       "\n",
       "    .dataframe tbody tr th {\n",
       "        vertical-align: top;\n",
       "    }\n",
       "\n",
       "    .dataframe thead th {\n",
       "        text-align: right;\n",
       "    }\n",
       "</style>\n",
       "<table border=\"1\" class=\"dataframe\">\n",
       "  <thead>\n",
       "    <tr style=\"text-align: right;\">\n",
       "      <th></th>\n",
       "      <th></th>\n",
       "      <th>new_tests</th>\n",
       "      <th>tests_cumulative</th>\n",
       "      <th>tests_per100k</th>\n",
       "      <th>source</th>\n",
       "      <th>cases</th>\n",
       "      <th>new_cases</th>\n",
       "      <th>deaths</th>\n",
       "      <th>cases_per100k</th>\n",
       "      <th>deaths_per100k</th>\n",
       "      <th>income_group</th>\n",
       "      <th>continent</th>\n",
       "      <th>region</th>\n",
       "    </tr>\n",
       "    <tr>\n",
       "      <th>location</th>\n",
       "      <th>date</th>\n",
       "      <th></th>\n",
       "      <th></th>\n",
       "      <th></th>\n",
       "      <th></th>\n",
       "      <th></th>\n",
       "      <th></th>\n",
       "      <th></th>\n",
       "      <th></th>\n",
       "      <th></th>\n",
       "      <th></th>\n",
       "      <th></th>\n",
       "      <th></th>\n",
       "    </tr>\n",
       "  </thead>\n",
       "  <tbody>\n",
       "    <tr>\n",
       "      <th>United States</th>\n",
       "      <th>2020-06-28</th>\n",
       "      <td>590877.0</td>\n",
       "      <td>30401644.0</td>\n",
       "      <td>9184.7</td>\n",
       "      <td>https://covidtracking.com/data/#ME</td>\n",
       "      <td>2548996.0</td>\n",
       "      <td>38845.0</td>\n",
       "      <td>125803.0</td>\n",
       "      <td>770.1</td>\n",
       "      <td>38.0</td>\n",
       "      <td>High income</td>\n",
       "      <td>North America</td>\n",
       "      <td>Northern America</td>\n",
       "    </tr>\n",
       "    <tr>\n",
       "      <th>Western Sahara</th>\n",
       "      <th>2020-05-20</th>\n",
       "      <td>0.0</td>\n",
       "      <td>4.0</td>\n",
       "      <td>0.7</td>\n",
       "      <td>https://africacdc.org/covid-19/</td>\n",
       "      <td>6.0</td>\n",
       "      <td>0.0</td>\n",
       "      <td>0.0</td>\n",
       "      <td>1.0</td>\n",
       "      <td>0.0</td>\n",
       "      <td>NaN</td>\n",
       "      <td>Africa</td>\n",
       "      <td>Northern Africa</td>\n",
       "    </tr>\n",
       "    <tr>\n",
       "      <th>Cambodia</th>\n",
       "      <th>2020-03-10</th>\n",
       "      <td>NaN</td>\n",
       "      <td>NaN</td>\n",
       "      <td>NaN</td>\n",
       "      <td>NaN</td>\n",
       "      <td>2.0</td>\n",
       "      <td>0.0</td>\n",
       "      <td>0.0</td>\n",
       "      <td>0.0</td>\n",
       "      <td>0.0</td>\n",
       "      <td>Lower middle income</td>\n",
       "      <td>Asia</td>\n",
       "      <td>South-eastern Asia</td>\n",
       "    </tr>\n",
       "    <tr>\n",
       "      <th>Nicaragua</th>\n",
       "      <th>2020-04-05</th>\n",
       "      <td>NaN</td>\n",
       "      <td>NaN</td>\n",
       "      <td>NaN</td>\n",
       "      <td>NaN</td>\n",
       "      <td>6.0</td>\n",
       "      <td>1.0</td>\n",
       "      <td>1.0</td>\n",
       "      <td>0.1</td>\n",
       "      <td>0.0</td>\n",
       "      <td>Lower middle income</td>\n",
       "      <td>North America</td>\n",
       "      <td>Central America</td>\n",
       "    </tr>\n",
       "    <tr>\n",
       "      <th>Taiwan</th>\n",
       "      <th>2020-05-24</th>\n",
       "      <td>183.0</td>\n",
       "      <td>70880.0</td>\n",
       "      <td>297.6</td>\n",
       "      <td>https://www.cdc.gov.tw/En</td>\n",
       "      <td>441.0</td>\n",
       "      <td>0.0</td>\n",
       "      <td>7.0</td>\n",
       "      <td>1.9</td>\n",
       "      <td>0.0</td>\n",
       "      <td>High income</td>\n",
       "      <td>Asia</td>\n",
       "      <td>Eastern Asia</td>\n",
       "    </tr>\n",
       "  </tbody>\n",
       "</table>\n",
       "</div>"
      ],
      "text/plain": [
       "                           new_tests  tests_cumulative  tests_per100k  \\\n",
       "location       date                                                     \n",
       "United States  2020-06-28   590877.0        30401644.0         9184.7   \n",
       "Western Sahara 2020-05-20        0.0               4.0            0.7   \n",
       "Cambodia       2020-03-10        NaN               NaN            NaN   \n",
       "Nicaragua      2020-04-05        NaN               NaN            NaN   \n",
       "Taiwan         2020-05-24      183.0           70880.0          297.6   \n",
       "\n",
       "                                                       source      cases  \\\n",
       "location       date                                                        \n",
       "United States  2020-06-28  https://covidtracking.com/data/#ME  2548996.0   \n",
       "Western Sahara 2020-05-20     https://africacdc.org/covid-19/        6.0   \n",
       "Cambodia       2020-03-10                                 NaN        2.0   \n",
       "Nicaragua      2020-04-05                                 NaN        6.0   \n",
       "Taiwan         2020-05-24           https://www.cdc.gov.tw/En      441.0   \n",
       "\n",
       "                           new_cases    deaths  cases_per100k  deaths_per100k  \\\n",
       "location       date                                                             \n",
       "United States  2020-06-28    38845.0  125803.0          770.1            38.0   \n",
       "Western Sahara 2020-05-20        0.0       0.0            1.0             0.0   \n",
       "Cambodia       2020-03-10        0.0       0.0            0.0             0.0   \n",
       "Nicaragua      2020-04-05        1.0       1.0            0.1             0.0   \n",
       "Taiwan         2020-05-24        0.0       7.0            1.9             0.0   \n",
       "\n",
       "                                  income_group      continent  \\\n",
       "location       date                                             \n",
       "United States  2020-06-28          High income  North America   \n",
       "Western Sahara 2020-05-20                  NaN         Africa   \n",
       "Cambodia       2020-03-10  Lower middle income           Asia   \n",
       "Nicaragua      2020-04-05  Lower middle income  North America   \n",
       "Taiwan         2020-05-24          High income           Asia   \n",
       "\n",
       "                                       region  \n",
       "location       date                            \n",
       "United States  2020-06-28    Northern America  \n",
       "Western Sahara 2020-05-20     Northern Africa  \n",
       "Cambodia       2020-03-10  South-eastern Asia  \n",
       "Nicaragua      2020-04-05     Central America  \n",
       "Taiwan         2020-05-24        Eastern Asia  "
      ]
     },
     "execution_count": 13,
     "metadata": {},
     "output_type": "execute_result"
    }
   ],
   "source": [
    "test_tracker.sample(5)"
   ]
  },
  {
   "cell_type": "markdown",
   "metadata": {},
   "source": [
    "## Data regularization: making things uniform <a id='uniformity'></a>"
   ]
  },
  {
   "cell_type": "markdown",
   "metadata": {},
   "source": [
    "## Intersection of countries in all DataFrames\n",
    "<a id='country'></a>\n",
    "[Return to table of contents](#toc)\n",
    "\n",
    "The data that will be used to model country-wide case numbers exists in the DataFrames : \n",
    "\n",
    "    csse_global_timeseries_df\n",
    "    owid_df\n",
    "    oxcgrt_df\n",
    "    testtrack_df\n",
    "    \n",
    "The index (locations) were not reformatted by default; do that now."
   ]
  },
  {
   "cell_type": "markdown",
   "metadata": {},
   "source": [
    "The data have all been formatted to have multi level indices and columns; the levels of the index are ```['location', 'date']``` which correspond to geographical location and day of record. To process/merge these dataframes, I find it convenient to put these DataFrames into a list and then normalize the countries and dates by iterating over them. For exploration purposes, the similarly named (i.e. redundant) features are kept separate by adding a suffix corresponding to the dataset from which they originate."
   ]
  },
  {
   "cell_type": "markdown",
   "metadata": {},
   "source": [
    "The next step is to find the subset of all countries which exist in all of the DataFrames. It is possible to\n",
    "simply concatenate the data and introduce missing values, however, I am electing to take the intersection of countries as\n",
    "to take the most \"reliable\" subset. On the contrary, for the dates I take the union; that is, the dates that exist in all datasets. "
   ]
  },
  {
   "cell_type": "markdown",
   "metadata": {},
   "source": [
    "# Data preprocessing and exploration"
   ]
  },
  {
   "cell_type": "markdown",
   "metadata": {},
   "source": [
    "## Regularization of time series dates\n",
    "<a id='time'></a>\n",
    "[Return to table of contents](#toc)"
   ]
  },
  {
   "cell_type": "code",
   "execution_count": 14,
   "metadata": {},
   "outputs": [],
   "source": [
    "all_data = [csse_global_time_series_df,csse_usa_time_series_df, test_tracker, oxcgrt_df, owid_df]\n",
    "global_data = [csse_global_time_series_df, test_tracker, oxcgrt_df, owid_df]"
   ]
  },
  {
   "cell_type": "code",
   "execution_count": 15,
   "metadata": {},
   "outputs": [
    {
     "name": "stdout",
     "output_type": "stream",
     "text": [
      "The range of all dates is from 2020-01-22 00:00:00 to 2020-06-28 00:00:00\n",
      "The final number of locations included is 296\n"
     ]
    }
   ],
   "source": [
    "names = ['jhucsse', 'jhucsse_usa', 'testtracker',  'oxcgrt', 'owid']\n",
    "export_list = []\n",
    "\n",
    "export_list_tmp, dates_intersection, country_intersection = regularize_time_series(all_data, location_operation='union',\n",
    "                                                                                  date_operation='intersection')\n",
    "\n",
    "for i, x in enumerate(export_list_tmp):\n",
    "    gd_export_copy = x.copy()\n",
    "    gd_export_copy.columns += '_' + names[i]\n",
    "    export_list.append(gd_export_copy)\n",
    "    \n",
    "eda_data = multiindex_to_table(pd.concat(export_list, axis=1))\n",
    "eda_data = eda_data[~eda_data.location.isin(['Diamond Princess','World'])]\n",
    "\n",
    "print('The range of all dates is from {} to {}'.format(dates_intersection.min(), dates_intersection.max()))\n",
    "print('The final number of locations included is {}'.format(len(country_intersection)))"
   ]
  },
  {
   "cell_type": "markdown",
   "metadata": {},
   "source": [
    "By using multiple datasets, there is redundant information for cases, tests, deaths, etc. I average\n",
    "over these values to account for errors and differences in reporting, using the philosophy that\n",
    "it is better to aggregate as much data as possible, at the very least for exploration."
   ]
  },
  {
   "cell_type": "code",
   "execution_count": 16,
   "metadata": {},
   "outputs": [],
   "source": [
    "death_columns = ['deaths_jhucsse', 'deaths_jhucsse_usa']\n",
    "new_average_feature(eda_data, death_columns, 'total_deaths')"
   ]
  },
  {
   "cell_type": "code",
   "execution_count": 17,
   "metadata": {},
   "outputs": [],
   "source": [
    "case_columns = ['cases_jhucsse', 'cases_jhucsse_usa', 'cases_testtracker',\n",
    "       'confirmed_cases_oxcgrt', 'total_cases_owid']\n",
    "new_average_feature(eda_data, case_columns, 'total_cases')"
   ]
  },
  {
   "cell_type": "code",
   "execution_count": 18,
   "metadata": {},
   "outputs": [],
   "source": [
    "test_columns =  [ 'tests_cumulative_testtracker','total_tests_owid']\n",
    "new_average_feature(eda_data, test_columns, 'total_tests')"
   ]
  },
  {
   "cell_type": "markdown",
   "metadata": {},
   "source": [
    "If there are any countries without any information on the total cases, then they are dropped\n",
    "due to lack of utility."
   ]
  },
  {
   "cell_type": "code",
   "execution_count": 19,
   "metadata": {},
   "outputs": [],
   "source": [
    "locations_with_no_case_data = eda_data.location[~eda_data.location.isin(\n",
    "    eda_data.loc[eda_data.total_cases.replace(to_replace=[0,0.], value=np.nan\n",
    "                                             ).dropna().index,'location'].unique())].unique()"
   ]
  },
  {
   "cell_type": "markdown",
   "metadata": {},
   "source": [
    "Drop the \"bad\" countries and then create new time-index features. Time index is an integer counting feature which spans\n",
    "the range of dates printed out above."
   ]
  },
  {
   "cell_type": "code",
   "execution_count": 20,
   "metadata": {},
   "outputs": [],
   "source": [
    "eda_data = eda_data[~(eda_data.location.isin(locations_with_no_case_data))]\n",
    "eda_data = add_time_indices(eda_data, index_column='total_cases')"
   ]
  },
  {
   "cell_type": "markdown",
   "metadata": {},
   "source": [
    "Look at the top five total countries deaths, tests, cases, time series to get an idea as to the condition of the data."
   ]
  },
  {
   "cell_type": "code",
   "execution_count": 21,
   "metadata": {},
   "outputs": [
    {
     "data": {
      "text/plain": [
       "<matplotlib.axes._subplots.AxesSubplot at 0x18fcae37348>"
      ]
     },
     "execution_count": 21,
     "metadata": {},
     "output_type": "execute_result"
    },
    {
     "data": {
      "image/png": "[encoded data removed]",
      "text/plain": [
       "<Figure size 432x288 with 1 Axes>"
      ]
     },
     "metadata": {
      "needs_background": "light"
     },
     "output_type": "display_data"
    }
   ],
   "source": [
    "eda_data[eda_data.location.isin(eda_data.set_index(['time_index', 'location']).total_cases.groupby(level=1).max().sort_values()[-10:-5].index)].set_index(['time_index', 'location']).total_cases.unstack().plot()"
   ]
  },
  {
   "cell_type": "code",
   "execution_count": 22,
   "metadata": {},
   "outputs": [
    {
     "data": {
      "text/plain": [
       "<matplotlib.axes._subplots.AxesSubplot at 0x18fcb522688>"
      ]
     },
     "execution_count": 22,
     "metadata": {},
     "output_type": "execute_result"
    },
    {
     "data": {
      "image/png": "[encoded data removed]",
      "text/plain": [
       "<Figure size 432x288 with 1 Axes>"
      ]
     },
     "metadata": {
      "needs_background": "light"
     },
     "output_type": "display_data"
    }
   ],
   "source": [
    "eda_data[eda_data.location.isin(\n",
    "                                 (eda_data.set_index(['time_index', 'location']).total_deaths\n",
    "                                 ).groupby(level=1).max().sort_values()[-10:-5].index\n",
    "                               )].set_index(['time_index', 'location']).total_deaths.unstack().plot()"
   ]
  },
  {
   "cell_type": "code",
   "execution_count": 23,
   "metadata": {},
   "outputs": [
    {
     "data": {
      "image/png": "[encoded data removed]",
      "text/plain": [
       "<Figure size 432x288 with 1 Axes>"
      ]
     },
     "metadata": {
      "needs_background": "light"
     },
     "output_type": "display_data"
    }
   ],
   "source": [
    "eda_data[eda_data.location.isin(eda_data.set_index(['time_index', 'location']).total_tests.groupby(level=1).max().sort_values()[-10:-5].index)].set_index(['time_index', 'location']).total_tests.unstack().plot()\n",
    "_ = plt.ylabel('Total tests')"
   ]
  },
  {
   "cell_type": "code",
   "execution_count": 24,
   "metadata": {},
   "outputs": [
    {
     "name": "stdout",
     "output_type": "stream",
     "text": [
      "Fixing 68 countries in the total_tests column feature\n",
      "Fixing 59 countries in the total_cases column feature\n",
      "Fixing 46 countries in the total_deaths column feature\n"
     ]
    }
   ],
   "source": [
    "for features in ['total_tests', 'total_cases', 'total_deaths']:\n",
    "    eda_data = fix_incorrect_decrease(eda_data, features, search_threshold='match')"
   ]
  },
  {
   "cell_type": "markdown",
   "metadata": {},
   "source": [
    "Label the columns with the data sources because otherwise there are repeated column names which is a pain to deal with\n",
    "later on."
   ]
  },
  {
   "cell_type": "code",
   "execution_count": 25,
   "metadata": {},
   "outputs": [],
   "source": [
    "for country_indices in country_groupby(eda_data):\n",
    "    eda_data.loc[country_indices, column_search(eda_data,'population')] = \\\n",
    "    eda_data.loc[country_indices,  column_search(eda_data,'population')].fillna(method='ffill').fillna(method='bfill').values "
   ]
  },
  {
   "cell_type": "code",
   "execution_count": 26,
   "metadata": {},
   "outputs": [],
   "source": [
    "death_copy = eda_data.iloc[:,3].copy()\n",
    "eda_data = eda_data.drop(columns=['deaths_jhucsse'])\n",
    "eda_data = pd.concat((eda_data.iloc[:,:3], death_copy,eda_data.iloc[:,4:]),axis=1)"
   ]
  },
  {
   "cell_type": "markdown",
   "metadata": {},
   "source": [
    "Calculate moving averages here to save space in exploration notebook."
   ]
  },
  {
   "cell_type": "code",
   "execution_count": 27,
   "metadata": {},
   "outputs": [],
   "source": [
    "# use multiples of 7 to capture weekly seasonality\n",
    "roll_widths = [3, 7, 14, 21, 28]\n",
    "\n",
    "new_features = rolling_features(eda_data, \n",
    "                                  eda_data.select_dtypes(include='number').columns, \n",
    "                                  roll_widths=roll_widths)"
   ]
  },
  {
   "cell_type": "markdown",
   "metadata": {},
   "source": [
    "Concatenate these new features and then export data."
   ]
  },
  {
   "cell_type": "code",
   "execution_count": 28,
   "metadata": {},
   "outputs": [
    {
     "data": {
      "text/html": [
       "<div>\n",
       "<style scoped>\n",
       "    .dataframe tbody tr th:only-of-type {\n",
       "        vertical-align: middle;\n",
       "    }\n",
       "\n",
       "    .dataframe tbody tr th {\n",
       "        vertical-align: top;\n",
       "    }\n",
       "\n",
       "    .dataframe thead th {\n",
       "        text-align: right;\n",
       "    }\n",
       "</style>\n",
       "<table border=\"1\" class=\"dataframe\">\n",
       "  <thead>\n",
       "    <tr style=\"text-align: right;\">\n",
       "      <th></th>\n",
       "      <th>new_total_cases_owid</th>\n",
       "      <th>new_total_deaths_owid</th>\n",
       "      <th>new_total_cases_per_million_owid</th>\n",
       "      <th>new_total_deaths_per_million_owid</th>\n",
       "      <th>new_total_tests_owid</th>\n",
       "      <th>new_total_tests_per_thousand_owid</th>\n",
       "      <th>new_total_deaths</th>\n",
       "      <th>new_total_cases</th>\n",
       "      <th>new_total_tests</th>\n",
       "    </tr>\n",
       "  </thead>\n",
       "  <tbody>\n",
       "    <tr>\n",
       "      <th>29053</th>\n",
       "      <td>0.0</td>\n",
       "      <td>0.0</td>\n",
       "      <td>0.000</td>\n",
       "      <td>0.0</td>\n",
       "      <td>0.0</td>\n",
       "      <td>0.000</td>\n",
       "      <td>4.0</td>\n",
       "      <td>80.000000</td>\n",
       "      <td>0.0</td>\n",
       "    </tr>\n",
       "    <tr>\n",
       "      <th>2302</th>\n",
       "      <td>7.0</td>\n",
       "      <td>0.0</td>\n",
       "      <td>65.564</td>\n",
       "      <td>0.0</td>\n",
       "      <td>0.0</td>\n",
       "      <td>0.000</td>\n",
       "      <td>0.0</td>\n",
       "      <td>7.000000</td>\n",
       "      <td>0.0</td>\n",
       "    </tr>\n",
       "    <tr>\n",
       "      <th>24931</th>\n",
       "      <td>19.0</td>\n",
       "      <td>0.0</td>\n",
       "      <td>35.150</td>\n",
       "      <td>0.0</td>\n",
       "      <td>797.0</td>\n",
       "      <td>1.474</td>\n",
       "      <td>0.0</td>\n",
       "      <td>43.666667</td>\n",
       "      <td>797.0</td>\n",
       "    </tr>\n",
       "    <tr>\n",
       "      <th>18291</th>\n",
       "      <td>0.0</td>\n",
       "      <td>0.0</td>\n",
       "      <td>0.000</td>\n",
       "      <td>0.0</td>\n",
       "      <td>0.0</td>\n",
       "      <td>0.000</td>\n",
       "      <td>0.0</td>\n",
       "      <td>0.000000</td>\n",
       "      <td>0.0</td>\n",
       "    </tr>\n",
       "    <tr>\n",
       "      <th>31610</th>\n",
       "      <td>0.0</td>\n",
       "      <td>0.0</td>\n",
       "      <td>0.000</td>\n",
       "      <td>0.0</td>\n",
       "      <td>0.0</td>\n",
       "      <td>0.000</td>\n",
       "      <td>4.0</td>\n",
       "      <td>65.000000</td>\n",
       "      <td>0.0</td>\n",
       "    </tr>\n",
       "  </tbody>\n",
       "</table>\n",
       "</div>"
      ],
      "text/plain": [
       "       new_total_cases_owid  new_total_deaths_owid  \\\n",
       "29053                   0.0                    0.0   \n",
       "2302                    7.0                    0.0   \n",
       "24931                  19.0                    0.0   \n",
       "18291                   0.0                    0.0   \n",
       "31610                   0.0                    0.0   \n",
       "\n",
       "       new_total_cases_per_million_owid  new_total_deaths_per_million_owid  \\\n",
       "29053                             0.000                                0.0   \n",
       "2302                             65.564                                0.0   \n",
       "24931                            35.150                                0.0   \n",
       "18291                             0.000                                0.0   \n",
       "31610                             0.000                                0.0   \n",
       "\n",
       "       new_total_tests_owid  new_total_tests_per_thousand_owid  \\\n",
       "29053                   0.0                              0.000   \n",
       "2302                    0.0                              0.000   \n",
       "24931                 797.0                              1.474   \n",
       "18291                   0.0                              0.000   \n",
       "31610                   0.0                              0.000   \n",
       "\n",
       "       new_total_deaths  new_total_cases  new_total_tests  \n",
       "29053               4.0        80.000000              0.0  \n",
       "2302                0.0         7.000000              0.0  \n",
       "24931               0.0        43.666667            797.0  \n",
       "18291               0.0         0.000000              0.0  \n",
       "31610               4.0        65.000000              0.0  "
      ]
     },
     "execution_count": 28,
     "metadata": {},
     "output_type": "execute_result"
    }
   ],
   "source": [
    "export_to_modeling = pd.concat((eda_data,\n",
    "                                new_features\n",
    "                               ),axis=1)\n",
    "\n",
    "export_to_modeling.loc[:, export_to_modeling.select_dtypes(include='object').columns] = \\\n",
    "export_to_modeling.loc[:, export_to_modeling.select_dtypes(include='object').columns].fillna('Missing')\n",
    "\n",
    "tmp = eda_data.loc[:, column_search(eda_data, 'total').tolist()+['location']].groupby('location').diff(1).fillna(0)\n",
    "tmp.columns = 'new_' + tmp.columns\n",
    "tmp.sample(5)"
   ]
  },
  {
   "cell_type": "code",
   "execution_count": 29,
   "metadata": {},
   "outputs": [],
   "source": [
    "tmp_per_mill = tmp / np.tile((eda_data.population_owid.values.reshape(-1,1)/1000000.),(1,9))\n",
    "tmp_per_mill.columns += '_per_million'\n",
    "\n",
    "pd.concat((export_to_modeling, tmp, tmp_per_mill),axis=1).to_csv('data.csv')"
   ]
  },
  {
   "cell_type": "markdown",
   "metadata": {},
   "source": [
    "The process above is repeated for the data which will be used in the CNN and regression models,\n",
    "respectively. This is done separately to avoid mistakes."
   ]
  },
  {
   "cell_type": "code",
   "execution_count": 30,
   "metadata": {
    "scrolled": true
   },
   "outputs": [
    {
     "name": "stdout",
     "output_type": "stream",
     "text": [
      "The range of all dates is from 2020-01-22 00:00:00 to 2020-06-28 00:00:00\n",
      "The final number of locations included is 149\n"
     ]
    }
   ],
   "source": [
    "names = ['jhucsse', 'testtracker',  'oxcgrt', 'owid']\n",
    "export_list = []\n",
    "\n",
    "export_list_tmp, dates_intersection, country_intersection = regularize_time_series(global_data, \n",
    "                                                                                   location_operation='intersection',\n",
    "                                                                                  date_operation='intersection')\n",
    "\n",
    "for i, x in enumerate(export_list_tmp):\n",
    "    gd_export_copy = x.copy()\n",
    "    gd_export_copy.columns += '_' + names[i]\n",
    "    export_list.append(gd_export_copy)\n",
    "    \n",
    "data = add_time_indices(multiindex_to_table(pd.concat(export_list, axis=1)), index_column='cases_jhucsse')\n",
    "data = data[~data.location.isin(['Diamond Princess','World'])]\n",
    "print('The range of all dates is from {} to {}'.format(dates_intersection.min(), dates_intersection.max()))\n",
    "print('The final number of locations included is {}'.format(len(country_intersection)))"
   ]
  },
  {
   "cell_type": "code",
   "execution_count": 31,
   "metadata": {
    "scrolled": false
   },
   "outputs": [
    {
     "name": "stdout",
     "output_type": "stream",
     "text": [
      "The range of all dates is from 2020-01-22 00:00:00 to 2020-06-28 00:00:00\n",
      "The number of countries included is 149\n"
     ]
    }
   ],
   "source": [
    "dataframe_list, modeling_dates, modeling_countries = regularize_time_series(global_data, location_operation='intersection',\n",
    "                                                                                  date_operation='intersection')\n",
    "print('The range of all dates is from {} to {}'.format(modeling_dates.min(), modeling_dates.max()))\n",
    "print('The number of countries included is {}'.format(len(modeling_countries)))\n",
    "# Convert the multiindex DataFrame to a simple table, and then add numerical features which track the\n",
    "# date and # of days since first case. \n",
    "df = add_time_indices(multiindex_to_table(pd.concat(dataframe_list, axis=1)), index_column='cases')\n",
    "# keep the OWID per million features separately. \n",
    "saved_per_million = df.loc[:, column_search(df, 'per_million')].copy()\n",
    "df = df.drop(columns=column_search(df, 'per_million'))"
   ]
  },
  {
   "cell_type": "markdown",
   "metadata": {},
   "source": [
    "Create an index/list of the features which *should* be cumulative. Then fix their values using\n",
    "forward filling / zero filling."
   ]
  },
  {
   "cell_type": "code",
   "execution_count": 32,
   "metadata": {},
   "outputs": [],
   "source": [
    "cumulative_columns = pd.Index(column_search(df, 'cases').unique().tolist()\n",
    "                      +column_search(df, 'deaths').unique().tolist()\n",
    "                      +column_search(df, 'tests').unique().tolist()+['recovered'])\n",
    "cumulative_columns = cumulative_columns[~cumulative_columns.str.contains('new')].drop('tests_units')"
   ]
  },
  {
   "cell_type": "markdown",
   "metadata": {},
   "source": [
    "The number of incorrectly decreasing values."
   ]
  },
  {
   "cell_type": "code",
   "execution_count": 33,
   "metadata": {},
   "outputs": [
    {
     "data": {
      "text/plain": [
       "cases                       31\n",
       "cases                       31\n",
       "cases_per100k               25\n",
       "confirmed_cases             14\n",
       "total_cases                 14\n",
       "deaths                      25\n",
       "deaths                      25\n",
       "deaths_per100k              13\n",
       "confirmed_deaths             2\n",
       "total_deaths                 2\n",
       "tests_cumulative            16\n",
       "tests_per100k               16\n",
       "total_tests                  5\n",
       "total_tests_per_thousand     5\n",
       "recovered                   48\n",
       "dtype: int64"
      ]
     },
     "execution_count": 33,
     "metadata": {},
     "output_type": "execute_result"
    }
   ],
   "source": [
    "(df.set_index([df.time_index, df.location]).loc[:, cumulative_columns\n",
    "                                              ].groupby(level=1).diff(1).fillna(0) < 0).sum()#.drop_duplicates()"
   ]
  },
  {
   "cell_type": "code",
   "execution_count": 34,
   "metadata": {},
   "outputs": [
    {
     "data": {
      "text/plain": [
       "[<matplotlib.lines.Line2D at 0x18f82a57e48>]"
      ]
     },
     "execution_count": 34,
     "metadata": {},
     "output_type": "execute_result"
    },
    {
     "data": {
      "image/png": "[encoded data removed]",
      "text/plain": [
       "<Figure size 432x288 with 1 Axes>"
      ]
     },
     "metadata": {
      "needs_background": "light"
     },
     "output_type": "display_data"
    }
   ],
   "source": [
    "fig, ax = plt.subplots()\n",
    "ax.plot(df[df.location == 'Benin'].total_cases.values)\n",
    "ax.plot(df[df.location == 'Lithuania'].total_cases.values)\n",
    "ax.plot(df[df.location == 'Uganda'].total_cases.values)"
   ]
  },
  {
   "cell_type": "code",
   "execution_count": 35,
   "metadata": {
    "scrolled": false
   },
   "outputs": [
    {
     "name": "stdout",
     "output_type": "stream",
     "text": [
      "Fixing 20 countries in the cases column feature\n",
      "Fixing 16 countries in the cases_per100k column feature\n",
      "Fixing 10 countries in the confirmed_cases column feature\n",
      "Fixing 10 countries in the total_cases column feature\n",
      "Fixing 18 countries in the deaths column feature\n",
      "Fixing 11 countries in the deaths_per100k column feature\n",
      "Fixing 2 countries in the confirmed_deaths column feature\n",
      "Fixing 2 countries in the total_deaths column feature\n",
      "Fixing 13 countries in the tests_cumulative column feature\n",
      "Fixing 13 countries in the tests_per100k column feature\n",
      "Fixing 2 countries in the total_tests column feature\n",
      "Fixing 2 countries in the total_tests_per_thousand column feature\n",
      "Fixing 38 countries in the recovered column feature\n"
     ]
    }
   ],
   "source": [
    "for features in cumulative_columns:\n",
    "    df = fix_incorrect_decrease(df, features, search_threshold='match')"
   ]
  },
  {
   "cell_type": "code",
   "execution_count": 36,
   "metadata": {},
   "outputs": [
    {
     "data": {
      "text/plain": [
       "[<matplotlib.lines.Line2D at 0x18f82a0a4c8>]"
      ]
     },
     "execution_count": 36,
     "metadata": {},
     "output_type": "execute_result"
    },
    {
     "data": {
      "image/png": "[encoded data removed]",
      "text/plain": [
       "<Figure size 432x288 with 1 Axes>"
      ]
     },
     "metadata": {
      "needs_background": "light"
     },
     "output_type": "display_data"
    }
   ],
   "source": [
    "fig, ax = plt.subplots()\n",
    "ax.plot(df[df.location == 'Benin'].tests_cumulative.values)\n",
    "ax.plot(df[df.location == 'Lithuania'].tests_cumulative.values)\n",
    "ax.plot(df[df.location == 'Uganda'].tests_cumulative.values)"
   ]
  },
  {
   "cell_type": "markdown",
   "metadata": {},
   "source": [
    "## Preprocessing: missing values, feature production, etc.\n",
    "<a id='missingval'></a>\n",
    "[Return to table of contents](#toc)\n",
    "\n",
    "The next section is concerned with the handling and imputation of missing values. The key consideration is\n",
    "to not contaminate the time series with information from the future. Because I am filling in the missing values here,\n",
    "I will be flagging the original missing values and keeping these flags as new features. "
   ]
  },
  {
   "cell_type": "markdown",
   "metadata": {},
   "source": [
    "My original idea was to normalize using the population of each country but I'm unsure as to whether this is the best\n",
    "idea; at least without another consideration. Using the population blindly results in micro-states and small countries\n",
    "being weighted heavily. Now, either I can drop these countries or I can weight the features differently; with the population *density*. This accounts for population as well as how large the state is."
   ]
  },
  {
   "cell_type": "markdown",
   "metadata": {},
   "source": [
    "## Feature production, deciding on which features to use for modeling<a id='newfeatures'></a>"
   ]
  },
  {
   "cell_type": "code",
   "execution_count": 37,
   "metadata": {},
   "outputs": [],
   "source": [
    "# redundant features; some features contain the same substring but are not redundant, hence the use of .difference()\n",
    "redundant_death_columns = column_search(df, 'death').difference(['cvd_death_rate'])\n",
    "redundant_test_columns = column_search(df, 'test').difference(['tests_units','h2_testing_policy'])\n",
    "redundant_case_columns= column_search(df, 'cases')"
   ]
  },
  {
   "cell_type": "code",
   "execution_count": 38,
   "metadata": {},
   "outputs": [
    {
     "data": {
      "text/plain": [
       "(148, 149)"
      ]
     },
     "execution_count": 38,
     "metadata": {},
     "output_type": "execute_result"
    }
   ],
   "source": [
    "df.population_density.nunique(), df.location.nunique()"
   ]
  },
  {
   "cell_type": "code",
   "execution_count": 39,
   "metadata": {},
   "outputs": [],
   "source": [
    "# To prevent the SettingCopyWithSlice warning use loc, which needs index values, hence\n",
    "# the application of this workaround function. \n",
    "# df.loc[country_search(df, 'Afghanistan'), 'population_density'] = 154\n",
    "# df.loc[country_search(df, 'Kosovo'), 'population_density'] = 159\n",
    "data.loc[country_search(df, 'South Sudan'), 'population_density'] = 20.3\n",
    "df.loc[country_search(df, 'South Sudan'), 'population_density'] = 20.3\n",
    "# df.loc[country_search(df, 'Guinea Bissau'), 'population'] = \\\n",
    "# df.loc[country_search(df, 'Guinea Bissau'), 'population'].max()\n",
    "\n",
    "df.loc[country_search(df, 'Guinea Bissau'), 'population_density'] = \\\n",
    "df.loc[country_search(df, 'Guinea Bissau'), 'population_density'].max()\n",
    "\n",
    "\n",
    "for country_indices in country_groupby(df):\n",
    "    df.loc[country_indices, ['population','population_density']] = \\\n",
    "    df.loc[country_indices,  ['population','population_density']].fillna(method='ffill').fillna(method='bfill').values \n",
    "\n",
    "# df = df[df.population > df.population.quantile(0.1)]\n",
    "per_million_population = df.population / 1000000.\n",
    "population_density = df.population_density\n",
    "world_pop = df[df.time_index==df.time_index.max()].population.sum()\n",
    "percent_pop = df.population / world_pop\n",
    "data.loc[:, 'per_million_population'] = per_million_population"
   ]
  },
  {
   "cell_type": "markdown",
   "metadata": {},
   "source": [
    "Usage of custom function to fill in missing values, as well as check the validity of the time series. Mainly,\n",
    "this means making sure that non-decreasing quantities in fact behave this way. It checks the difference between values $n$ and\n",
    "$n+1$. If negative, the value at $n+1$ is replaced with the previous day's value. If this creates a new discrepancy, (i.e. $n+2$ is smaller then $n+1$ post-update, then it will be handled upon the next scan). Tried to make it as simple as possible to avoid any strange interactions; technically, the approximate slopes are calculated all at once and the values are updated all at once; instead of starting from the beginning and sweeping all the way through the time series. This approximation always propagates forwards, and by virtue of its calculation, always takes the larger value to be the truth. "
   ]
  },
  {
   "cell_type": "markdown",
   "metadata": {},
   "source": [
    "I will use/predict the new cases/deaths/etc. per day as opposed to the total. This avoids complications due to the cumulative\n",
    "nature of the totals. For deciding which data source to actually use refer to the data exploration notebook."
   ]
  },
  {
   "cell_type": "code",
   "execution_count": 40,
   "metadata": {},
   "outputs": [],
   "source": [
    "data.loc[data.new_cases_owid<0, 'new_cases_owid'] = 0\n",
    "data.loc[data.new_tests_owid<0, 'new_tests_owid'] = 0\n",
    "data.loc[data.new_deaths_owid<0, 'new_deaths_owid'] = 0\n",
    "\n",
    "# Already have a good \"new tests\" feature, so do not need to compute differences\n",
    "df.loc[:, 'new_tests_per_million'] = (data.loc[df.index,'new_tests_testtracker'].fillna(0)/per_million_population).values\n",
    "data.loc[:, 'new_tests_per_million'] = (data.loc[df.index,'new_tests_testtracker'].fillna(0)/per_million_population).values\n",
    "\n",
    "# Already have a good \"new cases\" feature, so do not need to compute differences\n",
    "df.loc[:, 'new_cases_per_million'] =  data.loc[df.index,'new_cases_per_million_owid'].fillna(0).values\n",
    "data.loc[:, 'new_cases_per_million'] = data.loc[df.index,'new_cases_per_million_owid'].fillna(0).values\n",
    "\n",
    "df.loc[:, 'new_deaths_per_million']  =  data.loc[df.index,'new_deaths_per_million_owid'].fillna(0).values\n",
    "data.loc[:, 'new_deaths_per_million'] = data.loc[df.index,'new_deaths_per_million_owid'].fillna(0).values \n",
    "\n",
    "# df = fix_incorrect_decrease(df, 'recovered')\n",
    "df.loc[:, 'new_recovered_per_million'] = (df.set_index(['time_index','location']).recovered.groupby(\n",
    "                                            level=1).diff(1).fillna(0).values / per_million_population.values)\n",
    "data.loc[:, 'new_recovered_per_million'] = (data.set_index(['time_index','location']).recovered_jhucsse.groupby(\n",
    "                                            level=1).diff(1).fillna(0).values / per_million_population.values)"
   ]
  },
  {
   "cell_type": "markdown",
   "metadata": {},
   "source": [
    "For completeness but unused currently."
   ]
  },
  {
   "cell_type": "code",
   "execution_count": 41,
   "metadata": {},
   "outputs": [],
   "source": [
    "df.loc[:, 'log_new_recovered_per_million'] = df.loc[:, 'new_recovered_per_million'].apply(lambda x: np.log(x+1))\n",
    "df.loc[:, 'log_new_deaths_per_million']  =  df.loc[:, 'new_deaths_per_million'] .apply(lambda x: np.log(x+1))\n",
    "df.loc[:, 'log_new_cases_per_million'] =  df.loc[:, 'new_cases_per_million'] .apply(lambda x: np.log(x+1))\n",
    "df.loc[:, 'log_new_tests_per_million'] = df.loc[:, 'new_tests_per_million'] .apply(lambda x: np.log(x+1))"
   ]
  },
  {
   "cell_type": "markdown",
   "metadata": {},
   "source": [
    "To reiterate my logic: I want or perhaps need to normalize the data. If I normalize simply on a \"per million people\" basis,\n",
    "small micro-states such as San Marino will take on disproportionate values. I could drop these countries or look\n",
    "for other weighting techniques; I opt for the latter method. The other two options I explore are weighting by population density, and weighting by the percentage of the world's population that each country comprises. The goal is to find a normalization which captures how hard individual countries have been hit but also the possible future downside, which\n",
    "is of course is dependent upon how many people live in a country.\n",
    "\n",
    "Also, the time-series of countries which have caught more cases overall will likely have better reporting practices and\n",
    "be closer to the actual behavior of the virus transmission. Visual inspection of certain time series leads me to believe\n",
    "they will simply act as noise, obfuscating the average or \"actual\" behavior. "
   ]
  },
  {
   "cell_type": "markdown",
   "metadata": {},
   "source": [
    "The current per capita weighting gives undue influence to microstate nations such as San Marino, as their population is\n",
    "only a small fraction of 1 million. Therefore, remove the countries in the bottom 10 percent (arbitrary) of populations. "
   ]
  },
  {
   "cell_type": "markdown",
   "metadata": {},
   "source": [
    "Now that the features of importance have been created, can drop the remaining redundant/cumulative information from the DataFrame."
   ]
  },
  {
   "cell_type": "code",
   "execution_count": 42,
   "metadata": {},
   "outputs": [],
   "source": [
    "df_pruned = df.drop(columns=(redundant_death_columns.tolist() \n",
    "                         + redundant_test_columns.tolist() \n",
    "                         + redundant_case_columns.tolist()+['recovered']))\n",
    "\n",
    "assumed_to_be_better_stringency_index = df_pruned.loc[:, 'stringency_index'].isna().sum().argmin()\n",
    "stringency = df_pruned.loc[:, 'stringency_index'].iloc[:, assumed_to_be_better_stringency_index]\n",
    "\n",
    "df_pruned = df_pruned.drop(columns=['country_name', 'country_code',\n",
    "                                                    'm1_wildcard','stringency_index_for_display',\n",
    "                                                   'stringency_legacy_index', 'stringency_legacy_index_for_display',\n",
    "                                                    'government_response_index_for_display',\n",
    "                                                    'containment_health_index_for_display',\n",
    "                                                    'economic_support_index_for_display',\n",
    "                                                    'iso_code','stringency_index'])\n",
    "df_pruned.loc[:, 'stringency_index'] = stringency.values"
   ]
  },
  {
   "cell_type": "markdown",
   "metadata": {},
   "source": [
    "Personal preference of reordered the DataFrame. "
   ]
  },
  {
   "cell_type": "code",
   "execution_count": 43,
   "metadata": {},
   "outputs": [],
   "source": [
    "indexers = ['location','date','time_index','days_since_first_case']\n",
    "new_per_million_quantity_features = ['new_cases_per_million',\n",
    "            'new_tests_per_million', \n",
    "            'new_recovered_per_million', \n",
    "            'new_deaths_per_million']\n",
    "log_new_per_million_quantity_features = ['log_new_cases_per_million',\n",
    "            'log_new_tests_per_million', \n",
    "            'log_new_recovered_per_million', \n",
    "            'log_new_deaths_per_million']\n",
    "flag_features = column_search(df_pruned,'flag')\n",
    "time_independent_features =df_pruned.loc[:, 'population':'hospital_beds_per_thousand'].columns.tolist()\n",
    "time_dependent_features = df_pruned.loc[:, 'c1_school_closing':'economic_support_index'].columns.difference(flag_features).tolist()+['stringency_index']\n",
    "flag_features = flag_features.tolist()+['tests_units']"
   ]
  },
  {
   "cell_type": "markdown",
   "metadata": {},
   "source": [
    "Reorder the DataFrame for personal preference."
   ]
  },
  {
   "cell_type": "code",
   "execution_count": 44,
   "metadata": {},
   "outputs": [],
   "source": [
    "df_reorder = df_pruned.loc[:, indexers\n",
    "                              +log_new_per_million_quantity_features\n",
    "                              +new_per_million_quantity_features\n",
    "                              +time_dependent_features\n",
    "                              +time_independent_features\n",
    "                              +flag_features]"
   ]
  },
  {
   "cell_type": "markdown",
   "metadata": {},
   "source": [
    "The flag columns take values 1.0, 0.0, np.nan. \n",
    "Convert these to categorical, and for the sake of column names map floats to str.\n",
    "Afterwards, drop the column that corresponds to missing values to remove collinearity. "
   ]
  },
  {
   "cell_type": "code",
   "execution_count": 45,
   "metadata": {},
   "outputs": [],
   "source": [
    "flag_df = df_reorder.loc[:, flag_features].fillna('Missing').astype('category')\n",
    "for col in flag_df.columns:\n",
    "    flag_df.loc[:, col] = flag_df.loc[:, col].cat.rename_categories({1.0 : '1', 0. : '0'})\n",
    "    \n",
    "flag_dummies = pd.get_dummies(flag_df)\n",
    "flag_dummies_without_collinearity = flag_dummies[flag_dummies.columns[~flag_dummies.columns.str.contains('Missing')]]\n",
    "df_reorder = pd.concat((df_reorder.drop(columns=flag_features),\n",
    "                        flag_dummies_without_collinearity),axis=1)\n",
    "\n",
    "missing_flags = df_reorder.iloc[:,np.where(df_reorder.isna().sum() > 0)[0]].isna().astype(int)\n",
    "missing_flags.columns = missing_flags.columns + '_missing_flag'\n",
    "\n",
    "for country_indices in country_groupby(df_reorder):\n",
    "    fill_tmp = df_reorder.loc[country_indices, time_independent_features].fillna(method='ffill').fillna(method='bfill')\n",
    "    df_reorder.loc[country_indices, time_independent_features] = fill_tmp.values\n",
    "    df_reorder.loc[country_indices, time_dependent_features] = df_reorder.loc[country_indices, time_dependent_features].fillna(method='ffill').fillna(value=0)\n",
    "df_reorder.loc[:, time_independent_features] = df_reorder.loc[:, time_independent_features].fillna(df_reorder.loc[:, time_independent_features].median())\n",
    "df = regularize_names(df_reorder).copy()"
   ]
  },
  {
   "cell_type": "markdown",
   "metadata": {},
   "source": [
    "One-hot columns for the location categorical variable."
   ]
  },
  {
   "cell_type": "code",
   "execution_count": 46,
   "metadata": {},
   "outputs": [],
   "source": [
    "location_dummies_without_collinearity = pd.get_dummies(df.location, drop_first=True)\n",
    "location_dummies_without_collinearity.columns += '_flag'\n",
    "location_dummies_without_collinearity = regularize_names(location_dummies_without_collinearity)"
   ]
  },
  {
   "cell_type": "markdown",
   "metadata": {},
   "source": [
    "Because I'm going to impute values for the time independent features, it may or may not be important to track this by flagging\n",
    "the missing values via one-hot encoding. Note that I have just manipulated the flagging columns so that *their* missing value flags are not included; but again this is because of linear dependency reasons. \n",
    "\n",
    "For time independent features, do not have to be careful with time; because there is no two-sided fillna method that\n",
    "I am aware of, handle this by filling forwards and backwards.\n",
    "\n",
    "Time dependent features can only be filled forward so that information from the future is not visible from the past. Additionally, any other missing values are filled with 0's; only other options would be, for instance, the mean up to that date. "
   ]
  },
  {
   "cell_type": "markdown",
   "metadata": {},
   "source": [
    "# Feature production"
   ]
  },
  {
   "cell_type": "code",
   "execution_count": 47,
   "metadata": {},
   "outputs": [],
   "source": [
    "# Majority \n",
    "# This handles \"time dependency\" which is step-function like. \n",
    "# time_dependent_features = list(np.array(time_dependent_features)[(df.loc[:, time_dependent_features].nunique() > 10).values])\n",
    "# time_dependent_features"
   ]
  },
  {
   "cell_type": "code",
   "execution_count": 48,
   "metadata": {},
   "outputs": [],
   "source": [
    "oxcgrt_index_variables = df.loc[:,column_search(df,'index')].columns[1:].intersection(\n",
    "                   pd.Index(time_dependent_features)).tolist()"
   ]
  },
  {
   "cell_type": "code",
   "execution_count": 49,
   "metadata": {},
   "outputs": [],
   "source": [
    "df = df.loc[:, indexers \n",
    "                  + log_new_per_million_quantity_features\n",
    "                  + new_per_million_quantity_features \n",
    "                  + time_dependent_features\n",
    "                  + time_independent_features\n",
    "                 ].copy()\n",
    "\n",
    "df = pd.concat((df, location_dummies_without_collinearity, missing_flags),axis=1)\n"
   ]
  },
  {
   "cell_type": "markdown",
   "metadata": {},
   "source": [
    "Create the moving averages of the time dependent features to attempt to convey the time dependence to the regression models. "
   ]
  },
  {
   "cell_type": "code",
   "execution_count": 50,
   "metadata": {},
   "outputs": [],
   "source": [
    "# use multiples of 7 to capture weekly seasonality\n",
    "roll_widths = [7,14,21,28]\n",
    "\n",
    "new_features_list = rolling_means(df, \n",
    "                                  new_per_million_quantity_features\n",
    "                                  +time_dependent_features, \n",
    "                                  roll_widths=roll_widths)\n",
    "new_features = pd.concat(new_features_list, axis=1)\n",
    "\n",
    "export_to_modeling = pd.concat((df,\n",
    "                                new_features\n",
    "                               ),axis=1)\n",
    "export_to_modeling.to_csv('regression_data.csv')"
   ]
  },
  {
   "cell_type": "markdown",
   "metadata": {},
   "source": [
    "Want the CNN to create the features, only include the data on the \"new\" quantities."
   ]
  },
  {
   "cell_type": "code",
   "execution_count": 51,
   "metadata": {},
   "outputs": [],
   "source": [
    "\n",
    "cnn_features =  (indexers \n",
    "                +new_per_million_quantity_features \n",
    "                )\n",
    "               \n",
    "cnn_df = df.loc[:, cnn_features]\n",
    "cnn_df.to_csv('cnn_data.csv')"
   ]
  },
  {
   "cell_type": "markdown",
   "metadata": {},
   "source": [
    "The one-hot encoded columns and even the government response time series may introduce noise due to their\n",
    "piecewise-constant nature of their values. Just in-case, create a version of the regression data without these\n",
    "features."
   ]
  },
  {
   "cell_type": "code",
   "execution_count": 52,
   "metadata": {},
   "outputs": [],
   "source": [
    "# changing the values to better respect \n",
    "df_pruned_numerical = df_pruned.copy()\n",
    "df_tmp = df_pruned_numerical.loc[:, new_per_million_quantity_features].replace(to_replace=0., value=np.nan)\n",
    "for country_indices in country_groupby(df_pruned_numerical):\n",
    "    df_tmp.loc[country_indices, :] = df_tmp.loc[country_indices, :].fillna(method='ffill').fillna(value=0)\n",
    "df_pruned_numerical.loc[:, new_per_million_quantity_features] = df_tmp.values\n",
    "\n",
    "df_reorder_numerical = df_pruned_numerical.loc[:, indexers\n",
    "                              +new_per_million_quantity_features\n",
    "                                          ]"
   ]
  },
  {
   "cell_type": "code",
   "execution_count": 53,
   "metadata": {},
   "outputs": [],
   "source": [
    "df_numerical = regularize_names(df_reorder_numerical).copy()"
   ]
  },
  {
   "cell_type": "code",
   "execution_count": 54,
   "metadata": {},
   "outputs": [],
   "source": [
    "roll_widths = [7,14,21,28]\n",
    "\n",
    "regression_df = df_numerical.loc[:, indexers \n",
    "                 + new_per_million_quantity_features \n",
    "                      ].copy()\n",
    "\n",
    "new_features_list = rolling_features(regression_df, \n",
    "                                  new_per_million_quantity_features,\n",
    "                                  roll_widths=roll_widths)\n",
    "\n",
    "export_to_modeling = pd.concat((regression_df,\n",
    "                                new_features_list,\n",
    "                               ),axis=1)"
   ]
  },
  {
   "cell_type": "code",
   "execution_count": 55,
   "metadata": {},
   "outputs": [],
   "source": [
    "export_to_modeling.to_csv('regression_data_numerical.csv')"
   ]
  },
  {
   "cell_type": "code",
   "execution_count": 56,
   "metadata": {},
   "outputs": [
    {
     "data": {
      "text/plain": [
       "157        NaN\n",
       "316        NaN\n",
       "475        NaN\n",
       "634        NaN\n",
       "793        NaN\n",
       "         ...  \n",
       "23053      NaN\n",
       "23212      NaN\n",
       "23371      NaN\n",
       "23530      NaN\n",
       "23689    464.0\n",
       "Name: new_tests_owid, Length: 149, dtype: float64"
      ]
     },
     "execution_count": 56,
     "metadata": {},
     "output_type": "execute_result"
    }
   ],
   "source": [
    "time_slice(data,-1,-1).new_tests_owid"
   ]
  },
  {
   "cell_type": "code",
   "execution_count": null,
   "metadata": {},
   "outputs": [],
   "source": []
  },
  {
   "cell_type": "code",
   "execution_count": null,
   "metadata": {},
   "outputs": [],
   "source": []
  },
  {
   "cell_type": "code",
   "execution_count": null,
   "metadata": {},
   "outputs": [],
   "source": []
  }
 ],
 "metadata": {
  "kernelspec": {
   "display_name": "Python 3",
   "language": "python",
   "name": "python3"
  },
  "language_info": {
   "codemirror_mode": {
    "name": "ipython",
    "version": 3
   },
   "file_extension": ".py",
   "mimetype": "text/x-python",
   "name": "python",
   "nbconvert_exporter": "python",
   "pygments_lexer": "ipython3",
   "version": "3.7.6"
  }
 },
 "nbformat": 4,
 "nbformat_minor": 4
}
