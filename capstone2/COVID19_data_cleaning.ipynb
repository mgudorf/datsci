{
 "cells": [
  {
   "cell_type": "code",
   "execution_count": 1,
   "metadata": {},
   "outputs": [],
   "source": [
    "import numpy as np\n",
    "import pandas as pd\n",
    "import seaborn as sns\n",
    "import matplotlib.pyplot as plt\n",
    "import os\n",
    "import sys\n",
    "import glob\n",
    "import re\n",
    "import scipy\n",
    "import requests\n",
    "from matplotlib.patches import Rectangle\n",
    "from datetime import datetime\n",
    "# sns.set()"
   ]
  },
  {
   "cell_type": "markdown",
   "metadata": {},
   "source": [
    "# Introduction <a id='intro'></a>\n",
    "\n",
    "This notebook cleans and wrangles numerous data sets, making them uniform\n",
    "so that they can be used in a data-driven model for COVID-19 prediction.\n",
    "The key cleaning measures are those which find the most viable set of countries and date ranges\n",
    "such that the maximal amount of data can be used. In other words, different datasets can have data\n",
    "on a different set of countries; to avoid introducing large quantities of missing values\n",
    "the intersection of these countries is taken.\n",
    "\n",
    "# Table of contents<a id='toc'></a>\n",
    "\n",
    "## [Data wrangling function definitions](#generalfunctions)\n",
    "<a id='functions'></a>\n",
    "\n",
    "## [Data]<a id='data'></a>\n",
    "To get the JHU CSSE data: git clone https://www.github.com/CSSEGISandData/COVID-19\n",
    "\n",
    "To get the OWID data: git clone https://www.github.com/owid/covid-19-data/\n",
    "\n",
    "To get and store OxCGRT government response data: git clone https://github.com/OxCGRT/covid-policy-tracker/\n",
    "\n",
    "To get and store Test Tracker data, go to https://finddx.shinyapps.io/FIND_Cov_19_Tracker/\n",
    "    \n",
    "    Choose \"Tests and cases\" dataset, select \"All\" as the entry number, \n",
    "    save as test_tracker_cases_and_tests.csv in same directory as notebooks.\n",
    "    \n",
    "The data in this project goes up to June 30th, 2020\n",
    "    \n",
    "   \n",
    "### [JHU CSSE case data.](#csse)\n",
    "[https://systems.jhu.edu/research/public-health/ncov/](https://systems.jhu.edu/research/public-health/ncov/)\n",
    "\n",
    "**Data available at:**\n",
    "[https://github.com/CSSEGISandData/COVID-19](https://github.com/CSSEGISandData/COVID-19)\n",
    "\n",
    "This data is split between a collection of .csv files of two different formats; first, the daily reports (global) are\n",
    "separated by day, each residing in their own .csv. Additionally, the daily report files have three different formats that need to be taken into account when compiling the data. The daily report data itself contains values on the number of confirmed cases, deceased, active cases, recovered cases.\n",
    "\n",
    "For the other format, .csv files with 'timeseries' in their filename, the data contains values for confirmed, deceased, recovered and are split between global numbers (contains United States as a whole) and numbers for the united states (statewide).\n",
    "           \n",
    "           \n",
    "### [OWID case and test data](#owid)\n",
    "\n",
    "**Data available via github**\n",
    "[https://github.com/owid/covid-19-data](https://github.com/owid/covid-19-data)\n",
    "\n",
    "[https://ourworldindata.org/covid-testing](https://ourworldindata.org/covid-testing)\n",
    "\n",
    "The OWID dataset contains information regarding case and test numbers; it overlaps with the JHU CSSE \n",
    "and Testing Tracker datasets but I am going to attempt to use it in conjunction with those two because\n",
    "of how there is unreliable reporting. In other words to get the bigger picture I'm looking to stitch together\n",
    "multiple datasets.\n",
    "\n",
    "           \n",
    "### [OxCGRT government response data](#oxcgrt)\n",
    "\n",
    "**Data available at:**\n",
    "[https://raw.githubusercontent.com/OxCGRT/covid-policy-tracker/master/data/OxCGRT_latest.csv](https://raw.githubusercontent.com/OxCGRT/covid-policy-tracker/master/data/OxCGRT_latest.csv)\n",
    "\n",
    "\n",
    "[https://github.com/OxCGRT/covid-policy-tracker/](https://github.com/OxCGRT/covid-policy-tracker/)\n",
    "\n",
    "The OxCGRT dataset contains information regarding different government responses in regards to social\n",
    "distancing measures. It measures the type of social distancing measure, whether or not they are recommended\n",
    "or mandated, whether they are targeted or broad (I think geographically). \n",
    "           \n",
    "### [Testing tracker data](#testtrack)\n",
    "<!-- **Website which lead me to dataset**\n",
    "[https://www.statista.com/statistics/1109066/coronavirus-testing-in-europe-by-country/](https://www.statista.com/statistics/1109066/coronavirus-testing-in-europe-by-country/) -->\n",
    "\n",
    "**Data available at:**\n",
    "[https://finddx.shinyapps.io/FIND_Cov_19_Tracker/](https://finddx.shinyapps.io/FIND_Cov_19_Tracker/)\n",
    "\n",
    "This dataset contains a time series of testing information: e.g. new (daily) tests, cumulative tests, etc. \n",
    "\n",
    "\n",
    "# [Data regularization](#uniformity)\n",
    "\n",
    "### [Feature selection](#select)\n",
    "\n",
    "### [Feature engineering](#engineer)"
   ]
  },
  {
   "cell_type": "markdown",
   "metadata": {},
   "source": [
    "## Data wrangling function declaration <a id='generalfunctions'></a>"
   ]
  },
  {
   "cell_type": "code",
   "execution_count": 2,
   "metadata": {},
   "outputs": [],
   "source": [
    "def country_slice(data, locations):\n",
    "    if type(locations)==str:\n",
    "        return data[data.location==locations]\n",
    "    else:\n",
    "        return data[data.location.isin(locations)]\n",
    "    \n",
    "def time_slice(data, start, end, indexer='time_index'):\n",
    "    if start < 0 and end < 0:\n",
    "        if start == -1:\n",
    "            start = data.loc[:, indexer].max()\n",
    "        else:\n",
    "            start = data.loc[:, indexer].max()+start\n",
    "        if end == -1:\n",
    "            end = data.loc[:, indexer].max()\n",
    "        else:\n",
    "            end = data.loc[:, indexer].max()+end\n",
    "    return data[(data.loc[:, indexer] >= start) & (data.loc[:, indexer] <= end)]\n",
    "\n",
    "\n",
    "def country_search(df, country):\n",
    "    return df[df.location==country].index\n",
    "\n",
    "\n",
    "def country_groupby(df):\n",
    "    return [df[df.location==country].index for country in df.location.unique()]\n",
    "\n",
    "\n",
    "def column_search(df, name, return_style='loc', threshold='contains'):\n",
    "    if threshold=='contains':\n",
    "        func = df.columns.str.contains\n",
    "    else:\n",
    "        func = df.columns.str.match\n",
    "        \n",
    "    if return_style == 'loc':\n",
    "        return df.columns[func(name)]\n",
    "    elif return_style== 'iloc':\n",
    "        return np.where(func(name))[0]\n",
    "    else:\n",
    "        return None\n",
    "    \n",
    "def per_country_plot(data, feature, legend=True):\n",
    "    data.set_index(['time_index', 'location']).loc[:, feature].unstack().plot(legend=legend)\n",
    "    return None\n",
    "\n",
    "def per_time_plot(data, feature, legend=True):\n",
    "    data.set_index(['location','time_index']).loc[:, feature].unstack().plot(legend=legend)\n",
    "    return None\n",
    "\n",
    "def reformat_values(values_to_transform, category='columns',dateformat=None):\n",
    "    \"\"\" Reformat column and index names. \n",
    "    \n",
    "    Parameters :/\n",
    "    ----------\n",
    "    df : Pandas DataFrame\n",
    "    columns : bool\n",
    "    index : bool|\n",
    "    \n",
    "    Notes :\n",
    "    -----\n",
    "    Change headers of columns; this needs to be updated to account for their formatting changes. \n",
    "    This function converts strings with CamelCase, underscore and space separators to lowercase words uniformly\n",
    "    separated with underscores. I.e. (hopefully!) following the correct python identifier syntax so that each column\n",
    "    can be reference as an attribute if desired. \n",
    "\n",
    "    For more on valid Python identifiers, see:\n",
    "    https://docs.python.org/3/reference/lexical_analysis.html#identifiers\n",
    "    \"\"\"\n",
    "    \n",
    "    \"\"\" Reformat column and index names. only works with with pandas MultiIndex for level=0.\n",
    "    \n",
    "    Parameters :\n",
    "    ----------\n",
    "    df : Pandas DataFrame\n",
    "\n",
    "    Notes :\n",
    "    -----\n",
    "    Different datasets have different naming conventions (for countries that go by multiple names and abbreviations).\n",
    "    This function imposes a convention on a selection of these country names.  \n",
    "    \"\"\"\n",
    "    # these lists are one-to-one. countries compared via manual inspection, unfortunately. \n",
    "    mismatch_labels_bad = ['Lao People\\'s Democratic Republic', 'Mainland China',\n",
    "                           'Occupied Palestinian Territory','Republic of Korea', 'Korea, South', \n",
    "                           'Gambia, The ', 'UK', \n",
    "                           'USA', 'Iran (Islamic Republic of)',\n",
    "                           'Bahamas, The', 'Russian Federation', 'Czech Republic', 'Republic Of Ireland',\n",
    "                          'Hong Kong Sar', 'Macao Sar', 'Uk','Us',\n",
    "                           'Congo ( Kinshasa)','Congo ( Brazzaville)',\n",
    "                           'Cote D\\' Ivoire', 'Viet Nam','Guinea- Bissau','Guinea','Usa']\n",
    "\n",
    "    mismatch_labels_good = ['Laos','China',\n",
    "                            'Palestine', 'South Korea', 'South Korea', \n",
    "                            'The Gambia', 'United Kingdom', \n",
    "                            'United States','Iran',\n",
    "                            'The Bahamas','Russia','Czechia','Ireland',\n",
    "                            'Hong Kong','Macao','United Kingdom', 'United States',\n",
    "                            'Democratic Republic Of The Congo','Republic Of The Congo',\n",
    "                            'Ivory Coast','Vietnam', 'Guinea Bissau','Guinea Bissau','United States']\n",
    "    \n",
    "    # three cases, column names, country names, or datetime. \n",
    "    if category == 'location':\n",
    "        reformatted_values = []\n",
    "        for val in values_to_transform:\n",
    "            reformatted_values.append(' '.join(re.sub('([A-Z][a-z]+)', r' \\1', \n",
    "                                                        re.sub('([A-Z]+)|_|\\/|\\)|\\(', r' \\1', val).lower())\n",
    "                                                        .split()).title())\n",
    "        transformed_values = pd.Series(reformatted_values).replace(to_replace=mismatch_labels_bad, value=mismatch_labels_good)\n",
    "    \n",
    "    elif category == 'columns':\n",
    "        reformatted_values = []\n",
    "        for val in values_to_transform:\n",
    "            reformatted_values.append('_'.join(re.sub('([A-Z][a-z]+)', r' \\1', \n",
    "                                                     re.sub('([A-Z]+)|_|\\/|\\)|\\(', r' \\1', val)\n",
    "                                                            .lower()).split()))\n",
    "        transformed_values = pd.Series(reformatted_values)\n",
    "        \n",
    "    elif category == 'date':\n",
    "        transformed_values = pd.to_datetime(pd.Series(\n",
    "            values_to_transform), errors='coerce',format=dateformat).dt.normalize()\n",
    "\n",
    "\n",
    "    return transformed_values\n",
    "\n",
    "#----------------- Helper Functions for regularization ----------------------#\n",
    "def intersect_country_index(df, country_intersection):\n",
    "    df_tmp = df.copy().reset_index(level=0)\n",
    "    df_tmp = df_tmp[df_tmp.location.isin(country_intersection)]\n",
    "    df_tmp = df_tmp.set_index(['location', df_tmp.index])\n",
    "    return df_tmp \n",
    "\n",
    "def resample_dates(df, dates):\n",
    "    df = df.loc[~df.index.duplicated(keep='first')]\n",
    "    return df.reindex(pd.MultiIndex.from_product([df.index.levels[0], dates], names=['location', 'date']), fill_value=np.nan)\n",
    "\n",
    "def make_multilevel_columns(df):\n",
    "    df.columns = pd.MultiIndex.from_product([[df.columns.name], df.columns], names=['dataset', 'features'])\n",
    "    return df\n",
    "\n",
    "def multiindex_to_table(df):\n",
    "    df_table = df.copy()\n",
    "    try:\n",
    "        df_table.columns = df_table.columns.droplevel()\n",
    "        df_table.columns.names = ['']\n",
    "    except:\n",
    "        pass\n",
    "    df_table = df_table.reset_index()\n",
    "    return df_table\n",
    "\n",
    "#----------------- Manipulation flagging ----------------------#\n",
    "\n",
    "\n",
    "def regularize_names(df, datekey=None, locationkey=None, dateformat=None):\n",
    "    df.columns = reformat_values(df.columns, category='columns').values\n",
    "    if datekey is not None:\n",
    "        df.loc[:, 'date'] = reformat_values(df.loc[:, datekey], category='date', dateformat=None).values\n",
    "    if locationkey is not None:\n",
    "        df.loc[:, 'location'] =  reformat_values(df.loc[:, locationkey], category='location').values\n",
    "    return df\n",
    "\n",
    "\n",
    "def add_time_indices(data_table, index_column='cases'):\n",
    "    indexer = ((data_table.loc[:, ['location', index_column]].replace(to_replace=np.nan, value=0)\n",
    "               ).replace(to_replace=0, value=np.nan).dropna().reset_index()\n",
    "              )\n",
    "    country_groupby_indices = country_groupby(data_table)\n",
    "    country_groupby_indices_dropped_nan = country_groupby(indexer)\n",
    "    days_since = []\n",
    "    for i, c in enumerate(country_groupby_indices_dropped_nan):\n",
    "        nonzero_list = list(range(len(c)))\n",
    "        zero_list = 0*np.array(list(range(len(country_groupby_indices[i])-len(c))))\n",
    "        days_since += list(zero_list)+nonzero_list\n",
    "\n",
    "    data_table.loc[:, 'days_since_first_case'] = days_since\n",
    "    data_table.loc[:, 'time_index'] = len(data_table.location.unique())*list(range(len(data_table.date.unique())))\n",
    "    return data_table\n",
    "\n",
    "def regularize_time_series(df_list, location_operation='intersection', date_operation='union'):\n",
    "    locations = df_list[0].index.levels[0].unique()\n",
    "    dates =  df_list[0].index.levels[1].unique()\n",
    "    for i in range(len(df_list)-1):\n",
    "        if location_operation == 'intersection':\n",
    "            locations = locations.intersection(df_list[i+1].index.levels[0].unique())\n",
    "        # not really intersection, this is the minimum date that at least one locations has data for, in each dataset.\n",
    "        elif location_operation == 'union':\n",
    "            locations = locations.union(df_list[i+1].index.levels[0].unique())\n",
    "            \n",
    "        if date_operation == 'intersection':\n",
    "            dates = dates.intersection(df_list[i+1].index.levels[1].unique())\n",
    "        elif date_operation == 'union':\n",
    "            dates = dates.union(df_list[i+1].index.levels[1].unique())\n",
    "    df_list = [intersect_country_index(df, locations) for df in df_list]\n",
    "    #This redefines the time series for all variables as from December 31st 2019 to the day with most recent data\n",
    "    time_normalized_global_data = [resample_dates(df, dates.normalize()) for df in df_list]\n",
    "    # To keep track of which data came from where, make the columns multi level with the first level labelling the dataset.\n",
    "    return time_normalized_global_data, dates, locations\n",
    "\n",
    "def rolling_features(df, features, roll_widths):\n",
    "    new_feature_df_list = []\n",
    "    for window in roll_widths:\n",
    "        # order the dataframe so date is index, backfill in the first roll_width values\n",
    "        rollmean = (df.loc[:,features].fillna(value=0.)\n",
    "                   ).groupby(df.location).rolling(window).mean().fillna(value=0.)\n",
    "        rollstd = (df.loc[:,features].fillna(value=0.)\n",
    "                   ).groupby(df.location).rolling(window).std().fillna(value=0.)\n",
    "\n",
    "        new_features = pd.concat((rollmean, rollstd), axis=1)\n",
    "        mean_cols = pd.Index(features) +'_rolling_mean_' + str(window)\n",
    "        std_cols = pd.Index(features) +'_rolling_std_' + str(window)\n",
    "        new_cols = mean_cols.append(std_cols)\n",
    "        new_features.columns = new_cols\n",
    "        new_feature_df_list.append(new_features)\n",
    "    return pd.concat(new_feature_df_list, axis=1)\n",
    "\n",
    "\n",
    "def tsplot(pd_series, roll_width, **kw):\n",
    "    fig, ax = plt.subplots(figsize=(10,5))\n",
    "    rollmean = pd_series.rolling(roll_width).mean().fillna(method='backfill').values.ravel()\n",
    "    rollstd  = pd_series.rolling(roll_width).std().fillna(method='backfill').values.ravel()\n",
    "    cis = (rollmean - rollstd, rollmean + rollstd)\n",
    "    ax.fill_between(range(len(pd_series)), cis[0], cis[1], alpha=0.5)\n",
    "    ax.plot(range(len(pd_series)), rollmean, color='k')\n",
    "    return ax\n",
    "\n",
    "\n",
    "\n",
    "def regularize_names(df, datekey=None, locationkey=None, dateformat=None):\n",
    "    df.columns = reformat_values(df.columns, category='columns').values\n",
    "    if datekey is not None:\n",
    "        df.loc[:, 'date'] = reformat_values(df.loc[:, datekey], category='date', dateformat=None).values\n",
    "    if locationkey is not None:\n",
    "        df.loc[:, 'location'] =  reformat_values(df.loc[:, locationkey], category='location').values\n",
    "    return df\n",
    "\n",
    "def fix_incorrect_decrease(df, feature, search_threshold='match'):\n",
    "    df_tmp = df.copy()\n",
    "    matching_columns = column_search(df_tmp, feature, return_style='iloc', threshold=search_threshold) \n",
    "    feature_index =  matching_columns[df_tmp.iloc[:, matching_columns].isna().sum().values.argmin()]\n",
    "    location_index =  column_search(df_tmp, 'location', return_style='iloc', threshold=search_threshold)[0] \n",
    "    decreasing_indices = np.where(df_tmp.iloc[:, [location_index, feature_index]].groupby('location').diff(1)< 0)[0].ravel()\n",
    "    n_countries_with_missing = len(df_tmp.iloc[decreasing_indices, location_index].unique().tolist())\n",
    "    print('Fixing {} countries in the ''{}'' column feature'.format(\n",
    "        n_countries_with_missing, df_tmp.iloc[:, feature_index].name)) \n",
    "    # premptive filling, not related to decreasing but rather missing values.\n",
    "    decreasing_incorrectly = []\n",
    "    flag = True\n",
    "    \n",
    "    # flag is switched off immediately, but will be switched on if any values are changed.\n",
    "    df_tmp.iloc[:, feature_index] = df_tmp.iloc[:, [location_index, feature_index]].groupby('location').fillna(method='ffill')\n",
    "    df_tmp.iloc[:, feature_index] = df_tmp.iloc[:, [location_index, feature_index]].groupby('location').fillna(0)\n",
    "    while flag:\n",
    "        flag = False\n",
    "        decreasing_indices = np.where(df_tmp.iloc[:, [location_index, feature_index]].groupby('location').diff(1)< 0)[0].ravel()\n",
    "        if decreasing_indices.size > 0:\n",
    "            countries_with_missing = df_tmp.iloc[decreasing_indices, location_index].unique().tolist()\n",
    "            flag = True\n",
    "            df_tmp.iloc[decreasing_indices, feature_index] = np.nan\n",
    "            df_tmp.iloc[:, feature_index] = df_tmp.iloc[:, [location_index, feature_index]].groupby('location').fillna(method='ffill')\n",
    "            df_tmp.iloc[:, feature_index] = df_tmp.iloc[:, [location_index, feature_index]].groupby('location').fillna(0)\n",
    "    return df_tmp\n",
    "\n",
    "def rolling_means(df, features, roll_widths):\n",
    "    new_feature_df_list = []\n",
    "    for window in roll_widths:\n",
    "        # order the dataframe so date is index, backfill in the first roll_width values\n",
    "        rollmean = None\n",
    "        for c in country_groupby(df):\n",
    "            if rollmean is None:\n",
    "                rollmean = df.loc[c, features].rolling(window).mean().fillna(value=0.)\n",
    "            else:\n",
    "                rollmean = pd.concat((rollmean,  df.loc[c,features].rolling(window).mean().fillna(value=0.)),axis=0)\n",
    "        new_features = rollmean\n",
    "        new_cols = pd.Index(features) +'_rolling_mean_' + str(window)\n",
    "\n",
    "        new_features.columns = new_cols\n",
    "        new_feature_df_list.append(new_features)\n",
    "    return pd.concat(new_feature_df_list,axis=1)\n",
    "\n",
    "def new_average_feature(data, features, new_feature_name):\n",
    "    data.loc[:, new_feature_name] = data.loc[:, features].mean(1).fillna(0).values\n",
    "    return None\n",
    "\n",
    "def modify_time_series_zeros(df, features):\n",
    "    df_modified = df.copy()\n",
    "    df_modified.loc[:, features] = \\\n",
    "        (df_modified.loc[:, features].replace(to_replace=0., value=np.nan)\n",
    "        ).groupby(df.location).fillna(method='ffill').fillna(value=0)\n",
    "    return df_modified"
   ]
  },
  {
   "cell_type": "markdown",
   "metadata": {},
   "source": [
    "## Data Reformatting\n",
    "[Return to table of contents](#toc)\n",
    "\n",
    "The following sections take the corresponding data set and reformat them such that the data\n",
    "is stored in a pandas DataFrame with a multiindex; level=0 -> 'location' (country or region) and\n",
    "level=1 -> date. The multiindex usage is deprecated and later removed, but for the sake of not changing anything I've left it in this beginning stage. It has instead been replaced by a simple table format and the writing/inclusion of special helper functions to slice the DataFrames by countries and time. Due to the nature of the data this is done separately for country-wide and united states-wide locations.\n",
    "\n",
    "The main cleaning steps are to import the data, rename the columns and location names such that they are consistent between DataFrames. After the main aggregation and cleaning steps, the datasets are then exported to new local versions and then sent along for further processing.\n",
    "\n",
    "The names are regularized because the different datasets have different conventions for how to list the dates and country names. Obviously if we are to compare time series of countries then both of these have to be regularized. The date is reformatted in such a matter such that pandas can easily convert the feature column into a datetime variable. The location names are modified by both changing the names of certain countries and then also removing special spellings and symbols from the name of locations as well as feature names. The features are formatted such that referring to the feature as an attribute (i.e. using the syntax ```data.feature```) can be employed. The location names are formatted such that words are separated by spaces and that no countries are listed as their abbreviations (for example, the 'U.K.' is listed as 'United Kingdom'. While it technically makes some country names incorrect, I've opted to remove most articles; so it is not 'The United States' but rather just simply 'United States'. This part of the cleaning is performed using regex. "
   ]
  },
  {
   "cell_type": "markdown",
   "metadata": {},
   "source": [
    "## JHU CSSE case data\n",
    "<a id='csse'></a>\n",
    "[Return to table of contents](#toc)"
   ]
  },
  {
   "cell_type": "markdown",
   "metadata": {},
   "source": [
    "This data is in a collection of comma separated value files, and as such I iterate over the filenames using the glob package, such that they can be imported and the time series can be sorted by location. There are a collection of csv's for both global data and state-wide data for the United States. In the global data there are cases, deaths, and recovered numbers. For the U.S.A, there is only cases and deaths. Both datasets begin with data starting on January 22nd. "
   ]
  },
  {
   "cell_type": "code",
   "execution_count": 3,
   "metadata": {},
   "outputs": [],
   "source": [
    "global_df_list = []\n",
    "\n",
    "for x in glob.glob('COVID-19/csse_covid_19_data/csse_covid_19_time_series/*_global.csv'):\n",
    "    tmp_df = pd.read_csv(x)\n",
    "    catcols = tmp_df.iloc[:, :4]\n",
    "    datecols = tmp_df.iloc[:, 4:]\n",
    "    catcols.columns = reformat_values(catcols.columns, category='columns').values\n",
    "    catcols.loc[:, 'location'] =  reformat_values(catcols.loc[:, 'country_region'], category='location').values\n",
    "    datecols.columns = reformat_values(datecols.columns, category='date').values\n",
    "    global_tmp = pd.concat((catcols.location,datecols),axis=1).groupby(by='location').sum().sort_index()\n",
    "    # keep the name of the data; i.e. 'confirmed', 'deaths', etc.\n",
    "    time_series_name = x.split('.')[0].split('_')[-2]\n",
    "    global_df_list.append(global_tmp.stack().to_frame(name=time_series_name))\n",
    "\n",
    "# Rename the columns\n",
    "csse_global_time_series_df = pd.concat(global_df_list, axis=1)\n",
    "csse_global_time_series_df.index.names = ['location','date']\n",
    "csse_global_time_series_df.columns.names = ['csse_global_timeseries']\n",
    "csse_global_time_series_df.columns = ['cases', 'deaths', 'recovered']\n",
    "csse_global_time_series_df = csse_global_time_series_df.reset_index()\n",
    "\n",
    "# Do the country georgia separately in-case data ever contains U.S. states info.\n",
    "geor_index = csse_global_time_series_df[csse_global_time_series_df.location=='Georgia'].index\n",
    "csse_global_time_series_df.loc[geor_index, 'location'] = 'Sakartvelo' \n",
    "csse_global_time_series_df.loc[:, 'date'] = pd.to_datetime(csse_global_time_series_df.loc[:,'date']).values\n",
    "csse_global_time_series_df = csse_global_time_series_df.set_index(['location', 'date'])"
   ]
  },
  {
   "cell_type": "markdown",
   "metadata": {},
   "source": [
    "Commented out to \"freeze\" the saved data"
   ]
  },
  {
   "cell_type": "code",
   "execution_count": 4,
   "metadata": {},
   "outputs": [],
   "source": [
    "csse_global_time_series_df.fillna(0).to_csv('jhucsse_global.csv')"
   ]
  },
  {
   "cell_type": "markdown",
   "metadata": {},
   "source": [
    "Sample of the global data's DataFrame. "
   ]
  },
  {
   "cell_type": "code",
   "execution_count": 5,
   "metadata": {},
   "outputs": [
    {
     "data": {
      "text/html": [
       "<div>\n",
       "<style scoped>\n",
       "    .dataframe tbody tr th:only-of-type {\n",
       "        vertical-align: middle;\n",
       "    }\n",
       "\n",
       "    .dataframe tbody tr th {\n",
       "        vertical-align: top;\n",
       "    }\n",
       "\n",
       "    .dataframe thead th {\n",
       "        text-align: right;\n",
       "    }\n",
       "</style>\n",
       "<table border=\"1\" class=\"dataframe\">\n",
       "  <thead>\n",
       "    <tr style=\"text-align: right;\">\n",
       "      <th></th>\n",
       "      <th></th>\n",
       "      <th>cases</th>\n",
       "      <th>deaths</th>\n",
       "      <th>recovered</th>\n",
       "    </tr>\n",
       "    <tr>\n",
       "      <th>location</th>\n",
       "      <th>date</th>\n",
       "      <th></th>\n",
       "      <th></th>\n",
       "      <th></th>\n",
       "    </tr>\n",
       "  </thead>\n",
       "  <tbody>\n",
       "    <tr>\n",
       "      <th>Ethiopia</th>\n",
       "      <th>2020-06-19</th>\n",
       "      <td>4070</td>\n",
       "      <td>72</td>\n",
       "      <td>1029</td>\n",
       "    </tr>\n",
       "    <tr>\n",
       "      <th>Croatia</th>\n",
       "      <th>2020-04-10</th>\n",
       "      <td>1495</td>\n",
       "      <td>21</td>\n",
       "      <td>231</td>\n",
       "    </tr>\n",
       "    <tr>\n",
       "      <th>Equatorial Guinea</th>\n",
       "      <th>2020-01-22</th>\n",
       "      <td>0</td>\n",
       "      <td>0</td>\n",
       "      <td>0</td>\n",
       "    </tr>\n",
       "    <tr>\n",
       "      <th>Kazakhstan</th>\n",
       "      <th>2020-03-15</th>\n",
       "      <td>9</td>\n",
       "      <td>0</td>\n",
       "      <td>0</td>\n",
       "    </tr>\n",
       "    <tr>\n",
       "      <th>Oman</th>\n",
       "      <th>2020-05-30</th>\n",
       "      <td>10423</td>\n",
       "      <td>42</td>\n",
       "      <td>2396</td>\n",
       "    </tr>\n",
       "  </tbody>\n",
       "</table>\n",
       "</div>"
      ],
      "text/plain": [
       "                              cases  deaths  recovered\n",
       "location          date                                \n",
       "Ethiopia          2020-06-19   4070      72       1029\n",
       "Croatia           2020-04-10   1495      21        231\n",
       "Equatorial Guinea 2020-01-22      0       0          0\n",
       "Kazakhstan        2020-03-15      9       0          0\n",
       "Oman              2020-05-30  10423      42       2396"
      ]
     },
     "execution_count": 5,
     "metadata": {},
     "output_type": "execute_result"
    }
   ],
   "source": [
    "csse_global_time_series_df.sample(5)"
   ]
  },
  {
   "cell_type": "code",
   "execution_count": 6,
   "metadata": {},
   "outputs": [],
   "source": [
    "usa_df_list = []\n",
    "for x in glob.glob('COVID-19/csse_covid_19_data/csse_covid_19_time_series/*_US.csv'):\n",
    "    tmp_df = pd.read_csv(x)\n",
    "    catcols = tmp_df.iloc[:, :np.where(tmp_df.columns == '1/22/20')[0][0]]\n",
    "    catcols.columns = reformat_values(catcols.columns, category='columns').values\n",
    "    catcols.loc[:, 'location'] =  catcols.loc[:, 'province_state'].values\n",
    "    \n",
    "    datecols = tmp_df.iloc[:,np.where(tmp_df.columns == '1/22/20')[0][0]:]\n",
    "    datecols.columns = reformat_values(datecols.columns, category='date').values\n",
    "    usa_tmp = pd.concat((catcols.location,datecols),axis=1).groupby(by='location').sum().sort_index()\n",
    "    # keep the name of the data; i.e. 'confirmed', 'deaths', etc.\n",
    "    time_series_name = x.split('.')[0].split('_')[-2]\n",
    "    usa_df_list.append(usa_tmp.stack().to_frame(name=time_series_name))\n",
    "    \n",
    "csse_usa_time_series_df = pd.concat(usa_df_list,axis=1)#.reset_index(drop=True)\n",
    "csse_usa_time_series_df.index.names = ['location','date']\n",
    "csse_usa_time_series_df.columns.names = ['csse_us_timeseries']\n",
    "csse_usa_time_series_df.columns = ['cases', 'deaths']\n",
    "csse_usa_time_series_df = csse_usa_time_series_df.reset_index()\n",
    "\n",
    "csse_usa_time_series_df.loc[:, 'date'] = pd.to_datetime(csse_usa_time_series_df.loc[:,'date']).values\n",
    "csse_usa_time_series_df = csse_usa_time_series_df.set_index(['location', 'date'])"
   ]
  },
  {
   "cell_type": "markdown",
   "metadata": {},
   "source": [
    "Commented out to \"freeze\" the saved data"
   ]
  },
  {
   "cell_type": "code",
   "execution_count": 7,
   "metadata": {},
   "outputs": [],
   "source": [
    "csse_usa_time_series_df.fillna(0).to_csv('jhucsse_usa.csv')"
   ]
  },
  {
   "cell_type": "markdown",
   "metadata": {},
   "source": [
    "Sample of the usa data's DataFrame. "
   ]
  },
  {
   "cell_type": "code",
   "execution_count": 8,
   "metadata": {},
   "outputs": [
    {
     "data": {
      "text/html": [
       "<div>\n",
       "<style scoped>\n",
       "    .dataframe tbody tr th:only-of-type {\n",
       "        vertical-align: middle;\n",
       "    }\n",
       "\n",
       "    .dataframe tbody tr th {\n",
       "        vertical-align: top;\n",
       "    }\n",
       "\n",
       "    .dataframe thead th {\n",
       "        text-align: right;\n",
       "    }\n",
       "</style>\n",
       "<table border=\"1\" class=\"dataframe\">\n",
       "  <thead>\n",
       "    <tr style=\"text-align: right;\">\n",
       "      <th></th>\n",
       "      <th></th>\n",
       "      <th>cases</th>\n",
       "      <th>deaths</th>\n",
       "    </tr>\n",
       "    <tr>\n",
       "      <th>location</th>\n",
       "      <th>date</th>\n",
       "      <th></th>\n",
       "      <th></th>\n",
       "    </tr>\n",
       "  </thead>\n",
       "  <tbody>\n",
       "    <tr>\n",
       "      <th>North Dakota</th>\n",
       "      <th>2020-06-21</th>\n",
       "      <td>3288</td>\n",
       "      <td>77</td>\n",
       "    </tr>\n",
       "    <tr>\n",
       "      <th>Georgia</th>\n",
       "      <th>2020-06-09</th>\n",
       "      <td>53249</td>\n",
       "      <td>2285</td>\n",
       "    </tr>\n",
       "    <tr>\n",
       "      <th>Mississippi</th>\n",
       "      <th>2020-06-26</th>\n",
       "      <td>25066</td>\n",
       "      <td>1022</td>\n",
       "    </tr>\n",
       "    <tr>\n",
       "      <th>Florida</th>\n",
       "      <th>2020-01-27</th>\n",
       "      <td>0</td>\n",
       "      <td>0</td>\n",
       "    </tr>\n",
       "    <tr>\n",
       "      <th>Puerto Rico</th>\n",
       "      <th>2020-05-15</th>\n",
       "      <td>2542</td>\n",
       "      <td>122</td>\n",
       "    </tr>\n",
       "  </tbody>\n",
       "</table>\n",
       "</div>"
      ],
      "text/plain": [
       "                         cases  deaths\n",
       "location     date                     \n",
       "North Dakota 2020-06-21   3288      77\n",
       "Georgia      2020-06-09  53249    2285\n",
       "Mississippi  2020-06-26  25066    1022\n",
       "Florida      2020-01-27      0       0\n",
       "Puerto Rico  2020-05-15   2542     122"
      ]
     },
     "execution_count": 8,
     "metadata": {},
     "output_type": "execute_result"
    }
   ],
   "source": [
    "csse_usa_time_series_df.sample(5)"
   ]
  },
  {
   "cell_type": "markdown",
   "metadata": {},
   "source": [
    "## OWID case and test data\n",
    "<a id='source5'></a>\n",
    "[Return to table of contents](#toc)"
   ]
  },
  {
   "cell_type": "markdown",
   "metadata": {},
   "source": [
    "The \"Our World in Data\" dataset contains time series information on the cases, tests, and deaths. Some of these features are cumulative while others represent the daily change with and without normalization by capita. Other features were added while this and the other notebooks were being written, most of these are time-independent features (or at least have a long time scale) such as numerical quantification of the poverty rate of the country. "
   ]
  },
  {
   "cell_type": "code",
   "execution_count": 9,
   "metadata": {},
   "outputs": [],
   "source": [
    "owid_df =pd.read_csv('./covid-19-data/public/data/owid-covid-data.csv')\n",
    "owid_df = regularize_names(owid_df, datekey='date', locationkey='location').set_index(['location', 'date']).sort_index()"
   ]
  },
  {
   "cell_type": "markdown",
   "metadata": {},
   "source": [
    "Commented out to \"freeze\" the saved data"
   ]
  },
  {
   "cell_type": "code",
   "execution_count": 10,
   "metadata": {},
   "outputs": [],
   "source": [
    "owid_df.fillna(0).to_csv('owid.csv')"
   ]
  },
  {
   "cell_type": "code",
   "execution_count": 11,
   "metadata": {
    "scrolled": true
   },
   "outputs": [
    {
     "data": {
      "text/html": [
       "<div>\n",
       "<style scoped>\n",
       "    .dataframe tbody tr th:only-of-type {\n",
       "        vertical-align: middle;\n",
       "    }\n",
       "\n",
       "    .dataframe tbody tr th {\n",
       "        vertical-align: top;\n",
       "    }\n",
       "\n",
       "    .dataframe thead th {\n",
       "        text-align: right;\n",
       "    }\n",
       "</style>\n",
       "<table border=\"1\" class=\"dataframe\">\n",
       "  <thead>\n",
       "    <tr style=\"text-align: right;\">\n",
       "      <th></th>\n",
       "      <th></th>\n",
       "      <th>iso_code</th>\n",
       "      <th>continent</th>\n",
       "      <th>total_cases</th>\n",
       "      <th>new_cases</th>\n",
       "      <th>total_deaths</th>\n",
       "      <th>new_deaths</th>\n",
       "      <th>total_cases_per_million</th>\n",
       "      <th>new_cases_per_million</th>\n",
       "      <th>total_deaths_per_million</th>\n",
       "      <th>new_deaths_per_million</th>\n",
       "      <th>...</th>\n",
       "      <th>aged_70_older</th>\n",
       "      <th>gdp_per_capita</th>\n",
       "      <th>extreme_poverty</th>\n",
       "      <th>cvd_death_rate</th>\n",
       "      <th>diabetes_prevalence</th>\n",
       "      <th>female_smokers</th>\n",
       "      <th>male_smokers</th>\n",
       "      <th>handwashing_facilities</th>\n",
       "      <th>hospital_beds_per_thousand</th>\n",
       "      <th>life_expectancy</th>\n",
       "    </tr>\n",
       "    <tr>\n",
       "      <th>location</th>\n",
       "      <th>date</th>\n",
       "      <th></th>\n",
       "      <th></th>\n",
       "      <th></th>\n",
       "      <th></th>\n",
       "      <th></th>\n",
       "      <th></th>\n",
       "      <th></th>\n",
       "      <th></th>\n",
       "      <th></th>\n",
       "      <th></th>\n",
       "      <th></th>\n",
       "      <th></th>\n",
       "      <th></th>\n",
       "      <th></th>\n",
       "      <th></th>\n",
       "      <th></th>\n",
       "      <th></th>\n",
       "      <th></th>\n",
       "      <th></th>\n",
       "      <th></th>\n",
       "      <th></th>\n",
       "    </tr>\n",
       "  </thead>\n",
       "  <tbody>\n",
       "    <tr>\n",
       "      <th>World</th>\n",
       "      <th>2020-05-04</th>\n",
       "      <td>OWID_WRL</td>\n",
       "      <td>NaN</td>\n",
       "      <td>3470325.0</td>\n",
       "      <td>78244.0</td>\n",
       "      <td>247672.0</td>\n",
       "      <td>3705.0</td>\n",
       "      <td>445.210</td>\n",
       "      <td>10.038</td>\n",
       "      <td>31.774</td>\n",
       "      <td>0.475</td>\n",
       "      <td>...</td>\n",
       "      <td>5.355</td>\n",
       "      <td>15469.207</td>\n",
       "      <td>10.0</td>\n",
       "      <td>233.070</td>\n",
       "      <td>8.51</td>\n",
       "      <td>6.434</td>\n",
       "      <td>34.635</td>\n",
       "      <td>60.130</td>\n",
       "      <td>2.705</td>\n",
       "      <td>72.58</td>\n",
       "    </tr>\n",
       "    <tr>\n",
       "      <th>Bangladesh</th>\n",
       "      <th>2020-05-01</th>\n",
       "      <td>BGD</td>\n",
       "      <td>Asia</td>\n",
       "      <td>7667.0</td>\n",
       "      <td>564.0</td>\n",
       "      <td>168.0</td>\n",
       "      <td>5.0</td>\n",
       "      <td>46.554</td>\n",
       "      <td>3.425</td>\n",
       "      <td>1.020</td>\n",
       "      <td>0.030</td>\n",
       "      <td>...</td>\n",
       "      <td>3.262</td>\n",
       "      <td>3523.984</td>\n",
       "      <td>14.8</td>\n",
       "      <td>298.003</td>\n",
       "      <td>8.38</td>\n",
       "      <td>1.000</td>\n",
       "      <td>44.700</td>\n",
       "      <td>34.808</td>\n",
       "      <td>0.800</td>\n",
       "      <td>72.59</td>\n",
       "    </tr>\n",
       "    <tr>\n",
       "      <th>Nepal</th>\n",
       "      <th>2020-05-05</th>\n",
       "      <td>NPL</td>\n",
       "      <td>Asia</td>\n",
       "      <td>82.0</td>\n",
       "      <td>7.0</td>\n",
       "      <td>0.0</td>\n",
       "      <td>0.0</td>\n",
       "      <td>2.814</td>\n",
       "      <td>0.240</td>\n",
       "      <td>0.000</td>\n",
       "      <td>0.000</td>\n",
       "      <td>...</td>\n",
       "      <td>3.212</td>\n",
       "      <td>2442.804</td>\n",
       "      <td>15.0</td>\n",
       "      <td>260.797</td>\n",
       "      <td>7.26</td>\n",
       "      <td>9.500</td>\n",
       "      <td>37.800</td>\n",
       "      <td>47.782</td>\n",
       "      <td>0.300</td>\n",
       "      <td>70.78</td>\n",
       "    </tr>\n",
       "    <tr>\n",
       "      <th>El Salvador</th>\n",
       "      <th>2020-06-15</th>\n",
       "      <td>SLV</td>\n",
       "      <td>North America</td>\n",
       "      <td>3720.0</td>\n",
       "      <td>117.0</td>\n",
       "      <td>74.0</td>\n",
       "      <td>2.0</td>\n",
       "      <td>573.525</td>\n",
       "      <td>18.038</td>\n",
       "      <td>11.409</td>\n",
       "      <td>0.308</td>\n",
       "      <td>...</td>\n",
       "      <td>5.417</td>\n",
       "      <td>7292.458</td>\n",
       "      <td>2.2</td>\n",
       "      <td>167.295</td>\n",
       "      <td>8.87</td>\n",
       "      <td>2.500</td>\n",
       "      <td>18.800</td>\n",
       "      <td>90.650</td>\n",
       "      <td>1.300</td>\n",
       "      <td>73.32</td>\n",
       "    </tr>\n",
       "    <tr>\n",
       "      <th>Kazakhstan</th>\n",
       "      <th>2020-05-10</th>\n",
       "      <td>KAZ</td>\n",
       "      <td>Asia</td>\n",
       "      <td>5036.0</td>\n",
       "      <td>202.0</td>\n",
       "      <td>31.0</td>\n",
       "      <td>0.0</td>\n",
       "      <td>268.205</td>\n",
       "      <td>10.758</td>\n",
       "      <td>1.651</td>\n",
       "      <td>0.000</td>\n",
       "      <td>...</td>\n",
       "      <td>4.625</td>\n",
       "      <td>24055.588</td>\n",
       "      <td>0.1</td>\n",
       "      <td>466.792</td>\n",
       "      <td>7.11</td>\n",
       "      <td>7.000</td>\n",
       "      <td>43.100</td>\n",
       "      <td>98.999</td>\n",
       "      <td>6.700</td>\n",
       "      <td>73.60</td>\n",
       "    </tr>\n",
       "  </tbody>\n",
       "</table>\n",
       "<p>5 rows × 32 columns</p>\n",
       "</div>"
      ],
      "text/plain": [
       "                        iso_code      continent  total_cases  new_cases  \\\n",
       "location    date                                                          \n",
       "World       2020-05-04  OWID_WRL            NaN    3470325.0    78244.0   \n",
       "Bangladesh  2020-05-01       BGD           Asia       7667.0      564.0   \n",
       "Nepal       2020-05-05       NPL           Asia         82.0        7.0   \n",
       "El Salvador 2020-06-15       SLV  North America       3720.0      117.0   \n",
       "Kazakhstan  2020-05-10       KAZ           Asia       5036.0      202.0   \n",
       "\n",
       "                        total_deaths  new_deaths  total_cases_per_million  \\\n",
       "location    date                                                            \n",
       "World       2020-05-04      247672.0      3705.0                  445.210   \n",
       "Bangladesh  2020-05-01         168.0         5.0                   46.554   \n",
       "Nepal       2020-05-05           0.0         0.0                    2.814   \n",
       "El Salvador 2020-06-15          74.0         2.0                  573.525   \n",
       "Kazakhstan  2020-05-10          31.0         0.0                  268.205   \n",
       "\n",
       "                        new_cases_per_million  total_deaths_per_million  \\\n",
       "location    date                                                          \n",
       "World       2020-05-04                 10.038                    31.774   \n",
       "Bangladesh  2020-05-01                  3.425                     1.020   \n",
       "Nepal       2020-05-05                  0.240                     0.000   \n",
       "El Salvador 2020-06-15                 18.038                    11.409   \n",
       "Kazakhstan  2020-05-10                 10.758                     1.651   \n",
       "\n",
       "                        new_deaths_per_million  ...  aged_70_older  \\\n",
       "location    date                                ...                  \n",
       "World       2020-05-04                   0.475  ...          5.355   \n",
       "Bangladesh  2020-05-01                   0.030  ...          3.262   \n",
       "Nepal       2020-05-05                   0.000  ...          3.212   \n",
       "El Salvador 2020-06-15                   0.308  ...          5.417   \n",
       "Kazakhstan  2020-05-10                   0.000  ...          4.625   \n",
       "\n",
       "                        gdp_per_capita  extreme_poverty  cvd_death_rate  \\\n",
       "location    date                                                          \n",
       "World       2020-05-04       15469.207             10.0         233.070   \n",
       "Bangladesh  2020-05-01        3523.984             14.8         298.003   \n",
       "Nepal       2020-05-05        2442.804             15.0         260.797   \n",
       "El Salvador 2020-06-15        7292.458              2.2         167.295   \n",
       "Kazakhstan  2020-05-10       24055.588              0.1         466.792   \n",
       "\n",
       "                        diabetes_prevalence  female_smokers male_smokers  \\\n",
       "location    date                                                           \n",
       "World       2020-05-04                 8.51           6.434       34.635   \n",
       "Bangladesh  2020-05-01                 8.38           1.000       44.700   \n",
       "Nepal       2020-05-05                 7.26           9.500       37.800   \n",
       "El Salvador 2020-06-15                 8.87           2.500       18.800   \n",
       "Kazakhstan  2020-05-10                 7.11           7.000       43.100   \n",
       "\n",
       "                        handwashing_facilities  hospital_beds_per_thousand  \\\n",
       "location    date                                                             \n",
       "World       2020-05-04                  60.130                       2.705   \n",
       "Bangladesh  2020-05-01                  34.808                       0.800   \n",
       "Nepal       2020-05-05                  47.782                       0.300   \n",
       "El Salvador 2020-06-15                  90.650                       1.300   \n",
       "Kazakhstan  2020-05-10                  98.999                       6.700   \n",
       "\n",
       "                        life_expectancy  \n",
       "location    date                         \n",
       "World       2020-05-04            72.58  \n",
       "Bangladesh  2020-05-01            72.59  \n",
       "Nepal       2020-05-05            70.78  \n",
       "El Salvador 2020-06-15            73.32  \n",
       "Kazakhstan  2020-05-10            73.60  \n",
       "\n",
       "[5 rows x 32 columns]"
      ]
     },
     "execution_count": 11,
     "metadata": {},
     "output_type": "execute_result"
    }
   ],
   "source": [
    "owid_df.sample(5)"
   ]
  },
  {
   "cell_type": "markdown",
   "metadata": {},
   "source": [
    "## OxCGRT government response data\n",
    "<a id='oxcgrt'></a>\n",
    "[Return to table of contents](#toc)"
   ]
  },
  {
   "cell_type": "markdown",
   "metadata": {},
   "source": [
    "Manual importation of data (for whatever reason this data set is different from pulling using API). This\n",
    "dataset contains time series information for the different social distancing and quarantine measures. The time\n",
    "series are recorded using flags which indicate whether or not a measure is in place, recommended, or not considered.\n",
    "In addition, there are addition flags which augment these time series; indicating whether or not the measures are targeted\n",
    "or general. Lastly are features which quantify important government actions such as the 'economic support index'. Perhaps the most important of these features is the aggregation of the government actions into what they refer to as the \"stringency index\". Stringency is a quantity measured from 0 to 100 representing the strictness of government regulations."
   ]
  },
  {
   "cell_type": "code",
   "execution_count": 12,
   "metadata": {},
   "outputs": [],
   "source": [
    "oxcgrt_df = regularize_names(pd.read_csv('./covid-policy-tracker/data/OxCGRT_latest.csv'), locationkey='country_name')\n",
    "oxcgrt_df.loc[:, 'date'] = pd.to_datetime(oxcgrt_df.loc[:, 'date'], format='%Y%m%d')\n",
    "oxcgrt_df = oxcgrt_df.set_index(['location', 'date'])"
   ]
  },
  {
   "cell_type": "markdown",
   "metadata": {},
   "source": [
    "Commented out to \"freeze\" the saved data"
   ]
  },
  {
   "cell_type": "code",
   "execution_count": 13,
   "metadata": {},
   "outputs": [],
   "source": [
    "oxcgrt_df.fillna(0).to_csv('oxcgrt.csv')"
   ]
  },
  {
   "cell_type": "code",
   "execution_count": 14,
   "metadata": {},
   "outputs": [
    {
     "data": {
      "text/html": [
       "<div>\n",
       "<style scoped>\n",
       "    .dataframe tbody tr th:only-of-type {\n",
       "        vertical-align: middle;\n",
       "    }\n",
       "\n",
       "    .dataframe tbody tr th {\n",
       "        vertical-align: top;\n",
       "    }\n",
       "\n",
       "    .dataframe thead th {\n",
       "        text-align: right;\n",
       "    }\n",
       "</style>\n",
       "<table border=\"1\" class=\"dataframe\">\n",
       "  <thead>\n",
       "    <tr style=\"text-align: right;\">\n",
       "      <th></th>\n",
       "      <th></th>\n",
       "      <th>country_name</th>\n",
       "      <th>country_code</th>\n",
       "      <th>c1_school_closing</th>\n",
       "      <th>c1_flag</th>\n",
       "      <th>c2_workplace_closing</th>\n",
       "      <th>c2_flag</th>\n",
       "      <th>c3_cancel_public_events</th>\n",
       "      <th>c3_flag</th>\n",
       "      <th>c4_restrictions_on_gatherings</th>\n",
       "      <th>c4_flag</th>\n",
       "      <th>...</th>\n",
       "      <th>stringency_index</th>\n",
       "      <th>stringency_index_for_display</th>\n",
       "      <th>stringency_legacy_index</th>\n",
       "      <th>stringency_legacy_index_for_display</th>\n",
       "      <th>government_response_index</th>\n",
       "      <th>government_response_index_for_display</th>\n",
       "      <th>containment_health_index</th>\n",
       "      <th>containment_health_index_for_display</th>\n",
       "      <th>economic_support_index</th>\n",
       "      <th>economic_support_index_for_display</th>\n",
       "    </tr>\n",
       "    <tr>\n",
       "      <th>location</th>\n",
       "      <th>date</th>\n",
       "      <th></th>\n",
       "      <th></th>\n",
       "      <th></th>\n",
       "      <th></th>\n",
       "      <th></th>\n",
       "      <th></th>\n",
       "      <th></th>\n",
       "      <th></th>\n",
       "      <th></th>\n",
       "      <th></th>\n",
       "      <th></th>\n",
       "      <th></th>\n",
       "      <th></th>\n",
       "      <th></th>\n",
       "      <th></th>\n",
       "      <th></th>\n",
       "      <th></th>\n",
       "      <th></th>\n",
       "      <th></th>\n",
       "      <th></th>\n",
       "      <th></th>\n",
       "    </tr>\n",
       "  </thead>\n",
       "  <tbody>\n",
       "    <tr>\n",
       "      <th>Madagascar</th>\n",
       "      <th>2020-01-24</th>\n",
       "      <td>Madagascar</td>\n",
       "      <td>MDG</td>\n",
       "      <td>0.0</td>\n",
       "      <td>NaN</td>\n",
       "      <td>0.0</td>\n",
       "      <td>NaN</td>\n",
       "      <td>0.0</td>\n",
       "      <td>NaN</td>\n",
       "      <td>0.0</td>\n",
       "      <td>NaN</td>\n",
       "      <td>...</td>\n",
       "      <td>0.00</td>\n",
       "      <td>0.00</td>\n",
       "      <td>0.00</td>\n",
       "      <td>0.00</td>\n",
       "      <td>0.00</td>\n",
       "      <td>0.00</td>\n",
       "      <td>0.00</td>\n",
       "      <td>0.00</td>\n",
       "      <td>0.0</td>\n",
       "      <td>0.0</td>\n",
       "    </tr>\n",
       "    <tr>\n",
       "      <th>Barbados</th>\n",
       "      <th>2020-01-01</th>\n",
       "      <td>Barbados</td>\n",
       "      <td>BRB</td>\n",
       "      <td>0.0</td>\n",
       "      <td>NaN</td>\n",
       "      <td>0.0</td>\n",
       "      <td>NaN</td>\n",
       "      <td>0.0</td>\n",
       "      <td>NaN</td>\n",
       "      <td>0.0</td>\n",
       "      <td>NaN</td>\n",
       "      <td>...</td>\n",
       "      <td>0.00</td>\n",
       "      <td>0.00</td>\n",
       "      <td>0.00</td>\n",
       "      <td>0.00</td>\n",
       "      <td>0.00</td>\n",
       "      <td>0.00</td>\n",
       "      <td>0.00</td>\n",
       "      <td>0.00</td>\n",
       "      <td>0.0</td>\n",
       "      <td>0.0</td>\n",
       "    </tr>\n",
       "    <tr>\n",
       "      <th>Mozambique</th>\n",
       "      <th>2020-03-21</th>\n",
       "      <td>Mozambique</td>\n",
       "      <td>MOZ</td>\n",
       "      <td>0.0</td>\n",
       "      <td>NaN</td>\n",
       "      <td>0.0</td>\n",
       "      <td>NaN</td>\n",
       "      <td>1.0</td>\n",
       "      <td>1.0</td>\n",
       "      <td>0.0</td>\n",
       "      <td>NaN</td>\n",
       "      <td>...</td>\n",
       "      <td>16.67</td>\n",
       "      <td>16.67</td>\n",
       "      <td>26.19</td>\n",
       "      <td>26.19</td>\n",
       "      <td>14.10</td>\n",
       "      <td>14.10</td>\n",
       "      <td>16.67</td>\n",
       "      <td>16.67</td>\n",
       "      <td>0.0</td>\n",
       "      <td>0.0</td>\n",
       "    </tr>\n",
       "    <tr>\n",
       "      <th>South Africa</th>\n",
       "      <th>2020-05-18</th>\n",
       "      <td>South Africa</td>\n",
       "      <td>ZAF</td>\n",
       "      <td>3.0</td>\n",
       "      <td>1.0</td>\n",
       "      <td>2.0</td>\n",
       "      <td>1.0</td>\n",
       "      <td>2.0</td>\n",
       "      <td>1.0</td>\n",
       "      <td>3.0</td>\n",
       "      <td>1.0</td>\n",
       "      <td>...</td>\n",
       "      <td>84.26</td>\n",
       "      <td>84.26</td>\n",
       "      <td>91.67</td>\n",
       "      <td>91.67</td>\n",
       "      <td>77.56</td>\n",
       "      <td>77.56</td>\n",
       "      <td>87.12</td>\n",
       "      <td>87.12</td>\n",
       "      <td>25.0</td>\n",
       "      <td>25.0</td>\n",
       "    </tr>\n",
       "    <tr>\n",
       "      <th>Norway</th>\n",
       "      <th>2020-02-09</th>\n",
       "      <td>Norway</td>\n",
       "      <td>NOR</td>\n",
       "      <td>0.0</td>\n",
       "      <td>NaN</td>\n",
       "      <td>0.0</td>\n",
       "      <td>NaN</td>\n",
       "      <td>0.0</td>\n",
       "      <td>NaN</td>\n",
       "      <td>0.0</td>\n",
       "      <td>NaN</td>\n",
       "      <td>...</td>\n",
       "      <td>11.11</td>\n",
       "      <td>11.11</td>\n",
       "      <td>14.29</td>\n",
       "      <td>14.29</td>\n",
       "      <td>7.69</td>\n",
       "      <td>7.69</td>\n",
       "      <td>9.09</td>\n",
       "      <td>9.09</td>\n",
       "      <td>0.0</td>\n",
       "      <td>0.0</td>\n",
       "    </tr>\n",
       "  </tbody>\n",
       "</table>\n",
       "<p>5 rows × 41 columns</p>\n",
       "</div>"
      ],
      "text/plain": [
       "                         country_name country_code  c1_school_closing  \\\n",
       "location     date                                                       \n",
       "Madagascar   2020-01-24    Madagascar          MDG                0.0   \n",
       "Barbados     2020-01-01      Barbados          BRB                0.0   \n",
       "Mozambique   2020-03-21    Mozambique          MOZ                0.0   \n",
       "South Africa 2020-05-18  South Africa          ZAF                3.0   \n",
       "Norway       2020-02-09        Norway          NOR                0.0   \n",
       "\n",
       "                         c1_flag  c2_workplace_closing  c2_flag  \\\n",
       "location     date                                                 \n",
       "Madagascar   2020-01-24      NaN                   0.0      NaN   \n",
       "Barbados     2020-01-01      NaN                   0.0      NaN   \n",
       "Mozambique   2020-03-21      NaN                   0.0      NaN   \n",
       "South Africa 2020-05-18      1.0                   2.0      1.0   \n",
       "Norway       2020-02-09      NaN                   0.0      NaN   \n",
       "\n",
       "                         c3_cancel_public_events  c3_flag  \\\n",
       "location     date                                           \n",
       "Madagascar   2020-01-24                      0.0      NaN   \n",
       "Barbados     2020-01-01                      0.0      NaN   \n",
       "Mozambique   2020-03-21                      1.0      1.0   \n",
       "South Africa 2020-05-18                      2.0      1.0   \n",
       "Norway       2020-02-09                      0.0      NaN   \n",
       "\n",
       "                         c4_restrictions_on_gatherings  c4_flag  ...  \\\n",
       "location     date                                                ...   \n",
       "Madagascar   2020-01-24                            0.0      NaN  ...   \n",
       "Barbados     2020-01-01                            0.0      NaN  ...   \n",
       "Mozambique   2020-03-21                            0.0      NaN  ...   \n",
       "South Africa 2020-05-18                            3.0      1.0  ...   \n",
       "Norway       2020-02-09                            0.0      NaN  ...   \n",
       "\n",
       "                         stringency_index  stringency_index_for_display  \\\n",
       "location     date                                                         \n",
       "Madagascar   2020-01-24              0.00                          0.00   \n",
       "Barbados     2020-01-01              0.00                          0.00   \n",
       "Mozambique   2020-03-21             16.67                         16.67   \n",
       "South Africa 2020-05-18             84.26                         84.26   \n",
       "Norway       2020-02-09             11.11                         11.11   \n",
       "\n",
       "                         stringency_legacy_index  \\\n",
       "location     date                                  \n",
       "Madagascar   2020-01-24                     0.00   \n",
       "Barbados     2020-01-01                     0.00   \n",
       "Mozambique   2020-03-21                    26.19   \n",
       "South Africa 2020-05-18                    91.67   \n",
       "Norway       2020-02-09                    14.29   \n",
       "\n",
       "                         stringency_legacy_index_for_display  \\\n",
       "location     date                                              \n",
       "Madagascar   2020-01-24                                 0.00   \n",
       "Barbados     2020-01-01                                 0.00   \n",
       "Mozambique   2020-03-21                                26.19   \n",
       "South Africa 2020-05-18                                91.67   \n",
       "Norway       2020-02-09                                14.29   \n",
       "\n",
       "                         government_response_index  \\\n",
       "location     date                                    \n",
       "Madagascar   2020-01-24                       0.00   \n",
       "Barbados     2020-01-01                       0.00   \n",
       "Mozambique   2020-03-21                      14.10   \n",
       "South Africa 2020-05-18                      77.56   \n",
       "Norway       2020-02-09                       7.69   \n",
       "\n",
       "                         government_response_index_for_display  \\\n",
       "location     date                                                \n",
       "Madagascar   2020-01-24                                   0.00   \n",
       "Barbados     2020-01-01                                   0.00   \n",
       "Mozambique   2020-03-21                                  14.10   \n",
       "South Africa 2020-05-18                                  77.56   \n",
       "Norway       2020-02-09                                   7.69   \n",
       "\n",
       "                         containment_health_index  \\\n",
       "location     date                                   \n",
       "Madagascar   2020-01-24                      0.00   \n",
       "Barbados     2020-01-01                      0.00   \n",
       "Mozambique   2020-03-21                     16.67   \n",
       "South Africa 2020-05-18                     87.12   \n",
       "Norway       2020-02-09                      9.09   \n",
       "\n",
       "                         containment_health_index_for_display  \\\n",
       "location     date                                               \n",
       "Madagascar   2020-01-24                                  0.00   \n",
       "Barbados     2020-01-01                                  0.00   \n",
       "Mozambique   2020-03-21                                 16.67   \n",
       "South Africa 2020-05-18                                 87.12   \n",
       "Norway       2020-02-09                                  9.09   \n",
       "\n",
       "                         economic_support_index  \\\n",
       "location     date                                 \n",
       "Madagascar   2020-01-24                     0.0   \n",
       "Barbados     2020-01-01                     0.0   \n",
       "Mozambique   2020-03-21                     0.0   \n",
       "South Africa 2020-05-18                    25.0   \n",
       "Norway       2020-02-09                     0.0   \n",
       "\n",
       "                         economic_support_index_for_display  \n",
       "location     date                                            \n",
       "Madagascar   2020-01-24                                 0.0  \n",
       "Barbados     2020-01-01                                 0.0  \n",
       "Mozambique   2020-03-21                                 0.0  \n",
       "South Africa 2020-05-18                                25.0  \n",
       "Norway       2020-02-09                                 0.0  \n",
       "\n",
       "[5 rows x 41 columns]"
      ]
     },
     "execution_count": 14,
     "metadata": {},
     "output_type": "execute_result"
    }
   ],
   "source": [
    "oxcgrt_df.sample(5)"
   ]
  },
  {
   "cell_type": "markdown",
   "metadata": {},
   "source": [
    "Reformat the data, making it a multiindex dataframe which matches the others in this notebook. Also, cast\n",
    "the date-like variable as a datetime feature."
   ]
  },
  {
   "cell_type": "markdown",
   "metadata": {},
   "source": [
    "## Testing tracker data\n",
    "<a id='testtrack'></a>\n",
    "[Return to table of contents](#toc)"
   ]
  },
  {
   "cell_type": "markdown",
   "metadata": {},
   "source": [
    "The test tracker dataset contains test and case information; on the link provided above they mention that the case data comes from the JHUCSSE source used above. The testing data, however, is aggregated from sources all around the world."
   ]
  },
  {
   "cell_type": "code",
   "execution_count": 15,
   "metadata": {},
   "outputs": [],
   "source": [
    "test_tracker = regularize_names(pd.read_csv('test_tracker_cases_and_tests.csv'),\n",
    "                          datekey='date', locationkey='country').set_index(\n",
    "                            ['location', 'date']).drop(\n",
    "                                    columns=['country','source','continent', 'population','alpha3']).sort_index()"
   ]
  },
  {
   "cell_type": "markdown",
   "metadata": {},
   "source": [
    "Commented out to \"freeze\" the saved data"
   ]
  },
  {
   "cell_type": "code",
   "execution_count": 16,
   "metadata": {},
   "outputs": [],
   "source": [
    "test_tracker.fillna(0).to_csv('test_tracker.csv')"
   ]
  },
  {
   "cell_type": "code",
   "execution_count": 17,
   "metadata": {},
   "outputs": [
    {
     "data": {
      "text/html": [
       "<div>\n",
       "<style scoped>\n",
       "    .dataframe tbody tr th:only-of-type {\n",
       "        vertical-align: middle;\n",
       "    }\n",
       "\n",
       "    .dataframe tbody tr th {\n",
       "        vertical-align: top;\n",
       "    }\n",
       "\n",
       "    .dataframe thead th {\n",
       "        text-align: right;\n",
       "    }\n",
       "</style>\n",
       "<table border=\"1\" class=\"dataframe\">\n",
       "  <thead>\n",
       "    <tr style=\"text-align: right;\">\n",
       "      <th></th>\n",
       "      <th></th>\n",
       "      <th>new_tests</th>\n",
       "      <th>tests_cumulative</th>\n",
       "      <th>tests_per100k</th>\n",
       "      <th>cases</th>\n",
       "      <th>new_cases</th>\n",
       "      <th>deaths</th>\n",
       "      <th>cases_per100k</th>\n",
       "      <th>deaths_per100k</th>\n",
       "      <th>income_group</th>\n",
       "      <th>region</th>\n",
       "    </tr>\n",
       "    <tr>\n",
       "      <th>location</th>\n",
       "      <th>date</th>\n",
       "      <th></th>\n",
       "      <th></th>\n",
       "      <th></th>\n",
       "      <th></th>\n",
       "      <th></th>\n",
       "      <th></th>\n",
       "      <th></th>\n",
       "      <th></th>\n",
       "      <th></th>\n",
       "      <th></th>\n",
       "    </tr>\n",
       "  </thead>\n",
       "  <tbody>\n",
       "    <tr>\n",
       "      <th>The Gambia</th>\n",
       "      <th>2020-05-07</th>\n",
       "      <td>0.0</td>\n",
       "      <td>675.0</td>\n",
       "      <td>27.9</td>\n",
       "      <td>18.0</td>\n",
       "      <td>1.0</td>\n",
       "      <td>1.0</td>\n",
       "      <td>0.7</td>\n",
       "      <td>0.0</td>\n",
       "      <td>Low income</td>\n",
       "      <td>Western Africa</td>\n",
       "    </tr>\n",
       "    <tr>\n",
       "      <th>Poland</th>\n",
       "      <th>2020-06-19</th>\n",
       "      <td>26775.0</td>\n",
       "      <td>1297676.0</td>\n",
       "      <td>3428.7</td>\n",
       "      <td>31316.0</td>\n",
       "      <td>301.0</td>\n",
       "      <td>1334.0</td>\n",
       "      <td>82.7</td>\n",
       "      <td>3.5</td>\n",
       "      <td>High income</td>\n",
       "      <td>Eastern Europe</td>\n",
       "    </tr>\n",
       "    <tr>\n",
       "      <th>Estonia</th>\n",
       "      <th>2020-04-11</th>\n",
       "      <td>1573.0</td>\n",
       "      <td>29456.0</td>\n",
       "      <td>2219.7</td>\n",
       "      <td>1304.0</td>\n",
       "      <td>46.0</td>\n",
       "      <td>24.0</td>\n",
       "      <td>98.3</td>\n",
       "      <td>1.8</td>\n",
       "      <td>High income</td>\n",
       "      <td>Northern Europe</td>\n",
       "    </tr>\n",
       "    <tr>\n",
       "      <th>Iceland</th>\n",
       "      <th>2020-05-15</th>\n",
       "      <td>523.0</td>\n",
       "      <td>56701.0</td>\n",
       "      <td>16627.9</td>\n",
       "      <td>1802.0</td>\n",
       "      <td>0.0</td>\n",
       "      <td>10.0</td>\n",
       "      <td>528.4</td>\n",
       "      <td>2.9</td>\n",
       "      <td>High income</td>\n",
       "      <td>Northern Europe</td>\n",
       "    </tr>\n",
       "    <tr>\n",
       "      <th>Taiwan</th>\n",
       "      <th>2020-06-05</th>\n",
       "      <td>185.0</td>\n",
       "      <td>73225.0</td>\n",
       "      <td>307.4</td>\n",
       "      <td>443.0</td>\n",
       "      <td>0.0</td>\n",
       "      <td>7.0</td>\n",
       "      <td>1.9</td>\n",
       "      <td>0.0</td>\n",
       "      <td>High income</td>\n",
       "      <td>Eastern Asia</td>\n",
       "    </tr>\n",
       "  </tbody>\n",
       "</table>\n",
       "</div>"
      ],
      "text/plain": [
       "                       new_tests  tests_cumulative  tests_per100k    cases  \\\n",
       "location   date                                                              \n",
       "The Gambia 2020-05-07        0.0             675.0           27.9     18.0   \n",
       "Poland     2020-06-19    26775.0         1297676.0         3428.7  31316.0   \n",
       "Estonia    2020-04-11     1573.0           29456.0         2219.7   1304.0   \n",
       "Iceland    2020-05-15      523.0           56701.0        16627.9   1802.0   \n",
       "Taiwan     2020-06-05      185.0           73225.0          307.4    443.0   \n",
       "\n",
       "                       new_cases  deaths  cases_per100k  deaths_per100k  \\\n",
       "location   date                                                           \n",
       "The Gambia 2020-05-07        1.0     1.0            0.7             0.0   \n",
       "Poland     2020-06-19      301.0  1334.0           82.7             3.5   \n",
       "Estonia    2020-04-11       46.0    24.0           98.3             1.8   \n",
       "Iceland    2020-05-15        0.0    10.0          528.4             2.9   \n",
       "Taiwan     2020-06-05        0.0     7.0            1.9             0.0   \n",
       "\n",
       "                      income_group           region  \n",
       "location   date                                      \n",
       "The Gambia 2020-05-07   Low income   Western Africa  \n",
       "Poland     2020-06-19  High income   Eastern Europe  \n",
       "Estonia    2020-04-11  High income  Northern Europe  \n",
       "Iceland    2020-05-15  High income  Northern Europe  \n",
       "Taiwan     2020-06-05  High income     Eastern Asia  "
      ]
     },
     "execution_count": 17,
     "metadata": {},
     "output_type": "execute_result"
    }
   ],
   "source": [
    "test_tracker.sample(5)"
   ]
  },
  {
   "cell_type": "markdown",
   "metadata": {},
   "source": [
    "## Data regularization: making things uniform\n",
    "<a id='uniformity'></a>\n",
    "[Return to table of contents](#toc)\n",
    "\n",
    "### Intersection of countries and time series dates\n",
    "\n",
    "Now that the datasets that I will use have been imported and cleaned, I move onto manipulating the data to be used for different purposes, specifically, I focus on three main datasets, a dataset to be used for data exploration, a dataset to be used for neural network modeling and a dataset to be used for regression modeling. The modeling datasets differ because I will only be feeding time-dependent data into the neural networks. \n",
    "\n",
    "For the exploratory dataset, I wleave as much as the data untouched as possible. The only fixes I employ are the correct the variables which are supposed to be cumulative. This ignores the possible exploration of the errors in reporting in favor of a more sensible description of features with higher priority, such as the number of new cases per capita per day. The first steps for the exploration dataset is to normalize the time series by taking the intersection of all reporting dates of all of the datasets. The reason why I take the intersection and not the union is because I am mainly interested in the time series in the midst of the pandemic; as will be explored most countries measured their first cases in March, while the union of all dates would extend back to January 1st. \n",
    "\n",
    "\n",
    "\n",
    "The data that will be used to model country-wide case numbers exists in the DataFrames : \n",
    "\n",
    "    csse_global_timeseries_df\n",
    "    owid_df\n",
    "    oxcgrt_df\n",
    "    testtrack_df\n",
    "    \n",
    "The index (locations) were not reformatted by default; do that now.\n",
    "\n",
    "The data have all been formatted to have multi level indices and columns; the levels of the index are ```['location', 'date']``` which correspond to geographical location and day of record. To process/merge these dataframes, I find it convenient to put these DataFrames into a list and then normalize the countries and dates. For the data exploration exploration purposes, the similarly named (i.e. redundant) features are kept separate by adding a suffix corresponding to the dataset from which they originate.\n",
    "\n",
    "The next step is to find the subset of all countries which exist in all of the DataFrames. It is possible to\n",
    "simply concatenate the data and introduce missing values, however, I am electing to take the intersection of countries as\n",
    "to take the most \"reliable\" subset. On the contrary, for the dates I take the union; that is, the dates that exist in all datasets. "
   ]
  },
  {
   "cell_type": "code",
   "execution_count": 18,
   "metadata": {},
   "outputs": [],
   "source": [
    "# the data to be used for exploration\n",
    "all_data = [csse_global_time_series_df,csse_usa_time_series_df, test_tracker, oxcgrt_df, owid_df]\n",
    "# the data to be used for modeling (to be further pruned later)\n",
    "global_data = [csse_global_time_series_df, test_tracker, oxcgrt_df, owid_df]"
   ]
  },
  {
   "cell_type": "code",
   "execution_count": 19,
   "metadata": {
    "scrolled": true
   },
   "outputs": [
    {
     "name": "stdout",
     "output_type": "stream",
     "text": [
      "jhucsse dataset contains 187 locations\n",
      "jhucsse_usa dataset contains 58 locations\n",
      "testtracker dataset contains 194 locations\n",
      "oxcgrt dataset contains 178 locations\n",
      "owid dataset contains 211 locations\n"
     ]
    }
   ],
   "source": [
    "names = ['jhucsse', 'jhucsse_usa', 'testtracker',  'oxcgrt', 'owid']\n",
    "for i,df in enumerate(all_data):\n",
    "    print(names[i],'dataset contains',df.index.get_level_values(0).nunique(),'locations')"
   ]
  },
  {
   "cell_type": "code",
   "execution_count": 20,
   "metadata": {},
   "outputs": [
    {
     "name": "stdout",
     "output_type": "stream",
     "text": [
      "The range of all dates is from 2020-01-22 00:00:00 to 2020-06-30 00:00:00\n",
      "The final number of locations included is 296\n"
     ]
    }
   ],
   "source": [
    "export_list = []\n",
    "\n",
    "export_list_tmp, dates_intersection, country_intersection = regularize_time_series(all_data, location_operation='union',\n",
    "                                                                                  date_operation='intersection')\n",
    "\n",
    "for i, x in enumerate(export_list_tmp):\n",
    "    gd_export_copy = x.copy()\n",
    "    gd_export_copy.columns += '_' + names[i]\n",
    "    export_list.append(gd_export_copy)\n",
    "    \n",
    "eda_data = multiindex_to_table(pd.concat(export_list, axis=1))\n",
    "eda_data = eda_data[~eda_data.location.isin(['Diamond Princess','World'])]\n",
    "\n",
    "print('The range of all dates is from {} to {}'.format(dates_intersection.min(), dates_intersection.max()))\n",
    "print('The final number of locations included is {}'.format(len(country_intersection)))"
   ]
  },
  {
   "cell_type": "markdown",
   "metadata": {},
   "source": [
    "By using multiple datasets, there is redundant information for cases, tests, deaths, etc. I average\n",
    "over these values to account for errors and differences in reporting, using the philosophy that\n",
    "it is better to aggregate as much data as possible, at the very least for exploration. It turns out the the test variables do not necessarily have the same units with respect to the different datasets ***or*** with respect to each individual dataset, that is, the units are not consistent; this is later captured by one-hot encoding of the flags which indicate the units. Unfortunately, if the different units are not accounted for, then this can introduce a large source of error, as fundamentally different quantities will share weights with respect to regression or neural networks. Because of this the simplest handling is to simply drop the features, which is what I have done at least temporarily."
   ]
  },
  {
   "cell_type": "code",
   "execution_count": 21,
   "metadata": {},
   "outputs": [],
   "source": [
    "death_columns = ['deaths_jhucsse', 'deaths_jhucsse_usa']\n",
    "new_average_feature(eda_data, death_columns, 'total_deaths')"
   ]
  },
  {
   "cell_type": "code",
   "execution_count": 22,
   "metadata": {},
   "outputs": [],
   "source": [
    "case_columns = ['cases_jhucsse', 'cases_jhucsse_usa', 'cases_testtracker',\n",
    "       'confirmed_cases_oxcgrt', 'total_cases_owid']\n",
    "new_average_feature(eda_data, case_columns, 'total_cases')"
   ]
  },
  {
   "cell_type": "code",
   "execution_count": 23,
   "metadata": {},
   "outputs": [],
   "source": [
    "test_columns =  [ 'tests_cumulative_testtracker','total_tests_owid']\n",
    "new_average_feature(eda_data, test_columns, 'total_tests')"
   ]
  },
  {
   "cell_type": "markdown",
   "metadata": {},
   "source": [
    "If there are any countries without any information on the total cases, then they are dropped\n",
    "due to lack of utility."
   ]
  },
  {
   "cell_type": "code",
   "execution_count": 24,
   "metadata": {},
   "outputs": [],
   "source": [
    "locations_with_no_case_data = eda_data.location[~eda_data.location.isin(\n",
    "    eda_data.loc[eda_data.total_cases.replace(to_replace=[0,0.], value=np.nan\n",
    "                                             ).dropna().index,'location'].unique())].unique()"
   ]
  },
  {
   "cell_type": "markdown",
   "metadata": {},
   "source": [
    "Drop the \"bad\" countries and then create new time-index features. Time index is an integer counting feature which spans\n",
    "the range of dates printed out above."
   ]
  },
  {
   "cell_type": "code",
   "execution_count": 25,
   "metadata": {},
   "outputs": [],
   "source": [
    "eda_data = eda_data[~(eda_data.location.isin(locations_with_no_case_data))]\n",
    "eda_data = add_time_indices(eda_data, index_column='total_cases')\n",
    "eda_data = eda_data.reset_index(drop=True)"
   ]
  },
  {
   "cell_type": "markdown",
   "metadata": {},
   "source": [
    "Look at the top five total countries deaths, tests, cases, time series to get an idea as to the condition of the data."
   ]
  },
  {
   "cell_type": "code",
   "execution_count": 26,
   "metadata": {},
   "outputs": [],
   "source": [
    "toptencase_locations = eda_data.set_index(['time_index', 'location']).total_cases.groupby(level=1).max().sort_values()[-10:].index"
   ]
  },
  {
   "cell_type": "code",
   "execution_count": 27,
   "metadata": {},
   "outputs": [],
   "source": [
    "toptendeath_locations = eda_data.set_index(['time_index', 'location']).total_deaths.groupby(level=1).max().sort_values()[-10:].index"
   ]
  },
  {
   "cell_type": "code",
   "execution_count": 28,
   "metadata": {},
   "outputs": [],
   "source": [
    "toptentest_locations = eda_data.set_index(['time_index', 'location']).total_tests.groupby(level=1).max().sort_values()[-10:].index"
   ]
  },
  {
   "cell_type": "markdown",
   "metadata": {},
   "source": [
    "### Feature modifications (for exploratory purposes only)\n",
    "<a id='mod'></a>\n",
    "[Return to table of contents](#toc)"
   ]
  },
  {
   "cell_type": "code",
   "execution_count": 29,
   "metadata": {},
   "outputs": [
    {
     "data": {
      "image/png": "[encoded data removed]",
      "text/plain": [
       "<Figure size 432x288 with 1 Axes>"
      ]
     },
     "metadata": {
      "needs_background": "light"
     },
     "output_type": "display_data"
    }
   ],
   "source": [
    "(eda_data[eda_data.location.isin(toptencase_locations)].set_index(['time_index', 'location'])\n",
    ").total_cases.unstack().plot()\n",
    "plt.ylabel('Cumulative cases')\n",
    "plt.savefig('top_10_cases_cumulative.jpg', bbox_inches='tight')"
   ]
  },
  {
   "cell_type": "code",
   "execution_count": 30,
   "metadata": {},
   "outputs": [
    {
     "data": {
      "image/png": "[encoded data removed]",
      "text/plain": [
       "<Figure size 432x288 with 1 Axes>"
      ]
     },
     "metadata": {
      "needs_background": "light"
     },
     "output_type": "display_data"
    }
   ],
   "source": [
    "eda_data[eda_data.location.isin(\n",
    "                                 (eda_data.set_index(['time_index', 'location']).total_deaths\n",
    "                                 ).groupby(level=1).max().sort_values()[-10:].index\n",
    "                               )].set_index(['time_index', 'location']).total_deaths.unstack().plot()\n",
    "\n",
    "\n",
    "plt.ylabel('Cumulative deaths')\n",
    "plt.savefig('top_10_deaths_cumulative.jpg', bbox_inches='tight')"
   ]
  },
  {
   "cell_type": "code",
   "execution_count": 31,
   "metadata": {},
   "outputs": [
    {
     "data": {
      "image/png": "[encoded data removed]",
      "text/plain": [
       "<Figure size 432x288 with 1 Axes>"
      ]
     },
     "metadata": {
      "needs_background": "light"
     },
     "output_type": "display_data"
    }
   ],
   "source": [
    "eda_data[eda_data.location.isin(eda_data.set_index(['time_index', 'location']).total_tests.groupby(level=1).max().sort_values()[-10:-5].index)].set_index(['time_index', 'location']).total_tests.unstack().plot()\n",
    "_ = plt.ylabel('Cumulative tests')\n",
    "plt.savefig('top_10_tests_cumulative.jpg', bbox_inches='tight')"
   ]
  },
  {
   "cell_type": "code",
   "execution_count": 32,
   "metadata": {},
   "outputs": [
    {
     "name": "stdout",
     "output_type": "stream",
     "text": [
      "Fixing 68 countries in the total_tests column feature\n",
      "Fixing 59 countries in the total_cases column feature\n",
      "Fixing 48 countries in the total_deaths column feature\n"
     ]
    }
   ],
   "source": [
    "for features in ['total_tests', 'total_cases', 'total_deaths']:\n",
    "    eda_data = fix_incorrect_decrease(eda_data, features, search_threshold='match')"
   ]
  },
  {
   "cell_type": "code",
   "execution_count": 33,
   "metadata": {},
   "outputs": [
    {
     "data": {
      "image/png": "[encoded data removed]",
      "text/plain": [
       "<Figure size 432x288 with 1 Axes>"
      ]
     },
     "metadata": {
      "needs_background": "light"
     },
     "output_type": "display_data"
    }
   ],
   "source": [
    "eda_data[eda_data.location.isin(eda_data.set_index(['time_index', 'location']).total_tests.groupby(level=1).max().sort_values()[-10:-5].index)].set_index(['time_index', 'location']).total_tests.unstack().plot()\n",
    "_ = plt.ylabel('Cumulative tests')\n",
    "plt.savefig('top_10_tests_cumulative_corrected.jpg', bbox_inches='tight')"
   ]
  },
  {
   "cell_type": "markdown",
   "metadata": {},
   "source": [
    "Label the columns with the data sources because otherwise there are repeated column names which is a pain to deal with\n",
    "later on in the data exploration process."
   ]
  },
  {
   "cell_type": "code",
   "execution_count": 34,
   "metadata": {},
   "outputs": [],
   "source": [
    "for country_indices in country_groupby(eda_data):\n",
    "    eda_data.loc[country_indices, column_search(eda_data,'population')] = \\\n",
    "    eda_data.loc[country_indices,  column_search(eda_data,'population')].fillna(method='ffill').fillna(method='bfill').values "
   ]
  },
  {
   "cell_type": "markdown",
   "metadata": {},
   "source": [
    "This is a work around for the fact that both jhucsse datasets have a column labeled \"deaths\", and so unless I make the distinction between jhucsse_global and jhucsse_usa this will cause issues. This distinction causes issues as well and so I find it easier to just drop it."
   ]
  },
  {
   "cell_type": "code",
   "execution_count": 35,
   "metadata": {},
   "outputs": [],
   "source": [
    "death_copy = eda_data.iloc[:,3].copy()\n",
    "eda_data = eda_data.drop(columns=['deaths_jhucsse'])\n",
    "eda_data = pd.concat((eda_data.iloc[:,:3], death_copy,eda_data.iloc[:,4:]),axis=1)"
   ]
  },
  {
   "cell_type": "markdown",
   "metadata": {},
   "source": [
    "Calculate moving averages here to save space in exploration notebook. These features are indeed used in the regression modeling process but they are also nice to have for time-series plotting purposes as we can use the rolling means and standard deviations to give some sense of the volatility and average values (which smooths out differences in reporting/seasonality)."
   ]
  },
  {
   "cell_type": "code",
   "execution_count": 36,
   "metadata": {},
   "outputs": [],
   "source": [
    "# use multiples of 7 to capture weekly seasonality\n",
    "roll_widths = [3, 7, 14]\n",
    "\n",
    "new_features = rolling_features(eda_data, \n",
    "                                  eda_data.select_dtypes(include='number').columns, \n",
    "                                  roll_widths=roll_widths)"
   ]
  },
  {
   "cell_type": "code",
   "execution_count": 37,
   "metadata": {},
   "outputs": [],
   "source": [
    "export_to_modeling = pd.concat((eda_data,\n",
    "                                new_features.reset_index(drop=True)\n",
    "                               ),axis=1)"
   ]
  },
  {
   "cell_type": "markdown",
   "metadata": {},
   "source": [
    "To avoid mixing data types upon export / import in other notebooks, replace the ```NaN``` values in object columns with the\n",
    "string ```'Missing'```"
   ]
  },
  {
   "cell_type": "code",
   "execution_count": 38,
   "metadata": {},
   "outputs": [],
   "source": [
    "export_to_modeling.loc[:, export_to_modeling.select_dtypes(include='object').columns] = \\\n",
    "export_to_modeling.loc[:, export_to_modeling.select_dtypes(include='object').columns].fillna('Missing')"
   ]
  },
  {
   "cell_type": "markdown",
   "metadata": {},
   "source": [
    "The last step before I export the data is to create my own features which represent the number of \"new\" daily values for cases, tests, etc. The reason for this is to check and ensure that these values are consistent with the other, total values reported as well as demonstrate the differences with the \"repair\" of the cumulative variables performed previously. "
   ]
  },
  {
   "cell_type": "code",
   "execution_count": 39,
   "metadata": {},
   "outputs": [
    {
     "data": {
      "text/html": [
       "<div>\n",
       "<style scoped>\n",
       "    .dataframe tbody tr th:only-of-type {\n",
       "        vertical-align: middle;\n",
       "    }\n",
       "\n",
       "    .dataframe tbody tr th {\n",
       "        vertical-align: top;\n",
       "    }\n",
       "\n",
       "    .dataframe thead th {\n",
       "        text-align: right;\n",
       "    }\n",
       "</style>\n",
       "<table border=\"1\" class=\"dataframe\">\n",
       "  <thead>\n",
       "    <tr style=\"text-align: right;\">\n",
       "      <th></th>\n",
       "      <th>new_total_cases_owid</th>\n",
       "      <th>new_total_deaths_owid</th>\n",
       "      <th>new_total_cases_per_million_owid</th>\n",
       "      <th>new_total_deaths_per_million_owid</th>\n",
       "      <th>new_total_tests_owid</th>\n",
       "      <th>new_total_tests_per_thousand_owid</th>\n",
       "      <th>new_total_deaths</th>\n",
       "      <th>new_total_cases</th>\n",
       "      <th>new_total_tests</th>\n",
       "    </tr>\n",
       "  </thead>\n",
       "  <tbody>\n",
       "    <tr>\n",
       "      <th>25383</th>\n",
       "      <td>0.0</td>\n",
       "      <td>0.0</td>\n",
       "      <td>0.000</td>\n",
       "      <td>0.000</td>\n",
       "      <td>0.0</td>\n",
       "      <td>0.000</td>\n",
       "      <td>132.0</td>\n",
       "      <td>1800.0</td>\n",
       "      <td>0.0</td>\n",
       "    </tr>\n",
       "    <tr>\n",
       "      <th>22889</th>\n",
       "      <td>0.0</td>\n",
       "      <td>0.0</td>\n",
       "      <td>0.000</td>\n",
       "      <td>0.000</td>\n",
       "      <td>0.0</td>\n",
       "      <td>0.000</td>\n",
       "      <td>0.0</td>\n",
       "      <td>0.0</td>\n",
       "      <td>0.0</td>\n",
       "    </tr>\n",
       "    <tr>\n",
       "      <th>43077</th>\n",
       "      <td>4676.0</td>\n",
       "      <td>559.0</td>\n",
       "      <td>68.880</td>\n",
       "      <td>8.234</td>\n",
       "      <td>0.0</td>\n",
       "      <td>0.000</td>\n",
       "      <td>1172.0</td>\n",
       "      <td>4496.0</td>\n",
       "      <td>24593.0</td>\n",
       "    </tr>\n",
       "    <tr>\n",
       "      <th>46528</th>\n",
       "      <td>7.0</td>\n",
       "      <td>1.0</td>\n",
       "      <td>0.471</td>\n",
       "      <td>0.067</td>\n",
       "      <td>0.0</td>\n",
       "      <td>0.000</td>\n",
       "      <td>0.0</td>\n",
       "      <td>12.0</td>\n",
       "      <td>0.0</td>\n",
       "    </tr>\n",
       "    <tr>\n",
       "      <th>20162</th>\n",
       "      <td>24.0</td>\n",
       "      <td>0.0</td>\n",
       "      <td>0.189</td>\n",
       "      <td>0.000</td>\n",
       "      <td>151.0</td>\n",
       "      <td>0.001</td>\n",
       "      <td>0.0</td>\n",
       "      <td>19.0</td>\n",
       "      <td>151.0</td>\n",
       "    </tr>\n",
       "  </tbody>\n",
       "</table>\n",
       "</div>"
      ],
      "text/plain": [
       "       new_total_cases_owid  new_total_deaths_owid  \\\n",
       "25383                   0.0                    0.0   \n",
       "22889                   0.0                    0.0   \n",
       "43077                4676.0                  559.0   \n",
       "46528                   7.0                    1.0   \n",
       "20162                  24.0                    0.0   \n",
       "\n",
       "       new_total_cases_per_million_owid  new_total_deaths_per_million_owid  \\\n",
       "25383                             0.000                              0.000   \n",
       "22889                             0.000                              0.000   \n",
       "43077                            68.880                              8.234   \n",
       "46528                             0.471                              0.067   \n",
       "20162                             0.189                              0.000   \n",
       "\n",
       "       new_total_tests_owid  new_total_tests_per_thousand_owid  \\\n",
       "25383                   0.0                              0.000   \n",
       "22889                   0.0                              0.000   \n",
       "43077                   0.0                              0.000   \n",
       "46528                   0.0                              0.000   \n",
       "20162                 151.0                              0.001   \n",
       "\n",
       "       new_total_deaths  new_total_cases  new_total_tests  \n",
       "25383             132.0           1800.0              0.0  \n",
       "22889               0.0              0.0              0.0  \n",
       "43077            1172.0           4496.0          24593.0  \n",
       "46528               0.0             12.0              0.0  \n",
       "20162               0.0             19.0            151.0  "
      ]
     },
     "execution_count": 39,
     "metadata": {},
     "output_type": "execute_result"
    }
   ],
   "source": [
    "tmp = eda_data.loc[:, column_search(eda_data, 'total').tolist()+['location']].groupby('location').diff(1).fillna(0)\n",
    "tmp.columns = 'new_' + tmp.columns\n",
    "tmp.sample(5)"
   ]
  },
  {
   "cell_type": "code",
   "execution_count": 40,
   "metadata": {},
   "outputs": [],
   "source": [
    "tmp_per_mill = tmp / np.tile((eda_data.population_owid.values.reshape(-1,1)/1000000.),(1,9))\n",
    "tmp_per_mill.columns += '_per_million'"
   ]
  },
  {
   "cell_type": "markdown",
   "metadata": {},
   "source": [
    "Concatenate these new features and then export the dataset for later use in exploration notebook."
   ]
  },
  {
   "cell_type": "code",
   "execution_count": 41,
   "metadata": {},
   "outputs": [],
   "source": [
    "eda_final = pd.concat((export_to_modeling, tmp, tmp_per_mill),axis=1)"
   ]
  },
  {
   "cell_type": "markdown",
   "metadata": {},
   "source": [
    "Commented out to \"freeze\" the saved data"
   ]
  },
  {
   "cell_type": "code",
   "execution_count": 42,
   "metadata": {},
   "outputs": [],
   "source": [
    "eda_final.to_csv('data.csv')"
   ]
  },
  {
   "cell_type": "markdown",
   "metadata": {},
   "source": [
    "The process above is repeated for the data which will be used in the CNN and regression models,\n",
    "respectively. This is done separately to avoid mistakes and other unwarranted manipulations. This is almost certainly redundant with respect to the process above but it is to ensure that there is absolutely no room for mixups"
   ]
  },
  {
   "cell_type": "code",
   "execution_count": 43,
   "metadata": {
    "scrolled": true
   },
   "outputs": [
    {
     "name": "stdout",
     "output_type": "stream",
     "text": [
      "The range of all dates is from 2020-01-22 00:00:00 to 2020-06-30 00:00:00\n",
      "The final number of locations included is 149\n"
     ]
    }
   ],
   "source": [
    "names = ['jhucsse', 'testtracker',  'oxcgrt', 'owid']\n",
    "export_list = []\n",
    "\n",
    "export_list_tmp, dates_intersection, country_intersection = regularize_time_series(global_data, \n",
    "                                                                                   location_operation='intersection',\n",
    "                                                                                  date_operation='intersection')\n",
    "for i, x in enumerate(export_list_tmp):\n",
    "    gd_export_copy = x.copy()\n",
    "    gd_export_copy.columns += '_' + names[i]\n",
    "    export_list.append(gd_export_copy)\n",
    "    \n",
    "data = add_time_indices(multiindex_to_table(pd.concat(export_list, axis=1)), index_column='cases_jhucsse')\n",
    "\n",
    "# Want the data separated by country, the diamond princess does not have the vast majority of feature data.\n",
    "data = data[~data.location.isin(['Diamond Princess','World'])]\n",
    "print('The range of all dates is from {} to {}'.format(dates_intersection.min(), dates_intersection.max()))\n",
    "print('The final number of locations included is {}'.format(len(country_intersection)))"
   ]
  },
  {
   "cell_type": "markdown",
   "metadata": {},
   "source": [
    "The \"main\" DataFrame to be exported does not distinguish between the different data sets."
   ]
  },
  {
   "cell_type": "code",
   "execution_count": 44,
   "metadata": {
    "scrolled": false
   },
   "outputs": [
    {
     "name": "stdout",
     "output_type": "stream",
     "text": [
      "The range of all dates is from 2020-01-22 00:00:00 to 2020-06-30 00:00:00\n",
      "The number of countries included is 149\n"
     ]
    }
   ],
   "source": [
    "dataframe_list, modeling_dates, modeling_countries = regularize_time_series(global_data, location_operation='intersection',\n",
    "                                                                                  date_operation='intersection')\n",
    "print('The range of all dates is from {} to {}'.format(modeling_dates.min(), modeling_dates.max()))\n",
    "print('The number of countries included is {}'.format(len(modeling_countries)))\n",
    "# Convert the multiindex DataFrame to a simple table, and then add numerical features which track the\n",
    "# date and # of days since first case. \n",
    "df = add_time_indices(multiindex_to_table(pd.concat(dataframe_list, axis=1)), index_column='cases')\n",
    "# keep the OWID per million features separately. \n",
    "saved_per_million = df.loc[:, column_search(df, 'per_million')].copy()\n",
    "df = df.drop(columns=column_search(df, 'per_million'))"
   ]
  },
  {
   "cell_type": "markdown",
   "metadata": {},
   "source": [
    "Create an index/list of the features which *should* be cumulative. Then fix their values using\n",
    "forward filling / zero filling."
   ]
  },
  {
   "cell_type": "code",
   "execution_count": 45,
   "metadata": {},
   "outputs": [],
   "source": [
    "cumulative_columns = pd.Index(column_search(df, 'cases').unique().tolist()\n",
    "                      +column_search(df, 'deaths').unique().tolist()\n",
    "                      +column_search(df, 'tests').unique().tolist()+['recovered'])\n",
    "cumulative_columns = cumulative_columns[~cumulative_columns.str.contains('new')].drop('tests_units')"
   ]
  },
  {
   "cell_type": "markdown",
   "metadata": {},
   "source": [
    "The number of incorrectly decreasing values."
   ]
  },
  {
   "cell_type": "code",
   "execution_count": 46,
   "metadata": {},
   "outputs": [
    {
     "data": {
      "text/plain": [
       "cases                       31\n",
       "cases                       31\n",
       "cases_per100k               25\n",
       "confirmed_cases             14\n",
       "total_cases                 14\n",
       "deaths                      26\n",
       "deaths                      25\n",
       "deaths_per100k              13\n",
       "confirmed_deaths             2\n",
       "total_deaths                 2\n",
       "tests_cumulative            16\n",
       "tests_per100k               16\n",
       "total_tests                  5\n",
       "total_tests_per_thousand     5\n",
       "recovered                   48\n",
       "dtype: int64"
      ]
     },
     "execution_count": 46,
     "metadata": {},
     "output_type": "execute_result"
    }
   ],
   "source": [
    "(df.set_index([df.time_index, df.location]).loc[:, cumulative_columns\n",
    "                                              ].groupby(level=1).diff(1).fillna(0) < 0).sum()#.drop_duplicates()"
   ]
  },
  {
   "cell_type": "markdown",
   "metadata": {},
   "source": [
    "An example of three countries' time series for the total cases (which should be cumulative)."
   ]
  },
  {
   "cell_type": "code",
   "execution_count": 47,
   "metadata": {},
   "outputs": [
    {
     "data": {
      "image/png": "[encoded data removed]",
      "text/plain": [
       "<Figure size 432x288 with 1 Axes>"
      ]
     },
     "metadata": {
      "needs_background": "light"
     },
     "output_type": "display_data"
    }
   ],
   "source": [
    "fig, ax = plt.subplots()\n",
    "_ = ax.plot(df[df.location == 'Benin'].total_cases.values, label='Benin')\n",
    "_ = ax.plot(df[df.location == 'Lithuania'].total_cases.values, label='Lithuania')\n",
    "_ = ax.plot(df[df.location == 'Uganda'].total_cases.values, label='Uganda')\n",
    "_ = ax.set_ylabel('Cumulative cases')\n",
    "_ = ax.set_xlabel('time index')\n",
    "_ = ax.set_title('Incorrectly decreasing time series')\n",
    "_ = plt.legend()\n",
    "plt.savefig('three_cases_incorrect_decrease.jpg', bbox_inches='tight')"
   ]
  },
  {
   "cell_type": "markdown",
   "metadata": {},
   "source": [
    "Usage of custom function to fill in missing values, as well as check the validity of the time series. Mainly,\n",
    "this means making sure that non-decreasing quantities in fact behave this way. It checks the difference between values $n$ and\n",
    "$n+1$. If negative, the value at $n+1$ is replaced with the previous day's value. If this creates a new discrepancy, (i.e. $n+2$ is smaller then $n+1$ post-update, then it will be handled upon the next scan). Tried to make it as simple as possible to avoid any strange interactions; technically, the approximate slopes are calculated all at once and the values are updated all at once; instead of starting from the beginning and sweeping all the way through the time series. This approximation always propagates forwards, and by virtue of its calculation, always takes the larger value to be the truth. "
   ]
  },
  {
   "cell_type": "code",
   "execution_count": 48,
   "metadata": {
    "scrolled": false
   },
   "outputs": [
    {
     "name": "stdout",
     "output_type": "stream",
     "text": [
      "Fixing 20 countries in the cases column feature\n",
      "Fixing 16 countries in the cases_per100k column feature\n",
      "Fixing 10 countries in the confirmed_cases column feature\n",
      "Fixing 10 countries in the total_cases column feature\n",
      "Fixing 19 countries in the deaths column feature\n",
      "Fixing 11 countries in the deaths_per100k column feature\n",
      "Fixing 2 countries in the confirmed_deaths column feature\n",
      "Fixing 2 countries in the total_deaths column feature\n",
      "Fixing 13 countries in the tests_cumulative column feature\n",
      "Fixing 13 countries in the tests_per100k column feature\n",
      "Fixing 2 countries in the total_tests column feature\n",
      "Fixing 2 countries in the total_tests_per_thousand column feature\n",
      "Fixing 38 countries in the recovered column feature\n"
     ]
    }
   ],
   "source": [
    "for features in cumulative_columns:\n",
    "    df = fix_incorrect_decrease(df, features, search_threshold='match')"
   ]
  },
  {
   "cell_type": "code",
   "execution_count": 49,
   "metadata": {},
   "outputs": [
    {
     "data": {
      "image/png": "[encoded data removed]",
      "text/plain": [
       "<Figure size 432x288 with 1 Axes>"
      ]
     },
     "metadata": {
      "needs_background": "light"
     },
     "output_type": "display_data"
    }
   ],
   "source": [
    "fig, ax = plt.subplots()\n",
    "_ = ax.plot(df[df.location == 'Benin'].total_cases.values, label='Benin')\n",
    "_ = ax.plot(df[df.location == 'Lithuania'].total_cases.values, label='Lithuania')\n",
    "_ = ax.plot(df[df.location == 'Uganda'].total_cases.values, label='Uganda')\n",
    "_ = ax.set_ylabel('Cumulative cases')\n",
    "_ = ax.set_xlabel('time index')\n",
    "_ = ax.set_title('Corrected time series')\n",
    "_ = plt.legend()\n",
    "plt.savefig('three_cases_incorrect_decrease_corrected.jpg', bbox_inches='tight')"
   ]
  },
  {
   "cell_type": "markdown",
   "metadata": {},
   "source": [
    "\n",
    "The next section is concerned with the handling and imputation of missing values. The key consideration is\n",
    "to not contaminate the time series with information from the future. Because I am filling in the missing values here,\n",
    "I will be flagging the original missing values and keeping these flags as new features. \n",
    "\n",
    "My original idea was to normalize using the population of each country but I'm unsure as to whether this is the best\n",
    "idea; at least without another consideration. Using the population blindly results in micro-states and small countries\n",
    "being weighted heavily. Now, either I can drop these countries or I can weight the features differently; with the population *density*. This accounts for population as well as how large the state is."
   ]
  },
  {
   "cell_type": "markdown",
   "metadata": {},
   "source": [
    "### Feature selection\n",
    "<a id='selection'></a>\n",
    "[Return to table of contents](#toc)"
   ]
  },
  {
   "cell_type": "code",
   "execution_count": 50,
   "metadata": {},
   "outputs": [],
   "source": [
    "# redundant features; some features contain the same substring but are not redundant, hence the use of .difference()\n",
    "redundant_death_columns = column_search(df, 'death').difference(['cvd_death_rate'])\n",
    "redundant_test_columns = column_search(df, 'test').difference(['tests_units','h2_testing_policy'])\n",
    "redundant_case_columns= column_search(df, 'cases')"
   ]
  },
  {
   "cell_type": "markdown",
   "metadata": {},
   "source": [
    "For whatever reason, there is a single country which is missing population information."
   ]
  },
  {
   "cell_type": "code",
   "execution_count": 51,
   "metadata": {},
   "outputs": [
    {
     "data": {
      "text/plain": [
       "(148, 149)"
      ]
     },
     "execution_count": 51,
     "metadata": {},
     "output_type": "execute_result"
    }
   ],
   "source": [
    "df.population_density.nunique(), df.location.nunique()"
   ]
  },
  {
   "cell_type": "markdown",
   "metadata": {},
   "source": [
    "Originally I pruned the lowest 10% population countries, because the countries with very small populations are \n",
    "quite pathological for the new_cases_per_million feature (i.e. the vatican has the highest values.)\n",
    "I've changed my mind regarding how this should be handled and have decided to only take countries with populations\n",
    "greater than one million, such that the per capita division doesn't actually result in multiplication."
   ]
  },
  {
   "cell_type": "code",
   "execution_count": 52,
   "metadata": {},
   "outputs": [],
   "source": [
    "# To prevent the SettingCopyWithSlice warning use loc, which needs index values, hence\n",
    "# the application of this workaround function. \n",
    "data.loc[country_search(df, 'South Sudan'), 'population_density'] = 20.3\n",
    "df.loc[country_search(df, 'South Sudan'), 'population_density'] = 20.3\n",
    "\n",
    "df.loc[country_search(df, 'Guinea Bissau'), 'population_density'] = \\\n",
    "df.loc[country_search(df, 'Guinea Bissau'), 'population_density'].max()\n",
    "\n",
    "\n",
    "for country_indices in country_groupby(df):\n",
    "    df.loc[country_indices, ['population','population_density']] = \\\n",
    "    df.loc[country_indices,  ['population','population_density']].fillna(method='ffill').fillna(method='bfill').values \n",
    "\n",
    "df = df[df.population > 1000000.]\n",
    "# these two countries have pathological new_cases_per_million time series. just get rid of them for simplicity\n",
    "df = df[~df.location.isin(['Chile', 'Ecuador'])]\n",
    "data = data[data.location.isin(df.location.unique())]\n",
    "per_million_population = df.population / 1000000.\n",
    "population_density = df.population_density\n",
    "world_pop = df[df.time_index==df.time_index.max()].population.sum()\n",
    "percent_pop = df.population / world_pop\n",
    "data.loc[:, 'per_million_population'] = per_million_population.values"
   ]
  },
  {
   "cell_type": "markdown",
   "metadata": {},
   "source": [
    "I will use/predict the new cases/deaths/etc. per day as opposed to the total. This avoids complications due to the cumulative\n",
    "nature of the totals. For deciding which data source to actually use refer to the data exploration notebook."
   ]
  },
  {
   "cell_type": "code",
   "execution_count": 53,
   "metadata": {},
   "outputs": [],
   "source": [
    "data.loc[data.new_cases_per_million_owid<0, 'new_cases_per_million_owid'] = 0\n",
    "data.loc[data.new_tests_owid<0, 'new_tests_owid'] = 0\n",
    "data.loc[data.new_deaths_per_million_owid<0, 'new_deaths_per_million_owid'] = 0\n",
    "data.loc[data.recovered_jhucsse<0, 'recovered'] = 0\n",
    "\n",
    "# Already have a good \"new tests\" feature, so do not need to compute differences\n",
    "df.loc[:, 'new_tests_per_million'] = (data.loc[df.index,'new_tests_testtracker'].fillna(0)/per_million_population).values\n",
    "data.loc[:, 'new_tests_per_million'] = (data.loc[df.index,'new_tests_testtracker'].fillna(0)/per_million_population).values\n",
    "\n",
    "# Already have a good \"new cases\" feature, so do not need to compute differences\n",
    "df.loc[:, 'new_cases_per_million'] =  data.loc[df.index,'new_cases_per_million_owid'].fillna(0).values\n",
    "data.loc[:, 'new_cases_per_million'] = data.loc[df.index,'new_cases_per_million_owid'].fillna(0).values\n",
    "\n",
    "df.loc[:, 'new_deaths_per_million']  =  data.loc[df.index,'new_deaths_per_million_owid'].fillna(0).values\n",
    "data.loc[:, 'new_deaths_per_million'] = data.loc[df.index,'new_deaths_per_million_owid'].fillna(0).values \n",
    "\n",
    "# df = fix_incorrect_decrease(df, 'recovered')\n",
    "df.loc[:, 'new_recovered_per_million'] = (df.set_index(['time_index','location']).recovered.groupby(\n",
    "                                            level=1).diff(1).fillna(0).values / per_million_population.values)\n",
    "data.loc[:, 'new_recovered_per_million'] = (data.set_index(['time_index','location']).recovered_jhucsse.groupby(\n",
    "                                            level=1).diff(1).fillna(0).values / per_million_population.values)\n",
    "\n",
    "df.loc[:, 'log_new_recovered_per_million'] = df.loc[:, 'new_recovered_per_million'].apply(lambda x: np.log(x+1))\n",
    "df.loc[:, 'log_new_deaths_per_million']  =  df.loc[:, 'new_deaths_per_million'].apply(lambda x: np.log(x+1))\n",
    "df.loc[:, 'log_new_cases_per_million'] =  df.loc[:, 'new_cases_per_million'].apply(lambda x: np.log(x+1))\n",
    "df.loc[:, 'log_new_tests_per_million'] = df.loc[:, 'new_tests_per_million'].apply(lambda x: np.log(x+1))"
   ]
  },
  {
   "cell_type": "markdown",
   "metadata": {},
   "source": [
    "Also, the time-series of countries which have caught more cases overall will likely have better reporting practices and\n",
    "be closer to the actual behavior of the virus transmission. Visual inspection of certain time series leads me to believe\n",
    "they will simply act as noise, obfuscating the average or \"actual\" behavior. \n",
    "\n",
    "The data has been wrangled and manipulated to best better for the modeling process, now I work towards removing redundant information and keeping only the data which seems useful."
   ]
  },
  {
   "cell_type": "code",
   "execution_count": 54,
   "metadata": {},
   "outputs": [],
   "source": [
    "# this is required from the step dropping the least populated countries, but it could not be done until now. \n",
    "df = df.reset_index(drop=True)"
   ]
  },
  {
   "cell_type": "code",
   "execution_count": 55,
   "metadata": {},
   "outputs": [],
   "source": [
    "df_pruned = df.drop(columns=(redundant_death_columns.tolist() \n",
    "                         + redundant_test_columns.tolist() \n",
    "                         + redundant_case_columns.tolist()+['recovered']))\n",
    "\n",
    "stringency =  data.loc[:, 'stringency_index_oxcgrt']\n",
    "\n",
    "df_pruned = df_pruned.drop(columns=['country_name', 'country_code',\n",
    "                                                    'm1_wildcard','stringency_index_for_display',\n",
    "                                                   'stringency_legacy_index', 'stringency_legacy_index_for_display',\n",
    "                                                    'government_response_index_for_display',\n",
    "                                                    'containment_health_index_for_display',\n",
    "                                                    'economic_support_index_for_display',\n",
    "                                                    'iso_code','stringency_index'])\n",
    "df_pruned.loc[:, 'stringency_index'] = stringency.values"
   ]
  },
  {
   "cell_type": "markdown",
   "metadata": {},
   "source": [
    "Enumerate all feature names so that I can reorder the columns based on personal preference and modeling reasons."
   ]
  },
  {
   "cell_type": "code",
   "execution_count": 56,
   "metadata": {},
   "outputs": [],
   "source": [
    "indexers = ['location','date','time_index','days_since_first_case']\n",
    "new_per_million_quantity_features = ['new_cases_per_million',\n",
    "            'new_tests_per_million', \n",
    "            'new_recovered_per_million', \n",
    "            'new_deaths_per_million']\n",
    "log_new_per_million_quantity_features = ['log_new_cases_per_million',\n",
    "            'log_new_tests_per_million', \n",
    "            'log_new_recovered_per_million', \n",
    "            'log_new_deaths_per_million']\n",
    "flag_features = column_search(df_pruned,'flag')\n",
    "time_independent_features =df_pruned.loc[:, 'population':'hospital_beds_per_thousand'].columns.tolist()\n",
    "time_dependent_features = df_pruned.loc[:, 'c1_school_closing':'economic_support_index'].columns.difference(flag_features).tolist()+['stringency_index']\n",
    "# oxcgrt_index_variables = ['stringency_index']+df.loc[:,column_search(df,'index')].columns[1:].intersection(\n",
    "#                    pd.Index(time_dependent_features)).tolist()\n",
    "categorical_features = flag_features.tolist()+['tests_units', 'income_group', 'continent', 'region']\n",
    "numerical_features =  (new_per_million_quantity_features\n",
    "                       +log_new_per_million_quantity_features\n",
    "                       +time_dependent_features)\n",
    "new_quantity_features =  (new_per_million_quantity_features\n",
    "                       +log_new_per_million_quantity_features)\n",
    "\n",
    "df_reorder = df_pruned.loc[:, indexers\n",
    "                              +numerical_features\n",
    "                              +time_independent_features\n",
    "                              +categorical_features]"
   ]
  },
  {
   "cell_type": "markdown",
   "metadata": {},
   "source": [
    "### Feature engineering\n",
    "<a id='engineer'></a>\n",
    "[Return to table of contents](#toc)\n",
    "\n",
    "Manipulate categorical features and fill in missing values with string ```'Missing'```\n",
    "The original OxCGRT flag columnstake values 1.0, 0.0, np.nan. \n",
    "Convert these to categorical, and for the sake of column names map floats to str.\n",
    "Afterwards, drop the column that corresponds to missing values to remove collinearity. \n",
    "\n",
    "*Note that the distinction between regression and cnn data is deprecated but kept in case of changes."
   ]
  },
  {
   "cell_type": "code",
   "execution_count": 57,
   "metadata": {},
   "outputs": [],
   "source": [
    "categorical_df = df_reorder.loc[:, categorical_features].fillna('Missing').astype('category')\n",
    "for col in categorical_df.columns:\n",
    "    categorical_df.loc[:, col] = categorical_df.loc[:, col].cat.rename_categories({1.0 : '1', 0. : '0'})\n",
    "    \n",
    "categorical_dummies = pd.get_dummies(categorical_df)\n",
    "categorical_dummies_without_collinearity = regularize_names(categorical_dummies[categorical_dummies.columns[~categorical_dummies.columns.str.contains('Missing')]])"
   ]
  },
  {
   "cell_type": "code",
   "execution_count": 58,
   "metadata": {},
   "outputs": [],
   "source": [
    "df_reorder = pd.concat((df_reorder.drop(columns=categorical_features),\n",
    "                        categorical_dummies_without_collinearity),axis=1)\n",
    "categorical_dummy_features = categorical_dummies_without_collinearity.columns.tolist()"
   ]
  },
  {
   "cell_type": "markdown",
   "metadata": {},
   "source": [
    "Deal with missing values with strategies that are dependent upon where or not the feature is time dependent or not."
   ]
  },
  {
   "cell_type": "code",
   "execution_count": 59,
   "metadata": {},
   "outputs": [],
   "source": [
    "# only create missing flag variables for features that are missing more than a minimum number of values (100)         \n",
    "missing_categoricals = df_reorder.iloc[:, np.where(df_reorder.isna().sum() > 100)[0]].isna().astype(int)\n",
    "missing_categoricals.columns = missing_categoricals.columns + '_missing_flag'\n",
    "\n",
    "for country_indices in country_groupby(df_reorder):\n",
    "    fill_tmp = df_reorder.loc[country_indices, time_independent_features].fillna(method='ffill').fillna(method='bfill')\n",
    "    df_reorder.loc[country_indices, time_independent_features] = fill_tmp.values\n",
    "    df_reorder.loc[country_indices, time_dependent_features] = df_reorder.loc[country_indices, time_dependent_features].fillna(method='ffill').fillna(value=0)\n",
    "df_reorder.loc[:, time_independent_features] = df_reorder.loc[:, time_independent_features].fillna(df_reorder.loc[:, time_independent_features].median())"
   ]
  },
  {
   "cell_type": "markdown",
   "metadata": {},
   "source": [
    "Compose the DataFrame with all engineered and original features."
   ]
  },
  {
   "cell_type": "code",
   "execution_count": 72,
   "metadata": {},
   "outputs": [],
   "source": [
    "location_dummies_without_collinearity = pd.get_dummies(df.location, drop_first=True)\n",
    "location_dummies_without_collinearity.columns += '_location_flag'\n",
    "location_dummies_without_collinearity = regularize_names(location_dummies_without_collinearity)\n",
    "export_df = pd.concat((df_reorder, location_dummies_without_collinearity, missing_categoricals),axis=1)\n",
    "export_df = export_df.loc[:, indexers \n",
    "                  + new_per_million_quantity_features \n",
    "                  + log_new_per_million_quantity_features\n",
    "                  + time_dependent_features\n",
    "                  + time_independent_features\n",
    "                  + categorical_dummy_features\n",
    "                  + location_dummies_without_collinearity.columns.tolist()\n",
    "                  + missing_categoricals.columns.tolist()\n",
    "                 ]"
   ]
  },
  {
   "cell_type": "markdown",
   "metadata": {},
   "source": [
    "Because I'm going to impute values for the time independent features, it may or may not be important to track this by flagging\n",
    "the missing values via one-hot encoding. Note that I have just manipulated the flagging columns so that *their* missing value flags are not included; but again this is because of linear dependency reasons. \n",
    "\n",
    "For time independent features, do not have to be careful with time; because there is no two-sided fillna method that\n",
    "I am aware of, handle this by filling forwards and backwards.\n",
    "\n",
    "Time dependent features can only be filled forward so that information from the future is not visible from the past. Additionally, any other missing values are filled with 0's; only other options would be, for instance, the mean up to that date. \n",
    "\n",
    "\n",
    "Create the moving averages of the time dependent features to attempt to convey the time dependence to the regression models. \n",
    "\n",
    "Previously, I used rolling window widths of 7,14,21,28 days but upon inspection the 21 and 28 day MA simply introduced a number of nearly collinear features, which in turn affects the ridge regression. Therefore, these have been discarded"
   ]
  },
  {
   "cell_type": "code",
   "execution_count": 61,
   "metadata": {},
   "outputs": [],
   "source": [
    "roll_widths = [3, 7, 14]\n",
    "\n",
    "lean_features_list =  indexers + new_per_million_quantity_features + log_new_per_million_quantity_features\n",
    "numerical_features = new_per_million_quantity_features + log_new_per_million_quantity_features\n",
    "regression_df_lean = modify_time_series_zeros(export_df.loc[:,lean_features_list].copy(), \n",
    "                                                        new_per_million_quantity_features)"
   ]
  },
  {
   "cell_type": "markdown",
   "metadata": {},
   "source": [
    "The dataframe being exported next is a subset of all  features prepared for the regression process. "
   ]
  },
  {
   "cell_type": "code",
   "execution_count": 62,
   "metadata": {},
   "outputs": [],
   "source": [
    "new_features = rolling_features(regression_df_lean.copy(), numerical_features,\n",
    "                                     roll_widths=roll_widths).reset_index(drop=True)\n",
    "\n",
    "regression_df_lean = pd.concat((regression_df_lean,\n",
    "                                new_features,\n",
    "                               ),axis=1)\n",
    "#Comment out to \"freeze\" the saved data\n",
    "regression_df_lean.fillna(0).to_csv('regression_data.csv')"
   ]
  },
  {
   "cell_type": "markdown",
   "metadata": {},
   "source": [
    "The dataframe being exported next contains all features prepared for the regression process. "
   ]
  },
  {
   "cell_type": "code",
   "execution_count": 63,
   "metadata": {},
   "outputs": [],
   "source": [
    "# use multiples of 7 to capture weekly seasonality\n",
    "# roll_widths = [3, 7, 14, 21, 28]\n",
    "roll_widths = [3, 7, 14]\n",
    "\n",
    "new_quantity_features = (new_per_million_quantity_features\n",
    "                       +log_new_per_million_quantity_features)\n",
    "\n",
    "df_modified = modify_time_series_zeros(export_df, new_quantity_features)\n",
    "export_df.loc[:, new_quantity_features] = df_modified.loc[:, new_quantity_features].values"
   ]
  },
  {
   "cell_type": "code",
   "execution_count": 64,
   "metadata": {},
   "outputs": [],
   "source": [
    "new_features = rolling_features(export_df, \n",
    "                                  numerical_features, \n",
    "                                  roll_widths=roll_widths)"
   ]
  },
  {
   "cell_type": "code",
   "execution_count": 65,
   "metadata": {},
   "outputs": [],
   "source": [
    "regression_df = pd.concat((export_df,\n",
    "                                new_features.reset_index(drop=True)\n",
    "                               ),axis=1)"
   ]
  },
  {
   "cell_type": "markdown",
   "metadata": {},
   "source": [
    "Commented out to \"freeze\" the saved data"
   ]
  },
  {
   "cell_type": "markdown",
   "metadata": {},
   "source": [
    "### Exporting data for modeling"
   ]
  },
  {
   "cell_type": "code",
   "execution_count": 66,
   "metadata": {},
   "outputs": [],
   "source": [
    "regression_df.fillna(0).to_csv('regression_data_full.csv')"
   ]
  },
  {
   "cell_type": "markdown",
   "metadata": {},
   "source": [
    "For the CNN, stick to the most important time-series features only."
   ]
  },
  {
   "cell_type": "code",
   "execution_count": 67,
   "metadata": {},
   "outputs": [],
   "source": [
    "cnn_features =  (indexers \n",
    "                  + new_per_million_quantity_features\n",
    "                  + log_new_per_million_quantity_features\n",
    "                  + time_dependent_features\n",
    "                )\n",
    "\n",
    "cnn_df = export_df.loc[:, cnn_features]\n",
    "cnn_df.to_csv('cnn_data_vanilla.csv')\n",
    "# changing the values to better respect \n",
    "\n",
    "cnn_modified = modify_time_series_zeros(cnn_df, (new_per_million_quantity_features \n",
    "                                                 +log_new_per_million_quantity_features\n",
    "                                                 +time_dependent_features))"
   ]
  },
  {
   "cell_type": "markdown",
   "metadata": {},
   "source": [
    "Commented out to \"freeze\" the saved data"
   ]
  },
  {
   "cell_type": "code",
   "execution_count": 68,
   "metadata": {},
   "outputs": [],
   "source": [
    "cnn_modified.fillna(0).to_csv('cnn_data.csv')"
   ]
  },
  {
   "cell_type": "markdown",
   "metadata": {},
   "source": [
    "The one-hot encoded columns and even the government response time series may introduce noise due to their\n",
    "piecewise-constant nature of their values. Just in-case, create a version of the regression data without these\n",
    "features."
   ]
  }
 ],
 "metadata": {
  "kernelspec": {
   "display_name": "Python 3",
   "language": "python",
   "name": "python3"
  },
  "language_info": {
   "codemirror_mode": {
    "name": "ipython",
    "version": 3
   },
   "file_extension": ".py",
   "mimetype": "text/x-python",
   "name": "python",
   "nbconvert_exporter": "python",
   "pygments_lexer": "ipython3",
   "version": "3.7.6"
  }
 },
 "nbformat": 4,
 "nbformat_minor": 4
}
