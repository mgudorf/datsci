{
 "cells": [
  {
   "cell_type": "code",
   "execution_count": 2,
   "metadata": {},
   "outputs": [],
   "source": [
    "import numpy as np\n",
    "import pandas as pd\n",
    "import seaborn as sns\n",
    "import matplotlib.pyplot as plt\n",
    "import os\n",
    "import sys\n",
    "import glob\n",
    "import re\n",
    "import requests\n",
    "from matplotlib.patches import Rectangle\n",
    "from datetime import datetime\n",
    "sns.set()"
   ]
  },
  {
   "cell_type": "code",
   "execution_count": 5,
   "metadata": {},
   "outputs": [
    {
     "data": {
      "text/plain": [
       "{'CodeCell': {'cm_config': {'autoCloseBrackets': False}}}"
      ]
     },
     "execution_count": 5,
     "metadata": {},
     "output_type": "execute_result"
    }
   ],
   "source": [
    "# from notebook.services.config import ConfigManager\n",
    "# c = ConfigManager()\n",
    "# c.update('notebook', {\"CodeCell\": {\"cm_config\": {\"autoCloseBrackets\": False}}})"
   ]
  },
  {
   "cell_type": "code",
   "execution_count": 4,
   "metadata": {},
   "outputs": [
    {
     "data": {
      "text/html": [
       "<div>\n",
       "<style scoped>\n",
       "    .dataframe tbody tr th:only-of-type {\n",
       "        vertical-align: middle;\n",
       "    }\n",
       "\n",
       "    .dataframe tbody tr th {\n",
       "        vertical-align: top;\n",
       "    }\n",
       "\n",
       "    .dataframe thead th {\n",
       "        text-align: right;\n",
       "    }\n",
       "</style>\n",
       "<table border=\"1\" class=\"dataframe\">\n",
       "  <thead>\n",
       "    <tr style=\"text-align: right;\">\n",
       "      <th></th>\n",
       "      <th>Unnamed: 0</th>\n",
       "      <th>Unnamed: 1</th>\n",
       "      <th>Unnamed: 2</th>\n",
       "      <th>Unnamed: 3</th>\n",
       "      <th>Unnamed: 4</th>\n",
       "      <th>Unnamed: 5</th>\n",
       "      <th>Unnamed: 6</th>\n",
       "      <th>Unnamed: 7</th>\n",
       "      <th>Positives</th>\n",
       "      <th>Unnamed: 9</th>\n",
       "      <th>...</th>\n",
       "      <th>Unnamed: 43</th>\n",
       "      <th>Unnamed: 44</th>\n",
       "      <th>Unnamed: 45</th>\n",
       "      <th>Unnamed: 46</th>\n",
       "      <th>Unnamed: 47</th>\n",
       "      <th>Unnamed: 48</th>\n",
       "      <th>Unnamed: 49</th>\n",
       "      <th>Unnamed: 50</th>\n",
       "      <th>Unnamed: 51</th>\n",
       "      <th>Unnamed: 52</th>\n",
       "    </tr>\n",
       "  </thead>\n",
       "  <tbody>\n",
       "    <tr>\n",
       "      <th>0</th>\n",
       "      <td>NaN</td>\n",
       "      <td>NaN</td>\n",
       "      <td>NaN</td>\n",
       "      <td>NaN</td>\n",
       "      <td>NaN</td>\n",
       "      <td>NaN</td>\n",
       "      <td>NaN</td>\n",
       "      <td>NaN</td>\n",
       "      <td>NaN</td>\n",
       "      <td>Race</td>\n",
       "      <td>...</td>\n",
       "      <td>NaN</td>\n",
       "      <td>NaN</td>\n",
       "      <td>NaN</td>\n",
       "      <td>NaN</td>\n",
       "      <td>NaN</td>\n",
       "      <td>Ethnicity</td>\n",
       "      <td>NaN</td>\n",
       "      <td>NaN</td>\n",
       "      <td>NaN</td>\n",
       "      <td>NaN</td>\n",
       "    </tr>\n",
       "    <tr>\n",
       "      <th>1</th>\n",
       "      <td>NaN</td>\n",
       "      <td>NaN</td>\n",
       "      <td>Update Time</td>\n",
       "      <td>Source</td>\n",
       "      <td>Update Time (Et)</td>\n",
       "      <td>Last Check</td>\n",
       "      <td>Checker</td>\n",
       "      <td>DC</td>\n",
       "      <td>Total</td>\n",
       "      <td>Known White</td>\n",
       "      <td>...</td>\n",
       "      <td>Known NHPI</td>\n",
       "      <td>Known Multiracial</td>\n",
       "      <td>Other</td>\n",
       "      <td>Unknown</td>\n",
       "      <td>% Unk.</td>\n",
       "      <td>Known Hispanic</td>\n",
       "      <td>Known Non-Hispanic</td>\n",
       "      <td>Unknown</td>\n",
       "      <td>% Unk.</td>\n",
       "      <td>NaN</td>\n",
       "    </tr>\n",
       "    <tr>\n",
       "      <th>2</th>\n",
       "      <td>20200503.0</td>\n",
       "      <td>AK</td>\n",
       "      <td>NaN</td>\n",
       "      <td>NaN</td>\n",
       "      <td>5/03 14:00</td>\n",
       "      <td>5/03 22:16</td>\n",
       "      <td>SAR</td>\n",
       "      <td>AM</td>\n",
       "      <td>368</td>\n",
       "      <td>216</td>\n",
       "      <td>...</td>\n",
       "      <td>NaN</td>\n",
       "      <td>NaN</td>\n",
       "      <td>NaN</td>\n",
       "      <td>NaN</td>\n",
       "      <td>NaN</td>\n",
       "      <td>NaN</td>\n",
       "      <td>NaN</td>\n",
       "      <td>NaN</td>\n",
       "      <td>NaN</td>\n",
       "      <td>(4/29 SPA) The dashboard no longer holds data ...</td>\n",
       "    </tr>\n",
       "    <tr>\n",
       "      <th>3</th>\n",
       "      <td>20200503.0</td>\n",
       "      <td>AL</td>\n",
       "      <td>NaN</td>\n",
       "      <td>NaN</td>\n",
       "      <td>5/03 0:00</td>\n",
       "      <td>5/3 22:27</td>\n",
       "      <td>SAR</td>\n",
       "      <td>AM</td>\n",
       "      <td>7888</td>\n",
       "      <td>3518</td>\n",
       "      <td>...</td>\n",
       "      <td>NaN</td>\n",
       "      <td>NaN</td>\n",
       "      <td>NaN</td>\n",
       "      <td>NaN</td>\n",
       "      <td>NaN</td>\n",
       "      <td>NaN</td>\n",
       "      <td>NaN</td>\n",
       "      <td>NaN</td>\n",
       "      <td>NaN</td>\n",
       "      <td>#REF!</td>\n",
       "    </tr>\n",
       "    <tr>\n",
       "      <th>4</th>\n",
       "      <td>20200503.0</td>\n",
       "      <td>AR</td>\n",
       "      <td>NaN</td>\n",
       "      <td>NaN</td>\n",
       "      <td>5/03 3:40</td>\n",
       "      <td>5/3 22:42</td>\n",
       "      <td>SAR</td>\n",
       "      <td>AM</td>\n",
       "      <td>3431</td>\n",
       "      <td>1762</td>\n",
       "      <td>...</td>\n",
       "      <td>NaN</td>\n",
       "      <td>NaN</td>\n",
       "      <td>NaN</td>\n",
       "      <td>NaN</td>\n",
       "      <td>NaN</td>\n",
       "      <td>NaN</td>\n",
       "      <td>NaN</td>\n",
       "      <td>NaN</td>\n",
       "      <td>NaN</td>\n",
       "      <td>#REF!</td>\n",
       "    </tr>\n",
       "  </tbody>\n",
       "</table>\n",
       "<p>5 rows × 53 columns</p>\n",
       "</div>"
      ],
      "text/plain": [
       "   Unnamed: 0 Unnamed: 1   Unnamed: 2 Unnamed: 3        Unnamed: 4  \\\n",
       "0         NaN        NaN          NaN        NaN               NaN   \n",
       "1         NaN        NaN  Update Time     Source  Update Time (Et)   \n",
       "2  20200503.0         AK          NaN        NaN        5/03 14:00   \n",
       "3  20200503.0         AL          NaN        NaN         5/03 0:00   \n",
       "4  20200503.0         AR          NaN        NaN         5/03 3:40   \n",
       "\n",
       "   Unnamed: 5 Unnamed: 6 Unnamed: 7 Positives    Unnamed: 9  ... Unnamed: 43  \\\n",
       "0         NaN        NaN        NaN       NaN          Race  ...         NaN   \n",
       "1  Last Check    Checker         DC     Total  Known White   ...  Known NHPI   \n",
       "2  5/03 22:16        SAR         AM       368           216  ...         NaN   \n",
       "3   5/3 22:27        SAR         AM      7888          3518  ...         NaN   \n",
       "4   5/3 22:42        SAR         AM      3431          1762  ...         NaN   \n",
       "\n",
       "          Unnamed: 44 Unnamed: 45 Unnamed: 46 Unnamed: 47     Unnamed: 48  \\\n",
       "0                 NaN         NaN         NaN         NaN       Ethnicity   \n",
       "1  Known Multiracial        Other     Unknown      % Unk.  Known Hispanic   \n",
       "2                 NaN         NaN         NaN         NaN             NaN   \n",
       "3                 NaN         NaN         NaN         NaN             NaN   \n",
       "4                 NaN         NaN         NaN         NaN             NaN   \n",
       "\n",
       "          Unnamed: 49 Unnamed: 50 Unnamed: 51  \\\n",
       "0                 NaN         NaN         NaN   \n",
       "1  Known Non-Hispanic     Unknown      % Unk.   \n",
       "2                 NaN         NaN         NaN   \n",
       "3                 NaN         NaN         NaN   \n",
       "4                 NaN         NaN         NaN   \n",
       "\n",
       "                                         Unnamed: 52  \n",
       "0                                                NaN  \n",
       "1                                                NaN  \n",
       "2  (4/29 SPA) The dashboard no longer holds data ...  \n",
       "3                                              #REF!  \n",
       "4                                              #REF!  \n",
       "\n",
       "[5 rows x 53 columns]"
      ]
     },
     "execution_count": 4,
     "metadata": {},
     "output_type": "execute_result"
    }
   ],
   "source": [
    "race = pd.read_csv('./CovidTracker_test_data/Race Data - Tracker Commits.csv')\n",
    "race.head()"
   ]
  },
  {
   "cell_type": "code",
   "execution_count": null,
   "metadata": {},
   "outputs": [],
   "source": []
  },
  {
   "cell_type": "code",
   "execution_count": null,
   "metadata": {},
   "outputs": [],
   "source": []
  },
  {
   "cell_type": "code",
   "execution_count": 247,
   "metadata": {},
   "outputs": [
    {
     "data": {
      "text/plain": [
       "0       20200201\n",
       "1       20200201\n",
       "2       20200201\n",
       "3       20200201\n",
       "4       20200201\n",
       "          ...   \n",
       "3645    20200202\n",
       "3646    20200202\n",
       "3647    20200202\n",
       "3648    20200202\n",
       "3649    20200202\n",
       "Name: time_value, Length: 3650, dtype: int64"
      ]
     },
     "execution_count": 247,
     "metadata": {},
     "output_type": "execute_result"
    }
   ],
   "source": [
    "pd.json_normalize(resp.json()['epidata']).time_value"
   ]
  },
  {
   "cell_type": "code",
   "execution_count": null,
   "metadata": {},
   "outputs": [],
   "source": [
    "url_to_present_date = 'https://covidtrackerapi.bsg.ox.ac.uk/api/v2/stringency/date-range/2020-01-02/' \\\n",
    "                        + str(datetime.now().date())\n",
    "response = requests.get(url_to_present_date)\n",
    "response_json = response.json()\n",
    "response_json_nested_dict = response_json['data']"
   ]
  },
  {
   "cell_type": "code",
   "execution_count": null,
   "metadata": {},
   "outputs": [],
   "source": [
    "url_to_present_date = 'https://covidtrackerapi.bsg.ox.ac.uk/api/v2/stringency/date-range/2020-01-02/' \\\n",
    "                        + str(datetime.now().date())\n",
    "response = requests.get(url_to_present_date)\n",
    "response_json = response.json()\n",
    "response_json_nested_dict = response_json['data']"
   ]
  },
  {
   "cell_type": "code",
   "execution_count": 2,
   "metadata": {},
   "outputs": [],
   "source": []
  },
  {
   "cell_type": "markdown",
   "metadata": {},
   "source": []
  },
  {
   "cell_type": "code",
   "execution_count": 40,
   "metadata": {},
   "outputs": [],
   "source": [
    "before_minus_after.columns = before_minus_after.columns.str.split('_').str.join(sep=' ')\n",
    "before_minus_after_residual_df.columns = before_minus_after_residual_df.columns.str.split('_').str.join(sep=' ')"
   ]
  },
  {
   "cell_type": "markdown",
   "metadata": {},
   "source": [
    "## Instead of datetime slicing I should have just been using days since first case.\n"
   ]
  },
  {
   "cell_type": "code",
   "execution_count": 56,
   "metadata": {},
   "outputs": [],
   "source": []
  },
  {
   "cell_type": "markdown",
   "metadata": {},
   "source": []
  },
  {
   "cell_type": "code",
   "execution_count": 107,
   "metadata": {},
   "outputs": [],
   "source": []
  },
  {
   "cell_type": "code",
   "execution_count": null,
   "metadata": {},
   "outputs": [],
   "source": []
  },
  {
   "cell_type": "code",
   "execution_count": null,
   "metadata": {},
   "outputs": [],
   "source": []
  },
  {
   "cell_type": "code",
   "execution_count": null,
   "metadata": {},
   "outputs": [],
   "source": []
  }
 ],
 "metadata": {
  "kernelspec": {
   "display_name": "Python 3",
   "language": "python",
   "name": "python3"
  },
  "language_info": {
   "codemirror_mode": {
    "name": "ipython",
    "version": 3
   },
   "file_extension": ".py",
   "mimetype": "text/x-python",
   "name": "python",
   "nbconvert_exporter": "python",
   "pygments_lexer": "ipython3",
   "version": "3.7.6"
  }
 },
 "nbformat": 4,
 "nbformat_minor": 4
}
