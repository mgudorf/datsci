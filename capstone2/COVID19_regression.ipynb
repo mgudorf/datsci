{
 "cells": [
  {
   "cell_type": "code",
   "execution_count": 358,
   "metadata": {},
   "outputs": [],
   "source": [
    "import numpy as np\n",
    "import pandas as pd\n",
    "import seaborn as sns\n",
    "import matplotlib.pyplot as plt\n",
    "import os\n",
    "import sys\n",
    "import re\n",
    "import warnings\n",
    "from matplotlib.patches import Rectangle\n",
    "from sklearn.metrics import mean_squared_error, r2_score, explained_variance_score, mean_absolute_error\n",
    "from sklearn.decomposition import PCA\n",
    "from sklearn.preprocessing import StandardScaler, MinMaxScaler, QuantileTransformer\n",
    "from sklearn.svm import SVR\n",
    "from sklearn.linear_model import Ridge, ElasticNet\n",
    "from sklearn.compose import ColumnTransformer\n",
    "from sklearn.model_selection import GridSearchCV\n",
    "warnings.simplefilter(action='ignore', category=FutureWarning)\n",
    "import tensorflow as tf\n",
    "from tensorflow.keras import layers\n",
    "warnings.resetwarnings()"
   ]
  },
  {
   "cell_type": "markdown",
   "metadata": {},
   "source": [
    "\n",
    "To accomplish this, I will produce a number of \"new\" features which attempt to capture the time dependence via rolling averages and rolling standard deviations. I will also one-hot encode certain variables which represent flags for certain behaviors or discrete, time independent variables such as location (country).\n",
    "\n",
    "The models will be trained using data from all countries; that is, the models will not be country-specific. \n",
    "The prediction require shifting the target variable (number new cases) by the corresponding number of days\n",
    "the specific model is trying to predict.\n",
    "\n",
    "Analysis of this forecasting method will be performed by not only comparing the predictions from different days (e.g. I expect the standard deviation to increase the further into the future the model is predicting) but also comparing the results against a baseline model. I consider three baseline models: a naive model, which just uses the last known value, a drift model, which\n",
    "extrapolates using the average rate of change, and the average method, which uses the average the entire history.\n",
    "\n",
    "Due to the nature of testing, most of the time series (of the number of new cases) start at 0 for a protracted period of time (i.e. testing begins far after the first date in the time series). This property is hard to capture with either a drift or an average method, as they would both be biased by these long tails. Therefore, while the simplest choice, I will elect to simply use a naive method; alternative ideas I had were to use a drift or average method which does not utilize the entire history but rather only the most recent $d$ days, or at very least only incorporate the non-zero values.\n",
    "\n",
    "\n",
    "## Baseline comparisons.\n",
    "\n",
    "Because I am predicting the number of new cases per million on a daily basis, (i.e. not the rate) I am going to employ a naive (constant) baseline.\n",
    "\n",
    "\n",
    "## Metric to determine model accuracy\n",
    "\n",
    "I will be using mean absolute error as to minimize the effect of outliers.\n",
    "\n",
    "\n",
    "## Details yet to be incorporated:\n",
    "\n",
    "Growth of standard deviation over time in forecasting.\n"
   ]
  },
  {
   "cell_type": "markdown",
   "metadata": {},
   "source": [
    "# Modeling the number of cases of COVID-19\n",
    "\n",
    "\n",
    "# Table of contents<a id='toc'></a>\n",
    "\n",
    "## [COVID-19 Case number modeling ](#model)\n",
    "\n",
    "\n",
    "## [COVID-19 Case number modeling with new features.](#modelplus)\n",
    "***This section is a repeat of calculations with different data; the steps are described in the first modeling section.***"
   ]
  },
  {
   "cell_type": "code",
   "execution_count": 331,
   "metadata": {},
   "outputs": [],
   "source": [
    "# Copied from last capstone project. \n",
    "def classifier_analysis(clf, X_test, y_test, plot=True, metric='evs'):\n",
    "    \n",
    "    '''\n",
    "        Predict using trained scikit-learn estimator and compute and plot various metrics:\n",
    "        Prints \n",
    "        \n",
    "        Parameters:\n",
    "        \n",
    "        X_test : ndarray or DataFrame (n_samples, n_features)\n",
    "                 Feature data to test. n_features represents the number of features\n",
    "                 present in the data used to train the estimator clf\n",
    "                 \n",
    "        y_test : ndarray (n_samples, )\n",
    "                 Target data to test. \n",
    "                \n",
    "        \n",
    "        clf : scikit-learn estimator which has been fit to data with same number of \n",
    "              columns as X_test\n",
    "        \n",
    "        \n",
    "        Returns:\n",
    "        \n",
    "        y_test : ndarray (n_samples, )\n",
    "            \n",
    "            Same as input for convenience\n",
    "        \n",
    "        y_predict : ndarray (n_samples, ) \n",
    "            \n",
    "            Predictions \n",
    "        \n",
    "    '''\n",
    "    \n",
    "    y_predict = clf.predict(X_test)\n",
    "    \n",
    "    # Print the mean squared error and explained variance\n",
    "    if metric == 'evs':\n",
    "        score = explained_variance_score(y_test, y_predict)\n",
    "    elif metric == 'mae':\n",
    "        score = mean_absolute_error(y_test, y_predict)\n",
    "    else:\n",
    "        score = mean_squared_error(y_test, y_predict)\n",
    "\n",
    "#     print('Mean squared error {}'.format(mse_))\n",
    "#     print('Explained variance score {}'.format(evs_))\n",
    "    \n",
    "    if plot:\n",
    "        # Plot true vs. predicted as scatter plot. \n",
    "        ym = np.max(y_test)\n",
    "        fig = plt.figure()\n",
    "        plt.scatter(y_test, y_predict, s=1)\n",
    "        plt.plot([0, ym],[0, ym],color='r')\n",
    "        plt.ylabel('Predicted Value')\n",
    "        plt.xlabel('True Value')\n",
    "        plt.grid()\n",
    "        plt.xlim([0, 1.1*ym])\n",
    "        plt.ylim([0, 1.1*ym])\n",
    "        _ = plt.show()\n",
    "    \n",
    "    return y_test, y_predict, score\n",
    "\n",
    "def predict_single_day(df, day):\n",
    "    \"\"\" Helper function for prediction\n",
    "    \n",
    "    Notes\n",
    "    -----\n",
    "    Takes a time series defined on n points, uses data until the\n",
    "    (n-1)st day and uses it to predict n_cases on nth day. df.date\n",
    "    should be a datetime feature\n",
    "    \"\"\"\n",
    "    train = df[df.date < day]\n",
    "    test = df[df.date == day]\n",
    "\n",
    "def country_search(df, country):\n",
    "    return df[df.location==country].index\n",
    "\n",
    "def country_groupby(df):\n",
    "    return [df[df.location==country].index for country in df.location.unique()]\n",
    "\n",
    "\n",
    "def column_search(df, name, return_style='loc', threshold='contains'):\n",
    "    if threshold=='contains':\n",
    "        func = df.columns.str.contains\n",
    "    else:\n",
    "        func = df.columns.str.match\n",
    "        \n",
    "    if return_style == 'loc':\n",
    "        return df.columns[func(name)]\n",
    "    elif return_style== 'iloc':\n",
    "        return np.where(func(name))[0]\n",
    "    else:\n",
    "        return None\n",
    "\n",
    "\n",
    "def rolling_features(df, features, roll_widths):\n",
    "    new_feature_df_list = []\n",
    "    for window in roll_widths:\n",
    "        # order the dataframe so date is index, backfill in the first roll_width values\n",
    "        rollmean = pd.DataFrame(df.set_index('location').loc[:, features].groupby(level=0).rolling(window).mean().fillna(value=0.))\n",
    "#         rollstd = pd.DataFrame(df.set_index('location').loc[:, features].groupby(level=0).rolling(window).std().fillna(value=0.))\n",
    "        new_features = rollmean.reset_index(drop=True)\n",
    "#         new_features = pd.concat((rollmean, rollstd), axis=1)\n",
    "        rolling_mean_names = features + '_rolling_mean_' + str(window)\n",
    "#         rolling_std_names = features +'_rolling_std_' + str(window)\n",
    "        new_cols = rolling_mean_names\n",
    "#         new_cols = rolling_mean_names.append(rolling_std_names)\n",
    "        new_features.columns = new_cols\n",
    "        new_feature_df_list.append(new_features)\n",
    "        new_df = pd.concat(new_feature_df_list,axis=1)\n",
    "        new_df.index = df.index\n",
    "    return new_df\n",
    "\n",
    "\n",
    "def reformat_values(values_to_transform, category='columns',dateformat=None):\n",
    "    \"\"\" Reformat column and index names. \n",
    "    \n",
    "    Parameters :\n",
    "    ----------\n",
    "    df : Pandas DataFrame\n",
    "    columns : bool\n",
    "    index : bool\n",
    "    \n",
    "    Notes :\n",
    "    -----\n",
    "    Change headers of columns; this needs to be updated to account for their formatting changes. \n",
    "    This function converts strings with CamelCase, underscore and space separators to lowercase words uniformly\n",
    "    separated with underscores. I.e. (hopefully!) following the correct python identifier syntax so that each column\n",
    "    can be reference as an attribute if desired. \n",
    "\n",
    "    For more on valid Python identifiers, see:\n",
    "    https://docs.python.org/3/reference/lexical_analysis.html#identifiers\n",
    "    \"\"\"\n",
    "    \n",
    "    \"\"\" Reformat column and index names. only works with with pandas MultiIndex for level=0.\n",
    "    \n",
    "    Parameters :\n",
    "    ----------\n",
    "    df : Pandas DataFrame\n",
    "\n",
    "    Notes :\n",
    "    -----\n",
    "    Different datasets have different naming conventions (for countries that go by multiple names and abbreviations).\n",
    "    This function imposes a convention on a selection of these country names.  \n",
    "    \"\"\"\n",
    "    # these lists are one-to-one. countries compared via manual inspection, unfortunately. \n",
    "    mismatch_labels_bad = ['Lao People\\'s Democratic Republic', 'Mainland China',\n",
    "                           'Occupied Palestinian Territory','Republic of Korea', 'Korea, South', \n",
    "                           'Gambia, The ', 'UK', \n",
    "                           'USA', 'Iran (Islamic Republic of)',\n",
    "                           'Bahamas, The', 'Russian Federation', 'Czech Republic', 'Republic Of Ireland',\n",
    "                          'Hong Kong Sar', 'Macao Sar', 'Uk','Us',\n",
    "                           'Congo ( Kinshasa)','Congo ( Brazzaville)',\n",
    "                           'Cote D\\' Ivoire', 'Viet Nam','Guinea- Bissau','Guinea','Usa']\n",
    "\n",
    "    mismatch_labels_good = ['Laos','China',\n",
    "                            'Palestine', 'South Korea', 'South Korea', \n",
    "                            'The Gambia', 'United Kingdom', \n",
    "                            'United States','Iran',\n",
    "                            'The Bahamas','Russia','Czechia','Ireland',\n",
    "                            'Hong Kong','Macao','United Kingdom', 'United States',\n",
    "                            'Democratic Republic Of The Congo','Republic Of The Congo',\n",
    "                            'Ivory Coast','Vietnam', 'Guinea Bissau','Guinea Bissau','United States']\n",
    "    \n",
    "    # three cases, column names, country names, or datetime. \n",
    "    if category == 'location':\n",
    "        reformatted_values = []\n",
    "        for val in values_to_transform:\n",
    "            reformatted_values.append(' '.join(re.sub(r'([A-Z][a-z]+)', r' \\1', \n",
    "                                                        re.sub(r'([A-Z]+)|_|\\/|\\)|\\(', r' \\1', val).lower())\n",
    "                                                        .split()).title())\n",
    "        transformed_values = pd.Series(reformatted_values).replace(to_replace=mismatch_labels_bad, value=mismatch_labels_good)\n",
    "    \n",
    "    elif category == 'columns':\n",
    "        reformatted_values = []\n",
    "        for val in values_to_transform:\n",
    "            reformatted_values.append('_'.join(re.sub(r'([A-Z][a-z]+)', r' \\1', \n",
    "                                                     re.sub(r'([A-Z]+)|_|\\/|\\)|\\(', r' \\1', val)\n",
    "                                                            .lower()).split()))\n",
    "        transformed_values = pd.Series(reformatted_values)\n",
    "        \n",
    "    elif category == 'date':\n",
    "        transformed_values = pd.to_datetime(pd.Series(\n",
    "            values_to_transform), errors='coerce',format=dateformat).dt.normalize()\n",
    "\n",
    "\n",
    "    return transformed_values\n",
    "\n",
    "\n",
    "def simple_model_forecast(df, drift_features, naive_features, forecast_interval=7):\n",
    "    \"\"\" Simple model forecasting of predictors. \n",
    "    \n",
    "    df : DataFrame\n",
    "        Dataframe which contains training set only, for\n",
    "        every country.\n",
    "    \n",
    "    drift_features : list-like or pd.Index\n",
    "        Features which will be forecasted using a drift model.\n",
    "        \n",
    "    naive_features :\n",
    "        Features which will be forecasted using a naive (constant) model.\n",
    "    \n",
    "    Notes\n",
    "    -----\n",
    "    \"\"\"\n",
    "    start, end = df.date_proxy.min(), df.date_proxy.max()\n",
    "    df_start = df[df.date_proxy == start].set_index('location')\n",
    "    df_end = df[df.date_proxy == end].set_index('location')\n",
    "    span = end - start\n",
    "    \n",
    "    # This computes the secant line for all \"drift features\", for all countries, separately.\n",
    "    drift_slopes = (1.0/span) * (df_end.loc[:, drift_features]\n",
    "                                 - df_start.loc[:, drift_features])\n",
    "\n",
    "    # Given a matrix of drifts, the correct way of using them to extrapolate (i.e. every\n",
    "    # row turns into a number of rows equal to forecast_interval) is to do the following\n",
    "    delta_t = np.arange(1, forecast_interval+1).reshape(-1, 1)\n",
    "    # the result is of course of the form, y = mx + b \n",
    "    drift_forecasts = pd.DataFrame((np.kron(drift_slopes.values, delta_t.reshape(-1, 1)) \n",
    "                       + np.kron(df_end.loc[:, drift_features].values, \n",
    "                                 np.ones(forecast_interval).reshape(-1,1))))\n",
    "    drift_forecasts.columns = drift_features\n",
    "    \n",
    "\n",
    "#     time_indices = (np.kron(np.ones([df_end.shape[0], 2]), delta_t) + \n",
    "#                    np.kron(df_end.loc[:, ['date_proxy','time_index']].values, \n",
    "#                                  np.ones(forecast_interval).reshape(-1,1)))\n",
    "#     time_indices = pd.DataFrame(np.array(time_indices,dtype=int), columns=['date_proxy','time_index'])\n",
    "    # Now for the naive forecasts, we simply need to copy the values of the features\n",
    "    # a number of times equal to forecast_interval. \n",
    "    \n",
    "    naive_df = df_end.loc[:, naive_features]\n",
    "    naive_forecasts = pd.concat(forecast_interval * [naive_df], axis=0).sort_index() \n",
    "    \n",
    "    drift_forecasts.index = naive_forecasts.index\n",
    "#     time_indices.index = naive_forecasts.index\n",
    "#     forecast_df = pd.concat((time_indices, drift_forecasts, naive_forecasts), axis=1)\n",
    "    forecast_df = pd.concat((drift_forecasts, naive_forecasts), axis=1)\n",
    "    \n",
    "    return forecast_df\n",
    "\n",
    "\n",
    "def shift_for_forecasting(data, forecast_interval=1, target_name='new_cases_per_million'):\n",
    "    \n",
    "    country_groupby_indices = country_groupby_indices_list(data)\n",
    "    for i, country_indices in enumerate(country_groupby_indices):\n",
    "        # fundamentally different operation for rate of change\n",
    "#         if target_name == 'new_cases_change_per_million':\n",
    "#             y =  data.loc[country_indices, 'new_cases_per_million'].diff(1).fillna(0)\n",
    "#         else:\n",
    "        y = data.loc[country_indices, target_name]\n",
    "        y.index = country_indices \n",
    "        \n",
    "        if i == 0 :\n",
    "            shifted_y = y.shift(-forecast_interval)\n",
    "        else:\n",
    "            shifted_y = pd.concat((shifted_y, y.shift(-forecast_interval)),axis=0)\n",
    "\n",
    "    return shifted_y\n",
    "\n",
    "# def box"
   ]
  },
  {
   "cell_type": "code",
   "execution_count": 350,
   "metadata": {},
   "outputs": [],
   "source": [
    "# def create_Xy(model_data, target_data, time_index, start_date, frame_size, n_days_into_future, n_countries):\n",
    "#     # can't include the max date because need at least 1 day in future to predict. +1 because of how range doesn't include endpoint\n",
    "#     max_date_in_window = time_index.max() - n_days_into_future\n",
    "#         # Take all model_data with date proxy less than numerical value, leading_window_date_not_included\n",
    "#         frame_data = model_data[(time_index <= max_date_in_window) & \n",
    "#                                 (time_index > max_date_in_window-frame_size)]\n",
    "#         #     print(frame_data.shape)\n",
    "#         # Reshape the array such that each element along axis=0 is a time series of all feature model_data of a specific country.\n",
    "#         reshaped_frame_data = frame_data.values.reshape(n_countries, frame_size, -1)\n",
    "#         #     print(reshaped_frame_data.shape)\n",
    "#         # Truncate / pad the windows along the \"time\" axis, axis=1. (pad_sequences takes in an iterable of iterables;\n",
    "#         # the first axis is always the default iteration axis. \n",
    "#         # *********************** WARNING: pad_sequences converts to integers by default *********************\n",
    "#         resized_frame_data = pad_sequences(reshaped_frame_data, maxlen=frame_size, dtype=np.float64)\n",
    "#         frame_data_4D = resized_frame_data[np.newaxis, :, :, :]\n",
    "#         if max_date_in_window == start_date:\n",
    "#             X = frame_data_4D.copy()\n",
    "#         else:\n",
    "#             X = np.concatenate((X, frame_data_4D),axis=0)\n",
    "#     y = target_data.values.reshape(-1, time_index.nunique())[:, -X.shape[0]:]\n",
    "#     # y = model_data.new_cases_weighted.values.reshape(-1, model_data.time_index.nunique()).transpose()[-X.shape[0]:,:]\n",
    "#     return X, y\n",
    "\n",
    "def split_Xy(X, y, frame_size, n_validation_frames, n_test_frames, date_normalization=True,\n",
    "                          train_test_only=False):\n",
    "    \"\"\" Split into training, validation and test data.\n",
    "    \"\"\"\n",
    "\n",
    "    # Note that the last frame (date_range) that exists in X has already been determined by the choice of the number\n",
    "    # of steps to predict in the future, this is only slicing the frames. \n",
    "    if train_test_only:\n",
    "        X_train= X[:-n_test_frames,:,:,:]\n",
    "        y_train =  y[:-n_test_frames,:]\n",
    "        X_test = X[-n_test_frames:, :, :, :] \n",
    "        y_test = y[-n_test_frames:, :]\n",
    "        splits =  (X_train, y_train, X_test, y_test)\n",
    "    else:\n",
    "        X_train= X[:-(n_validation_frames+n_test_frames),:,:,:]\n",
    "        y_train =  y[:-(n_validation_frames+n_test_frames),:]\n",
    "        X_validate = X[-(n_validation_frames+n_test_frames):-n_test_frames, :, :, :]\n",
    "        y_validate = y[-(n_validation_frames+n_test_frames):-n_test_frames, :]\n",
    "        X_test = X[-n_test_frames:, :, :, :] \n",
    "        y_test = y[-n_test_frames:, :]\n",
    "        splits =  (X_train, y_train, X_validate, y_validate,\n",
    "                   X_test, y_test)\n",
    "                   \n",
    "    return splits\n",
    "\n",
    "\n",
    "def minmax(X, X_min, X_max):\n",
    "    # X_min and X_max need to have already been made into 4-d tensors with np.newaxis\n",
    "    tile_shape = np.array(np.array(X.shape) / np.array(X_min.shape), dtype=int)\n",
    "    denominator = np.tile(X_max, tile_shape) - np.tile(X_min, tile_shape)\n",
    "    denominator[denominator==0] = 1\n",
    "    X_scaled = (X - np.tile(X_min, tile_shape)) / denominator\n",
    "    return X_scaled\n",
    "\n",
    "def normal(X, X_mean, X_std):\n",
    "    tile_shape = np.array(np.array(X.shape) / np.array(X_mean.shape), dtype=int)\n",
    "    mean_ = np.tile(X_mean, tile_shape)\n",
    "    std_ =  np.tile(X_std, tile_shape)   \n",
    "    std_[np.where(std_==0.)] = 1\n",
    "    X_scaled = ((X - mean_) /  std_)\n",
    "    return X_scaled\n",
    "\n",
    "def normalize_Xy_splits(splits, normalization_method='minmax', train_test_only=False, feature_indices=None):\n",
    "    \"\"\" Split into training, validation and test data.\n",
    "    \"\"\"\n",
    "    min_, max_ = (0, 1)\n",
    "    # Note that the last frame (date_range) that exists in X has already been determined by the choice of the number\n",
    "    # of steps to predict in the future, this is only slicing the frames. \n",
    "    if train_test_only:\n",
    "        (X_train, y_train, X_test, y_test) = splits\n",
    "    else:\n",
    "        (X_train, y_train, X_validate, y_validate, X_test, y_test) = splits\n",
    "\n",
    "    if normalization_method=='minmax':\n",
    "        # To encapsulate the time-dependent nature of the problem and ignore the dramatic difference between current\n",
    "        # and initial behavior, only rescale the validation and testing frames by the most recent frame's values.\n",
    "        # There is only a single value per feature in this case, meaning that to rescale, the values need to\n",
    "        # be repeated for each validation, test frame for each country for each timestep.\n",
    "        X_min = X_train.min(axis=(2))\n",
    "        X_max = X_train.max(axis=(2))\n",
    "\n",
    "\n",
    "        X_train_scaled = minmax(X_train, X_min[:, :, np.newaxis, :],\n",
    "                        X_max[:, :, np.newaxis, :])\n",
    "        X_test_scaled = minmax(X_test, X_min[-1][np.newaxis, :, np.newaxis, :], \n",
    "                               X_max[-1][np.newaxis, :, np.newaxis, :])\n",
    "        if train_test_only:\n",
    "        # Normalize the training data by each frame's specific mean and std deviation. \n",
    "            splits = (X_train_scaled, y_train, X_test_scaled, y_test)\n",
    "        else:\n",
    "            X_validate_scaled = minmax(X_validate, X_min[-1,:][np.newaxis, :, np.newaxis, :], \n",
    "                                       X_max[-1,:][np.newaxis, :, np.newaxis, :])\n",
    "            splits = (X_train_scaled, y_train, X_validate_scaled, y_validate, X_test_scaled, y_test)\n",
    "    else:\n",
    "        \n",
    "        X_mean = X_train.mean(axis=(1,2))\n",
    "        X_std = X_train.std(axis=(1,2))\n",
    "\n",
    "        # To avoid division by zero. This is a big assumption but this typically occurs when the frame's feature\n",
    "        # value is identically zero, which would result in x-x_mean / x_std = 0 / 1 = 0. So it doesn't matter what \n",
    "        # the x_std value is changed to as they are always divided into 0.\n",
    "        #     X_std[np.where(X_std==0.)] = 1\n",
    "\n",
    "        #     # First two features are time_index and time_index (days_since_first_case)\n",
    "        #         if date_normalization==False:\n",
    "        #             X_mean[:,:2] = 0\n",
    "        #             X_std[:, :2] = 1\n",
    "        X_train_scaled = normal(X_train, \n",
    "                                X_mean[:, np.newaxis, np.newaxis, :],\n",
    "                                X_std[:, np.newaxis, np.newaxis, :])\n",
    "        X_test_scaled = normal(X_test, \n",
    "                               X_mean[-1,:][np.newaxis, np.newaxis, np.newaxis, :], \n",
    "                               X_std[-1,:][np.newaxis, np.newaxis, np.newaxis, :])\n",
    "        \n",
    "        if train_test_only:\n",
    "        # Normalize the training data by each frame's specific mean and std deviation. \n",
    "            splits = (X_train_scaled, y_train, X_test_scaled, y_test)\n",
    "        else:\n",
    "            X_validate_scaled = normal(X_test, \n",
    "                               X_mean[-1,:][np.newaxis, np.newaxis, np.newaxis, :], \n",
    "                               X_std[-1,:][np.newaxis, np.newaxis, np.newaxis, :])\n",
    "            splits = (X_train_scaled, y_train, X_validate_scaled, y_validate, X_test_scaled, y_test)\n",
    "\n",
    "    return splits\n",
    "\n",
    "def concatenate_4d_into_3d(splits, train_test_only=False):\n",
    "    \n",
    "    if train_test_only:\n",
    "        (X_train, y_train, X_test, y_test) = splits\n",
    "        X_train = np.concatenate(X_train, axis=0)\n",
    "        y_train = np.concatenate(y_train, axis=0)\n",
    "        X_test = np.concatenate(X_test, axis=0)\n",
    "        y_test = np.concatenate(y_test, axis=0)\n",
    "        concat_splits = (X_train, y_train, X_test, y_test) \n",
    "    else:\n",
    "        (X_train, y_train, X_validate, y_validate, X_test, y_test) = splits\n",
    "        X_train = np.concatenate(X_train, axis=0)\n",
    "        y_train = np.concatenate(y_train, axis=0)\n",
    "        X_validate = np.concatenate(X_validate, axis=0)\n",
    "        y_validate = np.concatenate(y_validate, axis=0)\n",
    "        X_test = np.concatenate(X_test, axis=0)\n",
    "        y_test = np.concatenate(y_test, axis=0)\n",
    "        concat_splits = (X_train, y_train, X_validate, y_validate, X_test, y_test) \n",
    "    return concat_splits\n",
    "\n",
    "def transpose_for_separable2d(splits, train_test_only=False):\n",
    "    if train_test_only:\n",
    "        (X_train, y_train, X_test, y_test) = splits\n",
    "        X_train = np.transpose(X_train, axes=[0,2,1,3])\n",
    "        X_test = np.transpose(X_test, axes=[0,2,1,3])\n",
    "        transpose_split = (X_train, y_train, X_test, y_test) \n",
    "    else:\n",
    "        (X_train, y_train, X_validate, y_validate, X_test, y_test) = splits\n",
    "        X_train = np.transpose(X_train, axes=[0,2,1,3])\n",
    "        X_validate = np.transpose(X_validate, axes=[0,2,1,3])\n",
    "        X_test = np.transpose(X_test, axes=[0,2,1,3])\n",
    "        transpose_split = (X_train, y_train, X_validate, y_validate, X_test, y_test) \n",
    "    return transpose_split\n",
    "\n",
    "def true_predict_plot(y_test, y_naive, y_predict, title=''):\n",
    "    fig, (ax1,ax2) = plt.subplots(1, 2, figsize=(20,5))\n",
    "    ymax = np.max([np.log(1+y_test).max(), np.log(1+y_predict).max()])\n",
    "    ax1.scatter(np.log(y_test+1), np.log(y_naive+1), s=5)\n",
    "    ax1.plot([0, ymax], [0, ymax],color='r')\n",
    "\n",
    "    ax2.scatter(np.log(y_test+1), np.log(y_predict+1), s=5)\n",
    "    ax2.plot([0, ymax], [0, ymax],color='r')\n",
    "\n",
    "    ax1.set_xlabel('True value')\n",
    "    ax1.set_ylabel('Predicted value')\n",
    "    ax1.set_title('Naive model')\n",
    "\n",
    "    ax2.set_xlabel('True value')\n",
    "    ax2.set_ylabel('Predicted value')\n",
    "    ax2.set_title('CNN model')\n",
    "    ax1.grid(True)\n",
    "    ax2.grid(True)\n",
    "    plt.show()\n",
    "    return None\n",
    "\n",
    "def residual_plot(y_test,y_predict,title='', ax=None):\n",
    "    if ax is None:\n",
    "        fig, ax = plt.subplots()\n",
    "    ax.scatter(y_test, y_test-y_predict.ravel(), s=5)\n",
    "    ax.set_ylabel('Residual')\n",
    "    ax.set_xlabel('True value')\n",
    "    ax.grid(True)\n",
    "#     plt.show()\n",
    "    return None\n",
    "\n",
    "def residual_diff_plots(y_true, y_naive, y_predict,n_days_into_future, n_countries):\n",
    "    print(y_true.shape, y_naive.shape, y_predict.shape)\n",
    "    fig, axes = plt.subplots(2, 2, figsize=(20,5), sharey=True)\n",
    "    (ax1,ax2,ax3,ax4) = axes.flatten()\n",
    "    xrange = range(n_countries)\n",
    "    ax1.plot(xrange, np.log(y_true+1)\n",
    "             -np.log(y_naive+1))\n",
    "    ax2.plot(xrange, np.log(y_true+1)\n",
    "             -np.log(y_predict+1))\n",
    "    fig.suptitle('{}-day-into-future predictions'.format(n_days_into_future))\n",
    "    ax1.set_title('Country-wise differences')\n",
    "    ax2.set_title('Country-wise differences')\n",
    "    ax1.set_ylabel('log(|True - Naive|)')\n",
    "    ax2.set_ylabel('log(|True - CNN|)')\n",
    "    ax1.grid(True)\n",
    "    ax2.grid(True)\n",
    "    residual_plot(np.log(y_true+1),np.log(y_naive+1), ax=ax3)\n",
    "    residual_plot(np.log(y_true+1),np.log(y_predict+1), ax=ax4)\n",
    "    plt.show()\n"
   ]
  },
  {
   "cell_type": "code",
   "execution_count": 16,
   "metadata": {},
   "outputs": [],
   "source": []
  },
  {
   "cell_type": "markdown",
   "metadata": {},
   "source": [
    "## Data\n",
    "\n",
    "Data has the following partitions (list in order of partition as realized in data used in modelling):\n",
    "\n",
    "    1. Continuous time dependent data\n",
    "    2. Rolling averages of continuous time dependent data\n",
    "    3. Continuous time independent data\n",
    "    4. One-hot encoded data: location (country), flags for government responses, test units. \n",
    "    5. Time indexing variables (date, time-index (days since first case))\n",
    "        \n",
    "    Continuous time dependent data with drift as baseline model, Rolling averages computed afterwards\n",
    "    Time series variables with naive as baseline model : The complement to the drift baseline variables. \n"
   ]
  },
  {
   "cell_type": "markdown",
   "metadata": {},
   "source": [
    "\n",
    "![title](data_split.jpg)"
   ]
  },
  {
   "cell_type": "markdown",
   "metadata": {},
   "source": [
    "## Feature production <a id='newfeatures'></a>"
   ]
  },
  {
   "cell_type": "code",
   "execution_count": 483,
   "metadata": {},
   "outputs": [],
   "source": [
    "data = pd.read_csv('regression_data.csv', index_col=0)"
   ]
  },
  {
   "cell_type": "markdown",
   "metadata": {},
   "source": [
    "### n cases"
   ]
  },
  {
   "cell_type": "code",
   "execution_count": 484,
   "metadata": {
    "scrolled": false
   },
   "outputs": [
    {
     "data": {
      "text/html": [
       "<div>\n",
       "<style scoped>\n",
       "    .dataframe tbody tr th:only-of-type {\n",
       "        vertical-align: middle;\n",
       "    }\n",
       "\n",
       "    .dataframe tbody tr th {\n",
       "        vertical-align: top;\n",
       "    }\n",
       "\n",
       "    .dataframe thead th {\n",
       "        text-align: right;\n",
       "    }\n",
       "</style>\n",
       "<table border=\"1\" class=\"dataframe\">\n",
       "  <thead>\n",
       "    <tr style=\"text-align: right;\">\n",
       "      <th></th>\n",
       "      <th>location</th>\n",
       "      <th>date</th>\n",
       "      <th>time_index</th>\n",
       "      <th>days_since_first_case</th>\n",
       "      <th>new_cases_weighted</th>\n",
       "      <th>new_tests_weighted</th>\n",
       "      <th>new_recovered_weighted</th>\n",
       "      <th>new_deaths_weighted</th>\n",
       "      <th>new_cases_weighted_rolling_mean_7</th>\n",
       "      <th>new_tests_weighted_rolling_mean_7</th>\n",
       "      <th>...</th>\n",
       "      <th>new_recovered_weighted_rolling_mean_14</th>\n",
       "      <th>new_deaths_weighted_rolling_mean_14</th>\n",
       "      <th>new_cases_weighted_rolling_mean_21</th>\n",
       "      <th>new_tests_weighted_rolling_mean_21</th>\n",
       "      <th>new_recovered_weighted_rolling_mean_21</th>\n",
       "      <th>new_deaths_weighted_rolling_mean_21</th>\n",
       "      <th>new_cases_weighted_rolling_mean_28</th>\n",
       "      <th>new_tests_weighted_rolling_mean_28</th>\n",
       "      <th>new_recovered_weighted_rolling_mean_28</th>\n",
       "      <th>new_deaths_weighted_rolling_mean_28</th>\n",
       "    </tr>\n",
       "  </thead>\n",
       "  <tbody>\n",
       "    <tr>\n",
       "      <th>10378</th>\n",
       "      <td>Kosovo</td>\n",
       "      <td>2020-04-13</td>\n",
       "      <td>82</td>\n",
       "      <td>18</td>\n",
       "      <td>40.873894</td>\n",
       "      <td>0.000000</td>\n",
       "      <td>3.104346</td>\n",
       "      <td>1.034782</td>\n",
       "      <td>19.291295</td>\n",
       "      <td>0.000000</td>\n",
       "      <td>...</td>\n",
       "      <td>3.326085</td>\n",
       "      <td>0.776087</td>\n",
       "      <td>9.263764</td>\n",
       "      <td>0.000000</td>\n",
       "      <td>2.315941</td>\n",
       "      <td>0.689855</td>\n",
       "      <td>7.890214</td>\n",
       "      <td>0.000000</td>\n",
       "      <td>1.736956</td>\n",
       "      <td>0.535869</td>\n",
       "    </tr>\n",
       "    <tr>\n",
       "      <th>13780</th>\n",
       "      <td>Pakistan</td>\n",
       "      <td>2020-03-14</td>\n",
       "      <td>52</td>\n",
       "      <td>18</td>\n",
       "      <td>0.004527</td>\n",
       "      <td>0.339532</td>\n",
       "      <td>0.004527</td>\n",
       "      <td>0.000000</td>\n",
       "      <td>0.018108</td>\n",
       "      <td>0.137753</td>\n",
       "      <td>...</td>\n",
       "      <td>0.002587</td>\n",
       "      <td>0.000000</td>\n",
       "      <td>0.009485</td>\n",
       "      <td>0.045918</td>\n",
       "      <td>0.001725</td>\n",
       "      <td>0.000000</td>\n",
       "      <td>0.007114</td>\n",
       "      <td>0.034438</td>\n",
       "      <td>0.001293</td>\n",
       "      <td>0.000000</td>\n",
       "    </tr>\n",
       "    <tr>\n",
       "      <th>4147</th>\n",
       "      <td>Chile</td>\n",
       "      <td>2020-01-22</td>\n",
       "      <td>0</td>\n",
       "      <td>0</td>\n",
       "      <td>0.000000</td>\n",
       "      <td>0.000000</td>\n",
       "      <td>0.000000</td>\n",
       "      <td>0.000000</td>\n",
       "      <td>0.000000</td>\n",
       "      <td>0.000000</td>\n",
       "      <td>...</td>\n",
       "      <td>0.000000</td>\n",
       "      <td>0.000000</td>\n",
       "      <td>0.000000</td>\n",
       "      <td>0.000000</td>\n",
       "      <td>0.000000</td>\n",
       "      <td>0.000000</td>\n",
       "      <td>0.000000</td>\n",
       "      <td>0.000000</td>\n",
       "      <td>0.000000</td>\n",
       "      <td>0.000000</td>\n",
       "    </tr>\n",
       "    <tr>\n",
       "      <th>6996</th>\n",
       "      <td>Finland</td>\n",
       "      <td>2020-06-02</td>\n",
       "      <td>132</td>\n",
       "      <td>125</td>\n",
       "      <td>4.692533</td>\n",
       "      <td>688.177958</td>\n",
       "      <td>72.192810</td>\n",
       "      <td>0.721928</td>\n",
       "      <td>7.373980</td>\n",
       "      <td>442.696622</td>\n",
       "      <td>...</td>\n",
       "      <td>79.927754</td>\n",
       "      <td>0.373856</td>\n",
       "      <td>7.743538</td>\n",
       "      <td>519.427266</td>\n",
       "      <td>88.522136</td>\n",
       "      <td>0.498474</td>\n",
       "      <td>10.042535</td>\n",
       "      <td>527.297571</td>\n",
       "      <td>87.662697</td>\n",
       "      <td>0.573675</td>\n",
       "    </tr>\n",
       "    <tr>\n",
       "      <th>12946</th>\n",
       "      <td>Netherlands</td>\n",
       "      <td>2020-04-07</td>\n",
       "      <td>76</td>\n",
       "      <td>40</td>\n",
       "      <td>55.559210</td>\n",
       "      <td>0.000000</td>\n",
       "      <td>0.583605</td>\n",
       "      <td>5.894412</td>\n",
       "      <td>58.802387</td>\n",
       "      <td>0.000000</td>\n",
       "      <td>...</td>\n",
       "      <td>0.208430</td>\n",
       "      <td>6.894878</td>\n",
       "      <td>48.328064</td>\n",
       "      <td>0.000000</td>\n",
       "      <td>0.141733</td>\n",
       "      <td>5.121830</td>\n",
       "      <td>38.522108</td>\n",
       "      <td>0.000000</td>\n",
       "      <td>0.106300</td>\n",
       "      <td>3.889311</td>\n",
       "    </tr>\n",
       "  </tbody>\n",
       "</table>\n",
       "<p>5 rows × 24 columns</p>\n",
       "</div>"
      ],
      "text/plain": [
       "          location        date  time_index  days_since_first_case  \\\n",
       "10378       Kosovo  2020-04-13          82                     18   \n",
       "13780     Pakistan  2020-03-14          52                     18   \n",
       "4147         Chile  2020-01-22           0                      0   \n",
       "6996       Finland  2020-06-02         132                    125   \n",
       "12946  Netherlands  2020-04-07          76                     40   \n",
       "\n",
       "       new_cases_weighted  new_tests_weighted  new_recovered_weighted  \\\n",
       "10378           40.873894            0.000000                3.104346   \n",
       "13780            0.004527            0.339532                0.004527   \n",
       "4147             0.000000            0.000000                0.000000   \n",
       "6996             4.692533          688.177958               72.192810   \n",
       "12946           55.559210            0.000000                0.583605   \n",
       "\n",
       "       new_deaths_weighted  new_cases_weighted_rolling_mean_7  \\\n",
       "10378             1.034782                          19.291295   \n",
       "13780             0.000000                           0.018108   \n",
       "4147              0.000000                           0.000000   \n",
       "6996              0.721928                           7.373980   \n",
       "12946             5.894412                          58.802387   \n",
       "\n",
       "       new_tests_weighted_rolling_mean_7  ...  \\\n",
       "10378                           0.000000  ...   \n",
       "13780                           0.137753  ...   \n",
       "4147                            0.000000  ...   \n",
       "6996                          442.696622  ...   \n",
       "12946                           0.000000  ...   \n",
       "\n",
       "       new_recovered_weighted_rolling_mean_14  \\\n",
       "10378                                3.326085   \n",
       "13780                                0.002587   \n",
       "4147                                 0.000000   \n",
       "6996                                79.927754   \n",
       "12946                                0.208430   \n",
       "\n",
       "       new_deaths_weighted_rolling_mean_14  \\\n",
       "10378                             0.776087   \n",
       "13780                             0.000000   \n",
       "4147                              0.000000   \n",
       "6996                              0.373856   \n",
       "12946                             6.894878   \n",
       "\n",
       "       new_cases_weighted_rolling_mean_21  new_tests_weighted_rolling_mean_21  \\\n",
       "10378                            9.263764                            0.000000   \n",
       "13780                            0.009485                            0.045918   \n",
       "4147                             0.000000                            0.000000   \n",
       "6996                             7.743538                          519.427266   \n",
       "12946                           48.328064                            0.000000   \n",
       "\n",
       "       new_recovered_weighted_rolling_mean_21  \\\n",
       "10378                                2.315941   \n",
       "13780                                0.001725   \n",
       "4147                                 0.000000   \n",
       "6996                                88.522136   \n",
       "12946                                0.141733   \n",
       "\n",
       "       new_deaths_weighted_rolling_mean_21  \\\n",
       "10378                             0.689855   \n",
       "13780                             0.000000   \n",
       "4147                              0.000000   \n",
       "6996                              0.498474   \n",
       "12946                             5.121830   \n",
       "\n",
       "       new_cases_weighted_rolling_mean_28  new_tests_weighted_rolling_mean_28  \\\n",
       "10378                            7.890214                            0.000000   \n",
       "13780                            0.007114                            0.034438   \n",
       "4147                             0.000000                            0.000000   \n",
       "6996                            10.042535                          527.297571   \n",
       "12946                           38.522108                            0.000000   \n",
       "\n",
       "       new_recovered_weighted_rolling_mean_28  \\\n",
       "10378                                1.736956   \n",
       "13780                                0.001293   \n",
       "4147                                 0.000000   \n",
       "6996                                87.662697   \n",
       "12946                                0.106300   \n",
       "\n",
       "       new_deaths_weighted_rolling_mean_28  \n",
       "10378                             0.535869  \n",
       "13780                             0.000000  \n",
       "4147                              0.000000  \n",
       "6996                              0.573675  \n",
       "12946                             3.889311  \n",
       "\n",
       "[5 rows x 24 columns]"
      ]
     },
     "execution_count": 484,
     "metadata": {},
     "output_type": "execute_result"
    }
   ],
   "source": [
    "data.sample(5)"
   ]
  },
  {
   "cell_type": "code",
   "execution_count": 485,
   "metadata": {},
   "outputs": [],
   "source": [
    "n_cases_time_series = data.loc[:, ['location','date','new_cases_weighted']].set_index(['location', 'date']).unstack()\n",
    "n_cases_time_series.columns = np.array(list(range(len(n_cases_time_series.columns))))\n",
    "n_cases_time_series = n_cases_time_series.loc[:, 8:]\n",
    "n_cases_prediction_series = n_cases_time_series.copy()\n",
    "\n",
    "baseline_time_series = data.loc[:, ['location','date','new_cases_weighted']].set_index(['location', 'date']).unstack()\n",
    "baseline_time_series.columns = np.array(list(range(len(baseline_time_series.columns))))\n",
    "baseline_time_series = baseline_time_series.shift(7, axis=1).loc[:,8:]\n",
    "# baseline_time_series = baseline_time_series.dropna(axis=1)\n"
   ]
  },
  {
   "cell_type": "markdown",
   "metadata": {},
   "source": [
    "I want to predict one week into the future, specifically using 7 models which each predict 1,2,3,4,5,6,7 days into the future respectively. To create models which predict n-days into the future, the data should be split into the following manner. \n",
    "\n",
    "Care needs to be taken not to use information from the future. The data needs to be split like so\n",
    "\n",
    "... Train | Prediction (Test) Day |  7 future days. Use 7 day prediction as an example because its the \"worst case\".\n",
    "For 7 day prediction, split the data such that the most recent week is the \"future\", the second most recent week is the \n",
    "\n",
    "What I was previously doing was predicting the same day by going 1,2,3,4,5,6,7 days into the past, not the future.\n",
    "\n",
    "I need to define the week span when I am predicting (i.e. a week past the \"test\")\n",
    "\n",
    "Let days be indexed by $t$, $t=1$ to $t=T$. The key is to define what the \"present\" day is. If the present day is\n",
    "$n$, then the training set can include data only up to $t \\leq n - 8$, and the testing set will be $t = n - 7$. otherwise we would be using target variable data from the future. This means that the predictor data for $n-7 < t < n$ goes unused in the training process, and the predictors for $n < t < T - 7$ go completely unused, as they have no 7 day future recorded to predict.\n",
    "\n",
    "For now, simply predict $t=T$ using data up until $t = T-7$, later, create an entire time series of predictions.\n",
    "\n",
    "More generally, for a forecast interval (shift) $s$, the split should be train $t < T - 2 * s$, test $t < T - s$ (after shifting the target variable by $s$ days.) ?\n",
    "\n",
    "This again has the last prediction being the same day. Therefore, do not do this, select instead the day one week before the end, then train the 7 different models on it. I.e. train is $t <= n - s$ (this reduces the size of the test set as $s$ increases, but this means we're training with all available data....\n",
    "\n",
    "\n",
    "I feel like Mike meant is set $t=n$, then predict $n+1$ with 1-day, $n+2$ with two day, etc. so effectively I'm shifting back the \"present\". otherwise the predictions would all correspond to the same day but just made in the past. \n",
    "\n",
    "\n",
    "ALWAYS use $t=n$ to predict $s$ days into the future. \n",
    "\n",
    "The training set being $t < T - 2s$...does this mean I should use $ T - 2s <= t <= T-s$ for testing? I think so. I think the whole point is that I might as well use those to test to utilize all data. As long as I'm not training with data from the future I'm ok. So the 7-day predictive model has 7 test days, while the 1-day only has 1?\n",
    "\n",
    "I'm using the one-day model to predict $t=n+1$ from $t=n$. Therefore I shouldn't test the 7-day model with the data from $t = n-6$, as this would also predict $t=n+1$?\n",
    "\n",
    "Do it this way for now: for every model, use $t=n$ to predict a single day in the next week."
   ]
  },
  {
   "cell_type": "markdown",
   "metadata": {},
   "source": [
    "To train and test the predictions of the 14 day moving average, the final \"test\" day has to be 14 days in the past. To think about what data we can train on then look to the actual 14 day moving average. The 14 day moving average of the last day in the time series contains information on the previous 14 days. therefore, the training set cannot \"know\" about these days and still be a valid training without contamination. Therefore, the training data cannot use any of the moving averages that occur on or after the day of prediction. This means that the day of prediction is 14 days behind the present, and the training set is 14 days behind the date of prediction, i.e. it uses the moving averages up until the day of prediction, but shifted into the past by 14 days. \n",
    "\n",
    "Now, it gets weird when trying to predict the 14 day moving average a number a days ahead less than 14. \n",
    "\n",
    "think about predicting the 14 day moving average 1 day ahead.\n",
    "\n",
    "xxxxxxxxxxxxxxxx|yyyyyyyyyyyyyy|z\n",
    "\n",
    "want to predict z. contains information yyyyyyyyyyyyz. so training set can't contain anything past xxxxxxxxxxxxxxxxx|y. \n",
    "\n"
   ]
  },
  {
   "cell_type": "markdown",
   "metadata": {},
   "source": [
    "I think I'm safe as long as the training data does not include any days included in the 14 day rolling average of the day that I am trying to predict."
   ]
  },
  {
   "cell_type": "code",
   "execution_count": 486,
   "metadata": {},
   "outputs": [],
   "source": [
    "def n_day_forecasting(data, n_test_days, n_days_into_future, col_transformer=StandardScaler(), train_or_test='train'):\n",
    "    n_countries = data.location.nunique()\n",
    "    chronological_data = data.sort_values(by=['time_index','location'])\n",
    "    X = chronological_data[(chronological_data.time_index <=  chronological_data.time_index.max() - n_days_into_future)].reset_index(drop=True)\n",
    "    y = chronological_data[(chronological_data.time_index  >= n_days_into_future)].new_cases_weighted.reset_index(drop=True)\n",
    "\n",
    "    # X has already been shifted by n_days_into future, so the last day in X is predicting that last day + n_days_into_future. \n",
    "    y_naive = X.new_cases_weighted[X.time_index > X.time_index.max() - n_days_into_future]\n",
    "\n",
    "    train_indices = np.where(X.time_index <= X.time_index.max() - n_days_into_future)[0]\n",
    "    test_indices = np.where(X.time_index > X.time_index.max() - n_days_into_future)[0]\n",
    "\n",
    "    # 2 slices date, location, 4 slices date,location,time_index, days_since_first_case\n",
    "    X_train = X.iloc[train_indices, 4:]#.apply(lambda x : np.log(x+1))\n",
    "    y_train = y.loc[train_indices]\n",
    "\n",
    "    X_test = X.iloc[test_indices, 4:]#.apply(lambda x : np.log(x+1))\n",
    "    y_test =  y.loc[test_indices]\n",
    "\n",
    "    _ = col_transformer.fit(X_train)\n",
    "    X_train_normalized =  col_transformer.transform(X_train)\n",
    "    X_test_normalized =  col_transformer.transform(X_test)\n",
    "    \n",
    "#     pca = PCA(n_components=5)\n",
    "#     _ = pca.fit(X_train_normalized)\n",
    "#     X_train_normalized = pca.transform(X_train_normalized)\n",
    "#     X_test_normalized = pca.transform(X_test_normalized)\n",
    "    \n",
    "    n_step_models = []\n",
    "\n",
    "    model = Ridge(alpha=0.01, fit_intercept=False, tol=1e-12) \n",
    "    _ = model.fit(X_train_normalized, y_train)\n",
    "    if train_or_test == 'train':\n",
    "        y_true, y_predict, mae = classifier_analysis(model, X_train_normalized, y_train, plot=False, metric='mae')\n",
    "    else:\n",
    "        y_true, y_predict, mae = classifier_analysis(model, X_test_normalized, y_test, plot=False, metric='mae')\n",
    "\n",
    "        \n",
    "    return  (X_train_normalized, X_test_normalized), (y_true, y_naive, y_predict), model "
   ]
  },
  {
   "cell_type": "markdown",
   "metadata": {},
   "source": [
    "Resetting the index makes it so X's index can be used to slice y. I.e. its the operation which \"realigns\" the data."
   ]
  },
  {
   "cell_type": "code",
   "execution_count": 487,
   "metadata": {},
   "outputs": [
    {
     "data": {
      "text/plain": [
       "Index(['location', 'date', 'time_index', 'days_since_first_case',\n",
       "       'new_cases_weighted', 'new_tests_weighted', 'new_recovered_weighted',\n",
       "       'new_deaths_weighted', 'new_cases_weighted_rolling_mean_7',\n",
       "       'new_tests_weighted_rolling_mean_7',\n",
       "       'new_recovered_weighted_rolling_mean_7',\n",
       "       'new_deaths_weighted_rolling_mean_7',\n",
       "       'new_cases_weighted_rolling_mean_14',\n",
       "       'new_tests_weighted_rolling_mean_14',\n",
       "       'new_recovered_weighted_rolling_mean_14',\n",
       "       'new_deaths_weighted_rolling_mean_14',\n",
       "       'new_cases_weighted_rolling_mean_21',\n",
       "       'new_tests_weighted_rolling_mean_21',\n",
       "       'new_recovered_weighted_rolling_mean_21',\n",
       "       'new_deaths_weighted_rolling_mean_21',\n",
       "       'new_cases_weighted_rolling_mean_28',\n",
       "       'new_tests_weighted_rolling_mean_28',\n",
       "       'new_recovered_weighted_rolling_mean_28',\n",
       "       'new_deaths_weighted_rolling_mean_28'],\n",
       "      dtype='object')"
      ]
     },
     "execution_count": 487,
     "metadata": {},
     "output_type": "execute_result"
    }
   ],
   "source": [
    "model_data = data.drop(columns=data.columns[data.columns.str.contains('flag')])\n",
    "model_data.columns"
   ]
  },
  {
   "cell_type": "code",
   "execution_count": 492,
   "metadata": {},
   "outputs": [],
   "source": [
    "# n_test_days = 1\n",
    "# n_days_into_future = 1\n",
    "# model_data = data.drop(columns=data.columns[data.columns.str.contains('flag')])\n",
    "# Xs, ys, model =  n_day_forecasting(model_data, n_test_days, n_days_into_future, col_transformer=MinMaxScaler())\n",
    "\n",
    "# y_test, y_naive, y_predict = ys\n",
    "# y_predict[y_predict<0]=0\n",
    "# mae_naive = mean_absolute_error(y_test, y_naive)\n",
    "# mae_predict = mean_absolute_error(y_test, y_predict)\n",
    "# r2_naive = explained_variance_score(y_test, y_naive)\n",
    "# r2_predict = explained_variance_score(y_test, y_predict)\n",
    "\n",
    "# print('{}-step MAE [Naive, Ridge Regression] = [{},{}]'.format(\n",
    "# n_days_into_future, mae_naive, mae_predict))\n",
    "# print('{}-step R^2 [Naive, Ridge Regression] = [{},{}]'.format(\n",
    "# n_days_into_future, r2_naive, r2_predict))\n",
    "\n",
    "# true_predict_plot(y_test, y_naive, y_predict, title='')\n",
    "# residual_diff_plots(y_test, y_naive, y_predict, n_days_into_future, data.location.nunique())"
   ]
  },
  {
   "cell_type": "markdown",
   "metadata": {},
   "source": [
    "# without flag variables\n"
   ]
  },
  {
   "cell_type": "code",
   "execution_count": 463,
   "metadata": {},
   "outputs": [],
   "source": [
    "n_countries = data.location.nunique()\n",
    "chronological_data = model_data.sort_values(by=['time_index','location'])\n",
    "X = chronological_data[(chronological_data.time_index <=  chronological_data.time_index.max() - n_days_into_future)].reset_index(drop=True)\n",
    "y = chronological_data[(chronological_data.time_index  >= n_days_into_future)].new_cases_weighted.reset_index(drop=True)\n",
    "\n",
    "# X has already been shifted by n_days_into future, so the last day in X is predicting that last day + n_days_into_future. \n",
    "y_naive = X.new_cases_weighted[X.time_index > X.time_index.max() - n_days_into_future]\n",
    "\n",
    "train_indices = np.where(X.time_index <= X.time_index.max() - n_days_into_future)[0]\n",
    "test_indices = np.where(X.time_index > X.time_index.max() - n_days_into_future)[0]\n",
    "\n",
    "X_train = X.iloc[train_indices, 2:]#.apply(lambda x : np.log(x+1))\n",
    "y_train = y.loc[train_indices]\n",
    "\n",
    "X_test = X.iloc[test_indices, 2:]#.apply(lambda x : np.log(x+1))\n",
    "y_test =  y.loc[test_indices]\n"
   ]
  },
  {
   "cell_type": "code",
   "execution_count": 494,
   "metadata": {},
   "outputs": [],
   "source": [
    "n_countries = data.location.nunique()\n",
    "model_data = data.iloc[:,:8]\n",
    "chronological_data = model_data.sort_values(by=['time_index','location'])\n",
    "X = chronological_data[(chronological_data.time_index <=  chronological_data.time_index.max() - n_days_into_future)].reset_index(drop=True)\n",
    "y = chronological_data[(chronological_data.time_index  >= n_days_into_future)].new_cases_weighted.reset_index(drop=True)\n",
    "\n",
    "# X has already been shifted by n_days_into future, so the last day in X is predicting that last day + n_days_into_future. \n",
    "y_naive = X.new_cases_weighted[X.time_index > X.time_index.max() - n_days_into_future]\n",
    "y_naive = X_train.new_cases_weighted\n",
    "\n",
    "train_indices = np.where(X.time_index <= X.time_index.max() - n_days_into_future)[0]\n",
    "test_indices = np.where(X.time_index > X.time_index.max() - n_days_into_future)[0]\n",
    "\n",
    "# 2 slices date, location, 4 slices date,location,time_index, days_since_first_case\n",
    "X_train = X.iloc[train_indices, 2:]#.apply(lambda x : np.log(x+1))\n",
    "y_train = y.loc[train_indices]\n",
    "\n",
    "X_test = X.iloc[test_indices, 2:]#.apply(lambda x : np.log(x+1))\n",
    "y_test =  y.loc[test_indices]\n",
    "\n",
    "col_transformer = MinMaxScaler()\n",
    "_ = col_transformer.fit(X_train)\n",
    "X_train_normalized =  col_transformer.transform(X_train)\n",
    "X_test_normalized =  col_transformer.transform(X_test)\n",
    "\n",
    "#     pca = PCA(n_components=5)\n",
    "#     _ = pca.fit(X_train_normalized)\n",
    "#     X_train_normalized = pca.transform(X_train_normalized)\n",
    "#     X_test_normalized = pca.transform(X_test_normalized)\n",
    "\n",
    "n_step_models = []\n",
    "\n",
    "# model = ElasticNet(positive=True, fit_intercept=False, l1_ratio=1, tol=1e-12) \n",
    "model = Ridge(alpha=0.01, fit_intercept=False, tol=1e-12) \n",
    "\n",
    "_ = model.fit(X_train_normalized, y_train)\n",
    "y_true, y_predict, mae = classifier_analysis(model, X_train_normalized, y_train, plot=False, metric='mae')\n",
    "y_predict[y_predict<0]=0"
   ]
  },
  {
   "cell_type": "code",
   "execution_count": 476,
   "metadata": {},
   "outputs": [
    {
     "name": "stdout",
     "output_type": "stream",
     "text": [
      "1-step MAE [Naive, Ridge Regression] = [2.7726902498373156,2.94759402262085]\n",
      "1-step R^2 [Naive, Ridge Regression] = [0.8923450639607265,0.8949833206598099]\n"
     ]
    },
    {
     "data": {
      "image/png": "[encoded data removed]",
      "text/plain": [
       "<Figure size 1440x360 with 2 Axes>"
      ]
     },
     "metadata": {
      "needs_background": "light"
     },
     "output_type": "display_data"
    }
   ],
   "source": [
    "mae_naive = mean_absolute_error(y_true, y_naive)\n",
    "mae_predict = mean_absolute_error(y_true, y_predict)\n",
    "r2_naive = explained_variance_score(y_true, y_naive)\n",
    "r2_predict = explained_variance_score(y_true, y_predict)\n",
    "\n",
    "print('{}-step MAE [Naive, Ridge Regression] = [{},{}]'.format(\n",
    "n_days_into_future, mae_naive, mae_predict))\n",
    "print('{}-step R^2 [Naive, Ridge Regression] = [{},{}]'.format(\n",
    "n_days_into_future, r2_naive, r2_predict))\n",
    "\n",
    "true_predict_plot(y_true, y_naive, y_predict, title='')"
   ]
  },
  {
   "cell_type": "code",
   "execution_count": 472,
   "metadata": {},
   "outputs": [
    {
     "data": {
      "text/html": [
       "<div>\n",
       "<style scoped>\n",
       "    .dataframe tbody tr th:only-of-type {\n",
       "        vertical-align: middle;\n",
       "    }\n",
       "\n",
       "    .dataframe tbody tr th {\n",
       "        vertical-align: top;\n",
       "    }\n",
       "\n",
       "    .dataframe thead th {\n",
       "        text-align: right;\n",
       "    }\n",
       "</style>\n",
       "<table border=\"1\" class=\"dataframe\">\n",
       "  <thead>\n",
       "    <tr style=\"text-align: right;\">\n",
       "      <th></th>\n",
       "      <th>new_cases_weighted</th>\n",
       "      <th>new_tests_weighted</th>\n",
       "      <th>new_recovered_weighted</th>\n",
       "      <th>new_deaths_weighted</th>\n",
       "    </tr>\n",
       "  </thead>\n",
       "  <tbody>\n",
       "    <tr>\n",
       "      <th>0</th>\n",
       "      <td>0.000000</td>\n",
       "      <td>0.000000</td>\n",
       "      <td>0.000000</td>\n",
       "      <td>0.000000</td>\n",
       "    </tr>\n",
       "    <tr>\n",
       "      <th>1</th>\n",
       "      <td>0.000000</td>\n",
       "      <td>0.000000</td>\n",
       "      <td>0.000000</td>\n",
       "      <td>0.000000</td>\n",
       "    </tr>\n",
       "    <tr>\n",
       "      <th>2</th>\n",
       "      <td>0.000000</td>\n",
       "      <td>0.000000</td>\n",
       "      <td>0.000000</td>\n",
       "      <td>0.000000</td>\n",
       "    </tr>\n",
       "    <tr>\n",
       "      <th>3</th>\n",
       "      <td>0.000000</td>\n",
       "      <td>0.000000</td>\n",
       "      <td>0.000000</td>\n",
       "      <td>0.000000</td>\n",
       "    </tr>\n",
       "    <tr>\n",
       "      <th>4</th>\n",
       "      <td>0.000000</td>\n",
       "      <td>0.000000</td>\n",
       "      <td>0.000000</td>\n",
       "      <td>0.000000</td>\n",
       "    </tr>\n",
       "    <tr>\n",
       "      <th>...</th>\n",
       "      <td>...</td>\n",
       "      <td>...</td>\n",
       "      <td>...</td>\n",
       "      <td>...</td>\n",
       "    </tr>\n",
       "    <tr>\n",
       "      <th>20015</th>\n",
       "      <td>0.201844</td>\n",
       "      <td>26.508910</td>\n",
       "      <td>0.807378</td>\n",
       "      <td>0.067281</td>\n",
       "    </tr>\n",
       "    <tr>\n",
       "      <th>20016</th>\n",
       "      <td>0.336407</td>\n",
       "      <td>23.683087</td>\n",
       "      <td>0.807378</td>\n",
       "      <td>0.067281</td>\n",
       "    </tr>\n",
       "    <tr>\n",
       "      <th>20017</th>\n",
       "      <td>1.816600</td>\n",
       "      <td>37.139387</td>\n",
       "      <td>0.201844</td>\n",
       "      <td>0.067281</td>\n",
       "    </tr>\n",
       "    <tr>\n",
       "      <th>20018</th>\n",
       "      <td>0.403689</td>\n",
       "      <td>37.139387</td>\n",
       "      <td>0.134563</td>\n",
       "      <td>0.067281</td>\n",
       "    </tr>\n",
       "    <tr>\n",
       "      <th>20019</th>\n",
       "      <td>0.807378</td>\n",
       "      <td>37.139387</td>\n",
       "      <td>0.134563</td>\n",
       "      <td>0.067281</td>\n",
       "    </tr>\n",
       "  </tbody>\n",
       "</table>\n",
       "<p>18018 rows × 4 columns</p>\n",
       "</div>"
      ],
      "text/plain": [
       "       new_cases_weighted  new_tests_weighted  new_recovered_weighted  \\\n",
       "0                0.000000            0.000000                0.000000   \n",
       "1                0.000000            0.000000                0.000000   \n",
       "2                0.000000            0.000000                0.000000   \n",
       "3                0.000000            0.000000                0.000000   \n",
       "4                0.000000            0.000000                0.000000   \n",
       "...                   ...                 ...                     ...   \n",
       "20015            0.201844           26.508910                0.807378   \n",
       "20016            0.336407           23.683087                0.807378   \n",
       "20017            1.816600           37.139387                0.201844   \n",
       "20018            0.403689           37.139387                0.134563   \n",
       "20019            0.807378           37.139387                0.134563   \n",
       "\n",
       "       new_deaths_weighted  \n",
       "0                 0.000000  \n",
       "1                 0.000000  \n",
       "2                 0.000000  \n",
       "3                 0.000000  \n",
       "4                 0.000000  \n",
       "...                    ...  \n",
       "20015             0.067281  \n",
       "20016             0.067281  \n",
       "20017             0.067281  \n",
       "20018             0.067281  \n",
       "20019             0.067281  \n",
       "\n",
       "[18018 rows x 4 columns]"
      ]
     },
     "execution_count": 472,
     "metadata": {},
     "output_type": "execute_result"
    }
   ],
   "source": []
  },
  {
   "cell_type": "code",
   "execution_count": 468,
   "metadata": {},
   "outputs": [
    {
     "name": "stdout",
     "output_type": "stream",
     "text": [
      "1-step MAE [Naive, Ridge Regression] = [5.7364545709698405,6.765161436701755]\n",
      "1-step R^2 [Naive, Ridge Regression] = [0.9434344763263072,0.9259668370886788]\n"
     ]
    },
    {
     "data": {
      "image/png": "[encoded data removed]",
      "text/plain": [
       "<Figure size 1440x360 with 2 Axes>"
      ]
     },
     "metadata": {
      "needs_background": "light"
     },
     "output_type": "display_data"
    },
    {
     "name": "stdout",
     "output_type": "stream",
     "text": [
      "(126,) (126,) (126,)\n"
     ]
    },
    {
     "data": {
      "image/png": "[encoded data removed]",
      "text/plain": [
       "<Figure size 1440x360 with 4 Axes>"
      ]
     },
     "metadata": {
      "needs_background": "light"
     },
     "output_type": "display_data"
    }
   ],
   "source": [
    "n_test_days = 1\n",
    "n_days_into_future = 1\n",
    "model_data = data.drop(columns=data.columns[data.columns.str.contains('flag')])#.drop(columns=data.columns[data.columns.str.contains('mean')])\n",
    "\n",
    "model_data = data.iloc[:,4:8]\n",
    "Xs, ys, model =  n_day_forecasting(model_data, n_test_days, n_days_into_future, col_transformer=MinMaxScaler())\n",
    "\n",
    "y_test, y_naive, y_predict = ys\n",
    "mae_naive = mean_absolute_error(y_test, y_naive)\n",
    "mae_predict = mean_absolute_error(y_test, y_predict)\n",
    "r2_naive = explained_variance_score(y_test, y_naive)\n",
    "r2_predict = explained_variance_score(y_test, y_predict)\n",
    "\n",
    "print('{}-step MAE [Naive, Ridge Regression] = [{},{}]'.format(\n",
    "n_days_into_future, mae_naive, mae_predict))\n",
    "print('{}-step R^2 [Naive, Ridge Regression] = [{},{}]'.format(\n",
    "n_days_into_future, r2_naive, r2_predict))\n",
    "\n",
    "true_predict_plot(y_test, y_naive, y_predict, title='')\n",
    "residual_diff_plots(y_naive, y_predict, y_test, n_days_into_future, data.location.nunique())\n",
    "y_predict[y_predict<0]=0\n"
   ]
  },
  {
   "cell_type": "code",
   "execution_count": 220,
   "metadata": {},
   "outputs": [
    {
     "data": {
      "text/plain": [
       "[array([111], dtype=int64)]"
      ]
     },
     "execution_count": 220,
     "metadata": {},
     "output_type": "execute_result"
    }
   ],
   "source": [
    "[np.where(y_predict==0)[0]]"
   ]
  },
  {
   "cell_type": "code",
   "execution_count": 230,
   "metadata": {},
   "outputs": [
    {
     "data": {
      "text/plain": [
       "'Thailand'"
      ]
     },
     "execution_count": 230,
     "metadata": {},
     "output_type": "execute_result"
    }
   ],
   "source": [
    "data[data.time_index==data.time_index.max()].location.iloc[np.where(y_predict==0)].values[0]"
   ]
  },
  {
   "cell_type": "code",
   "execution_count": 239,
   "metadata": {
    "scrolled": true
   },
   "outputs": [
    {
     "ename": "ValueError",
     "evalue": "Lengths must match to compare",
     "output_type": "error",
     "traceback": [
      "\u001b[1;31m---------------------------------------------------------------------------\u001b[0m",
      "\u001b[1;31mValueError\u001b[0m                                Traceback (most recent call last)",
      "\u001b[1;32m<ipython-input-239-d317f1153a8c>\u001b[0m in \u001b[0;36m<module>\u001b[1;34m\u001b[0m\n\u001b[1;32m----> 1\u001b[1;33m \u001b[0mdata\u001b[0m\u001b[1;33m.\u001b[0m\u001b[0mlocation\u001b[0m \u001b[1;33m==\u001b[0m \u001b[0mcountries\u001b[0m\u001b[1;33m\u001b[0m\u001b[1;33m\u001b[0m\u001b[0m\n\u001b[0m",
      "\u001b[1;32mC:\\ProgramData\\Anaconda3\\lib\\site-packages\\pandas\\core\\ops\\common.py\u001b[0m in \u001b[0;36mnew_method\u001b[1;34m(self, other)\u001b[0m\n\u001b[0;32m     62\u001b[0m         \u001b[0mother\u001b[0m \u001b[1;33m=\u001b[0m \u001b[0mitem_from_zerodim\u001b[0m\u001b[1;33m(\u001b[0m\u001b[0mother\u001b[0m\u001b[1;33m)\u001b[0m\u001b[1;33m\u001b[0m\u001b[1;33m\u001b[0m\u001b[0m\n\u001b[0;32m     63\u001b[0m \u001b[1;33m\u001b[0m\u001b[0m\n\u001b[1;32m---> 64\u001b[1;33m         \u001b[1;32mreturn\u001b[0m \u001b[0mmethod\u001b[0m\u001b[1;33m(\u001b[0m\u001b[0mself\u001b[0m\u001b[1;33m,\u001b[0m \u001b[0mother\u001b[0m\u001b[1;33m)\u001b[0m\u001b[1;33m\u001b[0m\u001b[1;33m\u001b[0m\u001b[0m\n\u001b[0m\u001b[0;32m     65\u001b[0m \u001b[1;33m\u001b[0m\u001b[0m\n\u001b[0;32m     66\u001b[0m     \u001b[1;32mreturn\u001b[0m \u001b[0mnew_method\u001b[0m\u001b[1;33m\u001b[0m\u001b[1;33m\u001b[0m\u001b[0m\n",
      "\u001b[1;32mC:\\ProgramData\\Anaconda3\\lib\\site-packages\\pandas\\core\\ops\\__init__.py\u001b[0m in \u001b[0;36mwrapper\u001b[1;34m(self, other)\u001b[0m\n\u001b[0;32m    524\u001b[0m         \u001b[0mrvalues\u001b[0m \u001b[1;33m=\u001b[0m \u001b[0mextract_array\u001b[0m\u001b[1;33m(\u001b[0m\u001b[0mother\u001b[0m\u001b[1;33m,\u001b[0m \u001b[0mextract_numpy\u001b[0m\u001b[1;33m=\u001b[0m\u001b[1;32mTrue\u001b[0m\u001b[1;33m)\u001b[0m\u001b[1;33m\u001b[0m\u001b[1;33m\u001b[0m\u001b[0m\n\u001b[0;32m    525\u001b[0m \u001b[1;33m\u001b[0m\u001b[0m\n\u001b[1;32m--> 526\u001b[1;33m         \u001b[0mres_values\u001b[0m \u001b[1;33m=\u001b[0m \u001b[0mcomparison_op\u001b[0m\u001b[1;33m(\u001b[0m\u001b[0mlvalues\u001b[0m\u001b[1;33m,\u001b[0m \u001b[0mrvalues\u001b[0m\u001b[1;33m,\u001b[0m \u001b[0mop\u001b[0m\u001b[1;33m)\u001b[0m\u001b[1;33m\u001b[0m\u001b[1;33m\u001b[0m\u001b[0m\n\u001b[0m\u001b[0;32m    527\u001b[0m \u001b[1;33m\u001b[0m\u001b[0m\n\u001b[0;32m    528\u001b[0m         \u001b[1;32mreturn\u001b[0m \u001b[0m_construct_result\u001b[0m\u001b[1;33m(\u001b[0m\u001b[0mself\u001b[0m\u001b[1;33m,\u001b[0m \u001b[0mres_values\u001b[0m\u001b[1;33m,\u001b[0m \u001b[0mindex\u001b[0m\u001b[1;33m=\u001b[0m\u001b[0mself\u001b[0m\u001b[1;33m.\u001b[0m\u001b[0mindex\u001b[0m\u001b[1;33m,\u001b[0m \u001b[0mname\u001b[0m\u001b[1;33m=\u001b[0m\u001b[0mres_name\u001b[0m\u001b[1;33m)\u001b[0m\u001b[1;33m\u001b[0m\u001b[1;33m\u001b[0m\u001b[0m\n",
      "\u001b[1;32mC:\\ProgramData\\Anaconda3\\lib\\site-packages\\pandas\\core\\ops\\array_ops.py\u001b[0m in \u001b[0;36mcomparison_op\u001b[1;34m(left, right, op)\u001b[0m\n\u001b[0;32m    232\u001b[0m         \u001b[1;31m#  The ambiguous case is object-dtype.  See GH#27803\u001b[0m\u001b[1;33m\u001b[0m\u001b[1;33m\u001b[0m\u001b[1;33m\u001b[0m\u001b[0m\n\u001b[0;32m    233\u001b[0m         \u001b[1;32mif\u001b[0m \u001b[0mlen\u001b[0m\u001b[1;33m(\u001b[0m\u001b[0mlvalues\u001b[0m\u001b[1;33m)\u001b[0m \u001b[1;33m!=\u001b[0m \u001b[0mlen\u001b[0m\u001b[1;33m(\u001b[0m\u001b[0mrvalues\u001b[0m\u001b[1;33m)\u001b[0m\u001b[1;33m:\u001b[0m\u001b[1;33m\u001b[0m\u001b[1;33m\u001b[0m\u001b[0m\n\u001b[1;32m--> 234\u001b[1;33m             \u001b[1;32mraise\u001b[0m \u001b[0mValueError\u001b[0m\u001b[1;33m(\u001b[0m\u001b[1;34m\"Lengths must match to compare\"\u001b[0m\u001b[1;33m)\u001b[0m\u001b[1;33m\u001b[0m\u001b[1;33m\u001b[0m\u001b[0m\n\u001b[0m\u001b[0;32m    235\u001b[0m \u001b[1;33m\u001b[0m\u001b[0m\n\u001b[0;32m    236\u001b[0m     \u001b[1;32mif\u001b[0m \u001b[0mshould_extension_dispatch\u001b[0m\u001b[1;33m(\u001b[0m\u001b[0mlvalues\u001b[0m\u001b[1;33m,\u001b[0m \u001b[0mrvalues\u001b[0m\u001b[1;33m)\u001b[0m\u001b[1;33m:\u001b[0m\u001b[1;33m\u001b[0m\u001b[1;33m\u001b[0m\u001b[0m\n",
      "\u001b[1;31mValueError\u001b[0m: Lengths must match to compare"
     ]
    }
   ],
   "source": [
    "data.location == countries"
   ]
  },
  {
   "cell_type": "code",
   "execution_count": 250,
   "metadata": {},
   "outputs": [
    {
     "data": {
      "text/plain": [
       "(44,)"
      ]
     },
     "execution_count": 250,
     "metadata": {},
     "output_type": "execute_result"
    }
   ],
   "source": [
    "model.coef_.shape"
   ]
  },
  {
   "cell_type": "code",
   "execution_count": 260,
   "metadata": {},
   "outputs": [],
   "source": [
    "# present_day = data[data.time_index==data.time_index.max()]\n",
    "# countries=present_day.location.iloc[np.where(y_predict==0)].values\n",
    "X_test_thai = present_day.loc[present_day.location == 'Thailand',:].drop(columns=data.columns[data.columns.str.contains('flag')]).iloc[:,2:].values\n",
    "coef = model.coef_\n",
    "thai_contributions = np.multiply(X_test_thai, coef).ravel()"
   ]
  },
  {
   "cell_type": "code",
   "execution_count": 265,
   "metadata": {},
   "outputs": [
    {
     "data": {
      "text/plain": [
       "Index(['time_index', 'days_since_first_case', 'containment_health_index',\n",
       "       'government_response_index', 'stringency_index',\n",
       "       'containment_health_index_rolling_mean_2',\n",
       "       'government_response_index_rolling_mean_2',\n",
       "       'stringency_index_rolling_mean_2',\n",
       "       'containment_health_index_rolling_mean_4',\n",
       "       'government_response_index_rolling_mean_4',\n",
       "       'stringency_index_rolling_mean_4',\n",
       "       'government_response_index_rolling_mean_8',\n",
       "       'stringency_index_rolling_mean_8',\n",
       "       'containment_health_index_rolling_mean_16',\n",
       "       'government_response_index_rolling_mean_16',\n",
       "       'stringency_index_rolling_mean_16',\n",
       "       'containment_health_index_rolling_mean_32',\n",
       "       'government_response_index_rolling_mean_32',\n",
       "       'stringency_index_rolling_mean_32'],\n",
       "      dtype='object')"
      ]
     },
     "execution_count": 265,
     "metadata": {},
     "output_type": "execute_result"
    }
   ],
   "source": [
    "model_data.iloc[:,2:].columns[np.where(np.abs(thai_contributions)>5)[0]]"
   ]
  },
  {
   "cell_type": "code",
   "execution_count": 255,
   "metadata": {},
   "outputs": [
    {
     "data": {
      "text/plain": [
       "<matplotlib.axes._subplots.AxesSubplot at 0x1ccc1e46788>"
      ]
     },
     "execution_count": 255,
     "metadata": {},
     "output_type": "execute_result"
    },
    {
     "data": {
      "image/png": "[encoded data removed]",
      "text/plain": [
       "<Figure size 432x288 with 1 Axes>"
      ]
     },
     "metadata": {
      "needs_background": "light"
     },
     "output_type": "display_data"
    }
   ],
   "source": [
    "pd.Series(thai_contributions.ravel()).plot()"
   ]
  },
  {
   "cell_type": "code",
   "execution_count": 210,
   "metadata": {},
   "outputs": [
    {
     "ename": "IndexError",
     "evalue": "index 6 is out of bounds for axis 0 with size 1",
     "output_type": "error",
     "traceback": [
      "\u001b[1;31m---------------------------------------------------------------------------\u001b[0m",
      "\u001b[1;31mIndexError\u001b[0m                                Traceback (most recent call last)",
      "\u001b[1;32m<ipython-input-210-90f8024cba0b>\u001b[0m in \u001b[0;36m<module>\u001b[1;34m\u001b[0m\n\u001b[1;32m----> 1\u001b[1;33m \u001b[0mX_test_japan\u001b[0m \u001b[1;33m=\u001b[0m \u001b[0mdata\u001b[0m\u001b[1;33m.\u001b[0m\u001b[0miloc\u001b[0m\u001b[1;33m[\u001b[0m\u001b[1;33m:\u001b[0m\u001b[1;33m,\u001b[0m\u001b[1;36m2\u001b[0m\u001b[1;33m:\u001b[0m\u001b[1;33m]\u001b[0m\u001b[1;33m.\u001b[0m\u001b[0mloc\u001b[0m\u001b[1;33m[\u001b[0m\u001b[0mdata\u001b[0m\u001b[1;33m[\u001b[0m\u001b[0mdata\u001b[0m\u001b[1;33m.\u001b[0m\u001b[0mtime_index\u001b[0m\u001b[1;33m==\u001b[0m\u001b[0mdata\u001b[0m\u001b[1;33m.\u001b[0m\u001b[0mtime_index\u001b[0m\u001b[1;33m.\u001b[0m\u001b[0mmax\u001b[0m\u001b[1;33m(\u001b[0m\u001b[1;33m)\u001b[0m\u001b[1;33m]\u001b[0m\u001b[1;33m.\u001b[0m\u001b[0mlocation\u001b[0m\u001b[1;33m.\u001b[0m\u001b[0mindex\u001b[0m\u001b[1;33m[\u001b[0m\u001b[0mnp\u001b[0m\u001b[1;33m.\u001b[0m\u001b[0mwhere\u001b[0m\u001b[1;33m(\u001b[0m\u001b[0my_predict\u001b[0m\u001b[1;33m==\u001b[0m\u001b[1;36m0\u001b[0m\u001b[1;33m)\u001b[0m\u001b[1;33m[\u001b[0m\u001b[1;36m0\u001b[0m\u001b[1;33m]\u001b[0m\u001b[1;33m]\u001b[0m\u001b[1;33m[\u001b[0m\u001b[1;36m6\u001b[0m\u001b[1;33m]\u001b[0m\u001b[1;33m,\u001b[0m\u001b[1;33m:\u001b[0m\u001b[1;33m]\u001b[0m\u001b[1;33m.\u001b[0m\u001b[0mvalues\u001b[0m\u001b[1;33m\u001b[0m\u001b[1;33m\u001b[0m\u001b[0m\n\u001b[0m\u001b[0;32m      2\u001b[0m \u001b[0mcoef\u001b[0m \u001b[1;33m=\u001b[0m \u001b[0mmodel\u001b[0m\u001b[1;33m.\u001b[0m\u001b[0mcoef_\u001b[0m\u001b[1;33m\u001b[0m\u001b[1;33m\u001b[0m\u001b[0m\n\u001b[0;32m      3\u001b[0m \u001b[0mjapan_contributions\u001b[0m \u001b[1;33m=\u001b[0m \u001b[0mnp\u001b[0m\u001b[1;33m.\u001b[0m\u001b[0mmultiply\u001b[0m\u001b[1;33m(\u001b[0m\u001b[0mX_test_japan\u001b[0m\u001b[1;33m,\u001b[0m \u001b[0mcoef\u001b[0m\u001b[1;33m)\u001b[0m\u001b[1;33m\u001b[0m\u001b[1;33m\u001b[0m\u001b[0m\n",
      "\u001b[1;32mC:\\ProgramData\\Anaconda3\\lib\\site-packages\\pandas\\core\\indexes\\base.py\u001b[0m in \u001b[0;36m__getitem__\u001b[1;34m(self, key)\u001b[0m\n\u001b[0;32m   3928\u001b[0m         \u001b[1;32mif\u001b[0m \u001b[0mis_scalar\u001b[0m\u001b[1;33m(\u001b[0m\u001b[0mkey\u001b[0m\u001b[1;33m)\u001b[0m\u001b[1;33m:\u001b[0m\u001b[1;33m\u001b[0m\u001b[1;33m\u001b[0m\u001b[0m\n\u001b[0;32m   3929\u001b[0m             \u001b[0mkey\u001b[0m \u001b[1;33m=\u001b[0m \u001b[0mcom\u001b[0m\u001b[1;33m.\u001b[0m\u001b[0mcast_scalar_indexer\u001b[0m\u001b[1;33m(\u001b[0m\u001b[0mkey\u001b[0m\u001b[1;33m)\u001b[0m\u001b[1;33m\u001b[0m\u001b[1;33m\u001b[0m\u001b[0m\n\u001b[1;32m-> 3930\u001b[1;33m             \u001b[1;32mreturn\u001b[0m \u001b[0mgetitem\u001b[0m\u001b[1;33m(\u001b[0m\u001b[0mkey\u001b[0m\u001b[1;33m)\u001b[0m\u001b[1;33m\u001b[0m\u001b[1;33m\u001b[0m\u001b[0m\n\u001b[0m\u001b[0;32m   3931\u001b[0m \u001b[1;33m\u001b[0m\u001b[0m\n\u001b[0;32m   3932\u001b[0m         \u001b[1;32mif\u001b[0m \u001b[0misinstance\u001b[0m\u001b[1;33m(\u001b[0m\u001b[0mkey\u001b[0m\u001b[1;33m,\u001b[0m \u001b[0mslice\u001b[0m\u001b[1;33m)\u001b[0m\u001b[1;33m:\u001b[0m\u001b[1;33m\u001b[0m\u001b[1;33m\u001b[0m\u001b[0m\n",
      "\u001b[1;31mIndexError\u001b[0m: index 6 is out of bounds for axis 0 with size 1"
     ]
    }
   ],
   "source": [
    "X_test_japan = data.iloc[:,2:].loc[data[data.time_index==data.time_index.max()].location.index[np.where(y_predict==0)[0]][6],:].values\n",
    "coef = model.coef_\n",
    "japan_contributions = np.multiply(X_test_japan, coef)"
   ]
  },
  {
   "cell_type": "code",
   "execution_count": 211,
   "metadata": {},
   "outputs": [
    {
     "data": {
      "text/plain": [
       "Index(['location', 'date', 'new_deaths_weighted_rolling_mean_2',\n",
       "       'new_tests_weighted_rolling_mean_4',\n",
       "       'new_recovered_weighted_rolling_mean_4',\n",
       "       'new_tests_weighted_rolling_mean_8',\n",
       "       'new_cases_weighted_rolling_mean_32',\n",
       "       'government_response_index_rolling_mean_32',\n",
       "       'stringency_index_rolling_mean_32', 'austria_flag', 'burundi_flag',\n",
       "       'chad_flag', 'chile_flag', 'czechia_flag', 'germany_flag',\n",
       "       'honduras_flag', 'hungary_flag', 'malawi_flag', 'morocco_flag',\n",
       "       'mozambique_flag', 'nigeria_flag', 'russia_flag', 'senegal_flag',\n",
       "       'serbia_flag', 'sierra_leone_flag', 'singapore_flag', 'sri_lanka_flag'],\n",
       "      dtype='object')"
      ]
     },
     "execution_count": 211,
     "metadata": {},
     "output_type": "execute_result"
    }
   ],
   "source": [
    "data.columns[np.where(np.abs(japan_contributions)>10)]"
   ]
  },
  {
   "cell_type": "code",
   "execution_count": 165,
   "metadata": {},
   "outputs": [
    {
     "data": {
      "text/plain": [
       "<matplotlib.axes._subplots.AxesSubplot at 0x1ccc1d9fe08>"
      ]
     },
     "execution_count": 165,
     "metadata": {},
     "output_type": "execute_result"
    },
    {
     "data": {
      "image/png": "[encoded data removed]",
      "text/plain": [
       "<Figure size 432x288 with 1 Axes>"
      ]
     },
     "metadata": {
      "needs_background": "light"
     },
     "output_type": "display_data"
    }
   ],
   "source": [
    "pd.Series(japan_contributions[np.where(np.abs(japan_contributions)>10)]).plot()"
   ]
  },
  {
   "cell_type": "code",
   "execution_count": 171,
   "metadata": {},
   "outputs": [
    {
     "data": {
      "text/plain": [
       "array([142, 143, 144,  69,  20,  44, 145,  45, 126,  26,  94,  70,  76,\n",
       "       120, 114,  51, 151,   0,  95,   1, 139,  89,  14,  64,  39,  19,\n",
       "       119], dtype=int64)"
      ]
     },
     "execution_count": 171,
     "metadata": {},
     "output_type": "execute_result"
    }
   ],
   "source": [
    "np.where(np.abs(japan_contributions)>10)[0][np.argsort(japan_contributions[np.where(np.abs(japan_contributions)>10)])]"
   ]
  },
  {
   "cell_type": "code",
   "execution_count": 169,
   "metadata": {},
   "outputs": [
    {
     "data": {
      "text/plain": [
       "array([22, 23, 24, 11,  4,  7, 25,  8, 20,  5, 15, 12, 13, 19, 17,  9, 26,\n",
       "        0, 16,  1, 21, 14,  2, 10,  6,  3, 18], dtype=int64)"
      ]
     },
     "execution_count": 169,
     "metadata": {},
     "output_type": "execute_result"
    }
   ],
   "source": []
  },
  {
   "cell_type": "code",
   "execution_count": 164,
   "metadata": {},
   "outputs": [
    {
     "data": {
      "text/plain": [
       "Index(['location', 'date', 'c7_restrictions_on_internal_movement',\n",
       "       'e3_fiscal_measures', 'e4_international_support',\n",
       "       'h4_emergency_investment_in_healthcare',\n",
       "       'c7_restrictions_on_internal_movement_rolling_mean_2',\n",
       "       'e3_fiscal_measures_rolling_mean_2',\n",
       "       'e4_international_support_rolling_mean_2',\n",
       "       'h4_emergency_investment_in_healthcare_rolling_mean_2',\n",
       "       'c7_restrictions_on_internal_movement_rolling_mean_4',\n",
       "       'e3_fiscal_measures_rolling_mean_4',\n",
       "       'e4_international_support_rolling_mean_4',\n",
       "       'h4_emergency_investment_in_healthcare_rolling_mean_4',\n",
       "       'c7_restrictions_on_internal_movement_rolling_mean_8',\n",
       "       'e3_fiscal_measures_rolling_mean_8',\n",
       "       'e4_international_support_rolling_mean_8',\n",
       "       'c7_restrictions_on_internal_movement_rolling_mean_16',\n",
       "       'e3_fiscal_measures_rolling_mean_16',\n",
       "       'e4_international_support_rolling_mean_16',\n",
       "       'h4_emergency_investment_in_healthcare_rolling_mean_16',\n",
       "       'c7_restrictions_on_internal_movement_rolling_mean_32',\n",
       "       'e1_income_support_rolling_mean_32',\n",
       "       'e2_debt_contract_relief_rolling_mean_32',\n",
       "       'e3_fiscal_measures_rolling_mean_32',\n",
       "       'e4_international_support_rolling_mean_32',\n",
       "       'h4_emergency_investment_in_healthcare_rolling_mean_32'],\n",
       "      dtype='object')"
      ]
     },
     "execution_count": 164,
     "metadata": {},
     "output_type": "execute_result"
    }
   ],
   "source": [
    "data.columns[np.where(np.abs(japan_contributions)>10)]"
   ]
  },
  {
   "cell_type": "code",
   "execution_count": 179,
   "metadata": {},
   "outputs": [
    {
     "data": {
      "text/html": [
       "<div>\n",
       "<style scoped>\n",
       "    .dataframe tbody tr th:only-of-type {\n",
       "        vertical-align: middle;\n",
       "    }\n",
       "\n",
       "    .dataframe tbody tr th {\n",
       "        vertical-align: top;\n",
       "    }\n",
       "\n",
       "    .dataframe thead th {\n",
       "        text-align: right;\n",
       "    }\n",
       "</style>\n",
       "<table border=\"1\" class=\"dataframe\">\n",
       "  <thead>\n",
       "    <tr style=\"text-align: right;\">\n",
       "      <th></th>\n",
       "      <th>location</th>\n",
       "      <th>date</th>\n",
       "      <th>time_index</th>\n",
       "      <th>days_since_first_case</th>\n",
       "      <th>new_cases_weighted</th>\n",
       "      <th>new_tests_weighted</th>\n",
       "      <th>new_recovered_weighted</th>\n",
       "      <th>new_deaths_weighted</th>\n",
       "      <th>c1_school_closing</th>\n",
       "      <th>c2_workplace_closing</th>\n",
       "      <th>...</th>\n",
       "      <th>aged_65_older_missing_flag</th>\n",
       "      <th>aged_70_older_missing_flag</th>\n",
       "      <th>gdp_per_capita_missing_flag</th>\n",
       "      <th>extreme_poverty_missing_flag</th>\n",
       "      <th>cvd_death_rate_missing_flag</th>\n",
       "      <th>diabetes_prevalence_missing_flag</th>\n",
       "      <th>female_smokers_missing_flag</th>\n",
       "      <th>male_smokers_missing_flag</th>\n",
       "      <th>handwashing_facilities_missing_flag</th>\n",
       "      <th>hospital_beds_per_thousand_missing_flag</th>\n",
       "    </tr>\n",
       "  </thead>\n",
       "  <tbody>\n",
       "    <tr>\n",
       "      <th>9724</th>\n",
       "      <td>Japan</td>\n",
       "      <td>2020-01-22</td>\n",
       "      <td>0</td>\n",
       "      <td>0</td>\n",
       "      <td>0.000000</td>\n",
       "      <td>0.0</td>\n",
       "      <td>0.000000</td>\n",
       "      <td>0.000000</td>\n",
       "      <td>0.0</td>\n",
       "      <td>0.0</td>\n",
       "      <td>...</td>\n",
       "      <td>0</td>\n",
       "      <td>0</td>\n",
       "      <td>0</td>\n",
       "      <td>1</td>\n",
       "      <td>0</td>\n",
       "      <td>0</td>\n",
       "      <td>0</td>\n",
       "      <td>0</td>\n",
       "      <td>1</td>\n",
       "      <td>0</td>\n",
       "    </tr>\n",
       "    <tr>\n",
       "      <th>9725</th>\n",
       "      <td>Japan</td>\n",
       "      <td>2020-01-23</td>\n",
       "      <td>1</td>\n",
       "      <td>1</td>\n",
       "      <td>0.000000</td>\n",
       "      <td>0.0</td>\n",
       "      <td>0.000000</td>\n",
       "      <td>0.000000</td>\n",
       "      <td>0.0</td>\n",
       "      <td>0.0</td>\n",
       "      <td>...</td>\n",
       "      <td>0</td>\n",
       "      <td>0</td>\n",
       "      <td>0</td>\n",
       "      <td>1</td>\n",
       "      <td>0</td>\n",
       "      <td>0</td>\n",
       "      <td>0</td>\n",
       "      <td>0</td>\n",
       "      <td>1</td>\n",
       "      <td>0</td>\n",
       "    </tr>\n",
       "    <tr>\n",
       "      <th>9726</th>\n",
       "      <td>Japan</td>\n",
       "      <td>2020-01-24</td>\n",
       "      <td>2</td>\n",
       "      <td>2</td>\n",
       "      <td>0.007907</td>\n",
       "      <td>0.0</td>\n",
       "      <td>0.000000</td>\n",
       "      <td>0.000000</td>\n",
       "      <td>0.0</td>\n",
       "      <td>0.0</td>\n",
       "      <td>...</td>\n",
       "      <td>0</td>\n",
       "      <td>0</td>\n",
       "      <td>0</td>\n",
       "      <td>1</td>\n",
       "      <td>0</td>\n",
       "      <td>0</td>\n",
       "      <td>0</td>\n",
       "      <td>0</td>\n",
       "      <td>1</td>\n",
       "      <td>0</td>\n",
       "    </tr>\n",
       "    <tr>\n",
       "      <th>9727</th>\n",
       "      <td>Japan</td>\n",
       "      <td>2020-01-25</td>\n",
       "      <td>3</td>\n",
       "      <td>3</td>\n",
       "      <td>0.007907</td>\n",
       "      <td>0.0</td>\n",
       "      <td>0.000000</td>\n",
       "      <td>0.000000</td>\n",
       "      <td>0.0</td>\n",
       "      <td>0.0</td>\n",
       "      <td>...</td>\n",
       "      <td>0</td>\n",
       "      <td>0</td>\n",
       "      <td>0</td>\n",
       "      <td>1</td>\n",
       "      <td>0</td>\n",
       "      <td>0</td>\n",
       "      <td>0</td>\n",
       "      <td>0</td>\n",
       "      <td>1</td>\n",
       "      <td>0</td>\n",
       "    </tr>\n",
       "    <tr>\n",
       "      <th>9728</th>\n",
       "      <td>Japan</td>\n",
       "      <td>2020-01-26</td>\n",
       "      <td>4</td>\n",
       "      <td>4</td>\n",
       "      <td>0.007907</td>\n",
       "      <td>0.0</td>\n",
       "      <td>0.007907</td>\n",
       "      <td>0.000000</td>\n",
       "      <td>0.0</td>\n",
       "      <td>0.0</td>\n",
       "      <td>...</td>\n",
       "      <td>0</td>\n",
       "      <td>0</td>\n",
       "      <td>0</td>\n",
       "      <td>1</td>\n",
       "      <td>0</td>\n",
       "      <td>0</td>\n",
       "      <td>0</td>\n",
       "      <td>0</td>\n",
       "      <td>1</td>\n",
       "      <td>0</td>\n",
       "    </tr>\n",
       "    <tr>\n",
       "      <th>...</th>\n",
       "      <td>...</td>\n",
       "      <td>...</td>\n",
       "      <td>...</td>\n",
       "      <td>...</td>\n",
       "      <td>...</td>\n",
       "      <td>...</td>\n",
       "      <td>...</td>\n",
       "      <td>...</td>\n",
       "      <td>...</td>\n",
       "      <td>...</td>\n",
       "      <td>...</td>\n",
       "      <td>...</td>\n",
       "      <td>...</td>\n",
       "      <td>...</td>\n",
       "      <td>...</td>\n",
       "      <td>...</td>\n",
       "      <td>...</td>\n",
       "      <td>...</td>\n",
       "      <td>...</td>\n",
       "      <td>...</td>\n",
       "      <td>...</td>\n",
       "    </tr>\n",
       "    <tr>\n",
       "      <th>9862</th>\n",
       "      <td>Japan</td>\n",
       "      <td>2020-06-08</td>\n",
       "      <td>138</td>\n",
       "      <td>138</td>\n",
       "      <td>0.260918</td>\n",
       "      <td>0.0</td>\n",
       "      <td>0.419050</td>\n",
       "      <td>0.015813</td>\n",
       "      <td>3.0</td>\n",
       "      <td>0.0</td>\n",
       "      <td>...</td>\n",
       "      <td>0</td>\n",
       "      <td>0</td>\n",
       "      <td>0</td>\n",
       "      <td>1</td>\n",
       "      <td>0</td>\n",
       "      <td>0</td>\n",
       "      <td>0</td>\n",
       "      <td>0</td>\n",
       "      <td>1</td>\n",
       "      <td>0</td>\n",
       "    </tr>\n",
       "    <tr>\n",
       "      <th>9863</th>\n",
       "      <td>Japan</td>\n",
       "      <td>2020-06-09</td>\n",
       "      <td>139</td>\n",
       "      <td>139</td>\n",
       "      <td>0.284638</td>\n",
       "      <td>0.0</td>\n",
       "      <td>0.774848</td>\n",
       "      <td>0.015813</td>\n",
       "      <td>3.0</td>\n",
       "      <td>0.0</td>\n",
       "      <td>...</td>\n",
       "      <td>0</td>\n",
       "      <td>0</td>\n",
       "      <td>0</td>\n",
       "      <td>1</td>\n",
       "      <td>0</td>\n",
       "      <td>0</td>\n",
       "      <td>0</td>\n",
       "      <td>0</td>\n",
       "      <td>1</td>\n",
       "      <td>0</td>\n",
       "    </tr>\n",
       "    <tr>\n",
       "      <th>9864</th>\n",
       "      <td>Japan</td>\n",
       "      <td>2020-06-10</td>\n",
       "      <td>140</td>\n",
       "      <td>140</td>\n",
       "      <td>0.324171</td>\n",
       "      <td>0.0</td>\n",
       "      <td>0.600902</td>\n",
       "      <td>0.023720</td>\n",
       "      <td>3.0</td>\n",
       "      <td>0.0</td>\n",
       "      <td>...</td>\n",
       "      <td>0</td>\n",
       "      <td>0</td>\n",
       "      <td>0</td>\n",
       "      <td>1</td>\n",
       "      <td>0</td>\n",
       "      <td>0</td>\n",
       "      <td>0</td>\n",
       "      <td>0</td>\n",
       "      <td>1</td>\n",
       "      <td>0</td>\n",
       "    </tr>\n",
       "    <tr>\n",
       "      <th>9865</th>\n",
       "      <td>Japan</td>\n",
       "      <td>2020-06-11</td>\n",
       "      <td>141</td>\n",
       "      <td>141</td>\n",
       "      <td>0.324171</td>\n",
       "      <td>0.0</td>\n",
       "      <td>0.126506</td>\n",
       "      <td>0.007907</td>\n",
       "      <td>3.0</td>\n",
       "      <td>0.0</td>\n",
       "      <td>...</td>\n",
       "      <td>0</td>\n",
       "      <td>0</td>\n",
       "      <td>0</td>\n",
       "      <td>1</td>\n",
       "      <td>0</td>\n",
       "      <td>0</td>\n",
       "      <td>0</td>\n",
       "      <td>0</td>\n",
       "      <td>1</td>\n",
       "      <td>0</td>\n",
       "    </tr>\n",
       "    <tr>\n",
       "      <th>9866</th>\n",
       "      <td>Japan</td>\n",
       "      <td>2020-06-12</td>\n",
       "      <td>142</td>\n",
       "      <td>142</td>\n",
       "      <td>0.316264</td>\n",
       "      <td>0.0</td>\n",
       "      <td>1.019953</td>\n",
       "      <td>0.015813</td>\n",
       "      <td>3.0</td>\n",
       "      <td>0.0</td>\n",
       "      <td>...</td>\n",
       "      <td>0</td>\n",
       "      <td>0</td>\n",
       "      <td>0</td>\n",
       "      <td>1</td>\n",
       "      <td>0</td>\n",
       "      <td>0</td>\n",
       "      <td>0</td>\n",
       "      <td>0</td>\n",
       "      <td>1</td>\n",
       "      <td>0</td>\n",
       "    </tr>\n",
       "  </tbody>\n",
       "</table>\n",
       "<p>143 rows × 311 columns</p>\n",
       "</div>"
      ],
      "text/plain": [
       "     location        date  time_index  days_since_first_case  \\\n",
       "9724    Japan  2020-01-22           0                      0   \n",
       "9725    Japan  2020-01-23           1                      1   \n",
       "9726    Japan  2020-01-24           2                      2   \n",
       "9727    Japan  2020-01-25           3                      3   \n",
       "9728    Japan  2020-01-26           4                      4   \n",
       "...       ...         ...         ...                    ...   \n",
       "9862    Japan  2020-06-08         138                    138   \n",
       "9863    Japan  2020-06-09         139                    139   \n",
       "9864    Japan  2020-06-10         140                    140   \n",
       "9865    Japan  2020-06-11         141                    141   \n",
       "9866    Japan  2020-06-12         142                    142   \n",
       "\n",
       "      new_cases_weighted  new_tests_weighted  new_recovered_weighted  \\\n",
       "9724            0.000000                 0.0                0.000000   \n",
       "9725            0.000000                 0.0                0.000000   \n",
       "9726            0.007907                 0.0                0.000000   \n",
       "9727            0.007907                 0.0                0.000000   \n",
       "9728            0.007907                 0.0                0.007907   \n",
       "...                  ...                 ...                     ...   \n",
       "9862            0.260918                 0.0                0.419050   \n",
       "9863            0.284638                 0.0                0.774848   \n",
       "9864            0.324171                 0.0                0.600902   \n",
       "9865            0.324171                 0.0                0.126506   \n",
       "9866            0.316264                 0.0                1.019953   \n",
       "\n",
       "      new_deaths_weighted  c1_school_closing  c2_workplace_closing  ...  \\\n",
       "9724             0.000000                0.0                   0.0  ...   \n",
       "9725             0.000000                0.0                   0.0  ...   \n",
       "9726             0.000000                0.0                   0.0  ...   \n",
       "9727             0.000000                0.0                   0.0  ...   \n",
       "9728             0.000000                0.0                   0.0  ...   \n",
       "...                   ...                ...                   ...  ...   \n",
       "9862             0.015813                3.0                   0.0  ...   \n",
       "9863             0.015813                3.0                   0.0  ...   \n",
       "9864             0.023720                3.0                   0.0  ...   \n",
       "9865             0.007907                3.0                   0.0  ...   \n",
       "9866             0.015813                3.0                   0.0  ...   \n",
       "\n",
       "      aged_65_older_missing_flag  aged_70_older_missing_flag  \\\n",
       "9724                           0                           0   \n",
       "9725                           0                           0   \n",
       "9726                           0                           0   \n",
       "9727                           0                           0   \n",
       "9728                           0                           0   \n",
       "...                          ...                         ...   \n",
       "9862                           0                           0   \n",
       "9863                           0                           0   \n",
       "9864                           0                           0   \n",
       "9865                           0                           0   \n",
       "9866                           0                           0   \n",
       "\n",
       "      gdp_per_capita_missing_flag  extreme_poverty_missing_flag  \\\n",
       "9724                            0                             1   \n",
       "9725                            0                             1   \n",
       "9726                            0                             1   \n",
       "9727                            0                             1   \n",
       "9728                            0                             1   \n",
       "...                           ...                           ...   \n",
       "9862                            0                             1   \n",
       "9863                            0                             1   \n",
       "9864                            0                             1   \n",
       "9865                            0                             1   \n",
       "9866                            0                             1   \n",
       "\n",
       "      cvd_death_rate_missing_flag  diabetes_prevalence_missing_flag  \\\n",
       "9724                            0                                 0   \n",
       "9725                            0                                 0   \n",
       "9726                            0                                 0   \n",
       "9727                            0                                 0   \n",
       "9728                            0                                 0   \n",
       "...                           ...                               ...   \n",
       "9862                            0                                 0   \n",
       "9863                            0                                 0   \n",
       "9864                            0                                 0   \n",
       "9865                            0                                 0   \n",
       "9866                            0                                 0   \n",
       "\n",
       "      female_smokers_missing_flag  male_smokers_missing_flag  \\\n",
       "9724                            0                          0   \n",
       "9725                            0                          0   \n",
       "9726                            0                          0   \n",
       "9727                            0                          0   \n",
       "9728                            0                          0   \n",
       "...                           ...                        ...   \n",
       "9862                            0                          0   \n",
       "9863                            0                          0   \n",
       "9864                            0                          0   \n",
       "9865                            0                          0   \n",
       "9866                            0                          0   \n",
       "\n",
       "      handwashing_facilities_missing_flag  \\\n",
       "9724                                    1   \n",
       "9725                                    1   \n",
       "9726                                    1   \n",
       "9727                                    1   \n",
       "9728                                    1   \n",
       "...                                   ...   \n",
       "9862                                    1   \n",
       "9863                                    1   \n",
       "9864                                    1   \n",
       "9865                                    1   \n",
       "9866                                    1   \n",
       "\n",
       "      hospital_beds_per_thousand_missing_flag  \n",
       "9724                                        0  \n",
       "9725                                        0  \n",
       "9726                                        0  \n",
       "9727                                        0  \n",
       "9728                                        0  \n",
       "...                                       ...  \n",
       "9862                                        0  \n",
       "9863                                        0  \n",
       "9864                                        0  \n",
       "9865                                        0  \n",
       "9866                                        0  \n",
       "\n",
       "[143 rows x 311 columns]"
      ]
     },
     "execution_count": 179,
     "metadata": {},
     "output_type": "execute_result"
    }
   ],
   "source": [
    "data[data.location=='Japan']"
   ]
  },
  {
   "cell_type": "code",
   "execution_count": 178,
   "metadata": {},
   "outputs": [
    {
     "data": {
      "text/plain": [
       "<matplotlib.axes._subplots.AxesSubplot at 0x1ccc19f7508>"
      ]
     },
     "execution_count": 178,
     "metadata": {},
     "output_type": "execute_result"
    },
    {
     "data": {
      "image/png": "[encoded data removed]",
      "text/plain": [
       "<Figure size 432x288 with 1 Axes>"
      ]
     },
     "metadata": {
      "needs_background": "light"
     },
     "output_type": "display_data"
    }
   ],
   "source": [
    "data[data.location=='Japan'].e1_income_support_rolling_mean_32.plot()"
   ]
  },
  {
   "cell_type": "code",
   "execution_count": 180,
   "metadata": {},
   "outputs": [],
   "source": [
    "# np.argsort(japan_contributions[np.where(np.abs(japan_contributions)>10)])\n",
    "# worst offending columns\n",
    "worst_columns_args = np.where(np.abs(japan_contributions)>10)[0][np.argsort(japan_contributions[np.where(np.abs(japan_contributions)>10)])]\n",
    "worst_columns = data.columns[worst_columns_args]"
   ]
  },
  {
   "cell_type": "code",
   "execution_count": 183,
   "metadata": {},
   "outputs": [
    {
     "data": {
      "text/plain": [
       "(126, 309)"
      ]
     },
     "execution_count": 183,
     "metadata": {},
     "output_type": "execute_result"
    }
   ],
   "source": [
    "X_test.shape"
   ]
  },
  {
   "cell_type": "code",
   "execution_count": 185,
   "metadata": {},
   "outputs": [
    {
     "data": {
      "text/plain": [
       "<matplotlib.axes._subplots.AxesSubplot at 0x1ccc524db08>"
      ]
     },
     "execution_count": 185,
     "metadata": {},
     "output_type": "execute_result"
    },
    {
     "data": {
      "image/png": "[encoded data removed]",
      "text/plain": [
       "<Figure size 432x288 with 1 Axes>"
      ]
     },
     "metadata": {
      "needs_background": "light"
     },
     "output_type": "display_data"
    }
   ],
   "source": [
    "pd.Series(X_test[:, worst_columns_args].ravel()).plot()"
   ]
  },
  {
   "cell_type": "code",
   "execution_count": 141,
   "metadata": {},
   "outputs": [
    {
     "data": {
      "text/plain": [
       "array([  3,  17,  18,  19,  26,  30,  58,  64,  65,  69,  75,  76,  80,\n",
       "        86,  95, 111, 112, 124, 125], dtype=int64)"
      ]
     },
     "execution_count": 141,
     "metadata": {},
     "output_type": "execute_result"
    }
   ],
   "source": [
    "np.where(y_predict==0)[0]"
   ]
  },
  {
   "cell_type": "code",
   "execution_count": 134,
   "metadata": {},
   "outputs": [
    {
     "data": {
      "text/plain": [
       "array(['Angola', 'Bulgaria', 'Burkina Faso', 'Burundi', 'China', 'Cuba',\n",
       "       'Japan', 'Lesotho', 'Liberia', 'Malawi', 'Mozambique', 'Namibia',\n",
       "       'Niger', 'Papua New Guinea', 'Rwanda', 'Thailand',\n",
       "       'Trinidad And Tobago', 'Zambia', 'Zimbabwe'], dtype=object)"
      ]
     },
     "execution_count": 134,
     "metadata": {},
     "output_type": "execute_result"
    }
   ],
   "source": [
    "data.location.unique()[np.where(y_predict==0)[0]]"
   ]
  },
  {
   "cell_type": "code",
   "execution_count": 102,
   "metadata": {},
   "outputs": [
    {
     "data": {
      "text/plain": [
       "array(['Benin', 'Botswana', 'Cambodia', 'Cameroon', 'Colombia', 'Croatia',\n",
       "       'Ecuador', 'Eritrea', 'Ghana', 'Lesotho', 'Mauritania', 'Namibia',\n",
       "       'New Zealand', 'Niger', 'Papua New Guinea', 'Slovenia',\n",
       "       'South Sudan', 'Spain', 'Thailand', 'Trinidad And Tobago',\n",
       "       'Tunisia', 'Uruguay', 'Vietnam', 'Zambia'], dtype=object)"
      ]
     },
     "execution_count": 102,
     "metadata": {},
     "output_type": "execute_result"
    }
   ],
   "source": [
    "data.location.unique()[np.where(y_test==0)[0]]"
   ]
  },
  {
   "cell_type": "code",
   "execution_count": 117,
   "metadata": {},
   "outputs": [
    {
     "data": {
      "text/plain": [
       "array([  3,  17,  19,  30,  32,  58,  64,  65,  76,  80,  95, 106, 111,\n",
       "       120, 124], dtype=int64)"
      ]
     },
     "execution_count": 117,
     "metadata": {},
     "output_type": "execute_result"
    }
   ],
   "source": [
    "np.where(y_predict==0)[0]"
   ]
  },
  {
   "cell_type": "markdown",
   "metadata": {},
   "source": [
    "What we talked about: do not use 0, fill with previous day's values. "
   ]
  },
  {
   "cell_type": "code",
   "execution_count": 121,
   "metadata": {},
   "outputs": [
    {
     "data": {
      "text/plain": [
       "17766    19.189104\n",
       "17767    15.289457\n",
       "17768     2.394470\n",
       "17769     0.152132\n",
       "17770    30.378944\n",
       "           ...    \n",
       "17887     3.704899\n",
       "17888     2.672674\n",
       "17889     0.000000\n",
       "17890     0.000000\n",
       "17891     0.807378\n",
       "Name: new_cases_weighted, Length: 126, dtype: float64"
      ]
     },
     "execution_count": 121,
     "metadata": {},
     "output_type": "execute_result"
    }
   ],
   "source": [
    "y_test"
   ]
  },
  {
   "cell_type": "code",
   "execution_count": null,
   "metadata": {},
   "outputs": [],
   "source": [
    "np.where(y_predict==0)[0]"
   ]
  },
  {
   "cell_type": "code",
   "execution_count": 103,
   "metadata": {},
   "outputs": [
    {
     "data": {
      "text/plain": [
       "array([0., 0., 0., 0., 0., 0., 0., 0., 0., 0., 0., 0., 0., 0., 0.])"
      ]
     },
     "execution_count": 103,
     "metadata": {},
     "output_type": "execute_result"
    }
   ],
   "source": [
    "y_predict[y_predict==0]"
   ]
  },
  {
   "cell_type": "code",
   "execution_count": 104,
   "metadata": {},
   "outputs": [
    {
     "data": {
      "text/plain": [
       "<matplotlib.axes._subplots.AxesSubplot at 0x1ccc1cf1188>"
      ]
     },
     "execution_count": 104,
     "metadata": {},
     "output_type": "execute_result"
    },
    {
     "data": {
      "image/png": "[encoded data removed]",
      "text/plain": [
       "<Figure size 432x288 with 1 Axes>"
      ]
     },
     "metadata": {
      "needs_background": "light"
     },
     "output_type": "display_data"
    }
   ],
   "source": [
    "predict_zeros = data[data.location.isin(data.location.unique()[np.where(y_predict==0)[0]])]\n",
    "predict_zeros[predict_zeros.time_index > 128].set_index(['time_index', 'location']).new_cases_weighted.unstack().plot(legend=False)"
   ]
  },
  {
   "cell_type": "code",
   "execution_count": 105,
   "metadata": {},
   "outputs": [
    {
     "data": {
      "text/html": [
       "<div>\n",
       "<style scoped>\n",
       "    .dataframe tbody tr th:only-of-type {\n",
       "        vertical-align: middle;\n",
       "    }\n",
       "\n",
       "    .dataframe tbody tr th {\n",
       "        vertical-align: top;\n",
       "    }\n",
       "\n",
       "    .dataframe thead th {\n",
       "        text-align: right;\n",
       "    }\n",
       "</style>\n",
       "<table border=\"1\" class=\"dataframe\">\n",
       "  <thead>\n",
       "    <tr style=\"text-align: right;\">\n",
       "      <th></th>\n",
       "      <th></th>\n",
       "      <th>date</th>\n",
       "      <th>days_since_first_case</th>\n",
       "      <th>new_cases_weighted</th>\n",
       "      <th>new_tests_weighted</th>\n",
       "      <th>new_recovered_weighted</th>\n",
       "      <th>new_deaths_weighted</th>\n",
       "      <th>c1_school_closing</th>\n",
       "      <th>c2_workplace_closing</th>\n",
       "      <th>c3_cancel_public_events</th>\n",
       "      <th>c4_restrictions_on_gatherings</th>\n",
       "      <th>...</th>\n",
       "      <th>aged_65_older_missing_flag</th>\n",
       "      <th>aged_70_older_missing_flag</th>\n",
       "      <th>gdp_per_capita_missing_flag</th>\n",
       "      <th>extreme_poverty_missing_flag</th>\n",
       "      <th>cvd_death_rate_missing_flag</th>\n",
       "      <th>diabetes_prevalence_missing_flag</th>\n",
       "      <th>female_smokers_missing_flag</th>\n",
       "      <th>male_smokers_missing_flag</th>\n",
       "      <th>handwashing_facilities_missing_flag</th>\n",
       "      <th>hospital_beds_per_thousand_missing_flag</th>\n",
       "    </tr>\n",
       "    <tr>\n",
       "      <th>time_index</th>\n",
       "      <th>location</th>\n",
       "      <th></th>\n",
       "      <th></th>\n",
       "      <th></th>\n",
       "      <th></th>\n",
       "      <th></th>\n",
       "      <th></th>\n",
       "      <th></th>\n",
       "      <th></th>\n",
       "      <th></th>\n",
       "      <th></th>\n",
       "      <th></th>\n",
       "      <th></th>\n",
       "      <th></th>\n",
       "      <th></th>\n",
       "      <th></th>\n",
       "      <th></th>\n",
       "      <th></th>\n",
       "      <th></th>\n",
       "      <th></th>\n",
       "      <th></th>\n",
       "      <th></th>\n",
       "    </tr>\n",
       "  </thead>\n",
       "  <tbody>\n",
       "    <tr>\n",
       "      <th>0</th>\n",
       "      <th>Angola</th>\n",
       "      <td>2020-01-22</td>\n",
       "      <td>0</td>\n",
       "      <td>0.000000</td>\n",
       "      <td>0.0</td>\n",
       "      <td>0.000000</td>\n",
       "      <td>0.000000</td>\n",
       "      <td>0.0</td>\n",
       "      <td>0.0</td>\n",
       "      <td>0.0</td>\n",
       "      <td>0.0</td>\n",
       "      <td>...</td>\n",
       "      <td>1</td>\n",
       "      <td>1</td>\n",
       "      <td>1</td>\n",
       "      <td>1</td>\n",
       "      <td>1</td>\n",
       "      <td>1</td>\n",
       "      <td>1</td>\n",
       "      <td>1</td>\n",
       "      <td>1</td>\n",
       "      <td>1</td>\n",
       "    </tr>\n",
       "    <tr>\n",
       "      <th>1</th>\n",
       "      <th>Angola</th>\n",
       "      <td>2020-01-23</td>\n",
       "      <td>0</td>\n",
       "      <td>0.000000</td>\n",
       "      <td>0.0</td>\n",
       "      <td>0.000000</td>\n",
       "      <td>0.000000</td>\n",
       "      <td>0.0</td>\n",
       "      <td>0.0</td>\n",
       "      <td>0.0</td>\n",
       "      <td>0.0</td>\n",
       "      <td>...</td>\n",
       "      <td>1</td>\n",
       "      <td>1</td>\n",
       "      <td>1</td>\n",
       "      <td>1</td>\n",
       "      <td>1</td>\n",
       "      <td>1</td>\n",
       "      <td>1</td>\n",
       "      <td>1</td>\n",
       "      <td>1</td>\n",
       "      <td>1</td>\n",
       "    </tr>\n",
       "    <tr>\n",
       "      <th>2</th>\n",
       "      <th>Angola</th>\n",
       "      <td>2020-01-24</td>\n",
       "      <td>0</td>\n",
       "      <td>0.000000</td>\n",
       "      <td>0.0</td>\n",
       "      <td>0.000000</td>\n",
       "      <td>0.000000</td>\n",
       "      <td>0.0</td>\n",
       "      <td>0.0</td>\n",
       "      <td>0.0</td>\n",
       "      <td>0.0</td>\n",
       "      <td>...</td>\n",
       "      <td>1</td>\n",
       "      <td>1</td>\n",
       "      <td>1</td>\n",
       "      <td>1</td>\n",
       "      <td>1</td>\n",
       "      <td>1</td>\n",
       "      <td>1</td>\n",
       "      <td>1</td>\n",
       "      <td>1</td>\n",
       "      <td>1</td>\n",
       "    </tr>\n",
       "    <tr>\n",
       "      <th>3</th>\n",
       "      <th>Angola</th>\n",
       "      <td>2020-01-25</td>\n",
       "      <td>0</td>\n",
       "      <td>0.000000</td>\n",
       "      <td>0.0</td>\n",
       "      <td>0.000000</td>\n",
       "      <td>0.000000</td>\n",
       "      <td>0.0</td>\n",
       "      <td>0.0</td>\n",
       "      <td>0.0</td>\n",
       "      <td>0.0</td>\n",
       "      <td>...</td>\n",
       "      <td>1</td>\n",
       "      <td>1</td>\n",
       "      <td>1</td>\n",
       "      <td>1</td>\n",
       "      <td>1</td>\n",
       "      <td>1</td>\n",
       "      <td>1</td>\n",
       "      <td>1</td>\n",
       "      <td>1</td>\n",
       "      <td>1</td>\n",
       "    </tr>\n",
       "    <tr>\n",
       "      <th>4</th>\n",
       "      <th>Angola</th>\n",
       "      <td>2020-01-26</td>\n",
       "      <td>0</td>\n",
       "      <td>0.000000</td>\n",
       "      <td>0.0</td>\n",
       "      <td>0.000000</td>\n",
       "      <td>0.000000</td>\n",
       "      <td>0.0</td>\n",
       "      <td>0.0</td>\n",
       "      <td>0.0</td>\n",
       "      <td>0.0</td>\n",
       "      <td>...</td>\n",
       "      <td>1</td>\n",
       "      <td>1</td>\n",
       "      <td>1</td>\n",
       "      <td>1</td>\n",
       "      <td>1</td>\n",
       "      <td>1</td>\n",
       "      <td>1</td>\n",
       "      <td>1</td>\n",
       "      <td>1</td>\n",
       "      <td>1</td>\n",
       "    </tr>\n",
       "    <tr>\n",
       "      <th>...</th>\n",
       "      <th>...</th>\n",
       "      <td>...</td>\n",
       "      <td>...</td>\n",
       "      <td>...</td>\n",
       "      <td>...</td>\n",
       "      <td>...</td>\n",
       "      <td>...</td>\n",
       "      <td>...</td>\n",
       "      <td>...</td>\n",
       "      <td>...</td>\n",
       "      <td>...</td>\n",
       "      <td>...</td>\n",
       "      <td>...</td>\n",
       "      <td>...</td>\n",
       "      <td>...</td>\n",
       "      <td>...</td>\n",
       "      <td>...</td>\n",
       "      <td>...</td>\n",
       "      <td>...</td>\n",
       "      <td>...</td>\n",
       "      <td>...</td>\n",
       "      <td>...</td>\n",
       "    </tr>\n",
       "    <tr>\n",
       "      <th>138</th>\n",
       "      <th>Zambia</th>\n",
       "      <td>2020-06-08</td>\n",
       "      <td>82</td>\n",
       "      <td>0.000000</td>\n",
       "      <td>0.0</td>\n",
       "      <td>0.000000</td>\n",
       "      <td>0.000000</td>\n",
       "      <td>3.0</td>\n",
       "      <td>2.0</td>\n",
       "      <td>0.0</td>\n",
       "      <td>3.0</td>\n",
       "      <td>...</td>\n",
       "      <td>0</td>\n",
       "      <td>0</td>\n",
       "      <td>0</td>\n",
       "      <td>0</td>\n",
       "      <td>0</td>\n",
       "      <td>0</td>\n",
       "      <td>0</td>\n",
       "      <td>0</td>\n",
       "      <td>0</td>\n",
       "      <td>0</td>\n",
       "    </tr>\n",
       "    <tr>\n",
       "      <th>139</th>\n",
       "      <th>Zambia</th>\n",
       "      <td>2020-06-09</td>\n",
       "      <td>83</td>\n",
       "      <td>2.502182</td>\n",
       "      <td>0.0</td>\n",
       "      <td>0.000000</td>\n",
       "      <td>0.163186</td>\n",
       "      <td>3.0</td>\n",
       "      <td>2.0</td>\n",
       "      <td>0.0</td>\n",
       "      <td>3.0</td>\n",
       "      <td>...</td>\n",
       "      <td>0</td>\n",
       "      <td>0</td>\n",
       "      <td>0</td>\n",
       "      <td>0</td>\n",
       "      <td>0</td>\n",
       "      <td>0</td>\n",
       "      <td>0</td>\n",
       "      <td>0</td>\n",
       "      <td>0</td>\n",
       "      <td>0</td>\n",
       "    </tr>\n",
       "    <tr>\n",
       "      <th>140</th>\n",
       "      <th>Zambia</th>\n",
       "      <td>2020-06-10</td>\n",
       "      <td>84</td>\n",
       "      <td>0.000000</td>\n",
       "      <td>0.0</td>\n",
       "      <td>0.000000</td>\n",
       "      <td>0.000000</td>\n",
       "      <td>3.0</td>\n",
       "      <td>2.0</td>\n",
       "      <td>0.0</td>\n",
       "      <td>3.0</td>\n",
       "      <td>...</td>\n",
       "      <td>0</td>\n",
       "      <td>0</td>\n",
       "      <td>0</td>\n",
       "      <td>0</td>\n",
       "      <td>0</td>\n",
       "      <td>0</td>\n",
       "      <td>0</td>\n",
       "      <td>0</td>\n",
       "      <td>0</td>\n",
       "      <td>0</td>\n",
       "    </tr>\n",
       "    <tr>\n",
       "      <th>141</th>\n",
       "      <th>Zambia</th>\n",
       "      <td>2020-06-11</td>\n",
       "      <td>85</td>\n",
       "      <td>2.828553</td>\n",
       "      <td>0.0</td>\n",
       "      <td>0.000000</td>\n",
       "      <td>0.000000</td>\n",
       "      <td>3.0</td>\n",
       "      <td>2.0</td>\n",
       "      <td>0.0</td>\n",
       "      <td>3.0</td>\n",
       "      <td>...</td>\n",
       "      <td>0</td>\n",
       "      <td>0</td>\n",
       "      <td>0</td>\n",
       "      <td>0</td>\n",
       "      <td>0</td>\n",
       "      <td>0</td>\n",
       "      <td>0</td>\n",
       "      <td>0</td>\n",
       "      <td>0</td>\n",
       "      <td>0</td>\n",
       "    </tr>\n",
       "    <tr>\n",
       "      <th>142</th>\n",
       "      <th>Zambia</th>\n",
       "      <td>2020-06-12</td>\n",
       "      <td>86</td>\n",
       "      <td>0.000000</td>\n",
       "      <td>0.0</td>\n",
       "      <td>10.443889</td>\n",
       "      <td>0.000000</td>\n",
       "      <td>3.0</td>\n",
       "      <td>2.0</td>\n",
       "      <td>0.0</td>\n",
       "      <td>3.0</td>\n",
       "      <td>...</td>\n",
       "      <td>0</td>\n",
       "      <td>0</td>\n",
       "      <td>0</td>\n",
       "      <td>0</td>\n",
       "      <td>0</td>\n",
       "      <td>0</td>\n",
       "      <td>0</td>\n",
       "      <td>0</td>\n",
       "      <td>0</td>\n",
       "      <td>0</td>\n",
       "    </tr>\n",
       "  </tbody>\n",
       "</table>\n",
       "<p>2145 rows × 309 columns</p>\n",
       "</div>"
      ],
      "text/plain": [
       "                           date  days_since_first_case  new_cases_weighted  \\\n",
       "time_index location                                                          \n",
       "0          Angola    2020-01-22                      0            0.000000   \n",
       "1          Angola    2020-01-23                      0            0.000000   \n",
       "2          Angola    2020-01-24                      0            0.000000   \n",
       "3          Angola    2020-01-25                      0            0.000000   \n",
       "4          Angola    2020-01-26                      0            0.000000   \n",
       "...                         ...                    ...                 ...   \n",
       "138        Zambia    2020-06-08                     82            0.000000   \n",
       "139        Zambia    2020-06-09                     83            2.502182   \n",
       "140        Zambia    2020-06-10                     84            0.000000   \n",
       "141        Zambia    2020-06-11                     85            2.828553   \n",
       "142        Zambia    2020-06-12                     86            0.000000   \n",
       "\n",
       "                     new_tests_weighted  new_recovered_weighted  \\\n",
       "time_index location                                               \n",
       "0          Angola                   0.0                0.000000   \n",
       "1          Angola                   0.0                0.000000   \n",
       "2          Angola                   0.0                0.000000   \n",
       "3          Angola                   0.0                0.000000   \n",
       "4          Angola                   0.0                0.000000   \n",
       "...                                 ...                     ...   \n",
       "138        Zambia                   0.0                0.000000   \n",
       "139        Zambia                   0.0                0.000000   \n",
       "140        Zambia                   0.0                0.000000   \n",
       "141        Zambia                   0.0                0.000000   \n",
       "142        Zambia                   0.0               10.443889   \n",
       "\n",
       "                     new_deaths_weighted  c1_school_closing  \\\n",
       "time_index location                                           \n",
       "0          Angola               0.000000                0.0   \n",
       "1          Angola               0.000000                0.0   \n",
       "2          Angola               0.000000                0.0   \n",
       "3          Angola               0.000000                0.0   \n",
       "4          Angola               0.000000                0.0   \n",
       "...                                  ...                ...   \n",
       "138        Zambia               0.000000                3.0   \n",
       "139        Zambia               0.163186                3.0   \n",
       "140        Zambia               0.000000                3.0   \n",
       "141        Zambia               0.000000                3.0   \n",
       "142        Zambia               0.000000                3.0   \n",
       "\n",
       "                     c2_workplace_closing  c3_cancel_public_events  \\\n",
       "time_index location                                                  \n",
       "0          Angola                     0.0                      0.0   \n",
       "1          Angola                     0.0                      0.0   \n",
       "2          Angola                     0.0                      0.0   \n",
       "3          Angola                     0.0                      0.0   \n",
       "4          Angola                     0.0                      0.0   \n",
       "...                                   ...                      ...   \n",
       "138        Zambia                     2.0                      0.0   \n",
       "139        Zambia                     2.0                      0.0   \n",
       "140        Zambia                     2.0                      0.0   \n",
       "141        Zambia                     2.0                      0.0   \n",
       "142        Zambia                     2.0                      0.0   \n",
       "\n",
       "                     c4_restrictions_on_gatherings  ...  \\\n",
       "time_index location                                 ...   \n",
       "0          Angola                              0.0  ...   \n",
       "1          Angola                              0.0  ...   \n",
       "2          Angola                              0.0  ...   \n",
       "3          Angola                              0.0  ...   \n",
       "4          Angola                              0.0  ...   \n",
       "...                                            ...  ...   \n",
       "138        Zambia                              3.0  ...   \n",
       "139        Zambia                              3.0  ...   \n",
       "140        Zambia                              3.0  ...   \n",
       "141        Zambia                              3.0  ...   \n",
       "142        Zambia                              3.0  ...   \n",
       "\n",
       "                     aged_65_older_missing_flag  aged_70_older_missing_flag  \\\n",
       "time_index location                                                           \n",
       "0          Angola                             1                           1   \n",
       "1          Angola                             1                           1   \n",
       "2          Angola                             1                           1   \n",
       "3          Angola                             1                           1   \n",
       "4          Angola                             1                           1   \n",
       "...                                         ...                         ...   \n",
       "138        Zambia                             0                           0   \n",
       "139        Zambia                             0                           0   \n",
       "140        Zambia                             0                           0   \n",
       "141        Zambia                             0                           0   \n",
       "142        Zambia                             0                           0   \n",
       "\n",
       "                     gdp_per_capita_missing_flag  \\\n",
       "time_index location                                \n",
       "0          Angola                              1   \n",
       "1          Angola                              1   \n",
       "2          Angola                              1   \n",
       "3          Angola                              1   \n",
       "4          Angola                              1   \n",
       "...                                          ...   \n",
       "138        Zambia                              0   \n",
       "139        Zambia                              0   \n",
       "140        Zambia                              0   \n",
       "141        Zambia                              0   \n",
       "142        Zambia                              0   \n",
       "\n",
       "                     extreme_poverty_missing_flag  \\\n",
       "time_index location                                 \n",
       "0          Angola                               1   \n",
       "1          Angola                               1   \n",
       "2          Angola                               1   \n",
       "3          Angola                               1   \n",
       "4          Angola                               1   \n",
       "...                                           ...   \n",
       "138        Zambia                               0   \n",
       "139        Zambia                               0   \n",
       "140        Zambia                               0   \n",
       "141        Zambia                               0   \n",
       "142        Zambia                               0   \n",
       "\n",
       "                     cvd_death_rate_missing_flag  \\\n",
       "time_index location                                \n",
       "0          Angola                              1   \n",
       "1          Angola                              1   \n",
       "2          Angola                              1   \n",
       "3          Angola                              1   \n",
       "4          Angola                              1   \n",
       "...                                          ...   \n",
       "138        Zambia                              0   \n",
       "139        Zambia                              0   \n",
       "140        Zambia                              0   \n",
       "141        Zambia                              0   \n",
       "142        Zambia                              0   \n",
       "\n",
       "                     diabetes_prevalence_missing_flag  \\\n",
       "time_index location                                     \n",
       "0          Angola                                   1   \n",
       "1          Angola                                   1   \n",
       "2          Angola                                   1   \n",
       "3          Angola                                   1   \n",
       "4          Angola                                   1   \n",
       "...                                               ...   \n",
       "138        Zambia                                   0   \n",
       "139        Zambia                                   0   \n",
       "140        Zambia                                   0   \n",
       "141        Zambia                                   0   \n",
       "142        Zambia                                   0   \n",
       "\n",
       "                     female_smokers_missing_flag  male_smokers_missing_flag  \\\n",
       "time_index location                                                           \n",
       "0          Angola                              1                          1   \n",
       "1          Angola                              1                          1   \n",
       "2          Angola                              1                          1   \n",
       "3          Angola                              1                          1   \n",
       "4          Angola                              1                          1   \n",
       "...                                          ...                        ...   \n",
       "138        Zambia                              0                          0   \n",
       "139        Zambia                              0                          0   \n",
       "140        Zambia                              0                          0   \n",
       "141        Zambia                              0                          0   \n",
       "142        Zambia                              0                          0   \n",
       "\n",
       "                     handwashing_facilities_missing_flag  \\\n",
       "time_index location                                        \n",
       "0          Angola                                      1   \n",
       "1          Angola                                      1   \n",
       "2          Angola                                      1   \n",
       "3          Angola                                      1   \n",
       "4          Angola                                      1   \n",
       "...                                                  ...   \n",
       "138        Zambia                                      0   \n",
       "139        Zambia                                      0   \n",
       "140        Zambia                                      0   \n",
       "141        Zambia                                      0   \n",
       "142        Zambia                                      0   \n",
       "\n",
       "                     hospital_beds_per_thousand_missing_flag  \n",
       "time_index location                                           \n",
       "0          Angola                                          1  \n",
       "1          Angola                                          1  \n",
       "2          Angola                                          1  \n",
       "3          Angola                                          1  \n",
       "4          Angola                                          1  \n",
       "...                                                      ...  \n",
       "138        Zambia                                          0  \n",
       "139        Zambia                                          0  \n",
       "140        Zambia                                          0  \n",
       "141        Zambia                                          0  \n",
       "142        Zambia                                          0  \n",
       "\n",
       "[2145 rows x 309 columns]"
      ]
     },
     "execution_count": 105,
     "metadata": {},
     "output_type": "execute_result"
    }
   ],
   "source": [
    "data[data.location.isin(data.location.unique()[np.where(y_predict==0)[0]])].set_index(['time_index', 'location'])"
   ]
  },
  {
   "cell_type": "code",
   "execution_count": 106,
   "metadata": {},
   "outputs": [
    {
     "data": {
      "text/plain": [
       "<matplotlib.axes._subplots.AxesSubplot at 0x1ccc51bb0c8>"
      ]
     },
     "execution_count": 106,
     "metadata": {},
     "output_type": "execute_result"
    },
    {
     "data": {
      "image/png": "[encoded data removed]",
      "text/plain": [
       "<Figure size 432x288 with 1 Axes>"
      ]
     },
     "metadata": {
      "needs_background": "light"
     },
     "output_type": "display_data"
    }
   ],
   "source": [
    "data[data.location.isin(data.location.unique()[np.where(y_predict==0)[0]])].set_index(['time_index', 'location']).new_cases_weighted.unstack().plot(legend=False)"
   ]
  },
  {
   "cell_type": "code",
   "execution_count": 151,
   "metadata": {},
   "outputs": [],
   "source": [
    "coefarg = np.argsort(np.abs(coef))[::-1]"
   ]
  },
  {
   "cell_type": "code",
   "execution_count": 152,
   "metadata": {},
   "outputs": [
    {
     "data": {
      "text/plain": [
       "array([ 2.24625337e+01,  9.52877375e+00, -7.43568207e+00,  6.68537755e+00,\n",
       "       -5.82199554e+00, -4.94514358e+00,  4.44578400e+00, -4.40159454e+00,\n",
       "       -4.37375828e+00,  4.27296817e+00,  4.21178824e+00,  4.18762700e+00,\n",
       "        4.18039943e+00, -4.13008529e+00,  3.78896522e+00, -3.65301730e+00,\n",
       "        3.64391341e+00,  3.63870993e+00,  3.39555078e+00,  3.36142961e+00,\n",
       "        2.93914884e+00,  2.91719261e+00,  2.90384983e+00, -2.86941712e+00,\n",
       "       -2.62542896e+00, -2.62459730e+00, -2.62158158e+00, -2.53775932e+00,\n",
       "        2.43591553e+00,  2.43223146e+00, -2.34546261e+00,  2.33939526e+00,\n",
       "       -2.29378381e+00, -2.26023740e+00,  2.07258693e+00, -2.03544989e+00,\n",
       "       -1.84153482e+00, -1.76220159e+00,  1.63588204e+00, -1.48261489e+00,\n",
       "        1.42830785e+00, -1.42437979e+00, -1.40055067e+00,  1.35310811e+00,\n",
       "       -1.33541281e+00,  1.31550253e+00, -1.31041074e+00,  1.25710601e+00,\n",
       "        1.22015910e+00,  1.19859677e+00,  1.17621262e+00,  1.12226738e+00,\n",
       "       -1.10853931e+00,  1.09565618e+00, -1.07358182e+00, -1.05978259e+00,\n",
       "       -1.03685950e+00, -1.03547434e+00,  1.02794632e+00,  1.00127226e+00,\n",
       "        9.91704299e-01,  9.59392325e-01, -9.55095349e-01, -9.29552602e-01,\n",
       "        9.06090925e-01, -9.00757091e-01, -8.95212077e-01, -8.70760244e-01,\n",
       "       -8.56167262e-01, -8.48446407e-01,  8.21385684e-01, -8.18293484e-01,\n",
       "        7.83973847e-01, -7.67533133e-01,  7.59015776e-01,  7.46895009e-01,\n",
       "        7.41381432e-01, -7.25081809e-01,  7.01734542e-01, -6.99066262e-01,\n",
       "       -6.63611319e-01,  6.62712866e-01,  6.54232452e-01, -6.35938208e-01,\n",
       "        6.34170525e-01, -6.32628038e-01,  6.31632000e-01, -6.30787274e-01,\n",
       "       -6.12159536e-01, -6.04857478e-01, -5.84076423e-01, -5.53360721e-01,\n",
       "        5.52299783e-01,  5.37153518e-01,  5.05347253e-01, -5.01408222e-01,\n",
       "        5.00574944e-01,  4.97612014e-01,  4.94025333e-01,  4.82425828e-01,\n",
       "       -4.79112156e-01,  4.60764034e-01,  4.58655545e-01, -4.52417474e-01,\n",
       "       -4.51417030e-01, -4.50506316e-01,  4.48439140e-01,  4.41573695e-01,\n",
       "        4.24859286e-01,  4.23040232e-01, -4.18201275e-01, -4.14926403e-01,\n",
       "        4.05109949e-01, -4.01482198e-01, -4.00702811e-01,  3.98924693e-01,\n",
       "        3.82055779e-01, -3.81057326e-01, -3.42436121e-01, -3.42389925e-01,\n",
       "        3.32099026e-01,  3.18502857e-01, -3.08538344e-01,  3.02895605e-01,\n",
       "        2.93589187e-01, -2.86204455e-01,  2.74553030e-01,  2.73223139e-01,\n",
       "       -2.59237025e-01, -2.47952656e-01, -2.34291918e-01,  2.32099308e-01,\n",
       "       -2.30267725e-01,  2.26830394e-01, -2.21487961e-01, -2.19483021e-01,\n",
       "       -2.16648258e-01,  2.12527412e-01, -2.12205952e-01,  2.11750589e-01,\n",
       "        2.05324346e-01,  1.95907960e-01,  1.92624694e-01,  1.91308882e-01,\n",
       "        1.84655351e-01,  1.81377274e-01, -1.75677106e-01,  1.75306907e-01,\n",
       "        1.71761054e-01,  1.68146467e-01,  1.66717886e-01, -1.62744476e-01,\n",
       "       -1.58681700e-01,  1.55003143e-01,  1.54448782e-01, -1.50515817e-01,\n",
       "       -1.46425481e-01,  1.41780724e-01, -1.41347586e-01, -1.36291493e-01,\n",
       "        1.34876534e-01, -1.33976155e-01, -1.33358861e-01, -1.32616785e-01,\n",
       "       -1.24784146e-01, -1.24559636e-01, -1.15212290e-01,  1.13200251e-01,\n",
       "       -1.10801719e-01, -1.07418954e-01,  1.05951855e-01,  1.05347784e-01,\n",
       "       -1.03215873e-01,  9.91771914e-02, -9.91540246e-02,  9.89859878e-02,\n",
       "        9.59079796e-02, -9.57241334e-02, -9.41558845e-02, -9.35892358e-02,\n",
       "        9.27160713e-02, -8.02526027e-02,  8.01272541e-02, -7.93170898e-02,\n",
       "        7.83628536e-02,  7.56002456e-02, -7.55899571e-02,  7.52913416e-02,\n",
       "       -7.48972249e-02, -7.29678510e-02, -7.22124772e-02, -7.21950022e-02,\n",
       "        6.95290318e-02, -6.86432834e-02,  6.83965687e-02,  6.78030309e-02,\n",
       "        6.75246097e-02,  6.69156349e-02,  6.66510198e-02, -6.62975155e-02,\n",
       "        6.36901925e-02,  6.18831093e-02,  6.02062134e-02,  5.91865823e-02,\n",
       "        5.88261901e-02,  5.76666353e-02, -5.69349482e-02,  5.67008517e-02,\n",
       "       -5.64083660e-02,  5.42947384e-02,  5.41604666e-02, -5.41113823e-02,\n",
       "        5.32427198e-02, -5.29467498e-02, -5.26158604e-02,  5.22549947e-02,\n",
       "        5.18009401e-02, -5.00949624e-02, -4.92458486e-02,  4.90747648e-02,\n",
       "       -4.81822719e-02,  4.79264259e-02,  4.75674297e-02, -4.75143326e-02,\n",
       "       -4.72728214e-02, -4.49253668e-02,  4.40053874e-02,  4.36747306e-02,\n",
       "        4.34293747e-02,  4.20157567e-02, -4.13681414e-02, -3.97757944e-02,\n",
       "       -3.60302551e-02, -3.57358295e-02, -3.57118514e-02,  3.51702373e-02,\n",
       "       -3.50990288e-02,  3.37883614e-02,  3.30764295e-02, -3.22245449e-02,\n",
       "       -3.20552588e-02, -3.19990072e-02, -3.10774887e-02, -3.06789607e-02,\n",
       "       -3.03706165e-02,  3.00470864e-02,  2.94668264e-02, -2.89773291e-02,\n",
       "        2.87963563e-02, -2.82774534e-02, -2.74403936e-02, -2.53087676e-02,\n",
       "       -2.50549091e-02,  2.48797313e-02,  2.48668482e-02, -2.46239184e-02,\n",
       "        2.42050296e-02,  2.40415003e-02,  2.26395968e-02, -2.23144087e-02,\n",
       "       -2.21558463e-02,  2.21420934e-02, -2.20066607e-02,  2.20059375e-02,\n",
       "        2.08136559e-02,  1.88744313e-02, -1.85882099e-02,  1.84815268e-02,\n",
       "        1.82166744e-02,  1.77966315e-02, -1.77785907e-02,  1.77292246e-02,\n",
       "        1.74515469e-02, -1.70080168e-02,  1.68760450e-02,  1.68756469e-02,\n",
       "       -1.67312303e-02,  1.64577750e-02, -1.54760878e-02,  1.54741940e-02,\n",
       "       -1.42892441e-02,  1.35130084e-02,  1.31624178e-02,  1.29324730e-02,\n",
       "        1.29324730e-02,  1.29324730e-02,  1.29324730e-02,  1.23857397e-02,\n",
       "       -1.19759843e-02, -1.18713518e-02,  1.18238239e-02,  1.14302523e-02,\n",
       "        1.06281424e-02, -1.03347242e-02, -1.02719918e-02,  1.00583096e-02,\n",
       "        9.56003309e-03,  9.44007897e-03, -9.27623849e-03,  8.68575096e-03,\n",
       "        8.34288782e-03,  8.18825548e-03,  7.68831994e-03, -6.84523673e-03,\n",
       "        6.09480228e-03, -4.27783148e-03, -3.39850629e-03,  2.40752413e-03,\n",
       "       -8.36053432e-04])"
      ]
     },
     "execution_count": 152,
     "metadata": {},
     "output_type": "execute_result"
    }
   ],
   "source": [
    "coef[coefarg]"
   ]
  },
  {
   "cell_type": "code",
   "execution_count": 109,
   "metadata": {},
   "outputs": [
    {
     "data": {
      "text/plain": [
       "Index(['new_cases_weighted_rolling_mean_8',\n",
       "       'economic_support_index_rolling_mean_16',\n",
       "       'containment_health_index_rolling_mean_2',\n",
       "       'new_cases_weighted_rolling_mean_4',\n",
       "       'new_tests_weighted_rolling_mean_16',\n",
       "       'economic_support_index_rolling_mean_32',\n",
       "       'e1_income_support_rolling_mean_16',\n",
       "       'e2_debt_contract_relief_rolling_mean_16', 'government_response_index',\n",
       "       'new_cases_weighted_rolling_mean_16',\n",
       "       ...\n",
       "       'united_states_flag', 'costa_rica_flag', 'uganda_flag',\n",
       "       'h5_investment_in_vaccines_rolling_mean_16',\n",
       "       'e4_international_support_rolling_mean_4', 'ivory_coast_flag',\n",
       "       'rwanda_flag', 'chad_flag', 'liberia_flag',\n",
       "       'e4_international_support_rolling_mean_2'],\n",
       "      dtype='object', length=309)"
      ]
     },
     "execution_count": 109,
     "metadata": {},
     "output_type": "execute_result"
    }
   ],
   "source": [
    "data.iloc[:, 2:].columns[coefarg]"
   ]
  },
  {
   "cell_type": "code",
   "execution_count": 110,
   "metadata": {},
   "outputs": [
    {
     "data": {
      "text/plain": [
       "c1_school_closing_missing_flag                          537\n",
       "c2_workplace_closing_missing_flag                       570\n",
       "c3_cancel_public_events_missing_flag                    563\n",
       "c4_restrictions_on_gatherings_missing_flag              557\n",
       "c5_close_public_transport_missing_flag                  564\n",
       "c6_stay_at_home_requirements_missing_flag               537\n",
       "c7_restrictions_on_internal_movement_missing_flag       542\n",
       "c8_international_travel_controls_missing_flag           536\n",
       "containment_health_index_missing_flag                   561\n",
       "e1_income_support_missing_flag                          526\n",
       "e2_debt_contract_relief_missing_flag                    542\n",
       "e3_fiscal_measures_missing_flag                         711\n",
       "e4_international_support_missing_flag                   566\n",
       "economic_support_index_missing_flag                     575\n",
       "government_response_index_missing_flag                  564\n",
       "h1_public_information_campaigns_missing_flag            539\n",
       "h2_testing_policy_missing_flag                          576\n",
       "h3_contact_tracing_missing_flag                         539\n",
       "h4_emergency_investment_in_healthcare_missing_flag      574\n",
       "h5_investment_in_vaccines_missing_flag                  578\n",
       "stringency_index_missing_flag                           559\n",
       "median_age_missing_flag                                3989\n",
       "aged_65_older_missing_flag                             3989\n",
       "aged_70_older_missing_flag                             4097\n",
       "gdp_per_capita_missing_flag                            4078\n",
       "extreme_poverty_missing_flag                           8375\n",
       "cvd_death_rate_missing_flag                            3989\n",
       "diabetes_prevalence_missing_flag                       3989\n",
       "female_smokers_missing_flag                            5817\n",
       "male_smokers_missing_flag                              6009\n",
       "handwashing_facilities_missing_flag                   11630\n",
       "hospital_beds_per_thousand_missing_flag                5007\n",
       "dtype: int64"
      ]
     },
     "execution_count": 110,
     "metadata": {},
     "output_type": "execute_result"
    }
   ],
   "source": [
    "data.loc[:, column_search(data, 'missing')].sum()"
   ]
  },
  {
   "cell_type": "code",
   "execution_count": 94,
   "metadata": {},
   "outputs": [
    {
     "data": {
      "text/plain": [
       "location                                       0\n",
       "date                                           0\n",
       "time_index                                   126\n",
       "government_response_index                   2039\n",
       "containment_health_index                    2039\n",
       "                                           ...  \n",
       "guinea_bissau_flag                         17875\n",
       "algeria_flag                               17875\n",
       "h5_investment_in_vaccines                  17910\n",
       "e4_international_support_rolling_mean_2    17910\n",
       "e4_international_support                   17959\n",
       "Length: 311, dtype: int64"
      ]
     },
     "execution_count": 94,
     "metadata": {},
     "output_type": "execute_result"
    }
   ],
   "source": [
    "(data==0).sum().sort_values()"
   ]
  },
  {
   "cell_type": "code",
   "execution_count": 87,
   "metadata": {},
   "outputs": [
    {
     "data": {
      "text/plain": [
       "309"
      ]
     },
     "execution_count": 87,
     "metadata": {},
     "output_type": "execute_result"
    }
   ],
   "source": [
    "coef.size"
   ]
  },
  {
   "cell_type": "code",
   "execution_count": 79,
   "metadata": {},
   "outputs": [
    {
     "data": {
      "text/plain": [
       "array([ 43, 118, 193, 216, 264, 270, 232,  68, 125, 175, 202, 260, 150,\n",
       "       231, 266, 160, 249, 179, 208, 238,  18, 251, 186, 170, 198, 222,\n",
       "       308, 189, 165, 258, 223, 253, 212, 203, 273, 246, 196, 172, 241,\n",
       "       174, 228, 187, 197, 188, 173, 190, 247, 240, 250, 235, 182, 169,\n",
       "       272, 214, 209, 287, 215, 199, 255, 207, 154, 181, 263, 233, 158,\n",
       "       254, 271, 229, 275, 276, 245, 191, 117, 213, 135,  25, 265, 217,\n",
       "       195, 261, 178,  88, 156, 205,  50, 268,  74, 242, 184, 164, 252,\n",
       "       237, 225, 248, 227, 220,  17,  93, 153, 286, 262, 274, 201, 161,\n",
       "       155, 219, 296, 244, 269, 257, 100, 224,   0, 143, 211, 221, 194,\n",
       "       166, 138, 183, 168, 210, 142, 204, 152, 218, 292, 157, 300, 163,\n",
       "       226,  42, 192, 113, 283,  65, 267, 180, 206, 200, 234, 185, 259,\n",
       "       239, 124,  67, 236,  92,  75, 302, 167, 230,   4,  24, 290, 109,\n",
       "        57, 162, 256,  54, 177, 159, 279,  99, 291, 301, 107, 285, 129,\n",
       "       146, 295,   1, 289,  49, 293, 307, 132, 136, 149, 176, 111, 134,\n",
       "        56, 280, 282, 104,   6,  84,  81, 112, 278,  72,  73, 171, 294,\n",
       "       130,  96, 243, 281, 137,   5,  86, 277, 106,  12,  85,  62, 133,\n",
       "        13,  63, 305,   3, 306, 288, 110,  66,  78,  71, 121,   7,  29,\n",
       "       131,  27,  16,  30,  21,  60,  28,  31,   9,  53,  15,  11,  82,\n",
       "        37,  10,   8,  59,  87,  58,  83,  80, 284,  38, 119,  79,  97,\n",
       "        61,  32,  46, 127,  90,   2, 128,  34,  55,  35, 105, 108,  36,\n",
       "       297, 102,  91,  33,  98,  45,  40,  41, 103,  52,  22,  19,  23,\n",
       "       140,  44,  47, 141,  76,  69,  48, 115, 116,  20,  77,  94, 144,\n",
       "       101,  26,  14, 122,  64,  51,  70, 123,  39, 147, 148,  95, 120,\n",
       "        89, 145, 126, 114, 151, 139, 299, 298, 304, 303], dtype=int64)"
      ]
     },
     "execution_count": 79,
     "metadata": {},
     "output_type": "execute_result"
    }
   ],
   "source": [
    "coef[::-1]"
   ]
  },
  {
   "cell_type": "code",
   "execution_count": null,
   "metadata": {},
   "outputs": [],
   "source": [
    "n_test_days = 1\n",
    "n_days_into_future = 7\n",
    "ys, model =  n_day_forecasting(model_data, n_test_days, n_days_into_future)\n",
    "\n",
    "\n",
    "y_test, y_naive, y_predict = ys\n",
    "y_predict[y_predict<0]=0\n",
    "mae_naive = mean_absolute_error(y_test, y_naive)\n",
    "mae_predict = mean_absolute_error(y_test, y_predict)\n",
    "r2_naive = explained_variance_score(y_test, y_naive)\n",
    "r2_predict = explained_variance_score(y_test, y_predict)\n",
    "\n",
    "print('{}-step MAE [Naive, CNN] = [{},{}]'.format(\n",
    "n_days_into_future, mae_naive, mae_predict))\n",
    "print('{}-step R^2 [Naive, CNN] = [{},{}]'.format(\n",
    "n_days_into_future, r2_naive, r2_predict))\n",
    "\n",
    "true_predict_plot(y_test, y_naive, y_predict, title='')\n",
    "residual_diff_plots(y_naive, y_predict, y_test, n_days_into_future, data.location.nunique())"
   ]
  },
  {
   "cell_type": "code",
   "execution_count": null,
   "metadata": {},
   "outputs": [],
   "source": [
    "n_test_days = 1\n",
    "n_days_into_future = 14\n",
    "ys, model =  n_day_forecasting(model_data, n_test_days, n_days_into_future)\n",
    "\n",
    "y_test, y_naive, y_predict = ys\n",
    "y_predict[y_predict<0]=0\n",
    "mae_naive = mean_absolute_error(y_test, y_naive)\n",
    "mae_predict = mean_absolute_error(y_test, y_predict)\n",
    "r2_naive = explained_variance_score(y_test, y_naive)\n",
    "r2_predict = explained_variance_score(y_test, y_predict)\n",
    "\n",
    "print('{}-step MAE [Naive, CNN] = [{},{}]'.format(\n",
    "n_days_into_future, mae_naive, mae_predict))\n",
    "print('{}-step R^2 [Naive, CNN] = [{},{}]'.format(\n",
    "n_days_into_future, r2_naive, r2_predict))\n",
    "\n",
    "true_predict_plot(y_test, y_naive, y_predict, title='')\n",
    "residual_diff_plots(y_naive, y_predict, y_test, n_days_into_future, data.location.nunique())"
   ]
  },
  {
   "cell_type": "markdown",
   "metadata": {},
   "source": [
    "Always seems to be an outliers > 200, see which countries these belong to."
   ]
  },
  {
   "cell_type": "markdown",
   "metadata": {},
   "source": [
    "There are 7 values greater than 300 which clearly stand out as separated from the rest of the values.\n",
    "Let's check if there is anything in common between these points. Using numpy to find the indices at which\n",
    "the values occur to figure out the countries the values come from."
   ]
  },
  {
   "cell_type": "markdown",
   "metadata": {},
   "source": [
    "It turns out all of these large values come from Qatar, let's look at the time series with true and predicted values to see if we can understand what is going on, i.e. why the large values are being underestimated."
   ]
  },
  {
   "cell_type": "code",
   "execution_count": null,
   "metadata": {},
   "outputs": [],
   "source": [
    "rm14_time_series = X.loc[:, ['location','date','new_cases_per_million_rolling_mean_14']].set_index(['location', 'date']).unstack()\n",
    "rm14_time_series.columns = np.array(list(range(len(rm14_time_series.columns))))\n",
    "rm14_time_series = rm14_time_series.loc[:, 15:]\n",
    "rm14_prediction_series = rm14_time_series.copy()\n",
    "\n",
    "baseline_time_series = X.loc[:, ['location','date','new_cases_per_million_rolling_mean_14']].set_index(['location', 'date']).unstack()\n",
    "baseline_time_series.columns = np.array(list(range(len(baseline_time_series.columns))))\n",
    "baseline_time_series = baseline_time_series.shift(14, axis=1).loc[:, 15:]\n",
    "# baseline_time_series = baseline_time_series.dropna(axis=1)\n"
   ]
  },
  {
   "cell_type": "code",
   "execution_count": null,
   "metadata": {},
   "outputs": [],
   "source": [
    "rm14_prediction_series.iloc[:, -(shift):] = predictions"
   ]
  },
  {
   "cell_type": "code",
   "execution_count": null,
   "metadata": {},
   "outputs": [],
   "source": [
    "def plot_prediction_versus_truth_time_series(country_index, shift, truth_time_series, prediction_time_series):\n",
    "    plt.figure(figsize=(5,5))\n",
    "    plt.plot(truth_time_series.columns[:-(shift+1)], truth_time_series.iloc[country_index,:-(shift+1)], label='True past')\n",
    "    plt.plot(truth_time_series.columns[-(shift+1):], truth_time_series.iloc[country_index,-(shift+1):], label='True future')\n",
    "    plt.plot(truth_time_series.columns[-(shift+1):], prediction_time_series.iloc[country_index, -(shift+1):], label='Predicted future', linestyle='--')\n",
    "    plt.legend(loc=(1,0.5))\n",
    "    plt.show()\n",
    "    return None"
   ]
  },
  {
   "cell_type": "code",
   "execution_count": null,
   "metadata": {},
   "outputs": [],
   "source": [
    "X[X.location=='Afghanistan'].loc[:, ['new_cases_per_million', 'new_cases_per_million_rolling_mean_3', 'new_cases_per_million_rolling_mean_7', 'new_cases_per_million_rolling_mean_14']].plot()"
   ]
  },
  {
   "cell_type": "code",
   "execution_count": null,
   "metadata": {},
   "outputs": [],
   "source": [
    "rm14_time_series.iloc[0,:].plot()\n",
    "n_cases_time_series.iloc[0,:].plot()"
   ]
  },
  {
   "cell_type": "code",
   "execution_count": null,
   "metadata": {
    "scrolled": false
   },
   "outputs": [],
   "source": [
    "shift = 14\n",
    "for country_index in range(rm14_time_series.shape[0]):\n",
    "    plot_prediction_versus_truth_time_series(country_index, shift, rm14_time_series, rm14_prediction_series)"
   ]
  },
  {
   "cell_type": "code",
   "execution_count": null,
   "metadata": {},
   "outputs": [],
   "source": [
    "plt.figure(figsize=(10,10))\n",
    "plt.plot(n_cases_time_series.columns[:-7], n_cases_time_series.iloc[92,:-7], label='True past')\n",
    "plt.plot(n_cases_time_series.columns[-8:], np.concatenate(([n_cases_time_series.iloc[92,-8]],truths[92, :])), label='True future')\n",
    "plt.plot(n_cases_time_series.columns[-8:], np.concatenate(([n_cases_time_series.iloc[92,-8]],predictions[92, :])), label='Predicted future', linestyle='--')\n",
    "plt.legend(loc=(1,0.5))\n",
    "plt.show()"
   ]
  },
  {
   "cell_type": "code",
   "execution_count": null,
   "metadata": {},
   "outputs": [],
   "source": [
    "plt.plot(np.abs(truths_no_q[:,0] - predictions_no_q[:,0]))"
   ]
  },
  {
   "cell_type": "code",
   "execution_count": null,
   "metadata": {},
   "outputs": [],
   "source": []
  },
  {
   "cell_type": "code",
   "execution_count": null,
   "metadata": {},
   "outputs": [],
   "source": [
    "np.where(np.abs(truths_no_q - predictions_no_q) > 60)"
   ]
  },
  {
   "cell_type": "code",
   "execution_count": null,
   "metadata": {},
   "outputs": [],
   "source": [
    "n_cases_time_series.iloc[[8,27,37],:]"
   ]
  },
  {
   "cell_type": "code",
   "execution_count": null,
   "metadata": {},
   "outputs": [],
   "source": [
    "truths_no_outliers = np.delete(truths, [8,27,37,92], axis=0)\n",
    "predictions_no_outliers = np.delete(predictions, [8,27,37,92], axis=0)\n",
    "\n",
    "fig, ax = plt.subplots(figsize=(10,10))\n",
    "for c in range(truths_no_outliers.shape[1]):\n",
    "    ax.scatter(truths_no_outliers.shape[0]*[c], \n",
    "               truths_no_outliers[:, c] - predictions_no_outliers[:, c], label=str(c+1), s=25, alpha=0.5)\n",
    "    plt.legend()\n",
    "ax.axhline(0, xmin=0, xmax=500, color='r')\n",
    "plt.show()"
   ]
  },
  {
   "cell_type": "markdown",
   "metadata": {},
   "source": [
    "Because all of the outlier values of n_cases_per_million belong to Qatar, let's see how we perform when we drop\n",
    "them from the modeling process."
   ]
  },
  {
   "cell_type": "code",
   "execution_count": null,
   "metadata": {},
   "outputs": [],
   "source": [
    "n_step_models = []\n",
    "n_step_mse = []\n",
    "X_no_qatar = X[X.location != 'Qatar']\n",
    "for shift in range(1, 8):\n",
    "    y = shift_for_forecasting(X_no_qatar, forecast_interval=shift, target_name='new_cases_per_million').dropna()\n",
    "    X_model = X_no_qatar.loc[y.index,:]\n",
    "    \n",
    "    # time index, the quantity which tracks days since first case, is still in X.\n",
    "    # X_train =  X[X.date_proxy < day].drop(columns=['location','date'])\n",
    "    # X_test = X[X.date_proxy == day].drop(columns=['location','date'])\n",
    "    \n",
    "    X_train =  X_model[X_model.date_proxy <= prediction_date - shift].drop(columns=['location','date','date_proxy', 'time_index'])\n",
    "    X_test = X_model[X_model.date_proxy == prediction_date].drop(columns=['location','date','date_proxy', 'time_index'])\n",
    "\n",
    "    y_train = y.loc[X_train.index].values.ravel()\n",
    "    y_test = y.loc[X_test.index].values.ravel()\n",
    "\n",
    "    col_transformer = StandardScaler()\n",
    "    _ = col_transformer.fit(X_train)\n",
    "    X_train_normalized =  col_transformer.transform(X_train)\n",
    "    X_test_normalized =  col_transformer.transform(X_test)\n",
    "\n",
    "#     pca = PCA(n_components=25)\n",
    "#     _ = pca.fit(X_train_normalized)\n",
    "#     X_train_normalized = pca.transform(X_train_normalized)\n",
    "#     X_test_normalized = pca.transform(X_test_normalized)\n",
    "\n",
    "    r = Ridge() \n",
    "    _ = r.fit(X_train_normalized, y_train)\n",
    "    n_step_models.append([r])\n",
    "    y_true, y_predict, mse = classifier_analysis(r, X_test_normalized, y_test, plot=False, metric='mae')\n",
    "    n_step_mse.append(mse)\n",
    "    if shift == 1:\n",
    "        true_predict_array = np.concatenate((y_true.reshape(-1,1), y_predict.reshape(-1,1)), axis=1)\n",
    "    else:\n",
    "        true_predict_array = np.concatenate((true_predict_array, y_true.reshape(-1,1), y_predict.reshape(-1,1)), axis=1)\n",
    "    print('#', end='')\n",
    "    \n",
    "# correspond to n+1, n+2, ... n+7 predictions and truths. 109-115\n",
    "predictions = true_predict_array[:, 1::2]#.ravel()\n",
    "truths = true_predict_array[:, ::2]#.ravel()"
   ]
  },
  {
   "cell_type": "code",
   "execution_count": null,
   "metadata": {},
   "outputs": [],
   "source": [
    "fig, ax = plt.subplots(figsize=(10,10))\n",
    "ax.scatter(truths.ravel(), predictions.ravel(), s=5)\n",
    "plt.plot([0,500], [0,500], color='r')\n",
    "plt.show()\n",
    "\n",
    "print(explained_variance_score(truths.ravel(), predictions.ravel()))\n",
    "print(mean_absolute_error(truths.ravel(), predictions.ravel()))\n",
    "print(mean_squared_error(truths.ravel(), predictions.ravel()))"
   ]
  },
  {
   "cell_type": "code",
   "execution_count": null,
   "metadata": {},
   "outputs": [],
   "source": [
    "from statsmodels.stats.diagnostic import acorr_ljungbox"
   ]
  },
  {
   "cell_type": "code",
   "execution_count": null,
   "metadata": {},
   "outputs": [],
   "source": [
    "plt.matshow(pd.DataFrame(truths-predictions).corr())\n",
    "plt.colorbar()\n",
    "np.set_printoptions(precision=3)\n",
    "print(np.matrix(pd.DataFrame(truths-predictions).corr()))"
   ]
  },
  {
   "cell_type": "code",
   "execution_count": null,
   "metadata": {},
   "outputs": [],
   "source": [
    "_ = pd.plotting.scatter_matrix(pd.DataFrame(truths-predictions), figsize=(10,10))"
   ]
  },
  {
   "cell_type": "code",
   "execution_count": null,
   "metadata": {},
   "outputs": [],
   "source": [
    "fig, ax = plt.subplots(figsize=(10,10))\n",
    "for c in range(truths.shape[1]):\n",
    "    ax.scatter(truths[:, c], truths[:, c] - predictions[:, c], label=str(c+1), s=25, alpha=0.5)\n",
    "    plt.legend()\n",
    "# plt.plot([0,500], [0,500], color='r')\n",
    "ax.axhline(0, xmin=0, xmax=500, color='r')\n",
    "plt.show()"
   ]
  },
  {
   "cell_type": "code",
   "execution_count": null,
   "metadata": {},
   "outputs": [],
   "source": []
  },
  {
   "cell_type": "code",
   "execution_count": null,
   "metadata": {},
   "outputs": [],
   "source": [
    "plt.figure(figsize=(10,10))\n",
    "plt.plot(n_cases_time_series.columns[:-7], n_cases_time_series.iloc[-7,:-7], label='True past')\n",
    "plt.plot(n_cases_time_series.columns[-7:], truths[-7, :], label='True future')\n",
    "plt.plot(n_cases_time_series.columns[-7:], predictions[-7, :], label='Predicted future')\n",
    "plt.legend(loc=(1,0.5))\n",
    "plt.show()"
   ]
  },
  {
   "cell_type": "markdown",
   "metadata": {},
   "source": [
    "To predict a week into the future means that I can only compare values for day 9 (indexed as 8), because I want to avoid using a single data point to train as this causes issues. Therefore I am predicting days indexed from 8-115; days 9 through 116. "
   ]
  },
  {
   "cell_type": "markdown",
   "metadata": {},
   "source": [
    "## rolling mean prediction, need to shift even futher back right?"
   ]
  },
  {
   "cell_type": "code",
   "execution_count": null,
   "metadata": {},
   "outputs": [],
   "source": [
    "n_step_models = []\n",
    "n_step_mse = []\n",
    "for shift in range(1, 15):\n",
    "    y = shift_for_forecasting(X, forecast_interval=shift, target_name='new_cases_per_million_rolling_mean_14').dropna()\n",
    "    X_model = X.loc[y.index,:]\n",
    "\n",
    "    # time index, the quantity which tracks days since first case, is still in X.\n",
    "    # X_train =  X[X.date_proxy < day].drop(columns=['location','date'])\n",
    "    # X_test = X[X.date_proxy == day].drop(columns=['location','date'])\n",
    "    \n",
    "    X_train =  X_model[X_model.date_proxy <= prediction_date - shift].drop(columns=['location','date','date_proxy', 'time_index'])\n",
    "    X_test = X_model[X_model.date_proxy == prediction_date].drop(columns=['location','date','date_proxy', 'time_index'])\n",
    "\n",
    "    y_train = y.loc[X_train.index].values.ravel()\n",
    "    y_test = y.loc[X_test.index].values.ravel()\n",
    "\n",
    "    col_transformer = StandardScaler()\n",
    "    _ = col_transformer.fit(X_train)\n",
    "    X_train_normalized =  col_transformer.transform(X_train)\n",
    "    X_test_normalized =  col_transformer.transform(X_test)\n",
    "\n",
    "#     pca = PCA(n_components=25)\n",
    "#     _ = pca.fit(X_train_normalized)\n",
    "#     X_train_normalized = pca.transform(X_train_normalized)\n",
    "#     X_test_normalized = pca.transform(X_test_normalized)\n",
    "\n",
    "    r = Ridge() \n",
    "    _ = r.fit(X_train_normalized, y_train)\n",
    "    n_step_models.append([r])\n",
    "    y_true, y_predict, mse = classifier_analysis(r, X_test_normalized, y_test, plot=False, metric='mae')\n",
    "    n_step_mse.append(mse)\n",
    "    if shift == 1:\n",
    "        true_predict_array = np.concatenate((y_true.reshape(-1,1), y_predict.reshape(-1,1)), axis=1)\n",
    "    else:\n",
    "        true_predict_array = np.concatenate((true_predict_array, y_true.reshape(-1,1), y_predict.reshape(-1,1)), axis=1)\n",
    "    print('#', end='')\n",
    "\n",
    "# correspond to n+1, n+2, ... n+7 predictions and truths. 109-115\n",
    "predictions = true_predict_array[:, 1::2]#.ravel()\n",
    "truths = true_predict_array[:, ::2]#.ravel()"
   ]
  },
  {
   "cell_type": "markdown",
   "metadata": {},
   "source": [
    "Using a naive baseline, which would be a constant number of new cases per day; this means the value for the prediction 7 days into the future is simply the value from 7 days ago. "
   ]
  },
  {
   "cell_type": "code",
   "execution_count": null,
   "metadata": {},
   "outputs": [],
   "source": [
    "# explained_variance_scores = []\n",
    "for day in X.date_proxy.unique()[1:]:\n",
    "    # time index, the quantity which tracks days since first case, is still in X.\n",
    "    X_train =  X[X.date_proxy < day].drop(columns=['location','date'])\n",
    "    X_test = X[X.date_proxy == day].drop(columns=['location','date'])\n",
    "#     X_train =  X[X.date_proxy < day].drop(columns=['location','date','date_proxy', 'time_index'])\n",
    "#     X_test = X[X.date_proxy == day].drop(columns=['location','date','date_proxy', 'time_index'])\n",
    "    y_train = y.loc[X_train.index].values.ravel()\n",
    "    y_test = y.loc[X_test.index].values.ravel()\n",
    "    \n",
    "    col_transformer = StandardScaler()\n",
    "    _ = col_transformer.fit(X_train)\n",
    "    X_train_normalized =  col_transformer.transform(X_train)\n",
    "    X_test_normalized =  col_transformer.transform(X_test)\n",
    "    \n",
    "#     pca = PCA(n_components=10)\n",
    "#     _ = pca.fit(X_train_normalized)\n",
    "#     X_train_normalized_pca = pca.transform(X_train_normalized)\n",
    "#     X_test_normalized_pca = pca.transform(X_test_normalized)\n",
    "    \n",
    "    r = Ridge() \n",
    "    _ = r.fit(X_train_normalized, y_train)\n",
    "    y_true, y_predict, evs = classifier_analysis(r, X_test_normalized, y_test, plot=False)\n",
    "    n_cases_prediction_series.loc[:, day+7] = y_predict\n",
    "    print('#', end='')"
   ]
  },
  {
   "cell_type": "code",
   "execution_count": null,
   "metadata": {},
   "outputs": [],
   "source": [
    "# evs_scores = []\n",
    "# baseline_evs_scores = []\n",
    "# for c in n_cases_time_series.columns:\n",
    "#     evs_scores.append(explained_variance_score(n_cases_time_series.loc[:, c].values, \n",
    "#                                                n_cases_prediction_series.loc[:, c].values))\n",
    "#     baseline_evs_scores.append(explained_variance_score(n_cases_time_series.loc[:, c].values,\n",
    "#                                                         baseline_time_series.loc[:, c].values))\n",
    "\n",
    "# evs_scores = np.array(evs_scores)\n",
    "# baseline_evs_scores = np.array(baseline_evs_scores)"
   ]
  },
  {
   "cell_type": "code",
   "execution_count": null,
   "metadata": {},
   "outputs": [],
   "source": [
    "# fig, ax = plt.subplots()\n",
    "# ax.set_title('Difference in explained variance')\n",
    "# ax.plot(evs_scores, marker='.', linestyle='none')\n",
    "# ax.plot(baseline_evs_scores, marker='.', linestyle='none')\n",
    "# ax.set_ylabel('$R^2$ model - $R^2$ baseline')\n",
    "# ax.axhline(0, xmin=0, xmax=150, color='r')\n",
    "# ax.set_ylim([-1.05,1.05])"
   ]
  },
  {
   "cell_type": "code",
   "execution_count": null,
   "metadata": {},
   "outputs": [],
   "source": [
    "# explained_variance_scores = []\n",
    "for day in X.date_proxy.unique()[1:]:\n",
    "    # time index, the quantity which tracks days since first case, is still in X.\n",
    "    X_train =  X[X.date_proxy < day].drop(columns=['location','date'])\n",
    "    X_test = X[X.date_proxy == day].drop(columns=['location','date'])\n",
    "#     X_train =  X[X.date_proxy < day].drop(columns=['location','date','date_proxy', 'time_index'])\n",
    "#     X_test = X[X.date_proxy == day].drop(columns=['location','date','date_proxy', 'time_index'])\n",
    "    y_train = y.loc[X_train.index]#.values.ravel()\n",
    "    y_test = y.loc[X_test.index]#.values.ravel()\n",
    "\n",
    "    for country_indices in country_groupby_indices_list(X):\n",
    "\n",
    "        X_train_country =  X_train.loc[X_train.index.intersection(country_indices), :]\n",
    "        X_test_country = X_test.loc[X_test.index.intersection(country_indices), :]\n",
    "        y_train_country = y_train.loc[X_train_country.index].values.ravel()\n",
    "        y_test_country = y_test.loc[X_test_country.index].values.ravel()\n",
    "        \n",
    "        transformer = StandardScaler()\n",
    "        _ = transformer.fit(X_train_country)\n",
    "        X_train_normalized = transformer.transform(X_train_country)\n",
    "        X_test_normalized = transformer.transform(X_test_country)\n",
    "        \n",
    "        r = Ridge() \n",
    "        _ = r.fit(X_train_normalized, y_train_country)\n",
    "        \n",
    "#         y_true0, y_predict0, mse0 = classifier_analysis(r, X_train_normalized, y_train_country,  metric='mse', plot=False)\n",
    "        y_true, y_predict, mse = classifier_analysis(r, X_test_normalized, y_test_country, metric='mse', plot=False)\n",
    "        \n",
    "#         n_cases_predict_time_series_df.loc[\n",
    "#             X.loc[country_indices,:].location.unique()[0], n_cases_predict_time_series_df.columns[1]:day] = y_predict0\n",
    "    \n",
    "        n_cases_prediction_series.loc[\n",
    "            X.loc[country_indices,:].location.unique()[0], day+7] = y_predict\n",
    "#         country_mse.append(mse)\n",
    "#     explained_variance_scores.append(evs)\n",
    "    print('#',end='')\n",
    "# explained_variance_scores = np.array(explained_variance_scores)"
   ]
  },
  {
   "cell_type": "markdown",
   "metadata": {},
   "source": [
    "Previously made what I believe is a mistake or the wrong thing to do,\n",
    "which was to compute the time series of explained variance scores; i.e. I take the predictions\n",
    "for a certain date for all countries and compare that to the real value on that date, for all\n",
    "countries. I think its wiser to compute the EVS for each country as this is more indicative of\n",
    "whether the trend is being captured or not??"
   ]
  },
  {
   "cell_type": "markdown",
   "metadata": {},
   "source": [
    "Because this is n cases and not n cases change, use naive forecasting model, i.e. predicted value is value from 7 days prior."
   ]
  },
  {
   "cell_type": "markdown",
   "metadata": {},
   "source": [
    "There seems to be a bias to underestimate larger values."
   ]
  },
  {
   "cell_type": "markdown",
   "metadata": {},
   "source": [
    "# 7-day forecast via single step propagating model."
   ]
  },
  {
   "cell_type": "markdown",
   "metadata": {},
   "source": [
    "target variable construction should be the same"
   ]
  },
  {
   "cell_type": "markdown",
   "metadata": {},
   "source": [
    "Given a matrix of all drifts, (rows are countries and columns are features), the values "
   ]
  },
  {
   "cell_type": "markdown",
   "metadata": {},
   "source": [
    "Drift features are the numerical time dependent features, not including the rolling means, time indices\n",
    "are special.\n",
    "They do not need to be recomputed as they are in X_test. \n",
    "\n",
    "Rolling means will be recomputed to incoporate simple forecasting; instead of just simple forecasting the rolling means themselves.\n",
    "\n",
    "Naive features are "
   ]
  },
  {
   "cell_type": "code",
   "execution_count": null,
   "metadata": {},
   "outputs": [],
   "source": [
    "drift_features = model_data.loc[:, :'time_index'].iloc[:, :-2].columns.tolist()\n",
    "\n",
    "naive_features = (time_independent.columns.tolist() \n",
    "                  + location_one_hot.columns.tolist()\n",
    "                  +tests_units_one_hot.columns.tolist()\n",
    "                  + flag_and_misc.columns.tolist()[:-2])\n",
    "\n",
    "X_model = X#.drop(columns=['location', 'date'])\n",
    "X_train = X_model[X_model.date_proxy < X_model.date_proxy.max()-8]\n",
    "X_test = X_model[(X_model.date_proxy >= X_model.date_proxy.max()-7) & (X_model.date_proxy < X_model.date_proxy.max())]\n",
    "\n",
    "X_test_simple_model_forecasting = simple_model_forecast(X_train, drift_features, naive_features, forecast_interval=7)"
   ]
  },
  {
   "cell_type": "code",
   "execution_count": null,
   "metadata": {},
   "outputs": [],
   "source": [
    "X_model = X#.drop(columns=['location', 'date'])\n",
    "X_train = X_model[X_model.date_proxy < X_model.date_proxy.max()-8]\n",
    "X_test = X_model[(X_model.date_proxy >= X_model.date_proxy.max()-7) & (X_model.date_proxy < X_model.date_proxy.max())]"
   ]
  },
  {
   "cell_type": "code",
   "execution_count": null,
   "metadata": {},
   "outputs": [],
   "source": [
    "X_test_simple_model_forecasting = simple_model_forecast(X_train, drift_features, naive_features, forecast_interval=7)"
   ]
  },
  {
   "cell_type": "markdown",
   "metadata": {},
   "source": [
    "To compute new rolling means, take new drift feature values, concatenate with those in training, and then roll.\n",
    "Need to reintroduce indexes however to sort the values correctly. "
   ]
  },
  {
   "cell_type": "code",
   "execution_count": null,
   "metadata": {},
   "outputs": [],
   "source": [
    "X_forecasted = X.copy().drop(columns=rolling_predictors.columns)\n",
    "X_forecasted.loc[X_test.index, :].iloc[:, 2:-2] = X_test_simple_model_forecasting.values"
   ]
  },
  {
   "cell_type": "code",
   "execution_count": null,
   "metadata": {},
   "outputs": [],
   "source": [
    "rolling_predictors_forecasted = rolling_features(X_forecasted, pd.Index(drift_features), roll_widths)"
   ]
  },
  {
   "cell_type": "code",
   "execution_count": null,
   "metadata": {},
   "outputs": [],
   "source": [
    "Xf = pd.concat((X_forecasted.loc[:, :drift_features[-1]], \n",
    "                           rolling_predictors_forecasted, \n",
    "                           X_forecasted.loc[:, naive_features[0]:],),axis=1)\n",
    "Xf = X.loc[:, Xf.columns[~Xf.columns.str.contains('new_cases')]]"
   ]
  },
  {
   "cell_type": "code",
   "execution_count": null,
   "metadata": {},
   "outputs": [],
   "source": [
    "X_model = Xf.drop(columns=['location', 'date'])\n",
    "X_train = X_model[X_model.date_proxy < X_model.date_proxy.max()-8]\n",
    "X_test = X_model[(X_model.date_proxy >= X_model.date_proxy.max()-7) & (X_model.date_proxy < X_model.date_proxy.max())]"
   ]
  },
  {
   "cell_type": "code",
   "execution_count": null,
   "metadata": {},
   "outputs": [],
   "source": [
    "y = shift_for_forecasting(model_data)\n",
    "y_train = y.loc[X_train.index].values.ravel()\n",
    "y_test = y.loc[X_test.index].values.ravel()"
   ]
  },
  {
   "cell_type": "markdown",
   "metadata": {},
   "source": [
    "baseline_time_series"
   ]
  },
  {
   "cell_type": "code",
   "execution_count": null,
   "metadata": {},
   "outputs": [],
   "source": [
    "n_cases_prediction_series_propagate = n_cases_time_series.copy()"
   ]
  },
  {
   "cell_type": "code",
   "execution_count": null,
   "metadata": {},
   "outputs": [],
   "source": [
    "n_cases_prediction_series_propagate.iloc[:, -7:] = y_predict.reshape(126, 7)"
   ]
  },
  {
   "cell_type": "code",
   "execution_count": null,
   "metadata": {},
   "outputs": [],
   "source": [
    "col_transformer = StandardScaler()\n",
    "_ = col_transformer.fit(X_train)\n",
    "X_train_normalized =  col_transformer.transform(X_train)\n",
    "X_test_normalized =  col_transformer.transform(X_test)\n",
    "\n",
    "r = Ridge() \n",
    "_ = r.fit(X_train_normalized, y_train)\n",
    "y_true, y_predict, evs = classifier_analysis(r, X_test_normalized, y_test)"
   ]
  },
  {
   "cell_type": "code",
   "execution_count": null,
   "metadata": {},
   "outputs": [],
   "source": [
    "plt.scatter(y_true, y_true-y_predict)\n",
    "plt.show()"
   ]
  },
  {
   "cell_type": "code",
   "execution_count": null,
   "metadata": {},
   "outputs": [],
   "source": [
    "mse = explained_variance_score(y_true, y_predict)\n",
    "evs = mean_squared_error(y_true, y_predict)\n",
    "\n",
    "print('Mean squared error {}'.format(mse))\n",
    "print('Explained variance score {}'.format(evs))"
   ]
  },
  {
   "cell_type": "code",
   "execution_count": null,
   "metadata": {},
   "outputs": [],
   "source": [
    "time_dependent= model_data.set_index('location').loc[:, :'time_index'].iloc[:, :-2].reset_index()\n",
    "time_independent = model_data.loc[:, 'time_index':'cvd_death_rate'].iloc[:, 1:].fillna(0)#.columns\n",
    "flag_and_misc = model_data.loc[:, 'c1_flag_0':'date']"
   ]
  },
  {
   "cell_type": "code",
   "execution_count": null,
   "metadata": {},
   "outputs": [],
   "source": [
    "# This drops the first category, Afghanistan.\n",
    "location_one_hot = pd.get_dummies(model_data.loc[:, 'location'], drop_first=True)\n",
    "# this specifically drops the NaN category\n",
    "tests_units_one_hot = pd.get_dummies(model_data.loc[:, 'tests_units'])\n",
    "tests_units_one_hot.columns = 'test_units_' + reformat_values(tests_units_one_hot, category='columns')"
   ]
  },
  {
   "cell_type": "code",
   "execution_count": null,
   "metadata": {},
   "outputs": [],
   "source": [
    "X = pd.concat((model_data.loc[:, 'date_proxy':'time_index'], time_dependent.drop(columns='location'), \n",
    "                rolling_predictors, time_independent,\n",
    "                   location_one_hot, tests_units_one_hot, flag_and_misc),axis=1)"
   ]
  },
  {
   "cell_type": "code",
   "execution_count": null,
   "metadata": {},
   "outputs": [],
   "source": [
    "X_test_propagation_model = X[X.date_proxy >= X.date_proxy.max()-7]"
   ]
  },
  {
   "cell_type": "code",
   "execution_count": null,
   "metadata": {},
   "outputs": [],
   "source": [
    "naive_features = location_one_hot.columns.append(tests_units_one_hot.columns).append(flag_and_misc.columns)[:-2]"
   ]
  },
  {
   "cell_type": "code",
   "execution_count": null,
   "metadata": {},
   "outputs": [],
   "source": [
    "drift_features = X.iloc[:,2:].columns.difference(naive_features)"
   ]
  },
  {
   "cell_type": "code",
   "execution_count": null,
   "metadata": {},
   "outputs": [],
   "source": [
    "drift_features = time_dependent.drop(columns='location').columns\n",
    "naive_features = time_independent.columns.append(flag_and_misc.iloc[:,:-2].columns)"
   ]
  },
  {
   "cell_type": "code",
   "execution_count": null,
   "metadata": {},
   "outputs": [],
   "source": [
    "X_train_propagation_model = X[X.date_proxy < X.date_proxy.max()-7]\n",
    "\n",
    "simple_forecast_features = pd.Index(['date_proxy', 'time_index']).append(drift_features.append(naive_features))\n",
    "X_train_propagation_model = X[X.date_proxy < X.date_proxy.max()-7].loc[:, simple_forecast_features]"
   ]
  },
  {
   "cell_type": "markdown",
   "metadata": {},
   "source": [
    "I don't think its unfair to compute simple forecasts and then their rolling means, instead of just simple\n",
    "forecasting their values. Might not be different actually"
   ]
  },
  {
   "cell_type": "code",
   "execution_count": null,
   "metadata": {},
   "outputs": [],
   "source": [
    "explained_variance_scores = []\n",
    "for day in X.date_proxy.unique()[1:-7]:\n",
    "    # time index, the quantity which tracks days since first case, is still in X.\n",
    "    X_train =  X[X.date_proxy < day].drop(columns=['location','date','date_proxy', 'time_index'])\n",
    "    X_test = X[X.date_proxy == day].drop(columns=['location','date','date_proxy', 'time_index'])\n",
    "    y_train = y.loc[X_train.index].values.ravel()\n",
    "    y_test = y.loc[X_test.index].values.ravel()\n",
    "    \n",
    "    col_transformer = StandardScaler()\n",
    "    _ = col_transformer.fit(X_train)\n",
    "    X_train_normalized =  col_transformer.transform(X_train)\n",
    "    X_test_normalized =  col_transformer.transform(X_test)\n",
    "\n",
    "    r = Ridge() \n",
    "    _ = r.fit(X_train_normalized, y_train)\n",
    "    y_true, y_predict, evs = classifier_analysis(r, X_test_normalized, y_test, plot=False)\n",
    "    n_cases_prediction_series.loc[:, day+7] = y_predict\n",
    "    explained_variance_scores.append(evs)\n",
    "    print('#',end='')\n",
    "explained_variance_scores = np.array(explained_variance_scores)"
   ]
  },
  {
   "cell_type": "markdown",
   "metadata": {},
   "source": [
    "# COVID-19 Case number modeling with no new features.\n",
    "<a id='model'></a>\n",
    "[Return to table of contents](#toc)\n",
    "\n",
    "The first segment of the modeling process takes the \"original\" data, reformatted as per the\n",
    "data cleaning notebook and then performs the necessary operations to encode the categorical variables.\n",
    "The target variable is assigned to be the number of cases and the pipeline for the modeling process is as\n",
    "follows (current iteration):\n",
    "    \n",
    "    1. Encode data, split into feature and target data.\n",
    "    2. Create cross validation folds; split into train-test and holdout data sets. \n",
    "    2. Normalize the feature data via sklearn's StandardScaler. \n",
    "    3. Perform PCA on the normalized feature data\n",
    "    4. Apply Ridge regression on the normalized, PCA transformed data. "
   ]
  },
  {
   "cell_type": "markdown",
   "metadata": {},
   "source": [
    "# Single step predictions\n",
    "\n",
    "Need location for groupby indices, but date and date proxy I do not think are useful currently. "
   ]
  },
  {
   "cell_type": "code",
   "execution_count": null,
   "metadata": {},
   "outputs": [],
   "source": [
    "X_tmp = model_data.copy()#.drop(columns=['date','date_proxy'])\n",
    "y_tmp = X_tmp.new_cases_per_million"
   ]
  },
  {
   "cell_type": "markdown",
   "metadata": {},
   "source": [
    "Create cross validation folds which respect the time-series dates."
   ]
  },
  {
   "cell_type": "markdown",
   "metadata": {},
   "source": [
    "Instead of flailing about let's actually type out how to do this.\n",
    "\n",
    "Steps that need to be completed.\n",
    "\n",
    "    Target variable shifting.\n",
    "    CV folds\n",
    "    Feature encoding\n",
    "    "
   ]
  },
  {
   "cell_type": "markdown",
   "metadata": {},
   "source": [
    "Get the indices which correspond to each country, prior to shifting the target variable time series.\n",
    "Assign target and feature variable arrays prior to shifting the target variable.\n",
    "I don't think dropping the case data is actually necessary so long as the time series aspect is respected.\n",
    "Get the data ready for training"
   ]
  },
  {
   "cell_type": "markdown",
   "metadata": {},
   "source": [
    "Collect the indices which correspond to each country."
   ]
  },
  {
   "cell_type": "markdown",
   "metadata": {},
   "source": [
    "Shift the target variable by one so that the feature data up until day n-1 is predicting the target variable at day n.\n",
    "In other words, train on data which is up to but not including the date of prediction. \n",
    "\n",
    "What Mike said:\n",
    "\n",
    "X_train ......................................... y_train\n",
    "\n",
    "DATA UP TO AND INCLUDING 2020-05-01 ............. TARGET ON 2020-05-02\n",
    "\n",
    "This does not predict the first day and does not include the data on the last day. \n",
    "Therefore the correct operation is to group by country, shift the target by -1 and drop the last day of data (drop NaN)."
   ]
  },
  {
   "cell_type": "markdown",
   "metadata": {},
   "source": [
    "Shift the target data so that its suited to prediction."
   ]
  },
  {
   "cell_type": "code",
   "execution_count": null,
   "metadata": {
    "scrolled": false
   },
   "outputs": [],
   "source": [
    "y_single_step_forecast = y_tmp[country_groupby_indices[0]].shift(-1)\n",
    "for country_indices in country_groupby_indices[1:]:\n",
    "    tmp =  y_tmp[country_indices].shift(-1)\n",
    "    tmp.index = country_indices\n",
    "    y_single_step_forecast = pd.concat((y_single_step_forecast, tmp),axis=0)\n",
    "\n",
    "y = y_single_step_forecast.dropna() # These are the shifted target values. \n",
    "X = X_tmp.loc[y.index, :] # This is X without the last day"
   ]
  },
  {
   "cell_type": "markdown",
   "metadata": {},
   "source": [
    "Slice and rename variables X,y "
   ]
  },
  {
   "cell_type": "markdown",
   "metadata": {},
   "source": [
    "Each countries' indices except minus the last day. "
   ]
  },
  {
   "cell_type": "code",
   "execution_count": null,
   "metadata": {},
   "outputs": [],
   "source": [
    "# These are the indices which correspond to each country after removing the last day from the time series. \n",
    "country_groupby_indices_forecast = [X[X.location==country].index for country in X.location.unique()]\n",
    "countries = X.location.unique()\n",
    "country_indices_reference = pd.Series(country_groupby_indices_forecast, index=countries)"
   ]
  },
  {
   "cell_type": "markdown",
   "metadata": {},
   "source": [
    "Create CV folds....unused other than train/test split."
   ]
  },
  {
   "cell_type": "markdown",
   "metadata": {},
   "source": [
    "I split the data in 7 folds, but use the first 6 as a training and the 7th as a testing set."
   ]
  },
  {
   "cell_type": "code",
   "execution_count": null,
   "metadata": {},
   "outputs": [],
   "source": [
    "# n_folds = 7\n",
    "# fold_size =  len(X.date.unique()) // n_folds\n",
    "fold_size = 20\n",
    "folds = [X.date.unique()[fold_size*i:fold_size*(i+1)] for i in range(1 + len(X.date.unique())//fold_size)]\n",
    "folds_indices = [X[X.date.isin(fold)].index for fold in folds]\n",
    "folds_series = pd.Series(folds_indices).to_frame(name='folds')\n",
    "\n",
    "traintest_indices = folds_series.values.flatten()[:-1]\n",
    "holdout_indices = folds_series.values.flatten()[-1]\n",
    "\n",
    "full_index = traintest_indices[0]\n",
    "for other_indices in traintest_indices[1:]:\n",
    "    full_index = full_index.union(other_indices)\n",
    "\n",
    "for i, epochs in enumerate(folds_series.values.flatten()):\n",
    "    start, end = model_data.loc[epochs, 'date'].min(), model_data.loc[epochs, 'date'].max()\n",
    "    print('Epoch {} spans the dates {} to {}'.format(i,start,end))"
   ]
  },
  {
   "cell_type": "markdown",
   "metadata": {},
   "source": [
    "Cast bool features as int, one-hot encode the categorical (object) features."
   ]
  },
  {
   "cell_type": "code",
   "execution_count": null,
   "metadata": {},
   "outputs": [],
   "source": [
    "X.loc[:, 'date'] = pd.to_datetime(X.loc[:, 'date'])\n",
    "dates = pd.to_datetime(X.loc[:, 'date'].unique())"
   ]
  },
  {
   "cell_type": "markdown",
   "metadata": {},
   "source": [
    "Assign target variable and remove the corresponding variables from the regressors"
   ]
  },
  {
   "cell_type": "markdown",
   "metadata": {},
   "source": [
    "Split between traintest (Cross validation, currently used simply as a 1-fold training set)\n",
    "and holdout (final testing)."
   ]
  },
  {
   "cell_type": "code",
   "execution_count": null,
   "metadata": {},
   "outputs": [],
   "source": [
    "X_model = X.drop(columns=X.columns[X.columns.str.contains('new_cases')])\n",
    "X_traintest= X_model.select_dtypes(exclude=['object', 'datetime']).loc[full_index, :]\n",
    "X_holdout=  X_model.select_dtypes(exclude=['object', 'datetime']).loc[holdout_indices, :]\n",
    "# y_holdout = y.apply(lambda x : np.log10(x+1)).loc[holdout_indices].values.ravel()\n",
    "# y_traintest = y.apply(lambda x : np.log10(x+1)).loc[full_index].values.ravel()\n",
    "y_holdout = y.loc[holdout_indices].values.ravel()\n",
    "y_traintest = y.loc[full_index].values.ravel()"
   ]
  },
  {
   "cell_type": "markdown",
   "metadata": {},
   "source": [
    "Fit the StandardScaler() transformer instance with the training data, only applied to the continuous, time dependent\n",
    "numerical features "
   ]
  },
  {
   "cell_type": "markdown",
   "metadata": {},
   "source": [
    "<!-- For every date, need a prediction. For every date need to scale/do pca.\n",
    "therefore everything is a for looop around the date.  -->"
   ]
  },
  {
   "cell_type": "markdown",
   "metadata": {},
   "source": [
    "Generate predictors from drift, naive strategies. "
   ]
  },
  {
   "cell_type": "code",
   "execution_count": null,
   "metadata": {},
   "outputs": [],
   "source": [
    "num_features = X_model.loc[:, :'population'].iloc[:, 2:-1].columns\n",
    "transformer_list = []\n",
    "transformer_list += [('num', StandardScaler(), num_features), ('other','passthrough', X_traintest.columns.difference(num_features))] \n",
    "col_transformer = ColumnTransformer(transformers=transformer_list)\n",
    "\n",
    "_ = col_transformer.fit(X_traintest)\n",
    "X_train_normalized =  col_transformer.transform(X_traintest)\n",
    "X_holdout_normalized =  col_transformer.transform(X_holdout)\n",
    "\n",
    "# pca = PCA(n_components=10)\n",
    "# _ = pca.fit(X_train_normalized)\n",
    "# X_train_normalized_pca = pca.transform(X_train_normalized)\n",
    "# X_test_normalized_pca = pca.transform(X_holdout_normalized)\n",
    "\n",
    "r = Ridge() \n",
    "_ = r.fit(X_train_normalized, y_traintest)\n",
    "y_true, y_predict, evs = classifier_analysis(r, X_holdout_normalized, y_holdout)\n",
    "print(evs)"
   ]
  },
  {
   "cell_type": "code",
   "execution_count": null,
   "metadata": {},
   "outputs": [],
   "source": [
    "_ = plt.plot(xcr_no_auto.max(1).values,marker='.', linestyle='none')"
   ]
  },
  {
   "cell_type": "code",
   "execution_count": null,
   "metadata": {},
   "outputs": [],
   "source": [
    "xcr = X.corr()\n",
    "xcr_no_auto = xcr[xcr!=1.]\n",
    "xcr_no_auto.unstack().sort_values(ascending=False)[100:200:2]"
   ]
  },
  {
   "cell_type": "markdown",
   "metadata": {},
   "source": [
    "# 7 day step predictions\n"
   ]
  },
  {
   "cell_type": "markdown",
   "metadata": {},
   "source": [
    "day 1 to predict day 8\n",
    "day 1-2 to predict day 9\n",
    "days 1-3 to predict day 10 ----> shift -7"
   ]
  },
  {
   "cell_type": "markdown",
   "metadata": {},
   "source": [
    "Create the target variable, the change in the amount of daily new cases (today new cases per million - yesterday new cases per million). Store the \"present values\" as a predictor, but then shift the values by a week, to get the target variable. Due to the usage of first order finite difference to calculate the change, it is not defined for the first day of the time series, and the target variables are not defined for dates within 7 days, as their 7 day futures do not exist yet. "
   ]
  },
  {
   "cell_type": "markdown",
   "metadata": {},
   "source": [
    "Is it better to predict the smoothed quantity, or use the smoothed quantity to predict the jagged quantity. "
   ]
  },
  {
   "cell_type": "code",
   "execution_count": null,
   "metadata": {},
   "outputs": [],
   "source": [
    "fold_size = 7\n",
    "folds = [X.date.unique()[fold_size*i:fold_size*(i+1)] for i in range(1 + len(X.date.unique())//fold_size)]\n",
    "folds_indices = [X[X.date.isin(fold)].index for fold in folds]\n",
    "folds_series = pd.Series(folds_indices).to_frame(name='folds')\n",
    "\n",
    "fold_indices = folds_series.values.flatten()[:-2]\n",
    "test_indices = folds_series.values.flatten()[-2:]\n",
    "test_indices = test_indices[0].append(test_indices[1]).sort_values()\n",
    "\n",
    "train_indices = fold_indices[0]\n",
    "for indices in fold_indices[1:]:\n",
    "    train_indices = full_index.union(indices)\n",
    "\n",
    "for i, epochs in enumerate(folds_series.values.flatten()):\n",
    "    start, end = model_data.loc[epochs, 'date'].min(), model_data.loc[epochs, 'date'].max()\n",
    "    print('Epoch {} spans the dates {} to {}'.format(i,start,end))"
   ]
  },
  {
   "cell_type": "code",
   "execution_count": null,
   "metadata": {},
   "outputs": [],
   "source": [
    "start, end = model_data.loc[train_indices, 'date'].min(), model_data.loc[train_indices, 'date'].max()\n",
    "print('Training data spans the dates {} to {}'.format(start,end))"
   ]
  },
  {
   "cell_type": "code",
   "execution_count": null,
   "metadata": {},
   "outputs": [],
   "source": [
    "start, end = model_data.loc[test_indices, 'date'].min(), model_data.loc[test_indices, 'date'].max()\n",
    "print('Testing data spans the dates {} to {}'.format(start, end))"
   ]
  },
  {
   "cell_type": "markdown",
   "metadata": {},
   "source": [
    "The date of predictions range from (initial date) + 7  to (final date) + 7. "
   ]
  },
  {
   "cell_type": "markdown",
   "metadata": {},
   "source": [
    "Clearly biased as true value increases. "
   ]
  },
  {
   "cell_type": "markdown",
   "metadata": {},
   "source": [
    "Warning raised because the first prediction uses only 1 day's data."
   ]
  },
  {
   "cell_type": "markdown",
   "metadata": {},
   "source": [
    "Likewise, fit the PCA() transformer instance with the training data then apply it\n",
    "to both the training and holdout sets."
   ]
  },
  {
   "cell_type": "markdown",
   "metadata": {},
   "source": [
    "Finally, fit Ridge regression model to the training data, and test it with the holdout set."
   ]
  },
  {
   "cell_type": "markdown",
   "metadata": {},
   "source": [
    "I think I'm messing up how to actually train test split; mike seems to indicate that for every prediction, the model is trained\n",
    "on all but one day. "
   ]
  },
  {
   "cell_type": "markdown",
   "metadata": {},
   "source": [
    "These results vastly exceeded my expectations (with respect to the explained variance score). \n",
    "**I am making a large mistake of including the variables from the future like deaths, active, recovered, etc. This model is not predicting the future.**\n",
    "\n",
    "The predicted vs. the actual\n",
    "value has two key patterns which stand out; namely, the underestimation of very large values and the overestimation of intermediate values (from one-hundred and fifth to two-hundred thousand). I think this is due to the nature of the case number time series. Looking to a one dimensional sigmoid curve as a crude example. This function is motivated by simple epidemiological models as a crude approximation for expected behavior. My model seems to imply that the larger values indicate that the spread of COVID is past the inflection point present in the sigmoid function."
   ]
  },
  {
   "cell_type": "markdown",
   "metadata": {},
   "source": [
    "Therefore, the Ridge regression predictions sort of make sense as the asymptotic behavior of the sigmoid curve\n",
    "has not yet begun."
   ]
  },
  {
   "cell_type": "markdown",
   "metadata": {},
   "source": [
    "# COVID-19 Case number modeling with new features.\n",
    "<a id='modelplus'></a>\n",
    "[Return to table of contents](#toc)\n",
    "\n",
    "Repeat the modeling steps above, applied to the dataset which calculated many different moving averages. "
   ]
  },
  {
   "cell_type": "markdown",
   "metadata": {},
   "source": [
    "Next, I look at the effect of the number of PCA components"
   ]
  },
  {
   "cell_type": "markdown",
   "metadata": {},
   "source": [
    "Looking at the plot of explained variance versus number of PCA components I believe it is fairly obvious that\n",
    "there is something wrong. I believe it's because I'm using different facets of the case number (deaths, active cases, number recovered) in the prediction."
   ]
  },
  {
   "cell_type": "markdown",
   "metadata": {},
   "source": [
    "Plot of explained variance score as a function of the features included; to see which features have the most effect."
   ]
  },
  {
   "cell_type": "code",
   "execution_count": null,
   "metadata": {},
   "outputs": [],
   "source": [
    "ev_scores = []\n",
    "for n in range(1, X_traintest_whitened.shape[1]):\n",
    "    r = Ridge() \n",
    "    _ = r.fit(X_traintest_whitened[:, :n], y_traintest)\n",
    "    y_predict = r.predict(X_holdout_whitened[:, :n])\n",
    "    evsnf = explained_variance_score(y_holdout, y_predict)\n",
    "    ev_scores.append(evsnf)"
   ]
  },
  {
   "cell_type": "code",
   "execution_count": null,
   "metadata": {},
   "outputs": [],
   "source": [
    "missing_flag_epoch = np.where(X.columns.str.contains('missing'))[0]\n",
    "rolling_epoch = np.where(X.columns.str.contains('rolling'))[0]\n",
    "location_dummies = np.where(X.columns.str.contains('location'))[0]\n",
    "date_dummies = np.where(X.columns.str.contains('date'))[0]"
   ]
  },
  {
   "cell_type": "markdown",
   "metadata": {},
   "source": [
    "There are a few features not included in the different \"epochs\""
   ]
  },
  {
   "cell_type": "code",
   "execution_count": null,
   "metadata": {},
   "outputs": [],
   "source": [
    "fig, ax = plt.subplots(1, 1, figsize=(15, 5))\n",
    "_ = ax.plot(ev_scores, marker='.', markersize=2, linewidth=0.5, color='k')\n",
    "\n",
    "_ = ax.add_patch(Rectangle((0, 0), missing_flag_epoch.min(),  max(ev_scores), \n",
    "                           angle=0.0, alpha=0.5, color='g', label='original data'))\n",
    "\n",
    "_ = ax.add_patch(Rectangle((missing_flag_epoch.min(), 0), \n",
    "                           missing_flag_epoch.max()-missing_flag_epoch.min(),  max(ev_scores), \n",
    "                           angle=0.0, alpha=0.5, color='k', label='Missing value flags'))\n",
    "\n",
    "_ = ax.add_patch(Rectangle((rolling_epoch.min(), 0), \n",
    "                           rolling_epoch.max()-rolling_epoch.min(), max(ev_scores), \n",
    "                           angle=0.0, alpha=0.25, color='red', label='Rolling averages'))\n",
    "\n",
    "_ = ax.add_patch(Rectangle((location_dummies.min(), 0),\n",
    "                           location_dummies.max()-location_dummies.min(),  max(ev_scores), \n",
    "                           angle=0.0, alpha=0.5, color='gray', label='Location one-hot'))\n",
    "\n",
    "_ = ax.add_patch(Rectangle((date_dummies.min(), 0), \n",
    "                           date_dummies.max()-date_dummies.min(), max(ev_scores), \n",
    "                           angle=0.0, alpha=0.25, color='blue', label='Date one-hot'))\n",
    "\n",
    "_ = ax.set_ylabel('Explained Variance')\n",
    "_ = ax.set_xlabel('Number of features included in model')\n",
    "_ = plt.legend(loc=(1.05,0.6), title='Feature Origin')"
   ]
  },
  {
   "cell_type": "markdown",
   "metadata": {},
   "source": [
    "This is not doing what I want. This is saying given I know the number of deaths/active cases/number recovered I can infer how many confirmed cases there were. This is not the same as predicting future numbers of cases. i.e. this is not plugging in a date (or days since first infection) and getting a number out.... "
   ]
  }
 ],
 "metadata": {
  "kernelspec": {
   "display_name": "Python 3",
   "language": "python",
   "name": "python3"
  },
  "language_info": {
   "codemirror_mode": {
    "name": "ipython",
    "version": 3
   },
   "file_extension": ".py",
   "mimetype": "text/x-python",
   "name": "python",
   "nbconvert_exporter": "python",
   "pygments_lexer": "ipython3",
   "version": "3.7.6"
  }
 },
 "nbformat": 4,
 "nbformat_minor": 4
}
