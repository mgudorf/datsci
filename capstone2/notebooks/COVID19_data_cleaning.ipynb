{
 "cells": [
  {
   "cell_type": "code",
   "execution_count": 1,
   "metadata": {},
   "outputs": [],
   "source": [
    "import numpy as np\n",
    "import pandas as pd\n",
    "import seaborn as sns\n",
    "import matplotlib.pyplot as plt\n",
    "import os\n",
    "import sys\n",
    "import glob\n",
    "import re\n",
    "import scipy\n",
    "import requests\n",
    "from matplotlib.patches import Rectangle\n",
    "from datetime import datetime"
   ]
  },
  {
   "cell_type": "markdown",
   "metadata": {},
   "source": [
    "# COVID-19 Data Cleaning\n",
    "\n",
    "\n",
    "# Table of contents<a id='toc'></a>\n",
    "\n",
    "## [1. Introduction](#intro)\n",
    "\n",
    "## [2. Data wrangling function definitions](#functions)\n",
    "\n",
    "## [3. Data description](#data)\n",
    "\n",
    "## [4. Data importation and reformatting](#reformat)\n",
    "\n",
    "## [5. Data regularization](#uniformity)\n",
    "\n",
    "## [6. Feature engineering and selection](#features)\n"
   ]
  },
  {
   "cell_type": "markdown",
   "metadata": {},
   "source": [
    "# 1. Introduction <a id='intro'></a>\n",
    "\n",
    "The main focus of this project is to compare \n",
    "\n",
    "The key cleaning measures are those which find the most viable set of countries and date ranges\n",
    "such that the maximal amount of data can be used. In other words, different datasets can have data\n",
    "on a different set of countries; to avoid introducing large quantities of missing values\n",
    "the intersection of these countries is taken."
   ]
  },
  {
   "cell_type": "markdown",
   "metadata": {},
   "source": [
    "<a id='functions'></a>\n",
    "# 2. Data wrangling functions"
   ]
  },
  {
   "cell_type": "code",
   "execution_count": 2,
   "metadata": {},
   "outputs": [],
   "source": [
    "def country_search(df, country):\n",
    "    \"\"\" saves space when you want indices for separate countries\"\"\"\n",
    "    return df[df.location==country].index\n",
    "\n",
    "def country_groupby(df):\n",
    "    \"\"\" saves space, written to supplement Pandas groupby when the indices are desired\"\"\"\n",
    "    return [df[df.location==country].index for country in df.location.unique()]\n",
    "\n",
    "\n",
    "def column_search(df, name, return_style='loc', threshold='contains'):\n",
    "    \"\"\" Partial/full matching of column names returning either Pandas .loc or .iloc compatible indices \"\"\"\n",
    "    if threshold=='contains':\n",
    "        func = df.columns.str.contains\n",
    "    else:\n",
    "        func = df.columns.str.match\n",
    "        \n",
    "    if return_style == 'loc':\n",
    "        return df.columns[func(name)]\n",
    "    elif return_style== 'iloc':\n",
    "        return np.where(func(name))[0]\n",
    "    else:\n",
    "        return None\n",
    "\n",
    "def reformat_values(values_to_transform, category='columns',dateformat=None):\n",
    "    \"\"\" Reformat column and index names. \n",
    "    \n",
    "    Parameters :/\n",
    "    ----------\n",
    "    df : Pandas DataFrame\n",
    "    columns : bool\n",
    "    index : bool|\n",
    "    \n",
    "    Notes :\n",
    "    -----\n",
    "    Change headers of columns; this needs to be updated to account for their formatting changes. \n",
    "    This function converts strings with CamelCase, underscore and space separators to lowercase words uniformly\n",
    "    separated with underscores. I.e. (hopefully!) following the correct python identifier syntax so that each column\n",
    "    can be reference as an attribute if desired. \n",
    "\n",
    "    For more on valid Python identifiers, see:\n",
    "    https://docs.python.org/3/reference/lexical_analysis.html#identifiers\n",
    "    \"\"\"\n",
    "    \n",
    "    \"\"\" Reformat column and index names. only works with with pandas MultiIndex for level=0.\n",
    "    \n",
    "    Parameters :\n",
    "    ----------\n",
    "    df : Pandas DataFrame\n",
    "\n",
    "    Notes :\n",
    "    -----\n",
    "    Different datasets have different naming conventions (for countries that go by multiple names and abbreviations).\n",
    "    This function imposes a convention on a selection of these country names.  \n",
    "    \"\"\"\n",
    "    # these lists are one-to-one. countries compared via manual inspection, unfortunately. \n",
    "    mismatch_labels_bad = ['Lao People\\'s Democratic Republic', 'Mainland China',\n",
    "                           'Occupied Palestinian Territory','Republic of Korea', 'Korea, South', \n",
    "                           'Gambia, The ', 'UK', \n",
    "                           'USA', 'Iran (Islamic Republic of)',\n",
    "                           'Bahamas, The', 'Russian Federation', 'Czech Republic', 'Republic Of Ireland',\n",
    "                          'Hong Kong Sar', 'Macao Sar', 'Uk','Us',\n",
    "                           'Congo ( Kinshasa)','Congo ( Brazzaville)',\n",
    "                           'Cote D\\' Ivoire', 'Viet Nam','Guinea- Bissau','Guinea','Usa']\n",
    "\n",
    "    mismatch_labels_good = ['Laos','China',\n",
    "                            'Palestine', 'South Korea', 'South Korea', \n",
    "                            'The Gambia', 'United Kingdom', \n",
    "                            'United States','Iran',\n",
    "                            'The Bahamas','Russia','Czechia','Ireland',\n",
    "                            'Hong Kong','Macao','United Kingdom', 'United States',\n",
    "                            'Democratic Republic Of The Congo','Republic Of The Congo',\n",
    "                            'Ivory Coast','Vietnam', 'Guinea Bissau','Guinea Bissau','United States']\n",
    "    \n",
    "    # three cases, column names, country names, or datetime. \n",
    "    if category == 'location':\n",
    "        reformatted_values = []\n",
    "        for val in values_to_transform:\n",
    "            reformatted_values.append(' '.join(re.sub('([A-Z][a-z]+)', r' \\1', \n",
    "                                                        re.sub('([A-Z]+)|_|\\/|\\)|\\(', r' \\1', val).lower())\n",
    "                                                        .split()).title())\n",
    "        transformed_values = pd.Series(reformatted_values).replace(to_replace=mismatch_labels_bad, value=mismatch_labels_good)\n",
    "    \n",
    "    elif category == 'columns':\n",
    "        reformatted_values = []\n",
    "        for val in values_to_transform:\n",
    "            reformatted_values.append('_'.join(re.sub('([A-Z][a-z]+)', r' \\1', \n",
    "                                                     re.sub('([A-Z]+)|_|\\/|\\)|\\(', r' \\1', val)\n",
    "                                                            .lower()).split()))\n",
    "        transformed_values = pd.Series(reformatted_values)\n",
    "        \n",
    "    elif category == 'date':\n",
    "        transformed_values = pd.to_datetime(pd.Series(\n",
    "            values_to_transform), errors='coerce',format=dateformat).dt.normalize()\n",
    "\n",
    "\n",
    "    return transformed_values\n",
    "\n",
    "#----------------- Helper Functions for regularization ----------------------#\n",
    "def intersect_country_index(df, country_intersection):\n",
    "    df_tmp = df.copy().reset_index(level=0)\n",
    "    df_tmp = df_tmp[df_tmp.location.isin(country_intersection)]\n",
    "    df_tmp = df_tmp.set_index(['location', df_tmp.index])\n",
    "    return df_tmp \n",
    "\n",
    "def resample_dates(df, dates):\n",
    "    df = df.loc[~df.index.duplicated(keep='first')]\n",
    "    return df.reindex(pd.MultiIndex.from_product([df.index.levels[0], dates], names=['location', 'date']), fill_value=np.nan)\n",
    "\n",
    "def make_multilevel_columns(df):\n",
    "    df.columns = pd.MultiIndex.from_product([[df.columns.name], df.columns], names=['dataset', 'features'])\n",
    "    return df\n",
    "\n",
    "def multiindex_to_table(df):\n",
    "    df_table = df.copy()\n",
    "    try:\n",
    "        df_table.columns = df_table.columns.droplevel()\n",
    "        df_table.columns.names = ['']\n",
    "    except:\n",
    "        pass\n",
    "    df_table = df_table.reset_index()\n",
    "    return df_table\n",
    "\n",
    "#----------------- Manipulation flagging ----------------------#\n",
    "\n",
    "\n",
    "def regularize_names(df, datekey=None, locationkey=None, dateformat=None):\n",
    "    df.columns = reformat_values(df.columns, category='columns').values\n",
    "    if datekey is not None:\n",
    "        df.loc[:, 'date'] = reformat_values(df.loc[:, datekey], category='date', dateformat=None).values\n",
    "    if locationkey is not None:\n",
    "        df.loc[:, 'location'] =  reformat_values(df.loc[:, locationkey], category='location').values\n",
    "    return df\n",
    "\n",
    "\n",
    "def add_time_indices(data_table, index_column='cases'):\n",
    "    indexer = ((data_table.loc[:, ['location', index_column]].replace(to_replace=np.nan, value=0)\n",
    "               ).replace(to_replace=0, value=np.nan).dropna().reset_index()\n",
    "              )\n",
    "    country_groupby_indices = country_groupby(data_table)\n",
    "    country_groupby_indices_dropped_nan = country_groupby(indexer)\n",
    "    days_since = []\n",
    "    for i, c in enumerate(country_groupby_indices_dropped_nan):\n",
    "        nonzero_list = list(range(len(c)))\n",
    "        zero_list = 0*np.array(list(range(len(country_groupby_indices[i])-len(c))))\n",
    "        days_since += list(zero_list)+nonzero_list\n",
    "    print(len(days_since),len(data_table))\n",
    "    data_table.loc[:, 'days_since_first_case'] = days_since\n",
    "    data_table.loc[:, 'time_index'] = len(data_table.location.unique())*list(range(len(data_table.date.unique())))\n",
    "    return data_table\n",
    "\n",
    "def regularize_time_series(df_list, location_operation='intersection', date_operation='union'):\n",
    "    locations = df_list[0].index.levels[0].unique()\n",
    "    dates =  df_list[0].index.levels[1].unique()\n",
    "    for i in range(len(df_list)-1):\n",
    "        if location_operation == 'intersection':\n",
    "            locations = locations.intersection(df_list[i+1].index.levels[0].unique())\n",
    "        # not really intersection, this is the minimum date that at least one locations has data for, in each dataset.\n",
    "        elif location_operation == 'union':\n",
    "            locations = locations.union(df_list[i+1].index.levels[0].unique())\n",
    "            \n",
    "        if date_operation == 'intersection':\n",
    "            dates = dates.intersection(df_list[i+1].index.levels[1].unique())\n",
    "        elif date_operation == 'union':\n",
    "            dates = dates.union(df_list[i+1].index.levels[1].unique())\n",
    "    df_list = [intersect_country_index(df, locations) for df in df_list]\n",
    "    #This redefines the time series for all variables as from December 31st 2019 to the day with most recent data\n",
    "    time_normalized_global_data = [resample_dates(df, dates.normalize()) for df in df_list]\n",
    "    # To keep track of which data came from where, make the columns multi level with the first level labelling the dataset.\n",
    "    return time_normalized_global_data, dates, locations\n",
    "\n",
    "def rolling_features(df, features, roll_widths):\n",
    "    new_feature_df_list = []\n",
    "    for window in roll_widths:\n",
    "        # order the dataframe so date is index, backfill in the first roll_width values\n",
    "        rollmean = (df.loc[:,features].fillna(value=0.)\n",
    "                   ).groupby(df.location).rolling(window).mean().fillna(value=0.)\n",
    "        rollstd = (df.loc[:,features].fillna(value=0.)\n",
    "                   ).groupby(df.location).rolling(window).std().fillna(value=0.)\n",
    "\n",
    "        new_features = pd.concat((rollmean, rollstd), axis=1)\n",
    "        mean_cols = pd.Index(features) +'_rolling_mean_' + str(window)\n",
    "        std_cols = pd.Index(features) +'_rolling_std_' + str(window)\n",
    "        new_cols = mean_cols.append(std_cols)\n",
    "        new_features.columns = new_cols\n",
    "        new_feature_df_list.append(new_features)\n",
    "    return pd.concat(new_feature_df_list, axis=1)\n",
    "\n",
    "\n",
    "def fix_incorrect_decrease(df, feature, search_threshold='match'):\n",
    "    df_tmp = df.copy()\n",
    "    matching_columns = column_search(df_tmp, feature, return_style='iloc', threshold=search_threshold) \n",
    "    feature_index =  matching_columns[df_tmp.iloc[:, matching_columns].isna().sum().values.argmin()]\n",
    "    location_index =  column_search(df_tmp, 'location', return_style='iloc', threshold=search_threshold)[0] \n",
    "    decreasing_indices = np.where(df_tmp.iloc[:, [location_index, feature_index]].groupby('location').diff(1)< 0)[0].ravel()\n",
    "    n_countries_with_missing = len(df_tmp.iloc[decreasing_indices, location_index].unique().tolist())\n",
    "    print('Fixing {} countries in the ''{}'' column feature'.format(\n",
    "        n_countries_with_missing, df_tmp.iloc[:, feature_index].name)) \n",
    "    # premptive filling, not related to decreasing but rather missing values.\n",
    "    decreasing_incorrectly = []\n",
    "    flag = True\n",
    "    \n",
    "    # flag is switched off immediately, but will be switched on if any values are changed.\n",
    "    df_tmp.iloc[:, feature_index] = df_tmp.iloc[:, [location_index, feature_index]].groupby('location').fillna(method='ffill')\n",
    "    df_tmp.iloc[:, feature_index] = df_tmp.iloc[:, [location_index, feature_index]].groupby('location').fillna(0)\n",
    "    while flag:\n",
    "        flag = False\n",
    "        decreasing_indices = np.where(df_tmp.iloc[:, [location_index, feature_index]].groupby('location').diff(1)< 0)[0].ravel()\n",
    "        if decreasing_indices.size > 0:\n",
    "            countries_with_missing = df_tmp.iloc[decreasing_indices, location_index].unique().tolist()\n",
    "            flag = True\n",
    "            df_tmp.iloc[decreasing_indices, feature_index] = np.nan\n",
    "            df_tmp.iloc[:, feature_index] = df_tmp.iloc[:, [location_index, feature_index]].groupby('location').fillna(method='ffill')\n",
    "            df_tmp.iloc[:, feature_index] = df_tmp.iloc[:, [location_index, feature_index]].groupby('location').fillna(0)\n",
    "    return df_tmp\n",
    "\n",
    "def rolling_means(df, features, roll_widths):\n",
    "    new_feature_df_list = []\n",
    "    for window in roll_widths:\n",
    "        # order the dataframe so date is index, backfill in the first roll_width values\n",
    "        rollmean = None\n",
    "        for c in country_groupby(df):\n",
    "            if rollmean is None:\n",
    "                rollmean = df.loc[c, features].rolling(window).mean().fillna(value=0.)\n",
    "            else:\n",
    "                rollmean = pd.concat((rollmean,  df.loc[c,features].rolling(window).mean().fillna(value=0.)),axis=0)\n",
    "        new_features = rollmean\n",
    "        new_cols = pd.Index(features) +'_rolling_mean_' + str(window)\n",
    "\n",
    "        new_features.columns = new_cols\n",
    "        new_feature_df_list.append(new_features)\n",
    "    return pd.concat(new_feature_df_list,axis=1)\n",
    "\n",
    "def new_average_feature(data, features, new_feature_name):\n",
    "    data.loc[:, new_feature_name] = data.loc[:, features].mean(1).fillna(0).values\n",
    "    return None\n",
    "\n",
    "def modify_time_series_zeros(df, features):\n",
    "    df_modified = df.copy()\n",
    "    df_modified.loc[:, features] = \\\n",
    "        (df_modified.loc[:, features].replace(to_replace=0., value=np.nan)\n",
    "        ).groupby(df.location).fillna(method='ffill').fillna(value=0)\n",
    "    return df_modified"
   ]
  },
  {
   "cell_type": "markdown",
   "metadata": {},
   "source": [
    "<a id='data'></a>\n",
    "# 3. Describing the data\n",
    "\n",
    "[Return to table of contents](#toc)\n",
    "### 3.1 JHU CSSE case data | [Go to wrangling section](#csse)\n",
    "\n",
    "**Data available via github**\n",
    "[https://github.com/CSSEGISandData/COVID-19](https://github.com/CSSEGISandData/COVID-19)\n",
    "\n",
    "This data is split between a collection of .csv files of two different formats; first, the daily reports (global) are\n",
    "separated by day, each residing in their own .csv. Additionally, the daily report files have three different formats that need to be taken into account when compiling the data. The daily report data itself contains values on the number of confirmed cases, deceased, active cases, recovered cases.\n",
    "\n",
    "For the other format, .csv files with 'timeseries' in their filename, the data contains values for confirmed, deceased, recovered and are split between global numbers (contains United States as a whole) and numbers for the united states (statewide).\n",
    "           \n",
    "           \n",
    "### 3.2 OWID case and test data | [Go to wrangling section](#OWID)\n",
    "\n",
    "**Data available via github**\n",
    "[https://github.com/owid/covid-19-data](https://github.com/owid/covid-19-data)\n",
    "\n",
    "The OWID dataset contains information regarding case and test numbers; it overlaps with the JHU CSSE \n",
    "and Testing Tracker datasets but I am going to attempt to use it in conjunction with those two because\n",
    "of how there is unreliable reporting. In other words to get the bigger picture I'm looking to stitch together\n",
    "multiple datasets.\n",
    "\n",
    "           \n",
    "### 3.3 OxCGRT government response data | [Go to wrangling section](#oxcgrt)\n",
    "\n",
    "**Data available via github**\n",
    "[https://github.com/OxCGRT/covid-policy-tracker/](https://github.com/OxCGRT/covid-policy-tracker/)\n",
    "\n",
    "The OxCGRT dataset contains information regarding different government responses in regards to social\n",
    "distancing measures. It measures the type of social distancing measure, whether or not they are recommended\n",
    "or mandated, whether they are targeted or broad (I think geographically). \n",
    "           \n",
    "### 3.4 Testing tracker data | [Go to wrangling section](#testtrack)\n",
    "<!-- **Website which lead me to dataset**\n",
    "[https://www.statista.com/statistics/1109066/coronavirus-testing-in-europe-by-country/](https://www.statista.com/statistics/1109066/coronavirus-testing-in-europe-by-country/) -->\n",
    "\n",
    "**Data available at:**\n",
    "[https://finddx.shinyapps.io/FIND_Cov_19_Tracker/](https://finddx.shinyapps.io/FIND_Cov_19_Tracker/)\n",
    "\n",
    "This dataset contains a time series of testing information: e.g. new (daily) tests, cumulative tests, etc. "
   ]
  },
  {
   "cell_type": "markdown",
   "metadata": {},
   "source": [
    "<a id='reformat'></a>\n",
    "# 4. Data importation and reformatting\n",
    "[Return to table of contents](#toc)\n",
    "\n",
    "The following sections labeled by the corresponding data set reformats them such that the data\n",
    "is stored in a pandas DataFrame with a multiindex; level=0 -> 'location' (country or region) and\n",
    "level=1 -> date. The multiindex usage is deprecated and later removed, but for the sake of merging the DataFrames and dependent code I've left it in this beginning stage. It has instead been replaced by a simple table format and the writing/inclusion of special helper functions to slice the DataFrames by countries and time. Due to the nature of the data this is done separately for country-wide and united states-wide locations.\n",
    "\n",
    "The main cleaning steps are to import the data, rename the columns and location names such that they are consistent between DataFrames. After the main aggregation and cleaning steps, the datasets are then exported to new local versions and then sent along for further processing.\n",
    "\n",
    "The names are regularized because the different datasets have different conventions for how to list the dates and country names. Obviously if we are to compare time series of countries then both of these have to be regularized. The date is reformatted in such a matter such that pandas can easily convert the feature column into a datetime variable. The location names are modified by both changing the names of certain countries and then also removing special spellings and symbols from the name of locations as well as feature names. The features are formatted such that their names are valid python identifiers which enables for use of the attribute syntax (i.e. using the syntax ```data.feature```). The location names are formatted such that words are separated by spaces and that no countries are listed as their abbreviations (for example, the 'U.K.' is listed as 'United Kingdom'. While it technically makes some country names incorrect, I've opted to remove most articles; so it is not 'The United States' it is simply 'United States'. This part of the cleaning is performed using regex. "
   ]
  },
  {
   "cell_type": "markdown",
   "metadata": {},
   "source": [
    "## 4.1 JHU CSSE case data\n",
    "<a id='csse'></a>\n",
    "[Return to table of contents](#toc)"
   ]
  },
  {
   "cell_type": "markdown",
   "metadata": {},
   "source": [
    "This data is in a collection of comma separated value files, and as such I iterate over the csv filenames using the glob package, such that they can be imported and the time series can be sorted by location. There are a collection of csv's for both global data and state-wide data (for the United States). In the global data there are cases, deaths, and recovered numbers. For the U.S.A, there is only cases and deaths. Both datasets start on January 22nd. "
   ]
  },
  {
   "cell_type": "code",
   "execution_count": 3,
   "metadata": {},
   "outputs": [],
   "source": [
    "global_df_list = []\n",
    "\n",
    "for x in glob.glob('../COVID-19/csse_covid_19_data/csse_covid_19_time_series/*_global.csv'):\n",
    "    tmp_df = pd.read_csv(x)\n",
    "    catcols = tmp_df.iloc[:, :4]\n",
    "    datecols = tmp_df.iloc[:, 4:]\n",
    "    catcols.columns = reformat_values(catcols.columns, category='columns').values\n",
    "    catcols.loc[:, 'location'] =  reformat_values(catcols.loc[:, 'country_region'], category='location').values\n",
    "    datecols.columns = reformat_values(datecols.columns, category='date').values\n",
    "    global_tmp = pd.concat((catcols.location,datecols),axis=1).groupby(by='location').sum().sort_index()\n",
    "    # keep the name of the data; i.e. 'confirmed', 'deaths', etc.\n",
    "    time_series_name = x.split('_')[-2]\n",
    "    global_df_list.append(global_tmp.stack().to_frame(name=time_series_name))\n",
    "\n",
    "# Rename the columns\n",
    "csse_global_time_series_df = pd.concat(global_df_list, axis=1)\n",
    "csse_global_time_series_df.index.names = ['location','date']\n",
    "csse_global_time_series_df.columns.names = ['csse_global_timeseries']\n",
    "csse_global_time_series_df.columns = ['cases', 'deaths', 'recovered']\n",
    "csse_global_time_series_df = csse_global_time_series_df.reset_index()\n",
    "\n",
    "# Do the country georgia separately in-case data ever contains U.S. states info.\n",
    "geor_index = csse_global_time_series_df[csse_global_time_series_df.location=='Georgia'].index\n",
    "csse_global_time_series_df.loc[geor_index, 'location'] = 'Sakartvelo' \n",
    "csse_global_time_series_df.loc[:, 'date'] = pd.to_datetime(csse_global_time_series_df.loc[:,'date']).values\n",
    "csse_global_time_series_df = csse_global_time_series_df.set_index(['location', 'date'])"
   ]
  },
  {
   "cell_type": "markdown",
   "metadata": {},
   "source": [
    "Sample of the global data's DataFrame. "
   ]
  },
  {
   "cell_type": "code",
   "execution_count": 4,
   "metadata": {},
   "outputs": [
    {
     "data": {
      "text/html": [
       "<div>\n",
       "<style scoped>\n",
       "    .dataframe tbody tr th:only-of-type {\n",
       "        vertical-align: middle;\n",
       "    }\n",
       "\n",
       "    .dataframe tbody tr th {\n",
       "        vertical-align: top;\n",
       "    }\n",
       "\n",
       "    .dataframe thead th {\n",
       "        text-align: right;\n",
       "    }\n",
       "</style>\n",
       "<table border=\"1\" class=\"dataframe\">\n",
       "  <thead>\n",
       "    <tr style=\"text-align: right;\">\n",
       "      <th></th>\n",
       "      <th></th>\n",
       "      <th>cases</th>\n",
       "      <th>deaths</th>\n",
       "      <th>recovered</th>\n",
       "    </tr>\n",
       "    <tr>\n",
       "      <th>location</th>\n",
       "      <th>date</th>\n",
       "      <th></th>\n",
       "      <th></th>\n",
       "      <th></th>\n",
       "    </tr>\n",
       "  </thead>\n",
       "  <tbody>\n",
       "    <tr>\n",
       "      <th>Malaysia</th>\n",
       "      <th>2020-03-25</th>\n",
       "      <td>1796</td>\n",
       "      <td>20</td>\n",
       "      <td>199</td>\n",
       "    </tr>\n",
       "    <tr>\n",
       "      <th>Cyprus</th>\n",
       "      <th>2020-06-21</th>\n",
       "      <td>986</td>\n",
       "      <td>19</td>\n",
       "      <td>824</td>\n",
       "    </tr>\n",
       "    <tr>\n",
       "      <th>Gabon</th>\n",
       "      <th>2020-02-03</th>\n",
       "      <td>0</td>\n",
       "      <td>0</td>\n",
       "      <td>0</td>\n",
       "    </tr>\n",
       "    <tr>\n",
       "      <th>Finland</th>\n",
       "      <th>2020-04-17</th>\n",
       "      <td>3489</td>\n",
       "      <td>82</td>\n",
       "      <td>1700</td>\n",
       "    </tr>\n",
       "    <tr>\n",
       "      <th>Congo Brazzaville</th>\n",
       "      <th>2020-02-16</th>\n",
       "      <td>0</td>\n",
       "      <td>0</td>\n",
       "      <td>0</td>\n",
       "    </tr>\n",
       "  </tbody>\n",
       "</table>\n",
       "</div>"
      ],
      "text/plain": [
       "                              cases  deaths  recovered\n",
       "location          date                                \n",
       "Malaysia          2020-03-25   1796      20        199\n",
       "Cyprus            2020-06-21    986      19        824\n",
       "Gabon             2020-02-03      0       0          0\n",
       "Finland           2020-04-17   3489      82       1700\n",
       "Congo Brazzaville 2020-02-16      0       0          0"
      ]
     },
     "execution_count": 4,
     "metadata": {},
     "output_type": "execute_result"
    }
   ],
   "source": [
    "csse_global_time_series_df.sample(5)"
   ]
  },
  {
   "cell_type": "code",
   "execution_count": 5,
   "metadata": {},
   "outputs": [],
   "source": [
    "usa_df_list = []\n",
    "for x in glob.glob('../COVID-19/csse_covid_19_data/csse_covid_19_time_series/*_US.csv'):\n",
    "    # Import, process the date columns (i.e. for the time series) and the categorical columns.  \n",
    "    tmp_df = pd.read_csv(x)\n",
    "    catcols = tmp_df.iloc[:, :np.where(tmp_df.columns == '1/22/20')[0][0]]\n",
    "    catcols.columns = reformat_values(catcols.columns, category='columns').values\n",
    "    catcols.loc[:, 'location'] =  catcols.loc[:, 'province_state'].values\n",
    "    \n",
    "    datecols = tmp_df.iloc[:,np.where(tmp_df.columns == '1/22/20')[0][0]:]\n",
    "    datecols.columns = reformat_values(datecols.columns, category='date').values\n",
    "    usa_tmp = pd.concat((catcols.location,datecols),axis=1).groupby(by='location').sum().sort_index()\n",
    "    # keep the name of the data; i.e. 'confirmed', 'deaths', etc.\n",
    "    time_series_name = x.split('_')[-2]\n",
    "    usa_df_list.append(usa_tmp.stack().to_frame(name=time_series_name))\n",
    "    \n",
    "csse_usa_time_series_df = pd.concat(usa_df_list,axis=1)#.reset_index(drop=True)\n",
    "csse_usa_time_series_df.index.names = ['location','date']\n",
    "csse_usa_time_series_df.columns.names = ['csse_us_timeseries']\n",
    "csse_usa_time_series_df.columns = ['cases', 'deaths']\n",
    "csse_usa_time_series_df = csse_usa_time_series_df.reset_index()\n",
    "\n",
    "csse_usa_time_series_df.loc[:, 'date'] = pd.to_datetime(csse_usa_time_series_df.loc[:,'date']).values\n",
    "csse_usa_time_series_df = csse_usa_time_series_df.set_index(['location', 'date'])"
   ]
  },
  {
   "cell_type": "markdown",
   "metadata": {},
   "source": [
    "Sample of the United States specific data."
   ]
  },
  {
   "cell_type": "code",
   "execution_count": 6,
   "metadata": {},
   "outputs": [
    {
     "data": {
      "text/html": [
       "<div>\n",
       "<style scoped>\n",
       "    .dataframe tbody tr th:only-of-type {\n",
       "        vertical-align: middle;\n",
       "    }\n",
       "\n",
       "    .dataframe tbody tr th {\n",
       "        vertical-align: top;\n",
       "    }\n",
       "\n",
       "    .dataframe thead th {\n",
       "        text-align: right;\n",
       "    }\n",
       "</style>\n",
       "<table border=\"1\" class=\"dataframe\">\n",
       "  <thead>\n",
       "    <tr style=\"text-align: right;\">\n",
       "      <th></th>\n",
       "      <th></th>\n",
       "      <th>cases</th>\n",
       "      <th>deaths</th>\n",
       "    </tr>\n",
       "    <tr>\n",
       "      <th>location</th>\n",
       "      <th>date</th>\n",
       "      <th></th>\n",
       "      <th></th>\n",
       "    </tr>\n",
       "  </thead>\n",
       "  <tbody>\n",
       "    <tr>\n",
       "      <th>Mississippi</th>\n",
       "      <th>2020-05-25</th>\n",
       "      <td>13458</td>\n",
       "      <td>635</td>\n",
       "    </tr>\n",
       "    <tr>\n",
       "      <th>New York</th>\n",
       "      <th>2020-03-16</th>\n",
       "      <td>967</td>\n",
       "      <td>21</td>\n",
       "    </tr>\n",
       "    <tr>\n",
       "      <th>Colorado</th>\n",
       "      <th>2020-03-04</th>\n",
       "      <td>0</td>\n",
       "      <td>0</td>\n",
       "    </tr>\n",
       "    <tr>\n",
       "      <th>Nevada</th>\n",
       "      <th>2020-06-10</th>\n",
       "      <td>10218</td>\n",
       "      <td>449</td>\n",
       "    </tr>\n",
       "    <tr>\n",
       "      <th>New Mexico</th>\n",
       "      <th>2020-01-30</th>\n",
       "      <td>0</td>\n",
       "      <td>0</td>\n",
       "    </tr>\n",
       "  </tbody>\n",
       "</table>\n",
       "</div>"
      ],
      "text/plain": [
       "                        cases  deaths\n",
       "location    date                     \n",
       "Mississippi 2020-05-25  13458     635\n",
       "New York    2020-03-16    967      21\n",
       "Colorado    2020-03-04      0       0\n",
       "Nevada      2020-06-10  10218     449\n",
       "New Mexico  2020-01-30      0       0"
      ]
     },
     "execution_count": 6,
     "metadata": {},
     "output_type": "execute_result"
    }
   ],
   "source": [
    "csse_usa_time_series_df.sample(5)"
   ]
  },
  {
   "cell_type": "markdown",
   "metadata": {},
   "source": [
    "## 4.2 OWID case and test data\n",
    "<a id='OWID'></a>\n",
    "[Return to table of contents](#toc)"
   ]
  },
  {
   "cell_type": "markdown",
   "metadata": {},
   "source": [
    "The \"Our World in Data\" dataset contains time series information on the cases, tests, and deaths. Some of these features are cumulative while others represent the daily change with and without normalization by capita. Other features were added while this and the other notebooks were being written, most of these are time-independent features (or at least have a long time scale) such as numerical quantification of the poverty rate of the country. "
   ]
  },
  {
   "cell_type": "code",
   "execution_count": 7,
   "metadata": {},
   "outputs": [],
   "source": [
    "owid_df =pd.read_csv('../covid-19-data/public/data/owid-covid-data.csv')\n",
    "owid_df = regularize_names(owid_df, datekey='date', locationkey='location').set_index(['location', 'date']).sort_index()\n",
    "# I am also using the dataset from which this feature originates.\n",
    "owid_df = owid_df.drop(columns='stringency_index')"
   ]
  },
  {
   "cell_type": "markdown",
   "metadata": {},
   "source": [
    "Show a sample of the OWID data set."
   ]
  },
  {
   "cell_type": "code",
   "execution_count": 8,
   "metadata": {
    "scrolled": true
   },
   "outputs": [
    {
     "data": {
      "text/html": [
       "<div>\n",
       "<style scoped>\n",
       "    .dataframe tbody tr th:only-of-type {\n",
       "        vertical-align: middle;\n",
       "    }\n",
       "\n",
       "    .dataframe tbody tr th {\n",
       "        vertical-align: top;\n",
       "    }\n",
       "\n",
       "    .dataframe thead th {\n",
       "        text-align: right;\n",
       "    }\n",
       "</style>\n",
       "<table border=\"1\" class=\"dataframe\">\n",
       "  <thead>\n",
       "    <tr style=\"text-align: right;\">\n",
       "      <th></th>\n",
       "      <th></th>\n",
       "      <th>iso_code</th>\n",
       "      <th>continent</th>\n",
       "      <th>total_cases</th>\n",
       "      <th>new_cases</th>\n",
       "      <th>total_deaths</th>\n",
       "      <th>new_deaths</th>\n",
       "      <th>total_cases_per_million</th>\n",
       "      <th>new_cases_per_million</th>\n",
       "      <th>total_deaths_per_million</th>\n",
       "      <th>new_deaths_per_million</th>\n",
       "      <th>...</th>\n",
       "      <th>aged_70_older</th>\n",
       "      <th>gdp_per_capita</th>\n",
       "      <th>extreme_poverty</th>\n",
       "      <th>cvd_death_rate</th>\n",
       "      <th>diabetes_prevalence</th>\n",
       "      <th>female_smokers</th>\n",
       "      <th>male_smokers</th>\n",
       "      <th>handwashing_facilities</th>\n",
       "      <th>hospital_beds_per_thousand</th>\n",
       "      <th>life_expectancy</th>\n",
       "    </tr>\n",
       "    <tr>\n",
       "      <th>location</th>\n",
       "      <th>date</th>\n",
       "      <th></th>\n",
       "      <th></th>\n",
       "      <th></th>\n",
       "      <th></th>\n",
       "      <th></th>\n",
       "      <th></th>\n",
       "      <th></th>\n",
       "      <th></th>\n",
       "      <th></th>\n",
       "      <th></th>\n",
       "      <th></th>\n",
       "      <th></th>\n",
       "      <th></th>\n",
       "      <th></th>\n",
       "      <th></th>\n",
       "      <th></th>\n",
       "      <th></th>\n",
       "      <th></th>\n",
       "      <th></th>\n",
       "      <th></th>\n",
       "      <th></th>\n",
       "    </tr>\n",
       "  </thead>\n",
       "  <tbody>\n",
       "    <tr>\n",
       "      <th>Guam</th>\n",
       "      <th>2020-04-10</th>\n",
       "      <td>GUM</td>\n",
       "      <td>Oceania</td>\n",
       "      <td>128.0</td>\n",
       "      <td>3.0</td>\n",
       "      <td>4.0</td>\n",
       "      <td>0.0</td>\n",
       "      <td>758.370</td>\n",
       "      <td>17.774</td>\n",
       "      <td>23.699</td>\n",
       "      <td>0.000</td>\n",
       "      <td>...</td>\n",
       "      <td>5.493</td>\n",
       "      <td>NaN</td>\n",
       "      <td>NaN</td>\n",
       "      <td>310.496</td>\n",
       "      <td>21.52</td>\n",
       "      <td>NaN</td>\n",
       "      <td>NaN</td>\n",
       "      <td>NaN</td>\n",
       "      <td>NaN</td>\n",
       "      <td>80.07</td>\n",
       "    </tr>\n",
       "    <tr>\n",
       "      <th>Hungary</th>\n",
       "      <th>2020-05-01</th>\n",
       "      <td>HUN</td>\n",
       "      <td>Europe</td>\n",
       "      <td>2863.0</td>\n",
       "      <td>88.0</td>\n",
       "      <td>323.0</td>\n",
       "      <td>11.0</td>\n",
       "      <td>296.366</td>\n",
       "      <td>9.109</td>\n",
       "      <td>33.436</td>\n",
       "      <td>1.139</td>\n",
       "      <td>...</td>\n",
       "      <td>11.976</td>\n",
       "      <td>26777.561</td>\n",
       "      <td>0.5</td>\n",
       "      <td>278.296</td>\n",
       "      <td>7.55</td>\n",
       "      <td>26.8</td>\n",
       "      <td>34.8</td>\n",
       "      <td>NaN</td>\n",
       "      <td>7.02</td>\n",
       "      <td>76.88</td>\n",
       "    </tr>\n",
       "    <tr>\n",
       "      <th>Timor</th>\n",
       "      <th>2020-07-01</th>\n",
       "      <td>TLS</td>\n",
       "      <td>Asia</td>\n",
       "      <td>24.0</td>\n",
       "      <td>0.0</td>\n",
       "      <td>0.0</td>\n",
       "      <td>0.0</td>\n",
       "      <td>18.203</td>\n",
       "      <td>0.000</td>\n",
       "      <td>0.000</td>\n",
       "      <td>0.000</td>\n",
       "      <td>...</td>\n",
       "      <td>1.897</td>\n",
       "      <td>6570.102</td>\n",
       "      <td>30.3</td>\n",
       "      <td>335.346</td>\n",
       "      <td>6.86</td>\n",
       "      <td>6.3</td>\n",
       "      <td>78.1</td>\n",
       "      <td>28.178</td>\n",
       "      <td>5.90</td>\n",
       "      <td>69.50</td>\n",
       "    </tr>\n",
       "    <tr>\n",
       "      <th>Slovakia</th>\n",
       "      <th>2020-06-02</th>\n",
       "      <td>SVK</td>\n",
       "      <td>Europe</td>\n",
       "      <td>1522.0</td>\n",
       "      <td>0.0</td>\n",
       "      <td>28.0</td>\n",
       "      <td>0.0</td>\n",
       "      <td>278.773</td>\n",
       "      <td>0.000</td>\n",
       "      <td>5.129</td>\n",
       "      <td>0.000</td>\n",
       "      <td>...</td>\n",
       "      <td>9.167</td>\n",
       "      <td>30155.152</td>\n",
       "      <td>0.7</td>\n",
       "      <td>287.959</td>\n",
       "      <td>7.29</td>\n",
       "      <td>23.1</td>\n",
       "      <td>37.7</td>\n",
       "      <td>NaN</td>\n",
       "      <td>5.82</td>\n",
       "      <td>77.54</td>\n",
       "    </tr>\n",
       "    <tr>\n",
       "      <th>Australia</th>\n",
       "      <th>2020-04-29</th>\n",
       "      <td>AUS</td>\n",
       "      <td>Oceania</td>\n",
       "      <td>6738.0</td>\n",
       "      <td>13.0</td>\n",
       "      <td>88.0</td>\n",
       "      <td>4.0</td>\n",
       "      <td>264.237</td>\n",
       "      <td>0.510</td>\n",
       "      <td>3.451</td>\n",
       "      <td>0.157</td>\n",
       "      <td>...</td>\n",
       "      <td>10.129</td>\n",
       "      <td>44648.710</td>\n",
       "      <td>0.5</td>\n",
       "      <td>107.791</td>\n",
       "      <td>5.07</td>\n",
       "      <td>13.0</td>\n",
       "      <td>16.5</td>\n",
       "      <td>NaN</td>\n",
       "      <td>3.84</td>\n",
       "      <td>83.44</td>\n",
       "    </tr>\n",
       "  </tbody>\n",
       "</table>\n",
       "<p>5 rows × 31 columns</p>\n",
       "</div>"
      ],
      "text/plain": [
       "                     iso_code continent  total_cases  new_cases  total_deaths  \\\n",
       "location  date                                                                  \n",
       "Guam      2020-04-10      GUM   Oceania        128.0        3.0           4.0   \n",
       "Hungary   2020-05-01      HUN    Europe       2863.0       88.0         323.0   \n",
       "Timor     2020-07-01      TLS      Asia         24.0        0.0           0.0   \n",
       "Slovakia  2020-06-02      SVK    Europe       1522.0        0.0          28.0   \n",
       "Australia 2020-04-29      AUS   Oceania       6738.0       13.0          88.0   \n",
       "\n",
       "                      new_deaths  total_cases_per_million  \\\n",
       "location  date                                              \n",
       "Guam      2020-04-10         0.0                  758.370   \n",
       "Hungary   2020-05-01        11.0                  296.366   \n",
       "Timor     2020-07-01         0.0                   18.203   \n",
       "Slovakia  2020-06-02         0.0                  278.773   \n",
       "Australia 2020-04-29         4.0                  264.237   \n",
       "\n",
       "                      new_cases_per_million  total_deaths_per_million  \\\n",
       "location  date                                                          \n",
       "Guam      2020-04-10                 17.774                    23.699   \n",
       "Hungary   2020-05-01                  9.109                    33.436   \n",
       "Timor     2020-07-01                  0.000                     0.000   \n",
       "Slovakia  2020-06-02                  0.000                     5.129   \n",
       "Australia 2020-04-29                  0.510                     3.451   \n",
       "\n",
       "                      new_deaths_per_million  ...  aged_70_older  \\\n",
       "location  date                                ...                  \n",
       "Guam      2020-04-10                   0.000  ...          5.493   \n",
       "Hungary   2020-05-01                   1.139  ...         11.976   \n",
       "Timor     2020-07-01                   0.000  ...          1.897   \n",
       "Slovakia  2020-06-02                   0.000  ...          9.167   \n",
       "Australia 2020-04-29                   0.157  ...         10.129   \n",
       "\n",
       "                      gdp_per_capita  extreme_poverty  cvd_death_rate  \\\n",
       "location  date                                                          \n",
       "Guam      2020-04-10             NaN              NaN         310.496   \n",
       "Hungary   2020-05-01       26777.561              0.5         278.296   \n",
       "Timor     2020-07-01        6570.102             30.3         335.346   \n",
       "Slovakia  2020-06-02       30155.152              0.7         287.959   \n",
       "Australia 2020-04-29       44648.710              0.5         107.791   \n",
       "\n",
       "                      diabetes_prevalence  female_smokers male_smokers  \\\n",
       "location  date                                                           \n",
       "Guam      2020-04-10                21.52             NaN          NaN   \n",
       "Hungary   2020-05-01                 7.55            26.8         34.8   \n",
       "Timor     2020-07-01                 6.86             6.3         78.1   \n",
       "Slovakia  2020-06-02                 7.29            23.1         37.7   \n",
       "Australia 2020-04-29                 5.07            13.0         16.5   \n",
       "\n",
       "                      handwashing_facilities  hospital_beds_per_thousand  \\\n",
       "location  date                                                             \n",
       "Guam      2020-04-10                     NaN                         NaN   \n",
       "Hungary   2020-05-01                     NaN                        7.02   \n",
       "Timor     2020-07-01                  28.178                        5.90   \n",
       "Slovakia  2020-06-02                     NaN                        5.82   \n",
       "Australia 2020-04-29                     NaN                        3.84   \n",
       "\n",
       "                      life_expectancy  \n",
       "location  date                         \n",
       "Guam      2020-04-10            80.07  \n",
       "Hungary   2020-05-01            76.88  \n",
       "Timor     2020-07-01            69.50  \n",
       "Slovakia  2020-06-02            77.54  \n",
       "Australia 2020-04-29            83.44  \n",
       "\n",
       "[5 rows x 31 columns]"
      ]
     },
     "execution_count": 8,
     "metadata": {},
     "output_type": "execute_result"
    }
   ],
   "source": [
    "owid_df.sample(5)"
   ]
  },
  {
   "cell_type": "markdown",
   "metadata": {},
   "source": [
    "## 4.3 OxCGRT government response data\n",
    "<a id='oxcgrt'></a>\n",
    "[Return to table of contents](#toc)"
   ]
  },
  {
   "cell_type": "markdown",
   "metadata": {},
   "source": [
    "Manual importation of data (for whatever reason this data set is different from pulling using their API). This\n",
    "dataset contains time series information for the different social distancing and quarantine measures. The time\n",
    "series are recorded using flags which indicate whether or not a measure is in place, recommended, or not considered.\n",
    "In addition, there are addition flags which augment these time series; indicating whether or not the measures are targeted\n",
    "or general. Lastly are features which quantify important government actions such as the 'economic support index'. Perhaps the most important of these features are a handful of engineered \"index\" features which aggregate and quantify government responses with a score from 0 to 100. For example, the \"stringency index\" feature is a quantity measured from 0 to 100 representing the strictness of government social distancing guidelines. Subcomponents of \"stringency\" include cancelling public gatherings, closing schools, etc. "
   ]
  },
  {
   "cell_type": "code",
   "execution_count": 9,
   "metadata": {},
   "outputs": [],
   "source": [
    "oxcgrt_df = regularize_names(pd.read_csv('../covid-policy-tracker/data/OxCGRT_latest.csv'), locationkey='country_name')\n",
    "oxcgrt_df.loc[:, 'date'] = pd.to_datetime(oxcgrt_df.loc[:, 'date'], format='%Y%m%d')\n",
    "oxcgrt_df = oxcgrt_df.set_index(['location', 'date'])"
   ]
  },
  {
   "cell_type": "code",
   "execution_count": 10,
   "metadata": {},
   "outputs": [
    {
     "data": {
      "text/html": [
       "<div>\n",
       "<style scoped>\n",
       "    .dataframe tbody tr th:only-of-type {\n",
       "        vertical-align: middle;\n",
       "    }\n",
       "\n",
       "    .dataframe tbody tr th {\n",
       "        vertical-align: top;\n",
       "    }\n",
       "\n",
       "    .dataframe thead th {\n",
       "        text-align: right;\n",
       "    }\n",
       "</style>\n",
       "<table border=\"1\" class=\"dataframe\">\n",
       "  <thead>\n",
       "    <tr style=\"text-align: right;\">\n",
       "      <th></th>\n",
       "      <th></th>\n",
       "      <th>country_name</th>\n",
       "      <th>country_code</th>\n",
       "      <th>c1_school_closing</th>\n",
       "      <th>c1_flag</th>\n",
       "      <th>c2_workplace_closing</th>\n",
       "      <th>c2_flag</th>\n",
       "      <th>c3_cancel_public_events</th>\n",
       "      <th>c3_flag</th>\n",
       "      <th>c4_restrictions_on_gatherings</th>\n",
       "      <th>c4_flag</th>\n",
       "      <th>...</th>\n",
       "      <th>stringency_index</th>\n",
       "      <th>stringency_index_for_display</th>\n",
       "      <th>stringency_legacy_index</th>\n",
       "      <th>stringency_legacy_index_for_display</th>\n",
       "      <th>government_response_index</th>\n",
       "      <th>government_response_index_for_display</th>\n",
       "      <th>containment_health_index</th>\n",
       "      <th>containment_health_index_for_display</th>\n",
       "      <th>economic_support_index</th>\n",
       "      <th>economic_support_index_for_display</th>\n",
       "    </tr>\n",
       "    <tr>\n",
       "      <th>location</th>\n",
       "      <th>date</th>\n",
       "      <th></th>\n",
       "      <th></th>\n",
       "      <th></th>\n",
       "      <th></th>\n",
       "      <th></th>\n",
       "      <th></th>\n",
       "      <th></th>\n",
       "      <th></th>\n",
       "      <th></th>\n",
       "      <th></th>\n",
       "      <th></th>\n",
       "      <th></th>\n",
       "      <th></th>\n",
       "      <th></th>\n",
       "      <th></th>\n",
       "      <th></th>\n",
       "      <th></th>\n",
       "      <th></th>\n",
       "      <th></th>\n",
       "      <th></th>\n",
       "      <th></th>\n",
       "    </tr>\n",
       "  </thead>\n",
       "  <tbody>\n",
       "    <tr>\n",
       "      <th>Mongolia</th>\n",
       "      <th>2020-06-14</th>\n",
       "      <td>Mongolia</td>\n",
       "      <td>MNG</td>\n",
       "      <td>3.0</td>\n",
       "      <td>1.0</td>\n",
       "      <td>2.0</td>\n",
       "      <td>1.0</td>\n",
       "      <td>2.0</td>\n",
       "      <td>1.0</td>\n",
       "      <td>4.0</td>\n",
       "      <td>1.0</td>\n",
       "      <td>...</td>\n",
       "      <td>62.96</td>\n",
       "      <td>62.96</td>\n",
       "      <td>67.86</td>\n",
       "      <td>67.86</td>\n",
       "      <td>61.54</td>\n",
       "      <td>61.54</td>\n",
       "      <td>63.64</td>\n",
       "      <td>63.64</td>\n",
       "      <td>50.0</td>\n",
       "      <td>50.0</td>\n",
       "    </tr>\n",
       "    <tr>\n",
       "      <th>Solomon Islands</th>\n",
       "      <th>2020-02-29</th>\n",
       "      <td>Solomon Islands</td>\n",
       "      <td>SLB</td>\n",
       "      <td>0.0</td>\n",
       "      <td>NaN</td>\n",
       "      <td>0.0</td>\n",
       "      <td>NaN</td>\n",
       "      <td>0.0</td>\n",
       "      <td>NaN</td>\n",
       "      <td>0.0</td>\n",
       "      <td>NaN</td>\n",
       "      <td>...</td>\n",
       "      <td>8.33</td>\n",
       "      <td>8.33</td>\n",
       "      <td>10.71</td>\n",
       "      <td>10.71</td>\n",
       "      <td>5.77</td>\n",
       "      <td>5.77</td>\n",
       "      <td>6.82</td>\n",
       "      <td>6.82</td>\n",
       "      <td>0.0</td>\n",
       "      <td>0.0</td>\n",
       "    </tr>\n",
       "    <tr>\n",
       "      <th>Myanmar</th>\n",
       "      <th>2020-06-24</th>\n",
       "      <td>Myanmar</td>\n",
       "      <td>MMR</td>\n",
       "      <td>3.0</td>\n",
       "      <td>1.0</td>\n",
       "      <td>2.0</td>\n",
       "      <td>0.0</td>\n",
       "      <td>2.0</td>\n",
       "      <td>1.0</td>\n",
       "      <td>4.0</td>\n",
       "      <td>1.0</td>\n",
       "      <td>...</td>\n",
       "      <td>80.56</td>\n",
       "      <td>80.56</td>\n",
       "      <td>79.76</td>\n",
       "      <td>79.76</td>\n",
       "      <td>64.74</td>\n",
       "      <td>64.74</td>\n",
       "      <td>76.52</td>\n",
       "      <td>76.52</td>\n",
       "      <td>0.0</td>\n",
       "      <td>0.0</td>\n",
       "    </tr>\n",
       "    <tr>\n",
       "      <th>Ivory Coast</th>\n",
       "      <th>2020-06-27</th>\n",
       "      <td>Cote d'Ivoire</td>\n",
       "      <td>CIV</td>\n",
       "      <td>0.0</td>\n",
       "      <td>NaN</td>\n",
       "      <td>2.0</td>\n",
       "      <td>1.0</td>\n",
       "      <td>2.0</td>\n",
       "      <td>1.0</td>\n",
       "      <td>3.0</td>\n",
       "      <td>0.0</td>\n",
       "      <td>...</td>\n",
       "      <td>60.65</td>\n",
       "      <td>60.65</td>\n",
       "      <td>67.86</td>\n",
       "      <td>67.86</td>\n",
       "      <td>58.65</td>\n",
       "      <td>58.65</td>\n",
       "      <td>60.23</td>\n",
       "      <td>60.23</td>\n",
       "      <td>50.0</td>\n",
       "      <td>50.0</td>\n",
       "    </tr>\n",
       "    <tr>\n",
       "      <th>Latvia</th>\n",
       "      <th>2020-02-18</th>\n",
       "      <td>Latvia</td>\n",
       "      <td>LVA</td>\n",
       "      <td>0.0</td>\n",
       "      <td>NaN</td>\n",
       "      <td>0.0</td>\n",
       "      <td>NaN</td>\n",
       "      <td>0.0</td>\n",
       "      <td>NaN</td>\n",
       "      <td>0.0</td>\n",
       "      <td>NaN</td>\n",
       "      <td>...</td>\n",
       "      <td>2.78</td>\n",
       "      <td>2.78</td>\n",
       "      <td>4.76</td>\n",
       "      <td>4.76</td>\n",
       "      <td>4.49</td>\n",
       "      <td>4.49</td>\n",
       "      <td>5.30</td>\n",
       "      <td>5.30</td>\n",
       "      <td>0.0</td>\n",
       "      <td>0.0</td>\n",
       "    </tr>\n",
       "  </tbody>\n",
       "</table>\n",
       "<p>5 rows × 41 columns</p>\n",
       "</div>"
      ],
      "text/plain": [
       "                               country_name country_code  c1_school_closing  \\\n",
       "location        date                                                          \n",
       "Mongolia        2020-06-14         Mongolia          MNG                3.0   \n",
       "Solomon Islands 2020-02-29  Solomon Islands          SLB                0.0   \n",
       "Myanmar         2020-06-24          Myanmar          MMR                3.0   \n",
       "Ivory Coast     2020-06-27    Cote d'Ivoire          CIV                0.0   \n",
       "Latvia          2020-02-18           Latvia          LVA                0.0   \n",
       "\n",
       "                            c1_flag  c2_workplace_closing  c2_flag  \\\n",
       "location        date                                                 \n",
       "Mongolia        2020-06-14      1.0                   2.0      1.0   \n",
       "Solomon Islands 2020-02-29      NaN                   0.0      NaN   \n",
       "Myanmar         2020-06-24      1.0                   2.0      0.0   \n",
       "Ivory Coast     2020-06-27      NaN                   2.0      1.0   \n",
       "Latvia          2020-02-18      NaN                   0.0      NaN   \n",
       "\n",
       "                            c3_cancel_public_events  c3_flag  \\\n",
       "location        date                                           \n",
       "Mongolia        2020-06-14                      2.0      1.0   \n",
       "Solomon Islands 2020-02-29                      0.0      NaN   \n",
       "Myanmar         2020-06-24                      2.0      1.0   \n",
       "Ivory Coast     2020-06-27                      2.0      1.0   \n",
       "Latvia          2020-02-18                      0.0      NaN   \n",
       "\n",
       "                            c4_restrictions_on_gatherings  c4_flag  ...  \\\n",
       "location        date                                                ...   \n",
       "Mongolia        2020-06-14                            4.0      1.0  ...   \n",
       "Solomon Islands 2020-02-29                            0.0      NaN  ...   \n",
       "Myanmar         2020-06-24                            4.0      1.0  ...   \n",
       "Ivory Coast     2020-06-27                            3.0      0.0  ...   \n",
       "Latvia          2020-02-18                            0.0      NaN  ...   \n",
       "\n",
       "                            stringency_index  stringency_index_for_display  \\\n",
       "location        date                                                         \n",
       "Mongolia        2020-06-14             62.96                         62.96   \n",
       "Solomon Islands 2020-02-29              8.33                          8.33   \n",
       "Myanmar         2020-06-24             80.56                         80.56   \n",
       "Ivory Coast     2020-06-27             60.65                         60.65   \n",
       "Latvia          2020-02-18              2.78                          2.78   \n",
       "\n",
       "                            stringency_legacy_index  \\\n",
       "location        date                                  \n",
       "Mongolia        2020-06-14                    67.86   \n",
       "Solomon Islands 2020-02-29                    10.71   \n",
       "Myanmar         2020-06-24                    79.76   \n",
       "Ivory Coast     2020-06-27                    67.86   \n",
       "Latvia          2020-02-18                     4.76   \n",
       "\n",
       "                            stringency_legacy_index_for_display  \\\n",
       "location        date                                              \n",
       "Mongolia        2020-06-14                                67.86   \n",
       "Solomon Islands 2020-02-29                                10.71   \n",
       "Myanmar         2020-06-24                                79.76   \n",
       "Ivory Coast     2020-06-27                                67.86   \n",
       "Latvia          2020-02-18                                 4.76   \n",
       "\n",
       "                            government_response_index  \\\n",
       "location        date                                    \n",
       "Mongolia        2020-06-14                      61.54   \n",
       "Solomon Islands 2020-02-29                       5.77   \n",
       "Myanmar         2020-06-24                      64.74   \n",
       "Ivory Coast     2020-06-27                      58.65   \n",
       "Latvia          2020-02-18                       4.49   \n",
       "\n",
       "                            government_response_index_for_display  \\\n",
       "location        date                                                \n",
       "Mongolia        2020-06-14                                  61.54   \n",
       "Solomon Islands 2020-02-29                                   5.77   \n",
       "Myanmar         2020-06-24                                  64.74   \n",
       "Ivory Coast     2020-06-27                                  58.65   \n",
       "Latvia          2020-02-18                                   4.49   \n",
       "\n",
       "                            containment_health_index  \\\n",
       "location        date                                   \n",
       "Mongolia        2020-06-14                     63.64   \n",
       "Solomon Islands 2020-02-29                      6.82   \n",
       "Myanmar         2020-06-24                     76.52   \n",
       "Ivory Coast     2020-06-27                     60.23   \n",
       "Latvia          2020-02-18                      5.30   \n",
       "\n",
       "                            containment_health_index_for_display  \\\n",
       "location        date                                               \n",
       "Mongolia        2020-06-14                                 63.64   \n",
       "Solomon Islands 2020-02-29                                  6.82   \n",
       "Myanmar         2020-06-24                                 76.52   \n",
       "Ivory Coast     2020-06-27                                 60.23   \n",
       "Latvia          2020-02-18                                  5.30   \n",
       "\n",
       "                            economic_support_index  \\\n",
       "location        date                                 \n",
       "Mongolia        2020-06-14                    50.0   \n",
       "Solomon Islands 2020-02-29                     0.0   \n",
       "Myanmar         2020-06-24                     0.0   \n",
       "Ivory Coast     2020-06-27                    50.0   \n",
       "Latvia          2020-02-18                     0.0   \n",
       "\n",
       "                            economic_support_index_for_display  \n",
       "location        date                                            \n",
       "Mongolia        2020-06-14                                50.0  \n",
       "Solomon Islands 2020-02-29                                 0.0  \n",
       "Myanmar         2020-06-24                                 0.0  \n",
       "Ivory Coast     2020-06-27                                50.0  \n",
       "Latvia          2020-02-18                                 0.0  \n",
       "\n",
       "[5 rows x 41 columns]"
      ]
     },
     "execution_count": 10,
     "metadata": {},
     "output_type": "execute_result"
    }
   ],
   "source": [
    "oxcgrt_df.sample(5)"
   ]
  },
  {
   "cell_type": "markdown",
   "metadata": {},
   "source": [
    "Reformat the data, making it a multiindex dataframe which matches the others in this notebook. Also, cast\n",
    "the date-like variable as a datetime feature."
   ]
  },
  {
   "cell_type": "markdown",
   "metadata": {},
   "source": [
    "## 4.4 Testing tracker data\n",
    "<a id='testtrack'></a>\n",
    "[Return to table of contents](#toc)"
   ]
  },
  {
   "cell_type": "markdown",
   "metadata": {},
   "source": [
    "The test tracker dataset contains test and case information; on the link provided above they mention that the case data comes from the JHUCSSE source used above. The testing data, however, is aggregated from sources all around the world."
   ]
  },
  {
   "cell_type": "code",
   "execution_count": 11,
   "metadata": {},
   "outputs": [],
   "source": [
    "test_tracker = regularize_names(pd.read_csv('../data/test_tracker_cases_and_tests.csv'),\n",
    "                          datekey='date', locationkey='country').set_index(\n",
    "                            ['location', 'date']).drop(\n",
    "                                    columns=['country','source','continent', 'population','alpha3']).sort_index()"
   ]
  },
  {
   "cell_type": "code",
   "execution_count": 12,
   "metadata": {},
   "outputs": [
    {
     "data": {
      "text/html": [
       "<div>\n",
       "<style scoped>\n",
       "    .dataframe tbody tr th:only-of-type {\n",
       "        vertical-align: middle;\n",
       "    }\n",
       "\n",
       "    .dataframe tbody tr th {\n",
       "        vertical-align: top;\n",
       "    }\n",
       "\n",
       "    .dataframe thead th {\n",
       "        text-align: right;\n",
       "    }\n",
       "</style>\n",
       "<table border=\"1\" class=\"dataframe\">\n",
       "  <thead>\n",
       "    <tr style=\"text-align: right;\">\n",
       "      <th></th>\n",
       "      <th></th>\n",
       "      <th>new_tests</th>\n",
       "      <th>tests_cumulative</th>\n",
       "      <th>tests_per100k</th>\n",
       "      <th>cases</th>\n",
       "      <th>new_cases</th>\n",
       "      <th>deaths</th>\n",
       "      <th>cases_per100k</th>\n",
       "      <th>deaths_per100k</th>\n",
       "      <th>income_group</th>\n",
       "      <th>region</th>\n",
       "    </tr>\n",
       "    <tr>\n",
       "      <th>location</th>\n",
       "      <th>date</th>\n",
       "      <th></th>\n",
       "      <th></th>\n",
       "      <th></th>\n",
       "      <th></th>\n",
       "      <th></th>\n",
       "      <th></th>\n",
       "      <th></th>\n",
       "      <th></th>\n",
       "      <th></th>\n",
       "      <th></th>\n",
       "    </tr>\n",
       "  </thead>\n",
       "  <tbody>\n",
       "    <tr>\n",
       "      <th>Japan</th>\n",
       "      <th>2020-03-02</th>\n",
       "      <td>NaN</td>\n",
       "      <td>NaN</td>\n",
       "      <td>NaN</td>\n",
       "      <td>274.0</td>\n",
       "      <td>18.0</td>\n",
       "      <td>6.0</td>\n",
       "      <td>0.2</td>\n",
       "      <td>0.0</td>\n",
       "      <td>High income</td>\n",
       "      <td>Eastern Asia</td>\n",
       "    </tr>\n",
       "    <tr>\n",
       "      <th>Saint Lucia</th>\n",
       "      <th>2020-06-05</th>\n",
       "      <td>0.0</td>\n",
       "      <td>1012.0</td>\n",
       "      <td>550.0</td>\n",
       "      <td>19.0</td>\n",
       "      <td>0.0</td>\n",
       "      <td>0.0</td>\n",
       "      <td>10.3</td>\n",
       "      <td>0.0</td>\n",
       "      <td>Upper middle income</td>\n",
       "      <td>Caribbean</td>\n",
       "    </tr>\n",
       "    <tr>\n",
       "      <th>North Macedonia</th>\n",
       "      <th>2020-06-30</th>\n",
       "      <td>3964.0</td>\n",
       "      <td>60773.0</td>\n",
       "      <td>2917.6</td>\n",
       "      <td>6334.0</td>\n",
       "      <td>125.0</td>\n",
       "      <td>302.0</td>\n",
       "      <td>304.1</td>\n",
       "      <td>14.5</td>\n",
       "      <td>Upper middle income</td>\n",
       "      <td>Southern Europe</td>\n",
       "    </tr>\n",
       "    <tr>\n",
       "      <th>Serbia</th>\n",
       "      <th>2020-06-14</th>\n",
       "      <td>1802.0</td>\n",
       "      <td>302928.0</td>\n",
       "      <td>3467.2</td>\n",
       "      <td>12310.0</td>\n",
       "      <td>59.0</td>\n",
       "      <td>254.0</td>\n",
       "      <td>140.9</td>\n",
       "      <td>2.9</td>\n",
       "      <td>Upper middle income</td>\n",
       "      <td>Southern Europe</td>\n",
       "    </tr>\n",
       "    <tr>\n",
       "      <th>Colombia</th>\n",
       "      <th>2020-05-07</th>\n",
       "      <td>4006.0</td>\n",
       "      <td>131111.0</td>\n",
       "      <td>257.7</td>\n",
       "      <td>9456.0</td>\n",
       "      <td>497.0</td>\n",
       "      <td>407.0</td>\n",
       "      <td>18.6</td>\n",
       "      <td>0.8</td>\n",
       "      <td>Upper middle income</td>\n",
       "      <td>South America</td>\n",
       "    </tr>\n",
       "  </tbody>\n",
       "</table>\n",
       "</div>"
      ],
      "text/plain": [
       "                            new_tests  tests_cumulative  tests_per100k  \\\n",
       "location        date                                                     \n",
       "Japan           2020-03-02        NaN               NaN            NaN   \n",
       "Saint Lucia     2020-06-05        0.0            1012.0          550.0   \n",
       "North Macedonia 2020-06-30     3964.0           60773.0         2917.6   \n",
       "Serbia          2020-06-14     1802.0          302928.0         3467.2   \n",
       "Colombia        2020-05-07     4006.0          131111.0          257.7   \n",
       "\n",
       "                              cases  new_cases  deaths  cases_per100k  \\\n",
       "location        date                                                    \n",
       "Japan           2020-03-02    274.0       18.0     6.0            0.2   \n",
       "Saint Lucia     2020-06-05     19.0        0.0     0.0           10.3   \n",
       "North Macedonia 2020-06-30   6334.0      125.0   302.0          304.1   \n",
       "Serbia          2020-06-14  12310.0       59.0   254.0          140.9   \n",
       "Colombia        2020-05-07   9456.0      497.0   407.0           18.6   \n",
       "\n",
       "                            deaths_per100k         income_group  \\\n",
       "location        date                                              \n",
       "Japan           2020-03-02             0.0          High income   \n",
       "Saint Lucia     2020-06-05             0.0  Upper middle income   \n",
       "North Macedonia 2020-06-30            14.5  Upper middle income   \n",
       "Serbia          2020-06-14             2.9  Upper middle income   \n",
       "Colombia        2020-05-07             0.8  Upper middle income   \n",
       "\n",
       "                                     region  \n",
       "location        date                         \n",
       "Japan           2020-03-02     Eastern Asia  \n",
       "Saint Lucia     2020-06-05        Caribbean  \n",
       "North Macedonia 2020-06-30  Southern Europe  \n",
       "Serbia          2020-06-14  Southern Europe  \n",
       "Colombia        2020-05-07    South America  "
      ]
     },
     "execution_count": 12,
     "metadata": {},
     "output_type": "execute_result"
    }
   ],
   "source": [
    "test_tracker.sample(5)"
   ]
  },
  {
   "cell_type": "markdown",
   "metadata": {},
   "source": [
    "<a id='uniformity'></a>\n",
    "\n",
    "# 5. Data regularization: making things uniform\n",
    "[Return to table of contents](#toc)\n",
    "\n",
    "## 5.1 Intersection of countries and time series dates\n",
    "\n",
    "For the exploratory dataset, I try to leave as much as of the data untouched as possible. The only fixes I employ are the correct the variables which are supposed to be cumulative. This ignores the possible exploration of the errors in reporting in favor of a more sensible description of features with higher priority, such as the number of new cases per capita per day. The first steps for the exploration dataset is to normalize the time series by taking the intersection of all reporting dates of all of the datasets. The reason why I take the intersection and not the union is because I am mainly interested in the time series in the midst of the pandemic; as will be explored most countries measured their first cases in March, while the union of all dates would extend back to January 1st. \n",
    "\n",
    "The data that will be used to model country-wide case numbers exists in the DataFrames : \n",
    "\n",
    "    csse_global_timeseries_df\n",
    "    owid_df\n",
    "    oxcgrt_df\n",
    "    testtrack_df\n",
    "    \n",
    "The index (locations) were not reformatted by default; do that now.\n",
    "\n",
    "The data have all been formatted to have multi level indices and columns; the levels of the index are ```['location', 'date']``` which correspond to geographical location and day of record. To process/merge these dataframes, I find it convenient to put these DataFrames into a list and then normalize the countries and dates. For the data exploration exploration purposes, the similarly named (i.e. redundant) features are kept separate by adding a suffix corresponding to the dataset from which they originate.\n",
    "\n",
    "The next step is to find the subset of all countries which exist in all of the DataFrames. It is possible to\n",
    "simply concatenate the data and introduce missing values, however, I am electing to take the intersection of countries as\n",
    "to take a subset which will have a minimal number of missing values. On the contrary, for the dates I take the union; that is, the dates that exist in all datasets, because it is fairly straighforward how to impute the values for pre-pandemic dates. "
   ]
  },
  {
   "cell_type": "code",
   "execution_count": 13,
   "metadata": {},
   "outputs": [],
   "source": [
    "# the data to be used for exploration\n",
    "all_data = [csse_global_time_series_df,csse_usa_time_series_df, test_tracker, oxcgrt_df, owid_df]\n",
    "# the data to be used for modeling (to be further pruned later)\n",
    "global_data = [csse_global_time_series_df, test_tracker, oxcgrt_df, owid_df]"
   ]
  },
  {
   "cell_type": "code",
   "execution_count": 14,
   "metadata": {
    "scrolled": false
   },
   "outputs": [
    {
     "name": "stdout",
     "output_type": "stream",
     "text": [
      "jhucsse dataset contains 187 locations\n",
      "jhucsse_usa dataset contains 58 locations\n",
      "testtracker dataset contains 194 locations\n",
      "oxcgrt dataset contains 178 locations\n",
      "owid dataset contains 211 locations\n"
     ]
    }
   ],
   "source": [
    "names = ['jhucsse', 'jhucsse_usa', 'testtracker',  'oxcgrt', 'owid']\n",
    "csvnames = [n+'.csv' for n in names]\n",
    "for i, df in enumerate(all_data):\n",
    "    print(names[i],'dataset contains', df.index.get_level_values(0).nunique(),'locations')\n",
    "    if not os.path.isfile('../data/'+csvnames[i]):\n",
    "        df.to_csv('../data/'+csvnames[i])"
   ]
  },
  {
   "cell_type": "code",
   "execution_count": 15,
   "metadata": {},
   "outputs": [
    {
     "name": "stdout",
     "output_type": "stream",
     "text": [
      "jhucsse dataset contains 161 dates, ranging from 2020-01-22 to 2020-06-30\n",
      "jhucsse_usa dataset contains 161 dates, ranging from 2020-01-22 to 2020-06-30\n",
      "testtracker dataset contains 166 dates, ranging from 2020-01-18 to 2020-07-01\n",
      "oxcgrt dataset contains 190 dates, ranging from 2020-01-01 to 2020-07-08\n",
      "owid dataset contains 184 dates, ranging from 2019-12-31 to 2020-07-01\n"
     ]
    }
   ],
   "source": [
    "names = ['jhucsse', 'jhucsse_usa', 'testtracker',  'oxcgrt', 'owid']\n",
    "\n",
    "for i, df in enumerate(all_data):\n",
    "    df_dates = df.index.get_level_values(1)\n",
    "    print(names[i],'dataset contains', \n",
    "          df_dates.nunique(),\n",
    "          'dates, ranging from {} to {}'.format(df_dates.date.min(), df_dates.date.max()))"
   ]
  },
  {
   "cell_type": "code",
   "execution_count": 16,
   "metadata": {},
   "outputs": [
    {
     "name": "stdout",
     "output_type": "stream",
     "text": [
      "The range of all dates is from 2020-01-22 00:00:00 to 2020-06-30 00:00:00\n",
      "The final number of locations included is 296\n"
     ]
    }
   ],
   "source": [
    "export_list = []\n",
    "\n",
    "export_list_tmp, dates_intersection, country_intersection = regularize_time_series(all_data, location_operation='union',\n",
    "                                                                                  date_operation='intersection')\n",
    "\n",
    "for i, x in enumerate(export_list_tmp):\n",
    "    gd_export_copy = x.copy()\n",
    "    gd_export_copy.columns += '_' + names[i]\n",
    "    export_list.append(gd_export_copy)\n",
    "    \n",
    "eda_data = multiindex_to_table(pd.concat(export_list, axis=1))\n",
    "eda_data = eda_data[~eda_data.location.isin(['Diamond Princess','World'])]\n",
    "\n",
    "print('The range of all dates is from {} to {}'.format(dates_intersection.min(), dates_intersection.max()))\n",
    "print('The final number of locations included is {}'.format(len(country_intersection)))"
   ]
  },
  {
   "cell_type": "markdown",
   "metadata": {},
   "source": [
    "By using multiple datasets, there is redundant information for cases, tests, deaths, etc. I average\n",
    "over these values to account for errors and differences in reporting, using the philosophy that\n",
    "it is better to aggregate as much data as possible, at the very least for exploration. It turns out the the test variables do not necessarily have the same units with respect to the different datasets ***or*** with respect to each individual dataset, that is, the units are not consistent; this is later captured by one-hot encoding of the flags which indicate the units. Unfortunately, if the different units are not accounted for, then this can introduce a large source of error, as fundamentally different quantities will share weights with respect to regression or neural networks. Because of this the simplest handling is to simply drop the features, which is what I have done at least temporarily."
   ]
  },
  {
   "cell_type": "code",
   "execution_count": 17,
   "metadata": {},
   "outputs": [],
   "source": [
    "death_columns = ['deaths_jhucsse', 'deaths_jhucsse_usa']\n",
    "new_average_feature(eda_data, death_columns, 'total_deaths')\n",
    "\n",
    "case_columns = ['cases_jhucsse', 'cases_jhucsse_usa', 'cases_testtracker',\n",
    "       'confirmed_cases_oxcgrt', 'total_cases_owid']\n",
    "new_average_feature(eda_data, case_columns, 'total_cases')\n",
    "\n",
    "test_columns =  [ 'tests_cumulative_testtracker','total_tests_owid']\n",
    "new_average_feature(eda_data, test_columns, 'total_tests')"
   ]
  },
  {
   "cell_type": "markdown",
   "metadata": {},
   "source": [
    "If there are any countries without any information on the total cases, then they are dropped\n",
    "due to lack of utility."
   ]
  },
  {
   "cell_type": "code",
   "execution_count": 18,
   "metadata": {},
   "outputs": [],
   "source": [
    "locations_with_no_case_data = eda_data.location[~eda_data.location.isin(\n",
    "    eda_data.loc[eda_data.total_cases.replace(to_replace=[0,0.], value=np.nan\n",
    "                                             ).dropna().index,'location'].unique())].unique()"
   ]
  },
  {
   "cell_type": "markdown",
   "metadata": {},
   "source": [
    "Drop the \"bad\" countries and then create new time-index features. Time index is an integer counting feature which spans\n",
    "the range of dates printed out above."
   ]
  },
  {
   "cell_type": "code",
   "execution_count": 19,
   "metadata": {},
   "outputs": [
    {
     "name": "stdout",
     "output_type": "stream",
     "text": [
      "46529 46529\n"
     ]
    }
   ],
   "source": [
    "eda_data = eda_data[~(eda_data.location.isin(locations_with_no_case_data))]\n",
    "eda_data = add_time_indices(eda_data, index_column='total_cases')\n",
    "eda_data = eda_data.reset_index(drop=True)"
   ]
  },
  {
   "cell_type": "markdown",
   "metadata": {},
   "source": [
    "Look at the top five total countries deaths, tests, cases, time series to get an idea as to the condition of the data."
   ]
  },
  {
   "cell_type": "code",
   "execution_count": 20,
   "metadata": {},
   "outputs": [],
   "source": [
    "toptencase_locations = eda_data.set_index(['time_index', 'location']).total_cases.groupby(level=1).max().sort_values()[-10:].index\n",
    "toptendeath_locations = eda_data.set_index(['time_index', 'location']).total_deaths.groupby(level=1).max().sort_values()[-10:].index\n",
    "toptentest_locations = eda_data.set_index(['time_index', 'location']).total_tests.groupby(level=1).max().sort_values()[-10:].index"
   ]
  },
  {
   "cell_type": "markdown",
   "metadata": {},
   "source": [
    "## 5.2 Feature corrections and modifications\n",
    "<a id='mod'></a>\n",
    "[Return to table of contents](#toc)"
   ]
  },
  {
   "cell_type": "code",
   "execution_count": 21,
   "metadata": {},
   "outputs": [
    {
     "data": {
      "image/png": "[encoded data removed]",
      "text/plain": [
       "<Figure size 432x288 with 1 Axes>"
      ]
     },
     "metadata": {
      "needs_background": "light"
     },
     "output_type": "display_data"
    }
   ],
   "source": [
    "(eda_data[eda_data.location.isin(toptencase_locations)].set_index(['time_index', 'location'])\n",
    ").total_cases.unstack().plot()\n",
    "plt.ylabel('Cumulative cases')\n",
    "plt.savefig('top_10_cases_cumulative.jpg', bbox_inches='tight')"
   ]
  },
  {
   "cell_type": "code",
   "execution_count": 22,
   "metadata": {},
   "outputs": [
    {
     "data": {
      "image/png": "[encoded data removed]",
      "text/plain": [
       "<Figure size 432x288 with 1 Axes>"
      ]
     },
     "metadata": {
      "needs_background": "light"
     },
     "output_type": "display_data"
    }
   ],
   "source": [
    "eda_data[eda_data.location.isin(\n",
    "                                 (eda_data.set_index(['time_index', 'location']).total_deaths\n",
    "                                 ).groupby(level=1).max().sort_values()[-10:].index\n",
    "                               )].set_index(['time_index', 'location']).total_deaths.unstack().plot()\n",
    "\n",
    "\n",
    "plt.ylabel('Cumulative deaths')\n",
    "plt.savefig('top_10_deaths_cumulative.jpg', bbox_inches='tight')"
   ]
  },
  {
   "cell_type": "code",
   "execution_count": 23,
   "metadata": {},
   "outputs": [
    {
     "data": {
      "image/png": "[encoded data removed]",
      "text/plain": [
       "<Figure size 432x288 with 1 Axes>"
      ]
     },
     "metadata": {
      "needs_background": "light"
     },
     "output_type": "display_data"
    }
   ],
   "source": [
    "eda_data[eda_data.location.isin(eda_data.set_index(['time_index', 'location']).total_tests.groupby(level=1).max().sort_values()[-10:-5].index)].set_index(['time_index', 'location']).total_tests.unstack().plot()\n",
    "_ = plt.ylabel('Cumulative tests')\n",
    "plt.savefig('top_10_tests_cumulative.jpg', bbox_inches='tight')"
   ]
  },
  {
   "cell_type": "code",
   "execution_count": 24,
   "metadata": {},
   "outputs": [
    {
     "name": "stdout",
     "output_type": "stream",
     "text": [
      "Fixing 68 countries in the total_tests column feature\n",
      "Fixing 59 countries in the total_cases column feature\n",
      "Fixing 48 countries in the total_deaths column feature\n"
     ]
    }
   ],
   "source": [
    "for features in ['total_tests', 'total_cases', 'total_deaths']:\n",
    "    eda_data = fix_incorrect_decrease(eda_data, features, search_threshold='match')"
   ]
  },
  {
   "cell_type": "code",
   "execution_count": 25,
   "metadata": {},
   "outputs": [
    {
     "data": {
      "image/png": "[encoded data removed]",
      "text/plain": [
       "<Figure size 432x288 with 1 Axes>"
      ]
     },
     "metadata": {
      "needs_background": "light"
     },
     "output_type": "display_data"
    }
   ],
   "source": [
    "eda_data[eda_data.location.isin(eda_data.set_index(['time_index', 'location']).total_tests.groupby(level=1).max().sort_values()[-10:-5].index)].set_index(['time_index', 'location']).total_tests.unstack().plot()\n",
    "_ = plt.ylabel('Cumulative tests')\n",
    "plt.savefig('top_10_tests_cumulative_corrected.jpg', bbox_inches='tight')"
   ]
  },
  {
   "cell_type": "markdown",
   "metadata": {},
   "source": [
    "Label the columns with the data sources because otherwise there are repeated column names which is a pain to deal with\n",
    "later on in the data exploration process."
   ]
  },
  {
   "cell_type": "code",
   "execution_count": 26,
   "metadata": {},
   "outputs": [],
   "source": [
    "for country_indices in country_groupby(eda_data):\n",
    "    eda_data.loc[country_indices, column_search(eda_data,'population')] = \\\n",
    "    eda_data.loc[country_indices,  column_search(eda_data,'population')].fillna(method='ffill').fillna(method='bfill').values "
   ]
  },
  {
   "cell_type": "markdown",
   "metadata": {},
   "source": [
    "This is a work around for the fact that both jhucsse datasets have a column labeled \"deaths\", and so unless I make the distinction between jhucsse_global and jhucsse_usa this will cause issues. This distinction causes issues as well and so I find it easier to just drop it."
   ]
  },
  {
   "cell_type": "code",
   "execution_count": 27,
   "metadata": {},
   "outputs": [],
   "source": [
    "death_copy = eda_data.iloc[:,3].copy()\n",
    "eda_data = eda_data.drop(columns=['deaths_jhucsse'])\n",
    "eda_data = pd.concat((eda_data.iloc[:,:3], death_copy,eda_data.iloc[:,4:]),axis=1)"
   ]
  },
  {
   "cell_type": "markdown",
   "metadata": {},
   "source": [
    "Because I have found the best results with using only the new cases per million people feature and the government response index feature, I can increase the number of locations by reducing the number of datasets used to produce the model data. \n",
    "***Note this is a big change relative to the old versions of this notebook***"
   ]
  },
  {
   "cell_type": "code",
   "execution_count": 28,
   "metadata": {},
   "outputs": [
    {
     "name": "stdout",
     "output_type": "stream",
     "text": [
      "30927 30927\n",
      "The range of all dates is from 2020-01-01 00:00:00 to 2020-07-01 00:00:00\n",
      "The final number of locations included is 170\n"
     ]
    }
   ],
   "source": [
    "global_data = [owid_df, oxcgrt_df]\n",
    "\n",
    "names = ['owid','oxcgrt']\n",
    "export_list = []\n",
    "\n",
    "export_list_tmp, dates_intersection, country_intersection = regularize_time_series(global_data, \n",
    "                                                                                   location_operation='intersection',\n",
    "                                                                                  date_operation='intersection')\n",
    "for i, x in enumerate(export_list_tmp):\n",
    "    gd_export_copy = x.copy()\n",
    "    gd_export_copy.columns += '_' + names[i]\n",
    "    export_list.append(gd_export_copy)\n",
    "\n",
    "data_concat = pd.concat(export_list, axis=1)\n",
    "# hong kong is pathologically valued w.r.t. total_cases_per_million_owid\n",
    "data_concat = data_concat.loc[data_concat.index.get_level_values(0)!='Hong Kong',:]\n",
    "data = add_time_indices(multiindex_to_table(data_concat), index_column='total_cases_per_million_owid')\n",
    "\n",
    "# Want the data separated by country, the diamond princess does not have the vast majority of feature data.\n",
    "data = data[~data.location.isin(['Diamond Princess','World'])]\n",
    "print('The range of all dates is from {} to {}'.format(dates_intersection.min(), dates_intersection.max()))\n",
    "print('The final number of locations included is {}'.format(len(country_intersection)))"
   ]
  },
  {
   "cell_type": "markdown",
   "metadata": {},
   "source": [
    "The \"main\" DataFrame to be exported does not distinguish between the different data sets."
   ]
  },
  {
   "cell_type": "code",
   "execution_count": 29,
   "metadata": {},
   "outputs": [
    {
     "name": "stdout",
     "output_type": "stream",
     "text": [
      "The range of all dates is from 2020-01-01 00:00:00 to 2020-07-01 00:00:00\n",
      "The number of countries included is 170\n",
      "30927 30927\n"
     ]
    }
   ],
   "source": [
    "dataframe_list, modeling_dates, modeling_countries = regularize_time_series(global_data, location_operation='intersection',\n",
    "                                                                                  date_operation='intersection')\n",
    "\n",
    "print('The range of all dates is from {} to {}'.format(modeling_dates.min(), modeling_dates.max()))\n",
    "print('The number of countries included is {}'.format(len(modeling_countries)))\n",
    "# Convert the multiindex DataFrame to a simple table, and then add numerical features which track the\n",
    "# date and # of days since first case. \n",
    "dataframe_temporary = pd.concat(dataframe_list, axis=1)\n",
    "dataframe_temporary = dataframe_temporary.loc[dataframe_temporary.index.get_level_values(0)!='Hong Kong',:]\n",
    "\n",
    "# hong kong is pathologically valued w.r.t. total_cases_per_million_owid\n",
    "df = add_time_indices(multiindex_to_table(dataframe_temporary), index_column='total_cases_per_million')\n",
    "# keep the OWID per million features separately. \n",
    "saved_per_million = df.loc[:, column_search(df, 'per_million')].copy()\n",
    "df = df.drop(columns=column_search(df, 'per_million'))"
   ]
  },
  {
   "cell_type": "markdown",
   "metadata": {},
   "source": [
    "Create an index/list of the features which *should* be cumulative. Then fix their values using\n",
    "forward filling / zero filling."
   ]
  },
  {
   "cell_type": "code",
   "execution_count": 30,
   "metadata": {},
   "outputs": [],
   "source": [
    "cumulative_columns = pd.Index(column_search(df, 'cases').unique().tolist()\n",
    "                      +column_search(df, 'deaths').unique().tolist()\n",
    "                      +column_search(df, 'tests').unique().tolist())\n",
    "cumulative_columns = cumulative_columns[~cumulative_columns.str.contains('new')].drop('tests_units')\n"
   ]
  },
  {
   "cell_type": "markdown",
   "metadata": {},
   "source": [
    "The number of incorrectly decreasing values."
   ]
  },
  {
   "cell_type": "code",
   "execution_count": 31,
   "metadata": {},
   "outputs": [
    {
     "data": {
      "text/plain": [
       "total_cases                 14\n",
       "confirmed_cases             14\n",
       "total_deaths                 2\n",
       "confirmed_deaths             2\n",
       "total_tests                  5\n",
       "total_tests_per_thousand     5\n",
       "dtype: int64"
      ]
     },
     "execution_count": 31,
     "metadata": {},
     "output_type": "execute_result"
    }
   ],
   "source": [
    "(df.set_index([df.time_index, df.location]).loc[:, cumulative_columns\n",
    "                                              ].groupby(level=1).diff(1).fillna(0) < 0).sum()#.drop_duplicates()"
   ]
  },
  {
   "cell_type": "markdown",
   "metadata": {},
   "source": [
    "An example of three countries' time series for the total cases (which should be cumulative)."
   ]
  },
  {
   "cell_type": "code",
   "execution_count": 32,
   "metadata": {},
   "outputs": [
    {
     "data": {
      "image/png": "[encoded data removed]",
      "text/plain": [
       "<Figure size 432x288 with 1 Axes>"
      ]
     },
     "metadata": {
      "needs_background": "light"
     },
     "output_type": "display_data"
    }
   ],
   "source": [
    "fig, ax = plt.subplots()\n",
    "_ = ax.plot(df[df.location == 'Benin'].total_cases.values, label='Benin')\n",
    "_ = ax.plot(df[df.location == 'Lithuania'].total_cases.values, label='Lithuania')\n",
    "_ = ax.plot(df[df.location == 'Uganda'].total_cases.values, label='Uganda')\n",
    "_ = ax.set_ylabel('Cumulative cases')\n",
    "_ = ax.set_xlabel('time index')\n",
    "_ = ax.set_title('Incorrectly decreasing time series')\n",
    "_ = plt.legend()\n",
    "plt.savefig('three_cases_incorrect_decrease.jpg', bbox_inches='tight')"
   ]
  },
  {
   "cell_type": "markdown",
   "metadata": {},
   "source": [
    "Usage of custom function to fill in missing values, as well as check the validity of the time series. Mainly,\n",
    "this means making sure that non-decreasing quantities in fact behave this way. It checks the difference between values $n$ and\n",
    "$n+1$. If negative, the value at $n+1$ is replaced with the previous day's value. If this creates a new discrepancy, (i.e. $n+2$ is smaller then $n+1$ post-update, then it will be handled upon the next scan). Tried to make it as simple as possible to avoid any strange interactions; technically, the approximate slopes are calculated all at once and the values are updated all at once; instead of starting from the beginning and sweeping all the way through the time series. This approximation always propagates forwards, and by virtue of its calculation, always takes the larger value to be the truth. "
   ]
  },
  {
   "cell_type": "code",
   "execution_count": 33,
   "metadata": {
    "scrolled": false
   },
   "outputs": [
    {
     "name": "stdout",
     "output_type": "stream",
     "text": [
      "Fixing 10 countries in the total_cases column feature\n",
      "Fixing 10 countries in the confirmed_cases column feature\n",
      "Fixing 2 countries in the total_deaths column feature\n",
      "Fixing 2 countries in the confirmed_deaths column feature\n",
      "Fixing 2 countries in the total_tests column feature\n",
      "Fixing 2 countries in the total_tests_per_thousand column feature\n"
     ]
    }
   ],
   "source": [
    "for features in cumulative_columns:\n",
    "    df = fix_incorrect_decrease(df, features, search_threshold='match')"
   ]
  },
  {
   "cell_type": "code",
   "execution_count": 34,
   "metadata": {},
   "outputs": [
    {
     "data": {
      "image/png": "[encoded data removed]",
      "text/plain": [
       "<Figure size 432x288 with 1 Axes>"
      ]
     },
     "metadata": {
      "needs_background": "light"
     },
     "output_type": "display_data"
    }
   ],
   "source": [
    "fig, ax = plt.subplots()\n",
    "_ = ax.plot(df[df.location == 'Benin'].total_cases.values, label='Benin')\n",
    "_ = ax.plot(df[df.location == 'Lithuania'].total_cases.values, label='Lithuania')\n",
    "_ = ax.plot(df[df.location == 'Uganda'].total_cases.values, label='Uganda')\n",
    "_ = ax.set_ylabel('Cumulative cases')\n",
    "_ = ax.set_xlabel('time index')\n",
    "_ = ax.set_title('Corrected time series')\n",
    "_ = plt.legend()\n",
    "plt.savefig('three_cases_incorrect_decrease_corrected.jpg', bbox_inches='tight')"
   ]
  },
  {
   "cell_type": "markdown",
   "metadata": {},
   "source": [
    "The next set of computations handles missing values. The key consideration is\n",
    "to not contaminate the time series with information from the future. Because I am filling in the missing values here,\n",
    "I will be flagging the original missing values and keeping these flags as new features.\n",
    "\n",
    "Originally I pruned the lowest 10% population countries, because the countries with very small populations are \n",
    "quite pathological for the new_cases_per_million feature (i.e. the vatican has the highest values.)\n",
    "I've changed my mind regarding how this should be handled and have decided to only take countries with populations\n",
    "greater than one million, such that the per capita division doesn't actually result in magnification."
   ]
  },
  {
   "cell_type": "markdown",
   "metadata": {},
   "source": [
    "Fill in missing values which cannot be imputed because they exist nowhere in the dataset "
   ]
  },
  {
   "cell_type": "code",
   "execution_count": 35,
   "metadata": {},
   "outputs": [
    {
     "data": {
      "text/plain": [
       "(166, 169)"
      ]
     },
     "execution_count": 35,
     "metadata": {},
     "output_type": "execute_result"
    }
   ],
   "source": [
    "df.population_density.nunique(), df.location.nunique()"
   ]
  },
  {
   "cell_type": "code",
   "execution_count": 36,
   "metadata": {},
   "outputs": [],
   "source": [
    "# To prevent the SettingCopyWithSlice warning use loc, which needs index values, hence\n",
    "# the application of this workaround function. \n",
    "data.loc[country_search(df, 'South Sudan'), 'population_density'] = 20.3\n",
    "df.loc[country_search(df, 'South Sudan'), 'population_density'] = 20.3\n",
    "\n",
    "df.loc[country_search(df, 'Guinea Bissau'), 'population_density'] = \\\n",
    "df.loc[country_search(df, 'Guinea Bissau'), 'population_density'].max()\n",
    "\n",
    "\n",
    "for country_indices in country_groupby(df):\n",
    "    df.loc[country_indices, ['population','population_density']] = \\\n",
    "    df.loc[country_indices,  ['population','population_density']].fillna(method='ffill').fillna(method='bfill').values \n",
    "\n",
    "df = df[df.population > 1000000.]\n",
    "# these two countries have pathological new_cases_per_million time series. just get rid of them for simplicity\n",
    "df = df[~df.location.isin(['Chile', 'Ecuador'])]\n",
    "data = data[data.location.isin(df.location.unique())]\n",
    "per_million_population = df.population / 1000000.\n",
    "population_density = df.population_density\n",
    "world_pop = df[df.time_index==df.time_index.max()].population.sum()\n",
    "percent_pop = df.population / world_pop\n",
    "data.loc[:, 'per_million_population'] = per_million_population.values"
   ]
  },
  {
   "cell_type": "code",
   "execution_count": 37,
   "metadata": {},
   "outputs": [
    {
     "data": {
      "text/plain": [
       "(144, 146)"
      ]
     },
     "execution_count": 37,
     "metadata": {},
     "output_type": "execute_result"
    }
   ],
   "source": [
    "df.population_density.nunique(), df.location.nunique()"
   ]
  },
  {
   "cell_type": "markdown",
   "metadata": {},
   "source": [
    "<a id='features'></a>\n",
    "# 6. Feature engineering and selection\n",
    "[Return to table of contents](#toc)\n",
    "\n",
    "I primarily use qualitative means to select the features I will use in the modeling phase. This is perhaps the biggest gap of the project, but I did use the training data to eliminate bad choices for features but the number of experiments is too large to be useful to include in a notebook. Regardless, I will decide on features to discard and features to create in this next section. The first matter to attend to is to remove feature columns which simply contain redudant feature information, such as repeats of the number of total cases, etc."
   ]
  },
  {
   "cell_type": "markdown",
   "metadata": {},
   "source": [
    "#### Choice of dependent variable\n",
    "Perhaps the most important step in this entire process is to select the dependent variable which will be predicted. I believe the most prudent quantity is the new cases per million people."
   ]
  },
  {
   "cell_type": "markdown",
   "metadata": {},
   "source": [
    "The first selection step is to simply remove the columns which contain redundant information."
   ]
  },
  {
   "cell_type": "code",
   "execution_count": 38,
   "metadata": {},
   "outputs": [],
   "source": [
    "# redundant features; some features contain the same substring but are not redundant, hence the use of .difference()\n",
    "redundant_death_columns = column_search(df, 'death').difference(['cvd_death_rate'])\n",
    "redundant_test_columns = column_search(df, 'test').difference(['tests_units','h2_testing_policy'])\n",
    "redundant_case_columns= column_search(df, 'cases')"
   ]
  },
  {
   "cell_type": "code",
   "execution_count": 39,
   "metadata": {},
   "outputs": [],
   "source": [
    "data.loc[data.new_cases_per_million_owid<0, 'new_cases_per_million_owid'] = 0\n",
    "\n",
    "# Already have a good \"new cases\" feature, so do not need to compute differences\n",
    "df.loc[:, 'new_cases_per_million'] =  data.loc[df.index,'new_cases_per_million_owid'].fillna(0).values\n",
    "data.loc[:, 'new_cases_per_million'] = data.loc[df.index,'new_cases_per_million_owid'].fillna(0).values\n",
    "df.loc[:, 'log_new_cases_per_million'] = df.loc[:, 'new_cases_per_million'].apply(lambda x: np.log(x+1))"
   ]
  },
  {
   "cell_type": "code",
   "execution_count": 40,
   "metadata": {},
   "outputs": [],
   "source": [
    "# this is required from the step dropping the least populated countries\n",
    "# but it could not be done until after the dependent variable was created.\n",
    "df = df.reset_index(drop=True)\n",
    "df_pruned = df.drop(columns=(redundant_death_columns.tolist() \n",
    "                         + redundant_test_columns.tolist() \n",
    "                         + redundant_case_columns.tolist()))"
   ]
  },
  {
   "cell_type": "markdown",
   "metadata": {},
   "source": [
    "Next is to remove the columns without any utility (i.e. all entries equal a single value) and those which are essentially\n",
    "identical to others."
   ]
  },
  {
   "cell_type": "code",
   "execution_count": 41,
   "metadata": {},
   "outputs": [],
   "source": [
    "response =  data.loc[:, 'government_response_index_oxcgrt']\n",
    "df_pruned = df_pruned.drop(columns=['country_name', 'country_code',\n",
    "                                                    'm1_wildcard','stringency_index_for_display',\n",
    "                                                   'stringency_legacy_index', 'stringency_legacy_index_for_display',\n",
    "                                                    'government_response_index_for_display',\n",
    "                                                    'containment_health_index_for_display',\n",
    "                                                    'economic_support_index_for_display',\n",
    "                                                    'iso_code','stringency_index'])\n",
    "df_pruned.loc[:, 'government_response_index'] = response.values"
   ]
  },
  {
   "cell_type": "markdown",
   "metadata": {},
   "source": [
    "#### Collecting all predictor variables.\n",
    "\n",
    "Enumerate all feature names by explicity writing lists and slicing column names from the relevant DataFrame. This allows me to reorder the columns by category and type to suit my personal preference and to keep track of the names of features relevant to the separate datasets."
   ]
  },
  {
   "cell_type": "code",
   "execution_count": 42,
   "metadata": {},
   "outputs": [],
   "source": [
    "indexers = ['location','date','time_index','days_since_first_case']\n",
    "new_per_million_quantity_features = ['new_cases_per_million']\n",
    "log_new_per_million_quantity_features = ['log_new_cases_per_million']\n",
    "flag_features = column_search(df_pruned,'flag')\n",
    "time_independent_features =df_pruned.loc[:, 'population':'hospital_beds_per_thousand'].columns.tolist()\n",
    "time_dependent_features = (df_pruned.loc[:, 'c1_school_closing':'economic_support_index'].columns\n",
    "                          ).difference(flag_features).tolist()\n",
    "\n",
    "categorical_features = flag_features.tolist()+['tests_units', 'continent']\n",
    "numerical_features =  (new_per_million_quantity_features\n",
    "                       +log_new_per_million_quantity_features\n",
    "                       +time_dependent_features)\n",
    "new_quantity_features =  (new_per_million_quantity_features\n",
    "                       +log_new_per_million_quantity_features)"
   ]
  },
  {
   "cell_type": "markdown",
   "metadata": {},
   "source": [
    "Create/select the dependent variable (and its logarithm) to use in the modeling process."
   ]
  },
  {
   "cell_type": "code",
   "execution_count": 43,
   "metadata": {},
   "outputs": [],
   "source": [
    "df_reorder = df_pruned.loc[:, indexers\n",
    "                              +numerical_features\n",
    "                              +time_independent_features\n",
    "                              +categorical_features]"
   ]
  },
  {
   "cell_type": "markdown",
   "metadata": {},
   "source": [
    "Manipulate categorical features and fill in missing values with string ```'Missing'```\n",
    "The original OxCGRT flag columnstake values 1.0, 0.0, np.nan. \n",
    "Convert these to categorical, and for the sake of column names map floats to str.\n",
    "Afterwards, drop the column that corresponds to missing values to remove collinearity. \n",
    "\n",
    "*Note that the distinction between regression and cnn data is deprecated but kept in case of changes."
   ]
  },
  {
   "cell_type": "code",
   "execution_count": 44,
   "metadata": {},
   "outputs": [],
   "source": [
    "categorical_df = df_reorder.loc[:, categorical_features].fillna('Missing').astype('category')\n",
    "for col in categorical_df.columns:\n",
    "    categorical_df.loc[:, col] = categorical_df.loc[:, col].cat.rename_categories({1.0 : '1', 0. : '0'})\n",
    "    \n",
    "categorical_dummies = pd.get_dummies(categorical_df)\n",
    "categorical_dummies_without_collinearity = regularize_names(categorical_dummies[categorical_dummies.columns[~categorical_dummies.columns.str.contains('Missing')]])"
   ]
  },
  {
   "cell_type": "code",
   "execution_count": 45,
   "metadata": {},
   "outputs": [],
   "source": [
    "df_reorder = pd.concat((df_reorder.drop(columns=categorical_features),\n",
    "                        categorical_dummies_without_collinearity),axis=1)\n",
    "categorical_dummy_features = categorical_dummies_without_collinearity.columns.tolist()"
   ]
  },
  {
   "cell_type": "markdown",
   "metadata": {},
   "source": [
    "Because I'm going to impute values for the time independent features, it may or may not be important to track this by flagging\n",
    "the missing values via one-hot encoding. Note that I have just manipulated the flagging columns so that *their* missing value flags are not included; but again this is because of linear dependency reasons. "
   ]
  },
  {
   "cell_type": "code",
   "execution_count": 46,
   "metadata": {},
   "outputs": [],
   "source": [
    "# only create missing flag variables for features that are missing more than a minimum number of values (100)         \n",
    "missing_categoricals = df_reorder.iloc[:, np.where(df_reorder.isna().sum() > 100)[0]].isna().astype(int)\n",
    "missing_categoricals.columns = missing_categoricals.columns + '_missing_flag'"
   ]
  },
  {
   "cell_type": "markdown",
   "metadata": {},
   "source": [
    "Deal with missing values with strategies that are dependent upon where or not the feature is time dependent or not.\n",
    "For time independent features, do not have to be careful with time; because there is no two-sided fillna method that\n",
    "I am aware of, handle this by filling forwards and backwards.\n",
    "Time dependent features can only be filled forward so that information from the future is not visible from the past. Additionally, any other missing values are filled with 0's; only other options would be, for instance, the mean up to that date. "
   ]
  },
  {
   "cell_type": "code",
   "execution_count": 47,
   "metadata": {},
   "outputs": [],
   "source": [
    "for country_indices in country_groupby(df_reorder):\n",
    "    fill_tmp = df_reorder.loc[country_indices, time_independent_features].fillna(method='ffill').fillna(method='bfill')\n",
    "    df_reorder.loc[country_indices, time_independent_features] = fill_tmp.values\n",
    "    df_reorder.loc[country_indices, time_dependent_features] = df_reorder.loc[country_indices, time_dependent_features].fillna(method='ffill').fillna(value=0)\n",
    "df_reorder.loc[:, time_independent_features] = df_reorder.loc[:, time_independent_features].fillna(df_reorder.loc[:, time_independent_features].median())"
   ]
  },
  {
   "cell_type": "markdown",
   "metadata": {},
   "source": [
    "Compose the DataFrame with all engineered and original features."
   ]
  },
  {
   "cell_type": "code",
   "execution_count": 48,
   "metadata": {},
   "outputs": [],
   "source": [
    "location_dummies_without_collinearity = pd.get_dummies(df.location, drop_first=True)\n",
    "location_dummies_without_collinearity.columns += '_location_flag'\n",
    "location_dummies_without_collinearity = regularize_names(location_dummies_without_collinearity)\n",
    "export_df = pd.concat((df_reorder, location_dummies_without_collinearity, missing_categoricals),axis=1)\n",
    "export_df = export_df.loc[:, indexers \n",
    "                  + new_per_million_quantity_features \n",
    "                  + log_new_per_million_quantity_features\n",
    "                  + time_dependent_features\n",
    "                  + time_independent_features\n",
    "                  + categorical_dummy_features\n",
    "                  + location_dummies_without_collinearity.columns.tolist()\n",
    "                  + missing_categoricals.columns.tolist()\n",
    "                 ]"
   ]
  },
  {
   "cell_type": "markdown",
   "metadata": {},
   "source": [
    "#### Features selection for modeling\n",
    "\n",
    "Finally we've reached the time to explain the motivating factors behind the choice of features for each model's training.\n",
    "Originally I thought that all COVID related time series should be included. The argument that I use to exclude the deaths, and recovered patients is that they are time delayed effects relative to the number of new cases. The exclusion of new tests is due to the lack of consistent units. Due to this, what seems like a single feature actually must be split into multiple different features, one for each unit (this is actually possible because the units are included and now, one-hot encoded).\n",
    "\n",
    "I do not include any categorical or time independent features, because of how the data will be arranged into time-windows or frames, such that each sample (row of an array) consists of multiple days of data, I can either append the time independent features (i.e. do not include copies) but I instead focus on the time dependent data. The reason I use to justify this is that I want the models to use comparable amount of information, and the format of the neural networks doesn't really facilitate time independent features.\n",
    "\n",
    "Create the moving averages of the time dependent features to attempt to convey the time dependence to the regression models. \n",
    "Previously, I used rolling window widths of 7, 14, 21, 28 days but upon inspection the 21 and 28 day MA simply introduced a number of nearly collinear features, which in turn affects the ridge regression. I have elected to change to 3, 7, 14. 7 and 14 to capture the seasonality. My rationale for the 3-day moving average isn't as strong, but sometimes the time series are erratic and so I want to accurately capture the time-series but also slightly mitigate these \"outliers\".\n",
    "\n",
    "Likewise, there is a very important modification which I employ to \"fix\" the time series. There are instances presumable reporting errors wherein a time series, new cases for example, has an unrealistic, errant 0. These are unrealistic because simply because a 0 was reported doesn't mean the actual pandemic was kind enough to pause for a day. Therefore I will modify these few unfortunate values by forward filling (i.e. using previous days values).\n",
    "\n",
    "The features selected for the regression process include the new cases per million time series, its logarithm, the government response index, and their moving averages. "
   ]
  },
  {
   "cell_type": "code",
   "execution_count": 49,
   "metadata": {},
   "outputs": [],
   "source": [
    "roll_widths = [3, 7, 14]\n",
    "\n",
    "lean_features_list =  (indexers \n",
    "                       + new_per_million_quantity_features \n",
    "                       + log_new_per_million_quantity_features\n",
    "                       + ['government_response_index'])\n",
    "numerical_features = (new_per_million_quantity_features \n",
    "                      + log_new_per_million_quantity_features\n",
    "                      + ['government_response_index'])\n",
    "modeling_df = modify_time_series_zeros(export_df.loc[:, lean_features_list].copy(), \n",
    "                                                        new_per_million_quantity_features \n",
    "                                                          + log_new_per_million_quantity_features)"
   ]
  },
  {
   "cell_type": "code",
   "execution_count": 50,
   "metadata": {},
   "outputs": [],
   "source": [
    "new_features = rolling_means(modeling_df.copy(), numerical_features,\n",
    "                                     roll_widths=roll_widths).reset_index(drop=True)\n",
    "\n",
    "modeling_df = pd.concat((modeling_df,\n",
    "                                new_features,\n",
    "                               ),axis=1)\n",
    "#Comment out to \"freeze\" the saved data\n",
    "if not os.path.isfile('data.csv'):\n",
    "    modeling_df.drop(ciolumns='date').fillna(0).to_csv('model_data.csv')"
   ]
  },
  {
   "cell_type": "markdown",
   "metadata": {},
   "source": [
    "#### Feature engineering for the data used in exploration. \n",
    "\n",
    "Calculate moving averages here to save space in exploration notebook. These features are indeed used in the regression modeling process but they are also nice to have for time-series plotting purposes as we can use the rolling means and standard deviations to give some sense of the volatility and average values."
   ]
  },
  {
   "cell_type": "code",
   "execution_count": 51,
   "metadata": {},
   "outputs": [],
   "source": [
    "# use multiples of 7 to capture weekly seasonality\n",
    "roll_widths = [3, 7, 14]\n",
    "\n",
    "new_features = rolling_features(eda_data, \n",
    "                                  eda_data.select_dtypes(include='number').columns, \n",
    "                                  roll_widths=roll_widths)\n",
    "\n",
    "export_to_eda = pd.concat((eda_data,\n",
    "                                new_features.reset_index(drop=True)\n",
    "                               ),axis=1)"
   ]
  },
  {
   "cell_type": "markdown",
   "metadata": {},
   "source": [
    "To avoid mixing data types upon export / import in other notebooks, replace the ```NaN``` values in object columns with the\n",
    "string ```'Missing'```"
   ]
  },
  {
   "cell_type": "code",
   "execution_count": 52,
   "metadata": {},
   "outputs": [],
   "source": [
    "export_to_eda.loc[:, export_to_eda.select_dtypes(include='object').columns] = \\\n",
    "export_to_eda.loc[:, export_to_eda.select_dtypes(include='object').columns].fillna('Missing')"
   ]
  },
  {
   "cell_type": "markdown",
   "metadata": {},
   "source": [
    "The last step before I export the data is to create my own features which represent the number of \"new\" daily values for cases, tests, etc. The reason for this is to check and ensure that these values are consistent with the other, total values reported as well as demonstrate the differences with the \"repair\" of the cumulative variables performed previously."
   ]
  },
  {
   "cell_type": "code",
   "execution_count": 53,
   "metadata": {},
   "outputs": [],
   "source": [
    "tmp = eda_data.loc[:, column_search(eda_data, 'total').tolist()+['location']].groupby('location').diff(1).fillna(0)\n",
    "tmp.columns = 'new_' + tmp.columns\n",
    "tmp.sample(5)\n",
    "\n",
    "tmp_per_mill = tmp / np.tile((eda_data.population_owid.values.reshape(-1,1)/1000000.),(1,9))\n",
    "tmp_per_mill.columns += '_per_million'\n",
    "\n",
    "eda_final = pd.concat((export_to_eda, tmp, tmp_per_mill),axis=1)\n",
    "if not os.path.isfile('data.csv'):\n",
    "    eda_final.to_csv('data.csv')"
   ]
  }
 ],
 "metadata": {
  "kernelspec": {
   "display_name": "Python 3",
   "language": "python",
   "name": "python3"
  },
  "language_info": {
   "codemirror_mode": {
    "name": "ipython",
    "version": 3
   },
   "file_extension": ".py",
   "mimetype": "text/x-python",
   "name": "python",
   "nbconvert_exporter": "python",
   "pygments_lexer": "ipython3",
   "version": "3.7.6"
  }
 },
 "nbformat": 4,
 "nbformat_minor": 4
}
