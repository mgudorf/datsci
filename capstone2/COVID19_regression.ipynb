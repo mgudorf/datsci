{
 "cells": [
  {
   "cell_type": "code",
   "execution_count": 1,
   "metadata": {},
   "outputs": [],
   "source": [
    "import numpy as np\n",
    "import pandas as pd\n",
    "import seaborn as sns\n",
    "import matplotlib.pyplot as plt\n",
    "import os\n",
    "import sys\n",
    "import re\n",
    "import warnings\n",
    "from matplotlib.patches import Rectangle\n",
    "from sklearn.metrics import mean_squared_error, r2_score, explained_variance_score, mean_absolute_error\n",
    "from sklearn.decomposition import PCA\n",
    "from sklearn.preprocessing import StandardScaler, MinMaxScaler, QuantileTransformer\n",
    "from sklearn.svm import SVR\n",
    "from sklearn.linear_model import Ridge\n",
    "from sklearn.compose import ColumnTransformer\n",
    "from sklearn.model_selection import GridSearchCV\n",
    "warnings.simplefilter(action='ignore', category=FutureWarning)\n",
    "import tensorflow as tf\n",
    "from tensorflow.keras import layers\n",
    "warnings.resetwarnings()"
   ]
  },
  {
   "cell_type": "markdown",
   "metadata": {},
   "source": [
    "\n",
    "To accomplish this, I will produce a number of \"new\" features which attempt to capture the time dependence via rolling averages and rolling standard deviations. I will also one-hot encode certain variables which represent flags for certain behaviors or discrete, time independent variables such as location (country).\n",
    "\n",
    "The models will be trained using data from all countries; that is, the models will not be country-specific. \n",
    "The prediction require shifting the target variable (number new cases) by the corresponding number of days\n",
    "the specific model is trying to predict.\n",
    "\n",
    "Analysis of this forecasting method will be performed by not only comparing the predictions from different days (e.g. I expect the standard deviation to increase the further into the future the model is predicting) but also comparing the results against a baseline model. I consider three baseline models: a naive model, which just uses the last known value, a drift model, which\n",
    "extrapolates using the average rate of change, and the average method, which uses the average the entire history.\n",
    "\n",
    "Due to the nature of testing, most of the time series (of the number of new cases) start at 0 for a protracted period of time (i.e. testing begins far after the first date in the time series). This property is hard to capture with either a drift or an average method, as they would both be biased by these long tails. Therefore, while the simplest choice, I will elect to simply use a naive method; alternative ideas I had were to use a drift or average method which does not utilize the entire history but rather only the most recent $d$ days, or at very least only incorporate the non-zero values.\n",
    "\n",
    "\n",
    "## Baseline comparisons.\n",
    "\n",
    "Because I am predicting the number of new cases per million on a daily basis, (i.e. not the rate) I am going to employ a naive (constant) baseline.\n",
    "\n",
    "\n",
    "## Metric to determine model accuracy\n",
    "\n",
    "I will be using mean\n",
    "\n",
    "\n",
    "## Details yet to be incorporated:\n",
    "\n",
    "Growth of standard deviation over time in forecasting.\n",
    "\n",
    "Oscillatory nature of the target variable, rate of change\n",
    "of new cases per million (I think it might be better to just do new cases).\n",
    "Should I use a smoothed time series as the target variable, or use smoothed time series to predict\n",
    "a \"jagged\" target variable?\n",
    "\n",
    "![title](data_split.jpg)"
   ]
  },
  {
   "cell_type": "markdown",
   "metadata": {},
   "source": [
    "# Modeling the number of cases of COVID-19\n",
    "\n",
    "\n",
    "# Table of contents<a id='toc'></a>\n",
    "\n",
    "## [COVID-19 Case number modeling ](#model)\n",
    "\n",
    "\n",
    "## [COVID-19 Case number modeling with new features.](#modelplus)\n",
    "***This section is a repeat of calculations with different data; the steps are described in the first modeling section.***"
   ]
  },
  {
   "cell_type": "code",
   "execution_count": 112,
   "metadata": {},
   "outputs": [],
   "source": [
    "# Copied from last capstone project. \n",
    "def classifier_analysis(clf, X_test, y_test, plot=True, metric='evs'):\n",
    "    \n",
    "    '''\n",
    "        Predict using trained scikit-learn estimator and compute and plot various metrics:\n",
    "        Prints \n",
    "        \n",
    "        Parameters:\n",
    "        \n",
    "        X_test : ndarray or DataFrame (n_samples, n_features)\n",
    "                 Feature data to test. n_features represents the number of features\n",
    "                 present in the data used to train the estimator clf\n",
    "                 \n",
    "        y_test : ndarray (n_samples, )\n",
    "                 Target data to test. \n",
    "                \n",
    "        \n",
    "        clf : scikit-learn estimator which has been fit to data with same number of \n",
    "              columns as X_test\n",
    "        \n",
    "        \n",
    "        Returns:\n",
    "        \n",
    "        y_test : ndarray (n_samples, )\n",
    "            \n",
    "            Same as input for convenience\n",
    "        \n",
    "        y_predict : ndarray (n_samples, ) \n",
    "            \n",
    "            Predictions \n",
    "        \n",
    "    '''\n",
    "    \n",
    "    y_predict = clf.predict(X_test)\n",
    "    \n",
    "    # Print the mean squared error and explained variance\n",
    "    if metric == 'evs':\n",
    "        score = explained_variance_score(y_test, y_predict)\n",
    "    elif metric == 'mae':\n",
    "        score = mean_absolute_error(y_test, y_predict)\n",
    "    else:\n",
    "        score = mean_squared_error(y_test, y_predict)\n",
    "\n",
    "#     print('Mean squared error {}'.format(mse_))\n",
    "#     print('Explained variance score {}'.format(evs_))\n",
    "    \n",
    "    if plot:\n",
    "        # Plot true vs. predicted as scatter plot. \n",
    "        ym = np.max(y_test)\n",
    "        fig = plt.figure()\n",
    "        plt.scatter(y_test, y_predict, s=1)\n",
    "        plt.plot([0, ym],[0, ym],color='r')\n",
    "        plt.ylabel('Predicted Value')\n",
    "        plt.xlabel('True Value')\n",
    "        plt.grid()\n",
    "        plt.xlim([0, 1.1*ym])\n",
    "        plt.ylim([0, 1.1*ym])\n",
    "        _ = plt.show()\n",
    "    \n",
    "    return y_test, y_predict, score\n",
    "\n",
    "def predict_single_day(df, day):\n",
    "    \"\"\" Helper function for prediction\n",
    "    \n",
    "    Notes\n",
    "    -----\n",
    "    Takes a time series defined on n points, uses data until the\n",
    "    (n-1)st day and uses it to predict n_cases on nth day. df.date\n",
    "    should be a datetime feature\n",
    "    \"\"\"\n",
    "    train = df[df.date < day]\n",
    "    test = df[df.date == day]\n",
    "\n",
    "def country_groupby_indices_list(df):\n",
    "    return [df[df.location==country].index for country in df.location.unique()]\n",
    "\n",
    "def rolling_features(df, features, roll_widths):\n",
    "    new_feature_df_list = []\n",
    "    for window in roll_widths:\n",
    "        # order the dataframe so date is index, backfill in the first roll_width values\n",
    "        rollmean = pd.DataFrame(df.set_index('location').loc[:, features].groupby(level=0).rolling(window).mean().fillna(value=0.))\n",
    "#         rollstd = pd.DataFrame(df.set_index('location').loc[:, features].groupby(level=0).rolling(window).std().fillna(value=0.))\n",
    "        new_features = rollmean.reset_index(drop=True)\n",
    "#         new_features = pd.concat((rollmean, rollstd), axis=1)\n",
    "        rolling_mean_names = features + '_rolling_mean_' + str(window)\n",
    "#         rolling_std_names = features +'_rolling_std_' + str(window)\n",
    "        new_cols = rolling_mean_names\n",
    "#         new_cols = rolling_mean_names.append(rolling_std_names)\n",
    "        new_features.columns = new_cols\n",
    "        new_feature_df_list.append(new_features)\n",
    "        new_df = pd.concat(new_feature_df_list,axis=1)\n",
    "        new_df.index = df.index\n",
    "    return new_df\n",
    "\n",
    "\n",
    "def reformat_values(values_to_transform, category='columns',dateformat=None):\n",
    "    \"\"\" Reformat column and index names. \n",
    "    \n",
    "    Parameters :\n",
    "    ----------\n",
    "    df : Pandas DataFrame\n",
    "    columns : bool\n",
    "    index : bool\n",
    "    \n",
    "    Notes :\n",
    "    -----\n",
    "    Change headers of columns; this needs to be updated to account for their formatting changes. \n",
    "    This function converts strings with CamelCase, underscore and space separators to lowercase words uniformly\n",
    "    separated with underscores. I.e. (hopefully!) following the correct python identifier syntax so that each column\n",
    "    can be reference as an attribute if desired. \n",
    "\n",
    "    For more on valid Python identifiers, see:\n",
    "    https://docs.python.org/3/reference/lexical_analysis.html#identifiers\n",
    "    \"\"\"\n",
    "    \n",
    "    \"\"\" Reformat column and index names. only works with with pandas MultiIndex for level=0.\n",
    "    \n",
    "    Parameters :\n",
    "    ----------\n",
    "    df : Pandas DataFrame\n",
    "\n",
    "    Notes :\n",
    "    -----\n",
    "    Different datasets have different naming conventions (for countries that go by multiple names and abbreviations).\n",
    "    This function imposes a convention on a selection of these country names.  \n",
    "    \"\"\"\n",
    "    # these lists are one-to-one. countries compared via manual inspection, unfortunately. \n",
    "    mismatch_labels_bad = ['Lao People\\'s Democratic Republic', 'Mainland China',\n",
    "                           'Occupied Palestinian Territory','Republic of Korea', 'Korea, South', \n",
    "                           'Gambia, The ', 'UK', \n",
    "                           'USA', 'Iran (Islamic Republic of)',\n",
    "                           'Bahamas, The', 'Russian Federation', 'Czech Republic', 'Republic Of Ireland',\n",
    "                          'Hong Kong Sar', 'Macao Sar', 'Uk','Us',\n",
    "                           'Congo ( Kinshasa)','Congo ( Brazzaville)',\n",
    "                           'Cote D\\' Ivoire', 'Viet Nam','Guinea- Bissau','Guinea','Usa']\n",
    "\n",
    "    mismatch_labels_good = ['Laos','China',\n",
    "                            'Palestine', 'South Korea', 'South Korea', \n",
    "                            'The Gambia', 'United Kingdom', \n",
    "                            'United States','Iran',\n",
    "                            'The Bahamas','Russia','Czechia','Ireland',\n",
    "                            'Hong Kong','Macao','United Kingdom', 'United States',\n",
    "                            'Democratic Republic Of The Congo','Republic Of The Congo',\n",
    "                            'Ivory Coast','Vietnam', 'Guinea Bissau','Guinea Bissau','United States']\n",
    "    \n",
    "    # three cases, column names, country names, or datetime. \n",
    "    if category == 'location':\n",
    "        reformatted_values = []\n",
    "        for val in values_to_transform:\n",
    "            reformatted_values.append(' '.join(re.sub(r'([A-Z][a-z]+)', r' \\1', \n",
    "                                                        re.sub(r'([A-Z]+)|_|\\/|\\)|\\(', r' \\1', val).lower())\n",
    "                                                        .split()).title())\n",
    "        transformed_values = pd.Series(reformatted_values).replace(to_replace=mismatch_labels_bad, value=mismatch_labels_good)\n",
    "    \n",
    "    elif category == 'columns':\n",
    "        reformatted_values = []\n",
    "        for val in values_to_transform:\n",
    "            reformatted_values.append('_'.join(re.sub(r'([A-Z][a-z]+)', r' \\1', \n",
    "                                                     re.sub(r'([A-Z]+)|_|\\/|\\)|\\(', r' \\1', val)\n",
    "                                                            .lower()).split()))\n",
    "        transformed_values = pd.Series(reformatted_values)\n",
    "        \n",
    "    elif category == 'date':\n",
    "        transformed_values = pd.to_datetime(pd.Series(\n",
    "            values_to_transform), errors='coerce',format=dateformat).dt.normalize()\n",
    "\n",
    "\n",
    "    return transformed_values\n",
    "\n",
    "\n",
    "def simple_model_forecast(df, drift_features, naive_features, forecast_interval=7):\n",
    "    \"\"\" Simple model forecasting of predictors. \n",
    "    \n",
    "    df : DataFrame\n",
    "        Dataframe which contains training set only, for\n",
    "        every country.\n",
    "    \n",
    "    drift_features : list-like or pd.Index\n",
    "        Features which will be forecasted using a drift model.\n",
    "        \n",
    "    naive_features :\n",
    "        Features which will be forecasted using a naive (constant) model.\n",
    "    \n",
    "    Notes\n",
    "    -----\n",
    "    \"\"\"\n",
    "    start, end = df.date_proxy.min(), df.date_proxy.max()\n",
    "    df_start = df[df.date_proxy == start].set_index('location')\n",
    "    df_end = df[df.date_proxy == end].set_index('location')\n",
    "    span = end - start\n",
    "    \n",
    "    # This computes the secant line for all \"drift features\", for all countries, separately.\n",
    "    drift_slopes = (1.0/span) * (df_end.loc[:, drift_features]\n",
    "                                 - df_start.loc[:, drift_features])\n",
    "\n",
    "    # Given a matrix of drifts, the correct way of using them to extrapolate (i.e. every\n",
    "    # row turns into a number of rows equal to forecast_interval) is to do the following\n",
    "    delta_t = np.arange(1, forecast_interval+1).reshape(-1, 1)\n",
    "    # the result is of course of the form, y = mx + b \n",
    "    drift_forecasts = pd.DataFrame((np.kron(drift_slopes.values, delta_t.reshape(-1, 1)) \n",
    "                       + np.kron(df_end.loc[:, drift_features].values, \n",
    "                                 np.ones(forecast_interval).reshape(-1,1))))\n",
    "    drift_forecasts.columns = drift_features\n",
    "    \n",
    "\n",
    "#     time_indices = (np.kron(np.ones([df_end.shape[0], 2]), delta_t) + \n",
    "#                    np.kron(df_end.loc[:, ['date_proxy','time_index']].values, \n",
    "#                                  np.ones(forecast_interval).reshape(-1,1)))\n",
    "#     time_indices = pd.DataFrame(np.array(time_indices,dtype=int), columns=['date_proxy','time_index'])\n",
    "    # Now for the naive forecasts, we simply need to copy the values of the features\n",
    "    # a number of times equal to forecast_interval. \n",
    "    \n",
    "    naive_df = df_end.loc[:, naive_features]\n",
    "    naive_forecasts = pd.concat(forecast_interval * [naive_df], axis=0).sort_index() \n",
    "    \n",
    "    drift_forecasts.index = naive_forecasts.index\n",
    "#     time_indices.index = naive_forecasts.index\n",
    "#     forecast_df = pd.concat((time_indices, drift_forecasts, naive_forecasts), axis=1)\n",
    "    forecast_df = pd.concat((drift_forecasts, naive_forecasts), axis=1)\n",
    "    \n",
    "    return forecast_df\n",
    "\n",
    "\n",
    "def shift_for_forecasting(data, forecast_interval=1, target_name='new_cases_per_million'):\n",
    "    \n",
    "    country_groupby_indices = country_groupby_indices_list(data)\n",
    "    for i, country_indices in enumerate(country_groupby_indices):\n",
    "        # fundamentally different operation for rate of change\n",
    "#         if target_name == 'new_cases_change_per_million':\n",
    "#             y =  data.loc[country_indices, 'new_cases_per_million'].diff(1).fillna(0)\n",
    "#         else:\n",
    "        y = data.loc[country_indices, target_name]\n",
    "        y.index = country_indices \n",
    "        \n",
    "        if i == 0 :\n",
    "            shifted_y = y.shift(-forecast_interval)\n",
    "        else:\n",
    "            shifted_y = pd.concat((shifted_y, y.shift(-forecast_interval)),axis=0)\n",
    "\n",
    "    return shifted_y\n",
    "\n",
    "# def box"
   ]
  },
  {
   "cell_type": "markdown",
   "metadata": {},
   "source": [
    "## Data\n",
    "\n",
    "Data has the following partitions (list in order of partition as realized in data used in modelling):\n",
    "\n",
    "    1. Continuous time dependent data\n",
    "    2. Rolling averages of continuous time dependent data\n",
    "    3. Continuous time independent data\n",
    "    4. One-hot encoded data: location (country), flags for government responses, test units. \n",
    "    5. Time indexing variables (date, time-index (days since first case))\n",
    "        \n",
    "    Continuous time dependent data with drift as baseline model, Rolling averages computed afterwards\n",
    "    Time series variables with naive as baseline model : The complement to the drift baseline variables. \n"
   ]
  },
  {
   "cell_type": "markdown",
   "metadata": {},
   "source": [
    "## Feature production <a id='newfeatures'></a>"
   ]
  },
  {
   "cell_type": "code",
   "execution_count": 21,
   "metadata": {},
   "outputs": [],
   "source": [
    "data = pd.read_csv('regression_data.csv', index_col=0)"
   ]
  },
  {
   "cell_type": "markdown",
   "metadata": {},
   "source": [
    "### n cases"
   ]
  },
  {
   "cell_type": "code",
   "execution_count": 22,
   "metadata": {
    "scrolled": false
   },
   "outputs": [
    {
     "data": {
      "text/html": [
       "<div>\n",
       "<style scoped>\n",
       "    .dataframe tbody tr th:only-of-type {\n",
       "        vertical-align: middle;\n",
       "    }\n",
       "\n",
       "    .dataframe tbody tr th {\n",
       "        vertical-align: top;\n",
       "    }\n",
       "\n",
       "    .dataframe thead th {\n",
       "        text-align: right;\n",
       "    }\n",
       "</style>\n",
       "<table border=\"1\" class=\"dataframe\">\n",
       "  <thead>\n",
       "    <tr style=\"text-align: right;\">\n",
       "      <th></th>\n",
       "      <th>location</th>\n",
       "      <th>date</th>\n",
       "      <th>time_index</th>\n",
       "      <th>days_since_first_case</th>\n",
       "      <th>new_cases_weighted</th>\n",
       "      <th>new_tests_weighted</th>\n",
       "      <th>new_recovered_weighted</th>\n",
       "      <th>new_deaths_weighted</th>\n",
       "      <th>c1_school_closing</th>\n",
       "      <th>c2_workplace_closing</th>\n",
       "      <th>...</th>\n",
       "      <th>aged_65_older_missing_flag</th>\n",
       "      <th>aged_70_older_missing_flag</th>\n",
       "      <th>gdp_per_capita_missing_flag</th>\n",
       "      <th>extreme_poverty_missing_flag</th>\n",
       "      <th>cvd_death_rate_missing_flag</th>\n",
       "      <th>diabetes_prevalence_missing_flag</th>\n",
       "      <th>female_smokers_missing_flag</th>\n",
       "      <th>male_smokers_missing_flag</th>\n",
       "      <th>handwashing_facilities_missing_flag</th>\n",
       "      <th>hospital_beds_per_thousand_missing_flag</th>\n",
       "    </tr>\n",
       "  </thead>\n",
       "  <tbody>\n",
       "    <tr>\n",
       "      <th>9474</th>\n",
       "      <td>Ivory Coast</td>\n",
       "      <td>2020-02-27</td>\n",
       "      <td>36</td>\n",
       "      <td>0</td>\n",
       "      <td>0.000000</td>\n",
       "      <td>0.000000</td>\n",
       "      <td>0.000000</td>\n",
       "      <td>0.0</td>\n",
       "      <td>0.0</td>\n",
       "      <td>0.0</td>\n",
       "      <td>...</td>\n",
       "      <td>1</td>\n",
       "      <td>1</td>\n",
       "      <td>1</td>\n",
       "      <td>1</td>\n",
       "      <td>1</td>\n",
       "      <td>1</td>\n",
       "      <td>1</td>\n",
       "      <td>1</td>\n",
       "      <td>1</td>\n",
       "      <td>1</td>\n",
       "    </tr>\n",
       "    <tr>\n",
       "      <th>9641</th>\n",
       "      <td>Jamaica</td>\n",
       "      <td>2020-03-22</td>\n",
       "      <td>60</td>\n",
       "      <td>11</td>\n",
       "      <td>0.000000</td>\n",
       "      <td>0.000000</td>\n",
       "      <td>0.000000</td>\n",
       "      <td>0.0</td>\n",
       "      <td>3.0</td>\n",
       "      <td>1.0</td>\n",
       "      <td>...</td>\n",
       "      <td>0</td>\n",
       "      <td>0</td>\n",
       "      <td>0</td>\n",
       "      <td>1</td>\n",
       "      <td>0</td>\n",
       "      <td>0</td>\n",
       "      <td>0</td>\n",
       "      <td>0</td>\n",
       "      <td>0</td>\n",
       "      <td>0</td>\n",
       "    </tr>\n",
       "    <tr>\n",
       "      <th>19666</th>\n",
       "      <td>Vietnam</td>\n",
       "      <td>2020-04-06</td>\n",
       "      <td>75</td>\n",
       "      <td>74</td>\n",
       "      <td>0.041094</td>\n",
       "      <td>0.000000</td>\n",
       "      <td>0.051367</td>\n",
       "      <td>0.0</td>\n",
       "      <td>3.0</td>\n",
       "      <td>3.0</td>\n",
       "      <td>...</td>\n",
       "      <td>0</td>\n",
       "      <td>0</td>\n",
       "      <td>0</td>\n",
       "      <td>0</td>\n",
       "      <td>0</td>\n",
       "      <td>0</td>\n",
       "      <td>0</td>\n",
       "      <td>0</td>\n",
       "      <td>0</td>\n",
       "      <td>0</td>\n",
       "    </tr>\n",
       "    <tr>\n",
       "      <th>801</th>\n",
       "      <td>Australia</td>\n",
       "      <td>2020-04-17</td>\n",
       "      <td>86</td>\n",
       "      <td>82</td>\n",
       "      <td>1.529419</td>\n",
       "      <td>452.041325</td>\n",
       "      <td>56.980658</td>\n",
       "      <td>0.0</td>\n",
       "      <td>3.0</td>\n",
       "      <td>2.0</td>\n",
       "      <td>...</td>\n",
       "      <td>0</td>\n",
       "      <td>0</td>\n",
       "      <td>0</td>\n",
       "      <td>0</td>\n",
       "      <td>0</td>\n",
       "      <td>0</td>\n",
       "      <td>0</td>\n",
       "      <td>0</td>\n",
       "      <td>1</td>\n",
       "      <td>0</td>\n",
       "    </tr>\n",
       "    <tr>\n",
       "      <th>18152</th>\n",
       "      <td>Trinidad And Tobago</td>\n",
       "      <td>2020-06-04</td>\n",
       "      <td>134</td>\n",
       "      <td>82</td>\n",
       "      <td>0.000000</td>\n",
       "      <td>0.000000</td>\n",
       "      <td>0.000000</td>\n",
       "      <td>0.0</td>\n",
       "      <td>3.0</td>\n",
       "      <td>2.0</td>\n",
       "      <td>...</td>\n",
       "      <td>0</td>\n",
       "      <td>0</td>\n",
       "      <td>0</td>\n",
       "      <td>1</td>\n",
       "      <td>0</td>\n",
       "      <td>0</td>\n",
       "      <td>1</td>\n",
       "      <td>1</td>\n",
       "      <td>0</td>\n",
       "      <td>0</td>\n",
       "    </tr>\n",
       "  </tbody>\n",
       "</table>\n",
       "<p>5 rows × 311 columns</p>\n",
       "</div>"
      ],
      "text/plain": [
       "                  location        date  time_index  days_since_first_case  \\\n",
       "9474           Ivory Coast  2020-02-27          36                      0   \n",
       "9641               Jamaica  2020-03-22          60                     11   \n",
       "19666              Vietnam  2020-04-06          75                     74   \n",
       "801              Australia  2020-04-17          86                     82   \n",
       "18152  Trinidad And Tobago  2020-06-04         134                     82   \n",
       "\n",
       "       new_cases_weighted  new_tests_weighted  new_recovered_weighted  \\\n",
       "9474             0.000000            0.000000                0.000000   \n",
       "9641             0.000000            0.000000                0.000000   \n",
       "19666            0.041094            0.000000                0.051367   \n",
       "801              1.529419          452.041325               56.980658   \n",
       "18152            0.000000            0.000000                0.000000   \n",
       "\n",
       "       new_deaths_weighted  c1_school_closing  c2_workplace_closing  ...  \\\n",
       "9474                   0.0                0.0                   0.0  ...   \n",
       "9641                   0.0                3.0                   1.0  ...   \n",
       "19666                  0.0                3.0                   3.0  ...   \n",
       "801                    0.0                3.0                   2.0  ...   \n",
       "18152                  0.0                3.0                   2.0  ...   \n",
       "\n",
       "       aged_65_older_missing_flag  aged_70_older_missing_flag  \\\n",
       "9474                            1                           1   \n",
       "9641                            0                           0   \n",
       "19666                           0                           0   \n",
       "801                             0                           0   \n",
       "18152                           0                           0   \n",
       "\n",
       "       gdp_per_capita_missing_flag  extreme_poverty_missing_flag  \\\n",
       "9474                             1                             1   \n",
       "9641                             0                             1   \n",
       "19666                            0                             0   \n",
       "801                              0                             0   \n",
       "18152                            0                             1   \n",
       "\n",
       "       cvd_death_rate_missing_flag  diabetes_prevalence_missing_flag  \\\n",
       "9474                             1                                 1   \n",
       "9641                             0                                 0   \n",
       "19666                            0                                 0   \n",
       "801                              0                                 0   \n",
       "18152                            0                                 0   \n",
       "\n",
       "       female_smokers_missing_flag  male_smokers_missing_flag  \\\n",
       "9474                             1                          1   \n",
       "9641                             0                          0   \n",
       "19666                            0                          0   \n",
       "801                              0                          0   \n",
       "18152                            1                          1   \n",
       "\n",
       "       handwashing_facilities_missing_flag  \\\n",
       "9474                                     1   \n",
       "9641                                     0   \n",
       "19666                                    0   \n",
       "801                                      1   \n",
       "18152                                    0   \n",
       "\n",
       "       hospital_beds_per_thousand_missing_flag  \n",
       "9474                                         1  \n",
       "9641                                         0  \n",
       "19666                                        0  \n",
       "801                                          0  \n",
       "18152                                        0  \n",
       "\n",
       "[5 rows x 311 columns]"
      ]
     },
     "execution_count": 22,
     "metadata": {},
     "output_type": "execute_result"
    }
   ],
   "source": [
    "data.sample(5)"
   ]
  },
  {
   "cell_type": "code",
   "execution_count": 24,
   "metadata": {},
   "outputs": [],
   "source": [
    "n_cases_time_series = data.loc[:, ['location','date','new_cases_weighted']].set_index(['location', 'date']).unstack()\n",
    "n_cases_time_series.columns = np.array(list(range(len(n_cases_time_series.columns))))\n",
    "n_cases_time_series = n_cases_time_series.loc[:, 8:]\n",
    "n_cases_prediction_series = n_cases_time_series.copy()\n",
    "\n",
    "baseline_time_series = data.loc[:, ['location','date','new_cases_weighted']].set_index(['location', 'date']).unstack()\n",
    "baseline_time_series.columns = np.array(list(range(len(baseline_time_series.columns))))\n",
    "baseline_time_series = baseline_time_series.shift(7, axis=1).loc[:,8:]\n",
    "# baseline_time_series = baseline_time_series.dropna(axis=1)\n"
   ]
  },
  {
   "cell_type": "markdown",
   "metadata": {},
   "source": [
    "I want to predict one week into the future, specifically using 7 models which each predict 1,2,3,4,5,6,7 days into the future respectively. To create models which predict n-days into the future, the data should be split into the following manner. \n",
    "\n",
    "Care needs to be taken not to use information from the future. The data needs to be split like so\n",
    "\n",
    "... Train | Prediction (Test) Day |  7 future days. Use 7 day prediction as an example because its the \"worst case\".\n",
    "For 7 day prediction, split the data such that the most recent week is the \"future\", the second most recent week is the \n",
    "\n",
    "What I was previously doing was predicting the same day by going 1,2,3,4,5,6,7 days into the past, not the future.\n",
    "\n",
    "I need to define the week span when I am predicting (i.e. a week past the \"test\")\n",
    "\n",
    "Let days be indexed by $t$, $t=1$ to $t=T$. The key is to define what the \"present\" day is. If the present day is\n",
    "$n$, then the training set can include data only up to $t \\leq n - 8$, and the testing set will be $t = n - 7$. otherwise we would be using target variable data from the future. This means that the predictor data for $n-7 < t < n$ goes unused in the training process, and the predictors for $n < t < T - 7$ go completely unused, as they have no 7 day future recorded to predict.\n",
    "\n",
    "For now, simply predict $t=T$ using data up until $t = T-7$, later, create an entire time series of predictions.\n",
    "\n",
    "More generally, for a forecast interval (shift) $s$, the split should be train $t < T - 2 * s$, test $t < T - s$ (after shifting the target variable by $s$ days.) ?\n",
    "\n",
    "This again has the last prediction being the same day. Therefore, do not do this, select instead the day one week before the end, then train the 7 different models on it. I.e. train is $t <= n - s$ (this reduces the size of the test set as $s$ increases, but this means we're training with all available data....\n",
    "\n",
    "\n",
    "I feel like Mike meant is set $t=n$, then predict $n+1$ with 1-day, $n+2$ with two day, etc. so effectively I'm shifting back the \"present\". otherwise the predictions would all correspond to the same day but just made in the past. \n",
    "\n",
    "\n",
    "ALWAYS use $t=n$ to predict $s$ days into the future. \n",
    "\n",
    "The training set being $t < T - 2s$...does this mean I should use $ T - 2s <= t <= T-s$ for testing? I think so. I think the whole point is that I might as well use those to test to utilize all data. As long as I'm not training with data from the future I'm ok. So the 7-day predictive model has 7 test days, while the 1-day only has 1?\n",
    "\n",
    "I'm using the one-day model to predict $t=n+1$ from $t=n$. Therefore I shouldn't test the 7-day model with the data from $t = n-6$, as this would also predict $t=n+1$?\n",
    "\n",
    "Do it this way for now: for every model, use $t=n$ to predict a single day in the next week."
   ]
  },
  {
   "cell_type": "markdown",
   "metadata": {},
   "source": [
    "To train and test the predictions of the 14 day moving average, the final \"test\" day has to be 14 days in the past. To think about what data we can train on then look to the actual 14 day moving average. The 14 day moving average of the last day in the time series contains information on the previous 14 days. therefore, the training set cannot \"know\" about these days and still be a valid training without contamination. Therefore, the training data cannot use any of the moving averages that occur on or after the day of prediction. This means that the day of prediction is 14 days behind the present, and the training set is 14 days behind the date of prediction, i.e. it uses the moving averages up until the day of prediction, but shifted into the past by 14 days. \n",
    "\n",
    "Now, it gets weird when trying to predict the 14 day moving average a number a days ahead less than 14. \n",
    "\n",
    "think about predicting the 14 day moving average 1 day ahead.\n",
    "\n",
    "xxxxxxxxxxxxxxxx|yyyyyyyyyyyyyy|z\n",
    "\n",
    "want to predict z. contains information yyyyyyyyyyyyz. so training set can't contain anything past xxxxxxxxxxxxxxxxx|y. \n",
    "\n"
   ]
  },
  {
   "cell_type": "markdown",
   "metadata": {},
   "source": [
    "I think I'm safe as long as the training data does not include any days included in the 14 day rolling average of the day that I am trying to predict."
   ]
  },
  {
   "cell_type": "code",
   "execution_count": null,
   "metadata": {},
   "outputs": [],
   "source": [
    "# The date when predictions will be made, i.e. one week before the end of the time series. \n",
    "prediction_date = X.date_proxy.max() - 14"
   ]
  },
  {
   "cell_type": "code",
   "execution_count": 25,
   "metadata": {},
   "outputs": [],
   "source": [
    "def create_Xy(model_data, target_data, time_index, start_date, frame_size, n_days_into_future, n_countries):\n",
    "    # can't include the max date because need at least 1 day in future to predict. +1 because of how range doesn't include endpoint\n",
    "    max_date_in_window = time_index.max() - n_days_into_future\n",
    "        # Take all model_data with date proxy less than numerical value, leading_window_date_not_included\n",
    "        frame_data = model_data[(time_index <= max_date_in_window) & \n",
    "                                (time_index > max_date_in_window-frame_size)]\n",
    "        #     print(frame_data.shape)\n",
    "        # Reshape the array such that each element along axis=0 is a time series of all feature model_data of a specific country.\n",
    "        reshaped_frame_data = frame_data.values.reshape(n_countries, frame_size, -1)\n",
    "        #     print(reshaped_frame_data.shape)\n",
    "        # Truncate / pad the windows along the \"time\" axis, axis=1. (pad_sequences takes in an iterable of iterables;\n",
    "        # the first axis is always the default iteration axis. \n",
    "        # *********************** WARNING: pad_sequences converts to integers by default *********************\n",
    "        resized_frame_data = pad_sequences(reshaped_frame_data, maxlen=frame_size, dtype=np.float64)\n",
    "        frame_data_4D = resized_frame_data[np.newaxis, :, :, :]\n",
    "        if max_date_in_window == start_date:\n",
    "            X = frame_data_4D.copy()\n",
    "        else:\n",
    "            X = np.concatenate((X, frame_data_4D),axis=0)\n",
    "    y = target_data.values.reshape(-1, time_index.nunique())[:, -X.shape[0]:]\n",
    "    # y = model_data.new_cases_weighted.values.reshape(-1, model_data.time_index.nunique()).transpose()[-X.shape[0]:,:]\n",
    "    return X, y\n",
    "\n",
    "def split_Xy(X, y, frame_size, n_validation_frames, n_test_frames, date_normalization=True,\n",
    "                          train_test_only=False):\n",
    "    \"\"\" Split into training, validation and test data.\n",
    "    \"\"\"\n",
    "\n",
    "    # Note that the last frame (date_range) that exists in X has already been determined by the choice of the number\n",
    "    # of steps to predict in the future, this is only slicing the frames. \n",
    "    if train_test_only:\n",
    "        X_train= X[:-n_test_frames,:,:,:]\n",
    "        y_train =  y[:-n_test_frames,:]\n",
    "        X_test = X[-n_test_frames:, :, :, :] \n",
    "        y_test = y[-n_test_frames:, :]\n",
    "        splits =  (X_train, y_train, X_test, y_test)\n",
    "    else:\n",
    "        X_train= X[:-(n_validation_frames+n_test_frames),:,:,:]\n",
    "        y_train =  y[:-(n_validation_frames+n_test_frames),:]\n",
    "        X_validate = X[-(n_validation_frames+n_test_frames):-n_test_frames, :, :, :]\n",
    "        y_validate = y[-(n_validation_frames+n_test_frames):-n_test_frames, :]\n",
    "        X_test = X[-n_test_frames:, :, :, :] \n",
    "        y_test = y[-n_test_frames:, :]\n",
    "        splits =  (X_train, y_train, X_validate, y_validate,\n",
    "                   X_test, y_test)\n",
    "                   \n",
    "    return splits\n",
    "\n",
    "\n",
    "def minmax(X, X_min, X_max):\n",
    "    # X_min and X_max need to have already been made into 4-d tensors with np.newaxis\n",
    "    tile_shape = np.array(np.array(X.shape) / np.array(X_min.shape), dtype=int)\n",
    "    denominator = np.tile(X_max, tile_shape) - np.tile(X_min, tile_shape)\n",
    "    denominator[denominator==0] = 1\n",
    "    X_scaled = (X - np.tile(X_min, tile_shape)) / denominator\n",
    "    return X_scaled\n",
    "\n",
    "def normal(X, X_mean, X_std):\n",
    "    tile_shape = np.array(np.array(X.shape) / np.array(X_mean.shape), dtype=int)\n",
    "    mean_ = np.tile(X_mean, tile_shape)\n",
    "    std_ =  np.tile(X_std, tile_shape)   \n",
    "    std_[np.where(std_==0.)] = 1\n",
    "    X_scaled = ((X - mean_) /  std_)\n",
    "    return X_scaled\n",
    "\n",
    "def normalize_Xy_splits(splits, normalization_method='minmax', train_test_only=False, feature_indices=None):\n",
    "    \"\"\" Split into training, validation and test data.\n",
    "    \"\"\"\n",
    "    min_, max_ = (0, 1)\n",
    "    # Note that the last frame (date_range) that exists in X has already been determined by the choice of the number\n",
    "    # of steps to predict in the future, this is only slicing the frames. \n",
    "    if train_test_only:\n",
    "        (X_train, y_train, X_test, y_test) = splits\n",
    "    else:\n",
    "        (X_train, y_train, X_validate, y_validate, X_test, y_test) = splits\n",
    "\n",
    "    if normalization_method=='minmax':\n",
    "        # To encapsulate the time-dependent nature of the problem and ignore the dramatic difference between current\n",
    "        # and initial behavior, only rescale the validation and testing frames by the most recent frame's values.\n",
    "        # There is only a single value per feature in this case, meaning that to rescale, the values need to\n",
    "        # be repeated for each validation, test frame for each country for each timestep.\n",
    "        X_min = X_train.min(axis=(2))\n",
    "        X_max = X_train.max(axis=(2))\n",
    "\n",
    "\n",
    "        X_train_scaled = minmax(X_train, X_min[:, :, np.newaxis, :],\n",
    "                        X_max[:, :, np.newaxis, :])\n",
    "        X_test_scaled = minmax(X_test, X_min[-1][np.newaxis, :, np.newaxis, :], \n",
    "                               X_max[-1][np.newaxis, :, np.newaxis, :])\n",
    "        if train_test_only:\n",
    "        # Normalize the training data by each frame's specific mean and std deviation. \n",
    "            splits = (X_train_scaled, y_train, X_test_scaled, y_test)\n",
    "        else:\n",
    "            X_validate_scaled = minmax(X_validate, X_min[-1,:][np.newaxis, :, np.newaxis, :], \n",
    "                                       X_max[-1,:][np.newaxis, :, np.newaxis, :])\n",
    "            splits = (X_train_scaled, y_train, X_validate_scaled, y_validate, X_test_scaled, y_test)\n",
    "    else:\n",
    "        \n",
    "        X_mean = X_train.mean(axis=(1,2))\n",
    "        X_std = X_train.std(axis=(1,2))\n",
    "\n",
    "        # To avoid division by zero. This is a big assumption but this typically occurs when the frame's feature\n",
    "        # value is identically zero, which would result in x-x_mean / x_std = 0 / 1 = 0. So it doesn't matter what \n",
    "        # the x_std value is changed to as they are always divided into 0.\n",
    "        #     X_std[np.where(X_std==0.)] = 1\n",
    "\n",
    "        #     # First two features are time_index and time_index (days_since_first_case)\n",
    "        #         if date_normalization==False:\n",
    "        #             X_mean[:,:2] = 0\n",
    "        #             X_std[:, :2] = 1\n",
    "        X_train_scaled = normal(X_train, \n",
    "                                X_mean[:, np.newaxis, np.newaxis, :],\n",
    "                                X_std[:, np.newaxis, np.newaxis, :])\n",
    "        X_test_scaled = normal(X_test, \n",
    "                               X_mean[-1,:][np.newaxis, np.newaxis, np.newaxis, :], \n",
    "                               X_std[-1,:][np.newaxis, np.newaxis, np.newaxis, :])\n",
    "        \n",
    "        if train_test_only:\n",
    "        # Normalize the training data by each frame's specific mean and std deviation. \n",
    "            splits = (X_train_scaled, y_train, X_test_scaled, y_test)\n",
    "        else:\n",
    "            X_validate_scaled = normal(X_test, \n",
    "                               X_mean[-1,:][np.newaxis, np.newaxis, np.newaxis, :], \n",
    "                               X_std[-1,:][np.newaxis, np.newaxis, np.newaxis, :])\n",
    "            splits = (X_train_scaled, y_train, X_validate_scaled, y_validate, X_test_scaled, y_test)\n",
    "\n",
    "    return splits\n",
    "\n",
    "def concatenate_4d_into_3d(splits, train_test_only=False):\n",
    "    \n",
    "    if train_test_only:\n",
    "        (X_train, y_train, X_test, y_test) = splits\n",
    "        X_train = np.concatenate(X_train, axis=0)\n",
    "        y_train = np.concatenate(y_train, axis=0)\n",
    "        X_test = np.concatenate(X_test, axis=0)\n",
    "        y_test = np.concatenate(y_test, axis=0)\n",
    "        concat_splits = (X_train, y_train, X_test, y_test) \n",
    "    else:\n",
    "        (X_train, y_train, X_validate, y_validate, X_test, y_test) = splits\n",
    "        X_train = np.concatenate(X_train, axis=0)\n",
    "        y_train = np.concatenate(y_train, axis=0)\n",
    "        X_validate = np.concatenate(X_validate, axis=0)\n",
    "        y_validate = np.concatenate(y_validate, axis=0)\n",
    "        X_test = np.concatenate(X_test, axis=0)\n",
    "        y_test = np.concatenate(y_test, axis=0)\n",
    "        concat_splits = (X_train, y_train, X_validate, y_validate, X_test, y_test) \n",
    "    return concat_splits\n",
    "\n",
    "def transpose_for_separable2d(splits, train_test_only=False):\n",
    "    if train_test_only:\n",
    "        (X_train, y_train, X_test, y_test) = splits\n",
    "        X_train = np.transpose(X_train, axes=[0,2,1,3])\n",
    "        X_test = np.transpose(X_test, axes=[0,2,1,3])\n",
    "        transpose_split = (X_train, y_train, X_test, y_test) \n",
    "    else:\n",
    "        (X_train, y_train, X_validate, y_validate, X_test, y_test) = splits\n",
    "        X_train = np.transpose(X_train, axes=[0,2,1,3])\n",
    "        X_validate = np.transpose(X_validate, axes=[0,2,1,3])\n",
    "        X_test = np.transpose(X_test, axes=[0,2,1,3])\n",
    "        transpose_split = (X_train, y_train, X_validate, y_validate, X_test, y_test) \n",
    "    return transpose_split\n",
    "\n",
    "    \n",
    "def true_predict_plot(y_test, y_naive, y_predict, title=''):\n",
    "    fig, axes = plt.subplots(1, 2, figsize=(20,5))\n",
    "    ymax = np.max([y_test.max(), y_predict.max()])\n",
    "    axes[0].scatter(y_test, y_naive, s=5)\n",
    "    axes[0].plot([0, ymax], [0, ymax])\n",
    "\n",
    "    axes[1].scatter(y_test, y_predict, s=5)\n",
    "    axes[1].plot([0, ymax], [0, ymax])\n",
    "\n",
    "    axes[0].set_xlabel('True value')\n",
    "    axes[0].set_ylabel('Predicted value')\n",
    "    axes[0].set_title('Naive model')\n",
    "\n",
    "    axes[1].set_xlabel('True value')\n",
    "    axes[1].set_ylabel('Predicted value')\n",
    "    axes[1].set_title('CNN model')\n",
    "    plt.show()\n",
    "    return None\n",
    "\n",
    "def residual_plot(y_test,y_predict,title='', ax=None):\n",
    "    if ax is None:\n",
    "        fig, ax = plt.subplots()\n",
    "    ax.scatter(y_test, y_test-y_predict.ravel(), s=5)\n",
    "    ax.set_ylabel('Residual')\n",
    "    ax.set_xlabel('True value')\n",
    "    ax.grid(True)\n",
    "#     plt.show()\n",
    "    return None\n",
    "\n",
    "def residual_diff_plots(y_naive, y_predict, y_true, n_test_frames,n_days_into_future, n_countries):\n",
    "    \n",
    "    fig, axes = plt.subplots(2, 2, figsize=(20,5), sharey=True)\n",
    "    (ax1,ax2,ax3,ax4) = axes.flatten()\n",
    "    for i in range(n_test_frames):\n",
    "        xrange = range(n_countries*i, n_countries*(i+1))\n",
    "        ax1.plot(xrange, y_true.reshape(-1,n_countries)[i,:]-y_naive.reshape(-1,n_countries)[i,:])\n",
    "        ax2.plot(xrange, y_true.reshape(-1,n_countries)[i,:]-y_predict.reshape(-1,n_countries)[i,:])\n",
    "    fig.suptitle('{}-day-into-future predictions'.format(n_days_into_future))\n",
    "    ax1.set_title('True minus Naive baseline')\n",
    "    ax2.set_title('True minus CNN')\n",
    "    residual_plot(y_true,y_naive,title='Naive residual',ax=ax3)\n",
    "    residual_plot(y_true,y_predict,title='CNN residual',ax=ax4)\n",
    "    plt.show()"
   ]
  },
  {
   "cell_type": "code",
   "execution_count": 107,
   "metadata": {},
   "outputs": [],
   "source": [
    "def country_search(df, country):\n",
    "    return df[df.location==country].index\n",
    "\n",
    "def country_groupby(df):\n",
    "    return [df[df.location==country].index for country in df.location.unique()]\n",
    "\n",
    "\n",
    "def column_search(df, name, return_style='loc', threshold='contains'):\n",
    "    if threshold=='contains':\n",
    "        func = df.columns.str.contains\n",
    "    else:\n",
    "        func = df.columns.str.match\n",
    "        \n",
    "    if return_style == 'loc':\n",
    "        return df.columns[func(name)]\n",
    "    elif return_style== 'iloc':\n",
    "        return np.where(func(name))[0]\n",
    "    else:\n",
    "        return None\n"
   ]
  },
  {
   "cell_type": "code",
   "execution_count": 231,
   "metadata": {},
   "outputs": [],
   "source": [
    "def true_predict_plot(y_test, y_naive, y_predict, title=''):\n",
    "    fig, (ax1,ax2) = plt.subplots(1, 2, figsize=(20,5))\n",
    "    ymax = np.max([np.log(1+y_test).max(), np.log(1+y_predict).max()])\n",
    "    ax1.scatter(np.log(y_test+1), np.log(y_naive+1), s=5)\n",
    "    ax1.plot([0, ymax], [0, ymax],color='r')\n",
    "\n",
    "    ax2.scatter(np.log(y_test+1), np.log(y_predict+1), s=5)\n",
    "    ax2.plot([0, ymax], [0, ymax],color='r')\n",
    "\n",
    "    ax1.set_xlabel('True value')\n",
    "    ax1.set_ylabel('Predicted value')\n",
    "    ax1.set_title('Naive model')\n",
    "\n",
    "    ax2.set_xlabel('True value')\n",
    "    ax2.set_ylabel('Predicted value')\n",
    "    ax2.set_title('CNN model')\n",
    "    ax1.grid(True)\n",
    "    ax2.grid(True)\n",
    "    plt.show()\n",
    "    return None\n",
    "\n",
    "def residual_plot(y_test,y_predict,title='', ax=None):\n",
    "    if ax is None:\n",
    "        fig, ax = plt.subplots()\n",
    "    ax.scatter(y_test, y_test-y_predict.ravel(), s=5)\n",
    "    ax.set_ylabel('Residual')\n",
    "    ax.set_xlabel('True value')\n",
    "    ax.grid(True)\n",
    "#     plt.show()\n",
    "    return None\n",
    "\n",
    "def residual_diff_plots(y_naive, y_predict, y_true,n_days_into_future, n_countries):\n",
    "    \n",
    "    fig, axes = plt.subplots(2, 2, figsize=(20,5), sharey=True)\n",
    "    (ax1,ax2,ax3,ax4) = axes.flatten()\n",
    "    xrange = range(n_countries)\n",
    "    ax1.plot(xrange, np.log(y_true+1)\n",
    "             -np.log(y_naive+1))\n",
    "    ax2.plot(xrange, np.log(y_true+1)\n",
    "             -np.log(y_predict+1))\n",
    "    fig.suptitle('{}-day-into-future predictions'.format(n_days_into_future))\n",
    "    ax1.set_title('Country-wise differences')\n",
    "    ax2.set_title('Country-wise differences')\n",
    "    ax1.set_ylabel('log(|True - Naive|)')\n",
    "    ax2.set_ylabel('log(|True - CNN|)')\n",
    "    ax1.grid(True)\n",
    "    ax2.grid(True)\n",
    "    residual_plot(np.log(y_true+1),np.log(y_naive+1), ax=ax3)\n",
    "    residual_plot(np.log(y_true+1),np.log(y_predict+1), ax=ax4)\n",
    "    plt.show()\n"
   ]
  },
  {
   "cell_type": "code",
   "execution_count": 266,
   "metadata": {},
   "outputs": [],
   "source": [
    "def n_day_forecasting(data, n_test_days, n_days_into_future, col_transformer=StandardScaler()):\n",
    "    n_countries = data.location.nunique()\n",
    "    chronological_data = data.sort_values(by=['time_index','location'])\n",
    "    X = chronological_data[(chronological_data.time_index <=  chronological_data.time_index.max() - n_days_into_future)].reset_index(drop=True)\n",
    "    y = chronological_data[(chronological_data.time_index  >= n_days_into_future)].new_cases_weighted.reset_index(drop=True)\n",
    "\n",
    "    # X has already been shifted by n_days_into future, so the last day in X is predicting that last day + n_days_into_future. \n",
    "    y_naive = X.new_cases_weighted[X.time_index > X.time_index.max() - n_prediction_days]\n",
    "\n",
    "    train_indices = np.where(X.time_index <= X.time_index.max() - n_prediction_days)[0]\n",
    "    test_indices = np.where(X.time_index > X.time_index.max() - n_prediction_days)[0]\n",
    "\n",
    "    X_train = X.iloc[train_indices, 2:]#.apply(lambda x : np.log(x+1))\n",
    "    y_train = y.loc[train_indices]\n",
    "\n",
    "    X_test = X.iloc[test_indices, 2:]#.apply(lambda x : np.log(x+1))\n",
    "    y_test =  y.loc[test_indices]\n",
    "\n",
    "    _ = col_transformer.fit(X_train)\n",
    "    X_train_normalized =  col_transformer.transform(X_train)\n",
    "    X_test_normalized =  col_transformer.transform(X_test)\n",
    "    \n",
    "#     pca = PCA(n_components=5)\n",
    "#     _ = pca.fit(X_train_normalized)\n",
    "#     X_train_normalized = pca.transform(X_train_normalized)\n",
    "#     X_test_normalized = pca.transform(X_test_normalized)\n",
    "    \n",
    "    n_step_models = []\n",
    "\n",
    "    model = Ridge() \n",
    "    _ = model.fit(X_train_normalized, y_train)\n",
    "    y_true, y_predict, mae = classifier_analysis(model, X_test_normalized, y_test, plot=False, metric='mae')\n",
    "    \n",
    "    return (y_true, y_naive, y_predict), model "
   ]
  },
  {
   "cell_type": "code",
   "execution_count": 256,
   "metadata": {},
   "outputs": [
    {
     "data": {
      "text/html": [
       "<div>\n",
       "<style scoped>\n",
       "    .dataframe tbody tr th:only-of-type {\n",
       "        vertical-align: middle;\n",
       "    }\n",
       "\n",
       "    .dataframe tbody tr th {\n",
       "        vertical-align: top;\n",
       "    }\n",
       "\n",
       "    .dataframe thead th {\n",
       "        text-align: right;\n",
       "    }\n",
       "</style>\n",
       "<table border=\"1\" class=\"dataframe\">\n",
       "  <thead>\n",
       "    <tr style=\"text-align: right;\">\n",
       "      <th></th>\n",
       "      <th>location</th>\n",
       "      <th>date</th>\n",
       "      <th>time_index</th>\n",
       "      <th>days_since_first_case</th>\n",
       "      <th>new_cases_weighted</th>\n",
       "      <th>new_tests_weighted</th>\n",
       "      <th>new_recovered_weighted</th>\n",
       "      <th>new_deaths_weighted</th>\n",
       "      <th>c1_school_closing</th>\n",
       "      <th>c2_workplace_closing</th>\n",
       "      <th>...</th>\n",
       "      <th>c7_flag_0</th>\n",
       "      <th>c7_flag_1</th>\n",
       "      <th>e1_flag_0</th>\n",
       "      <th>e1_flag_1</th>\n",
       "      <th>h1_flag_0</th>\n",
       "      <th>h1_flag_1</th>\n",
       "      <th>tests_units_people tested</th>\n",
       "      <th>tests_units_samples tested</th>\n",
       "      <th>tests_units_tests performed</th>\n",
       "      <th>tests_units_units unclear</th>\n",
       "    </tr>\n",
       "  </thead>\n",
       "  <tbody>\n",
       "    <tr>\n",
       "      <th>0</th>\n",
       "      <td>Afghanistan</td>\n",
       "      <td>2020-01-22</td>\n",
       "      <td>0</td>\n",
       "      <td>0</td>\n",
       "      <td>0.0</td>\n",
       "      <td>0.0</td>\n",
       "      <td>0.0</td>\n",
       "      <td>0.0</td>\n",
       "      <td>0.0</td>\n",
       "      <td>0.0</td>\n",
       "      <td>...</td>\n",
       "      <td>0</td>\n",
       "      <td>0</td>\n",
       "      <td>0</td>\n",
       "      <td>0</td>\n",
       "      <td>0</td>\n",
       "      <td>0</td>\n",
       "      <td>0</td>\n",
       "      <td>0</td>\n",
       "      <td>0</td>\n",
       "      <td>0</td>\n",
       "    </tr>\n",
       "    <tr>\n",
       "      <th>143</th>\n",
       "      <td>Albania</td>\n",
       "      <td>2020-01-22</td>\n",
       "      <td>0</td>\n",
       "      <td>0</td>\n",
       "      <td>0.0</td>\n",
       "      <td>0.0</td>\n",
       "      <td>0.0</td>\n",
       "      <td>0.0</td>\n",
       "      <td>0.0</td>\n",
       "      <td>0.0</td>\n",
       "      <td>...</td>\n",
       "      <td>0</td>\n",
       "      <td>0</td>\n",
       "      <td>0</td>\n",
       "      <td>0</td>\n",
       "      <td>0</td>\n",
       "      <td>0</td>\n",
       "      <td>0</td>\n",
       "      <td>0</td>\n",
       "      <td>0</td>\n",
       "      <td>0</td>\n",
       "    </tr>\n",
       "    <tr>\n",
       "      <th>286</th>\n",
       "      <td>Algeria</td>\n",
       "      <td>2020-01-22</td>\n",
       "      <td>0</td>\n",
       "      <td>0</td>\n",
       "      <td>0.0</td>\n",
       "      <td>0.0</td>\n",
       "      <td>0.0</td>\n",
       "      <td>0.0</td>\n",
       "      <td>0.0</td>\n",
       "      <td>0.0</td>\n",
       "      <td>...</td>\n",
       "      <td>0</td>\n",
       "      <td>0</td>\n",
       "      <td>0</td>\n",
       "      <td>0</td>\n",
       "      <td>0</td>\n",
       "      <td>0</td>\n",
       "      <td>0</td>\n",
       "      <td>0</td>\n",
       "      <td>0</td>\n",
       "      <td>0</td>\n",
       "    </tr>\n",
       "    <tr>\n",
       "      <th>429</th>\n",
       "      <td>Angola</td>\n",
       "      <td>2020-01-22</td>\n",
       "      <td>0</td>\n",
       "      <td>0</td>\n",
       "      <td>0.0</td>\n",
       "      <td>0.0</td>\n",
       "      <td>0.0</td>\n",
       "      <td>0.0</td>\n",
       "      <td>0.0</td>\n",
       "      <td>0.0</td>\n",
       "      <td>...</td>\n",
       "      <td>0</td>\n",
       "      <td>0</td>\n",
       "      <td>0</td>\n",
       "      <td>0</td>\n",
       "      <td>0</td>\n",
       "      <td>0</td>\n",
       "      <td>0</td>\n",
       "      <td>0</td>\n",
       "      <td>0</td>\n",
       "      <td>0</td>\n",
       "    </tr>\n",
       "    <tr>\n",
       "      <th>572</th>\n",
       "      <td>Argentina</td>\n",
       "      <td>2020-01-22</td>\n",
       "      <td>0</td>\n",
       "      <td>0</td>\n",
       "      <td>0.0</td>\n",
       "      <td>0.0</td>\n",
       "      <td>0.0</td>\n",
       "      <td>0.0</td>\n",
       "      <td>0.0</td>\n",
       "      <td>0.0</td>\n",
       "      <td>...</td>\n",
       "      <td>0</td>\n",
       "      <td>0</td>\n",
       "      <td>0</td>\n",
       "      <td>0</td>\n",
       "      <td>0</td>\n",
       "      <td>0</td>\n",
       "      <td>0</td>\n",
       "      <td>0</td>\n",
       "      <td>0</td>\n",
       "      <td>0</td>\n",
       "    </tr>\n",
       "  </tbody>\n",
       "</table>\n",
       "<p>5 rows × 176 columns</p>\n",
       "</div>"
      ],
      "text/plain": [
       "        location        date  time_index  days_since_first_case  \\\n",
       "0    Afghanistan  2020-01-22           0                      0   \n",
       "143      Albania  2020-01-22           0                      0   \n",
       "286      Algeria  2020-01-22           0                      0   \n",
       "429       Angola  2020-01-22           0                      0   \n",
       "572    Argentina  2020-01-22           0                      0   \n",
       "\n",
       "     new_cases_weighted  new_tests_weighted  new_recovered_weighted  \\\n",
       "0                   0.0                 0.0                     0.0   \n",
       "143                 0.0                 0.0                     0.0   \n",
       "286                 0.0                 0.0                     0.0   \n",
       "429                 0.0                 0.0                     0.0   \n",
       "572                 0.0                 0.0                     0.0   \n",
       "\n",
       "     new_deaths_weighted  c1_school_closing  c2_workplace_closing  ...  \\\n",
       "0                    0.0                0.0                   0.0  ...   \n",
       "143                  0.0                0.0                   0.0  ...   \n",
       "286                  0.0                0.0                   0.0  ...   \n",
       "429                  0.0                0.0                   0.0  ...   \n",
       "572                  0.0                0.0                   0.0  ...   \n",
       "\n",
       "     c7_flag_0  c7_flag_1  e1_flag_0  e1_flag_1  h1_flag_0  h1_flag_1  \\\n",
       "0            0          0          0          0          0          0   \n",
       "143          0          0          0          0          0          0   \n",
       "286          0          0          0          0          0          0   \n",
       "429          0          0          0          0          0          0   \n",
       "572          0          0          0          0          0          0   \n",
       "\n",
       "     tests_units_people tested  tests_units_samples tested  \\\n",
       "0                            0                           0   \n",
       "143                          0                           0   \n",
       "286                          0                           0   \n",
       "429                          0                           0   \n",
       "572                          0                           0   \n",
       "\n",
       "     tests_units_tests performed  tests_units_units unclear  \n",
       "0                              0                          0  \n",
       "143                            0                          0  \n",
       "286                            0                          0  \n",
       "429                            0                          0  \n",
       "572                            0                          0  \n",
       "\n",
       "[5 rows x 176 columns]"
      ]
     },
     "execution_count": 256,
     "metadata": {},
     "output_type": "execute_result"
    }
   ],
   "source": [
    "chronological_data = model_data.sort_values(by=['time_index','location'])\n",
    "chronological_data.head()"
   ]
  },
  {
   "cell_type": "markdown",
   "metadata": {},
   "source": [
    "Resetting the index makes it so X's index can be used to slice y. I.e. its the operation which \"realigns\" the data."
   ]
  },
  {
   "cell_type": "code",
   "execution_count": 257,
   "metadata": {},
   "outputs": [
    {
     "data": {
      "text/html": [
       "<div>\n",
       "<style scoped>\n",
       "    .dataframe tbody tr th:only-of-type {\n",
       "        vertical-align: middle;\n",
       "    }\n",
       "\n",
       "    .dataframe tbody tr th {\n",
       "        vertical-align: top;\n",
       "    }\n",
       "\n",
       "    .dataframe thead th {\n",
       "        text-align: right;\n",
       "    }\n",
       "</style>\n",
       "<table border=\"1\" class=\"dataframe\">\n",
       "  <thead>\n",
       "    <tr style=\"text-align: right;\">\n",
       "      <th></th>\n",
       "      <th>location</th>\n",
       "      <th>date</th>\n",
       "      <th>time_index</th>\n",
       "      <th>days_since_first_case</th>\n",
       "      <th>new_cases_weighted</th>\n",
       "      <th>new_tests_weighted</th>\n",
       "      <th>new_recovered_weighted</th>\n",
       "      <th>new_deaths_weighted</th>\n",
       "      <th>c1_school_closing</th>\n",
       "      <th>c2_workplace_closing</th>\n",
       "      <th>...</th>\n",
       "      <th>c7_flag_0</th>\n",
       "      <th>c7_flag_1</th>\n",
       "      <th>e1_flag_0</th>\n",
       "      <th>e1_flag_1</th>\n",
       "      <th>h1_flag_0</th>\n",
       "      <th>h1_flag_1</th>\n",
       "      <th>tests_units_people tested</th>\n",
       "      <th>tests_units_samples tested</th>\n",
       "      <th>tests_units_tests performed</th>\n",
       "      <th>tests_units_units unclear</th>\n",
       "    </tr>\n",
       "  </thead>\n",
       "  <tbody>\n",
       "    <tr>\n",
       "      <th>0</th>\n",
       "      <td>Afghanistan</td>\n",
       "      <td>2020-01-22</td>\n",
       "      <td>0</td>\n",
       "      <td>0</td>\n",
       "      <td>0.0</td>\n",
       "      <td>0.0</td>\n",
       "      <td>0.0</td>\n",
       "      <td>0.0</td>\n",
       "      <td>0.0</td>\n",
       "      <td>0.0</td>\n",
       "      <td>...</td>\n",
       "      <td>0</td>\n",
       "      <td>0</td>\n",
       "      <td>0</td>\n",
       "      <td>0</td>\n",
       "      <td>0</td>\n",
       "      <td>0</td>\n",
       "      <td>0</td>\n",
       "      <td>0</td>\n",
       "      <td>0</td>\n",
       "      <td>0</td>\n",
       "    </tr>\n",
       "    <tr>\n",
       "      <th>143</th>\n",
       "      <td>Albania</td>\n",
       "      <td>2020-01-22</td>\n",
       "      <td>0</td>\n",
       "      <td>0</td>\n",
       "      <td>0.0</td>\n",
       "      <td>0.0</td>\n",
       "      <td>0.0</td>\n",
       "      <td>0.0</td>\n",
       "      <td>0.0</td>\n",
       "      <td>0.0</td>\n",
       "      <td>...</td>\n",
       "      <td>0</td>\n",
       "      <td>0</td>\n",
       "      <td>0</td>\n",
       "      <td>0</td>\n",
       "      <td>0</td>\n",
       "      <td>0</td>\n",
       "      <td>0</td>\n",
       "      <td>0</td>\n",
       "      <td>0</td>\n",
       "      <td>0</td>\n",
       "    </tr>\n",
       "    <tr>\n",
       "      <th>286</th>\n",
       "      <td>Algeria</td>\n",
       "      <td>2020-01-22</td>\n",
       "      <td>0</td>\n",
       "      <td>0</td>\n",
       "      <td>0.0</td>\n",
       "      <td>0.0</td>\n",
       "      <td>0.0</td>\n",
       "      <td>0.0</td>\n",
       "      <td>0.0</td>\n",
       "      <td>0.0</td>\n",
       "      <td>...</td>\n",
       "      <td>0</td>\n",
       "      <td>0</td>\n",
       "      <td>0</td>\n",
       "      <td>0</td>\n",
       "      <td>0</td>\n",
       "      <td>0</td>\n",
       "      <td>0</td>\n",
       "      <td>0</td>\n",
       "      <td>0</td>\n",
       "      <td>0</td>\n",
       "    </tr>\n",
       "    <tr>\n",
       "      <th>429</th>\n",
       "      <td>Angola</td>\n",
       "      <td>2020-01-22</td>\n",
       "      <td>0</td>\n",
       "      <td>0</td>\n",
       "      <td>0.0</td>\n",
       "      <td>0.0</td>\n",
       "      <td>0.0</td>\n",
       "      <td>0.0</td>\n",
       "      <td>0.0</td>\n",
       "      <td>0.0</td>\n",
       "      <td>...</td>\n",
       "      <td>0</td>\n",
       "      <td>0</td>\n",
       "      <td>0</td>\n",
       "      <td>0</td>\n",
       "      <td>0</td>\n",
       "      <td>0</td>\n",
       "      <td>0</td>\n",
       "      <td>0</td>\n",
       "      <td>0</td>\n",
       "      <td>0</td>\n",
       "    </tr>\n",
       "    <tr>\n",
       "      <th>572</th>\n",
       "      <td>Argentina</td>\n",
       "      <td>2020-01-22</td>\n",
       "      <td>0</td>\n",
       "      <td>0</td>\n",
       "      <td>0.0</td>\n",
       "      <td>0.0</td>\n",
       "      <td>0.0</td>\n",
       "      <td>0.0</td>\n",
       "      <td>0.0</td>\n",
       "      <td>0.0</td>\n",
       "      <td>...</td>\n",
       "      <td>0</td>\n",
       "      <td>0</td>\n",
       "      <td>0</td>\n",
       "      <td>0</td>\n",
       "      <td>0</td>\n",
       "      <td>0</td>\n",
       "      <td>0</td>\n",
       "      <td>0</td>\n",
       "      <td>0</td>\n",
       "      <td>0</td>\n",
       "    </tr>\n",
       "  </tbody>\n",
       "</table>\n",
       "<p>5 rows × 176 columns</p>\n",
       "</div>"
      ],
      "text/plain": [
       "        location        date  time_index  days_since_first_case  \\\n",
       "0    Afghanistan  2020-01-22           0                      0   \n",
       "143      Albania  2020-01-22           0                      0   \n",
       "286      Algeria  2020-01-22           0                      0   \n",
       "429       Angola  2020-01-22           0                      0   \n",
       "572    Argentina  2020-01-22           0                      0   \n",
       "\n",
       "     new_cases_weighted  new_tests_weighted  new_recovered_weighted  \\\n",
       "0                   0.0                 0.0                     0.0   \n",
       "143                 0.0                 0.0                     0.0   \n",
       "286                 0.0                 0.0                     0.0   \n",
       "429                 0.0                 0.0                     0.0   \n",
       "572                 0.0                 0.0                     0.0   \n",
       "\n",
       "     new_deaths_weighted  c1_school_closing  c2_workplace_closing  ...  \\\n",
       "0                    0.0                0.0                   0.0  ...   \n",
       "143                  0.0                0.0                   0.0  ...   \n",
       "286                  0.0                0.0                   0.0  ...   \n",
       "429                  0.0                0.0                   0.0  ...   \n",
       "572                  0.0                0.0                   0.0  ...   \n",
       "\n",
       "     c7_flag_0  c7_flag_1  e1_flag_0  e1_flag_1  h1_flag_0  h1_flag_1  \\\n",
       "0            0          0          0          0          0          0   \n",
       "143          0          0          0          0          0          0   \n",
       "286          0          0          0          0          0          0   \n",
       "429          0          0          0          0          0          0   \n",
       "572          0          0          0          0          0          0   \n",
       "\n",
       "     tests_units_people tested  tests_units_samples tested  \\\n",
       "0                            0                           0   \n",
       "143                          0                           0   \n",
       "286                          0                           0   \n",
       "429                          0                           0   \n",
       "572                          0                           0   \n",
       "\n",
       "     tests_units_tests performed  tests_units_units unclear  \n",
       "0                              0                          0  \n",
       "143                            0                          0  \n",
       "286                            0                          0  \n",
       "429                            0                          0  \n",
       "572                            0                          0  \n",
       "\n",
       "[5 rows x 176 columns]"
      ]
     },
     "execution_count": 257,
     "metadata": {},
     "output_type": "execute_result"
    }
   ],
   "source": [
    "chronological_data = model_data.sort_values(by=['time_index','location'])\n",
    "chronological_data.head()"
   ]
  },
  {
   "cell_type": "code",
   "execution_count": 272,
   "metadata": {},
   "outputs": [
    {
     "name": "stdout",
     "output_type": "stream",
     "text": [
      "1-step MAE [Naive, CNN] = [10.181423289216637,8.909438736019966]\n",
      "1-step R^2 [Naive, CNN] = [0.5095423321692748,0.8203121128766264]\n"
     ]
    },
    {
     "data": {
      "image/png": "[encoded data removed]",
      "text/plain": [
       "<Figure size 1440x360 with 2 Axes>"
      ]
     },
     "metadata": {
      "needs_background": "light"
     },
     "output_type": "display_data"
    },
    {
     "data": {
      "image/png": "[encoded data removed]",
      "text/plain": [
       "<Figure size 1440x360 with 4 Axes>"
      ]
     },
     "metadata": {
      "needs_background": "light"
     },
     "output_type": "display_data"
    }
   ],
   "source": [
    "n_test_days = 1\n",
    "n_days_into_future = 1\n",
    "ys, model =  n_day_forecasting(model_data, n_test_days, n_days_into_future)\n",
    "\n",
    "y_test, y_naive, y_predict = ys\n",
    "y_predict[y_predict<0]=0\n",
    "mae_naive = mean_absolute_error(y_test, y_naive)\n",
    "mae_predict = mean_absolute_error(y_test, y_predict)\n",
    "r2_naive = explained_variance_score(y_test, y_naive)\n",
    "r2_predict = explained_variance_score(y_test, y_predict)\n",
    "\n",
    "print('{}-step MAE [Naive, CNN] = [{},{}]'.format(\n",
    "n_days_into_future, mae_naive, mae_predict))\n",
    "print('{}-step R^2 [Naive, CNN] = [{},{}]'.format(\n",
    "n_days_into_future, r2_naive, r2_predict))\n",
    "\n",
    "true_predict_plot(y_test, y_naive, y_predict, title='')\n",
    "residual_diff_plots(y_naive, y_predict, y_test, n_days_into_future, data.location.nunique())"
   ]
  },
  {
   "cell_type": "code",
   "execution_count": 276,
   "metadata": {},
   "outputs": [
    {
     "name": "stdout",
     "output_type": "stream",
     "text": [
      "7-step MAE [Naive, CNN] = [9.981094588840769,10.297895669466353]\n",
      "7-step R^2 [Naive, CNN] = [0.8305420287882526,0.8369557445336929]\n"
     ]
    },
    {
     "data": {
      "image/png": "[encoded data removed]",
      "text/plain": [
       "<Figure size 1440x360 with 2 Axes>"
      ]
     },
     "metadata": {
      "needs_background": "light"
     },
     "output_type": "display_data"
    },
    {
     "data": {
      "image/png": "[encoded data removed]",
      "text/plain": [
       "<Figure size 1440x360 with 4 Axes>"
      ]
     },
     "metadata": {
      "needs_background": "light"
     },
     "output_type": "display_data"
    }
   ],
   "source": [
    "n_test_days = 1\n",
    "n_days_into_future = 7\n",
    "ys, model =  n_day_forecasting(model_data, n_test_days, n_days_into_future)\n",
    "\n",
    "\n",
    "y_test, y_naive, y_predict = ys\n",
    "y_predict[y_predict<0]=0\n",
    "mae_naive = mean_absolute_error(y_test, y_naive)\n",
    "mae_predict = mean_absolute_error(y_test, y_predict)\n",
    "r2_naive = explained_variance_score(y_test, y_naive)\n",
    "r2_predict = explained_variance_score(y_test, y_predict)\n",
    "\n",
    "print('{}-step MAE [Naive, CNN] = [{},{}]'.format(\n",
    "n_days_into_future, mae_naive, mae_predict))\n",
    "print('{}-step R^2 [Naive, CNN] = [{},{}]'.format(\n",
    "n_days_into_future, r2_naive, r2_predict))\n",
    "\n",
    "true_predict_plot(y_test, y_naive, y_predict, title='')\n",
    "residual_diff_plots(y_naive, y_predict, y_test, n_days_into_future, data.location.nunique())"
   ]
  },
  {
   "cell_type": "code",
   "execution_count": 277,
   "metadata": {},
   "outputs": [
    {
     "name": "stdout",
     "output_type": "stream",
     "text": [
      "14-step MAE [Naive, CNN] = [12.337611875286047,15.018531564730063]\n",
      "14-step R^2 [Naive, CNN] = [0.7523881344995227,0.7149661646443843]\n"
     ]
    },
    {
     "data": {
      "image/png": "[encoded data removed]",
      "text/plain": [
       "<Figure size 1440x360 with 2 Axes>"
      ]
     },
     "metadata": {
      "needs_background": "light"
     },
     "output_type": "display_data"
    },
    {
     "data": {
      "image/png": "[encoded data removed]",
      "text/plain": [
       "<Figure size 1440x360 with 4 Axes>"
      ]
     },
     "metadata": {
      "needs_background": "light"
     },
     "output_type": "display_data"
    }
   ],
   "source": [
    "n_test_days = 1\n",
    "n_days_into_future = 14\n",
    "ys, model =  n_day_forecasting(model_data, n_test_days, n_days_into_future)\n",
    "\n",
    "y_test, y_naive, y_predict = ys\n",
    "y_predict[y_predict<0]=0\n",
    "mae_naive = mean_absolute_error(y_test, y_naive)\n",
    "mae_predict = mean_absolute_error(y_test, y_predict)\n",
    "r2_naive = explained_variance_score(y_test, y_naive)\n",
    "r2_predict = explained_variance_score(y_test, y_predict)\n",
    "\n",
    "print('{}-step MAE [Naive, CNN] = [{},{}]'.format(\n",
    "n_days_into_future, mae_naive, mae_predict))\n",
    "print('{}-step R^2 [Naive, CNN] = [{},{}]'.format(\n",
    "n_days_into_future, r2_naive, r2_predict))\n",
    "\n",
    "true_predict_plot(y_test, y_naive, y_predict, title='')\n",
    "residual_diff_plots(y_naive, y_predict, y_test, n_days_into_future, data.location.nunique())"
   ]
  },
  {
   "cell_type": "markdown",
   "metadata": {},
   "source": [
    "Always seems to be an outliers > 200, see which countries these belong to."
   ]
  },
  {
   "cell_type": "markdown",
   "metadata": {},
   "source": [
    "There are 7 values greater than 300 which clearly stand out as separated from the rest of the values.\n",
    "Let's check if there is anything in common between these points. Using numpy to find the indices at which\n",
    "the values occur to figure out the countries the values come from."
   ]
  },
  {
   "cell_type": "markdown",
   "metadata": {},
   "source": [
    "It turns out all of these large values come from Qatar, let's look at the time series with true and predicted values to see if we can understand what is going on, i.e. why the large values are being underestimated."
   ]
  },
  {
   "cell_type": "code",
   "execution_count": null,
   "metadata": {},
   "outputs": [],
   "source": [
    "rm14_time_series = X.loc[:, ['location','date','new_cases_per_million_rolling_mean_14']].set_index(['location', 'date']).unstack()\n",
    "rm14_time_series.columns = np.array(list(range(len(rm14_time_series.columns))))\n",
    "rm14_time_series = rm14_time_series.loc[:, 15:]\n",
    "rm14_prediction_series = rm14_time_series.copy()\n",
    "\n",
    "baseline_time_series = X.loc[:, ['location','date','new_cases_per_million_rolling_mean_14']].set_index(['location', 'date']).unstack()\n",
    "baseline_time_series.columns = np.array(list(range(len(baseline_time_series.columns))))\n",
    "baseline_time_series = baseline_time_series.shift(14, axis=1).loc[:, 15:]\n",
    "# baseline_time_series = baseline_time_series.dropna(axis=1)\n"
   ]
  },
  {
   "cell_type": "code",
   "execution_count": null,
   "metadata": {},
   "outputs": [],
   "source": [
    "rm14_prediction_series.iloc[:, -(shift):] = predictions"
   ]
  },
  {
   "cell_type": "code",
   "execution_count": null,
   "metadata": {},
   "outputs": [],
   "source": [
    "def plot_prediction_versus_truth_time_series(country_index, shift, truth_time_series, prediction_time_series):\n",
    "    plt.figure(figsize=(5,5))\n",
    "    plt.plot(truth_time_series.columns[:-(shift+1)], truth_time_series.iloc[country_index,:-(shift+1)], label='True past')\n",
    "    plt.plot(truth_time_series.columns[-(shift+1):], truth_time_series.iloc[country_index,-(shift+1):], label='True future')\n",
    "    plt.plot(truth_time_series.columns[-(shift+1):], prediction_time_series.iloc[country_index, -(shift+1):], label='Predicted future', linestyle='--')\n",
    "    plt.legend(loc=(1,0.5))\n",
    "    plt.show()\n",
    "    return None"
   ]
  },
  {
   "cell_type": "code",
   "execution_count": null,
   "metadata": {},
   "outputs": [],
   "source": [
    "X[X.location=='Afghanistan'].loc[:, ['new_cases_per_million', 'new_cases_per_million_rolling_mean_3', 'new_cases_per_million_rolling_mean_7', 'new_cases_per_million_rolling_mean_14']].plot()"
   ]
  },
  {
   "cell_type": "code",
   "execution_count": null,
   "metadata": {},
   "outputs": [],
   "source": [
    "rm14_time_series.iloc[0,:].plot()\n",
    "n_cases_time_series.iloc[0,:].plot()"
   ]
  },
  {
   "cell_type": "code",
   "execution_count": null,
   "metadata": {
    "scrolled": false
   },
   "outputs": [],
   "source": [
    "shift = 14\n",
    "for country_index in range(rm14_time_series.shape[0]):\n",
    "    plot_prediction_versus_truth_time_series(country_index, shift, rm14_time_series, rm14_prediction_series)"
   ]
  },
  {
   "cell_type": "code",
   "execution_count": null,
   "metadata": {},
   "outputs": [],
   "source": [
    "plt.figure(figsize=(10,10))\n",
    "plt.plot(n_cases_time_series.columns[:-7], n_cases_time_series.iloc[92,:-7], label='True past')\n",
    "plt.plot(n_cases_time_series.columns[-8:], np.concatenate(([n_cases_time_series.iloc[92,-8]],truths[92, :])), label='True future')\n",
    "plt.plot(n_cases_time_series.columns[-8:], np.concatenate(([n_cases_time_series.iloc[92,-8]],predictions[92, :])), label='Predicted future', linestyle='--')\n",
    "plt.legend(loc=(1,0.5))\n",
    "plt.show()"
   ]
  },
  {
   "cell_type": "code",
   "execution_count": null,
   "metadata": {},
   "outputs": [],
   "source": [
    "plt.plot(np.abs(truths_no_q[:,0] - predictions_no_q[:,0]))"
   ]
  },
  {
   "cell_type": "code",
   "execution_count": null,
   "metadata": {},
   "outputs": [],
   "source": []
  },
  {
   "cell_type": "code",
   "execution_count": null,
   "metadata": {},
   "outputs": [],
   "source": [
    "np.where(np.abs(truths_no_q - predictions_no_q) > 60)"
   ]
  },
  {
   "cell_type": "code",
   "execution_count": null,
   "metadata": {},
   "outputs": [],
   "source": [
    "n_cases_time_series.iloc[[8,27,37],:]"
   ]
  },
  {
   "cell_type": "code",
   "execution_count": null,
   "metadata": {},
   "outputs": [],
   "source": [
    "truths_no_outliers = np.delete(truths, [8,27,37,92], axis=0)\n",
    "predictions_no_outliers = np.delete(predictions, [8,27,37,92], axis=0)\n",
    "\n",
    "fig, ax = plt.subplots(figsize=(10,10))\n",
    "for c in range(truths_no_outliers.shape[1]):\n",
    "    ax.scatter(truths_no_outliers.shape[0]*[c], \n",
    "               truths_no_outliers[:, c] - predictions_no_outliers[:, c], label=str(c+1), s=25, alpha=0.5)\n",
    "    plt.legend()\n",
    "ax.axhline(0, xmin=0, xmax=500, color='r')\n",
    "plt.show()"
   ]
  },
  {
   "cell_type": "markdown",
   "metadata": {},
   "source": [
    "Because all of the outlier values of n_cases_per_million belong to Qatar, let's see how we perform when we drop\n",
    "them from the modeling process."
   ]
  },
  {
   "cell_type": "code",
   "execution_count": null,
   "metadata": {},
   "outputs": [],
   "source": [
    "n_step_models = []\n",
    "n_step_mse = []\n",
    "X_no_qatar = X[X.location != 'Qatar']\n",
    "for shift in range(1, 8):\n",
    "    y = shift_for_forecasting(X_no_qatar, forecast_interval=shift, target_name='new_cases_per_million').dropna()\n",
    "    X_model = X_no_qatar.loc[y.index,:]\n",
    "    \n",
    "    # time index, the quantity which tracks days since first case, is still in X.\n",
    "    # X_train =  X[X.date_proxy < day].drop(columns=['location','date'])\n",
    "    # X_test = X[X.date_proxy == day].drop(columns=['location','date'])\n",
    "    \n",
    "    X_train =  X_model[X_model.date_proxy <= prediction_date - shift].drop(columns=['location','date','date_proxy', 'time_index'])\n",
    "    X_test = X_model[X_model.date_proxy == prediction_date].drop(columns=['location','date','date_proxy', 'time_index'])\n",
    "\n",
    "    y_train = y.loc[X_train.index].values.ravel()\n",
    "    y_test = y.loc[X_test.index].values.ravel()\n",
    "\n",
    "    col_transformer = StandardScaler()\n",
    "    _ = col_transformer.fit(X_train)\n",
    "    X_train_normalized =  col_transformer.transform(X_train)\n",
    "    X_test_normalized =  col_transformer.transform(X_test)\n",
    "\n",
    "#     pca = PCA(n_components=25)\n",
    "#     _ = pca.fit(X_train_normalized)\n",
    "#     X_train_normalized = pca.transform(X_train_normalized)\n",
    "#     X_test_normalized = pca.transform(X_test_normalized)\n",
    "\n",
    "    r = Ridge() \n",
    "    _ = r.fit(X_train_normalized, y_train)\n",
    "    n_step_models.append([r])\n",
    "    y_true, y_predict, mse = classifier_analysis(r, X_test_normalized, y_test, plot=False, metric='mae')\n",
    "    n_step_mse.append(mse)\n",
    "    if shift == 1:\n",
    "        true_predict_array = np.concatenate((y_true.reshape(-1,1), y_predict.reshape(-1,1)), axis=1)\n",
    "    else:\n",
    "        true_predict_array = np.concatenate((true_predict_array, y_true.reshape(-1,1), y_predict.reshape(-1,1)), axis=1)\n",
    "    print('#', end='')\n",
    "    \n",
    "# correspond to n+1, n+2, ... n+7 predictions and truths. 109-115\n",
    "predictions = true_predict_array[:, 1::2]#.ravel()\n",
    "truths = true_predict_array[:, ::2]#.ravel()"
   ]
  },
  {
   "cell_type": "code",
   "execution_count": null,
   "metadata": {},
   "outputs": [],
   "source": [
    "fig, ax = plt.subplots(figsize=(10,10))\n",
    "ax.scatter(truths.ravel(), predictions.ravel(), s=5)\n",
    "plt.plot([0,500], [0,500], color='r')\n",
    "plt.show()\n",
    "\n",
    "print(explained_variance_score(truths.ravel(), predictions.ravel()))\n",
    "print(mean_absolute_error(truths.ravel(), predictions.ravel()))\n",
    "print(mean_squared_error(truths.ravel(), predictions.ravel()))"
   ]
  },
  {
   "cell_type": "code",
   "execution_count": null,
   "metadata": {},
   "outputs": [],
   "source": [
    "from statsmodels.stats.diagnostic import acorr_ljungbox"
   ]
  },
  {
   "cell_type": "code",
   "execution_count": null,
   "metadata": {},
   "outputs": [],
   "source": [
    "plt.matshow(pd.DataFrame(truths-predictions).corr())\n",
    "plt.colorbar()\n",
    "np.set_printoptions(precision=3)\n",
    "print(np.matrix(pd.DataFrame(truths-predictions).corr()))"
   ]
  },
  {
   "cell_type": "code",
   "execution_count": null,
   "metadata": {},
   "outputs": [],
   "source": [
    "_ = pd.plotting.scatter_matrix(pd.DataFrame(truths-predictions), figsize=(10,10))"
   ]
  },
  {
   "cell_type": "code",
   "execution_count": null,
   "metadata": {},
   "outputs": [],
   "source": [
    "fig, ax = plt.subplots(figsize=(10,10))\n",
    "for c in range(truths.shape[1]):\n",
    "    ax.scatter(truths[:, c], truths[:, c] - predictions[:, c], label=str(c+1), s=25, alpha=0.5)\n",
    "    plt.legend()\n",
    "# plt.plot([0,500], [0,500], color='r')\n",
    "ax.axhline(0, xmin=0, xmax=500, color='r')\n",
    "plt.show()"
   ]
  },
  {
   "cell_type": "code",
   "execution_count": null,
   "metadata": {},
   "outputs": [],
   "source": []
  },
  {
   "cell_type": "code",
   "execution_count": null,
   "metadata": {},
   "outputs": [],
   "source": [
    "plt.figure(figsize=(10,10))\n",
    "plt.plot(n_cases_time_series.columns[:-7], n_cases_time_series.iloc[-7,:-7], label='True past')\n",
    "plt.plot(n_cases_time_series.columns[-7:], truths[-7, :], label='True future')\n",
    "plt.plot(n_cases_time_series.columns[-7:], predictions[-7, :], label='Predicted future')\n",
    "plt.legend(loc=(1,0.5))\n",
    "plt.show()"
   ]
  },
  {
   "cell_type": "markdown",
   "metadata": {},
   "source": [
    "To predict a week into the future means that I can only compare values for day 9 (indexed as 8), because I want to avoid using a single data point to train as this causes issues. Therefore I am predicting days indexed from 8-115; days 9 through 116. "
   ]
  },
  {
   "cell_type": "markdown",
   "metadata": {},
   "source": [
    "## rolling mean prediction, need to shift even futher back right?"
   ]
  },
  {
   "cell_type": "code",
   "execution_count": null,
   "metadata": {},
   "outputs": [],
   "source": [
    "n_step_models = []\n",
    "n_step_mse = []\n",
    "for shift in range(1, 15):\n",
    "    y = shift_for_forecasting(X, forecast_interval=shift, target_name='new_cases_per_million_rolling_mean_14').dropna()\n",
    "    X_model = X.loc[y.index,:]\n",
    "\n",
    "    # time index, the quantity which tracks days since first case, is still in X.\n",
    "    # X_train =  X[X.date_proxy < day].drop(columns=['location','date'])\n",
    "    # X_test = X[X.date_proxy == day].drop(columns=['location','date'])\n",
    "    \n",
    "    X_train =  X_model[X_model.date_proxy <= prediction_date - shift].drop(columns=['location','date','date_proxy', 'time_index'])\n",
    "    X_test = X_model[X_model.date_proxy == prediction_date].drop(columns=['location','date','date_proxy', 'time_index'])\n",
    "\n",
    "    y_train = y.loc[X_train.index].values.ravel()\n",
    "    y_test = y.loc[X_test.index].values.ravel()\n",
    "\n",
    "    col_transformer = StandardScaler()\n",
    "    _ = col_transformer.fit(X_train)\n",
    "    X_train_normalized =  col_transformer.transform(X_train)\n",
    "    X_test_normalized =  col_transformer.transform(X_test)\n",
    "\n",
    "#     pca = PCA(n_components=25)\n",
    "#     _ = pca.fit(X_train_normalized)\n",
    "#     X_train_normalized = pca.transform(X_train_normalized)\n",
    "#     X_test_normalized = pca.transform(X_test_normalized)\n",
    "\n",
    "    r = Ridge() \n",
    "    _ = r.fit(X_train_normalized, y_train)\n",
    "    n_step_models.append([r])\n",
    "    y_true, y_predict, mse = classifier_analysis(r, X_test_normalized, y_test, plot=False, metric='mae')\n",
    "    n_step_mse.append(mse)\n",
    "    if shift == 1:\n",
    "        true_predict_array = np.concatenate((y_true.reshape(-1,1), y_predict.reshape(-1,1)), axis=1)\n",
    "    else:\n",
    "        true_predict_array = np.concatenate((true_predict_array, y_true.reshape(-1,1), y_predict.reshape(-1,1)), axis=1)\n",
    "    print('#', end='')\n",
    "\n",
    "# correspond to n+1, n+2, ... n+7 predictions and truths. 109-115\n",
    "predictions = true_predict_array[:, 1::2]#.ravel()\n",
    "truths = true_predict_array[:, ::2]#.ravel()"
   ]
  },
  {
   "cell_type": "markdown",
   "metadata": {},
   "source": [
    "Using a naive baseline, which would be a constant number of new cases per day; this means the value for the prediction 7 days into the future is simply the value from 7 days ago. "
   ]
  },
  {
   "cell_type": "code",
   "execution_count": null,
   "metadata": {},
   "outputs": [],
   "source": [
    "# explained_variance_scores = []\n",
    "for day in X.date_proxy.unique()[1:]:\n",
    "    # time index, the quantity which tracks days since first case, is still in X.\n",
    "    X_train =  X[X.date_proxy < day].drop(columns=['location','date'])\n",
    "    X_test = X[X.date_proxy == day].drop(columns=['location','date'])\n",
    "#     X_train =  X[X.date_proxy < day].drop(columns=['location','date','date_proxy', 'time_index'])\n",
    "#     X_test = X[X.date_proxy == day].drop(columns=['location','date','date_proxy', 'time_index'])\n",
    "    y_train = y.loc[X_train.index].values.ravel()\n",
    "    y_test = y.loc[X_test.index].values.ravel()\n",
    "    \n",
    "    col_transformer = StandardScaler()\n",
    "    _ = col_transformer.fit(X_train)\n",
    "    X_train_normalized =  col_transformer.transform(X_train)\n",
    "    X_test_normalized =  col_transformer.transform(X_test)\n",
    "    \n",
    "#     pca = PCA(n_components=10)\n",
    "#     _ = pca.fit(X_train_normalized)\n",
    "#     X_train_normalized_pca = pca.transform(X_train_normalized)\n",
    "#     X_test_normalized_pca = pca.transform(X_test_normalized)\n",
    "    \n",
    "    r = Ridge() \n",
    "    _ = r.fit(X_train_normalized, y_train)\n",
    "    y_true, y_predict, evs = classifier_analysis(r, X_test_normalized, y_test, plot=False)\n",
    "    n_cases_prediction_series.loc[:, day+7] = y_predict\n",
    "    print('#', end='')"
   ]
  },
  {
   "cell_type": "code",
   "execution_count": null,
   "metadata": {},
   "outputs": [],
   "source": [
    "# evs_scores = []\n",
    "# baseline_evs_scores = []\n",
    "# for c in n_cases_time_series.columns:\n",
    "#     evs_scores.append(explained_variance_score(n_cases_time_series.loc[:, c].values, \n",
    "#                                                n_cases_prediction_series.loc[:, c].values))\n",
    "#     baseline_evs_scores.append(explained_variance_score(n_cases_time_series.loc[:, c].values,\n",
    "#                                                         baseline_time_series.loc[:, c].values))\n",
    "\n",
    "# evs_scores = np.array(evs_scores)\n",
    "# baseline_evs_scores = np.array(baseline_evs_scores)"
   ]
  },
  {
   "cell_type": "code",
   "execution_count": null,
   "metadata": {},
   "outputs": [],
   "source": [
    "# fig, ax = plt.subplots()\n",
    "# ax.set_title('Difference in explained variance')\n",
    "# ax.plot(evs_scores, marker='.', linestyle='none')\n",
    "# ax.plot(baseline_evs_scores, marker='.', linestyle='none')\n",
    "# ax.set_ylabel('$R^2$ model - $R^2$ baseline')\n",
    "# ax.axhline(0, xmin=0, xmax=150, color='r')\n",
    "# ax.set_ylim([-1.05,1.05])"
   ]
  },
  {
   "cell_type": "code",
   "execution_count": null,
   "metadata": {},
   "outputs": [],
   "source": [
    "# explained_variance_scores = []\n",
    "for day in X.date_proxy.unique()[1:]:\n",
    "    # time index, the quantity which tracks days since first case, is still in X.\n",
    "    X_train =  X[X.date_proxy < day].drop(columns=['location','date'])\n",
    "    X_test = X[X.date_proxy == day].drop(columns=['location','date'])\n",
    "#     X_train =  X[X.date_proxy < day].drop(columns=['location','date','date_proxy', 'time_index'])\n",
    "#     X_test = X[X.date_proxy == day].drop(columns=['location','date','date_proxy', 'time_index'])\n",
    "    y_train = y.loc[X_train.index]#.values.ravel()\n",
    "    y_test = y.loc[X_test.index]#.values.ravel()\n",
    "\n",
    "    for country_indices in country_groupby_indices_list(X):\n",
    "\n",
    "        X_train_country =  X_train.loc[X_train.index.intersection(country_indices), :]\n",
    "        X_test_country = X_test.loc[X_test.index.intersection(country_indices), :]\n",
    "        y_train_country = y_train.loc[X_train_country.index].values.ravel()\n",
    "        y_test_country = y_test.loc[X_test_country.index].values.ravel()\n",
    "        \n",
    "        transformer = StandardScaler()\n",
    "        _ = transformer.fit(X_train_country)\n",
    "        X_train_normalized = transformer.transform(X_train_country)\n",
    "        X_test_normalized = transformer.transform(X_test_country)\n",
    "        \n",
    "        r = Ridge() \n",
    "        _ = r.fit(X_train_normalized, y_train_country)\n",
    "        \n",
    "#         y_true0, y_predict0, mse0 = classifier_analysis(r, X_train_normalized, y_train_country,  metric='mse', plot=False)\n",
    "        y_true, y_predict, mse = classifier_analysis(r, X_test_normalized, y_test_country, metric='mse', plot=False)\n",
    "        \n",
    "#         n_cases_predict_time_series_df.loc[\n",
    "#             X.loc[country_indices,:].location.unique()[0], n_cases_predict_time_series_df.columns[1]:day] = y_predict0\n",
    "    \n",
    "        n_cases_prediction_series.loc[\n",
    "            X.loc[country_indices,:].location.unique()[0], day+7] = y_predict\n",
    "#         country_mse.append(mse)\n",
    "#     explained_variance_scores.append(evs)\n",
    "    print('#',end='')\n",
    "# explained_variance_scores = np.array(explained_variance_scores)"
   ]
  },
  {
   "cell_type": "markdown",
   "metadata": {},
   "source": [
    "Previously made what I believe is a mistake or the wrong thing to do,\n",
    "which was to compute the time series of explained variance scores; i.e. I take the predictions\n",
    "for a certain date for all countries and compare that to the real value on that date, for all\n",
    "countries. I think its wiser to compute the EVS for each country as this is more indicative of\n",
    "whether the trend is being captured or not??"
   ]
  },
  {
   "cell_type": "markdown",
   "metadata": {},
   "source": [
    "Because this is n cases and not n cases change, use naive forecasting model, i.e. predicted value is value from 7 days prior."
   ]
  },
  {
   "cell_type": "markdown",
   "metadata": {},
   "source": [
    "There seems to be a bias to underestimate larger values."
   ]
  },
  {
   "cell_type": "markdown",
   "metadata": {},
   "source": [
    "# 7-day forecast via single step propagating model."
   ]
  },
  {
   "cell_type": "markdown",
   "metadata": {},
   "source": [
    "target variable construction should be the same"
   ]
  },
  {
   "cell_type": "code",
   "execution_count": null,
   "metadata": {},
   "outputs": [],
   "source": [
    "# country_groupby_indices = [data[data.location==country].index for country in data.location.unique()]\n",
    "# y_7_day_forecast = data.loc[country_groupby_indices[0],'new_cases_per_million'].shift(-7)\n",
    "# for country_indices in country_groupby_indices[1:]:\n",
    "#     # dropping NaN's here ensures that first day of the time series is actually the second day of record\n",
    "#     y_7_day_forecast_tmp = data.loc[country_indices, 'new_cases_per_million'].shift(-7)\n",
    "#     y_7_day_forecast = pd.concat((y_7_day_forecast, y_7_day_forecast_tmp),axis=0)\n",
    "# model_data = data.copy()\n",
    "\n",
    "# first_case_dates = data.iloc[:,0].replace(to_replace=0, value=np.nan).dropna().reset_index().groupby('location').date.min()\n",
    "# case_span = data.iloc[:,0].replace(to_replace=0, value=np.nan).dropna().reset_index().groupby('location').date.max()-first_case_dates\n",
    "\n",
    "time_dependent= model_data.set_index('location').loc[:, :'time_index'].iloc[:, :-2].reset_index()\n",
    "time_independent = model_data.loc[:, 'time_index':'cvd_death_rate'].iloc[:, 1:].fillna(0)#.columns\n",
    "flag_and_misc = model_data.loc[:, 'c1_flag_0':'date']\n",
    "\n",
    "roll_widths = [3, 7, 14]\n",
    "\n",
    "rolling_predictors = rolling_features(time_dependent, time_dependent.columns.drop('location'), roll_widths)\n",
    "# This drops the first category, Afghanistan.\n",
    "location_one_hot = pd.get_dummies(model_data.loc[:, 'location'], drop_first=True)\n",
    "# this specifically drops the NaN category\n",
    "tests_units_one_hot = pd.get_dummies(model_data.loc[:, 'tests_units'])\n",
    "tests_units_one_hot.columns = 'test_units_' + reformat_values(tests_units_one_hot, category='columns')\n",
    "\n",
    "X = pd.concat((model_data.loc[:, 'date_proxy':'time_index'], time_dependent.drop(columns='location'), \n",
    "                rolling_predictors, time_independent,\n",
    "                   location_one_hot, tests_units_one_hot, flag_and_misc),axis=1)\n",
    "\n",
    "n_cases_time_series = X.loc[:, ['location','date','new_cases_per_million']].set_index(['location', 'date']).unstack()\n",
    "n_cases_time_series.columns = list(range(len(n_cases_time_series.columns)))\n",
    "n_cases_time_series = n_cases_time_series.loc[:, 8:]\n",
    "n_cases_prediction_series = n_cases_time_series.copy()"
   ]
  },
  {
   "cell_type": "markdown",
   "metadata": {},
   "source": [
    "Given a matrix of all drifts, (rows are countries and columns are features), the values "
   ]
  },
  {
   "cell_type": "markdown",
   "metadata": {},
   "source": [
    "Drift features are the numerical time dependent features, not including the rolling means, time indices\n",
    "are special.\n",
    "They do not need to be recomputed as they are in X_test. \n",
    "\n",
    "Rolling means will be recomputed to incoporate simple forecasting; instead of just simple forecasting the rolling means themselves.\n",
    "\n",
    "Naive features are "
   ]
  },
  {
   "cell_type": "code",
   "execution_count": null,
   "metadata": {},
   "outputs": [],
   "source": [
    "drift_features = model_data.loc[:, :'time_index'].iloc[:, :-2].columns.tolist()\n",
    "\n",
    "naive_features = (time_independent.columns.tolist() \n",
    "                  + location_one_hot.columns.tolist()\n",
    "                  +tests_units_one_hot.columns.tolist()\n",
    "                  + flag_and_misc.columns.tolist()[:-2])\n",
    "\n",
    "X_model = X#.drop(columns=['location', 'date'])\n",
    "X_train = X_model[X_model.date_proxy < X_model.date_proxy.max()-8]\n",
    "X_test = X_model[(X_model.date_proxy >= X_model.date_proxy.max()-7) & (X_model.date_proxy < X_model.date_proxy.max())]\n",
    "\n",
    "X_test_simple_model_forecasting = simple_model_forecast(X_train, drift_features, naive_features, forecast_interval=7)"
   ]
  },
  {
   "cell_type": "code",
   "execution_count": null,
   "metadata": {},
   "outputs": [],
   "source": [
    "X_model = X#.drop(columns=['location', 'date'])\n",
    "X_train = X_model[X_model.date_proxy < X_model.date_proxy.max()-8]\n",
    "X_test = X_model[(X_model.date_proxy >= X_model.date_proxy.max()-7) & (X_model.date_proxy < X_model.date_proxy.max())]"
   ]
  },
  {
   "cell_type": "code",
   "execution_count": null,
   "metadata": {},
   "outputs": [],
   "source": [
    "X_test_simple_model_forecasting = simple_model_forecast(X_train, drift_features, naive_features, forecast_interval=7)"
   ]
  },
  {
   "cell_type": "markdown",
   "metadata": {},
   "source": [
    "To compute new rolling means, take new drift feature values, concatenate with those in training, and then roll.\n",
    "Need to reintroduce indexes however to sort the values correctly. "
   ]
  },
  {
   "cell_type": "code",
   "execution_count": null,
   "metadata": {},
   "outputs": [],
   "source": [
    "X_forecasted = X.copy().drop(columns=rolling_predictors.columns)\n",
    "X_forecasted.loc[X_test.index, :].iloc[:, 2:-2] = X_test_simple_model_forecasting.values"
   ]
  },
  {
   "cell_type": "code",
   "execution_count": null,
   "metadata": {},
   "outputs": [],
   "source": [
    "rolling_predictors_forecasted = rolling_features(X_forecasted, pd.Index(drift_features), roll_widths)"
   ]
  },
  {
   "cell_type": "code",
   "execution_count": null,
   "metadata": {},
   "outputs": [],
   "source": [
    "Xf = pd.concat((X_forecasted.loc[:, :drift_features[-1]], \n",
    "                           rolling_predictors_forecasted, \n",
    "                           X_forecasted.loc[:, naive_features[0]:],),axis=1)\n",
    "Xf = X.loc[:, Xf.columns[~Xf.columns.str.contains('new_cases')]]"
   ]
  },
  {
   "cell_type": "code",
   "execution_count": null,
   "metadata": {},
   "outputs": [],
   "source": [
    "X_model = Xf.drop(columns=['location', 'date'])\n",
    "X_train = X_model[X_model.date_proxy < X_model.date_proxy.max()-8]\n",
    "X_test = X_model[(X_model.date_proxy >= X_model.date_proxy.max()-7) & (X_model.date_proxy < X_model.date_proxy.max())]"
   ]
  },
  {
   "cell_type": "code",
   "execution_count": null,
   "metadata": {},
   "outputs": [],
   "source": [
    "y = shift_for_forecasting(model_data)\n",
    "y_train = y.loc[X_train.index].values.ravel()\n",
    "y_test = y.loc[X_test.index].values.ravel()"
   ]
  },
  {
   "cell_type": "markdown",
   "metadata": {},
   "source": [
    "baseline_time_series"
   ]
  },
  {
   "cell_type": "code",
   "execution_count": null,
   "metadata": {},
   "outputs": [],
   "source": [
    "n_cases_prediction_series_propagate = n_cases_time_series.copy()"
   ]
  },
  {
   "cell_type": "code",
   "execution_count": null,
   "metadata": {},
   "outputs": [],
   "source": [
    "n_cases_prediction_series_propagate.iloc[:, -7:] = y_predict.reshape(126, 7)"
   ]
  },
  {
   "cell_type": "code",
   "execution_count": null,
   "metadata": {},
   "outputs": [],
   "source": [
    "col_transformer = StandardScaler()\n",
    "_ = col_transformer.fit(X_train)\n",
    "X_train_normalized =  col_transformer.transform(X_train)\n",
    "X_test_normalized =  col_transformer.transform(X_test)\n",
    "\n",
    "r = Ridge() \n",
    "_ = r.fit(X_train_normalized, y_train)\n",
    "y_true, y_predict, evs = classifier_analysis(r, X_test_normalized, y_test)"
   ]
  },
  {
   "cell_type": "code",
   "execution_count": null,
   "metadata": {},
   "outputs": [],
   "source": [
    "plt.scatter(y_true, y_true-y_predict)\n",
    "plt.show()"
   ]
  },
  {
   "cell_type": "code",
   "execution_count": null,
   "metadata": {},
   "outputs": [],
   "source": [
    "mse = explained_variance_score(y_true, y_predict)\n",
    "evs = mean_squared_error(y_true, y_predict)\n",
    "\n",
    "print('Mean squared error {}'.format(mse))\n",
    "print('Explained variance score {}'.format(evs))"
   ]
  },
  {
   "cell_type": "code",
   "execution_count": null,
   "metadata": {},
   "outputs": [],
   "source": [
    "time_dependent= model_data.set_index('location').loc[:, :'time_index'].iloc[:, :-2].reset_index()\n",
    "time_independent = model_data.loc[:, 'time_index':'cvd_death_rate'].iloc[:, 1:].fillna(0)#.columns\n",
    "flag_and_misc = model_data.loc[:, 'c1_flag_0':'date']"
   ]
  },
  {
   "cell_type": "code",
   "execution_count": null,
   "metadata": {},
   "outputs": [],
   "source": [
    "# This drops the first category, Afghanistan.\n",
    "location_one_hot = pd.get_dummies(model_data.loc[:, 'location'], drop_first=True)\n",
    "# this specifically drops the NaN category\n",
    "tests_units_one_hot = pd.get_dummies(model_data.loc[:, 'tests_units'])\n",
    "tests_units_one_hot.columns = 'test_units_' + reformat_values(tests_units_one_hot, category='columns')"
   ]
  },
  {
   "cell_type": "code",
   "execution_count": null,
   "metadata": {},
   "outputs": [],
   "source": [
    "X = pd.concat((model_data.loc[:, 'date_proxy':'time_index'], time_dependent.drop(columns='location'), \n",
    "                rolling_predictors, time_independent,\n",
    "                   location_one_hot, tests_units_one_hot, flag_and_misc),axis=1)"
   ]
  },
  {
   "cell_type": "code",
   "execution_count": null,
   "metadata": {},
   "outputs": [],
   "source": [
    "X_test_propagation_model = X[X.date_proxy >= X.date_proxy.max()-7]"
   ]
  },
  {
   "cell_type": "code",
   "execution_count": null,
   "metadata": {},
   "outputs": [],
   "source": [
    "naive_features = location_one_hot.columns.append(tests_units_one_hot.columns).append(flag_and_misc.columns)[:-2]"
   ]
  },
  {
   "cell_type": "code",
   "execution_count": null,
   "metadata": {},
   "outputs": [],
   "source": [
    "drift_features = X.iloc[:,2:].columns.difference(naive_features)"
   ]
  },
  {
   "cell_type": "code",
   "execution_count": null,
   "metadata": {},
   "outputs": [],
   "source": [
    "drift_features = time_dependent.drop(columns='location').columns\n",
    "naive_features = time_independent.columns.append(flag_and_misc.iloc[:,:-2].columns)"
   ]
  },
  {
   "cell_type": "code",
   "execution_count": null,
   "metadata": {},
   "outputs": [],
   "source": [
    "X_train_propagation_model = X[X.date_proxy < X.date_proxy.max()-7]\n",
    "\n",
    "simple_forecast_features = pd.Index(['date_proxy', 'time_index']).append(drift_features.append(naive_features))\n",
    "X_train_propagation_model = X[X.date_proxy < X.date_proxy.max()-7].loc[:, simple_forecast_features]"
   ]
  },
  {
   "cell_type": "markdown",
   "metadata": {},
   "source": [
    "I don't think its unfair to compute simple forecasts and then their rolling means, instead of just simple\n",
    "forecasting their values. Might not be different actually"
   ]
  },
  {
   "cell_type": "code",
   "execution_count": null,
   "metadata": {},
   "outputs": [],
   "source": [
    "explained_variance_scores = []\n",
    "for day in X.date_proxy.unique()[1:-7]:\n",
    "    # time index, the quantity which tracks days since first case, is still in X.\n",
    "    X_train =  X[X.date_proxy < day].drop(columns=['location','date','date_proxy', 'time_index'])\n",
    "    X_test = X[X.date_proxy == day].drop(columns=['location','date','date_proxy', 'time_index'])\n",
    "    y_train = y.loc[X_train.index].values.ravel()\n",
    "    y_test = y.loc[X_test.index].values.ravel()\n",
    "    \n",
    "    col_transformer = StandardScaler()\n",
    "    _ = col_transformer.fit(X_train)\n",
    "    X_train_normalized =  col_transformer.transform(X_train)\n",
    "    X_test_normalized =  col_transformer.transform(X_test)\n",
    "\n",
    "    r = Ridge() \n",
    "    _ = r.fit(X_train_normalized, y_train)\n",
    "    y_true, y_predict, evs = classifier_analysis(r, X_test_normalized, y_test, plot=False)\n",
    "    n_cases_prediction_series.loc[:, day+7] = y_predict\n",
    "    explained_variance_scores.append(evs)\n",
    "    print('#',end='')\n",
    "explained_variance_scores = np.array(explained_variance_scores)"
   ]
  },
  {
   "cell_type": "markdown",
   "metadata": {},
   "source": [
    "# COVID-19 Case number modeling with no new features.\n",
    "<a id='model'></a>\n",
    "[Return to table of contents](#toc)\n",
    "\n",
    "The first segment of the modeling process takes the \"original\" data, reformatted as per the\n",
    "data cleaning notebook and then performs the necessary operations to encode the categorical variables.\n",
    "The target variable is assigned to be the number of cases and the pipeline for the modeling process is as\n",
    "follows (current iteration):\n",
    "    \n",
    "    1. Encode data, split into feature and target data.\n",
    "    2. Create cross validation folds; split into train-test and holdout data sets. \n",
    "    2. Normalize the feature data via sklearn's StandardScaler. \n",
    "    3. Perform PCA on the normalized feature data\n",
    "    4. Apply Ridge regression on the normalized, PCA transformed data. "
   ]
  },
  {
   "cell_type": "markdown",
   "metadata": {},
   "source": [
    "# Single step predictions\n",
    "\n",
    "Need location for groupby indices, but date and date proxy I do not think are useful currently. "
   ]
  },
  {
   "cell_type": "code",
   "execution_count": null,
   "metadata": {},
   "outputs": [],
   "source": [
    "X_tmp = model_data.copy()#.drop(columns=['date','date_proxy'])\n",
    "y_tmp = X_tmp.new_cases_per_million"
   ]
  },
  {
   "cell_type": "markdown",
   "metadata": {},
   "source": [
    "Create cross validation folds which respect the time-series dates."
   ]
  },
  {
   "cell_type": "markdown",
   "metadata": {},
   "source": [
    "Instead of flailing about let's actually type out how to do this.\n",
    "\n",
    "Steps that need to be completed.\n",
    "\n",
    "    Target variable shifting.\n",
    "    CV folds\n",
    "    Feature encoding\n",
    "    "
   ]
  },
  {
   "cell_type": "markdown",
   "metadata": {},
   "source": [
    "Get the indices which correspond to each country, prior to shifting the target variable time series.\n",
    "Assign target and feature variable arrays prior to shifting the target variable.\n",
    "I don't think dropping the case data is actually necessary so long as the time series aspect is respected.\n",
    "Get the data ready for training"
   ]
  },
  {
   "cell_type": "markdown",
   "metadata": {},
   "source": [
    "Collect the indices which correspond to each country."
   ]
  },
  {
   "cell_type": "markdown",
   "metadata": {},
   "source": [
    "Shift the target variable by one so that the feature data up until day n-1 is predicting the target variable at day n.\n",
    "In other words, train on data which is up to but not including the date of prediction. \n",
    "\n",
    "What Mike said:\n",
    "\n",
    "X_train ......................................... y_train\n",
    "\n",
    "DATA UP TO AND INCLUDING 2020-05-01 ............. TARGET ON 2020-05-02\n",
    "\n",
    "This does not predict the first day and does not include the data on the last day. \n",
    "Therefore the correct operation is to group by country, shift the target by -1 and drop the last day of data (drop NaN)."
   ]
  },
  {
   "cell_type": "markdown",
   "metadata": {},
   "source": [
    "Shift the target data so that its suited to prediction."
   ]
  },
  {
   "cell_type": "code",
   "execution_count": null,
   "metadata": {
    "scrolled": false
   },
   "outputs": [],
   "source": [
    "y_single_step_forecast = y_tmp[country_groupby_indices[0]].shift(-1)\n",
    "for country_indices in country_groupby_indices[1:]:\n",
    "    tmp =  y_tmp[country_indices].shift(-1)\n",
    "    tmp.index = country_indices\n",
    "    y_single_step_forecast = pd.concat((y_single_step_forecast, tmp),axis=0)\n",
    "\n",
    "y = y_single_step_forecast.dropna() # These are the shifted target values. \n",
    "X = X_tmp.loc[y.index, :] # This is X without the last day"
   ]
  },
  {
   "cell_type": "markdown",
   "metadata": {},
   "source": [
    "Slice and rename variables X,y "
   ]
  },
  {
   "cell_type": "markdown",
   "metadata": {},
   "source": [
    "Each countries' indices except minus the last day. "
   ]
  },
  {
   "cell_type": "code",
   "execution_count": null,
   "metadata": {},
   "outputs": [],
   "source": [
    "# These are the indices which correspond to each country after removing the last day from the time series. \n",
    "country_groupby_indices_forecast = [X[X.location==country].index for country in X.location.unique()]\n",
    "countries = X.location.unique()\n",
    "country_indices_reference = pd.Series(country_groupby_indices_forecast, index=countries)"
   ]
  },
  {
   "cell_type": "markdown",
   "metadata": {},
   "source": [
    "Create CV folds....unused other than train/test split."
   ]
  },
  {
   "cell_type": "markdown",
   "metadata": {},
   "source": [
    "I split the data in 7 folds, but use the first 6 as a training and the 7th as a testing set."
   ]
  },
  {
   "cell_type": "code",
   "execution_count": null,
   "metadata": {},
   "outputs": [],
   "source": [
    "# n_folds = 7\n",
    "# fold_size =  len(X.date.unique()) // n_folds\n",
    "fold_size = 20\n",
    "folds = [X.date.unique()[fold_size*i:fold_size*(i+1)] for i in range(1 + len(X.date.unique())//fold_size)]\n",
    "folds_indices = [X[X.date.isin(fold)].index for fold in folds]\n",
    "folds_series = pd.Series(folds_indices).to_frame(name='folds')\n",
    "\n",
    "traintest_indices = folds_series.values.flatten()[:-1]\n",
    "holdout_indices = folds_series.values.flatten()[-1]\n",
    "\n",
    "full_index = traintest_indices[0]\n",
    "for other_indices in traintest_indices[1:]:\n",
    "    full_index = full_index.union(other_indices)\n",
    "\n",
    "for i, epochs in enumerate(folds_series.values.flatten()):\n",
    "    start, end = model_data.loc[epochs, 'date'].min(), model_data.loc[epochs, 'date'].max()\n",
    "    print('Epoch {} spans the dates {} to {}'.format(i,start,end))"
   ]
  },
  {
   "cell_type": "markdown",
   "metadata": {},
   "source": [
    "Cast bool features as int, one-hot encode the categorical (object) features."
   ]
  },
  {
   "cell_type": "code",
   "execution_count": null,
   "metadata": {},
   "outputs": [],
   "source": [
    "X.loc[:, 'date'] = pd.to_datetime(X.loc[:, 'date'])\n",
    "dates = pd.to_datetime(X.loc[:, 'date'].unique())"
   ]
  },
  {
   "cell_type": "markdown",
   "metadata": {},
   "source": [
    "Assign target variable and remove the corresponding variables from the regressors"
   ]
  },
  {
   "cell_type": "markdown",
   "metadata": {},
   "source": [
    "Split between traintest (Cross validation, currently used simply as a 1-fold training set)\n",
    "and holdout (final testing)."
   ]
  },
  {
   "cell_type": "code",
   "execution_count": null,
   "metadata": {},
   "outputs": [],
   "source": [
    "X_model = X.drop(columns=X.columns[X.columns.str.contains('new_cases')])\n",
    "X_traintest= X_model.select_dtypes(exclude=['object', 'datetime']).loc[full_index, :]\n",
    "X_holdout=  X_model.select_dtypes(exclude=['object', 'datetime']).loc[holdout_indices, :]\n",
    "# y_holdout = y.apply(lambda x : np.log10(x+1)).loc[holdout_indices].values.ravel()\n",
    "# y_traintest = y.apply(lambda x : np.log10(x+1)).loc[full_index].values.ravel()\n",
    "y_holdout = y.loc[holdout_indices].values.ravel()\n",
    "y_traintest = y.loc[full_index].values.ravel()"
   ]
  },
  {
   "cell_type": "markdown",
   "metadata": {},
   "source": [
    "Fit the StandardScaler() transformer instance with the training data, only applied to the continuous, time dependent\n",
    "numerical features "
   ]
  },
  {
   "cell_type": "markdown",
   "metadata": {},
   "source": [
    "<!-- For every date, need a prediction. For every date need to scale/do pca.\n",
    "therefore everything is a for looop around the date.  -->"
   ]
  },
  {
   "cell_type": "markdown",
   "metadata": {},
   "source": [
    "Generate predictors from drift, naive strategies. "
   ]
  },
  {
   "cell_type": "code",
   "execution_count": null,
   "metadata": {},
   "outputs": [],
   "source": [
    "num_features = X_model.loc[:, :'population'].iloc[:, 2:-1].columns\n",
    "transformer_list = []\n",
    "transformer_list += [('num', StandardScaler(), num_features), ('other','passthrough', X_traintest.columns.difference(num_features))] \n",
    "col_transformer = ColumnTransformer(transformers=transformer_list)\n",
    "\n",
    "_ = col_transformer.fit(X_traintest)\n",
    "X_train_normalized =  col_transformer.transform(X_traintest)\n",
    "X_holdout_normalized =  col_transformer.transform(X_holdout)\n",
    "\n",
    "# pca = PCA(n_components=10)\n",
    "# _ = pca.fit(X_train_normalized)\n",
    "# X_train_normalized_pca = pca.transform(X_train_normalized)\n",
    "# X_test_normalized_pca = pca.transform(X_holdout_normalized)\n",
    "\n",
    "r = Ridge() \n",
    "_ = r.fit(X_train_normalized, y_traintest)\n",
    "y_true, y_predict, evs = classifier_analysis(r, X_holdout_normalized, y_holdout)\n",
    "print(evs)"
   ]
  },
  {
   "cell_type": "code",
   "execution_count": null,
   "metadata": {},
   "outputs": [],
   "source": [
    "_ = plt.plot(xcr_no_auto.max(1).values,marker='.', linestyle='none')"
   ]
  },
  {
   "cell_type": "code",
   "execution_count": null,
   "metadata": {},
   "outputs": [],
   "source": [
    "xcr = X.corr()\n",
    "xcr_no_auto = xcr[xcr!=1.]\n",
    "xcr_no_auto.unstack().sort_values(ascending=False)[100:200:2]"
   ]
  },
  {
   "cell_type": "markdown",
   "metadata": {},
   "source": [
    "# 7 day step predictions\n"
   ]
  },
  {
   "cell_type": "markdown",
   "metadata": {},
   "source": [
    "day 1 to predict day 8\n",
    "day 1-2 to predict day 9\n",
    "days 1-3 to predict day 10 ----> shift -7"
   ]
  },
  {
   "cell_type": "markdown",
   "metadata": {},
   "source": [
    "Create the target variable, the change in the amount of daily new cases (today new cases per million - yesterday new cases per million). Store the \"present values\" as a predictor, but then shift the values by a week, to get the target variable. Due to the usage of first order finite difference to calculate the change, it is not defined for the first day of the time series, and the target variables are not defined for dates within 7 days, as their 7 day futures do not exist yet. "
   ]
  },
  {
   "cell_type": "markdown",
   "metadata": {},
   "source": [
    "Is it better to predict the smoothed quantity, or use the smoothed quantity to predict the jagged quantity. "
   ]
  },
  {
   "cell_type": "code",
   "execution_count": null,
   "metadata": {},
   "outputs": [],
   "source": [
    "fold_size = 7\n",
    "folds = [X.date.unique()[fold_size*i:fold_size*(i+1)] for i in range(1 + len(X.date.unique())//fold_size)]\n",
    "folds_indices = [X[X.date.isin(fold)].index for fold in folds]\n",
    "folds_series = pd.Series(folds_indices).to_frame(name='folds')\n",
    "\n",
    "fold_indices = folds_series.values.flatten()[:-2]\n",
    "test_indices = folds_series.values.flatten()[-2:]\n",
    "test_indices = test_indices[0].append(test_indices[1]).sort_values()\n",
    "\n",
    "train_indices = fold_indices[0]\n",
    "for indices in fold_indices[1:]:\n",
    "    train_indices = full_index.union(indices)\n",
    "\n",
    "for i, epochs in enumerate(folds_series.values.flatten()):\n",
    "    start, end = model_data.loc[epochs, 'date'].min(), model_data.loc[epochs, 'date'].max()\n",
    "    print('Epoch {} spans the dates {} to {}'.format(i,start,end))"
   ]
  },
  {
   "cell_type": "code",
   "execution_count": null,
   "metadata": {},
   "outputs": [],
   "source": [
    "start, end = model_data.loc[train_indices, 'date'].min(), model_data.loc[train_indices, 'date'].max()\n",
    "print('Training data spans the dates {} to {}'.format(start,end))"
   ]
  },
  {
   "cell_type": "code",
   "execution_count": null,
   "metadata": {},
   "outputs": [],
   "source": [
    "start, end = model_data.loc[test_indices, 'date'].min(), model_data.loc[test_indices, 'date'].max()\n",
    "print('Testing data spans the dates {} to {}'.format(start, end))"
   ]
  },
  {
   "cell_type": "markdown",
   "metadata": {},
   "source": [
    "The date of predictions range from (initial date) + 7  to (final date) + 7. "
   ]
  },
  {
   "cell_type": "code",
   "execution_count": null,
   "metadata": {},
   "outputs": [],
   "source": [
    "X_model = X.drop(columns=['aged_65_older', 'aged_70_older', 'date','date_proxy','location'])\n",
    "X_train = X_model.loc[train_indices, :]\n",
    "X_test =  X_model.loc[test_indices, :]\n",
    "# y_holdout = y.apply(lambda x : np.log10(x+1)).loc[holdout_indices].values.ravel()\n",
    "# y_traintest = y.apply(lambda x : np.log10(x+1)).loc[full_index].values.ravel()\n",
    "y_test = y_7_day_forecast.loc[test_indices].values.ravel()\n",
    "y_train = y_7_day_forecast.loc[train_indices].values.ravel()"
   ]
  },
  {
   "cell_type": "code",
   "execution_count": null,
   "metadata": {},
   "outputs": [],
   "source": [
    "xcr = X_model.corr()\n",
    "xcr_no_auto = xcr[xcr!=1.]\n",
    "xcr_no_auto.unstack().sort_values(ascending=False)[:100:2]"
   ]
  },
  {
   "cell_type": "markdown",
   "metadata": {},
   "source": [
    "Clearly biased as true value increases. "
   ]
  },
  {
   "cell_type": "markdown",
   "metadata": {},
   "source": [
    "Warning raised because the first prediction uses only 1 day's data."
   ]
  },
  {
   "cell_type": "markdown",
   "metadata": {},
   "source": [
    "Likewise, fit the PCA() transformer instance with the training data then apply it\n",
    "to both the training and holdout sets."
   ]
  },
  {
   "cell_type": "markdown",
   "metadata": {},
   "source": [
    "Finally, fit Ridge regression model to the training data, and test it with the holdout set."
   ]
  },
  {
   "cell_type": "markdown",
   "metadata": {},
   "source": [
    "I think I'm messing up how to actually train test split; mike seems to indicate that for every prediction, the model is trained\n",
    "on all but one day. "
   ]
  },
  {
   "cell_type": "markdown",
   "metadata": {},
   "source": [
    "These results vastly exceeded my expectations (with respect to the explained variance score). \n",
    "**I am making a large mistake of including the variables from the future like deaths, active, recovered, etc. This model is not predicting the future.**\n",
    "\n",
    "The predicted vs. the actual\n",
    "value has two key patterns which stand out; namely, the underestimation of very large values and the overestimation of intermediate values (from one-hundred and fifth to two-hundred thousand). I think this is due to the nature of the case number time series. Looking to a one dimensional sigmoid curve as a crude example. This function is motivated by simple epidemiological models as a crude approximation for expected behavior. My model seems to imply that the larger values indicate that the spread of COVID is past the inflection point present in the sigmoid function."
   ]
  },
  {
   "cell_type": "markdown",
   "metadata": {},
   "source": [
    "Therefore, the Ridge regression predictions sort of make sense as the asymptotic behavior of the sigmoid curve\n",
    "has not yet begun."
   ]
  },
  {
   "cell_type": "markdown",
   "metadata": {},
   "source": [
    "# COVID-19 Case number modeling with new features.\n",
    "<a id='modelplus'></a>\n",
    "[Return to table of contents](#toc)\n",
    "\n",
    "Repeat the modeling steps above, applied to the dataset which calculated many different moving averages. "
   ]
  },
  {
   "cell_type": "markdown",
   "metadata": {},
   "source": [
    "Next, I look at the effect of the number of PCA components"
   ]
  },
  {
   "cell_type": "markdown",
   "metadata": {},
   "source": [
    "Looking at the plot of explained variance versus number of PCA components I believe it is fairly obvious that\n",
    "there is something wrong. I believe it's because I'm using different facets of the case number (deaths, active cases, number recovered) in the prediction."
   ]
  },
  {
   "cell_type": "markdown",
   "metadata": {},
   "source": [
    "Plot of explained variance score as a function of the features included; to see which features have the most effect."
   ]
  },
  {
   "cell_type": "code",
   "execution_count": null,
   "metadata": {},
   "outputs": [],
   "source": [
    "ev_scores = []\n",
    "for n in range(1, X_traintest_whitened.shape[1]):\n",
    "    r = Ridge() \n",
    "    _ = r.fit(X_traintest_whitened[:, :n], y_traintest)\n",
    "    y_predict = r.predict(X_holdout_whitened[:, :n])\n",
    "    evsnf = explained_variance_score(y_holdout, y_predict)\n",
    "    ev_scores.append(evsnf)"
   ]
  },
  {
   "cell_type": "code",
   "execution_count": null,
   "metadata": {},
   "outputs": [],
   "source": [
    "missing_flag_epoch = np.where(X.columns.str.contains('missing'))[0]\n",
    "rolling_epoch = np.where(X.columns.str.contains('rolling'))[0]\n",
    "location_dummies = np.where(X.columns.str.contains('location'))[0]\n",
    "date_dummies = np.where(X.columns.str.contains('date'))[0]"
   ]
  },
  {
   "cell_type": "markdown",
   "metadata": {},
   "source": [
    "There are a few features not included in the different \"epochs\""
   ]
  },
  {
   "cell_type": "code",
   "execution_count": null,
   "metadata": {},
   "outputs": [],
   "source": [
    "fig, ax = plt.subplots(1, 1, figsize=(15, 5))\n",
    "_ = ax.plot(ev_scores, marker='.', markersize=2, linewidth=0.5, color='k')\n",
    "\n",
    "_ = ax.add_patch(Rectangle((0, 0), missing_flag_epoch.min(),  max(ev_scores), \n",
    "                           angle=0.0, alpha=0.5, color='g', label='original data'))\n",
    "\n",
    "_ = ax.add_patch(Rectangle((missing_flag_epoch.min(), 0), \n",
    "                           missing_flag_epoch.max()-missing_flag_epoch.min(),  max(ev_scores), \n",
    "                           angle=0.0, alpha=0.5, color='k', label='Missing value flags'))\n",
    "\n",
    "_ = ax.add_patch(Rectangle((rolling_epoch.min(), 0), \n",
    "                           rolling_epoch.max()-rolling_epoch.min(), max(ev_scores), \n",
    "                           angle=0.0, alpha=0.25, color='red', label='Rolling averages'))\n",
    "\n",
    "_ = ax.add_patch(Rectangle((location_dummies.min(), 0),\n",
    "                           location_dummies.max()-location_dummies.min(),  max(ev_scores), \n",
    "                           angle=0.0, alpha=0.5, color='gray', label='Location one-hot'))\n",
    "\n",
    "_ = ax.add_patch(Rectangle((date_dummies.min(), 0), \n",
    "                           date_dummies.max()-date_dummies.min(), max(ev_scores), \n",
    "                           angle=0.0, alpha=0.25, color='blue', label='Date one-hot'))\n",
    "\n",
    "_ = ax.set_ylabel('Explained Variance')\n",
    "_ = ax.set_xlabel('Number of features included in model')\n",
    "_ = plt.legend(loc=(1.05,0.6), title='Feature Origin')"
   ]
  },
  {
   "cell_type": "markdown",
   "metadata": {},
   "source": [
    "This is not doing what I want. This is saying given I know the number of deaths/active cases/number recovered I can infer how many confirmed cases there were. This is not the same as predicting future numbers of cases. i.e. this is not plugging in a date (or days since first infection) and getting a number out.... "
   ]
  }
 ],
 "metadata": {
  "kernelspec": {
   "display_name": "Python 3",
   "language": "python",
   "name": "python3"
  },
  "language_info": {
   "codemirror_mode": {
    "name": "ipython",
    "version": 3
   },
   "file_extension": ".py",
   "mimetype": "text/x-python",
   "name": "python",
   "nbconvert_exporter": "python",
   "pygments_lexer": "ipython3",
   "version": "3.7.6"
  }
 },
 "nbformat": 4,
 "nbformat_minor": 4
}
