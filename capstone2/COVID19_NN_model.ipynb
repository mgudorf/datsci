{
 "cells": [
  {
   "cell_type": "code",
   "execution_count": 1,
   "metadata": {},
   "outputs": [],
   "source": [
    "import numpy as np\n",
    "import pandas as pd\n",
    "import seaborn as sns\n",
    "import matplotlib.pyplot as plt\n",
    "import os\n",
    "import sys\n",
    "import re\n",
    "import warnings\n",
    "import itertools\n",
    "warnings.simplefilter(action='ignore', category=FutureWarning)\n",
    "from tensorflow.keras import Input, Model\n",
    "from tensorflow.keras.initializers import RandomNormal\n",
    "from tensorflow.keras.models import Sequential\n",
    "from tensorflow.keras.layers import Dense, Flatten, Conv1D\n",
    "from tensorflow.keras.preprocessing.sequence import pad_sequences\n",
    "from tensorflow.keras.optimizers import SGD, Adam\n",
    "from sklearn.metrics import mean_absolute_error, explained_variance_score, mean_squared_error, make_scorer\n",
    "from sklearn.linear_model import RidgeCV\n",
    "warnings.resetwarnings()"
   ]
  },
  {
   "cell_type": "code",
   "execution_count": 2,
   "metadata": {},
   "outputs": [],
   "source": [
    "def country_slice(data, locations):\n",
    "    if type(locations)==str:\n",
    "        return data[data.location==locations]\n",
    "    else:\n",
    "        return data[data.location.isin(locations)]\n",
    "    \n",
    "def time_slice(data, start, end, indexer='time_index'):\n",
    "    if start < 0 and end < 0:\n",
    "        if start == -1:\n",
    "            start = data.loc[:, indexer].max()\n",
    "        else:\n",
    "            start = data.loc[:, indexer].max()+start\n",
    "        if end == -1:\n",
    "            end = data.loc[:, indexer].max()\n",
    "        else:\n",
    "            end = data.loc[:, indexer].max()+end\n",
    "    return data[(data.loc[:, indexer] >= start) & (data.loc[:, indexer] <= end)]\n",
    "\n",
    "def per_country_plot(data, feature, legend=True):\n",
    "    data.set_index(['time_index', 'location']).loc[:, feature].unstack().plot(legend=legend)\n",
    "    return None\n",
    "\n",
    "def per_time_plot(data, feature, legend=True):\n",
    "    data.set_index(['location','time_index']).loc[:, feature].unstack().plot(legend=legend)\n",
    "    return None\n",
    "\n",
    "def country_groupby(df):\n",
    "    return [df[df.location==country].index for country in df.location.unique()]\n",
    "\n",
    "def country_search(df, country):\n",
    "    return df[df.location==country].index\n",
    "\n",
    "def column_search(df, name, return_style='loc', threshold='contains'):\n",
    "    if threshold=='contains':\n",
    "        func = df.columns.str.contains\n",
    "    else:\n",
    "        func = df.columns.str.match\n",
    "        \n",
    "    if return_style == 'loc':\n",
    "        return df.columns[func(name)]\n",
    "    elif return_style== 'iloc':\n",
    "        return np.where(func(name))[0]\n",
    "    else:\n",
    "        return None\n",
    "\n",
    "\n",
    "def concatenate_4d_into_3d(splits, train_test_only=False):\n",
    "    \n",
    "    if train_test_only:\n",
    "        (X_train, y_train, X_test, y_test) = splits\n",
    "        X_train = np.concatenate(X_train, axis=0)\n",
    "        y_train = np.concatenate(y_train, axis=0)\n",
    "        X_test = np.concatenate(X_test, axis=0)\n",
    "        y_test = np.concatenate(y_test, axis=0)\n",
    "        concat_splits = (X_train, y_train, X_test, y_test) \n",
    "    else:\n",
    "        (X_train, y_train, X_validate, y_validate, X_test, y_test) = splits\n",
    "        X_train = np.concatenate(X_train, axis=0)\n",
    "        y_train = np.concatenate(y_train, axis=0)\n",
    "        X_validate = np.concatenate(X_validate, axis=0)\n",
    "        y_validate = np.concatenate(y_validate, axis=0)\n",
    "        X_test = np.concatenate(X_test, axis=0)\n",
    "        y_test = np.concatenate(y_test, axis=0)\n",
    "        concat_splits = (X_train, y_train, X_validate, y_validate, X_test, y_test) \n",
    "    return concat_splits\n",
    "\n",
    "def transpose_for_separable2d(splits, train_test_only=False):\n",
    "    if train_test_only:\n",
    "        (X_train, y_train, X_test, y_test) = splits\n",
    "        X_train = np.transpose(X_train, axes=[0,2,1,3])\n",
    "        X_test = np.transpose(X_test, axes=[0,2,1,3])\n",
    "        transpose_split = (X_train, y_train, X_test, y_test) \n",
    "    else:\n",
    "        (X_train, y_train, X_validate, y_validate, X_test, y_test) = splits\n",
    "        X_train = np.transpose(X_train, axes=[0,2,1,3])\n",
    "        X_validate = np.transpose(X_validate, axes=[0,2,1,3])\n",
    "        X_test = np.transpose(X_test, axes=[0,2,1,3])\n",
    "        transpose_split = (X_train, y_train, X_validate, y_validate, X_test, y_test) \n",
    "    return transpose_split\n",
    "\n",
    "    \n",
    "def true_predict_plot(y_true, y_naive, y_predict, title='', suptitle='', scale=None,s=None):\n",
    "    fig, (ax1,ax2) = plt.subplots(1, 2, figsize=(20,5))\n",
    "    if scale == 'log':\n",
    "        ymax = np.max([np.log(1+y_true).max(), np.log(1+y_predict).max()])\n",
    "        ax1.scatter(np.log(y_true+1), np.log(y_naive+1), s=s,alpha=0.7)\n",
    "        ax1.plot([0, ymax], [0, ymax],color='r')\n",
    "        ax2.scatter(np.log(y_true+1), np.log(y_predict+1), s=s,alpha=0.7)\n",
    "        ax2.plot([0, ymax], [0, ymax],color='r')\n",
    "    else:\n",
    "        ymax = np.max([y_true.max(), y_predict.max()])\n",
    "        ax1.scatter(y_true, y_naive, s=s)\n",
    "        ax1.plot([0, ymax], [0, ymax],color='r')\n",
    "        ax2.scatter(y_true, y_predict, s=s)\n",
    "        ax2.plot([0, ymax], [0, ymax],color='r')\n",
    "    ax1.set_xlabel('True value')\n",
    "    ax1.set_ylabel('Predicted value')\n",
    "    ax1.set_title('Naive model')\n",
    "\n",
    "    ax2.set_xlabel('True value')\n",
    "    ax2.set_ylabel('Predicted value')\n",
    "    ax2.set_title(title)\n",
    "    ax1.grid(True)\n",
    "    ax2.grid(True)\n",
    "    plt.suptitle(suptitle)\n",
    "    plt.show()\n",
    "    return None\n",
    "\n",
    "def residual_plot(y_test, y_predict, title='', ax=None):\n",
    "    if ax is None:\n",
    "        fig, ax = plt.subplots()\n",
    "    ax.scatter(y_test, y_test-y_predict.ravel(), s=5)\n",
    "    ax.set_ylabel('Residual')\n",
    "    ax.set_xlabel('True value')\n",
    "    ax.grid(True)\n",
    "    return None\n",
    "\n",
    "def residual_diff_plots(y_true, y_naive, y_predict,n_days_into_future, n_countries, scale=None):\n",
    "    \n",
    "    # plot residuals in addition to the residual per country as\n",
    "    # line plot\n",
    "    fig, axes = plt.subplots(1, 2, figsize=(20,5), sharey=True)\n",
    "    (ax1,ax2) = axes.flatten()\n",
    "    xrange = range(len(y_true))\n",
    "    if scale=='log':\n",
    "        residual_plot(np.log(y_true+1),np.log(y_naive+1), ax=ax1)\n",
    "        residual_plot(np.log(y_true+1),np.log(y_predict+1), ax=ax2)\n",
    "    else:\n",
    "        residual_plot(y_true,y_naive, ax=ax1)\n",
    "        residual_plot(y_true,y_predict, ax=ax2)\n",
    "#     fig.suptitle('{}-day-into-future predictions'.format(n_days_into_future))\n",
    "    ax1.set_title('')\n",
    "    ax2.set_title('')\n",
    "    ax1.set_ylabel('Residual')\n",
    "    ax2.set_ylabel('Residual')\n",
    "    ax1.grid(True)\n",
    "    ax2.grid(True)\n",
    "    plt.show()\n",
    "    return None\n",
    "\n",
    "\n",
    "\n",
    "def create_Xy(model_data, target_data, time_index, start_date, frame_size, n_days_into_future, n_countries):\n",
    "    for max_date_in_window in range(start_date, time_index.max() - n_days_into_future + 2):\n",
    "        # Take all model_data with date proxy less than numerical value, leading_window_date_not_included\n",
    "        frame_data = model_data[(time_index <= max_date_in_window-1) & \n",
    "                                (time_index >= max_date_in_window-frame_size)]\n",
    "\n",
    "        reshaped_frame_data = frame_data.values.reshape(n_countries, frame_size, -1)\n",
    "\n",
    "        resized_frame_data = pad_sequences(reshaped_frame_data, maxlen=frame_size, dtype=np.float64)\n",
    "        frame_data_4D = resized_frame_data[np.newaxis, :, :, :]\n",
    "        if max_date_in_window == start_date:\n",
    "            print('Starting with frame ranging time_index values:', max_date_in_window-frame_size, max_date_in_window - 1)\n",
    "            X = frame_data_4D.copy()\n",
    "        else:\n",
    "            X = np.concatenate((X, frame_data_4D),axis=0)\n",
    "    print('Ending with frame ranging time_index values:', max_date_in_window-frame_size, max_date_in_window - 1)\n",
    "    y = target_data.values.reshape(-1, time_index.nunique()).transpose()[-X.shape[0]:,:]\n",
    "    return X, y\n",
    "\n",
    "def split_Xy(X, y, frame_size, n_validation_frames, n_test_frames, train_test_only=False, model_type='cnn'):\n",
    "    \"\"\" Split into training, validation and test data.\n",
    "    \"\"\"\n",
    "    # the indices for the train-validate-test splits for when the predictors are put in a 2-d format.\n",
    "    train_indices = list(range(n_countries*0, n_countries*(len(X)-(n_validation_frames+n_test_frames))))\n",
    "    validate_indices = list(range(n_countries*(len(X)-(n_validation_frames+n_test_frames)), n_countries*(len(X)-n_test_frames)))\n",
    "    test_indices = list(range(n_countries*(len(X)-n_test_frames), n_countries*len(X)))\n",
    "    indices = (train_indices, validate_indices, test_indices)\n",
    "\n",
    "    # Note that the last frame (date_range) that exists in X has already been determined by the choice of the number\n",
    "    # of steps to predict in the future, this is only slicing the frames. \n",
    "    if train_test_only:\n",
    "        X_train= X[:-n_test_frames,:,:,:]\n",
    "        y_train =  y[:-n_test_frames,:]\n",
    "        X_test = X[-n_test_frames:, :, :, :] \n",
    "        y_test = y[-n_test_frames:, :]\n",
    "        splits =  (X_train, y_train, X_test, y_test)\n",
    "    else:\n",
    "        y_train =  y[:-(n_validation_frames+n_test_frames),:]\n",
    "        y_validate = y[-(n_validation_frames+n_test_frames):-n_test_frames, :]\n",
    "        X_train= X[:-(n_validation_frames+n_test_frames),:,:,:]\n",
    "        y_train =  y[:-(n_validation_frames+n_test_frames),:]\n",
    "        X_validate = X[-(n_validation_frames+n_test_frames):-n_test_frames, :, :, :]\n",
    "        y_validate = y[-(n_validation_frames+n_test_frames):-n_test_frames, :]\n",
    "        X_test = X[-n_test_frames:, :, :, :] \n",
    "        y_test = y[-n_test_frames:, :]\n",
    "        splits =  (X_train, y_train, X_validate, y_validate,\n",
    "                   X_test, y_test)\n",
    "\n",
    "    return splits, indices\n",
    "\n",
    "\n",
    "def flatten_Xy(splits):\n",
    "    (X_train, y_train, X_validate, y_validate, X_test, y_test) = splits\n",
    "    X_train_flat =np.concatenate(X_train.reshape(X_train.shape[0], X_train.shape[1], -1), axis=0)\n",
    "    X_validate_flat =np.concatenate(X_validate.reshape(X_validate.shape[0], X_validate.shape[1], -1), axis=0)\n",
    "    X_test_flat =np.concatenate(X_test.reshape(X_test.shape[0], X_test.shape[1], -1), axis=0)\n",
    "    y_train_flat = y_train.ravel()\n",
    "    y_validate_flat = y_validate.ravel()\n",
    "    y_test_flat = y_test.ravel()\n",
    "    flat_splits = (X_train_flat , y_train_flat , X_validate_flat , y_validate_flat , X_test_flat , y_test_flat )\n",
    "    return flat_splits\n",
    "\n",
    "def model_analysis(y_true, y_naive, y_predict,n_countries, title='',suptitle='',figname=None, scale=None, s=None):\n",
    "    print('There were {} negative predictions'.format(len(y_predict[y_predict<0])))\n",
    "    #     y_predict[y_predict<0]=0\n",
    "    # compute scores \n",
    "    mse_train_naive = mean_squared_error(y_true.ravel(), y_naive.ravel())\n",
    "    mse_predict = mean_squared_error(y_true.ravel(), y_predict)\n",
    "    r2_train_naive = explained_variance_score(y_true.ravel(), y_naive.ravel())\n",
    "    r2_predict = explained_variance_score(y_true.ravel(), y_predict)\n",
    "\n",
    "    print('{}-step MSE [Naive, {}] = [{},{}]'.format(\n",
    "    n_days_into_future,title, mse_train_naive, mse_predict))\n",
    "    print('{}-step R^2 [Naive, {}] = [{},{}]'.format(\n",
    "    n_days_into_future,title, r2_train_naive, r2_predict))\n",
    "\n",
    "    fig, axes = plt.subplots(2, 2, figsize=(15,10))\n",
    "    (ax1,ax2,ax3,ax4) = axes.flatten()\n",
    "    if scale == 'log':\n",
    "        ymax = np.max([np.log(1+y_true).max(), np.log(1+y_predict).max()])\n",
    "        ax1.scatter(np.log(y_true+1), np.log(y_naive+1), s=s,alpha=0.7)\n",
    "        ax1.plot([0, ymax], [0, ymax],color='r')\n",
    "        ax2.scatter(np.log(y_true+1), np.log(y_predict+1), s=s,alpha=0.7)\n",
    "        ax2.plot([0, ymax], [0, ymax],color='r')\n",
    "    else:\n",
    "        ymax = np.max([y_true.max(), y_predict.max()])\n",
    "        ax1.scatter(y_true, y_naive, s=s)\n",
    "        ax1.plot([0, ymax], [0, ymax],color='r')\n",
    "        ax2.scatter(y_true, y_predict, s=s)\n",
    "        ax2.plot([0, ymax], [0, ymax],color='r')\n",
    "    ax1.set_xlabel('True value')\n",
    "    ax1.set_ylabel('Predicted value')\n",
    "    ax1.set_title('Naive model')\n",
    "\n",
    "    ax2.set_xlabel('True value')\n",
    "    ax2.set_ylabel('Predicted value')\n",
    "    ax2.set_title(title)\n",
    "    ax1.grid(True)\n",
    "    ax2.grid(True)\n",
    "    plt.suptitle(suptitle)\n",
    "\n",
    "    \n",
    "    xrange = range(len(y_true))\n",
    "    if scale=='log':\n",
    "        residual_plot(np.log(y_true+1),np.log(y_naive+1), ax=ax3)\n",
    "        residual_plot(np.log(y_true+1),np.log(y_predict+1), ax=ax4)\n",
    "    else:\n",
    "        residual_plot(y_true,y_naive, ax=ax3)\n",
    "        residual_plot(y_true,y_predict, ax=ax4)\n",
    "    ax3.set_title('')\n",
    "    ax4.set_title('')\n",
    "    ax3.set_ylabel('Residual')\n",
    "    ax4.set_ylabel('Residual')\n",
    "    ax3.grid(True)\n",
    "    ax4.grid(True)\n",
    "    \n",
    "    if figname is not None:\n",
    "        plt.savefig(figname, bbox_inches='tight')\n",
    "        \n",
    "    plt.show()\n",
    "    return None\n",
    "\n",
    "\n",
    "def normalize_Xy(splits, feature_range=(0., 1.0), normalization_method='minmax',\n",
    "                        train_test_only=False, feature_indices=None):\n",
    "    \"\"\" Split into training, validation and test data.\n",
    "    Normalize with respect to some absolute max, just choose 2*absolute max of training set. \n",
    "\n",
    "    \"\"\"\n",
    "    \n",
    "    min_, max_ = feature_range\n",
    "    (X_train, y_train, X_validate, y_validate, X_test, y_test) = splits\n",
    "    feature_minima = X_train[:,:,:,:].min((0,1,2))[np.newaxis,np.newaxis,np.newaxis,:]\n",
    "    feature_maxima = 2*X_train[:,:,:,:].max((0,1,2))[np.newaxis,np.newaxis,np.newaxis,:]\n",
    "    feature_denominator = feature_maxima-feature_minima\n",
    "    # get the shape of each split's array, so that array arithmetic can be done. \n",
    "    train_tile_shape = np.array(np.array(X_train.shape)/np.array(feature_maxima.shape),int)\n",
    "    validate_tile_shape = np.array(np.array(X_validate.shape)/np.array(feature_maxima.shape),int)\n",
    "    test_tile_shape = np.array(np.array(X_test.shape)/np.array(feature_maxima.shape),int)\n",
    "\n",
    "    # using X - X_min / (X_max-X_min). Form denominator\n",
    "    train_denominator = np.tile(feature_denominator, train_tile_shape)\n",
    "    validate_denominator = np.tile(feature_denominator, validate_tile_shape)\n",
    "    test_denominator = np.tile(feature_denominator, test_tile_shape)\n",
    "    \n",
    "    # and then the minima.\n",
    "    train_minima = np.tile(feature_minima,train_tile_shape)\n",
    "    validate_minima = np.tile(feature_minima,validate_tile_shape)\n",
    "    test_minima = np.tile(feature_minima,test_tile_shape)\n",
    "    \n",
    "    # factor of 1/max_ accounts for absolute maximum that is outside of the data (i.e. potential future values). \n",
    "    X_train_scaled = (max_-min_)*(X_train - train_minima)/train_denominator\n",
    "    X_validate_scaled = (max_-min_)*(X_validate - validate_minima)/validate_denominator\n",
    "    X_test_scaled = (max_-min_)*(X_test - test_minima)/test_denominator\n",
    "\n",
    "    \n",
    "    scaled_splits = (X_train_scaled, y_train, X_validate_scaled, y_validate, X_test_scaled, y_test) \n",
    "    scaling_arrays =  (feature_maxima, feature_minima, feature_denominator)\n",
    "\n",
    "    return scaled_splits, scaling_arrays"
   ]
  },
  {
   "cell_type": "code",
   "execution_count": 3,
   "metadata": {},
   "outputs": [],
   "source": [
    "# Import cleaned data produced by other notebook. \n",
    "data = pd.read_csv('cnn_data.csv',index_col=0)\n",
    "# data = data.drop(columns=['date'])\n",
    "\n",
    "# pandemic_start_date_median = data[data.days_since_first_case == 1].time_index.median()\n",
    "# data[data.days_since_first_case==int(data.time_index.max()-pandemic_start_date_median)].location.nunique()\n",
    "# new_dates = data[data.time_index>=60]\n",
    "# dates_with_days_since_first_case_equals_zero = new_dates.groupby('location').days_since_first_case.min()\n",
    "# countries_to_drop = dates_with_days_since_first_case_equals_zero[dates_with_days_since_first_case_equals_zero==0].index\n",
    "# data = new_dates[~new_dates.location.isin(countries_to_drop)]"
   ]
  },
  {
   "cell_type": "markdown",
   "metadata": {},
   "source": [
    "# Data setup for NN model.\n",
    "\n",
    "Per the distribution of pandemic starting dates, vast majority of countries have cases by day (time_index) 60. Therefore,\n",
    "truncate the days before this value and truncate the countries which have no cases as of that date.\n",
    "\n",
    "Want to include only time windows in which all countries have one confirmed case. Unfortunately this would reduce the amount of data samples. There are choices to be made which keep the most countries but also the most relevant dates. There are 132 countries in the dataset, 121 of these have  \n",
    "\n",
    "Want the dates where most countries have cases, but the date where *all* countries have dates would dramatically reduce "
   ]
  },
  {
   "cell_type": "code",
   "execution_count": 4,
   "metadata": {
    "scrolled": true
   },
   "outputs": [
    {
     "data": {
      "text/plain": [
       "((21252, 33), (15819, 33))"
      ]
     },
     "execution_count": 4,
     "metadata": {},
     "output_type": "execute_result"
    }
   ],
   "source": [
    "data.shape, data[data.days_since_first_case >= 1].shape"
   ]
  },
  {
   "cell_type": "markdown",
   "metadata": {},
   "source": [
    "Do not use sub-components of the stringency index; also, the new tests per million feature\n",
    "has differing units between countries and so it will be unreliable. Likewise, the number of new recovered and\n",
    "deaths per million are time delayed quantities and so they are might not be useful for next-day predictions. "
   ]
  },
  {
   "cell_type": "code",
   "execution_count": 5,
   "metadata": {},
   "outputs": [
    {
     "data": {
      "text/html": [
       "<div>\n",
       "<style scoped>\n",
       "    .dataframe tbody tr th:only-of-type {\n",
       "        vertical-align: middle;\n",
       "    }\n",
       "\n",
       "    .dataframe tbody tr th {\n",
       "        vertical-align: top;\n",
       "    }\n",
       "\n",
       "    .dataframe thead th {\n",
       "        text-align: right;\n",
       "    }\n",
       "</style>\n",
       "<table border=\"1\" class=\"dataframe\">\n",
       "  <thead>\n",
       "    <tr style=\"text-align: right;\">\n",
       "      <th></th>\n",
       "      <th>source_of_highest_correlation</th>\n",
       "      <th>correlation</th>\n",
       "    </tr>\n",
       "  </thead>\n",
       "  <tbody>\n",
       "    <tr>\n",
       "      <th>e4_international_support</th>\n",
       "      <td>e3_fiscal_measures</td>\n",
       "      <td>0.16441</td>\n",
       "    </tr>\n",
       "    <tr>\n",
       "      <th>new_tests_per_million</th>\n",
       "      <td>log_new_tests_per_million</td>\n",
       "      <td>0.332038</td>\n",
       "    </tr>\n",
       "    <tr>\n",
       "      <th>h5_investment_in_vaccines</th>\n",
       "      <td>h4_emergency_investment_in_healthcare</td>\n",
       "      <td>0.493436</td>\n",
       "    </tr>\n",
       "    <tr>\n",
       "      <th>new_recovered_per_million</th>\n",
       "      <td>log_new_recovered_per_million</td>\n",
       "      <td>0.504846</td>\n",
       "    </tr>\n",
       "    <tr>\n",
       "      <th>h3_contact_tracing</th>\n",
       "      <td>government_response_index</td>\n",
       "      <td>0.588102</td>\n",
       "    </tr>\n",
       "    <tr>\n",
       "      <th>h2_testing_policy</th>\n",
       "      <td>government_response_index</td>\n",
       "      <td>0.649257</td>\n",
       "    </tr>\n",
       "    <tr>\n",
       "      <th>new_cases_per_million</th>\n",
       "      <td>log_new_cases_per_million</td>\n",
       "      <td>0.672016</td>\n",
       "    </tr>\n",
       "    <tr>\n",
       "      <th>log_new_tests_per_million</th>\n",
       "      <td>days_since_first_case</td>\n",
       "      <td>0.736933</td>\n",
       "    </tr>\n",
       "    <tr>\n",
       "      <th>e3_fiscal_measures</th>\n",
       "      <td>h4_emergency_investment_in_healthcare</td>\n",
       "      <td>0.740054</td>\n",
       "    </tr>\n",
       "    <tr>\n",
       "      <th>h4_emergency_investment_in_healthcare</th>\n",
       "      <td>e3_fiscal_measures</td>\n",
       "      <td>0.740054</td>\n",
       "    </tr>\n",
       "    <tr>\n",
       "      <th>h1_public_information_campaigns</th>\n",
       "      <td>containment_health_index</td>\n",
       "      <td>0.740465</td>\n",
       "    </tr>\n",
       "    <tr>\n",
       "      <th>log_new_cases_per_million</th>\n",
       "      <td>log_new_recovered_per_million</td>\n",
       "      <td>0.750515</td>\n",
       "    </tr>\n",
       "    <tr>\n",
       "      <th>log_new_recovered_per_million</th>\n",
       "      <td>log_new_cases_per_million</td>\n",
       "      <td>0.750515</td>\n",
       "    </tr>\n",
       "    <tr>\n",
       "      <th>c5_close_public_transport</th>\n",
       "      <td>stringency_index</td>\n",
       "      <td>0.761137</td>\n",
       "    </tr>\n",
       "    <tr>\n",
       "      <th>c8_international_travel_controls</th>\n",
       "      <td>containment_health_index</td>\n",
       "      <td>0.83096</td>\n",
       "    </tr>\n",
       "    <tr>\n",
       "      <th>e1_income_support</th>\n",
       "      <td>economic_support_index</td>\n",
       "      <td>0.833841</td>\n",
       "    </tr>\n",
       "    <tr>\n",
       "      <th>c6_stay_at_home_requirements</th>\n",
       "      <td>stringency_index</td>\n",
       "      <td>0.836185</td>\n",
       "    </tr>\n",
       "    <tr>\n",
       "      <th>c7_restrictions_on_internal_movement</th>\n",
       "      <td>government_response_index</td>\n",
       "      <td>0.860041</td>\n",
       "    </tr>\n",
       "    <tr>\n",
       "      <th>log_new_deaths_per_million</th>\n",
       "      <td>new_deaths_per_million</td>\n",
       "      <td>0.874391</td>\n",
       "    </tr>\n",
       "    <tr>\n",
       "      <th>new_deaths_per_million</th>\n",
       "      <td>log_new_deaths_per_million</td>\n",
       "      <td>0.874391</td>\n",
       "    </tr>\n",
       "    <tr>\n",
       "      <th>c4_restrictions_on_gatherings</th>\n",
       "      <td>stringency_index</td>\n",
       "      <td>0.876091</td>\n",
       "    </tr>\n",
       "    <tr>\n",
       "      <th>c2_workplace_closing</th>\n",
       "      <td>stringency_index</td>\n",
       "      <td>0.887189</td>\n",
       "    </tr>\n",
       "    <tr>\n",
       "      <th>time_index</th>\n",
       "      <td>days_since_first_case</td>\n",
       "      <td>0.898657</td>\n",
       "    </tr>\n",
       "    <tr>\n",
       "      <th>days_since_first_case</th>\n",
       "      <td>time_index</td>\n",
       "      <td>0.898657</td>\n",
       "    </tr>\n",
       "    <tr>\n",
       "      <th>economic_support_index</th>\n",
       "      <td>e2_debt_contract_relief</td>\n",
       "      <td>0.899233</td>\n",
       "    </tr>\n",
       "    <tr>\n",
       "      <th>e2_debt_contract_relief</th>\n",
       "      <td>economic_support_index</td>\n",
       "      <td>0.899233</td>\n",
       "    </tr>\n",
       "    <tr>\n",
       "      <th>c1_school_closing</th>\n",
       "      <td>stringency_index</td>\n",
       "      <td>0.904192</td>\n",
       "    </tr>\n",
       "    <tr>\n",
       "      <th>c3_cancel_public_events</th>\n",
       "      <td>containment_health_index</td>\n",
       "      <td>0.909671</td>\n",
       "    </tr>\n",
       "    <tr>\n",
       "      <th>stringency_index</th>\n",
       "      <td>containment_health_index</td>\n",
       "      <td>0.98888</td>\n",
       "    </tr>\n",
       "    <tr>\n",
       "      <th>government_response_index</th>\n",
       "      <td>containment_health_index</td>\n",
       "      <td>0.991308</td>\n",
       "    </tr>\n",
       "    <tr>\n",
       "      <th>containment_health_index</th>\n",
       "      <td>government_response_index</td>\n",
       "      <td>0.991308</td>\n",
       "    </tr>\n",
       "  </tbody>\n",
       "</table>\n",
       "</div>"
      ],
      "text/plain": [
       "                                               source_of_highest_correlation  \\\n",
       "e4_international_support                                  e3_fiscal_measures   \n",
       "new_tests_per_million                              log_new_tests_per_million   \n",
       "h5_investment_in_vaccines              h4_emergency_investment_in_healthcare   \n",
       "new_recovered_per_million                      log_new_recovered_per_million   \n",
       "h3_contact_tracing                                 government_response_index   \n",
       "h2_testing_policy                                  government_response_index   \n",
       "new_cases_per_million                              log_new_cases_per_million   \n",
       "log_new_tests_per_million                              days_since_first_case   \n",
       "e3_fiscal_measures                     h4_emergency_investment_in_healthcare   \n",
       "h4_emergency_investment_in_healthcare                     e3_fiscal_measures   \n",
       "h1_public_information_campaigns                     containment_health_index   \n",
       "log_new_cases_per_million                      log_new_recovered_per_million   \n",
       "log_new_recovered_per_million                      log_new_cases_per_million   \n",
       "c5_close_public_transport                                   stringency_index   \n",
       "c8_international_travel_controls                    containment_health_index   \n",
       "e1_income_support                                     economic_support_index   \n",
       "c6_stay_at_home_requirements                                stringency_index   \n",
       "c7_restrictions_on_internal_movement               government_response_index   \n",
       "log_new_deaths_per_million                            new_deaths_per_million   \n",
       "new_deaths_per_million                            log_new_deaths_per_million   \n",
       "c4_restrictions_on_gatherings                               stringency_index   \n",
       "c2_workplace_closing                                        stringency_index   \n",
       "time_index                                             days_since_first_case   \n",
       "days_since_first_case                                             time_index   \n",
       "economic_support_index                               e2_debt_contract_relief   \n",
       "e2_debt_contract_relief                               economic_support_index   \n",
       "c1_school_closing                                           stringency_index   \n",
       "c3_cancel_public_events                             containment_health_index   \n",
       "stringency_index                                    containment_health_index   \n",
       "government_response_index                           containment_health_index   \n",
       "containment_health_index                           government_response_index   \n",
       "\n",
       "                                      correlation  \n",
       "e4_international_support                  0.16441  \n",
       "new_tests_per_million                    0.332038  \n",
       "h5_investment_in_vaccines                0.493436  \n",
       "new_recovered_per_million                0.504846  \n",
       "h3_contact_tracing                       0.588102  \n",
       "h2_testing_policy                        0.649257  \n",
       "new_cases_per_million                    0.672016  \n",
       "log_new_tests_per_million                0.736933  \n",
       "e3_fiscal_measures                       0.740054  \n",
       "h4_emergency_investment_in_healthcare    0.740054  \n",
       "h1_public_information_campaigns          0.740465  \n",
       "log_new_cases_per_million                0.750515  \n",
       "log_new_recovered_per_million            0.750515  \n",
       "c5_close_public_transport                0.761137  \n",
       "c8_international_travel_controls          0.83096  \n",
       "e1_income_support                        0.833841  \n",
       "c6_stay_at_home_requirements             0.836185  \n",
       "c7_restrictions_on_internal_movement     0.860041  \n",
       "log_new_deaths_per_million               0.874391  \n",
       "new_deaths_per_million                   0.874391  \n",
       "c4_restrictions_on_gatherings            0.876091  \n",
       "c2_workplace_closing                     0.887189  \n",
       "time_index                               0.898657  \n",
       "days_since_first_case                    0.898657  \n",
       "economic_support_index                   0.899233  \n",
       "e2_debt_contract_relief                  0.899233  \n",
       "c1_school_closing                        0.904192  \n",
       "c3_cancel_public_events                  0.909671  \n",
       "stringency_index                          0.98888  \n",
       "government_response_index                0.991308  \n",
       "containment_health_index                 0.991308  "
      ]
     },
     "execution_count": 5,
     "metadata": {},
     "output_type": "execute_result"
    }
   ],
   "source": [
    "xcr = data.corr().replace(to_replace=1.,value=np.nan)\n",
    "\n",
    "pd.DataFrame(np.array([xcr.idxmax(), xcr.max()]).transpose(), \n",
    "             index=xcr.index,columns=['source_of_highest_correlation',\n",
    "                                      'correlation']).sort_values(by='correlation')[-100::]"
   ]
  },
  {
   "cell_type": "markdown",
   "metadata": {},
   "source": [
    "The data creation is the same as in the notebook ```COVID19_model_prototypes.ipynb```. See that notebook for details. Previously, frame size was set to 28. By setting it to 14, get $14*n_{countries}$ more samples as well as fewer input dimensions such that the number of model parameters will be smaller. This size still captures seasonality as well as the time delayed nature of the pandemic. "
   ]
  },
  {
   "cell_type": "code",
   "execution_count": 6,
   "metadata": {},
   "outputs": [
    {
     "data": {
      "text/html": [
       "<div>\n",
       "<style scoped>\n",
       "    .dataframe tbody tr th:only-of-type {\n",
       "        vertical-align: middle;\n",
       "    }\n",
       "\n",
       "    .dataframe tbody tr th {\n",
       "        vertical-align: top;\n",
       "    }\n",
       "\n",
       "    .dataframe thead th {\n",
       "        text-align: right;\n",
       "    }\n",
       "</style>\n",
       "<table border=\"1\" class=\"dataframe\">\n",
       "  <thead>\n",
       "    <tr style=\"text-align: right;\">\n",
       "      <th></th>\n",
       "      <th>time_index</th>\n",
       "      <th>containment_health_index</th>\n",
       "      <th>economic_support_index</th>\n",
       "      <th>government_response_index</th>\n",
       "      <th>stringency_index</th>\n",
       "    </tr>\n",
       "  </thead>\n",
       "  <tbody>\n",
       "    <tr>\n",
       "      <th>time_index</th>\n",
       "      <td>1.000000</td>\n",
       "      <td>0.716415</td>\n",
       "      <td>0.639289</td>\n",
       "      <td>0.743276</td>\n",
       "      <td>0.684483</td>\n",
       "    </tr>\n",
       "    <tr>\n",
       "      <th>containment_health_index</th>\n",
       "      <td>0.716415</td>\n",
       "      <td>1.000000</td>\n",
       "      <td>0.614558</td>\n",
       "      <td>0.991308</td>\n",
       "      <td>0.988880</td>\n",
       "    </tr>\n",
       "    <tr>\n",
       "      <th>economic_support_index</th>\n",
       "      <td>0.639289</td>\n",
       "      <td>0.614558</td>\n",
       "      <td>1.000000</td>\n",
       "      <td>0.712915</td>\n",
       "      <td>0.593043</td>\n",
       "    </tr>\n",
       "    <tr>\n",
       "      <th>government_response_index</th>\n",
       "      <td>0.743276</td>\n",
       "      <td>0.991308</td>\n",
       "      <td>0.712915</td>\n",
       "      <td>1.000000</td>\n",
       "      <td>0.977855</td>\n",
       "    </tr>\n",
       "    <tr>\n",
       "      <th>stringency_index</th>\n",
       "      <td>0.684483</td>\n",
       "      <td>0.988880</td>\n",
       "      <td>0.593043</td>\n",
       "      <td>0.977855</td>\n",
       "      <td>1.000000</td>\n",
       "    </tr>\n",
       "  </tbody>\n",
       "</table>\n",
       "</div>"
      ],
      "text/plain": [
       "                           time_index  containment_health_index  \\\n",
       "time_index                   1.000000                  0.716415   \n",
       "containment_health_index     0.716415                  1.000000   \n",
       "economic_support_index       0.639289                  0.614558   \n",
       "government_response_index    0.743276                  0.991308   \n",
       "stringency_index             0.684483                  0.988880   \n",
       "\n",
       "                           economic_support_index  government_response_index  \\\n",
       "time_index                               0.639289                   0.743276   \n",
       "containment_health_index                 0.614558                   0.991308   \n",
       "economic_support_index                   1.000000                   0.712915   \n",
       "government_response_index                0.712915                   1.000000   \n",
       "stringency_index                         0.593043                   0.977855   \n",
       "\n",
       "                           stringency_index  \n",
       "time_index                         0.684483  \n",
       "containment_health_index           0.988880  \n",
       "economic_support_index             0.593043  \n",
       "government_response_index          0.977855  \n",
       "stringency_index                   1.000000  "
      ]
     },
     "execution_count": 6,
     "metadata": {},
     "output_type": "execute_result"
    }
   ],
   "source": [
    "data.loc[:, column_search(data,'index')].corr()"
   ]
  },
  {
   "cell_type": "code",
   "execution_count": 7,
   "metadata": {},
   "outputs": [],
   "source": [
    "# data = data[data.time_index>=40]\n",
    "# model_data = data.copy().iloc[:, 3:]\n",
    "modeling_features = ['new_cases_per_million', 'government_response_index', 'log_new_cases_per_million']\n",
    "model_data = data.copy().loc[:, modeling_features]\n",
    "new_cases_index = column_search(model_data,'new_cases_per_million', threshold='match', return_style='iloc')[0]\n",
    "n_countries = data.location.nunique()\n",
    "target_data = data.new_cases_per_million\n",
    "time_index = data.time_index\n",
    "\n",
    "frame_size = 28\n",
    "start_date = frame_size + data.time_index.min()\n",
    "\n",
    "n_validation_frames = 7\n",
    "n_test_frames = 1\n",
    "n_days_into_future = 1"
   ]
  },
  {
   "cell_type": "code",
   "execution_count": 8,
   "metadata": {},
   "outputs": [
    {
     "name": "stdout",
     "output_type": "stream",
     "text": [
      "Starting with frame ranging time_index values: 0 27\n",
      "Ending with frame ranging time_index values: 132 159\n"
     ]
    }
   ],
   "source": [
    "X, y = create_Xy(model_data, target_data, time_index, start_date, frame_size, n_days_into_future, n_countries)\n",
    "splits, indices = split_Xy(X, y, frame_size, n_validation_frames, n_test_frames)\n",
    "\n",
    "scaled_splits, scaling_arrays =  normalize_Xy(splits, feature_range=(0,1.0), \n",
    "                                                                  normalization_method='minmax',\n",
    "                                                                  train_test_only=False,\n",
    "                                                                  feature_indices=None)\n",
    "# if need to supply folds for sklearn CV regression functions.\n",
    "(X_nn_train, y_nn_train, X_nn_validate, y_nn_validate, X_nn_test, y_nn_test) = scaled_splits\n",
    "(train_indices, validate_indices, test_indices) = indices"
   ]
  },
  {
   "cell_type": "code",
   "execution_count": 9,
   "metadata": {},
   "outputs": [
    {
     "data": {
      "text/plain": [
       "(132, 161, 3)"
      ]
     },
     "execution_count": 9,
     "metadata": {},
     "output_type": "execute_result"
    }
   ],
   "source": [
    "n_countries = data.location.nunique()\n",
    "n_dates = data.time_index.nunique()\n",
    "n_features = model_data.columns.size\n",
    "n_countries, n_dates, n_features"
   ]
  },
  {
   "cell_type": "markdown",
   "metadata": {},
   "source": [
    "Quick check that I'm still splitting the data correctly"
   ]
  },
  {
   "cell_type": "code",
   "execution_count": 10,
   "metadata": {},
   "outputs": [
    {
     "data": {
      "image/png": "[encoded data removed]",
      "text/plain": [
       "<Figure size 1080x360 with 1 Axes>"
      ]
     },
     "metadata": {
      "needs_background": "light"
     },
     "output_type": "display_data"
    }
   ],
   "source": [
    "X_scaled_tmp = np.concatenate((X_nn_train,X_nn_validate,X_nn_test), axis=0)\n",
    "\n",
    "fig, ax = plt.subplots(1,1, figsize=(15,5))\n",
    "ax.scatter(range(len(X_scaled_tmp)), X_scaled_tmp[:,np.where(data.location.unique()=='United States')[0],-1,new_cases_index], s=100,color='k', label='original')\n",
    "ax.scatter(range(len(scaled_splits[0])), scaled_splits[0][:,np.where(data.location.unique()=='United States')[0],-1,new_cases_index], s=30, label='train')\n",
    "ax.scatter(range(len(scaled_splits[0]), len(scaled_splits[0])+len(scaled_splits[2])), scaled_splits[2][:,np.where(data.location.unique()=='United States')[0],-1,new_cases_index], s=30, label='validate')\n",
    "ax.scatter(range(len(scaled_splits[0])+len(scaled_splits[2]), len(X)), X_nn_test[:,np.where(data.location.unique()=='United States')[0],-1,new_cases_index], s=30, label='test')\n",
    "plt.legend()\n",
    "plt.savefig('nn_train_test_split.jpg', bbox_inches='tight')\n",
    "_ = plt.show()\n"
   ]
  },
  {
   "cell_type": "markdown",
   "metadata": {},
   "source": [
    "Flatten and produce the naive baseline quantities."
   ]
  },
  {
   "cell_type": "code",
   "execution_count": 11,
   "metadata": {},
   "outputs": [],
   "source": [
    "flat_splits = flatten_Xy(scaled_splits)\n",
    "(X_nn_train_model,y_nn_train_model,X_nn_validate_model,\n",
    " y_nn_validate_model,X_nn_test_model,y_nn_test_model) = flat_splits\n",
    "X_for_naive_slicing = np.concatenate(X.reshape(X.shape[0], X.shape[1], -1), axis=0)\n",
    "n_features = X.shape[-1]\n",
    "last_day_new_cases_index = np.ravel_multi_index([[frame_size-1],[new_cases_index]],(frame_size, n_features))\n",
    "y_train_naive = X_for_naive_slicing[train_indices, last_day_new_cases_index].ravel()\n",
    "y_validate_naive =  X_for_naive_slicing[validate_indices, last_day_new_cases_index].ravel()\n",
    "y_test_naive =  X_for_naive_slicing[test_indices, last_day_new_cases_index].ravel()"
   ]
  },
  {
   "cell_type": "markdown",
   "metadata": {},
   "source": [
    "Create the combinations of hyperparameters to search for the best combination."
   ]
  },
  {
   "cell_type": "code",
   "execution_count": 12,
   "metadata": {},
   "outputs": [],
   "source": [
    "epochs_list = [50, 100, 150]\n",
    "batch_size_list = [64]\n",
    "fc_quotient_list = [1,2,4]\n",
    "parameter_combinations = list(itertools.product(epochs_list, batch_size_list, fc_quotient_list))"
   ]
  },
  {
   "cell_type": "markdown",
   "metadata": {},
   "source": [
    "So that redundant, time consuming calculations are not performed every notebook run, create a crude\n",
    "logging system such that the model is only fit with a certain set of parameters if hasn't been done in the past, as\n",
    "indicated by the presence of a score in the csv file."
   ]
  },
  {
   "cell_type": "code",
   "execution_count": 13,
   "metadata": {},
   "outputs": [],
   "source": [
    "if os.path.isfile('nn_score_logging.csv'):\n",
    "    score_logging_df = pd.read_csv('nn_score_logging.csv', index_col=0)\n",
    "else:\n",
    "    score_logging_df = pd.DataFrame(np.array(parameter_combinations), \n",
    "                                    columns=['epochs','batch_size','fc_quotient'])\n",
    "    score_logging_df.loc[:, 'mean_squared_error'] = np.nan\n",
    "    score_logging_df.loc[:, 'mean_absolute_error'] = np.nan\n",
    "    score_logging_df.loc[:, 'explained_variance'] = np.nan\n",
    "    score_logging_df.loc[:, 'naive_mean_absolute_error'] = np.nan\n",
    "    score_logging_df.loc[:, 'naive_explained_variance'] = np.nan\n",
    "    score_logging_df.loc[:, 'naive_mean_squared_error'] = np.nan"
   ]
  },
  {
   "cell_type": "markdown",
   "metadata": {},
   "source": [
    "Initialize the kernel with specific seeds for the testing of parameters."
   ]
  },
  {
   "cell_type": "code",
   "execution_count": 14,
   "metadata": {},
   "outputs": [
    {
     "name": "stdout",
     "output_type": "stream",
     "text": [
      "WARNING:tensorflow:From C:\\ProgramData\\Anaconda3\\lib\\site-packages\\tensorflow\\python\\keras\\initializers.py:143: calling RandomNormal.__init__ (from tensorflow.python.ops.init_ops) with dtype is deprecated and will be removed in a future version.\n",
      "Instructions for updating:\n",
      "Call initializer instance with the dtype argument instead of passing it to the constructor\n"
     ]
    }
   ],
   "source": [
    "kernel0 = RandomNormal(seed=0)\n",
    "kernel1 = RandomNormal(seed=1)"
   ]
  },
  {
   "cell_type": "markdown",
   "metadata": {},
   "source": [
    "Iterate over paramters and compute scores. Could be done in parallel using joblib but it is not worth the effort"
   ]
  },
  {
   "cell_type": "code",
   "execution_count": 15,
   "metadata": {},
   "outputs": [
    {
     "name": "stdout",
     "output_type": "stream",
     "text": [
      "#########"
     ]
    }
   ],
   "source": [
    "for i, hyper_parameters in enumerate(parameter_combinations):\n",
    "    \n",
    "    (epochs, batch_size, fc_quotient) = hyper_parameters\n",
    "    \n",
    "    if score_logging_df.isna().loc[i,'mean_squared_error']:\n",
    "        nn_input = Input(shape=(np.prod(X_nn_train.shape[2:]),))\n",
    "        flat = Flatten()(nn_input)\n",
    "        dense0 = Dense(int(frame_size//fc_quotient), \n",
    "                        use_bias=False,\n",
    "                       kernel_initializer=kernel0,\n",
    "                       )(flat)\n",
    "        dense1 = Dense(1, \n",
    "                        activation='relu',\n",
    "                        use_bias=False,\n",
    "                       kernel_initializer=kernel1,\n",
    "                       )(dense0)\n",
    "\n",
    "        nn = Model(inputs=nn_input, outputs=dense1)\n",
    "        nn.compile(loss='mse', optimizer=Adam())\n",
    "        history = nn.fit(X_nn_train_model, y_nn_train_model, epochs=epochs, validation_data=(X_nn_validate_model, y_nn_validate_model), \n",
    "                  batch_size=batch_size, verbose=0)\n",
    "        \n",
    "        y_true = y_nn_validate_model.ravel()\n",
    "        y_predict = nn.predict(X_nn_validate_model).ravel()\n",
    "        y_naive = y_validate_naive.ravel()\n",
    "\n",
    "        score_logging_df.loc[i,'naive_mean_squared_error'] = mean_squared_error(y_true.ravel(), y_naive.ravel())\n",
    "        score_logging_df.loc[i,'mean_squared_error']  = mean_squared_error(y_true.ravel(), y_predict)\n",
    "        score_logging_df.loc[i,'naive_explained_variance']  = explained_variance_score(y_true.ravel(), y_naive.ravel())\n",
    "        score_logging_df.loc[i,'explained_variance']  = explained_variance_score(y_true.ravel(), y_predict)\n",
    "        score_logging_df.loc[i,'naive_mean_absolute_error']  = mean_absolute_error(y_true.ravel(), y_naive.ravel())\n",
    "        score_logging_df.loc[i,'mean_absolute_error']  = mean_absolute_error(y_true.ravel(), y_predict)\n",
    "        # every time a new score is calculated, overwrite the original file, to save space but also save progress scoring.\n",
    "        score_logging_df.to_csv('nn_score_logging.csv')\n",
    "    else:\n",
    "        pass\n",
    "    \n",
    "    print('#',end='')\n",
    "    if (i % 50 == 0) & i>0:\n",
    "          print('{} runs completed'.format(str(i)))"
   ]
  },
  {
   "cell_type": "markdown",
   "metadata": {},
   "source": [
    "Look at the parameters and scores of the best model."
   ]
  },
  {
   "cell_type": "code",
   "execution_count": 16,
   "metadata": {},
   "outputs": [
    {
     "data": {
      "text/plain": [
       "epochs                       150.000000\n",
       "batch_size                    64.000000\n",
       "fc_quotient                    1.000000\n",
       "mean_squared_error           234.908286\n",
       "mean_absolute_error            6.716133\n",
       "explained_variance             0.930625\n",
       "naive_mean_absolute_error      6.381940\n",
       "naive_explained_variance       0.915816\n",
       "naive_mean_squared_error     283.717052\n",
       "Name: 6, dtype: float64"
      ]
     },
     "execution_count": 16,
     "metadata": {},
     "output_type": "execute_result"
    }
   ],
   "source": [
    "score_logging_df.loc[score_logging_df.mean_squared_error.idxmin(),:]"
   ]
  },
  {
   "cell_type": "markdown",
   "metadata": {},
   "source": [
    "Unfortunately this does not beat the naive baseline (the scores are with respect to the validation set)."
   ]
  },
  {
   "cell_type": "code",
   "execution_count": 17,
   "metadata": {},
   "outputs": [
    {
     "name": "stdout",
     "output_type": "stream",
     "text": [
      "epochs         150.0\n",
      "batch_size      64.0\n",
      "fc_quotient      1.0\n",
      "Name: 6, dtype: float64\n"
     ]
    }
   ],
   "source": [
    "best_model_parameters = score_logging_df.loc[score_logging_df.mean_squared_error.idxmin(),:].iloc[:3]\n",
    "print(best_model_parameters)"
   ]
  },
  {
   "cell_type": "markdown",
   "metadata": {},
   "source": [
    "Try again with a different seed, see if all hope is lost."
   ]
  },
  {
   "cell_type": "code",
   "execution_count": 18,
   "metadata": {},
   "outputs": [],
   "source": [
    "X_final_train = np.concatenate((X_nn_train_model, X_nn_validate_model),axis=0)\n",
    "y_final_train = np.concatenate((y_nn_train_model, y_nn_validate_model),axis=0)"
   ]
  },
  {
   "cell_type": "code",
   "execution_count": 19,
   "metadata": {},
   "outputs": [
    {
     "name": "stdout",
     "output_type": "stream",
     "text": [
      "WARNING:tensorflow:From C:\\ProgramData\\Anaconda3\\lib\\site-packages\\tensorflow\\python\\ops\\init_ops.py:1251: calling VarianceScaling.__init__ (from tensorflow.python.ops.init_ops) with dtype is deprecated and will be removed in a future version.\n",
      "Instructions for updating:\n",
      "Call initializer instance with the dtype argument instead of passing it to the constructor\n"
     ]
    }
   ],
   "source": [
    "(epochs, batch_size, fc_quotient) = best_model_parameters\n",
    "    \n",
    "nn_input = Input(shape=(np.prod(X_nn_train.shape[2:]),))\n",
    "flat = Flatten()(nn_input)\n",
    "dense0 = Dense(int(frame_size//fc_quotient), \n",
    "                use_bias=False,\n",
    "               )(flat)\n",
    "dense1 = Dense(1, \n",
    "                activation='relu',\n",
    "                use_bias=False,\n",
    "               )(dense0)\n",
    "\n",
    "\n",
    "best_nn = Model(inputs=nn_input, outputs=dense1)\n",
    "best_nn.compile(loss='mse', optimizer=Adam())\n",
    "history = best_nn.fit(X_final_train, y_final_train, epochs=int(epochs),\n",
    "                      validation_data=(X_nn_test_model, y_nn_test_model), \n",
    "          batch_size=int(batch_size), verbose=0)"
   ]
  },
  {
   "cell_type": "code",
   "execution_count": 20,
   "metadata": {},
   "outputs": [
    {
     "name": "stdout",
     "output_type": "stream",
     "text": [
      "Model: \"model\"\n",
      "_________________________________________________________________\n",
      "Layer (type)                 Output Shape              Param #   \n",
      "=================================================================\n",
      "input_1 (InputLayer)         [(None, 84)]              0         \n",
      "_________________________________________________________________\n",
      "flatten (Flatten)            (None, 84)                0         \n",
      "_________________________________________________________________\n",
      "dense (Dense)                (None, 28)                2352      \n",
      "_________________________________________________________________\n",
      "dense_1 (Dense)              (None, 1)                 28        \n",
      "=================================================================\n",
      "Total params: 2,380\n",
      "Trainable params: 2,380\n",
      "Non-trainable params: 0\n",
      "_________________________________________________________________\n"
     ]
    }
   ],
   "source": [
    "best_nn.summary()"
   ]
  },
  {
   "cell_type": "code",
   "execution_count": 21,
   "metadata": {},
   "outputs": [
    {
     "data": {
      "image/png": "[encoded data removed]",
      "text/plain": [
       "<Figure size 432x288 with 1 Axes>"
      ]
     },
     "metadata": {
      "needs_background": "light"
     },
     "output_type": "display_data"
    }
   ],
   "source": [
    "_ = plt.plot(history.history['loss'], label='loss')\n",
    "_ = plt.plot(history.history['val_loss'], label='val_loss')\n",
    "_ = plt.legend()\n",
    "_ = plt.show()"
   ]
  },
  {
   "cell_type": "markdown",
   "metadata": {},
   "source": [
    "Predictions made on the training set (for determining whether or not we overtraining "
   ]
  },
  {
   "cell_type": "code",
   "execution_count": 22,
   "metadata": {},
   "outputs": [
    {
     "name": "stdout",
     "output_type": "stream",
     "text": [
      "There were 0 negative predictions\n",
      "1-step MSE [Naive, NN model] = [146.03206877599862,120.07174980650701]\n",
      "1-step R^2 [Naive, NN model] = [0.9175027091764258,0.9330895789507405]\n"
     ]
    },
    {
     "data": {
      "image/png": "[encoded data removed]",
      "text/plain": [
       "<Figure size 1080x720 with 4 Axes>"
      ]
     },
     "metadata": {
      "needs_background": "light"
     },
     "output_type": "display_data"
    }
   ],
   "source": [
    "y_true = y_final_train.ravel()\n",
    "y_naive = np.concatenate((y_train_naive, y_validate_naive),axis=0)\n",
    "y_predict = best_nn.predict(X_final_train).ravel()\n",
    "model_analysis(y_true, y_naive, y_predict, n_countries, title='NN model',\n",
    "               suptitle='Training set predictions vs. naive baseline',\n",
    "              figname='nn_training_performance.jpg')"
   ]
  },
  {
   "cell_type": "markdown",
   "metadata": {},
   "source": [
    "Predictions made on the validation set."
   ]
  },
  {
   "cell_type": "code",
   "execution_count": 23,
   "metadata": {},
   "outputs": [
    {
     "name": "stdout",
     "output_type": "stream",
     "text": [
      "There were 0 negative predictions\n",
      "1-step MSE [Naive, NN model] = [258.31770921212126,210.1143625913559]\n",
      "1-step R^2 [Naive, NN model] = [0.9074361696088415,0.9251291448044048]\n"
     ]
    },
    {
     "data": {
      "image/png": "[encoded data removed]",
      "text/plain": [
       "<Figure size 1080x720 with 4 Axes>"
      ]
     },
     "metadata": {
      "needs_background": "light"
     },
     "output_type": "display_data"
    }
   ],
   "source": [
    "y_true = y_nn_test_model.ravel()\n",
    "y_predict = best_nn.predict(X_nn_test_model).ravel()\n",
    "model_analysis(y_true, y_test_naive, y_predict, n_countries, title='NN model',\n",
    "               suptitle='Test set predictions vs. naive baseline',\n",
    "              figname='nn_test_performance.jpg')"
   ]
  },
  {
   "cell_type": "markdown",
   "metadata": {},
   "source": [
    "Predictions made on the hold-out set (final evaluation)."
   ]
  },
  {
   "cell_type": "markdown",
   "metadata": {},
   "source": [
    "At this stage, it seems that the neural network model in its current form is unable of producing accurate predictions that beat a simple naive baseline model. In fact, the average performance is much worse than the naive baseline, as indicated by the scoring distribution"
   ]
  },
  {
   "cell_type": "code",
   "execution_count": 24,
   "metadata": {
    "scrolled": true
   },
   "outputs": [
    {
     "data": {
      "text/plain": [
       "<matplotlib.axes._subplots.AxesSubplot at 0x23b62b16b88>"
      ]
     },
     "execution_count": 24,
     "metadata": {},
     "output_type": "execute_result"
    },
    {
     "data": {
      "image/png": "[encoded data removed]",
      "text/plain": [
       "<Figure size 432x288 with 1 Axes>"
      ]
     },
     "metadata": {
      "needs_background": "light"
     },
     "output_type": "display_data"
    }
   ],
   "source": [
    "score_logging_df.loc[:,column_search(score_logging_df,'squared')].plot.hist(alpha=0.5, bins=50)"
   ]
  },
  {
   "cell_type": "markdown",
   "metadata": {},
   "source": [
    "# Future work\n",
    "Make all windows vary in lengths between different batches. \n",
    "https://datascience.stackexchange.com/questions/26366/training-an-rnn-with-examples-of-different-lengths-in-keras"
   ]
  }
 ],
 "metadata": {
  "kernelspec": {
   "display_name": "Python 3",
   "language": "python",
   "name": "python3"
  },
  "language_info": {
   "codemirror_mode": {
    "name": "ipython",
    "version": 3
   },
   "file_extension": ".py",
   "mimetype": "text/x-python",
   "name": "python",
   "nbconvert_exporter": "python",
   "pygments_lexer": "ipython3",
   "version": "3.7.6"
  }
 },
 "nbformat": 4,
 "nbformat_minor": 4
}
