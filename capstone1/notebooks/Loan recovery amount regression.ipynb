{
 "cells": [
  {
   "cell_type": "code",
   "execution_count": 1,
   "metadata": {},
   "outputs": [],
   "source": [
    "import pandas as pd\n",
    "import numpy as np\n",
    "import matplotlib.pyplot as plt\n",
    "import seaborn as sns\n",
    "import sys, os\n",
    "import matplotlib.pyplot as plt\n",
    "from sklearn.model_selection import train_test_split\n",
    "from sklearn import preprocessing\n",
    "from sklearn.linear_model import Ridge, LinearRegression, Lasso, ElasticNet, SGDRegressor\n",
    "from sklearn.model_selection import GridSearchCV, cross_val_score, KFold, cross_validate\n",
    "from sklearn.metrics import mean_squared_error, r2_score, explained_variance_score\n",
    "from sklearn.svm import SVC\n",
    "from sklearn.preprocessing import scale, StandardScaler, MinMaxScaler, QuantileTransformer\n",
    "from sklearn.preprocessing import KBinsDiscretizer, OneHotEncoder, Binarizer\n",
    "from sklearn.compose import ColumnTransformer\n",
    "from sklearn.feature_selection import RFE, RFECV\n",
    "from sklearn.decomposition import PCA\n",
    "from sklearn.pipeline import Pipeline\n",
    "from joblib import Parallel, delayed\n",
    "import itertools\n"
   ]
  },
  {
   "cell_type": "markdown",
   "metadata": {},
   "source": [
    "To begin the analysis of the regression of the amount of capital recovered from charged off loans first\n",
    "we define some functions which will help reduce the amount of recycled code. "
   ]
  },
  {
   "cell_type": "code",
   "execution_count": 2,
   "metadata": {},
   "outputs": [],
   "source": [
    "# Return the explained variance score given some test data. \n",
    "def my_score(clf, X_test, y_test):\n",
    "    '''\n",
    "        Predict using trained scikit-learn estimator and compute the explained variance score  \n",
    "        \n",
    "        Parameters:\n",
    "        \n",
    "        X_test : ndarray or DataFrame (n_samples, n_features)\n",
    "                 Feature data to test. n_features represents the number of features\n",
    "                 present in the data used to train the estimator clf\n",
    "                 \n",
    "        y_test : ndarray (n_samples, )\n",
    "                 Target data to test. \n",
    "                \n",
    "        \n",
    "        clf : scikit-learn estimator which has been fit to data with same number of columns as X_test\n",
    "        \n",
    "        Returns:\n",
    "        \n",
    "        Explained variance score of predicted data\n",
    "        \n",
    "    '''\n",
    "    y_predict = clf.predict(X_test)\n",
    "    return explained_variance_score(y_test, y_predict)\n",
    "\n",
    "# Return multiple scores and plot predicted vs. true. \n",
    "def classifier_analysis(clf, X_test, y_test):\n",
    "    \n",
    "    '''\n",
    "        Predict using trained scikit-learn estimator and compute and plot various metrics:\n",
    "        Prints \n",
    "        \n",
    "        Parameters:\n",
    "        \n",
    "        X_test : ndarray or DataFrame (n_samples, n_features)\n",
    "                 Feature data to test. n_features represents the number of features\n",
    "                 present in the data used to train the estimator clf\n",
    "                 \n",
    "        y_test : ndarray (n_samples, )\n",
    "                 Target data to test. \n",
    "                \n",
    "        \n",
    "        clf : scikit-learn estimator which has been fit to data with same number of columns as X_test\n",
    "        \n",
    "        target_transformer_ : scikit-learn scaler such as QuantileTransformer(), MinMaxScaler(), etc.\n",
    "        \n",
    "    \n",
    "        \n",
    "        Returns:\n",
    "        \n",
    "        y_test : ndarray (n_samples, )\n",
    "            \n",
    "            Same as input for convenience\n",
    "        \n",
    "        y_predict : ndarray (n_samples, ) \n",
    "            \n",
    "            Predictions \n",
    "        \n",
    "    '''\n",
    "    \n",
    "    y_predict = clf.predict(X_test)\n",
    "    \n",
    "    # Print the mean squared error and explained variance\n",
    "    mse_ = mean_squared_error(y_test, y_predict)\n",
    "    evs_ = explained_variance_score(y_test, y_predict)\n",
    "    print('Mean squared error {}'.format(mse_))\n",
    "    print('Explained variance score {}'.format(evs_))\n",
    "\n",
    "    # Plot true vs. predicted as scatter plot. \n",
    "    ym = np.max(y_test)\n",
    "    fig = plt.figure()\n",
    "    plt.scatter(y_test, y_predict, s=1)\n",
    "    plt.plot([0, ym],[0, ym],color='r')\n",
    "    plt.ylabel('Predicted Value')\n",
    "    plt.xlabel('True Value')\n",
    "    plt.grid()\n",
    "    plt.xlim([0, 1.1*ym])\n",
    "    plt.ylim([0, 1.1*ym])\n",
    "    _ = plt.show()\n",
    "    \n",
    "    return y_test, y_predict"
   ]
  },
  {
   "cell_type": "code",
   "execution_count": 3,
   "metadata": {},
   "outputs": [],
   "source": [
    "# Convert date-like + 'Missing' valued features to one-hot encoded columns; uses KBins on the years of the date-like, which \n",
    "# bins then one-hot encodes, while also one-hot encoding 'Missing' separately. \n",
    "def encode_dates_and_missing(df):\n",
    "    \n",
    "    '''\n",
    "    A DataFrame which takes mixed \"Missing\" and datetime values, separates out the \"Missing\"\n",
    "    and then performs two operations. First, the 'Missing' column is one-hot encoded, second,\n",
    "    the datetime variables are binned and encoded using KBinsDiscretizer, using a uniform bin\n",
    "    width strategy. \n",
    "\n",
    "    Parameters:\n",
    "\n",
    "    df : DataFrame (n_samples, n_features)\n",
    "         \n",
    "        Dataframe which contains datetime features and value \"Missing\" which indicates missing values.\n",
    "\n",
    "    Returns:\n",
    "\n",
    "    encoded_df : DataFrame (n_samples, (undetermined size))\n",
    "    \n",
    "        Encoded dataframe, filled with one-hot encoded columns of the input DataFrame. \n",
    "            \n",
    "            \n",
    "            \n",
    "    '''\n",
    "    \n",
    "    for i, seriesname in enumerate(df.columns):\n",
    "        series = df[seriesname]\n",
    "        series_missing = pd.get_dummies(series[series=='Missing'])\n",
    "        series_notmissing = series[series!='Missing']\n",
    "        notmiss_index = series_notmissing.index\n",
    "        \n",
    "        kbd = KBinsDiscretizer(n_bins=3, strategy='uniform')\n",
    "        series_dt = pd.to_datetime(series_notmissing).dt.year\n",
    "        encoded_series = kbd.fit_transform(series_dt.values.reshape(-1,1))\n",
    "        encoded_series = pd.DataFrame(kbd.fit_transform(series_dt.values.reshape(-1,1)).toarray(), index=notmiss_index).astype(int)\n",
    "        encoded_series = encoded_series.join(series_missing, how='outer').fillna(value=0)\n",
    "        encoded_series.columns = [seriesname+'_'+str(col) for col in encoded_series.columns]\n",
    "        encoded_series = encoded_series.iloc[:, 1:]\n",
    "        if i == 0: \n",
    "            encoded_df = encoded_series\n",
    "        else:\n",
    "            encoded_df = pd.concat((encoded_df,encoded_series),axis=1)\n",
    "            \n",
    "    return encoded_df\n",
    "    "
   ]
  },
  {
   "cell_type": "code",
   "execution_count": 4,
   "metadata": {},
   "outputs": [],
   "source": [
    "def my_feature_transformer(X, num_features, cat_features, date_features, num_transformer=StandardScaler()):\n",
    "    ''' Transform features using a column transformer. \n",
    "    \n",
    "    A DataFrame which takes mixed \"Missing\" and datetime values, separates out the \"Missing\"\n",
    "    and then performs two operations. First, the 'Missing' column is one-hot encoded, second,\n",
    "    the datetime variables are binned and encoded using KBinsDiscretizer, using a uniform bin\n",
    "    width strategy. \n",
    "\n",
    "    Parameters\n",
    "    ----------\n",
    "\n",
    "    X : DataFrame (n_samples, n_features)\n",
    "         \n",
    "        Dataframe which contains training data. \n",
    "\n",
    "    num_features : list, Pandas index\n",
    "    \n",
    "        List of Pandas Index of the name of columns that contain numerical features.\n",
    "         \n",
    "\n",
    "    cat_features : list, Pandas index\n",
    "    \n",
    "        List of Pandas Index of the name of columns that contain categorical features.\n",
    "         \n",
    "    date_features : list, Pandas index\n",
    "    \n",
    "        List of Pandas Index of the name of columns that contain categorical features.\n",
    "         \n",
    "        Dataframe which contains datetime features and value \"Missing\" which indicates missing values.\n",
    "\n",
    "    num_transformer : scikit-learn Transformer\n",
    "         \n",
    "        scikit-learn scaler such as QuantileTransformer(), MinMaxScaler(), etc.\n",
    "\n",
    "    Returns\n",
    "    -------\n",
    "\n",
    "    col_transformer : ColumnTransformer instance\n",
    "    \n",
    "         Transformer that can be used to rescale and encode data. \n",
    "            \n",
    "    '''\n",
    "    \n",
    "    uniq_categories = [list(np.sort(X[col].unique()))+['Missing','Unknown'] for col in cat_features]\n",
    "\n",
    "    cat_transformer = OneHotEncoder(categories=uniq_categories, drop='first')\n",
    "    \n",
    "    if date_features is None:\n",
    "        col_transformer = ColumnTransformer(transformers=[('num', num_transformer, num_features), \n",
    "                                                          ('cat', cat_transformer, cat_features)])\n",
    "    else:\n",
    "        col_transformer = ColumnTransformer(transformers=[('num', num_transformer, num_features), \n",
    "                                                          ('cat', cat_transformer, cat_features),\n",
    "                                                         ('my_kbd', 'passthrough', date_features)])\n",
    "\n",
    "    return col_transformer\n",
    "\n",
    "    \n",
    "def scale_features(col_transformer_, X_train, X_test, pca=None):\n",
    "    '''\n",
    "    Fits ColumnTransformer() to feature training data and then \n",
    "    transforms train and test data. \n",
    "\n",
    "    Parameters:\n",
    "\n",
    "    col_transformer : ColumnTransformer instance\n",
    "    \n",
    "        Transformer that can be used to rescale and encode data.\n",
    "\n",
    "    X_train : ndarray or DataFrame (n_samples, n_features)\n",
    "    \n",
    "        Feature data to scale. \n",
    "\n",
    "    X_test : ndarray (test_samples, n_features)\n",
    "    \n",
    "        Target data to scale. \n",
    "\n",
    "    Returns:\n",
    "\n",
    "    X_train_scaled : ndarray or DataFrame (n_samples, n_features)\n",
    "    \n",
    "        Scaled training data.\n",
    "\n",
    "    X_test_scaled : ndarray (test_samples, n_features)\n",
    "    \n",
    "        Scaled test data.            \n",
    "            \n",
    "            \n",
    "    '''\n",
    "    _ = col_transformer_.fit(X_train)\n",
    "    X_train_scaled = col_transformer_.transform(X_train)\n",
    "    X_test_scaled = col_transformer_.transform(X_test)\n",
    "    \n",
    "    if pca is not None:\n",
    "        pcatransformer = PCA(n_components=pca)\n",
    "        _ = pcatransformer.fit(X_train_scaled.toarray())\n",
    "        X_train_scaled = pcatransformer.transform(X_train_scaled.toarray())\n",
    "        X_test_scaled = pcatransformer.transform(X_test_scaled.toarray())\n",
    "    \n",
    "    return X_train_scaled, X_test_scaled\n",
    "\n",
    "def scale_target(target_transformer_, y_train, y_test):\n",
    "    '''\n",
    "    Fits transformer to target training data and then \n",
    "    transforms target train and target test data. \n",
    "\n",
    "    Parameters:\n",
    "\n",
    "    target_transformer_ : scikit-learn preprocessing scaler\n",
    "    \n",
    "        Transformer that can be used to rescale and encode target data.\n",
    "\n",
    "    y_train : ndarray or DataFrame (n_samples, )\n",
    "    \n",
    "        Target training data to scale. \n",
    "\n",
    "    y_test : ndarray (test_samples, )\n",
    "    \n",
    "        Target testing data to scale. \n",
    "\n",
    "    Returns:\n",
    "\n",
    "    y_train_scaled : ndarray or DataFrame (n_samples, n_features)\n",
    "    \n",
    "        Scaled training data.\n",
    "\n",
    "    y_test_scaled : ndarray (test_samples, n_features)\n",
    "    \n",
    "        Scaled test data.   \n",
    "            \n",
    "    '''\n",
    "    _ = target_transformer_.fit(y_train.reshape(-1,1))\n",
    "    y_train_scaled = target_transformer_.transform(y_train.reshape(-1,1))\n",
    "    y_test_scaled = target_transformer_.transform(y_test.reshape(-1,1))    \n",
    "    return y_train_scaled.ravel(), y_test_scaled.ravel()\n",
    "\n",
    "# This isn't cross validation its just model training. Cross-validation averages over the trained models of a parameter value\n",
    "def my_cross_validate(estimator, col_transformer_, target_transformer_, X_traintest, y_traintest, param_grid, pca=None):\n",
    "    '''\n",
    "    Custom cross validation procedure which computes KFold cross validation (5 folds) for sets of parameters\n",
    "    over training and testing data. Runs in parallel using joblib. \n",
    "\n",
    "    Parameters:\n",
    "\n",
    "    estimator : DataFrame (n_samples, n_features)\n",
    "         \n",
    "        Dataframe which contains datetime features and value \"Missing\" which indicates missing values.\n",
    "\n",
    "    col_transformer : ColumnTransformer instance\n",
    "    \n",
    "        Transformer that can be used to rescale and encode feature data.\n",
    "\n",
    "    target_transformer_ : scikit-learn preprocessing scaler\n",
    "    \n",
    "        Transformer that can be used to rescale and encode target data.\n",
    "                  \n",
    "    X_traintest : ndarray, DataFrame (n_samples, n_features)\n",
    "         \n",
    "        Array containing the training and testing data of the feature variable. \n",
    "\n",
    "    y_traintest : ndarray (n_samples, )\n",
    "         \n",
    "        Array containing the training and testing data of the target variable. \n",
    "        \n",
    "    param_grid : dict\n",
    "         \n",
    "        scikit-learn style parameter grid; dict whose keys are strings and whose values are sensible\n",
    "        values for the corresponding keyword arguments of the scikit-learn estimator denoted by estimator.\n",
    "        Values can be singular values or lists of values.\n",
    "\n",
    "    Returns:\n",
    "\n",
    "    estimator : scikit-learn Regressor\n",
    "    \n",
    "        Best model after cross validation\n",
    "            \n",
    "            \n",
    "            \n",
    "    '''\n",
    "    mean_scores = []\n",
    "    # cv_params needs to make sense for the estimator given\n",
    "    param_grid_list = param_grid_iterable(param_grid)\n",
    "    for params_ in param_grid_list:\n",
    "        with Parallel(n_jobs=-1) as parallel:\n",
    "            fitted_models_and_test_splits = parallel(delayed(fit_model_)\n",
    "                                                     (estimator(**params_), col_transformer_, target_transformer_,\n",
    "                                                          X_traintest, y_traintest, train, test, pca=pca)\n",
    "                                  for (train, test) in KFold(n_splits=5).split(X_traintest, y_traintest))\n",
    "            \n",
    "            # Get averages (explained variance) score for this model\n",
    "            scores = parallel(delayed(my_score)(model_, xt, yt) for (model_, xt, yt) in fitted_models_and_test_splits) \n",
    "            mean_scores += [np.mean(list(scores))]\n",
    "            \n",
    "    \n",
    "    best_params_ = param_grid_list[np.argmax(np.array(mean_scores))]\n",
    "    return estimator(**best_params_) \n",
    "\n",
    "\n",
    "def fit_model_(estimator, col_transformer_, target_transformer_, X_traintest, y_traintest, train, test, pca=None):\n",
    "    '''\n",
    "    \n",
    "\n",
    "    Parameters:\n",
    "\n",
    "    estimator : DataFrame (n_samples, n_features)\n",
    "         \n",
    "        Dataframe which contains datetime features and value \"Missing\" which indicates missing values.\n",
    "\n",
    "    col_transformer : ColumnTransformer instance\n",
    "    \n",
    "        Transformer that can be used to rescale and encode feature data.\n",
    "\n",
    "    target_transformer_ : scikit-learn preprocessing scaler\n",
    "    \n",
    "        Transformer that can be used to rescale and encode target data.\n",
    "                  \n",
    "    X_traintest : ndarray, DataFrame (n_samples, n_features)\n",
    "         \n",
    "        Array containing the training and testing data of the feature variable. \n",
    "\n",
    "    y_traintest : ndarray (n_samples, )\n",
    "         \n",
    "        Array containing the training and testing data of the target variable. \n",
    "        \n",
    "    param_grid : dict\n",
    "         \n",
    "        scikit-learn style parameter grid; dict whose keys are strings and whose values are sensible\n",
    "        values for the corresponding keyword arguments of the scikit-learn estimator denoted by estimator.\n",
    "        Values can be singular values or lists of values.\n",
    "\n",
    "    Returns:\n",
    "\n",
    "    (estimator, X_test, y_test) : tuple\n",
    "    \n",
    "        Tuple consisting of the fitted estimator and testing data sets (for convenience).\n",
    "            \n",
    "    '''\n",
    "    X_train, X_test = X_traintest.loc[train,:], X_traintest.loc[test,:]\n",
    "    y_train, y_test = y_traintest.loc[train].values.ravel(), y_traintest.loc[test].values.ravel()\n",
    "    \n",
    "    X_train, X_test  = scale_features(col_transformer_, X_train, X_test, pca=pca)\n",
    "    y_train, y_test = scale_target(target_transformer_, y_train, y_test)\n",
    "\n",
    "    _ = estimator.fit(X_train, y_train)    \n",
    "    return (estimator, X_test, y_test)\n",
    "\n",
    "def param_grid_iterable(params):\n",
    "    '''\n",
    "    Converts scikit-learn style parameter grid to tuples of \n",
    "    \n",
    "    Parameters:\n",
    "\n",
    "    params : dict\n",
    "         \n",
    "        Dictionary of the same style as scikit-learn parameter grid. \n",
    "\n",
    "    Returns:\n",
    "    \n",
    "    cvsorted : list\n",
    "        \n",
    "        List of combinations (dict) of parameter values. \n",
    "\n",
    "    '''\n",
    "    keys = sorted(params)\n",
    "    combinations = list(itertools.product(*(params[key] if type(params[key]) in [list, dict, np.ndarray] else [params[key]]\n",
    "                                            for key in keys)))\n",
    "    cvsorted = [dict(zip(len(c)*keys, c)) for c in combinations]\n",
    "    return cvsorted"
   ]
  },
  {
   "cell_type": "code",
   "execution_count": 5,
   "metadata": {},
   "outputs": [],
   "source": [
    "def cross_validated_model(estimator, col_transformer_, target_transformer_, X_traintest, \n",
    "                                  y_traintest, X_holdout, y_holdout, param_grid, pca=None):\n",
    "    '''\n",
    "    Parameters:\n",
    "\n",
    "    estimator : DataFrame (n_samples, n_features)\n",
    "         \n",
    "        Dataframe which contains datetime features and value \"Missing\" which indicates missing values.\n",
    "\n",
    "    col_transformer : ColumnTransformer instance\n",
    "    \n",
    "        Transformer that can be used to rescale and encode feature data.\n",
    "\n",
    "    target_transformer_ : scikit-learn preprocessing scaler\n",
    "    \n",
    "        Transformer that can be used to rescale and encode target data.\n",
    "                  \n",
    "    X_traintest : ndarray, DataFrame (n_samples, n_features)\n",
    "         \n",
    "        Array containing the training and testing data of the feature variable. \n",
    "\n",
    "    y_traintest : ndarray (n_samples, )\n",
    "         \n",
    "        Array containing the training and testing data of the target variable. \n",
    "        \n",
    "    X_holdout : ndarray, DataFrame (n_holdout_samples, n_features)\n",
    "         \n",
    "        Array containing the training and testing data of the feature variable. \n",
    "\n",
    "    y_holdout : ndarray (n_holdout_samples, )\n",
    "         \n",
    "        Array containing the training and testing data of the target variable.\n",
    "        \n",
    "    param_grid : dict\n",
    "         \n",
    "        scikit-learn style parameter grid; dict whose keys are strings and whose values are sensible\n",
    "        values for the corresponding keyword arguments of the scikit-learn estimator denoted by estimator.\n",
    "        Values can be singular values or lists of values.\n",
    "\n",
    "    Returns:\n",
    "\n",
    "    (estimator, X_holdout_final, y_holdout_final) : tuple\n",
    "    \n",
    "        Tuple consisting of the fitted estimator and scaled, hold out data sets. \n",
    "            \n",
    "    '''\n",
    "    # Initialize the cross-validation method\n",
    "    kf = KFold(n_splits=2)\n",
    "    \n",
    "    # Using joblib, run my cross validation function; it scales feature and target data in the correct way \n",
    "    # in combination with cross validation.\n",
    "    best_model_ = my_cross_validate(estimator, col_transformer_, target_transformer_, X_traintest, y_traintest, param_grid)\n",
    "    \n",
    "    # Using all of the traintest data; transform both the traintest and holdout data sets.\n",
    "    X_traintest_final, X_holdout_final = scale_features(col_transformer_, X_traintest, X_holdout)\n",
    "    y_traintest_final, y_holdout_final = scale_target(target_transformer_, y_traintest.values.ravel(), y_holdout.values.ravel())\n",
    "\n",
    "    _ = best_model_.fit(X_traintest_final, y_traintest_final)\n",
    "        \n",
    "#     # Print final scores and plot the y_true vs y_pred\n",
    "#     classifier_analysis(best_model_, X_holdout_final, y_holdout_final)\n",
    "    \n",
    "    return (best_model_, X_holdout_final, y_holdout_final)"
   ]
  },
  {
   "cell_type": "markdown",
   "metadata": {},
   "source": [
    "### 1. Reformulate the hypothesis\n",
    "\n",
    "The original idea of this stage of the project was to create a predictive model for the amount of money recovered from a charged off loan. The problem with this is that there is no indication, however, as to the total outstanding amount of money *currently* owed. Unfortunately the outstanding principal isn't recorded because once a loan is charged off, there is technically no outstanding principal. \n",
    "\n",
    "This is a problem as the model was supposed to predict the amount of money that ***could*** be recovered from each charged off loan. If the model predicts amounts that are greater than the total possible amount, then it isn't a very useful model. Therefore, when producing the model, it either has to be interpreted only as a rough estimate, or something else needs to be done to ensure that the predicted variable always has a sensible interpretation. The latter is obviously a better choice and as such that is what is pursued here.\n",
    "\n",
    "The hypothesis needs to be modified; changing from\n",
    "\n",
    "    *How much money from charged off loans will be recovered?*\n",
    "    \n",
    "To:\n",
    "\n",
    "    *What percentage of the principal still owed will be recovered?\"\n",
    "\n",
    "\n",
    "### 2. Construction of a new target variable.\n",
    "To accomodate this fact, we calculate the outstanding principal that could be recovered from charged off loans by subtraction of the total received principal from the loan amount. This model disregards financial constructions like interest and late fees. This is done for multiple reasons\n",
    "\n",
    "    1. There is no indication as to how much capital is owed in the form of late fees and interest\n",
    "    2. There is no upper bound on the amount of interest and late fees that could be owed\n",
    "    3. The late fees and interest accrue over time. \n",
    "    2. The model should incorporate as much data in the modeling process as possible\n",
    "    3. The principal is actually funded by the company or investors; it contributes to actual loss\n",
    "\n",
    "In the construction of the new target variable, it is beneficial to involve as little data as possible (such as interest and late fee data), as it won't be able to be used to train the model. Therefore, the target variable we construct is the ratio of the net recovered amount to the outstanding principal.\n",
    "Originally thought of doing loan amount - total payments, but total payments includes interest and late fees so this quantity can be negative and hence nonsensical. The equation for the new target variable is then\n",
    "\n",
    "<h3 align=\"center\">\n",
    "$ \\text{Percentage recovered} = \\: \\frac{\\text{Recovery amount} - \\text{Collection Fees}}{\\text{Loan amount}-\\text{Principal amount received}}$\n",
    "</h3> "
   ]
  },
  {
   "cell_type": "markdown",
   "metadata": {},
   "source": [
    "It turns out what was written above is terrible."
   ]
  },
  {
   "cell_type": "markdown",
   "metadata": {},
   "source": [
    "The modeling in this notebook is regression of a continuous variable. There are many categorical type variables which\n",
    "need to be encoded in order to be used for regression. There are a number of categorical variables with a large (100+) number of categories. There is "
   ]
  },
  {
   "cell_type": "code",
   "execution_count": 6,
   "metadata": {},
   "outputs": [],
   "source": [
    "loan_data = pd.read_csv('regression_loan_data.csv',index_col=False)\n",
    "\n",
    "#Still contains missing values; first, drop features with missing values (dropping samples leaves us with no data).\n",
    "loan_data = loan_data.dropna(axis=1)"
   ]
  },
  {
   "cell_type": "markdown",
   "metadata": {},
   "source": [
    "There are twenty loans whose principal amount has been paid off; remove these from the dataset."
   ]
  },
  {
   "cell_type": "code",
   "execution_count": 7,
   "metadata": {},
   "outputs": [],
   "source": [
    "# regression_data = loan_data\n",
    "# net_recovery = regression_data.recoveries  - regression_data.collection_recovery_fee\n",
    "# remaining_principal = regression_data.loan_amnt  - regression_data.total_rec_prncp\n",
    "\n",
    "# # remaining_principal = remaining_principal[remaining_principal > 0]\n",
    "# net_recovery = net_recovery[remaining_principal.index]\n",
    "# target = net_recovery / (remaining_principal)\n",
    "\n",
    "# # target = target[target < 1]\n",
    "# regression_data = regression_data.loc[target.index, :]\n",
    "\n",
    "# # Assign target/training variables\n",
    "# # y = target\n",
    "# # X = regression_data.loc[y.index,:]\n",
    "# # X = regression_data.drop(columns=['recoveries']).loc[y.index,:]\n",
    "# # X = regression_data.drop(columns=['recoveries','loan_amnt','collection_recovery_fee','total_rec_prncp']).loc[y.index,:]"
   ]
  },
  {
   "cell_type": "markdown",
   "metadata": {},
   "source": [
    "Target variables greater than one at this point indicate that most of the recoveries were made on interest and late fees and as such shouldn't be used to create our model. "
   ]
  },
  {
   "cell_type": "markdown",
   "metadata": {},
   "source": [
    "Our prediction is occuring in the present moment. All of the data corresponding to charged-off loans can be used, and it does not have to be treated as a time series, as we are not trying to predict the future."
   ]
  },
  {
   "cell_type": "markdown",
   "metadata": {},
   "source": [
    "The modeling in this notebook is regression of a continuous variable. There are many categorical type variables which\n",
    "need to be encoded (transformed to numerical values) in order to be used for regression. A portion of these variables have a large (100+) number of categories."
   ]
  },
  {
   "cell_type": "code",
   "execution_count": 8,
   "metadata": {},
   "outputs": [
    {
     "data": {
      "text/plain": [
       "zip_code                     900\n",
       "earliest_cr_line             686\n",
       "sec_app_earliest_cr_line     451\n",
       "issue_d                      137\n",
       "last_pymnt_d                 132\n",
       "last_credit_pull_d           114\n",
       "settlement_date               89\n",
       "debt_settlement_flag_date     83\n",
       "addr_state                    51\n",
       "sub_grade                     35\n",
       "dtype: int64"
      ]
     },
     "execution_count": 8,
     "metadata": {},
     "output_type": "execute_result"
    }
   ],
   "source": [
    "loan_data.select_dtypes(include='object').nunique().sort_values(ascending=False).head(10)"
   ]
  },
  {
   "cell_type": "markdown",
   "metadata": {},
   "source": [
    "The largest number of categories belongs to the zip code variable; which is reported as the first three digits (followed by 'xx'). We can reduce the number of categories by aggregating by the first *two* digits; but if we do this it is almost nearly\n",
    "the same as identifying by the state; In fact, roudning to two digits is actually less specific than identifying by the state. We already have the state in 'addr_state' feature data so there is no motivation to keep the zip codes; if we're going to reduce it to two digits.\n",
    "\n",
    "As can be seen, the variables with the second to eight largest number of categories are related to dates; These features, from the cleaning process, are a mixture of dates (month-year) and the category 'Missing'. These variables will be encoded using binning, specifically KBinsDiscretizer using the One-hot encoding strategy with a small number of bins per feature vector. The manner with which we bin is to represent the dates by their year, and then use a uniform bin-width strategy with three bins.\n",
    "\n",
    "Simultaneously, the \"Missing\" values are one-hot-encoded separately, such that the result is three bins for the date's years and an additional bin for the 'Missing' Category.\n",
    "\n",
    "In summary the process is as follows: separate date-like and 'Missing' values. One-hot encode 'Missing' and dates binned by year separately."
   ]
  },
  {
   "cell_type": "code",
   "execution_count": 9,
   "metadata": {},
   "outputs": [],
   "source": [
    "loan_data = loan_data.drop(columns='zip_code')"
   ]
  },
  {
   "cell_type": "code",
   "execution_count": 10,
   "metadata": {},
   "outputs": [],
   "source": [
    "date_features = ['last_pymnt_d', 'debt_settlement_flag_date',\n",
    "                 'last_credit_pull_d', 'issue_d', 'settlement_date',\n",
    "                 'hardship_start_date','sec_app_earliest_cr_line',\n",
    "                 'hardship_end_date', 'payment_plan_start_date', 'earliest_cr_line']"
   ]
  },
  {
   "cell_type": "code",
   "execution_count": 11,
   "metadata": {},
   "outputs": [],
   "source": [
    "date_df = loan_data[date_features]\n",
    "date_data = encode_dates_and_missing(date_df)\n",
    "num_and_cat_data = loan_data.drop(columns=date_features)"
   ]
  },
  {
   "cell_type": "code",
   "execution_count": 12,
   "metadata": {},
   "outputs": [],
   "source": [
    "# Assign target/training variables\n",
    "y = num_and_cat_data.recoveries\n",
    "num_and_cat_data = num_and_cat_data.drop(columns=['recoveries'])#.loc[y.index,:]"
   ]
  },
  {
   "cell_type": "code",
   "execution_count": 13,
   "metadata": {},
   "outputs": [],
   "source": [
    "num_features = num_and_cat_data.select_dtypes(exclude=['object']).columns\n",
    "cat_features = num_and_cat_data.select_dtypes(include=['object']).columns\n",
    "date_features = date_data.columns\n",
    "\n",
    "X = pd.concat((num_and_cat_data, date_data),axis=1)\n",
    "# X = num_and_cat_data"
   ]
  },
  {
   "cell_type": "markdown",
   "metadata": {},
   "source": [
    "Default cross validation is KFold with 5 folds; by default shuffling is off so we technically do not need to pass a random state."
   ]
  },
  {
   "cell_type": "code",
   "execution_count": 14,
   "metadata": {},
   "outputs": [],
   "source": [
    "X_traintest, X_holdout, y_traintest, y_holdout = train_test_split(X, y, test_size=0.2, random_state=42)\n",
    "\n",
    "X_traintest = X_traintest.reset_index(drop=True)\n",
    "X_holdout = X_holdout.reset_index(drop=True)\n",
    "y_traintest = y_traintest.reset_index(drop=True)\n",
    "y_holdout = y_holdout.reset_index(drop=True)"
   ]
  },
  {
   "cell_type": "code",
   "execution_count": 15,
   "metadata": {},
   "outputs": [],
   "source": [
    "X_train, X_test, y_train, y_test = train_test_split(X_traintest, y_traintest, test_size=0.2, random_state=42)"
   ]
  },
  {
   "cell_type": "code",
   "execution_count": 16,
   "metadata": {},
   "outputs": [],
   "source": [
    "col_transformer_ = my_feature_transformer(X, num_features, cat_features, None, num_transformer=StandardScaler())\n",
    "_ = col_transformer_.fit(X_train)\n",
    "\n",
    "X_train_transformed = col_transformer_.transform(X_train)\n",
    "X_test_transformed = col_transformer_.transform(X_test)"
   ]
  },
  {
   "cell_type": "code",
   "execution_count": 17,
   "metadata": {},
   "outputs": [
    {
     "name": "stdout",
     "output_type": "stream",
     "text": [
      "Shape of the training set (167459, 210) and testing set (41865, 210) after transformation\n"
     ]
    }
   ],
   "source": [
    "print('Shape of the training set {} and testing set {} after transformation'.format(X_train_transformed.shape,\n",
    "                                                                                    X_test_transformed.shape))"
   ]
  },
  {
   "cell_type": "markdown",
   "metadata": {},
   "source": [
    "Preliminary tests to ensure that nothing outrageously wrong with preprocessing."
   ]
  },
  {
   "cell_type": "code",
   "execution_count": 19,
   "metadata": {},
   "outputs": [
    {
     "name": "stdout",
     "output_type": "stream",
     "text": [
      "Mean squared error 562.5999318419497\n",
      "Explained variance score 0.9998288270508452\n"
     ]
    },
    {
     "data": {
      "image/png": "[encoded data removed]",
      "text/plain": [
       "<Figure size 432x288 with 1 Axes>"
      ]
     },
     "metadata": {
      "needs_background": "light"
     },
     "output_type": "display_data"
    }
   ],
   "source": [
    "col_transformer_ = my_feature_transformer(X, num_features, cat_features, None, num_transformer=StandardScaler())\n",
    "_ = col_transformer_.fit(X_traintest)\n",
    "\n",
    "X_traintest_transformed = col_transformer_.transform(X_traintest)\n",
    "sgd = SGDRegressor(random_state=42)\n",
    "_ = sgd.fit(X_traintest_transformed, y_traintest)\n",
    "ysgd, ysgd_predict = classifier_analysis(sgd, X_traintest_transformed, y_traintest)"
   ]
  },
  {
   "cell_type": "code",
   "execution_count": 18,
   "metadata": {},
   "outputs": [
    {
     "name": "stdout",
     "output_type": "stream",
     "text": [
      "Mean squared error 638.8592148339226\n",
      "Explained variance score 0.9998028668021222\n"
     ]
    },
    {
     "data": {
      "image/png": "[encoded data removed]",
      "text/plain": [
       "<Figure size 432x288 with 1 Axes>"
      ]
     },
     "metadata": {
      "needs_background": "light"
     },
     "output_type": "display_data"
    }
   ],
   "source": [
    "sgd = SGDRegressor(random_state=42)\n",
    "_ = sgd.fit(X_train_transformed, y_train)\n",
    "ysgd, ysgd_predict = classifier_analysis(sgd, X_test_transformed, y_test)"
   ]
  },
  {
   "cell_type": "markdown",
   "metadata": {},
   "source": [
    "### Model training and analysis\n",
    "\n"
   ]
  },
  {
   "cell_type": "markdown",
   "metadata": {},
   "source": [
    "#### Preliminary tests\n",
    "\n",
    "For each model we make a preliminary test on the training data; this is similar to the no-information rate type\n",
    "analysis in classification problems. That is, we train and test with the same data set. If the model is inaccurate\n",
    "in this case then there is something seriously wrong with the data or the model. \n",
    "\n",
    "For these tests we shall leave the target variable untransformed; the features need to be transformed to\n",
    "format the categorical variables accordingly. While there are an incredible number of options for fine tuning \n",
    "the main investigation is into the efficacy of the numerical feature transformers. "
   ]
  },
  {
   "cell_type": "code",
   "execution_count": 20,
   "metadata": {},
   "outputs": [],
   "source": [
    "sgd_ss_col_transformer_ = my_feature_transformer(X, num_features, cat_features, date_features, num_transformer=StandardScaler())\n",
    "\n",
    "ridge_ss_col_transformer_ = my_feature_transformer(X, num_features, cat_features, date_features, num_transformer=StandardScaler())\n",
    "\n",
    "sgd_ss = cross_validated_model(SGDRegressor, sgd_ss_col_transformer_, StandardScaler(), X_traintest, \n",
    "                                  y_traintest, X_holdout, y_holdout, {'random_state':42, 'alpha':[0.001, 0.01, 0.1]}, pca=10)\n",
    "\n",
    "ridge_ss = cross_validated_model(Ridge, ridge_ss_col_transformer_, StandardScaler(), X_traintest, \n",
    "                                  y_traintest, X_holdout, y_holdout, {'alpha':[0.1, 1, 10]}, pca=10)"
   ]
  },
  {
   "cell_type": "code",
   "execution_count": 21,
   "metadata": {},
   "outputs": [
    {
     "name": "stdout",
     "output_type": "stream",
     "text": [
      "Mean squared error 0.005341301055098696\n",
      "Explained variance score 0.9949424410507993\n"
     ]
    },
    {
     "data": {
      "image/png": "[encoded data removed]",
      "text/plain": [
       "<Figure size 432x288 with 1 Axes>"
      ]
     },
     "metadata": {
      "needs_background": "light"
     },
     "output_type": "display_data"
    },
    {
     "name": "stdout",
     "output_type": "stream",
     "text": [
      "Mean squared error 0.0008461373679167879\n",
      "Explained variance score 0.9991988326639973\n"
     ]
    },
    {
     "data": {
      "image/png": "[encoded data removed]",
      "text/plain": [
       "<Figure size 432x288 with 1 Axes>"
      ]
     },
     "metadata": {
      "needs_background": "light"
     },
     "output_type": "display_data"
    }
   ],
   "source": [
    "_ = classifier_analysis(*sgd_ss)\n",
    "\n",
    "y_ss, y_ss_predict = classifier_analysis(*ridge_ss)"
   ]
  },
  {
   "cell_type": "code",
   "execution_count": 22,
   "metadata": {},
   "outputs": [],
   "source": [
    "no_pca_sgd_ss_col_transformer_ = my_feature_transformer(X, num_features, cat_features, date_features, num_transformer=StandardScaler())\n",
    "\n",
    "no_pca_ridge_ss_col_transformer_ = my_feature_transformer(X, num_features, cat_features, date_features, num_transformer=StandardScaler())\n",
    "\n",
    "no_pca_sgd_ss = cross_validated_model(SGDRegressor, no_pca_sgd_ss_col_transformer_, StandardScaler(), X_traintest, \n",
    "                                      y_traintest, X_holdout, y_holdout, {'random_state':42, 'alpha':[0.001, 0.01, 0.1]}, pca=None)\n",
    "\n",
    "no_pca_ridge_ss = cross_validated_model(Ridge, no_pca_ridge_ss_col_transformer_, StandardScaler(), X_traintest, \n",
    "                                  y_traintest, X_holdout, y_holdout, {'alpha':[0.1, 1, 10]}, pca=None)"
   ]
  },
  {
   "cell_type": "code",
   "execution_count": 23,
   "metadata": {},
   "outputs": [
    {
     "name": "stdout",
     "output_type": "stream",
     "text": [
      "Mean squared error 0.005341301055098696\n",
      "Explained variance score 0.9949424410507993\n"
     ]
    },
    {
     "data": {
      "image/png": "[encoded data removed]",
      "text/plain": [
       "<Figure size 432x288 with 1 Axes>"
      ]
     },
     "metadata": {
      "needs_background": "light"
     },
     "output_type": "display_data"
    },
    {
     "name": "stdout",
     "output_type": "stream",
     "text": [
      "Mean squared error 0.0008461373679167879\n",
      "Explained variance score 0.9991988326639973\n"
     ]
    },
    {
     "data": {
      "image/png": "[encoded data removed]",
      "text/plain": [
       "<Figure size 432x288 with 1 Axes>"
      ]
     },
     "metadata": {
      "needs_background": "light"
     },
     "output_type": "display_data"
    }
   ],
   "source": [
    "_ = classifier_analysis(*no_pca_sgd_ss)\n",
    "\n",
    "no_pca_y_ss, no_pca_y_ss_predict = classifier_analysis(*no_pca_ridge_ss)"
   ]
  },
  {
   "cell_type": "code",
   "execution_count": 24,
   "metadata": {},
   "outputs": [
    {
     "name": "stdout",
     "output_type": "stream",
     "text": [
      "Mean squared error 694.7694983628935\n",
      "Explained variance score 0.9997863740103625\n"
     ]
    },
    {
     "data": {
      "image/png": "[encoded data removed]",
      "text/plain": [
       "<Figure size 432x288 with 1 Axes>"
      ]
     },
     "metadata": {
      "needs_background": "light"
     },
     "output_type": "display_data"
    }
   ],
   "source": [
    "sgd_test = SGDRegressor(tol=1e-7)\n",
    "\n",
    "col_transformer_ = my_feature_transformer(X, num_features, cat_features, date_features, num_transformer=StandardScaler())\n",
    "_ = col_transformer_.fit(X_train)\n",
    "\n",
    "X_train2 = col_transformer_.transform(X_train)\n",
    "X_test2 = col_transformer_.transform(X_test)\n",
    "\n",
    "# pcatransformer = PCA(n_components=5)\n",
    "# _ = pcatransformer.fit(X_train2.toarray())\n",
    "# xt_pca = pcatransformer.transform(X_train2.toarray())\n",
    "# xtest_pca =  pcatransformer.transform(X_test2.toarray())\n",
    "\n",
    "xt_pca = X_train2\n",
    "xtest_pca =  X_test2\n",
    "\n",
    "yt_pca = y_train.values.ravel()\n",
    "ytest_pca = y_test.values.ravel()\n",
    "\n",
    "# target_transformer_2 = StandardScaler()\n",
    "# _ = target_transformer_2.fit(y_train2.reshape(-1, 1))\n",
    "# yt_pca = target_transformer_2.transform(y_train2.reshape(-1, 1))\n",
    "# ytest_pca = target_transformer_2.transform(y_test2.reshape(-1, 1))\n",
    "\n",
    "_ = sgd_test.fit(xt_pca, yt_pca.ravel())\n",
    "_ = classifier_analysis(sgd_test, xtest_pca, ytest_pca.ravel())"
   ]
  },
  {
   "cell_type": "code",
   "execution_count": 29,
   "metadata": {},
   "outputs": [
    {
     "name": "stdout",
     "output_type": "stream",
     "text": [
      "Mean squared error 583.8838368075508\n",
      "Explained variance score 0.9998223310118901\n"
     ]
    },
    {
     "data": {
      "image/png": "[encoded data removed]",
      "text/plain": [
       "<Figure size 432x288 with 1 Axes>"
      ]
     },
     "metadata": {
      "needs_background": "light"
     },
     "output_type": "display_data"
    }
   ],
   "source": [
    "sgd_test = SGDRegressor(tol=1e-7)\n",
    "\n",
    "col_transformer_ = my_feature_transformer(X, num_features, cat_features, date_features, num_transformer=StandardScaler())\n",
    "\n",
    "_ = col_transformer_.fit(X_traintest)\n",
    "\n",
    "xt = col_transformer_.transform(X_traintest)\n",
    "\n",
    "pcatransformer = PCA(n_components=1)\n",
    "_ = pcatransformer.fit(xt.toarray())\n",
    "xt_pca = pcatransformer.transform(xt.toarray())\n",
    "# X_test_scaled = pca.transform(X_test_scaled)\n",
    "\n",
    "_ = sgd_test.fit(xt, y_traintest.values.ravel())\n",
    "\n",
    "_ = classifier_analysis(sgd_test, xt, y_traintest.values.ravel())"
   ]
  },
  {
   "cell_type": "code",
   "execution_count": 31,
   "metadata": {},
   "outputs": [],
   "source": [
    "X_holdout = col_transformer_.transform(X_holdout)"
   ]
  },
  {
   "cell_type": "code",
   "execution_count": 38,
   "metadata": {},
   "outputs": [
    {
     "data": {
      "text/plain": [
       "array([[-0.37524267, -0.37445705, -0.37132317, ...,  1.        ,\n",
       "         0.        ,  1.        ],\n",
       "       [-1.19893585, -1.19846916, -1.19494662, ...,  1.        ,\n",
       "         1.        ,  0.        ],\n",
       "       [ 1.64138546,  1.64295191,  1.64229415, ...,  1.        ,\n",
       "         0.        ,  1.        ],\n",
       "       ...,\n",
       "       [ 0.50525694,  0.50638348,  0.50910189, ...,  1.        ,\n",
       "         0.        ,  1.        ],\n",
       "       [-1.085323  , -1.08481232, -1.08134338, ...,  1.        ,\n",
       "         0.        ,  1.        ],\n",
       "       [-0.34683946, -0.34604284, -0.34292236, ...,  1.        ,\n",
       "         1.        ,  0.        ]])"
      ]
     },
     "execution_count": 38,
     "metadata": {},
     "output_type": "execute_result"
    }
   ],
   "source": [
    "X_holdout.toarray()"
   ]
  },
  {
   "cell_type": "code",
   "execution_count": 40,
   "metadata": {},
   "outputs": [
    {
     "data": {
      "text/plain": [
       "(209324, 68)"
      ]
     },
     "execution_count": 40,
     "metadata": {},
     "output_type": "execute_result"
    }
   ],
   "source": [
    "X_traintest.shape"
   ]
  },
  {
   "cell_type": "code",
   "execution_count": 41,
   "metadata": {},
   "outputs": [
    {
     "data": {
      "text/plain": [
       "(52331, 238)"
      ]
     },
     "execution_count": 41,
     "metadata": {},
     "output_type": "execute_result"
    }
   ],
   "source": [
    "X_holdout.shape"
   ]
  },
  {
   "cell_type": "code",
   "execution_count": 39,
   "metadata": {},
   "outputs": [
    {
     "ename": "ValueError",
     "evalue": "matmul: Input operand 1 has a mismatch in its core dimension 0, with gufunc signature (n?,k),(k,m?)->(n?,m?) (size 238 is different from 1)",
     "output_type": "error",
     "traceback": [
      "\u001b[1;31m---------------------------------------------------------------------------\u001b[0m",
      "\u001b[1;31mValueError\u001b[0m                                Traceback (most recent call last)",
      "\u001b[1;32m<ipython-input-39-e5fcb3df7356>\u001b[0m in \u001b[0;36m<module>\u001b[1;34m\u001b[0m\n\u001b[0;32m      1\u001b[0m \u001b[0mX_holdout_pca\u001b[0m \u001b[1;33m=\u001b[0m \u001b[0mpcatransformer\u001b[0m\u001b[1;33m.\u001b[0m\u001b[0mtransform\u001b[0m\u001b[1;33m(\u001b[0m\u001b[0mX_holdout\u001b[0m\u001b[1;33m.\u001b[0m\u001b[0mtoarray\u001b[0m\u001b[1;33m(\u001b[0m\u001b[1;33m)\u001b[0m\u001b[1;33m)\u001b[0m\u001b[1;33m\u001b[0m\u001b[1;33m\u001b[0m\u001b[0m\n\u001b[1;32m----> 2\u001b[1;33m \u001b[0m_\u001b[0m \u001b[1;33m=\u001b[0m \u001b[0mclassifier_analysis\u001b[0m\u001b[1;33m(\u001b[0m\u001b[0msgd_test\u001b[0m\u001b[1;33m,\u001b[0m \u001b[0mX_holdout_pca\u001b[0m\u001b[1;33m,\u001b[0m \u001b[0my_holdout\u001b[0m\u001b[1;33m.\u001b[0m\u001b[0mvalues\u001b[0m\u001b[1;33m.\u001b[0m\u001b[0mravel\u001b[0m\u001b[1;33m(\u001b[0m\u001b[1;33m)\u001b[0m\u001b[1;33m)\u001b[0m\u001b[1;33m\u001b[0m\u001b[1;33m\u001b[0m\u001b[0m\n\u001b[0m",
      "\u001b[1;32m<ipython-input-2-482d322ee45d>\u001b[0m in \u001b[0;36mclassifier_analysis\u001b[1;34m(clf, X_test, y_test)\u001b[0m\n\u001b[0;32m     59\u001b[0m     '''\n\u001b[0;32m     60\u001b[0m \u001b[1;33m\u001b[0m\u001b[0m\n\u001b[1;32m---> 61\u001b[1;33m     \u001b[0my_predict\u001b[0m \u001b[1;33m=\u001b[0m \u001b[0mclf\u001b[0m\u001b[1;33m.\u001b[0m\u001b[0mpredict\u001b[0m\u001b[1;33m(\u001b[0m\u001b[0mX_test\u001b[0m\u001b[1;33m)\u001b[0m\u001b[1;33m\u001b[0m\u001b[1;33m\u001b[0m\u001b[0m\n\u001b[0m\u001b[0;32m     62\u001b[0m \u001b[1;33m\u001b[0m\u001b[0m\n\u001b[0;32m     63\u001b[0m     \u001b[1;31m# Print the mean squared error and explained variance\u001b[0m\u001b[1;33m\u001b[0m\u001b[1;33m\u001b[0m\u001b[1;33m\u001b[0m\u001b[0m\n",
      "\u001b[1;32mC:\\ProgramData\\Anaconda3\\lib\\site-packages\\sklearn\\linear_model\\_stochastic_gradient.py\u001b[0m in \u001b[0;36mpredict\u001b[1;34m(self, X)\u001b[0m\n\u001b[0;32m   1252\u001b[0m            \u001b[0mPredicted\u001b[0m \u001b[0mtarget\u001b[0m \u001b[0mvalues\u001b[0m \u001b[0mper\u001b[0m \u001b[0melement\u001b[0m \u001b[1;32min\u001b[0m \u001b[0mX\u001b[0m\u001b[1;33m.\u001b[0m\u001b[1;33m\u001b[0m\u001b[1;33m\u001b[0m\u001b[0m\n\u001b[0;32m   1253\u001b[0m         \"\"\"\n\u001b[1;32m-> 1254\u001b[1;33m         \u001b[1;32mreturn\u001b[0m \u001b[0mself\u001b[0m\u001b[1;33m.\u001b[0m\u001b[0m_decision_function\u001b[0m\u001b[1;33m(\u001b[0m\u001b[0mX\u001b[0m\u001b[1;33m)\u001b[0m\u001b[1;33m\u001b[0m\u001b[1;33m\u001b[0m\u001b[0m\n\u001b[0m\u001b[0;32m   1255\u001b[0m \u001b[1;33m\u001b[0m\u001b[0m\n\u001b[0;32m   1256\u001b[0m     def _fit_regressor(self, X, y, alpha, C, loss, learning_rate,\n",
      "\u001b[1;32mC:\\ProgramData\\Anaconda3\\lib\\site-packages\\sklearn\\linear_model\\_stochastic_gradient.py\u001b[0m in \u001b[0;36m_decision_function\u001b[1;34m(self, X)\u001b[0m\n\u001b[0;32m   1237\u001b[0m \u001b[1;33m\u001b[0m\u001b[0m\n\u001b[0;32m   1238\u001b[0m         scores = safe_sparse_dot(X, self.coef_.T,\n\u001b[1;32m-> 1239\u001b[1;33m                                  dense_output=True) + self.intercept_\n\u001b[0m\u001b[0;32m   1240\u001b[0m         \u001b[1;32mreturn\u001b[0m \u001b[0mscores\u001b[0m\u001b[1;33m.\u001b[0m\u001b[0mravel\u001b[0m\u001b[1;33m(\u001b[0m\u001b[1;33m)\u001b[0m\u001b[1;33m\u001b[0m\u001b[1;33m\u001b[0m\u001b[0m\n\u001b[0;32m   1241\u001b[0m \u001b[1;33m\u001b[0m\u001b[0m\n",
      "\u001b[1;32mC:\\ProgramData\\Anaconda3\\lib\\site-packages\\sklearn\\utils\\extmath.py\u001b[0m in \u001b[0;36msafe_sparse_dot\u001b[1;34m(a, b, dense_output)\u001b[0m\n\u001b[0;32m    149\u001b[0m             \u001b[0mret\u001b[0m \u001b[1;33m=\u001b[0m \u001b[0mnp\u001b[0m\u001b[1;33m.\u001b[0m\u001b[0mdot\u001b[0m\u001b[1;33m(\u001b[0m\u001b[0ma\u001b[0m\u001b[1;33m,\u001b[0m \u001b[0mb\u001b[0m\u001b[1;33m)\u001b[0m\u001b[1;33m\u001b[0m\u001b[1;33m\u001b[0m\u001b[0m\n\u001b[0;32m    150\u001b[0m     \u001b[1;32melse\u001b[0m\u001b[1;33m:\u001b[0m\u001b[1;33m\u001b[0m\u001b[1;33m\u001b[0m\u001b[0m\n\u001b[1;32m--> 151\u001b[1;33m         \u001b[0mret\u001b[0m \u001b[1;33m=\u001b[0m \u001b[0ma\u001b[0m \u001b[1;33m@\u001b[0m \u001b[0mb\u001b[0m\u001b[1;33m\u001b[0m\u001b[1;33m\u001b[0m\u001b[0m\n\u001b[0m\u001b[0;32m    152\u001b[0m \u001b[1;33m\u001b[0m\u001b[0m\n\u001b[0;32m    153\u001b[0m     if (sparse.issparse(a) and sparse.issparse(b)\n",
      "\u001b[1;31mValueError\u001b[0m: matmul: Input operand 1 has a mismatch in its core dimension 0, with gufunc signature (n?,k),(k,m?)->(n?,m?) (size 238 is different from 1)"
     ]
    }
   ],
   "source": [
    "X_holdout_pca = pcatransformer.transform(X_holdout.toarray())\n",
    "_ = classifier_analysis(sgd_test, X_holdout_pca, y_holdout.values.ravel())"
   ]
  },
  {
   "cell_type": "markdown",
   "metadata": {},
   "source": [
    "Remember that this is testing the training data only."
   ]
  },
  {
   "cell_type": "code",
   "execution_count": null,
   "metadata": {},
   "outputs": [],
   "source": [
    "ridge_test = Ridge()\n",
    "\n",
    "_ = col_transformer_.fit(X_traintest)\n",
    "\n",
    "xt = col_transformer_.transform(X_traintest)\n",
    "\n",
    "_ = ridge_test.fit(xt, y_traintest)\n",
    "\n",
    "_ = classifier_analysis(ridge_test, xt, y_traintest)"
   ]
  },
  {
   "cell_type": "markdown",
   "metadata": {},
   "source": [
    "It's quite clear that there is something wrong with the stochastic gradient descent; as we shall see this can be improved by\n",
    "rescaling of the data."
   ]
  },
  {
   "cell_type": "markdown",
   "metadata": {},
   "source": [
    "While cross validation over various parameters is performed the main comparisons are made between the various choices\n",
    "of numerical transformers; that is, the investigation here considers the four choices of combinations of QuantileTransformer()\n",
    "and MinMaxScaler() for the feature and target data. This could and probably should be handled by nested cross validation. I look at some preliminary results to see if there is anything disastrously wrong with any of the transformer selections.  "
   ]
  },
  {
   "cell_type": "markdown",
   "metadata": {},
   "source": [
    "First, define the transformer instances; we can reuse these as we are transforming the same target and train data in each instance."
   ]
  },
  {
   "cell_type": "code",
   "execution_count": null,
   "metadata": {},
   "outputs": [],
   "source": [
    "col_transformer_m = my_feature_transformer(X, num_features, cat_features, date_features, num_transformer=MinMaxScaler())\n",
    "\n",
    "col_transformer_q = my_feature_transformer(X, num_features, cat_features, date_features, num_transformer=QuantileTransformer())\n",
    "\n",
    "target_transformer_m = MinMaxScaler()\n",
    "\n",
    "target_transformer_q = QuantileTransformer()"
   ]
  },
  {
   "cell_type": "markdown",
   "metadata": {},
   "source": [
    "The first choice is to use MinMaxScaler on both the target and feature data. "
   ]
  },
  {
   "cell_type": "code",
   "execution_count": null,
   "metadata": {
    "scrolled": true
   },
   "outputs": [],
   "source": [
    "col_transformer_m = my_feature_transformer(X, num_features, cat_features, date_features, num_transformer=MinMaxScaler())\n",
    "\n",
    "target_transformer_m = MinMaxScaler()\n",
    "\n",
    "sgd_mm = cross_validated_model(SGDRegressor, col_transformer_m, target_transformer_m, X_traintest, \n",
    "                                  y_traintest, X_holdout, y_holdout, {'random_state':42, \n",
    "                                                                      'tol':[1e-1, 1e-3, 1e-5], 'penalty':['elasticnet','l2']})\n",
    "\n",
    "ridge_mm = cross_validated_model(Ridge, col_transformer_m, target_transformer_m, X_traintest, \n",
    "                                  y_traintest, X_holdout, y_holdout, {'alpha':[0.1, 1, 10], 'tol':[1e-1, 1e-3, 1e-5]})"
   ]
  },
  {
   "cell_type": "code",
   "execution_count": null,
   "metadata": {},
   "outputs": [],
   "source": [
    "_ = classifier_analysis(*sgd_mm, target_transformer_m)\n",
    "\n",
    "y_mm, y_mm_predict = classifier_analysis(*ridge_mm, target_transformer_m)"
   ]
  },
  {
   "cell_type": "code",
   "execution_count": null,
   "metadata": {},
   "outputs": [],
   "source": [
    "y_mm_predict_unscaled = target_transformer_m.inverse_transform(y_mm_predict.reshape(-1, 1))\n",
    "y_mm_unscaled = target_transformer_m.inverse_transform(y_mm.reshape(-1, 1))\n",
    "\n",
    "mse_ = mean_squared_error(y_mm_unscaled, y_mm_predict_unscaled)\n",
    "evs_ = explained_variance_score(y_mm_unscaled, y_mm_predict_unscaled)\n",
    "print('Mean squared error {}'.format(mse_))\n",
    "print('Explained variance score {}'.format(evs_))\n",
    "\n",
    "ymaxmm_unscaled = np.max(y_mm_unscaled)\n",
    "fig = plt.figure()\n",
    "plt.scatter(y_mm_unscaled, y_mm_predict_unscaled, s=1)\n",
    "plt.plot([0, ymaxmm_unscaled],[0, ymaxmm_unscaled],color='r')\n",
    "plt.ylabel('Predicted Value')\n",
    "plt.xlabel('True Value')\n",
    "plt.grid()\n",
    "plt.xlim([0, 1.1*ymaxmm_unscaled])\n",
    "plt.ylim([0, 1.1*ymaxmm_unscaled])\n",
    "_ = plt.show()"
   ]
  },
  {
   "cell_type": "markdown",
   "metadata": {},
   "source": [
    "The above plots represent results from scaling with MinMaxScaler on both feature and target data. \n",
    "\n",
    "    1. The prediction vs. true values for stochastic gradient descent\n",
    "    2. The prediction vs. true values for ridge regression\n",
    "    3. The ridge regression results from (2) mapped back to the original, unscaled space."
   ]
  },
  {
   "cell_type": "markdown",
   "metadata": {},
   "source": [
    "Next is to use a Quantile transformer on the feature data and minmax scaler on the target data"
   ]
  },
  {
   "cell_type": "code",
   "execution_count": null,
   "metadata": {},
   "outputs": [],
   "source": [
    "col_transformer_s = my_feature_transformer(X, num_features, cat_features, date_features, num_transformer=StandardScaler())\n",
    "\n",
    "target_transformer_s = StandardScaler()\n",
    "\n",
    "sgd_ss = cross_validated_model(SGDRegressor, col_transformer_s, target_transformer_s, X_traintest, \n",
    "                                  y_traintest, X_holdout, y_holdout, {'random_state':42, \n",
    "                                                                      'tol':[1e-1, 1e-3, 1e-5], 'penalty':['elasticnet','l2']})\n",
    "\n",
    "ridge_ss = cross_validated_model(Ridge, col_transformer_s, target_transformer_s, X_traintest, \n",
    "                                  y_traintest, X_holdout, y_holdout, {'alpha':[0.1, 1, 10], 'tol':[1e-1, 1e-3, 1e-5]})"
   ]
  },
  {
   "cell_type": "code",
   "execution_count": null,
   "metadata": {},
   "outputs": [],
   "source": [
    "_ = classifier_analysis(*sgd_ss, target_transformer_s)\n",
    "\n",
    "y_ss, y_ss_predict = classifier_analysis(*ridge_ss, target_transformer_s)"
   ]
  },
  {
   "cell_type": "code",
   "execution_count": null,
   "metadata": {},
   "outputs": [],
   "source": [
    "col_transformer_q = my_feature_transformer(X, num_features, cat_features, date_features, num_transformer=QuantileTransformer())\n",
    "\n",
    "target_transformer_m = MinMaxScaler()\n",
    "\n",
    "sgd_qm = cross_validated_model(SGDRegressor, col_transformer_q, target_transformer_m, X_traintest, \n",
    "                                  y_traintest, X_holdout, y_holdout, {'random_state':42, \n",
    "                                                                      'tol':[1e-1, 1e-3, 1e-5], 'penalty':['elasticnet','l2']})\n",
    "\n",
    "ridge_qm = cross_validated_model(Ridge, col_transformer_q, target_transformer_m, X_traintest, \n",
    "                                  y_traintest, X_holdout, y_holdout, {'alpha':[0.1, 1, 10], 'tol':[1e-1, 1e-3, 1e-5]})"
   ]
  },
  {
   "cell_type": "code",
   "execution_count": null,
   "metadata": {},
   "outputs": [],
   "source": [
    "_ = classifier_analysis(*sgd_qm, target_transformer_m)\n",
    "\n",
    "y_qm, y_qm_predict = classifier_analysis(*ridge_qm, target_transformer_m)\n",
    "\n",
    "y_qm = target_transformer_m.inverse_transform(y_qm.reshape(-1, 1))\n",
    "y_qm_predict = target_transformer_m.inverse_transform(y_qm_predict.reshape(-1, 1))\n",
    "\n",
    "ymaxqm = np.max(y_qm)\n",
    "fig = plt.figure()\n",
    "plt.scatter(y_qm, y_qm_predict, s=1)\n",
    "plt.plot([0, ymaxqm],[0, ymaxqm],color='r')\n",
    "plt.ylabel('Predicted Value')\n",
    "plt.xlabel('True Value')\n",
    "plt.grid()\n",
    "plt.xlim([0, 1.1*ymaxqm])\n",
    "plt.ylim([0, 1.1*ymaxqm])\n",
    "_ = plt.show()"
   ]
  },
  {
   "cell_type": "markdown",
   "metadata": {},
   "source": [
    "Next is to use QuantileTransformer on the target and MinMax on the feature"
   ]
  },
  {
   "cell_type": "code",
   "execution_count": null,
   "metadata": {},
   "outputs": [],
   "source": [
    "col_transformer_m = my_feature_transformer(X, num_features, cat_features, date_features, num_transformer=MinMaxScaler())\n",
    "\n",
    "target_transformer_q = QuantileTransformer()\n",
    "\n",
    "sgd_mq = cross_validated_model(SGDRegressor, col_transformer_m, target_transformer_q, X_traintest, \n",
    "                                  y_traintest, X_holdout, y_holdout, {'random_state':42, \n",
    "                                                                      'tol':[1e-1, 1e-3, 1e-5], 'penalty':['elasticnet','l2']})\n",
    "\n",
    "ridge_mq = cross_validated_model(Ridge, col_transformer_m, target_transformer_q, X_traintest, \n",
    "                                  y_traintest, X_holdout, y_holdout, {'alpha':[0.1, 1, 10], 'tol':[1e-1, 1e-3, 1e-5]})"
   ]
  },
  {
   "cell_type": "code",
   "execution_count": null,
   "metadata": {
    "scrolled": false
   },
   "outputs": [],
   "source": [
    "_ = classifier_analysis(*sgd_mq, target_transformer_q)\n",
    "\n",
    "y_mq, y_mq_predict = classifier_analysis(*ridge_mq, target_transformer_q)\n",
    "\n",
    "y_mq_predict = target_transformer_q.inverse_transform(y_mq_predict.reshape(-1, 1))\n",
    "y_mq = target_transformer_q.inverse_transform(y_mq.reshape(-1, 1))\n",
    "\n",
    "ymaxmq = np.max(y_mq)\n",
    "fig = plt.figure()\n",
    "plt.scatter(y_mq, y_mq_predict, s=1)\n",
    "plt.plot([0, ymaxmq],[0, ymaxmq],color='r')\n",
    "plt.ylabel('Predicted Value')\n",
    "plt.xlabel('True Value')\n",
    "plt.grid()\n",
    "plt.xlim([0, 1.1*ymaxmq])\n",
    "plt.ylim([0, 1.1*ymaxmq])\n",
    "_ = plt.show()"
   ]
  },
  {
   "cell_type": "markdown",
   "metadata": {},
   "source": [
    "The final pair uses QuantileTransformer on both the target and feature data. "
   ]
  },
  {
   "cell_type": "code",
   "execution_count": null,
   "metadata": {},
   "outputs": [],
   "source": [
    "col_transformer_q = my_feature_transformer(X, num_features, cat_features, date_features, num_transformer=QuantileTransformer())\n",
    "\n",
    "target_transformer_q = QuantileTransformer()\n",
    "\n",
    "sgd_qq = cross_validated_model(SGDRegressor, col_transformer_q, target_transformer_q, X_traintest, \n",
    "                                  y_traintest, X_holdout, y_holdout, {'random_state':42, \n",
    "                                                                      'tol':[1e-1, 1e-3, 1e-5], 'penalty':['elasticnet','l2']})\n",
    "\n",
    "ridge_qq = cross_validated_model(Ridge, col_transformer_q, target_transformer_q, X_traintest, \n",
    "                                  y_traintest, X_holdout, y_holdout, {'alpha':[0.1, 1, 10], 'tol':[1e-1, 1e-3, 1e-5]})"
   ]
  },
  {
   "cell_type": "code",
   "execution_count": null,
   "metadata": {
    "scrolled": false
   },
   "outputs": [],
   "source": [
    "_ = classifier_analysis(*sgd_qq, target_transformer_q)\n",
    "\n",
    "y_qq, y_qq_predict = classifier_analysis(*ridge_qq, target_transformer_q)\n",
    "y_qq_predict = target_transformer_q.inverse_transform(y_qq_predict.reshape(-1, 1))\n",
    "y_qq = target_transformer_q.inverse_transform(y_qq.reshape(-1, 1))\n",
    "\n",
    "ymaxqq = np.max(y_qq)\n",
    "\n",
    "fig = plt.figure()\n",
    "plt.scatter(y_qq, y_qq_predict, s=1)\n",
    "plt.plot([0, ymaxqq],[0, ymaxqq],color='r')\n",
    "plt.ylabel('Predicted Value')\n",
    "plt.xlabel('True Value')\n",
    "plt.grid()\n",
    "plt.xlim([0, 1.1*ymaxqq])\n",
    "plt.ylim([0, 1.1*ymaxqq])\n",
    "_ = plt.show()"
   ]
  },
  {
   "cell_type": "markdown",
   "metadata": {},
   "source": [
    "In every case the Ridge regression outperforms the stochastic gradient descent. It is also clear that it is best to use the same transformer on the feature and target data; perhaps something that should have been obvious. \n"
   ]
  },
  {
   "cell_type": "markdown",
   "metadata": {},
   "source": [
    "The worst result by far occurs when the MinMaxScaler() is applied to the features and the quantile transformer is applied to the target data: Not only do the models have the worst predictions but upon transformation to the original target space we see that there are a number of transformations which are \"maxxed out\", producing predictions that are nearly equal the maximum recovered amount for the whole dataset. The issue with this is that it is likely that these values are above the total amount of money that could possibly be recovered. This is a dangerous red herring; if this model were used it would cause nonsensical drastic estimations."
   ]
  },
  {
   "cell_type": "markdown",
   "metadata": {},
   "source": [
    "Simple comparison of the true to predicted values of the uniform application of MinMaxScaler() and QuantileTransformer() lead to very similar results.\n",
    "\n",
    "| Scaling | Mean-squared error | Estimated variance |\n",
    "| --- | --- | --- |\n",
    "| QuantileTransformer | 5.1584e-09 | 0.999998|\n",
    "| MinMaxScaler | 3.94e-07 | 0.999997|\n",
    "\n",
    "The QuantileTransformer() is slightly better in both metrics BUT this is misleading because upon transformation back to the\n",
    "original target space shows that the QuantileTransformer results in much worse predictions than the MinMaxScaler results. In\n",
    "fact, the MinMaxScaler results are almost perfect. "
   ]
  },
  {
   "cell_type": "code",
   "execution_count": null,
   "metadata": {},
   "outputs": [],
   "source": [
    "print(mean_squared_error(y_mm, y_mm_predict), mean_squared_error(y_qq, y_qq_predict))\n",
    "print(explained_variance_score(y_mm, y_mm_predict), explained_variance_score(y_qq, y_qq_predict))"
   ]
  },
  {
   "cell_type": "markdown",
   "metadata": {},
   "source": [
    "| Scaling | Mean-squared error | Estimated variance |\n",
    "| --- | --- | --- |\n",
    "| QuantileTransformer | 217458.97082 | 0.93727534|\n",
    "| MinMaxScaler |  8.19561  | 0.999997|"
   ]
  },
  {
   "cell_type": "markdown",
   "metadata": {},
   "source": [
    "This makes MinMaxScaler the clear winner. I believe the reason the predictions diverge from the truth in the limit of large\n",
    "recoveries is because there is not much data near the upper limit. It is hard to give a precise explanation because the\n",
    "transformation is non-linear.\n",
    "\n",
    "In summary, Ridge regression with a small regularization and highest tolerance performed the best; we can continue this investigation by taking the limiting case of both parameters; the regularization being zero is the same as regular LinearRegression. "
   ]
  },
  {
   "cell_type": "code",
   "execution_count": null,
   "metadata": {},
   "outputs": [],
   "source": [
    "col_transformer_m = my_feature_transformer(X, num_features, cat_features, date_features, num_transformer=MinMaxScaler())\n",
    "\n",
    "target_transformer_m = MinMaxScaler()\n",
    "\n",
    "ridge_optimized = cross_validated_model(Ridge, col_transformer_m, target_transformer_m, X_traintest, \n",
    "                                  y_traintest, X_holdout, y_holdout, {'alpha':0,  'tol':1e-9})"
   ]
  },
  {
   "cell_type": "code",
   "execution_count": null,
   "metadata": {},
   "outputs": [],
   "source": [
    "y_best_scaled, y_best_predict_scaled = classifier_analysis(*ridge_optimized, target_transformer_m)\n",
    "y_best_predict = target_transformer_m.inverse_transform(y_best_predict_scaled.reshape(-1, 1))\n",
    "y_best = target_transformer_m.inverse_transform(y_best_scaled.reshape(-1, 1))\n",
    "\n",
    "ymax_best = np.max(y_best)\n",
    "\n",
    "fig = plt.figure()\n",
    "plt.scatter(y_best, y_best_predict, s=1)\n",
    "plt.plot([0, ymax_best],[0, ymax_best],color='r')\n",
    "plt.ylabel('Predicted Value')\n",
    "plt.xlabel('True Value')\n",
    "plt.grid()\n",
    "plt.xlim([0, 1.1*ymax_best])\n",
    "plt.ylim([0, 1.1*ymax_best])\n",
    "_ = plt.show()"
   ]
  },
  {
   "cell_type": "markdown",
   "metadata": {},
   "source": [
    "To ensure that this result is not a misnomer, redo the computations with different seed."
   ]
  },
  {
   "cell_type": "code",
   "execution_count": null,
   "metadata": {},
   "outputs": [],
   "source": [
    "X_traintest_final, X_holdout_final, y_traintest_final, y_holdout_final = train_test_split(X, y, test_size=0.2, random_state=0)\n",
    "\n",
    "X_traintest_final = X_traintest_final.reset_index(drop=True)\n",
    "X_holdout_final = X_holdout_final.reset_index(drop=True)\n",
    "\n",
    "y_traintest_final = y_traintest_final.reset_index(drop=True)\n",
    "y_holdout_final = y_holdout_final.reset_index(drop=True)"
   ]
  },
  {
   "cell_type": "code",
   "execution_count": null,
   "metadata": {},
   "outputs": [],
   "source": [
    "col_transformer_final = my_feature_transformer(X, num_features, cat_features, date_features, num_transformer=MinMaxScaler())\n",
    "\n",
    "target_transformer_final = MinMaxScaler()"
   ]
  },
  {
   "cell_type": "code",
   "execution_count": null,
   "metadata": {},
   "outputs": [],
   "source": [
    "ridge_final = cross_validated_model(Ridge, col_transformer_final, target_transformer_final, X_traintest_final, \n",
    "                                  y_traintest_final, X_holdout_final, y_holdout_final, {'alpha':0,  'tol':1e-9})"
   ]
  },
  {
   "cell_type": "code",
   "execution_count": null,
   "metadata": {},
   "outputs": [],
   "source": [
    "y_final, y_final_predict = classifier_analysis(*ridge_final, target_transformer_final)\n",
    "y_final_predict = target_transformer_final.inverse_transform(y_final_predict.reshape(-1, 1))\n",
    "y_final = target_transformer_final.inverse_transform(y_final.reshape(-1, 1))\n",
    "\n",
    "ymax_final = np.max(y_final)\n",
    "\n",
    "fig = plt.figure()\n",
    "plt.scatter(y_final, y_final_predict, s=1)\n",
    "plt.plot([0, ymax_final],[0, ymax_final],color='r')\n",
    "plt.ylabel('Predicted Value')\n",
    "plt.xlabel('True Value')\n",
    "plt.grid()\n",
    "plt.xlim([0, 1.1*ymax_final])\n",
    "plt.ylim([0, 1.1*ymax_final])\n",
    "_ = plt.show()"
   ]
  },
  {
   "cell_type": "code",
   "execution_count": null,
   "metadata": {
    "scrolled": true
   },
   "outputs": [],
   "source": [
    "X.corrwith(y).sort_values(ascending=False)[:5]"
   ]
  },
  {
   "cell_type": "markdown",
   "metadata": {},
   "source": [
    "As an extra, *extra* measure, let's see how well the model does when the highly correlated collection recovery fee is removed."
   ]
  },
  {
   "cell_type": "code",
   "execution_count": null,
   "metadata": {},
   "outputs": [],
   "source": [
    "X_final = X.drop(columns='collection_recovery_fee')\n",
    "num_features_final = num_features[num_features!='collection_recovery_fee']"
   ]
  },
  {
   "cell_type": "code",
   "execution_count": null,
   "metadata": {},
   "outputs": [],
   "source": [
    "X_traintest_final_final, X_holdout_final_final, y_traintest_final_final, y_holdout_final_final=train_test_split(\n",
    "    X_final, y, test_size=0.2, random_state=1)\n",
    "\n",
    "X_traintest_final_final = X_traintest_final_final.reset_index(drop=True)\n",
    "X_holdout_final_final = X_holdout_final_final.reset_index(drop=True)\n",
    "\n",
    "y_traintest_final_final = y_traintest_final_final.reset_index(drop=True)\n",
    "y_holdout_final_final = y_holdout_final_final.reset_index(drop=True)"
   ]
  },
  {
   "cell_type": "code",
   "execution_count": null,
   "metadata": {},
   "outputs": [],
   "source": [
    "col_transformer_final_final = my_feature_transformer(X, num_features_final, cat_features, date_features, num_transformer=MinMaxScaler())\n",
    "\n",
    "target_transformer_final_final = MinMaxScaler()"
   ]
  },
  {
   "cell_type": "code",
   "execution_count": null,
   "metadata": {},
   "outputs": [],
   "source": [
    "ridge_final_final = cross_validated_model(Ridge, col_transformer_final_final, target_transformer_final_final, \n",
    "                                          X_traintest_final_final, \n",
    "                                  y_traintest_final_final, X_holdout_final_final, y_holdout_final_final,\n",
    "                                          {'alpha':0,  'tol':1e-9})"
   ]
  },
  {
   "cell_type": "code",
   "execution_count": null,
   "metadata": {
    "scrolled": false
   },
   "outputs": [],
   "source": [
    "y_final_final, y_final_final_predict = classifier_analysis(*ridge_final_final, target_transformer_final_final)\n",
    "\n",
    "y_final_final = target_transformer_final_final.inverse_transform(y_final_final.reshape(-1, 1))\n",
    "\n",
    "y_final_final_predict = target_transformer_final_final.inverse_transform(y_final_final_predict.reshape(-1, 1))\n",
    "\n",
    "ymax_final_final = np.max(y_final_final)\n",
    "\n",
    "fig = plt.figure()\n",
    "plt.scatter(y_final_final, y_final_final_predict, s=1)\n",
    "plt.plot([0, ymax_final_final],[0, ymax_final_final],color='r')\n",
    "plt.ylabel('Predicted Value')\n",
    "plt.xlabel('True Value')\n",
    "plt.grid()\n",
    "plt.xlim([0, 1.1*ymax_final_final])\n",
    "plt.ylim([0, 1.1*ymax_final_final])\n",
    "_ = plt.show()"
   ]
  },
  {
   "cell_type": "markdown",
   "metadata": {},
   "source": [
    "The model that has been produced is incredibly accurate in both the scaled and unscaled target space, despite my best effort to remove any potentially contaminating information."
   ]
  }
 ],
 "metadata": {
  "kernelspec": {
   "display_name": "Python 3",
   "language": "python",
   "name": "python3"
  },
  "language_info": {
   "codemirror_mode": {
    "name": "ipython",
    "version": 3
   },
   "file_extension": ".py",
   "mimetype": "text/x-python",
   "name": "python",
   "nbconvert_exporter": "python",
   "pygments_lexer": "ipython3",
   "version": "3.7.6"
  }
 },
 "nbformat": 4,
 "nbformat_minor": 2
}
