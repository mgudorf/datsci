{
 "cells": [
  {
   "cell_type": "code",
   "execution_count": 1,
   "metadata": {},
   "outputs": [],
   "source": [
    "import numpy as np\n",
    "import pandas as pd\n",
    "import seaborn as sns\n",
    "import matplotlib.pyplot as plt\n",
    "import os\n",
    "import sys\n",
    "import re\n",
    "import warnings\n",
    "warnings.simplefilter(action='ignore', category=FutureWarning)\n",
    "from matplotlib.patches import Rectangle\n",
    "from sklearn.metrics import mean_squared_error, r2_score, explained_variance_score, mean_absolute_error\n",
    "from sklearn.decomposition import PCA\n",
    "from sklearn.preprocessing import StandardScaler, MinMaxScaler, QuantileTransformer\n",
    "from sklearn.svm import SVR\n",
    "from sklearn.linear_model import Ridge, ElasticNet, RidgeCV, Lasso\n",
    "from sklearn.compose import ColumnTransformer\n",
    "from sklearn.model_selection import GridSearchCV\n",
    "from tensorflow.keras.preprocessing.sequence import pad_sequences\n",
    "warnings.resetwarnings()"
   ]
  },
  {
   "cell_type": "markdown",
   "metadata": {},
   "source": [
    "## Baseline comparisons.\n",
    "\n",
    "Because I am predicting the number of new cases per million on a daily basis, (i.e. not the rate) I am going to employ a naive (constant) baseline.\n",
    "\n",
    "\n",
    "## Metric to determine model accuracy\n",
    "\n",
    "I will be using mean absolute error as to minimize the effect of outliers.\n",
    "\n",
    "\n",
    "## Details yet to be incorporated:\n",
    "\n",
    "Growth of standard deviation over time in forecasting.\n",
    "To accomplish this, I will produce a number of \"new\" features which attempt to capture the time dependence via rolling averages and rolling standard deviations. I will also one-hot encode certain variables which represent flags for certain behaviors or discrete, time independent variables such as location (country)."
   ]
  },
  {
   "cell_type": "code",
   "execution_count": null,
   "metadata": {},
   "outputs": [],
   "source": []
  },
  {
   "cell_type": "markdown",
   "metadata": {},
   "source": [
    "# Modeling the number of cases of COVID-19\n",
    "\n",
    "\n",
    "# Table of contents<a id='toc'></a>\n",
    "\n",
    "## [COVID-19 Case number modeling ](#model)\n"
   ]
  },
  {
   "cell_type": "code",
   "execution_count": null,
   "metadata": {},
   "outputs": [],
   "source": [
    "\n",
    "def country_search(df, country):\n",
    "    return df[df.location==country].index\n",
    "\n",
    "def country_groupby(df):\n",
    "    return [df[df.location==country].index for country in df.location.unique()]\n",
    "\n",
    "\n",
    "def column_search(df, name, return_style='loc', threshold='contains'):\n",
    "    if threshold=='contains':\n",
    "        func = df.columns.str.contains\n",
    "    else:\n",
    "        func = df.columns.str.match\n",
    "        \n",
    "    if return_style == 'loc':\n",
    "        return df.columns[func(name)]\n",
    "    elif return_style== 'iloc':\n",
    "        return np.where(func(name))[0]\n",
    "    else:\n",
    "        return None\n",
    "\n",
    "\n",
    "\n",
    "# Copied from last capstone project. \n",
    "def classifier_analysis(clf, X_test, y_test, plot=True, metric='evs'):\n",
    "    \n",
    "    '''\n",
    "        Predict using trained scikit-learn estimator and compute and plot various metrics:\n",
    "        Prints \n",
    "        \n",
    "        Parameters:\n",
    "        \n",
    "        X_test : ndarray or DataFrame (n_samples, n_features)\n",
    "                 Feature data to test. n_features represents the number of features\n",
    "                 present in the data used to train the estimator clf\n",
    "                 \n",
    "        y_test : ndarray (n_samples, )\n",
    "                 Target data to test. \n",
    "                \n",
    "        \n",
    "        clf : scikit-learn estimator which has been fit to data with same number of \n",
    "              columns as X_test\n",
    "        \n",
    "        \n",
    "        Returns:\n",
    "        \n",
    "        y_test : ndarray (n_samples, )\n",
    "            \n",
    "            Same as input for convenience\n",
    "        \n",
    "        y_predict : ndarray (n_samples, ) \n",
    "            \n",
    "            Predictions \n",
    "        \n",
    "    '''\n",
    "    \n",
    "    y_predict = clf.predict(X_test)\n",
    "    \n",
    "    # Print the mean squared error and explained variance\n",
    "    if metric == 'evs':\n",
    "        score = explained_variance_score(y_test, y_predict)\n",
    "    elif metric == 'mae':\n",
    "        score = mean_absolute_error(y_test, y_predict)\n",
    "    else:\n",
    "        score = mean_squared_error(y_test, y_predict)\n",
    "\n",
    "#     print('Mean squared error {}'.format(mse_))\n",
    "#     print('Explained variance score {}'.format(evs_))\n",
    "    \n",
    "    if plot:\n",
    "        # Plot true vs. predicted as scatter plot. \n",
    "        ym = np.max(y_test)\n",
    "        fig = plt.figure()\n",
    "        plt.scatter(y_test, y_predict, s=1)\n",
    "        plt.plot([0, ym],[0, ym],color='r')\n",
    "        plt.ylabel('Predicted Value')\n",
    "        plt.xlabel('True Value')\n",
    "        plt.grid()\n",
    "        plt.xlim([0, 1.1*ym])\n",
    "        plt.ylim([0, 1.1*ym])\n",
    "        _ = plt.show()\n",
    "    \n",
    "    return y_test, y_predict, score\n",
    "\n",
    "def true_predict_plot(y_true, y_naive, y_predict, title='', scale=None):\n",
    "    fig, (ax1,ax2) = plt.subplots(1, 2, figsize=(20,5))\n",
    "    \n",
    "    if scale == 'log':\n",
    "        ymax = np.max([np.log(1+y_true).max(), np.log(1+y_predict).max()])\n",
    "        ax1.scatter(np.log(y_true+1), np.log(y_naive+1), s=5)\n",
    "        ax1.plot([0, ymax], [0, ymax],color='r')\n",
    "        ax2.scatter(np.log(y_true+1), np.log(y_predict+1), s=5)\n",
    "        ax2.plot([0, ymax], [0, ymax],color='r')\n",
    "    else:\n",
    "        ymax = np.max([y_true.max(), y_predict.max()])\n",
    "        ax1.scatter(y_true, y_naive, s=5)\n",
    "        ax1.plot([0, ymax], [0, ymax],color='r')\n",
    "        ax2.scatter(y_true, y_predict+1, s=5)\n",
    "        ax2.plot([0, ymax], [0, ymax],color='r')\n",
    "    ax1.set_xlabel('True value')\n",
    "    ax1.set_ylabel('Predicted value')\n",
    "    ax1.set_title('Naive model')\n",
    "\n",
    "    ax2.set_xlabel('True value')\n",
    "    ax2.set_ylabel('Predicted value')\n",
    "    ax2.set_title('Ridge regression model')\n",
    "    ax1.grid(True)\n",
    "    ax2.grid(True)\n",
    "    plt.show()\n",
    "    return None\n",
    "\n",
    "def residual_plot(y_true,y_predict,title='', ax=None):\n",
    "    if ax is None:\n",
    "        fig, ax = plt.subplots()\n",
    "    ax.scatter(y_true, y_true-y_predict.ravel(), s=5)\n",
    "    ax.set_ylabel('Residual')\n",
    "    ax.set_xlabel('True value')\n",
    "    ax.grid(True)\n",
    "#     plt.show()\n",
    "    return None\n",
    "\n",
    "def residual_diff_plots(y_true, y_naive, y_predict,n_days_into_future, n_countries, scale=None):\n",
    "    print(y_true.shape, y_naive.shape, y_predict.shape)\n",
    "    fig, axes = plt.subplots(2, 2, figsize=(20,5), sharey=True)\n",
    "    (ax1,ax2,ax3,ax4) = axes.flatten()\n",
    "    xrange = range(len(y_true))\n",
    "    if scale=='log':\n",
    "        ax1.plot(xrange, np.log(y_true+1)\n",
    "             -np.log(y_naive+1))\n",
    "        ax2.plot(xrange, np.log(y_true+1)\n",
    "                 -np.log(y_predict+1))\n",
    "        residual_plot(np.log(y_true+1),np.log(y_naive+1), ax=ax3)\n",
    "        residual_plot(np.log(y_true+1),np.log(y_predict+1), ax=ax4)\n",
    "    else:\n",
    "        ax1.plot(xrange, y_true-y_naive)\n",
    "        ax2.plot(xrange, y_true-y_predict)\n",
    "        residual_plot(y_true,y_naive, ax=ax3)\n",
    "        residual_plot(y_true,y_predict, ax=ax4)\n",
    "    fig.suptitle('{}-day-into-future predictions'.format(n_days_into_future))\n",
    "    ax1.set_title('Country-wise differences')\n",
    "    ax2.set_title('Country-wise differences')\n",
    "    ax1.set_ylabel('log(|True - Naive|)')\n",
    "    ax2.set_ylabel('log(|True - CNN|)')\n",
    "    ax1.grid(True)\n",
    "    ax2.grid(True)\n",
    "\n",
    "    plt.show()"
   ]
  },
  {
   "cell_type": "markdown",
   "metadata": {},
   "source": [
    "## Data\n",
    "\n",
    "Data has the following partitions (list in order of partition as realized in data used in modelling):\n",
    "\n",
    "    1. Continuous time dependent data\n",
    "    2. Rolling averages of continuous time dependent data\n",
    "    3. Continuous time independent data\n",
    "    4. One-hot encoded data: location (country), flags for government responses, test units. \n",
    "    5. Time indexing variables (date, time-index (days since first case))\n",
    "        \n",
    "    Continuous time dependent data with drift as baseline model, Rolling averages computed afterwards\n",
    "    Time series variables with naive as baseline model : The complement to the drift baseline variables. \n",
    "\n",
    "tried scaling y.\n",
    "What do these values mean? The above values represent the maximum factor or magnitude which each country is trying to predict.\n",
    "i.e. when normalized up to frame N, the new_cases_weighted max will be, of course, 1. A y_train_model value of 20 means that the future value is 20 times larger than the current in-frame max.\n",
    "\n",
    "Weighting values up to frame n with max, min in all days up until then. Then, "
   ]
  },
  {
   "cell_type": "markdown",
   "metadata": {},
   "source": [
    "# data preprocessing\n",
    "\n",
    "    get rid of all pre-global data, i.e. the days before every country in dataset has at least 1 case.\n",
    "    this corresponds to truncation via time_index or days_since_first_case\n",
    "\n",
    "# data format lists\n",
    "\n",
    "    single day, single country for each prediction\n",
    "    multiple day, single country for each prediction\n",
    "    single day, multiple country for each prediction. \n",
    "   \n",
    "# normalization methods\n",
    "    \n",
    "    none (wrong)\n",
    "    entire train, test (wrong)\n",
    "    up to present date minmax, standard scaler\n",
    "    in-frame minmax, standard scalar\n",
    "    up to present day and then in-frame. \n",
    "    \n",
    "\n",
    "\n",
    "# the types of models used\n",
    "     \n",
    "     Ridge(alpha=0.01, fit_intercept=False)\n",
    "     Lasso(alpha=0.01, fit_intercept=False)\n",
    "     ElasticNet(alpha=0.01, l1_ratio=0.9, fit_intercept=False)"
   ]
  },
  {
   "cell_type": "markdown",
   "metadata": {},
   "source": [
    "# Things tried so far\n",
    "\n",
    "    Lasso, Ridge, ElasticNet and their parameters\n",
    "    minmax and standard normal, normalization\n",
    "    in-frame and historical normalization"
   ]
  },
  {
   "cell_type": "code",
   "execution_count": null,
   "metadata": {},
   "outputs": [],
   "source": [
    "data[data.days_since_first_case > 0].groupby('location').time_index.min().max()"
   ]
  },
  {
   "cell_type": "markdown",
   "metadata": {},
   "source": [
    "I think I'm safe as long as the training data does not include any days included in the 14 day rolling average of the day that I am trying to predict."
   ]
  },
  {
   "cell_type": "code",
   "execution_count": null,
   "metadata": {},
   "outputs": [],
   "source": [
    "def n_day_forecasting(data, n_test_days, n_days_into_future, col_transformer=StandardScaler(), n_prune=2, train_or_test='train'):\n",
    "    # X has already been shifted by n_days_into future, so the last day in X is predicting that last day + n_days_into_future. \n",
    "    #     y_naive = X.new_cases_weighted[X.time_index > X.time_index.max() - n_days_into_future]\n",
    "    n_countries = data.location.nunique()\n",
    "    chronological_data = data.sort_values(by=['time_index','location'])\n",
    "    # chronological_data = chronological_data[chronological_data.days_since_first_case >0].reset_index(drop=True)\n",
    "\n",
    "    X = chronological_data[(chronological_data.time_index \n",
    "                            <=  chronological_data.time_index.max() - n_days_into_future)].reset_index(drop=True)\n",
    "    y = chronological_data[(chronological_data.time_index  \n",
    "                            >= n_days_into_future)].loc[:, ['time_index','new_cases_weighted']].reset_index(drop=True)\n",
    "\n",
    "    train_indices = X[X.time_index <= X.time_index.max() - n_test_days].index\n",
    "    test_indices = X[X.time_index > X.time_index.max() - n_test_days].index\n",
    "\n",
    "    # 2 slices date, location, 4 slices date,location,time_index, days_since_first_case\n",
    "    X_train = X.iloc[train_indices, n_prune:]#.apply(lambda x : np.log(x+1))\n",
    "    y_train = y.loc[train_indices]\n",
    "\n",
    "    X_test = X.iloc[test_indices, n_prune:]#.apply(lambda x : np.log(x+1))\n",
    "    y_test =  y.loc[test_indices]\n",
    "\n",
    "    _ = col_transformer.fit(X_train)\n",
    "    X_train_normalized =  col_transformer.transform(X_train)\n",
    "    X_test_normalized =  col_transformer.transform(X_test)\n",
    "\n",
    "    n_step_models = []\n",
    "\n",
    "    model = Ridge(alpha=0.01, fit_intercept=False, tol=1e-12) \n",
    "    _ = model.fit(X_train_normalized, y_train)\n",
    "    \n",
    "    if train_or_test == 'train':\n",
    "        y_naive = X_train.new_cases_weighted\n",
    "        y_true, y_predict, mae = classifier_analysis(model, X_train_normalized, y_train, plot=False, metric='mae')\n",
    "    else:\n",
    "        y_naive = X_test.new_cases_weighted\n",
    "        y_true, y_predict, mae = classifier_analysis(model, X_test_normalized, y_test, plot=False, metric='mae')\n",
    "\n",
    "        \n",
    "    return  (X_train_normalized, X_test_normalized), (y_true, y_naive, y_predict), model "
   ]
  },
  {
   "cell_type": "markdown",
   "metadata": {},
   "source": [
    "to make the regression work, need to leverage the time dependence more, I'm going to elect to use multiple day values of the same country to predict the values for each country one at a time, because the differences between countries are so large (in terms of weighted quantities). \n",
    "\n",
    "To do so, need to repeat the data such that (7, 14) days of predictors are in each row for each prediction. I.e. each row\n",
    "is a single country but their frame values. I just did this but perhaps it would be easier to create the frames from the CNN notebook?"
   ]
  },
  {
   "cell_type": "markdown",
   "metadata": {},
   "source": [
    "Resetting the index makes it so X's index can be used to slice y. I.e. its the operation which \"realigns\" the data."
   ]
  },
  {
   "cell_type": "markdown",
   "metadata": {},
   "source": [
    "Things to try or have been tried.\n",
    "\n",
    "Slicing the countries which have 0 mean for any variables as this is indicative of having no information. "
   ]
  },
  {
   "cell_type": "code",
   "execution_count": null,
   "metadata": {},
   "outputs": [],
   "source": [
    "data = pd.read_csv('regression_data_optimal.csv', index_col=0)\n",
    "# data[data.location=='United States'].new_cases_weighted.plot()"
   ]
  },
  {
   "cell_type": "markdown",
   "metadata": {},
   "source": [
    "# mae over time"
   ]
  },
  {
   "cell_type": "markdown",
   "metadata": {},
   "source": [
    "should likely slice countries which have not had sufficient amount of time of infection,\n",
    "do not have recorded values, and time_index < ~40 "
   ]
  },
  {
   "cell_type": "markdown",
   "metadata": {},
   "source": [
    "# Prediction without any normalization"
   ]
  },
  {
   "cell_type": "code",
   "execution_count": null,
   "metadata": {},
   "outputs": [],
   "source": [
    "data = pd.read_csv('regression_data.csv', index_col=0)"
   ]
  },
  {
   "cell_type": "code",
   "execution_count": null,
   "metadata": {},
   "outputs": [],
   "source": [
    "n_prune = 2\n",
    "mae_list_naive = []\n",
    "r2_list_naive = []\n",
    "mae_list_predict = []\n",
    "r2_list_predict = []\n",
    "# data = data[data.time_index >= first_day]\n",
    "model_data = data.iloc[:, n_prune:].copy()#.apply(lambda x : np.log(x+1))\n",
    "new_cases_index = column_search(model_data,'new_cases_weighted',threshold='match', return_style='iloc')[0]\n",
    "n_countries = data.location.nunique()\n",
    "target_data = data.new_cases_weighted\n",
    "time_index = data.time_index\n",
    "frame_size = 14\n",
    "start_date = frame_size + time_index.min()\n",
    "# start_date = 50\n",
    "n_validation_frames = 0\n",
    "n_test_frames = 1\n",
    "n_days_into_future = 1\n",
    "train_or_test = 'train'\n",
    "\n",
    "for max_date_in_window in range(start_date, time_index.max() - n_days_into_future + 2):\n",
    "    # Take all model_data with date proxy less than numerical value, leading_window_date_not_included\n",
    "    frame_data = model_data[(time_index < max_date_in_window) & \n",
    "                            (time_index >= max_date_in_window-frame_size)]\n",
    "    #     print(frame_data.shape)\n",
    "    # Reshape the array such that each element along axis=0 is a time series of all feature model_data of a specific country.\n",
    "    reshaped_frame_data = frame_data.values.reshape(n_countries, frame_size, -1)\n",
    "    #     print(reshaped_frame_data.shape)\n",
    "    # Truncate / pad the windows along the \"time\" axis, axis=1. (pad_sequences takes in an iterable of iterables;\n",
    "    # the first axis is always the default iteration axis. \n",
    "    # *********************** WARNING: pad_sequences converts to integers by default *********************\n",
    "    resized_frame_data = pad_sequences(reshaped_frame_data, maxlen=frame_size, dtype=np.float64)\n",
    "    frame_data_4D = resized_frame_data[np.newaxis, :, :, :]\n",
    "    if max_date_in_window == start_date:\n",
    "        X = frame_data_4D.copy()\n",
    "    else:\n",
    "        X = np.concatenate((X, frame_data_4D),axis=0)"
   ]
  },
  {
   "cell_type": "code",
   "execution_count": null,
   "metadata": {},
   "outputs": [],
   "source": [
    "y = target_data.values.reshape(-1, time_index.nunique()).transpose()[-X.shape[0]:,:]\n",
    "y_time_index = time_index.values.reshape(-1, time_index.nunique()).transpose()[-X.shape[0]:,:]\n",
    "\n",
    "X_train= X[:-n_test_frames,:,:,:]\n",
    "y_train =  y[:-n_test_frames,:]\n",
    "X_test = X[-n_test_frames:, :, :, :] \n",
    "y_test = y[-n_test_frames:, :]\n",
    "splits =  (X_train, y_train, X_test, y_test)\n",
    "y_train_time = y_time_index[:-n_test_frames,:]\n",
    "y_test_time = y_time_index[-n_test_frames:, :]\n",
    "\n",
    "\n",
    "X_train_model = np.concatenate(X_train.reshape(X_train.shape[0], X_train.shape[1], -1), axis=0)\n",
    "X_test_model = np.concatenate(X_test.reshape(X_test.shape[0], X_test.shape[1], -1), axis=0)\n",
    "y_train_model = y_train.ravel()\n",
    "y_test_model = y_test.ravel()\n",
    "\n",
    "\n",
    "model = Lasso(alpha=0.01, fit_intercept=False, max_iter=5000) \n",
    "\n",
    "_ = model.fit(X_train_model, y_train_model.ravel())\n",
    "\n",
    "if train_or_test == 'train':\n",
    "    y_true = y_train_model\n",
    "    y_naive = X_train[:, :, -1, new_cases_index].ravel()\n",
    "    _, y_predict, mae = classifier_analysis(model, X_train_model, \n",
    "                                                 y_train_model.ravel(), \n",
    "                                                 plot=False, metric='mae')\n",
    "else:\n",
    "    y_true = y_test\n",
    "    y_naive = X_test[:, :, -1, new_cases_index].ravel()\n",
    "    _, y_predict, mae = classifier_analysis(model, X_test_model,\n",
    "                                                 y_test.ravel(),\n",
    "                                                 plot=False, metric='mae')\n",
    "    \n",
    "\n",
    "print('There were {} negative predictions'.format(len(y_predict[y_predict<0])))\n",
    "y_predict[y_predict<0]=0\n",
    "\n",
    "\n",
    "mae_train_naive = mean_absolute_error(y_true.ravel(), y_naive.ravel())\n",
    "mae_predict = mean_absolute_error(y_true.ravel(), y_predict)\n",
    "r2_train_naive = explained_variance_score(y_true.ravel(), y_naive.ravel())\n",
    "r2_predict = explained_variance_score(y_true.ravel(), y_predict)\n",
    "\n",
    "print('{}-step MAE [Naive, Ridge Regression] = [{},{}]'.format(\n",
    "n_days_into_future, mae_train_naive, mae_predict))\n",
    "print('{}-step R^2 [Naive, Ridge Regression] = [{},{}]'.format(\n",
    "n_days_into_future, r2_train_naive, r2_predict))\n",
    "\n",
    "true_predict_plot(y_true.ravel(), y_naive.ravel(), y_predict)\n",
    "residual_diff_plots(y_true.ravel(), y_naive.ravel(), y_predict , n_days_into_future, data.location.nunique())"
   ]
  },
  {
   "cell_type": "code",
   "execution_count": null,
   "metadata": {},
   "outputs": [],
   "source": [
    "y = target_data.values.reshape(-1, time_index.nunique()).transpose()[-X.shape[0]:,:]\n",
    "y_time_index = time_index.values.reshape(-1, time_index.nunique()).transpose()[-X.shape[0]:,:]"
   ]
  },
  {
   "cell_type": "markdown",
   "metadata": {},
   "source": [
    "# Prediction with \"full\" (not time considerate) normalization"
   ]
  },
  {
   "cell_type": "markdown",
   "metadata": {},
   "source": [
    "The whole point of this next section is to see what kind of results we would get if I *accidentally did snoop the future* to serve as a red flag if comparable results are reached with the more complicated normalization methods"
   ]
  },
  {
   "cell_type": "code",
   "execution_count": null,
   "metadata": {
    "scrolled": false
   },
   "outputs": [],
   "source": [
    "# If MinMax is used then time index and days_since_first case are worthless\n",
    "#\n",
    "n_prune = 4\n",
    "# first_day = 80\n",
    "mae_list_naive = []\n",
    "r2_list_naive = []\n",
    "mae_list_predict = []\n",
    "r2_list_predict = []\n",
    "# data = data[data.time_index >= first_day]\n",
    "model_data = data.iloc[:, n_prune:].copy()#.apply(lambda x : np.log(x+1))\n",
    "new_cases_index = column_search(model_data,'new_cases_weighted',threshold='match', return_style='iloc')[0]\n",
    "n_countries = data.location.nunique()\n",
    "target_data = data.new_cases_weighted\n",
    "time_index = data.time_index\n",
    "frame_size = 14\n",
    "start_date = frame_size + time_index.min()\n",
    "# start_date = 50\n",
    "n_validation_frames = 0\n",
    "n_test_frames = 1\n",
    "n_days_into_future = 1\n",
    "train_or_test = 'train'\n",
    "\n",
    "for max_date_in_window in range(start_date, time_index.max() - n_days_into_future + 2):\n",
    "    # Take all model_data with date proxy less than numerical value, leading_window_date_not_included\n",
    "    frame_data = model_data[(time_index < max_date_in_window) & \n",
    "                            (time_index >= max_date_in_window-frame_size)]\n",
    "    #     print(frame_data.shape)\n",
    "    # Reshape the array such that each element along axis=0 is a time series of all feature model_data of a specific country.\n",
    "    reshaped_frame_data = frame_data.values.reshape(n_countries, frame_size, -1)\n",
    "    #     print(reshaped_frame_data.shape)\n",
    "    # Truncate / pad the windows along the \"time\" axis, axis=1. (pad_sequences takes in an iterable of iterables;\n",
    "    # the first axis is always the default iteration axis. \n",
    "    # *********************** WARNING: pad_sequences converts to integers by default *********************\n",
    "    resized_frame_data = pad_sequences(reshaped_frame_data, maxlen=frame_size, dtype=np.float64)\n",
    "    frame_data_4D = resized_frame_data[np.newaxis, :, :, :]\n",
    "    if max_date_in_window == start_date:\n",
    "        X = frame_data_4D.copy()\n",
    "    else:\n",
    "        X = np.concatenate((X, frame_data_4D),axis=0)\n",
    "\n",
    "\n",
    "y = target_data.values.reshape(-1, time_index.nunique()).transpose()[-X.shape[0]:,:]\n",
    "y_time_index = time_index.values.reshape(-1, time_index.nunique()).transpose()[-X.shape[0]:,:]\n",
    "# y = model_data.new_cases_weighted.values.reshape(-1, model_data.time_index.nunique()).transpose()[-X.shape[0]:,:]\n",
    "\n",
    "X_train= X[:-n_test_frames,:,:,:]\n",
    "y_train =  y[:-n_test_frames,:]\n",
    "X_test = X[-n_test_frames:, :, :, :] \n",
    "y_test = y[-n_test_frames:, :]\n",
    "splits =  (X_train, y_train, X_test, y_test)\n",
    "y_train_time = y_time_index[:-n_test_frames,:]\n",
    "y_test_time = y_time_index[-n_test_frames:, :]\n",
    "\n",
    "\n",
    "X_train_model = np.concatenate(X_train.reshape(X_train.shape[0], X_train.shape[1], -1), axis=0)\n",
    "X_test_model = np.concatenate(X_test.reshape(X_test.shape[0], X_test.shape[1], -1), axis=0)\n",
    "\n",
    "y_train = y_train.ravel()\n",
    "y_test = y_test.ravel()\n",
    "\n",
    "col_transformer = MinMaxScaler()\n",
    "_ = col_transformer.fit(X_train_model)\n",
    "X_train_model =  col_transformer.transform(X_train_model)\n",
    "X_test_model =  col_transformer.transform(X_test_model)\n",
    "\n",
    "model = Ridge(alpha=0.01, fit_intercept=False) \n",
    "_ = model.fit(X_train_model, y_train.ravel())\n",
    "\n",
    "if train_or_test == 'train':\n",
    "    y_true = y_train\n",
    "    y_naive = X_train[:, :, -1, new_cases_index].ravel()\n",
    "    _, y_predict, mae = classifier_analysis(model, X_train_model, \n",
    "                                                 y_train.ravel(), \n",
    "                                                 plot=False, metric='mae')\n",
    "else:\n",
    "    y_true = y_test\n",
    "    y_naive = X_test[:, :, -1, new_cases_index].ravel()\n",
    "    _, y_predict, mae = classifier_analysis(model, X_test_model,\n",
    "                                                 y_test.ravel(),\n",
    "                                                 plot=False, metric='mae')\n",
    "    \n",
    "# y_naive = X_train[:, :, -1, new_cases_index].ravel()\n",
    "# y_test_naive = X_test[:, :, -1, new_cases_index].ravel()\n",
    "\n",
    "print('There were {} negative predictions'.format(len(y_predict[y_predict<0])))\n",
    "y_predict[y_predict<0]=0\n",
    "\n",
    "\n",
    "mae_train_naive = mean_absolute_error(y_true.ravel(), y_naive.ravel())\n",
    "mae_predict = mean_absolute_error(y_true.ravel(), y_predict)\n",
    "r2_train_naive = explained_variance_score(y_true.ravel(), y_naive.ravel())\n",
    "r2_predict = explained_variance_score(y_true.ravel(), y_predict)\n",
    "\n",
    "print('{}-step MAE [Naive, Ridge Regression] = [{},{}]'.format(\n",
    "n_days_into_future, mae_train_naive, mae_predict))\n",
    "print('{}-step R^2 [Naive, Ridge Regression] = [{},{}]'.format(\n",
    "n_days_into_future, r2_train_naive, r2_predict))\n",
    "\n",
    "true_predict_plot(y_true.ravel(), y_naive.ravel(), y_predict)\n",
    "residual_diff_plots(y_true.ravel(), y_naive.ravel(), y_predict , n_days_into_future, data.location.nunique())"
   ]
  },
  {
   "cell_type": "markdown",
   "metadata": {},
   "source": [
    "With less normalization, the model predictions are less smooth; more accurately representing the true values. "
   ]
  },
  {
   "cell_type": "code",
   "execution_count": null,
   "metadata": {},
   "outputs": [],
   "source": [
    "plt.plot(y_true.ravel(), alpha=0.5)"
   ]
  },
  {
   "cell_type": "code",
   "execution_count": null,
   "metadata": {},
   "outputs": [],
   "source": [
    "plt.plot(y_predict, alpha=0.5)\n",
    "# plt.plot(y_true.ravel(), alpha=0.5)"
   ]
  },
  {
   "cell_type": "code",
   "execution_count": null,
   "metadata": {},
   "outputs": [],
   "source": [
    "y = data.loc[:, ['location', 'time_index', 'new_cases_weighted']].sort_values(by=['time_index','location'])\n",
    "\n",
    "y_test_naive = y[y.time_index.isin(np.unique(X_test[:,:,-1,0]))]\n",
    "y_test_naive\n",
    "\n",
    "y_train_naive = y[y.time_index.isin(np.unique(X_train[:,:,-1,0]))]\n",
    "y_train_naive\n",
    "\n",
    "y_test = y[y.time_index > y.time_index.max()-n_test_frames]#, :]\n",
    "y_test\n",
    "\n",
    "y_train = y[y.time_index <= y.time_index.max()-n_test_frames]#, :]\n",
    "y_train\n",
    "\n",
    "y_train_naive.new_cases_weighted.values - y_train.new_cases_weighted"
   ]
  },
  {
   "cell_type": "markdown",
   "metadata": {},
   "source": [
    "## For the scaling. Does the frame-wise (up to present date) capture the overall\n",
    "## trend but the in-frame scaling captures the seasonality?"
   ]
  },
  {
   "cell_type": "markdown",
   "metadata": {},
   "source": [
    "# Prediction with frame-wise scaling"
   ]
  },
  {
   "cell_type": "code",
   "execution_count": null,
   "metadata": {},
   "outputs": [],
   "source": [
    "data = pd.read_csv('regression_data_optimal.csv', index_col=0)"
   ]
  },
  {
   "cell_type": "code",
   "execution_count": null,
   "metadata": {},
   "outputs": [],
   "source": [
    "n_prune = 4\n",
    "first_day = 0\n",
    "\n",
    "mae_list_naive = []\n",
    "r2_list_naive = []\n",
    "mae_list_predict = []\n",
    "r2_list_predict = []\n",
    "data = data[data.time_index >= first_day]\n",
    "model_data = data.iloc[:, n_prune:].copy()#.apply(lambda x : np.log(x+1))\n",
    "n_features = model_data.shape[-1]\n",
    "new_cases_index = column_search(model_data,'new_cases_weighted',threshold='match', return_style='iloc')[0]\n",
    "n_countries = data.location.nunique()\n",
    "target_data = data.new_cases_weighted\n",
    "time_index = data.time_index\n",
    "frame_size = 14\n",
    "start_date = frame_size + time_index.min()\n",
    "n_validation_frames = 0\n",
    "n_test_frames = 1\n",
    "n_days_into_future = 1\n",
    "train_or_test = 'train'\n",
    "\n",
    "for max_date_in_window in range(start_date, time_index.max() - n_days_into_future + 2):\n",
    "    # Take all model_data with date proxy less than numerical value, leading_window_date_not_included\n",
    "    frame_data = model_data[(time_index < max_date_in_window) & \n",
    "                            (time_index >= max_date_in_window-frame_size)]\n",
    "    #     print(frame_data.shape)\n",
    "    # Reshape the array such that each element along axis=0 is a time series of all feature model_data of a specific country.\n",
    "    reshaped_frame_data = frame_data.values.reshape(n_countries, frame_size, -1)\n",
    "    #     print(reshaped_frame_data.shape)\n",
    "    # Truncate / pad the windows along the \"time\" axis, axis=1. (pad_sequences takes in an iterable of iterables;\n",
    "    # the first axis is always the default iteration axis. \n",
    "    # *********************** WARNING: pad_sequences converts to integers by default *********************\n",
    "    resized_frame_data = pad_sequences(reshaped_frame_data, maxlen=frame_size, dtype=np.float64)\n",
    "    frame_data_4D = resized_frame_data[np.newaxis, :, :, :]\n",
    "    if max_date_in_window == start_date:\n",
    "        X = frame_data_4D.copy()\n",
    "    else:\n",
    "        X = np.concatenate((X, frame_data_4D),axis=0)\n",
    "\n",
    "y = target_data.values.reshape(-1, time_index.nunique()).transpose()[-X.shape[0]:,:]\n",
    "y_time_index = time_index.values.reshape(-1, time_index.nunique()).transpose()[-X.shape[0]:,:]\n",
    "# y = model_data.new_cases_weighted.values.reshape(-1, model_data.time_index.nunique()).transpose()[-X.shape[0]:,:]\n",
    "\n",
    "X_train= X[:-n_test_frames,:,:,:]\n",
    "y_train =  y[:-n_test_frames,:]\n",
    "X_test = X[-n_test_frames:, :, :, :] \n",
    "y_test = y[-n_test_frames:, :]\n",
    "splits =  (X_train, y_train, X_test, y_test)\n",
    "y_train_time = y_time_index[:-n_test_frames,:]\n",
    "y_test_time = y_time_index[-n_test_frames:, :]"
   ]
  },
  {
   "cell_type": "markdown",
   "metadata": {},
   "source": [
    "# in-frame mean std"
   ]
  },
  {
   "cell_type": "code",
   "execution_count": null,
   "metadata": {},
   "outputs": [],
   "source": [
    "# for i in range(0, X_train_model.shape[0]):\n",
    "#     current_frame_mean = X_train_model[i,:,:,:].mean(axis=1)\n",
    "#     current_frame_std = X_train_model[i,:,:,:].std(axis=1)\n",
    "#     latest_mean_array = np.tile(current_frame_mean[np.newaxis, :, np.newaxis, :],(1,1,frame_size,1))\n",
    "#     latest_std_array = np.tile(current_frame_std[np.newaxis, :, np.newaxis, :],(1,1,frame_size,1))\n",
    "#     if i == 0:\n",
    "#         frame_only_mean_array = latest_mean_array\n",
    "#         frame_only_std_array = latest_std_array\n",
    "#     else:\n",
    "\n",
    "#         frame_only_mean_array = np.concatenate((frame_only_mean_array, \n",
    "#                                                latest_mean_array)\n",
    "#                                               ,axis=0)\n",
    "#         frame_only_std_array = np.concatenate((frame_only_std_array, \n",
    "#                                                latest_std_array)\n",
    "#                                               ,axis=0)\n",
    "        \n",
    "\n",
    "# frame_only_std_array[np.where(frame_only_std_array==0)]=1\n",
    "# X_train_model_model = (X_train_model - frame_only_mean_array) / frame_only_std_array\n",
    "# # Use the latest min and max for test scaling.\n",
    "\n",
    "# latest_std_array[np.where(latest_std_array==0)] = 1\n",
    "# X_test_model_model = (X_test_model - latest_mean_array) / latest_std_array\n",
    "\n",
    "# X_train_model_model = np.concatenate(X_train_model_model.reshape(X_train_model_model.shape[0], \n",
    "#                                                                      X_train_model_model.shape[1], -1), axis=0)\n",
    "# X_test_model_model = np.concatenate(X_test_model_model.reshape(X_test_model_model.shape[0], \n",
    "#                                                                    X_test_model_model.shape[1], -1), axis=0)\n",
    "\n",
    "# y_train_model = y_train.ravel()\n",
    "# y_test_model = y_test.ravel()"
   ]
  },
  {
   "cell_type": "markdown",
   "metadata": {},
   "source": [
    "# in-frame minmax"
   ]
  },
  {
   "cell_type": "code",
   "execution_count": null,
   "metadata": {},
   "outputs": [],
   "source": [
    "# for i in range(0, X_train.shape[0]):\n",
    "#     # find the minima and maxima of all features for all countries, ranging up to current frame and \n",
    "#     # each time step in the frame. \n",
    "#     current_frame_min = X_train[i,:,:,:].min(axis=1)\n",
    "#     current_frame_max = X_train[i,:,:,:].max(axis=1)\n",
    "#     latest_min_array = np.tile(current_frame_min[np.newaxis, :, np.newaxis, :],(1,1,frame_size,1))\n",
    "#     latest_max_array = np.tile(current_frame_max[np.newaxis, :, np.newaxis, :],(1,1,frame_size,1))\n",
    "#     if i == 0:\n",
    "#         frame_only_min_array = latest_min_array\n",
    "#         frame_only_max_array = latest_max_array\n",
    "#     else:\n",
    "\n",
    "#         frame_only_min_array = np.concatenate((frame_only_min_array, \n",
    "#                                                latest_min_array)\n",
    "#                                               ,axis=0)\n",
    "#         frame_only_max_array = np.concatenate((frame_only_max_array, \n",
    "#                                                latest_max_array)\n",
    "#                                               ,axis=0)\n",
    "        \n",
    "\n",
    "# frame_only_minmax_denominator = (frame_only_max_array-frame_only_min_array)\n",
    "# num_zeros_train = (frame_only_minmax_denominator==0).sum()\n",
    "\n",
    "# frame_only_minmax_denominator[np.where(frame_only_minmax_denominator==0)]=1\n",
    "# X_train_normalized = (X_train - frame_only_min_array) / frame_only_minmax_denominator\n",
    "# # Use the latest min and max for test scaling.\n",
    "\n",
    "# frame_only_denom_for_test = latest_max_array - latest_min_array\n",
    "# num_zeros_test = (frame_only_denom_for_test==0).sum()\n",
    "\n",
    "# frame_only_denom_for_test[np.where(frame_only_denom_for_test==0)] = 1\n",
    "# X_test_normalized = (X_test - latest_min_array) / frame_only_denom_for_test\n",
    "\n"
   ]
  },
  {
   "cell_type": "markdown",
   "metadata": {},
   "source": [
    "# History minmax"
   ]
  },
  {
   "cell_type": "code",
   "execution_count": null,
   "metadata": {},
   "outputs": [],
   "source": [
    "# for i in range(1, X_train.shape[0]+1):\n",
    "#     # find the minima and maxima of all features for all countries, ranging up to current frame and \n",
    "#     # each time step in the frame. \n",
    "#     up_to_current_frame_min = X_train[:i,:,:,:].min((0,2))\n",
    "#     up_to_current_frame_max = X_train[:i,:,:,:].max((0,2))\n",
    "#     latest_min_array = np.tile(up_to_current_frame_min[np.newaxis, :, np.newaxis, :],(1,1,frame_size,1))\n",
    "#     latest_max_array = np.tile(up_to_current_frame_max[np.newaxis, :, np.newaxis, :],(1,1,frame_size,1))\n",
    "#     if i == 1:\n",
    "#         frame_wise_min_array = latest_min_array\n",
    "#         frame_wise_max_array = latest_max_array\n",
    "#     else:\n",
    "\n",
    "#         frame_wise_min_array = np.concatenate((frame_wise_min_array, \n",
    "#                                                latest_min_array)\n",
    "#                                               ,axis=0)\n",
    "#         frame_wise_max_array = np.concatenate((frame_wise_max_array, \n",
    "#                                                latest_max_array)\n",
    "#                                               ,axis=0)\n",
    "        \n",
    "# frame_wise_minmax_denominator = (frame_wise_max_array-frame_wise_min_array)\n",
    "# num_zeros_train = (frame_wise_minmax_denominator==0).sum()\n",
    "# print('num zeros train', num_zeros_train)\n",
    "# frame_wise_minmax_denominator[np.where(frame_wise_minmax_denominator==0)]=1\n",
    "# X_train_normalized = (X_train - frame_wise_min_array) / frame_wise_minmax_denominator\n",
    "# # Use the latest min and max for test scaling.\n",
    "\n",
    "# frame_wise_denom_for_test = latest_max_array - latest_min_array\n",
    "# num_zeros_test = (frame_wise_denom_for_test==0).sum()\n",
    "\n",
    "# frame_wise_denom_for_test[np.where(frame_wise_denom_for_test==0)] = 1\n",
    "# X_test_normalized = (X_test - latest_min_array) / frame_wise_denom_for_test"
   ]
  },
  {
   "cell_type": "code",
   "execution_count": null,
   "metadata": {},
   "outputs": [],
   "source": [
    "X_train_model = np.concatenate(X_train_normalized.reshape(X_train_normalized.shape[0], \n",
    "                                                                     X_train_normalized.shape[1], -1), axis=0)\n",
    "X_test_model = np.concatenate(X_test_normalized.reshape(X_test_normalized.shape[0], \n",
    "                                                                   X_test_normalized.shape[1], -1), axis=0)\n",
    "\n",
    "y_train_model = y_train.ravel()\n",
    "y_test_model = y_test.ravel()\n",
    "\n",
    "# model = Ridge(fit_intercept=False, tol=1e-12) \n",
    "model = Ridge(tol=1e-6) \n",
    "\n",
    "# model = ElasticNet(positive=True, fit_intercept=False) \n",
    "\n",
    "_ = model.fit(X_train_model, y_train_model.ravel())\n",
    "\n",
    "train_or_test = 'train'\n",
    "if train_or_test == 'train':\n",
    "    y_true = y_train_model\n",
    "    _, y_predict, mae = classifier_analysis(model, X_train_model, \n",
    "                                                 y_train_model.ravel(), \n",
    "                                                 plot=False, metric='mae')\n",
    "else:\n",
    "    y_true = y_test\n",
    "    _, y_predict, mae = classifier_analysis(model, X_test_model,\n",
    "                                                 y_test.ravel(),\n",
    "                                                 plot=False, metric='mae')\n",
    "    \n",
    "y_train_naive = X_train[:, :, -1, new_cases_index].ravel()\n",
    "y_test_naive = X_test[:, :, -1, new_cases_index].ravel()\n",
    "\n",
    "y_train_naive = X_train[:,:,-1,new_cases_index].ravel()\n",
    "y_test_naive = X_test[:,:,-1,new_cases_index].ravel()\n",
    "\n",
    "print('There were {} negative predictions'.format(len(y_predict[y_predict<0])))\n",
    "y_predict[y_predict<0]=0\n",
    "\n",
    "\n",
    "mae_train_naive = mean_absolute_error(y_true.ravel(), y_train_naive.ravel())\n",
    "mae_predict = mean_absolute_error(y_true.ravel(), y_predict)\n",
    "r2_train_naive = explained_variance_score(y_true.ravel(), y_train_naive.ravel())\n",
    "r2_predict = explained_variance_score(y_true.ravel(), y_predict)\n",
    "\n",
    "print('{}-step MAE [Naive, Ridge Regression] = [{},{}]'.format(\n",
    "n_days_into_future, mae_train_naive, mae_predict))\n",
    "print('{}-step R^2 [Naive, Ridge Regression] = [{},{}]'.format(\n",
    "n_days_into_future, r2_train_naive, r2_predict))\n",
    "\n",
    "true_predict_plot(y_true.ravel(), y_train_naive.ravel(), y_predict)\n",
    "residual_diff_plots(y_true.ravel(), y_train_naive.ravel(), y_predict , n_days_into_future, data.location.nunique())"
   ]
  },
  {
   "cell_type": "code",
   "execution_count": null,
   "metadata": {},
   "outputs": [],
   "source": [
    "data = pd.read_csv('regression_data_optimal.csv', index_col=0)"
   ]
  },
  {
   "cell_type": "code",
   "execution_count": null,
   "metadata": {},
   "outputs": [],
   "source": [
    "plt.plot(X_train_model[:,119,-1,new_cases_index])\n",
    "plt.plot(y_train_naive[:,119])\n",
    "plt.plot(y_train[:,119])\n",
    "plt.plot(y_train_model[:,119])"
   ]
  },
  {
   "cell_type": "markdown",
   "metadata": {},
   "source": [
    "# history minmax"
   ]
  },
  {
   "cell_type": "code",
   "execution_count": null,
   "metadata": {},
   "outputs": [],
   "source": [
    "y_test_model[np.where(y_test_model<0)] = 0 \n",
    "y_train_model[np.where(y_train_model<0)] = 0 \n",
    "\n",
    "for i in range(1, X_train_model.shape[0]+1):\n",
    "    # find the minima and maxima of all features for all countries, ranging up to current frame and \n",
    "    # each time step in the frame. \n",
    "    up_to_current_frame_min = X_train_model[:i,:,:,:].min((0,2))\n",
    "    up_to_current_frame_max = X_train_model[:i,:,:,:].max((0,2))\n",
    "    latest_min_array = np.tile(up_to_current_frame_min[np.newaxis, :, np.newaxis, :],(1,1,frame_size,1))\n",
    "    latest_max_array = np.tile(up_to_current_frame_max[np.newaxis, :, np.newaxis, :],(1,1,frame_size,1))\n",
    "    if i == 1:\n",
    "        frame_min_array = latest_min_array\n",
    "        frame_max_array = latest_max_array\n",
    "    else:\n",
    "\n",
    "        frame_min_array = np.concatenate((frame_min_array, \n",
    "                                               latest_min_array)\n",
    "                                              ,axis=0)\n",
    "        frame_max_array = np.concatenate((frame_max_array, \n",
    "                                               latest_max_array)\n",
    "                                              ,axis=0)\n",
    "        \n",
    "frame_minmax_denominator = (frame_max_array-frame_min_array)\n",
    "num_zeros_train = (frame_minmax_denominator==0).sum()\n",
    "\n",
    "frame_minmax_denominator[np.where(frame_minmax_denominator==0)]=1\n",
    "X_train_model = (X_train_model - frame_min_array) / frame_minmax_denominator\n",
    "# Use the latest min and max for test scaling.\n",
    "\n",
    "frame_denom_for_test = latest_max_array - latest_min_array\n",
    "num_zeros_test = (frame_denom_for_test==0).sum()\n",
    "\n",
    "frame_denom_for_test[np.where(frame_denom_for_test==0)] = 1\n",
    "X_test_model = (X_test_model - latest_min_array) / frame_denom_for_test\n",
    "X_train_model_copy = X_train_model.copy()\n"
   ]
  },
  {
   "cell_type": "code",
   "execution_count": null,
   "metadata": {},
   "outputs": [],
   "source": [
    "y_train_model = (y_train - frame_min_array[:, :, -1, new_cases_index]) / frame_minmax_denominator[:,:,-1,new_cases_index]\n",
    "y_test_model= (y_test - latest_min_array[:, :, -1, new_cases_index]) / frame_denom_for_test[:,:,-1,new_cases_index]"
   ]
  },
  {
   "cell_type": "markdown",
   "metadata": {},
   "source": [
    "# y-scaling"
   ]
  },
  {
   "cell_type": "code",
   "execution_count": null,
   "metadata": {},
   "outputs": [],
   "source": [
    "y_train_naive = X_train[:, :, -1, new_cases_index].ravel()\n",
    "y_test_naive = X_test[:, :, -1, new_cases_index].ravel()\n",
    "y_train = y_train_model\n",
    "y_test = y_test_model\n",
    "\n",
    "y_train_model = ((y_train_model - frame_min_array[:, :, -1, new_cases_index]) \n",
    "                       / frame_minmax_denominator[:,:,-1,new_cases_index])\n",
    "y_test_model = ((y_test_model - latest_min_array[:, :, -1, new_cases_index]) \n",
    "                      / frame_denom_for_test[:,:,-1,new_cases_index])\n",
    "\n",
    "y_test_model[np.where(y_test_model<0)] = 0 \n",
    "y_train_model[np.where(y_train_model<0)] = 0 "
   ]
  },
  {
   "cell_type": "code",
   "execution_count": null,
   "metadata": {},
   "outputs": [],
   "source": [
    "\n",
    "X_train = np.concatenate(X_train_model.reshape(X_train_model.shape[0], \n",
    "                                                                     X_train_model.shape[1], -1), axis=0)\n",
    "X_test = np.concatenate(X_test_model.reshape(X_test_model.shape[0], \n",
    "                                                                   X_test_model.shape[1], -1), axis=0)\n",
    "\n",
    "model = Ridge(tol=1e-6) \n",
    "\n",
    "# model = ElasticNet(positive=True, fit_intercept=False) \n",
    "\n",
    "_ = model.fit(X_train, y_train.ravel())\n",
    "\n",
    "train_or_test = 'train'\n",
    "if train_or_test == 'train':\n",
    "    y_true = y_train\n",
    "    _, y_predict, mae = classifier_analysis(model, X_train, \n",
    "                                                 y_train.ravel(), \n",
    "                                                 plot=False, metric='mae')\n",
    "else:\n",
    "    y_true = y_test\n",
    "    _, y_predict, mae = classifier_analysis(model, X_test,\n",
    "                                                 y_test.ravel(),\n",
    "                                                 plot=False, metric='mae')\n",
    "    \n",
    "\n",
    "\n",
    "print('There were {} negative predictions'.format(len(y_predict[y_predict<0])))\n",
    "y_predict[y_predict<0]=0\n",
    "\n",
    "\n",
    "mae_train_naive = mean_absolute_error(y_true.ravel(), y_train_naive.ravel())\n",
    "mae_predict = mean_absolute_error(y_true.ravel(), y_predict)\n",
    "r2_train_naive = explained_variance_score(y_true.ravel(), y_train_naive.ravel())\n",
    "r2_predict = explained_variance_score(y_true.ravel(), y_predict)\n",
    "\n",
    "print('{}-step MAE [Naive, Ridge Regression] = [{},{}]'.format(\n",
    "n_days_into_future, mae_train_naive, mae_predict))\n",
    "print('{}-step R^2 [Naive, Ridge Regression] = [{},{}]'.format(\n",
    "n_days_into_future, r2_train_naive, r2_predict))\n",
    "\n",
    "true_predict_plot(y_true.ravel(), y_train_naive.ravel(), y_predict)\n",
    "residual_diff_plots(y_true.ravel(), y_train_naive.ravel(), y_predict , n_days_into_future, data.location.nunique())"
   ]
  },
  {
   "cell_type": "markdown",
   "metadata": {},
   "source": [
    "First two column of X_train is the minimum of the time index and days_since_first_case of each frame, meaning that they will have been normalized to 0, always. Drop these columns as they are literally just 0's."
   ]
  },
  {
   "cell_type": "code",
   "execution_count": null,
   "metadata": {},
   "outputs": [],
   "source": [
    "X_train_normalized_model[:,0].sum()"
   ]
  },
  {
   "cell_type": "markdown",
   "metadata": {},
   "source": [
    "when collapsing the last axis with reshape, the format I had in mind the columns would be grouped by time but instead I think they're grouped by feature. If grouped by feature then the first 14 rows should be "
   ]
  },
  {
   "cell_type": "markdown",
   "metadata": {},
   "source": [
    "zeroth column is time index."
   ]
  },
  {
   "cell_type": "markdown",
   "metadata": {},
   "source": [
    "If concatenate is doing what I think it is, it should be sorted by time_index then country. i.e. the -n_country row is the last row of the first country, with time_steps and features contracted. this is indeed what is happening, so in the final 2d array,\n",
    "the first n_countries rows corresponds to the first frame, and the columns are the features at the different time steps (a total of time steps equals ```frame_size```). s.t. X_train looks like the following\n",
    "\n",
    "    n_countries @ frame=frame_size, frame [n_features(t=0),n_features(t=1),...,n_features(t=frame_size)]\n",
    "    n_countries @ frame=frame_size+1, frame [n_features(t=1),n_features(t=2),...,n_features(t=frame_size+1)]\n",
    "    n_countries @ frame=frame_size+1, frame [n_features(t=1),n_features(t=2),...,n_features(t=frame_size+1)]\n",
    "    n_countries @ frame=present_date-n_days_into_future- n_test_frames  [n_features(t=1),n_features(t=2),...,n_features(t=frame_size+1)]\n",
    "    \n",
    "The normalization only occurs with respect to the dates inside the frame, i.e. each *row* of the final array."
   ]
  },
  {
   "cell_type": "code",
   "execution_count": null,
   "metadata": {},
   "outputs": [],
   "source": [
    "y_train_model = (y_train- frame_wise_min_array[:, :, -1, 2]) / frame_wise_minmax_denominator[:,:,-1,2]\n",
    "y_test_model= (y_test - latest_min_array[:, :, -1, 2]) / frame_wise_denom_for_test[:,:,-1,2]"
   ]
  },
  {
   "cell_type": "code",
   "execution_count": null,
   "metadata": {},
   "outputs": [],
   "source": [
    "# (X_train, y_train, X_test, y_test) = splits\n",
    "\n",
    "# y_train_naive_time_index =  X_train[:, :, -1, 0]\n",
    "# y_train_naive = X_train[:, :, -1, new_cases_index]\n",
    "\n",
    "# y_test_naive_time_index =  X_test[:, :, -1, 0]\n",
    "# y_test_naive = X_test[:, :, -1, new_cases_index]\n",
    "\n",
    "# y_train_naive = X_train[:, :, -1, new_cases_index]\n",
    "# y_test_naive = X_test[:, :, -1, new_cases_index]"
   ]
  },
  {
   "cell_type": "markdown",
   "metadata": {},
   "source": [
    "In order to normalize in a consistent manner, need to find the min and max for each country and each feature up until that point in time. "
   ]
  },
  {
   "cell_type": "code",
   "execution_count": null,
   "metadata": {},
   "outputs": [],
   "source": [
    "# tile_shape = np.array(np.array(X.shape) / np.array(X_min.shape), dtype=int)\n",
    "# denominator = np.tile(X_max, tile_shape) - np.tile(X_min, tile_shape)\n",
    "# denominator[denominator==0] = 1\n",
    "# X_scaled = (X - np.tile(X_min, tile_shape)) / denominator"
   ]
  },
  {
   "cell_type": "markdown",
   "metadata": {},
   "source": [
    "This takes the minima of each feature of each country up to current frame's end date. Need copies for each day in frame, but\n",
    "only one frame value i.e."
   ]
  },
  {
   "cell_type": "code",
   "execution_count": null,
   "metadata": {},
   "outputs": [],
   "source": [
    "# y_true.new_cases_weighted.values.ravel(), y_train_naive.new_cases_weighted.values.ravel(), y_predict = ys\n",
    "\n",
    "print('There were {} negative predictions'.format(len(y_predict[y_predict<0])))\n",
    "y_predict[y_predict<0]=0\n",
    "\n",
    "\n",
    "mae_train_naive = mean_absolute_error(y_true.new_cases_weighted.values.ravel(), y_train_naive.new_cases_weighted.values.ravel())\n",
    "mae_predict = mean_absolute_error(y_true.new_cases_weighted.values.ravel(), y_predict)\n",
    "r2_train_naive = explained_variance_score(y_true.new_cases_weighted.values.ravel(), y_train_naive.new_cases_weighted.values.ravel())\n",
    "r2_predict = explained_variance_score(y_true.new_cases_weighted.values.ravel(), y_predict)\n",
    "\n",
    "print('{}-step MAE [Naive, Ridge Regression] = [{},{}]'.format(\n",
    "n_days_into_future, mae_train_naive, mae_predict))\n",
    "print('{}-step R^2 [Naive, Ridge Regression] = [{},{}]'.format(\n",
    "n_days_into_future, r2_train_naive, r2_predict))\n",
    "\n",
    "true_predict_plot(y_true.new_cases_weighted.values.ravel(), y_train_naive.new_cases_weighted.values.ravel(), y_predict)\n",
    "residual_diff_plots(y_true.new_cases_weighted.values.ravel(), y_train_naive.new_cases_weighted.values.ravel(), y_predict , n_days_into_future, data.location.nunique())"
   ]
  },
  {
   "cell_type": "markdown",
   "metadata": {},
   "source": [
    "X time index goes from 0 to max-n_days_into_future. \n",
    "\n",
    "first slice of X goes from 0:n_days_into_future (non-inclusive), i.e. 13. Therefore, the first prediction being made\n",
    "is t=27. Therefore, the first row of y_train equals X[27,:,0,2]\n",
    "\n",
    "X slices. start at 0, end at n_days_into_future - 1.\n",
    "\n",
    "so X[14] corresponds to n_days_into_future - 1 + 14 = 27\n",
    "\n",
    "X's rows correspond to the minimum time_index (starting from 0) value. so X[13] is 13,14,....26. "
   ]
  },
  {
   "cell_type": "code",
   "execution_count": null,
   "metadata": {},
   "outputs": [],
   "source": [
    "(X_train, y_train, X_test, y_test) = splits\n",
    "\n",
    "y_train_naive = X_train[:,:,-1,2]\n",
    "y_test_naive = X_test[:,:,-1,2]"
   ]
  },
  {
   "cell_type": "code",
   "execution_count": null,
   "metadata": {},
   "outputs": [],
   "source": [
    "X_train = np.concatenate(X_train.reshape(X_train.shape[0], X_train.shape[1], -1), axis=0)\n",
    "X_test = np.concatenate(X_test.reshape(X_test.shape[0], X_test.shape[1], -1), axis=0)\n",
    "y_train = y_train.ravel()\n",
    "y_test = y_test.ravel()"
   ]
  },
  {
   "cell_type": "code",
   "execution_count": null,
   "metadata": {},
   "outputs": [],
   "source": [
    "y_train_naive[14,26]"
   ]
  },
  {
   "cell_type": "code",
   "execution_count": null,
   "metadata": {},
   "outputs": [],
   "source": [
    "y_train.reshape(-1, n_countries)[0,26]"
   ]
  },
  {
   "cell_type": "markdown",
   "metadata": {},
   "source": [
    "question for mike, each of the shifted variables is being treated as feature, should they be normalized separately...? or normalized before the shift."
   ]
  },
  {
   "cell_type": "markdown",
   "metadata": {},
   "source": [
    "need the naive values, which are the values n_days_into_future before y_train rows. To see that this is true, look at\n",
    "time_index + n_days_into_future rows. of X. i.e. first row of y is time==n_days_into_future for X."
   ]
  },
  {
   "cell_type": "markdown",
   "metadata": {},
   "source": [
    "y_train[t,c] = X[t+n_days_into_future, c, 0, 2] OR \n",
    "\n",
    "y_train[t,c] = X[t+1, c, -1, 2]\n",
    "\n",
    "y_train[0, 26] = X[14,26,-1,2] = X[27,26,0,2]"
   ]
  },
  {
   "cell_type": "markdown",
   "metadata": {},
   "source": [
    "I think minmaxing each frame might actually be really dumb."
   ]
  },
  {
   "cell_type": "markdown",
   "metadata": {},
   "source": [
    "# old way of modeling, single day single prediction"
   ]
  },
  {
   "cell_type": "code",
   "execution_count": null,
   "metadata": {},
   "outputs": [],
   "source": [
    "train_or_test = 'train'\n",
    "n_test_days = 1\n",
    "n_days_into_future = 14\n",
    "n_prune = 4\n",
    "# X has already been shifted by n_days_into future, so the last day in X is predicting that last day + n_days_into_future. \n",
    "#     y_naive = X.new_cases_weighted[X.time_index > X.time_index.max() - n_days_into_future]\n",
    "n_countries = data.location.nunique()\n",
    "model_data = full_data\n",
    "# model_data = data.drop(columns=column_search(data, 'test'))\n",
    "\n",
    "chronological_data = model_data.sort_values(by=['time_index','location'])\n",
    "\n",
    "X = chronological_data[(chronological_data.time_index \n",
    "                        <=  chronological_data.time_index.max() - n_days_into_future)].reset_index(drop=True)\n",
    "\n",
    "y = chronological_data[(chronological_data.time_index  \n",
    "                        >= n_days_into_future)].loc[:, ['time_index','new_cases_weighted']].reset_index(drop=True)\n",
    "\n",
    "# X = X[(X.days_since_first_case > 0) & (X.time_index > 40)]\n",
    "# X = X[(X.days_since_first_case > 0)]\n",
    "# X = X[X.time_index > 40]\n",
    "\n",
    "y = y.loc[X.index,:]\n",
    "train_indices = X[X.time_index <= X.time_index.max() - n_test_days].index\n",
    "test_indices = X[X.time_index > X.time_index.max() - n_test_days].index"
   ]
  },
  {
   "cell_type": "code",
   "execution_count": null,
   "metadata": {},
   "outputs": [],
   "source": [
    "pd.DataFrame(data[data.time_index.isin(list(range(7)))].values.reshape(-1, 7*24))\n",
    "\n",
    "data.set_index('time_index')#.transpose()#[list(range(7))]#.transpose()\n",
    "\n",
    "chronological_data.set_index('time_index').transpose()[list(range(7))].transpose()\n",
    "\n",
    "chronological_data.set_index('time_index').transpose()"
   ]
  },
  {
   "cell_type": "code",
   "execution_count": null,
   "metadata": {},
   "outputs": [],
   "source": [
    "# 2 slices date, location, 4 slices date,location,time_index, days_since_first_case\n",
    "\n",
    "X_train = X.loc[train_indices, :]#.apply(lambda x : np.log(x+1))\n",
    "y_train = y.loc[train_indices,['time_index','new_cases_weighted']]\n",
    "\n",
    "X_test = X.loc[test_indices,:]#.apply(lambda x : np.log(x+1))\n",
    "y_test =  y.loc[test_indices,['time_index','new_cases_weighted']]#.values.ravel()\n",
    "\n",
    "# if train_or_test == 'train':\n",
    "y_train_naive = X_train.loc[:, ['time_index','new_cases_weighted']]\n",
    "# else:\n",
    "y_test_naive = X_test.loc[:, ['time_index','new_cases_weighted']]\n",
    "X_train = X_train.iloc[:,n_prune:]\n",
    "X_test = X_test.iloc[:,n_prune:]\n",
    "col_transformer = MinMaxScaler()\n",
    "_ = col_transformer.fit(X_train)\n",
    "X_train_normalized =  col_transformer.transform(X_train)\n",
    "X_test_normalized =  col_transformer.transform(X_test)"
   ]
  },
  {
   "cell_type": "markdown",
   "metadata": {},
   "source": [
    "To compute new rolling means, take new drift feature values, concatenate with those in training, and then roll.\n",
    "Need to reintroduce indexes however to sort the values correctly. "
   ]
  },
  {
   "cell_type": "markdown",
   "metadata": {},
   "source": [
    "baseline_time_series"
   ]
  },
  {
   "cell_type": "markdown",
   "metadata": {},
   "source": [
    "# COVID-19 Case number modeling with no new features.\n",
    "<a id='model'></a>\n",
    "[Return to table of contents](#toc)\n",
    "\n",
    "The first segment of the modeling process takes the \"original\" data, reformatted as per the\n",
    "data cleaning notebook and then performs the necessary operations to encode the categorical variables.\n",
    "The target variable is assigned to be the number of cases and the pipeline for the modeling process is as\n",
    "follows (current iteration):\n",
    "    \n",
    "    1. Encode data, split into feature and target data.\n",
    "    2. Create cross validation folds; split into train-test and holdout data sets. \n",
    "    2. Normalize the feature data via sklearn's StandardScaler. \n",
    "    3. Perform PCA on the normalized feature data\n",
    "    4. Apply Ridge regression on the normalized, PCA transformed data. "
   ]
  },
  {
   "cell_type": "markdown",
   "metadata": {},
   "source": [
    "# Single step predictions\n",
    "\n",
    "Need location for groupby indices, but date and date proxy I do not think are useful currently. "
   ]
  },
  {
   "cell_type": "markdown",
   "metadata": {},
   "source": [
    "Create cross validation folds which respect the time-series dates."
   ]
  },
  {
   "cell_type": "markdown",
   "metadata": {},
   "source": [
    "Instead of flailing about let's actually type out how to do this.\n",
    "\n",
    "Steps that need to be completed.\n",
    "\n",
    "    Target variable shifting.\n",
    "    CV folds\n",
    "    Feature encoding\n",
    "    "
   ]
  },
  {
   "cell_type": "markdown",
   "metadata": {},
   "source": [
    "Get the indices which correspond to each country, prior to shifting the target variable time series.\n",
    "Assign target and feature variable arrays prior to shifting the target variable.\n",
    "I don't think dropping the case data is actually necessary so long as the time series aspect is respected.\n",
    "Get the data ready for training"
   ]
  },
  {
   "cell_type": "markdown",
   "metadata": {},
   "source": [
    "Collect the indices which correspond to each country."
   ]
  },
  {
   "cell_type": "markdown",
   "metadata": {},
   "source": [
    "Shift the target variable by one so that the feature data up until day n-1 is predicting the target variable at day n.\n",
    "In other words, train on data which is up to but not including the date of prediction. \n",
    "\n",
    "What Mike said:\n",
    "\n",
    "X_train ......................................... y_train\n",
    "\n",
    "DATA UP TO AND INCLUDING 2020-05-01 ............. TARGET ON 2020-05-02\n",
    "\n",
    "This does not predict the first day and does not include the data on the last day. \n",
    "Therefore the correct operation is to group by country, shift the target by -1 and drop the last day of data (drop NaN)."
   ]
  },
  {
   "cell_type": "markdown",
   "metadata": {},
   "source": [
    "Shift the target data so that its suited to prediction."
   ]
  },
  {
   "cell_type": "markdown",
   "metadata": {},
   "source": [
    "Slice and rename variables X,y "
   ]
  },
  {
   "cell_type": "markdown",
   "metadata": {},
   "source": [
    "Each countries' indices except minus the last day. "
   ]
  },
  {
   "cell_type": "markdown",
   "metadata": {},
   "source": [
    "Create CV folds....unused other than train/test split."
   ]
  },
  {
   "cell_type": "markdown",
   "metadata": {},
   "source": [
    "I split the data in 7 folds, but use the first 6 as a training and the 7th as a testing set."
   ]
  },
  {
   "cell_type": "markdown",
   "metadata": {},
   "source": [
    "Cast bool features as int, one-hot encode the categorical (object) features."
   ]
  },
  {
   "cell_type": "markdown",
   "metadata": {},
   "source": [
    "Assign target variable and remove the corresponding variables from the regressors"
   ]
  },
  {
   "cell_type": "markdown",
   "metadata": {},
   "source": [
    "Split between traintest (Cross validation, currently used simply as a 1-fold training set)\n",
    "and holdout (final testing)."
   ]
  },
  {
   "cell_type": "markdown",
   "metadata": {},
   "source": [
    "Fit the StandardScaler() transformer instance with the training data, only applied to the continuous, time dependent\n",
    "numerical features "
   ]
  },
  {
   "cell_type": "markdown",
   "metadata": {},
   "source": [
    "<!-- For every date, need a prediction. For every date need to scale/do pca.\n",
    "therefore everything is a for looop around the date.  -->"
   ]
  },
  {
   "cell_type": "markdown",
   "metadata": {},
   "source": [
    "Generate predictors from drift, naive strategies. "
   ]
  },
  {
   "cell_type": "markdown",
   "metadata": {},
   "source": [
    "# 7 day step predictions\n"
   ]
  },
  {
   "cell_type": "markdown",
   "metadata": {},
   "source": [
    "day 1 to predict day 8\n",
    "day 1-2 to predict day 9\n",
    "days 1-3 to predict day 10 ----> shift -7"
   ]
  },
  {
   "cell_type": "markdown",
   "metadata": {},
   "source": [
    "Create the target variable, the change in the amount of daily new cases (today new cases per million - yesterday new cases per million). Store the \"present values\" as a predictor, but then shift the values by a week, to get the target variable. Due to the usage of first order finite difference to calculate the change, it is not defined for the first day of the time series, and the target variables are not defined for dates within 7 days, as their 7 day futures do not exist yet. "
   ]
  },
  {
   "cell_type": "markdown",
   "metadata": {},
   "source": [
    "Is it better to predict the smoothed quantity, or use the smoothed quantity to predict the jagged quantity. "
   ]
  },
  {
   "cell_type": "code",
   "execution_count": null,
   "metadata": {},
   "outputs": [],
   "source": [
    "fold_size = 7\n",
    "folds = [X.date.unique()[fold_size*i:fold_size*(i+1)] for i in range(1 + len(X.date.unique())//fold_size)]\n",
    "folds_indices = [X[X.date.isin(fold)].index for fold in folds]\n",
    "folds_series = pd.Series(folds_indices).to_frame(name='folds')\n",
    "\n",
    "fold_indices = folds_series.values.flatten()[:-2]\n",
    "test_indices = folds_series.values.flatten()[-2:]\n",
    "test_indices = test_indices[0].append(test_indices[1]).sort_values()\n",
    "\n",
    "train_indices = fold_indices[0]\n",
    "for indices in fold_indices[1:]:\n",
    "    train_indices = full_index.union(indices)\n",
    "\n",
    "for i, epochs in enumerate(folds_series.values.flatten()):\n",
    "    start, end = model_data.loc[epochs, 'date'].min(), model_data.loc[epochs, 'date'].max()\n",
    "    print('Epoch {} spans the dates {} to {}'.format(i,start,end))"
   ]
  },
  {
   "cell_type": "code",
   "execution_count": null,
   "metadata": {},
   "outputs": [],
   "source": [
    "start, end = model_data.loc[train_indices, 'date'].min(), model_data.loc[train_indices, 'date'].max()\n",
    "print('Training data spans the dates {} to {}'.format(start,end))"
   ]
  },
  {
   "cell_type": "code",
   "execution_count": null,
   "metadata": {},
   "outputs": [],
   "source": [
    "start, end = model_data.loc[test_indices, 'date'].min(), model_data.loc[test_indices, 'date'].max()\n",
    "print('Testing data spans the dates {} to {}'.format(start, end))"
   ]
  },
  {
   "cell_type": "markdown",
   "metadata": {},
   "source": [
    "The date of predictions range from (initial date) + 7  to (final date) + 7. "
   ]
  },
  {
   "cell_type": "markdown",
   "metadata": {},
   "source": [
    "Clearly biased as true value increases. "
   ]
  },
  {
   "cell_type": "markdown",
   "metadata": {},
   "source": [
    "Warning raised because the first prediction uses only 1 day's data."
   ]
  },
  {
   "cell_type": "markdown",
   "metadata": {},
   "source": [
    "Likewise, fit the PCA() transformer instance with the training data then apply it\n",
    "to both the training and holdout sets."
   ]
  },
  {
   "cell_type": "markdown",
   "metadata": {},
   "source": [
    "Finally, fit Ridge regression model to the training data, and test it with the holdout set."
   ]
  },
  {
   "cell_type": "markdown",
   "metadata": {},
   "source": [
    "I think I'm messing up how to actually train test split; mike seems to indicate that for every prediction, the model is trained\n",
    "on all but one day. "
   ]
  },
  {
   "cell_type": "markdown",
   "metadata": {},
   "source": [
    "These results vastly exceeded my expectations (with respect to the explained variance score). \n",
    "**I am making a large mistake of including the variables from the future like deaths, active, recovered, etc. This model is not predicting the future.**\n",
    "\n",
    "The predicted vs. the actual\n",
    "value has two key patterns which stand out; namely, the underestimation of very large values and the overestimation of intermediate values (from one-hundred and fifth to two-hundred thousand). I think this is due to the nature of the case number time series. Looking to a one dimensional sigmoid curve as a crude example. This function is motivated by simple epidemiological models as a crude approximation for expected behavior. My model seems to imply that the larger values indicate that the spread of COVID is past the inflection point present in the sigmoid function."
   ]
  },
  {
   "cell_type": "markdown",
   "metadata": {},
   "source": [
    "Therefore, the Ridge regression predictions sort of make sense as the asymptotic behavior of the sigmoid curve\n",
    "has not yet begun."
   ]
  },
  {
   "cell_type": "markdown",
   "metadata": {},
   "source": [
    "# COVID-19 Case number modeling with new features.\n",
    "<a id='modelplus'></a>\n",
    "[Return to table of contents](#toc)\n",
    "\n",
    "Repeat the modeling steps above, applied to the dataset which calculated many different moving averages. "
   ]
  },
  {
   "cell_type": "markdown",
   "metadata": {},
   "source": [
    "Next, I look at the effect of the number of PCA components"
   ]
  },
  {
   "cell_type": "markdown",
   "metadata": {},
   "source": [
    "Looking at the plot of explained variance versus number of PCA components I believe it is fairly obvious that\n",
    "there is something wrong. I believe it's because I'm using different facets of the case number (deaths, active cases, number recovered) in the prediction."
   ]
  },
  {
   "cell_type": "markdown",
   "metadata": {},
   "source": [
    "Plot of explained variance score as a function of the features included; to see which features have the most effect."
   ]
  },
  {
   "cell_type": "code",
   "execution_count": null,
   "metadata": {},
   "outputs": [],
   "source": []
  },
  {
   "cell_type": "markdown",
   "metadata": {},
   "source": [
    "This is not doing what I want. This is saying given I know the number of deaths/active cases/number recovered I can infer how many confirmed cases there were. This is not the same as predicting future numbers of cases. i.e. this is not plugging in a date (or days since first infection) and getting a number out.... "
   ]
  }
 ],
 "metadata": {
  "kernelspec": {
   "display_name": "Python 3",
   "language": "python",
   "name": "python3"
  },
  "language_info": {
   "codemirror_mode": {
    "name": "ipython",
    "version": 3
   },
   "file_extension": ".py",
   "mimetype": "text/x-python",
   "name": "python",
   "nbconvert_exporter": "python",
   "pygments_lexer": "ipython3",
   "version": "3.7.6"
  }
 },
 "nbformat": 4,
 "nbformat_minor": 4
}
