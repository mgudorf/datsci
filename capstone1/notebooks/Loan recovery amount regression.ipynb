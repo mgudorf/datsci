{
 "cells": [
  {
   "cell_type": "code",
   "execution_count": 1,
   "metadata": {},
   "outputs": [],
   "source": [
    "import pandas as pd\n",
    "import numpy as np\n",
    "import matplotlib.pyplot as plt\n",
    "import seaborn as sns\n",
    "import sys, os\n",
    "import matplotlib.pyplot as plt\n",
    "from sklearn.model_selection import train_test_split\n",
    "from sklearn import preprocessing\n",
    "from sklearn.linear_model import Ridge, LinearRegression, Lasso, ElasticNet, SGDRegressor\n",
    "from sklearn.model_selection import GridSearchCV, cross_val_score, KFold, cross_validate\n",
    "from sklearn.metrics import mean_squared_error, r2_score, explained_variance_score\n",
    "from sklearn.svm import SVC\n",
    "from sklearn.preprocessing import scale, StandardScaler, MinMaxScaler, QuantileTransformer\n",
    "from sklearn.preprocessing import KBinsDiscretizer, OneHotEncoder, Binarizer\n",
    "from sklearn.compose import ColumnTransformer\n",
    "from sklearn.feature_selection import RFE, RFECV\n",
    "from sklearn.decomposition import PCA, SparsePCA\n",
    "from sklearn.pipeline import Pipeline\n",
    "from joblib import Parallel, delayed\n",
    "import itertools\n"
   ]
  },
  {
   "cell_type": "markdown",
   "metadata": {},
   "source": [
    "# Capital loss prevention : recovered capital prediction"
   ]
  },
  {
   "cell_type": "markdown",
   "metadata": {},
   "source": [
    "To begin the analysis of the regression of the amount of capital recovered from charged off loans first\n",
    "we define some functions which will help reduce the amount of recycled code. These functions are written in order\n",
    "to enable a custom parallelized cross validation process. These functions were originally developed for the loan\n",
    "outcome classification modeling because of the specific order of operations and encoding required. While these functions aren't\n",
    "as necessary here, reusing them allows for a more efficient modeling process."
   ]
  },
  {
   "cell_type": "code",
   "execution_count": 2,
   "metadata": {},
   "outputs": [],
   "source": [
    "# Return the explained variance score given some test data. \n",
    "def my_score(clf, X_test, y_test):\n",
    "    '''\n",
    "        Predict using trained scikit-learn estimator and compute the explained variance score  \n",
    "        \n",
    "        Parameters:\n",
    "        \n",
    "        X_test : ndarray or DataFrame (n_samples, n_features)\n",
    "                 Feature data to test. n_features represents the number of features\n",
    "                 present in the data used to train the estimator clf\n",
    "                 \n",
    "        y_test : ndarray (n_samples, )\n",
    "                 Target data to test. \n",
    "                \n",
    "        \n",
    "        clf : scikit-learn estimator which has been fit to data with same number of columns as X_test\n",
    "        \n",
    "        Returns:\n",
    "        \n",
    "        Explained variance score of predicted data\n",
    "        \n",
    "    '''\n",
    "    y_predict = clf.predict(X_test)\n",
    "    return explained_variance_score(y_test, y_predict)\n",
    "\n",
    "# Return multiple scores and plot predicted vs. true. \n",
    "def classifier_analysis(clf, X_test, y_test):\n",
    "    \n",
    "    '''\n",
    "        Predict using trained scikit-learn estimator and compute and plot various metrics:\n",
    "        Prints \n",
    "        \n",
    "        Parameters:\n",
    "        \n",
    "        X_test : ndarray or DataFrame (n_samples, n_features)\n",
    "                 Feature data to test. n_features represents the number of features\n",
    "                 present in the data used to train the estimator clf\n",
    "                 \n",
    "        y_test : ndarray (n_samples, )\n",
    "                 Target data to test. \n",
    "                \n",
    "        \n",
    "        clf : scikit-learn estimator which has been fit to data with same number of columns as X_test\n",
    "        \n",
    "        target_transformer_ : scikit-learn scaler such as QuantileTransformer(), MinMaxScaler(), etc.\n",
    "        \n",
    "    \n",
    "        \n",
    "        Returns:\n",
    "        \n",
    "        y_test : ndarray (n_samples, )\n",
    "            \n",
    "            Same as input for convenience\n",
    "        \n",
    "        y_predict : ndarray (n_samples, ) \n",
    "            \n",
    "            Predictions \n",
    "        \n",
    "    '''\n",
    "    \n",
    "    y_predict = clf.predict(X_test)\n",
    "    \n",
    "    # Print the mean squared error and explained variance\n",
    "    mse_ = mean_squared_error(y_test, y_predict)\n",
    "    evs_ = explained_variance_score(y_test, y_predict)\n",
    "    print('Mean squared error {}'.format(mse_))\n",
    "    print('Explained variance score {}'.format(evs_))\n",
    "\n",
    "    # Plot true vs. predicted as scatter plot. \n",
    "    ym = np.max(y_test)\n",
    "    fig = plt.figure()\n",
    "    plt.scatter(y_test, y_predict, s=1)\n",
    "    plt.plot([0, ym],[0, ym],color='r')\n",
    "    plt.ylabel('Predicted Value')\n",
    "    plt.xlabel('True Value')\n",
    "    plt.grid()\n",
    "    plt.xlim([0, 1.1*ym])\n",
    "    plt.ylim([0, 1.1*ym])\n",
    "    _ = plt.show()\n",
    "    \n",
    "    return y_test, y_predict"
   ]
  },
  {
   "cell_type": "code",
   "execution_count": 3,
   "metadata": {},
   "outputs": [],
   "source": [
    "def scale_features(col_transformer_, X_train, X_test, pca=None):\n",
    "    '''\n",
    "    Fits ColumnTransformer() to feature training data and then \n",
    "    transforms train and test data. \n",
    "\n",
    "    Parameters:\n",
    "\n",
    "    col_transformer : ColumnTransformer instance\n",
    "    \n",
    "        Transformer that can be used to rescale and encode data.\n",
    "\n",
    "    X_train : ndarray or DataFrame (n_samples, n_features)\n",
    "    \n",
    "        Feature data to scale. \n",
    "\n",
    "    X_test : ndarray (test_samples, n_features)\n",
    "    \n",
    "        Target data to scale. \n",
    "\n",
    "    Returns:\n",
    "\n",
    "    X_train_scaled : ndarray or DataFrame (n_samples, n_features)\n",
    "    \n",
    "        Scaled training data.\n",
    "\n",
    "    X_test_scaled : ndarray (test_samples, n_features)\n",
    "    \n",
    "        Scaled test data.            \n",
    "            \n",
    "            \n",
    "    '''\n",
    "    _ = col_transformer_.fit(X_train)\n",
    "    X_train_scaled = col_transformer_.transform(X_train)\n",
    "    X_test_scaled = col_transformer_.transform(X_test)\n",
    "    \n",
    "    if pca is not None:\n",
    "        pcatransformer = PCA(n_components=pca)\n",
    "        _ = pcatransformer.fit(X_train_scaled.toarray())\n",
    "        X_train_scaled = pcatransformer.transform(X_train_scaled.toarray())\n",
    "        X_test_scaled = pcatransformer.transform(X_test_scaled.toarray())\n",
    "    \n",
    "    return X_train_scaled, X_test_scaled\n",
    "\n",
    "def scale_target(target_transformer_, y_train, y_test):\n",
    "    '''\n",
    "    Fits transformer to target training data and then \n",
    "    transforms target train and target test data. \n",
    "\n",
    "    Parameters:\n",
    "\n",
    "    target_transformer_ : scikit-learn preprocessing scaler\n",
    "    \n",
    "        Transformer that can be used to rescale and encode target data.\n",
    "\n",
    "    y_train : ndarray or DataFrame (n_samples, )\n",
    "    \n",
    "        Target training data to scale. \n",
    "\n",
    "    y_test : ndarray (test_samples, )\n",
    "    \n",
    "        Target testing data to scale. \n",
    "\n",
    "    Returns:\n",
    "\n",
    "    y_train_scaled : ndarray or DataFrame (n_samples, n_features)\n",
    "    \n",
    "        Scaled training data.\n",
    "\n",
    "    y_test_scaled : ndarray (test_samples, n_features)\n",
    "    \n",
    "        Scaled test data.   \n",
    "            \n",
    "    '''\n",
    "    if target_transformer_ is not None:\n",
    "        _ = target_transformer_.fit(y_train.reshape(-1,1))\n",
    "        y_train_scaled = target_transformer_.transform(y_train.reshape(-1,1))\n",
    "        y_test_scaled = target_transformer_.transform(y_test.reshape(-1,1))    \n",
    "        return y_train_scaled.ravel(), y_test_scaled.ravel()\n",
    "    else:\n",
    "        return y_train.ravel(), y_test.ravel()\n",
    "    \n",
    "# This isn't cross validation its just model training. Cross-validation averages over the trained models of a parameter value\n",
    "def my_cross_validate(estimator, col_transformer_, target_transformer_, X_traintest, y_traintest, param_grid, pca=None):\n",
    "    '''\n",
    "    Custom cross validation procedure which computes KFold cross validation (5 folds) for sets of parameters\n",
    "    over training and testing data. Runs in parallel using joblib. \n",
    "\n",
    "    Parameters:\n",
    "\n",
    "    estimator : DataFrame (n_samples, n_features)\n",
    "         \n",
    "        Dataframe which contains datetime features and value \"Missing\" which indicates missing values.\n",
    "\n",
    "    col_transformer : ColumnTransformer instance\n",
    "    \n",
    "        Transformer that can be used to rescale and encode feature data.\n",
    "\n",
    "    target_transformer_ : scikit-learn preprocessing scaler\n",
    "    \n",
    "        Transformer that can be used to rescale and encode target data.\n",
    "                  \n",
    "    X_traintest : ndarray, DataFrame (n_samples, n_features)\n",
    "         \n",
    "        Array containing the training and testing data of the feature variable. \n",
    "\n",
    "    y_traintest : ndarray (n_samples, )\n",
    "         \n",
    "        Array containing the training and testing data of the target variable. \n",
    "        \n",
    "    param_grid : dict\n",
    "         \n",
    "        scikit-learn style parameter grid; dict whose keys are strings and whose values are sensible\n",
    "        values for the corresponding keyword arguments of the scikit-learn estimator denoted by estimator.\n",
    "        Values can be singular values or lists of values.\n",
    "\n",
    "    Returns:\n",
    "\n",
    "    estimator : scikit-learn Regressor\n",
    "    \n",
    "        Best model after cross validation\n",
    "            \n",
    "            \n",
    "            \n",
    "    '''\n",
    "    mean_scores = []\n",
    "    # cv_params needs to make sense for the estimator given\n",
    "    param_grid_list = param_grid_iterable(param_grid)\n",
    "    for params_ in param_grid_list:\n",
    "        with Parallel(n_jobs=-1) as parallel:\n",
    "            fitted_models_and_test_splits = parallel(delayed(fit_model_)\n",
    "                                                     (estimator(**params_), col_transformer_, target_transformer_,\n",
    "                                                          X_traintest, y_traintest, train, test, pca=pca)\n",
    "                                  for (train, test) in KFold(n_splits=5).split(X_traintest, y_traintest))\n",
    "            \n",
    "            # Get averages (explained variance) score for this model\n",
    "            scores = parallel(delayed(my_score)(model_, xt, yt) for (model_, xt, yt) in fitted_models_and_test_splits) \n",
    "            mean_scores += [np.mean(list(scores))]\n",
    "            \n",
    "    \n",
    "    best_params_ = param_grid_list[np.argmax(np.array(mean_scores))]\n",
    "    return estimator(**best_params_), (param_grid_list, mean_scores)\n",
    "\n",
    "\n",
    "def fit_model_(estimator, col_transformer_, target_transformer_, X_traintest, y_traintest, train, test, pca=None):\n",
    "    '''\n",
    "    \n",
    "\n",
    "    Parameters:\n",
    "\n",
    "    estimator : DataFrame (n_samples, n_features)\n",
    "         \n",
    "        Dataframe which contains datetime features and value \"Missing\" which indicates missing values.\n",
    "\n",
    "    col_transformer : ColumnTransformer instance\n",
    "    \n",
    "        Transformer that can be used to rescale and encode feature data.\n",
    "\n",
    "    target_transformer_ : scikit-learn preprocessing scaler\n",
    "    \n",
    "        Transformer that can be used to rescale and encode target data.\n",
    "                  \n",
    "    X_traintest : ndarray, DataFrame (n_samples, n_features)\n",
    "         \n",
    "        Array containing the training and testing data of the feature variable. \n",
    "\n",
    "    y_traintest : ndarray (n_samples, )\n",
    "         \n",
    "        Array containing the training and testing data of the target variable. \n",
    "        \n",
    "    param_grid : dict\n",
    "         \n",
    "        scikit-learn style parameter grid; dict whose keys are strings and whose values are sensible\n",
    "        values for the corresponding keyword arguments of the scikit-learn estimator denoted by estimator.\n",
    "        Values can be singular values or lists of values.\n",
    "\n",
    "    Returns:\n",
    "\n",
    "    (estimator, X_test, y_test) : tuple\n",
    "    \n",
    "        Tuple consisting of the fitted estimator and testing data sets (for convenience).\n",
    "            \n",
    "    '''\n",
    "    X_train, X_test = X_traintest.iloc[train,:], X_traintest.iloc[test,:]\n",
    "    y_train, y_test = y_traintest.iloc[train].values.ravel(), y_traintest.iloc[test].values.ravel()\n",
    "    \n",
    "    X_train, X_test  = scale_features(col_transformer_, X_train, X_test, pca=pca)\n",
    "    y_train, y_test = scale_target(target_transformer_, y_train, y_test)\n",
    "\n",
    "    _ = estimator.fit(X_train, y_train)    \n",
    "    return (estimator, X_test, y_test)\n",
    "\n",
    "def param_grid_iterable(params):\n",
    "    '''\n",
    "    Converts scikit-learn style parameter grid to tuples of \n",
    "    \n",
    "    Parameters:\n",
    "\n",
    "    params : dict\n",
    "         \n",
    "        Dictionary of the same style as scikit-learn parameter grid. \n",
    "\n",
    "    Returns:\n",
    "    \n",
    "    cvsorted : list\n",
    "        \n",
    "        List of combinations (dict) of parameter values. \n",
    "\n",
    "    '''\n",
    "    keys = sorted(params)\n",
    "    combinations = list(itertools.product(*(params[key] if type(params[key]) in [list, dict, np.ndarray] else [params[key]]\n",
    "                                            for key in keys)))\n",
    "    cvsorted = [dict(zip(len(c)*keys, c)) for c in combinations]\n",
    "    return cvsorted"
   ]
  },
  {
   "cell_type": "code",
   "execution_count": 4,
   "metadata": {},
   "outputs": [],
   "source": [
    "def cross_validated_model(estimator, col_transformer_, target_transformer_, X_traintest, \n",
    "                                  y_traintest, X_holdout, y_holdout, param_grid, pca=None):\n",
    "    '''\n",
    "    Parameters:\n",
    "\n",
    "    estimator : DataFrame (n_samples, n_features)\n",
    "         \n",
    "        Dataframe which contains datetime features and value \"Missing\" which indicates missing values.\n",
    "\n",
    "    col_transformer : ColumnTransformer instance\n",
    "    \n",
    "        Transformer that can be used to rescale and encode feature data.\n",
    "\n",
    "    target_transformer_ : scikit-learn preprocessing scaler\n",
    "    \n",
    "        Transformer that can be used to rescale and encode target data.\n",
    "                  \n",
    "    X_traintest : ndarray, DataFrame (n_samples, n_features)\n",
    "         \n",
    "        Array containing the training and testing data of the feature variable. \n",
    "\n",
    "    y_traintest : ndarray (n_samples, )\n",
    "         \n",
    "        Array containing the training and testing data of the target variable. \n",
    "        \n",
    "    X_holdout : ndarray, DataFrame (n_holdout_samples, n_features)\n",
    "         \n",
    "        Array containing the training and testing data of the feature variable. \n",
    "\n",
    "    y_holdout : ndarray (n_holdout_samples, )\n",
    "         \n",
    "        Array containing the training and testing data of the target variable.\n",
    "        \n",
    "    param_grid : dict\n",
    "         \n",
    "        scikit-learn style parameter grid; dict whose keys are strings and whose values are sensible\n",
    "        values for the corresponding keyword arguments of the scikit-learn estimator denoted by estimator.\n",
    "        Values can be singular values or lists of values.\n",
    "\n",
    "    Returns:\n",
    "\n",
    "    (estimator, X_holdout_final, y_holdout_final) : tuple\n",
    "    \n",
    "        Tuple consisting of the fitted estimator and scaled, hold out data sets. \n",
    "            \n",
    "    '''\n",
    "    # Initialize the cross-validation method\n",
    "    kf = KFold(n_splits=5)\n",
    "    \n",
    "    # Using joblib, run my cross validation function; it scales feature and target data in the correct way \n",
    "    # in combination with cross validation.\n",
    "    best_model_, (param_grid_list, mean_scores) = my_cross_validate(estimator, col_transformer_, target_transformer_, X_traintest, y_traintest, param_grid)\n",
    "    \n",
    "    # Using all of the traintest data; transform both the traintest and holdout data sets.\n",
    "    X_traintest_final, X_holdout_final = scale_features(col_transformer_, X_traintest, X_holdout)\n",
    "    y_traintest_final, y_holdout_final = scale_target(target_transformer_, y_traintest.values.ravel(), y_holdout.values.ravel())\n",
    "\n",
    "    _ = best_model_.fit(X_traintest_final, y_traintest_final)\n",
    "        \n",
    "#     # Print final scores and plot the y_true vs y_pred\n",
    "#     classifier_analysis(best_model_, X_holdout_final, y_holdout_final)\n",
    "    \n",
    "    return (best_model_, X_holdout_final, y_holdout_final, param_grid_list, mean_scores)"
   ]
  },
  {
   "cell_type": "code",
   "execution_count": 5,
   "metadata": {},
   "outputs": [],
   "source": [
    "# Convert date-like + 'Missing' valued features to one-hot encoded columns; uses KBins on the years of the date-like, which \n",
    "# bins then one-hot encodes, while also one-hot encoding 'Missing' separately. \n",
    "def encode_dates_and_missing(df):\n",
    "    \n",
    "    '''\n",
    "    A DataFrame which takes mixed \"Missing\" and datetime values, separates out the \"Missing\"\n",
    "    and then performs two operations. First, the 'Missing' column is one-hot encoded, second,\n",
    "    the datetime variables are binned and encoded using KBinsDiscretizer, using a uniform bin\n",
    "    width strategy. \n",
    "\n",
    "    Parameters:\n",
    "\n",
    "    df : DataFrame (n_samples, n_features)\n",
    "         \n",
    "        Dataframe which contains datetime features and value \"Missing\" which indicates missing values.\n",
    "\n",
    "    Returns:\n",
    "\n",
    "    encoded_df : DataFrame (n_samples, (undetermined size))\n",
    "    \n",
    "        Encoded dataframe, filled with one-hot encoded columns of the input DataFrame. \n",
    "            \n",
    "            \n",
    "            \n",
    "    '''\n",
    "    \n",
    "    for i, seriesname in enumerate(df.columns):\n",
    "        series = df[seriesname]\n",
    "        series_missing = pd.get_dummies(series[series=='Missing'])\n",
    "        series_notmissing = series[series!='Missing']\n",
    "        notmiss_index = series_notmissing.index\n",
    "        \n",
    "        kbd = KBinsDiscretizer(n_bins=10, strategy='uniform')\n",
    "        series_dt = pd.to_datetime(series_notmissing).dt.year\n",
    "        encoded_series = kbd.fit_transform(series_dt.values.reshape(-1,1))\n",
    "        encoded_series = pd.DataFrame(kbd.fit_transform(series_dt.values.reshape(-1,1)).toarray(), index=notmiss_index).astype(int)\n",
    "        encoded_series = encoded_series.join(series_missing, how='outer').fillna(value=0)\n",
    "        least_populated_feature = np.array([encoded_series[col].sum() for col in encoded_series.columns]).argmin()\n",
    "        encoded_series = encoded_series.drop(columns=encoded_series.columns[least_populated_feature])\n",
    "        encoded_series.columns = [seriesname+'_'+str(col) for col in encoded_series.columns]\n",
    "\n",
    "        if i == 0: \n",
    "            encoded_df = encoded_series\n",
    "        else:\n",
    "            encoded_df = pd.concat((encoded_df,encoded_series),axis=1)\n",
    "            \n",
    "    return encoded_df\n",
    "    "
   ]
  },
  {
   "cell_type": "code",
   "execution_count": 6,
   "metadata": {},
   "outputs": [],
   "source": [
    "def my_feature_transformer(X, num_features, cat_features, date_features, num_transformer=StandardScaler()):\n",
    "    ''' Transform features using a column transformer. \n",
    "    \n",
    "    A DataFrame which takes mixed \"Missing\" and datetime values, separates out the \"Missing\"\n",
    "    and then performs two operations. First, the 'Missing' column is one-hot encoded, second,\n",
    "    the datetime variables are binned and encoded using KBinsDiscretizer, using a uniform bin\n",
    "    width strategy. \n",
    "\n",
    "    Parameters\n",
    "    ----------\n",
    "\n",
    "    X : DataFrame (n_samples, n_features)\n",
    "         \n",
    "        Dataframe which contains training data. \n",
    "\n",
    "    num_features : list, Pandas index\n",
    "    \n",
    "        List of Pandas Index of the name of columns that contain numerical features.\n",
    "         \n",
    "\n",
    "    cat_features : list, Pandas index\n",
    "    \n",
    "        List of Pandas Index of the name of columns that contain categorical features.\n",
    "         \n",
    "    date_features : list, Pandas index\n",
    "    \n",
    "        List of Pandas Index of the name of columns that contain categorical features.\n",
    "         \n",
    "        Dataframe which contains datetime features and value \"Missing\" which indicates missing values.\n",
    "\n",
    "    num_transformer : scikit-learn Transformer\n",
    "         \n",
    "        scikit-learn scaler such as QuantileTransformer(), MinMaxScaler(), etc.\n",
    "\n",
    "    Returns\n",
    "    -------\n",
    "\n",
    "    col_transformer : ColumnTransformer instance\n",
    "    \n",
    "         Transformer that can be used to rescale and encode data. \n",
    "            \n",
    "    '''\n",
    "    \n",
    "#     uniq_categories = [list(np.sort(X[col].unique()))+['Missing','Unknown'] for col in cat_features]\n",
    "\n",
    "\n",
    "    \n",
    "    transformer_list = []\n",
    "    if num_transformer is not None:\n",
    "        transformer_list += [('num', num_transformer, num_features)] \n",
    "\n",
    "    if cat_features is not None:        \n",
    "        uniq_categories = [list(np.sort(X[col].unique())) for col in cat_features]\n",
    "        # Previously dropped first category, this is more strategic.\n",
    "        least_populated_categories = [X[col].value_counts().idxmin() for col in cat_features]\n",
    "        cat_transformer = OneHotEncoder(categories=uniq_categories, drop=least_populated_categories)\n",
    "        transformer_list += [('cat', cat_transformer, cat_features)] \n",
    "        \n",
    "    if date_features is not None:             \n",
    "        transformer_list += [('my_kbd', 'passthrough', date_features)] \n",
    "\n",
    "    col_transformer = ColumnTransformer(transformers=transformer_list)\n",
    "\n",
    "    return col_transformer"
   ]
  },
  {
   "cell_type": "markdown",
   "metadata": {},
   "source": [
    "The deliverable model that is about to be produced is one that predicts the amount of recoverable money from a \"charged off\" loan. This is performed via two different regression methods, Ridge regression and stochastic gradient descent. There is no time dependent component of the hypothesis in this case; that is, no special time order is required. To produce these two models all data needs to be in a numerical form, which requires the encoding of categorical variables. The procedure for\n",
    "how we first produce these models is as follows:\n",
    "\n",
    "    1. Take the subset of the data which corresponds to charged-off loans (already done).\n",
    "    2. Perform preprocessing operations (Categorical variable encoding and numerical variable rescaling).\n",
    "    3. Cross-validate a Ridge regression model\n",
    "    4. Cross-validate a StochasticGradientDescent model\n",
    "    5. Analyze the effectiveness of each model with various metrics.\n",
    "    6. Decide on a final deliverable model."
   ]
  },
  {
   "cell_type": "markdown",
   "metadata": {},
   "source": [
    "The modeling in this notebook is regression of a continuous variable. There are many categorical type variables which\n",
    "need to be encoded in order to be used for regression. There are a number of categorical variables with a large (100+) number of categories. In order to better handle this fact there are a number of features which we prune from our analysis.\n",
    "\n",
    "The modeling in this notebook is regression of a continuous variable. There are many categorical type variables which\n",
    "need to be encoded (transformed to numerical values) in order to be used for regression. A portion of these variables have a large (100+) number of categories."
   ]
  },
  {
   "cell_type": "code",
   "execution_count": 7,
   "metadata": {},
   "outputs": [],
   "source": [
    "loan_data = pd.read_csv('regression_loan_data.csv', index_col=False)"
   ]
  },
  {
   "cell_type": "markdown",
   "metadata": {},
   "source": [
    "The first step: drop all features which offer redundant information: this is determined\n",
    "by correlation coefficient for the numerical features and by simple recognition for the\n",
    "categorical variables. For instace, the grade of a loan (letter, A-E) is less precise than then subgrade (letter + number)."
   ]
  },
  {
   "cell_type": "code",
   "execution_count": 8,
   "metadata": {},
   "outputs": [],
   "source": [
    "loan_data = loan_data.drop(columns=['fico_range_high', 'last_fico_range_high',\n",
    "                                                    'zip_code', 'grade', 'total_pymnt_inv',\n",
    "                                                    'funded_amnt', 'funded_amnt_inv'])"
   ]
  },
  {
   "cell_type": "markdown",
   "metadata": {},
   "source": [
    "For expediency, take a small sample for preliminary calculations."
   ]
  },
  {
   "cell_type": "code",
   "execution_count": 9,
   "metadata": {},
   "outputs": [],
   "source": [
    "loan_data_sample = loan_data.sample(n=20000, random_state=0)"
   ]
  },
  {
   "cell_type": "code",
   "execution_count": 10,
   "metadata": {},
   "outputs": [],
   "source": [
    "#Still contains missing values; first, drop features with missing values (dropping samples leaves us with no data).\n",
    "# loan_data_sample = loan_data_sample.dropna(axis=1)"
   ]
  },
  {
   "cell_type": "markdown",
   "metadata": {},
   "source": [
    "There are twenty loans whose principal amount has been paid off; remove these from the dataset."
   ]
  },
  {
   "cell_type": "code",
   "execution_count": 11,
   "metadata": {},
   "outputs": [
    {
     "data": {
      "text/plain": [
       "(20000, 56)"
      ]
     },
     "execution_count": 11,
     "metadata": {},
     "output_type": "execute_result"
    }
   ],
   "source": [
    "loan_data_sample.select_dtypes(include='number').shape"
   ]
  },
  {
   "cell_type": "code",
   "execution_count": 12,
   "metadata": {},
   "outputs": [
    {
     "data": {
      "text/plain": [
       "(20000, 75)"
      ]
     },
     "execution_count": 12,
     "metadata": {},
     "output_type": "execute_result"
    }
   ],
   "source": [
    "loan_data_sample.shape"
   ]
  },
  {
   "cell_type": "code",
   "execution_count": 13,
   "metadata": {
    "scrolled": true
   },
   "outputs": [
    {
     "data": {
      "text/plain": [
       "earliest_cr_line             573\n",
       "sec_app_earliest_cr_line     185\n",
       "last_pymnt_d                  78\n",
       "issue_d                       76\n",
       "last_credit_pull_d            68\n",
       "settlement_date               62\n",
       "debt_settlement_flag_date     53\n",
       "addr_state                    50\n",
       "sub_grade                     35\n",
       "purpose                       13\n",
       "dtype: int64"
      ]
     },
     "execution_count": 13,
     "metadata": {},
     "output_type": "execute_result"
    }
   ],
   "source": [
    "loan_data_sample.select_dtypes(include='object').nunique().sort_values(ascending=False).head(10)"
   ]
  },
  {
   "cell_type": "markdown",
   "metadata": {},
   "source": [
    "The prediction is occuring in the present moment. All of the data corresponding to charged-off loans can be used, and it does not have to be treated as a time series, as we are not trying to predict the future.\n",
    "\n",
    "As can be seen, the variables with the second to eight largest number of categories are related to dates; These features, from the cleaning process, are a mixture of dates (month-year) and the category 'Missing'. These variables will be encoded using binning, specifically KBinsDiscretizer using the One-hot encoding strategy with a small number of bins per feature vector. The manner with which we bin is to represent the dates by their year, and then use a uniform bin-width strategy with three bins.\n",
    "\n",
    "Simultaneously, the \"Missing\" values are one-hot-encoded separately, such that the result is three bins for the date's years and an additional bin for the 'Missing' Category.\n",
    "In summary the process is as follows: separate date-like and 'Missing' values. One-hot encode 'Missing' and dates binned by year separately.\n",
    "\n",
    "The largest number of categories belongs to the zip code variable; which is reported as the first three digits (followed by 'xx'). We can reduce the number of categories by aggregating by the first *two* digits; but if we do this it is almost nearly\n",
    "the same as identifying by the state; In fact, roudning to two digits is actually less specific than identifying by the state. We already have the state in 'addr_state' feature data so there is no motivation to keep the zip codes; if we're going to reduce it to two digits.\n",
    "\n",
    "Additionally, the grade of each loan is less precise that the subgrade of each loan such that we dispose of this as well. \n",
    "\n",
    "I left these next calculations here for posterity, but it turns out that handling the datetime-like variables in this binning manner introduced a lot of noise into the models."
   ]
  },
  {
   "cell_type": "code",
   "execution_count": 14,
   "metadata": {},
   "outputs": [],
   "source": [
    "date_features = ['last_pymnt_d', 'debt_settlement_flag_date',\n",
    "                 'last_credit_pull_d', 'issue_d', 'settlement_date',\n",
    "                 'sec_app_earliest_cr_line', 'earliest_cr_line']"
   ]
  },
  {
   "cell_type": "code",
   "execution_count": 15,
   "metadata": {},
   "outputs": [],
   "source": [
    "date_df = loan_data_sample[date_features]\n",
    "date_data = encode_dates_and_missing(date_df)\n",
    "num_and_cat_data = loan_data_sample.drop(columns=date_features)"
   ]
  },
  {
   "cell_type": "code",
   "execution_count": 16,
   "metadata": {},
   "outputs": [],
   "source": [
    "# Assign target/training variables\n",
    "y = num_and_cat_data.recoveries\n",
    "Xtmp = num_and_cat_data.drop(columns=['recoveries', 'collection_recovery_fee'])#.loc[y.index,:]"
   ]
  },
  {
   "cell_type": "code",
   "execution_count": 17,
   "metadata": {},
   "outputs": [],
   "source": [
    "def max_pairwise_correlations(loan_data):\n",
    "    # Produce all correlations to the relations between features\n",
    "    correlations_ = loan_data.corr()\n",
    "    # Maximum correlations (excluding auto-correlation)\n",
    "    correlations_df = correlations_.unstack().to_frame(name='data')\n",
    "    # Remove the auto-correlations which are trivial / not useful values.\n",
    "    correlations_no_auto = correlations_df[correlations_df['data']!=1]\n",
    "    # To pick out the maximum pairwise correlations, \n",
    "    maxcvalues = correlations_no_auto[correlations_no_auto['data'] == correlations_no_auto.groupby(level=[0])['data'].transform(max)]\n",
    "    return maxcvalues"
   ]
  },
  {
   "cell_type": "code",
   "execution_count": 18,
   "metadata": {},
   "outputs": [],
   "source": [
    "xc = max_pairwise_correlations(Xtmp).sort_values(by='data', ascending=False)"
   ]
  },
  {
   "cell_type": "code",
   "execution_count": 19,
   "metadata": {},
   "outputs": [],
   "source": [
    "# X = Xtmp.drop(columns=['open_acc', 'num_rev_tl_bal_gt_0'])\n",
    "X = Xtmp\n",
    "num_features = X.select_dtypes(include='number').columns\n",
    "cat_features = X.select_dtypes(include='object').columns"
   ]
  },
  {
   "cell_type": "markdown",
   "metadata": {},
   "source": [
    "Default cross validation is KFold with 5 folds; by default shuffling is off so we technically do not need to pass a random state."
   ]
  },
  {
   "cell_type": "code",
   "execution_count": 20,
   "metadata": {},
   "outputs": [],
   "source": [
    "X_traintest, X_holdout, y_traintest, y_holdout = train_test_split(X, y, test_size=0.2, random_state=321789)\n",
    "\n",
    "# X_traintest = X_traintest.reset_index(drop=True)\n",
    "# X_holdout = X_holdout.reset_index(drop=True)\n",
    "# y_traintest = y_traintest.reset_index(drop=True)\n",
    "# y_holdout = y_holdout.reset_index(drop=True)"
   ]
  },
  {
   "cell_type": "code",
   "execution_count": 21,
   "metadata": {},
   "outputs": [],
   "source": [
    "X_train, X_test, y_train, y_test = train_test_split(X_traintest, y_traintest, test_size=0.2, random_state=548793)"
   ]
  },
  {
   "cell_type": "code",
   "execution_count": 22,
   "metadata": {},
   "outputs": [],
   "source": [
    "col_transformer_ = my_feature_transformer(X, num_features, cat_features, None, num_transformer=StandardScaler())\n",
    "_ = col_transformer_.fit(X_train)\n",
    "X_train_transformed = col_transformer_.transform(X_train)\n",
    "X_test_transformed = col_transformer_.transform(X_test)"
   ]
  },
  {
   "cell_type": "code",
   "execution_count": 23,
   "metadata": {},
   "outputs": [
    {
     "name": "stdout",
     "output_type": "stream",
     "text": [
      "Shape of the training set (12800, 66) and testing set (3200, 66) before transformation\n",
      "Shape of the training set (12800, 176) and testing set (3200, 176) after transformation\n"
     ]
    }
   ],
   "source": [
    "print('Shape of the training set {} and testing set {} before transformation'.format(X_train.shape,\n",
    "                                                                                    X_test.shape))\n",
    "print('Shape of the training set {} and testing set {} after transformation'.format(X_train_transformed.shape,\n",
    "                                                                                    X_test_transformed.shape))"
   ]
  },
  {
   "cell_type": "markdown",
   "metadata": {},
   "source": [
    "#### Preliminary tests\n",
    "\n",
    "For each model we make a preliminary test on the training data; this is similar to the no-information rate type\n",
    "analysis in classification problems. That is, we train and test with the same data set. If the model is inaccurate\n",
    "in this case then there is something seriously wrong with the data or the model. \n",
    "\n",
    "For these tests we shall leave the target variable untransformed; the features need to be transformed to\n",
    "format the categorical variables accordingly. While there are an incredible number of options for fine tuning \n",
    "the main investigation is into the efficacy of the numerical feature transformers. "
   ]
  },
  {
   "cell_type": "markdown",
   "metadata": {},
   "source": [
    "Preliminary tests to ensure that nothing outrageously wrong with preprocessing."
   ]
  },
  {
   "cell_type": "code",
   "execution_count": 24,
   "metadata": {
    "scrolled": false
   },
   "outputs": [
    {
     "name": "stdout",
     "output_type": "stream",
     "text": [
      "Mean squared error 42.51778565776719\n",
      "Explained variance score 0.999988226779694\n"
     ]
    },
    {
     "data": {
      "image/png": "[encoded data removed]",
      "text/plain": [
       "<Figure size 432x288 with 1 Axes>"
      ]
     },
     "metadata": {
      "needs_background": "light"
     },
     "output_type": "display_data"
    }
   ],
   "source": [
    "sgd = SGDRegressor(random_state=42, max_iter=10000)\n",
    "_ = sgd.fit(X_train_transformed, y_train.values.ravel())\n",
    "ysgd, ysgd_predict = classifier_analysis(sgd, X_test_transformed, y_test.values.ravel())"
   ]
  },
  {
   "cell_type": "code",
   "execution_count": 25,
   "metadata": {
    "scrolled": true
   },
   "outputs": [
    {
     "name": "stdout",
     "output_type": "stream",
     "text": [
      "Mean squared error 14.632365296732207\n",
      "Explained variance score 0.9999959491424831\n"
     ]
    },
    {
     "data": {
      "image/png": "[encoded data removed]",
      "text/plain": [
       "<Figure size 432x288 with 1 Axes>"
      ]
     },
     "metadata": {
      "needs_background": "light"
     },
     "output_type": "display_data"
    }
   ],
   "source": [
    "rdge = Ridge()\n",
    "_ = rdge.fit(X_train_transformed, y_train.values.ravel())\n",
    "yrdge, yrdge_predict = classifier_analysis(rdge, X_test_transformed, y_test.values.ravel())"
   ]
  },
  {
   "cell_type": "markdown",
   "metadata": {},
   "source": [
    "These results seem far too good to be realistic. I investigate this claim by a crude yet effective\n",
    "method of performing the same training and testing, increasing the number of included features one at a time. "
   ]
  },
  {
   "cell_type": "code",
   "execution_count": 26,
   "metadata": {},
   "outputs": [
    {
     "data": {
      "image/png": "[encoded data removed]",
      "text/plain": [
       "<Figure size 432x288 with 1 Axes>"
      ]
     },
     "metadata": {
      "needs_background": "light"
     },
     "output_type": "display_data"
    }
   ],
   "source": [
    "evscore = []\n",
    "for n_slice in range(1, X_train_transformed.shape[1]):\n",
    "    rdge = Ridge(tol=1e-01)\n",
    "    _ = rdge.fit(X_train_transformed[:,:n_slice], y_train.values.ravel())\n",
    "    evscore += [my_score(rdge, X_test_transformed[:,:n_slice], y_test.values.ravel())]\n",
    "\n",
    "n_pca_list = range(1, X_train_transformed.shape[1])\n",
    "plt.scatter(n_pca_list, evscore, s=5)\n",
    "plt.scatter(n_pca_list[5:8], evscore[5:8], s=20, color='r')\n",
    "plt.ylim([0, 1])\n",
    "_ = plt.show()"
   ]
  },
  {
   "cell_type": "markdown",
   "metadata": {},
   "source": [
    "There is an incredible jump in explained variance that happens as three specific features (the first jump is small in relative terms but significant) as if to indicate a collinearity between these two columns and the target variable, first, the names of the columns"
   ]
  },
  {
   "cell_type": "code",
   "execution_count": 27,
   "metadata": {},
   "outputs": [
    {
     "name": "stdout",
     "output_type": "stream",
     "text": [
      "['delinq_2yrs', 'fico_range_low', 'inq_last_6mths']\n"
     ]
    }
   ],
   "source": [
    "print(X_train.iloc[:, 5:8].columns.tolist())"
   ]
  },
  {
   "cell_type": "markdown",
   "metadata": {},
   "source": [
    "second, as a test, compare these columns with the target variable using correlations"
   ]
  },
  {
   "cell_type": "code",
   "execution_count": 28,
   "metadata": {},
   "outputs": [
    {
     "name": "stdout",
     "output_type": "stream",
     "text": [
      "delinq_2yrs       0.020042\n",
      "fico_range_low    0.032986\n",
      "inq_last_6mths    0.008588\n",
      "dtype: float64\n"
     ]
    }
   ],
   "source": [
    "print(X_train.iloc[:, 5:8].corrwith(y_train))"
   ]
  },
  {
   "cell_type": "code",
   "execution_count": 29,
   "metadata": {},
   "outputs": [
    {
     "name": "stdout",
     "output_type": "stream",
     "text": [
      "delinq_2yrs       0.019184\n",
      "fico_range_low    0.025639\n",
      "inq_last_6mths    0.035211\n",
      "dtype: float64\n"
     ]
    }
   ],
   "source": [
    "print(X_test.iloc[:, 5:8].corrwith(y_test))"
   ]
  },
  {
   "cell_type": "markdown",
   "metadata": {},
   "source": [
    "I do not believe that there is any contamination between these features but at the same time they seem to perform\n",
    "too well as predictive variables. Therefore my recommendation would be to uncover a more detailed explanation of\n",
    "the relation between these two features and the target variable. Until then, a cautious application of this model\n",
    "is recommended. Unfortunately the performance in the absence of these three features is **pretty terrible** at least\n",
    "with these preliminary tests on a sample of the total data.\n",
    "\n",
    "According to the metadata, the definitions of the three features are:\n",
    "\n",
    "    1. total_pymnt : Payments received to date for total amount funded\n",
    "\n",
    "    2. total_rec_prncp : Principal received to date\n",
    "\n",
    "    3. total_rec_int : Interest received to date\n",
    "\n",
    "And the target variable:\n",
    "    \n",
    "    recoveries : post charge off gross recovery\n",
    "\n",
    "Note that this isn't a time dependent problem so a possible is that total payments perhaps include post charge off gross recovery. and there does not seem to be any glaring relations between\n",
    "these three variables, while unlikely, it may be that these features are simply very good descriptors. With no\n",
    "way to know or follow up, I continue towards the full regression problem. "
   ]
  },
  {
   "cell_type": "code",
   "execution_count": 30,
   "metadata": {},
   "outputs": [],
   "source": [
    "X_train_transformed_slice_test = np.concatenate((X_train_transformed[:, :5], X_train_transformed[:, 8:]), axis=1) \n",
    "X_test_transformed_slice_test = np.concatenate((X_test_transformed[:, :5], X_test_transformed[:, 8:]), axis=1) "
   ]
  },
  {
   "cell_type": "code",
   "execution_count": 31,
   "metadata": {},
   "outputs": [
    {
     "name": "stdout",
     "output_type": "stream",
     "text": [
      "Mean squared error 42.52902066935423\n",
      "Explained variance score 0.9999882236534128\n"
     ]
    },
    {
     "data": {
      "image/png": "[encoded data removed]",
      "text/plain": [
       "<Figure size 432x288 with 1 Axes>"
      ]
     },
     "metadata": {
      "needs_background": "light"
     },
     "output_type": "display_data"
    }
   ],
   "source": [
    "sgd = SGDRegressor(random_state=42, max_iter=10000)\n",
    "_ = sgd.fit(X_train_transformed_slice_test, y_train.values.ravel())\n",
    "ysgd, ysgd_predict = classifier_analysis(sgd, X_test_transformed_slice_test, y_test.values.ravel())"
   ]
  },
  {
   "cell_type": "code",
   "execution_count": 32,
   "metadata": {},
   "outputs": [
    {
     "name": "stdout",
     "output_type": "stream",
     "text": [
      "Mean squared error 14.650537849301042\n",
      "Explained variance score 0.999995944137945\n"
     ]
    },
    {
     "data": {
      "image/png": "[encoded data removed]",
      "text/plain": [
       "<Figure size 432x288 with 1 Axes>"
      ]
     },
     "metadata": {
      "needs_background": "light"
     },
     "output_type": "display_data"
    }
   ],
   "source": [
    "rdge = Ridge()\n",
    "_ = rdge.fit(X_train_transformed_slice_test, y_train.values.ravel())\n",
    "yrdge, yrdge_predict = classifier_analysis(rdge, X_test_transformed_slice_test, y_test.values.ravel())"
   ]
  },
  {
   "cell_type": "code",
   "execution_count": 33,
   "metadata": {
    "scrolled": false
   },
   "outputs": [
    {
     "data": {
      "image/png": "[encoded data removed]",
      "text/plain": [
       "<Figure size 432x288 with 1 Axes>"
      ]
     },
     "metadata": {
      "needs_background": "light"
     },
     "output_type": "display_data"
    }
   ],
   "source": [
    "evscore_slice = []\n",
    "n_slice_list = range(1, X_train_transformed_slice_test.shape[1])\n",
    "\n",
    "for n_slice in n_slice_list:\n",
    "    rdge = Ridge(tol=1e-01)\n",
    "    _ = rdge.fit(X_train_transformed_slice_test[:,:n_slice], y_train.values.ravel())\n",
    "    evscore_slice += [my_score(rdge, X_test_transformed_slice_test[:,:n_slice], y_test.values.ravel())]\n",
    "     \n",
    "plt.scatter(n_slice_list, evscore_slice, s=1)\n",
    "plt.ylim([0, 1])\n",
    "_ = plt.show()"
   ]
  },
  {
   "cell_type": "markdown",
   "metadata": {},
   "source": [
    "Try the same thing but with only positive recovery values.  "
   ]
  },
  {
   "cell_type": "code",
   "execution_count": 34,
   "metadata": {},
   "outputs": [],
   "source": [
    "# Assign target/training variables\n",
    "y = num_and_cat_data.recoveries\n",
    "y = y[y > 0]\n",
    "X = num_and_cat_data.drop(columns=['recoveries', 'collection_recovery_fee',\n",
    "                                  'total_pymnt', 'total_rec_prncp', 'total_rec_int']).loc[y.index,:]\n",
    "\n",
    "num_features = X.select_dtypes(include='number').columns\n",
    "cat_features = X.select_dtypes(include='object').columns"
   ]
  },
  {
   "cell_type": "markdown",
   "metadata": {},
   "source": [
    "Default cross validation is KFold with 5 folds; by default shuffling is off so we technically do not need to pass a random state."
   ]
  },
  {
   "cell_type": "code",
   "execution_count": 35,
   "metadata": {},
   "outputs": [
    {
     "ename": "SyntaxError",
     "evalue": "invalid syntax (<ipython-input-35-70c427d8d6f3>, line 1)",
     "output_type": "error",
     "traceback": [
      "\u001b[1;36m  File \u001b[1;32m\"<ipython-input-35-70c427d8d6f3>\"\u001b[1;36m, line \u001b[1;32m1\u001b[0m\n\u001b[1;33m    X_traintest, X_holdout, y_traintest, y_holdout =\u001b[0m\n\u001b[1;37m                                                     ^\u001b[0m\n\u001b[1;31mSyntaxError\u001b[0m\u001b[1;31m:\u001b[0m invalid syntax\n"
     ]
    }
   ],
   "source": [
    "X_traintest, X_holdout, y_traintest, y_holdout = \n",
    "train_test_split(X, y, test_size=0.2, random_state=321789)"
   ]
  },
  {
   "cell_type": "code",
   "execution_count": null,
   "metadata": {},
   "outputs": [],
   "source": [
    "X_train, X_test, y_train, y_test = \n",
    "train_test_split(X_traintest, y_traintest, test_size=0.2, random_state=548793)"
   ]
  },
  {
   "cell_type": "code",
   "execution_count": null,
   "metadata": {},
   "outputs": [],
   "source": [
    "col_transformer_ = my_feature_transformer(\n",
    "    X, num_features, cat_features, None, num_transformer=StandardScaler())\n",
    "_ = col_transformer_.fit(X_train)\n",
    "X_train_transformed = col_transformer_.transform(X_train)\n",
    "X_test_transformed = col_transformer_.transform(X_test)"
   ]
  },
  {
   "cell_type": "code",
   "execution_count": null,
   "metadata": {},
   "outputs": [],
   "source": [
    "print('Shape of the training set {} and testing set {} before transformation'\n",
    "      .format(X_train.shape,\n",
    "                                                                                    X_test.shape))\n",
    "print('Shape of the training set {} and testing set {} after transformation'\n",
    "      .format(X_train_transformed.shape,\n",
    "                                                                                    X_test_transformed.shape))"
   ]
  },
  {
   "cell_type": "code",
   "execution_count": null,
   "metadata": {
    "scrolled": false
   },
   "outputs": [],
   "source": [
    "sgd = SGDRegressor(random_state=42, max_iter=10000)\n",
    "_ = sgd.fit(X_train_transformed, y_train.values.ravel())\n",
    "ysgd, ysgd_predict = classifier_analysis(sgd, X_test_transformed,\n",
    "                                         y_test.values.ravel())"
   ]
  },
  {
   "cell_type": "code",
   "execution_count": null,
   "metadata": {
    "scrolled": true
   },
   "outputs": [],
   "source": [
    "rdge = Ridge()\n",
    "_ = rdge.fit(X_train_transformed, y_train.values.ravel())\n",
    "yrdge, yrdge_predict = classifier_analysis(rdge, X_test_transformed,\n",
    "                                           y_test.values.ravel())"
   ]
  },
  {
   "cell_type": "markdown",
   "metadata": {},
   "source": [
    "As a reminder: this is only being performed on a sample of the true dataset as a preliminary test.\n",
    "These results seem much more realistic, they are better than when including recovered values equal\n",
    "to zero and they still agree with each other. Therefore, going forward, I choose to only use greater-than-zero\n",
    "recovery amounts when working with the full dataset."
   ]
  },
  {
   "cell_type": "code",
   "execution_count": null,
   "metadata": {},
   "outputs": [],
   "source": [
    "evscore_pca = []\n",
    "for n_pca in range(1, X_train_transformed.shape[1]):\n",
    "    pcatransformer = PCA(n_components=n_pca)\n",
    "    _ = pcatransformer.fit(X_train_transformed)\n",
    "    xt_pca = pcatransformer.transform(X_train_transformed)\n",
    "    xtest_pca =  pcatransformer.transform(X_test_transformed)\n",
    "\n",
    "    rdge = Ridge(tol=1e-01)\n",
    "    _ = rdge.fit(xt_pca, y_train.values.ravel())\n",
    "    evscore_pca += [my_score(rdge, xtest_pca, y_test.values.ravel())]\n",
    "    "
   ]
  },
  {
   "cell_type": "code",
   "execution_count": null,
   "metadata": {},
   "outputs": [],
   "source": [
    "n_pca_list = range(1, X_train_transformed.shape[1])\n",
    "plt.scatter(n_pca_list, evscore_pca, s=1)\n",
    "plt.ylim([0, 1])\n",
    "_ = plt.show()"
   ]
  },
  {
   "cell_type": "code",
   "execution_count": null,
   "metadata": {},
   "outputs": [],
   "source": [
    "evscore = []\n",
    "for n_slice in range(1, X_train_transformed.shape[1]):\n",
    "    rdge = Ridge(tol=1e-01)\n",
    "    _ = rdge.fit(X_train_transformed[:,:n_slice], y_train.values.ravel())\n",
    "    evscore += [my_score(rdge, X_test_transformed[:,:n_slice], y_test.values.ravel())]\n",
    "\n",
    "n_pca_list = range(1, X_train_transformed.shape[1])\n",
    "plt.scatter(n_pca_list, evscore, s=5)\n",
    "plt.ylim([0, 1])\n",
    "_ = plt.show()"
   ]
  },
  {
   "cell_type": "markdown",
   "metadata": {},
   "source": [
    "In light of these discoveries, I am going to continue without the suspicious features. Before\n",
    "models are used there should be clarification or investigation into the specific definitions of these\n",
    "features. The best practice seems to be to take a number of principal components of the feature data\n",
    "pertaining to only non-zero post charge off gross recoveries.  "
   ]
  },
  {
   "cell_type": "code",
   "execution_count": null,
   "metadata": {},
   "outputs": [],
   "source": [
    "date_features = ['last_pymnt_d', 'debt_settlement_flag_date',\n",
    "                 'last_credit_pull_d', 'issue_d', 'settlement_date',\n",
    "                 'sec_app_earliest_cr_line', 'earliest_cr_line']\n",
    "\n",
    "num_and_cat_data = loan_data.drop(columns=date_features)\n",
    "\n",
    "# Assign target/training variables\n",
    "y = num_and_cat_data.recoveries\n",
    "y = y[y > 0]\n",
    "X = num_and_cat_data.drop(columns=['recoveries', 'collection_recovery_fee',\n",
    "                                  'total_pymnt', 'total_rec_prncp', 'total_rec_int']).loc[y.index,:]\n",
    "\n",
    "num_features = X.select_dtypes(exclude=['object']).columns\n",
    "cat_features = X.select_dtypes(include=['object']).columns\n",
    "\n",
    "X_traintest, X_holdout, y_traintest, y_holdout = train_test_split(\n",
    "    X, y, test_size=0.2)"
   ]
  },
  {
   "cell_type": "markdown",
   "metadata": {},
   "source": [
    "### Model training and analysis\n",
    "\n",
    "The column transformation process is included in the custom cross-validation modeling functions.\n",
    "To be explicit, the cross-validation uses only \"traintest\" variables using a set of KFold cross-validation\n",
    "folds. After the best model is chosen by the cross validation process (which uses explained variance as the\n",
    "scoring parameter) then the model is trained on the entirity of the \"traintest\" set, and then tested using\n",
    "the \"holdout\" set. At no point is the \"holdout\" data used in any training or data transformations. This ensures\n",
    "that no data contamination or data snooping occurs.\n",
    "\n",
    "There aren't an exceptional amount of hyperparameters to vary for stochastic gradient descent and ridge\n",
    "regression. Instead, I elect to vary the numerical column transformer in addition to ridge regression\n",
    "and stochastic gradient descent regressor's hyperparameters. Categorical variables (the datetime-like ones)\n",
    "are removed from the discussion due to the amount of noise they introduce."
   ]
  },
  {
   "cell_type": "code",
   "execution_count": null,
   "metadata": {},
   "outputs": [],
   "source": [
    "sgd_param_grid = {'random_state':0, 'alpha':[0.1, 1, 2],\n",
    "                  'tol':[1e-1, 1e-3, 1e-5]}\n",
    "\n",
    "ridge_param_grid = {'alpha':[0.1, 1, 2], 'tol':[1e-1, 1e-3, 1e-5]}"
   ]
  },
  {
   "cell_type": "markdown",
   "metadata": {},
   "source": [
    "Initialize the column transformers which are identical up to numerical transformers. Currently the datetime like features\n",
    "are not used because I think that the binning introduces too much noise and yields poor results. "
   ]
  },
  {
   "cell_type": "code",
   "execution_count": null,
   "metadata": {},
   "outputs": [],
   "source": [
    "col_transformer_s = my_feature_transformer(\n",
    "    X, num_features, cat_features, None, num_transformer=StandardScaler()\n",
    "    )\n",
    "\n",
    "col_transformer_m = my_feature_transformer(\n",
    "    X, num_features, cat_features, None, num_transformer=MinMaxScaler()\n",
    "    )\n",
    "\n",
    "col_transformer_q = my_feature_transformer(\n",
    "    X, num_features, cat_features, None, num_transformer=QuantileTransformer()\n",
    "    )"
   ]
  },
  {
   "cell_type": "markdown",
   "metadata": {},
   "source": [
    "Cross validate and find the best hyperparameter combination coefficient for each model + transformer combination. "
   ]
  },
  {
   "cell_type": "code",
   "execution_count": null,
   "metadata": {},
   "outputs": [],
   "source": [
    "sgd_s = cross_validated_model(\n",
    "    SGDRegressor, col_transformer_s, None, X_traintest, \n",
    "    y_traintest, X_holdout, y_holdout, sgd_param_grid, pca=None)\n",
    "\n",
    "ridge_s = cross_validated_model(\n",
    "    Ridge, col_transformer_s, None, X_traintest, \n",
    "    y_traintest, X_holdout, y_holdout, ridge_param_grid, pca=None)"
   ]
  },
  {
   "cell_type": "code",
   "execution_count": null,
   "metadata": {
    "scrolled": true
   },
   "outputs": [],
   "source": [
    "sgd_m = cross_validated_model(\n",
    "    SGDRegressor, col_transformer_m, None, X_traintest, \n",
    "    y_traintest, X_holdout, y_holdout, sgd_param_grid, pca=None)\n",
    "\n",
    "ridge_m = cross_validated_model(\n",
    "    Ridge, col_transformer_m, None, X_traintest, \n",
    "    y_traintest, X_holdout, y_holdout, ridge_param_grid, pca=None)"
   ]
  },
  {
   "cell_type": "code",
   "execution_count": null,
   "metadata": {},
   "outputs": [],
   "source": [
    "sgd_q = cross_validated_model(\n",
    "    SGDRegressor, col_transformer_q, None, X_traintest, \n",
    "    y_traintest, X_holdout, y_holdout, sgd_param_grid, pca=None)\n",
    "\n",
    "ridge_q = cross_validated_model(\n",
    "    Ridge, col_transformer_q, None, X_traintest, \n",
    "    y_traintest, X_holdout, y_holdout, ridge_param_grid, pca=None)"
   ]
  },
  {
   "cell_type": "code",
   "execution_count": null,
   "metadata": {},
   "outputs": [],
   "source": [
    "_ = classifier_analysis(*tuple(sgd_s[:3]))\n",
    "\n",
    "y_s, y_s_predict = classifier_analysis(*tuple(ridge_s[:3]))"
   ]
  },
  {
   "cell_type": "code",
   "execution_count": null,
   "metadata": {},
   "outputs": [],
   "source": [
    "_ = classifier_analysis(*tuple(sgd_m[:3]))\n",
    "\n",
    "y_m, y_m_predict = classifier_analysis(*tuple(ridge_m[:3]))"
   ]
  },
  {
   "cell_type": "code",
   "execution_count": null,
   "metadata": {},
   "outputs": [],
   "source": [
    "_ = classifier_analysis(*tuple(sgd_q[:3]))\n",
    "\n",
    "y_q, y_q_predict = classifier_analysis(*tuple(ridge_q[:3]))"
   ]
  },
  {
   "cell_type": "code",
   "execution_count": null,
   "metadata": {},
   "outputs": [],
   "source": [
    "ridge_m[0]"
   ]
  },
  {
   "cell_type": "markdown",
   "metadata": {},
   "source": [
    "With the assumption that the three \"suspicious\" features are actually acceptable I shall\n",
    "include them in another model."
   ]
  },
  {
   "cell_type": "code",
   "execution_count": null,
   "metadata": {},
   "outputs": [],
   "source": [
    "date_features = ['last_pymnt_d', 'debt_settlement_flag_date',\n",
    "                 'last_credit_pull_d', 'issue_d', 'settlement_date',\n",
    "                 'sec_app_earliest_cr_line', 'earliest_cr_line']\n",
    "\n",
    "num_and_cat_data = loan_data.drop(columns=date_features)\n",
    "\n",
    "# Assign target/training variables\n",
    "y = num_and_cat_data.recoveries\n",
    "y = y[y > 0]\n",
    "X = num_and_cat_data.drop(columns=['recoveries', 'collection_recovery_fee']).loc[y.index,:]\n",
    "\n",
    "num_features = X.select_dtypes(exclude=['object']).columns\n",
    "cat_features = X.select_dtypes(include=['object']).columns\n",
    "\n",
    "X_traintest, X_holdout, y_traintest, y_holdout = train_test_split(X, y, test_size=0.2)"
   ]
  },
  {
   "cell_type": "markdown",
   "metadata": {},
   "source": [
    "While cross validation over various parameters is performed the main comparisons are made between the various choices\n",
    "of numerical transformers; that is, the investigation here considers the four choices of combinations of QuantileTransformer()\n",
    "and MinMaxScaler() for the feature and target data. This could and probably should be handled by nested cross validation. I look at some preliminary results to see if there is anything disastrously wrong with any of the transformer selections.  \n",
    "\n",
    "The above plots represent results from scaling with MinMaxScaler on both feature and target data. \n",
    "\n",
    "    1. The prediction vs. true values for stochastic gradient descent\n",
    "    2. The prediction vs. true values for ridge regression\n",
    "    3. The ridge regression results from (2) mapped back to the original, unscaled space.\n",
    "\n",
    "In every case the Ridge regression outperforms the stochastic gradient descent. \n",
    "Simple comparison of the true to predicted values of the application of MinMaxScaler() and QuantileTransformer() lead to very similar results.\n",
    "\n",
    "| Scaling | Mean-squared error | Estimated variance |\n",
    "| --- | --- | --- |\n",
    "| QuantileTransformer | 2278262.7349281064 | 0.4270508478802073|\n",
    "| MinMaxScaler | 2205599.158832141 | 0.44532419977748505|\n",
    "| StandardScaler | 2381178.413802254 | 0.40166608575310014|\n",
    "\n",
    "This makes MinMaxScaler the clear winner. I believe the reason the predictions diverge from the truth in the limit of large\n",
    "recoveries is because there is not much data near the upper limit. It is hard to give a precise explanation because the\n",
    "transformation is non-linear."
   ]
  },
  {
   "cell_type": "code",
   "execution_count": null,
   "metadata": {},
   "outputs": [],
   "source": [
    "col_transformer_ = my_feature_transformer(X, num_features, cat_features, None, num_transformer=MinMaxScaler())\n",
    "_ = col_transformer_.fit(X_traintest)\n",
    "X_traintest_final = col_transformer_.transform(X_traintest)\n",
    "X_holdout_final = col_transformer_.transform(X_holdout)\n",
    "\n",
    "\n",
    "model = Ridge(alpha=5, tol=1e-10)\n",
    "_ = model.fit(X_traintest_final, y_traintest.values.ravel())\n",
    "_, y_predict_final = classifier_analysis(model, X_holdout_final, y_holdout)"
   ]
  },
  {
   "cell_type": "markdown",
   "metadata": {},
   "source": [
    "It's quite clear that the inclusion of all of the features performs dramatically better, therefore the course of action would be to discover whether or not the inclusion of these features is valid. This is outside of my power, however, so the investigation ends here.\n",
    "In summary, Ridge regression with small regularization (larger value = smaller regularization per scikit-learn's docs)\n",
    "but a relatively strict tolerance seems to perform the best. The prediction for the recovered amount of capital seems\n",
    "the always be smaller than the true value, which I believe is better. "
   ]
  }
 ],
 "metadata": {
  "kernelspec": {
   "display_name": "Python 3",
   "language": "python",
   "name": "python3"
  },
  "language_info": {
   "codemirror_mode": {
    "name": "ipython",
    "version": 3
   },
   "file_extension": ".py",
   "mimetype": "text/x-python",
   "name": "python",
   "nbconvert_exporter": "python",
   "pygments_lexer": "ipython3",
   "version": "3.7.6"
  }
 },
 "nbformat": 4,
 "nbformat_minor": 2
}
