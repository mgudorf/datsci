{
 "cells": [
  {
   "cell_type": "code",
   "execution_count": 1,
   "metadata": {},
   "outputs": [],
   "source": [
    "import numpy as np\n",
    "import pandas as pd\n",
    "import seaborn as sns\n",
    "import matplotlib.pyplot as plt\n",
    "import os\n",
    "import sys\n",
    "import re\n",
    "import warnings\n",
    "import itertools\n",
    "warnings.simplefilter(action='ignore', category=FutureWarning)\n",
    "from tensorflow.keras.regularizers import l2\n",
    "from tensorflow.keras import Input, Model\n",
    "from tensorflow.keras.initializers import RandomUniform, RandomNormal\n",
    "from tensorflow.keras.models import Sequential\n",
    "from tensorflow.keras.layers import Dense, Flatten, Dropout, Conv1D, MaxPooling1D, Reshape, BatchNormalization\n",
    "from tensorflow.keras.layers import AveragePooling1D, SeparableConv2D, Activation, concatenate, Conv2D\n",
    "from tensorflow.keras.utils import to_categorical\n",
    "from tensorflow.keras.losses import KLDivergence\n",
    "from tensorflow.keras.preprocessing.sequence import pad_sequences\n",
    "from tensorflow.keras.optimizers import SGD, Adam\n",
    "from sklearn.metrics import mean_absolute_error, explained_variance_score, mean_squared_error, make_scorer\n",
    "from sklearn.preprocessing import StandardScaler, MinMaxScaler, QuantileTransformer\n",
    "from sklearn.linear_model import RidgeCV\n",
    "from tensorflow.keras.constraints import non_neg\n",
    "warnings.resetwarnings()"
   ]
  },
  {
   "cell_type": "markdown",
   "metadata": {},
   "source": [
    "# Model Prototyping\n",
    "\n",
    "# Table of contents\n",
    "<a id='toc'></a>\n",
    "## [Introduction](#intro)\n",
    "## [Data](#data)\n",
    "## [COVID-19 Case number modeling](#model)\n",
    "## [Fully connected Neural Network](#NN)\n",
    "## [Convolutional Neural Network](#CNN)\n",
    "## [Ridge Regression](#regression)\n",
    "## [Conclusion](#conclusion)"
   ]
  },
  {
   "cell_type": "markdown",
   "metadata": {},
   "source": [
    "# Introduction\n",
    "<a id='intro'></a>\n",
    "The goal of this notebook is to get a feel for the performance of the two different types of models to be trained.\n",
    "Specifically, comparison will be made between a naive baseline model, a ridge regression model, and a convolutional neural network model. Because this notebook is simply prototyping, a very small subset of the available data will be used; a single \n",
    "feature's time series for a single country, the United States. This single feature is all that will be available to the CNN and Ridge regression models; because eventually the feature data used in the regression is much larger than that used in the CNN training, this might be an unfair comparison.\n",
    "\n",
    "The main issue for using a very small subset of data is that I believe it will negatively affect the neural networks more than the regression, but this notebook is to mainly get a feeling for the Keras API and how the data must be formatted.   \n",
    "I debated between using MAE vs. MSE but decided it would be better to account for outliers during the preprocessing phase rather than using MAE. I use ridge regression as opposed to say, Lasso, because there will not be many features used and so the added benefit of feature selection via the $L_1$ norm is really as useful. Usage of the non-default scoring for Ridge means I have to use RidgeCV, which means I need to provide my own folds in order to respect time ordering."
   ]
  },
  {
   "cell_type": "code",
   "execution_count": 2,
   "metadata": {},
   "outputs": [],
   "source": [
    "def country_slice(data, locations):\n",
    "    # used as convenience function with pandas\n",
    "    if type(locations)==str:\n",
    "        return data[data.location==locations]\n",
    "    else:\n",
    "        return data[data.location.isin(locations)]\n",
    "    \n",
    "def time_slice(data, start, end, indexer='time_index'):\n",
    "    # used as convenience function with pandas, used to slice custom time index\n",
    "    if start < 0 and end < 0:\n",
    "        if start == -1:\n",
    "            start = data.loc[:, indexer].max()\n",
    "        else:\n",
    "            start = data.loc[:, indexer].max()+start\n",
    "        if end == -1:\n",
    "            end = data.loc[:, indexer].max()\n",
    "        else:\n",
    "            end = data.loc[:, indexer].max()+end\n",
    "    return data[(data.loc[:, indexer] >= start) & (data.loc[:, indexer] <= end)]\n",
    "\n",
    "def per_country_plot(data, feature, legend=True):\n",
    "    # plot time series for all countries\n",
    "    data.set_index(['time_index', 'location']).loc[:, feature].unstack().plot(legend=legend)\n",
    "    return None\n",
    "\n",
    "def per_time_plot(data, feature, legend=True):\n",
    "    # plot Series for all times (not useful, I meant to do something else)\n",
    "    data.set_index(['location','time_index']).loc[:, feature].unstack().plot(legend=legend)\n",
    "    return None\n",
    "\n",
    "def column_search(df, name, return_style='loc', threshold='contains'):\n",
    "    # Due to redundant data and large number of columns, remembering the\n",
    "    # exact names can be a chore. \n",
    "    if threshold=='contains':\n",
    "        func = df.columns.str.contains\n",
    "    else:\n",
    "        func = df.columns.str.match\n",
    "        \n",
    "    if return_style == 'loc':\n",
    "        return df.columns[func(name)]\n",
    "    elif return_style== 'iloc':\n",
    "        return np.where(func(name))[0]\n",
    "    else:\n",
    "        return None\n",
    "\n",
    "def residual_plot(y_test, y_predict, title='', ax=None):\n",
    "    # plot the residuals\n",
    "    if ax is None:\n",
    "        fig, ax = plt.subplots()\n",
    "    ax.scatter(y_test, y_test-y_predict.ravel(), s=20,alpha=0.7)\n",
    "    ax.set_ylabel('Residual')\n",
    "    ax.set_xlabel('True value')\n",
    "    ax.grid(True)\n",
    "    return None\n",
    "\n",
    "def create_Xy(model_data, target_data, time_index, start_date, frame_size, n_days_into_future, n_countries):\n",
    "    for max_date_in_frame in range(start_date, time_index.max() - n_days_into_future + 2):\n",
    "        frame_data = model_data[(time_index <= max_date_in_frame-1) & \n",
    "                                (time_index >= max_date_in_frame-frame_size)]\n",
    "        reshaped_frame_data = frame_data.values.reshape(n_countries, frame_size, -1)\n",
    "\n",
    "        resized_frame_data = pad_sequences(reshaped_frame_data, maxlen=frame_size, dtype=np.float64)\n",
    "        frame_data_4D = resized_frame_data[np.newaxis, :, :, :]\n",
    "        if max_date_in_frame == start_date:\n",
    "            print('Starting with frame ranging time_index values:', max_date_in_frame-frame_size, max_date_in_frame - 1)\n",
    "            X = frame_data_4D.copy()\n",
    "        else:\n",
    "            X = np.concatenate((X, frame_data_4D),axis=0)\n",
    "    print('Ending with frame ranging time_index values:', max_date_in_frame-frame_size, max_date_in_frame - 1)\n",
    "    y = target_data.values.reshape(-1, time_index.nunique()).transpose()[-X.shape[0]:,:]\n",
    "    return X, y\n",
    "\n",
    "def split_Xy(X, y, frame_size, n_validation_frames, n_test_frames, train_test_only=False, model_type='cnn'):\n",
    "    \"\"\" Split into training, validation and test data.\n",
    "    \"\"\"\n",
    "    \n",
    "    # the indices for the train-validate-test splits for when the predictors are put in a 2-d format.\n",
    "    train_indices = list(range(n_countries*0, n_countries*(len(X)-(n_validation_frames+n_test_frames))))\n",
    "    validate_indices = list(range(n_countries*(len(X)-(n_validation_frames+n_test_frames)), n_countries*(len(X)-n_test_frames)))\n",
    "    test_indices = list(range(n_countries*(len(X)-n_test_frames), n_countries*len(X)))\n",
    "    indices = (train_indices, validate_indices, test_indices)\n",
    "\n",
    "    # Note that the last frame (date_range) that exists in X has already been determined by the choice of the number\n",
    "    # of steps to predict in the future, this is only slicing the frames. \n",
    "    if train_test_only:\n",
    "        X_train= X[:-n_test_frames,:,:,:]\n",
    "        y_train =  y[:-n_test_frames,:]\n",
    "        X_test = X[-n_test_frames:, :, :, :] \n",
    "        y_test = y[-n_test_frames:, :]\n",
    "        splits =  (X_train, y_train, X_test, y_test)\n",
    "    else:\n",
    "        y_train =  y[:-(n_validation_frames+n_test_frames),:]\n",
    "        y_validate = y[-(n_validation_frames+n_test_frames):-n_test_frames, :]\n",
    "        X_train= X[:-(n_validation_frames+n_test_frames),:,:,:]\n",
    "        y_train =  y[:-(n_validation_frames+n_test_frames),:]\n",
    "        X_validate = X[-(n_validation_frames+n_test_frames):-n_test_frames, :, :, :]\n",
    "        y_validate = y[-(n_validation_frames+n_test_frames):-n_test_frames, :]\n",
    "        X_test = X[-n_test_frames:, :, :, :] \n",
    "        y_test = y[-n_test_frames:, :]\n",
    "        splits =  (X_train, y_train, X_validate, y_validate,\n",
    "                   X_test, y_test)\n",
    "\n",
    "    return splits, indices\n",
    "\n",
    "\n",
    "def flatten_Xy_splits(splits):\n",
    "    (X_train, y_train, X_validate, y_validate, X_test, y_test) = splits\n",
    "    X_train_flat =np.concatenate(X_train.reshape(X_train.shape[0], X_train.shape[1], -1), axis=0)\n",
    "    X_validate_flat =np.concatenate(X_validate.reshape(X_validate.shape[0], X_validate.shape[1], -1), axis=0)\n",
    "    X_test_flat =np.concatenate(X_test.reshape(X_test.shape[0], X_test.shape[1], -1), axis=0)\n",
    "    y_train_flat = y_train.ravel()\n",
    "    y_validate_flat = y_validate.ravel()\n",
    "    y_test_flat = y_test.ravel()\n",
    "    flat_splits = (X_train_flat , y_train_flat , X_validate_flat , y_validate_flat , X_test_flat , y_test_flat )\n",
    "    return flat_splits\n",
    "\n",
    "def model_analysis(y_true, y_naive, y_predict, n_countries, title='',suptitle='',figname=None, scale=None, s=None):\n",
    "    print('There were {} negative predictions'.format(len(y_predict[y_predict<0])))\n",
    "    #     y_predict[y_predict<0]=0\n",
    "    # compute scores \n",
    "    mse_naive = mean_squared_error(y_true.ravel(), y_naive.ravel())\n",
    "    mse_predict = mean_squared_error(y_true.ravel(), y_predict)\n",
    "    r2_naive = explained_variance_score(y_true.ravel(), y_naive.ravel())\n",
    "    r2_predict = explained_variance_score(y_true.ravel(), y_predict)\n",
    "\n",
    "    print('{}-step MSE [Naive, {}] = [{},{}]'.format(\n",
    "    n_days_into_future,title, mse_naive, mse_predict))\n",
    "    print('{}-step R^2 [Naive, {}] = [{},{}]'.format(\n",
    "    n_days_into_future,title, r2_naive, r2_predict))\n",
    "\n",
    "    fig, axes = plt.subplots(2, 2, figsize=(15,10))\n",
    "    (ax1,ax2,ax3,ax4) = axes.flatten()\n",
    "    if scale == 'log':\n",
    "        ymax = np.max([np.log(1+y_true).max(), np.log(1+y_predict).max()])\n",
    "        ax1.scatter(np.log(y_true+1), np.log(y_naive+1), s=s,alpha=0.7)\n",
    "        ax1.plot([0, ymax], [0, ymax],color='r')\n",
    "        ax2.scatter(np.log(y_true+1), np.log(y_predict+1), s=s,alpha=0.7)\n",
    "        ax2.plot([0, ymax], [0, ymax],color='r')\n",
    "    else:\n",
    "        ymax = np.max([y_true.max(), y_predict.max()])\n",
    "        ax1.scatter(y_true, y_naive, s=s)\n",
    "        ax1.plot([0, ymax], [0, ymax],color='r')\n",
    "        ax2.scatter(y_true, y_predict, s=s)\n",
    "        ax2.plot([0, ymax], [0, ymax],color='r')\n",
    "    \n",
    "    ax1.text(0.0, ymax,'$MSE$ = {}'.format(np.round(mse_naive,3)),fontsize=14)\n",
    "    ax1.text(0.0, 0.9*ymax,'$R^2$ = {}'.format(np.round(r2_naive,3)),fontsize=14)\n",
    "    ax1.set_xlabel('True value')\n",
    "    ax1.set_ylabel('Predicted value')\n",
    "    ax1.set_title('Naive model')\n",
    "             \n",
    "    ax2.text(0.0, ymax,'$MSE$ = {}'.format(np.round(mse_predict,3)),fontsize=14)\n",
    "    ax2.text(0.0, 0.9*ymax,'$R^2$ = {}'.format(np.round(r2_predict,3)),fontsize=14)\n",
    "    ax2.set_xlabel('True value')\n",
    "    ax2.set_ylabel('Predicted value')\n",
    "    ax2.set_title(title)\n",
    "    ax1.grid(True)\n",
    "    ax2.grid(True)\n",
    "    plt.suptitle(suptitle)\n",
    "\n",
    "    \n",
    "    xrange = range(len(y_true))\n",
    "    if scale=='log':\n",
    "        residual_plot(np.log(y_true+1),np.log(y_naive+1), ax=ax3)\n",
    "        residual_plot(np.log(y_true+1),np.log(y_predict+1), ax=ax4)\n",
    "    else:\n",
    "        residual_plot(y_true,y_naive, ax=ax3)\n",
    "        residual_plot(y_true,y_predict, ax=ax4)\n",
    "    ax3.set_title('')\n",
    "    ax4.set_title('')\n",
    "    ax3.set_ylabel('Residual')\n",
    "    ax4.set_ylabel('Residual')\n",
    "    ax3.grid(True)\n",
    "    ax4.grid(True)\n",
    "    \n",
    "    if figname is not None:\n",
    "        plt.savefig(figname, bbox_inches='tight')\n",
    "        \n",
    "    plt.show()\n",
    "    return None\n",
    "\n",
    "\n",
    "def normalize_Xy(splits, feature_range=(0., 1.0), normalization_method='minmax',\n",
    "                        train_test_only=False, feature_indices=None):\n",
    "    \"\"\" Split into training, validation and test data.\n",
    "    Normalize with respect to some absolute max, just choose 2*absolute max of training set. \n",
    "\n",
    "    \"\"\"\n",
    "    \n",
    "    min_, max_ = feature_range\n",
    "    (X_train, y_train, X_validate, y_validate, X_test, y_test) = splits\n",
    "    feature_minima = X_train[:,:,:,:].min((0,1,2))[np.newaxis,np.newaxis,np.newaxis,:]\n",
    "    feature_maxima = 2*X_train[:,:,:,:].max((0,1,2))[np.newaxis,np.newaxis,np.newaxis,:]\n",
    "    feature_denominator = feature_maxima-feature_minima\n",
    "    # get the shape of each split's array, so that array arithmetic can be done. \n",
    "    train_tile_shape = np.array(np.array(X_train.shape)/np.array(feature_maxima.shape),int)\n",
    "    validate_tile_shape = np.array(np.array(X_validate.shape)/np.array(feature_maxima.shape),int)\n",
    "    test_tile_shape = np.array(np.array(X_test.shape)/np.array(feature_maxima.shape),int)\n",
    "\n",
    "    # using X - X_min / (X_max-X_min). Form denominator\n",
    "    train_denominator = np.tile(feature_denominator, train_tile_shape)\n",
    "    validate_denominator = np.tile(feature_denominator, validate_tile_shape)\n",
    "    test_denominator = np.tile(feature_denominator, test_tile_shape)\n",
    "    \n",
    "    # and then the minima.\n",
    "    train_minima = np.tile(feature_minima,train_tile_shape)\n",
    "    validate_minima = np.tile(feature_minima,validate_tile_shape)\n",
    "    test_minima = np.tile(feature_minima,test_tile_shape)\n",
    "    \n",
    "    # factor of 1/max_ accounts for absolute maximum that is outside of the data (i.e. potential future values). \n",
    "    X_train_scaled = (max_-min_)*(X_train - train_minima)/train_denominator\n",
    "    X_validate_scaled = (max_-min_)*(X_validate - validate_minima)/validate_denominator\n",
    "    X_test_scaled = (max_-min_)*(X_test - test_minima)/test_denominator\n",
    "\n",
    "    \n",
    "    scaled_splits = (X_train_scaled, y_train, X_validate_scaled, y_validate, X_test_scaled, y_test) \n",
    "    scaling_arrays =  (feature_maxima, feature_minima, feature_denominator)\n",
    "\n",
    "    return scaled_splits, scaling_arrays"
   ]
  },
  {
   "cell_type": "code",
   "execution_count": 3,
   "metadata": {},
   "outputs": [],
   "source": [
    "# Import cleaned data produced by other notebook. \n",
    "global_data = pd.read_csv('cnn_data.csv',index_col=0)"
   ]
  },
  {
   "cell_type": "markdown",
   "metadata": {},
   "source": [
    "For the prototyping of the neural networks I will only use a single time series, new cases per million, for a single country, the United States."
   ]
  },
  {
   "cell_type": "code",
   "execution_count": 4,
   "metadata": {},
   "outputs": [],
   "source": [
    "data = global_data[global_data.location=='United States'].reset_index(drop=True)\n",
    "data = data.drop(columns=['date'])"
   ]
  },
  {
   "cell_type": "markdown",
   "metadata": {},
   "source": [
    "# Data\n",
    "<a id='data'></a>\n",
    "\n",
    "There are five main steps in the data preprocessing stage.\n",
    "    \n",
    "    1. Feature selection\n",
    "    2. Creation of time frames\n",
    "    3. Splitting the data into different sets for validation\n",
    "    4. Rescaling of the data\n",
    "    5. Reshaping to abide by keras/scikit-learn conventions \n",
    "\n",
    "### 1. Feature Selection\n",
    "\n",
    "This does not really play a role in this notebook because I am prototyping using only a single feature for the neural networks. For the regression this is different and so I will explain my rationale in regards to feature selection. I do not use quantitative means for feature selection (No recursive feature elimination, PCA, etc.) rather I use a qualitative argument for my choices, but I will leave that for the main model creation notebooks.\n",
    "\n",
    "### 2. Creation of time-frames\n",
    "\n",
    "The data will be formatted in the following manner for both the neural networks and the regression models. \n",
    "The original table format of the data is that each row of the table ```data``` (DataFrame, technically) contains\n",
    "a single day's information for a single country. In order to better suit the time series nature of the features utilized, I will increase the dimension (columns) of each sample by concatenating multiple days worth of data. Specifically, I format the data such that each row is comprised of 28 days of feature day for a single country. Hereafter I refer to this concatenation of \n",
    "multiple time steps as 'frames' of time, or simply time frames. These can be thought of as sliding a step-function window across the feature data to create a collection of time frames. In the splitting of the data into different sets, I identify each frame by its most recent date. \n",
    "\n",
    "To help the reader understand this concept, I include a hand drawn image of this. "
   ]
  },
  {
   "cell_type": "markdown",
   "metadata": {},
   "source": [
    "<div>\n",
    "<img src=\"time_frames.jpg\" width=\"500\"/>\n",
    "</div>"
   ]
  },
  {
   "cell_type": "markdown",
   "metadata": {},
   "source": [
    "By iterating over possible leading window dates a 4-d tensor with dimensions given by the following is created:\n",
    "\n",
    "```X.shape = (n_frames, n_countries, n_time_steps, n_features)```\n",
    "\n",
    "\n",
    "### 3. Splitting the data into train, validate, test.\n",
    "Now, splitting X intro train, validate, test, is as easy as slicing the first axis. \n",
    "Going backwards in time, the testing set contains the next to last most recent day's worth of values. It's not\n",
    "the last day because the last day has no \"future\" with which to compare, and so no worthwhile prediction can be\n",
    "made. The test set is defined by slicing X for its last row(s) (plural if n_test_frames > 1). The validation set that will \n",
    "be used is the next 7 days worth of values and the training data is everything else."
   ]
  },
  {
   "cell_type": "markdown",
   "metadata": {},
   "source": [
    "The keras API expects a three dimensional tensor, and so after the slicing/partitioning into different sets, the first axis\n",
    "is concatenated such that the effect dimensions are ```(n_frames*n_countries, n_time_steps, n_features)```.\n",
    "This is done via the function ```flatten_Xy```. Technically, when initializing the model it expects a 2-d shape. This is because the data is organized as ```(batch_size, time_steps, features)```. In other words, when initializing the model, one gives the api a shape of a single sample. This is visualized in the image below. "
   ]
  },
  {
   "cell_type": "markdown",
   "metadata": {},
   "source": [
    "<div>\n",
    "<img src=\"3d_tensor_input.jpg\" width=\"300\" height=\"300\">\n",
    "</div>"
   ]
  },
  {
   "cell_type": "markdown",
   "metadata": {},
   "source": [
    "### 4. Rescaling\n",
    "\n",
    "The fourth preprocessing step is to rescale the data, For this purpose, I will use MinMax scaling, except instead of using the maximum values in the training set I instead create some arbitrary maximum and\n",
    "use this to rescale values to the interval [0, 1] (such that the fictitious maximum equals 1, I elect to use twice the maxima of the training sets). The use of this arbitrary maximum is to account for the possibility of future growth. \n",
    "The reasons why MinMax scaling is used: all of the independent variables take non-negative values and so maintaining this property helps interpretability. The numerical reason is because of how neural networks typically respond negatively to wide ranges of scales, because it can make weights large in magnitude.   \n",
    "\n",
    "### 5. Reshaping\n",
    "\n",
    "And finally, the last preprocessing step is to reshape the data to abide by the various conventions.\n",
    "For the Keras API, the (1d) convolutional layers expect a tensor of the shape (trying to stick to their notation)\n",
    "\n",
    "```Conv1d_input_shape = (batch_size, time_steps, n_features)``` .\n",
    "\n",
    "In this instance, batch size represents a collection of samples: the individual time frames for each country. Therefore if it helps, the batch is a collection of time frames, even one iterated through the batch sequentially, it would produce a collection of slide shows, one for each country. This can be achieved by simply collapsing the first axis such that \n",
    "\n",
    "```(n_frames*n_countries, n_time_steps, n_features)``` is the final shape of a 3-d tensor.\n",
    "\n",
    "\n",
    "For the Ridge regression we must go one step further, as it expects a matrix, or 2-d array, for the set of predictors. Each\n",
    "frame will represent a row of this matrix, such that by combining the last two axes, we get the correct form. In other words, the final shape is to be \n",
    "\n",
    "```(n_frames*n_countries, n_time_steps*n_features)``` is the final, two-dimensional shape.\n"
   ]
  },
  {
   "cell_type": "markdown",
   "metadata": {},
   "source": [
    "# COVID-19 Case number modeling\n",
    "<a id='model'></a>\n",
    "[Return to table of contents](#toc)\n",
    "\n",
    "# 1. Fully connected neural network model\n",
    "<a id='NN'></a>\n",
    "For the purpose of this project I will maintain a constant architecture for the neural networks and mainly perform tuning via the parameters therein. Investigations of new architectures are left for future work. The neural network architecture is drawn in the following figure.\n",
    "\n",
    "<div>\n",
    "<img src=\"nn.jpg\" width=\"600\" height=\"300\">\n",
    "</div>\n",
    "\n",
    "The output is a single number, the predictive output for the number of new cases."
   ]
  },
  {
   "cell_type": "code",
   "execution_count": 5,
   "metadata": {},
   "outputs": [],
   "source": [
    "# Single out the only feature used for the prototyping.\n",
    "model_data = data.copy().loc[:, 'new_cases_per_million'].to_frame()\n",
    "new_cases_index = column_search(model_data,'new_cases_per_million', threshold='match', return_style='iloc')[0]\n",
    "model_data = model_data.iloc[:, new_cases_index].to_frame(); new_cases_index=0\n",
    "\n",
    "# query some parameters to be used for convenience and formatting.\n",
    "n_countries = data.location.nunique()\n",
    "target_data = data.new_cases_per_million\n",
    "time_index = data.time_index\n",
    "\n",
    "# get the start date for the frames, and the frame size\n",
    "frame_size = 28\n",
    "start_date = frame_size + data.time_index.min()\n",
    "\n",
    "# determine the size of the splits \n",
    "n_validation_frames = 7\n",
    "n_test_frames = 1\n",
    "n_days_into_future = 1"
   ]
  },
  {
   "cell_type": "code",
   "execution_count": 6,
   "metadata": {},
   "outputs": [
    {
     "name": "stdout",
     "output_type": "stream",
     "text": [
      "Starting with frame ranging time_index values: 0 27\n",
      "Ending with frame ranging time_index values: 154 181\n"
     ]
    }
   ],
   "source": [
    "# split the data\n",
    "X, y = create_Xy(model_data, target_data, time_index, start_date, frame_size, n_days_into_future, n_countries)\n",
    "splits, indices = split_Xy(X, y, frame_size, n_validation_frames, n_test_frames)"
   ]
  },
  {
   "cell_type": "code",
   "execution_count": 7,
   "metadata": {},
   "outputs": [
    {
     "name": "stdout",
     "output_type": "stream",
     "text": [
      "In the data that will be used for training my prototype models, there are:\n",
      "(155, 1, 28, 1)\n",
      "A total of 155 frames\n",
      "A total of 1 countries\n",
      "A total of 28 time steps in each frame\n",
      "A total of 1 features\n"
     ]
    }
   ],
   "source": [
    "print('In the data that will be used for training my prototype models, there are:')\n",
    "print(X.shape)\n",
    "print('A total of {} frames'.format(X.shape[0]))\n",
    "print('A total of {} countries'.format(X.shape[1]))\n",
    "print('A total of {} time steps in each frame'.format(X.shape[2]))\n",
    "print('A total of {} features'.format(X.shape[3]))"
   ]
  },
  {
   "cell_type": "code",
   "execution_count": 8,
   "metadata": {},
   "outputs": [],
   "source": [
    "# Rescale the data \n",
    "scaled_splits, scaling_arrays =  normalize_Xy(splits, feature_range=(0,1.0), \n",
    "                                                                  normalization_method='minmax',\n",
    "                                                                  train_test_only=False,\n",
    "                                                                  feature_indices=None)\n",
    "# if need to supply folds for sklearn CV regression functions.\n",
    "(X_nn_train, y_nn_train, X_nn_validate, y_nn_validate, X_nn_test, y_nn_test) = scaled_splits\n",
    "(train_indices, validate_indices, test_indices) = indices"
   ]
  },
  {
   "cell_type": "markdown",
   "metadata": {},
   "source": [
    "To ensure that the data has been split correctly and is aligned with the original values, I plot the scaled data's splits based on color, as well as the original supposed order. The order of the values is correct if the original values are black circles directly behind the colored train-validate-test splits circles'."
   ]
  },
  {
   "cell_type": "code",
   "execution_count": 9,
   "metadata": {},
   "outputs": [
    {
     "ename": "IndexError",
     "evalue": "too many indices for array",
     "output_type": "error",
     "traceback": [
      "\u001b[1;31m---------------------------------------------------------------------------\u001b[0m",
      "\u001b[1;31mIndexError\u001b[0m                                Traceback (most recent call last)",
      "\u001b[1;32m<ipython-input-9-4cc5689e6c1f>\u001b[0m in \u001b[0;36m<module>\u001b[1;34m\u001b[0m\n\u001b[0;32m     19\u001b[0m \u001b[1;31m# testing set\u001b[0m\u001b[1;33m\u001b[0m\u001b[1;33m\u001b[0m\u001b[1;33m\u001b[0m\u001b[0m\n\u001b[0;32m     20\u001b[0m ax.scatter(range(len(scaled_splits[0])+len(scaled_splits[2]), len(X)), \n\u001b[1;32m---> 21\u001b[1;33m             \u001b[0mscaled_splits\u001b[0m\u001b[1;33m[\u001b[0m\u001b[1;36m5\u001b[0m\u001b[1;33m]\u001b[0m\u001b[1;33m[\u001b[0m\u001b[1;33m:\u001b[0m\u001b[1;33m,\u001b[0m \u001b[0musa_indices\u001b[0m\u001b[1;33m,\u001b[0m\u001b[1;33m-\u001b[0m\u001b[1;36m1\u001b[0m\u001b[1;33m,\u001b[0m\u001b[0mnew_cases_index\u001b[0m\u001b[1;33m]\u001b[0m\u001b[1;33m\u001b[0m\u001b[1;33m\u001b[0m\u001b[0m\n\u001b[0m\u001b[0;32m     22\u001b[0m            , s=30, label='test')\n\u001b[0;32m     23\u001b[0m \u001b[1;33m\u001b[0m\u001b[0m\n",
      "\u001b[1;31mIndexError\u001b[0m: too many indices for array"
     ]
    },
    {
     "data": {
      "image/png": "[encoded data removed]",
      "text/plain": [
       "<Figure size 1080x360 with 1 Axes>"
      ]
     },
     "metadata": {
      "needs_background": "light"
     },
     "output_type": "display_data"
    }
   ],
   "source": [
    "# Preview the time series and its split. \n",
    "X_scaled_tmp = np.concatenate((X_nn_train,X_nn_validate,X_nn_test), axis=0)\n",
    "usa_indices = np.where(data.location.unique()=='United States')[0]\n",
    "fig, ax = plt.subplots(1,1, figsize=(15,5))\n",
    "\n",
    "# plot the original data before slicing \n",
    "ax.scatter(range(len(X_scaled_tmp)), X_scaled_tmp[:, usa_indices, -1, new_cases_index], s=100, color='k', label='original')\n",
    "\n",
    "# training set plot\n",
    "ax.scatter(range(len(scaled_splits[0])), \n",
    "           scaled_splits[0][:, usa_indices,-1, new_cases_index]\n",
    "           , s=30, label='train')\n",
    "\n",
    "# validation set\n",
    "ax.scatter(range(len(scaled_splits[0]), len(scaled_splits[0])+len(scaled_splits[2])), \n",
    "            scaled_splits[2][:, usa_indices,-1, new_cases_index]\n",
    "           , s=30, label='validate')\n",
    "\n",
    "# testing set\n",
    "ax.scatter(range(len(scaled_splits[0])+len(scaled_splits[2]), len(X)), \n",
    "            scaled_splits[5][:, usa_indices,-1,new_cases_index]\n",
    "           , s=30, label='test')\n",
    "\n",
    "plt.legend()\n",
    "plt.title('United States new cases per million time series')\n",
    "plt.ylabel('New cases per million (rescaled)')\n",
    "plt.xlabel('Time index')\n",
    "_ = plt.show()"
   ]
  },
  {
   "cell_type": "markdown",
   "metadata": {},
   "source": [
    "Scatter plots of train, validate, test sets, by plotting all values in black first I can ensure that the points\n",
    "are correctly ordered and at the correct values because it makes the rest of the points look like they have black borders."
   ]
  },
  {
   "cell_type": "code",
   "execution_count": null,
   "metadata": {},
   "outputs": [],
   "source": [
    "# collapse the time axis used for slicing\n",
    "X_nn_train_model = np.concatenate(X_nn_train.reshape(X_nn_train.shape[0], \n",
    "                                                     X_nn_train.shape[1], -1), axis=0)[:,:,np.newaxis]\n",
    "X_nn_validate_model = np.concatenate(X_nn_validate.reshape(X_nn_validate.shape[0], \n",
    "                                                           X_nn_validate.shape[1], -1), axis=0)[:,:,np.newaxis]\n",
    "X_nn_test_model = np.concatenate(X_nn_test.reshape(X_nn_test.shape[0], \n",
    "                                                   X_nn_test.shape[1], -1), axis=0)[:,:,np.newaxis]\n",
    "# reshape the dependent variable\n",
    "y_nn_train_model = y_nn_train.ravel()\n",
    "y_nn_validate_model = y_nn_validate.ravel()\n",
    "y_nn_test_model = y_nn_test.ravel()"
   ]
  },
  {
   "cell_type": "markdown",
   "metadata": {},
   "source": [
    "To get the correct arrays for the naive baseline, take the values from X instead of y, as y is shifted and makes the process more confusing and or susceptible to mistakes."
   ]
  },
  {
   "cell_type": "code",
   "execution_count": null,
   "metadata": {},
   "outputs": [],
   "source": [
    "X_for_naive_slicing = np.concatenate(X.reshape(X.shape[0], X.shape[1], -1), axis=0)\n",
    "n_features = X.shape[-1]\n",
    "last_day_new_cases_index = np.ravel_multi_index([[frame_size-1],[new_cases_index]],(frame_size, n_features))\n",
    "\n",
    "# Get the naive baseline values for each split\n",
    "y_train_naive = X_for_naive_slicing[train_indices, last_day_new_cases_index].ravel()\n",
    "y_validate_naive =  X_for_naive_slicing[validate_indices, last_day_new_cases_index].ravel()\n",
    "y_test_naive =  X_for_naive_slicing[test_indices, last_day_new_cases_index].ravel()"
   ]
  },
  {
   "cell_type": "markdown",
   "metadata": {},
   "source": [
    "For reproducibility set the seeds of the weights in the model."
   ]
  },
  {
   "cell_type": "code",
   "execution_count": null,
   "metadata": {},
   "outputs": [],
   "source": [
    "kernel0 = RandomNormal(seed=0)\n",
    "kernel1 = RandomNormal(seed=1)"
   ]
  },
  {
   "cell_type": "markdown",
   "metadata": {},
   "source": [
    "Initialize, compile the neural network, readying it for fitting "
   ]
  },
  {
   "cell_type": "code",
   "execution_count": null,
   "metadata": {},
   "outputs": [],
   "source": [
    "epochs = 2000\n",
    "batch_size = 32\n",
    "\n",
    "nn_input = Input(shape=X_nn_train.shape[2:])\n",
    "flat = Flatten()(nn_input)\n",
    "dense0 = Dense(int(flat.shape[1].value), \n",
    "                use_bias=False,\n",
    "               kernel_initializer=kernel0,\n",
    "\n",
    "               )(flat)\n",
    "dense1 = Dense(1, \n",
    "                activation='relu',\n",
    "                use_bias=False,\n",
    "                kernel_initializer=kernel1,\n",
    "\n",
    "               )(dense0)\n",
    "\n",
    "nn = Model(inputs=nn_input, outputs=dense1)\n",
    "nn.compile(loss='mae', optimizer=Adam())"
   ]
  },
  {
   "cell_type": "markdown",
   "metadata": {},
   "source": [
    "Check the number of parameters to see that there are not too many (as there are not many samples)"
   ]
  },
  {
   "cell_type": "code",
   "execution_count": null,
   "metadata": {},
   "outputs": [],
   "source": [
    "nn.summary()"
   ]
  },
  {
   "cell_type": "markdown",
   "metadata": {},
   "source": [
    "Fit the model to the scaled training and validation data. "
   ]
  },
  {
   "cell_type": "code",
   "execution_count": null,
   "metadata": {
    "scrolled": true
   },
   "outputs": [],
   "source": [
    "history = nn.fit(X_nn_train_model, y_nn_train_model, epochs=epochs, validation_data=(X_nn_validate_model, y_nn_validate_model), \n",
    "          batch_size=batch_size, verbose=0)"
   ]
  },
  {
   "cell_type": "markdown",
   "metadata": {},
   "source": [
    "Look at the training and validation loss vs epochs, to see if the model has been overtrained."
   ]
  },
  {
   "cell_type": "code",
   "execution_count": null,
   "metadata": {},
   "outputs": [],
   "source": [
    "_ = plt.plot(history.history['loss'], label='loss')\n",
    "_ = plt.plot(history.history['val_loss'], label='val_loss')\n",
    "_ = plt.legend()\n",
    "_ = plt.show()"
   ]
  },
  {
   "cell_type": "markdown",
   "metadata": {},
   "source": [
    "After fitting the data, look at some plots which compare the predictions for both the neural network and naive baseline vs the true values; first for the training and then the validation set."
   ]
  },
  {
   "cell_type": "code",
   "execution_count": null,
   "metadata": {},
   "outputs": [],
   "source": [
    "y_true =  y_nn_train_model.ravel()\n",
    "y_predict = nn.predict(X_nn_train_model).ravel()\n",
    "y_naive = y_train_naive\n",
    "model_analysis(y_true, y_naive, y_predict, n_countries, title='NN model',\n",
    "               suptitle='Naive baseline vs. predictions, training set',\n",
    "              figname='nn_prototype_train_performance.jpg')"
   ]
  },
  {
   "cell_type": "code",
   "execution_count": null,
   "metadata": {},
   "outputs": [],
   "source": [
    "y_true =  y_nn_validate_model.ravel()\n",
    "y_predict = nn.predict(X_nn_validate_model).ravel()\n",
    "y_naive = y_validate_naive\n",
    "model_analysis(y_true, y_naive, y_predict, n_countries, title='NN model',\n",
    "               suptitle='Naive baseline vs. predictions, validation set',\n",
    "              figname='nn_prototype_validate_performance.jpg')"
   ]
  },
  {
   "cell_type": "markdown",
   "metadata": {},
   "source": [
    "# 2. Convolutional neural network model\n",
    "<a id='cnn'></a>\n",
    "[Return to table of contents](#toc)\n",
    "\n",
    "The convolution is with respect to time, specifically the time steps within frames of time of predetermined length. The idea behind usage of a convolutional neural network is to have the network identify the relevant patterns in the dataset. This brings along with it a number of important details is indeed in the right dimension and that time-ordering is being respected by the training and validation process. The manner in which this is handled also has to be compatible with the keras API. The preprocessing is the same as that for the neural network, only that this time the input is not flattened until after the convolutional layers. So, proceeding as before, ***I do some redundant calculations here for the sake of modularity.***"
   ]
  },
  {
   "cell_type": "code",
   "execution_count": null,
   "metadata": {},
   "outputs": [],
   "source": [
    "# Single out the only feature used for the prototyping.\n",
    "model_data = data.copy().loc[:, 'new_cases_per_million'].to_frame()\n",
    "new_cases_index = column_search(model_data,'new_cases_per_million', threshold='match', return_style='iloc')[0]\n",
    "model_data = model_data.iloc[:, new_cases_index].to_frame(); new_cases_index=0\n",
    "\n",
    "# query some parameters to be used for convenience and formatting.\n",
    "n_countries = data.location.nunique()\n",
    "target_data = data.new_cases_per_million\n",
    "time_index = data.time_index\n",
    "\n",
    "# get the start date for the frames, and the frame size\n",
    "frame_size = 28\n",
    "start_date = frame_size + data.time_index.min()\n",
    "\n",
    "# determine the size of the splits \n",
    "n_validation_frames = 7\n",
    "n_test_frames = 1\n",
    "n_days_into_future = 1"
   ]
  },
  {
   "cell_type": "code",
   "execution_count": null,
   "metadata": {},
   "outputs": [],
   "source": [
    "X, y = create_Xy(model_data, target_data, time_index, start_date, frame_size, n_days_into_future, n_countries)\n",
    "splits, indices = split_Xy(X, y, frame_size, n_validation_frames, n_test_frames)\n",
    "\n",
    "scaled_splits, scaling_arrays =  normalize_Xy(splits, feature_range=(0,1.0), \n",
    "                                                                  normalization_method='minmax',\n",
    "                                                                  train_test_only=False,\n",
    "                                                                  feature_indices=None)\n",
    "# if need to supply folds for sklearn CV regression functions.\n",
    "(X_cnn_train, y_cnn_train, X_cnn_validate, y_cnn_validate, X_cnn_test, y_cnn_test) = splits\n",
    "(train_indices, validate_indices, test_indices) = indices\n",
    "\n",
    "X_cnn_train_model = np.concatenate(X_cnn_train.reshape(X_cnn_train.shape[0],\n",
    "                                                       X_cnn_train.shape[1], -1), axis=0)[:,:,np.newaxis]\n",
    "X_cnn_validate_model = np.concatenate(X_cnn_validate.reshape(X_cnn_validate.shape[0],\n",
    "                                                             X_cnn_validate.shape[1], -1), axis=0)[:,:,np.newaxis]\n",
    "X_cnn_test_model = np.concatenate(X_cnn_test.reshape(X_cnn_test.shape[0],\n",
    "                                                     X_cnn_test.shape[1], -1), axis=0)[:,:,np.newaxis]\n",
    "y_cnn_train_model = y_cnn_train.ravel()\n",
    "y_cnn_validate_model = y_cnn_validate.ravel()\n",
    "y_cnn_test_model = y_cnn_test.ravel()\n",
    "\n",
    "X_for_naive_slicing = np.concatenate(X.reshape(X.shape[0], X.shape[1], -1), axis=0)\n",
    "n_features = X.shape[-1]\n",
    "last_day_new_cases_index = np.ravel_multi_index([[frame_size-1],[new_cases_index]],(frame_size, n_features))\n",
    "y_train_naive = X_for_naive_slicing[train_indices, last_day_new_cases_index].ravel()\n",
    "y_validate_naive =  X_for_naive_slicing[validate_indices, last_day_new_cases_index].ravel()\n",
    "y_test_naive =  X_for_naive_slicing[test_indices, last_day_new_cases_index].ravel()"
   ]
  },
  {
   "cell_type": "markdown",
   "metadata": {},
   "source": [
    "The architecture of the CNN itself is two convolutional layers followed by two dense layers, ending with a ReLU activation layer. The parameters for the convolutional layers are the number of filters and the kernel size of the convolutions. The number of filters is much larger than the second because the desire is to pick up on many small patterns and then use them in combination to form larger ones. As far as I know this is the best way of doing so. There is no real argument for the convolutional kernel size other than they cannot be too large because the number of time steps are themselves small in number. \n",
    "\n",
    "Here is the visualization of this architecture.\n",
    "\n",
    "<div>\n",
    "<img src=\"cnn.jpg\" width=\"600\" height=\"300\">\n",
    "</div>\n"
   ]
  },
  {
   "cell_type": "markdown",
   "metadata": {},
   "source": [
    "Initialize with seeds for reproducibility, follow the same procedure as the neural network"
   ]
  },
  {
   "cell_type": "code",
   "execution_count": null,
   "metadata": {},
   "outputs": [],
   "source": [
    "kernel0 = RandomNormal(seed=0)\n",
    "kernel1 = RandomNormal(seed=1)\n",
    "kernel2 = RandomNormal(seed=2)\n",
    "kernel3 = RandomNormal(seed=3)"
   ]
  },
  {
   "cell_type": "code",
   "execution_count": null,
   "metadata": {},
   "outputs": [],
   "source": [
    "epochs = 1000\n",
    "kernel = 4\n",
    "N = 8\n",
    "FC = 8\n",
    "batch_size = X_cnn_train.shape[0]\n",
    "\n",
    "f1, f2 = 64, 4\n",
    "k1, k2 = 4, 4\n",
    "\n",
    "cnn = Sequential()\n",
    "\n",
    "\n",
    "cnn.add(Conv1D(filters=int(f1), kernel_size=int(k1),\n",
    "                 padding='valid',\n",
    "                 input_shape=X_cnn_train.shape[2:],\n",
    "               kernel_initializer=kernel0,\n",
    "                )\n",
    "         )\n",
    "\n",
    "cnn.add(Conv1D(filters=int(f2), \n",
    "                 kernel_size=int(k2), \n",
    "                 padding='valid',\n",
    "               kernel_initializer=kernel1,\n",
    "                )\n",
    "         )\n",
    "\n",
    "cnn.add(Flatten())\n",
    "\n",
    "\n",
    "cnn.add(Dense(4,\n",
    "              kernel_initializer=kernel2,\n",
    "             )\n",
    "       )\n",
    "\n",
    "\n",
    "cnn.add(Dense(1, \n",
    "                activation='relu',\n",
    "              kernel_initializer=kernel3,\n",
    "\n",
    "                   ))\n",
    "\n",
    "cnn.compile(loss='mae', optimizer=Adam())"
   ]
  },
  {
   "cell_type": "code",
   "execution_count": null,
   "metadata": {},
   "outputs": [],
   "source": [
    "cnn.summary()"
   ]
  },
  {
   "cell_type": "markdown",
   "metadata": {},
   "source": [
    "Fit the model."
   ]
  },
  {
   "cell_type": "code",
   "execution_count": null,
   "metadata": {},
   "outputs": [],
   "source": [
    "history = cnn.fit(X_cnn_train_model, y_cnn_train_model, epochs=epochs, validation_data=(X_cnn_validate_model, y_cnn_validate_model), \n",
    "          batch_size=batch_size, verbose=0)"
   ]
  },
  {
   "cell_type": "markdown",
   "metadata": {},
   "source": [
    "Plot the training and validation loss curves to check for overfitting."
   ]
  },
  {
   "cell_type": "code",
   "execution_count": null,
   "metadata": {},
   "outputs": [],
   "source": [
    "_ = plt.plot(history.history['loss'], label='loss')\n",
    "_ = plt.plot(history.history['val_loss'], label='val_loss')\n",
    "_ = plt.legend()\n",
    "_ = plt.show()"
   ]
  },
  {
   "cell_type": "markdown",
   "metadata": {},
   "source": [
    "Plot the results of predicting the training set."
   ]
  },
  {
   "cell_type": "code",
   "execution_count": null,
   "metadata": {},
   "outputs": [],
   "source": [
    "y_true = y_cnn_train_model.ravel()\n",
    "y_predict =  cnn.predict(X_cnn_train_model).ravel()\n",
    "y_naive = y_train_naive\n",
    "model_analysis(y_true, y_naive, y_predict, n_countries, title='CNN model',\n",
    "               suptitle='Naive baseline vs. predictions, validation set',\n",
    "              figname='cnn_prototype_train_performance.jpg')"
   ]
  },
  {
   "cell_type": "markdown",
   "metadata": {},
   "source": [
    "Plot the results of predicting the validation set."
   ]
  },
  {
   "cell_type": "code",
   "execution_count": null,
   "metadata": {
    "scrolled": false
   },
   "outputs": [],
   "source": [
    "\n",
    "y_true =  y_cnn_validate_model.ravel()\n",
    "y_predict = cnn.predict(X_cnn_validate_model).ravel()\n",
    "y_naive = y_validate_naive\n",
    "model_analysis(y_true, y_naive, y_predict, n_countries, title='CNN model',\n",
    "               suptitle='Naive baseline vs. predictions, validation set',\n",
    "              figname='cnn_prototype_validate_performance.jpg')"
   ]
  },
  {
   "cell_type": "markdown",
   "metadata": {},
   "source": [
    "A summary of the network for convenience."
   ]
  },
  {
   "cell_type": "markdown",
   "metadata": {},
   "source": [
    "# 3.a Ridge Regression with single feature\n",
    "<a id='regression'></a>\n",
    "[Return to table of contents](#toc)\n",
    "\n",
    "The last model used is Ridge regression, or linear regression with $L_2$ regularization. I will actually deploy this model on two different subsets in this prototyping stage. The first subset is the same which is used for the neural networks which is to say only the ```new_cases_per_million``` feature. For the regression I start with this same data for comparison, but then expand into the realistic scenario wherein there are multiple features. "
   ]
  },
  {
   "cell_type": "code",
   "execution_count": null,
   "metadata": {},
   "outputs": [],
   "source": [
    "r_data = pd.read_csv('regression_data.csv', index_col=0)\n",
    "tmp = pd.read_csv('regression_data_full.csv', index_col=0)\n",
    "r_data = pd.concat((r_data,tmp.loc[:, column_search(tmp,'government_response')]),axis=1)\n",
    "r_data = r_data.drop(columns=['date'])\n",
    "r_data = r_data.drop(columns=column_search(r_data,'test'))\n",
    "r_data = r_data.drop(columns=column_search(r_data,'deaths'))\n",
    "r_data = r_data.drop(columns=column_search(r_data,'recovered'))\n",
    "r_data = r_data.drop(columns=column_search(r_data,'std'))\n",
    "r_data = r_data[r_data.location == 'United States']"
   ]
  },
  {
   "cell_type": "markdown",
   "metadata": {},
   "source": [
    "Again for the sake of modularity, perform some redundant calculations."
   ]
  },
  {
   "cell_type": "code",
   "execution_count": null,
   "metadata": {},
   "outputs": [],
   "source": [
    "modeling_features = ['new_cases_per_million', 'government_response_index', 'log_new_cases_per_million']\n",
    "model_r_data = r_data.copy().loc[:, modeling_features]"
   ]
  },
  {
   "cell_type": "code",
   "execution_count": null,
   "metadata": {},
   "outputs": [],
   "source": [
    "r_model_data = r_data.new_cases_per_million.to_frame().copy(); new_cases_index=0\n",
    "new_cases_index = column_search(r_model_data, 'new_cases_per_million', threshold='match', return_style='iloc')[0]\n",
    "n_countries = r_data.location.nunique()\n",
    "target_data = r_data.new_cases_per_million\n",
    "time_index = r_data.time_index.astype(int)\n",
    "frame_size = 28\n",
    "start_date = frame_size + time_index.min()\n",
    "n_validation_frames = 7\n",
    "n_test_frames = 1\n",
    "n_days_into_future = 1\n",
    "train_or_test = 'train'"
   ]
  },
  {
   "cell_type": "code",
   "execution_count": null,
   "metadata": {},
   "outputs": [],
   "source": [
    "X, y = create_Xy(r_model_data, target_data, time_index, start_date, frame_size, n_days_into_future, n_countries)\n",
    "n_features = X.shape[-1]\n",
    "last_day_new_cases_index = np.ravel_multi_index([[frame_size-1],[new_cases_index]],(frame_size, n_features))\n",
    "splits, indices = split_Xy(X, y, frame_size, n_validation_frames, n_test_frames,model_type='ridge')\n",
    "(train_indices, validate_indices, test_indices) = indices\n",
    "X_for_naive_slicing = np.concatenate(X.reshape(X.shape[0], X.shape[1], -1), axis=0)\n",
    "\n",
    "y_train_naive = X_for_naive_slicing[train_indices, last_day_new_cases_index]\n",
    "y_validate_naive =  X_for_naive_slicing[validate_indices, last_day_new_cases_index]\n",
    "y_test_naive =  X_for_naive_slicing[test_indices, last_day_new_cases_index]\n",
    "\n",
    "flat_splits = flatten_Xy_splits(splits)\n",
    "(X_regression_train, y_regression_train, X_regression_validate,\n",
    " y_regression_validate, X_regression_test, y_regression_test) = flat_splits"
   ]
  },
  {
   "cell_type": "code",
   "execution_count": null,
   "metadata": {},
   "outputs": [],
   "source": [
    "X_regression_train.shape"
   ]
  },
  {
   "cell_type": "markdown",
   "metadata": {},
   "source": [
    "I want to use a different metric other than explained variance as a metric; the easiest way of doing so is to use RidgeCV and pass it a scoring function. I also provide the indices of the training and testing folds; of which there is only one, so that the data used to train this model and the neural networks are the same. The cross validation ranges over some alpha values (regularization constant)."
   ]
  },
  {
   "cell_type": "code",
   "execution_count": null,
   "metadata": {},
   "outputs": [],
   "source": [
    "X_regression = np.concatenate((X_regression_train, X_regression_validate), axis=0)\n",
    "y_regression = np.concatenate((y_regression_train, y_regression_validate), axis=0)\n",
    "\n",
    "scorer = make_scorer(mean_squared_error, greater_is_better=False)\n",
    "ridge = RidgeCV(scoring=scorer, cv=[[train_indices, validate_indices]]) \n",
    "_ = ridge.fit(X_regression, y_regression)"
   ]
  },
  {
   "cell_type": "markdown",
   "metadata": {},
   "source": [
    "The predictions of the training set."
   ]
  },
  {
   "cell_type": "code",
   "execution_count": null,
   "metadata": {},
   "outputs": [],
   "source": [
    "y_true = y_regression_train\n",
    "y_predict = ridge.predict(X_regression_train).ravel()\n",
    "y_naive = y_train_naive\n",
    "model_analysis(y_true, y_naive, y_predict, n_countries, title='Ridge Regression model',\n",
    "               suptitle='Naive baseline vs. predictions of training set',\n",
    "              figname='regression_prototype_single_train_performance.jpg')"
   ]
  },
  {
   "cell_type": "markdown",
   "metadata": {},
   "source": [
    "The predictions of the validation set."
   ]
  },
  {
   "cell_type": "code",
   "execution_count": null,
   "metadata": {},
   "outputs": [],
   "source": [
    "y_true = y_regression_validate\n",
    "y_predict = ridge.predict(X_regression_validate).ravel()\n",
    "y_naive = y_validate_naive\n",
    "model_analysis(y_true, y_naive, y_predict, n_countries, title='Ridge Regression model',\n",
    "               suptitle='Naive baseline vs. predictions, validation set',\n",
    "              figname='regression_prototype_single_validate_performance.jpg')"
   ]
  },
  {
   "cell_type": "markdown",
   "metadata": {},
   "source": [
    "# 3.b Regression with all features\n",
    "[Return to table of contents](#toc)\n",
    "\n",
    "This second regression model contains most of the time-dependent features as well as their corresponding rolling averages.\n",
    "\n",
    "This is partly a sneak peak into the notebook on regression, ```COVID19_regression.ipynb``` and partly a demonstration of evidence that supports the claim that regression performs much better with more feature information. ***Again, redundant calculations are performed for modularity.***"
   ]
  },
  {
   "cell_type": "code",
   "execution_count": null,
   "metadata": {},
   "outputs": [],
   "source": [
    "r_model_data = r_data.iloc[:,2:].copy()\n",
    "new_cases_index = column_search(r_model_data,'new_cases_per_million', threshold='match', return_style='iloc')[0]\n",
    "n_countries = r_data.location.nunique()\n",
    "target_data = r_data.new_cases_per_million\n",
    "time_index = r_data.time_index.astype(int)\n",
    "frame_size = 28\n",
    "start_date = frame_size\n",
    "n_validation_frames = 7\n",
    "n_test_frames = 1\n",
    "n_days_into_future = 1\n",
    "train_or_test = 'train'"
   ]
  },
  {
   "cell_type": "code",
   "execution_count": null,
   "metadata": {
    "scrolled": true
   },
   "outputs": [],
   "source": [
    "X, y = create_Xy(r_model_data, target_data, time_index, start_date, frame_size, n_days_into_future, n_countries)\n",
    "n_features = X.shape[-1]\n",
    "last_day_new_cases_index = np.ravel_multi_index([[frame_size-1],[new_cases_index]],(frame_size, n_features))\n",
    "splits, indices = split_Xy(X, y, frame_size, n_validation_frames, n_test_frames,model_type='ridge')\n",
    "(train_indices, validate_indices, test_indices) = indices\n",
    "\n",
    "(X_train, y_train, X_validate,\n",
    " y_validate, X_test, y_test) = splits\n",
    "\n",
    "n_features = X.shape[-1]\n",
    "X_for_naive_slicing = np.concatenate(X.reshape(X.shape[0], X.shape[1], -1), axis=0)\n",
    "y_train_naive = X_for_naive_slicing[train_indices, last_day_new_cases_index]\n",
    "y_validate_naive =  X_for_naive_slicing[validate_indices, last_day_new_cases_index]\n",
    "y_test_naive =  X_for_naive_slicing[test_indices, last_day_new_cases_index]"
   ]
  },
  {
   "cell_type": "markdown",
   "metadata": {},
   "source": [
    "Before we proceed, let's check that the data is organized as we expect, as this time around we are using more than a single feature. First, get the indices of the 28 columns which we expect to represent 28 days of new case values."
   ]
  },
  {
   "cell_type": "code",
   "execution_count": null,
   "metadata": {},
   "outputs": [],
   "source": [
    "new_cases_indices = np.ravel_multi_index([list(range(frame_size)),[new_cases_index]],(frame_size, n_features))\n",
    "new_cases_indices"
   ]
  },
  {
   "cell_type": "code",
   "execution_count": null,
   "metadata": {},
   "outputs": [],
   "source": [
    "flat_splits = flatten_Xy_splits(splits)\n",
    "(X_regression_train, y_regression_train, X_regression_validate,\n",
    " y_regression_validate, X_regression_test, y_regression_test) = flat_splits"
   ]
  },
  {
   "cell_type": "code",
   "execution_count": null,
   "metadata": {},
   "outputs": [],
   "source": [
    "# The first frame should have time values from 0 to 27.\n",
    "r_model_data.new_cases_per_million.iloc[:frame_size].values-X_regression_train[0, new_cases_indices]"
   ]
  },
  {
   "cell_type": "code",
   "execution_count": null,
   "metadata": {},
   "outputs": [],
   "source": [
    "# The last row or last frame, should have values from time_index.max()-1-n_test_frames-n_validation_frames-frame_size to time_index.max()-1-n_test_frames-n_validation_frames\n",
    "(r_model_data.new_cases_per_million.iloc[-frame_size-n_test_frames-n_validation_frames-1:-n_test_frames-n_validation_frames-1].values\n",
    " -X_regression_train[-1, new_cases_indices])"
   ]
  },
  {
   "cell_type": "markdown",
   "metadata": {},
   "source": [
    "Now that the data is at least ordered how I expect, proceed with the modelling."
   ]
  },
  {
   "cell_type": "code",
   "execution_count": null,
   "metadata": {},
   "outputs": [],
   "source": [
    "X_regression = np.concatenate((X_regression_train, X_regression_validate),axis=0)\n",
    "y_regression = np.concatenate((y_regression_train, y_regression_validate),axis=0)\n",
    "\n",
    "scorer = make_scorer(mean_squared_error, greater_is_better=False)\n",
    "ridge_all_features = RidgeCV(scoring=scorer, cv=[[train_indices, validate_indices]]) \n",
    "_ = ridge_all_features.fit(X_regression, y_regression)"
   ]
  },
  {
   "cell_type": "markdown",
   "metadata": {},
   "source": [
    "As previously seen, predict on the training and validation data."
   ]
  },
  {
   "cell_type": "code",
   "execution_count": null,
   "metadata": {},
   "outputs": [],
   "source": [
    "y_predict = ridge_all_features.predict(X_regression_train).ravel()\n",
    "y_true = y_regression_train\n",
    "y_naive =y_train_naive\n",
    "model_analysis(y_true, y_naive, y_predict, n_countries, title='Ridge Regression model',\n",
    "               suptitle='Naive baseline vs. predictions of training set',\n",
    "              figname='regression_prototype_train_performance.jpg')"
   ]
  },
  {
   "cell_type": "code",
   "execution_count": null,
   "metadata": {},
   "outputs": [],
   "source": [
    "y_true = y_regression_validate\n",
    "y_predict = ridge_all_features.predict(X_regression_validate).ravel()\n",
    "y_naive = y_validate_naive\n",
    "model_analysis(y_true, y_naive, y_predict, n_countries, title='Ridge Regression model',\n",
    "               suptitle='Naive baseline vs. predictions, validation set',\n",
    "              figname='regression_prototype_validate_performance.jpg')"
   ]
  },
  {
   "cell_type": "markdown",
   "metadata": {},
   "source": [
    "## Analysis and conclusion\n",
    "<a id='conclusion'></a>\n",
    "[Return to table of contents](#toc)\n",
    "\n",
    "As a final measure of the potency of each prototype model, perform predictions on the test data. Because these models are only using a single countries data, I do not view this as snooping the holdout set."
   ]
  },
  {
   "cell_type": "code",
   "execution_count": null,
   "metadata": {},
   "outputs": [],
   "source": [
    "y_naive = y_test_naive\n",
    "y_true = y_test\n",
    "y_predict_r = ridge_all_features.predict(X_regression_test)\n",
    "y_predict_c = cnn.predict(X_cnn_test_model)\n",
    "y_predict_n = nn.predict(X_nn_test_model)"
   ]
  },
  {
   "cell_type": "markdown",
   "metadata": {},
   "source": [
    "While the ridge regression trained on all of the feature data performs very well on the training and validation sets, it does not perform well on the testing set. Presumably this is because I did not retrain the data on the combination of training and validation; i.e. it is using a model which is only trained up to a week into the past. I find this sufficient for these prototype models, however."
   ]
  },
  {
   "cell_type": "code",
   "execution_count": null,
   "metadata": {},
   "outputs": [],
   "source": [
    "s = 200\n",
    "fig, (ax1, ax2, ax3) = plt.subplots(1, 3, figsize=(20,5),sharey=True)\n",
    "\n",
    "ymax = np.max([y_true.max(), y_predict.max()])\n",
    "ax1.plot([0, ymax], [0, ymax],color='r')\n",
    "ax1.scatter(y_true, y_predict_r, s=s)\n",
    "ax2.plot([0, ymax], [0, ymax],color='r')\n",
    "ax2.scatter(y_true, y_predict_c, s=s)\n",
    "ax3.plot([0, ymax], [0, ymax],color='r')\n",
    "ax3.scatter(y_true, y_predict_n, s=s)\n",
    "\n",
    "ax1.set_xlabel('True value')\n",
    "ax1.set_ylabel('Predicted value')\n",
    "ax1.set_title('Ridge residual '+str(y_predict_r.ravel()[0]-y_true.ravel()[0]))\n",
    "\n",
    "ax2.set_xlabel('True value')\n",
    "ax2.set_ylabel('Predicted value')\n",
    "ax2.set_title('CNN residual '+str(y_predict_c.ravel()[0]-y_true.ravel()[0]))\n",
    "\n",
    "ax3.set_xlabel('True value')\n",
    "ax3.set_ylabel('Predicted value')\n",
    "ax3.set_title('NN residual '+str(y_predict_n.ravel()[0]-y_true.ravel()[0]))\n",
    "\n",
    "ax1.grid(True)\n",
    "ax2.grid(True)\n",
    "ax3.grid(True)\n",
    "plt.suptitle('Model comparison on hold-out set')\n",
    "plt.show()"
   ]
  },
  {
   "cell_type": "markdown",
   "metadata": {},
   "source": [
    "# Appendix\n",
    "\n",
    "Some comments on the relation between X slicing and the original data: \n",
    "\n",
    "    X[-1, :, -1, 2] = model_data.time_index.max() - n_days_into_future \n",
    "    X[-t, :, -1, 2] = (model_data.time_index.max() - n_days_into_future + 1) - t\n",
    "\n",
    "Because ```n_days_into_future == 1``` throughout this notebook, the most recent date in the last frame of X is data.time_index.max()-1.\n",
    "The maximum time_index of the data in y is data.time_index().max(). Therefore, to convert, we have\n",
    "    \n",
    "    X[-1,:,-1,:] = y[-2, :]\n",
    "    \n",
    "or, more generally, \n",
    "\n",
    "    X[-t,:,-1,:] = y[-(n+t), :]\n",
    "    \n",
    "This shows that the staggering has been done correctly. That is, each entry along the first axis of X predicts.\n",
    "Need to make sure that the naive predictions are being chosen correctly. To do so, just look at the instance\n",
    "where n_frames_validation == 1 and n_frames_test == 1 (to make slicing easier) for n_days_into_future == 7.\n",
    "\n",
    "Therefore, when n_validation_frames > 1, the breakdown of the data is as follows:\n",
    "\n",
    "    Naive predictions = X[validation_indices, :, -1, 2]\n",
    "    CNN predictions = model.predict(X[validation_indices, :, :, :])\n",
    "    True future values = y[validation_indices, :]\n",
    "    \n",
    "Where validation indices is assumed to be a correctly formatted array of indices. \n"
   ]
  }
 ],
 "metadata": {
  "kernelspec": {
   "display_name": "Python 3",
   "language": "python",
   "name": "python3"
  },
  "language_info": {
   "codemirror_mode": {
    "name": "ipython",
    "version": 3
   },
   "file_extension": ".py",
   "mimetype": "text/x-python",
   "name": "python",
   "nbconvert_exporter": "python",
   "pygments_lexer": "ipython3",
   "version": "3.7.6"
  }
 },
 "nbformat": 4,
 "nbformat_minor": 4
}
