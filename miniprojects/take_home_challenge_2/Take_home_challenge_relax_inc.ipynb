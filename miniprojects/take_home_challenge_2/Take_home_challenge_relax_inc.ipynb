{
 "cells": [
  {
   "cell_type": "code",
   "execution_count": 1,
   "metadata": {},
   "outputs": [],
   "source": [
    "import pandas as pd\n",
    "import numpy as np\n",
    "import json\n",
    "import matplotlib.pyplot as plt\n",
    "import seaborn as sns\n",
    "import datetime"
   ]
  },
  {
   "cell_type": "code",
   "execution_count": 2,
   "metadata": {},
   "outputs": [],
   "source": [
    "# function recycled from capstone 1 used in part 3. \n",
    "def classifier_analysis(clf, xt, yt):\n",
    "    ''' Predict and measure quality of model with a variety of metrics.   \n",
    "\n",
    "    Parameters\n",
    "    ----------\n",
    "\n",
    "    xt : ndarray or DataFrame (n_samples, n_features)\n",
    "             Feature data to test. n_features represents the number of features\n",
    "             present in the data used to train the estimator clf\n",
    "\n",
    "    yt : ndarray (n_samples, )\n",
    "             Target data to test. \n",
    "\n",
    "\n",
    "    clf : scikit-learn estimator which has been fit to data with same number of columns as X_test\n",
    "\n",
    "    '''\n",
    "    y_predict = clf.predict(xt)\n",
    "    y_predict_proba= clf.predict_proba(xt)[:,1]\n",
    "\n",
    "    cm = confusion_matrix(yt, y_predict, labels=[0,1])#,dtype=float)\n",
    "    # negative guesses\n",
    "#     cm[:, 0] = cm[:, 0] / (len(yt) - yt.sum())\n",
    "#     cm[:, 1] = cm[:, 1] / yt.sum()\n",
    "    print('tn, fp, fn, tp', cm.ravel())\n",
    "    _ = ConfusionMatrixDisplay(cm / (yt.size), [0,1]).plot()\n",
    "    \n",
    "    print(classification_report(yt, y_predict))\n",
    "\n",
    "    roc_auc = roc_auc_score(yt, y_predict_proba)\n",
    "    fpr, tpr, thresholds = roc_curve(yt, y_predict_proba)\n",
    "\n",
    "    plt.figure()\n",
    "    plt.plot(fpr, tpr, label=(clf.__class__.__name__ + '(area = %0.2f)' % roc_auc))\n",
    "    plt.plot([0, 1], [0, 1],'r--')\n",
    "    plt.xlim([0.0, 1.0])\n",
    "    plt.ylim([0.0, 1.05])\n",
    "    plt.xlabel('False Positive Rate')\n",
    "    plt.ylabel('True Positive Rate')\n",
    "    plt.title('Receiver operating characteristic')\n",
    "    plt.legend(loc=\"lower right\")\n",
    "    plt.show()\n",
    "\n",
    "    average_precision = average_precision_score(yt, y_predict_proba)\n",
    "    precision, recall, thresholds = precision_recall_curve(yt, y_predict_proba)\n",
    "    disp = plot_precision_recall_curve(clf, xt, yt)\n",
    "    disp.ax_.set_ylim([0.0, 1.0])\n",
    "    disp.ax_.set_title('2-class Precision-Recall curve: '\n",
    "                   'AP={0:0.2f}'.format(average_precision))\n",
    "    plt.show()\n",
    "    \n",
    "    return roc_auc"
   ]
  },
  {
   "cell_type": "markdown",
   "metadata": {},
   "source": [
    "## Task:\n",
    "\n",
    "Defining  an  \"adopted  user\"   as  a  user  who   has  logged  into  the  product  on  three  separate\n",
    "days  in  at  least  one  seven-day  period ,  identify  which  factors  predict  future  user\n",
    "adoption.\n",
    "\n",
    "We  suggest  spending  1-2  hours  on  this,  but  you're  welcome  to  spend  more  or  less.\n",
    "Please  send  us  a  brief  writeup  of  your  findings  (the  more  concise,  the  better -- no  more\n",
    "than  one  page),  along  with  any  summary  tables,  graphs,  code,  or  queries  that  can  help\n",
    "us  understand  your  approach.  Please  note  any  factors  you  considered  or  investigation\n",
    "you  did,  even  if  they  did  not  pan  out.  Feel  free  to  identify  any  further  research  or  data\n",
    "you  think  would  be  valuable."
   ]
  },
  {
   "cell_type": "code",
   "execution_count": 3,
   "metadata": {},
   "outputs": [
    {
     "data": {
      "text/html": [
       "<div>\n",
       "<style scoped>\n",
       "    .dataframe tbody tr th:only-of-type {\n",
       "        vertical-align: middle;\n",
       "    }\n",
       "\n",
       "    .dataframe tbody tr th {\n",
       "        vertical-align: top;\n",
       "    }\n",
       "\n",
       "    .dataframe thead th {\n",
       "        text-align: right;\n",
       "    }\n",
       "</style>\n",
       "<table border=\"1\" class=\"dataframe\">\n",
       "  <thead>\n",
       "    <tr style=\"text-align: right;\">\n",
       "      <th></th>\n",
       "      <th>object_id</th>\n",
       "      <th>creation_time</th>\n",
       "      <th>name</th>\n",
       "      <th>email</th>\n",
       "      <th>creation_source</th>\n",
       "      <th>last_session_creation_time</th>\n",
       "      <th>opted_in_to_mailing_list</th>\n",
       "      <th>enabled_for_marketing_drip</th>\n",
       "      <th>org_id</th>\n",
       "      <th>invited_by_user_id</th>\n",
       "    </tr>\n",
       "  </thead>\n",
       "  <tbody>\n",
       "    <tr>\n",
       "      <th>0</th>\n",
       "      <td>1</td>\n",
       "      <td>2014-04-22 03:53:30</td>\n",
       "      <td>Clausen August</td>\n",
       "      <td>AugustCClausen@yahoo.com</td>\n",
       "      <td>GUEST_INVITE</td>\n",
       "      <td>1.398139e+09</td>\n",
       "      <td>1</td>\n",
       "      <td>0</td>\n",
       "      <td>11</td>\n",
       "      <td>10803.0</td>\n",
       "    </tr>\n",
       "    <tr>\n",
       "      <th>1</th>\n",
       "      <td>2</td>\n",
       "      <td>2013-11-15 03:45:04</td>\n",
       "      <td>Poole Matthew</td>\n",
       "      <td>MatthewPoole@gustr.com</td>\n",
       "      <td>ORG_INVITE</td>\n",
       "      <td>1.396238e+09</td>\n",
       "      <td>0</td>\n",
       "      <td>0</td>\n",
       "      <td>1</td>\n",
       "      <td>316.0</td>\n",
       "    </tr>\n",
       "    <tr>\n",
       "      <th>2</th>\n",
       "      <td>3</td>\n",
       "      <td>2013-03-19 23:14:52</td>\n",
       "      <td>Bottrill Mitchell</td>\n",
       "      <td>MitchellBottrill@gustr.com</td>\n",
       "      <td>ORG_INVITE</td>\n",
       "      <td>1.363735e+09</td>\n",
       "      <td>0</td>\n",
       "      <td>0</td>\n",
       "      <td>94</td>\n",
       "      <td>1525.0</td>\n",
       "    </tr>\n",
       "    <tr>\n",
       "      <th>3</th>\n",
       "      <td>4</td>\n",
       "      <td>2013-05-21 08:09:28</td>\n",
       "      <td>Clausen Nicklas</td>\n",
       "      <td>NicklasSClausen@yahoo.com</td>\n",
       "      <td>GUEST_INVITE</td>\n",
       "      <td>1.369210e+09</td>\n",
       "      <td>0</td>\n",
       "      <td>0</td>\n",
       "      <td>1</td>\n",
       "      <td>5151.0</td>\n",
       "    </tr>\n",
       "    <tr>\n",
       "      <th>4</th>\n",
       "      <td>5</td>\n",
       "      <td>2013-01-17 10:14:20</td>\n",
       "      <td>Raw Grace</td>\n",
       "      <td>GraceRaw@yahoo.com</td>\n",
       "      <td>GUEST_INVITE</td>\n",
       "      <td>1.358850e+09</td>\n",
       "      <td>0</td>\n",
       "      <td>0</td>\n",
       "      <td>193</td>\n",
       "      <td>5240.0</td>\n",
       "    </tr>\n",
       "  </tbody>\n",
       "</table>\n",
       "</div>"
      ],
      "text/plain": [
       "   object_id        creation_time               name  \\\n",
       "0          1  2014-04-22 03:53:30     Clausen August   \n",
       "1          2  2013-11-15 03:45:04      Poole Matthew   \n",
       "2          3  2013-03-19 23:14:52  Bottrill Mitchell   \n",
       "3          4  2013-05-21 08:09:28    Clausen Nicklas   \n",
       "4          5  2013-01-17 10:14:20          Raw Grace   \n",
       "\n",
       "                        email creation_source  last_session_creation_time  \\\n",
       "0    AugustCClausen@yahoo.com    GUEST_INVITE                1.398139e+09   \n",
       "1      MatthewPoole@gustr.com      ORG_INVITE                1.396238e+09   \n",
       "2  MitchellBottrill@gustr.com      ORG_INVITE                1.363735e+09   \n",
       "3   NicklasSClausen@yahoo.com    GUEST_INVITE                1.369210e+09   \n",
       "4          GraceRaw@yahoo.com    GUEST_INVITE                1.358850e+09   \n",
       "\n",
       "   opted_in_to_mailing_list  enabled_for_marketing_drip  org_id  \\\n",
       "0                         1                           0      11   \n",
       "1                         0                           0       1   \n",
       "2                         0                           0      94   \n",
       "3                         0                           0       1   \n",
       "4                         0                           0     193   \n",
       "\n",
       "   invited_by_user_id  \n",
       "0             10803.0  \n",
       "1               316.0  \n",
       "2              1525.0  \n",
       "3              5151.0  \n",
       "4              5240.0  "
      ]
     },
     "execution_count": 3,
     "metadata": {},
     "output_type": "execute_result"
    }
   ],
   "source": [
    "# Default encoding throws an error\n",
    "users_df = pd.read_csv('takehome_users.csv', encoding=\"ISO-8859-1\")\n",
    "users_df.head()"
   ]
  },
  {
   "cell_type": "markdown",
   "metadata": {},
   "source": [
    "    ● name:  the  user's  name\n",
    "    ● object_id:   the  user's  id\n",
    "    ● email:  email  address\n",
    "    ● creation_source:   how  their  account  was  created.  This  takes  on  one\n",
    "    of  5  values:\n",
    "    ○ PERSONAL_PROJECTS:  invited  to  join  another  user's\n",
    "    personal  workspace\n",
    "    ○ GUEST_INVITE:  invited  to  an  organization  as  a  guest\n",
    "    (limited  permissions)\n",
    "    ○ ORG_INVITE:  invited  to  an  organization  (as  a  full  member)\n",
    "    ○ SIGNUP:  signed  up  via  the  website\n",
    "    ○ SIGNUP_GOOGLE_AUTH:  signed  up  using  Google\n",
    "    Authentication  (using  a  Google  email  account  for  their  login\n",
    "    id)\n",
    "    ● creation_time:  when  they  created  their  account\n",
    "    ● last_session_creation_time:   unix  timestamp  of  last  login\n",
    "    ● opted_in_to_mailing_list:  whether  they  have  opted  into  receiving\n",
    "    marketing  emails\n",
    "    ● enabled_for_marketing_drip:  whether  they  are  on  the  regular\n",
    "    marketing  email  drip\n",
    "    ● org_id:   the  organization  (group  of  users)  they  belong  to\n",
    "    ● invited_by_user_id:   which  user  invited  them  to  join  (if  applicable).\n"
   ]
  },
  {
   "cell_type": "markdown",
   "metadata": {},
   "source": [
    "The user_id in engagement_df is equivalent to object_id in users_df. Change this to user_id for consistency."
   ]
  },
  {
   "cell_type": "code",
   "execution_count": 4,
   "metadata": {},
   "outputs": [],
   "source": [
    "users_df.columns = ['user_id'] + users_df.columns.tolist()[1:]"
   ]
  },
  {
   "cell_type": "code",
   "execution_count": 5,
   "metadata": {},
   "outputs": [
    {
     "data": {
      "text/plain": [
       "user_id                          0\n",
       "creation_time                    0\n",
       "name                             0\n",
       "email                            0\n",
       "creation_source                  0\n",
       "last_session_creation_time    3177\n",
       "opted_in_to_mailing_list         0\n",
       "enabled_for_marketing_drip       0\n",
       "org_id                           0\n",
       "invited_by_user_id            5583\n",
       "dtype: int64"
      ]
     },
     "execution_count": 5,
     "metadata": {},
     "output_type": "execute_result"
    }
   ],
   "source": [
    "users_df.isna().sum()"
   ]
  },
  {
   "cell_type": "markdown",
   "metadata": {},
   "source": [
    "Creation time and last_session_creation_time use different conventions for specifying the current time. The first thing I want to do is make these consistent. The presence of missing values makes this more difficult however. The last_session_creation_time feature is of the form of timestamps, but creation_time is of UTC format. I will fill the missing last_session_creation_time values with the corresponding creation_time values as timestamps, as I believe this is an indication that the user never logged in; meaning that their last interaction was during account creation. These timestamps will then be converted to UTC en masse.\n"
   ]
  },
  {
   "cell_type": "code",
   "execution_count": 6,
   "metadata": {},
   "outputs": [],
   "source": [
    "missing_last_login_index = users_df[users_df.last_session_creation_time.isna()].index"
   ]
  },
  {
   "cell_type": "code",
   "execution_count": 7,
   "metadata": {},
   "outputs": [],
   "source": [
    "creation_datetime = pd.to_datetime(users_df.creation_time)\n",
    "creation_timestamp = creation_datetime.apply(datetime.datetime.timestamp)"
   ]
  },
  {
   "cell_type": "code",
   "execution_count": 8,
   "metadata": {},
   "outputs": [],
   "source": [
    "users_df.loc[missing_last_login_index, 'last_session_creation_time'] =  \\\n",
    "creation_timestamp.loc[missing_last_login_index].values"
   ]
  },
  {
   "cell_type": "code",
   "execution_count": 9,
   "metadata": {},
   "outputs": [
    {
     "data": {
      "text/plain": [
       "user_id                          0\n",
       "creation_time                    0\n",
       "name                             0\n",
       "email                            0\n",
       "creation_source                  0\n",
       "last_session_creation_time       0\n",
       "opted_in_to_mailing_list         0\n",
       "enabled_for_marketing_drip       0\n",
       "org_id                           0\n",
       "invited_by_user_id            5583\n",
       "dtype: int64"
      ]
     },
     "execution_count": 9,
     "metadata": {},
     "output_type": "execute_result"
    }
   ],
   "source": [
    "users_df.isna().sum()"
   ]
  },
  {
   "cell_type": "code",
   "execution_count": 10,
   "metadata": {},
   "outputs": [],
   "source": [
    "# Convert string to utc datetime\n",
    "users_df.loc[:, 'creation_time'] = creation_datetime.values\n",
    "\n",
    "# convert timestamps to utc datetime\n",
    "users_df.loc[:, 'last_session_creation_time'] = \\\n",
    "users_df.loc[:, 'last_session_creation_time'].apply(datetime.datetime.utcfromtimestamp)\n",
    "\n",
    "# users_df.loc[:, 'invited_by_user_id'] = users_df.loc[:, 'invited_by_user_id'].fillna(0).values\n",
    "users_df.loc[users_df[users_df.invited_by_user_id!=0].index,'invited_by_user_id'] = 1"
   ]
  },
  {
   "cell_type": "code",
   "execution_count": 11,
   "metadata": {},
   "outputs": [
    {
     "data": {
      "text/html": [
       "<div>\n",
       "<style scoped>\n",
       "    .dataframe tbody tr th:only-of-type {\n",
       "        vertical-align: middle;\n",
       "    }\n",
       "\n",
       "    .dataframe tbody tr th {\n",
       "        vertical-align: top;\n",
       "    }\n",
       "\n",
       "    .dataframe thead th {\n",
       "        text-align: right;\n",
       "    }\n",
       "</style>\n",
       "<table border=\"1\" class=\"dataframe\">\n",
       "  <thead>\n",
       "    <tr style=\"text-align: right;\">\n",
       "      <th></th>\n",
       "      <th>time_stamp</th>\n",
       "      <th>user_id</th>\n",
       "      <th>visited</th>\n",
       "    </tr>\n",
       "  </thead>\n",
       "  <tbody>\n",
       "    <tr>\n",
       "      <th>0</th>\n",
       "      <td>2014-04-22 03:53:30</td>\n",
       "      <td>1</td>\n",
       "      <td>1</td>\n",
       "    </tr>\n",
       "    <tr>\n",
       "      <th>1</th>\n",
       "      <td>2013-11-15 03:45:04</td>\n",
       "      <td>2</td>\n",
       "      <td>1</td>\n",
       "    </tr>\n",
       "    <tr>\n",
       "      <th>2</th>\n",
       "      <td>2013-11-29 03:45:04</td>\n",
       "      <td>2</td>\n",
       "      <td>1</td>\n",
       "    </tr>\n",
       "    <tr>\n",
       "      <th>3</th>\n",
       "      <td>2013-12-09 03:45:04</td>\n",
       "      <td>2</td>\n",
       "      <td>1</td>\n",
       "    </tr>\n",
       "    <tr>\n",
       "      <th>4</th>\n",
       "      <td>2013-12-25 03:45:04</td>\n",
       "      <td>2</td>\n",
       "      <td>1</td>\n",
       "    </tr>\n",
       "  </tbody>\n",
       "</table>\n",
       "</div>"
      ],
      "text/plain": [
       "            time_stamp  user_id  visited\n",
       "0  2014-04-22 03:53:30        1        1\n",
       "1  2013-11-15 03:45:04        2        1\n",
       "2  2013-11-29 03:45:04        2        1\n",
       "3  2013-12-09 03:45:04        2        1\n",
       "4  2013-12-25 03:45:04        2        1"
      ]
     },
     "execution_count": 11,
     "metadata": {},
     "output_type": "execute_result"
    }
   ],
   "source": [
    "engagement_df = pd.read_csv('takehome_user_engagement.csv')\n",
    "engagement_df = engagement_df.sort_values(by=['user_id','time_stamp'])\n",
    "engagement_df.head()"
   ]
  },
  {
   "cell_type": "code",
   "execution_count": 12,
   "metadata": {},
   "outputs": [],
   "source": [
    "engagement_df.loc[:, 'time_stamp'] = pd.to_datetime(engagement_df.time_stamp).values"
   ]
  },
  {
   "cell_type": "markdown",
   "metadata": {},
   "source": [
    "The last act of cleaning that I believe I need is to account for the non-referral instances, i.e. missing values in ```invited_by_user_id``` column. Because the user_id values are numeric, I'll use a placeholder of -1. "
   ]
  },
  {
   "cell_type": "markdown",
   "metadata": {},
   "source": [
    "The first main course of action is to, of course, define the which users adopted or not. To do this, I need some way of calculating the number of logins in a seven day period; note that a 7-day period is different from calendar week. First, we can eliminate those who have never logged in, or in fact, those who have never logged in 3 times even."
   ]
  },
  {
   "cell_type": "code",
   "execution_count": 13,
   "metadata": {},
   "outputs": [],
   "source": [
    "users = set(users_df.user_id.values)#.unique()\n",
    "users_with_login = set(engagement_df.user_id.values)\n",
    "users_no_login = users - users_with_login\n",
    "login_count = engagement_df.groupby('user_id').sum()\n",
    "users_less_than3_login = set(login_count[login_count.visited<3].index)\n",
    "users_possibly_adopted = set(login_count[login_count.visited>=3].index)\n",
    "# set().intersection(set(engagement_df.user_id.unique()))"
   ]
  },
  {
   "cell_type": "code",
   "execution_count": 14,
   "metadata": {},
   "outputs": [],
   "source": [
    "adopt_df = engagement_df[engagement_df.user_id.isin(users_possibly_adopted)]"
   ]
  },
  {
   "cell_type": "markdown",
   "metadata": {},
   "source": [
    "Because the 7-day windows are defined based on the dates themselves, simply create a new feature called ```time_stamp_plus_7```"
   ]
  },
  {
   "cell_type": "code",
   "execution_count": 15,
   "metadata": {},
   "outputs": [
    {
     "data": {
      "text/plain": [
       "(201002,)"
      ]
     },
     "execution_count": 15,
     "metadata": {},
     "output_type": "execute_result"
    }
   ],
   "source": [
    "(adopt_df.loc[:, 'time_stamp'].values + pd.Timedelta(days=7)).shape"
   ]
  },
  {
   "cell_type": "code",
   "execution_count": 16,
   "metadata": {},
   "outputs": [
    {
     "data": {
      "text/html": [
       "<div>\n",
       "<style scoped>\n",
       "    .dataframe tbody tr th:only-of-type {\n",
       "        vertical-align: middle;\n",
       "    }\n",
       "\n",
       "    .dataframe tbody tr th {\n",
       "        vertical-align: top;\n",
       "    }\n",
       "\n",
       "    .dataframe thead th {\n",
       "        text-align: right;\n",
       "    }\n",
       "</style>\n",
       "<table border=\"1\" class=\"dataframe\">\n",
       "  <thead>\n",
       "    <tr style=\"text-align: right;\">\n",
       "      <th></th>\n",
       "      <th>time_stamp_plus_7</th>\n",
       "    </tr>\n",
       "  </thead>\n",
       "  <tbody>\n",
       "    <tr>\n",
       "      <th>1</th>\n",
       "      <td>2013-11-22 03:45:04</td>\n",
       "    </tr>\n",
       "    <tr>\n",
       "      <th>2</th>\n",
       "      <td>2013-12-06 03:45:04</td>\n",
       "    </tr>\n",
       "    <tr>\n",
       "      <th>3</th>\n",
       "      <td>2013-12-16 03:45:04</td>\n",
       "    </tr>\n",
       "    <tr>\n",
       "      <th>4</th>\n",
       "      <td>2014-01-01 03:45:04</td>\n",
       "    </tr>\n",
       "    <tr>\n",
       "      <th>5</th>\n",
       "      <td>2014-01-07 03:45:04</td>\n",
       "    </tr>\n",
       "    <tr>\n",
       "      <th>...</th>\n",
       "      <td>...</td>\n",
       "    </tr>\n",
       "    <tr>\n",
       "      <th>207905</th>\n",
       "      <td>2014-04-27 14:22:45</td>\n",
       "    </tr>\n",
       "    <tr>\n",
       "      <th>207906</th>\n",
       "      <td>2014-05-02 14:22:45</td>\n",
       "    </tr>\n",
       "    <tr>\n",
       "      <th>207907</th>\n",
       "      <td>2014-05-05 14:22:45</td>\n",
       "    </tr>\n",
       "    <tr>\n",
       "      <th>207908</th>\n",
       "      <td>2014-05-24 14:22:45</td>\n",
       "    </tr>\n",
       "    <tr>\n",
       "      <th>207909</th>\n",
       "      <td>2014-06-06 14:22:45</td>\n",
       "    </tr>\n",
       "  </tbody>\n",
       "</table>\n",
       "<p>201002 rows × 1 columns</p>\n",
       "</div>"
      ],
      "text/plain": [
       "         time_stamp_plus_7\n",
       "1      2013-11-22 03:45:04\n",
       "2      2013-12-06 03:45:04\n",
       "3      2013-12-16 03:45:04\n",
       "4      2014-01-01 03:45:04\n",
       "5      2014-01-07 03:45:04\n",
       "...                    ...\n",
       "207905 2014-04-27 14:22:45\n",
       "207906 2014-05-02 14:22:45\n",
       "207907 2014-05-05 14:22:45\n",
       "207908 2014-05-24 14:22:45\n",
       "207909 2014-06-06 14:22:45\n",
       "\n",
       "[201002 rows x 1 columns]"
      ]
     },
     "execution_count": 16,
     "metadata": {},
     "output_type": "execute_result"
    }
   ],
   "source": [
    "(adopt_df.loc[:, 'time_stamp'] + pd.Timedelta(days=7)).to_frame(name='time_stamp_plus_7')"
   ]
  },
  {
   "cell_type": "code",
   "execution_count": 17,
   "metadata": {},
   "outputs": [],
   "source": [
    "adopt_df = pd.concat((adopt_df, (adopt_df.loc[:, 'time_stamp'] \n",
    "                      + pd.Timedelta(days=7)).to_frame(name='time_stamp_plus_7')),axis=1)"
   ]
  },
  {
   "cell_type": "markdown",
   "metadata": {},
   "source": [
    "Iterate over the different ```time_stamp``` values for each user. "
   ]
  },
  {
   "cell_type": "code",
   "execution_count": 18,
   "metadata": {},
   "outputs": [],
   "source": [
    "adopted_users = []\n",
    "for u in adopt_df.user_id.unique():\n",
    "    # slice out a single user at a time.\n",
    "    single_user_engagement_df = adopt_df[adopt_df.user_id==u]\n",
    "    \n",
    "    #iterate over this DataFrame slice\n",
    "    for row_index in single_user_engagement_df.index:\n",
    "        # choose the endpoints of the 7 day window\n",
    "        start = single_user_engagement_df.time_stamp\n",
    "        end = single_user_engagement_df.time_stamp_plus_7\n",
    "        # Count how many times the user logged in, in the present time + 7 days.\n",
    "        count_7day = len(single_user_engagement_df[(single_user_engagement_df.time_stamp>=start)\n",
    "                                      &(single_user_engagement_df.time_stamp<=end)])\n",
    "        if count_7day >= 3:\n",
    "            adopted_users.append(single_user_engagement_df.user_id.unique().tolist()[0])\n",
    "            # if we identified the user as adopted, can skip the remaining calculations.\n",
    "            break"
   ]
  },
  {
   "cell_type": "markdown",
   "metadata": {},
   "source": [
    "Now we can use the adopted users, we can setup the dependent variable for the modeling process."
   ]
  },
  {
   "cell_type": "code",
   "execution_count": 19,
   "metadata": {},
   "outputs": [],
   "source": [
    "users_df.loc[:, 'adopted'] = 0 \n",
    "users_df.loc[users_df[users_df.user_id.isin(adopted_users)].index,'adopted'] = 1"
   ]
  },
  {
   "cell_type": "markdown",
   "metadata": {},
   "source": [
    "For modeling purposes, the categorical variables with unique values per user are discarded from the modeling process. Alternatives could use NLP for the encoding of name and emails. To fairly weight the org id's they need to be encoded. \n",
    "\n",
    "I'm going to convert invited by user id to a binary flag column.\n",
    "\n",
    "For datetime variables, use a binning algorithm to encode."
   ]
  },
  {
   "cell_type": "code",
   "execution_count": 20,
   "metadata": {
    "scrolled": true
   },
   "outputs": [
    {
     "data": {
      "text/html": [
       "<div>\n",
       "<style scoped>\n",
       "    .dataframe tbody tr th:only-of-type {\n",
       "        vertical-align: middle;\n",
       "    }\n",
       "\n",
       "    .dataframe tbody tr th {\n",
       "        vertical-align: top;\n",
       "    }\n",
       "\n",
       "    .dataframe thead th {\n",
       "        text-align: right;\n",
       "    }\n",
       "</style>\n",
       "<table border=\"1\" class=\"dataframe\">\n",
       "  <thead>\n",
       "    <tr style=\"text-align: right;\">\n",
       "      <th></th>\n",
       "      <th>user_id</th>\n",
       "      <th>creation_time</th>\n",
       "      <th>name</th>\n",
       "      <th>email</th>\n",
       "      <th>creation_source</th>\n",
       "      <th>last_session_creation_time</th>\n",
       "      <th>opted_in_to_mailing_list</th>\n",
       "      <th>enabled_for_marketing_drip</th>\n",
       "      <th>org_id</th>\n",
       "      <th>invited_by_user_id</th>\n",
       "      <th>adopted</th>\n",
       "    </tr>\n",
       "  </thead>\n",
       "  <tbody>\n",
       "    <tr>\n",
       "      <th>9870</th>\n",
       "      <td>9871</td>\n",
       "      <td>2013-06-05 14:24:05</td>\n",
       "      <td>Glockner Kathrin</td>\n",
       "      <td>KathrinGlockner@yahoo.com</td>\n",
       "      <td>ORG_INVITE</td>\n",
       "      <td>2013-06-05 18:24:05</td>\n",
       "      <td>1</td>\n",
       "      <td>1</td>\n",
       "      <td>42</td>\n",
       "      <td>1.0</td>\n",
       "      <td>0</td>\n",
       "    </tr>\n",
       "    <tr>\n",
       "      <th>10432</th>\n",
       "      <td>10433</td>\n",
       "      <td>2014-05-09 20:37:24</td>\n",
       "      <td>Pereira Bruno</td>\n",
       "      <td>BrunoDiasPereira@hotmail.com</td>\n",
       "      <td>GUEST_INVITE</td>\n",
       "      <td>2014-05-30 20:37:24</td>\n",
       "      <td>0</td>\n",
       "      <td>0</td>\n",
       "      <td>87</td>\n",
       "      <td>1.0</td>\n",
       "      <td>1</td>\n",
       "    </tr>\n",
       "    <tr>\n",
       "      <th>6809</th>\n",
       "      <td>6810</td>\n",
       "      <td>2013-11-14 18:18:28</td>\n",
       "      <td>Muller Bernd</td>\n",
       "      <td>BerndMuller@jourrapide.com</td>\n",
       "      <td>ORG_INVITE</td>\n",
       "      <td>2014-05-27 18:18:28</td>\n",
       "      <td>0</td>\n",
       "      <td>0</td>\n",
       "      <td>137</td>\n",
       "      <td>1.0</td>\n",
       "      <td>1</td>\n",
       "    </tr>\n",
       "    <tr>\n",
       "      <th>3786</th>\n",
       "      <td>3787</td>\n",
       "      <td>2013-02-26 20:39:17</td>\n",
       "      <td>Vidler Flynn</td>\n",
       "      <td>FlynnVidler@gmail.com</td>\n",
       "      <td>ORG_INVITE</td>\n",
       "      <td>2013-02-27 20:39:17</td>\n",
       "      <td>0</td>\n",
       "      <td>0</td>\n",
       "      <td>196</td>\n",
       "      <td>1.0</td>\n",
       "      <td>0</td>\n",
       "    </tr>\n",
       "    <tr>\n",
       "      <th>2505</th>\n",
       "      <td>2506</td>\n",
       "      <td>2014-03-14 19:56:54</td>\n",
       "      <td>Duffy Anna</td>\n",
       "      <td>AnnaDuffy@gmail.com</td>\n",
       "      <td>SIGNUP_GOOGLE_AUTH</td>\n",
       "      <td>2014-03-15 19:56:54</td>\n",
       "      <td>0</td>\n",
       "      <td>0</td>\n",
       "      <td>64</td>\n",
       "      <td>1.0</td>\n",
       "      <td>0</td>\n",
       "    </tr>\n",
       "  </tbody>\n",
       "</table>\n",
       "</div>"
      ],
      "text/plain": [
       "       user_id       creation_time              name  \\\n",
       "9870      9871 2013-06-05 14:24:05  Glockner Kathrin   \n",
       "10432    10433 2014-05-09 20:37:24     Pereira Bruno   \n",
       "6809      6810 2013-11-14 18:18:28      Muller Bernd   \n",
       "3786      3787 2013-02-26 20:39:17      Vidler Flynn   \n",
       "2505      2506 2014-03-14 19:56:54        Duffy Anna   \n",
       "\n",
       "                              email     creation_source  \\\n",
       "9870      KathrinGlockner@yahoo.com          ORG_INVITE   \n",
       "10432  BrunoDiasPereira@hotmail.com        GUEST_INVITE   \n",
       "6809     BerndMuller@jourrapide.com          ORG_INVITE   \n",
       "3786          FlynnVidler@gmail.com          ORG_INVITE   \n",
       "2505            AnnaDuffy@gmail.com  SIGNUP_GOOGLE_AUTH   \n",
       "\n",
       "      last_session_creation_time  opted_in_to_mailing_list  \\\n",
       "9870         2013-06-05 18:24:05                         1   \n",
       "10432        2014-05-30 20:37:24                         0   \n",
       "6809         2014-05-27 18:18:28                         0   \n",
       "3786         2013-02-27 20:39:17                         0   \n",
       "2505         2014-03-15 19:56:54                         0   \n",
       "\n",
       "       enabled_for_marketing_drip  org_id  invited_by_user_id  adopted  \n",
       "9870                            1      42                 1.0        0  \n",
       "10432                           0      87                 1.0        1  \n",
       "6809                            0     137                 1.0        1  \n",
       "3786                            0     196                 1.0        0  \n",
       "2505                            0      64                 1.0        0  "
      ]
     },
     "execution_count": 20,
     "metadata": {},
     "output_type": "execute_result"
    }
   ],
   "source": [
    "users_df.sample(5)"
   ]
  },
  {
   "cell_type": "code",
   "execution_count": 21,
   "metadata": {},
   "outputs": [],
   "source": [
    "from sklearn.metrics import confusion_matrix, classification_report, roc_auc_score, roc_curve, ConfusionMatrixDisplay\n",
    "from sklearn.metrics import precision_recall_curve, precision_recall_fscore_support, plot_precision_recall_curve\n",
    "from sklearn.model_selection import train_test_split\n",
    "from sklearn.preprocessing import KBinsDiscretizer, OneHotEncoder\n",
    "from sklearn.preprocessing import scale, StandardScaler, MinMaxScaler, QuantileTransformer\n",
    "from sklearn.metrics import average_precision_score, cohen_kappa_score\n",
    "from sklearn.ensemble import RandomForestClassifier, GradientBoostingClassifier, AdaBoostClassifier\n",
    "from sklearn.decomposition import PCA, SparsePCA \n",
    "from sklearn.linear_model import LogisticRegression\n",
    "\n",
    "y = users_df.adopted.values\n",
    "model_df = users_df.drop(columns=['adopted','user_id','name','email','org_id'])"
   ]
  },
  {
   "cell_type": "code",
   "execution_count": 22,
   "metadata": {
    "scrolled": true
   },
   "outputs": [
    {
     "data": {
      "text/plain": [
       "creation_time                 11996\n",
       "creation_source                   5\n",
       "last_session_creation_time    11997\n",
       "opted_in_to_mailing_list          2\n",
       "enabled_for_marketing_drip        2\n",
       "invited_by_user_id                1\n",
       "dtype: int64"
      ]
     },
     "execution_count": 22,
     "metadata": {},
     "output_type": "execute_result"
    }
   ],
   "source": [
    "model_df.nunique()"
   ]
  },
  {
   "cell_type": "markdown",
   "metadata": {},
   "source": [
    "Bin the times, encode the other categoricals"
   ]
  },
  {
   "cell_type": "code",
   "execution_count": 23,
   "metadata": {},
   "outputs": [],
   "source": [
    "kbin = KBinsDiscretizer()\n",
    "binned_times = (kbin.fit_transform(\n",
    "                                    (model_df.loc[:, ['creation_time','last_session_creation_time']]\n",
    "                                    ).applymap(datetime.datetime.timestamp)\n",
    "                                  )\n",
    "               ).toarray()\n",
    "\n",
    "cat_dummies = pd.get_dummies(model_df.loc[:, ['creation_source']], drop_first=True).values\n"
   ]
  },
  {
   "cell_type": "markdown",
   "metadata": {},
   "source": [
    "First remove the original features and then add back their encodings. "
   ]
  },
  {
   "cell_type": "code",
   "execution_count": 24,
   "metadata": {},
   "outputs": [],
   "source": [
    "Xtmp = model_df.drop(columns=['creation_source','creation_time','last_session_creation_time'])\n",
    "X = np.concatenate((Xtmp.values, binned_times, cat_dummies),axis=1)"
   ]
  },
  {
   "cell_type": "markdown",
   "metadata": {},
   "source": [
    "I want to include the numerical data on the total number of logins, but this is related to the dependent variable and so it is not allowed. All of the columns of X are binary, therefore I don't think rescaling is necessary."
   ]
  },
  {
   "cell_type": "code",
   "execution_count": 25,
   "metadata": {},
   "outputs": [],
   "source": [
    "X_train, X_test, y_train, y_test = train_test_split(X, y, test_size=0.2)"
   ]
  },
  {
   "cell_type": "markdown",
   "metadata": {},
   "source": [
    "# Feature selection\n",
    "\n",
    "I just want to make a very obvious but simple observation that with org_id encoded included, there are 433 columns; without there are only 17. I choose to go without, for this exercise."
   ]
  },
  {
   "cell_type": "code",
   "execution_count": 26,
   "metadata": {},
   "outputs": [
    {
     "name": "stdout",
     "output_type": "stream",
     "text": [
      "tn, fp, fn, tp [1781  157  142  320]\n",
      "              precision    recall  f1-score   support\n",
      "\n",
      "           0       0.93      0.92      0.92      1938\n",
      "           1       0.67      0.69      0.68       462\n",
      "\n",
      "    accuracy                           0.88      2400\n",
      "   macro avg       0.80      0.81      0.80      2400\n",
      "weighted avg       0.88      0.88      0.88      2400\n",
      "\n"
     ]
    },
    {
     "data": {
      "image/png": "[encoded data removed]",
      "text/plain": [
       "<Figure size 432x288 with 2 Axes>"
      ]
     },
     "metadata": {
      "needs_background": "light"
     },
     "output_type": "display_data"
    },
    {
     "data": {
      "image/png": "[encoded data removed]",
      "text/plain": [
       "<Figure size 432x288 with 1 Axes>"
      ]
     },
     "metadata": {
      "needs_background": "light"
     },
     "output_type": "display_data"
    },
    {
     "data": {
      "image/png": "[encoded data removed]",
      "text/plain": [
       "<Figure size 432x288 with 1 Axes>"
      ]
     },
     "metadata": {
      "needs_background": "light"
     },
     "output_type": "display_data"
    }
   ],
   "source": [
    "logistic_regression = LogisticRegression(class_weight='balanced')\n",
    "_ = logistic_regression.fit(X_train, y_train)\n",
    "logreg_roc_auc_test = classifier_analysis(logistic_regression, X_test, y_test)"
   ]
  },
  {
   "cell_type": "code",
   "execution_count": 27,
   "metadata": {},
   "outputs": [
    {
     "name": "stdout",
     "output_type": "stream",
     "text": [
      "tn, fp, fn, tp [1938    0  209  253]\n",
      "              precision    recall  f1-score   support\n",
      "\n",
      "           0       0.90      1.00      0.95      1938\n",
      "           1       1.00      0.55      0.71       462\n",
      "\n",
      "    accuracy                           0.91      2400\n",
      "   macro avg       0.95      0.77      0.83      2400\n",
      "weighted avg       0.92      0.91      0.90      2400\n",
      "\n"
     ]
    },
    {
     "data": {
      "image/png": "[encoded data removed]",
      "text/plain": [
       "<Figure size 432x288 with 2 Axes>"
      ]
     },
     "metadata": {
      "needs_background": "light"
     },
     "output_type": "display_data"
    },
    {
     "data": {
      "image/png": "[encoded data removed]",
      "text/plain": [
       "<Figure size 432x288 with 1 Axes>"
      ]
     },
     "metadata": {
      "needs_background": "light"
     },
     "output_type": "display_data"
    },
    {
     "data": {
      "image/png": "[encoded data removed]",
      "text/plain": [
       "<Figure size 432x288 with 1 Axes>"
      ]
     },
     "metadata": {
      "needs_background": "light"
     },
     "output_type": "display_data"
    }
   ],
   "source": [
    "ada_boost = AdaBoostClassifier()\n",
    "_ = ada_boost.fit(X_train, y_train)\n",
    "adaboost_roc_auc_test = classifier_analysis(ada_boost, X_test, y_test)"
   ]
  },
  {
   "cell_type": "code",
   "execution_count": 28,
   "metadata": {},
   "outputs": [
    {
     "name": "stdout",
     "output_type": "stream",
     "text": [
      "tn, fp, fn, tp [1936    2  189  273]\n",
      "              precision    recall  f1-score   support\n",
      "\n",
      "           0       0.91      1.00      0.95      1938\n",
      "           1       0.99      0.59      0.74       462\n",
      "\n",
      "    accuracy                           0.92      2400\n",
      "   macro avg       0.95      0.79      0.85      2400\n",
      "weighted avg       0.93      0.92      0.91      2400\n",
      "\n"
     ]
    },
    {
     "data": {
      "image/png": "[encoded data removed]",
      "text/plain": [
       "<Figure size 432x288 with 2 Axes>"
      ]
     },
     "metadata": {
      "needs_background": "light"
     },
     "output_type": "display_data"
    },
    {
     "data": {
      "image/png": "[encoded data removed]",
      "text/plain": [
       "<Figure size 432x288 with 1 Axes>"
      ]
     },
     "metadata": {
      "needs_background": "light"
     },
     "output_type": "display_data"
    },
    {
     "data": {
      "image/png": "[encoded data removed]",
      "text/plain": [
       "<Figure size 432x288 with 1 Axes>"
      ]
     },
     "metadata": {
      "needs_background": "light"
     },
     "output_type": "display_data"
    }
   ],
   "source": [
    "random_forest = RandomForestClassifier()\n",
    "_ = random_forest.fit(X_train, y_train)\n",
    "ranfor_roc_auc_test = classifier_analysis(random_forest, X_test, y_test)"
   ]
  },
  {
   "cell_type": "code",
   "execution_count": 29,
   "metadata": {},
   "outputs": [
    {
     "name": "stdout",
     "output_type": "stream",
     "text": [
      "tn, fp, fn, tp [1938    0  189  273]\n",
      "              precision    recall  f1-score   support\n",
      "\n",
      "           0       0.91      1.00      0.95      1938\n",
      "           1       1.00      0.59      0.74       462\n",
      "\n",
      "    accuracy                           0.92      2400\n",
      "   macro avg       0.96      0.80      0.85      2400\n",
      "weighted avg       0.93      0.92      0.91      2400\n",
      "\n"
     ]
    },
    {
     "data": {
      "image/png": "[encoded data removed]",
      "text/plain": [
       "<Figure size 432x288 with 2 Axes>"
      ]
     },
     "metadata": {
      "needs_background": "light"
     },
     "output_type": "display_data"
    },
    {
     "data": {
      "image/png": "[encoded data removed]",
      "text/plain": [
       "<Figure size 432x288 with 1 Axes>"
      ]
     },
     "metadata": {
      "needs_background": "light"
     },
     "output_type": "display_data"
    },
    {
     "data": {
      "image/png": "[encoded data removed]",
      "text/plain": [
       "<Figure size 432x288 with 1 Axes>"
      ]
     },
     "metadata": {
      "needs_background": "light"
     },
     "output_type": "display_data"
    }
   ],
   "source": [
    "gradient_boost = GradientBoostingClassifier()\n",
    "_ = gradient_boost.fit(X_train, y_train)\n",
    "gradboost_roc_auc_test = classifier_analysis(gradient_boost, X_test, y_test)"
   ]
  },
  {
   "cell_type": "markdown",
   "metadata": {},
   "source": [
    "LogisticRegression and GradientBoostingClassifier have similar ROC_AUC scores, but the f1-score for the adopted users is better with respect to the GradientBoostingClassifier and so this is what I would likely recommend, as predicting whether or not a user will adopt is the entire goal. Can look at the feature importances using the corresponding attribute of GradientBoostingClassifier"
   ]
  },
  {
   "cell_type": "code",
   "execution_count": 30,
   "metadata": {},
   "outputs": [
    {
     "data": {
      "text/plain": [
       "array([1.89541425e-04, 6.23269124e-04, 0.00000000e+00, 3.37513877e-02,\n",
       "       6.20603733e-03, 1.45859012e-02, 1.92819037e-03, 3.73667609e-01,\n",
       "       2.41414613e-02, 2.90148467e-03, 2.45781949e-02, 2.18296576e-02,\n",
       "       4.88473251e-01, 9.81554038e-04, 5.23353900e-03, 7.69959003e-04,\n",
       "       1.38962333e-04])"
      ]
     },
     "execution_count": 30,
     "metadata": {},
     "output_type": "execute_result"
    }
   ],
   "source": [
    "gradient_boost.feature_importances_"
   ]
  },
  {
   "cell_type": "code",
   "execution_count": 31,
   "metadata": {},
   "outputs": [
    {
     "data": {
      "text/plain": [
       "array([12,  7,  3, 10,  8, 11,  5,  4, 14,  9,  6, 13, 15,  1,  0, 16,  2],\n",
       "      dtype=int64)"
      ]
     },
     "execution_count": 31,
     "metadata": {},
     "output_type": "execute_result"
    }
   ],
   "source": [
    "f_importance = np.argsort(gradient_boost.feature_importances_)[::-1]\n",
    "f_importance"
   ]
  },
  {
   "cell_type": "markdown",
   "metadata": {},
   "source": [
    "Note that features 0,1,2 are the columns ```['opted_in_to_mailing_list', 'enabled_for_marketing_drip', 'invited_by_user_id']```\n",
    "\n",
    "Features indexed from 3 to 7 are bins of the ```creation_times```\n",
    "\n",
    "Features indexed from 8 to 12 are bins of ```last_session_creation_time```.\n",
    "\n",
    "Features indexed from 13 to 16 are one-hot columns for ```creation_source```.\n",
    "\n",
    "Note that the binning strategy used on the time columns indicates that higher values (more recent times) are in the higher-indexed bins. Therefore it looks like it is important how recent the user both created and last logged into the service are important as these account for the two most important features. I think that the most recent login time makes sense because if a user has adopted the service then they'll likely be using it. I don't know why creation time would matter, however. \n",
    "\n",
    "With the types of data used (I could re-add the organization ID's) it is hard to provide a recommendation other than perhaps to focus on attracting new users rather than older users. One reason for this is perhaps the service has been updated over time and is better now than it was before."
   ]
  }
 ],
 "metadata": {
  "kernelspec": {
   "display_name": "Python 3",
   "language": "python",
   "name": "python3"
  },
  "language_info": {
   "codemirror_mode": {
    "name": "ipython",
    "version": 3
   },
   "file_extension": ".py",
   "mimetype": "text/x-python",
   "name": "python",
   "nbconvert_exporter": "python",
   "pygments_lexer": "ipython3",
   "version": "3.7.6"
  }
 },
 "nbformat": 4,
 "nbformat_minor": 4
}
