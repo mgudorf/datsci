{
 "cells": [
  {
   "cell_type": "code",
   "execution_count": 1,
   "metadata": {},
   "outputs": [],
   "source": [
    "import numpy as np\n",
    "import pandas as pd\n",
    "import seaborn as sns\n",
    "import matplotlib.pyplot as plt\n",
    "import os\n",
    "import sys\n",
    "import glob\n",
    "import re\n",
    "from matplotlib.patches import Rectangle"
   ]
  },
  {
   "cell_type": "code",
   "execution_count": 319,
   "metadata": {},
   "outputs": [],
   "source": [
    "def multi_index_slice_to_average_rate(x):\n",
    "    sliced_values = data.loc[x, :]\n",
    "    sliced_values_of_interest = sliced_values.loc[:, 'cases_per_1M_people_per_100k_tests']\n",
    "    # x is a tuple of the form ('country', slice(A,B))\n",
    "    if len(sliced_values_of_interest) == 0:\n",
    "        return np.nan\n",
    "    if x[1].start is None:\n",
    "        avg_case_rate = ((1/len(sliced_values_of_interest))\n",
    "                          *np.log((sliced_values_of_interest.iloc[-1]/sliced_values_of_interest.iloc[:-1].mean())))\n",
    "    else:\n",
    "        avg_case_rate = ((1/len(sliced_values_of_interest))\n",
    "                          *np.log((sliced_values_of_interest.iloc[1:].mean()/sliced_values_of_interest.iloc[0])))        \n",
    "    return avg_case_rate"
   ]
  },
  {
   "cell_type": "code",
   "execution_count": 581,
   "metadata": {},
   "outputs": [],
   "source": [
    "def multiindex_response_date_to_average_rates(x):\n",
    "    country = x[0]\n",
    "    date = x[1]\n",
    "    before_slice = pd.IndexSlice[date-pd.Timedelta(days=14):date-pd.Timedelta(days=1)]\n",
    "    after_slice =  pd.IndexSlice[date+pd.Timedelta(days=1):date+pd.Timedelta(days=14)]\n",
    "    cutoff = data.loc[(country, date), 'cases_per_1M_people_per_100k_tests']\n",
    "    before_df = data.loc[(country, before_slice), 'cases_per_1M_people_per_100k_tests']\n",
    "    after_df = data.loc[(country, after_slice), 'cases_per_1M_people_per_100k_tests']\n",
    "    avg_rate_before = (1./14.)*np.log(cutoff/before_df.mean())\n",
    "    avg_rate_after = (1./14.)*np.log(after_df.mean()/cutoff)\n",
    "    return avg_rate_before - avg_rate_after"
   ]
  },
  {
   "cell_type": "markdown",
   "metadata": {},
   "source": [
    "To do list:\n",
    "\n",
    "Filter government response data to find when each measure was enacted for each country.\n",
    "Get population and testing data for weights\n",
    "Calculate average growth rates before and after each government response.\n",
    "This is done by calculating the rates using three data points for each quarantine measure.\n",
    "The date of first case (subscript $i$), the date of the mandate (subscript $m$), \n",
    "and the most recent date or date that the response ended (subscript $f$).\n",
    "On these two different intervals, calculate the rates before and after which are given by\n",
    "    \n",
    "\\begin{align}\n",
    "r_{\\text{before}} &= \\frac{1}{\\Delta t_{mi}}\\log(\\frac{\\phi_m}{\\phi_i}) \\\\\n",
    "r_{\\text{after}} &= \\frac{1}{\\Delta t_{fm}}\\log(\\frac{\\phi_f}{\\phi_m})\\,,\n",
    "\\end{align}\n",
    "\n",
    "where $\\phi_j$ is the number of cases per population per tests on a given day, $t = t_j$ \n",
    "\n",
    "4. TWO_WAY ANOVA where countries are FACTOR A, response type is FACTOR B and BEFORE AFTER are the N's.\n",
    "\n",
    "To perform these calculations, need the dates which define the before and after intervals (unique to each country\n",
    "and response type pair, from https://www.bsg.ox.ac.uk/research/research-projects/coronavirus-government-response-tracker) and need the cases per population per tests. The cases per population is\n",
    "given in one of the data sets (original testing data, has too many missing values) https://ourworldindata.org/covid-testing . The (more reliable) number of tests is given in the dataset acquired at https://finddx.shinyapps.io/FIND_Cov_19_Tracker/\n",
    "\n",
    "The property that makes this process very tricky is that all three datasets have variable time series: that is, they vary between datasets, between countries and even between the dates themselves. What I mean by the last part is that sometimes accurate testing numbers were not recorded and so there are either missing values or horizontal testing curves for whatever period of time. My choice for how to handle this difficulty is to use pandas DataFrames, specifically which a multi level index where the levels correspond to the countries and then the dates of the time series. \n",
    "\n",
    "Import the .csv file that contains information on government responses and action events."
   ]
  },
  {
   "cell_type": "code",
   "execution_count": 3,
   "metadata": {},
   "outputs": [
    {
     "data": {
      "text/html": [
       "<div>\n",
       "<style scoped>\n",
       "    .dataframe tbody tr th:only-of-type {\n",
       "        vertical-align: middle;\n",
       "    }\n",
       "\n",
       "    .dataframe tbody tr th {\n",
       "        vertical-align: top;\n",
       "    }\n",
       "\n",
       "    .dataframe thead th {\n",
       "        text-align: right;\n",
       "    }\n",
       "</style>\n",
       "<table border=\"1\" class=\"dataframe\">\n",
       "  <thead>\n",
       "    <tr style=\"text-align: right;\">\n",
       "      <th></th>\n",
       "      <th>CountryName</th>\n",
       "      <th>CountryCode</th>\n",
       "      <th>Date</th>\n",
       "      <th>S1_School closing</th>\n",
       "      <th>S1_IsGeneral</th>\n",
       "      <th>S1_Notes</th>\n",
       "      <th>S2_Workplace closing</th>\n",
       "      <th>S2_IsGeneral</th>\n",
       "      <th>S2_Notes</th>\n",
       "      <th>S3_Cancel public events</th>\n",
       "      <th>...</th>\n",
       "      <th>S11_Notes</th>\n",
       "      <th>S12_Testing framework</th>\n",
       "      <th>S12_Notes</th>\n",
       "      <th>S13_Contact tracing</th>\n",
       "      <th>S13_Notes</th>\n",
       "      <th>ConfirmedCases</th>\n",
       "      <th>ConfirmedDeaths</th>\n",
       "      <th>StringencyIndex</th>\n",
       "      <th>StringencyIndexForDisplay</th>\n",
       "      <th>Unnamed: 39</th>\n",
       "    </tr>\n",
       "  </thead>\n",
       "  <tbody>\n",
       "    <tr>\n",
       "      <th>17277</th>\n",
       "      <td>Kosovo</td>\n",
       "      <td>RKS</td>\n",
       "      <td>20200419</td>\n",
       "      <td>2.0</td>\n",
       "      <td>1.0</td>\n",
       "      <td>NaN</td>\n",
       "      <td>2.0</td>\n",
       "      <td>0.0</td>\n",
       "      <td>NaN</td>\n",
       "      <td>2.0</td>\n",
       "      <td>...</td>\n",
       "      <td>NaN</td>\n",
       "      <td>1.0</td>\n",
       "      <td>NaN</td>\n",
       "      <td>1.0</td>\n",
       "      <td>NaN</td>\n",
       "      <td>510.0</td>\n",
       "      <td>12.0</td>\n",
       "      <td>90.48</td>\n",
       "      <td>90.48</td>\n",
       "      <td>\\t</td>\n",
       "    </tr>\n",
       "    <tr>\n",
       "      <th>17278</th>\n",
       "      <td>Kosovo</td>\n",
       "      <td>RKS</td>\n",
       "      <td>20200420</td>\n",
       "      <td>2.0</td>\n",
       "      <td>1.0</td>\n",
       "      <td>NaN</td>\n",
       "      <td>2.0</td>\n",
       "      <td>0.0</td>\n",
       "      <td>NaN</td>\n",
       "      <td>2.0</td>\n",
       "      <td>...</td>\n",
       "      <td>NaN</td>\n",
       "      <td>1.0</td>\n",
       "      <td>NaN</td>\n",
       "      <td>1.0</td>\n",
       "      <td>NaN</td>\n",
       "      <td>510.0</td>\n",
       "      <td>12.0</td>\n",
       "      <td>90.48</td>\n",
       "      <td>90.48</td>\n",
       "      <td>\\t</td>\n",
       "    </tr>\n",
       "    <tr>\n",
       "      <th>17279</th>\n",
       "      <td>Kosovo</td>\n",
       "      <td>RKS</td>\n",
       "      <td>20200421</td>\n",
       "      <td>NaN</td>\n",
       "      <td>NaN</td>\n",
       "      <td>NaN</td>\n",
       "      <td>NaN</td>\n",
       "      <td>NaN</td>\n",
       "      <td>NaN</td>\n",
       "      <td>NaN</td>\n",
       "      <td>...</td>\n",
       "      <td>NaN</td>\n",
       "      <td>NaN</td>\n",
       "      <td>NaN</td>\n",
       "      <td>NaN</td>\n",
       "      <td>NaN</td>\n",
       "      <td>510.0</td>\n",
       "      <td>12.0</td>\n",
       "      <td>NaN</td>\n",
       "      <td>90.48</td>\n",
       "      <td>\\t</td>\n",
       "    </tr>\n",
       "    <tr>\n",
       "      <th>17280</th>\n",
       "      <td>Kosovo</td>\n",
       "      <td>RKS</td>\n",
       "      <td>20200422</td>\n",
       "      <td>NaN</td>\n",
       "      <td>NaN</td>\n",
       "      <td>NaN</td>\n",
       "      <td>NaN</td>\n",
       "      <td>NaN</td>\n",
       "      <td>NaN</td>\n",
       "      <td>NaN</td>\n",
       "      <td>...</td>\n",
       "      <td>NaN</td>\n",
       "      <td>NaN</td>\n",
       "      <td>NaN</td>\n",
       "      <td>NaN</td>\n",
       "      <td>NaN</td>\n",
       "      <td>510.0</td>\n",
       "      <td>12.0</td>\n",
       "      <td>NaN</td>\n",
       "      <td>90.48</td>\n",
       "      <td>\\t</td>\n",
       "    </tr>\n",
       "    <tr>\n",
       "      <th>17281</th>\n",
       "      <td>Kosovo</td>\n",
       "      <td>RKS</td>\n",
       "      <td>20200423</td>\n",
       "      <td>NaN</td>\n",
       "      <td>NaN</td>\n",
       "      <td>NaN</td>\n",
       "      <td>NaN</td>\n",
       "      <td>NaN</td>\n",
       "      <td>NaN</td>\n",
       "      <td>NaN</td>\n",
       "      <td>...</td>\n",
       "      <td>NaN</td>\n",
       "      <td>NaN</td>\n",
       "      <td>NaN</td>\n",
       "      <td>NaN</td>\n",
       "      <td>NaN</td>\n",
       "      <td>510.0</td>\n",
       "      <td>12.0</td>\n",
       "      <td>NaN</td>\n",
       "      <td>90.48</td>\n",
       "      <td>\\t</td>\n",
       "    </tr>\n",
       "  </tbody>\n",
       "</table>\n",
       "<p>5 rows × 40 columns</p>\n",
       "</div>"
      ],
      "text/plain": [
       "      CountryName CountryCode      Date  S1_School closing  S1_IsGeneral  \\\n",
       "17277      Kosovo         RKS  20200419                2.0           1.0   \n",
       "17278      Kosovo         RKS  20200420                2.0           1.0   \n",
       "17279      Kosovo         RKS  20200421                NaN           NaN   \n",
       "17280      Kosovo         RKS  20200422                NaN           NaN   \n",
       "17281      Kosovo         RKS  20200423                NaN           NaN   \n",
       "\n",
       "      S1_Notes  S2_Workplace closing  S2_IsGeneral S2_Notes  \\\n",
       "17277      NaN                   2.0           0.0      NaN   \n",
       "17278      NaN                   2.0           0.0      NaN   \n",
       "17279      NaN                   NaN           NaN      NaN   \n",
       "17280      NaN                   NaN           NaN      NaN   \n",
       "17281      NaN                   NaN           NaN      NaN   \n",
       "\n",
       "       S3_Cancel public events  ...  S11_Notes S12_Testing framework  \\\n",
       "17277                      2.0  ...        NaN                   1.0   \n",
       "17278                      2.0  ...        NaN                   1.0   \n",
       "17279                      NaN  ...        NaN                   NaN   \n",
       "17280                      NaN  ...        NaN                   NaN   \n",
       "17281                      NaN  ...        NaN                   NaN   \n",
       "\n",
       "       S12_Notes  S13_Contact tracing S13_Notes  ConfirmedCases  \\\n",
       "17277        NaN                  1.0       NaN           510.0   \n",
       "17278        NaN                  1.0       NaN           510.0   \n",
       "17279        NaN                  NaN       NaN           510.0   \n",
       "17280        NaN                  NaN       NaN           510.0   \n",
       "17281        NaN                  NaN       NaN           510.0   \n",
       "\n",
       "       ConfirmedDeaths StringencyIndex  StringencyIndexForDisplay  Unnamed: 39  \n",
       "17277             12.0           90.48                      90.48           \\t  \n",
       "17278             12.0           90.48                      90.48           \\t  \n",
       "17279             12.0             NaN                      90.48           \\t  \n",
       "17280             12.0             NaN                      90.48           \\t  \n",
       "17281             12.0             NaN                      90.48           \\t  \n",
       "\n",
       "[5 rows x 40 columns]"
      ]
     },
     "execution_count": 3,
     "metadata": {},
     "output_type": "execute_result"
    }
   ],
   "source": [
    "response_df = pd.read_csv('./OxCGRT_Download_250420_012832_Full.csv')\n",
    "response_df.tail()"
   ]
  },
  {
   "cell_type": "markdown",
   "metadata": {},
   "source": [
    "Slice out all \"notes\" and targeted vs. general response columns. This currently goes beyond what I want to do. Also\n",
    "merge day, month, year data into single date timestamp"
   ]
  },
  {
   "cell_type": "code",
   "execution_count": 4,
   "metadata": {},
   "outputs": [],
   "source": [
    "response_df_edit = response_df.copy()\n",
    "for x in response_df.columns:\n",
    "    if (x.count('Notes')>0) | (x.count('IsGeneral')>0):\n",
    "        response_df_edit.drop(columns=x, inplace=True)\n",
    "        \n",
    "response_df_edit.drop(columns='Unnamed: 39', inplace=True)\n",
    "response_df_edit.loc[:, 'Date'] = pd.to_datetime(response_df_edit.Date, format='%Y%m%d', errors='coerce')"
   ]
  },
  {
   "cell_type": "markdown",
   "metadata": {},
   "source": [
    "For WHATEVER reason, I cannot use idxmin or idxmax to get the correct date when the date is the index, but\n",
    "if DATE is kept as a column I can use max or min. \n",
    "\n",
    "Two-way ANOVA: Factor A will be quarantine type? Factor B is Country? Only count countries where\n",
    "quarantine has been active for 2 weeks consectutively. The trials will be the time series. (weighted by population, and number of tests).\n",
    "\n",
    "Take a subset of data which has implemented all quarantine measures that will be tested. \n",
    "The quantifiable measure will be \n",
    "\n",
    "\n",
    "OK: averaging over the time series is dubious because of confounding factors. "
   ]
  },
  {
   "cell_type": "code",
   "execution_count": 5,
   "metadata": {},
   "outputs": [],
   "source": [
    "group_by_country = response_df_edit.groupby(by=['CountryName','Date']).sum()"
   ]
  },
  {
   "cell_type": "code",
   "execution_count": 6,
   "metadata": {},
   "outputs": [
    {
     "data": {
      "text/html": [
       "<div>\n",
       "<style scoped>\n",
       "    .dataframe tbody tr th:only-of-type {\n",
       "        vertical-align: middle;\n",
       "    }\n",
       "\n",
       "    .dataframe tbody tr th {\n",
       "        vertical-align: top;\n",
       "    }\n",
       "\n",
       "    .dataframe thead th {\n",
       "        text-align: right;\n",
       "    }\n",
       "</style>\n",
       "<table border=\"1\" class=\"dataframe\">\n",
       "  <thead>\n",
       "    <tr style=\"text-align: right;\">\n",
       "      <th></th>\n",
       "      <th></th>\n",
       "      <th>School_closing</th>\n",
       "      <th>Workplace_closing</th>\n",
       "      <th>Cancel_public_events</th>\n",
       "      <th>Close_public_transport</th>\n",
       "      <th>Public_information_campaigns</th>\n",
       "      <th>Restrictions_on_internal_movement</th>\n",
       "      <th>International_travel_controls</th>\n",
       "      <th>Fiscal_measures</th>\n",
       "      <th>Monetary_measures</th>\n",
       "      <th>Emergency_investment_in_health_care</th>\n",
       "      <th>Investment_in_Vaccines</th>\n",
       "      <th>Testing_framework</th>\n",
       "      <th>Contact_tracing</th>\n",
       "      <th>ConfirmedCases</th>\n",
       "      <th>ConfirmedDeaths</th>\n",
       "      <th>StringencyIndex</th>\n",
       "      <th>StringencyIndexForDisplay</th>\n",
       "    </tr>\n",
       "    <tr>\n",
       "      <th>CountryName</th>\n",
       "      <th>Date</th>\n",
       "      <th></th>\n",
       "      <th></th>\n",
       "      <th></th>\n",
       "      <th></th>\n",
       "      <th></th>\n",
       "      <th></th>\n",
       "      <th></th>\n",
       "      <th></th>\n",
       "      <th></th>\n",
       "      <th></th>\n",
       "      <th></th>\n",
       "      <th></th>\n",
       "      <th></th>\n",
       "      <th></th>\n",
       "      <th></th>\n",
       "      <th></th>\n",
       "      <th></th>\n",
       "    </tr>\n",
       "  </thead>\n",
       "  <tbody>\n",
       "    <tr>\n",
       "      <th rowspan=\"5\" valign=\"top\">Afghanistan</th>\n",
       "      <th>2020-01-01</th>\n",
       "      <td>0.0</td>\n",
       "      <td>0.0</td>\n",
       "      <td>0.0</td>\n",
       "      <td>0.0</td>\n",
       "      <td>0.0</td>\n",
       "      <td>0.0</td>\n",
       "      <td>0.0</td>\n",
       "      <td>0.0</td>\n",
       "      <td>0.0</td>\n",
       "      <td>0.0</td>\n",
       "      <td>0.0</td>\n",
       "      <td>0.0</td>\n",
       "      <td>0.0</td>\n",
       "      <td>0.0</td>\n",
       "      <td>0.0</td>\n",
       "      <td>0.0</td>\n",
       "      <td>0.0</td>\n",
       "    </tr>\n",
       "    <tr>\n",
       "      <th>2020-01-02</th>\n",
       "      <td>0.0</td>\n",
       "      <td>0.0</td>\n",
       "      <td>0.0</td>\n",
       "      <td>0.0</td>\n",
       "      <td>0.0</td>\n",
       "      <td>0.0</td>\n",
       "      <td>0.0</td>\n",
       "      <td>0.0</td>\n",
       "      <td>0.0</td>\n",
       "      <td>0.0</td>\n",
       "      <td>0.0</td>\n",
       "      <td>0.0</td>\n",
       "      <td>0.0</td>\n",
       "      <td>0.0</td>\n",
       "      <td>0.0</td>\n",
       "      <td>0.0</td>\n",
       "      <td>0.0</td>\n",
       "    </tr>\n",
       "    <tr>\n",
       "      <th>2020-01-03</th>\n",
       "      <td>0.0</td>\n",
       "      <td>0.0</td>\n",
       "      <td>0.0</td>\n",
       "      <td>0.0</td>\n",
       "      <td>0.0</td>\n",
       "      <td>0.0</td>\n",
       "      <td>0.0</td>\n",
       "      <td>0.0</td>\n",
       "      <td>0.0</td>\n",
       "      <td>0.0</td>\n",
       "      <td>0.0</td>\n",
       "      <td>0.0</td>\n",
       "      <td>0.0</td>\n",
       "      <td>0.0</td>\n",
       "      <td>0.0</td>\n",
       "      <td>0.0</td>\n",
       "      <td>0.0</td>\n",
       "    </tr>\n",
       "    <tr>\n",
       "      <th>2020-01-04</th>\n",
       "      <td>0.0</td>\n",
       "      <td>0.0</td>\n",
       "      <td>0.0</td>\n",
       "      <td>0.0</td>\n",
       "      <td>0.0</td>\n",
       "      <td>0.0</td>\n",
       "      <td>0.0</td>\n",
       "      <td>0.0</td>\n",
       "      <td>0.0</td>\n",
       "      <td>0.0</td>\n",
       "      <td>0.0</td>\n",
       "      <td>0.0</td>\n",
       "      <td>0.0</td>\n",
       "      <td>0.0</td>\n",
       "      <td>0.0</td>\n",
       "      <td>0.0</td>\n",
       "      <td>0.0</td>\n",
       "    </tr>\n",
       "    <tr>\n",
       "      <th>2020-01-05</th>\n",
       "      <td>0.0</td>\n",
       "      <td>0.0</td>\n",
       "      <td>0.0</td>\n",
       "      <td>0.0</td>\n",
       "      <td>0.0</td>\n",
       "      <td>0.0</td>\n",
       "      <td>0.0</td>\n",
       "      <td>0.0</td>\n",
       "      <td>0.0</td>\n",
       "      <td>0.0</td>\n",
       "      <td>0.0</td>\n",
       "      <td>0.0</td>\n",
       "      <td>0.0</td>\n",
       "      <td>0.0</td>\n",
       "      <td>0.0</td>\n",
       "      <td>0.0</td>\n",
       "      <td>0.0</td>\n",
       "    </tr>\n",
       "  </tbody>\n",
       "</table>\n",
       "</div>"
      ],
      "text/plain": [
       "                        School_closing  Workplace_closing  \\\n",
       "CountryName Date                                            \n",
       "Afghanistan 2020-01-01             0.0                0.0   \n",
       "            2020-01-02             0.0                0.0   \n",
       "            2020-01-03             0.0                0.0   \n",
       "            2020-01-04             0.0                0.0   \n",
       "            2020-01-05             0.0                0.0   \n",
       "\n",
       "                        Cancel_public_events  Close_public_transport  \\\n",
       "CountryName Date                                                       \n",
       "Afghanistan 2020-01-01                   0.0                     0.0   \n",
       "            2020-01-02                   0.0                     0.0   \n",
       "            2020-01-03                   0.0                     0.0   \n",
       "            2020-01-04                   0.0                     0.0   \n",
       "            2020-01-05                   0.0                     0.0   \n",
       "\n",
       "                        Public_information_campaigns  \\\n",
       "CountryName Date                                       \n",
       "Afghanistan 2020-01-01                           0.0   \n",
       "            2020-01-02                           0.0   \n",
       "            2020-01-03                           0.0   \n",
       "            2020-01-04                           0.0   \n",
       "            2020-01-05                           0.0   \n",
       "\n",
       "                        Restrictions_on_internal_movement  \\\n",
       "CountryName Date                                            \n",
       "Afghanistan 2020-01-01                                0.0   \n",
       "            2020-01-02                                0.0   \n",
       "            2020-01-03                                0.0   \n",
       "            2020-01-04                                0.0   \n",
       "            2020-01-05                                0.0   \n",
       "\n",
       "                        International_travel_controls  Fiscal_measures  \\\n",
       "CountryName Date                                                         \n",
       "Afghanistan 2020-01-01                            0.0              0.0   \n",
       "            2020-01-02                            0.0              0.0   \n",
       "            2020-01-03                            0.0              0.0   \n",
       "            2020-01-04                            0.0              0.0   \n",
       "            2020-01-05                            0.0              0.0   \n",
       "\n",
       "                        Monetary_measures  \\\n",
       "CountryName Date                            \n",
       "Afghanistan 2020-01-01                0.0   \n",
       "            2020-01-02                0.0   \n",
       "            2020-01-03                0.0   \n",
       "            2020-01-04                0.0   \n",
       "            2020-01-05                0.0   \n",
       "\n",
       "                        Emergency_investment_in_health_care  \\\n",
       "CountryName Date                                              \n",
       "Afghanistan 2020-01-01                                  0.0   \n",
       "            2020-01-02                                  0.0   \n",
       "            2020-01-03                                  0.0   \n",
       "            2020-01-04                                  0.0   \n",
       "            2020-01-05                                  0.0   \n",
       "\n",
       "                        Investment_in_Vaccines  Testing_framework  \\\n",
       "CountryName Date                                                    \n",
       "Afghanistan 2020-01-01                     0.0                0.0   \n",
       "            2020-01-02                     0.0                0.0   \n",
       "            2020-01-03                     0.0                0.0   \n",
       "            2020-01-04                     0.0                0.0   \n",
       "            2020-01-05                     0.0                0.0   \n",
       "\n",
       "                        Contact_tracing  ConfirmedCases  ConfirmedDeaths  \\\n",
       "CountryName Date                                                           \n",
       "Afghanistan 2020-01-01              0.0             0.0              0.0   \n",
       "            2020-01-02              0.0             0.0              0.0   \n",
       "            2020-01-03              0.0             0.0              0.0   \n",
       "            2020-01-04              0.0             0.0              0.0   \n",
       "            2020-01-05              0.0             0.0              0.0   \n",
       "\n",
       "                        StringencyIndex  StringencyIndexForDisplay  \n",
       "CountryName Date                                                    \n",
       "Afghanistan 2020-01-01              0.0                        0.0  \n",
       "            2020-01-02              0.0                        0.0  \n",
       "            2020-01-03              0.0                        0.0  \n",
       "            2020-01-04              0.0                        0.0  \n",
       "            2020-01-05              0.0                        0.0  "
      ]
     },
     "execution_count": 6,
     "metadata": {},
     "output_type": "execute_result"
    }
   ],
   "source": [
    "group_by_country.columns = ['_'.join(y.split(' ')) for y in [x.split('_')[-1] for x in group_by_country.columns.tolist()]]\n",
    "group_by_country.head()"
   ]
  },
  {
   "cell_type": "markdown",
   "metadata": {},
   "source": [
    "Because each computation requires its own unique slice, with a multiindex no less, I find it easiest\n",
    "to create a DataFrame whose values are pandas multislice elements using pandas IndexSlice objects. \n",
    "These values cannot be passed at once to the testing multiindex array, but it was designed to take advantage of the .apply method. "
   ]
  },
  {
   "cell_type": "code",
   "execution_count": 7,
   "metadata": {
    "scrolled": true
   },
   "outputs": [],
   "source": [
    "all_responses = group_by_country.iloc[:, [0, 1, 2, 3, 5, 6]]\n",
    "country_list = []\n",
    "slice_list = []\n",
    "\n",
    "for j, (country, country_df) in enumerate(all_responses.groupby(level=0)):\n",
    "    active_dates = country_df.replace(to_replace=0., value=np.nan)\n",
    "    country_list += [country]\n",
    "    before_list = []\n",
    "    after_list = []\n",
    "    for i, single_response in enumerate(active_dates.columns):\n",
    "        effective_range = active_dates[single_response].dropna(axis=0)\n",
    "        before = effective_range.reset_index().Date.min()\n",
    "        after = effective_range.reset_index().Date.max()\n",
    "        slice_list += [pd.IndexSlice[:before], pd.IndexSlice[before:after]]   \n",
    "        \n",
    "before_after_columns = np.array([[x+'_before', x+'_after'] for x in all_responses.columns.tolist()]).ravel()\n",
    "enacted_ended_df = pd.DataFrame(np.array(slice_list).reshape(len(country_list), -1), index=country_list, columns=before_after_columns)"
   ]
  },
  {
   "cell_type": "code",
   "execution_count": 583,
   "metadata": {},
   "outputs": [],
   "source": [
    "all_responses = group_by_country.iloc[:, [0, 1, 2, 3, 5, 6]]\n",
    "country_list = []\n",
    "slice_list = []\n",
    "\n",
    "for j, (country, country_df) in enumerate(all_responses.groupby(level=0)):\n",
    "    active_dates = country_df.replace(to_replace=0., value=np.nan)\n",
    "    country_list += [country]\n",
    "    before_list = []\n",
    "    after_list = []\n",
    "    for i, single_response in enumerate(active_dates.columns):\n",
    "        effective_range = active_dates[single_response].dropna(axis=0)\n",
    "        before = effective_range.reset_index().Date.min()\n",
    "#         after = effective_range.reset_index().Date.max()\n",
    "        slice_list += [before]   \n",
    "        \n",
    "enacted_ended_df = pd.DataFrame(np.array(slice_list).reshape(len(country_list), -1), index=country_list, columns=all_responses.columns)"
   ]
  },
  {
   "cell_type": "code",
   "execution_count": 584,
   "metadata": {},
   "outputs": [],
   "source": [
    "all_responses = group_by_country.iloc[:, [0, 1, 2, 3, 5, 6]]\n",
    "country_list = []\n",
    "minmax_list = []\n",
    "for j, (country, country_df) in enumerate(all_responses.groupby(level=0)):\n",
    "    active_dates = country_df.replace(to_replace=0., value=np.nan)\n",
    "    country_list += [country]\n",
    "    for i, single_response in enumerate(active_dates.columns):\n",
    "        effective_range = active_dates[single_response].dropna(axis=0)\n",
    "        before = effective_range.reset_index().Date.min()\n",
    "        after = effective_range.reset_index().Date.max()\n",
    "        minmax_list += [before, after]   \n",
    "\n",
    "start_end_columns = np.array([[x+'_start', x+'_end'] for x in all_responses.columns.tolist()]).ravel()\n",
    "start_end_df = pd.DataFrame(np.array(minmax_list).reshape(len(country_list), -1), index=country_list, columns=start_end_columns)"
   ]
  },
  {
   "cell_type": "markdown",
   "metadata": {},
   "source": [
    "In order to incorporate the largest segment of the population, but remove all missing values, drop the\n",
    "public transport columns and then drop the remaining countries with missing values.  "
   ]
  },
  {
   "cell_type": "code",
   "execution_count": 604,
   "metadata": {},
   "outputs": [],
   "source": [
    "start_end_filtered_df = start_end_df.drop(columns=['Close_public_transport_start','Close_public_transport_end']).dropna(axis=0)\n",
    "filtered_countries = start_end_filtered_df.index\n",
    "enacted_ended_filtered_df = enacted_ended_df.drop(columns=['Close_public_transport']).loc[filtered_countries, :]"
   ]
  },
  {
   "cell_type": "markdown",
   "metadata": {},
   "source": [
    "to be able to use apply later, zip the slices with the country names so that they look like multiindex slices"
   ]
  },
  {
   "cell_type": "markdown",
   "metadata": {},
   "source": [
    "Can't do ANOVA on missing values, drop them; this has ramifications in the future of filtering countries."
   ]
  },
  {
   "cell_type": "markdown",
   "metadata": {},
   "source": [
    "There are a number of countries with mismatched labels (different data sources), correct these manually. "
   ]
  },
  {
   "cell_type": "markdown",
   "metadata": {},
   "source": [
    "The original numbers are in units of thousands of people"
   ]
  },
  {
   "cell_type": "code",
   "execution_count": 605,
   "metadata": {},
   "outputs": [],
   "source": [
    "popdat = pd.read_csv('popdat.csv')#.set_index('Country')\n",
    "popdat.loc[:, 'pop2020'] = 1000*popdat.loc[:, 'pop2020']\n",
    "popdat = popdat.set_index('name')\n",
    "popdat.index.name = 'country'"
   ]
  },
  {
   "cell_type": "markdown",
   "metadata": {},
   "source": [
    "Because I have three different data sources for the population data, government response data, and testing data,\n",
    "I first take the intersection of the countries which exist in all three data sets."
   ]
  },
  {
   "cell_type": "code",
   "execution_count": 606,
   "metadata": {},
   "outputs": [],
   "source": [
    "#popdat.index.intersection(start_end_filtered_df.index).intersection(testing_multiindex_df.index.get_level_values(level=0).unique())"
   ]
  },
  {
   "cell_type": "markdown",
   "metadata": {},
   "source": [
    "Next, I need to create a strategy for how to account for missing test values (i.e. when there are cases but no tests, presumably this is either a lack of reporting or the \"confirmed\" cases are via diagnosis rather than explicit testing).\n",
    "\n",
    "There are two \"types\" of missing test values: those from errors in reporting and those from confirmation of cases via diagnosis. I distinguish between these two types via the following: errors in reporting occur when there are gaps in the testing data after the date of the first known test. The second type occurs when there are known or confirmed cases but no testing data yet exists. To account for the first type I will use forward filling, as to not overestimate \n",
    "\n",
    "\n",
    "The second part of the weighting process is by the testing numbers, as the number of cases will go up if you\n",
    "test more.\n",
    "\n",
    "Import the new testing data (much better), but still use the old dataset because it has cases normalized by population."
   ]
  },
  {
   "cell_type": "code",
   "execution_count": 607,
   "metadata": {},
   "outputs": [],
   "source": [
    "mismatch_labels_bad = ['Lao People\\'s Democratic Republic', 'Mainland China','Occupied Palestinian Territory','Republic of Korea','The Gambia', 'UK', 'USA','Iran (Islamic Republic of)']\n",
    "mismatch_labels_good = ['Laos','China','Palestine','South Korea','Gambia','United Kingdom', 'United States','Iran']"
   ]
  },
  {
   "cell_type": "code",
   "execution_count": 608,
   "metadata": {},
   "outputs": [],
   "source": [
    "test_and_case_df = pd.read_csv('./covid-19-data/owid-covid-data.csv')\n",
    "# Convert \"date\" column to an actual datetime variable. \n",
    "test_and_case_df.loc[:, 'date'] = pd.to_datetime(test_and_case_df.loc[:, 'date'])\n",
    "test_and_case_df.loc[:,'location'] = test_and_case_df.loc[:,'location'].replace(to_replace=mismatch_labels_bad, value=mismatch_labels_good)\n",
    "\n",
    "testing_df = pd.read_csv('./new_covid_testing/Tests.csv')\n",
    "testing_df.loc[:, 'date'] = pd.to_datetime(testing_df.loc[:, 'date'])\n",
    "testing_df.loc[:,'country'] = testing_df.loc[:,'country'].replace(to_replace=mismatch_labels_bad, value=mismatch_labels_good)\n",
    "testing_df = testing_df.set_index('country')\n",
    "test_and_case_df = test_and_case_df.set_index('location')\n",
    "testing_df.index.name = 'Country'\n",
    "test_and_case_df.index.name = 'Country'"
   ]
  },
  {
   "cell_type": "code",
   "execution_count": 609,
   "metadata": {},
   "outputs": [],
   "source": [
    "final_country_index = enacted_ended_filtered_df.index.intersection(testing_df.index.intersection(test_and_case_df.index)).unique()\n",
    "# no case data?\n",
    "final_country_index = final_country_index.drop('Hong Kong')"
   ]
  },
  {
   "cell_type": "markdown",
   "metadata": {},
   "source": [
    "The pruned response data has 122 countries and the testing data has 206, the intersection : 94.\n",
    "These 94 countries still account for 6.6 billion people, notable missing entries are: Ethiopia, Iran. Congo, United Kingdom,\n",
    "dropped because they had missing values in governement response data; i.e. they did not take all considered actions. "
   ]
  },
  {
   "cell_type": "code",
   "execution_count": 610,
   "metadata": {},
   "outputs": [],
   "source": [
    "case_df = test_and_case_df.loc[final_country_index, :]\n",
    "test_df = testing_df.loc[final_country_index, :]\n",
    "response_df = start_end_filtered_df.loc[final_country_index, :]\n",
    "case_df.loc[:, 'population'] = test_df.loc[:, 'population'].drop_duplicates()"
   ]
  },
  {
   "cell_type": "code",
   "execution_count": 611,
   "metadata": {},
   "outputs": [],
   "source": [
    "first_case_dates = case_df.reset_index().set_index(['Country','date']).total_cases.replace(to_replace=0,value=np.nan).dropna().reset_index(level=1).groupby(level=0).date.min()\n",
    "\n",
    "min_response_dates = response_df.min(axis=1)\n",
    "\n",
    "tmp = response_df.copy()\n",
    "dt = pd.DataFrame(np.tile(first_case_dates.values.reshape(-1,1),(1, response_df.shape[1])))\n",
    "diff_df = tmp - np.tile(first_case_dates.values.reshape(-1,1),(1, response_df.shape[1]))\n",
    "num_miss=diff_df.where(diff_df > pd.Timedelta(days=0)).isna().sum(1).sort_values(ascending=False)\n",
    "countries_with_cases_before_responses = num_miss.where(num_miss==0).dropna().index"
   ]
  },
  {
   "cell_type": "code",
   "execution_count": 636,
   "metadata": {},
   "outputs": [],
   "source": [
    "case_df = case_df.loc[countries_with_cases_before_responses, :]\n",
    "test_df = testing_df.loc[countries_with_cases_before_responses, :]\n",
    "response_df = start_end_filtered_df.loc[countries_with_cases_before_responses, :].sort_index()"
   ]
  },
  {
   "cell_type": "markdown",
   "metadata": {},
   "source": [
    "To make my life easier, I'm only taking data which had cases before all government mandates so the rates before and after are well defined. We can think of these as being \"late responders\""
   ]
  },
  {
   "cell_type": "code",
   "execution_count": 613,
   "metadata": {
    "scrolled": true
   },
   "outputs": [],
   "source": [
    "case_multiindex_df = case_df.set_index([case_df.index,'date']).sort_index()\n",
    "case_multiindex_df.index.names = ['Country','Date']\n",
    "\n",
    "test_multiindex_df = test_df.set_index([test_df.index,'date']).sort_index()\n",
    "test_multiindex_df = test_multiindex_df.drop(columns='population')\n",
    "test_multiindex_df.index.names = ['Country','Date']"
   ]
  },
  {
   "cell_type": "code",
   "execution_count": 672,
   "metadata": {},
   "outputs": [
    {
     "data": {
      "text/html": [
       "<div>\n",
       "<style scoped>\n",
       "    .dataframe tbody tr th:only-of-type {\n",
       "        vertical-align: middle;\n",
       "    }\n",
       "\n",
       "    .dataframe tbody tr th {\n",
       "        vertical-align: top;\n",
       "    }\n",
       "\n",
       "    .dataframe thead th {\n",
       "        text-align: right;\n",
       "    }\n",
       "</style>\n",
       "<table border=\"1\" class=\"dataframe\">\n",
       "  <thead>\n",
       "    <tr style=\"text-align: right;\">\n",
       "      <th></th>\n",
       "      <th>School_closing</th>\n",
       "      <th>Workplace_closing</th>\n",
       "      <th>Cancel_public_events</th>\n",
       "      <th>Restrictions_on_internal_movement</th>\n",
       "      <th>International_travel_controls</th>\n",
       "    </tr>\n",
       "  </thead>\n",
       "  <tbody>\n",
       "    <tr>\n",
       "      <th>Afghanistan</th>\n",
       "      <td>(Afghanistan, 2020-03-14 00:00:00)</td>\n",
       "      <td>(Afghanistan, 2020-03-26 00:00:00)</td>\n",
       "      <td>(Afghanistan, 2020-03-01 00:00:00)</td>\n",
       "      <td>(Afghanistan, 2020-03-24 00:00:00)</td>\n",
       "      <td>(Afghanistan, 2020-03-02 00:00:00)</td>\n",
       "    </tr>\n",
       "    <tr>\n",
       "      <th>Argentina</th>\n",
       "      <td>(Argentina, 2020-03-16 00:00:00)</td>\n",
       "      <td>(Argentina, 2020-03-16 00:00:00)</td>\n",
       "      <td>(Argentina, 2020-03-13 00:00:00)</td>\n",
       "      <td>(Argentina, 2020-03-20 00:00:00)</td>\n",
       "      <td>(Argentina, 2020-03-11 00:00:00)</td>\n",
       "    </tr>\n",
       "    <tr>\n",
       "      <th>Australia</th>\n",
       "      <td>(Australia, 2020-03-22 00:00:00)</td>\n",
       "      <td>(Australia, 2020-03-24 00:00:00)</td>\n",
       "      <td>(Australia, 2020-03-16 00:00:00)</td>\n",
       "      <td>(Australia, 2020-03-19 00:00:00)</td>\n",
       "      <td>(Australia, 2020-02-01 00:00:00)</td>\n",
       "    </tr>\n",
       "    <tr>\n",
       "      <th>Austria</th>\n",
       "      <td>(Austria, 2020-03-16 00:00:00)</td>\n",
       "      <td>(Austria, 2020-03-12 00:00:00)</td>\n",
       "      <td>(Austria, 2020-03-11 00:00:00)</td>\n",
       "      <td>(Austria, 2020-03-13 00:00:00)</td>\n",
       "      <td>(Austria, 2020-03-09 00:00:00)</td>\n",
       "    </tr>\n",
       "    <tr>\n",
       "      <th>Bahrain</th>\n",
       "      <td>(Bahrain, 2020-02-26 00:00:00)</td>\n",
       "      <td>(Bahrain, 2020-03-24 00:00:00)</td>\n",
       "      <td>(Bahrain, 2020-03-18 00:00:00)</td>\n",
       "      <td>(Bahrain, 2020-03-25 00:00:00)</td>\n",
       "      <td>(Bahrain, 2020-03-10 00:00:00)</td>\n",
       "    </tr>\n",
       "  </tbody>\n",
       "</table>\n",
       "</div>"
      ],
      "text/plain": [
       "                                 School_closing  \\\n",
       "Afghanistan  (Afghanistan, 2020-03-14 00:00:00)   \n",
       "Argentina      (Argentina, 2020-03-16 00:00:00)   \n",
       "Australia      (Australia, 2020-03-22 00:00:00)   \n",
       "Austria          (Austria, 2020-03-16 00:00:00)   \n",
       "Bahrain          (Bahrain, 2020-02-26 00:00:00)   \n",
       "\n",
       "                              Workplace_closing  \\\n",
       "Afghanistan  (Afghanistan, 2020-03-26 00:00:00)   \n",
       "Argentina      (Argentina, 2020-03-16 00:00:00)   \n",
       "Australia      (Australia, 2020-03-24 00:00:00)   \n",
       "Austria          (Austria, 2020-03-12 00:00:00)   \n",
       "Bahrain          (Bahrain, 2020-03-24 00:00:00)   \n",
       "\n",
       "                           Cancel_public_events  \\\n",
       "Afghanistan  (Afghanistan, 2020-03-01 00:00:00)   \n",
       "Argentina      (Argentina, 2020-03-13 00:00:00)   \n",
       "Australia      (Australia, 2020-03-16 00:00:00)   \n",
       "Austria          (Austria, 2020-03-11 00:00:00)   \n",
       "Bahrain          (Bahrain, 2020-03-18 00:00:00)   \n",
       "\n",
       "              Restrictions_on_internal_movement  \\\n",
       "Afghanistan  (Afghanistan, 2020-03-24 00:00:00)   \n",
       "Argentina      (Argentina, 2020-03-20 00:00:00)   \n",
       "Australia      (Australia, 2020-03-19 00:00:00)   \n",
       "Austria          (Austria, 2020-03-13 00:00:00)   \n",
       "Bahrain          (Bahrain, 2020-03-25 00:00:00)   \n",
       "\n",
       "                  International_travel_controls  \n",
       "Afghanistan  (Afghanistan, 2020-03-02 00:00:00)  \n",
       "Argentina      (Argentina, 2020-03-11 00:00:00)  \n",
       "Australia      (Australia, 2020-02-01 00:00:00)  \n",
       "Austria          (Austria, 2020-03-09 00:00:00)  \n",
       "Bahrain          (Bahrain, 2020-03-10 00:00:00)  "
      ]
     },
     "execution_count": 672,
     "metadata": {},
     "output_type": "execute_result"
    }
   ],
   "source": [
    "tmp = enacted_ended_filtered_df.loc[countries_with_cases_before_responses, :].sort_index()\n",
    "response_multiindex_df = tmp.copy()\n",
    "response_multiindex_df = pd.DataFrame([list(zip(response_multiindex_df.index.tolist(), response_multiindex_df.loc[:, c].tolist())) for c in response_multiindex_df.columns]).transpose()\n",
    "response_multiindex_df.index=tmp.index\n",
    "response_multiindex_df.columns=tmp.columns\n",
    "response_multiindex_df.head()"
   ]
  },
  {
   "cell_type": "code",
   "execution_count": 662,
   "metadata": {},
   "outputs": [],
   "source": [
    "data = case_multiindex_df.join(test_multiindex_df, lsuffix='_x', rsuffix='_y').sort_index(axis=1, ascending=False)"
   ]
  },
  {
   "cell_type": "markdown",
   "metadata": {},
   "source": [
    "To ensure that total cases is a cumulative variable, replace zeros with np.nan and then backwards interpolate"
   ]
  },
  {
   "cell_type": "markdown",
   "metadata": {},
   "source": [
    "Growth rate calculations require values greater than zero, so remove all dates where there are zero confirmed cases, per country."
   ]
  },
  {
   "cell_type": "code",
   "execution_count": 663,
   "metadata": {},
   "outputs": [],
   "source": [
    "# Normalize the time series, fill in with missing values with nan. \n",
    "data = data.reindex(pd.MultiIndex.from_product([data.index.levels[0], \n",
    "                    data.index.get_level_values(1).unique().sort_values()], names=['Country', 'Date']), fill_value=np.nan)"
   ]
  },
  {
   "cell_type": "code",
   "execution_count": 664,
   "metadata": {},
   "outputs": [],
   "source": [
    "# Don't use zeros this messes things up.\n",
    "data.loc[:, 'total_cases'] = data.loc[:, 'total_cases'].replace(to_replace=[0,0.], value=np.nan)"
   ]
  },
  {
   "cell_type": "code",
   "execution_count": 665,
   "metadata": {},
   "outputs": [],
   "source": [
    "# Remove data before first confirmed case date for each country. \n",
    "# data = data.loc[data.loc[:, 'total_cases'].replace(to_replace=[0,0.], value=np.nan).dropna().index,:]"
   ]
  },
  {
   "cell_type": "code",
   "execution_count": 666,
   "metadata": {},
   "outputs": [],
   "source": [
    "# instantiate with copy so that we can iterate over DataFrame groupby\n",
    "data.loc[:, 'total_cases_interpolated'] = data.loc[:, 'total_cases'].copy()\n",
    "data.loc[:, 'tests_cumulative_interpolated'] = data.loc[:, 'tests_cumulative'].copy()"
   ]
  },
  {
   "cell_type": "markdown",
   "metadata": {},
   "source": [
    "Have to iterate over country or else countries will contaminate one another."
   ]
  },
  {
   "cell_type": "code",
   "execution_count": 667,
   "metadata": {},
   "outputs": [],
   "source": [
    "for country, country_df in data.groupby(level=0):\n",
    "    data.loc[country, 'total_cases_interpolated'] = country_df.loc[:, 'total_cases'].interpolate(limit_direction='backward').values\n",
    "    data.loc[country, 'tests_cumulative_interpolated'] = country_df.loc[:, 'tests_cumulative'].interpolate(limit_direction='backward').values\n",
    "    data.loc[country, 'population'] = country_df.loc[:, 'population'].fillna(method='backfill')"
   ]
  },
  {
   "cell_type": "code",
   "execution_count": 668,
   "metadata": {},
   "outputs": [],
   "source": [
    "data.loc[:, 'cases_per_1M_people_per_100k_tests'] = (data.total_cases_interpolated / ((data.population/1000000.) * (data.tests_cumulative_interpolated))).values\n",
    "data.loc[:, 'cases_per_1M_people'] = (data.total_cases_interpolated / ((data.population/1000000.))).values"
   ]
  },
  {
   "cell_type": "markdown",
   "metadata": {},
   "source": [
    "Just using the endpoints of each interval is not going to work as well, because if the endpoints represent outliers then they\n",
    "will not capture the overall trend. Therefore, I will do the following: average the two intervals before and after the quarantine measure (average the cases/((1M people)(100k tests)) and then compare the averages with the value at the quarantine date. I believe this is fair because it's being applied equally to both intervals."
   ]
  },
  {
   "cell_type": "code",
   "execution_count": 678,
   "metadata": {
    "scrolled": false
   },
   "outputs": [],
   "source": [
    "# rates_before_after = response_multiindex_df.applymap(multi_index_slice_to_average_rate).replace(to_replace=0., value=np.nan).sort_index()"
   ]
  },
  {
   "cell_type": "code",
   "execution_count": 681,
   "metadata": {},
   "outputs": [],
   "source": [
    "before_minus_after = response_multiindex_df.applymap(multiindex_response_date_to_average_rates).replace(to_replace=0., value=np.nan).sort_index()"
   ]
  },
  {
   "cell_type": "code",
   "execution_count": 693,
   "metadata": {},
   "outputs": [],
   "source": [
    "before_minus_after.columns = before_minus_after.columns.str.split('_').str.join(sep=' ')"
   ]
  },
  {
   "cell_type": "code",
   "execution_count": 694,
   "metadata": {},
   "outputs": [
    {
     "data": {
      "text/html": [
       "<div>\n",
       "<style scoped>\n",
       "    .dataframe tbody tr th:only-of-type {\n",
       "        vertical-align: middle;\n",
       "    }\n",
       "\n",
       "    .dataframe tbody tr th {\n",
       "        vertical-align: top;\n",
       "    }\n",
       "\n",
       "    .dataframe thead th {\n",
       "        text-align: right;\n",
       "    }\n",
       "</style>\n",
       "<table border=\"1\" class=\"dataframe\">\n",
       "  <thead>\n",
       "    <tr style=\"text-align: right;\">\n",
       "      <th></th>\n",
       "      <th>School closing</th>\n",
       "      <th>Workplace closing</th>\n",
       "      <th>Cancel public events</th>\n",
       "      <th>Restrictions on internal movement</th>\n",
       "      <th>International travel controls</th>\n",
       "    </tr>\n",
       "  </thead>\n",
       "  <tbody>\n",
       "    <tr>\n",
       "      <th>Afghanistan</th>\n",
       "      <td>0.007923</td>\n",
       "      <td>0.112746</td>\n",
       "      <td>-0.070880</td>\n",
       "      <td>0.029792</td>\n",
       "      <td>-0.079581</td>\n",
       "    </tr>\n",
       "    <tr>\n",
       "      <th>Argentina</th>\n",
       "      <td>0.020631</td>\n",
       "      <td>0.020631</td>\n",
       "      <td>-0.001889</td>\n",
       "      <td>-0.017556</td>\n",
       "      <td>-0.021818</td>\n",
       "    </tr>\n",
       "    <tr>\n",
       "      <th>Australia</th>\n",
       "      <td>-0.038327</td>\n",
       "      <td>0.004302</td>\n",
       "      <td>0.036036</td>\n",
       "      <td>-0.076556</td>\n",
       "      <td>0.074545</td>\n",
       "    </tr>\n",
       "    <tr>\n",
       "      <th>Austria</th>\n",
       "      <td>0.037301</td>\n",
       "      <td>-0.031818</td>\n",
       "      <td>-0.048212</td>\n",
       "      <td>-0.007648</td>\n",
       "      <td>0.050377</td>\n",
       "    </tr>\n",
       "    <tr>\n",
       "      <th>Bahrain</th>\n",
       "      <td>0.132660</td>\n",
       "      <td>-0.062351</td>\n",
       "      <td>-0.013136</td>\n",
       "      <td>-0.049913</td>\n",
       "      <td>-0.007260</td>\n",
       "    </tr>\n",
       "  </tbody>\n",
       "</table>\n",
       "</div>"
      ],
      "text/plain": [
       "             School closing  Workplace closing  Cancel public events  \\\n",
       "Afghanistan        0.007923           0.112746             -0.070880   \n",
       "Argentina          0.020631           0.020631             -0.001889   \n",
       "Australia         -0.038327           0.004302              0.036036   \n",
       "Austria            0.037301          -0.031818             -0.048212   \n",
       "Bahrain            0.132660          -0.062351             -0.013136   \n",
       "\n",
       "             Restrictions on internal movement  International travel controls  \n",
       "Afghanistan                           0.029792                      -0.079581  \n",
       "Argentina                            -0.017556                      -0.021818  \n",
       "Australia                            -0.076556                       0.074545  \n",
       "Austria                              -0.007648                       0.050377  \n",
       "Bahrain                              -0.049913                      -0.007260  "
      ]
     },
     "execution_count": 694,
     "metadata": {},
     "output_type": "execute_result"
    }
   ],
   "source": [
    "before_minus_after_residual_values =  before_minus_after.values - np.tile(before_minus_after.mean(1).values.reshape(-1,1), (1, 5))\n",
    "before_minus_after_residual_df = pd.DataFrame(before_minus_after_residual_values.reshape(-1, 5), columns=before_minus_after.columns, index=before_minus_after.index)\n",
    "before_minus_after_residual_df.head()"
   ]
  },
  {
   "cell_type": "code",
   "execution_count": 695,
   "metadata": {},
   "outputs": [],
   "source": [
    "before_minus_after_residual_df.columns = before_minus_after_residual_df.columns.str.split('_').str.join(sep=' ')"
   ]
  },
  {
   "cell_type": "code",
   "execution_count": 698,
   "metadata": {},
   "outputs": [
    {
     "data": {
      "image/png": "[encoded data removed]",
      "text/plain": [
       "<Figure size 432x288 with 1 Axes>"
      ]
     },
     "metadata": {
      "needs_background": "light"
     },
     "output_type": "display_data"
    }
   ],
   "source": [
    "_ = plt.hist(before_minus_after_residual_df.values.ravel())"
   ]
  },
  {
   "cell_type": "code",
   "execution_count": 700,
   "metadata": {},
   "outputs": [
    {
     "data": {
      "text/plain": [
       "(array([1, 2, 3, 4, 5]), <a list of 5 Text xticklabel objects>)"
      ]
     },
     "execution_count": 700,
     "metadata": {},
     "output_type": "execute_result"
    },
    {
     "data": {
      "image/png": "[encoded data removed]",
      "text/plain": [
       "<Figure size 432x288 with 1 Axes>"
      ]
     },
     "metadata": {
      "needs_background": "light"
     },
     "output_type": "display_data"
    }
   ],
   "source": [
    "_ = before_minus_after_residual_df.plot.box()\n",
    "plt.xticks(rotation=45)"
   ]
  },
  {
   "cell_type": "code",
   "execution_count": null,
   "metadata": {},
   "outputs": [],
   "source": []
  },
  {
   "cell_type": "code",
   "execution_count": 201,
   "metadata": {},
   "outputs": [],
   "source": [
    "start_names = start_end_filtered_df.columns[::2]\n",
    "end_names = start_end_filtered_df.columns[1::2]"
   ]
  },
  {
   "cell_type": "code",
   "execution_count": 254,
   "metadata": {},
   "outputs": [],
   "source": [
    "usa_responses_start = start_end_filtered_df.loc['United States', start_names].sort_index()\n",
    "usa_responses_start.index = usa_responses_start.index.str.split('_').str.slice(stop=-1).str.join(sep=' ')\n",
    "\n",
    "usa_responses_end = start_end_filtered_df.loc['United States', end_names].sort_index()\n",
    "usa_responses_end.index = usa_responses_end.index.str.split('_').str.slice(stop=-1).str.join(sep=' ')"
   ]
  },
  {
   "cell_type": "code",
   "execution_count": 255,
   "metadata": {},
   "outputs": [
    {
     "data": {
      "text/plain": [
       "Cancel public events                2020-03-12\n",
       "International travel controls       2020-02-02\n",
       "Restrictions on internal movement   2020-03-14\n",
       "School closing                      2020-03-03\n",
       "Workplace closing                   2020-03-19\n",
       "Name: United States, dtype: datetime64[ns]"
      ]
     },
     "execution_count": 255,
     "metadata": {},
     "output_type": "execute_result"
    }
   ],
   "source": [
    "usa_responses_start"
   ]
  },
  {
   "cell_type": "code",
   "execution_count": 256,
   "metadata": {},
   "outputs": [
    {
     "data": {
      "text/plain": [
       "International travel controls       30 days\n",
       "School closing                       9 days\n",
       "Cancel public events                 2 days\n",
       "Restrictions on internal movement    5 days\n",
       "Workplace closing                    0 days\n",
       "Name: United States, dtype: timedelta64[ns]"
      ]
     },
     "execution_count": 256,
     "metadata": {},
     "output_type": "execute_result"
    }
   ],
   "source": [
    "until_next_measure_widths = np.abs(usa_responses_start.sort_values().diff(-1))\n",
    "until_next_measure_widths.iloc[-1] = pd.Timedelta(seconds=0)\n",
    "until_next_measure_widths"
   ]
  },
  {
   "cell_type": "code",
   "execution_count": 257,
   "metadata": {},
   "outputs": [
    {
     "data": {
      "text/plain": [
       "International travel controls       30 days\n",
       "School closing                       9 days\n",
       "Cancel public events                 2 days\n",
       "Restrictions on internal movement    5 days\n",
       "Workplace closing                    0 days\n",
       "Name: United States, dtype: timedelta64[ns]"
      ]
     },
     "execution_count": 257,
     "metadata": {},
     "output_type": "execute_result"
    }
   ],
   "source": [
    "until_next_measure_widths = until_next_measure_widths.loc[usa_responses_start.sort_values().index]\n",
    "until_next_measure_widths"
   ]
  },
  {
   "cell_type": "code",
   "execution_count": 270,
   "metadata": {},
   "outputs": [],
   "source": [
    "amurica = data.loc['United States',['population','total_cases','total_cases_interpolated','tests_cumulative_interpolated']]"
   ]
  },
  {
   "cell_type": "code",
   "execution_count": 306,
   "metadata": {},
   "outputs": [
    {
     "data": {
      "text/plain": [
       "<matplotlib.axes._subplots.AxesSubplot at 0x26246c3ddc8>"
      ]
     },
     "execution_count": 306,
     "metadata": {},
     "output_type": "execute_result"
    },
    {
     "data": {
      "image/png": "[encoded data removed]",
      "text/plain": [
       "<Figure size 432x288 with 1 Axes>"
      ]
     },
     "metadata": {
      "needs_background": "light"
     },
     "output_type": "display_data"
    }
   ],
   "source": [
    "(amurica.total_cases_interpolated / ((amurica.population/1000000.) * (amurica.tests_cumulative_interpolated/100000.))).cumsum().apply(np.log).plot()"
   ]
  },
  {
   "cell_type": "code",
   "execution_count": 265,
   "metadata": {},
   "outputs": [
    {
     "data": {
      "text/html": [
       "<div>\n",
       "<style scoped>\n",
       "    .dataframe tbody tr th:only-of-type {\n",
       "        vertical-align: middle;\n",
       "    }\n",
       "\n",
       "    .dataframe tbody tr th {\n",
       "        vertical-align: top;\n",
       "    }\n",
       "\n",
       "    .dataframe thead th {\n",
       "        text-align: right;\n",
       "    }\n",
       "</style>\n",
       "<table border=\"1\" class=\"dataframe\">\n",
       "  <thead>\n",
       "    <tr style=\"text-align: right;\">\n",
       "      <th></th>\n",
       "      <th>total_cases</th>\n",
       "      <th>total_cases_interpolated</th>\n",
       "      <th>tests_cumulative_interpolated</th>\n",
       "    </tr>\n",
       "    <tr>\n",
       "      <th>Date</th>\n",
       "      <th></th>\n",
       "      <th></th>\n",
       "      <th></th>\n",
       "    </tr>\n",
       "  </thead>\n",
       "  <tbody>\n",
       "    <tr>\n",
       "      <th>2019-12-31</th>\n",
       "      <td>NaN</td>\n",
       "      <td>1.0</td>\n",
       "      <td>4.0</td>\n",
       "    </tr>\n",
       "    <tr>\n",
       "      <th>2020-01-01</th>\n",
       "      <td>NaN</td>\n",
       "      <td>1.0</td>\n",
       "      <td>4.0</td>\n",
       "    </tr>\n",
       "    <tr>\n",
       "      <th>2020-01-02</th>\n",
       "      <td>NaN</td>\n",
       "      <td>1.0</td>\n",
       "      <td>4.0</td>\n",
       "    </tr>\n",
       "    <tr>\n",
       "      <th>2020-01-03</th>\n",
       "      <td>NaN</td>\n",
       "      <td>1.0</td>\n",
       "      <td>4.0</td>\n",
       "    </tr>\n",
       "    <tr>\n",
       "      <th>2020-01-04</th>\n",
       "      <td>NaN</td>\n",
       "      <td>1.0</td>\n",
       "      <td>4.0</td>\n",
       "    </tr>\n",
       "    <tr>\n",
       "      <th>...</th>\n",
       "      <td>...</td>\n",
       "      <td>...</td>\n",
       "      <td>...</td>\n",
       "    </tr>\n",
       "    <tr>\n",
       "      <th>2020-04-16</th>\n",
       "      <td>639664.0</td>\n",
       "      <td>639664.0</td>\n",
       "      <td>3262921.0</td>\n",
       "    </tr>\n",
       "    <tr>\n",
       "      <th>2020-04-17</th>\n",
       "      <td>671331.0</td>\n",
       "      <td>671331.0</td>\n",
       "      <td>3423034.0</td>\n",
       "    </tr>\n",
       "    <tr>\n",
       "      <th>2020-04-18</th>\n",
       "      <td>702164.0</td>\n",
       "      <td>702164.0</td>\n",
       "      <td>3574392.0</td>\n",
       "    </tr>\n",
       "    <tr>\n",
       "      <th>2020-04-19</th>\n",
       "      <td>735086.0</td>\n",
       "      <td>735086.0</td>\n",
       "      <td>3723634.0</td>\n",
       "    </tr>\n",
       "    <tr>\n",
       "      <th>2020-04-20</th>\n",
       "      <td>759687.0</td>\n",
       "      <td>759687.0</td>\n",
       "      <td>3893815.0</td>\n",
       "    </tr>\n",
       "  </tbody>\n",
       "</table>\n",
       "<p>112 rows × 3 columns</p>\n",
       "</div>"
      ],
      "text/plain": [
       "            total_cases  total_cases_interpolated  \\\n",
       "Date                                                \n",
       "2019-12-31          NaN                       1.0   \n",
       "2020-01-01          NaN                       1.0   \n",
       "2020-01-02          NaN                       1.0   \n",
       "2020-01-03          NaN                       1.0   \n",
       "2020-01-04          NaN                       1.0   \n",
       "...                 ...                       ...   \n",
       "2020-04-16     639664.0                  639664.0   \n",
       "2020-04-17     671331.0                  671331.0   \n",
       "2020-04-18     702164.0                  702164.0   \n",
       "2020-04-19     735086.0                  735086.0   \n",
       "2020-04-20     759687.0                  759687.0   \n",
       "\n",
       "            tests_cumulative_interpolated  \n",
       "Date                                       \n",
       "2019-12-31                            4.0  \n",
       "2020-01-01                            4.0  \n",
       "2020-01-02                            4.0  \n",
       "2020-01-03                            4.0  \n",
       "2020-01-04                            4.0  \n",
       "...                                   ...  \n",
       "2020-04-16                      3262921.0  \n",
       "2020-04-17                      3423034.0  \n",
       "2020-04-18                      3574392.0  \n",
       "2020-04-19                      3723634.0  \n",
       "2020-04-20                      3893815.0  \n",
       "\n",
       "[112 rows x 3 columns]"
      ]
     },
     "execution_count": 265,
     "metadata": {},
     "output_type": "execute_result"
    }
   ],
   "source": [
    "data.loc['United States',['total_cases','total_cases_interpolated','tests_cumulative_interpolated']]"
   ]
  },
  {
   "cell_type": "code",
   "execution_count": null,
   "metadata": {},
   "outputs": [],
   "source": [
    "data.loc['United States',['total_cases','total_cases_interpolated','tests_cumulative_interpolated']]"
   ]
  },
  {
   "cell_type": "code",
   "execution_count": 307,
   "metadata": {},
   "outputs": [],
   "source": [
    "cumulative_normalized_case_data = (amurica.total_cases_interpolated / ((amurica.population/1000000.) * (amurica.tests_cumulative_interpolated/100000.))).cumsum().apply(np.log)#.plot()"
   ]
  },
  {
   "cell_type": "code",
   "execution_count": 311,
   "metadata": {},
   "outputs": [
    {
     "data": {
      "image/png": "[encoded data removed]",
      "text/plain": [
       "<Figure size 432x288 with 1 Axes>"
      ]
     },
     "metadata": {
      "needs_background": "light"
     },
     "output_type": "display_data"
    }
   ],
   "source": [
    "cmap = plt.get_cmap('plasma')\n",
    "my_colors = [cmap(int(i)) for i in np.linspace(cmap.N-32, 32, len(usa_responses_start))]\n",
    "\n",
    "fig, ax = plt.subplots()\n",
    "cumulative_normalized_case_data.plot(ax=ax,color='k')\n",
    "_, ymax = ax.get_ylim()\n",
    "ymin = 0\n",
    "for i, (df_index, df_val) in enumerate(usa_responses_start.sort_values().iteritems()):\n",
    "    ax.vlines(df_val, ymin=ymin, ymax=ymax, label=df_index, color=my_colors[i])\n",
    "    ax.add_patch(Rectangle((usa_responses_start.loc[df_index], 0),\n",
    "                            until_next_measure_widths.loc[df_index], ymax, angle=0.0, color=my_colors[i], alpha=0.5))\n",
    "ax.set_ylim([0, 0.98*ymax])\n",
    "_ = plt.legend(loc=(1,0))\n",
    "_ = plt.show()"
   ]
  },
  {
   "cell_type": "code",
   "execution_count": 260,
   "metadata": {
    "scrolled": false
   },
   "outputs": [
    {
     "name": "stdout",
     "output_type": "stream",
     "text": [
      "30 days 00:00:00\n",
      "9 days 00:00:00\n",
      "2 days 00:00:00\n",
      "5 days 00:00:00\n",
      "0 days 00:00:00\n"
     ]
    },
    {
     "data": {
      "image/png": "[encoded data removed]",
      "text/plain": [
       "<Figure size 432x288 with 1 Axes>"
      ]
     },
     "metadata": {
      "needs_background": "light"
     },
     "output_type": "display_data"
    }
   ],
   "source": [
    "\n",
    "cmap = plt.get_cmap('plasma')\n",
    "# my_colors = [cmap(int(i)) for i in np.linspace(cmap.N-32, 32, len(usa_responses_start))]\n",
    "\n",
    "fig, ax = plt.subplots()\n",
    "data.cases_per_1M_people_per_100k_tests.loc['United States'].plot(ax=ax,color='k')\n",
    "ymin, ymax = ax.get_ylim()\n",
    "for i, (df_index, df_val) in enumerate(usa_responses_start.sort_values().iteritems()):\n",
    "    ax.vlines(df_val, ymin=ymin, ymax=ymax, label=df_index, color=my_colors[i])\n",
    "    print(until_next_measure_widths.loc[df_index])\n",
    "    ax.add_patch(Rectangle((usa_responses_start.loc[df_index], 0),\n",
    "                            until_next_measure_widths.loc[df_index], ymax, angle=0.0, color=my_colors[i], alpha=0.5))\n",
    "ax.set_ylim([0, 0.98*ymax])\n",
    "_ = plt.legend(loc=(1,0))\n",
    "_ = plt.show()"
   ]
  },
  {
   "cell_type": "code",
   "execution_count": 224,
   "metadata": {},
   "outputs": [],
   "source": [
    "start_end_widths = (usa_responses_end-usa_responses_start).loc[usa_responses_start.sort_values().index]"
   ]
  },
  {
   "cell_type": "code",
   "execution_count": 318,
   "metadata": {
    "scrolled": false
   },
   "outputs": [
    {
     "data": {
      "image/png": "[encoded data removed]",
      "text/plain": [
       "<Figure size 432x288 with 1 Axes>"
      ]
     },
     "metadata": {
      "needs_background": "light"
     },
     "output_type": "display_data"
    }
   ],
   "source": [
    "cmap = plt.get_cmap('plasma')\n",
    "my_colors = [cmap(int(i)) for i in np.linspace(cmap.N-32, 32, len(usa_responses_start))]\n",
    "\n",
    "fig, ax = plt.subplots()\n",
    "cumulative_normalized_case_data.plot(ax=ax,color='k',label='')\n",
    "_, ymax = ax.get_ylim()\n",
    "ymin = 0\n",
    "for i, (df_index, df_val) in enumerate(usa_responses_start.sort_values().iteritems()):\n",
    "    ax.vlines(df_val, ymin=ymin, ymax=ymax, label=df_index, color=my_colors[i])\n",
    "    ax.add_patch(Rectangle((usa_responses_start.loc[df_index], 0),\n",
    "                            start_end_widths.loc[df_index], ymax, angle=0.0, color=my_colors[i], alpha=0.5))\n",
    "\n",
    "ax.set_ylim([0, 0.98*ymax])\n",
    "_ = plt.legend(loc=(1,0),title='Government Mandates')\n",
    "_ = plt.xlabel('')\n",
    "dmmy = plt.ylabel('$\\\\log(\\\\frac{Total\\:cases}{(1M\\,people)(100k\\, tests)})$', fontsize=18)\n",
    "_ = plt.title('Normalized total cases vs. time')\n",
    "_ = plt.show()"
   ]
  },
  {
   "cell_type": "code",
   "execution_count": null,
   "metadata": {},
   "outputs": [],
   "source": [
    "sliced_values_of_interest = sliced_values.loc[:, 'cases_per_1M_people']\n",
    "sliced_values_of_interest"
   ]
  },
  {
   "cell_type": "code",
   "execution_count": null,
   "metadata": {},
   "outputs": [],
   "source": [
    "sliced_values_of_interest = sliced_values.loc[:, 'cases_per_1M_people_per_100k_tests']#.replace(to_replace=np.nan, value=1.)\n",
    "avg_case_rate = (1/len(sliced_values_of_interest))*np.log((sliced_values_of_interest.iloc[-1]/sliced_values_of_interest.iloc[0]))\n",
    "return avg_case_rate"
   ]
  },
  {
   "cell_type": "code",
   "execution_count": null,
   "metadata": {
    "scrolled": true
   },
   "outputs": [],
   "source": [
    "testing_multiindex_df.index.get_level_values(0).unique()\n",
    "testing_and_response_data_countries = start_end_filtered_df.index.intersection(testing_df.index.unique())"
   ]
  },
  {
   "cell_type": "markdown",
   "metadata": {},
   "source": [
    "The testing data is being used as a reference, so its not necessary to remove the countries which aren't\n",
    "in the government response data."
   ]
  },
  {
   "cell_type": "code",
   "execution_count": null,
   "metadata": {},
   "outputs": [],
   "source": [
    "start_end_filtered_df = start_end_filtered_df.loc[testing_and_response_data_countries,:]\n",
    "enacted_ended_df_multiindex = enacted_ended_df_multiindex.loc[testing_and_response_data_countries,:]"
   ]
  },
  {
   "cell_type": "markdown",
   "metadata": {},
   "source": [
    "Unfortunately there is one more step that needs to be taken, as even though the testing data has data on\n",
    "some countries, it doesn't contain the actual testing data. Therefore, need to remove countries which do not\n",
    "have testing data.\n",
    "\n",
    "Countries where there is actual testing data and case data. \n",
    "\n",
    "Only look at the average growth rates after first known case, as to not unfairly decrease the rate before responses."
   ]
  },
  {
   "cell_type": "markdown",
   "metadata": {},
   "source": [
    "## Instead of datetime slicing I should have just been using days since first case."
   ]
  },
  {
   "cell_type": "code",
   "execution_count": null,
   "metadata": {},
   "outputs": [],
   "source": [
    "testing_after_first_known_case_df = testing_multiindex_df.loc[testing_multiindex_df.total_cases.replace(to_replace=0, value=np.nan).dropna().index,:]\n",
    "testing_after_first_known_case_df.head()"
   ]
  },
  {
   "cell_type": "code",
   "execution_count": null,
   "metadata": {},
   "outputs": [],
   "source": [
    "testing_country_list = testing_multiindex_df.index.get_level_values(level=0).unique()\n",
    "final_country_list = start_end_filtered_final_df.index.intersection(testing_country_list)\n",
    "final_country_list"
   ]
  },
  {
   "cell_type": "code",
   "execution_count": null,
   "metadata": {},
   "outputs": [],
   "source": [
    "start_end_filtered_final_df = start_end_filtered_df.loc[final_country_list,:] \n",
    "enacted_ended_filtered_final_df = enacted_ended_filtered_df.loc[final_country_list,:] "
   ]
  },
  {
   "cell_type": "markdown",
   "metadata": {},
   "source": [
    "Redo the multiindex slice computation"
   ]
  },
  {
   "cell_type": "code",
   "execution_count": null,
   "metadata": {},
   "outputs": [],
   "source": [
    "enacted_ended_df_multiindex_final = enacted_ended_filtered_final_df.copy()\n",
    "for c in enacted_ended_filtered_final_df.columns:\n",
    "    enacted_ended_df_multiindex_final.loc[:, c] = list(zip(enacted_ended_df_multiindex_final.index.tolist(), \n",
    "                                               enacted_ended_df_multiindex_final.loc[:, c].tolist()))"
   ]
  },
  {
   "cell_type": "code",
   "execution_count": null,
   "metadata": {},
   "outputs": [],
   "source": [
    "def multi_index_slice_to_average_rate_original(x, testing_df):\n",
    "    sliced_values = testing_df.loc[x, :]\n",
    "    sliced_values_of_interest = sliced_values.loc[:, ['total_cases_per_million', 'total_tests']].replace(to_replace=np.nan, value=1.) \n",
    "#     avg_case_rate = (sliced_values_of_interest.iloc[-1, 0]\n",
    "#                               -sliced_values_of_interest.iloc[0, 0])  / len(sliced_values_of_interest)\n",
    "    avg_case_rate = (sliced_values_of_interest.iloc[-1, 0]/sliced_values_of_interest.iloc[0, 0])**(-1/len(sliced_values_of_interest))\n",
    "#         test_weight = (sliced_values_of_interest.iloc[-1, 1]\n",
    "#                        -sliced_values_of_interest.iloc[0, 1])\n",
    "#         if (test_weight == 0.) or (test_weight == np.nan):\n",
    "#             test_weight = 1.\n",
    "#         weighted_avg_rate = avg_case_rate / test_weight\n",
    "#         return weighted_avg_rate\n",
    "    return avg_case_rate"
   ]
  },
  {
   "cell_type": "markdown",
   "metadata": {},
   "source": [
    "These represent the official dates of government action but these dates may not exist in testing data. Therefore, need to check start dates vs. testing data start dates."
   ]
  },
  {
   "cell_type": "markdown",
   "metadata": {},
   "source": [
    "testing data typically starts far after response data. therefore cannot weight by testing and still have representation from majority of countries. In that case, just use the average rate of total cases per million, before and after response dates."
   ]
  },
  {
   "cell_type": "code",
   "execution_count": null,
   "metadata": {},
   "outputs": [],
   "source": [
    "start_end_testing_comparison_df = start_end_filtered_final_df.copy()"
   ]
  },
  {
   "cell_type": "code",
   "execution_count": null,
   "metadata": {},
   "outputs": [],
   "source": [
    "first_response_dates = start_end_filtered_final_df.min(axis=1).sort_index()\n",
    "first_response_dates.head(10)"
   ]
  },
  {
   "cell_type": "code",
   "execution_count": null,
   "metadata": {},
   "outputs": [],
   "source": [
    "first_case_dates = testing_after_first_known_case_df.reset_index(level=1).groupby(level=0).date.min().sort_index()\n",
    "first_case_dates.head(10)"
   ]
  },
  {
   "cell_type": "code",
   "execution_count": null,
   "metadata": {},
   "outputs": [],
   "source": [
    "dates_with_test_data = testing_after_first_known_case_df.total_tests.dropna()\n",
    "dates_with_test_data.head()"
   ]
  },
  {
   "cell_type": "code",
   "execution_count": null,
   "metadata": {},
   "outputs": [],
   "source": [
    "min_testing_dates = testing_after_first_known_case_df.total_tests.dropna().reset_index(level=1).groupby(level=0).date.min()"
   ]
  },
  {
   "cell_type": "code",
   "execution_count": null,
   "metadata": {},
   "outputs": [],
   "source": [
    "after_first_known_test = testing_after_first_known_case_df.loc[testing_after_first_known_case_df.total_tests.dropna().index,:]\n",
    "after_first_known_test.loc[:, 'total_rate'] = after_first_known_test.total_cases / after_first_known_test.total_tests"
   ]
  },
  {
   "cell_type": "code",
   "execution_count": null,
   "metadata": {},
   "outputs": [],
   "source": [
    "first_testing_dates = testing_after_first_known_case_df.total_tests.dropna().reset_index(level=1).groupby(level=0).date.min()\n",
    "last_testing_dates = testing_after_first_known_case_df.total_tests.dropna().reset_index(level=1).groupby(level=0).date.max()"
   ]
  },
  {
   "cell_type": "code",
   "execution_count": null,
   "metadata": {},
   "outputs": [],
   "source": [
    "# convert entire dataframe to index so it can be used to slice testing data, dataframe\n",
    "first_tmp =  first_testing_dates.reset_index().set_index(['location','date'])\n",
    "last_tmp =  last_testing_dates.reset_index().set_index(['location','date'])\n",
    "first_tmp.head()"
   ]
  },
  {
   "cell_type": "code",
   "execution_count": null,
   "metadata": {},
   "outputs": [],
   "source": [
    "test_min = testing_multiindex_df.loc[first_tmp.index, :]\n",
    "test_max = testing_multiindex_df.loc[last_tmp.index, :]"
   ]
  },
  {
   "cell_type": "code",
   "execution_count": null,
   "metadata": {},
   "outputs": [],
   "source": [
    "# reset index so we can subtract datetime variables.\n",
    "test_max_reset = test_max.reset_index(level=1)\n",
    "test_min_reset = test_min.reset_index(level=1)\n",
    "time_differential = (test_max_reset.date - test_min_reset.date).dt.days\n",
    "testing_rates = np.log(test_max_reset.total_tests / test_min_reset.total_tests) / time_intervals"
   ]
  },
  {
   "cell_type": "markdown",
   "metadata": {},
   "source": [
    "Because modeling as exponential, the rate is given by $\\frac{1}{\\Delta t}\\ln (\\frac{test_f}{test_i}) = r$"
   ]
  },
  {
   "cell_type": "code",
   "execution_count": null,
   "metadata": {},
   "outputs": [],
   "source": [
    "test_final_test_initial_time_intervals = (test_max_reset.date - test_min_reset.date).dt.days"
   ]
  },
  {
   "cell_type": "code",
   "execution_count": null,
   "metadata": {},
   "outputs": [],
   "source": [
    "reset_tmp = testing_after_first_known_case_df.reset_index(level=1)\n",
    "reset_tmp.loc[:,'time_differential'] = (reset_tmp.date-test_min_reset.date).dropna().dt.days.values"
   ]
  },
  {
   "cell_type": "code",
   "execution_count": null,
   "metadata": {},
   "outputs": [],
   "source": [
    "reset_tmp.loc[test_min_reset.index,'initial_test_number'] = test_min_reset.total_tests"
   ]
  },
  {
   "cell_type": "code",
   "execution_count": null,
   "metadata": {},
   "outputs": [],
   "source": [
    "idxslice = pd.IndexSlice['Argentina', testing_df.loc['Argentina',:].date.min():]\n",
    "testing_multiindex_df.loc[idxslice,:].reset_index(level=0,drop=True).total_tests.plot(marker='.',linestyle='none',label='total tests, source 2',markersize=15,alpha=0.5,color='red')\n",
    "new_testing_multiindex_df.loc[idxslice, :].reset_index(level=0,drop=True).tests_cumulative.plot(marker='.',linestyle='none',label='total tests, source 1',markersize=15,alpha=0.5)\n",
    "_ =testing_multiindex_df.loc[idxslice,:].reset_index(level=0,drop=True).total_cases.plot(marker='.',linestyle='none',label='total cases',markersize=15,alpha=0.5)\n",
    "plt.axvline(min_response_dates.loc['Argentina'], color='black', linewidth=5, label='first government action')\n",
    "_ = plt.legend()\n",
    "_ = plt.title('COVID-19 in Argentina')\n",
    "_ = plt.ylabel('Cumulative total')\n",
    "_ = plt.xlabel('')"
   ]
  },
  {
   "cell_type": "markdown",
   "metadata": {},
   "source": [
    "Calculate the extrapolation range by comparing first known case date with first reported test date (obviously\n",
    "there must to have been tests before this date, they just weren't recorded). More concerned with getting the extrapolation right, so don't worry if it doesn't match where there is actual testing data."
   ]
  },
  {
   "cell_type": "code",
   "execution_count": null,
   "metadata": {},
   "outputs": [],
   "source": [
    "case_response_differential = min_case_dates.loc[shared_index]-min_response_dates.loc[shared_index]"
   ]
  },
  {
   "cell_type": "code",
   "execution_count": null,
   "metadata": {
    "scrolled": false
   },
   "outputs": [],
   "source": [
    "negative_case_differential_index = case_response_differential.index.where(case_response_differential.dt.days < 0)"
   ]
  },
  {
   "cell_type": "code",
   "execution_count": null,
   "metadata": {},
   "outputs": [],
   "source": [
    "case_testing_differential = min_case_dates.loc[shared_index]-min_testing_dates.loc[shared_index]\n",
    "case_testing_differential"
   ]
  },
  {
   "cell_type": "code",
   "execution_count": null,
   "metadata": {},
   "outputs": [],
   "source": []
  },
  {
   "cell_type": "code",
   "execution_count": null,
   "metadata": {},
   "outputs": [],
   "source": [
    "final_index = negative_case_differential_index.dropna().intersection(start_end_filtered_final_df.index).intersection(testing_df.index.unique())"
   ]
  },
  {
   "cell_type": "code",
   "execution_count": null,
   "metadata": {},
   "outputs": [],
   "source": [
    "start_end_final = start_end_filtered_final_df.loc[final_index, :]\n",
    "slice_final = enacted_ended_df_multiindex_final.loc[final_index, :]\n",
    "testing_final = testing_after_first_known_case_df.loc[final_index, :]"
   ]
  },
  {
   "cell_type": "code",
   "execution_count": null,
   "metadata": {},
   "outputs": [],
   "source": [
    "average_rate_df = slice_final.copy()\n",
    "for col in average_rate_df.columns:\n",
    "    average_rate_df.loc[:, col] = average_rate_df.loc[:, col].apply(multi_index_slice_to_average_rate, args=(testing_final, ))"
   ]
  },
  {
   "cell_type": "code",
   "execution_count": null,
   "metadata": {
    "scrolled": false
   },
   "outputs": [],
   "source": [
    "#slice_final.iloc[:,0].apply(multi_index_slice_to_average_rate, args=(testing_final, ))"
   ]
  },
  {
   "cell_type": "code",
   "execution_count": null,
   "metadata": {
    "scrolled": false
   },
   "outputs": [],
   "source": [
    "#enacted_ended_df_multiindex_final.iloc[:,0].apply(multi_index_slice_to_average_rate, args=(testing_multiindex_df_tmp, ))"
   ]
  },
  {
   "cell_type": "markdown",
   "metadata": {},
   "source": [
    "Convert the testing dataframe to the same standard of country names then slice out all countries that are not in\n",
    "the current pool of names. "
   ]
  },
  {
   "cell_type": "markdown",
   "metadata": {},
   "source": [
    "slice the countries to those our reduced set."
   ]
  },
  {
   "cell_type": "code",
   "execution_count": null,
   "metadata": {},
   "outputs": [],
   "source": [
    "dir(slice)"
   ]
  },
  {
   "cell_type": "code",
   "execution_count": null,
   "metadata": {},
   "outputs": [],
   "source": [
    "global_cases = '.\\\\COVID-19\\\\csse_covid_19_data\\\\csse_covid_19_time_series\\\\time_series_covid19_confirmed_global.csv'\n",
    "g = pd.read_csv(global_cases)"
   ]
  },
  {
   "cell_type": "code",
   "execution_count": null,
   "metadata": {},
   "outputs": [],
   "source": []
  },
  {
   "cell_type": "code",
   "execution_count": null,
   "metadata": {},
   "outputs": [],
   "source": [
    "IHME_data = pd.read_csv('./ihme-covid19/2020_04_12.02/Hospitalization_all_locs.csv')"
   ]
  },
  {
   "cell_type": "code",
   "execution_count": null,
   "metadata": {},
   "outputs": [],
   "source": [
    "dir_ =  'C:\\\\Users\\\\Matt\\\\Desktop\\\\statmethods\\\\group_project\\\\COVID-19\\\\csse_covid_19_data\\\\csse_covid_19_daily_reports\\\\format0\\\\'\n",
    "file = dir_ + '01-23-2020.csv'"
   ]
  },
  {
   "cell_type": "code",
   "execution_count": null,
   "metadata": {},
   "outputs": [],
   "source": [
    "dir_ =  'C:\\\\Users\\\\Matt\\\\Desktop\\\\statmethods\\\\group_project\\\\COVID-19\\\\csse_covid_19_data\\\\csse_covid_19_daily_reports\\\\format0\\\\'\n",
    "file = dir_ + '01-23-2020.csv'"
   ]
  },
  {
   "cell_type": "code",
   "execution_count": null,
   "metadata": {},
   "outputs": [],
   "source": [
    "dir0 = '.\\\\COVID-19\\\\csse_covid_19_data\\\\csse_covid_19_daily_reports\\\\format0\\\\'\n",
    "dir1 = '.\\\\COVID-19\\\\csse_covid_19_data\\\\csse_covid_19_daily_reports\\\\format1\\\\'\n",
    "dir2 = '.\\\\COVID-19\\\\csse_covid_19_data\\\\csse_covid_19_daily_reports\\\\format2\\\\'"
   ]
  },
  {
   "cell_type": "code",
   "execution_count": null,
   "metadata": {},
   "outputs": [],
   "source": [
    "uc =  '.\\\\COVID-19\\\\csse_covid_19_data\\\\csse_covid_19_time_series\\\\time_series_covid19_confirmed_US.csv'\n",
    "ud =  '.\\\\COVID-19\\\\csse_covid_19_data\\\\csse_covid_19_time_series\\\\time_series_covid19_deaths_US.csv'"
   ]
  },
  {
   "cell_type": "code",
   "execution_count": null,
   "metadata": {},
   "outputs": [],
   "source": []
  },
  {
   "cell_type": "code",
   "execution_count": null,
   "metadata": {},
   "outputs": [],
   "source": [
    "us_cases = pd.read_csv(uc)\n",
    "us_deaths = pd.read_csv(ud)\n",
    "us_deaths['type']='Dead'\n",
    "us_cases['type']='Confirmed'"
   ]
  },
  {
   "cell_type": "code",
   "execution_count": null,
   "metadata": {},
   "outputs": [],
   "source": [
    "pd.concat((us_cases, us_deaths)).sort_index(axis=1).iloc[:, -13:]"
   ]
  },
  {
   "cell_type": "code",
   "execution_count": null,
   "metadata": {},
   "outputs": [],
   "source": [
    "us_deaths.set_index('Province_State').loc[:, '1/22/20':].groupby(level=0).sum()"
   ]
  },
  {
   "cell_type": "code",
   "execution_count": null,
   "metadata": {},
   "outputs": [],
   "source": [
    "dead=us_deaths[us_deaths['Province_State'].isin(['Michigan', 'Georgia', 'New York'])].groupby(by='Province_State').sum().loc[:,'1/22/20':]#.iloc[:, 4:].transpose().columns\n",
    "confirmed=us_cases[us_cases['Province_State'].isin(['Michigan', 'Georgia', 'New York'])].groupby(by='Province_State').sum().loc[:,'1/22/20':]\n",
    "confirmed.head()"
   ]
  },
  {
   "cell_type": "code",
   "execution_count": null,
   "metadata": {},
   "outputs": [],
   "source": [
    "rate = dead / confirmed"
   ]
  },
  {
   "cell_type": "code",
   "execution_count": null,
   "metadata": {},
   "outputs": [],
   "source": [
    "fig = plt.figure(figsize=(10,10), dpi=200)\n",
    "(100*rate.loc[:, '2/21/20':]).transpose().plot().legend(bbox_to_anchor=(1, 1))\n",
    "_ = plt.xlabel('Date')\n",
    "_ = plt.ylabel('Death Rate (%)')\n",
    "plt.grid(True, axis='both')\n",
    "plt.title('Death rate by state')\n",
    "plt.savefig('death_rate_NY_MI_GA.png', bbox_inches='tight')"
   ]
  },
  {
   "cell_type": "code",
   "execution_count": null,
   "metadata": {},
   "outputs": [],
   "source": [
    "fig, (ax,ax2) = plt.subplots(1, 2, sharey=True,  figsize=(20,5), dpi=200)\n",
    "confirmed.loc[:, '2/21/20':].transpose().plot(ax=ax).legend(bbox_to_anchor=(0.2, 1))\n",
    "dead.loc[:, '2/21/20':].transpose().plot(ax=ax2).legend(bbox_to_anchor=(0.2, 1))\n",
    "ax.set_yscale('log')\n",
    "ax2.set_yscale('log')\n",
    "ax.set_title('Number of confirmed cases vs. time')\n",
    "ax2.set_title('Number of diseased vs. time')\n",
    "ax.grid(True, axis='both')\n",
    "ax2.grid(True, axis='both')\n",
    "plt.savefig('cases_vs_dead_comparison_GA_NY_MI.png', bbox_inches='tight')"
   ]
  },
  {
   "cell_type": "code",
   "execution_count": null,
   "metadata": {},
   "outputs": [],
   "source": [
    "testdat = pd.read_csv('full-list-cumulative-total-tests-per-million.csv')\n",
    "testdat"
   ]
  },
  {
   "cell_type": "code",
   "execution_count": null,
   "metadata": {},
   "outputs": [],
   "source": [
    "def top_5_counties(state_df, state_name):\n",
    "    state = state_df[(state_df.Province_State==state_name)]\n",
    "    state = state.drop(columns=['UID','iso2','iso3','code3','FIPS','Country_Region','Lat','Long_','Combined_Key','Province_State'])\n",
    "    top5_counties = state.groupby(by='Admin2').sum().sum(axis=1).sort_values(ascending=False)[:5].index.tolist()\n",
    "    state_info = state[state.Admin2.isin(top5_counties)].set_index('Admin2').transpose()\n",
    "    state_info.columns.name = 'County'\n",
    "    return state_info"
   ]
  },
  {
   "cell_type": "code",
   "execution_count": null,
   "metadata": {},
   "outputs": [],
   "source": [
    "not_of_interest = ['UID','iso2','iso3','code3','FIPS','Admin2','Country_Region','Lat','Long_','Combined_Key']"
   ]
  },
  {
   "cell_type": "code",
   "execution_count": null,
   "metadata": {},
   "outputs": [],
   "source": [
    "mich = u[(u.Province_State=='Michigan')]\n",
    "mich = mich.drop(columns=['UID','iso2','iso3','code3','FIPS','Country_Region','Lat','Long_','Combined_Key','Province_State'])"
   ]
  },
  {
   "cell_type": "code",
   "execution_count": null,
   "metadata": {},
   "outputs": [],
   "source": [
    "michtop5_counties = mich.groupby(by='Admin2').sum().sum(axis=1).sort_values(ascending=False)[:5].index.tolist()"
   ]
  },
  {
   "cell_type": "code",
   "execution_count": null,
   "metadata": {},
   "outputs": [],
   "source": [
    "fig, (ax,ax2) = plt.subplots(1, 2, figsize=(20,5), sharey=True)\n",
    "top_5_counties(u, 'Michigan').plot(ax=ax)\n",
    "top_5_counties(u, 'New York').plot(ax=ax2)\n",
    "_ = plt.yscale('log')\n",
    "_ = plt.xlabel('Date')\n",
    "_ = plt.ylabel('No. Cases')"
   ]
  },
  {
   "cell_type": "code",
   "execution_count": null,
   "metadata": {},
   "outputs": [],
   "source": [
    "top_5_counties(u, 'Michigan').sum(axis=1)"
   ]
  },
  {
   "cell_type": "code",
   "execution_count": null,
   "metadata": {},
   "outputs": [],
   "source": [
    "top_5_counties(u, 'Michigan').transpose().replace(0, np.nan).bfill(1).iloc[:, 0]"
   ]
  },
  {
   "cell_type": "code",
   "execution_count": null,
   "metadata": {},
   "outputs": [],
   "source": [
    "timeseries = pd.concat((top_5_counties(u, 'New York').loc['3/2/20':, :], top_5_counties(u, 'Michigan').loc['3/11/20':, :]),axis=1).replace(to_replace=0, value=np.nan)"
   ]
  },
  {
   "cell_type": "code",
   "execution_count": null,
   "metadata": {},
   "outputs": [],
   "source": [
    "rotations = timeseries.isna().sum().tolist()\n",
    "\n",
    "timeseries2 = timeseries.copy()\n",
    "for i, c in enumerate(timeseries2.columns):\n",
    "    timeseries2[c]=np.roll(timeseries2[c], -rotations[i],axis=0)"
   ]
  },
  {
   "cell_type": "code",
   "execution_count": null,
   "metadata": {},
   "outputs": [],
   "source": [
    "tmp = timeseries2.Oakland\n",
    "timeseries2=timeseries2.drop(columns='Oakland')"
   ]
  },
  {
   "cell_type": "code",
   "execution_count": null,
   "metadata": {},
   "outputs": [],
   "source": [
    "ax = timeseries2.reset_index(drop=True).plot()#.legend()\n",
    "_  = tmp.reset_index(drop=True).plot(color='r', ax=ax, linewidth=6, label='Oakland')\n",
    "plt.legend(bbox_to_anchor=(1, 1))\n",
    "_ = plt.yscale('log')\n",
    "_ = plt.ylabel('No. Cases')\n",
    "_ = plt.xlabel('Days since first recorded case')\n",
    "_ = plt.title('COVID growth in top five counties from NY and MI')"
   ]
  },
  {
   "cell_type": "code",
   "execution_count": null,
   "metadata": {},
   "outputs": [],
   "source": [
    "ax = timeseries2.reset_index(drop=True).plot()#.legend(bbox_to_anchor=(1, 1))\n",
    "_  = tmp.reset_index(drop=True).plot(color='r', ax=ax, linewidth=6,label='Oakland')\n",
    "plt.legend()\n",
    "_ = plt.ylabel('No. Cases')\n",
    "_ = plt.xlabel('Days since first recorded case')\n",
    "_ = plt.title('COVID growth in top five counties from NY and MI')"
   ]
  },
  {
   "cell_type": "code",
   "execution_count": null,
   "metadata": {},
   "outputs": [],
   "source": [
    "top_5_counties(u, 'New York').transpose().replace(0, np.nan).bfill(1).iloc[:, 0]"
   ]
  },
  {
   "cell_type": "code",
   "execution_count": null,
   "metadata": {},
   "outputs": [],
   "source": [
    "# fig = plt.figure()\n",
    "ax = top_5_counties(u, 'Michigan').plot(figsize=(10,10))\n",
    "top_5_counties(u, 'New York').plot(ax=ax)\n",
    "_ = plt.yscale('log')\n",
    "_ = plt.xlabel('Date')\n",
    "_ = plt.ylabel('No. Cases')"
   ]
  },
  {
   "cell_type": "code",
   "execution_count": null,
   "metadata": {},
   "outputs": [],
   "source": [
    "compare = u[(u.Province_State=='Michigan') | (u.Province_State=='New York') | (u.Province_State=='Georgia')]\n",
    "ctest = compare.drop(columns=not_of_interest).groupby('Province_State').sum().transpose()#.plot()\n",
    "_ = ctest.plot()\n",
    "plt.yscale('log')"
   ]
  },
  {
   "cell_type": "code",
   "execution_count": null,
   "metadata": {},
   "outputs": [],
   "source": [
    "ctest2.reset_index(drop=True).plot().legend(bbox_to_anchor=(1, 1))\n",
    "_ = plt.yscale('log')\n",
    "_ = plt.ylabel('No. Cases')\n",
    "_ = plt.xlabel('Days since first recorded case')\n",
    "_ = plt.title('COVID growth in GA, MI, NY')"
   ]
  },
  {
   "cell_type": "code",
   "execution_count": null,
   "metadata": {},
   "outputs": [],
   "source": [
    "fig, (ax,ax2) = plt.subplots(1, 2, figsize=(20, 5))\n",
    "\n",
    "ax.plot(nedcf, label='New York')\n",
    "ax.plot(medcf, label='Michigan')\n",
    "_ = ax.legend()\n",
    "ax.set_ylabel('No. Cases')\n",
    "ax.set_xlabel('No. days since first recorded case')\n",
    "\n",
    "ax2.plot(nedcf, label='New York')\n",
    "ax2.plot(medcf, label='Michigan')\n",
    "_ = ax2.legend()\n",
    "ax2.set_ylabel('No. Cases')\n",
    "ax2.set_xlabel('No. days since first recorded case')\n",
    "ax2.set_yscale('log')"
   ]
  },
  {
   "cell_type": "code",
   "execution_count": null,
   "metadata": {},
   "outputs": [],
   "source": [
    "stateagg = compare.drop(columns=not_of_interest).groupby('Province_State').sum().astype(float)#.apply(np.log10)\n",
    "stateagg.index.name = None"
   ]
  },
  {
   "cell_type": "code",
   "execution_count": null,
   "metadata": {},
   "outputs": [],
   "source": [
    "mval = stateagg.transpose().values[:, 0]\n",
    "nval = stateagg.transpose().values[:, 1]"
   ]
  },
  {
   "cell_type": "code",
   "execution_count": null,
   "metadata": {},
   "outputs": [],
   "source": [
    "nedcf = nval[-31:]"
   ]
  },
  {
   "cell_type": "code",
   "execution_count": null,
   "metadata": {},
   "outputs": [],
   "source": [
    "medcf = np.roll(mval,-8)[-31:]"
   ]
  },
  {
   "cell_type": "code",
   "execution_count": null,
   "metadata": {},
   "outputs": [],
   "source": [
    "medcf[np.where(medcf==0)]=np.nan"
   ]
  },
  {
   "cell_type": "code",
   "execution_count": null,
   "metadata": {},
   "outputs": [],
   "source": [
    "fig, (ax,ax2) = plt.subplots(1, 2, figsize=(20, 5))\n",
    "\n",
    "ax.plot(nedcf, label='New York')\n",
    "ax.plot(medcf, label='Michigan')\n",
    "_ = ax.legend()\n",
    "ax.set_ylabel('No. Cases')\n",
    "ax.set_xlabel('No. days since first recorded case')\n",
    "\n",
    "ax2.plot(nedcf, label='New York')\n",
    "ax2.plot(medcf, label='Michigan')\n",
    "_ = ax2.legend()\n",
    "ax2.set_ylabel('No. Cases')\n",
    "ax2.set_xlabel('No. days since first recorded case')\n",
    "ax2.set_yscale('log')"
   ]
  },
  {
   "cell_type": "code",
   "execution_count": null,
   "metadata": {},
   "outputs": [],
   "source": [
    "not_of_interest = ['UID','iso2','iso3','code3','FIPS','Admin2','Country_Region','Lat','Long_','Combined_Key']"
   ]
  },
  {
   "cell_type": "code",
   "execution_count": null,
   "metadata": {},
   "outputs": [],
   "source": [
    "gc = '.\\\\COVID-19\\\\csse_covid_19_data\\\\csse_covid_19_time_series\\\\time_series_covid19_confirmed_global.csv'\n",
    "gd = '.\\\\COVID-19\\\\csse_covid_19_data\\\\csse_covid_19_time_series\\\\time_series_covid19_deaths_global.csv'\n",
    "gr = '.\\\\COVID-19\\\\csse_covid_19_data\\\\csse_covid_19_time_series\\\\time_series_covid19_recovered_global.csv'"
   ]
  },
  {
   "cell_type": "code",
   "execution_count": null,
   "metadata": {},
   "outputs": [],
   "source": [
    "global_confirmed = pd.read_csv(gc)\n",
    "global_dead = pd.read_csv(gd)\n",
    "global_recovered = pd.read_csv(gr)"
   ]
  },
  {
   "cell_type": "code",
   "execution_count": null,
   "metadata": {},
   "outputs": [],
   "source": [
    "global_recovered_dates_only = global_recovered.set_index('Country/Region').loc[:, '1/22/20':].groupby(level=0).sum()\n",
    "global_confirmed_dates_only = global_confirmed.set_index('Country/Region').loc[:, '1/22/20':].groupby(level=0).sum()\n",
    "global_dead_dates_only = global_dead.set_index('Country/Region').loc[:, '1/22/20':].groupby(level=0).sum()"
   ]
  },
  {
   "cell_type": "code",
   "execution_count": null,
   "metadata": {},
   "outputs": [],
   "source": [
    "global_dead['type']='Dead'\n",
    "global_confirmed['type']='Confirmed'\n",
    "global_recovered['type']='Recovered'"
   ]
  },
  {
   "cell_type": "code",
   "execution_count": null,
   "metadata": {},
   "outputs": [],
   "source": [
    "dead=global_dead[global_dead['Country/Region'].isin(['Germany', 'Italy', 'US'])].set_index('Country/Region').loc[:,'1/22/20':]#.iloc[:, 4:].transpose().columns\n",
    "confirmed=global_confirmed[global_confirmed['Country/Region'].isin(['Germany', 'Italy', 'US'])].set_index('Country/Region').loc[:,'1/22/20':]#.iloc[:, 4:].transpose().columns"
   ]
  },
  {
   "cell_type": "code",
   "execution_count": null,
   "metadata": {},
   "outputs": [],
   "source": [
    "rate = dead/confirmed"
   ]
  },
  {
   "cell_type": "code",
   "execution_count": null,
   "metadata": {},
   "outputs": [],
   "source": [
    "(100*rate.loc[:, '2/21/20':]).transpose().plot().legend(bbox_to_anchor=(1, 1))\n",
    "_ = plt.xlabel('Date')\n",
    "_ = plt.ylabel('Death Rate (%)')\n",
    "plt.grid(True, axis='both')\n",
    "plt.title('Death rate by country')\n",
    "plt.savefig('death_rate_GR_ITA_USA.png', bbox_inches='tight')"
   ]
  },
  {
   "cell_type": "code",
   "execution_count": null,
   "metadata": {},
   "outputs": [],
   "source": [
    "global_dead = global_dead.sort_index(axis=1)\n",
    "global_confirmed = global_confirmed.sort_index(axis=1)\n",
    "global_recovered = global_recovered.sort_index(axis=1)"
   ]
  },
  {
   "cell_type": "code",
   "execution_count": null,
   "metadata": {},
   "outputs": [],
   "source": [
    "g11.plot(figsize=(10,10)).legend(bbox_to_anchor=(1, 1))\n",
    "plt.yscale('log')\n",
    "plt.ylabel('No. Cases')\n",
    "plt.xlabel('Date')\n",
    "plt.grid(True, axis='both')\n",
    "plt.title('Top 10 countries (+ South Korea) by case number')\n",
    "plt.savefig('top_10_countries.png', bbox_inches='tight')"
   ]
  },
  {
   "cell_type": "code",
   "execution_count": null,
   "metadata": {},
   "outputs": [],
   "source": [
    "dsum = global_dead_dates_only.sum()\n",
    "csum = global_confirmed_dates_only.sum()\n",
    "drsum = 100*dsum/csum\n",
    "drsum.plot()\n",
    "_ = plt.xlabel('Date')\n",
    "_ = plt.ylabel('Death Rate (%)')\n",
    "_ = plt.title('Average global death rate vs. time')\n",
    "plt.grid(True, axis='both')\n",
    "plt.savefig('death_rate_global.png', bbox_inches='tight')"
   ]
  },
  {
   "cell_type": "code",
   "execution_count": null,
   "metadata": {},
   "outputs": [],
   "source": [
    "split_data = re.split(pattern='N2O\\S+yr', string=data)[1]\n",
    "df_tmp = pd.read_csv(StringIO(split_data), \n",
    "             sep=('\\s+'), \n",
    "             skiprows=1, \n",
    "                 usecols=[0,1,2,3,4,5], \n",
    "             engine='python')\n",
    "\n",
    "for i, f in enumerate(glob.glob('.\\\\N2O\\\\*')):\n",
    "    with open(f, 'r') as file:\n",
    "        data = file.read()\n",
    "    split_data = ''.join(re.split(pattern=r'(N2O\\S+yr)', string=data)[1:])\n",
    "    df_tmp = pd.read_csv(StringIO(split_data), \n",
    "                 sep=('\\s+'), \n",
    "#                 skiprows=1, \n",
    "#                 usecols=[0,1,2,3,4,5], \n",
    "                 engine='python')\n",
    "    df_tmp.index = pd.to_datetime(df_tmp.iloc[:,0].astype(str) + '-' \n",
    "                                  + df_tmp.iloc[:,1].astype(str) + '-' \n",
    "                                  + df_tmp.iloc[:,2].astype(str))\n",
    "    df_tmp.drop(columns=df_tmp.columns.tolist()[:3], inplace=True)\n",
    "    if i == 0:\n",
    "        n2o = df_tmp\n",
    "    else:\n",
    "        n2o = n2o.join(df_tmp, how='inner')\n",
    "    \n"
   ]
  }
 ],
 "metadata": {
  "kernelspec": {
   "display_name": "Python 3",
   "language": "python",
   "name": "python3"
  },
  "language_info": {
   "codemirror_mode": {
    "name": "ipython",
    "version": 3
   },
   "file_extension": ".py",
   "mimetype": "text/x-python",
   "name": "python",
   "nbconvert_exporter": "python",
   "pygments_lexer": "ipython3",
   "version": "3.7.6"
  }
 },
 "nbformat": 4,
 "nbformat_minor": 4
}
